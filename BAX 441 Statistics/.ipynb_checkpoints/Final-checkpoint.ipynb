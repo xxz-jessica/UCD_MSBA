{
 "cells": [
  {
   "cell_type": "markdown",
   "metadata": {
    "ExecuteTime": {
     "end_time": "2019-12-10T18:34:50.815591Z",
     "start_time": "2019-12-10T18:34:50.786Z"
    }
   },
   "source": [
    "Please initial each line before you start\n",
    "\n",
    "_XZ___   The effort on this exam is entirely of my own.\n",
    "\n",
    "_XZ_____   I will not discuss any part of this exam with anyone from the class or out of the class \n",
    "               (roommates, classmates, friends, acquaintances, etc..) \n",
    "\n",
    "_XZ____   I will not seek any sort of assistance or advice from anyone other than the primary \n",
    "               instructor.\n",
    "\n",
    "Please sign below\n",
    "\n",
    "I understand that if I violate the honor code or if there is any suspicion of violation, \n",
    "then I and others involved will be reported to the UC Davis Office of Judicial Affairs, \n",
    "which will then open a case for investigation. Until a decision is made, my grade will \n",
    "be on hold.\n",
    "\n",
    "_Xingxuan Zhang 12/10/2019______________________________________ \n",
    "\n",
    "Sign and Date"
   ]
  },
  {
   "cell_type": "code",
   "execution_count": 13,
   "metadata": {
    "ExecuteTime": {
     "end_time": "2019-12-13T00:59:59.304487Z",
     "start_time": "2019-12-13T00:59:55.935Z"
    }
   },
   "outputs": [
    {
     "name": "stderr",
     "output_type": "stream",
     "text": [
      "Warning message:\n",
      "\"package 'olsrr' is in use and will not be installed\""
     ]
    },
    {
     "name": "stdout",
     "output_type": "stream",
     "text": [
      "package 'gvlma' successfully unpacked and MD5 sums checked\n",
      "\n",
      "The downloaded binary packages are in\n",
      "\tC:\\Users\\xingxuan_dell\\AppData\\Local\\Temp\\Rtmpkbb4rU\\downloaded_packages\n"
     ]
    }
   ],
   "source": [
    "install.packages('olsrr')\n",
    "install.packages('gvlma')\n"
   ]
  },
  {
   "cell_type": "code",
   "execution_count": 14,
   "metadata": {
    "ExecuteTime": {
     "end_time": "2019-12-13T01:00:05.343686Z",
     "start_time": "2019-12-13T01:00:05.307Z"
    }
   },
   "outputs": [],
   "source": [
    "library(stats)\n",
    "library(PMCMR)\n",
    "library(reshape2)\n",
    "library(reshape)\n",
    "library(tidyverse)\n",
    "library(PASWR2)\n",
    "library(pwr2)\n",
    "library(olsrr)\n",
    "library(gvlma)"
   ]
  },
  {
   "cell_type": "markdown",
   "metadata": {},
   "source": [
    "# (20 points) Question 1\n",
    "In one of the class sessions on regression, we discussed the use of simple linear regression to estimate the relationship between the return on a stock and the market return. Think CAPM.\n",
    "The slope, called the beta coefficient, is used to measure how responsive a stock’s price is to movements in the market. In financial investment parlance, the beta coefficient is used as a measure of a firm’s systematic risk. \n",
    "In the file named Question 1, the return on the stock of three companies is provided: Dell, Sabre, and Walmart. Also provided is the return on the market (This is the value-weighted return computed by CRSP, the Center for Research on Security Prices). \n",
    "Five years of monthly returns are used so that there are a total of 60 observations for each company.\n",
    "Run the regression and answer the following questions:\n"
   ]
  },
  {
   "cell_type": "code",
   "execution_count": 1,
   "metadata": {
    "ExecuteTime": {
     "end_time": "2019-12-14T00:22:06.162503Z",
     "start_time": "2019-12-14T00:22:06.073Z"
    },
    "scrolled": true
   },
   "outputs": [],
   "source": [
    "setwd(\"D:/BAX441/Final Exam\")\n",
    "Q1<-read.csv('Question1.csv')\n",
    "walmart<-Q1[,1]\n",
    "dell<-Q1[,2]\n",
    "sabre<-Q1[,3]\n",
    "market<-Q1[,4]"
   ]
  },
  {
   "cell_type": "markdown",
   "metadata": {},
   "source": [
    "## (5 points) What are the beta coefficients for each of the three companies? Comment on the riskiness of each stock based on the beta coefficients.\n",
    "\n",
    "\t"
   ]
  },
  {
   "cell_type": "code",
   "execution_count": 28,
   "metadata": {
    "ExecuteTime": {
     "end_time": "2019-12-14T05:50:19.245871Z",
     "start_time": "2019-12-14T05:50:19.216Z"
    },
    "scrolled": false
   },
   "outputs": [
    {
     "data": {
      "text/plain": [
       "\n",
       "Call:\n",
       "lm(formula = walmart ~ market)\n",
       "\n",
       "Residuals:\n",
       "      Min        1Q    Median        3Q       Max \n",
       "-0.212196 -0.057687  0.008831  0.043653  0.205777 \n",
       "\n",
       "Coefficients:\n",
       "            Estimate Std. Error t value Pr(>|t|)    \n",
       "(Intercept)  0.01977    0.01082   1.826 0.072961 .  \n",
       "market       0.73167    0.19121   3.826 0.000321 ***\n",
       "---\n",
       "Signif. codes:  0 '***' 0.001 '**' 0.01 '*' 0.05 '.' 0.1 ' ' 1\n",
       "\n",
       "Residual standard error: 0.08384 on 58 degrees of freedom\n",
       "Multiple R-squared:  0.2016,\tAdjusted R-squared:  0.1878 \n",
       "F-statistic: 14.64 on 1 and 58 DF,  p-value: 0.0003207\n"
      ]
     },
     "metadata": {},
     "output_type": "display_data"
    }
   ],
   "source": [
    "####################WALMART############################################\n",
    "#### Correlation Coefficient and Scatterplot ####\n",
    "#plot(walmart,market)\n",
    "#abline(lm(market~walmart))\n",
    "#cor(walmart,market)\n",
    "#### Regression Model ####\n",
    "lm.CAPM <- lm(walmart~market)\n",
    "#anova(lm.CAPM)\n",
    "summary(lm.CAPM)\n"
   ]
  },
  {
   "cell_type": "code",
   "execution_count": 29,
   "metadata": {
    "ExecuteTime": {
     "end_time": "2019-12-14T05:50:20.092608Z",
     "start_time": "2019-12-14T05:50:20.068Z"
    }
   },
   "outputs": [
    {
     "data": {
      "text/plain": [
       "\n",
       "Call:\n",
       "lm(formula = dell ~ market)\n",
       "\n",
       "Residuals:\n",
       "     Min       1Q   Median       3Q      Max \n",
       "-0.23614 -0.12065 -0.00163  0.06605  0.40424 \n",
       "\n",
       "Coefficients:\n",
       "            Estimate Std. Error t value Pr(>|t|)    \n",
       "(Intercept)  0.02800    0.01846   1.517    0.135    \n",
       "market       1.66791    0.32605   5.116 3.69e-06 ***\n",
       "---\n",
       "Signif. codes:  0 '***' 0.001 '**' 0.01 '*' 0.05 '.' 0.1 ' ' 1\n",
       "\n",
       "Residual standard error: 0.143 on 58 degrees of freedom\n",
       "Multiple R-squared:  0.3109,\tAdjusted R-squared:  0.299 \n",
       "F-statistic: 26.17 on 1 and 58 DF,  p-value: 3.691e-06\n"
      ]
     },
     "metadata": {},
     "output_type": "display_data"
    }
   ],
   "source": [
    "####################DELL############################################\n",
    "#### Regression Model ####\n",
    "lm.CAPM <- lm(dell~market)\n",
    "summary(lm.CAPM)"
   ]
  },
  {
   "cell_type": "code",
   "execution_count": 30,
   "metadata": {
    "ExecuteTime": {
     "end_time": "2019-12-14T05:50:21.157981Z",
     "start_time": "2019-12-14T05:50:21.131Z"
    }
   },
   "outputs": [
    {
     "data": {
      "text/plain": [
       "\n",
       "Call:\n",
       "lm(formula = sabre ~ market)\n",
       "\n",
       "Residuals:\n",
       "      Min        1Q    Median        3Q       Max \n",
       "-0.234055 -0.062216 -0.000204  0.048334  0.216329 \n",
       "\n",
       "Coefficients:\n",
       "            Estimate Std. Error t value Pr(>|t|)    \n",
       "(Intercept) 0.002524   0.013899   0.182    0.857    \n",
       "market      1.470630   0.245524   5.990 1.42e-07 ***\n",
       "---\n",
       "Signif. codes:  0 '***' 0.001 '**' 0.01 '*' 0.05 '.' 0.1 ' ' 1\n",
       "\n",
       "Residual standard error: 0.1077 on 58 degrees of freedom\n",
       "Multiple R-squared:  0.3822,\tAdjusted R-squared:  0.3715 \n",
       "F-statistic: 35.88 on 1 and 58 DF,  p-value: 1.417e-07\n"
      ]
     },
     "metadata": {},
     "output_type": "display_data"
    }
   ],
   "source": [
    "####################SABRE############################################\n",
    "#### Regression Model ####\n",
    "lm.CAPM <- lm(sabre~market)\n",
    "summary(lm.CAPM)"
   ]
  },
  {
   "cell_type": "markdown",
   "metadata": {},
   "source": [
    "**Comments**\n",
    "\n",
    "The beta coefficient for Walmart is 0.73167\n",
    "\n",
    "The beta coefficient for Dell is 1.66791\n",
    "\n",
    "The beta coefficient for Sabre is 1.470630\n",
    "\n",
    "Walmart' beta coefficient is less than 1, so it is a conservative stock that are less risky than the market.  \n",
    "\n",
    "Dell's and Sabre's beta coefficient is more than 1, so they are more risky than the market. \n",
    "\n",
    "According to the beta coefficients, Dell's stock is the riskest stock. Sabre is the second one. Walmart is the least risky stock among these three companies. "
   ]
  },
  {
   "cell_type": "markdown",
   "metadata": {},
   "source": [
    "## (5 points) Is there a linear relationship between the firm return and the market return for each of these three companies? Please state your hypotheses, the p-values, and your decision. Use a 5% level of significance.\n",
    "\n",
    "\t"
   ]
  },
  {
   "cell_type": "markdown",
   "metadata": {},
   "source": [
    "$H_{0}: \\rho =0$\n",
    "\n",
    "$H_{1}: \\rho != 0$"
   ]
  },
  {
   "cell_type": "code",
   "execution_count": 31,
   "metadata": {
    "ExecuteTime": {
     "end_time": "2019-12-14T05:54:33.889406Z",
     "start_time": "2019-12-14T05:54:33.745Z"
    },
    "scrolled": false
   },
   "outputs": [
    {
     "data": {
      "text/plain": [
       "\n",
       "\tPearson's product-moment correlation\n",
       "\n",
       "data:  Q1[, 1] and Q1[, 4]\n",
       "t = 3.8264, df = 58, p-value = 0.0003207\n",
       "alternative hypothesis: true correlation is not equal to 0\n",
       "95 percent confidence interval:\n",
       " 0.2201248 0.6309509\n",
       "sample estimates:\n",
       "      cor \n",
       "0.4489551 \n"
      ]
     },
     "metadata": {},
     "output_type": "display_data"
    },
    {
     "data": {
      "text/plain": [
       "\n",
       "\tPearson's product-moment correlation\n",
       "\n",
       "data:  Q1[, 2] and Q1[, 4]\n",
       "t = 5.1156, df = 58, p-value = 3.691e-06\n",
       "alternative hypothesis: true correlation is not equal to 0\n",
       "95 percent confidence interval:\n",
       " 0.3537575 0.7108695\n",
       "sample estimates:\n",
       "      cor \n",
       "0.5575947 \n"
      ]
     },
     "metadata": {},
     "output_type": "display_data"
    },
    {
     "data": {
      "text/plain": [
       "\n",
       "\tPearson's product-moment correlation\n",
       "\n",
       "data:  Q1[, 3] and Q1[, 4]\n",
       "t = 5.9898, df = 58, p-value = 1.417e-07\n",
       "alternative hypothesis: true correlation is not equal to 0\n",
       "95 percent confidence interval:\n",
       " 0.4321066 0.7537971\n",
       "sample estimates:\n",
       "      cor \n",
       "0.6182008 \n"
      ]
     },
     "metadata": {},
     "output_type": "display_data"
    },
    {
     "data": {
      "text/html": [
       "<table>\n",
       "<thead><tr><th></th><th scope=col>WALMARTRET</th><th scope=col>DELLRET</th><th scope=col>SABRERET</th><th scope=col>MKTRET</th></tr></thead>\n",
       "<tbody>\n",
       "\t<tr><th scope=row>WALMARTRET</th><td>1.0000000</td><td>0.2998723</td><td>0.3693259</td><td>0.4489551</td></tr>\n",
       "\t<tr><th scope=row>DELLRET</th><td>0.2998723</td><td>1.0000000</td><td>0.2138302</td><td>0.5575947</td></tr>\n",
       "\t<tr><th scope=row>SABRERET</th><td>0.3693259</td><td>0.2138302</td><td>1.0000000</td><td>0.6182008</td></tr>\n",
       "\t<tr><th scope=row>MKTRET</th><td>0.4489551</td><td>0.5575947</td><td>0.6182008</td><td>1.0000000</td></tr>\n",
       "</tbody>\n",
       "</table>\n"
      ],
      "text/latex": [
       "\\begin{tabular}{r|llll}\n",
       "  & WALMARTRET & DELLRET & SABRERET & MKTRET\\\\\n",
       "\\hline\n",
       "\tWALMARTRET & 1.0000000 & 0.2998723 & 0.3693259 & 0.4489551\\\\\n",
       "\tDELLRET & 0.2998723 & 1.0000000 & 0.2138302 & 0.5575947\\\\\n",
       "\tSABRERET & 0.3693259 & 0.2138302 & 1.0000000 & 0.6182008\\\\\n",
       "\tMKTRET & 0.4489551 & 0.5575947 & 0.6182008 & 1.0000000\\\\\n",
       "\\end{tabular}\n"
      ],
      "text/markdown": [
       "\n",
       "| <!--/--> | WALMARTRET | DELLRET | SABRERET | MKTRET |\n",
       "|---|---|---|---|---|\n",
       "| WALMARTRET | 1.0000000 | 0.2998723 | 0.3693259 | 0.4489551 |\n",
       "| DELLRET | 0.2998723 | 1.0000000 | 0.2138302 | 0.5575947 |\n",
       "| SABRERET | 0.3693259 | 0.2138302 | 1.0000000 | 0.6182008 |\n",
       "| MKTRET | 0.4489551 | 0.5575947 | 0.6182008 | 1.0000000 |\n",
       "\n"
      ],
      "text/plain": [
       "           WALMARTRET DELLRET   SABRERET  MKTRET   \n",
       "WALMARTRET 1.0000000  0.2998723 0.3693259 0.4489551\n",
       "DELLRET    0.2998723  1.0000000 0.2138302 0.5575947\n",
       "SABRERET   0.3693259  0.2138302 1.0000000 0.6182008\n",
       "MKTRET     0.4489551  0.5575947 0.6182008 1.0000000"
      ]
     },
     "metadata": {},
     "output_type": "display_data"
    },
    {
     "name": "stdout",
     "output_type": "stream",
     "text": [
      "[1] \"The p-value for walmart is 0.0003207. The p-value for Dell is 3.691e-06. The p-value for Sabre is 1.417e-07. \"\n",
      "[1] \"Since all companies have p-values that less than 0.05 for the correlation test, we can conclude that, at 5% significant level, we can reject the null hypothesis. There is linear relationship between firms and the market return.\"\n",
      "[1] \"I also check the scatter plot, these companies do have linear relationship with the market.\"\n"
     ]
    },
    {
     "data": {
      "image/png": "[encoded data removed]",
      "text/plain": [
       "plot without title"
      ]
     },
     "metadata": {},
     "output_type": "display_data"
    }
   ],
   "source": [
    "# Walmart\n",
    "cor.test( Q1[,1],Q1[,4], alternative = \"two.sided\", method = \"pearson\")\n",
    "# Dell\n",
    "cor.test(Q1[,2],Q1[,4], alternative = \"two.sided\", method = \"pearson\")\n",
    "# Sabre\n",
    "cor.test( Q1[,3],Q1[,4], alternative = \"two.sided\", method = \"pearson\")\n",
    "\n",
    "plot(Q1)\n",
    "cor(Q1)\n",
    "\n",
    "print('The p-value for walmart is 0.0003207. The p-value for Dell is 3.691e-06. The p-value for Sabre is 1.417e-07. ')\n",
    "print('Since all companies have p-values that less than 0.05 for the correlation test, we can conclude that, at 5% significant level, we can reject the null hypothesis. There is linear relationship between firms and the market return.')\n",
    "print('I also check the scatter plot, these companies do have linear relationship with the market.')"
   ]
  },
  {
   "cell_type": "markdown",
   "metadata": {},
   "source": [
    "## (5 points) Test to see if Dell’s beta coefficient is greater than 1. Again, state your hypotheses, the p-values, and your decision. Use a 5% significance level. Reminder: This is a nonstandard case.\n",
    "\n",
    "\t"
   ]
  },
  {
   "cell_type": "markdown",
   "metadata": {},
   "source": [
    "$H_{0}: \\beta \\le 1$\n",
    "\n",
    "$H_{1}: \\beta >1$"
   ]
  },
  {
   "cell_type": "code",
   "execution_count": 33,
   "metadata": {
    "ExecuteTime": {
     "end_time": "2019-12-14T05:55:27.239099Z",
     "start_time": "2019-12-14T05:55:27.212Z"
    }
   },
   "outputs": [
    {
     "name": "stdout",
     "output_type": "stream",
     "text": [
      "P-value is  0.02252345"
     ]
    }
   ],
   "source": [
    "#### This is a non-standard case, so we cannot infer based on the T-Values and P-Values from R.\n",
    "#### First, we need to find the t_critical value. We will use qt function in R.\n",
    "#### Note the degrees of freedom (df) is n - k - 1 where k = number of predictors, which in this case is 1.\n",
    "\n",
    "t_critical <- qt(0.05, 60-1-1, lower.tail = FALSE)\n",
    "\n",
    "\n",
    "#### Next, we need to find the t_test_statistic value.\n",
    "#### t = (b - beta)/std. error\n",
    "\n",
    "t_test_stat <- (1.66791 - 1)/ 0.32605\n",
    "\n",
    "\n",
    "cat('P-value is ',pt(t_test_stat,58,lower.tail=FALSE))"
   ]
  },
  {
   "cell_type": "markdown",
   "metadata": {},
   "source": [
    "**Decision.**\n",
    "\n",
    "Since the p-value is less than 0.05, we reject H0: beta <= 1.\n",
    "\n",
    "We infer at 5% significance level that beta > 1.\n",
    "\n",
    "Return on Dell stock is higher risky than the returns on the market."
   ]
  },
  {
   "cell_type": "markdown",
   "metadata": {},
   "source": [
    "## (5 points) Test to see if Walmart’s beta coefficient is less than 1. Again, state your hypotheses, the p-values, and your decision. Use a 5% significance level. Reminder: This is a nonstandard case.\n",
    " "
   ]
  },
  {
   "cell_type": "markdown",
   "metadata": {},
   "source": [
    "$H_{0}: \\beta \\ge 1$\n",
    "\n",
    "$H_{1}: \\beta <1$"
   ]
  },
  {
   "cell_type": "code",
   "execution_count": 35,
   "metadata": {
    "ExecuteTime": {
     "end_time": "2019-12-14T05:57:11.066613Z",
     "start_time": "2019-12-14T05:57:11.038Z"
    }
   },
   "outputs": [
    {
     "data": {
      "text/html": [
       "0.0829253945767768"
      ],
      "text/latex": [
       "0.0829253945767768"
      ],
      "text/markdown": [
       "0.0829253945767768"
      ],
      "text/plain": [
       "[1] 0.08292539"
      ]
     },
     "metadata": {},
     "output_type": "display_data"
    }
   ],
   "source": [
    "#### This is a non-standard case, so we cannot infer based on the T-Values and P-Values from R.\n",
    "#### First, we need to find the t_critical value. We will use qt function in R.\n",
    "#### Note the degrees of freedom (df) is n - k - 1 where k = number of predictors, which in this case is 1.\n",
    "\n",
    "t_critical <- qt(0.05, 60-1-1, lower.tail = TRUE)\n",
    "\n",
    "\n",
    "#### Next, we need to find the t_test_statistic value.\n",
    "#### t = (b - beta)/std. error\n",
    "\n",
    "t_test_stat <- (0.73167 - 1)/ 0.19121\n",
    "\n",
    "\n",
    "pt(t_test_stat,58,lower.tail=TRUE)"
   ]
  },
  {
   "cell_type": "markdown",
   "metadata": {},
   "source": [
    "**Decision.**\n",
    "\n",
    "Since the p-value is larger than 0.05, we cannot reject H0: beta >= 1.\n",
    "\n",
    " We infer at 5% significance level that beta >= 1.\n",
    " \n",
    "Return on Walmart stock is not less risky than the returns on the market."
   ]
  },
  {
   "cell_type": "markdown",
   "metadata": {},
   "source": [
    "# (20 points) Question 2\n",
    "In a large public agency in Sacramento, management is concerned that a supervisor has been reporting unusual costs for supplies and equipment within her cost center. The average value seems reasonable, but individual amounts swing wildly and just don’t “look right.” The management would like to have a systematic method to audit purchase amounts that signal when the amounts may be due to fraud. No one wants to accuse staff of fraud falsely, but no one wants to miss the problem either. In pursuit of this objective, the managers collected a sample of n=135 invoices approved by the supervisor. The data are available in the file Question 2. It is mathematically known that when numerical values range over several orders of magnitude (which our invoice data indicates), the first digit should not be uniformly distributed, but the leading digit should follow Benford’s law. You are hired as a consultant to solve this case using a systematic, data-driven approach. Identify and run an appropriate statistical test to infer **if the purchase activities constitute evidence of fraud**. The management has asked for a report from your team. While you don’t have to create a report for answering this final exam question, but I would love to hear your thoughts on **any strengths and shortcomings of your study that would go on the findings report**, if you were to create one. In addition, **what follow-up action items would you recommend on your report to the management of this public agency**?\n"
   ]
  },
  {
   "cell_type": "code",
   "execution_count": 17,
   "metadata": {
    "ExecuteTime": {
     "end_time": "2019-12-13T01:10:16.276840Z",
     "start_time": "2019-12-13T01:10:16.251Z"
    },
    "scrolled": true
   },
   "outputs": [],
   "source": [
    "setwd(\"D:/BAX441/Final Exam\")\n",
    "Q2<-read.csv('Question2.csv')\n",
    "amount<-Q2[,2]"
   ]
  },
  {
   "attachments": {
    "image.png": {
     "image/png": "[encoded data removed]"
    }
   },
   "cell_type": "markdown",
   "metadata": {},
   "source": [
    "![image.png](attachment:image.png)"
   ]
  },
  {
   "cell_type": "code",
   "execution_count": 27,
   "metadata": {
    "ExecuteTime": {
     "end_time": "2019-12-13T01:13:21.134781Z",
     "start_time": "2019-12-13T01:13:21.103Z"
    }
   },
   "outputs": [],
   "source": [
    "bben <- function(k){\n",
    "as.numeric(head(strsplit(as.character(k),'')[[1]],n=1))\n",
    "\n",
    "}\n",
    "\n",
    "# extract the first digit from all numbers computed\n",
    "\n",
    "digit <- sapply(amount, bben) "
   ]
  },
  {
   "cell_type": "code",
   "execution_count": 34,
   "metadata": {
    "ExecuteTime": {
     "end_time": "2019-12-13T01:14:32.762142Z",
     "start_time": "2019-12-13T01:14:32.699Z"
    }
   },
   "outputs": [
    {
     "data": {
      "image/png": "[encoded data removed]",
      "text/plain": [
       "Plot with title \"density.default(x = digit)\""
      ]
     },
     "metadata": {},
     "output_type": "display_data"
    }
   ],
   "source": [
    "plot(density(digit))\n"
   ]
  },
  {
   "cell_type": "code",
   "execution_count": 48,
   "metadata": {
    "ExecuteTime": {
     "end_time": "2019-12-13T01:25:11.540690Z",
     "start_time": "2019-12-13T01:25:11.507Z"
    }
   },
   "outputs": [],
   "source": [
    "df<-data.frame(digit)\n",
    "prop_1<-length(df[df$digit==1,])\n",
    "prop_2<-length(df[df$digit==2,])\n",
    "prop_3<-length(df[df$digit==3,])\n",
    "prop_4<-length(df[df$digit==4,])\n",
    "prop_5<-length(df[df$digit==5,])\n",
    "prop_6<-length(df[df$digit==6,])\n",
    "prop_7<-length(df[df$digit==7,])\n",
    "prop_8<-length(df[df$digit==8,])\n",
    "prop_9<-length(df[df$digit==9,])\n",
    "\n",
    "prob<-rbind(prop_1,prop_2,prop_3,prop_4,prop_5,prop_6,prop_7,prop_8,prop_9)\n",
    "num<-seq(1,9,by =1)\n",
    "df_1<-cbind(num,prob)"
   ]
  },
  {
   "cell_type": "markdown",
   "metadata": {},
   "source": [
    "**HYPOTHESIS**\n",
    "\n",
    "$𝐻_{0}:𝑝_{1}=0.301,𝑝_{2}=0.176,...., 𝑝_{9}=0.046$\n",
    "\n",
    "$𝐻_{1}$:At least one proportion differs from the Benford's Law\n",
    "\n",
    "Significant Level: 5%"
   ]
  },
  {
   "cell_type": "code",
   "execution_count": 51,
   "metadata": {
    "ExecuteTime": {
     "end_time": "2019-12-13T01:28:06.110481Z",
     "start_time": "2019-12-13T01:28:06.078Z"
    }
   },
   "outputs": [
    {
     "data": {
      "text/plain": [
       "\n",
       "\tChi-squared test for given probabilities\n",
       "\n",
       "data:  obs\n",
       "X-squared = 19.086, df = 8, p-value = 0.0144\n"
      ]
     },
     "metadata": {},
     "output_type": "display_data"
    }
   ],
   "source": [
    "obs<-c(26,31,22,18,13,10,11,2,2)\n",
    "exp<-c(0.301,0.176,0.125,0.097,0.079,0.067,0.058,0.051,0.046)\n",
    "chisq.test(x=obs,p=exp)"
   ]
  },
  {
   "cell_type": "markdown",
   "metadata": {},
   "source": [
    "**CONCLUSION**\n",
    "\n",
    "At the 5% significant level, we can reject the null hypothesis that the data fit the Benford's Law. We have evidence that there is fraud in the data. \n",
    "\n",
    "**STRENGTH&SHORTCOMING**\n",
    "\n",
    "The chi-suqare test for the goodness of fit study is a powerful statistic technique, and the Benford's Law is a well-known rule for detecting fraud in financial industry. By doing this study, we can leverage the statistical tool to help the company with fraud detection. However, this test also has a disadvantage that it requires large size of sample to to chi-square approximation. If we cannot have enough data, we cannot do this test. \n",
    "\n",
    "**RECOMMENDATION**\n",
    "\n",
    "After this test, the company can sampling data again to repeat the teat and to see whether this study is robust. If it is, the company can do deeper investigation about this manager. In the future, this test can be apply to every case to help the company detect the fraud."
   ]
  },
  {
   "cell_type": "markdown",
   "metadata": {},
   "source": [
    "# (5 points) Question 3\n",
    "Let us say that you run a regression with two explanatory variables and notice that the p-value in the ANOVA table is extremely small but the p-values of both explanatory variables are larger than 0.05. What is the probable reason for this? Can you conclude that neither explanatory variable does a good job in predicting the dependent variable?\n"
   ]
  },
  {
   "cell_type": "markdown",
   "metadata": {},
   "source": [
    "**ANSWER**\n",
    "\n",
    "The anova table's p-value is significant, wich means the overall multiple linear regression does have meaning in this case. However, the insignificant p-values of both explanatory variables occurs, which means in this multiple linear refression, they do not jointly predict the the dependent variable well. One probable reson for this situation is that there may be multicollinearity between these two explanatory variables. The multicollinearity occurs when the two explantory variables have significant high correlation. In this case, we cannot say neither explantory variable does a good job in predicting the dependent variable. For the next step, I will detect the multicollinearity. If it do happens, I would remove one variable to see the result. "
   ]
  },
  {
   "cell_type": "markdown",
   "metadata": {},
   "source": [
    "# (5 points) Question 4\n",
    "A biostatistician who designed a study for investigating the efficacy of a new medication at a leading U.S. pharmaceutical company was fired after the study. The tested null hypothesis stated that the drug is no better than a placebo. The t-test yielded a value of 20 in a study of 400 subjects. The null hypothesis was rejected showing that the drug has a beneficial effect. Why did the management fire the biostatistician?\n"
   ]
  },
  {
   "cell_type": "markdown",
   "metadata": {},
   "source": [
    "**ANSWER**\n",
    "\n",
    "The test for medication is very serious. In the question, the biostatistician only do 1 t-test on 400 subjects to get the conclusion. I think if the condition allows, the biostatistician should have more tests. \n",
    "\n",
    "For the test method, the biostatistician only use a t-test on controlled group and the test group. However, he did not segment the subjects: whether they have the same level of the disease, whether they are the same age and gender. ANOVA test could be a better choice. \n",
    "\n",
    "More questions arised with the distribution of the data of these 400 subjects. We do not know whether they are normal distributed, whether they have constant variation, and how these 400 subjects was seleced. \n",
    "\n",
    "The question only say the t-statistic value is 20, but we do not know what is the t-critical value. "
   ]
  },
  {
   "cell_type": "markdown",
   "metadata": {},
   "source": [
    "#  (10 points) Question 5\n",
    "The file named Question 5 contains the following data for each of the 50 states:\n",
    "total expenditures on a state’s criminal justice system (in millions of dollars) (EXPEND)\n",
    "total number of police employed in the state (POLICE)\n",
    "\n",
    "State governments must try to project spending in many areas. Expenditure on the criminal justice system is one area of continually rising cost. Your job is to build a model that can be used to forecast spending on a state’s criminal justice system. Use one of the functional forms discussed in the class to build a model. Once your model is complete, predict expenditures for a state that plans to hire 10,000 police officers. Find a point prediction and a 95% prediction interval. The functional forms notes and solved examples should help. (Source: These data are a bit dated and were obtained from the U.S. Department of Criminal Justice website.)  \n"
   ]
  },
  {
   "cell_type": "code",
   "execution_count": 16,
   "metadata": {
    "ExecuteTime": {
     "end_time": "2019-12-14T04:29:54.692243Z",
     "start_time": "2019-12-14T04:29:54.664Z"
    },
    "scrolled": true
   },
   "outputs": [],
   "source": [
    "setwd(\"D:/BAX441/Final Exam\")\n",
    "Q5<-read.csv('Question5.csv')\n",
    "expend<-Q5[,2]\n",
    "police<-Q5[,3]"
   ]
  },
  {
   "cell_type": "code",
   "execution_count": 11,
   "metadata": {
    "ExecuteTime": {
     "end_time": "2019-12-11T23:16:59.995478Z",
     "start_time": "2019-12-11T23:16:59.930Z"
    }
   },
   "outputs": [
    {
     "data": {
      "image/png": "[encoded data removed]",
      "text/plain": [
       "plot without title"
      ]
     },
     "metadata": {},
     "output_type": "display_data"
    }
   ],
   "source": [
    "plot(police, expend)\n",
    "abline(lm(expend~police),col='red')\n",
    "lines(lowess(police, expend),col='blue')"
   ]
  },
  {
   "cell_type": "markdown",
   "metadata": {},
   "source": [
    "**PLOT**\n",
    "\n",
    "The plot shows that the classical linear regression line (red) is very close to the local weighted line (blue). But, the scatter shows that the log-linear form may be better choices because we want to strech the left-down side."
   ]
  },
  {
   "cell_type": "code",
   "execution_count": 14,
   "metadata": {
    "ExecuteTime": {
     "end_time": "2019-12-11T23:28:31.208455Z",
     "start_time": "2019-12-11T23:28:31.181Z"
    }
   },
   "outputs": [
    {
     "data": {
      "text/plain": [
       "\n",
       "Call:\n",
       "lm(formula = expend_log ~ police_log)\n",
       "\n",
       "Residuals:\n",
       "     Min       1Q   Median       3Q      Max \n",
       "-0.30248 -0.15516 -0.00623  0.08474  0.62813 \n",
       "\n",
       "Coefficients:\n",
       "            Estimate Std. Error t value Pr(>|t|)    \n",
       "(Intercept)  8.18519    0.24509   33.40   <2e-16 ***\n",
       "police_log   0.92725    0.02632   35.23   <2e-16 ***\n",
       "---\n",
       "Signif. codes:  0 '***' 0.001 '**' 0.01 '*' 0.05 '.' 0.1 ' ' 1\n",
       "\n",
       "Residual standard error: 0.1999 on 49 degrees of freedom\n",
       "Multiple R-squared:  0.962,\tAdjusted R-squared:  0.9612 \n",
       "F-statistic:  1241 on 1 and 49 DF,  p-value: < 2.2e-16\n"
      ]
     },
     "metadata": {},
     "output_type": "display_data"
    }
   ],
   "source": [
    "###### LOG-LOG REGRESSION MODEL #################\n",
    "###### Y = ln(Expenditure), X = ln(police) ############\n",
    "###### ln(Expenditure) = beta0 + beta1*ln(police) + error #######\n",
    "################################################\n",
    "police_log<-log(police)\n",
    "expend_log<-log(expend)\n",
    "model_log_log<-lm(expend_log ~ police_log)\n",
    "summary(model_log_log)\n"
   ]
  },
  {
   "cell_type": "markdown",
   "metadata": {},
   "source": [
    "**MODEL**\n",
    "\n",
    "ln(expend)=8.18519+0.92725*ln(police)"
   ]
  },
  {
   "cell_type": "code",
   "execution_count": 28,
   "metadata": {
    "ExecuteTime": {
     "end_time": "2019-12-11T23:50:38.296066Z",
     "start_time": "2019-12-11T23:50:38.258Z"
    }
   },
   "outputs": [
    {
     "name": "stdout",
     "output_type": "stream",
     "text": [
      "The point estimate is  18356203 . The prediction intercal at 95% is ( 12235342  ,  27539091 )."
     ]
    }
   ],
   "source": [
    "point<-exp(8.18519+0.92725*log(10000))\n",
    "\n",
    "sd_error_2<-(0.1999)^2\n",
    "x_mean<-mean(police_log)\n",
    "x_sd<-sd(police_log)\n",
    "n<-length(police_log)\n",
    "x_p<-log(10000)\n",
    "\n",
    "s_p<-sqrt(sd_error_2*(1+1/n+((x_p-x_mean)^2/((n-1)*x_sd^2))))\n",
    "t<-qt(0.975,n-2)\n",
    "y_ln<-8.18519+0.92725*log(10000)\n",
    "\n",
    "upper<-exp(y_ln+s_p*t)\n",
    "lower<-exp(y_ln-s_p*t)\n",
    "\n",
    "cat('The point estimate is ',point,'. ')\n",
    "cat('The prediction intercal at 95% is (',lower,' , ',upper,').')"
   ]
  },
  {
   "cell_type": "markdown",
   "metadata": {},
   "source": [
    "# (10 points) Question 6\n",
    "The project manager at a construction company is evaluating how crew size affects the productivity of framing jobs. He has experimented with varying crew size (the number of workers) on a weekly basis over the past 27 weeks and has recorded productivity (jobs/week). The CSV file Question6 contains the data. \n"
   ]
  },
  {
   "cell_type": "code",
   "execution_count": 31,
   "metadata": {
    "ExecuteTime": {
     "end_time": "2019-12-11T23:54:02.363089Z",
     "start_time": "2019-12-11T23:54:02.340Z"
    },
    "scrolled": true
   },
   "outputs": [],
   "source": [
    "setwd(\"D:/BAX441/Final Exam\")\n",
    "Q6<-read.csv('Question6.csv')\n",
    "size<-Q6[,1]\n",
    "output<-Q6[,2]\n"
   ]
  },
  {
   "cell_type": "markdown",
   "metadata": {},
   "source": [
    "## \t(2 points) Create a scatterplot of the data. Based on the scatterplot alone, what crew size(s) seems optimal? \n",
    "\n",
    "\t"
   ]
  },
  {
   "cell_type": "code",
   "execution_count": 32,
   "metadata": {
    "ExecuteTime": {
     "end_time": "2019-12-11T23:54:47.027024Z",
     "start_time": "2019-12-11T23:54:46.976Z"
    }
   },
   "outputs": [
    {
     "data": {
      "image/png": "[encoded data removed]",
      "text/plain": [
       "plot without title"
      ]
     },
     "metadata": {},
     "output_type": "display_data"
    }
   ],
   "source": [
    "plot(Q6)"
   ]
  },
  {
   "cell_type": "markdown",
   "metadata": {},
   "source": [
    "**PLOT**\n",
    "\n",
    "From the plot, it seems size 6 or size 7 is the optimal size."
   ]
  },
  {
   "cell_type": "markdown",
   "metadata": {},
   "source": [
    "## (5 points) Estimate the linear and the quadratic regression models. Evaluate the two models in terms of variable significance and adjusted R^2. Which model provides the best fit? Provide an intuitive justification for the chosen model. \n",
    "\n",
    "\t"
   ]
  },
  {
   "cell_type": "code",
   "execution_count": 36,
   "metadata": {
    "ExecuteTime": {
     "end_time": "2019-12-12T00:00:07.571074Z",
     "start_time": "2019-12-12T00:00:07.539Z"
    }
   },
   "outputs": [
    {
     "data": {
      "text/plain": [
       "\n",
       "Call:\n",
       "lm(formula = output ~ size)\n",
       "\n",
       "Residuals:\n",
       "   Min     1Q Median     3Q    Max \n",
       "-4.407 -2.130  0.037  2.426  4.259 \n",
       "\n",
       "Coefficients:\n",
       "            Estimate Std. Error t value Pr(>|t|)    \n",
       "(Intercept)  13.0741     1.3666   9.567 7.77e-10 ***\n",
       "size          0.1111     0.2092   0.531      0.6    \n",
       "---\n",
       "Signif. codes:  0 '***' 0.001 '**' 0.01 '*' 0.05 '.' 0.1 ' ' 1\n",
       "\n",
       "Residual standard error: 2.807 on 25 degrees of freedom\n",
       "Multiple R-squared:  0.01116,\tAdjusted R-squared:  -0.0284 \n",
       "F-statistic: 0.2821 on 1 and 25 DF,  p-value: 0.6\n"
      ]
     },
     "metadata": {},
     "output_type": "display_data"
    },
    {
     "data": {
      "text/plain": [
       "\n",
       "Call:\n",
       "lm(formula = output ~ poly(size, 2, raw = TRUE))\n",
       "\n",
       "Residuals:\n",
       "    Min      1Q  Median      3Q     Max \n",
       "-3.5354 -0.8838  0.2525  1.2778  2.1919 \n",
       "\n",
       "Coefficients:\n",
       "                           Estimate Std. Error t value Pr(>|t|)    \n",
       "(Intercept)                 2.11111    1.81800   1.161    0.257    \n",
       "poly(size, 2, raw = TRUE)1  4.59596    0.67574   6.801 4.92e-07 ***\n",
       "poly(size, 2, raw = TRUE)2 -0.37374    0.05533  -6.754 5.50e-07 ***\n",
       "---\n",
       "Signif. codes:  0 '***' 0.001 '**' 0.01 '*' 0.05 '.' 0.1 ' ' 1\n",
       "\n",
       "Residual standard error: 1.682 on 24 degrees of freedom\n",
       "Multiple R-squared:  0.6591,\tAdjusted R-squared:  0.6307 \n",
       "F-statistic:  23.2 on 2 and 24 DF,  p-value: 2.462e-06\n"
      ]
     },
     "metadata": {},
     "output_type": "display_data"
    }
   ],
   "source": [
    "summary(lm(output~size))\n",
    "summary(lm(output~poly(size,2,raw=TRUE)))"
   ]
  },
  {
   "cell_type": "markdown",
   "metadata": {},
   "source": [
    "**INTERPRET**\n",
    "\n",
    "From the results of these two model, we can see in the linear model, the size is not a significant variable to predict the output. The adjusted R^2 in the linear model is negative, which means the model is not fit for the data. However, in the quadratic model, the quadratic size is a significant variable to predict the output, and the adjusted R^2 became 0.6307 (better than linear's). Intuitively, the quadratic model is better than the linear model."
   ]
  },
  {
   "cell_type": "markdown",
   "metadata": {},
   "source": [
    "## (1 point) Use the best-fitting model to predict how many jobs a crew of 5 could be expected to complete in a week. \n"
   ]
  },
  {
   "cell_type": "markdown",
   "metadata": {
    "ExecuteTime": {
     "end_time": "2019-12-12T00:07:11.517158Z",
     "start_time": "2019-12-12T00:07:11.494Z"
    }
   },
   "source": [
    "**MODEL**\n",
    "\n",
    "Output = 2.11111 + 4.59596\\*Size - 0.37374\\*Size^2\n"
   ]
  },
  {
   "cell_type": "code",
   "execution_count": 40,
   "metadata": {
    "ExecuteTime": {
     "end_time": "2019-12-12T00:10:28.795172Z",
     "start_time": "2019-12-12T00:10:28.765Z"
    }
   },
   "outputs": [
    {
     "name": "stdout",
     "output_type": "stream",
     "text": [
      "The expected output in a week is  15.74741"
     ]
    }
   ],
   "source": [
    "cat('The expected output in a week is ',2.11111 + 4.59596*5 - 0.37374*(5^2))"
   ]
  },
  {
   "cell_type": "markdown",
   "metadata": {},
   "source": [
    "## (2 points) Estimate the cubic regression model. Does it improve the fit as compared to the quadratic regression model?\n"
   ]
  },
  {
   "cell_type": "code",
   "execution_count": 41,
   "metadata": {
    "ExecuteTime": {
     "end_time": "2019-12-12T00:10:50.916370Z",
     "start_time": "2019-12-12T00:10:50.893Z"
    }
   },
   "outputs": [
    {
     "data": {
      "text/plain": [
       "\n",
       "Call:\n",
       "lm(formula = output ~ poly(size, 3, raw = TRUE))\n",
       "\n",
       "Residuals:\n",
       "    Min      1Q  Median      3Q     Max \n",
       "-3.6178 -0.7374  0.1936  1.1380  2.3569 \n",
       "\n",
       "Coefficients:\n",
       "                           Estimate Std. Error t value Pr(>|t|)  \n",
       "(Intercept)                 0.68519    4.22994   0.162   0.8727  \n",
       "poly(size, 3, raw = TRUE)1  5.54068    2.61205   2.121   0.0449 *\n",
       "poly(size, 3, raw = TRUE)2 -0.55051    0.47483  -1.159   0.2582  \n",
       "poly(size, 3, raw = TRUE)3  0.00982    0.02619   0.375   0.7112  \n",
       "---\n",
       "Signif. codes:  0 '***' 0.001 '**' 0.01 '*' 0.05 '.' 0.1 ' ' 1\n",
       "\n",
       "Residual standard error: 1.713 on 23 degrees of freedom\n",
       "Multiple R-squared:  0.6612,\tAdjusted R-squared:  0.617 \n",
       "F-statistic: 14.96 on 3 and 23 DF,  p-value: 1.288e-05\n"
      ]
     },
     "metadata": {},
     "output_type": "display_data"
    }
   ],
   "source": [
    "summary(lm(output~poly(size,3,raw=TRUE)))"
   ]
  },
  {
   "cell_type": "markdown",
   "metadata": {},
   "source": [
    "**ANSWER**\n",
    "\n",
    "The cubic model does not improve."
   ]
  },
  {
   "cell_type": "markdown",
   "metadata": {},
   "source": [
    "# (15 points) Question 7\n",
    "Numerous attempts have been made to relate happiness to various factors. Since there is no unique way to quantify happiness, researchers generally rely on surveys to capture a subjective assessment of well-being. One study relates happiness with age and finds that holding everything else constant, people seem to be least happy when they are in their mid- to upper-40s (The Economist, December 16, 2010). Perhaps with greater age comes maturity that contributes to a better sense of overall well-being. With regard to the influence of money, a study from Princeton University’s Woodrow Wilson School suggests that money does buy happiness, but its effect diminishes as incomes rise above $75,000 a year (Time Magazine, September 6, 2010). Perhaps people do not need more than 75,000 dollars to do what matters most to their emotional well-being, such as spending time with friends and family and meeting their basic food, health, and leisure needs. Nick Fisher is a young business school graduate who is fascinated by these reports. He decides to collect his own data to better comprehend and also verify the results of these studies. He surveys working adults in his hometown and inputs information on the respondent’s self-assessed happiness on a scale of 0 to 100, along with age and family income. The data is shown on the CSV file Question7.\n"
   ]
  },
  {
   "cell_type": "code",
   "execution_count": 20,
   "metadata": {
    "ExecuteTime": {
     "end_time": "2019-12-14T05:35:31.708797Z",
     "start_time": "2019-12-14T05:35:31.681Z"
    },
    "scrolled": true
   },
   "outputs": [],
   "source": [
    "setwd(\"D:/BAX441/Final Exam\")\n",
    "Q7<-read.csv('Question7.csv')\n",
    "happy<-Q7[,1]\n",
    "age<-Q7[,2]\n",
    "income<-Q7[,3]\n"
   ]
  },
  {
   "cell_type": "markdown",
   "metadata": {},
   "source": [
    "## a.\t(13 points) Run four models – linear, linear-log, log-linear, and log-log. Summarize the four models like my solved example shows. Compare the four functional forms and choose the one that fits the data the best.\n",
    "\n",
    "\n"
   ]
  },
  {
   "cell_type": "code",
   "execution_count": 21,
   "metadata": {
    "ExecuteTime": {
     "end_time": "2019-12-14T05:35:34.389267Z",
     "start_time": "2019-12-14T05:35:34.285Z"
    }
   },
   "outputs": [
    {
     "data": {
      "image/png": "[encoded data removed]",
      "text/plain": [
       "plot without title"
      ]
     },
     "metadata": {},
     "output_type": "display_data"
    }
   ],
   "source": [
    "pairs(cbind(happy,age,income), panel = panel.smooth)"
   ]
  },
  {
   "cell_type": "code",
   "execution_count": 22,
   "metadata": {
    "ExecuteTime": {
     "end_time": "2019-12-14T05:37:49.139060Z",
     "start_time": "2019-12-14T05:37:49.091Z"
    },
    "scrolled": false
   },
   "outputs": [
    {
     "data": {
      "text/plain": [
       "\n",
       "Call:\n",
       "lm(formula = happy ~ age + income)\n",
       "\n",
       "Residuals:\n",
       "    Min      1Q  Median      3Q     Max \n",
       "-19.908  -5.707   0.814   6.205  16.956 \n",
       "\n",
       "Coefficients:\n",
       "             Estimate Std. Error t value Pr(>|t|)    \n",
       "(Intercept) 4.919e+01  3.709e+00  13.264  < 2e-16 ***\n",
       "age         2.212e-01  5.714e-02   3.872 0.000196 ***\n",
       "income      1.404e-04  1.593e-05   8.815 4.83e-14 ***\n",
       "---\n",
       "Signif. codes:  0 '***' 0.001 '**' 0.01 '*' 0.05 '.' 0.1 ' ' 1\n",
       "\n",
       "Residual standard error: 8.377 on 97 degrees of freedom\n",
       "Multiple R-squared:  0.4967,\tAdjusted R-squared:  0.4863 \n",
       "F-statistic: 47.86 on 2 and 97 DF,  p-value: 3.466e-15\n"
      ]
     },
     "metadata": {},
     "output_type": "display_data"
    },
    {
     "data": {
      "text/plain": [
       "\n",
       "Call:\n",
       "lm(formula = happy ~ I(log(age)) + I(log(income)))\n",
       "\n",
       "Residuals:\n",
       "     Min       1Q   Median       3Q      Max \n",
       "-20.8353  -4.8876   0.5392   5.9093  15.6381 \n",
       "\n",
       "Coefficients:\n",
       "               Estimate Std. Error t value Pr(>|t|)    \n",
       "(Intercept)    -107.318     19.611  -5.472 3.47e-07 ***\n",
       "I(log(age))       9.735      2.972   3.275  0.00146 ** \n",
       "I(log(income))   12.707      1.380   9.206 6.93e-15 ***\n",
       "---\n",
       "Signif. codes:  0 '***' 0.001 '**' 0.01 '*' 0.05 '.' 0.1 ' ' 1\n",
       "\n",
       "Residual standard error: 8.355 on 97 degrees of freedom\n",
       "Multiple R-squared:  0.4993,\tAdjusted R-squared:  0.489 \n",
       "F-statistic: 48.37 on 2 and 97 DF,  p-value: 2.684e-15\n"
      ]
     },
     "metadata": {},
     "output_type": "display_data"
    },
    {
     "data": {
      "text/plain": [
       "\n",
       "Call:\n",
       "lm(formula = I(log(happy)) ~ I(log(age)) + I(log(income)))\n",
       "\n",
       "Residuals:\n",
       "     Min       1Q   Median       3Q      Max \n",
       "-0.28533 -0.06502  0.01485  0.07624  0.20326 \n",
       "\n",
       "Coefficients:\n",
       "               Estimate Std. Error t value Pr(>|t|)    \n",
       "(Intercept)     1.85176    0.26943   6.873 6.09e-10 ***\n",
       "I(log(age))     0.11374    0.04084   2.785  0.00643 ** \n",
       "I(log(income))  0.17697    0.01896   9.332 3.71e-15 ***\n",
       "---\n",
       "Signif. codes:  0 '***' 0.001 '**' 0.01 '*' 0.05 '.' 0.1 ' ' 1\n",
       "\n",
       "Residual standard error: 0.1148 on 97 degrees of freedom\n",
       "Multiple R-squared:  0.4972,\tAdjusted R-squared:  0.4869 \n",
       "F-statistic: 47.96 on 2 and 97 DF,  p-value: 3.288e-15\n"
      ]
     },
     "metadata": {},
     "output_type": "display_data"
    },
    {
     "data": {
      "text/plain": [
       "\n",
       "Call:\n",
       "lm(formula = I(log(happy)) ~ age + I(log(income)))\n",
       "\n",
       "Residuals:\n",
       "     Min       1Q   Median       3Q      Max \n",
       "-0.28476 -0.05519  0.01050  0.07576  0.21054 \n",
       "\n",
       "Coefficients:\n",
       "                Estimate Std. Error t value Pr(>|t|)    \n",
       "(Intercept)    2.1542221  0.2156099   9.991  < 2e-16 ***\n",
       "age            0.0027751  0.0007627   3.638 0.000442 ***\n",
       "I(log(income)) 0.1765608  0.0184863   9.551 1.25e-15 ***\n",
       "---\n",
       "Signif. codes:  0 '***' 0.001 '**' 0.01 '*' 0.05 '.' 0.1 ' ' 1\n",
       "\n",
       "Residual standard error: 0.1119 on 97 degrees of freedom\n",
       "Multiple R-squared:  0.5222,\tAdjusted R-squared:  0.5124 \n",
       "F-statistic: 53.01 on 2 and 97 DF,  p-value: 2.772e-16\n"
      ]
     },
     "metadata": {},
     "output_type": "display_data"
    }
   ],
   "source": [
    "summary(lm(happy~age+income))\n",
    "summary(lm(happy~I(log(age))+I(log(income))))\n",
    "summary(lm(I(log(happy))~I(log(age))+I(log(income))))\n",
    "summary(lm(I(log(happy))~age+I(log(income))))"
   ]
  },
  {
   "attachments": {
    "image.png": {
     "image/png": "[encoded data removed]"
    }
   },
   "cell_type": "markdown",
   "metadata": {},
   "source": [
    "![image.png](attachment:image.png)\n",
    "\n",
    "According to the results, lin-log model is better than linear model, and log-log model is better than log-lin model. "
   ]
  },
  {
   "cell_type": "code",
   "execution_count": 49,
   "metadata": {
    "ExecuteTime": {
     "end_time": "2019-12-12T01:23:37.892268Z",
     "start_time": "2019-12-12T01:23:37.863Z"
    }
   },
   "outputs": [
    {
     "data": {
      "text/html": [
       "0.488994091896839"
      ],
      "text/latex": [
       "0.488994091896839"
      ],
      "text/markdown": [
       "0.488994091896839"
      ],
      "text/plain": [
       "[1] 0.4889941"
      ]
     },
     "metadata": {},
     "output_type": "display_data"
    }
   ],
   "source": [
    "#lin-log\n",
    "pred<-predict(lm(happy~I(log(age))+I(log(income))))\n",
    "cor<-cor(happy,pred)^2\n",
    "1-((1-cor)*(length(happy)-1)/(length(happy)-2-1))"
   ]
  },
  {
   "cell_type": "code",
   "execution_count": 23,
   "metadata": {
    "ExecuteTime": {
     "end_time": "2019-12-14T05:42:20.809262Z",
     "start_time": "2019-12-14T05:42:20.778Z"
    }
   },
   "outputs": [
    {
     "data": {
      "text/html": [
       "0.523007513441615"
      ],
      "text/latex": [
       "0.523007513441615"
      ],
      "text/markdown": [
       "0.523007513441615"
      ],
      "text/plain": [
       "[1] 0.5230075"
      ]
     },
     "metadata": {},
     "output_type": "display_data"
    }
   ],
   "source": [
    "#log-log\n",
    "pred<-predict(lm(I(log(happy))~age+I(log(income))))\n",
    "cor<-cor(happy,exp(pred))^2\n",
    "1-((1-cor)*(length(happy)-1)/(length(happy)-2-1))"
   ]
  },
  {
   "cell_type": "markdown",
   "metadata": {},
   "source": [
    "**ANSWER**\n",
    "\n",
    "The log-log model fits the data best."
   ]
  },
  {
   "cell_type": "markdown",
   "metadata": {},
   "source": [
    "## b.\t(1 point) Using the model chosen in part a, predict happiness associated with varying levels of age for a family with income of $80,000. \n",
    "\n"
   ]
  },
  {
   "cell_type": "code",
   "execution_count": 24,
   "metadata": {
    "ExecuteTime": {
     "end_time": "2019-12-14T05:45:00.018400Z",
     "start_time": "2019-12-14T05:44:59.945Z"
    }
   },
   "outputs": [
    {
     "data": {
      "text/html": [
       "<table>\n",
       "<thead><tr><th scope=col>age_set</th><th scope=col>predict_set</th></tr></thead>\n",
       "<tbody>\n",
       "\t<tr><td>18      </td><td>66.52028</td></tr>\n",
       "\t<tr><td>23      </td><td>67.44971</td></tr>\n",
       "\t<tr><td>28      </td><td>68.39213</td></tr>\n",
       "\t<tr><td>33      </td><td>69.34772</td></tr>\n",
       "\t<tr><td>38      </td><td>70.31667</td></tr>\n",
       "\t<tr><td>43      </td><td>71.29914</td></tr>\n",
       "\t<tr><td>48      </td><td>72.29535</td></tr>\n",
       "\t<tr><td>53      </td><td>73.30548</td></tr>\n",
       "\t<tr><td>58      </td><td>74.32972</td></tr>\n",
       "\t<tr><td>63      </td><td>75.36827</td></tr>\n",
       "\t<tr><td>68      </td><td>76.42133</td></tr>\n",
       "\t<tr><td>73      </td><td>77.48910</td></tr>\n",
       "\t<tr><td>78      </td><td>78.57180</td></tr>\n",
       "\t<tr><td>83      </td><td>79.66962</td></tr>\n",
       "\t<tr><td>88      </td><td>80.78278</td></tr>\n",
       "</tbody>\n",
       "</table>\n"
      ],
      "text/latex": [
       "\\begin{tabular}{ll}\n",
       " age\\_set & predict\\_set\\\\\n",
       "\\hline\n",
       "\t 18       & 66.52028\\\\\n",
       "\t 23       & 67.44971\\\\\n",
       "\t 28       & 68.39213\\\\\n",
       "\t 33       & 69.34772\\\\\n",
       "\t 38       & 70.31667\\\\\n",
       "\t 43       & 71.29914\\\\\n",
       "\t 48       & 72.29535\\\\\n",
       "\t 53       & 73.30548\\\\\n",
       "\t 58       & 74.32972\\\\\n",
       "\t 63       & 75.36827\\\\\n",
       "\t 68       & 76.42133\\\\\n",
       "\t 73       & 77.48910\\\\\n",
       "\t 78       & 78.57180\\\\\n",
       "\t 83       & 79.66962\\\\\n",
       "\t 88       & 80.78278\\\\\n",
       "\\end{tabular}\n"
      ],
      "text/markdown": [
       "\n",
       "| age_set | predict_set |\n",
       "|---|---|\n",
       "| 18       | 66.52028 |\n",
       "| 23       | 67.44971 |\n",
       "| 28       | 68.39213 |\n",
       "| 33       | 69.34772 |\n",
       "| 38       | 70.31667 |\n",
       "| 43       | 71.29914 |\n",
       "| 48       | 72.29535 |\n",
       "| 53       | 73.30548 |\n",
       "| 58       | 74.32972 |\n",
       "| 63       | 75.36827 |\n",
       "| 68       | 76.42133 |\n",
       "| 73       | 77.48910 |\n",
       "| 78       | 78.57180 |\n",
       "| 83       | 79.66962 |\n",
       "| 88       | 80.78278 |\n",
       "\n"
      ],
      "text/plain": [
       "      age_set predict_set\n",
       " [1,] 18      66.52028   \n",
       " [2,] 23      67.44971   \n",
       " [3,] 28      68.39213   \n",
       " [4,] 33      69.34772   \n",
       " [5,] 38      70.31667   \n",
       " [6,] 43      71.29914   \n",
       " [7,] 48      72.29535   \n",
       " [8,] 53      73.30548   \n",
       " [9,] 58      74.32972   \n",
       "[10,] 63      75.36827   \n",
       "[11,] 68      76.42133   \n",
       "[12,] 73      77.48910   \n",
       "[13,] 78      78.57180   \n",
       "[14,] 83      79.66962   \n",
       "[15,] 88      80.78278   "
      ]
     },
     "metadata": {},
     "output_type": "display_data"
    },
    {
     "data": {
      "image/png": "[encoded data removed]",
      "text/plain": [
       "plot without title"
      ]
     },
     "metadata": {},
     "output_type": "display_data"
    }
   ],
   "source": [
    "age_set<-seq(18,90,by=5)\n",
    "predict_set<-exp(2.1542221+0.0027751*age_set+0.1765608*log(80000))\n",
    "prediction<-cbind(age_set,predict_set)\n",
    "prediction\n",
    "plot(prediction)"
   ]
  },
  {
   "cell_type": "markdown",
   "metadata": {},
   "source": [
    "## c.\t(1 point) Using the model chosen in part a, predict happiness associated with varying levels of family income for a 60-year-old working adult."
   ]
  },
  {
   "cell_type": "code",
   "execution_count": 27,
   "metadata": {
    "ExecuteTime": {
     "end_time": "2019-12-14T05:46:02.805408Z",
     "start_time": "2019-12-14T05:46:02.742Z"
    }
   },
   "outputs": [
    {
     "data": {
      "text/html": [
       "<table>\n",
       "<thead><tr><th scope=col>income_set</th><th scope=col>predict_set</th></tr></thead>\n",
       "<tbody>\n",
       "\t<tr><td>2e+04   </td><td>58.51574</td></tr>\n",
       "\t<tr><td>3e+04   </td><td>62.85843</td></tr>\n",
       "\t<tr><td>4e+04   </td><td>66.13370</td></tr>\n",
       "\t<tr><td>5e+04   </td><td>68.79127</td></tr>\n",
       "\t<tr><td>6e+04   </td><td>71.04174</td></tr>\n",
       "\t<tr><td>7e+04   </td><td>73.00184</td></tr>\n",
       "\t<tr><td>8e+04   </td><td>74.74341</td></tr>\n",
       "\t<tr><td>9e+04   </td><td>76.31404</td></tr>\n",
       "\t<tr><td>1e+05   </td><td>77.74696</td></tr>\n",
       "</tbody>\n",
       "</table>\n"
      ],
      "text/latex": [
       "\\begin{tabular}{ll}\n",
       " income\\_set & predict\\_set\\\\\n",
       "\\hline\n",
       "\t 2e+04    & 58.51574\\\\\n",
       "\t 3e+04    & 62.85843\\\\\n",
       "\t 4e+04    & 66.13370\\\\\n",
       "\t 5e+04    & 68.79127\\\\\n",
       "\t 6e+04    & 71.04174\\\\\n",
       "\t 7e+04    & 73.00184\\\\\n",
       "\t 8e+04    & 74.74341\\\\\n",
       "\t 9e+04    & 76.31404\\\\\n",
       "\t 1e+05    & 77.74696\\\\\n",
       "\\end{tabular}\n"
      ],
      "text/markdown": [
       "\n",
       "| income_set | predict_set |\n",
       "|---|---|\n",
       "| 2e+04    | 58.51574 |\n",
       "| 3e+04    | 62.85843 |\n",
       "| 4e+04    | 66.13370 |\n",
       "| 5e+04    | 68.79127 |\n",
       "| 6e+04    | 71.04174 |\n",
       "| 7e+04    | 73.00184 |\n",
       "| 8e+04    | 74.74341 |\n",
       "| 9e+04    | 76.31404 |\n",
       "| 1e+05    | 77.74696 |\n",
       "\n"
      ],
      "text/plain": [
       "      income_set predict_set\n",
       " [1,] 2e+04      58.51574   \n",
       " [2,] 3e+04      62.85843   \n",
       " [3,] 4e+04      66.13370   \n",
       " [4,] 5e+04      68.79127   \n",
       " [5,] 6e+04      71.04174   \n",
       " [6,] 7e+04      73.00184   \n",
       " [7,] 8e+04      74.74341   \n",
       " [8,] 9e+04      76.31404   \n",
       " [9,] 1e+05      77.74696   "
      ]
     },
     "metadata": {},
     "output_type": "display_data"
    },
    {
     "data": {
      "image/png": "[encoded data removed]",
      "text/plain": [
       "plot without title"
      ]
     },
     "metadata": {},
     "output_type": "display_data"
    }
   ],
   "source": [
    "income_set<-seq(20000,100000,by=10000)\n",
    "predict_set<-exp(2.1542221+0.0027751*60+0.1765608*log(income_set))\n",
    "prediction<-cbind(income_set,predict_set)\n",
    "prediction\n",
    "plot(prediction)"
   ]
  },
  {
   "cell_type": "markdown",
   "metadata": {},
   "source": [
    "# (10 points) Question 8\n",
    "Traffic congestion on roads and highways costs industry billions of dollars annually as workers struggle to get to and from work. Several suggestions have been made about how to improve this situation, one of which is called flextime – workers are allowed to determine their own schedules (provided they work a full shift). Such workers will likely choose an arrival and departure time to avoid rush-hour traffic. In a preliminary experiment designed to investigate such a program, the general manager of a large company wanted to compare the times it took workers to travel from their homes to work at 8 a.m. with travel time under the flextime program. A random sample of 32 workers was selected. The employees recorded the time (in minutes) it took to arrive at work at 8 a.m. on Wednesday of one week. The following week, the same employees arrived at work at times of their own choosing. The travel time on Wednesday of that week was recorded. These results are listed in the CSV file Question8. \n",
    "\n",
    "\n",
    "Run an appropriate statistical test to infer at the 5% significance level if travel times under the flextime program are different from travel times to arrive at work at 8 a.m.? Which conditions did you assess to select the statistical method?\n"
   ]
  },
  {
   "cell_type": "code",
   "execution_count": 18,
   "metadata": {
    "ExecuteTime": {
     "end_time": "2019-12-14T05:34:27.259566Z",
     "start_time": "2019-12-14T05:34:27.226Z"
    },
    "scrolled": true
   },
   "outputs": [],
   "source": [
    "setwd(\"D:/BAX441/Final Exam\")\n",
    "Q8<-read.csv('Question8.csv')\n",
    "fix<-Q8[,1]\n",
    "flex<-Q8[,2]\n",
    "colnames(Q8)<-c('fix','flex')\n",
    "df<-stack(Q8)\n",
    "method<-as.factor(df[,2])\n",
    "time<-as.numeric(df[,1])"
   ]
  },
  {
   "cell_type": "code",
   "execution_count": 76,
   "metadata": {
    "ExecuteTime": {
     "end_time": "2019-12-12T02:29:52.165430Z",
     "start_time": "2019-12-12T02:29:52.030Z"
    }
   },
   "outputs": [
    {
     "data": {
      "text/plain": [
       "\n",
       "\tAnderson-Darling normality test\n",
       "\n",
       "data:  resids_ex8\n",
       "A = 1.0586, p-value = 0.008208\n"
      ]
     },
     "metadata": {},
     "output_type": "display_data"
    },
    {
     "data": {
      "text/plain": [
       "\n",
       "\tFligner-Killeen test of homogeneity of variances\n",
       "\n",
       "data:  time by method\n",
       "Fligner-Killeen:med chi-squared = 0.036304, df = 1, p-value = 0.8489\n"
      ]
     },
     "metadata": {},
     "output_type": "display_data"
    },
    {
     "data": {
      "text/html": [
       "<table>\n",
       "<thead><tr><th></th><th scope=col>Df</th><th scope=col>F value</th><th scope=col>Pr(&gt;F)</th></tr></thead>\n",
       "<tbody>\n",
       "\t<tr><th scope=row>group</th><td> 1         </td><td>0.006560152</td><td>0.935707   </td></tr>\n",
       "\t<tr><th scope=row> </th><td>62         </td><td>         NA</td><td>      NA   </td></tr>\n",
       "</tbody>\n",
       "</table>\n"
      ],
      "text/latex": [
       "\\begin{tabular}{r|lll}\n",
       "  & Df & F value & Pr(>F)\\\\\n",
       "\\hline\n",
       "\tgroup &  1          & 0.006560152 & 0.935707   \\\\\n",
       "\t  & 62          &          NA &       NA   \\\\\n",
       "\\end{tabular}\n"
      ],
      "text/markdown": [
       "\n",
       "| <!--/--> | Df | F value | Pr(>F) |\n",
       "|---|---|---|---|\n",
       "| group |  1          | 0.006560152 | 0.935707    |\n",
       "|   | 62          |          NA |       NA    |\n",
       "\n"
      ],
      "text/plain": [
       "      Df F value     Pr(>F)  \n",
       "group  1 0.006560152 0.935707\n",
       "      62          NA       NA"
      ]
     },
     "metadata": {},
     "output_type": "display_data"
    }
   ],
   "source": [
    "#########Requirement Test######################\n",
    "#1. Randomly selected sample - Satisfy\n",
    "#2. Normality - Unsatisfy, because the p-value of the normality test is less than 0.05\n",
    "model_ex8 <- lm( time~  method)\n",
    "resids_ex8 <- residuals(model_ex8)\n",
    "preds_ex8 <- predict(model_ex8)\n",
    "\n",
    "nortest::ad.test(resids_ex8)\n",
    "\n",
    "#hist(resids_ex8)\n",
    "#qqnorm(resids_ex8)\n",
    "#qqline(resids_ex8)\n",
    "\n",
    "#3. Variances are constant - Satisfy, because the p-value of the normality test is larger than 0.05\n",
    "fligner.test( time~  method)\n",
    "car::leveneTest(time~  method)"
   ]
  },
  {
   "cell_type": "markdown",
   "metadata": {},
   "source": [
    "**Wilcoxon Rank Sum Test for paired 2 sample interval data**\n",
    "\n",
    "$H_{0}: \\mu_{fix} =\\mu_{flex}$\n",
    "\n",
    "$H_{1}: \\mu_{fix} != \\mu_{flex}$\n",
    "\n",
    "Significant Leve: 5%"
   ]
  },
  {
   "cell_type": "code",
   "execution_count": 78,
   "metadata": {
    "ExecuteTime": {
     "end_time": "2019-12-12T02:35:39.299068Z",
     "start_time": "2019-12-12T02:35:39.270Z"
    }
   },
   "outputs": [
    {
     "name": "stderr",
     "output_type": "stream",
     "text": [
      "Warning message in wilcox.test.default(x = c(34, 35, 43, 46, 16, 26, 68, 38, 61, :\n",
      "\"cannot compute exact p-value with ties\""
     ]
    },
    {
     "data": {
      "text/plain": [
       "\n",
       "\tWilcoxon signed rank test with continuity correction\n",
       "\n",
       "data:  time by method\n",
       "V = 367.5, p-value = 0.05262\n",
       "alternative hypothesis: true location shift is not equal to 0\n"
      ]
     },
     "metadata": {},
     "output_type": "display_data"
    }
   ],
   "source": [
    "wilcox.test(time~  method,alt='two.sided',paired=TRUE,exacted=FALSE,conf.level=0.95)"
   ]
  },
  {
   "cell_type": "markdown",
   "metadata": {},
   "source": [
    "**CONCLUSION**\n",
    "\n",
    "At 5% significant level, we cannot reject the null hypothesis. There is no different in travel times between fixtime and flextime program. "
   ]
  },
  {
   "cell_type": "markdown",
   "metadata": {},
   "source": [
    "# (5 points) Question 9\n",
    "An auditor counted the number of filing errors associated with random samples of three types of mortgages at four banks. A filing error might, for instance, be a missing signature or incomplete paperwork. The mortgage types are traditional, refinancing, and home equity loan. What would it mean to find an interaction between the type of loan and the bank?\n"
   ]
  },
  {
   "cell_type": "markdown",
   "metadata": {},
   "source": [
    "**ANSWER**\n",
    "\n",
    "The interaction between the type of loan and the bank means every bank has its own shortness and advantages on filling errors. One bank has the least errors in one type of loans may have more errors in other type of loans compare with other two banks. No bank is better than others, and no type of loans is better than others. The effect of interaction will impact the result of the ANOVA test. This means that we need not to test the main effect. "
   ]
  },
  {
   "cell_type": "markdown",
   "metadata": {},
   "source": [
    "# (2 points) Question 10\n",
    "What is the difference between a standard deviation and a standard error?\n"
   ]
  },
  {
   "cell_type": "markdown",
   "metadata": {},
   "source": [
    "**ANSWER**\n",
    "\n",
    "The standard deviation is a measure of the variability of a random variable.\n",
    "\n",
    "A standard error is a measure of how precise an estimate is. The estimate may be a mean, or a regression coefficient. The standard error is the standard deviation of the estimator in many samples from the population. "
   ]
  },
  {
   "attachments": {
    "image.png": {
     "image/png": "[encoded data removed]"
    }
   },
   "cell_type": "markdown",
   "metadata": {},
   "source": [
    "# (5 points) Question 11\n",
    "Suppose that you have generated three alternative multiple regression models to explain the variation in a particular regressand. The regression output for each model can be summarized as follows:\n",
    "\n",
    "![image.png](attachment:image.png)\n",
    "\n",
    "All three models have the same regressand. Which of the models would you select and why? Be precise yet succinct. \n"
   ]
  },
  {
   "cell_type": "markdown",
   "metadata": {},
   "source": [
    "**ANSWER**\n",
    "\n",
    "I would choose model 1 because its adjusted R^2 is the highest one. The R^2 would increase when the number of regressors increases, so in this question we need not to check the R^2. "
   ]
  },
  {
   "cell_type": "markdown",
   "metadata": {},
   "source": [
    "# (10 points) Question 12\n",
    "\n",
    "The WinterFun Company sells winter sports merchandise including skis, ice skates, sleds, and so on. Quarterly sales (in thousands of dollars) for the WinterFun company are shown on the CSV file Question12. The time period represented starts in the first quarter of 2008 and ends in the fourth quarter of 2017. \n",
    "\n",
    "A linear regression containing only the time variable like shown below is called a **linear trend model.** \n",
    "\n",
    "y=$β_{1}+β_{2} t+ε$\n",
    "\n",
    "One of the common objectives of such analysis is if the linear trend model is sufficient for predicting sales or are the sales influenced by seasonality. For this question, follow the steps provided in the parts below to construct a final model:\n"
   ]
  },
  {
   "cell_type": "code",
   "execution_count": 13,
   "metadata": {
    "ExecuteTime": {
     "end_time": "2019-12-14T00:52:24.807241Z",
     "start_time": "2019-12-14T00:52:24.759Z"
    },
    "scrolled": true
   },
   "outputs": [],
   "source": [
    "setwd(\"D:/BAX441/Final Exam\")\n",
    "Q12<-read.csv('Question12.csv')\n"
   ]
  },
  {
   "cell_type": "markdown",
   "metadata": {},
   "source": [
    "## a.\t(3 points) Create a linear trend model. Write the model. Examine the residual plot (versus fits) for this model. Does it show any patterns?\n",
    "\n",
    "\n"
   ]
  },
  {
   "cell_type": "code",
   "execution_count": 4,
   "metadata": {
    "ExecuteTime": {
     "end_time": "2019-12-12T22:47:09.636014Z",
     "start_time": "2019-12-12T22:47:09.569Z"
    }
   },
   "outputs": [
    {
     "data": {
      "image/png": "[encoded data removed]",
      "text/plain": [
       "plot without title"
      ]
     },
     "metadata": {},
     "output_type": "display_data"
    }
   ],
   "source": [
    "time<-Q12[,1]\n",
    "sales<-Q12[,4]\n",
    "model1<-lm(sales~time)\n",
    "resid<-residuals(model1)\n",
    "plot(time, resid)"
   ]
  },
  {
   "cell_type": "markdown",
   "metadata": {},
   "source": [
    "**ANSWER**\n",
    "\n",
    "No, there is no pattern in the residual vs. fitted plot. Thus, the variance is constant."
   ]
  },
  {
   "cell_type": "markdown",
   "metadata": {},
   "source": [
    "## b.\t(2 points) Now, you want to see if there is any seasonality. For this create a time plot of sales (Sales versus Time) and check if there are seasonal patterns. Examine evidence of seasonality visually.\n",
    "\n"
   ]
  },
  {
   "cell_type": "code",
   "execution_count": 6,
   "metadata": {
    "ExecuteTime": {
     "end_time": "2019-12-12T22:49:07.086514Z",
     "start_time": "2019-12-12T22:49:07.036Z"
    }
   },
   "outputs": [
    {
     "data": {
      "image/png": "[encoded data removed]",
      "text/plain": [
       "plot without title"
      ]
     },
     "metadata": {},
     "output_type": "display_data"
    }
   ],
   "source": [
    "plot(time,sales,type='l')"
   ]
  },
  {
   "cell_type": "markdown",
   "metadata": {},
   "source": [
    "**ANSWER**\n",
    "\n",
    "From the plot, I think there is seasonality in the data. "
   ]
  },
  {
   "cell_type": "markdown",
   "metadata": {},
   "source": [
    "## c.\tCreate indicator variables for quarters. No need to show your R code. \n",
    "\n"
   ]
  },
  {
   "cell_type": "code",
   "execution_count": 8,
   "metadata": {
    "ExecuteTime": {
     "end_time": "2019-12-12T22:52:54.061430Z",
     "start_time": "2019-12-12T22:52:54.018Z"
    }
   },
   "outputs": [
    {
     "data": {
      "text/plain": [
       "\n",
       "Call:\n",
       "lm(formula = sales ~ q2 + q3 + q4 + time)\n",
       "\n",
       "Residuals:\n",
       "    Min      1Q  Median      3Q     Max \n",
       "-19.653  -4.478  -1.429   4.148  13.640 \n",
       "\n",
       "Coefficients:\n",
       "             Estimate Std. Error t value Pr(>|t|)    \n",
       "(Intercept) 214.59413    2.95039  72.734  < 2e-16 ***\n",
       "q2          -29.86610    3.21712  -9.284 5.72e-11 ***\n",
       "q3          -29.53220    3.22168  -9.167 7.85e-11 ***\n",
       "q4           -3.74830    3.22927  -1.161    0.254    \n",
       "time          2.56610    0.09895  25.932  < 2e-16 ***\n",
       "---\n",
       "Signif. codes:  0 '***' 0.001 '**' 0.01 '*' 0.05 '.' 0.1 ' ' 1\n",
       "\n",
       "Residual standard error: 7.19 on 35 degrees of freedom\n",
       "Multiple R-squared:  0.9593,\tAdjusted R-squared:  0.9546 \n",
       "F-statistic: 206.1 on 4 and 35 DF,  p-value: < 2.2e-16\n"
      ]
     },
     "metadata": {},
     "output_type": "display_data"
    }
   ],
   "source": [
    "q2<-ifelse(Q12[,3]==2, 1,0)\n",
    "q3<-ifelse(Q12[,3]==3,1,0)\n",
    "q4<-ifelse(Q12[,3]==4,1,0)\n",
    "\n",
    "summary(lm(sales~q2+q3+q4+time))"
   ]
  },
  {
   "cell_type": "markdown",
   "metadata": {},
   "source": [
    "## d.\t(5 points) Conduct a Partial F-test to assess if the seasonal indicator variables are necessary in the model. Write the full model, the reduced models, and the hypotheses clearly. The reduced model in this case is the linear trend model and the full model is the one with indicator variables. Write your interpretation.\n"
   ]
  },
  {
   "cell_type": "markdown",
   "metadata": {},
   "source": [
    "**MODELS**\n",
    "\n",
    "Reduced Model: $Y_{sales} = \\beta_{0} + \\beta_{1} * X_{time}+\\varepsilon $\n",
    "\n",
    "Full Model: $Y_{sales} = \\beta_{0} + \\beta_{1} * X_{time} +\\beta_{2}*X_{quarter2_dummy} + \\beta_{3}*X_{quarter3_dummy}+ \\beta_{4}*X_{quarter4_dummy} +\\varepsilon  $\n",
    "\n",
    "**HYPOTHESIS**\n",
    "\n",
    "$H_{0}: \\beta_{2} =\\beta_{3} = \\beta_{4}$\n",
    "\n",
    "$H_{1}$: At least 1 $\\beta$ is not 0"
   ]
  },
  {
   "cell_type": "code",
   "execution_count": 9,
   "metadata": {
    "ExecuteTime": {
     "end_time": "2019-12-12T23:01:31.210546Z",
     "start_time": "2019-12-12T23:01:31.179Z"
    }
   },
   "outputs": [
    {
     "data": {
      "text/html": [
       "<table>\n",
       "<thead><tr><th scope=col>Res.Df</th><th scope=col>RSS</th><th scope=col>Df</th><th scope=col>Sum of Sq</th><th scope=col>F</th><th scope=col>Pr(&gt;F)</th></tr></thead>\n",
       "<tbody>\n",
       "\t<tr><td>38         </td><td>9622.061   </td><td>NA         </td><td>      NA   </td><td>      NA   </td><td>         NA</td></tr>\n",
       "\t<tr><td>35         </td><td>1809.507   </td><td> 3         </td><td>7812.554   </td><td>50.37089   </td><td>8.72319e-13</td></tr>\n",
       "</tbody>\n",
       "</table>\n"
      ],
      "text/latex": [
       "\\begin{tabular}{r|llllll}\n",
       " Res.Df & RSS & Df & Sum of Sq & F & Pr(>F)\\\\\n",
       "\\hline\n",
       "\t 38          & 9622.061    & NA          &       NA    &       NA    &          NA\\\\\n",
       "\t 35          & 1809.507    &  3          & 7812.554    & 50.37089    & 8.72319e-13\\\\\n",
       "\\end{tabular}\n"
      ],
      "text/markdown": [
       "\n",
       "| Res.Df | RSS | Df | Sum of Sq | F | Pr(>F) |\n",
       "|---|---|---|---|---|---|\n",
       "| 38          | 9622.061    | NA          |       NA    |       NA    |          NA |\n",
       "| 35          | 1809.507    |  3          | 7812.554    | 50.37089    | 8.72319e-13 |\n",
       "\n"
      ],
      "text/plain": [
       "  Res.Df RSS      Df Sum of Sq F        Pr(>F)     \n",
       "1 38     9622.061 NA       NA        NA          NA\n",
       "2 35     1809.507  3 7812.554  50.37089 8.72319e-13"
      ]
     },
     "metadata": {},
     "output_type": "display_data"
    }
   ],
   "source": [
    "reduced_model<-lm(sales~time)\n",
    "full_model<-lm(sales~q2+q3+q4+time)\n",
    "anova(reduced_model,full_model)"
   ]
  },
  {
   "cell_type": "markdown",
   "metadata": {},
   "source": [
    "**INTERPRETATION**\n",
    "\n",
    "From the partial F-test, the p-value is less any significant level, so we reject the null hypothesis. At least 1 quarter dummy variable is meaningful. Further, we can test which dummy variable is meaningful to the model. "
   ]
  },
  {
   "cell_type": "markdown",
   "metadata": {},
   "source": [
    "# (5 points) Question 13\n",
    "\n",
    "A bank encouraged customers who have its debit cards to use them more frequently. It collected a sample of customers and found the number of times that each used the debit card during the four-month promotion March – June. To learn whether the average number of charges over this period is different in any month, the bank plans to use a one-way ANOVA. Would this be the right analysis? If not, what should the bank do?\n"
   ]
  },
  {
   "cell_type": "markdown",
   "metadata": {},
   "source": [
    "**ANSWER**\n",
    "\n",
    "No, I do not think this is the right analysis. Since the bank is comparing the use times for each customers in the sample, I think the randomized block design should be should be considered. "
   ]
  },
  {
   "cell_type": "markdown",
   "metadata": {},
   "source": [
    "# (25 points) Question 14\n",
    "\n",
    "A technology company in the bay area is interested in conducting a study of the factors that affect absenteeism among its employees. After reviewing the literature on absenteeism and interviewing a number of employees, the analyst in charge of the project defined the variables as shown below:\n",
    "\n",
    "Absenteeism (ABSENT): The number of distinct occasions that the employee was absent \n",
    "      during a year. Each occasion consists of one or more \n",
    "      consecutive days of absence.\n",
    "\t\n",
    "Job Complexity (COMPLX): An index ranging from 0 to 100.\n",
    "\n",
    "Seniority (SENIOR): Number of complete years with the company on December 31st of the year \n",
    "           in which the study was completed.\n",
    "\n",
    "The CSV file Question14 contains data on 77 employees. The dependent variable is absenteeism (ABSENT). The possible explanatory variables are \n",
    "\n",
    "COMPLX = measure of job complexity\n",
    "SENIOR = seniority\n",
    "SATIS = categorical (qualitative) variable – response to “How satisfied are you with your manager?”\n",
    "\n",
    "In this question, use SENINV = 1/SENIOR and COMPLX as two of the explanatory variables. The SENINV is the reciprocal of the seniority variable and the variable SATIS should be transformed into indicator variables as follows:\n",
    "\n",
    "FS1 = 1 if SATIS = 1 (very dissatisfied)\n",
    "       = 0 otherwise\n",
    "\n",
    "FS2 = 1 if SATIS = 2 (somewhat dissatisfied)\n",
    "       = 0 otherwise\n",
    "\n",
    "FS3 = 1 if SATIS = 3 (neither satisfied nor dissatisfied)\n",
    "       = 0 otherwise\n",
    "\n",
    "FS4 = 1 if SATIS = 4 (somewhat satisfied)\n",
    "       = 0 otherwise\n",
    "\n",
    "FS5 = 1 if SATIS = 5 (very satisfied)\n",
    "       = 0 otherwise\n",
    "\n",
    "Five indicator variables are created to represent all five supervisor satisfaction categories. Recall that only four need to be used in the regression. \n"
   ]
  },
  {
   "cell_type": "code",
   "execution_count": 10,
   "metadata": {
    "ExecuteTime": {
     "end_time": "2019-12-12T23:11:05.542216Z",
     "start_time": "2019-12-12T23:11:05.508Z"
    },
    "scrolled": true
   },
   "outputs": [],
   "source": [
    "setwd(\"D:/BAX441/Final Exam\")\n",
    "Q14<-read.csv('Question14.csv')\n",
    "absent<-Q14[,1]\n",
    "complex<-Q14[,2]\n",
    "fs2<-ifelse(Q14[,3]==2,1,0)\n",
    "fs3<-ifelse(Q14[,3]==3,1,0)\n",
    "fs4<-ifelse(Q14[,3]==4,1,0)\n",
    "fs5<-ifelse(Q14[,3]==5,1,0)\n",
    "senior<-Q14[,4]"
   ]
  },
  {
   "cell_type": "markdown",
   "metadata": {},
   "source": [
    "## a.\t(3 points) Run the regression containing all the independent variables (continuous + indicator). This is your full model.\n",
    "\n"
   ]
  },
  {
   "cell_type": "code",
   "execution_count": 11,
   "metadata": {
    "ExecuteTime": {
     "end_time": "2019-12-12T23:12:08.999212Z",
     "start_time": "2019-12-12T23:12:08.975Z"
    }
   },
   "outputs": [
    {
     "data": {
      "text/plain": [
       "\n",
       "Call:\n",
       "lm(formula = absent ~ complex + I(1/senior) + fs2 + fs3 + fs4 + \n",
       "    fs5)\n",
       "\n",
       "Residuals:\n",
       "    Min      1Q  Median      3Q     Max \n",
       "-2.7326 -0.8154 -0.0236  0.6371  3.6174 \n",
       "\n",
       "Coefficients:\n",
       "             Estimate Std. Error t value Pr(>|t|)    \n",
       "(Intercept)  2.534709   0.608359   4.166  8.7e-05 ***\n",
       "complex     -0.014070   0.006333  -2.222   0.0295 *  \n",
       "I(1/senior)  1.102841   0.453456   2.432   0.0176 *  \n",
       "fs2          0.700092   0.602709   1.162   0.2494    \n",
       "fs3         -0.493028   0.523048  -0.943   0.3491    \n",
       "fs4         -0.834578   0.583957  -1.429   0.1574    \n",
       "fs5         -0.904105   0.837699  -1.079   0.2842    \n",
       "---\n",
       "Signif. codes:  0 '***' 0.001 '**' 0.01 '*' 0.05 '.' 0.1 ' ' 1\n",
       "\n",
       "Residual standard error: 1.252 on 70 degrees of freedom\n",
       "Multiple R-squared:  0.3405,\tAdjusted R-squared:  0.284 \n",
       "F-statistic: 6.024 on 6 and 70 DF,  p-value: 4.04e-05\n"
      ]
     },
     "metadata": {},
     "output_type": "display_data"
    }
   ],
   "source": [
    "full_model<-lm(absent~complex+I(1/senior)+fs2+fs3+fs4+fs5)\n",
    "summary(full_model)"
   ]
  },
  {
   "cell_type": "markdown",
   "metadata": {},
   "source": [
    "## b.\t(3 points) Run the regression after removing the indicator variables. This is your reduced model.\n",
    "\n"
   ]
  },
  {
   "cell_type": "code",
   "execution_count": 13,
   "metadata": {
    "ExecuteTime": {
     "end_time": "2019-12-12T23:13:06.233390Z",
     "start_time": "2019-12-12T23:13:06.208Z"
    }
   },
   "outputs": [
    {
     "data": {
      "text/plain": [
       "\n",
       "Call:\n",
       "lm(formula = absent ~ complex + I(1/senior))\n",
       "\n",
       "Residuals:\n",
       "    Min      1Q  Median      3Q     Max \n",
       "-2.3782 -1.1363 -0.0130  0.7584  3.9146 \n",
       "\n",
       "Coefficients:\n",
       "             Estimate Std. Error t value Pr(>|t|)    \n",
       "(Intercept)  2.047420   0.428909   4.774  8.9e-06 ***\n",
       "complex     -0.012060   0.006242  -1.932  0.05718 .  \n",
       "I(1/senior)  1.281891   0.469632   2.730  0.00792 ** \n",
       "---\n",
       "Signif. codes:  0 '***' 0.001 '**' 0.01 '*' 0.05 '.' 0.1 ' ' 1\n",
       "\n",
       "Residual standard error: 1.332 on 74 degrees of freedom\n",
       "Multiple R-squared:  0.2104,\tAdjusted R-squared:  0.189 \n",
       "F-statistic: 9.857 on 2 and 74 DF,  p-value: 0.0001602\n"
      ]
     },
     "metadata": {},
     "output_type": "display_data"
    }
   ],
   "source": [
    "reduced_model<-lm(absent~complex+I(1/senior))\n",
    "summary(reduced_model)"
   ]
  },
  {
   "cell_type": "markdown",
   "metadata": {},
   "source": [
    "## c.\t(5 points) Using Partial F-test, identify if the indicator variables (degree of satisfaction) are needed to determine the behavior of absenteeism in the employees. Use 5% level of significance.\n",
    "\n"
   ]
  },
  {
   "cell_type": "code",
   "execution_count": 14,
   "metadata": {
    "ExecuteTime": {
     "end_time": "2019-12-12T23:13:37.171128Z",
     "start_time": "2019-12-12T23:13:37.141Z"
    }
   },
   "outputs": [
    {
     "data": {
      "text/html": [
       "<table>\n",
       "<thead><tr><th scope=col>Res.Df</th><th scope=col>RSS</th><th scope=col>Df</th><th scope=col>Sum of Sq</th><th scope=col>F</th><th scope=col>Pr(&gt;F)</th></tr></thead>\n",
       "<tbody>\n",
       "\t<tr><td>74        </td><td>131.3666  </td><td>NA        </td><td>      NA  </td><td>      NA  </td><td>        NA</td></tr>\n",
       "\t<tr><td>70        </td><td>109.7132  </td><td> 4        </td><td>21.65332  </td><td>3.453849  </td><td>0.01237738</td></tr>\n",
       "</tbody>\n",
       "</table>\n"
      ],
      "text/latex": [
       "\\begin{tabular}{r|llllll}\n",
       " Res.Df & RSS & Df & Sum of Sq & F & Pr(>F)\\\\\n",
       "\\hline\n",
       "\t 74         & 131.3666   & NA         &       NA   &       NA   &         NA\\\\\n",
       "\t 70         & 109.7132   &  4         & 21.65332   & 3.453849   & 0.01237738\\\\\n",
       "\\end{tabular}\n"
      ],
      "text/markdown": [
       "\n",
       "| Res.Df | RSS | Df | Sum of Sq | F | Pr(>F) |\n",
       "|---|---|---|---|---|---|\n",
       "| 74         | 131.3666   | NA         |       NA   |       NA   |         NA |\n",
       "| 70         | 109.7132   |  4         | 21.65332   | 3.453849   | 0.01237738 |\n",
       "\n"
      ],
      "text/plain": [
       "  Res.Df RSS      Df Sum of Sq F        Pr(>F)    \n",
       "1 74     131.3666 NA       NA        NA         NA\n",
       "2 70     109.7132  4 21.65332  3.453849 0.01237738"
      ]
     },
     "metadata": {},
     "output_type": "display_data"
    }
   ],
   "source": [
    "anova(reduced_model,full_model)"
   ]
  },
  {
   "cell_type": "markdown",
   "metadata": {},
   "source": [
    "**HYPOTHESIS**\n",
    "\n",
    "$H_{0}: \\beta_{2} =\\beta_{3} = \\beta_{4}$\n",
    "\n",
    "$H_{1}$: At least 1 $\\beta$ is not 0\n",
    "\n",
    "**ANSWER**\n",
    "\n",
    "At 5% significant level, we can reject the null hypothese. At least 1 indicator variable is needed to determine the behavior of absenteeism in the employees."
   ]
  },
  {
   "cell_type": "markdown",
   "metadata": {},
   "source": [
    "## d.\t(3 points) Use the appropriate model (after determining the final model from the results of the partial F-test) and calculate the average absenteeism rate for all employees with COMPLX = 60 and SENIOR = 30 who were very dissatisfied with their managers. \n",
    "\n"
   ]
  },
  {
   "cell_type": "code",
   "execution_count": 15,
   "metadata": {
    "ExecuteTime": {
     "end_time": "2019-12-12T23:19:35.672261Z",
     "start_time": "2019-12-12T23:19:35.642Z"
    }
   },
   "outputs": [
    {
     "data": {
      "text/plain": [
       "\n",
       "Call:\n",
       "lm(formula = absent ~ complex + I(1/senior) + fs2 + fs3 + fs4 + \n",
       "    fs5)\n",
       "\n",
       "Coefficients:\n",
       "(Intercept)      complex  I(1/senior)          fs2          fs3          fs4  \n",
       "    2.53471     -0.01407      1.10284      0.70009     -0.49303     -0.83458  \n",
       "        fs5  \n",
       "   -0.90411  \n"
      ]
     },
     "metadata": {},
     "output_type": "display_data"
    }
   ],
   "source": [
    "full_model"
   ]
  },
  {
   "cell_type": "code",
   "execution_count": 17,
   "metadata": {
    "ExecuteTime": {
     "end_time": "2019-12-12T23:20:58.550835Z",
     "start_time": "2019-12-12T23:20:58.529Z"
    }
   },
   "outputs": [
    {
     "name": "stdout",
     "output_type": "stream",
     "text": [
      "The average absenteeism rate is  1.727271"
     ]
    }
   ],
   "source": [
    "cat('The average absenteeism rate is ',2.53471-0.01407*60+1.10284*(1/30))"
   ]
  },
  {
   "cell_type": "markdown",
   "metadata": {},
   "source": [
    "## e.\t(3 points) Use the appropriate model (after determining the final model from the results of the partial F-test) and calculate the average absenteeism rate for all employees with COMPLX = 60 and SENIOR = 30 who were very satisfied with their managers.\n",
    "\n"
   ]
  },
  {
   "cell_type": "code",
   "execution_count": 18,
   "metadata": {
    "ExecuteTime": {
     "end_time": "2019-12-12T23:22:09.177774Z",
     "start_time": "2019-12-12T23:22:09.156Z"
    }
   },
   "outputs": [
    {
     "name": "stdout",
     "output_type": "stream",
     "text": [
      "The average absenteeism rate is  0.8231613"
     ]
    }
   ],
   "source": [
    "cat('The average absenteeism rate is ',2.53471-0.01407*60+1.10284*(1/30) -0.90411)"
   ]
  },
  {
   "cell_type": "markdown",
   "metadata": {},
   "source": [
    "## f.\t(3 points) Use the appropriate model (after determining the final model from the results of the partial F-test) and calculate the average absenteeism rate for all employees with COMPLX = 10 and SENIOR = 3 who were very dissatisfied with their managers. \n",
    "\n"
   ]
  },
  {
   "cell_type": "code",
   "execution_count": 19,
   "metadata": {
    "ExecuteTime": {
     "end_time": "2019-12-12T23:22:32.538844Z",
     "start_time": "2019-12-12T23:22:32.519Z"
    }
   },
   "outputs": [
    {
     "name": "stdout",
     "output_type": "stream",
     "text": [
      "The average absenteeism rate is  2.761623"
     ]
    }
   ],
   "source": [
    "cat('The average absenteeism rate is ',2.53471-0.01407*10+1.10284*(1/3))"
   ]
  },
  {
   "cell_type": "markdown",
   "metadata": {},
   "source": [
    "## g.\t(3 points) Use the appropriate model (after determining the final model from the results of the partial F-test) and calculate the average absenteeism rate for all employees with COMPLX = 10 and SENIOR = 3 who were very satisfied with their managers.\n",
    "\n",
    "Please note that the variable used for seniority in the regression model is the reciprocal and NOT the seniority value. Keep this in mind while answering parts d, e, f, and g above.\n",
    "\n"
   ]
  },
  {
   "cell_type": "code",
   "execution_count": 20,
   "metadata": {
    "ExecuteTime": {
     "end_time": "2019-12-12T23:23:19.596002Z",
     "start_time": "2019-12-12T23:23:19.572Z"
    }
   },
   "outputs": [
    {
     "name": "stdout",
     "output_type": "stream",
     "text": [
      "The average absenteeism rate is  1.857513"
     ]
    }
   ],
   "source": [
    "cat('The average absenteeism rate is ',2.53471-0.01407*10+1.10284*(1/3) -0.90411)"
   ]
  },
  {
   "cell_type": "markdown",
   "metadata": {},
   "source": [
    "## h.\t(2 points) How could this study be used by the management to help identify employees who might be prone to absenteeism?\n"
   ]
  },
  {
   "cell_type": "markdown",
   "metadata": {},
   "source": [
    "**ANSWER**\n",
    "\n",
    "From this study, we found that employees who are doing less complex job with lower seniority and not satisfy with the manager might be prone to absenteeism."
   ]
  },
  {
   "cell_type": "markdown",
   "metadata": {},
   "source": [
    "# (25 points) Question 15\n",
    "\n",
    "The dataset on Question15 file presents data from the case of United States Department of the Treasury v. Harris Trust and Savings Bank (1981). The data includes the salary of 93 employees of the bank, their education level, and their gender. \n"
   ]
  },
  {
   "cell_type": "code",
   "execution_count": 14,
   "metadata": {
    "ExecuteTime": {
     "end_time": "2019-12-14T01:01:42.462681Z",
     "start_time": "2019-12-14T01:01:42.407Z"
    },
    "scrolled": true
   },
   "outputs": [],
   "source": [
    "setwd(\"D:/BAX441/Final Exam\")\n",
    "Q15<-read.csv('Question15.csv')\n",
    "salary<-Q15[,1]\n",
    "edu<-Q15[,2]\n",
    "experience<-Q15[,3]\n",
    "male<-ifelse(Q15[,5]=='MALE',1,0)\n"
   ]
  },
  {
   "cell_type": "markdown",
   "metadata": {},
   "source": [
    "## a.\t(3 points) Create a multiple regression model using education level and the male/female dummies.\n",
    "\n",
    "\n"
   ]
  },
  {
   "cell_type": "code",
   "execution_count": 22,
   "metadata": {
    "ExecuteTime": {
     "end_time": "2019-12-12T23:29:30.143178Z",
     "start_time": "2019-12-12T23:29:30.116Z"
    }
   },
   "outputs": [
    {
     "data": {
      "text/plain": [
       "\n",
       "Call:\n",
       "lm(formula = salary ~ edu + male)\n",
       "\n",
       "Residuals:\n",
       "     Min       1Q   Median       3Q      Max \n",
       "-1241.50  -364.29    16.41   378.50  1943.90 \n",
       "\n",
       "Coefficients:\n",
       "            Estimate Std. Error t value Pr(>|t|)    \n",
       "(Intercept)  4173.13     339.18  12.304  < 2e-16 ***\n",
       "edu            80.70      27.67   2.916  0.00447 ** \n",
       "male          691.81     132.23   5.232 1.09e-06 ***\n",
       "---\n",
       "Signif. codes:  0 '***' 0.001 '**' 0.01 '*' 0.05 '.' 0.1 ' ' 1\n",
       "\n",
       "Residual standard error: 572.4 on 90 degrees of freedom\n",
       "Multiple R-squared:  0.3634,\tAdjusted R-squared:  0.3492 \n",
       "F-statistic: 25.68 on 2 and 90 DF,  p-value: 1.498e-09\n"
      ]
     },
     "metadata": {},
     "output_type": "display_data"
    }
   ],
   "source": [
    "summary(lm(salary~edu+male))"
   ]
  },
  {
   "cell_type": "markdown",
   "metadata": {},
   "source": [
    "## b.\t(5 points) Interpret the differential intercept coefficient and the parameter estimate of the education level. Is there evidence of employment discrimination?\n",
    "\n"
   ]
  },
  {
   "cell_type": "markdown",
   "metadata": {},
   "source": [
    "**ANSWER**\n",
    "\n",
    "From the result, the parameter estimate of the education level is 80.7 and the p-value is significant , which means 1 unit higher in the education level the salary would increase 80.7 dollars on average. Holding the education level, male can earn 691.81 dollars on average more than female with the significant p-value of the differential intercept coefficient. Based on this model, it seems that there is evidence on gender discrimination. However, we need to test the effect of interaction. "
   ]
  },
  {
   "cell_type": "markdown",
   "metadata": {},
   "source": [
    "## c.\t(5 points) Create a plot with the two regressions – one for male and another for female. Are these two regressions parallel, coincident, dissimilar, or concurrent regressions? Refer to my Week 9 note under the topic of Comparing Two Regressions.\n",
    "\n"
   ]
  },
  {
   "cell_type": "code",
   "execution_count": 41,
   "metadata": {
    "ExecuteTime": {
     "end_time": "2019-12-13T00:06:37.855810Z",
     "start_time": "2019-12-13T00:06:37.601Z"
    }
   },
   "outputs": [
    {
     "data": {
      "image/png": "[encoded data removed]",
      "text/plain": [
       "plot without title"
      ]
     },
     "metadata": {},
     "output_type": "display_data"
    }
   ],
   "source": [
    "library(ggplot2)\n",
    "df<-data.frame(cbind(salary,edu,Q15$GENDER))\n",
    "ggplot(df, aes(edu, salary, group=V3, colour=V3, fill=V3)) +\n",
    "  geom_smooth(method=\"lm\") +\n",
    "  theme_bw()  "
   ]
  },
  {
   "cell_type": "markdown",
   "metadata": {},
   "source": [
    "**ANSWER**\n",
    "\n",
    "They are dissimilar."
   ]
  },
  {
   "cell_type": "markdown",
   "metadata": {},
   "source": [
    "## d.\t(5 points) Now using the model from the above parts, determine if there is evidence of employment discrimination at Harris Bank even after taking into account education (i.e. interaction). Hint: For this, you will have to create an interaction variable EDUC*MALES.\n",
    "\n"
   ]
  },
  {
   "cell_type": "code",
   "execution_count": 42,
   "metadata": {
    "ExecuteTime": {
     "end_time": "2019-12-13T00:08:40.775128Z",
     "start_time": "2019-12-13T00:08:40.749Z"
    }
   },
   "outputs": [
    {
     "data": {
      "text/plain": [
       "\n",
       "Call:\n",
       "lm(formula = salary ~ edu + male + edu:male)\n",
       "\n",
       "Residuals:\n",
       "     Min       1Q   Median       3Q      Max \n",
       "-1240.89  -349.06    72.72   372.72  1808.08 \n",
       "\n",
       "Coefficients:\n",
       "            Estimate Std. Error t value Pr(>|t|)    \n",
       "(Intercept)  4395.32     389.21  11.293   <2e-16 ***\n",
       "edu            62.13      31.94   1.945   0.0549 .  \n",
       "male         -274.86     845.75  -0.325   0.7460    \n",
       "edu:male       73.59      63.59   1.157   0.2503    \n",
       "---\n",
       "Signif. codes:  0 '***' 0.001 '**' 0.01 '*' 0.05 '.' 0.1 ' ' 1\n",
       "\n",
       "Residual standard error: 571.4 on 89 degrees of freedom\n",
       "Multiple R-squared:  0.3728,\tAdjusted R-squared:  0.3516 \n",
       "F-statistic: 17.63 on 3 and 89 DF,  p-value: 4.557e-09\n"
      ]
     },
     "metadata": {},
     "output_type": "display_data"
    }
   ],
   "source": [
    "summary(lm(salary~edu+male+edu:male))"
   ]
  },
  {
   "cell_type": "markdown",
   "metadata": {},
   "source": [
    "**ANSWER**\n",
    "\n",
    "The new model shows that the p-value of the interaction variable is not significant. From the plot in the previoud question, there is no interact between male regression and female regression. Thus, there is no effect of interaction. According to the model in question a, the p-value of male dummy variable is significant, so there is discremination. "
   ]
  },
  {
   "cell_type": "markdown",
   "metadata": {},
   "source": [
    "## e.\t(3 points) Is the interaction significant? Is the dummy variable significant?\n"
   ]
  },
  {
   "cell_type": "markdown",
   "metadata": {},
   "source": [
    "**ANSWER**\n",
    "\n",
    "The new model shows that the p-value of the interaction variable is not significant. The dummy variable in the new model also not significant."
   ]
  },
  {
   "cell_type": "markdown",
   "metadata": {},
   "source": [
    "## f.\t(4 points) What is the difference between the model with interaction variable and the model with only EDUCATION and the dummy variable? "
   ]
  },
  {
   "cell_type": "markdown",
   "metadata": {},
   "source": [
    "**ANSWER**\n",
    "\n",
    "In the model with interaction variable, at 5% significant level, no explainor has significant p-value, but the p-value of the F-test is significant. While the model with interaction variable has an adjusted R^2 of 0.35, the model without interaction variable has an adjusted R^2 of 0.349 - they are very close.However, the model without the interaction variable's explainors' p-value are all significant. One reason is that there is no interaction between education level and gender, so the model with interaction variable may have multicollinearity. "
   ]
  },
  {
   "attachments": {
    "image.png": {
     "image/png": "[encoded data removed]"
    }
   },
   "cell_type": "markdown",
   "metadata": {},
   "source": [
    "# (8 points) Question 16\n",
    "\n",
    "The growth model that we covered in the note on functional forms was fitted to several U.S. economic time series and the following results were obtained:\n",
    "\n",
    " ![image.png](attachment:image.png)\n",
    "\n",
    "The B1 and B2 are the intercept $β_{1}$ and slope $β_{2}$. \n"
   ]
  },
  {
   "cell_type": "markdown",
   "metadata": {},
   "source": [
    "## a.\t(4 points) In each case find out the instantaneous rate of growth.\n",
    "\n",
    "\n"
   ]
  },
  {
   "cell_type": "code",
   "execution_count": 80,
   "metadata": {
    "ExecuteTime": {
     "end_time": "2019-12-12T02:59:47.566318Z",
     "start_time": "2019-12-12T02:59:47.534Z"
    }
   },
   "outputs": [
    {
     "name": "stdout",
     "output_type": "stream",
     "text": [
      "The instantaneous rate of growth of real GNP is  3.02 %.\n",
      "The instantaneous rate of growth of labor force participation rate is  5.3 %.\n",
      "The instantaneous rate of growth of S&P 500 index is  4.56 %.\n",
      "The instantaneous rate of growth of S&P 500 index (quarterly) is  1.14 %.\n"
     ]
    }
   ],
   "source": [
    "\n",
    "cat('The instantaneous rate of growth of real GNP is ',0.0302*100, '%.\\n')\n",
    "cat('The instantaneous rate of growth of labor force participation rate is ',0.053*100, '%.\\n')\n",
    "cat('The instantaneous rate of growth of S&P 500 index is ',0.0456*100, '%.\\n')\n",
    "cat('The instantaneous rate of growth of S&P 500 index (quarterly) is ',0.0114*100, '%.\\n')"
   ]
  },
  {
   "cell_type": "markdown",
   "metadata": {},
   "source": [
    "## b.\t(4 points) What is the compound rate of growth in each case?"
   ]
  },
  {
   "cell_type": "code",
   "execution_count": 82,
   "metadata": {
    "ExecuteTime": {
     "end_time": "2019-12-12T03:01:52.026652Z",
     "start_time": "2019-12-12T03:01:51.996Z"
    }
   },
   "outputs": [
    {
     "name": "stdout",
     "output_type": "stream",
     "text": [
      "The compound rate of growth of real GNP is  3.066065 %.\n",
      "The compound rate of growth of labor force participation rate is  5.442965 %.\n",
      "The compound rate of growth of S&P 500 index is  4.665566 %.\n",
      "The compound rate of growth of S&P 500 index (quarterly) is  1.146523 %.\n"
     ]
    }
   ],
   "source": [
    "cat('The compound rate of growth of real GNP is ',(exp(0.0302)-1)*100, '%.\\n')\n",
    "cat('The compound rate of growth of labor force participation rate is ',(exp(0.053)-1)*100, '%.\\n')\n",
    "cat('The compound rate of growth of S&P 500 index is ',(exp(0.0456)-1)*100, '%.\\n')\n",
    "cat('The compound rate of growth of S&P 500 index (quarterly) is ',(exp(0.0114)-1)*100, '%.\\n')"
   ]
  },
  {
   "cell_type": "markdown",
   "metadata": {},
   "source": [
    "# (5 points) Question 17\n",
    "\n",
    "XYZ Realty sells homes along the East Coast of the United States. One of the questions most frequently asked by prospective buyers is: If we purchase this home, how much can we expect to pay to heat it during the winter? The research department at XYZ has been asked to develop some guidelines regarding heating costs for single-family homes. \n",
    "\n",
    "Four variables are thought to relate to the heating costs: \n",
    "   -  the mean daily outside temperature, \n",
    "   -  the number of inches of insulation in the attic, \n",
    "   -  the age in years of the furnace, and\n",
    "   -  whether the home has a garage or not \n",
    "\n",
    "To investigate, XYZ’s research department selected a random sample of 20 recently sold homes. It determined the cost to heat each home last January, as well as the January outside temperature in the region, the number of inches of insulation in the attic, the age of the furnace, and whether the home has a garage or not. The sample information is reported in CSV file Question17. Build a multiple regression model using the stepwise variable selection technique.\n",
    "\n"
   ]
  },
  {
   "cell_type": "code",
   "execution_count": 5,
   "metadata": {
    "ExecuteTime": {
     "end_time": "2019-12-13T00:39:59.303406Z",
     "start_time": "2019-12-13T00:39:59.274Z"
    },
    "scrolled": true
   },
   "outputs": [],
   "source": [
    "setwd(\"D:/BAX441/Final Exam\")\n",
    "Q17<-read.csv('Question17.csv')\n",
    "cost<-Q17[,1]\n",
    "temp<-Q17[,2]\n",
    "insul<-Q17[,3]\n",
    "age<-Q17[,4]\n",
    "garage<-ifelse(Q17[,5]=='Yes',1,0)"
   ]
  },
  {
   "cell_type": "code",
   "execution_count": 6,
   "metadata": {
    "ExecuteTime": {
     "end_time": "2019-12-13T00:40:00.549738Z",
     "start_time": "2019-12-13T00:40:00.512Z"
    }
   },
   "outputs": [
    {
     "data": {
      "text/html": [
       "<dl class=dl-horizontal>\n",
       "\t<dt>temp</dt>\n",
       "\t\t<dd>1.59494797881867</dd>\n",
       "\t<dt>insul</dt>\n",
       "\t\t<dd>1.08313126161829</dd>\n",
       "\t<dt>age</dt>\n",
       "\t\t<dd>1.37866907691764</dd>\n",
       "\t<dt>garage</dt>\n",
       "\t\t<dd>1.51435731055554</dd>\n",
       "</dl>\n"
      ],
      "text/latex": [
       "\\begin{description*}\n",
       "\\item[temp] 1.59494797881867\n",
       "\\item[insul] 1.08313126161829\n",
       "\\item[age] 1.37866907691764\n",
       "\\item[garage] 1.51435731055554\n",
       "\\end{description*}\n"
      ],
      "text/markdown": [
       "temp\n",
       ":   1.59494797881867insul\n",
       ":   1.08313126161829age\n",
       ":   1.37866907691764garage\n",
       ":   1.51435731055554\n",
       "\n"
      ],
      "text/plain": [
       "    temp    insul      age   garage \n",
       "1.594948 1.083131 1.378669 1.514357 "
      ]
     },
     "metadata": {},
     "output_type": "display_data"
    }
   ],
   "source": [
    "### First run a regression model with all variables for a quick check \n",
    "### for multicollinearity\n",
    "model_sol_ex_17 <- lm(cost ~ temp + insul + age + garage )\n",
    "\n",
    "car::vif(model_sol_ex_17) ### No evidence of multicollinearity \n"
   ]
  },
  {
   "cell_type": "code",
   "execution_count": 10,
   "metadata": {
    "ExecuteTime": {
     "end_time": "2019-12-13T00:46:03.429531Z",
     "start_time": "2019-12-13T00:46:03.308Z"
    }
   },
   "outputs": [
    {
     "name": "stdout",
     "output_type": "stream",
     "text": [
      "Stepwise Selection Method   \n",
      "---------------------------\n",
      "\n",
      "Candidate Terms: \n",
      "\n",
      "1. temp \n",
      "2. insul \n",
      "3. age \n",
      "4. garage \n",
      "\n",
      "We are selecting variables based on p value...\n",
      "\n",
      "Variables Entered/Removed: \n",
      "\n",
      "- temp added \n",
      "- garage added \n",
      "- insul added \n",
      "\n",
      "No more variables to be added/removed.\n",
      "\n",
      "\n",
      "Final Model Output \n",
      "------------------\n",
      "\n",
      "                         Model Summary                           \n",
      "----------------------------------------------------------------\n",
      "R                       0.933       RMSE                 41.618 \n",
      "R-Squared               0.870       Coef. Var            20.277 \n",
      "Adj. R-Squared          0.845       MSE                1732.093 \n",
      "Pred R-Squared          0.800       MAE                  32.193 \n",
      "----------------------------------------------------------------\n",
      " RMSE: Root Mean Square Error \n",
      " MSE: Mean Square Error \n",
      " MAE: Mean Absolute Error \n",
      "\n",
      "                                ANOVA                                  \n",
      "----------------------------------------------------------------------\n",
      "                  Sum of                                              \n",
      "                 Squares        DF    Mean Square      F         Sig. \n",
      "----------------------------------------------------------------------\n",
      "Regression    185202.269         3      61734.090    35.641    0.0000 \n",
      "Residual       27713.481        16       1732.093                     \n",
      "Total         212915.750        19                                    \n",
      "----------------------------------------------------------------------\n",
      "\n",
      "                                    Parameter Estimates                                     \n",
      "-------------------------------------------------------------------------------------------\n",
      "      model       Beta    Std. Error    Std. Beta      t        Sig       lower      upper \n",
      "-------------------------------------------------------------------------------------------\n",
      "(Intercept)    393.666        45.001                  8.748    0.000    298.267    489.064 \n",
      "       temp     -3.963         0.653       -0.652    -6.072    0.000     -5.346     -2.579 \n",
      "     garage     77.432        22.783        0.368     3.399    0.004     29.135    125.730 \n",
      "      insul    -11.334         4.002       -0.265    -2.832    0.012    -19.817     -2.851 \n",
      "-------------------------------------------------------------------------------------------\n"
     ]
    }
   ],
   "source": [
    "### Store all vars + Dummy in a separate dataframe. \n",
    "### Could have included in the original dataframe...\n",
    "df_SolvedEx17 <- data.frame(cost, temp, insul, age, garage)\n",
    "\n",
    "### Run Stepwise Regression\n",
    "model <- lm(cost ~ ., data = df_SolvedEx17)\n",
    "k <- olsrr::ols_step_both_p(model, prem = 0.10, pent = 0.10, details = FALSE)\n",
    "#plot(k)"
   ]
  },
  {
   "cell_type": "code",
   "execution_count": 9,
   "metadata": {
    "ExecuteTime": {
     "end_time": "2019-12-13T00:44:32.839134Z",
     "start_time": "2019-12-13T00:44:32.739Z"
    },
    "scrolled": false
   },
   "outputs": [
    {
     "data": {
      "text/plain": [
       "\n",
       "Call:\n",
       "lm(formula = cost ~ temp + insul + garage)\n",
       "\n",
       "Residuals:\n",
       "    Min      1Q  Median      3Q     Max \n",
       "-63.171 -32.194   0.056  29.111  64.829 \n",
       "\n",
       "Coefficients:\n",
       "            Estimate Std. Error t value Pr(>|t|)    \n",
       "(Intercept) 393.6657    45.0013   8.748 1.71e-07 ***\n",
       "temp         -3.9628     0.6527  -6.072 1.62e-05 ***\n",
       "insul       -11.3340     4.0015  -2.832  0.01201 *  \n",
       "garage       77.4321    22.7828   3.399  0.00367 ** \n",
       "---\n",
       "Signif. codes:  0 '***' 0.001 '**' 0.01 '*' 0.05 '.' 0.1 ' ' 1\n",
       "\n",
       "Residual standard error: 41.62 on 16 degrees of freedom\n",
       "Multiple R-squared:  0.8698,\tAdjusted R-squared:  0.8454 \n",
       "F-statistic: 35.64 on 3 and 16 DF,  p-value: 2.586e-07\n"
      ]
     },
     "metadata": {},
     "output_type": "display_data"
    },
    {
     "data": {
      "image/png": "[encoded data removed]",
      "text/plain": [
       "plot without title"
      ]
     },
     "metadata": {},
     "output_type": "display_data"
    }
   ],
   "source": [
    "### Consider selected variables only and create a separate data frame\n",
    "df_sel_var_17 <- data.frame(cost, temp, insul,garage)\n",
    "\n",
    "### Quickly create a scatterplot to see if there is any evidence of nonlinearity.\n",
    "pairs(df_sel_var_17, panel = panel.smooth)\n",
    "\n",
    "model_sol_ex_17a <- lm(cost ~ temp + insul+garage)\n",
    "summary(model_sol_ex_17a)"
   ]
  },
  {
   "cell_type": "code",
   "execution_count": 15,
   "metadata": {
    "ExecuteTime": {
     "end_time": "2019-12-13T01:00:41.393963Z",
     "start_time": "2019-12-13T01:00:41.367Z"
    }
   },
   "outputs": [
    {
     "data": {
      "text/plain": [
       "\n",
       "Call:\n",
       "lm(formula = cost ~ temp + insul + garage)\n",
       "\n",
       "Coefficients:\n",
       "(Intercept)         temp        insul       garage  \n",
       "    393.666       -3.963      -11.334       77.432  \n",
       "\n",
       "\n",
       "ASSESSMENT OF THE LINEAR MODEL ASSUMPTIONS\n",
       "USING THE GLOBAL TEST ON 4 DEGREES-OF-FREEDOM:\n",
       "Level of Significance =  0.05 \n",
       "\n",
       "Call:\n",
       " gvlma::gvlma(x = model_sol_ex_17a) \n",
       "\n",
       "                      Value p-value                Decision\n",
       "Global Stat        2.229191  0.6937 Assumptions acceptable.\n",
       "Skewness           0.002617  0.9592 Assumptions acceptable.\n",
       "Kurtosis           1.031894  0.3097 Assumptions acceptable.\n",
       "Link Function      0.128627  0.7199 Assumptions acceptable.\n",
       "Heteroscedasticity 1.066053  0.3018 Assumptions acceptable."
      ]
     },
     "metadata": {},
     "output_type": "display_data"
    }
   ],
   "source": [
    "gvlma::gvlma(model_sol_ex_17a)"
   ]
  },
  {
   "cell_type": "markdown",
   "metadata": {},
   "source": [
    "# (5 points) Question 18\n",
    "\n",
    "In evaluating the performance of new hires, the HR division found that candidates with higher scores on its qualifying exam performed better. In a multiple regression that also used the education of the new hire as a regressor variable, the slope for the test score was zero. How can you explain this paradox to the HR manager?\n"
   ]
  },
  {
   "cell_type": "markdown",
   "metadata": {},
   "source": [
    "**ANSWER**\n",
    "\n",
    "Maybe there is multicollinearity between education level and the test score because people who obtain higher education degree may be smarter than who do not. Thus, in the multiple regression, the test score is explained by education level and cannot be used to predict the performance."
   ]
  },
  {
   "cell_type": "markdown",
   "metadata": {},
   "source": [
    "# (5 points) Question 19\n",
    "\n",
    "Managers in the HR department suspect that sick-day absentee rates are higher on some weekdays than others. What test cam they use to investigate this claim?\n",
    "\n"
   ]
  },
  {
   "cell_type": "markdown",
   "metadata": {},
   "source": [
    "**ANSWER**\n",
    "\n",
    "1-way ANOVA"
   ]
  },
  {
   "cell_type": "markdown",
   "metadata": {},
   "source": [
    "# (5 points) Question 20\n",
    "\n",
    "A manager in the previous question thinks that the absentee rate is the same on Monday and Friday, but different from the rate on Tuesday and Thursday. What method should she use to test her suspicion?\n"
   ]
  },
  {
   "cell_type": "markdown",
   "metadata": {},
   "source": [
    "**ANSWER**\n",
    "\n",
    "Multiple regression with dummy variable."
   ]
  }
 ],
 "metadata": {
  "kernelspec": {
   "display_name": "R",
   "language": "R",
   "name": "ir"
  },
  "language_info": {
   "codemirror_mode": "r",
   "file_extension": ".r",
   "mimetype": "text/x-r-source",
   "name": "R",
   "pygments_lexer": "r",
   "version": "3.6.1"
  },
  "toc": {
   "base_numbering": 1,
   "nav_menu": {},
   "number_sections": true,
   "sideBar": true,
   "skip_h1_title": false,
   "title_cell": "Table of Contents",
   "title_sidebar": "Contents",
   "toc_cell": false,
   "toc_position": {
    "height": "calc(100% - 180px)",
    "left": "10px",
    "top": "150px",
    "width": "256px"
   },
   "toc_section_display": true,
   "toc_window_display": true
  }
 },
 "nbformat": 4,
 "nbformat_minor": 2
}
