{
 "cells": [
  {
   "cell_type": "markdown",
   "metadata": {},
   "source": [
    "Please initial each line before you start\n",
    "\n",
    "_XZ___   The effort on this exam is entirely of my own.\n",
    "\n",
    "_XZ_____   I will not discuss any part of this exam with anyone from the class or out of the class \n",
    "               (roommates, classmates, friends, acquaintances, etc..) \n",
    "\n",
    "_XZ____   I will not seek any sort of assistance or advice from anyone other than the primary \n",
    "               instructor.\n",
    "\n",
    "Please sign below\n",
    "\n",
    "I understand that if I violate the honor code or if there is any suspicion of violation, \n",
    "then I and others involved will be reported to the UC Davis Office of Judicial Affairs, \n",
    "which will then open a case for investigation. Until a decision is made, my grade will \n",
    "be on hold.\n",
    "\n",
    "_Xingxuan Zhang 11/19/2019______________________________________ \n",
    "\n",
    "Sign and Date\n"
   ]
  },
  {
   "cell_type": "markdown",
   "metadata": {},
   "source": [
    "Instructions:\n",
    "\n",
    "a.\tPlease state your hypotheses formally (using symbols), except for nonparametric tests. Points will NOT be awarded for hypothesis not written formally (using symbols). For example, it is not sufficient to say that correlation exists or correlation does not exist. You need to write this formally using the appropriate population parameter symbol and the correct sign.\n",
    "\n",
    "b.\tPlease submit your R code and a Word document stating your hypotheses and your interpretations.\n",
    "\n",
    "c.\tIf you make assumptions, please state them clearly.\n"
   ]
  },
  {
   "cell_type": "code",
   "execution_count": 59,
   "metadata": {
    "ExecuteTime": {
     "end_time": "2019-11-22T06:07:12.782062Z",
     "start_time": "2019-11-22T06:07:08.465Z"
    },
    "collapsed": true
   },
   "outputs": [
    {
     "name": "stdout",
     "output_type": "stream",
     "text": [
      "package 'pwr2' successfully unpacked and MD5 sums checked\n",
      "\n",
      "The downloaded binary packages are in\n",
      "\tC:\\Users\\xingxuan_dell\\AppData\\Local\\Temp\\RtmpgPwGpn\\downloaded_packages\n"
     ]
    }
   ],
   "source": [
    "install.packages('pwr2')"
   ]
  },
  {
   "cell_type": "code",
   "execution_count": 12,
   "metadata": {
    "ExecuteTime": {
     "end_time": "2019-11-27T18:49:54.291713Z",
     "start_time": "2019-11-27T18:49:53.070Z"
    },
    "collapsed": true
   },
   "outputs": [
    {
     "name": "stderr",
     "output_type": "stream",
     "text": [
      "PMCMR is superseded by PMCMRplus and will be no longer maintained. You may wish to install PMCMRplus instead.\n",
      "\n",
      "Attaching package: 'reshape'\n",
      "\n",
      "The following objects are masked from 'package:reshape2':\n",
      "\n",
      "    colsplit, melt, recast\n",
      "\n",
      "Registered S3 methods overwritten by 'ggplot2':\n",
      "  method         from \n",
      "  [.quosures     rlang\n",
      "  c.quosures     rlang\n",
      "  print.quosures rlang\n",
      "Registered S3 method overwritten by 'rvest':\n",
      "  method            from\n",
      "  read_xml.response xml2\n",
      "-- Attaching packages --------------------------------------- tidyverse 1.2.1 --\n",
      "v ggplot2 3.1.1     v purrr   0.3.2\n",
      "v tibble  2.1.1     v dplyr   0.8.3\n",
      "v tidyr   0.8.3     v stringr 1.4.0\n",
      "v readr   1.3.1     v forcats 0.4.0\n",
      "-- Conflicts ------------------------------------------ tidyverse_conflicts() --\n",
      "x tidyr::expand() masks reshape::expand()\n",
      "x dplyr::filter() masks stats::filter()\n",
      "x dplyr::lag()    masks stats::lag()\n",
      "x dplyr::rename() masks reshape::rename()\n",
      "Loading required package: lattice\n"
     ]
    }
   ],
   "source": [
    "library(stats)\n",
    "library(PMCMR)\n",
    "library(reshape2)\n",
    "library(reshape)\n",
    "library(tidyverse)\n",
    "library(PASWR2)\n",
    "library(pwr2)"
   ]
  },
  {
   "cell_type": "markdown",
   "metadata": {},
   "source": [
    "# (20 points) Question 1\n",
    "As more and more companies use the Internet for advertising, click fraud has become a major concern. When a search engine, say, in this case, Google, places an ad for a company with its search results, the company pays a fee to Google each time someone clicks on the link. That’s fine when it’s a person who’s interested in buying a product or service, but not so good when it’s a computer program pretending to be a customer. An analysis of 1,200 clicks coming into a company’s site during a week identified 175 of these clicks as fraudulent.\n"
   ]
  },
  {
   "cell_type": "markdown",
   "metadata": {},
   "source": [
    "## a.\t(5 points) Under what conditions does it make sense to treat these 1,200 clicks as a sample? What would be the population? \n",
    "\n"
   ]
  },
  {
   "cell_type": "markdown",
   "metadata": {},
   "source": [
    "These 1,200 clicks must be randomly selected from the population.\n",
    "\n",
    "The population would be the all clicks during the week, or if the week data can infer the entire time frame, the population would be the all clicks Goolde has. "
   ]
  },
  {
   "cell_type": "markdown",
   "metadata": {},
   "source": [
    "## b.\t(10 points) Show the 95% confidence interval for the population proportion of fraudulent clicks in a form suitable for sharing with a nontechnical audience. \n"
   ]
  },
  {
   "cell_type": "code",
   "execution_count": 4,
   "metadata": {
    "ExecuteTime": {
     "end_time": "2019-11-20T08:54:47.586667Z",
     "start_time": "2019-11-20T08:54:47.555Z"
    }
   },
   "outputs": [
    {
     "name": "stdout",
     "output_type": "stream",
     "text": [
      "The 95% confidence interval for the population proportion of fraudulent clicks is ( 0.1258643 ,  0.1658024 )."
     ]
    }
   ],
   "source": [
    "p_hat <-175/1200\n",
    "z<-qnorm(0.975,0,1)\n",
    "\n",
    "lower_limit<- p_hat-z*sqrt(p_hat*(1-p_hat)/1200)\n",
    "upper_limit<- p_hat+z*sqrt(p_hat*(1-p_hat)/1200)\n",
    "\n",
    "cat('The 95% confidence interval for the population proportion of fraudulent clicks is (',lower_limit,', ',upper_limit,').')"
   ]
  },
  {
   "cell_type": "markdown",
   "metadata": {},
   "source": [
    "\n",
    "## c.\t(5 points) If a company pays Google 4.50 for each click, give a confidence interval for the mean cost due to fraud per click.\n"
   ]
  },
  {
   "cell_type": "code",
   "execution_count": 6,
   "metadata": {
    "ExecuteTime": {
     "end_time": "2019-11-20T08:56:34.050499Z",
     "start_time": "2019-11-20T08:56:34.027Z"
    }
   },
   "outputs": [
    {
     "name": "stdout",
     "output_type": "stream",
     "text": [
      "The 95% confidence interval for the mean cost due to fraud per click is ( 0.5663893 ,  0.7461107 )."
     ]
    }
   ],
   "source": [
    "cat('The 95% confidence interval for the mean cost due to fraud per click is (',lower_limit*4.5,', ',upper_limit*4.5,').')"
   ]
  },
  {
   "cell_type": "markdown",
   "metadata": {},
   "source": [
    "# (20 points) Question 2\n",
    "Ten judges were asked to test the quality of four different brands of orange juice. The judges assigned scores using a 5-point scale where 1 = Bad, 2 = Poor, 3 = Average, 4 = Good, and 5 = Excellent. The results are shown on the CSV file Question 2. Run an appropriate statistical method to conclude at the 5% significance level if there are differences in sensory quality between the four brands of orange juice.\n"
   ]
  },
  {
   "cell_type": "code",
   "execution_count": 3,
   "metadata": {
    "ExecuteTime": {
     "end_time": "2019-11-22T01:25:50.153577Z",
     "start_time": "2019-11-22T01:25:50.112Z"
    },
    "scrolled": true
   },
   "outputs": [
    {
     "data": {
      "text/html": [
       "<table>\n",
       "<thead><tr><th scope=col>Judge</th><th scope=col>OJ.1</th><th scope=col>OJ.2</th><th scope=col>OJ.3</th><th scope=col>OJ.4</th></tr></thead>\n",
       "<tbody>\n",
       "\t<tr><td> 1</td><td>3 </td><td>5 </td><td>4 </td><td>3 </td></tr>\n",
       "\t<tr><td> 2</td><td>2 </td><td>3 </td><td>5 </td><td>4 </td></tr>\n",
       "\t<tr><td> 3</td><td>4 </td><td>4 </td><td>3 </td><td>4 </td></tr>\n",
       "\t<tr><td> 4</td><td>3 </td><td>4 </td><td>5 </td><td>2 </td></tr>\n",
       "\t<tr><td> 5</td><td>2 </td><td>4 </td><td>4 </td><td>3 </td></tr>\n",
       "\t<tr><td> 6</td><td>4 </td><td>5 </td><td>5 </td><td>3 </td></tr>\n",
       "\t<tr><td> 7</td><td>3 </td><td>3 </td><td>4 </td><td>4 </td></tr>\n",
       "\t<tr><td> 8</td><td>2 </td><td>3 </td><td>3 </td><td>3 </td></tr>\n",
       "\t<tr><td> 9</td><td>4 </td><td>3 </td><td>5 </td><td>4 </td></tr>\n",
       "\t<tr><td>10</td><td>2 </td><td>4 </td><td>5 </td><td>3 </td></tr>\n",
       "</tbody>\n",
       "</table>\n"
      ],
      "text/latex": [
       "\\begin{tabular}{r|lllll}\n",
       " Judge & OJ.1 & OJ.2 & OJ.3 & OJ.4\\\\\n",
       "\\hline\n",
       "\t  1 & 3  & 5  & 4  & 3 \\\\\n",
       "\t  2 & 2  & 3  & 5  & 4 \\\\\n",
       "\t  3 & 4  & 4  & 3  & 4 \\\\\n",
       "\t  4 & 3  & 4  & 5  & 2 \\\\\n",
       "\t  5 & 2  & 4  & 4  & 3 \\\\\n",
       "\t  6 & 4  & 5  & 5  & 3 \\\\\n",
       "\t  7 & 3  & 3  & 4  & 4 \\\\\n",
       "\t  8 & 2  & 3  & 3  & 3 \\\\\n",
       "\t  9 & 4  & 3  & 5  & 4 \\\\\n",
       "\t 10 & 2  & 4  & 5  & 3 \\\\\n",
       "\\end{tabular}\n"
      ],
      "text/markdown": [
       "\n",
       "| Judge | OJ.1 | OJ.2 | OJ.3 | OJ.4 |\n",
       "|---|---|---|---|---|\n",
       "|  1 | 3  | 5  | 4  | 3  |\n",
       "|  2 | 2  | 3  | 5  | 4  |\n",
       "|  3 | 4  | 4  | 3  | 4  |\n",
       "|  4 | 3  | 4  | 5  | 2  |\n",
       "|  5 | 2  | 4  | 4  | 3  |\n",
       "|  6 | 4  | 5  | 5  | 3  |\n",
       "|  7 | 3  | 3  | 4  | 4  |\n",
       "|  8 | 2  | 3  | 3  | 3  |\n",
       "|  9 | 4  | 3  | 5  | 4  |\n",
       "| 10 | 2  | 4  | 5  | 3  |\n",
       "\n"
      ],
      "text/plain": [
       "   Judge OJ.1 OJ.2 OJ.3 OJ.4\n",
       "1   1    3    5    4    3   \n",
       "2   2    2    3    5    4   \n",
       "3   3    4    4    3    4   \n",
       "4   4    3    4    5    2   \n",
       "5   5    2    4    4    3   \n",
       "6   6    4    5    5    3   \n",
       "7   7    3    3    4    4   \n",
       "8   8    2    3    3    3   \n",
       "9   9    4    3    5    4   \n",
       "10 10    2    4    5    3   "
      ]
     },
     "metadata": {},
     "output_type": "display_data"
    }
   ],
   "source": [
    "setwd(\"D:/BAX441/Midterm Exam\")\n",
    "Q2<-read.csv('Question2.csv')\n",
    "Q2"
   ]
  },
  {
   "cell_type": "markdown",
   "metadata": {},
   "source": [
    "**Requirement Test**\n",
    "#1. Randomly selected sample - Satisfy\n",
    "#2. Normality - Unsatisfy, because the data is ordinal data\n",
    "\n",
    "**Nonparametric Test: Friedman Test (Random Block Design)** \n",
    "\n",
    "Test the Treatment Effect:\n",
    "\n",
    "$𝐻_{0}$:$\\mu_{1}$=$\\mu_{2}$=$\\mu_{3}$=$\\mu_{4}$\n",
    "\n",
    "$𝐻_{1}$:At least two means differ\n",
    "\n",
    "where $\\mu$ is the mean score of the juice\n",
    "\n",
    "Significant Level: 5%"
   ]
  },
  {
   "cell_type": "code",
   "execution_count": 7,
   "metadata": {
    "ExecuteTime": {
     "end_time": "2019-11-22T01:32:56.965383Z",
     "start_time": "2019-11-22T01:32:56.924Z"
    }
   },
   "outputs": [
    {
     "data": {
      "text/plain": [
       "\n",
       "\tFriedman rank sum test\n",
       "\n",
       "data:  rating, type and block\n",
       "Friedman chi-squared = 10.953, df = 3, p-value = 0.01198\n"
      ]
     },
     "metadata": {},
     "output_type": "display_data"
    },
    {
     "data": {
      "text/plain": [
       "\n",
       "\tPairwise comparisons using Nemenyi multiple comparison test\t\n",
       "             with q approximation for unreplicated blocked data \n",
       "\n",
       "data:  rating , type and block \n",
       "\n",
       "     OJ.1  OJ.2  OJ.3 \n",
       "OJ.2 0.226 -     -    \n",
       "OJ.3 0.017 0.726 -    \n",
       "OJ.4 0.726 0.822 0.226\n",
       "\n",
       "P value adjustment method: none "
      ]
     },
     "metadata": {},
     "output_type": "display_data"
    },
    {
     "name": "stdout",
     "output_type": "stream",
     "text": [
      "[1] \"At 5% significant level, there is enough evidence to say there are differences among these four brands. With the host hoc test fro the Friedman Test, we can find that the Brand 1 is different from the brand 3.\"\n"
     ]
    }
   ],
   "source": [
    "############Prepare Data##################################\n",
    "df <- melt(Q2, id=\"Judge\")\n",
    "colnames(df)<-c('Judge','Brands','Rate')\n",
    "block<-as.factor(df$Judge)\n",
    "type<-as.factor(df$Brands)\n",
    "rating<-df$Rate\n",
    "\n",
    "#############Friedman Test (Nonparametric Test for Random Block Design)###################3\n",
    "friedman.test(rating,type,block)\n",
    "posthoc.friedman.nemenyi.test(rating,type,block)\n",
    "\n",
    "############Conclusion#####################################\n",
    "print('At 5% significant level, there is enough evidence to say there are differences among these four brands. With the host hoc test fro the Friedman Test, we can find that the Brand 1 is different from the brand 3.')\n"
   ]
  },
  {
   "cell_type": "markdown",
   "metadata": {},
   "source": [
    "# (20 points) Question 3\n",
    "Consider the data from the General Social Survey (2014). The dataset is available on the CSV file Question3. Can we infer from the data that jobs that are most secure (JOBLOSE: 1 =Very likely, 2 = Fairly likely, 3 = Not too likely, 4 = Not likely) are also the most satisfying (SATJOB: 1 = Very satisfied, 2 = Moderately satisfied, 3 = A little dissatisfied, 4 = Very dissatisfied)? SEX: 1 = MALE, 2 = FEMALE).\n"
   ]
  },
  {
   "cell_type": "code",
   "execution_count": 8,
   "metadata": {
    "ExecuteTime": {
     "end_time": "2019-11-22T01:33:35.274710Z",
     "start_time": "2019-11-22T01:33:35.208Z"
    },
    "collapsed": true
   },
   "outputs": [
    {
     "data": {
      "text/html": [
       "<table>\n",
       "<thead><tr><th scope=col>CASEID</th><th scope=col>SEX</th><th scope=col>AGE</th><th scope=col>JOBLOSE</th><th scope=col>SATJOB</th></tr></thead>\n",
       "<tbody>\n",
       "\t<tr><td>57062</td><td>1    </td><td>53   </td><td>NA   </td><td> 2   </td></tr>\n",
       "\t<tr><td>57063</td><td>2    </td><td>26   </td><td>NA   </td><td> 2   </td></tr>\n",
       "\t<tr><td>57064</td><td>1    </td><td>59   </td><td>NA   </td><td> 1   </td></tr>\n",
       "\t<tr><td>57065</td><td>2    </td><td>56   </td><td> 4   </td><td> 1   </td></tr>\n",
       "\t<tr><td>57066</td><td>2    </td><td>74   </td><td>NA   </td><td>NA   </td></tr>\n",
       "\t<tr><td>57067</td><td>2    </td><td>56   </td><td> 4   </td><td> 2   </td></tr>\n",
       "\t<tr><td>57068</td><td>1    </td><td>63   </td><td>NA   </td><td>NA   </td></tr>\n",
       "\t<tr><td>57069</td><td>1    </td><td>34   </td><td> 3   </td><td> 2   </td></tr>\n",
       "\t<tr><td>57070</td><td>2    </td><td>37   </td><td>NA   </td><td>NA   </td></tr>\n",
       "\t<tr><td>57071</td><td>2    </td><td>30   </td><td>NA   </td><td> 1   </td></tr>\n",
       "\t<tr><td>57072</td><td>2    </td><td>43   </td><td>NA   </td><td> 3   </td></tr>\n",
       "\t<tr><td>57073</td><td>1    </td><td>56   </td><td>NA   </td><td>NA   </td></tr>\n",
       "\t<tr><td>57074</td><td>1    </td><td>69   </td><td>NA   </td><td>NA   </td></tr>\n",
       "\t<tr><td>57075</td><td>2    </td><td>40   </td><td> 4   </td><td> 2   </td></tr>\n",
       "\t<tr><td>57076</td><td>2    </td><td>25   </td><td>NA   </td><td>NA   </td></tr>\n",
       "\t<tr><td>57077</td><td>1    </td><td>56   </td><td> 4   </td><td> 1   </td></tr>\n",
       "\t<tr><td>57078</td><td>2    </td><td>51   </td><td>NA   </td><td> 1   </td></tr>\n",
       "\t<tr><td>57079</td><td>1    </td><td>46   </td><td>NA   </td><td> 1   </td></tr>\n",
       "\t<tr><td>57080</td><td>1    </td><td>51   </td><td> 3   </td><td> 2   </td></tr>\n",
       "\t<tr><td>57081</td><td>2    </td><td>39   </td><td>NA   </td><td> 2   </td></tr>\n",
       "\t<tr><td>57082</td><td>2    </td><td>30   </td><td> 4   </td><td> 1   </td></tr>\n",
       "\t<tr><td>57083</td><td>2    </td><td>36   </td><td>NA   </td><td> 2   </td></tr>\n",
       "\t<tr><td>57084</td><td>2    </td><td>42   </td><td>NA   </td><td> 4   </td></tr>\n",
       "\t<tr><td>57085</td><td>1    </td><td>38   </td><td>NA   </td><td>NA   </td></tr>\n",
       "\t<tr><td>57086</td><td>2    </td><td>38   </td><td>NA   </td><td> 2   </td></tr>\n",
       "\t<tr><td>57087</td><td>2    </td><td>28   </td><td>NA   </td><td> 3   </td></tr>\n",
       "\t<tr><td>57088</td><td>1    </td><td>35   </td><td> 3   </td><td> 2   </td></tr>\n",
       "\t<tr><td>57089</td><td>1    </td><td>57   </td><td> 4   </td><td> 3   </td></tr>\n",
       "\t<tr><td>57090</td><td>1    </td><td>50   </td><td>NA   </td><td> 1   </td></tr>\n",
       "\t<tr><td>57091</td><td>1    </td><td>54   </td><td>NA   </td><td> 3   </td></tr>\n",
       "\t<tr><td>...</td><td>...</td><td>...</td><td>...</td><td>...</td></tr>\n",
       "\t<tr><td>59570</td><td>2    </td><td>38   </td><td> 3   </td><td> 2   </td></tr>\n",
       "\t<tr><td>59571</td><td>1    </td><td>46   </td><td> 4   </td><td> 1   </td></tr>\n",
       "\t<tr><td>59572</td><td>2    </td><td>49   </td><td>NA   </td><td> 2   </td></tr>\n",
       "\t<tr><td>59573</td><td>1    </td><td>34   </td><td> 4   </td><td> 2   </td></tr>\n",
       "\t<tr><td>59574</td><td>2    </td><td>54   </td><td>NA   </td><td> 1   </td></tr>\n",
       "\t<tr><td>59575</td><td>2    </td><td>34   </td><td> 4   </td><td> 2   </td></tr>\n",
       "\t<tr><td>59576</td><td>2    </td><td>69   </td><td>NA   </td><td>NA   </td></tr>\n",
       "\t<tr><td>59577</td><td>2    </td><td>36   </td><td> 2   </td><td> 3   </td></tr>\n",
       "\t<tr><td>59578</td><td>1    </td><td>65   </td><td> 4   </td><td> 1   </td></tr>\n",
       "\t<tr><td>59579</td><td>2    </td><td>48   </td><td> 4   </td><td> 1   </td></tr>\n",
       "\t<tr><td>59580</td><td>2    </td><td>38   </td><td> 3   </td><td> 1   </td></tr>\n",
       "\t<tr><td>59581</td><td>1    </td><td>30   </td><td>NA   </td><td> 3   </td></tr>\n",
       "\t<tr><td>59582</td><td>2    </td><td>48   </td><td> 3   </td><td> 1   </td></tr>\n",
       "\t<tr><td>59583</td><td>2    </td><td>49   </td><td> 4   </td><td> 2   </td></tr>\n",
       "\t<tr><td>59584</td><td>1    </td><td>54   </td><td>NA   </td><td> 2   </td></tr>\n",
       "\t<tr><td>59585</td><td>1    </td><td>49   </td><td>NA   </td><td> 1   </td></tr>\n",
       "\t<tr><td>59586</td><td>2    </td><td>53   </td><td> 4   </td><td> 1   </td></tr>\n",
       "\t<tr><td>59587</td><td>1    </td><td>52   </td><td> 3   </td><td> 1   </td></tr>\n",
       "\t<tr><td>59588</td><td>1    </td><td>82   </td><td>NA   </td><td>NA   </td></tr>\n",
       "\t<tr><td>59589</td><td>2    </td><td>63   </td><td>NA   </td><td>NA   </td></tr>\n",
       "\t<tr><td>59590</td><td>1    </td><td>54   </td><td> 3   </td><td> 2   </td></tr>\n",
       "\t<tr><td>59591</td><td>1    </td><td>62   </td><td>NA   </td><td> 1   </td></tr>\n",
       "\t<tr><td>59592</td><td>1    </td><td>40   </td><td> 4   </td><td> 2   </td></tr>\n",
       "\t<tr><td>59593</td><td>2    </td><td>33   </td><td>NA   </td><td>NA   </td></tr>\n",
       "\t<tr><td>59594</td><td>2    </td><td>75   </td><td>NA   </td><td>NA   </td></tr>\n",
       "\t<tr><td>59595</td><td>2    </td><td>89   </td><td>NA   </td><td>NA   </td></tr>\n",
       "\t<tr><td>59596</td><td>1    </td><td>56   </td><td> 4   </td><td> 1   </td></tr>\n",
       "\t<tr><td>59597</td><td>1    </td><td>24   </td><td> 4   </td><td> 3   </td></tr>\n",
       "\t<tr><td>59598</td><td>1    </td><td>27   </td><td>NA   </td><td> 2   </td></tr>\n",
       "\t<tr><td>59599</td><td>2    </td><td>71   </td><td> 4   </td><td> 1   </td></tr>\n",
       "</tbody>\n",
       "</table>\n"
      ],
      "text/latex": [
       "\\begin{tabular}{r|lllll}\n",
       " CASEID & SEX & AGE & JOBLOSE & SATJOB\\\\\n",
       "\\hline\n",
       "\t 57062 & 1     & 53    & NA    &  2   \\\\\n",
       "\t 57063 & 2     & 26    & NA    &  2   \\\\\n",
       "\t 57064 & 1     & 59    & NA    &  1   \\\\\n",
       "\t 57065 & 2     & 56    &  4    &  1   \\\\\n",
       "\t 57066 & 2     & 74    & NA    & NA   \\\\\n",
       "\t 57067 & 2     & 56    &  4    &  2   \\\\\n",
       "\t 57068 & 1     & 63    & NA    & NA   \\\\\n",
       "\t 57069 & 1     & 34    &  3    &  2   \\\\\n",
       "\t 57070 & 2     & 37    & NA    & NA   \\\\\n",
       "\t 57071 & 2     & 30    & NA    &  1   \\\\\n",
       "\t 57072 & 2     & 43    & NA    &  3   \\\\\n",
       "\t 57073 & 1     & 56    & NA    & NA   \\\\\n",
       "\t 57074 & 1     & 69    & NA    & NA   \\\\\n",
       "\t 57075 & 2     & 40    &  4    &  2   \\\\\n",
       "\t 57076 & 2     & 25    & NA    & NA   \\\\\n",
       "\t 57077 & 1     & 56    &  4    &  1   \\\\\n",
       "\t 57078 & 2     & 51    & NA    &  1   \\\\\n",
       "\t 57079 & 1     & 46    & NA    &  1   \\\\\n",
       "\t 57080 & 1     & 51    &  3    &  2   \\\\\n",
       "\t 57081 & 2     & 39    & NA    &  2   \\\\\n",
       "\t 57082 & 2     & 30    &  4    &  1   \\\\\n",
       "\t 57083 & 2     & 36    & NA    &  2   \\\\\n",
       "\t 57084 & 2     & 42    & NA    &  4   \\\\\n",
       "\t 57085 & 1     & 38    & NA    & NA   \\\\\n",
       "\t 57086 & 2     & 38    & NA    &  2   \\\\\n",
       "\t 57087 & 2     & 28    & NA    &  3   \\\\\n",
       "\t 57088 & 1     & 35    &  3    &  2   \\\\\n",
       "\t 57089 & 1     & 57    &  4    &  3   \\\\\n",
       "\t 57090 & 1     & 50    & NA    &  1   \\\\\n",
       "\t 57091 & 1     & 54    & NA    &  3   \\\\\n",
       "\t ... & ... & ... & ... & ...\\\\\n",
       "\t 59570 & 2     & 38    &  3    &  2   \\\\\n",
       "\t 59571 & 1     & 46    &  4    &  1   \\\\\n",
       "\t 59572 & 2     & 49    & NA    &  2   \\\\\n",
       "\t 59573 & 1     & 34    &  4    &  2   \\\\\n",
       "\t 59574 & 2     & 54    & NA    &  1   \\\\\n",
       "\t 59575 & 2     & 34    &  4    &  2   \\\\\n",
       "\t 59576 & 2     & 69    & NA    & NA   \\\\\n",
       "\t 59577 & 2     & 36    &  2    &  3   \\\\\n",
       "\t 59578 & 1     & 65    &  4    &  1   \\\\\n",
       "\t 59579 & 2     & 48    &  4    &  1   \\\\\n",
       "\t 59580 & 2     & 38    &  3    &  1   \\\\\n",
       "\t 59581 & 1     & 30    & NA    &  3   \\\\\n",
       "\t 59582 & 2     & 48    &  3    &  1   \\\\\n",
       "\t 59583 & 2     & 49    &  4    &  2   \\\\\n",
       "\t 59584 & 1     & 54    & NA    &  2   \\\\\n",
       "\t 59585 & 1     & 49    & NA    &  1   \\\\\n",
       "\t 59586 & 2     & 53    &  4    &  1   \\\\\n",
       "\t 59587 & 1     & 52    &  3    &  1   \\\\\n",
       "\t 59588 & 1     & 82    & NA    & NA   \\\\\n",
       "\t 59589 & 2     & 63    & NA    & NA   \\\\\n",
       "\t 59590 & 1     & 54    &  3    &  2   \\\\\n",
       "\t 59591 & 1     & 62    & NA    &  1   \\\\\n",
       "\t 59592 & 1     & 40    &  4    &  2   \\\\\n",
       "\t 59593 & 2     & 33    & NA    & NA   \\\\\n",
       "\t 59594 & 2     & 75    & NA    & NA   \\\\\n",
       "\t 59595 & 2     & 89    & NA    & NA   \\\\\n",
       "\t 59596 & 1     & 56    &  4    &  1   \\\\\n",
       "\t 59597 & 1     & 24    &  4    &  3   \\\\\n",
       "\t 59598 & 1     & 27    & NA    &  2   \\\\\n",
       "\t 59599 & 2     & 71    &  4    &  1   \\\\\n",
       "\\end{tabular}\n"
      ],
      "text/markdown": [
       "\n",
       "| CASEID | SEX | AGE | JOBLOSE | SATJOB |\n",
       "|---|---|---|---|---|\n",
       "| 57062 | 1     | 53    | NA    |  2    |\n",
       "| 57063 | 2     | 26    | NA    |  2    |\n",
       "| 57064 | 1     | 59    | NA    |  1    |\n",
       "| 57065 | 2     | 56    |  4    |  1    |\n",
       "| 57066 | 2     | 74    | NA    | NA    |\n",
       "| 57067 | 2     | 56    |  4    |  2    |\n",
       "| 57068 | 1     | 63    | NA    | NA    |\n",
       "| 57069 | 1     | 34    |  3    |  2    |\n",
       "| 57070 | 2     | 37    | NA    | NA    |\n",
       "| 57071 | 2     | 30    | NA    |  1    |\n",
       "| 57072 | 2     | 43    | NA    |  3    |\n",
       "| 57073 | 1     | 56    | NA    | NA    |\n",
       "| 57074 | 1     | 69    | NA    | NA    |\n",
       "| 57075 | 2     | 40    |  4    |  2    |\n",
       "| 57076 | 2     | 25    | NA    | NA    |\n",
       "| 57077 | 1     | 56    |  4    |  1    |\n",
       "| 57078 | 2     | 51    | NA    |  1    |\n",
       "| 57079 | 1     | 46    | NA    |  1    |\n",
       "| 57080 | 1     | 51    |  3    |  2    |\n",
       "| 57081 | 2     | 39    | NA    |  2    |\n",
       "| 57082 | 2     | 30    |  4    |  1    |\n",
       "| 57083 | 2     | 36    | NA    |  2    |\n",
       "| 57084 | 2     | 42    | NA    |  4    |\n",
       "| 57085 | 1     | 38    | NA    | NA    |\n",
       "| 57086 | 2     | 38    | NA    |  2    |\n",
       "| 57087 | 2     | 28    | NA    |  3    |\n",
       "| 57088 | 1     | 35    |  3    |  2    |\n",
       "| 57089 | 1     | 57    |  4    |  3    |\n",
       "| 57090 | 1     | 50    | NA    |  1    |\n",
       "| 57091 | 1     | 54    | NA    |  3    |\n",
       "| ... | ... | ... | ... | ... |\n",
       "| 59570 | 2     | 38    |  3    |  2    |\n",
       "| 59571 | 1     | 46    |  4    |  1    |\n",
       "| 59572 | 2     | 49    | NA    |  2    |\n",
       "| 59573 | 1     | 34    |  4    |  2    |\n",
       "| 59574 | 2     | 54    | NA    |  1    |\n",
       "| 59575 | 2     | 34    |  4    |  2    |\n",
       "| 59576 | 2     | 69    | NA    | NA    |\n",
       "| 59577 | 2     | 36    |  2    |  3    |\n",
       "| 59578 | 1     | 65    |  4    |  1    |\n",
       "| 59579 | 2     | 48    |  4    |  1    |\n",
       "| 59580 | 2     | 38    |  3    |  1    |\n",
       "| 59581 | 1     | 30    | NA    |  3    |\n",
       "| 59582 | 2     | 48    |  3    |  1    |\n",
       "| 59583 | 2     | 49    |  4    |  2    |\n",
       "| 59584 | 1     | 54    | NA    |  2    |\n",
       "| 59585 | 1     | 49    | NA    |  1    |\n",
       "| 59586 | 2     | 53    |  4    |  1    |\n",
       "| 59587 | 1     | 52    |  3    |  1    |\n",
       "| 59588 | 1     | 82    | NA    | NA    |\n",
       "| 59589 | 2     | 63    | NA    | NA    |\n",
       "| 59590 | 1     | 54    |  3    |  2    |\n",
       "| 59591 | 1     | 62    | NA    |  1    |\n",
       "| 59592 | 1     | 40    |  4    |  2    |\n",
       "| 59593 | 2     | 33    | NA    | NA    |\n",
       "| 59594 | 2     | 75    | NA    | NA    |\n",
       "| 59595 | 2     | 89    | NA    | NA    |\n",
       "| 59596 | 1     | 56    |  4    |  1    |\n",
       "| 59597 | 1     | 24    |  4    |  3    |\n",
       "| 59598 | 1     | 27    | NA    |  2    |\n",
       "| 59599 | 2     | 71    |  4    |  1    |\n",
       "\n"
      ],
      "text/plain": [
       "     CASEID SEX AGE JOBLOSE SATJOB\n",
       "1    57062  1   53  NA       2    \n",
       "2    57063  2   26  NA       2    \n",
       "3    57064  1   59  NA       1    \n",
       "4    57065  2   56   4       1    \n",
       "5    57066  2   74  NA      NA    \n",
       "6    57067  2   56   4       2    \n",
       "7    57068  1   63  NA      NA    \n",
       "8    57069  1   34   3       2    \n",
       "9    57070  2   37  NA      NA    \n",
       "10   57071  2   30  NA       1    \n",
       "11   57072  2   43  NA       3    \n",
       "12   57073  1   56  NA      NA    \n",
       "13   57074  1   69  NA      NA    \n",
       "14   57075  2   40   4       2    \n",
       "15   57076  2   25  NA      NA    \n",
       "16   57077  1   56   4       1    \n",
       "17   57078  2   51  NA       1    \n",
       "18   57079  1   46  NA       1    \n",
       "19   57080  1   51   3       2    \n",
       "20   57081  2   39  NA       2    \n",
       "21   57082  2   30   4       1    \n",
       "22   57083  2   36  NA       2    \n",
       "23   57084  2   42  NA       4    \n",
       "24   57085  1   38  NA      NA    \n",
       "25   57086  2   38  NA       2    \n",
       "26   57087  2   28  NA       3    \n",
       "27   57088  1   35   3       2    \n",
       "28   57089  1   57   4       3    \n",
       "29   57090  1   50  NA       1    \n",
       "30   57091  1   54  NA       3    \n",
       "...  ...    ... ... ...     ...   \n",
       "2509 59570  2   38   3       2    \n",
       "2510 59571  1   46   4       1    \n",
       "2511 59572  2   49  NA       2    \n",
       "2512 59573  1   34   4       2    \n",
       "2513 59574  2   54  NA       1    \n",
       "2514 59575  2   34   4       2    \n",
       "2515 59576  2   69  NA      NA    \n",
       "2516 59577  2   36   2       3    \n",
       "2517 59578  1   65   4       1    \n",
       "2518 59579  2   48   4       1    \n",
       "2519 59580  2   38   3       1    \n",
       "2520 59581  1   30  NA       3    \n",
       "2521 59582  2   48   3       1    \n",
       "2522 59583  2   49   4       2    \n",
       "2523 59584  1   54  NA       2    \n",
       "2524 59585  1   49  NA       1    \n",
       "2525 59586  2   53   4       1    \n",
       "2526 59587  1   52   3       1    \n",
       "2527 59588  1   82  NA      NA    \n",
       "2528 59589  2   63  NA      NA    \n",
       "2529 59590  1   54   3       2    \n",
       "2530 59591  1   62  NA       1    \n",
       "2531 59592  1   40   4       2    \n",
       "2532 59593  2   33  NA      NA    \n",
       "2533 59594  2   75  NA      NA    \n",
       "2534 59595  2   89  NA      NA    \n",
       "2535 59596  1   56   4       1    \n",
       "2536 59597  1   24   4       3    \n",
       "2537 59598  1   27  NA       2    \n",
       "2538 59599  2   71   4       1    "
      ]
     },
     "metadata": {},
     "output_type": "display_data"
    }
   ],
   "source": [
    "setwd(\"D:/BAX441/Midterm Exam\")\n",
    "Q3<-read.csv('Question3.csv')\n",
    "Q3"
   ]
  },
  {
   "cell_type": "markdown",
   "metadata": {},
   "source": [
    "**Requirement Test**\n",
    "#1. Randomly selected sample - Satisfy\n",
    "#2. Normality - Unsatisfy, because the data is ordinal data\n",
    "\n",
    "**Nonparametric Test: Spearman Test (Correlationship)** \n",
    "\n",
    "$H_{0}$: $\\rho \\ge 0$\n",
    "\n",
    "$H_{1}$: $\\rho$ < 0\n",
    "\n",
    "where $\\rho$ is the correlationship between SATJOB and JOBLOSE\n",
    "\n",
    "Significant Level: 5%"
   ]
  },
  {
   "cell_type": "code",
   "execution_count": 15,
   "metadata": {
    "ExecuteTime": {
     "end_time": "2019-11-22T03:20:51.385047Z",
     "start_time": "2019-11-22T03:20:51.350Z"
    }
   },
   "outputs": [
    {
     "name": "stderr",
     "output_type": "stream",
     "text": [
      "Warning message in cor.test.default(x = df$JOBLOSE, y = df$SATJOB, method = \"spearman\"):\n",
      "\"Cannot compute exact p-value with ties\""
     ]
    },
    {
     "data": {
      "text/plain": [
       "\n",
       "\tSpearman's rank correlation rho\n",
       "\n",
       "data:  df$JOBLOSE and df$SATJOB\n",
       "S = 215806555, p-value = 2.879e-11\n",
       "alternative hypothesis: true rho is not equal to 0\n",
       "sample estimates:\n",
       "       rho \n",
       "-0.2059142 \n"
      ]
     },
     "metadata": {},
     "output_type": "display_data"
    },
    {
     "name": "stdout",
     "output_type": "stream",
     "text": [
      "[1] \"Yes, at 5% significant level, the joblose and jobsatisfy do have correlation. Since the rho is -0.2059, we can say that the jobs that are more secure are also more satisfying.\"\n"
     ]
    }
   ],
   "source": [
    "############Prepare Data##################################\n",
    "df<-Q3 %>% drop_na(c(\"JOBLOSE\",'SATJOB'))\n",
    "\n",
    "#############Spearman Test (Nonparametric Test for Correlation)###################\n",
    "cor.test(x=df$JOBLOSE, y=df$SATJOB,method='spearman')\n",
    "\n",
    "############Conclusion#####################################\n",
    "print('Yes, at 5% significant level, the joblose and jobsatisfy do have correlation. Since the rho is -0.2059, we can say that the jobs that are more secure are also more satisfying.')"
   ]
  },
  {
   "attachments": {
    "image.png": {
     "image/png": "[encoded data removed]"
    }
   },
   "cell_type": "markdown",
   "metadata": {},
   "source": [
    "# (30 points) Question 4\n",
    "Franchise Tax Board (FTB) in Sacramento regularly hires clerical employees to work on the tax-returns received. The HR group regularly interviews prospective clerical employees and tests their skill at data entry. The following table shows the number of errors made by 60 prospective clerks when entering a tax form with 80 numbers. Conduct a statistical test to determine if the number of errors follow a Poisson distribution.\n",
    "![image.png](attachment:image.png)"
   ]
  },
  {
   "cell_type": "markdown",
   "metadata": {},
   "source": [
    "**Requirement Test**\n",
    "#1.Simple Random Sample:satisfy\n",
    "#2.Contingency table condition: The categories are mutually exclusive and the question made sure that these are 60 different users.\n",
    "#3.Sample size condition: all frequency numbers are >=5\n",
    "\n"
   ]
  },
  {
   "cell_type": "code",
   "execution_count": 31,
   "metadata": {
    "ExecuteTime": {
     "end_time": "2019-11-22T03:57:59.828975Z",
     "start_time": "2019-11-22T03:57:59.801Z"
    }
   },
   "outputs": [
    {
     "data": {
      "text/html": [
       "<ol class=list-inline>\n",
       "\t<li>0.188875602837562</li>\n",
       "\t<li>0.314792671395936</li>\n",
       "\t<li>0.26232722616328</li>\n",
       "\t<li>0.145737347868489</li>\n",
       "\t<li>0.0882671517347324</li>\n",
       "</ol>\n"
      ],
      "text/latex": [
       "\\begin{enumerate*}\n",
       "\\item 0.188875602837562\n",
       "\\item 0.314792671395936\n",
       "\\item 0.26232722616328\n",
       "\\item 0.145737347868489\n",
       "\\item 0.0882671517347324\n",
       "\\end{enumerate*}\n"
      ],
      "text/markdown": [
       "1. 0.188875602837562\n",
       "2. 0.314792671395936\n",
       "3. 0.26232722616328\n",
       "4. 0.145737347868489\n",
       "5. 0.0882671517347324\n",
       "\n",
       "\n"
      ],
      "text/plain": [
       "[1] 0.18887560 0.31479267 0.26232723 0.14573735 0.08826715"
      ]
     },
     "metadata": {},
     "output_type": "display_data"
    }
   ],
   "source": [
    "############Prepare Data######################\n",
    "errors<-c(0,1,2,3,4)\n",
    "clerks<-c(12,20,9,14,5)\n",
    "lambda<-sum(errors*clerks)/60\n",
    "\n",
    "expect<-dpois(errors,lambda)\n",
    "expect[length(expect)]<-(1 -ppois(4 −1, lambda))\n",
    "expect"
   ]
  },
  {
   "cell_type": "markdown",
   "metadata": {},
   "source": [
    "**Categorical Data: Good-Fit Test** \n",
    "\n",
    "$𝐻_{0}$: $𝑝_{0}$ =0.189, $𝑝_{1}$ =0.315, $𝑝_{2}$=0.262, $𝑝_{3}$=0.146, $p_{4+}$=0.088\n",
    "\n",
    "$𝐻_{1}$:At least one proportion differs from the expected Poisson distribution"
   ]
  },
  {
   "cell_type": "code",
   "execution_count": 32,
   "metadata": {
    "ExecuteTime": {
     "end_time": "2019-11-22T03:58:04.136422Z",
     "start_time": "2019-11-22T03:58:04.108Z"
    }
   },
   "outputs": [
    {
     "data": {
      "text/plain": [
       "\n",
       "\tChi-squared test for given probabilities\n",
       "\n",
       "data:  clerks\n",
       "X-squared = 6.1663, df = 4, p-value = 0.1871\n"
      ]
     },
     "metadata": {},
     "output_type": "display_data"
    }
   ],
   "source": [
    "chisq.test(x=clerks,p=expect)"
   ]
  },
  {
   "cell_type": "code",
   "execution_count": 33,
   "metadata": {
    "ExecuteTime": {
     "end_time": "2019-11-22T03:58:38.443050Z",
     "start_time": "2019-11-22T03:58:38.419Z"
    }
   },
   "outputs": [
    {
     "data": {
      "text/html": [
       "0.103793804333187"
      ],
      "text/latex": [
       "0.103793804333187"
      ],
      "text/markdown": [
       "0.103793804333187"
      ],
      "text/plain": [
       "[1] 0.1037938"
      ]
     },
     "metadata": {},
     "output_type": "display_data"
    }
   ],
   "source": [
    "pchisq(6.1663,3,lower.tail=FALSE)"
   ]
  },
  {
   "cell_type": "markdown",
   "metadata": {},
   "source": [
    "**Conclusion** \n",
    "\n",
    "At 5% significant level, the number of errors did not follow a poisson distribution. "
   ]
  },
  {
   "cell_type": "markdown",
   "metadata": {},
   "source": [
    "# (50 points) Question 5\n",
    "Eastern Utility Power, a large electric power company in the Northeastern part of the United States, has just built a modern nuclear power plant. The plant discharges wastewater that is allowed to flow into the Atlantic Ocean. The Environmental Protection Agency (EPA) has ordered that the wastewater may not be excessively warm so that thermal pollution of the marine environment near the plant can be avoided. Because of this order, the wastewater is allowed to cool in specially constructed ponds and is then released into the ocean. The cooling system works properly if the mean temperature of the wastewater discharged is $60^o$  F or cooler. Eastern Utility Power is required to monitor the temperature of the wastewater. A sample of 100 temperature readings will be obtained each day, and if the sample results cast a substantial amount of doubt on the hypothesis that the cooling system is working properly, then the plant must be shut down and appropriate actions must be taken to correct the problem.\n"
   ]
  },
  {
   "cell_type": "markdown",
   "metadata": {},
   "source": [
    "## a.\t(5 points) Eastern Utility Power wishes to set up a hypothesis test so that the power plant will be shut down when the null hypothesis is rejected. Set up the null and alternative hypotheses that should be used. "
   ]
  },
  {
   "cell_type": "markdown",
   "metadata": {},
   "source": [
    "$H_{0}$: $\\mu \\le$ $60^o$ F\n",
    "\n",
    "$H_{1}$: $\\mu > 60^o$ F\n",
    "\n",
    "where $\\mu$ is the average temperature of the wastewater discharged\n",
    "\n",
    "Null hypothesis: the mean temperature of the wastewater discharged is $60^o$ F or cooler, which means the cooling system works.\n",
    "\n",
    "Alternative hypothesis: the mean temperature of the wastewater discharged is higher than $60^o$, which means the cooling systme cannot work well so the power plant will be shut down. "
   ]
  },
  {
   "cell_type": "markdown",
   "metadata": {},
   "source": [
    "## b.\t(5 points) In the context of this situation, interpret making a Type I error; interpret making a Type II error."
   ]
  },
  {
   "cell_type": "markdown",
   "metadata": {},
   "source": [
    "Type I error: The cooling system works and the power plant need not be shut down, but the test rejects this and indicates that the power plant should be shut down. Cost: the company lost its powerplant.\n",
    "\n",
    "Type II error:The cooling system does not work well and the power plan should be shut down to protect the environment, but the test did not show this and allow the harmful power plant continue operating. Cost: the power plant harm the environment."
   ]
  },
  {
   "cell_type": "markdown",
   "metadata": {},
   "source": [
    "## c.\t(5 points) The EPA periodically conducts spot checks to determine whether the wastewater being discharged is too warm. Suppose the EPA has the power to impose very severe penalties (for example, very heavy fines) when the wastewater is excessively warm. Other things being equal, should Eastern Utility Power set the probability of a Type I error equal to 0.01 or 0.05?\n",
    "\n"
   ]
  },
  {
   "cell_type": "markdown",
   "metadata": {},
   "source": [
    "Since the power plant wants to avoid extreme high fines that charged by EPA, in the power plant daily test, the company should use 0.05 as the probability of a Type I error. By doing so, the power plant has larger probability to detect the abnormal wastewater temperature and do something to deal with the problem before the EPA's spot checks and extreme high fines."
   ]
  },
  {
   "cell_type": "markdown",
   "metadata": {},
   "source": [
    "##  d. (5 points) Eastern Utility Power wishes to set up a hypothesis test and decides to use a level of significance α= 0.05. Suppose a random sample of 100 temperature readings is obtained. If the sample mean of the 100 temperature readings is 60.482, run the hypothesis test and determine if the power plant should be shut down and the cooling system repaired. Assume that the population standard deviation equals 2. "
   ]
  },
  {
   "cell_type": "markdown",
   "metadata": {},
   "source": [
    "$H_{0}$: $\\mu \\le$ $60^o$ F\n",
    "\n",
    "$H_{1}$: $\\mu > 60^o$ F\n",
    "\n",
    "Significant Level: 5%"
   ]
  },
  {
   "cell_type": "code",
   "execution_count": 48,
   "metadata": {
    "ExecuteTime": {
     "end_time": "2019-11-22T05:39:13.069883Z",
     "start_time": "2019-11-22T05:39:13.035Z"
    }
   },
   "outputs": [
    {
     "name": "stdout",
     "output_type": "stream",
     "text": [
      "The sample mean is  60.482 , which is larger than 95% upper limit,  60.32897 . \n",
      "[1] \"At 5% significant level, we have enough evidence to reject the null hypothesis. The power plant should be shut down and the cooling system repaired.\"\n"
     ]
    }
   ],
   "source": [
    "mean_sample<-60.482\n",
    "size_sample<-100\n",
    "sd_pop<-2\n",
    "\n",
    "###################Z-Test########################################\n",
    "z95<-qnorm(0.95,0,1)\n",
    "upper_limit<-60+(z95*sd_pop/sqrt(size_sample))\n",
    "\n",
    "cat('The sample mean is ',mean_sample, ', which is larger than 95% upper limit, ', upper_limit,'. \\n')\n",
    "\n",
    "##################Conclusion#####################################\n",
    "print('At 5% significant level, we have enough evidence to reject the null hypothesis. The power plant should be shut down and the cooling system repaired.')"
   ]
  },
  {
   "cell_type": "markdown",
   "metadata": {},
   "source": [
    "## e. (10 points) If the Eastern Utility Power sets α= 0.025, calculate the probability of a Type II error for each of the following alternative values of μ: 60.1, 60.2, 60.3, 60.4, 60.5, 60.6, 60.7, 60.8, 60.9, and 61."
   ]
  },
  {
   "cell_type": "code",
   "execution_count": 3,
   "metadata": {
    "ExecuteTime": {
     "end_time": "2019-11-25T03:21:16.441025Z",
     "start_time": "2019-11-25T03:21:16.371Z"
    }
   },
   "outputs": [
    {
     "data": {
      "text/html": [
       "60.391992796908"
      ],
      "text/latex": [
       "60.391992796908"
      ],
      "text/markdown": [
       "60.391992796908"
      ],
      "text/plain": [
       "[1] 60.39199"
      ]
     },
     "metadata": {},
     "output_type": "display_data"
    },
    {
     "data": {
      "text/html": [
       "<table>\n",
       "<thead><tr><th scope=col>alternatvie mean</th><th scope=col>type II error</th></tr></thead>\n",
       "<tbody>\n",
       "\t<tr><td>60.1       </td><td>0.927850014</td></tr>\n",
       "\t<tr><td>60.2       </td><td>0.831463329</td></tr>\n",
       "\t<tr><td>60.3       </td><td>0.677228964</td></tr>\n",
       "\t<tr><td>60.4       </td><td>0.484032207</td></tr>\n",
       "\t<tr><td>60.5       </td><td>0.294586098</td></tr>\n",
       "\t<tr><td>60.6       </td><td>0.149161584</td></tr>\n",
       "\t<tr><td>60.7       </td><td>0.061775787</td></tr>\n",
       "\t<tr><td>60.8       </td><td>0.020673369</td></tr>\n",
       "\t<tr><td>60.9       </td><td>0.005542053</td></tr>\n",
       "\t<tr><td>61.0       </td><td>0.001182749</td></tr>\n",
       "</tbody>\n",
       "</table>\n"
      ],
      "text/latex": [
       "\\begin{tabular}{r|ll}\n",
       " alternatvie mean & type II error\\\\\n",
       "\\hline\n",
       "\t 60.1        & 0.927850014\\\\\n",
       "\t 60.2        & 0.831463329\\\\\n",
       "\t 60.3        & 0.677228964\\\\\n",
       "\t 60.4        & 0.484032207\\\\\n",
       "\t 60.5        & 0.294586098\\\\\n",
       "\t 60.6        & 0.149161584\\\\\n",
       "\t 60.7        & 0.061775787\\\\\n",
       "\t 60.8        & 0.020673369\\\\\n",
       "\t 60.9        & 0.005542053\\\\\n",
       "\t 61.0        & 0.001182749\\\\\n",
       "\\end{tabular}\n"
      ],
      "text/markdown": [
       "\n",
       "| alternatvie mean | type II error |\n",
       "|---|---|\n",
       "| 60.1        | 0.927850014 |\n",
       "| 60.2        | 0.831463329 |\n",
       "| 60.3        | 0.677228964 |\n",
       "| 60.4        | 0.484032207 |\n",
       "| 60.5        | 0.294586098 |\n",
       "| 60.6        | 0.149161584 |\n",
       "| 60.7        | 0.061775787 |\n",
       "| 60.8        | 0.020673369 |\n",
       "| 60.9        | 0.005542053 |\n",
       "| 61.0        | 0.001182749 |\n",
       "\n"
      ],
      "text/plain": [
       "   alternatvie mean type II error\n",
       "1  60.1             0.927850014  \n",
       "2  60.2             0.831463329  \n",
       "3  60.3             0.677228964  \n",
       "4  60.4             0.484032207  \n",
       "5  60.5             0.294586098  \n",
       "6  60.6             0.149161584  \n",
       "7  60.7             0.061775787  \n",
       "8  60.8             0.020673369  \n",
       "9  60.9             0.005542053  \n",
       "10 61.0             0.001182749  "
      ]
     },
     "metadata": {},
     "output_type": "display_data"
    }
   ],
   "source": [
    "alt_mean<-c(60.1,60.2,60.3,60.4,60.5,60.6,60.7,60.8,60.9,61)\n",
    "alpha<-0.025\n",
    "mean<-60\n",
    "sd<-2\n",
    "\n",
    "z95<-qnorm(1-alpha,mean,sd/sqrt(100),lower.tail=TRUE)\n",
    "z95\n",
    "type_II_error<-as.data.frame(pnorm(z95,alt_mean,sd/sqrt(100),lower.tail=TRUE))\n",
    "df<-cbind(alt_mean,type_II_error)\n",
    "colnames(df)<-c('alternatvie mean','type II error')\n",
    "df"
   ]
  },
  {
   "cell_type": "markdown",
   "metadata": {},
   "source": [
    "##  f. (10 points) If we want the probability of making a Type II error when μ= 60.5 to be very small, is Eastern Utility Power’s hypothesis test adequate? Explain why or why not. If not, and if we wish to maintain the value of α= 0.025, what must be done?"
   ]
  },
  {
   "cell_type": "markdown",
   "metadata": {},
   "source": [
    "Eastern Untility Power's hypothesis test is not adequate because from the previous question, we know that if the $\\alpha $ = 0.025, the probability of making a type II error when $\\mu$ = 60.5 is 29.46%, which is pretty high. If we wish to maintain the value of $\\alpha$ = 0.025 and want the type II error to be very small, we must increase the sample size. After increasing the sample size to 250, the probability of making atype II error would be less than 0.05."
   ]
  },
  {
   "cell_type": "code",
   "execution_count": 8,
   "metadata": {
    "ExecuteTime": {
     "end_time": "2019-11-28T05:21:11.627537Z",
     "start_time": "2019-11-28T05:21:11.561Z"
    }
   },
   "outputs": [
    {
     "data": {
      "text/html": [
       "<table>\n",
       "<thead><tr><th scope=col>n</th><th scope=col>beta</th></tr></thead>\n",
       "<tbody>\n",
       "\t<tr><td>100         </td><td>0.2945860976</td></tr>\n",
       "\t<tr><td>150         </td><td>0.1352529669</td></tr>\n",
       "\t<tr><td>200         </td><td>0.0575624763</td></tr>\n",
       "\t<tr><td>250         </td><td>0.0231371252</td></tr>\n",
       "\t<tr><td>300         </td><td>0.0088901215</td></tr>\n",
       "\t<tr><td>350         </td><td>0.0032927582</td></tr>\n",
       "\t<tr><td>400         </td><td>0.0011827493</td></tr>\n",
       "\t<tr><td>450         </td><td>0.0004138867</td></tr>\n",
       "\t<tr><td>500         </td><td>0.0001415976</td></tr>\n",
       "</tbody>\n",
       "</table>\n"
      ],
      "text/latex": [
       "\\begin{tabular}{ll}\n",
       " n & beta\\\\\n",
       "\\hline\n",
       "\t 100          & 0.2945860976\\\\\n",
       "\t 150          & 0.1352529669\\\\\n",
       "\t 200          & 0.0575624763\\\\\n",
       "\t 250          & 0.0231371252\\\\\n",
       "\t 300          & 0.0088901215\\\\\n",
       "\t 350          & 0.0032927582\\\\\n",
       "\t 400          & 0.0011827493\\\\\n",
       "\t 450          & 0.0004138867\\\\\n",
       "\t 500          & 0.0001415976\\\\\n",
       "\\end{tabular}\n"
      ],
      "text/markdown": [
       "\n",
       "| n | beta |\n",
       "|---|---|\n",
       "| 100          | 0.2945860976 |\n",
       "| 150          | 0.1352529669 |\n",
       "| 200          | 0.0575624763 |\n",
       "| 250          | 0.0231371252 |\n",
       "| 300          | 0.0088901215 |\n",
       "| 350          | 0.0032927582 |\n",
       "| 400          | 0.0011827493 |\n",
       "| 450          | 0.0004138867 |\n",
       "| 500          | 0.0001415976 |\n",
       "\n"
      ],
      "text/plain": [
       "      n   beta        \n",
       " [1,] 100 0.2945860976\n",
       " [2,] 150 0.1352529669\n",
       " [3,] 200 0.0575624763\n",
       " [4,] 250 0.0231371252\n",
       " [5,] 300 0.0088901215\n",
       " [6,] 350 0.0032927582\n",
       " [7,] 400 0.0011827493\n",
       " [8,] 450 0.0004138867\n",
       " [9,] 500 0.0001415976"
      ]
     },
     "metadata": {},
     "output_type": "display_data"
    }
   ],
   "source": [
    "\n",
    "n<-seq(100,500,by=50)\n",
    "beta<-pnorm ((qnorm(0.025, mean = 60, sd = 2/sqrt(n), lower.tail = FALSE)),60.5,2/sqrt(n), lower.tail = TRUE)\n",
    "cbind(n,beta)"
   ]
  },
  {
   "cell_type": "markdown",
   "metadata": {},
   "source": [
    "## g. (10 points) Create a power curve for the Eastern Utility Power. What happens to the power of the test as the alternative value of μ moves away from 60?"
   ]
  },
  {
   "cell_type": "code",
   "execution_count": 9,
   "metadata": {
    "ExecuteTime": {
     "end_time": "2019-11-25T03:25:39.946012Z",
     "start_time": "2019-11-25T03:25:39.858Z"
    }
   },
   "outputs": [
    {
     "data": {
      "image/png": "[encoded data removed]",
      "text/plain": [
       "plot without title"
      ]
     },
     "metadata": {},
     "output_type": "display_data"
    }
   ],
   "source": [
    "plot(df[,1],1-df[,2],type='o')"
   ]
  },
  {
   "cell_type": "markdown",
   "metadata": {},
   "source": [
    "\n",
    "The power of test increases when the alternative $\\mu$ moves away from the 60."
   ]
  },
  {
   "cell_type": "markdown",
   "metadata": {},
   "source": [
    "# (40 points) Question 6\n",
    "An HR department specialist of a leading hotel chain in the U.S. is exploring ways to improve retention among hotel staff. The problem is particularly acute among those who maintain rooms, work in hotel restaurant, and greet guests. Within this chain, among those who greet and register guests at the front desk, the annual percentage who quit is 36% . Among the employees who work the front desk, more than half are expected to quit during the next year. The HR specialist has estimated that the turnover rate costs $20,000 per quitter, with the costs attributed to factors like:\n",
    "\n",
    "•\tThe time a supervisor spends to orient and train a new employee\n",
    "\n",
    "•\tThe effort to recruit and interview replacement workers\n",
    "\n",
    "•\tThe loss of efficiencies with a new employee rather than one who is more experienced and takes less time to complete tasks\n",
    "\n",
    "•\tAdministrative time both to add the new employee to the payroll and to remove the prior employee\n",
    "\n",
    "To increase retention by lowering the quit rate, the specialist has formulated a benefits program targeted at employees who staff the front desk. The cost of offering these benefits averages $2,000 per employee. The chain operates 225 hotels, each with 16 front-desk employees. As a test, the specialist has proposed extending improved benefits to 320 employees who work the front desk in 20 hotels.\n"
   ]
  },
  {
   "cell_type": "markdown",
   "metadata": {},
   "source": [
    "## a. \t(5 points) Using the data given in the narrative above, answer why would it be important to test the effect of the employee benefits program before offering it to all front-desk employees at the hotel chain?\n",
    "\n",
    "\n"
   ]
  },
  {
   "cell_type": "markdown",
   "metadata": {},
   "source": [
    "Without the effect test of the employee benefits program, the company cannot know whether the program will decrease the churn rate. If the company offers this benefits to all employees at the hotel chain, the total cost would be $ \\$7,200,000$. If the benefits program does not work at all, the company still loses $\\$ 20,000$ per quitter and also $\\$ 7,200,000$ for the waste of the program. With the test that only offers 320 employees, the company's cost is only $\\$ 640,000$. "
   ]
  },
  {
   "cell_type": "markdown",
   "metadata": {},
   "source": [
    "## b. \t(5 points) If the benefits program is to be tested, how would you recommend choosing the hotels? How long will the test take to run? (There is no single best answer to this question; try your best to articulate your recommendations.)\n",
    "\n"
   ]
  },
  {
   "cell_type": "markdown",
   "metadata": {},
   "source": [
    "I would randomly choose the hotels simply. Or based on different revenue levels, I randomly choose some hotels to make sure that the hotel size would not generate bias to the test. Since the churn rate is calculated annually, I recommend that the test can take 1 year to run. However, to save the cost and effort, we can do a three-month test and compare to the data in the same period last year. However, if the churn rate's trend is not follow the same pattern every year, then we should consider the churn rate trend in our test."
   ]
  },
  {
   "cell_type": "markdown",
   "metadata": {},
   "source": [
    "##  c. \t(5 points) An analyst proposed testing the null hypothesis H_0:p≤0.36, where p is the annual quit rate for employees who work the main desk if the new program is implemented. Is this the correct null hypothesis? If not, why not?"
   ]
  },
  {
   "cell_type": "markdown",
   "metadata": {},
   "source": [
    "No, this is not a correct null hypothesis because the test want to know whether this program can work or not. If we reject the null hypothesis, then the program works, so the $H_{0}$ is p $\\ge$ 0.36. "
   ]
  },
  {
   "cell_type": "markdown",
   "metadata": {},
   "source": [
    "## d.\t(5 points) Another analyst proposed the null hypothesis H_0:p≥0.36, where p is the annual quit rate for employees who work the main desk if the new program is implemented. Is this the correct null hypothesis? What key issue does this hypothesis ignore?\n",
    "\n"
   ]
  },
  {
   "cell_type": "markdown",
   "metadata": {},
   "source": [
    "This null hypothesis is half right. The key issue this hypothesis ignores is that it does not account the cost of the program, which is whether the savings generated by the program can cover the cost of it."
   ]
  },
  {
   "cell_type": "markdown",
   "metadata": {},
   "source": [
    "## e.\t(10 points) If the chosen null hypothesis is H_0:p≥0.30, what percentage of these 320 must not quit in order to reject H_0 if α = 0.05?\n",
    "\n",
    "\n"
   ]
  },
  {
   "cell_type": "markdown",
   "metadata": {},
   "source": [
    "$H_{0}$: $p \\ge$ 0.3\n",
    "\n",
    "$H_{1}$: p < 0.3\n",
    "\n",
    "where p is the annual quit rate for employees"
   ]
  },
  {
   "cell_type": "code",
   "execution_count": 3,
   "metadata": {
    "ExecuteTime": {
     "end_time": "2019-11-24T01:11:14.390465Z",
     "start_time": "2019-11-24T01:11:14.335Z"
    }
   },
   "outputs": [
    {
     "name": "stdout",
     "output_type": "stream",
     "text": [
      "The percentage of the sample must not quit in order to reject null hypothesis if the significant level is 0.05 is  74.21368 %."
     ]
    }
   ],
   "source": [
    "z95<-qnorm(0.95,0,1)\n",
    "cat('The percentage of the sample must not quit in order to reject null hypothesis if the significant level is 0.05 is ', (100-(0.3-z95*sqrt((0.3*0.7)/320))*100),'%.')\n"
   ]
  },
  {
   "cell_type": "markdown",
   "metadata": {},
   "source": [
    "## f.\t(10 points) Assume that the chosen null hypothesis is H_0:p≥0.30. Suppose that the actual quit rate among employees who receive these new benefits is 25%. What is the chance that the test of H_0 will correctly reject H_0?"
   ]
  },
  {
   "cell_type": "markdown",
   "metadata": {},
   "source": [
    "$H_{0}$: $p \\ge$ 0.3\n",
    "\n",
    "$H_{1}$: p < 0.3\n",
    "\n",
    "where p is the annual quit rate of the employees\n",
    "\n",
    "The chance that the test of $H_{0}$ will correctly reject $H_{0}$ is $1-\\beta$\n",
    "\n",
    "Assume the significant level is 5%."
   ]
  },
  {
   "cell_type": "code",
   "execution_count": 6,
   "metadata": {
    "ExecuteTime": {
     "end_time": "2019-11-27T18:27:12.195571Z",
     "start_time": "2019-11-27T18:27:12.169Z"
    }
   },
   "outputs": [
    {
     "name": "stdout",
     "output_type": "stream",
     "text": [
      "The chance that the test of H0 will correctly reject H0 is  62.73495 %."
     ]
    }
   ],
   "source": [
    "z95<-qnorm(0.95,0,1)\n",
    "critic_value<-0.3-z95*sqrt((0.3*0.7)/320)\n",
    "z<-(critic_value-0.25)/sqrt((0.25*0.75)/320)\n",
    "beta<-pnorm(z,mean=0, sd=1, lower.tail = FALSE)\n",
    "cat('The chance that the test of H0 will correctly reject H0 is ', (1-beta)*100,'%.')"
   ]
  },
  {
   "cell_type": "markdown",
   "metadata": {},
   "source": [
    "#  (20 points) Question 7\n",
    "The Survey of Consumer Finances (SCF) is conducted every 3 years to provide detailed information on the finances of U.S. households. The study is sponsored by the Federal Reserve Board in cooperation with the Department of the Treasury. Since 1992, data have been collected by the National Opinion Research Center (NORC) at the University of Chicago. The full dataset is very large, and the number of variables is extremely large as well. For this exercise, I have created a subset of the dataset. This subset contains data for the middle-class households (40% - 60% of the net worth).\n",
    "Consider the dataset on the CSV file Question7. You want to explore if there is sufficient evidence that middle-class heads of households who work for someone else have higher incomes than heads of households who are self-employed. \n",
    "Use the appropriate statistical method and state why did you choose the selected method.\n",
    "Below is the definition of the OCCAT1 variable from your dataset:\n",
    "OCCAT1 Occupation categories for head of household: \n",
    "1. Work for someone else, \n",
    "2. Self-employed/partnership, \n",
    "3. Retired/disabled + (student/homemaker/misc. not working and age 65 or older), \n",
    "4. Other groups not working (mainly those under 65 and out of the workforce).\n"
   ]
  },
  {
   "cell_type": "code",
   "execution_count": 7,
   "metadata": {
    "ExecuteTime": {
     "end_time": "2019-11-27T18:30:57.753980Z",
     "start_time": "2019-11-27T18:30:57.693Z"
    },
    "collapsed": true
   },
   "outputs": [
    {
     "data": {
      "text/html": [
       "<table>\n",
       "<thead><tr><th></th><th scope=col>CASEID</th><th scope=col>OCCAT1</th><th scope=col>INCOME</th></tr></thead>\n",
       "<tbody>\n",
       "\t<tr><th scope=row>1</th><td>180450   </td><td>2        </td><td> 17247.03</td></tr>\n",
       "\t<tr><th scope=row>2</th><td>195950   </td><td>1        </td><td> 30435.94</td></tr>\n",
       "\t<tr><th scope=row>4</th><td>198350   </td><td>1        </td><td>130874.56</td></tr>\n",
       "\t<tr><th scope=row>5</th><td>199755   </td><td>1        </td><td> 76089.86</td></tr>\n",
       "\t<tr><th scope=row>6</th><td>195265   </td><td>1        </td><td> 67973.61</td></tr>\n",
       "\t<tr><th scope=row>8</th><td>202400   </td><td>1        </td><td>278996.14</td></tr>\n",
       "\t<tr><th scope=row>10</th><td>183900   </td><td>1        </td><td> 27392.35</td></tr>\n",
       "\t<tr><th scope=row>11</th><td>193780   </td><td>2        </td><td> 25363.29</td></tr>\n",
       "\t<tr><th scope=row>12</th><td>188325   </td><td>1        </td><td> 34494.07</td></tr>\n",
       "\t<tr><th scope=row>15</th><td>204075   </td><td>2        </td><td> 17247.03</td></tr>\n",
       "\t<tr><th scope=row>16</th><td>187470   </td><td>1        </td><td>111598.46</td></tr>\n",
       "\t<tr><th scope=row>18</th><td>192120   </td><td>1        </td><td>  8522.06</td></tr>\n",
       "\t<tr><th scope=row>19</th><td>191960   </td><td>1        </td><td>111598.46</td></tr>\n",
       "\t<tr><th scope=row>20</th><td>195785   </td><td>1        </td><td> 68988.14</td></tr>\n",
       "\t<tr><th scope=row>21</th><td>204830   </td><td>1        </td><td> 15217.97</td></tr>\n",
       "\t<tr><th scope=row>23</th><td>195585   </td><td>1        </td><td> 51741.10</td></tr>\n",
       "\t<tr><th scope=row>24</th><td>207255   </td><td>2        </td><td> 24348.75</td></tr>\n",
       "\t<tr><th scope=row>25</th><td>181800   </td><td>1        </td><td> 80147.98</td></tr>\n",
       "\t<tr><th scope=row>29</th><td>190225   </td><td>1        </td><td> 84206.11</td></tr>\n",
       "\t<tr><th scope=row>31</th><td>198690   </td><td>1        </td><td> 28406.88</td></tr>\n",
       "\t<tr><th scope=row>32</th><td>185280   </td><td>1        </td><td>131889.09</td></tr>\n",
       "\t<tr><th scope=row>33</th><td>187515   </td><td>1        </td><td> 34494.07</td></tr>\n",
       "\t<tr><th scope=row>34</th><td>207610   </td><td>1        </td><td>117685.65</td></tr>\n",
       "\t<tr><th scope=row>35</th><td>203395   </td><td>1        </td><td>151165.18</td></tr>\n",
       "\t<tr><th scope=row>36</th><td>185255   </td><td>1        </td><td> 64930.01</td></tr>\n",
       "\t<tr><th scope=row>37</th><td>195025   </td><td>1        </td><td> 43624.85</td></tr>\n",
       "\t<tr><th scope=row>38</th><td>184905   </td><td>1        </td><td> 17247.03</td></tr>\n",
       "\t<tr><th scope=row>39</th><td>198455   </td><td>1        </td><td> 55799.23</td></tr>\n",
       "\t<tr><th scope=row>41</th><td>187680   </td><td>1        </td><td> 73046.26</td></tr>\n",
       "\t<tr><th scope=row>44</th><td>204125   </td><td>1        </td><td>136961.74</td></tr>\n",
       "\t<tr><th scope=row>...</th><td>...</td><td>...</td><td>...</td></tr>\n",
       "\t<tr><th scope=row>1157</th><td>202125   </td><td>1        </td><td>102467.67</td></tr>\n",
       "\t<tr><th scope=row>1158</th><td>202060   </td><td>1        </td><td> 96380.49</td></tr>\n",
       "\t<tr><th scope=row>1159</th><td>200525   </td><td>1        </td><td> 64930.01</td></tr>\n",
       "\t<tr><th scope=row>1160</th><td>200825   </td><td>1        </td><td> 43624.85</td></tr>\n",
       "\t<tr><th scope=row>1161</th><td>186825   </td><td>1        </td><td>111598.46</td></tr>\n",
       "\t<tr><th scope=row>1162</th><td>200580   </td><td>1        </td><td> 30435.94</td></tr>\n",
       "\t<tr><th scope=row>1163</th><td>201510   </td><td>1        </td><td> 58842.82</td></tr>\n",
       "\t<tr><th scope=row>1166</th><td>200200   </td><td>1        </td><td>126816.43</td></tr>\n",
       "\t<tr><th scope=row>1168</th><td>198005   </td><td>1        </td><td> 90293.30</td></tr>\n",
       "\t<tr><th scope=row>1169</th><td>184975   </td><td>1        </td><td> 82177.05</td></tr>\n",
       "\t<tr><th scope=row>1172</th><td>192535   </td><td>1        </td><td>144063.46</td></tr>\n",
       "\t<tr><th scope=row>1173</th><td>185250   </td><td>1        </td><td> 64930.01</td></tr>\n",
       "\t<tr><th scope=row>1175</th><td>202990   </td><td>2        </td><td> 77104.39</td></tr>\n",
       "\t<tr><th scope=row>1176</th><td>187650   </td><td>2        </td><td> 79133.45</td></tr>\n",
       "\t<tr><th scope=row>1177</th><td>184280   </td><td>1        </td><td> 44639.38</td></tr>\n",
       "\t<tr><th scope=row>1178</th><td>203620   </td><td>2        </td><td> 96380.49</td></tr>\n",
       "\t<tr><th scope=row>1179</th><td>184000   </td><td>1        </td><td>119714.71</td></tr>\n",
       "\t<tr><th scope=row>1181</th><td>190295   </td><td>1        </td><td> 73046.26</td></tr>\n",
       "\t<tr><th scope=row>1183</th><td>184120   </td><td>1        </td><td> 77104.39</td></tr>\n",
       "\t<tr><th scope=row>1184</th><td>201805   </td><td>1        </td><td> 89278.77</td></tr>\n",
       "\t<tr><th scope=row>1185</th><td>180555   </td><td>1        </td><td>114642.05</td></tr>\n",
       "\t<tr><th scope=row>1186</th><td>201125   </td><td>1        </td><td>137976.28</td></tr>\n",
       "\t<tr><th scope=row>1187</th><td>186265   </td><td>1        </td><td>117685.65</td></tr>\n",
       "\t<tr><th scope=row>1190</th><td>196395   </td><td>1        </td><td> 73046.26</td></tr>\n",
       "\t<tr><th scope=row>1192</th><td>204950   </td><td>2        </td><td>103482.21</td></tr>\n",
       "\t<tr><th scope=row>1194</th><td>196240   </td><td>1        </td><td> 89278.77</td></tr>\n",
       "\t<tr><th scope=row>1195</th><td>183780   </td><td>1        </td><td> 50726.57</td></tr>\n",
       "\t<tr><th scope=row>1199</th><td>180605   </td><td>1        </td><td>188702.85</td></tr>\n",
       "\t<tr><th scope=row>1202</th><td>193050   </td><td>2        </td><td> 45653.91</td></tr>\n",
       "\t<tr><th scope=row>1203</th><td>204490   </td><td>1        </td><td> 98409.55</td></tr>\n",
       "</tbody>\n",
       "</table>\n"
      ],
      "text/latex": [
       "\\begin{tabular}{r|lll}\n",
       "  & CASEID & OCCAT1 & INCOME\\\\\n",
       "\\hline\n",
       "\t1 & 180450    & 2         &  17247.03\\\\\n",
       "\t2 & 195950    & 1         &  30435.94\\\\\n",
       "\t4 & 198350    & 1         & 130874.56\\\\\n",
       "\t5 & 199755    & 1         &  76089.86\\\\\n",
       "\t6 & 195265    & 1         &  67973.61\\\\\n",
       "\t8 & 202400    & 1         & 278996.14\\\\\n",
       "\t10 & 183900    & 1         &  27392.35\\\\\n",
       "\t11 & 193780    & 2         &  25363.29\\\\\n",
       "\t12 & 188325    & 1         &  34494.07\\\\\n",
       "\t15 & 204075    & 2         &  17247.03\\\\\n",
       "\t16 & 187470    & 1         & 111598.46\\\\\n",
       "\t18 & 192120    & 1         &   8522.06\\\\\n",
       "\t19 & 191960    & 1         & 111598.46\\\\\n",
       "\t20 & 195785    & 1         &  68988.14\\\\\n",
       "\t21 & 204830    & 1         &  15217.97\\\\\n",
       "\t23 & 195585    & 1         &  51741.10\\\\\n",
       "\t24 & 207255    & 2         &  24348.75\\\\\n",
       "\t25 & 181800    & 1         &  80147.98\\\\\n",
       "\t29 & 190225    & 1         &  84206.11\\\\\n",
       "\t31 & 198690    & 1         &  28406.88\\\\\n",
       "\t32 & 185280    & 1         & 131889.09\\\\\n",
       "\t33 & 187515    & 1         &  34494.07\\\\\n",
       "\t34 & 207610    & 1         & 117685.65\\\\\n",
       "\t35 & 203395    & 1         & 151165.18\\\\\n",
       "\t36 & 185255    & 1         &  64930.01\\\\\n",
       "\t37 & 195025    & 1         &  43624.85\\\\\n",
       "\t38 & 184905    & 1         &  17247.03\\\\\n",
       "\t39 & 198455    & 1         &  55799.23\\\\\n",
       "\t41 & 187680    & 1         &  73046.26\\\\\n",
       "\t44 & 204125    & 1         & 136961.74\\\\\n",
       "\t... & ... & ... & ...\\\\\n",
       "\t1157 & 202125    & 1         & 102467.67\\\\\n",
       "\t1158 & 202060    & 1         &  96380.49\\\\\n",
       "\t1159 & 200525    & 1         &  64930.01\\\\\n",
       "\t1160 & 200825    & 1         &  43624.85\\\\\n",
       "\t1161 & 186825    & 1         & 111598.46\\\\\n",
       "\t1162 & 200580    & 1         &  30435.94\\\\\n",
       "\t1163 & 201510    & 1         &  58842.82\\\\\n",
       "\t1166 & 200200    & 1         & 126816.43\\\\\n",
       "\t1168 & 198005    & 1         &  90293.30\\\\\n",
       "\t1169 & 184975    & 1         &  82177.05\\\\\n",
       "\t1172 & 192535    & 1         & 144063.46\\\\\n",
       "\t1173 & 185250    & 1         &  64930.01\\\\\n",
       "\t1175 & 202990    & 2         &  77104.39\\\\\n",
       "\t1176 & 187650    & 2         &  79133.45\\\\\n",
       "\t1177 & 184280    & 1         &  44639.38\\\\\n",
       "\t1178 & 203620    & 2         &  96380.49\\\\\n",
       "\t1179 & 184000    & 1         & 119714.71\\\\\n",
       "\t1181 & 190295    & 1         &  73046.26\\\\\n",
       "\t1183 & 184120    & 1         &  77104.39\\\\\n",
       "\t1184 & 201805    & 1         &  89278.77\\\\\n",
       "\t1185 & 180555    & 1         & 114642.05\\\\\n",
       "\t1186 & 201125    & 1         & 137976.28\\\\\n",
       "\t1187 & 186265    & 1         & 117685.65\\\\\n",
       "\t1190 & 196395    & 1         &  73046.26\\\\\n",
       "\t1192 & 204950    & 2         & 103482.21\\\\\n",
       "\t1194 & 196240    & 1         &  89278.77\\\\\n",
       "\t1195 & 183780    & 1         &  50726.57\\\\\n",
       "\t1199 & 180605    & 1         & 188702.85\\\\\n",
       "\t1202 & 193050    & 2         &  45653.91\\\\\n",
       "\t1203 & 204490    & 1         &  98409.55\\\\\n",
       "\\end{tabular}\n"
      ],
      "text/markdown": [
       "\n",
       "| <!--/--> | CASEID | OCCAT1 | INCOME |\n",
       "|---|---|---|---|\n",
       "| 1 | 180450    | 2         |  17247.03 |\n",
       "| 2 | 195950    | 1         |  30435.94 |\n",
       "| 4 | 198350    | 1         | 130874.56 |\n",
       "| 5 | 199755    | 1         |  76089.86 |\n",
       "| 6 | 195265    | 1         |  67973.61 |\n",
       "| 8 | 202400    | 1         | 278996.14 |\n",
       "| 10 | 183900    | 1         |  27392.35 |\n",
       "| 11 | 193780    | 2         |  25363.29 |\n",
       "| 12 | 188325    | 1         |  34494.07 |\n",
       "| 15 | 204075    | 2         |  17247.03 |\n",
       "| 16 | 187470    | 1         | 111598.46 |\n",
       "| 18 | 192120    | 1         |   8522.06 |\n",
       "| 19 | 191960    | 1         | 111598.46 |\n",
       "| 20 | 195785    | 1         |  68988.14 |\n",
       "| 21 | 204830    | 1         |  15217.97 |\n",
       "| 23 | 195585    | 1         |  51741.10 |\n",
       "| 24 | 207255    | 2         |  24348.75 |\n",
       "| 25 | 181800    | 1         |  80147.98 |\n",
       "| 29 | 190225    | 1         |  84206.11 |\n",
       "| 31 | 198690    | 1         |  28406.88 |\n",
       "| 32 | 185280    | 1         | 131889.09 |\n",
       "| 33 | 187515    | 1         |  34494.07 |\n",
       "| 34 | 207610    | 1         | 117685.65 |\n",
       "| 35 | 203395    | 1         | 151165.18 |\n",
       "| 36 | 185255    | 1         |  64930.01 |\n",
       "| 37 | 195025    | 1         |  43624.85 |\n",
       "| 38 | 184905    | 1         |  17247.03 |\n",
       "| 39 | 198455    | 1         |  55799.23 |\n",
       "| 41 | 187680    | 1         |  73046.26 |\n",
       "| 44 | 204125    | 1         | 136961.74 |\n",
       "| ... | ... | ... | ... |\n",
       "| 1157 | 202125    | 1         | 102467.67 |\n",
       "| 1158 | 202060    | 1         |  96380.49 |\n",
       "| 1159 | 200525    | 1         |  64930.01 |\n",
       "| 1160 | 200825    | 1         |  43624.85 |\n",
       "| 1161 | 186825    | 1         | 111598.46 |\n",
       "| 1162 | 200580    | 1         |  30435.94 |\n",
       "| 1163 | 201510    | 1         |  58842.82 |\n",
       "| 1166 | 200200    | 1         | 126816.43 |\n",
       "| 1168 | 198005    | 1         |  90293.30 |\n",
       "| 1169 | 184975    | 1         |  82177.05 |\n",
       "| 1172 | 192535    | 1         | 144063.46 |\n",
       "| 1173 | 185250    | 1         |  64930.01 |\n",
       "| 1175 | 202990    | 2         |  77104.39 |\n",
       "| 1176 | 187650    | 2         |  79133.45 |\n",
       "| 1177 | 184280    | 1         |  44639.38 |\n",
       "| 1178 | 203620    | 2         |  96380.49 |\n",
       "| 1179 | 184000    | 1         | 119714.71 |\n",
       "| 1181 | 190295    | 1         |  73046.26 |\n",
       "| 1183 | 184120    | 1         |  77104.39 |\n",
       "| 1184 | 201805    | 1         |  89278.77 |\n",
       "| 1185 | 180555    | 1         | 114642.05 |\n",
       "| 1186 | 201125    | 1         | 137976.28 |\n",
       "| 1187 | 186265    | 1         | 117685.65 |\n",
       "| 1190 | 196395    | 1         |  73046.26 |\n",
       "| 1192 | 204950    | 2         | 103482.21 |\n",
       "| 1194 | 196240    | 1         |  89278.77 |\n",
       "| 1195 | 183780    | 1         |  50726.57 |\n",
       "| 1199 | 180605    | 1         | 188702.85 |\n",
       "| 1202 | 193050    | 2         |  45653.91 |\n",
       "| 1203 | 204490    | 1         |  98409.55 |\n",
       "\n"
      ],
      "text/plain": [
       "     CASEID OCCAT1 INCOME   \n",
       "1    180450 2       17247.03\n",
       "2    195950 1       30435.94\n",
       "4    198350 1      130874.56\n",
       "5    199755 1       76089.86\n",
       "6    195265 1       67973.61\n",
       "8    202400 1      278996.14\n",
       "10   183900 1       27392.35\n",
       "11   193780 2       25363.29\n",
       "12   188325 1       34494.07\n",
       "15   204075 2       17247.03\n",
       "16   187470 1      111598.46\n",
       "18   192120 1        8522.06\n",
       "19   191960 1      111598.46\n",
       "20   195785 1       68988.14\n",
       "21   204830 1       15217.97\n",
       "23   195585 1       51741.10\n",
       "24   207255 2       24348.75\n",
       "25   181800 1       80147.98\n",
       "29   190225 1       84206.11\n",
       "31   198690 1       28406.88\n",
       "32   185280 1      131889.09\n",
       "33   187515 1       34494.07\n",
       "34   207610 1      117685.65\n",
       "35   203395 1      151165.18\n",
       "36   185255 1       64930.01\n",
       "37   195025 1       43624.85\n",
       "38   184905 1       17247.03\n",
       "39   198455 1       55799.23\n",
       "41   187680 1       73046.26\n",
       "44   204125 1      136961.74\n",
       "...  ...    ...    ...      \n",
       "1157 202125 1      102467.67\n",
       "1158 202060 1       96380.49\n",
       "1159 200525 1       64930.01\n",
       "1160 200825 1       43624.85\n",
       "1161 186825 1      111598.46\n",
       "1162 200580 1       30435.94\n",
       "1163 201510 1       58842.82\n",
       "1166 200200 1      126816.43\n",
       "1168 198005 1       90293.30\n",
       "1169 184975 1       82177.05\n",
       "1172 192535 1      144063.46\n",
       "1173 185250 1       64930.01\n",
       "1175 202990 2       77104.39\n",
       "1176 187650 2       79133.45\n",
       "1177 184280 1       44639.38\n",
       "1178 203620 2       96380.49\n",
       "1179 184000 1      119714.71\n",
       "1181 190295 1       73046.26\n",
       "1183 184120 1       77104.39\n",
       "1184 201805 1       89278.77\n",
       "1185 180555 1      114642.05\n",
       "1186 201125 1      137976.28\n",
       "1187 186265 1      117685.65\n",
       "1190 196395 1       73046.26\n",
       "1192 204950 2      103482.21\n",
       "1194 196240 1       89278.77\n",
       "1195 183780 1       50726.57\n",
       "1199 180605 1      188702.85\n",
       "1202 193050 2       45653.91\n",
       "1203 204490 1       98409.55"
      ]
     },
     "metadata": {},
     "output_type": "display_data"
    }
   ],
   "source": [
    "setwd(\"D:/BAX441/Midterm Exam\")\n",
    "Q7<-read.csv('Question7.csv')\n",
    "df<-Q7[Q7$OCCAT1==1|Q7$OCCAT1==2,]\n",
    "OCCAT1<-as.factor(df$OCCAT1)\n",
    "income<-df$INCOME\n",
    "df"
   ]
  },
  {
   "cell_type": "markdown",
   "metadata": {},
   "source": [
    "**Requirement Test**\n",
    "\n",
    "#1. Randomly selected sample - Satisfy\n",
    "#2. Normality - Unsatisfy, because the p-value of the normality test is less than 0.05\n",
    "#3. Variances are constant - Satisfy, because the p-value of the normality test is larger than 0.05\n",
    "\n",
    "**Hypothesis**\n",
    "\n",
    "$H_{0}$: $\\mu_{workforsomeone} \\le \\mu_{workforself}$\n",
    "\n",
    "$H_{1}$: $\\mu_{workforsomeone} $>$ \\mu_{workforself}$\n",
    "\n",
    "where $\\mu$ is the mean income\n",
    "\n",
    "**Significant Level**\n",
    "\n",
    "Assume the significant level is 5%."
   ]
  },
  {
   "cell_type": "code",
   "execution_count": 9,
   "metadata": {
    "ExecuteTime": {
     "end_time": "2019-11-27T18:31:23.167227Z",
     "start_time": "2019-11-27T18:31:22.978Z"
    },
    "scrolled": false
   },
   "outputs": [
    {
     "data": {
      "text/plain": [
       "\n",
       "\tAnderson-Darling normality test\n",
       "\n",
       "data:  resids_ex7\n",
       "A = 17.136, p-value < 2.2e-16\n"
      ]
     },
     "metadata": {},
     "output_type": "display_data"
    },
    {
     "data": {
      "text/plain": [
       "\n",
       "\tFligner-Killeen test of homogeneity of variances\n",
       "\n",
       "data:  income by OCCAT1\n",
       "Fligner-Killeen:med chi-squared = 0.30022, df = 1, p-value = 0.5837\n"
      ]
     },
     "metadata": {},
     "output_type": "display_data"
    },
    {
     "data": {
      "text/html": [
       "<table>\n",
       "<thead><tr><th></th><th scope=col>Df</th><th scope=col>F value</th><th scope=col>Pr(&gt;F)</th></tr></thead>\n",
       "<tbody>\n",
       "\t<tr><th scope=row>group</th><td>  1      </td><td>0.7486684</td><td>0.3871494</td></tr>\n",
       "\t<tr><th scope=row> </th><td>826      </td><td>       NA</td><td>       NA</td></tr>\n",
       "</tbody>\n",
       "</table>\n"
      ],
      "text/latex": [
       "\\begin{tabular}{r|lll}\n",
       "  & Df & F value & Pr(>F)\\\\\n",
       "\\hline\n",
       "\tgroup &   1       & 0.7486684 & 0.3871494\\\\\n",
       "\t  & 826       &        NA &        NA\\\\\n",
       "\\end{tabular}\n"
      ],
      "text/markdown": [
       "\n",
       "| <!--/--> | Df | F value | Pr(>F) |\n",
       "|---|---|---|---|\n",
       "| group |   1       | 0.7486684 | 0.3871494 |\n",
       "|   | 826       |        NA |        NA |\n",
       "\n"
      ],
      "text/plain": [
       "      Df  F value   Pr(>F)   \n",
       "group   1 0.7486684 0.3871494\n",
       "      826        NA        NA"
      ]
     },
     "metadata": {},
     "output_type": "display_data"
    },
    {
     "data": {
      "text/plain": [
       "\n",
       "\tWilcoxon rank sum test with continuity correction\n",
       "\n",
       "data:  income by OCCAT1\n",
       "W = 42590, p-value = 0.001079\n",
       "alternative hypothesis: true location shift is greater than 0\n"
      ]
     },
     "metadata": {},
     "output_type": "display_data"
    },
    {
     "name": "stdout",
     "output_type": "stream",
     "text": [
      "[1] \"Yes, at 5% significant level, middle-class heads of households who work for someone else have higher incomes than heads of households who are self-employed\"\n"
     ]
    },
    {
     "data": {
      "image/png": "[encoded data removed]",
      "text/plain": [
       "Plot with title \"density.default(x = group1$INCOME)\""
      ]
     },
     "metadata": {},
     "output_type": "display_data"
    }
   ],
   "source": [
    "#########Requirement Test######################\n",
    "#1. Randomly selected sample - Satisfy\n",
    "#2. Normality - Unsatisfy, because the p-value of the normality test is less than 0.05\n",
    "model_ex7 <- lm( income~  OCCAT1)\n",
    "resids_ex7 <- residuals(model_ex7)\n",
    "preds_ex7 <- predict(model_ex7)\n",
    "\n",
    "nortest::ad.test(resids_ex7)\n",
    "\n",
    "#hist(resids_ex7)\n",
    "#hist(df$INCOME)\n",
    "#hist(df$OCCAT1)\n",
    "#qqnorm(resids_ex7)\n",
    "#qqline(resids_ex7)\n",
    "\n",
    "#3. Variances are constant - Satisfy, because the p-value of the normality test is larger than 0.05\n",
    "fligner.test( income~  OCCAT1)\n",
    "car::leveneTest(income~  OCCAT1)\n",
    "#########Wilcoxon Rank Sum Test ################\n",
    "\n",
    "group1<-Q7[Q7$OCCAT1==1,]\n",
    "group2<-Q7[Q7$OCCAT1==2,]\n",
    "wilcox.test(income~  OCCAT1,alt='greater',paired=FALSE,exacted=FALSE,conf.level=0.95)\n",
    "\n",
    "\n",
    "plot(density(group1$INCOME),col='black')\n",
    "lines(density(group2$INCOME),col = \"red\")\n",
    "########Conclusion#############################\n",
    "\n",
    "print('Yes, at 5% significant level, middle-class heads of households who work for someone else have higher incomes than heads of households who are self-employed')"
   ]
  },
  {
   "cell_type": "markdown",
   "metadata": {},
   "source": [
    "# (30 points) Question 8\n",
    "Detergent manufacturers frequently make claims about the effectiveness of their products. A consumer-protection service decided to test the five best selling brands of detergent, where each manufacturer claims that its product produces the “whitest whites” in all water temperatures. The experiment was conducted in the following way. One hundred fifty white sheets were equally soiled. Thirty sheets were washed in each brand—l0 with cold water, 10 with warm water, and 10 with hot water. After washing, the “whiteness” scores for each sheet were measured with laser equipment.\n",
    "- Column 1: Water temperature code \n",
    "- Column 2: Scores for detergent 1 (first 10 rows = cold water, middle 10 rows = warm, last 10 rows = hot) \n",
    "- Column 3: Scores for detergent 2 (same format as column 2) \n",
    "- Column 4: Scores for detergent 3 (same format as column 2) \n",
    "- Column 5: Scores for detergent 4 (same format as column 2) \n",
    "- Column 6: Scores for detergent 5 (same format as column 2)\n",
    "\n",
    "Perform a statistic analysis using a 5% significance level to determine whether there is sufficient statistical evidence to infer that there are differences in whiteness scores between the five detergents, differences in whiteness scores between the three water temperatures, or interaction between detergents and temperatures. Explain the interaction, if you observe any. The dataset is available on the CSV file Question8.\n"
   ]
  },
  {
   "cell_type": "code",
   "execution_count": 13,
   "metadata": {
    "ExecuteTime": {
     "end_time": "2019-11-27T18:50:02.979347Z",
     "start_time": "2019-11-27T18:50:02.916Z"
    },
    "collapsed": true
   },
   "outputs": [
    {
     "data": {
      "text/html": [
       "<table>\n",
       "<thead><tr><th scope=col>temp_brand</th><th scope=col>Temperature</th><th scope=col>Brands</th><th scope=col>Rate</th></tr></thead>\n",
       "<tbody>\n",
       "\t<tr><td>Cold-Detergent1</td><td>Cold           </td><td>Detergent1     </td><td>66             </td></tr>\n",
       "\t<tr><td>Cold-Detergent1</td><td>Cold           </td><td>Detergent1     </td><td>87             </td></tr>\n",
       "\t<tr><td>Cold-Detergent1</td><td>Cold           </td><td>Detergent1     </td><td>55             </td></tr>\n",
       "\t<tr><td>Cold-Detergent1</td><td>Cold           </td><td>Detergent1     </td><td>41             </td></tr>\n",
       "\t<tr><td>Cold-Detergent1</td><td>Cold           </td><td>Detergent1     </td><td>68             </td></tr>\n",
       "\t<tr><td>Cold-Detergent1</td><td>Cold           </td><td>Detergent1     </td><td>49             </td></tr>\n",
       "\t<tr><td>Cold-Detergent1</td><td>Cold           </td><td>Detergent1     </td><td>52             </td></tr>\n",
       "\t<tr><td>Cold-Detergent1</td><td>Cold           </td><td>Detergent1     </td><td>57             </td></tr>\n",
       "\t<tr><td>Cold-Detergent1</td><td>Cold           </td><td>Detergent1     </td><td>66             </td></tr>\n",
       "\t<tr><td>Cold-Detergent1</td><td>Cold           </td><td>Detergent1     </td><td>62             </td></tr>\n",
       "\t<tr><td>Warm-Detergent1</td><td>Warm           </td><td>Detergent1     </td><td>78             </td></tr>\n",
       "\t<tr><td>Warm-Detergent1</td><td>Warm           </td><td>Detergent1     </td><td>65             </td></tr>\n",
       "\t<tr><td>Warm-Detergent1</td><td>Warm           </td><td>Detergent1     </td><td>68             </td></tr>\n",
       "\t<tr><td>Warm-Detergent1</td><td>Warm           </td><td>Detergent1     </td><td>75             </td></tr>\n",
       "\t<tr><td>Warm-Detergent1</td><td>Warm           </td><td>Detergent1     </td><td>57             </td></tr>\n",
       "\t<tr><td>Warm-Detergent1</td><td>Warm           </td><td>Detergent1     </td><td>48             </td></tr>\n",
       "\t<tr><td>Warm-Detergent1</td><td>Warm           </td><td>Detergent1     </td><td>84             </td></tr>\n",
       "\t<tr><td>Warm-Detergent1</td><td>Warm           </td><td>Detergent1     </td><td>69             </td></tr>\n",
       "\t<tr><td>Warm-Detergent1</td><td>Warm           </td><td>Detergent1     </td><td>55             </td></tr>\n",
       "\t<tr><td>Warm-Detergent1</td><td>Warm           </td><td>Detergent1     </td><td>78             </td></tr>\n",
       "\t<tr><td>Hot-Detergent1 </td><td>Hot            </td><td>Detergent1     </td><td>99             </td></tr>\n",
       "\t<tr><td>Hot-Detergent1 </td><td>Hot            </td><td>Detergent1     </td><td>87             </td></tr>\n",
       "\t<tr><td>Hot-Detergent1 </td><td>Hot            </td><td>Detergent1     </td><td>57             </td></tr>\n",
       "\t<tr><td>Hot-Detergent1 </td><td>Hot            </td><td>Detergent1     </td><td>84             </td></tr>\n",
       "\t<tr><td>Hot-Detergent1 </td><td>Hot            </td><td>Detergent1     </td><td>93             </td></tr>\n",
       "\t<tr><td>Hot-Detergent1 </td><td>Hot            </td><td>Detergent1     </td><td>64             </td></tr>\n",
       "\t<tr><td>Hot-Detergent1 </td><td>Hot            </td><td>Detergent1     </td><td>90             </td></tr>\n",
       "\t<tr><td>Hot-Detergent1 </td><td>Hot            </td><td>Detergent1     </td><td>85             </td></tr>\n",
       "\t<tr><td>Hot-Detergent1 </td><td>Hot            </td><td>Detergent1     </td><td>64             </td></tr>\n",
       "\t<tr><td>Hot-Detergent1 </td><td>Hot            </td><td>Detergent1     </td><td>84             </td></tr>\n",
       "\t<tr><td>...</td><td>...</td><td>...</td><td>...</td></tr>\n",
       "\t<tr><td>Cold-Detergent5</td><td>Cold           </td><td>Detergent5     </td><td> 84            </td></tr>\n",
       "\t<tr><td>Cold-Detergent5</td><td>Cold           </td><td>Detergent5     </td><td> 67            </td></tr>\n",
       "\t<tr><td>Cold-Detergent5</td><td>Cold           </td><td>Detergent5     </td><td> 99            </td></tr>\n",
       "\t<tr><td>Cold-Detergent5</td><td>Cold           </td><td>Detergent5     </td><td> 85            </td></tr>\n",
       "\t<tr><td>Cold-Detergent5</td><td>Cold           </td><td>Detergent5     </td><td> 73            </td></tr>\n",
       "\t<tr><td>Cold-Detergent5</td><td>Cold           </td><td>Detergent5     </td><td> 74            </td></tr>\n",
       "\t<tr><td>Cold-Detergent5</td><td>Cold           </td><td>Detergent5     </td><td> 76            </td></tr>\n",
       "\t<tr><td>Cold-Detergent5</td><td>Cold           </td><td>Detergent5     </td><td> 82            </td></tr>\n",
       "\t<tr><td>Cold-Detergent5</td><td>Cold           </td><td>Detergent5     </td><td> 79            </td></tr>\n",
       "\t<tr><td>Cold-Detergent5</td><td>Cold           </td><td>Detergent5     </td><td> 79            </td></tr>\n",
       "\t<tr><td>Warm-Detergent5</td><td>Warm           </td><td>Detergent5     </td><td> 87            </td></tr>\n",
       "\t<tr><td>Warm-Detergent5</td><td>Warm           </td><td>Detergent5     </td><td>100            </td></tr>\n",
       "\t<tr><td>Warm-Detergent5</td><td>Warm           </td><td>Detergent5     </td><td> 83            </td></tr>\n",
       "\t<tr><td>Warm-Detergent5</td><td>Warm           </td><td>Detergent5     </td><td> 82            </td></tr>\n",
       "\t<tr><td>Warm-Detergent5</td><td>Warm           </td><td>Detergent5     </td><td> 93            </td></tr>\n",
       "\t<tr><td>Warm-Detergent5</td><td>Warm           </td><td>Detergent5     </td><td> 76            </td></tr>\n",
       "\t<tr><td>Warm-Detergent5</td><td>Warm           </td><td>Detergent5     </td><td> 87            </td></tr>\n",
       "\t<tr><td>Warm-Detergent5</td><td>Warm           </td><td>Detergent5     </td><td> 76            </td></tr>\n",
       "\t<tr><td>Warm-Detergent5</td><td>Warm           </td><td>Detergent5     </td><td> 70            </td></tr>\n",
       "\t<tr><td>Warm-Detergent5</td><td>Warm           </td><td>Detergent5     </td><td> 78            </td></tr>\n",
       "\t<tr><td>Hot-Detergent5 </td><td>Hot            </td><td>Detergent5     </td><td> 84            </td></tr>\n",
       "\t<tr><td>Hot-Detergent5 </td><td>Hot            </td><td>Detergent5     </td><td> 95            </td></tr>\n",
       "\t<tr><td>Hot-Detergent5 </td><td>Hot            </td><td>Detergent5     </td><td> 82            </td></tr>\n",
       "\t<tr><td>Hot-Detergent5 </td><td>Hot            </td><td>Detergent5     </td><td> 74            </td></tr>\n",
       "\t<tr><td>Hot-Detergent5 </td><td>Hot            </td><td>Detergent5     </td><td> 97            </td></tr>\n",
       "\t<tr><td>Hot-Detergent5 </td><td>Hot            </td><td>Detergent5     </td><td> 87            </td></tr>\n",
       "\t<tr><td>Hot-Detergent5 </td><td>Hot            </td><td>Detergent5     </td><td> 80            </td></tr>\n",
       "\t<tr><td>Hot-Detergent5 </td><td>Hot            </td><td>Detergent5     </td><td> 76            </td></tr>\n",
       "\t<tr><td>Hot-Detergent5 </td><td>Hot            </td><td>Detergent5     </td><td> 91            </td></tr>\n",
       "\t<tr><td>Hot-Detergent5 </td><td>Hot            </td><td>Detergent5     </td><td> 96            </td></tr>\n",
       "</tbody>\n",
       "</table>\n"
      ],
      "text/latex": [
       "\\begin{tabular}{r|llll}\n",
       " temp\\_brand & Temperature & Brands & Rate\\\\\n",
       "\\hline\n",
       "\t Cold-Detergent1 & Cold            & Detergent1      & 66             \\\\\n",
       "\t Cold-Detergent1 & Cold            & Detergent1      & 87             \\\\\n",
       "\t Cold-Detergent1 & Cold            & Detergent1      & 55             \\\\\n",
       "\t Cold-Detergent1 & Cold            & Detergent1      & 41             \\\\\n",
       "\t Cold-Detergent1 & Cold            & Detergent1      & 68             \\\\\n",
       "\t Cold-Detergent1 & Cold            & Detergent1      & 49             \\\\\n",
       "\t Cold-Detergent1 & Cold            & Detergent1      & 52             \\\\\n",
       "\t Cold-Detergent1 & Cold            & Detergent1      & 57             \\\\\n",
       "\t Cold-Detergent1 & Cold            & Detergent1      & 66             \\\\\n",
       "\t Cold-Detergent1 & Cold            & Detergent1      & 62             \\\\\n",
       "\t Warm-Detergent1 & Warm            & Detergent1      & 78             \\\\\n",
       "\t Warm-Detergent1 & Warm            & Detergent1      & 65             \\\\\n",
       "\t Warm-Detergent1 & Warm            & Detergent1      & 68             \\\\\n",
       "\t Warm-Detergent1 & Warm            & Detergent1      & 75             \\\\\n",
       "\t Warm-Detergent1 & Warm            & Detergent1      & 57             \\\\\n",
       "\t Warm-Detergent1 & Warm            & Detergent1      & 48             \\\\\n",
       "\t Warm-Detergent1 & Warm            & Detergent1      & 84             \\\\\n",
       "\t Warm-Detergent1 & Warm            & Detergent1      & 69             \\\\\n",
       "\t Warm-Detergent1 & Warm            & Detergent1      & 55             \\\\\n",
       "\t Warm-Detergent1 & Warm            & Detergent1      & 78             \\\\\n",
       "\t Hot-Detergent1  & Hot             & Detergent1      & 99             \\\\\n",
       "\t Hot-Detergent1  & Hot             & Detergent1      & 87             \\\\\n",
       "\t Hot-Detergent1  & Hot             & Detergent1      & 57             \\\\\n",
       "\t Hot-Detergent1  & Hot             & Detergent1      & 84             \\\\\n",
       "\t Hot-Detergent1  & Hot             & Detergent1      & 93             \\\\\n",
       "\t Hot-Detergent1  & Hot             & Detergent1      & 64             \\\\\n",
       "\t Hot-Detergent1  & Hot             & Detergent1      & 90             \\\\\n",
       "\t Hot-Detergent1  & Hot             & Detergent1      & 85             \\\\\n",
       "\t Hot-Detergent1  & Hot             & Detergent1      & 64             \\\\\n",
       "\t Hot-Detergent1  & Hot             & Detergent1      & 84             \\\\\n",
       "\t ... & ... & ... & ...\\\\\n",
       "\t Cold-Detergent5 & Cold            & Detergent5      &  84            \\\\\n",
       "\t Cold-Detergent5 & Cold            & Detergent5      &  67            \\\\\n",
       "\t Cold-Detergent5 & Cold            & Detergent5      &  99            \\\\\n",
       "\t Cold-Detergent5 & Cold            & Detergent5      &  85            \\\\\n",
       "\t Cold-Detergent5 & Cold            & Detergent5      &  73            \\\\\n",
       "\t Cold-Detergent5 & Cold            & Detergent5      &  74            \\\\\n",
       "\t Cold-Detergent5 & Cold            & Detergent5      &  76            \\\\\n",
       "\t Cold-Detergent5 & Cold            & Detergent5      &  82            \\\\\n",
       "\t Cold-Detergent5 & Cold            & Detergent5      &  79            \\\\\n",
       "\t Cold-Detergent5 & Cold            & Detergent5      &  79            \\\\\n",
       "\t Warm-Detergent5 & Warm            & Detergent5      &  87            \\\\\n",
       "\t Warm-Detergent5 & Warm            & Detergent5      & 100            \\\\\n",
       "\t Warm-Detergent5 & Warm            & Detergent5      &  83            \\\\\n",
       "\t Warm-Detergent5 & Warm            & Detergent5      &  82            \\\\\n",
       "\t Warm-Detergent5 & Warm            & Detergent5      &  93            \\\\\n",
       "\t Warm-Detergent5 & Warm            & Detergent5      &  76            \\\\\n",
       "\t Warm-Detergent5 & Warm            & Detergent5      &  87            \\\\\n",
       "\t Warm-Detergent5 & Warm            & Detergent5      &  76            \\\\\n",
       "\t Warm-Detergent5 & Warm            & Detergent5      &  70            \\\\\n",
       "\t Warm-Detergent5 & Warm            & Detergent5      &  78            \\\\\n",
       "\t Hot-Detergent5  & Hot             & Detergent5      &  84            \\\\\n",
       "\t Hot-Detergent5  & Hot             & Detergent5      &  95            \\\\\n",
       "\t Hot-Detergent5  & Hot             & Detergent5      &  82            \\\\\n",
       "\t Hot-Detergent5  & Hot             & Detergent5      &  74            \\\\\n",
       "\t Hot-Detergent5  & Hot             & Detergent5      &  97            \\\\\n",
       "\t Hot-Detergent5  & Hot             & Detergent5      &  87            \\\\\n",
       "\t Hot-Detergent5  & Hot             & Detergent5      &  80            \\\\\n",
       "\t Hot-Detergent5  & Hot             & Detergent5      &  76            \\\\\n",
       "\t Hot-Detergent5  & Hot             & Detergent5      &  91            \\\\\n",
       "\t Hot-Detergent5  & Hot             & Detergent5      &  96            \\\\\n",
       "\\end{tabular}\n"
      ],
      "text/markdown": [
       "\n",
       "| temp_brand | Temperature | Brands | Rate |\n",
       "|---|---|---|---|\n",
       "| Cold-Detergent1 | Cold            | Detergent1      | 66              |\n",
       "| Cold-Detergent1 | Cold            | Detergent1      | 87              |\n",
       "| Cold-Detergent1 | Cold            | Detergent1      | 55              |\n",
       "| Cold-Detergent1 | Cold            | Detergent1      | 41              |\n",
       "| Cold-Detergent1 | Cold            | Detergent1      | 68              |\n",
       "| Cold-Detergent1 | Cold            | Detergent1      | 49              |\n",
       "| Cold-Detergent1 | Cold            | Detergent1      | 52              |\n",
       "| Cold-Detergent1 | Cold            | Detergent1      | 57              |\n",
       "| Cold-Detergent1 | Cold            | Detergent1      | 66              |\n",
       "| Cold-Detergent1 | Cold            | Detergent1      | 62              |\n",
       "| Warm-Detergent1 | Warm            | Detergent1      | 78              |\n",
       "| Warm-Detergent1 | Warm            | Detergent1      | 65              |\n",
       "| Warm-Detergent1 | Warm            | Detergent1      | 68              |\n",
       "| Warm-Detergent1 | Warm            | Detergent1      | 75              |\n",
       "| Warm-Detergent1 | Warm            | Detergent1      | 57              |\n",
       "| Warm-Detergent1 | Warm            | Detergent1      | 48              |\n",
       "| Warm-Detergent1 | Warm            | Detergent1      | 84              |\n",
       "| Warm-Detergent1 | Warm            | Detergent1      | 69              |\n",
       "| Warm-Detergent1 | Warm            | Detergent1      | 55              |\n",
       "| Warm-Detergent1 | Warm            | Detergent1      | 78              |\n",
       "| Hot-Detergent1  | Hot             | Detergent1      | 99              |\n",
       "| Hot-Detergent1  | Hot             | Detergent1      | 87              |\n",
       "| Hot-Detergent1  | Hot             | Detergent1      | 57              |\n",
       "| Hot-Detergent1  | Hot             | Detergent1      | 84              |\n",
       "| Hot-Detergent1  | Hot             | Detergent1      | 93              |\n",
       "| Hot-Detergent1  | Hot             | Detergent1      | 64              |\n",
       "| Hot-Detergent1  | Hot             | Detergent1      | 90              |\n",
       "| Hot-Detergent1  | Hot             | Detergent1      | 85              |\n",
       "| Hot-Detergent1  | Hot             | Detergent1      | 64              |\n",
       "| Hot-Detergent1  | Hot             | Detergent1      | 84              |\n",
       "| ... | ... | ... | ... |\n",
       "| Cold-Detergent5 | Cold            | Detergent5      |  84             |\n",
       "| Cold-Detergent5 | Cold            | Detergent5      |  67             |\n",
       "| Cold-Detergent5 | Cold            | Detergent5      |  99             |\n",
       "| Cold-Detergent5 | Cold            | Detergent5      |  85             |\n",
       "| Cold-Detergent5 | Cold            | Detergent5      |  73             |\n",
       "| Cold-Detergent5 | Cold            | Detergent5      |  74             |\n",
       "| Cold-Detergent5 | Cold            | Detergent5      |  76             |\n",
       "| Cold-Detergent5 | Cold            | Detergent5      |  82             |\n",
       "| Cold-Detergent5 | Cold            | Detergent5      |  79             |\n",
       "| Cold-Detergent5 | Cold            | Detergent5      |  79             |\n",
       "| Warm-Detergent5 | Warm            | Detergent5      |  87             |\n",
       "| Warm-Detergent5 | Warm            | Detergent5      | 100             |\n",
       "| Warm-Detergent5 | Warm            | Detergent5      |  83             |\n",
       "| Warm-Detergent5 | Warm            | Detergent5      |  82             |\n",
       "| Warm-Detergent5 | Warm            | Detergent5      |  93             |\n",
       "| Warm-Detergent5 | Warm            | Detergent5      |  76             |\n",
       "| Warm-Detergent5 | Warm            | Detergent5      |  87             |\n",
       "| Warm-Detergent5 | Warm            | Detergent5      |  76             |\n",
       "| Warm-Detergent5 | Warm            | Detergent5      |  70             |\n",
       "| Warm-Detergent5 | Warm            | Detergent5      |  78             |\n",
       "| Hot-Detergent5  | Hot             | Detergent5      |  84             |\n",
       "| Hot-Detergent5  | Hot             | Detergent5      |  95             |\n",
       "| Hot-Detergent5  | Hot             | Detergent5      |  82             |\n",
       "| Hot-Detergent5  | Hot             | Detergent5      |  74             |\n",
       "| Hot-Detergent5  | Hot             | Detergent5      |  97             |\n",
       "| Hot-Detergent5  | Hot             | Detergent5      |  87             |\n",
       "| Hot-Detergent5  | Hot             | Detergent5      |  80             |\n",
       "| Hot-Detergent5  | Hot             | Detergent5      |  76             |\n",
       "| Hot-Detergent5  | Hot             | Detergent5      |  91             |\n",
       "| Hot-Detergent5  | Hot             | Detergent5      |  96             |\n",
       "\n"
      ],
      "text/plain": [
       "    temp_brand      Temperature Brands     Rate\n",
       "1   Cold-Detergent1 Cold        Detergent1 66  \n",
       "2   Cold-Detergent1 Cold        Detergent1 87  \n",
       "3   Cold-Detergent1 Cold        Detergent1 55  \n",
       "4   Cold-Detergent1 Cold        Detergent1 41  \n",
       "5   Cold-Detergent1 Cold        Detergent1 68  \n",
       "6   Cold-Detergent1 Cold        Detergent1 49  \n",
       "7   Cold-Detergent1 Cold        Detergent1 52  \n",
       "8   Cold-Detergent1 Cold        Detergent1 57  \n",
       "9   Cold-Detergent1 Cold        Detergent1 66  \n",
       "10  Cold-Detergent1 Cold        Detergent1 62  \n",
       "11  Warm-Detergent1 Warm        Detergent1 78  \n",
       "12  Warm-Detergent1 Warm        Detergent1 65  \n",
       "13  Warm-Detergent1 Warm        Detergent1 68  \n",
       "14  Warm-Detergent1 Warm        Detergent1 75  \n",
       "15  Warm-Detergent1 Warm        Detergent1 57  \n",
       "16  Warm-Detergent1 Warm        Detergent1 48  \n",
       "17  Warm-Detergent1 Warm        Detergent1 84  \n",
       "18  Warm-Detergent1 Warm        Detergent1 69  \n",
       "19  Warm-Detergent1 Warm        Detergent1 55  \n",
       "20  Warm-Detergent1 Warm        Detergent1 78  \n",
       "21  Hot-Detergent1  Hot         Detergent1 99  \n",
       "22  Hot-Detergent1  Hot         Detergent1 87  \n",
       "23  Hot-Detergent1  Hot         Detergent1 57  \n",
       "24  Hot-Detergent1  Hot         Detergent1 84  \n",
       "25  Hot-Detergent1  Hot         Detergent1 93  \n",
       "26  Hot-Detergent1  Hot         Detergent1 64  \n",
       "27  Hot-Detergent1  Hot         Detergent1 90  \n",
       "28  Hot-Detergent1  Hot         Detergent1 85  \n",
       "29  Hot-Detergent1  Hot         Detergent1 64  \n",
       "30  Hot-Detergent1  Hot         Detergent1 84  \n",
       "... ...             ...         ...        ... \n",
       "121 Cold-Detergent5 Cold        Detergent5  84 \n",
       "122 Cold-Detergent5 Cold        Detergent5  67 \n",
       "123 Cold-Detergent5 Cold        Detergent5  99 \n",
       "124 Cold-Detergent5 Cold        Detergent5  85 \n",
       "125 Cold-Detergent5 Cold        Detergent5  73 \n",
       "126 Cold-Detergent5 Cold        Detergent5  74 \n",
       "127 Cold-Detergent5 Cold        Detergent5  76 \n",
       "128 Cold-Detergent5 Cold        Detergent5  82 \n",
       "129 Cold-Detergent5 Cold        Detergent5  79 \n",
       "130 Cold-Detergent5 Cold        Detergent5  79 \n",
       "131 Warm-Detergent5 Warm        Detergent5  87 \n",
       "132 Warm-Detergent5 Warm        Detergent5 100 \n",
       "133 Warm-Detergent5 Warm        Detergent5  83 \n",
       "134 Warm-Detergent5 Warm        Detergent5  82 \n",
       "135 Warm-Detergent5 Warm        Detergent5  93 \n",
       "136 Warm-Detergent5 Warm        Detergent5  76 \n",
       "137 Warm-Detergent5 Warm        Detergent5  87 \n",
       "138 Warm-Detergent5 Warm        Detergent5  76 \n",
       "139 Warm-Detergent5 Warm        Detergent5  70 \n",
       "140 Warm-Detergent5 Warm        Detergent5  78 \n",
       "141 Hot-Detergent5  Hot         Detergent5  84 \n",
       "142 Hot-Detergent5  Hot         Detergent5  95 \n",
       "143 Hot-Detergent5  Hot         Detergent5  82 \n",
       "144 Hot-Detergent5  Hot         Detergent5  74 \n",
       "145 Hot-Detergent5  Hot         Detergent5  97 \n",
       "146 Hot-Detergent5  Hot         Detergent5  87 \n",
       "147 Hot-Detergent5  Hot         Detergent5  80 \n",
       "148 Hot-Detergent5  Hot         Detergent5  76 \n",
       "149 Hot-Detergent5  Hot         Detergent5  91 \n",
       "150 Hot-Detergent5  Hot         Detergent5  96 "
      ]
     },
     "metadata": {},
     "output_type": "display_data"
    }
   ],
   "source": [
    "setwd(\"D:/BAX441/Midterm Exam\")\n",
    "Q8<-read.csv('Question8.csv')\n",
    "df <- melt(Q8, id=\"Temperature\")\n",
    "colnames(df)<-c('Temperature','Brands','Rate')\n",
    "temp<-as.factor(df$Temperature)\n",
    "brands<-as.factor(df$Brands)\n",
    "rates<-df$Rate\n",
    "temp_brand<-df%>% unite(col='temp_brand',Temperature,Brands,sep='-', remove=FALSE)\n",
    "temp_brand"
   ]
  },
  {
   "cell_type": "markdown",
   "metadata": {},
   "source": [
    "\n",
    "\n",
    "**Hypothesis** Do interaction test first\n",
    "\n",
    "$𝐻_{0}$:water temperatures and detergents do not have interaction to affect the whiteness scores\n",
    "\n",
    "$𝐻_{1}$:water temperatures and detergents do have interaction to affect the whiteness scores\n",
    "\n",
    "**Significant Level**\n",
    "5%"
   ]
  },
  {
   "cell_type": "code",
   "execution_count": 15,
   "metadata": {
    "ExecuteTime": {
     "end_time": "2019-11-27T18:51:56.151473Z",
     "start_time": "2019-11-27T18:51:56.038Z"
    },
    "scrolled": false
   },
   "outputs": [
    {
     "data": {
      "text/plain": [
       "             Df Sum Sq Mean Sq F value   Pr(>F)    \n",
       "temp          2   3937  1968.5  17.824 1.35e-07 ***\n",
       "brands        4   2967   741.9   6.717 5.83e-05 ***\n",
       "temp:brands   8   2452   306.5   2.775  0.00714 ** \n",
       "Residuals   135  14910   110.4                     \n",
       "---\n",
       "Signif. codes:  0 '***' 0.001 '**' 0.01 '*' 0.05 '.' 0.1 ' ' 1"
      ]
     },
     "metadata": {},
     "output_type": "display_data"
    },
    {
     "data": {
      "image/png": "[encoded data removed]",
      "text/plain": [
       "plot without title"
      ]
     },
     "metadata": {},
     "output_type": "display_data"
    },
    {
     "data": {
      "image/png": "[encoded data removed]",
      "text/plain": [
       "plot without title"
      ]
     },
     "metadata": {},
     "output_type": "display_data"
    }
   ],
   "source": [
    "\n",
    "#########2 Factor ANOVA ################\n",
    "ANOVA8 <- aov(rates ~ temp + brands+brands*temp)\n",
    "summary(ANOVA8)\n",
    "\n",
    "interaction.plot(temp, brands, rates)\n",
    "interaction.plot(brands, temp, rates)\n",
    "########Conclusion#############################\n",
    "#At 5% significant level, there is an evidence of a strong interaction between the two factors: water temperature and brands.\n",
    "#The effect that water temperature has on the rates is not independent of the brands.\n",
    "#From the interaction plot and the test results, there is difference in whiteness score among different water \n",
    "#temperature. Hot water always does the best job, while warm water is better than cold water except the brand 2.\n",
    "#There are also some differences among the brands, but the whiteness scores of different brands are also dependent\n",
    "#on the water temperature."
   ]
  },
  {
   "cell_type": "markdown",
   "metadata": {},
   "source": [
    "# (20 points) Question 9\n",
    "Suppose you are gambling on a roulette wheel. Each time the wheel is spun, the result is one of the outcomes 0, 1, and so on through 36. Of these outcomes, 18 are red, 18 are black, and 1 is green. On each spin you bet $\\$5$ that a red outcome will occur and $\\$1$ that the green outcome will occur. If red occurs, you win a net $\\$4$. (You win $\\$10$ from red and nothing from green.) If green occurs, you win a net $\\$24$. (You win $\\$30$ from green and nothing from red.) If black occurs, you lose everything you bet for a loss of $\\$6$.\n"
   ]
  },
  {
   "cell_type": "markdown",
   "metadata": {},
   "source": [
    "## a.\t(10 points) Use random numbers to generate 20 plays from this strategy. Each play should indicate the net amount won or lost. Then, based on these 20 outcomes, calculate a 95% confidence interval for the total net amount won or lost from 1000 plays of the game. Would you conclude that this strategy is a winning one for you?\n",
    "\n",
    "\n"
   ]
  },
  {
   "cell_type": "code",
   "execution_count": 18,
   "metadata": {
    "ExecuteTime": {
     "end_time": "2019-11-27T19:00:37.410006Z",
     "start_time": "2019-11-27T19:00:37.378Z"
    },
    "collapsed": true
   },
   "outputs": [
    {
     "data": {
      "text/html": [
       "<ol>\n",
       "\t<li>4</li>\n",
       "\t<li>4</li>\n",
       "\t<li>4</li>\n",
       "\t<li>4</li>\n",
       "\t<li>4</li>\n",
       "\t<li>4</li>\n",
       "\t<li>4</li>\n",
       "\t<li>4</li>\n",
       "\t<li>4</li>\n",
       "\t<li>4</li>\n",
       "\t<li>4</li>\n",
       "\t<li>4</li>\n",
       "\t<li>4</li>\n",
       "\t<li>4</li>\n",
       "\t<li>4</li>\n",
       "\t<li>4</li>\n",
       "\t<li>4</li>\n",
       "\t<li>4</li>\n",
       "\t<li>-6</li>\n",
       "\t<li>-6</li>\n",
       "\t<li>-6</li>\n",
       "\t<li>-6</li>\n",
       "\t<li>-6</li>\n",
       "\t<li>-6</li>\n",
       "\t<li>-6</li>\n",
       "\t<li>-6</li>\n",
       "\t<li>-6</li>\n",
       "\t<li>-6</li>\n",
       "\t<li>-6</li>\n",
       "\t<li>-6</li>\n",
       "\t<li>-6</li>\n",
       "\t<li>-6</li>\n",
       "\t<li>-6</li>\n",
       "\t<li>-6</li>\n",
       "\t<li>-6</li>\n",
       "\t<li>-6</li>\n",
       "\t<li>24</li>\n",
       "</ol>\n"
      ],
      "text/latex": [
       "\\begin{enumerate}\n",
       "\\item 4\n",
       "\\item 4\n",
       "\\item 4\n",
       "\\item 4\n",
       "\\item 4\n",
       "\\item 4\n",
       "\\item 4\n",
       "\\item 4\n",
       "\\item 4\n",
       "\\item 4\n",
       "\\item 4\n",
       "\\item 4\n",
       "\\item 4\n",
       "\\item 4\n",
       "\\item 4\n",
       "\\item 4\n",
       "\\item 4\n",
       "\\item 4\n",
       "\\item -6\n",
       "\\item -6\n",
       "\\item -6\n",
       "\\item -6\n",
       "\\item -6\n",
       "\\item -6\n",
       "\\item -6\n",
       "\\item -6\n",
       "\\item -6\n",
       "\\item -6\n",
       "\\item -6\n",
       "\\item -6\n",
       "\\item -6\n",
       "\\item -6\n",
       "\\item -6\n",
       "\\item -6\n",
       "\\item -6\n",
       "\\item -6\n",
       "\\item 24\n",
       "\\end{enumerate}\n"
      ],
      "text/markdown": [
       "1. 4\n",
       "2. 4\n",
       "3. 4\n",
       "4. 4\n",
       "5. 4\n",
       "6. 4\n",
       "7. 4\n",
       "8. 4\n",
       "9. 4\n",
       "10. 4\n",
       "11. 4\n",
       "12. 4\n",
       "13. 4\n",
       "14. 4\n",
       "15. 4\n",
       "16. 4\n",
       "17. 4\n",
       "18. 4\n",
       "19. -6\n",
       "20. -6\n",
       "21. -6\n",
       "22. -6\n",
       "23. -6\n",
       "24. -6\n",
       "25. -6\n",
       "26. -6\n",
       "27. -6\n",
       "28. -6\n",
       "29. -6\n",
       "30. -6\n",
       "31. -6\n",
       "32. -6\n",
       "33. -6\n",
       "34. -6\n",
       "35. -6\n",
       "36. -6\n",
       "37. 24\n",
       "\n",
       "\n"
      ],
      "text/plain": [
       "[[1]]\n",
       "[1] 4\n",
       "\n",
       "[[2]]\n",
       "[1] 4\n",
       "\n",
       "[[3]]\n",
       "[1] 4\n",
       "\n",
       "[[4]]\n",
       "[1] 4\n",
       "\n",
       "[[5]]\n",
       "[1] 4\n",
       "\n",
       "[[6]]\n",
       "[1] 4\n",
       "\n",
       "[[7]]\n",
       "[1] 4\n",
       "\n",
       "[[8]]\n",
       "[1] 4\n",
       "\n",
       "[[9]]\n",
       "[1] 4\n",
       "\n",
       "[[10]]\n",
       "[1] 4\n",
       "\n",
       "[[11]]\n",
       "[1] 4\n",
       "\n",
       "[[12]]\n",
       "[1] 4\n",
       "\n",
       "[[13]]\n",
       "[1] 4\n",
       "\n",
       "[[14]]\n",
       "[1] 4\n",
       "\n",
       "[[15]]\n",
       "[1] 4\n",
       "\n",
       "[[16]]\n",
       "[1] 4\n",
       "\n",
       "[[17]]\n",
       "[1] 4\n",
       "\n",
       "[[18]]\n",
       "[1] 4\n",
       "\n",
       "[[19]]\n",
       "[1] -6\n",
       "\n",
       "[[20]]\n",
       "[1] -6\n",
       "\n",
       "[[21]]\n",
       "[1] -6\n",
       "\n",
       "[[22]]\n",
       "[1] -6\n",
       "\n",
       "[[23]]\n",
       "[1] -6\n",
       "\n",
       "[[24]]\n",
       "[1] -6\n",
       "\n",
       "[[25]]\n",
       "[1] -6\n",
       "\n",
       "[[26]]\n",
       "[1] -6\n",
       "\n",
       "[[27]]\n",
       "[1] -6\n",
       "\n",
       "[[28]]\n",
       "[1] -6\n",
       "\n",
       "[[29]]\n",
       "[1] -6\n",
       "\n",
       "[[30]]\n",
       "[1] -6\n",
       "\n",
       "[[31]]\n",
       "[1] -6\n",
       "\n",
       "[[32]]\n",
       "[1] -6\n",
       "\n",
       "[[33]]\n",
       "[1] -6\n",
       "\n",
       "[[34]]\n",
       "[1] -6\n",
       "\n",
       "[[35]]\n",
       "[1] -6\n",
       "\n",
       "[[36]]\n",
       "[1] -6\n",
       "\n",
       "[[37]]\n",
       "[1] 24\n"
      ]
     },
     "metadata": {},
     "output_type": "display_data"
    }
   ],
   "source": [
    "spin<-seq(0,36,1)\n",
    "outcome<-c(rep(list(4),18),rep(list(-6),18),24)\n",
    "outcome"
   ]
  },
  {
   "cell_type": "code",
   "execution_count": 20,
   "metadata": {
    "ExecuteTime": {
     "end_time": "2019-11-27T19:02:20.734121Z",
     "start_time": "2019-11-27T19:02:20.701Z"
    }
   },
   "outputs": [
    {
     "name": "stdout",
     "output_type": "stream",
     "text": [
      "The confidence interval for the total net amount won or lost form 1000 games is ( -2352.356 ,  2352.356 ).[1] \"No, I would not conclude that this strategy is a winning one for me.\"\n"
     ]
    }
   ],
   "source": [
    "set.seed(10)\n",
    "samples <- sample(outcome, 20, replace=TRUE)\n",
    "sample_sum<-sum(as.numeric(samples))\n",
    "sample_mean<-mean(as.numeric(samples))\n",
    "sample_sd<-sd(as.numeric(samples))\n",
    "t95<-qt(0.975,19)\n",
    "\n",
    "lower_limit<-(sample_mean-t95*sample_sd/sqrt(20))*1000\n",
    "upper_limit<-(sample_mean+t95*sample_sd/sqrt(20))*1000\n",
    "cat('The confidence interval for the total net amount won or lost form 1000 games is (',lower_limit,', ',upper_limit,').')\n",
    "print('No, I would not conclude that this strategy is a winning one for me.')"
   ]
  },
  {
   "cell_type": "markdown",
   "metadata": {},
   "source": [
    "## b.\t(10 points) Repeat part a, but with slightly changed rules. Now your betting strategy is the same, but if red occurs, your net gain is 5 (you win 11 from red, nothing from green). Comment on whether this slight change makes much of a difference in the mean total from 1000 bets."
   ]
  },
  {
   "cell_type": "code",
   "execution_count": 16,
   "metadata": {
    "ExecuteTime": {
     "end_time": "2019-11-27T18:58:06.260513Z",
     "start_time": "2019-11-27T18:58:06.238Z"
    }
   },
   "outputs": [],
   "source": [
    "spin<-seq(0,36,1)\n",
    "outcome<-c(rep(list(5),18),rep(list(-6),18),24)"
   ]
  },
  {
   "cell_type": "code",
   "execution_count": 17,
   "metadata": {
    "ExecuteTime": {
     "end_time": "2019-11-27T18:58:07.111237Z",
     "start_time": "2019-11-27T18:58:07.075Z"
    }
   },
   "outputs": [
    {
     "name": "stdout",
     "output_type": "stream",
     "text": [
      "The confidence interval for the mean total form 1000 games is ( -1987.592 ,  3187.592 ).[1] \"Yes, this slight change makes much of a difference in the mean total from 1000 bets. The lower limit and the upper limit become higher.\"\n"
     ]
    }
   ],
   "source": [
    "set.seed(10)\n",
    "samples <- sample(outcome, 20, replace=TRUE)\n",
    "sample_sum<-sum(as.numeric(samples))\n",
    "sample_mean<-mean(as.numeric(samples))\n",
    "sample_sd<-sd(as.numeric(samples))\n",
    "t95<-qt(0.975,19)\n",
    "\n",
    "lower_limit<-(sample_mean-t95*sample_sd/sqrt(20))*1000\n",
    "upper_limit<-(sample_mean+t95*sample_sd/sqrt(20))*1000\n",
    "cat('The confidence interval for the mean total form 1000 games is (',lower_limit,', ',upper_limit,').')\n",
    "print('Yes, this slight change makes much of a difference in the mean total from 1000 bets. The lower limit and the upper limit become higher.')"
   ]
  },
  {
   "cell_type": "markdown",
   "metadata": {},
   "source": [
    "#  (30 points) Question 10\n",
    "A/B testing has become a standard technique used to design Web pages for e-commerce. The success of A/B testing comes from taking advantage of randomization. \n",
    "\n",
    "In this question, owners of a startup fashion Web site believe that getting a shopper to add an item into a shopping cart is a key step leading to purchases. They want to design their site to attract customers to place an item in a shopping cart. Staff have proposed two designs that we will name Design A and Design B. These designs take different approaches to enticing shoppers to add an item into a shopping cart. Customers visiting a Web site are randomly directed to a Web page that is based on one of the two proposed designs. \n",
    "\n",
    "Based on prior experience, managers are most interested in the population of customers who visit the site during weekday evenings. Hence, the A/B test occurred during a 30-minute period on a Wednesday evening. Develop a 95% confidence interval for the difference between two proportions of visitors who add to shopping cart using designs A and B. If there’s no meaningful difference between the designs in the use of shopping carts, then management will let the software engineers choose the one that is easier to implement. What should the management decide?\n",
    "Dataset is provided on CSV file Question10.\n"
   ]
  },
  {
   "cell_type": "code",
   "execution_count": 2,
   "metadata": {
    "ExecuteTime": {
     "end_time": "2019-11-28T00:44:28.925553Z",
     "start_time": "2019-11-28T00:44:28.848Z"
    },
    "scrolled": true
   },
   "outputs": [],
   "source": [
    "setwd(\"D:/BAX441/Midterm Exam\")\n",
    "Q10<-read.csv('Question10.csv')\n",
    "Q10$CART<-ifelse(Q10[,3] == \"No\",0,1)\n",
    "df_A<-Q10[Q10[,2]==\"A\",]\n",
    "df_B<-Q10[Q10[,2]==\"B\",]\n",
    "p_A<-sum(df_A[,4])/length(df_A[,4])\n",
    "p_B<-sum(df_B[,4])/length(df_B[,4])\n"
   ]
  },
  {
   "cell_type": "markdown",
   "metadata": {},
   "source": [
    "\n",
    "**H0**:$p_{A}-p_{B}$ = 0\n",
    "\n",
    "**H1**: $p_{A}-p_{B}$ != 0\n"
   ]
  },
  {
   "cell_type": "code",
   "execution_count": 10,
   "metadata": {
    "ExecuteTime": {
     "end_time": "2019-11-28T00:54:35.537399Z",
     "start_time": "2019-11-28T00:54:35.496Z"
    }
   },
   "outputs": [
    {
     "data": {
      "text/plain": [
       "\n",
       "\t2-sample test for equality of proportions with continuity correction\n",
       "\n",
       "data:  c(sum(df_A[, 4]), sum(df_B[, 4])) out of c(length(df_A[, 4]), length(df_B[, 4]))\n",
       "X-squared = 15.864, df = 1, p-value = 6.805e-05\n",
       "alternative hypothesis: two.sided\n",
       "95 percent confidence interval:\n",
       " -0.04922122 -0.01643597\n",
       "sample estimates:\n",
       "    prop 1     prop 2 \n",
       "0.02534751 0.05817610 \n"
      ]
     },
     "metadata": {},
     "output_type": "display_data"
    },
    {
     "name": "stdout",
     "output_type": "stream",
     "text": [
      "The 95% confidence interval of the difference (A-B) is ( -0.04841931 ,  -0.01723788 ).[1] \"At 5% significant level, there is difference between A and B, and B is better than A. The management should use design B.\"\n"
     ]
    }
   ],
   "source": [
    "\n",
    "prop.test(x=c(sum(df_A[,4]),sum(df_B[,4])), n=c(length(df_A[,4]),length(df_B[,4])),alternative = c(\"two.sided\"), conf.level = 0.95, correct = TRUE)\n",
    "z<-qnorm(0.975, 0,1)\n",
    "\n",
    "\n",
    "upper_limit<-(p_A-p_B)+z*sqrt((p_A*(1-p_A)/length(df_A[,4]))+(p_B*(1-p_B)/length(df_B[,4])))\n",
    "lower_limit<-(p_A-p_B)-z*sqrt((p_A*(1-p_A)/length(df_A[,4]))+(p_B*(1-p_B)/length(df_B[,4])))\n",
    "cat('The 95% confidence interval of the difference (A-B) is (',lower_limit, ', ',upper_limit, ').')\n",
    "print('At 5% significant level, there is difference between A and B, and B is better than A. The management should use design B.')"
   ]
  },
  {
   "cell_type": "markdown",
   "metadata": {},
   "source": [
    "# (20 points) Question 11\n",
    "Vendors work hard to put their products in front of consumers, whether choosing the right site for advertising on the Web or getting the best location in a crowded supermarket. Is the effort worthwhile? How could you tell? \n",
    "\n",
    "To find an answer, vendors often collect their own data from experiments like the one considered in this question .\n",
    "\n",
    "These data describe an experiment conducted by the maker of a popular brand of snack food (tortilla chips). Stores charge a premium for placing products on the middle shelf, near eye level for most shoppers. The bottom shelf is cheaper, and the top shelf “rents” for the least cost. The chipmaker wants to learn if shelf placement matters: Are customers who buy chips more likely to purchase the brand occupying the coveted middle shelf? \n",
    "\n",
    "To obtain data, the chipmaker ran an experiment. Employees randomly changed the location of products on the shelves every few hours in a cooperating market. Each day, over a period of two weeks (14 days), agents randomly moved the packages from shelf to shelf. Check-out scanner receipts recorded results for customers who bought any of the three brands in the test (the chipmaker’s product, Competitor 1, Competitor 2). The data for each purchase identify the brand and the shelf location (top, middle, or bottom) and are shown on the CSV file Question11.\n"
   ]
  },
  {
   "cell_type": "code",
   "execution_count": 32,
   "metadata": {
    "ExecuteTime": {
     "end_time": "2019-11-28T05:51:46.505863Z",
     "start_time": "2019-11-28T05:51:46.401Z"
    }
   },
   "outputs": [
    {
     "data": {
      "text/html": [
       "<table>\n",
       "<thead><tr><th scope=col>Shelf.Location</th><th scope=col>Brand</th><th scope=col>Sales</th></tr></thead>\n",
       "<tbody>\n",
       "\t<tr><td>Top         </td><td>Test        </td><td>203         </td></tr>\n",
       "\t<tr><td>Top         </td><td>Competitor 1</td><td>148         </td></tr>\n",
       "\t<tr><td>Top         </td><td>Competitor 2</td><td>325         </td></tr>\n",
       "\t<tr><td>Middle      </td><td>Test        </td><td>263         </td></tr>\n",
       "\t<tr><td>Middle      </td><td>Competitor 1</td><td>132         </td></tr>\n",
       "\t<tr><td>Middle      </td><td>Competitor 2</td><td>278         </td></tr>\n",
       "\t<tr><td>Bottom      </td><td>Test        </td><td>189         </td></tr>\n",
       "\t<tr><td>Bottom      </td><td>Competitor 1</td><td>165         </td></tr>\n",
       "\t<tr><td>Bottom      </td><td>Competitor 2</td><td>215         </td></tr>\n",
       "</tbody>\n",
       "</table>\n"
      ],
      "text/latex": [
       "\\begin{tabular}{r|lll}\n",
       " Shelf.Location & Brand & Sales\\\\\n",
       "\\hline\n",
       "\t Top          & Test         & 203         \\\\\n",
       "\t Top          & Competitor 1 & 148         \\\\\n",
       "\t Top          & Competitor 2 & 325         \\\\\n",
       "\t Middle       & Test         & 263         \\\\\n",
       "\t Middle       & Competitor 1 & 132         \\\\\n",
       "\t Middle       & Competitor 2 & 278         \\\\\n",
       "\t Bottom       & Test         & 189         \\\\\n",
       "\t Bottom       & Competitor 1 & 165         \\\\\n",
       "\t Bottom       & Competitor 2 & 215         \\\\\n",
       "\\end{tabular}\n"
      ],
      "text/markdown": [
       "\n",
       "| Shelf.Location | Brand | Sales |\n",
       "|---|---|---|\n",
       "| Top          | Test         | 203          |\n",
       "| Top          | Competitor 1 | 148          |\n",
       "| Top          | Competitor 2 | 325          |\n",
       "| Middle       | Test         | 263          |\n",
       "| Middle       | Competitor 1 | 132          |\n",
       "| Middle       | Competitor 2 | 278          |\n",
       "| Bottom       | Test         | 189          |\n",
       "| Bottom       | Competitor 1 | 165          |\n",
       "| Bottom       | Competitor 2 | 215          |\n",
       "\n"
      ],
      "text/plain": [
       "  Shelf.Location Brand        Sales\n",
       "1 Top            Test         203  \n",
       "2 Top            Competitor 1 148  \n",
       "3 Top            Competitor 2 325  \n",
       "4 Middle         Test         263  \n",
       "5 Middle         Competitor 1 132  \n",
       "6 Middle         Competitor 2 278  \n",
       "7 Bottom         Test         189  \n",
       "8 Bottom         Competitor 1 165  \n",
       "9 Bottom         Competitor 2 215  "
      ]
     },
     "metadata": {},
     "output_type": "display_data"
    },
    {
     "data": {
      "text/html": [
       "<table>\n",
       "<thead><tr><th></th><th scope=col>test</th><th scope=col>competitor_1</th><th scope=col>competitor_2</th></tr></thead>\n",
       "<tbody>\n",
       "\t<tr><th scope=row>top</th><td>203</td><td>148</td><td>325</td></tr>\n",
       "\t<tr><th scope=row>middle</th><td>263</td><td>132</td><td>278</td></tr>\n",
       "\t<tr><th scope=row>botton</th><td>189</td><td>165</td><td>215</td></tr>\n",
       "</tbody>\n",
       "</table>\n"
      ],
      "text/latex": [
       "\\begin{tabular}{r|lll}\n",
       "  & test & competitor\\_1 & competitor\\_2\\\\\n",
       "\\hline\n",
       "\ttop & 203 & 148 & 325\\\\\n",
       "\tmiddle & 263 & 132 & 278\\\\\n",
       "\tbotton & 189 & 165 & 215\\\\\n",
       "\\end{tabular}\n"
      ],
      "text/markdown": [
       "\n",
       "| <!--/--> | test | competitor_1 | competitor_2 |\n",
       "|---|---|---|---|\n",
       "| top | 203 | 148 | 325 |\n",
       "| middle | 263 | 132 | 278 |\n",
       "| botton | 189 | 165 | 215 |\n",
       "\n"
      ],
      "text/plain": [
       "       test competitor_1 competitor_2\n",
       "top    203  148          325         \n",
       "middle 263  132          278         \n",
       "botton 189  165          215         "
      ]
     },
     "metadata": {},
     "output_type": "display_data"
    }
   ],
   "source": [
    "setwd(\"D:/BAX441/Midterm Exam\")\n",
    "Q11<-read.csv('Question11.csv')\n",
    "\n",
    "location<-as.factor(Q11[,1])\n",
    "brand<-as.factor(Q11[,2])\n",
    "sale<-Q11[,3]\n",
    "Q11\n",
    "\n",
    "test<-c(203,263,189)\n",
    "competitor_1<-c(148,132,165)\n",
    "competitor_2<-c(325,278,215)\n",
    "df<-cbind(test,competitor_1,competitor_2)\n",
    "rownames(df)<-c('top','middle','botton')\n",
    "\n",
    "df\n",
    "\n"
   ]
  },
  {
   "cell_type": "markdown",
   "metadata": {},
   "source": [
    "## a.\t(2 points) It would have been easier to record sales with the products in a fixed location for, say, one week, then move them, rather than run an experiment. What’s the advantage of performing an experiment? \n",
    "\n",
    "\n"
   ]
  },
  {
   "cell_type": "markdown",
   "metadata": {},
   "source": [
    "The experiment allows us to record the same product's sales at different locations, and compare it with other two products. If we only record sales with the products in a fixed location for one week and then move them, the factor, date, mey impact the results. If there is a holiday week, the sales may be impacted by the holiday. The experiment can provide us a more accurate result by eliminating or reducing some potential factors that may impact the outcome."
   ]
  },
  {
   "cell_type": "markdown",
   "metadata": {},
   "source": [
    "## b.\t(2 points) How can the chipmaker use the results of its experiment when negotiating shelf location with retail stores?\n",
    "\n",
    " "
   ]
  },
  {
   "cell_type": "markdown",
   "metadata": {},
   "source": [
    "If the middle shelf does have extra impact on sales, the chipmaker would accept the premium rental fee when the extra sales can cover the premium. However, if there is no difference among three shelf, the chipmaker can choose the cheappest one or show the result to the store and ask them eliminate the premium."
   ]
  },
  {
   "cell_type": "markdown",
   "metadata": {},
   "source": [
    "##  c.\t(10 points) Run an appropriate statistical test. Are the required conditions satisfied? Clearly state which required conditions did you test for.\n"
   ]
  },
  {
   "cell_type": "markdown",
   "metadata": {},
   "source": [
    "**Requirement Test**\n",
    "#1.Randomly selected sample\n",
    "#2. Categories defined in the table are mutually exclusive.\n",
    "#3.Have enough data in every cell.Expected counts > 5.\n",
    "\n",
    "\n"
   ]
  },
  {
   "cell_type": "markdown",
   "metadata": {},
   "source": [
    "**Categorical Test for Independency**\n",
    "\n",
    "Test the Treatment Effect:\n",
    "\n",
    "\n",
    "\n",
    "$𝐻_{0}$:Shelf location and sales for the producers are independent\n",
    "\n",
    "$𝐻_{1}$:Shelf location and sales for the producers are dependent"
   ]
  },
  {
   "cell_type": "code",
   "execution_count": 31,
   "metadata": {
    "ExecuteTime": {
     "end_time": "2019-11-28T05:51:17.808996Z",
     "start_time": "2019-11-28T05:51:17.733Z"
    }
   },
   "outputs": [
    {
     "data": {
      "text/plain": [
       "\n",
       "\tPearson's Chi-squared test\n",
       "\n",
       "data:  df\n",
       "X-squared = 28.876, df = 4, p-value = 8.284e-06\n"
      ]
     },
     "metadata": {},
     "output_type": "display_data"
    },
    {
     "data": {
      "text/html": [
       "<table>\n",
       "<thead><tr><th></th><th scope=col>test</th><th scope=col>competitor_1</th><th scope=col>competitor_2</th></tr></thead>\n",
       "<tbody>\n",
       "\t<tr><th scope=row>top</th><td>230.8551</td><td>156.8405</td><td>288.3045</td></tr>\n",
       "\t<tr><th scope=row>middle</th><td>229.8306</td><td>156.1444</td><td>287.0250</td></tr>\n",
       "\t<tr><th scope=row>botton</th><td>194.3144</td><td>132.0151</td><td>242.6705</td></tr>\n",
       "</tbody>\n",
       "</table>\n"
      ],
      "text/latex": [
       "\\begin{tabular}{r|lll}\n",
       "  & test & competitor\\_1 & competitor\\_2\\\\\n",
       "\\hline\n",
       "\ttop & 230.8551 & 156.8405 & 288.3045\\\\\n",
       "\tmiddle & 229.8306 & 156.1444 & 287.0250\\\\\n",
       "\tbotton & 194.3144 & 132.0151 & 242.6705\\\\\n",
       "\\end{tabular}\n"
      ],
      "text/markdown": [
       "\n",
       "| <!--/--> | test | competitor_1 | competitor_2 |\n",
       "|---|---|---|---|\n",
       "| top | 230.8551 | 156.8405 | 288.3045 |\n",
       "| middle | 229.8306 | 156.1444 | 287.0250 |\n",
       "| botton | 194.3144 | 132.0151 | 242.6705 |\n",
       "\n"
      ],
      "text/plain": [
       "       test     competitor_1 competitor_2\n",
       "top    230.8551 156.8405     288.3045    \n",
       "middle 229.8306 156.1444     287.0250    \n",
       "botton 194.3144 132.0151     242.6705    "
      ]
     },
     "metadata": {},
     "output_type": "display_data"
    },
    {
     "ename": "ERROR",
     "evalue": "Error in order(y): unimplemented type 'list' in 'orderVector1'\n\n",
     "output_type": "error",
     "traceback": [
      "Error in order(y): unimplemented type 'list' in 'orderVector1'\n\nTraceback:\n",
      "1. chisq.test(as.factor(c), as.factor(f))",
      "2. is.data.frame(x)",
      "3. as.factor(c)",
      "4. factor(x)",
      "5. order(y)"
     ]
    }
   ],
   "source": [
    "chisq.test(df)\n",
    "chisq.test(df)$expected\n",
    "\n",
    "\n",
    "\n",
    "########Conclusion#############################\n",
    "print('Yes, at 5% significant level, the shelf location and sales for the producers are dependent.')\n"
   ]
  },
  {
   "cell_type": "markdown",
   "metadata": {},
   "source": [
    "##  d.\t(3 points) What problem might arise if the experiment lasted, say, 2 months?"
   ]
  },
  {
   "cell_type": "markdown",
   "metadata": {},
   "source": [
    "People who are loyalty of a specific brand may be confused and buy less or non from the store. The experiment that last too long and changes shelf too frequent may impact store's revenue and the retention of customers."
   ]
  },
  {
   "cell_type": "markdown",
   "metadata": {},
   "source": [
    "## e.\t(3 points) Identify any key limitations of the experiment and its results."
   ]
  },
  {
   "cell_type": "markdown",
   "metadata": {},
   "source": [
    "The experiment did not consider other potential factors that impact the sales, such as whether the brand did the promotion. The result of this limitation let the company draw wrong conclusion about the shelf location and lost the opportunity to earn more money by placing product at the middle of the shelf.\n",
    "\n",
    "The experiment results show the shelg locaiton and sales of the producers are dependent, but cannot say the middle shelf is the best place for products. From the expection table, we can find that there is not very large difference between top and middle shelf."
   ]
  },
  {
   "cell_type": "code",
   "execution_count": null,
   "metadata": {},
   "outputs": [],
   "source": []
  }
 ],
 "metadata": {
  "kernelspec": {
   "display_name": "R",
   "language": "R",
   "name": "ir"
  },
  "language_info": {
   "codemirror_mode": "r",
   "file_extension": ".r",
   "mimetype": "text/x-r-source",
   "name": "R",
   "pygments_lexer": "r",
   "version": "3.6.1"
  },
  "toc": {
   "base_numbering": 1,
   "nav_menu": {
    "height": "98px",
    "width": "330px"
   },
   "number_sections": true,
   "sideBar": true,
   "skip_h1_title": false,
   "title_cell": "Table of Contents",
   "title_sidebar": "Contents",
   "toc_cell": false,
   "toc_position": {
    "height": "calc(100% - 180px)",
    "left": "10px",
    "top": "150px",
    "width": "274.28px"
   },
   "toc_section_display": true,
   "toc_window_display": true
  }
 },
 "nbformat": 4,
 "nbformat_minor": 2
}
