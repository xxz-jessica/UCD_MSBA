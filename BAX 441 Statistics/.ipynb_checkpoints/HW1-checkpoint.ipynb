{
 "cells": [
  {
   "cell_type": "markdown",
   "metadata": {},
   "source": [
    "## Question 1"
   ]
  },
  {
   "cell_type": "markdown",
   "metadata": {},
   "source": [
    "### a. \n",
    "Suppose that the survey was administered to 115 customers with the following results. Use 95% confidence level for proportion to analyze the results (only the Yes responses) to estimate the total proportion of customers in the population who say YES to each of these four questions given below. Write the interpretations like on my solved in-class exercises.\n",
    "\n",
    "Question\t\t\t\t\t\t\t|\tYes \t|\tNo\n",
    "----------------------------------|--------|------------\n",
    "1. Compared to most other stores that you shop in, is the Container Store more customer friendly?\t\t|\t73\t|\t42\n",
    "2. Most of the time, this store has the number and type of home or ofﬁce storage solution that I need.\t\t\t|\t81\t|\t34\n",
    "3. The salespeople at this store appear the be particularly knowledgeable  of their products.\t\t\t\t|\t88\t|  27\n",
    "4. Store hours are particularly convenient for me.\t\t\t\t\t|\t66\t|\t49\n"
   ]
  },
  {
   "cell_type": "code",
   "execution_count": 2,
   "metadata": {},
   "outputs": [
    {
     "data": {
      "text/html": [
       "<ol class=list-inline>\n",
       "\t<li>TRUE</li>\n",
       "\t<li>TRUE</li>\n",
       "\t<li>TRUE</li>\n",
       "\t<li>TRUE</li>\n",
       "</ol>\n"
      ],
      "text/latex": [
       "\\begin{enumerate*}\n",
       "\\item TRUE\n",
       "\\item TRUE\n",
       "\\item TRUE\n",
       "\\item TRUE\n",
       "\\end{enumerate*}\n"
      ],
      "text/markdown": [
       "1. TRUE\n",
       "2. TRUE\n",
       "3. TRUE\n",
       "4. TRUE\n",
       "\n",
       "\n"
      ],
      "text/plain": [
       "[1] TRUE TRUE TRUE TRUE"
      ]
     },
     "metadata": {},
     "output_type": "display_data"
    },
    {
     "data": {
      "text/html": [
       "<ol class=list-inline>\n",
       "\t<li>TRUE</li>\n",
       "\t<li>TRUE</li>\n",
       "\t<li>TRUE</li>\n",
       "\t<li>TRUE</li>\n",
       "</ol>\n"
      ],
      "text/latex": [
       "\\begin{enumerate*}\n",
       "\\item TRUE\n",
       "\\item TRUE\n",
       "\\item TRUE\n",
       "\\item TRUE\n",
       "\\end{enumerate*}\n"
      ],
      "text/markdown": [
       "1. TRUE\n",
       "2. TRUE\n",
       "3. TRUE\n",
       "4. TRUE\n",
       "\n",
       "\n"
      ],
      "text/plain": [
       "[1] TRUE TRUE TRUE TRUE"
      ]
     },
     "metadata": {},
     "output_type": "display_data"
    }
   ],
   "source": [
    "num_yes<-c(73,81,88,66)\n",
    "n<-115\n",
    "p_hat<-num_yes/n\n",
    "### Checking the condition for large sample size...\n",
    "n*p_hat >= 5\n",
    "n*(1 - p_hat) >= 5"
   ]
  },
  {
   "cell_type": "code",
   "execution_count": 10,
   "metadata": {},
   "outputs": [
    {
     "data": {
      "text/html": [
       "<table>\n",
       "<thead><tr><th></th><th scope=col>Q1</th><th scope=col>Q2</th><th scope=col>Q3</th><th scope=col>Q4</th></tr></thead>\n",
       "<tbody>\n",
       "\t<tr><th scope=row>l95</th><td>0.5467816</td><td>0.6209445</td><td>0.6877490</td><td>0.4835333</td></tr>\n",
       "\t<tr><th scope=row>r95</th><td>0.7227836</td><td>0.7877511</td><td>0.8426858</td><td>0.6642928</td></tr>\n",
       "</tbody>\n",
       "</table>\n"
      ],
      "text/latex": [
       "\\begin{tabular}{r|llll}\n",
       "  & Q1 & Q2 & Q3 & Q4\\\\\n",
       "\\hline\n",
       "\tl95 & 0.5467816 & 0.6209445 & 0.6877490 & 0.4835333\\\\\n",
       "\tr95 & 0.7227836 & 0.7877511 & 0.8426858 & 0.6642928\\\\\n",
       "\\end{tabular}\n"
      ],
      "text/markdown": [
       "\n",
       "| <!--/--> | Q1 | Q2 | Q3 | Q4 |\n",
       "|---|---|---|---|---|\n",
       "| l95 | 0.5467816 | 0.6209445 | 0.6877490 | 0.4835333 |\n",
       "| r95 | 0.7227836 | 0.7877511 | 0.8426858 | 0.6642928 |\n",
       "\n"
      ],
      "text/plain": [
       "    Q1        Q2        Q3        Q4       \n",
       "l95 0.5467816 0.6209445 0.6877490 0.4835333\n",
       "r95 0.7227836 0.7877511 0.8426858 0.6642928"
      ]
     },
     "metadata": {},
     "output_type": "display_data"
    },
    {
     "name": "stdout",
     "output_type": "stream",
     "text": [
      "[1] \"With 95% confidence level, the true proportion of people answer yes in the population would land between the l95 and r95, which shown in the table for different questions.\"\n"
     ]
    }
   ],
   "source": [
    "z95 <- qnorm(0.975, mean = 0, sd = 1, lower.tail = TRUE)\n",
    "l95 <- p_hat - (z95 * sqrt(p_hat * (1 - p_hat)/n))\n",
    "r95 <- p_hat + (z95 * sqrt(p_hat * (1 - p_hat)/n))\n",
    "\n",
    "df<-rbind(l95,r95)\n",
    "colnames(df)<-c('Q1','Q2','Q3','Q4')\n",
    "df\n",
    "print('With 95% confidence level, the true proportion of people answer yes in the population \n",
    "would land between the l95 and r95, which shown in the table for different questions.')"
   ]
  },
  {
   "cell_type": "markdown",
   "metadata": {},
   "source": [
    "### b. \n",
    "Suppose in spite of their history as an employee-friendly company, management wants to measure employee satisfaction this year to determine if they are maintaining this culture. A researcher is hired by the company who randomly selects 21 employees and asks them to complete a satisfaction survey under the supervision of an independent testing organization. As part of this survey, employees are asked to respond to questions by providing a score of from 0 to 50 along a continuous scale, where 0 denotes no satisfaction and 50 denotes the utmost satisfaction. Assume that the data are normally distributed in the population. The questions and the results of the survey are shown below. Construct a 95% confidence interval to estimate the population mean scores for each of the 6 questions below. Write interpretations like on my solved in-class exercises.\n",
    "\n",
    "Question\t\t\t|\t\t\t\tMean \t|\tStd. Deviation\n",
    "----------|----|---------\n",
    "1. Are you treated fairly by the company as an employee?\t\t|\t\t\t\t42.4\t\t|       5.2\n",
    "2. Has the company given you the training that you need to do the job adequately?\t\t|\t\t\t44.9\t\t|       3.1\n",
    "3. Does management seriously consider your input in making decisions about the store?\t\t\t|\t\t38.7\t\t  |     7.5\n",
    "4. Is your physical work environment acceptable?\t\t\t\t|\t\t35.6\t\t|       9.2\n",
    "5. Is the compensation for your work  adequate and fair?\t\t\t\t|\t\t34.5\t\t|     12.4\n",
    "6. Overall, do you feel that company  management really cares about you as a person?\t\t\t|\t\t\t41.8\t|    6.3 "
   ]
  },
  {
   "cell_type": "code",
   "execution_count": 13,
   "metadata": {},
   "outputs": [
    {
     "data": {
      "text/html": [
       "<table>\n",
       "<thead><tr><th></th><th scope=col>Q1</th><th scope=col>Q2</th><th scope=col>Q3</th><th scope=col>Q4</th><th scope=col>Q5</th><th scope=col>Q6</th></tr></thead>\n",
       "<tbody>\n",
       "\t<tr><th scope=row>l95</th><td>40.03299</td><td>43.4889 </td><td>35.28604</td><td>31.41221</td><td>28.85559</td><td>38.93227</td></tr>\n",
       "\t<tr><th scope=row>r95</th><td>44.76701</td><td>46.3111 </td><td>42.11396</td><td>39.78779</td><td>40.14441</td><td>44.66773</td></tr>\n",
       "</tbody>\n",
       "</table>\n"
      ],
      "text/latex": [
       "\\begin{tabular}{r|llllll}\n",
       "  & Q1 & Q2 & Q3 & Q4 & Q5 & Q6\\\\\n",
       "\\hline\n",
       "\tl95 & 40.03299 & 43.4889  & 35.28604 & 31.41221 & 28.85559 & 38.93227\\\\\n",
       "\tr95 & 44.76701 & 46.3111  & 42.11396 & 39.78779 & 40.14441 & 44.66773\\\\\n",
       "\\end{tabular}\n"
      ],
      "text/markdown": [
       "\n",
       "| <!--/--> | Q1 | Q2 | Q3 | Q4 | Q5 | Q6 |\n",
       "|---|---|---|---|---|---|---|\n",
       "| l95 | 40.03299 | 43.4889  | 35.28604 | 31.41221 | 28.85559 | 38.93227 |\n",
       "| r95 | 44.76701 | 46.3111  | 42.11396 | 39.78779 | 40.14441 | 44.66773 |\n",
       "\n"
      ],
      "text/plain": [
       "    Q1       Q2      Q3       Q4       Q5       Q6      \n",
       "l95 40.03299 43.4889 35.28604 31.41221 28.85559 38.93227\n",
       "r95 44.76701 46.3111 42.11396 39.78779 40.14441 44.66773"
      ]
     },
     "metadata": {},
     "output_type": "display_data"
    },
    {
     "name": "stdout",
     "output_type": "stream",
     "text": [
      "[1] \"With 95% confidence level, the true population mean scores would \\nland between the l95 and r95, which shown in the table for different questions.\"\n"
     ]
    }
   ],
   "source": [
    "sample_mean<-c(42.4,44.9,38.7,35.6,34.5,41.8)\n",
    "sample_sd<-c(5.2,3.1,7.5,9.2,12.4,6.3)\n",
    "n<-21\n",
    "df<-n-1\n",
    "t95<-qt(0.975, df)\n",
    "l95<-sample_mean-t95*(sample_sd/sqrt(n))\n",
    "r95<-sample_mean+t95*(sample_sd/sqrt(n))\n",
    "df<-rbind(l95,r95)\n",
    "colnames(df)<-c('Q1','Q2','Q3','Q4','Q5','Q6')\n",
    "df\n",
    "print('With 95% confidence level, the true population mean scores would \n",
    "land between the l95 and r95, which shown in the table for different questions.')"
   ]
  },
  {
   "cell_type": "markdown",
   "metadata": {},
   "source": [
    "## Question 2\n",
    "Therefore, in order to assess the system’s effectiveness (whether µ < 19.5 days), the consulting firm selects a random sample of 65 invoices from the 7,823 invoices processed during the first three months of the new system’s operation. Analysis of results from these other companies show that, although the population mean payment time varies from company to company, the population standard deviation of payment times is the same for different companies and equals 4.2 days. The payment times for the 65 sample invoices are manually determined and are given in the CSV file named PaymentTimeCase. "
   ]
  },
  {
   "cell_type": "code",
   "execution_count": 2,
   "metadata": {
    "scrolled": true
   },
   "outputs": [],
   "source": [
    "setwd(\"D:/BAX441/Homeworks/Homework 1\")\n",
    "Q2<-read.csv('PaymentTimeCase.csv')"
   ]
  },
  {
   "cell_type": "markdown",
   "metadata": {},
   "source": [
    "### a. \n",
    "Assuming that the standard deviation of the payment times for all payments is 4.2 days, construct a 95% confidence interval estimate to determine whether the new billing system was effective. State whether or not the billing system was effective. Hint: The interpretation is identical to the Trash Bag Case on my in-class exercises. I was able to go over this case for one group only. So I will record a video for the solution of the Trash Bag Case and upload it on Canvas for both sections."
   ]
  },
  {
   "cell_type": "code",
   "execution_count": 3,
   "metadata": {},
   "outputs": [
    {
     "data": {
      "text/html": [
       "'95 percent Confidence Interval: (17.0866571346596, 19.128727480725)'"
      ],
      "text/latex": [
       "'95 percent Confidence Interval: (17.0866571346596, 19.128727480725)'"
      ],
      "text/markdown": [
       "'95 percent Confidence Interval: (17.0866571346596, 19.128727480725)'"
      ],
      "text/plain": [
       "[1] \"95 percent Confidence Interval: (17.0866571346596, 19.128727480725)\""
      ]
     },
     "metadata": {},
     "output_type": "display_data"
    },
    {
     "data": {
      "text/html": [
       "'INTERPRETATION: We might be 95 percent confident that the interval between 17.0866571346596 days and 19.128727480725 days contains the true population mean payment time. \\nSince the worst case 19.128727480725 days is still less than 19.5 days, the system is effective.'"
      ],
      "text/latex": [
       "'INTERPRETATION: We might be 95 percent confident that the interval between 17.0866571346596 days and 19.128727480725 days contains the true population mean payment time. \\textbackslash{}nSince the worst case 19.128727480725 days is still less than 19.5 days, the system is effective.'"
      ],
      "text/markdown": [
       "'INTERPRETATION: We might be 95 percent confident that the interval between 17.0866571346596 days and 19.128727480725 days contains the true population mean payment time. \\nSince the worst case 19.128727480725 days is still less than 19.5 days, the system is effective.'"
      ],
      "text/plain": [
       "[1] \"INTERPRETATION: We might be 95 percent confident that the interval between 17.0866571346596 days and 19.128727480725 days contains the true population mean payment time. \\nSince the worst case 19.128727480725 days is still less than 19.5 days, the system is effective.\""
      ]
     },
     "metadata": {},
     "output_type": "display_data"
    }
   ],
   "source": [
    "pop_sd<-4.2\n",
    "n<-65\n",
    "sample_mean<-mean(Q2$PayTime)\n",
    "z95<-qnorm(0.975,mean=0,sd=1,lower.tail=TRUE)\n",
    "l95<-sample_mean-z95*(pop_sd/sqrt(n))\n",
    "r95<-sample_mean+z95*(pop_sd/sqrt(n))\n",
    "sprintf(\"95 percent Confidence Interval: (%s, %s)\", l95, r95)\n",
    "sprintf(\"INTERPRETATION: We might be 95 percent confident that the interval between %s days and %s days contains the true population mean payment time. \n",
    "Since the worst case %s days is still less than 19.5 days, the system is effective.\", l95, r95,r95)"
   ]
  },
  {
   "cell_type": "markdown",
   "metadata": {},
   "source": [
    "### b. \n",
    "Using the 95% confidence interval, can we be 95% confident that the billing system was effective? "
   ]
  },
  {
   "cell_type": "code",
   "execution_count": 4,
   "metadata": {},
   "outputs": [],
   "source": [
    "# Yes, because with 95% confident, the worst case is about 19.13 days, which is still less than 19.5 days"
   ]
  },
  {
   "cell_type": "markdown",
   "metadata": {},
   "source": [
    "### c. \n",
    "Using the 99% confidence interval, can we be 99% confident that the billing system was effective? "
   ]
  },
  {
   "cell_type": "code",
   "execution_count": 5,
   "metadata": {},
   "outputs": [
    {
     "data": {
      "text/html": [
       "'99 percent Confidence Interval: (16.7658246308386, 19.449559984546)'"
      ],
      "text/latex": [
       "'99 percent Confidence Interval: (16.7658246308386, 19.449559984546)'"
      ],
      "text/markdown": [
       "'99 percent Confidence Interval: (16.7658246308386, 19.449559984546)'"
      ],
      "text/plain": [
       "[1] \"99 percent Confidence Interval: (16.7658246308386, 19.449559984546)\""
      ]
     },
     "metadata": {},
     "output_type": "display_data"
    },
    {
     "name": "stdout",
     "output_type": "stream",
     "text": [
      "[1] \"Yes, because with 99% confident, the worst case is about 19.45 days, which is still less than 19.5 days\"\n"
     ]
    }
   ],
   "source": [
    "z99<-qnorm(0.995,mean=0,sd=1,lower.tail=TRUE)\n",
    "l99<-sample_mean-z99*(pop_sd/sqrt(n))\n",
    "r99<-sample_mean+z99*(pop_sd/sqrt(n))\n",
    "sprintf(\"99 percent Confidence Interval: (%s, %s)\", l99, r99)\n",
    "print('Yes, because with 99% confident, the worst case is about 19.45 days, which is still less than 19.5 days')"
   ]
  },
  {
   "cell_type": "markdown",
   "metadata": {},
   "source": [
    "### d. \n",
    "If the population mean payment time is 19.5 days, what is the probability of observing a sample mean payment time of 65 invoices less than 18.1077 days?"
   ]
  },
  {
   "cell_type": "code",
   "execution_count": 6,
   "metadata": {},
   "outputs": [
    {
     "data": {
      "text/html": [
       "0.00376286568962425"
      ],
      "text/latex": [
       "0.00376286568962425"
      ],
      "text/markdown": [
       "0.00376286568962425"
      ],
      "text/plain": [
       "[1] 0.003762866"
      ]
     },
     "metadata": {},
     "output_type": "display_data"
    }
   ],
   "source": [
    "pop_mean<-19.5\n",
    "pnorm(18.1077,pop_mean,pop_sd/sqrt(65),lower.tail=TRUE)"
   ]
  },
  {
   "cell_type": "markdown",
   "metadata": {},
   "source": [
    "## Question 3\n",
    "Premium Real Estate, Inc. specializes in real estate market by selling townhome units in Southern California. Over the past few years, it has been monitoring sales by collecting data on the list price, location, number of days it takes to sell each townhome unit, and sale price. Each townhome unit is classified as either beach-facing or park-facing. The file named PremiumRealEstate contains data in for recent sales for 40 beach-facing units and 18 park-facing units. The list price and sale price provided are in thousands of dollars. "
   ]
  },
  {
   "cell_type": "code",
   "execution_count": 2,
   "metadata": {
    "scrolled": true
   },
   "outputs": [],
   "source": [
    "setwd(\"D:/BAX441/Homeworks/Homework 1\")\n",
    "Q3<-read.csv('PremiumRealEstate.csv')"
   ]
  },
  {
   "cell_type": "markdown",
   "metadata": {},
   "source": [
    "### a. \n",
    "Create descriptive statistics summary (mean, median, standard deviation, min, max, boxplots, and quartiles) for each of the variables for the beach-facing units. Then create a similar summary for park-facing units. Compare the two summaries. Share any specific insights that would help Premium Real Estate company understand the townhome market in Southern California."
   ]
  },
  {
   "cell_type": "code",
   "execution_count": 3,
   "metadata": {},
   "outputs": [
    {
     "data": {
      "text/html": [
       "<table>\n",
       "<thead><tr><th></th><th scope=col>sd</th><th scope=col>mean</th><th scope=col>min</th><th scope=col>Q1</th><th scope=col>median</th><th scope=col>Q3</th><th scope=col>max</th></tr></thead>\n",
       "<tbody>\n",
       "\t<tr><th scope=row>ListPrice</th><td>197.29003</td><td>474.0075 </td><td>169.9    </td><td>334.175  </td><td>437.0    </td><td>550.625  </td><td>975      </td></tr>\n",
       "\t<tr><th scope=row>SalePrice</th><td>192.51775</td><td>454.2225 </td><td>165.0    </td><td>314.750  </td><td>417.5    </td><td>522.875  </td><td>975      </td></tr>\n",
       "\t<tr><th scope=row>DaysToSale</th><td> 52.21602</td><td>106.0000 </td><td> 28.0    </td><td> 71.750  </td><td> 96.0    </td><td>136.250  </td><td>282      </td></tr>\n",
       "</tbody>\n",
       "</table>\n"
      ],
      "text/latex": [
       "\\begin{tabular}{r|lllllll}\n",
       "  & sd & mean & min & Q1 & median & Q3 & max\\\\\n",
       "\\hline\n",
       "\tListPrice & 197.29003 & 474.0075  & 169.9     & 334.175   & 437.0     & 550.625   & 975      \\\\\n",
       "\tSalePrice & 192.51775 & 454.2225  & 165.0     & 314.750   & 417.5     & 522.875   & 975      \\\\\n",
       "\tDaysToSale &  52.21602 & 106.0000  &  28.0     &  71.750   &  96.0     & 136.250   & 282      \\\\\n",
       "\\end{tabular}\n"
      ],
      "text/markdown": [
       "\n",
       "| <!--/--> | sd | mean | min | Q1 | median | Q3 | max |\n",
       "|---|---|---|---|---|---|---|---|\n",
       "| ListPrice | 197.29003 | 474.0075  | 169.9     | 334.175   | 437.0     | 550.625   | 975       |\n",
       "| SalePrice | 192.51775 | 454.2225  | 165.0     | 314.750   | 417.5     | 522.875   | 975       |\n",
       "| DaysToSale |  52.21602 | 106.0000  |  28.0     |  71.750   |  96.0     | 136.250   | 282       |\n",
       "\n"
      ],
      "text/plain": [
       "           sd        mean     min   Q1      median Q3      max\n",
       "ListPrice  197.29003 474.0075 169.9 334.175 437.0  550.625 975\n",
       "SalePrice  192.51775 454.2225 165.0 314.750 417.5  522.875 975\n",
       "DaysToSale  52.21602 106.0000  28.0  71.750  96.0  136.250 282"
      ]
     },
     "metadata": {},
     "output_type": "display_data"
    },
    {
     "data": {
      "image/png": "[encoded data removed]",
      "text/plain": [
       "plot without title"
      ]
     },
     "metadata": {},
     "output_type": "display_data"
    }
   ],
   "source": [
    "#beach-facing summary\n",
    "beach<-Q3[-1,1:3]\n",
    "colnames(beach)<-c('ListPrice','SalePrice','DaysToSale')\n",
    "cols<-c(1:3)\n",
    "for (col in cols){\n",
    "    beach[,col]<-as.numeric(as.character(beach[,col]))\n",
    "}\n",
    "summary_beach<-data.frame(sd=apply(beach,MARGIN=2,sd),mean=apply(beach,MARGIN=2,mean),\n",
    "                     min=apply(beach,MARGIN=2,min),Q1=apply(beach,MARGIN=2,quantile,probs = 0.25),\n",
    "                       median=apply(beach,MARGIN=2,median),Q3=apply(beach,MARGIN=2,quantile,probs = 0.75),\n",
    "                       max=apply(beach,MARGIN=2,max))\n",
    "#rbind(summary(beach),apply(beach,2,sd))\n",
    "summary_beach\n",
    "options(repr.plot.width = 8, repr.plot.height = 6)\n",
    "boxplot(beach,data=beach,horizontal = TRUE)"
   ]
  },
  {
   "cell_type": "code",
   "execution_count": 4,
   "metadata": {},
   "outputs": [
    {
     "data": {
      "text/html": [
       "<table>\n",
       "<thead><tr><th></th><th scope=col>sd</th><th scope=col>mean</th><th scope=col>min</th><th scope=col>Q1</th><th scope=col>median</th><th scope=col>Q3</th><th scope=col>max</th></tr></thead>\n",
       "<tbody>\n",
       "\t<tr><th scope=row>ListPrice</th><td>48.94528</td><td>212.8056</td><td>148.0   </td><td>181.550 </td><td>212.5   </td><td>238.00  </td><td>322.0   </td></tr>\n",
       "\t<tr><th scope=row>SalePrice</th><td>43.89172</td><td>203.1889</td><td>135.5   </td><td>177.125 </td><td>203.5   </td><td>229.25  </td><td>292.5   </td></tr>\n",
       "\t<tr><th scope=row>DaysToSale</th><td>76.29972</td><td>135.0000</td><td> 48.0   </td><td> 74.750 </td><td>126.0   </td><td>149.75  </td><td>338.0   </td></tr>\n",
       "</tbody>\n",
       "</table>\n"
      ],
      "text/latex": [
       "\\begin{tabular}{r|lllllll}\n",
       "  & sd & mean & min & Q1 & median & Q3 & max\\\\\n",
       "\\hline\n",
       "\tListPrice & 48.94528 & 212.8056 & 148.0    & 181.550  & 212.5    & 238.00   & 322.0   \\\\\n",
       "\tSalePrice & 43.89172 & 203.1889 & 135.5    & 177.125  & 203.5    & 229.25   & 292.5   \\\\\n",
       "\tDaysToSale & 76.29972 & 135.0000 &  48.0    &  74.750  & 126.0    & 149.75   & 338.0   \\\\\n",
       "\\end{tabular}\n"
      ],
      "text/markdown": [
       "\n",
       "| <!--/--> | sd | mean | min | Q1 | median | Q3 | max |\n",
       "|---|---|---|---|---|---|---|---|\n",
       "| ListPrice | 48.94528 | 212.8056 | 148.0    | 181.550  | 212.5    | 238.00   | 322.0    |\n",
       "| SalePrice | 43.89172 | 203.1889 | 135.5    | 177.125  | 203.5    | 229.25   | 292.5    |\n",
       "| DaysToSale | 76.29972 | 135.0000 |  48.0    |  74.750  | 126.0    | 149.75   | 338.0    |\n",
       "\n"
      ],
      "text/plain": [
       "           sd       mean     min   Q1      median Q3     max  \n",
       "ListPrice  48.94528 212.8056 148.0 181.550 212.5  238.00 322.0\n",
       "SalePrice  43.89172 203.1889 135.5 177.125 203.5  229.25 292.5\n",
       "DaysToSale 76.29972 135.0000  48.0  74.750 126.0  149.75 338.0"
      ]
     },
     "metadata": {},
     "output_type": "display_data"
    },
    {
     "data": {
      "image/png": "[encoded data removed]",
      "text/plain": [
       "plot without title"
      ]
     },
     "metadata": {},
     "output_type": "display_data"
    }
   ],
   "source": [
    "#park-facing summary\n",
    "park<-Q3[-1,4:6]\n",
    "\n",
    "colnames(park)<-c('ListPrice','SalePrice','DaysToSale')\n",
    "cols<-c(1:3)\n",
    "for (col in cols){\n",
    "    park[,col]<-as.numeric(as.character(park[,col]))\n",
    "}\n",
    "park<-na.omit(park)\n",
    "summary_park<-data.frame(sd=apply(park,MARGIN=2,sd),mean=apply(park,MARGIN=2,mean),\n",
    "                     min=apply(park,MARGIN=2,min),Q1=apply(park,MARGIN=2,quantile,probs = 0.25),\n",
    "                       median=apply(park,MARGIN=2,median),Q3=apply(park,MARGIN=2,quantile,probs = 0.75),\n",
    "                       max=apply(park,MARGIN=2,max))\n",
    "#rbind(summary(park),apply(park,2,sd))\n",
    "summary_park\n",
    "options(repr.plot.width = 8, repr.plot.height = 6)\n",
    "boxplot(park,data=beach,horizontal = TRUE)"
   ]
  },
  {
   "cell_type": "code",
   "execution_count": null,
   "metadata": {},
   "outputs": [],
   "source": [
    "#INSIGHT: According to the summaries, I found that beach-facing units are more expensive than park-facing unit and have larger \n",
    "#standard deviation on their prices. When comparing the days to sale, I found beach-facing units are more popular than \n",
    "#park-facing units. "
   ]
  },
  {
   "cell_type": "markdown",
   "metadata": {},
   "source": [
    "### b. \n",
    "Develop a 95% confidence interval estimate of the population mean sales price and population mean number of days to sell for beach-facing townhome units. Interpret your results."
   ]
  },
  {
   "cell_type": "code",
   "execution_count": 58,
   "metadata": {},
   "outputs": [
    {
     "data": {
      "text/html": [
       "'95 percent Confidence Interval of sale price: (392.652, 515.793)'"
      ],
      "text/latex": [
       "'95 percent Confidence Interval of sale price: (392.652, 515.793)'"
      ],
      "text/markdown": [
       "'95 percent Confidence Interval of sale price: (392.652, 515.793)'"
      ],
      "text/plain": [
       "[1] \"95 percent Confidence Interval of sale price: (392.652, 515.793)\""
      ]
     },
     "metadata": {},
     "output_type": "display_data"
    },
    {
     "data": {
      "text/html": [
       "<span style=white-space:pre-wrap>'INTERPRETATION: We are 95 percent confident that the interval between  392.65  and  515.79  contains the true population mean sale price.'</span>"
      ],
      "text/latex": [
       "'INTERPRETATION: We are 95 percent confident that the interval between  392.65  and  515.79  contains the true population mean sale price.'"
      ],
      "text/markdown": [
       "<span style=white-space:pre-wrap>'INTERPRETATION: We are 95 percent confident that the interval between  392.65  and  515.79  contains the true population mean sale price.'</span>"
      ],
      "text/plain": [
       "[1] \"INTERPRETATION: We are 95 percent confident that the interval between  392.65  and  515.79  contains the true population mean sale price.\""
      ]
     },
     "metadata": {},
     "output_type": "display_data"
    }
   ],
   "source": [
    "sample_mean<-mean(beach[,2])\n",
    "sample_sd<-sd(beach[,2])\n",
    "n<-40\n",
    "df<-n-1\n",
    "t95<-qt(0.975,df,lower.tail=TRUE)\n",
    "l95<-round(sample_mean-t95*(sample_sd/sqrt(n)),3)\n",
    "r95<-round(sample_mean+t95*(sample_sd/sqrt(n)),3)\n",
    "sprintf(\"95 percent Confidence Interval of sale price: (%s, %s)\", l95, r95)\n",
    "sprintf(\"INTERPRETATION: We are 95 percent confident that the interval between  %.2f  and  %.2f  contains the true population mean sale price.\", l95, r95)"
   ]
  },
  {
   "cell_type": "code",
   "execution_count": 59,
   "metadata": {},
   "outputs": [
    {
     "data": {
      "text/html": [
       "'95 percent Confidence Interval of days to sell: (89.301, 122.699)'"
      ],
      "text/latex": [
       "'95 percent Confidence Interval of days to sell: (89.301, 122.699)'"
      ],
      "text/markdown": [
       "'95 percent Confidence Interval of days to sell: (89.301, 122.699)'"
      ],
      "text/plain": [
       "[1] \"95 percent Confidence Interval of days to sell: (89.301, 122.699)\""
      ]
     },
     "metadata": {},
     "output_type": "display_data"
    },
    {
     "data": {
      "text/html": [
       "<span style=white-space:pre-wrap>'INTERPRETATION: We are 95 percent confident that the interval between  89.30  and  122.70  contains the true population mean days to sell.'</span>"
      ],
      "text/latex": [
       "'INTERPRETATION: We are 95 percent confident that the interval between  89.30  and  122.70  contains the true population mean days to sell.'"
      ],
      "text/markdown": [
       "<span style=white-space:pre-wrap>'INTERPRETATION: We are 95 percent confident that the interval between  89.30  and  122.70  contains the true population mean days to sell.'</span>"
      ],
      "text/plain": [
       "[1] \"INTERPRETATION: We are 95 percent confident that the interval between  89.30  and  122.70  contains the true population mean days to sell.\""
      ]
     },
     "metadata": {},
     "output_type": "display_data"
    }
   ],
   "source": [
    "sample_mean<-mean(beach[,3])\n",
    "sample_sd<-sd(beach[,3])\n",
    "n<-40\n",
    "df<-n-1\n",
    "t95<-qt(0.975,df,lower.tail=TRUE)\n",
    "l95<-round(sample_mean-t95*(sample_sd/sqrt(n)),3)\n",
    "r95<-round(sample_mean+t95*(sample_sd/sqrt(n)),3)\n",
    "sprintf(\"95 percent Confidence Interval of days to sell: (%s, %s)\", l95, r95)\n",
    "sprintf(\"INTERPRETATION: We are 95 percent confident that the interval between  %.2f  and  %.2f  contains the true population mean days to sell.\", l95, r95)"
   ]
  },
  {
   "cell_type": "markdown",
   "metadata": {},
   "source": [
    "### c.\n",
    "Develop a 95% confidence interval estimate of the population mean sales price and population mean number of days to sell for park-facing townhome units. Interpret your results."
   ]
  },
  {
   "cell_type": "code",
   "execution_count": 61,
   "metadata": {},
   "outputs": [
    {
     "data": {
      "text/html": [
       "'95 percent Confidence Interval of sale price: (181.362, 225.016)'"
      ],
      "text/latex": [
       "'95 percent Confidence Interval of sale price: (181.362, 225.016)'"
      ],
      "text/markdown": [
       "'95 percent Confidence Interval of sale price: (181.362, 225.016)'"
      ],
      "text/plain": [
       "[1] \"95 percent Confidence Interval of sale price: (181.362, 225.016)\""
      ]
     },
     "metadata": {},
     "output_type": "display_data"
    },
    {
     "data": {
      "text/html": [
       "<span style=white-space:pre-wrap>'INTERPRETATION: We are 95 percent confident that the interval between  181.36  and  225.02  contains the true population mean sale price.'</span>"
      ],
      "text/latex": [
       "'INTERPRETATION: We are 95 percent confident that the interval between  181.36  and  225.02  contains the true population mean sale price.'"
      ],
      "text/markdown": [
       "<span style=white-space:pre-wrap>'INTERPRETATION: We are 95 percent confident that the interval between  181.36  and  225.02  contains the true population mean sale price.'</span>"
      ],
      "text/plain": [
       "[1] \"INTERPRETATION: We are 95 percent confident that the interval between  181.36  and  225.02  contains the true population mean sale price.\""
      ]
     },
     "metadata": {},
     "output_type": "display_data"
    }
   ],
   "source": [
    "sample_mean<-mean(park[,2])\n",
    "sample_sd<-sd(park[,2])\n",
    "n<-18\n",
    "df<-n-1\n",
    "t95<-qt(0.975,df,lower.tail=TRUE)\n",
    "l95<-round(sample_mean-t95*(sample_sd/sqrt(n)),3)\n",
    "r95<-round(sample_mean+t95*(sample_sd/sqrt(n)),3)\n",
    "sprintf(\"95 percent Confidence Interval of sale price: (%s, %s)\", l95, r95)\n",
    "sprintf(\"INTERPRETATION: We are 95 percent confident that the interval between  %.2f  and  %.2f  contains the true population mean sale price.\", l95, r95)"
   ]
  },
  {
   "cell_type": "code",
   "execution_count": 62,
   "metadata": {},
   "outputs": [
    {
     "data": {
      "text/html": [
       "'95 percent Confidence Interval of days to sell: (97.057, 172.943)'"
      ],
      "text/latex": [
       "'95 percent Confidence Interval of days to sell: (97.057, 172.943)'"
      ],
      "text/markdown": [
       "'95 percent Confidence Interval of days to sell: (97.057, 172.943)'"
      ],
      "text/plain": [
       "[1] \"95 percent Confidence Interval of days to sell: (97.057, 172.943)\""
      ]
     },
     "metadata": {},
     "output_type": "display_data"
    },
    {
     "data": {
      "text/html": [
       "<span style=white-space:pre-wrap>'INTERPRETATION: We are 95 percent confident that the interval between  97.06  and  172.94  contains the true population mean days to sell.'</span>"
      ],
      "text/latex": [
       "'INTERPRETATION: We are 95 percent confident that the interval between  97.06  and  172.94  contains the true population mean days to sell.'"
      ],
      "text/markdown": [
       "<span style=white-space:pre-wrap>'INTERPRETATION: We are 95 percent confident that the interval between  97.06  and  172.94  contains the true population mean days to sell.'</span>"
      ],
      "text/plain": [
       "[1] \"INTERPRETATION: We are 95 percent confident that the interval between  97.06  and  172.94  contains the true population mean days to sell.\""
      ]
     },
     "metadata": {},
     "output_type": "display_data"
    }
   ],
   "source": [
    "sample_mean<-mean(park[,3])\n",
    "sample_sd<-sd(park[,3])\n",
    "n<-18\n",
    "df<-n-1\n",
    "t95<-qt(0.975,df,lower.tail=TRUE)\n",
    "l95<-round(sample_mean-t95*(sample_sd/sqrt(n)),3)\n",
    "r95<-round(sample_mean+t95*(sample_sd/sqrt(n)),3)\n",
    "sprintf(\"95 percent Confidence Interval of days to sell: (%s, %s)\", l95, r95)\n",
    "sprintf(\"INTERPRETATION: We are 95 percent confident that the interval between  %.2f  and  %.2f  contains the true population mean days to sell.\", l95, r95)"
   ]
  },
  {
   "cell_type": "markdown",
   "metadata": {},
   "source": [
    "### d. \n",
    "Assume the manager requested estimates of the mean selling price of beach-facing units with a margin of error of 40,000 and the mean selling price of park-facing units with a margin of error of 15,000. Using 95% confidence, how large should the sample sizes be?"
   ]
  },
  {
   "cell_type": "code",
   "execution_count": 63,
   "metadata": {},
   "outputs": [
    {
     "data": {
      "text/html": [
       "'The sample size should be at least 95 '"
      ],
      "text/latex": [
       "'The sample size should be at least 95 '"
      ],
      "text/markdown": [
       "'The sample size should be at least 95 '"
      ],
      "text/plain": [
       "[1] \"The sample size should be at least 95 \""
      ]
     },
     "metadata": {},
     "output_type": "display_data"
    }
   ],
   "source": [
    "#beach\n",
    "E<-40\n",
    "sample_sd<-sd(beach[,2])\n",
    "n<-40\n",
    "df<-n-1\n",
    "t95<-qt(0.975,df,lower.tail=TRUE)\n",
    "size<-ceiling((t95*sample_sd/E)^2)\n",
    "sprintf('The sample size should be at least %s ',size)"
   ]
  },
  {
   "cell_type": "code",
   "execution_count": 64,
   "metadata": {},
   "outputs": [
    {
     "data": {
      "text/html": [
       "'The sample size should be at least 39 '"
      ],
      "text/latex": [
       "'The sample size should be at least 39 '"
      ],
      "text/markdown": [
       "'The sample size should be at least 39 '"
      ],
      "text/plain": [
       "[1] \"The sample size should be at least 39 \""
      ]
     },
     "metadata": {},
     "output_type": "display_data"
    }
   ],
   "source": [
    "#park\n",
    "E<-15\n",
    "sample_sd<-sd(park[,2])\n",
    "n<-18\n",
    "df<-n-1\n",
    "t95<-qt(0.975,df,lower.tail=TRUE)\n",
    "size<-ceiling((t95*sample_sd/E)^2)\n",
    "sprintf('The sample size should be at least %s ',size)"
   ]
  },
  {
   "cell_type": "markdown",
   "metadata": {},
   "source": [
    "### e. \n",
    "Premium Real Estate just signed contracts for two new listings: a beach-facing townhome with a list price of 589,000 and a park-facing townhome with a list price of 285,000. From the data, if you had to create an estimate, what would be your estimate of the final selling price and number of days required to sell each of these townhome units? Note: I am NOT asking for a confidence interval estimates here. You have already done that in parts b and c above. "
   ]
  },
  {
   "cell_type": "code",
   "execution_count": 14,
   "metadata": {
    "scrolled": true
   },
   "outputs": [
    {
     "name": "stdout",
     "output_type": "stream",
     "text": [
      "Estimated sale price:  566.1097 \n",
      "Estimated days to sale:  109.9193"
     ]
    }
   ],
   "source": [
    "#Beach\n",
    "lmMod_saleprice <- lm(SalePrice ~ ListPrice, data=beach) \n",
    "cat('Estimated sale price: ',as.numeric(lmMod_saleprice$coefficients[1])+as.numeric(lmMod_saleprice$coefficients[2])*589,'\\n')\n",
    "lmMod_days <- lm(DaysToSale ~ ListPrice, data=beach) \n",
    "\n",
    "cat('Estimated days to sale: ',as.numeric(lmMod_days$coefficients[1])+as.numeric(lmMod_days$coefficients[2])*589)"
   ]
  },
  {
   "cell_type": "code",
   "execution_count": 15,
   "metadata": {
    "scrolled": true
   },
   "outputs": [
    {
     "name": "stdout",
     "output_type": "stream",
     "text": [
      "Estimated sale price:  267.375 \n",
      "Estimated days to sale:  84.00835"
     ]
    }
   ],
   "source": [
    "#Park\n",
    "lmMod_saleprice <- lm(SalePrice ~ ListPrice, data=park) \n",
    "cat('Estimated sale price: ',as.numeric(lmMod_saleprice$coefficients[1])+as.numeric(lmMod_saleprice$coefficients[2])*285,'\\n')\n",
    "lmMod_days <- lm(DaysToSale ~ ListPrice, data=park) \n",
    "\n",
    "cat('Estimated days to sale: ',as.numeric(lmMod_days$coefficients[1])+as.numeric(lmMod_days$coefficients[2])*285)"
   ]
  },
  {
   "cell_type": "markdown",
   "metadata": {},
   "source": [
    "## Question 4\n",
    "The values listed in the CSV file Question 4 are waiting times (in minutes) of customers at the Bank A, where customers enter a single waiting line that feeds three teller windows. Construct a 95% confidence interval for the population standard deviation σ.\n",
    "Also available on the same CSV file are the waiting times (in minutes) of customers at the Bank B, where customers may enter any one of three different lines that have formed at three teller windows. Construct a 95% confidence interval for the population standard deviation σ.\n",
    "Interpret the results found. Do the confidence intervals suggest a difference in the variation among waiting times? Which arrangement seems better: the single-line system or the multiple-line system?\n"
   ]
  },
  {
   "cell_type": "code",
   "execution_count": 35,
   "metadata": {
    "scrolled": true
   },
   "outputs": [],
   "source": [
    "setwd(\"D:/BAX441/Homeworks/Homework 1\")\n",
    "Q4<-read.csv('Question 4.csv')"
   ]
  },
  {
   "cell_type": "code",
   "execution_count": 33,
   "metadata": {},
   "outputs": [
    {
     "data": {
      "text/html": [
       "'95 percent Confidence Interval: (0.327876131846368, 0.870228797582163)'"
      ],
      "text/latex": [
       "'95 percent Confidence Interval: (0.327876131846368, 0.870228797582163)'"
      ],
      "text/markdown": [
       "'95 percent Confidence Interval: (0.327876131846368, 0.870228797582163)'"
      ],
      "text/plain": [
       "[1] \"95 percent Confidence Interval: (0.327876131846368, 0.870228797582163)\""
      ]
     },
     "metadata": {},
     "output_type": "display_data"
    }
   ],
   "source": [
    "#Bank A\n",
    "n_a<-nrow(Q4)\n",
    "s_a<-sd(Q4$BankA)\n",
    "lchi_sq <- qchisq(0.025, df = n_a - 1, lower.tail = TRUE)\n",
    "uchi_sq <- qchisq(0.025, df = n_a - 1, lower.tail = FALSE)\n",
    "l95 <- sqrt((n_a - 1)*(s_a^2)/uchi_sq)\n",
    "r95 <- sqrt((n_a - 1)*(s_a^2)/lchi_sq)\n",
    "sprintf(\"95 percent Confidence Interval: (%s, %s)\", l95, r95)"
   ]
  },
  {
   "cell_type": "code",
   "execution_count": 34,
   "metadata": {},
   "outputs": [
    {
     "data": {
      "text/html": [
       "'95 percent Confidence Interval: (1.25298077122921, 3.32558501224262)'"
      ],
      "text/latex": [
       "'95 percent Confidence Interval: (1.25298077122921, 3.32558501224262)'"
      ],
      "text/markdown": [
       "'95 percent Confidence Interval: (1.25298077122921, 3.32558501224262)'"
      ],
      "text/plain": [
       "[1] \"95 percent Confidence Interval: (1.25298077122921, 3.32558501224262)\""
      ]
     },
     "metadata": {},
     "output_type": "display_data"
    }
   ],
   "source": [
    "#Bank B\n",
    "n_b<-nrow(Q4)\n",
    "s_b<-sd(Q4$BankB)\n",
    "lchi_sq <- qchisq(0.025, df = n_b - 1, lower.tail = TRUE)\n",
    "uchi_sq <- qchisq(0.025, df = n_b - 1, lower.tail = FALSE)\n",
    "l95 <- sqrt((n_b - 1)*(s_b^2)/uchi_sq)\n",
    "r95 <- sqrt((n_b - 1)*(s_b^2)/lchi_sq)\n",
    "sprintf(\"95 percent Confidence Interval: (%s, %s)\", l95, r95)"
   ]
  },
  {
   "cell_type": "code",
   "execution_count": 36,
   "metadata": {},
   "outputs": [
    {
     "name": "stdout",
     "output_type": "stream",
     "text": [
      "[1] \"The confidence intervals suggest the multiple-line system has a higher standard deviation than the single-line system.\\nThe single line system would seems better.\"\n"
     ]
    }
   ],
   "source": [
    "print('Yes, there is difference. The confidence intervals suggest the multiple-line system has a higher standard deviation than the single-line system.\n",
    "The single line system would seems better.')"
   ]
  },
  {
   "cell_type": "markdown",
   "metadata": {},
   "source": [
    "## Question 5\n",
    "You wish to estimate, with 95% confidence, the population proportion of U.S. adults who think that the president can do a lot about the price of gasoline. Your estimate must be accurate within 4% of the population proportion."
   ]
  },
  {
   "cell_type": "markdown",
   "metadata": {},
   "source": [
    "### a. \n",
    "No preliminary estimate is available. Find the minimum sample size needed"
   ]
  },
  {
   "cell_type": "code",
   "execution_count": 38,
   "metadata": {},
   "outputs": [
    {
     "data": {
      "text/html": [
       "'The sample size should be at least 601 '"
      ],
      "text/latex": [
       "'The sample size should be at least 601 '"
      ],
      "text/markdown": [
       "'The sample size should be at least 601 '"
      ],
      "text/plain": [
       "[1] \"The sample size should be at least 601 \""
      ]
     },
     "metadata": {},
     "output_type": "display_data"
    }
   ],
   "source": [
    "p_hat <- 0.50\n",
    "q_hat <- (1-0.50)  \n",
    "Margin_of_error <- 0.04\n",
    "\n",
    "z95 <- qnorm(0.975, mean = 0, sd = 1, lower.tail = TRUE)\n",
    "\n",
    "n <- ceiling(p_hat * q_hat * (z95/Margin_of_error)^2)\n",
    "\n",
    "sprintf('The sample size should be at least %s ',n)"
   ]
  },
  {
   "cell_type": "markdown",
   "metadata": {},
   "source": [
    "### b.\n",
    "Find the minimum sample size needed, using a prior study that found that 48% of U.S. adults think the president can do a lot about the price of gasoline. (Source: CBS News/New York Times Poll) "
   ]
  },
  {
   "cell_type": "code",
   "execution_count": 1,
   "metadata": {},
   "outputs": [
    {
     "data": {
      "text/html": [
       "'The sample size should be at least 600 '"
      ],
      "text/latex": [
       "'The sample size should be at least 600 '"
      ],
      "text/markdown": [
       "'The sample size should be at least 600 '"
      ],
      "text/plain": [
       "[1] \"The sample size should be at least 600 \""
      ]
     },
     "metadata": {},
     "output_type": "display_data"
    }
   ],
   "source": [
    "p_hat <- 0.48\n",
    "q_hat <- (1-0.48)  \n",
    "Margin_of_error <- 0.04\n",
    "\n",
    "z95 <- qnorm(0.975, mean = 0, sd = 1, lower.tail = TRUE)\n",
    "\n",
    "n <- ceiling(p_hat * q_hat * (z95/Margin_of_error)^2)\n",
    "\n",
    "sprintf('The sample size should be at least %s ',n)"
   ]
  },
  {
   "cell_type": "markdown",
   "metadata": {},
   "source": [
    "### c.\n",
    "Compare the results from parts (a) and (b)."
   ]
  },
  {
   "cell_type": "code",
   "execution_count": null,
   "metadata": {},
   "outputs": [],
   "source": [
    "#Part b is smaller than part a. When we do not know the proportion, we use 0.5 to get a safer number."
   ]
  }
 ],
 "metadata": {
  "kernelspec": {
   "display_name": "R",
   "language": "R",
   "name": "ir"
  },
  "language_info": {
   "codemirror_mode": "r",
   "file_extension": ".r",
   "mimetype": "text/x-r-source",
   "name": "R",
   "pygments_lexer": "r",
   "version": "3.6.1"
  }
 },
 "nbformat": 4,
 "nbformat_minor": 2
}
