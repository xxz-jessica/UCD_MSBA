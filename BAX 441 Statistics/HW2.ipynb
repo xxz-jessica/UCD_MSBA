{
 "cells": [
  {
   "cell_type": "markdown",
   "metadata": {},
   "source": [
    "## Question 1\n",
    "A large courier company sends invoices to customers requesting payment within 30 days. Each bill lists an address, and customers are expected to use their own envelopes to return their payments. Currently, the mean amount of time taken to pay bills are 24 days. The chief financial officer (CFO) believes that including a stamped self-addressed (SSA) envelope would decrease the amount of time. She calculates that the improved cash flow from a 2-day decrease in the payment period would pay for the costs of the envelopes and stamps. Any further decrease in the payment period would generate a profit. To test her belief, she randomly selects 220 customers and includes an SSA envelope with their invoices. The numbers of days until payment is received were recorded on the CSV file Question1. Can the CFO conclude that the plan will be profitable? Make a decision using an appropriate level of significance. Choose a significance level by performing the Type I and Type II error analysis. Also please state your null and alternative hypotheses. Write your final conclusion using the guidelines on the first page.\n"
   ]
  },
  {
   "cell_type": "code",
   "execution_count": 31,
   "metadata": {
    "scrolled": true
   },
   "outputs": [],
   "source": [
    "setwd(\"D:/BAX441/Homeworks/Homework 2\")\n",
    "Q1<-read.csv('Question1.csv')"
   ]
  },
  {
   "cell_type": "markdown",
   "metadata": {},
   "source": [
    "**H0**: The plan will not be profitable ( $\\mu \\ge 22$ days)\n",
    "\n",
    "**H1**: The plan will be profitable ($\\mu < 22$ days)\n",
    "\n",
    "**Level of significance ($\\alpha$)**: 0.05 (left-tailed test)\n",
    "\t\tTruth\n",
    "\t\n",
    "**Type I error**:implementing the plan when it is not profitable\n",
    "- Consequence – lost money\n",
    "\n",
    "**Type II error**: thinking the plan does not work when it does\n",
    "- Consequence - miss the opportunity\n",
    "\n",
    "I think the both type of error are important, so I stay with 0.05 level of significance"
   ]
  },
  {
   "cell_type": "code",
   "execution_count": 34,
   "metadata": {},
   "outputs": [
    {
     "data": {
      "text/plain": [
       "\n",
       "\tOne Sample t-test\n",
       "\n",
       "data:  Q1$Payment\n",
       "t = -0.93585, df = 219, p-value = 0.1752\n",
       "alternative hypothesis: true mean is less than 22\n",
       "95 percent confidence interval:\n",
       "     -Inf 22.28168\n",
       "sample estimates:\n",
       "mean of x \n",
       " 21.63182 \n"
      ]
     },
     "metadata": {},
     "output_type": "display_data"
    },
    {
     "name": "stdout",
     "output_type": "stream",
     "text": [
      "[1] \"At 5% significance level, there is not sufficient evidence to warrant rejection of the claim that the plan will not be profitable.\"\n",
      "[1] \"This plan will not be profitable.\"\n"
     ]
    }
   ],
   "source": [
    "t.test(Q1$Payment, alternative = \"less\", mu = 22)\n",
    "print('At 5% significance level, there is not sufficient evidence to warrant rejection of the claim that the plan will not be profitable.')\n",
    "\n",
    "print('This plan will not be profitable.')"
   ]
  },
  {
   "cell_type": "markdown",
   "metadata": {},
   "source": [
    "## Question 2\n",
    "When an election for political office takes place, the television networks cancel regular programming and instead provide election coverage. When the ballots are counted, the results are reported. However, for important offices such as president or senator in large states, the networks actively compete to see which will be the first to predict a winner. This is done through exit polls , wherein a random sample of voters who exit the polling booth is asked for whom they voted. From the data, the sample proportion of voters supporting the candidates is computed. A statistical technique is applied to determine whether there is enough evidence to infer that the leading candidate will garner enough votes to win. Suppose that in the exit poll from the state of Florida during the 2000 year elections, the pollsters recorded only the votes of the two candidates who had any chance of winning, Democrat Albert Gore (code = 1) and Republican George W. Bush (code = 2) . The polls close at 8:00 p.m. Can the networks conclude from these data that the Republican candidate will win the state? Should the network announce at 8:01 p.m. that the Republican candidate will win? Make a decision using an appropriate level of significance. Choose a significance level by performing the Type I and Type II error analysis. Also please state your null and alternative hypotheses. Write your final conclusion using the guidelines on the first page.\n"
   ]
  },
  {
   "cell_type": "code",
   "execution_count": 21,
   "metadata": {
    "scrolled": true
   },
   "outputs": [],
   "source": [
    "setwd(\"D:/BAX441/Homeworks/Homework 2\")\n",
    "Q2<-read.csv('Question2.csv')"
   ]
  },
  {
   "cell_type": "markdown",
   "metadata": {},
   "source": [
    "**H0**: Republican George W. Bush will not win ( p $\\le$ 0.5)\n",
    "\n",
    "**H1**: Republican George W. Bush will win (p > 0.5)\n",
    "\n",
    "**Level of significance ($\\alpha$)**: 0.10 (right-tailed test)\n",
    "\n",
    "**Type I error**:telling people Republican George W. Bush will win when he does not\n",
    "- Consequence – predict wrong  \n",
    "\n",
    "**Type II error**: do not tell people Republican George W. Bush will win when he does\n",
    "- Consequence - miss the opportunity to announce \n",
    "\n",
    "I think the either type of error is important, and it is about political things, so I stay with 0.10 level of significance"
   ]
  },
  {
   "cell_type": "code",
   "execution_count": 22,
   "metadata": {},
   "outputs": [
    {
     "data": {
      "text/plain": [
       "\n",
       "\t1-sample proportions test with continuity correction\n",
       "\n",
       "data:  num_DA out of nrow(Q2), null probability 0.5\n",
       "X-squared = 3.0118, df = 1, p-value = 0.04133\n",
       "alternative hypothesis: true p is less than 0.5\n",
       "90 percent confidence interval:\n",
       " 0.0000000 0.4917916\n",
       "sample estimates:\n",
       "        p \n",
       "0.4679739 \n"
      ]
     },
     "metadata": {},
     "output_type": "display_data"
    },
    {
     "name": "stdout",
     "output_type": "stream",
     "text": [
      "[1] \"At 10% significance level, there is sufficient evidence to warrant rejection of the claim that Republican George W. Bush will not win.\"\n",
      "[1] \"Yes, the networks can announce that the Republican candidate will win\"\n"
     ]
    }
   ],
   "source": [
    "#num_DA <- sum(Q2$Votes == 1)\n",
    "num_DA <- length(which(Q2$Votes == 1))\n",
    "\n",
    "prop.test(num_DA, nrow(Q2), alternative = \"less\", conf.level = 0.90,p = 0.5)\n",
    "print('At 10% significance level, there is sufficient evidence to warrant rejection of the claim that Republican George W. Bush will not win.')\n",
    "print('Yes, the networks can announce that the Republican candidate will win')"
   ]
  },
  {
   "cell_type": "markdown",
   "metadata": {},
   "source": [
    "## Question 3\n",
    "A study is performed in a large town to determine whether the average amount spent on food per four-person family in the town is significantly different from the national average. A random sample of the weekly grocery bills of four-person families in this town is given in the file Question3. Assume the national average amount spent on food for a four-person family is $150.\n"
   ]
  },
  {
   "cell_type": "code",
   "execution_count": 24,
   "metadata": {
    "scrolled": true
   },
   "outputs": [],
   "source": [
    "setwd(\"D:/BAX441/Homeworks/Homework 2\")\n",
    "Q3<-read.csv('Question3.csv')"
   ]
  },
  {
   "cell_type": "markdown",
   "metadata": {},
   "source": [
    "### a.\t(5 points) Identify the null and alternative hypotheses for this situation. Is the sample evidence statistically significant? If so, at what significance levels can you reject the null hypothesis? "
   ]
  },
  {
   "cell_type": "markdown",
   "metadata": {},
   "source": [
    "**H0**: The average amount spent on food per family in the town is not different from the national average ( $\\mu$ = \\$150)\n",
    "\n",
    "**H1**: The average amount spent on food per family in the town is significantly different from the nation average ($\\mu$ != \\$150)\n"
   ]
  },
  {
   "cell_type": "code",
   "execution_count": 14,
   "metadata": {},
   "outputs": [
    {
     "data": {
      "text/plain": [
       "\n",
       "\tOne Sample t-test\n",
       "\n",
       "data:  Q3$Weekly_food_expense\n",
       "t = 3.8989, df = 99, p-value = 0.000176\n",
       "alternative hypothesis: true mean is not equal to 150\n",
       "99 percent confidence interval:\n",
       " 153.0458 165.6190\n",
       "sample estimates:\n",
       "mean of x \n",
       " 159.3324 \n"
      ]
     },
     "metadata": {},
     "output_type": "display_data"
    },
    {
     "name": "stdout",
     "output_type": "stream",
     "text": [
      "[1] \"At 1% significance level, there not sufficient evidence to warrant rejection of the claim that \\naverage spent on food per family in the town is different from the national average.\"\n"
     ]
    }
   ],
   "source": [
    "#Significance level = 0.01 (two-tailed test)\n",
    "t.test(Q3$Weekly_food_expense, alternative = c(\"two.sided\", \"less\", \"greater\"),conf.level = 0.99, mu = 150)\n",
    "print('At 1% significance level, there not sufficient evidence to warrant rejection of the claim that \n",
    "average spent on food per family in the town is different from the national average.')"
   ]
  },
  {
   "cell_type": "code",
   "execution_count": 15,
   "metadata": {},
   "outputs": [
    {
     "data": {
      "text/plain": [
       "\n",
       "\tOne Sample t-test\n",
       "\n",
       "data:  Q3$Weekly_food_expense\n",
       "t = 3.8989, df = 99, p-value = 0.000176\n",
       "alternative hypothesis: true mean is not equal to 150\n",
       "95 percent confidence interval:\n",
       " 154.5829 164.0819\n",
       "sample estimates:\n",
       "mean of x \n",
       " 159.3324 \n"
      ]
     },
     "metadata": {},
     "output_type": "display_data"
    },
    {
     "name": "stdout",
     "output_type": "stream",
     "text": [
      "[1] \"At 5% significance level, there is sufficient evidence to warrant rejection of the claim that \\naverage spent on food per family in the town is different from the national average.\"\n"
     ]
    }
   ],
   "source": [
    "#Significance level = 0.05 (two-tailed test)\n",
    "t.test(Q3$Weekly_food_expense, alternative = c(\"two.sided\", \"less\", \"greater\"),conf.level = 0.95, mu = 150)\n",
    "print('At 5% significance level, there is sufficient evidence to warrant rejection of the claim that \n",
    "average spent on food per family in the town is different from the national average.')"
   ]
  },
  {
   "cell_type": "code",
   "execution_count": 16,
   "metadata": {
    "scrolled": false
   },
   "outputs": [
    {
     "data": {
      "text/plain": [
       "\n",
       "\tOne Sample t-test\n",
       "\n",
       "data:  Q3$Weekly_food_expense\n",
       "t = 3.8989, df = 99, p-value = 0.000176\n",
       "alternative hypothesis: true mean is not equal to 150\n",
       "90 percent confidence interval:\n",
       " 155.3581 163.3067\n",
       "sample estimates:\n",
       "mean of x \n",
       " 159.3324 \n"
      ]
     },
     "metadata": {},
     "output_type": "display_data"
    },
    {
     "name": "stdout",
     "output_type": "stream",
     "text": [
      "[1] \"At 10% significance level, there is sufficient evidence to warrant rejection of the claim that \\naverage spent on food per family in the town is different from the national average.\"\n"
     ]
    }
   ],
   "source": [
    "#Significance level = 0.1 (two-tailed test)\n",
    "t.test(Q3$Weekly_food_expense, alternative = c(\"two.sided\", \"less\", \"greater\"),conf.level = 0.90, mu = 150)\n",
    "print('At 10% significance level, there is sufficient evidence to warrant rejection of the claim that \n",
    "average spent on food per family in the town is different from the national average.')"
   ]
  },
  {
   "cell_type": "code",
   "execution_count": 30,
   "metadata": {},
   "outputs": [
    {
     "name": "stdout",
     "output_type": "stream",
     "text": [
      "[1] \"In this case, at 10%/5%/1% significance level, I can reject the null.\"\n"
     ]
    }
   ],
   "source": [
    "print('In this case, at 10%/5%/1% significance level, I can reject the null.')"
   ]
  },
  {
   "cell_type": "markdown",
   "metadata": {},
   "source": [
    "### b.\t(5 points) For which values of the test statistic, sample mean (i.e., average weekly grocery bill), would you reject the null hypothesis at the 1% significance level? For which values of the test statistic, sample mean, would you reject the null hypothesis at the 10% level?"
   ]
  },
  {
   "cell_type": "code",
   "execution_count": 29,
   "metadata": {},
   "outputs": [
    {
     "name": "stderr",
     "output_type": "stream",
     "text": [
      "Your code contains a unicode char which cannot be displayed in your\n",
      "current locale and R will silently convert it to an escaped form when the\n",
      "R kernel executes this code. This can lead to subtle errors if you use\n",
      "such chars to do comparisons. For more information, please see\n",
      "https://github.com/IRkernel/repr/wiki/Problems-with-unicode-on-windows"
     ]
    },
    {
     "name": "stdout",
     "output_type": "stream",
     "text": [
      "At the 1% significance level, when the test statistic is  2.626405 . If the sample mean is less than 143.7134  or higher than  156.2866  , I would reject the null.[1] \"\\n\"\n",
      "At the 10% significance level, when the test statistic is  1.660391 . If the sample mean is less than  146.0257  or higher than  153.9743  , I would reject the null."
     ]
    }
   ],
   "source": [
    "#At 1% significance level \n",
    "\n",
    "sd<-sd(Q3$Weekly_food_expense)\n",
    "n<-length(Q3$Weekly_food_expense)\n",
    "t99<-qt(0.995, n-1)\n",
    "cat('At the 1% significance level, when the test statistic is ', t99,\n",
    "    '. If the sample mean is less than', 150-t99*sd/sqrt(n), ' or higher than ', t99*sd/sqrt(n)+150,' , I would reject the null.')\n",
    "\n",
    "#At 10% significance level\n",
    "sd<-sd(Q3$Weekly_food_expense)\n",
    "n<-length(Q3$Weekly_food_expense)\n",
    "t90<-qt(0.95, n-1)\n",
    "print('\\n')\n",
    "cat('At the 10% significance level, when the test statistic is ', t90, \n",
    "    '. If the sample mean is less than ',150-t90*sd/sqrt(n),' or higher than ',t90*sd/sqrt(n)+150, ' , I would reject the null.')"
   ]
  },
  {
   "cell_type": "markdown",
   "metadata": {},
   "source": [
    "## Question 4\n",
    "One important factor in inventory control is the variance of the daily demand for the product. An operations research analyst has developed the optimal order quantity and reorder point, assuming that the variance is equal to 250. Recently, the company has experienced some inventory problems, which induced the operations manager to doubt the assumption. To examine the problem, the manager took a sample of 25 days and recorded the demand. The data are provided on the Question4 CSV file. Do these data provide sufficient evidence at the 5% significance level to infer that the operations research analyst’s assumption about the variance is wrong? Also please state your null and alternative hypotheses. Write your final conclusion using the guidelines on the first page.\n"
   ]
  },
  {
   "cell_type": "code",
   "execution_count": 12,
   "metadata": {},
   "outputs": [],
   "source": [
    "setwd(\"D:/BAX441/Homeworks/Homework 2\")\n",
    "Q4<-read.csv('Question4.csv')"
   ]
  },
  {
   "cell_type": "markdown",
   "metadata": {},
   "source": [
    "**H0**: the variance is equal to 250 (var = 250)\n",
    "\n",
    "**H1**: the varian is not equal to 250 (var != 250)\n",
    "\n",
    "**Level of significance ($\\alpha$)**: 0.05 (two-tailed test)"
   ]
  },
  {
   "cell_type": "code",
   "execution_count": 15,
   "metadata": {
    "collapsed": true
   },
   "outputs": [
    {
     "name": "stderr",
     "output_type": "stream",
     "text": [
      "also installing the dependency 'nortest'\n",
      "\n"
     ]
    },
    {
     "name": "stdout",
     "output_type": "stream",
     "text": [
      "package 'nortest' successfully unpacked and MD5 sums checked\n",
      "package 'EnvStats' successfully unpacked and MD5 sums checked\n",
      "\n",
      "The downloaded binary packages are in\n",
      "\tC:\\Users\\xingxuan_dell\\AppData\\Local\\Temp\\RtmpaiOfpa\\downloaded_packages\n"
     ]
    },
    {
     "name": "stderr",
     "output_type": "stream",
     "text": [
      "\n",
      "Attaching package: 'EnvStats'\n",
      "\n",
      "The following objects are masked from 'package:stats':\n",
      "\n",
      "    predict, predict.lm\n",
      "\n",
      "The following object is masked from 'package:base':\n",
      "\n",
      "    print.default\n",
      "\n"
     ]
    }
   ],
   "source": [
    "install.packages('EnvStats')\n",
    "library(EnvStats)"
   ]
  },
  {
   "cell_type": "code",
   "execution_count": 17,
   "metadata": {},
   "outputs": [
    {
     "data": {
      "text/plain": [
       "\n",
       "\tChi-Squared Test on Variance\n",
       "\n",
       "data:  Q4$Demand\n",
       "Chi-Squared = 25.976, df = 24, p-value = 0.7088\n",
       "alternative hypothesis: true variance is not equal to 250\n",
       "95 percent confidence interval:\n",
       " 164.9727 523.6611\n",
       "sample estimates:\n",
       "variance \n",
       "270.5833 \n"
      ]
     },
     "metadata": {},
     "output_type": "display_data"
    },
    {
     "name": "stdout",
     "output_type": "stream",
     "text": [
      "[1] \"At 5% significance level, there is not sufficient evidence to warrant rejection of the claim that \\nthe assumption is equal to 250.\"\n"
     ]
    }
   ],
   "source": [
    "varTest(Q4$Demand, alternative = \"two.sided\", conf.level = 0.95, sigma.squared = 250)\n",
    "print('At 5% significance level, there is not sufficient evidence to warrant rejection of the claim that \n",
    "the assumption is equal to 250.')"
   ]
  },
  {
   "cell_type": "markdown",
   "metadata": {},
   "source": [
    "## Question 5\n",
    "PBS, one of the most popular television networks in the United States is headquartered in Arlington, VA. Every day, PBS and its more than 330 member stations fulfill their essential mission to the American public, providing trusted programming that is uniquely different from commercial broadcasting and treating audiences as citizens, not simply consumers. For 16 consecutive years, a national study has rated PBS as the most-trusted institution in America. PBS and its member stations host shows in a variety of genres – arts and music, culture, drama, history, etc.\n",
    "\n",
    "Even though you tried hard to find a job and stay in the Silicon Valley after you graduated, say you received an offer from the analytics department at the PBS for $155,000 gross pay (including top benefits at par with any Silicon Valley company.) You accepted the offer as even though Arlington was not on the top of your list of places to move as the package was too good to pass. After a day of orientation and meet and greet, you have an 8:00 o’clock with your manager on the second day where she introduces you to your first project in which she needs your contribution.\n",
    "\n",
    "PBS is evaluating the future prospect of one of its shows. It would cancel this show if it is convinced that less than 14% of the viewing public are watching it.\n"
   ]
  },
  {
   "cell_type": "markdown",
   "metadata": {},
   "source": [
    "### a.\t(8 points) PBS is planning to conduct a research study where it has the budget and resources to sample 1500 households with televisions. It wants to determine the sample proportion values that will lead to the show’s cancellation, assuming a 5% significance level. As a part of this project, your manager wants you to determine these sample proportion values."
   ]
  },
  {
   "cell_type": "markdown",
   "metadata": {},
   "source": [
    "**H0**: p $\\ge$ 14%\n",
    "\n",
    "**H1**: p < 14%"
   ]
  },
  {
   "cell_type": "code",
   "execution_count": 3,
   "metadata": {
    "scrolled": true
   },
   "outputs": [
    {
     "name": "stdout",
     "output_type": "stream",
     "text": [
      "When the sample proportion is less than  12.52635 %, the show will be cancelled."
     ]
    }
   ],
   "source": [
    "z95 <- qnorm(0.05, mean = 0, sd = 1, lower.tail = TRUE)\n",
    "value<-z95*sqrt(0.14*(1-0.14)/1500)+0.14\n",
    "cat('When the sample proportion is less than ', value*100, '%, the show will be cancelled.')"
   ]
  },
  {
   "cell_type": "markdown",
   "metadata": {},
   "source": [
    "### b.\t(5 points) Your manager is wondering if you can help her determine the probability that this show will be canceled if 13.4% of all viewing households are watching it. That is, what is the probability that a sample will lead to rejection of the null hypothesis?"
   ]
  },
  {
   "cell_type": "code",
   "execution_count": 4,
   "metadata": {},
   "outputs": [
    {
     "data": {
      "text/html": [
       "0.160286228233026"
      ],
      "text/latex": [
       "0.160286228233026"
      ],
      "text/markdown": [
       "0.160286228233026"
      ],
      "text/plain": [
       "[1] 0.1602862"
      ]
     },
     "metadata": {},
     "output_type": "display_data"
    }
   ],
   "source": [
    "p_hat<-value\n",
    "p<-0.134\n",
    "n<-1500\n",
    "z<-(p_hat-p)/sqrt(p*(1-p)/n)\n",
    "pnorm(z,mean=0, sd=1, lower.tail = TRUE)"
   ]
  },
  {
   "cell_type": "markdown",
   "metadata": {},
   "source": [
    "## Question 6\n",
    "Approaching San Francisco International Airport (SFO) for landing, a British Airways flight from London Heathrow Airport (LHR) has been on hold for 45 minutes due to dense fog and inclement weather. The flight crew could declare an emergency and land immediately, but an FAA investigation will be launched and other flights might be endangered. The flight crew believes that there is enough fuel to stay aloft for 15 more minutes. Define Type I and Type II errors and identify the consequences of each type of error.\n"
   ]
  },
  {
   "cell_type": "code",
   "execution_count": 19,
   "metadata": {},
   "outputs": [],
   "source": [
    "##**Type I error**:Stay aloft for 15 more minutes when there is not enough fuel\n",
    "##- Consequence – run out of fuel (can declare an emergency and land immediately later but before running out of fuel, or crash) \n",
    "\n",
    "##**Type II error**: declare an emergency and land immediately when the fuel is enough to stay aloft for 15 more minutes\n",
    "##- Consequence - an FAA investigation will be launched and other flights might be endangered"
   ]
  },
  {
   "cell_type": "markdown",
   "metadata": {},
   "source": [
    "## Question 7\n",
    "A jury of 12 begins with the premise that the accused is innocent. Assume that these 12 jurors were chosen from a large population, such as voters. Unless the jury votes unanimously for conviction, the accused is set free.\n"
   ]
  },
  {
   "cell_type": "markdown",
   "metadata": {},
   "source": [
    "### a.\t(5 points) Evidence in the trial of an innocent suspect is enough to convince 42% of all jurors in the population that the suspect is guilty. What is the probability that a jury convicts an innocent suspect?"
   ]
  },
  {
   "cell_type": "markdown",
   "metadata": {},
   "source": [
    "**H0**: the accused is innocent\n",
    "\n",
    "**H1**: the accused is not innocent"
   ]
  },
  {
   "cell_type": "code",
   "execution_count": 14,
   "metadata": {},
   "outputs": [
    {
     "data": {
      "text/html": [
       "3.01294694866397e-05"
      ],
      "text/latex": [
       "3.01294694866397e-05"
      ],
      "text/markdown": [
       "3.01294694866397e-05"
      ],
      "text/plain": [
       "[1] 3.012947e-05"
      ]
     },
     "metadata": {},
     "output_type": "display_data"
    }
   ],
   "source": [
    "dbinom(12,12,0.42)"
   ]
  },
  {
   "cell_type": "markdown",
   "metadata": {},
   "source": [
    "### b.\t(1 point) What type of error (Type I or Type II) is committed by the jury in part (a)?"
   ]
  },
  {
   "cell_type": "code",
   "execution_count": 56,
   "metadata": {},
   "outputs": [],
   "source": [
    "##**Type I error**: claim the accused is guilty when they is not "
   ]
  },
  {
   "cell_type": "markdown",
   "metadata": {},
   "source": [
    "### c.\t(5 points) Evidence in the trial of a guilty suspect is enough to convince 99% of all jurors in the population that the suspect is guilty. What is the probability that a jury fails to convict the guilty suspect?"
   ]
  },
  {
   "cell_type": "code",
   "execution_count": 18,
   "metadata": {},
   "outputs": [
    {
     "data": {
      "text/html": [
       "0.113615128283871"
      ],
      "text/latex": [
       "0.113615128283871"
      ],
      "text/markdown": [
       "0.113615128283871"
      ],
      "text/plain": [
       "[1] 0.1136151"
      ]
     },
     "metadata": {},
     "output_type": "display_data"
    }
   ],
   "source": [
    "1-dbinom(12,12,0.99)"
   ]
  },
  {
   "cell_type": "markdown",
   "metadata": {},
   "source": [
    "### d.\t(1 point) What type of error is committed by the jury in part (c)?"
   ]
  },
  {
   "cell_type": "code",
   "execution_count": null,
   "metadata": {},
   "outputs": [],
   "source": [
    "##**Type II error**: claim the accused is innocent when they is not"
   ]
  }
 ],
 "metadata": {
  "kernelspec": {
   "display_name": "R",
   "language": "R",
   "name": "ir"
  },
  "language_info": {
   "codemirror_mode": "r",
   "file_extension": ".r",
   "mimetype": "text/x-r-source",
   "name": "R",
   "pygments_lexer": "r",
   "version": "3.6.1"
  }
 },
 "nbformat": 4,
 "nbformat_minor": 2
}
