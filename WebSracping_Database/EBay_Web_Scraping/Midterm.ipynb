{
 "cells": [
  {
   "cell_type": "code",
   "execution_count": 1,
   "metadata": {
    "ExecuteTime": {
     "end_time": "2020-02-06T19:24:18.121943Z",
     "start_time": "2020-02-06T19:24:16.537635Z"
    }
   },
   "outputs": [],
   "source": [
    "import json\n",
    "import requests, re\n",
    "from bs4 import BeautifulSoup\n",
    "import pandas as pd\n",
    "import pprint\n",
    "import mysql.connector\n",
    "import time \n",
    "import os\n",
    "import html.parser as htmlparser\n",
    "import numpy as np\n",
    "import pymysql"
   ]
  },
  {
   "cell_type": "markdown",
   "metadata": {},
   "source": [
    "# Part 1:  SHORT, LET GET STARTED\n",
    "\n",
    "Go to http://numbersapi.com and familiarize yourself with the API.\n",
    "\n",
    "a) Write a program that accesses all trivia results for the numbers from 0 (zero) to 99 using batch requests only (One single query for all the numbers). Print the output result to the screen in the format of [3-digit number with leading zeros] - [TRIVIA] (One number per each line). E.g.,"
   ]
  },
  {
   "cell_type": "code",
   "execution_count": 2,
   "metadata": {
    "ExecuteTime": {
     "end_time": "2020-02-06T19:24:21.851963Z",
     "start_time": "2020-02-06T19:24:21.774171Z"
    }
   },
   "outputs": [
    {
     "name": "stdout",
     "output_type": "stream",
     "text": [
      "000 - 0 is the coldest possible temperature old the Kelvin scale.\n",
      "001 - 1 is the number of Gods in monotheism.\n",
      "002 - 2 is the number of stars in a binary star system (a stellar system consisting of two stars orbiting around their center of mass).\n",
      "003 - 3 is cans of Spam consumed every second in the United States.\n",
      "004 - 4 is the number of bits in a nibble, equivalent to half a byte.\n",
      "005 - 5 is the number of completed, numbered piano concertos of Ludwig van Beethoven, Sergei Prokofiev, and Camille Saint-Saëns.\n",
      "006 - 6 is the number of strings on a standard guitar.\n",
      "007 - 7 is the number of days in a week.\n",
      "008 - 8 is the number of bits in a byte.\n",
      "009 - 9 is the number of innings in a regulation, non-tied game of baseball.\n",
      "010 - 10 is the number of years in a decade.\n",
      "011 - 11 is the possible age of the youngest elected pope, Benedict IX.\n",
      "012 - 12 is the number of ounces in a troy pound (used for precious metals).\n",
      "013 - 13 is the speed of rush hour traffic on average in kilometres per hour in London.\n",
      "014 - 14 is the number of pounds in a stone in traditional British units of weight.\n",
      "015 - 15 is the legal age for sexual intercourse in many countries.\n",
      "016 - 16 is the number of teams that qualified for the finals of the FIFA World Cup from 1934 through 1978 (although for various reasons, only 15 competed in the 1938 and 1950 finals).\n",
      "017 - 17 is the number of the raka'ahs that Muslims perform during Salah on a daily basis.\n",
      "018 - 18 is the number of bronze monks the Shaolin temple had in Chinese folklore.\n",
      "019 - 19 is the number of years in 235 lunations.\n",
      "020 - 20 is the number of questions in the popular party game Twenty Questions.\n",
      "021 - 21 is the number of points required to win a game in badminton and table tennis (before 2001).\n",
      "022 - 22 is the number of letters in the Hebrew alphabet.\n",
      "023 - 23 is the number of minutes that all flashbacks take place before the assassination attempt on the president in the film Vantage Point.\n",
      "024 - 24 is the number of letters in both the modern and classical Greek alphabet.\n",
      "025 - 25 is the percentage of all scald burns to children from hot tap water.\n",
      "026 - 26 is the number of bones in the normal human foot and ankle.\n",
      "027 - 27 is the total number of letters in the Spanish alphabet (5 vowels and 22 consonants).\n",
      "028 - 28 is the number of dominoes in standard domino sets.\n",
      "029 - 29 is the number of letters in the Turkish,Finnish, Swedish,Faroese,Danish and Norwegianalphabets.\n",
      "030 - 30 is the consumption in pounds of candy annually per person in Denmark, the country with the highest candy consumption.\n",
      "031 - 31 is the number of musical triads (12 major, 12 minor, 4 diminished, and 3 augmented).\n",
      "032 - 32 is the percentage of employees in the USA who eat lunch and work at the same time.\n",
      "033 - 33 is the number of workers trapped, and also the number of survivors of the 2010 Copiapó mining accident.\n",
      "034 - 34 is the lucky number of Victor Pelevin's protagonist Stepan Mikhailov in the novel Numbers.\n",
      "035 - 35 is the basic film gauge in mm most commonly used for both analog photography and motion pictures.\n",
      "036 - 36 is the number of vehicles that run in each race of NASCAR's Camping World Truck Series.\n",
      "037 - 37 is the number of slots in European Roulette (numbered 0 through 36, the 00 is not used in European roulette as it is in American roulette).\n",
      "038 - 38 is the number of years it took the Israelites to travel from Kadesh Barnea to the Zered valley in Deuteronomy.\n",
      "039 - 39 is the number of mentions of work or labor in the Torah.\n",
      "040 - 40 is the number of points that a Premier League team needs to avoid relegation in soccer.\n",
      "041 - 41 is the age at which writer/director Tom Graeff (of Teenagers from Outer Space fame) committed suicide.\n",
      "042 - 42 is the number of US gallons in a barrel of oil.\n",
      "043 - 43 is the maximum number of cars participating in a NASCAR race in the Cup Series or Nationwide Series.\n",
      "044 - 44 is the number of candles in a box of Hanukkah candles.\n",
      "045 - 45 is the sapphire wedding anniversary in years of marriage.\n",
      "046 - 46 is the number of samurai, out of 47, who carried out the attack in the historical Ako vendetta.\n",
      "047 - 47 is the number of El-Aurians Scotty manages to beam up before their ship is destroyed by the energy ribbon.\n",
      "048 - 48 is the number of Ptolemaic constellations.\n",
      "049 - 49 is the number of days and night Siddhartha Gautama spent meditating as a holy man.\n",
      "050 - 50 is the height in kilometres that a volcano can shoot ash into the sky.\n",
      "051 - 51 is the atomic number of antimony.\n",
      "052 - 52 is the approximate number of weeks in a year.\n",
      "053 - 53 is the maximum number of players on a National Football League roster.\n",
      "054 - 54 is the score in golf colloquially referred to as a perfect round.\n",
      "055 - 55 is the common speed limit for rural secondary roads and many urban freeways in many states of the United States.\n",
      "056 - 56 is the number of consecutive games in baseball in which New York Yankees' Joe DiMaggio had a base hit in 1941, still a record.\n",
      "057 - 57 is the number of people at 20th Century Fox Studios died amid rioting and suicide.\n",
      "058 - 58 is the number of counties in California.\n",
      "059 - 59 is the number on a button commonly worn by feminist activists in the 1970s (based on the claim that a woman earned 59 cents to an equally qualified man's dollar).\n",
      "060 - 60 is the maximum number of marbles (game pieces) in Chinese checkers.\n",
      "061 - 61 is the code for international direct dial phone calls to Australia.\n",
      "062 - 62 is the atomic number of samarium.\n",
      "063 - 63 is the number of chromosomes found in the offspring of a donkey and a horse.\n",
      "064 - 64 is the number of Braille characters in the old 6-dot system.\n",
      "065 - 65 is the minimum grade required to pass an exam, or class, in many areas.\n",
      "066 - 66 is the total number of books in the Protestant edition of the Bible (Old Testament and New Testament) combined.\n",
      "067 - 67 is the number of counties in Florida.\n",
      "068 - 68 is the ideal temperature (F) for developing black-and-white film.\n",
      "069 - 69 is the number Bill and Ted were thinking of when talking to their future selves.\n",
      "070 - 70 is the number of years of marriage until the platinum wedding anniversary.\n",
      "071 - 71 is the number of different characters that can be used with a standard English Keyboard, excluding uppercase letters.\n",
      "072 - 72 is the standard resolution of an Apple Macintosh screen in dots per inch.\n",
      "073 - 73 is the length of the Arecibo message sent to space in search for extraterrestrial intelligence.\n",
      "074 - 74 is the number of stars obtained by SpongeBob SquarePants in his driving school.\n",
      "075 - 75 is the age in years that the Saguaro Cactus, found in southwestern US, must be to grow branches.\n",
      "076 - 76 is the atomic number of osmium.\n",
      "077 - 77 is the atomic number of iridium.\n",
      "078 - 78 is the number of chromosomes in canine DNA.\n",
      "079 - 79 is the record for cumulative weeks at #1 on the Billboard charts, held by Elvis Presley.\n",
      "080 - 80 is the length (years) of the Eighty Years' War (1568–1648).\n",
      "081 - 81 is the number of stanzas or chapters in the Tao te Ching (in the most common arrangements).\n",
      "082 - 82 is the atomic number of lead.\n",
      "083 - 83 is the highest UHF channel on older televisions made before the late 1970s.\n",
      "084 - 84 is the atomic number of polonium.\n",
      "085 - 85 is the atomic number of astatine.\n",
      "086 - 86 is the device number for a lockout relay function in electrical circuit protection schemes.\n",
      "087 - 87 is the number of tools in the Wenger Swiss Army Knife version XXL, listed in the Guinness Book of World Records as the world's most multi-functional penknife.\n",
      "088 - 88 is the number of keys on a piano (36 black and 52 white).\n",
      "089 - 89 is the atomic number of actinium.\n",
      "090 - 90 is the number of minutes in a football (soccer) match.\n",
      "091 - 91 is the atomic number of protactinium.\n",
      "092 - 92 is the number of letters in the longest place name: Taumatawhakatangihangakoauauotamateaurehaeaturipukakapikimaungahoronukupokaiwhenuakitanatahu.\n",
      "093 - 93 is the atomic number of neptunium.\n",
      "094 - 94 is the atomic number of plutonium.\n",
      "095 - 95 is the percentage confidence interval that is considered satisfactory for most purposes in statistics.\n",
      "096 - 96 is the rating of Skyrim on metacritic.com.\n",
      "097 - 97 is the number of minutes it takes the Hubble space telescope to complete an orbit around the Earth.\n",
      "098 - 98 is the temperature (F) of the normal body.\n",
      "099 - 99 is the number of names of Allah, the names or attributes of God in the Qur'an.\n"
     ]
    }
   ],
   "source": [
    "#############################################################\n",
    "#Part 1\n",
    "#############################################################\n",
    "\n",
    "#set up the api url\n",
    "url_base = 'http://numbersapi.com/'\n",
    "query_type = 'trivia'\n",
    "batch = '0..99'\n",
    "api = url_base + batch + '/' + query_type\n",
    "\n",
    "#connect to the api url\n",
    "headers = {\n",
    "    'User-Agent': 'Mozilla/5.0 (Windows NT 10.0; Win64; x64) AppleWebKit/537.36 (KHTML, like Gecko) Chrome/76.0.3809.87 Safari/537.36'\n",
    "}\n",
    "data = requests.get(api,headers = headers)\n",
    "\n",
    "#parse the result in the json format\n",
    "results = json.loads(data.content.decode('utf-8'))\n",
    "\n",
    "#iteration for printing the result\n",
    "for i in range(0,100):\n",
    "    index = '{0:03}'.format(i)\n",
    "    print (index+' - '+results[str(i)])\n"
   ]
  },
  {
   "cell_type": "markdown",
   "metadata": {},
   "source": [
    "# Part 2: LONGER!\n",
    "\n",
    "Web-scraping: Which sellers advertise/sponsor on eBay\n",
    "\n",
    "a) Take the code your group developed for assignment 2 and fix everything that may not have been optimal in your previous solution. Alternatively, but less cool, you may use our solution code as your starting point. (You will use this for the next part. You do not need to include this code in your submission.)\n",
    "\n",
    "How would you modify your search query to only include buy-it-now (non-auction) items? What is the GET request's variable name corresponding to buy-it-now searches? How would you modify your search query to include 100 items per search result page? What is the GET request's variable name corresponding to items per page searches? Include your answers as a comment in your code marking it as Part 2-a. (This section does not involve coding)"
   ]
  },
  {
   "cell_type": "code",
   "execution_count": 3,
   "metadata": {
    "ExecuteTime": {
     "end_time": "2020-02-06T19:24:29.843424Z",
     "start_time": "2020-02-06T19:24:29.840433Z"
    }
   },
   "outputs": [],
   "source": [
    "#############################################################\n",
    "#Part 2\n",
    "#Note: If item's return policy is NUll, the item was sold out.\n",
    "#############################################################\n",
    "\n",
    "#a\n",
    "\n",
    "# I would modify the search url to this: https://www.ebay.com/sch/i.html?_nkw=sumsung+tv&LH_BIN=1&_ipg=100. While still using \n",
    "#_nkw for the searching item, I added two GET request's variable for buy-it-now items and 100 items per page.\n",
    "# The LH_BIN is the variable name that let the search to filter the search results to only buy-it-now items when setting \n",
    "#the variable equal to 1.\n",
    "#The _ipg is the variable name that let the search to display results as 100 items per page. \n"
   ]
  },
  {
   "cell_type": "markdown",
   "metadata": {},
   "source": [
    "b) Modify your previous code to search for buy-it-now listings of \"ipad 4\" and limit the number of items to 100 per page.\n",
    "\n",
    "Identify all the sponsored items.\n",
    "\n",
    "For the first 10 pages of 100 items/page, save all the URLs of sponsored items' pages to the file \"sponsored.txt\"  and all the URLs of non-sponsored items' pages to the file \"non-sponsored.txt\" in the same directory as your code. (One URL per line in each file)"
   ]
  },
  {
   "cell_type": "code",
   "execution_count": 76,
   "metadata": {
    "ExecuteTime": {
     "end_time": "2020-02-06T22:55:58.969350Z",
     "start_time": "2020-02-06T22:55:30.094440Z"
    }
   },
   "outputs": [
    {
     "name": "stdout",
     "output_type": "stream",
     "text": [
      "Page:  1  Sponsored:  13  Non-Sponsored:  100\n",
      "Page:  2  Sponsored:  13  Non-Sponsored:  100\n",
      "Page:  3  Sponsored:  13  Non-Sponsored:  100\n",
      "Page:  4  Sponsored:  13  Non-Sponsored:  100\n",
      "Page:  5  Sponsored:  13  Non-Sponsored:  100\n",
      "Page:  6  Sponsored:  13  Non-Sponsored:  100\n",
      "Page:  7  Sponsored:  13  Non-Sponsored:  100\n",
      "Page:  8  Sponsored:  13  Non-Sponsored:  100\n",
      "Page:  9  Sponsored:  13  Non-Sponsored:  100\n",
      "Page:  10  Sponsored:  13  Non-Sponsored:  100\n"
     ]
    }
   ],
   "source": [
    "#b\n",
    "\n",
    "#Set up a base link and header\n",
    "ebaylink='https://www.ebay.com/sch/i.html?_nkw=ipad+4&LH_BIN=1&_ipg=100&_pgn='\n",
    "headers = {\n",
    "    'User-Agent': 'Mozilla/5.0 '\n",
    "}\n",
    "\n",
    "#create files\n",
    "sp_text = open('sponsored.txt', \"w\",encoding='utf-8') \n",
    "nsp_text = open('non-sponsored.txt', \"w\",encoding='utf-8')\n",
    "\n",
    "#iteration for pages\n",
    "for i in range(1,11):\n",
    "    \n",
    "    #create the url and connect\n",
    "    url = ebaylink+str(i)\n",
    "    data = requests.get(url,headers = headers)\n",
    "    soup = BeautifulSoup(data.text, 'html.parser')\n",
    "\n",
    "    #locating item elements\n",
    "    items = soup.select(\"div#srp-river-main > div#srp-river-results > ul > li.s-item\")\n",
    "    s_n = 0\n",
    "    n_n = 0\n",
    "    #iteration for each item\n",
    "    for item in items:\n",
    "        \n",
    "        #extract the item links\n",
    "        itemlink = item.find('a','s-item__link')['href']\n",
    "        \n",
    "        #detect SPONSORED\n",
    "        sponsored_tag = item.find('span',{'role':'text'})\n",
    "        #test whether the tag displayed as \"SPONSORED\" and write the link to files\n",
    "        if sponsored_tag != None:\n",
    "            text = item.find('span',{'role':'text'}).get_text()\n",
    "            if re.search('.*S.*P.*O.*N.*S.*O.*R.*E.*D.*',text):\n",
    "                sp_text.write(str(itemlink)+'\\n')\n",
    "                s_n = s_n+1\n",
    "            else:\n",
    "                nsp_text.write(str(itemlink)+'\\n')\n",
    "                n_n = n_n+1  \n",
    "        else:\n",
    "            nsp_text.write(str(itemlink)+'\\n')\n",
    "            n_n = n_n+1\n",
    "    \n",
    "    print('Page: ',i,' Sponsored: ',s_n,' Non-Sponsored: ',n_n)\n",
    "    time.sleep(1)\n",
    "\n",
    "#close files\n",
    "sp_text.close()\n",
    "nsp_text.close()\n"
   ]
  },
  {
   "cell_type": "markdown",
   "metadata": {},
   "source": [
    "c) Create two folders in the same directory as your code and name them \"sponsored\" and \"non-sponsored\". Write a program that opens the two files in (b) and downloads each of the pages (URLs) into the folders \"sponsored\" and \"non-sponsored\". Each file should be named as \"<item-id>.htm\" where you replace \"item-id\" with the ID of the item you are saving. E.g., \"264616053293.htm\" for the item with ID \"264616053293\". Note it is always good to put a 2-second pause between queries. Make sure to catch an error and continue if your query runs into problems connecting to eBay (e.g., if your internet is down for 5 seconds, you don't want your entire code to crash)."
   ]
  },
  {
   "cell_type": "code",
   "execution_count": 77,
   "metadata": {
    "ExecuteTime": {
     "end_time": "2020-02-06T23:02:00.386309Z",
     "start_time": "2020-02-06T22:55:58.972127Z"
    }
   },
   "outputs": [
    {
     "name": "stdout",
     "output_type": "stream",
     "text": [
      "===============Sponsored==================\n",
      "Total links:  130 . \n",
      " Success Downloaded:  130 . \n",
      " Error Links:  []\n"
     ]
    }
   ],
   "source": [
    "#c\n",
    "\n",
    "######SPONSORED################\n",
    "\n",
    "#create a folder called sponsored\n",
    "current_directory = os.getcwd()\n",
    "final_directory = os.path.join(current_directory, r'sponsored')\n",
    "if not os.path.exists(final_directory):\n",
    "    os.makedirs(final_directory)\n",
    "\n",
    "#read the links\n",
    "file = open(\"sponsored.txt\", \"r\")\n",
    "f = file.readlines()\n",
    "\n",
    "#iteration for downloading web pages\n",
    "error_link = list()\n",
    "success_num = 0\n",
    "\n",
    "for i in range(len(f)):\n",
    "    \n",
    "    ebaylink=f[i]\n",
    "    headers = {\n",
    "        'User-Agent': 'Mozilla/5.0 (Windows NT 10.0; Win64; x64) AppleWebKit/537.36 (KHTML, like Gecko) Chrome/76.0.3809.87 Safari/537.36'\n",
    "    }\n",
    "    \n",
    "    try:\n",
    "        #connect the page\n",
    "        data = requests.get(ebaylink,headers = headers)\n",
    "        soup = BeautifulSoup(data.text, 'html.parser')\n",
    "\n",
    "        #find the item id\n",
    "        ID = soup.find('div',attrs={'id':'descItemNumber'}).text.strip()\n",
    "        filename = ID + '.htm'\n",
    "        \n",
    "        #set the path and output the page as htm files\n",
    "        full_filename = os.path.join(final_directory, filename)\n",
    "        with open(full_filename, \"w\",encoding='utf-8') as file:\n",
    "            file.write(str(soup))\n",
    "            file.close()\n",
    "            success_num = success_num + 1  #count the pages\n",
    "    except:\n",
    "        \n",
    "        #error control \n",
    "        error_link = error_link.append(f[i])\n",
    "        print('Error Message: ',sys.exc_info()[0])\n",
    "        continue\n",
    "    \n",
    "    time.sleep(2)\n",
    "\n",
    "print('===============Sponsored==================')\n",
    "print('Total links: ',len(f),'. \\n Success Downloaded: ',success_num,'. \\n Error Links: ',error_link)"
   ]
  },
  {
   "cell_type": "code",
   "execution_count": 78,
   "metadata": {
    "ExecuteTime": {
     "end_time": "2020-02-06T23:48:19.184672Z",
     "start_time": "2020-02-06T23:02:00.391259Z"
    }
   },
   "outputs": [
    {
     "name": "stdout",
     "output_type": "stream",
     "text": [
      "===============Non Sponsored===================\n",
      "Total links:  1000 . \n",
      " Success Downloaded:  1000 . \n",
      " Error Links:  []\n"
     ]
    }
   ],
   "source": [
    "\n",
    "######NON_SPONSORED################\n",
    "\n",
    "#create a folder called sponsored\n",
    "current_directory = os.getcwd()\n",
    "final_directory = os.path.join(current_directory, r'non-sponsored')\n",
    "if not os.path.exists(final_directory):\n",
    "    os.makedirs(final_directory)\n",
    "\n",
    "#read the links\n",
    "file = open(\"non-sponsored.txt\", \"r\")\n",
    "f = file.readlines()\n",
    "\n",
    "#iteration for downloading web pages\n",
    "error_link = list()\n",
    "success_num = 0\n",
    "\n",
    "for i in range(len(f)):\n",
    "    \n",
    "    ebaylink=f[i]\n",
    "    headers = {\n",
    "        'User-Agent': 'Mozilla/5.0 (Windows NT 10.0; Win64; x64) AppleWebKit/537.36 (KHTML, like Gecko) Chrome/76.0.3809.87 Safari/537.36'\n",
    "    }\n",
    "    \n",
    "    try:\n",
    "        #connect the page\n",
    "        data = requests.get(ebaylink,headers = headers)\n",
    "        soup = BeautifulSoup(data.text, 'html.parser')\n",
    "\n",
    "        #find the item id\n",
    "        ID = soup.find('div',attrs={'id':'descItemNumber'}).text.strip()\n",
    "        filename = ID + '.htm'\n",
    "        \n",
    "        #set the path and output the page as htm files\n",
    "        full_filename = os.path.join(final_directory, filename)\n",
    "        with open(full_filename, \"w\",encoding='utf-8') as file:\n",
    "            file.write(str(soup))\n",
    "            file.close()\n",
    "            success_num = success_num + 1  #count the pages\n",
    "    except:\n",
    "        \n",
    "        #error control \n",
    "        error_link = error_link.append(f[i])\n",
    "        print('Error Message: ',sys.exc_info()[0])\n",
    "        continue\n",
    "    \n",
    "    time.sleep(2)\n",
    "\n",
    "print('===============Non Sponsored===================')\n",
    "print('Total links: ',len(f),'. \\n Success Downloaded: ',success_num,'. \\n Error Links: ',error_link)"
   ]
  },
  {
   "cell_type": "markdown",
   "metadata": {},
   "source": [
    "d) Write a separate piece of code that loops through the pages you downloaded in (c) and opens and parses them into a Python or Java xxxxsoup-object. Identify and select:\n",
    "\n",
    "seller name, seller score, item price, # items sold, best offer available, title, returns allowed, shipping price, condition (e.g., used, new, like new, seller refurbished, ...).\n",
    "\n",
    "In your code, highlight the selector command you choose to obtain each element using comments."
   ]
  },
  {
   "cell_type": "code",
   "execution_count": 97,
   "metadata": {
    "ExecuteTime": {
     "end_time": "2020-02-07T00:09:03.922672Z",
     "start_time": "2020-02-07T00:08:40.957395Z"
    }
   },
   "outputs": [],
   "source": [
    "#d\n",
    "\n",
    "###########Sponsored###############################\n",
    "current_directory = os.getcwd()\n",
    "final_directory = os.path.join(current_directory, r'sponsored')\n",
    "ebay_info = []\n",
    "for filename in os.listdir(final_directory):\n",
    "    path = final_directory+'\\\\'+filename\n",
    "\n",
    "    with open(path,encoding=\"utf-8\") as page:\n",
    "        #parse as beautifulsoup object\n",
    "        soup=BeautifulSoup(page, 'html.parser')\n",
    "\n",
    "        #Item ID\n",
    "        item_id = filename.replace('.htm','')\n",
    "        #Seller Name\n",
    "        seller_name = [tag.text.strip() for tag in soup.select('span.mbg-nw')] #select element span with class mbg-nw \n",
    "        #Seller Score\n",
    "        seller_score = [tag.text.strip() for tag in soup.select('span.mbg-l > a')] #select element a under element span with class mbg-l\n",
    "        if len(seller_score)>1:\n",
    "            seller_score = seller_score[0]\n",
    "        else:\n",
    "            seller_score = seller_score\n",
    "        #Item Price\n",
    "        item_price = [tag.text.strip() for tag in soup.select(\"span[itemprop='price']\")] #select element span with attribute itemprop = price\n",
    "        if len(item_price)>1:\n",
    "            item_price = item_price[0]\n",
    "        elif len(item_price)==0:\n",
    "            item_price = [tag.text.strip() for tag in soup.select(\"span#prcIsum\")] #if the item was sold select element span with id prcIsum\n",
    "        else:\n",
    "            item_price = item_price\n",
    "        #Number of items sold\n",
    "        item_sold = [tag.text.strip() for tag in soup.select('a.vi-txt-underline')] #select element a with class vi-txt-underline\n",
    "        if item_sold !=[]:\n",
    "            item_sold = item_sold\n",
    "        else:\n",
    "            item_sold = '0'\n",
    "        #Best Offer Available\n",
    "        best_offer = [tag.text.strip() for tag in soup.select('a#boBtn_btn')] #select element a with id boBtn_btn\n",
    "        if len(best_offer) !=0:\n",
    "            best_offer = '1'\n",
    "        else:\n",
    "            best_offer = '0'\n",
    "        #Title\n",
    "        item_title = [tag.text.strip() for tag in soup.select('h1#itemTitle')] #select element h1 with id itemTitle\n",
    "        #Return Allowed\n",
    "        return_policy = [tag.text.strip() for tag in soup.select('span#vi-ret-accrd-txt')] #select element span with id vi-ret-accrd-txt\n",
    "        if len(return_policy) == 0:\n",
    "            return_policy = None\n",
    "        else:\n",
    "            return_policy = return_policy\n",
    "        #Shiping Price\n",
    "        shiping_price = [tag.text.strip() for tag in soup.select('span#shSummary')] #select element span with id shSummary\n",
    "        #Condition\n",
    "        item_condition = [tag.text.strip() for tag in soup.select('div#vi-itm-cond')] #select element div with id vi-itm-cond\n",
    "        \n",
    "        ebay_data = [{\n",
    "                  'item_id': item_id,\n",
    "                  'seller_name':seller_name,\n",
    "                  'seller_score':seller_score,\n",
    "                  'item_price':item_price,\n",
    "                  'item_sold':item_sold,\n",
    "                  'best_offer': best_offer,\n",
    "                  'item_title': item_title,\n",
    "                  'return_policy': return_policy,\n",
    "                  'shiping_price': shiping_price,\n",
    "                  'item_condition': str(item_condition),\n",
    "                  'item_type': 'sponsored'\n",
    "                  }\n",
    "                ]\n",
    "\n",
    "        ebay_info.extend(ebay_data)\n",
    "    sponsored =  pd.DataFrame(ebay_info)\n",
    "    \n"
   ]
  },
  {
   "cell_type": "code",
   "execution_count": 98,
   "metadata": {
    "ExecuteTime": {
     "end_time": "2020-02-07T00:11:57.539735Z",
     "start_time": "2020-02-07T00:09:03.926555Z"
    }
   },
   "outputs": [],
   "source": [
    "###########Non-Sponsored###############################\n",
    "current_directory = os.getcwd()\n",
    "final_directory = os.path.join(current_directory, r'non-sponsored')\n",
    "ebay_info = []\n",
    "for filename in os.listdir(final_directory):\n",
    "    path = final_directory+'\\\\'+filename\n",
    "\n",
    "    with open(path,encoding=\"utf-8\") as page:\n",
    "        #parse as beautifulsoup object\n",
    "        soup=BeautifulSoup(page, 'html.parser')\n",
    "\n",
    "        #Item ID\n",
    "        item_id = filename.replace('.htm','')\n",
    "        #Seller Name\n",
    "        seller_name = [tag.text.strip() for tag in soup.select('span.mbg-nw')] #select element span with class mbg-nw \n",
    "        #Seller Score\n",
    "        seller_score = [tag.text.strip() for tag in soup.select('span.mbg-l > a')] #select element a under element span with class mbg-l\n",
    "        if len(seller_score)>1:\n",
    "            seller_score = seller_score[0]\n",
    "        else:\n",
    "            seller_score = seller_score\n",
    "        #Item Price\n",
    "        item_price = [tag.text.strip() for tag in soup.select(\"span[itemprop='price']\")] #select element span with attribute itemprop = price\n",
    "        if len(item_price)>1:\n",
    "            item_price = item_price[0]\n",
    "        elif len(item_price)==0:\n",
    "            item_price = [tag.text.strip() for tag in soup.select(\"span#prcIsum\")] #if the item was sold select element span with id prcIsum\n",
    "        else:\n",
    "            item_price = item_price\n",
    "        #Number of items sold\n",
    "        item_sold = [tag.text.strip() for tag in soup.select('a.vi-txt-underline')] #select element a with class vi-txt-underline\n",
    "        if item_sold !=[]:\n",
    "            item_sold = item_sold\n",
    "        else:\n",
    "            item_sold = '0'\n",
    "        #Best Offer Available\n",
    "        best_offer = [tag.text.strip() for tag in soup.select('a#boBtn_btn')] #select element a with id boBtn_btn\n",
    "        if len(best_offer) !=0:\n",
    "            best_offer = '1'\n",
    "        else:\n",
    "            best_offer = '0'\n",
    "        #Title\n",
    "        item_title = [tag.text.strip() for tag in soup.select('h1#itemTitle')] #select element h1 with id itemTitle\n",
    "        #Return Allowed\n",
    "        return_policy = [tag.text.strip() for tag in soup.select('span#vi-ret-accrd-txt')] #select element span with id vi-ret-accrd-txt\n",
    "        if len(return_policy) == 0:\n",
    "            return_policy = None\n",
    "        else:\n",
    "            return_policy = return_policy\n",
    "        #Shiping Price\n",
    "        shiping_price = [tag.text.strip() for tag in soup.select('span#shSummary')] #select element span with id shSummary\n",
    "        #Condition\n",
    "        item_condition = [tag.text.strip() for tag in soup.select('div#vi-itm-cond')] #select element div with id vi-itm-cond\n",
    "        \n",
    "        ebay_data = [{\n",
    "                  'item_id': item_id,\n",
    "                  'seller_name':seller_name,\n",
    "                  'seller_score':seller_score,\n",
    "                  'item_price':item_price,\n",
    "                  'item_sold':item_sold,\n",
    "                  'best_offer': best_offer,\n",
    "                  'item_title': item_title,\n",
    "                  'return_policy': return_policy,\n",
    "                  'shiping_price': shiping_price,\n",
    "                  'item_condition': str(item_condition),\n",
    "                  'item_type': 'non-sponsored'\n",
    "                  }\n",
    "                ]\n",
    "\n",
    "        ebay_info.extend(ebay_data)\n",
    "    nonsponsored =  pd.DataFrame(ebay_info)\n",
    "    \n"
   ]
  },
  {
   "cell_type": "markdown",
   "metadata": {},
   "source": [
    "e) Use your code script to connect to SQL (either MySQL, MariaDB, or SQLite. Do NOT use SQL GUI or command terminal). Create a database and name it \"eBay\". Save the information of items in (d)  into a single table named \"eBay_items\" (You are allowed to use only one table). This table should contain both sponsored and non-sponsored information and have a column that specifies which item is sponsored/non-sponsored.  If an item misses ANY of the information in (d), you should insert that missing value as NULL into the table. Convert any price (item price and shipping price) into a \"dollar-cent\" format (e.g., convert $12.34 into 1234 and $12 into 1200. Make sure the two least significant digits are cents. If an item does not include cents in the price, insert zeros.) and insert the price as INT into the table."
   ]
  },
  {
   "cell_type": "code",
   "execution_count": 100,
   "metadata": {
    "ExecuteTime": {
     "end_time": "2020-02-07T00:22:27.632993Z",
     "start_time": "2020-02-07T00:22:26.582737Z"
    }
   },
   "outputs": [],
   "source": [
    "#e\n",
    "\n",
    "###########Dataframe Cleaning and Combination##############\n",
    "\n",
    "ebay_df = pd.concat([sponsored,nonsponsored])\n",
    "\n",
    "\n",
    "ebay_df.item_condition=ebay_df.item_condition.apply(lambda x:str(x).strip(\"['']\"))\n",
    "ebay_df.item_price=ebay_df.item_price.apply(lambda x:str(x).strip(\"['']\"))\n",
    "ebay_df.item_price=ebay_df.item_price.apply(lambda x:str(x).replace(\",\",''))\n",
    "ebay_df.item_sold=ebay_df.item_sold.apply(lambda x:str(x).strip(\"['']\"))\n",
    "ebay_df.item_title=ebay_df.item_title.apply(lambda x:str(x).strip(\"['']\"))\n",
    "ebay_df.return_policy=ebay_df.return_policy.apply(lambda x:str(x).strip(\"['']\"))\n",
    "ebay_df.seller_name=ebay_df.seller_name.apply(lambda x:str(x).strip(\"['']\"))\n",
    "ebay_df.seller_score=ebay_df.seller_score.apply(lambda x:str(x).strip(\"['']\"))\n",
    "ebay_df.shiping_price=ebay_df.shiping_price.apply(lambda x:str(x).strip(\"[]\"))\n",
    "\n",
    "#Transform item price\n",
    "ebay_df['item_price_unit']=ebay_df.item_price.apply(lambda x:re.findall(r'[A-Z]+',str(x)))\n",
    "ebay_df.item_price=ebay_df.item_price.apply(lambda x:re.findall(r'\\d+.\\d*',str(x)))\n",
    "ebay_df.item_price=ebay_df.item_price.apply(lambda x:str(x).strip(\"['']\"))\n",
    "\n",
    "ebay_df.item_price_unit=ebay_df.item_price_unit.apply(lambda x:str(x).strip(\"['']\"))\n",
    "for item in range(0,len(ebay_df.item_price)):\n",
    "    try:\n",
    "        ebay_df.item_price.iloc[item] = \"{:.2f}\".format(float(ebay_df.item_price.iloc[item]))\n",
    "        ebay_df.item_price.iloc[item] = str(int(float(ebay_df.item_price.iloc[item])*100))\n",
    "    except:\n",
    "        ebay_df.item_price.iloc[item] = None\n",
    "        continue\n",
    "\n",
    "#Transform item sold\n",
    "for item in range(0,len(ebay_df.best_offer)):\n",
    "    if not ebay_df.item_sold.iloc[item]:\n",
    "        ebay_df.item_sold.iloc[item] = None\n",
    "    else:\n",
    "        ebay_df.item_sold.iloc[item] = str(int(re.findall(r'\\d+',str(ebay_df.item_sold.iloc[item]))[0]))\n",
    "        \n",
    "#Transform item title\n",
    "ebay_df.item_title=ebay_df.item_title.apply(lambda x:str(x).replace(\"\\\\xa0\",''))\n",
    "\n",
    "#Transform item title\n",
    "ebay_df.return_policy=ebay_df.return_policy.apply(lambda x:str(x).replace(\"\\\\xa0\",''))\n",
    "\n",
    "#Transform shiping_price\n",
    "ebay_df.shiping_price=ebay_df.shiping_price.apply(lambda x:re.findall(r'FREE|Free|Calculate|\\$\\d+.\\d*\\\\',x))\n",
    "def shiping_first(txt):\n",
    "    if len(txt)>1:\n",
    "        return txt[0]\n",
    "    else:\n",
    "        return txt\n",
    "    \n",
    "ebay_df.shiping_price=ebay_df.shiping_price.apply(lambda x:shiping_first(x))\n",
    "\n",
    "ebay_df.shiping_price=ebay_df.shiping_price.apply(lambda x:str(x).strip(\"['']\"))\n",
    "\n",
    "ebay_df['shiping_price']=np.where(ebay_df['shiping_price'] =='FREE', \"0\", ebay_df['shiping_price'])\n",
    "ebay_df['shiping_price']=np.where(ebay_df['shiping_price'] =='Free', \"0\", ebay_df['shiping_price'])\n",
    "ebay_df['shiping_price_compute']=np.where(ebay_df['shiping_price'] =='Calculate', \"1\",\"0\")\n",
    "ebay_df['shiping_price']=np.where(ebay_df['shiping_price'] =='Calculate', '', ebay_df['shiping_price'])\n",
    "ebay_df.shiping_price=ebay_df.shiping_price.apply(lambda x:str(x).replace(\"$\",''))\n",
    "ebay_df.shiping_price=ebay_df.shiping_price.apply(lambda x:str(x).replace('\\\\',''))\n",
    "\n",
    "for item in range(0,len(ebay_df.best_offer)):\n",
    "    try:\n",
    "        ebay_df.shiping_price.iloc[item] = str(int(float(ebay_df.shiping_price.iloc[item])*100))\n",
    "    except:\n",
    "        ebay_df.shiping_price.iloc[item] = None\n",
    "        continue\n",
    "        \n",
    "#Transform seller score\n",
    "for item in range(0,len(ebay_df.best_offer)):\n",
    "    try:\n",
    "        ebay_df.seller_score.iloc[item] = str(ebay_df.seller_score.iloc[item])\n",
    "    except:\n",
    "        ebay_df.seller_score.iloc[item] = None\n",
    "        continue"
   ]
  },
  {
   "cell_type": "code",
   "execution_count": 101,
   "metadata": {
    "ExecuteTime": {
     "end_time": "2020-02-07T00:22:28.475705Z",
     "start_time": "2020-02-07T00:22:28.457751Z"
    }
   },
   "outputs": [
    {
     "name": "stdout",
     "output_type": "stream",
     "text": [
      "<mysql.connector.connection_cext.CMySQLConnection object at 0x000001D8ECDF9C50>\n"
     ]
    }
   ],
   "source": [
    "##############Save to Database######################################\n",
    "# Connect to mysql\n",
    "mydb = mysql.connector.connect(\n",
    "  host=\"localhost\",\n",
    "  user=\"root\"\n",
    ")\n",
    "\n",
    "mycursor = mydb.cursor()\n",
    "print(mydb)\n"
   ]
  },
  {
   "cell_type": "code",
   "execution_count": 102,
   "metadata": {
    "ExecuteTime": {
     "end_time": "2020-02-07T00:22:29.099039Z",
     "start_time": "2020-02-07T00:22:29.092051Z"
    }
   },
   "outputs": [],
   "source": [
    "# Create database\n",
    "mycursor.execute( \"Create DATABASE if not exists eBay\")"
   ]
  },
  {
   "cell_type": "code",
   "execution_count": 103,
   "metadata": {
    "ExecuteTime": {
     "end_time": "2020-02-07T00:22:34.603561Z",
     "start_time": "2020-02-07T00:22:34.531758Z"
    }
   },
   "outputs": [],
   "source": [
    "#Create table \n",
    "\n",
    "# if the table already existed, run following code\n",
    "# mydb.close()\n",
    "# mydb = mysql.connector.connect(\n",
    "#   host=\"localhost\",\n",
    "#   user=\"root\",\n",
    "#   database='eBay'\n",
    "# )\n",
    "# mycursor = mydb.cursor()\n",
    "# mycursor.execute( \"DROP TABLE eBay_items\")\n",
    "mydb.close()\n",
    "\n",
    "mydb = mysql.connector.connect(\n",
    "  host=\"localhost\",\n",
    "  user=\"root\",\n",
    "  database='eBay'\n",
    ")\n",
    "mycursor = mydb.cursor()\n",
    "\n",
    "mycursor.execute(\"CREATE TABLE eBay_items (item_id VARCHAR(255)   ,best_offer VARCHAR(255),\\\n",
    "            item_condition VARCHAR(255), item_price INT(255),item_price_unit VARCHAR(10),\\\n",
    "            item_sold INT(255), item_title VARCHAR(255), item_type VARCHAR(255),\\\n",
    "            return_policy VARCHAR(255), seller_name VARCHAR(255),seller_score VARCHAR(255),\\\n",
    "            shiping_price INT(255), shiping_price_compute BOOL)\")"
   ]
  },
  {
   "cell_type": "code",
   "execution_count": 104,
   "metadata": {
    "ExecuteTime": {
     "end_time": "2020-02-07T00:22:38.210471Z",
     "start_time": "2020-02-07T00:22:35.565571Z"
    }
   },
   "outputs": [],
   "source": [
    "# Insert data\n",
    "for i in range(len(ebay_df.best_offer)):\n",
    "    sql = \"INSERT INTO eBay_items (item_id,best_offer, item_condition,item_price,item_price_unit,\\\n",
    "            item_sold,item_title,item_type,return_policy,seller_name,seller_score,\\\n",
    "            shiping_price,shiping_price_compute) VALUES (%s,%s, %s,%s,%s,%s,%s,%s,%s,%s,%s,%s,%s)\"\n",
    "    val = [(ebay_df['item_id'].iloc[i],ebay_df['best_offer'].iloc[i],\n",
    "           ebay_df['item_condition'].iloc[i],ebay_df['item_price'].iloc[i],ebay_df['item_price_unit'].iloc[i],\n",
    "            ebay_df['item_sold'].iloc[i],ebay_df['item_title'].iloc[i],\n",
    "           ebay_df['item_type'].iloc[i],ebay_df['return_policy'].iloc[i],\n",
    "           ebay_df['seller_name'].iloc[i],ebay_df['seller_score'].iloc[i],ebay_df['shiping_price'].iloc[i],\n",
    "            ebay_df['shiping_price_compute'].iloc[i])]\n",
    "    mycursor.executemany(sql, val)\n",
    "    mydb.commit()\n",
    "    "
   ]
  },
  {
   "cell_type": "markdown",
   "metadata": {},
   "source": [
    "f) Use your code script (and NOT SQL GUI or command terminal) to run summary stats on each item. Print to the screen the mean, min, max, and mean for each column, grouped by \"sponsor/non-sponsor\" and \"condition\" (group by at the same time, not separately). For binary categorical columns, use 0-1 conversion. For e.g., for the \"returns allowed\" convert YES to 1 and NO to 0 and then calculate the stats. If it is NOT a numerical/binary categorical column, print to the screen the count of each category level. You will need to ignore NULL values in your statistic calculations. "
   ]
  },
  {
   "cell_type": "code",
   "execution_count": 105,
   "metadata": {
    "ExecuteTime": {
     "end_time": "2020-02-07T00:26:16.732250Z",
     "start_time": "2020-02-07T00:26:16.716291Z"
    }
   },
   "outputs": [
    {
     "name": "stdout",
     "output_type": "stream",
     "text": [
      "============Best Offer===================\n",
      "Type - Condition - Min - Avg - Max\n",
      "('sponsored', 'Seller refurbished', '0', 0.034482758620689655, '1', 0.18246560765962694)\n",
      "('sponsored', 'Used', '0', 0.18181818181818182, '1', 0.38569460791993504)\n",
      "('sponsored', 'Manufacturer refurbished', '0', 0.0, '0', 0.0)\n",
      "('sponsored', 'Open box', '0', 0.0, '0', 0.0)\n",
      "('non-sponsored', 'New', '0', 0.34782608695652173, '1', 0.4762804847871009)\n",
      "('non-sponsored', 'Seller refurbished', '0', 0.09836065573770492, '1', 0.2978016741735238)\n",
      "('non-sponsored', 'Used', '0', 0.4642082429501085, '1', 0.49871730482035737)\n",
      "('non-sponsored', 'Manufacturer refurbished', '0', 0.08571428571428572, '1', 0.27994168488950605)\n",
      "('non-sponsored', 'Open box', '0', 0.09473684210526316, '1', 0.2928511103840748)\n"
     ]
    }
   ],
   "source": [
    "#f\n",
    "\n",
    "mycursor.execute('SELECT item_type,item_condition,min(best_offer),\\\n",
    "                avg(best_offer),max(best_offer) ,std(best_offer) FROM eBay_items group by item_type,item_condition')\n",
    "myresult = mycursor.fetchall()\n",
    "print('============Best Offer===================')\n",
    "print('Type - Condition - Min - Avg - Max')\n",
    "for x in myresult:\n",
    "    print(x)"
   ]
  },
  {
   "cell_type": "code",
   "execution_count": 106,
   "metadata": {
    "ExecuteTime": {
     "end_time": "2020-02-07T00:26:17.559131Z",
     "start_time": "2020-02-07T00:26:17.544172Z"
    }
   },
   "outputs": [
    {
     "name": "stdout",
     "output_type": "stream",
     "text": [
      "============PRICE===================\n",
      "Type - Condition - Min - Avg - Max\n",
      "('sponsored', 'Seller refurbished', 8199, Decimal('14363.5172'), 24500, 4032.226001300622)\n",
      "('sponsored', 'Used', 3999, Decimal('12305.2727'), 24999, 6728.080248831069)\n",
      "('sponsored', 'Manufacturer refurbished', 7998, Decimal('17517.2118'), 92499, 10875.584796278225)\n",
      "('sponsored', 'Open box', 19895, Decimal('19895.0000'), 19895, 0.0)\n",
      "('non-sponsored', 'New', 14999, Decimal('51725.0522'), 189999, 25881.063235952366)\n",
      "('non-sponsored', 'Seller refurbished', 6998, Decimal('18587.4098'), 99999, 15305.65218577877)\n",
      "('non-sponsored', 'Used', 3300, Decimal('15836.9414'), 99999, 11628.528379093417)\n",
      "('non-sponsored', 'Manufacturer refurbished', 4500, Decimal('22638.7786'), 96999, 14446.291987945191)\n",
      "('non-sponsored', 'Open box', 8995, Decimal('23314.2000'), 82437, 13255.807799324479)\n"
     ]
    }
   ],
   "source": [
    "\n",
    "\n",
    "mycursor.execute('SELECT item_type,item_condition,min(item_price),\\\n",
    "                avg(item_price),max(item_price),std(item_price) FROM eBay_items group by item_type,item_condition')\n",
    "myresult = mycursor.fetchall()\n",
    "print('============PRICE===================')\n",
    "print('Type - Condition - Min - Avg - Max')\n",
    "for x in myresult:\n",
    "    print(x)"
   ]
  },
  {
   "cell_type": "code",
   "execution_count": 107,
   "metadata": {
    "ExecuteTime": {
     "end_time": "2020-02-07T00:26:18.478672Z",
     "start_time": "2020-02-07T00:26:18.463711Z"
    }
   },
   "outputs": [
    {
     "name": "stdout",
     "output_type": "stream",
     "text": [
      "============Item Price Unit===================\n",
      "Type - Condition - Num\n",
      "('sponsored', 'Seller refurbished', 'US', 29)\n",
      "('sponsored', 'Used', 'US', 11)\n",
      "('sponsored', 'Manufacturer refurbished', 'US', 85)\n",
      "('sponsored', 'Open box', 'US', 1)\n",
      "('non-sponsored', 'New', 'US', 115)\n",
      "('non-sponsored', 'Seller refurbished', 'US', 181)\n",
      "('non-sponsored', 'Used', 'US', 457)\n",
      "('non-sponsored', 'Manufacturer refurbished', 'US', 140)\n",
      "('non-sponsored', 'Open box', 'US', 95)\n",
      "('non-sponsored', 'Seller refurbished', 'AU', 2)\n",
      "('non-sponsored', 'Used', 'C', 3)\n",
      "('non-sponsored', 'Used', 'GBP', 1)\n"
     ]
    }
   ],
   "source": [
    "mycursor.execute('SELECT item_type,item_condition,item_price_unit,count(item_price_unit)\\\n",
    "                FROM eBay_items group by item_type,item_condition,item_price_unit')\n",
    "myresult = mycursor.fetchall()\n",
    "print('============Item Price Unit===================')\n",
    "print('Type - Condition - Num')\n",
    "for x in myresult:\n",
    "    print(x)"
   ]
  },
  {
   "cell_type": "code",
   "execution_count": 108,
   "metadata": {
    "ExecuteTime": {
     "end_time": "2020-02-07T00:26:19.261159Z",
     "start_time": "2020-02-07T00:26:19.247221Z"
    }
   },
   "outputs": [
    {
     "name": "stdout",
     "output_type": "stream",
     "text": [
      "============ITEM SOLD===================\n",
      "Type - Condition - Min - Avg - Max\n",
      "('sponsored', 'Seller refurbished', 0, Decimal('160.2069'), 801, 179.98340523318845)\n",
      "('sponsored', 'Used', 0, Decimal('34.5455'), 148, 49.75277723881559)\n",
      "('sponsored', 'Manufacturer refurbished', 0, Decimal('139.0824'), 871, 179.64476133975242)\n",
      "('sponsored', 'Open box', 388, Decimal('388.0000'), 388, 0.0)\n",
      "('non-sponsored', 'New', 0, Decimal('1.4435'), 17, 3.0848615058697493)\n",
      "('non-sponsored', 'Seller refurbished', 0, Decimal('71.6393'), 973, 159.37470362936233)\n",
      "('non-sponsored', 'Used', 0, Decimal('6.7419'), 536, 44.61049267145255)\n",
      "('non-sponsored', 'Manufacturer refurbished', 0, Decimal('58.1714'), 762, 125.70333231502676)\n",
      "('non-sponsored', 'Open box', 0, Decimal('37.0421'), 753, 110.51676850995804)\n"
     ]
    }
   ],
   "source": [
    "mycursor.execute('SELECT item_type,item_condition,min(item_sold),\\\n",
    "                avg(item_sold),max(item_sold),std(item_sold) FROM eBay_items group by item_type,item_condition')\n",
    "myresult = mycursor.fetchall()\n",
    "print('============ITEM SOLD===================')\n",
    "print('Type - Condition - Min - Avg - Max')\n",
    "for x in myresult:\n",
    "    print(x)"
   ]
  },
  {
   "cell_type": "code",
   "execution_count": 109,
   "metadata": {
    "ExecuteTime": {
     "end_time": "2020-02-07T00:26:20.020158Z",
     "start_time": "2020-02-07T00:26:20.011152Z"
    }
   },
   "outputs": [
    {
     "name": "stdout",
     "output_type": "stream",
     "text": [
      "============Item Title===================\n",
      "Type - Condition - Num\n",
      "('sponsored', 'Seller refurbished', 29)\n",
      "('sponsored', 'Used', 11)\n",
      "('sponsored', 'Manufacturer refurbished', 85)\n",
      "('sponsored', 'Open box', 1)\n",
      "('non-sponsored', 'New', 115)\n",
      "('non-sponsored', 'Seller refurbished', 183)\n",
      "('non-sponsored', 'Used', 461)\n",
      "('non-sponsored', 'Manufacturer refurbished', 140)\n",
      "('non-sponsored', 'Open box', 95)\n"
     ]
    }
   ],
   "source": [
    "mycursor.execute('SELECT item_type,item_condition,count( item_title)\\\n",
    "                FROM eBay_items group by item_type,item_condition')\n",
    "myresult = mycursor.fetchall()\n",
    "print('============Item Title===================')\n",
    "print('Type - Condition - Num')\n",
    "for x in myresult:\n",
    "    print(x)"
   ]
  },
  {
   "cell_type": "code",
   "execution_count": 110,
   "metadata": {
    "ExecuteTime": {
     "end_time": "2020-02-07T00:26:20.763308Z",
     "start_time": "2020-02-07T00:26:20.747319Z"
    }
   },
   "outputs": [
    {
     "name": "stdout",
     "output_type": "stream",
     "text": [
      "============Return Policy===================\n",
      "Type - Condition - Min - Avg - Max\n",
      "('sponsored', 'Seller refurbished', 0, Decimal('0.9655'), 1, 0.18246560765962694)\n",
      "('sponsored', 'Used', 0, Decimal('0.9091'), 1, 0.28747978728803447)\n",
      "('sponsored', 'Manufacturer refurbished', 1, Decimal('1.0000'), 1, 0.0)\n",
      "('sponsored', 'Open box', 1, Decimal('1.0000'), 1, 0.0)\n",
      "('non-sponsored', 'New', 0, Decimal('0.6348'), 1, 0.4814910678228566)\n",
      "('non-sponsored', 'Seller refurbished', 0, Decimal('0.9344'), 1, 0.2475355552547787)\n",
      "('non-sponsored', 'Used', 0, Decimal('0.5336'), 1, 0.49886824260758983)\n",
      "('non-sponsored', 'Manufacturer refurbished', 0, Decimal('0.9214'), 1, 0.26906868859767663)\n",
      "('non-sponsored', 'Open box', 0, Decimal('0.8737'), 1, 0.3322049229065158)\n"
     ]
    }
   ],
   "source": [
    "mycursor.execute('with table1 as (SELECT item_type,item_condition,CASE\\\n",
    "    WHEN return_policy =\"Seller does not accept returns\" THEN 0\\\n",
    "    WHEN return_policy =\"\" Then NULL\\\n",
    "    ELSE 1 END as return_allow\\\n",
    "                FROM eBay_items) select item_type,item_condition,min(return_allow),avg(return_allow),max(return_allow),std(return_allow)\\\n",
    "                From table1 group by item_type,item_condition')\n",
    "myresult = mycursor.fetchall()\n",
    "print('============Return Policy===================')\n",
    "print('Type - Condition - Min - Avg - Max')\n",
    "for x in myresult:\n",
    "    print(x)"
   ]
  },
  {
   "cell_type": "code",
   "execution_count": 111,
   "metadata": {
    "ExecuteTime": {
     "end_time": "2020-02-07T00:26:21.524491Z",
     "start_time": "2020-02-07T00:26:21.510507Z"
    }
   },
   "outputs": [
    {
     "name": "stdout",
     "output_type": "stream",
     "text": [
      "============Seller===================\n",
      "Type - Condition - Num\n",
      "('non-sponsored', 'Manufacturer refurbished', 46)\n",
      "('non-sponsored', 'New', 65)\n",
      "('non-sponsored', 'Open box', 39)\n",
      "('non-sponsored', 'Seller refurbished', 60)\n",
      "('non-sponsored', 'Used', 311)\n",
      "('sponsored', 'Manufacturer refurbished', 8)\n",
      "('sponsored', 'Open box', 1)\n",
      "('sponsored', 'Seller refurbished', 8)\n",
      "('sponsored', 'Used', 7)\n"
     ]
    }
   ],
   "source": [
    "mycursor.execute('SELECT item_type,item_condition,count(DISTINCT seller_name)\\\n",
    "                FROM eBay_items group by item_type,item_condition')\n",
    "myresult = mycursor.fetchall()\n",
    "print('============Seller===================')\n",
    "print('Type - Condition - Num')\n",
    "for x in myresult:\n",
    "    print(x)"
   ]
  },
  {
   "cell_type": "code",
   "execution_count": 112,
   "metadata": {
    "ExecuteTime": {
     "end_time": "2020-02-07T00:26:22.269038Z",
     "start_time": "2020-02-07T00:26:22.256039Z"
    }
   },
   "outputs": [
    {
     "name": "stdout",
     "output_type": "stream",
     "text": [
      "============SELLER SCORE===================\n",
      "Type - Condition - Min - Avg - Max\n",
      "('sponsored', 'Seller refurbished', '12391', 54359.793103448275, '84740', 67159.08145455284)\n",
      "('sponsored', 'Used', '11008', 37919.181818181816, '84740', 59273.82861051545)\n",
      "('sponsored', 'Manufacturer refurbished', '102008', 84772.98823529412, '84740', 41789.366885818075)\n",
      "('sponsored', 'Open box', '84740', 84740.0, '84740', 0.0)\n",
      "('non-sponsored', 'New', '0', 8746.617391304348, '987', 26509.822457405782)\n",
      "('non-sponsored', 'Seller refurbished', '1053', 181218.0655737705, '9929', 463136.19343829027)\n",
      "('non-sponsored', 'Used', '0', 19228.26464208243, '9905', 50795.71440716107)\n",
      "('non-sponsored', 'Manufacturer refurbished', '0', 140093.3142857143, '987', 281105.4696322585)\n",
      "('non-sponsored', 'Open box', '0', 40451.336842105266, '987', 53824.19300856614)\n"
     ]
    }
   ],
   "source": [
    "mycursor.execute('SELECT item_type,item_condition,min(seller_score),\\\n",
    "                avg(seller_score),max(seller_score),std(seller_score) FROM eBay_items group by item_type,item_condition')\n",
    "myresult = mycursor.fetchall()\n",
    "print('============SELLER SCORE===================')\n",
    "print('Type - Condition - Min - Avg - Max')\n",
    "for x in myresult:\n",
    "    print(x)"
   ]
  },
  {
   "cell_type": "code",
   "execution_count": 113,
   "metadata": {
    "ExecuteTime": {
     "end_time": "2020-02-07T00:26:22.972586Z",
     "start_time": "2020-02-07T00:26:22.962603Z"
    }
   },
   "outputs": [
    {
     "name": "stdout",
     "output_type": "stream",
     "text": [
      "============SHIPPING PRICE===================\n",
      "Type - Condition - Min - Avg - Max\n",
      "('sponsored', 'Seller refurbished', 0, Decimal('0.0000'), 0, 0.0)\n",
      "('sponsored', 'Used', 0, Decimal('45.0000'), 495, 142.30249470757707)\n",
      "('sponsored', 'Manufacturer refurbished', 0, Decimal('0.0000'), 0, 0.0)\n",
      "('sponsored', 'Open box', 0, Decimal('0.0000'), 0, 0.0)\n",
      "('non-sponsored', 'New', 0, Decimal('335.3737'), 2998, 736.8133761200772)\n",
      "('non-sponsored', 'Seller refurbished', 0, Decimal('73.8611'), 2400, 363.3416782510933)\n",
      "('non-sponsored', 'Used', 0, Decimal('328.9078'), 4995, 618.6144671205246)\n",
      "('non-sponsored', 'Manufacturer refurbished', 0, Decimal('46.2612'), 4000, 367.8398809894537)\n",
      "('non-sponsored', 'Open box', 0, Decimal('40.3708'), 1595, 222.22002367440544)\n"
     ]
    }
   ],
   "source": [
    "mycursor.execute('SELECT item_type,item_condition,min(shiping_price),\\\n",
    "                avg(shiping_price),max(shiping_price),std(shiping_price)  FROM eBay_items group by item_type,item_condition')\n",
    "myresult = mycursor.fetchall()\n",
    "print('============SHIPPING PRICE===================')\n",
    "print('Type - Condition - Min - Avg - Max')\n",
    "for x in myresult:\n",
    "    print(x)"
   ]
  },
  {
   "cell_type": "code",
   "execution_count": 114,
   "metadata": {
    "ExecuteTime": {
     "end_time": "2020-02-07T00:26:23.688673Z",
     "start_time": "2020-02-07T00:26:23.674673Z"
    }
   },
   "outputs": [
    {
     "name": "stdout",
     "output_type": "stream",
     "text": [
      "============Shopping Price Comupute===================\n",
      "Type - Condition - Min - Avg - Max\n",
      "('sponsored', 'Seller refurbished', 0, Decimal('0.0000'), 0, 0.0)\n",
      "('sponsored', 'Used', 0, Decimal('0.0000'), 0, 0.0)\n",
      "('sponsored', 'Manufacturer refurbished', 0, Decimal('0.0000'), 0, 0.0)\n",
      "('sponsored', 'Open box', 0, Decimal('0.0000'), 0, 0.0)\n",
      "('non-sponsored', 'New', 0, Decimal('0.1391'), 1, 0.34608258681969395)\n",
      "('non-sponsored', 'Seller refurbished', 0, Decimal('0.0164'), 1, 0.12698306053139072)\n",
      "('non-sponsored', 'Used', 0, Decimal('0.2364'), 1, 0.4248969907746739)\n",
      "('non-sponsored', 'Manufacturer refurbished', 0, Decimal('0.0429'), 1, 0.20253495541082608)\n",
      "('non-sponsored', 'Open box', 0, Decimal('0.0632'), 1, 0.24324673701665986)\n"
     ]
    }
   ],
   "source": [
    "mycursor.execute('SELECT item_type,item_condition,min(shiping_price_compute),\\\n",
    "                avg(shiping_price_compute),max(shiping_price_compute),std(shiping_price_compute)\\\n",
    "                FROM eBay_items group by item_type,item_condition')\n",
    "myresult = mycursor.fetchall()\n",
    "print('============Shopping Price Comupute===================')\n",
    "print('Type - Condition - Min - Avg - Max')\n",
    "for x in myresult:\n",
    "    print(x)"
   ]
  },
  {
   "cell_type": "code",
   "execution_count": 115,
   "metadata": {
    "ExecuteTime": {
     "end_time": "2020-02-07T00:26:26.065985Z",
     "start_time": "2020-02-07T00:26:26.059971Z"
    }
   },
   "outputs": [],
   "source": [
    "mydb.close()"
   ]
  },
  {
   "cell_type": "markdown",
   "metadata": {},
   "source": [
    "g) Use the stats in (f) and tell in your own words, how sponsored and non-sponsored items appear to be different. Is there a variable/column that can be used to predict the sponsor/non-sponsor items. (You do NOT need to run any model or statistic calculations for this part. Make your judgment only by looking at the stats you printed in (f))"
   ]
  },
  {
   "cell_type": "code",
   "execution_count": null,
   "metadata": {},
   "outputs": [],
   "source": [
    "#g\n",
    "\n",
    "#Best Offer: According to the data, non-sponsored products are more likey to have best offer available.\n",
    "\n",
    "\n",
    "#Item Price: For the item price, sponsored products have lower average prices than non-sponsored products \n",
    "#at each condition level. \n",
    "\n",
    "#Item Price Unit: There are some prices in non-sponsored products are not USD. \n",
    "\n",
    "#Item Sold:Sponsored products have more items sold on average than non-sponsored products at every condition level \n",
    "#except ‘new’. However, when comparing the maximum item sold, non-sponsored products have more items sold.\n",
    "\n",
    "#Item Title: For the item title, the number of item was computed. For non-sponsored products, most of them are \n",
    "#used products. For sponsored products, most products are manufacturer refurbished products. \n",
    "\n",
    "#Return Allowed: Sponsored products are more like to accept returns except for ‘new’ products. \n",
    "\n",
    "#Seller Number: The number of distinct sellers was computed. For non-sponsored products, most sellers are selling \n",
    "#used products. For sponsored products, people who sell manufacturer refurbished and seller refurbished products \n",
    "#are the majority.\n",
    "\n",
    "#Seller Score: Non-sponsored sellers are more likely to have higher seller scores except the 'open-box'.\n",
    "\n",
    "#Shipping Price: For the shipping price, sponsored products are much more likely to have free shipping fees\n",
    "\n",
    "#Compute Shipping Price: For the shipping price that needs to be computed, non-sponsored products are more \n",
    "#likely to let customers compute the shipping price. \n",
    "\n",
    "\n",
    "#Conclusion: best_off, item_price, item_sold, return_allowed, seller_score, shipping_price, \n",
    "#and shipping_price_compute may be good predictors to predict the sponsored/nonsponsored items. "
   ]
  }
 ],
 "metadata": {
  "kernelspec": {
   "display_name": "Python 3",
   "language": "python",
   "name": "python3"
  },
  "language_info": {
   "codemirror_mode": {
    "name": "ipython",
    "version": 3
   },
   "file_extension": ".py",
   "mimetype": "text/x-python",
   "name": "python",
   "nbconvert_exporter": "python",
   "pygments_lexer": "ipython3",
   "version": "3.7.3"
  },
  "toc": {
   "base_numbering": 1,
   "nav_menu": {},
   "number_sections": true,
   "sideBar": true,
   "skip_h1_title": false,
   "title_cell": "Table of Contents",
   "title_sidebar": "Contents",
   "toc_cell": false,
   "toc_position": {},
   "toc_section_display": true,
   "toc_window_display": true
  }
 },
 "nbformat": 4,
 "nbformat_minor": 2
}
