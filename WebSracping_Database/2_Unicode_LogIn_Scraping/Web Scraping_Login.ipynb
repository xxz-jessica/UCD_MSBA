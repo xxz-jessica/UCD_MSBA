{
 "cells": [
  {
   "cell_type": "code",
   "execution_count": 121,
   "metadata": {
    "ExecuteTime": {
     "end_time": "2020-01-19T03:06:24.874730Z",
     "start_time": "2020-01-19T03:06:24.866753Z"
    }
   },
   "outputs": [],
   "source": [
    "#Import libraries\n",
    "import os\n",
    "import requests, re, math\n",
    "from bs4 import BeautifulSoup\n",
    "import pandas as pd\n",
    "import time "
   ]
  },
  {
   "cell_type": "code",
   "execution_count": 12,
   "metadata": {
    "ExecuteTime": {
     "end_time": "2020-01-19T01:45:43.412385Z",
     "start_time": "2020-01-19T01:45:42.873508Z"
    }
   },
   "outputs": [],
   "source": [
    "#This is the web page we want to scrape\n",
    "flightaware='https://flightaware.com/'\n",
    "\n",
    "\n",
    "headers = {\n",
    "    # pretend I am a browser\n",
    "    'User-Agent': 'Mozilla/5.0 (Windows NT 10.0; Win64; x64) AppleWebKit/537.36 (KHTML, like Gecko) Chrome/76.0.3809.87 Safari/537.36',\n",
    "}\n",
    "data = {\n",
    "    'referer':'https://flightaware.com/',\n",
    "    'mode':'login',\n",
    "    'flightaware_username':'xingxuanzhang',\n",
    "    'flightaware_password':'1234567890',\n",
    "    'token':'406933559'\n",
    "}\n",
    "session = requests.Session() #setup session\n",
    "session.post(flightaware, headers=headers,data=data) #scrape the data\n",
    "data = session.get('https://flightaware.com/squawks/view/1/3day/popular/77080/Southwest_Airlines_to_suspend_Boeing_737_MAX_flights_until_June',headers = headers)\n",
    "soup = BeautifulSoup(data.text, 'html.parser') #parse the data\n",
    "  "
   ]
  },
  {
   "cell_type": "code",
   "execution_count": 13,
   "metadata": {
    "ExecuteTime": {
     "end_time": "2020-01-19T01:45:43.696848Z",
     "start_time": "2020-01-19T01:45:43.686901Z"
    }
   },
   "outputs": [
    {
     "data": {
      "text/plain": [
       "[]"
      ]
     },
     "execution_count": 13,
     "metadata": {},
     "output_type": "execute_result"
    }
   ],
   "source": [
    "re.findall(r'xingxuanzhang',str(soup.text))"
   ]
  },
  {
   "cell_type": "code",
   "execution_count": 129,
   "metadata": {
    "ExecuteTime": {
     "end_time": "2020-01-19T03:22:17.647953Z",
     "start_time": "2020-01-19T03:22:17.157155Z"
    }
   },
   "outputs": [],
   "source": [
    "session=requests.Session()\n",
    "\n",
    "r1 = session.get(\n",
    "    url='https://flightaware.com/'\n",
    ")\n",
    "s1 = BeautifulSoup(r1.text, 'html.parser')\n",
    "token=s1.find('form',attrs={'name':'myform'}).find('input',attrs={'name':'token'}).get('value')\n",
    "\n",
    "#r1_cookie_dict = r1.cookies.get_dict()\n",
    "\n",
    "headers = {\n",
    "    # pretend I am a browser\n",
    "    'User-Agent': 'Mozilla/5.0 (Windows NT 10.0; Win64; x64) AppleWebKit/537.36 (KHTML, like Gecko) Chrome/79.0.3945.130 Safari/537.36',\n",
    "#     'Cookie': str(r1_cookie_dict)\n",
    "    'Cache-Control': \"no-cache\",\n",
    "    'Accept-Encoding': 'gzip, deflate, br',\n",
    "    'Accept': 'text/html,application/xhtml+xml,application/xml;q=0.9,image/webp,image/apng,*/*;q=0.8,application/signed-exchange;v=b3;q=0.9',\n",
    "    'Connection': 'keep-alive',\n",
    "    'Pragma': 'no-cache',\n",
    "    'Host': 'flightaware.com',\n",
    "    'Content-Type': 'application/x-www-form-urlencoded',\n",
    "    'Cookie': '_ga=GA1.2.1982244526.1579397390; _gid=GA1.2.1275385158.1579397390; __gads=ID=340ecb2a7f37bbcf:T=1579397390:S=ALNI_MaP6NQXX8ymOAz-BjxL6OE39mECFw; __qca=P0-1417145040-1579397390341; d7s_uid=k114bgg8wfzq5s; update_time=1579401545'\n",
    "}\n",
    "info = {\n",
    "    'referer':'https://flightaware.com/',\n",
    "    'mode':'login',\n",
    "    'flightaware_username':'xingxuanzhang',\n",
    "    'flightaware_password':'1234567890',\n",
    "    'token':token\n",
    "}\n",
    "\n",
    "r2=session.post(\n",
    "    url='https://flightaware.com/',\n",
    "    headers=headers,\n",
    "    data=info\n",
    ")\n",
    "\n",
    "# r2_cookie_dict = r2.cookies.get_dict()\n",
    "\n",
    "# r3 = session.get(\n",
    "#      url='https://flightaware.com/',\n",
    "#      cookies=r2_cookie_dict\n",
    "#  )\n",
    "\n",
    "soup = BeautifulSoup(r2.text, 'html.parser')"
   ]
  },
  {
   "cell_type": "code",
   "execution_count": 130,
   "metadata": {
    "ExecuteTime": {
     "end_time": "2020-01-19T03:22:18.279538Z",
     "start_time": "2020-01-19T03:22:18.258595Z"
    }
   },
   "outputs": [
    {
     "data": {
      "text/plain": [
       "[]"
      ]
     },
     "execution_count": 130,
     "metadata": {},
     "output_type": "execute_result"
    }
   ],
   "source": [
    "re.findall(r'xingxuanzhang',str(soup))"
   ]
  },
  {
   "cell_type": "code",
   "execution_count": 104,
   "metadata": {
    "ExecuteTime": {
     "end_time": "2020-01-19T02:45:12.403307Z",
     "start_time": "2020-01-19T02:45:12.151980Z"
    }
   },
   "outputs": [
    {
     "name": "stdout",
     "output_type": "stream",
     "text": [
      "{}\n"
     ]
    }
   ],
   "source": [
    "session = requests.Session()\n",
    "\n",
    "response = session.get('https://flightaware.com/',headers=headers)\n",
    "print(session.cookies.get_dict())"
   ]
  },
  {
   "cell_type": "code",
   "execution_count": null,
   "metadata": {},
   "outputs": [],
   "source": []
  }
 ],
 "metadata": {
  "kernelspec": {
   "display_name": "Python 3",
   "language": "python",
   "name": "python3"
  },
  "language_info": {
   "codemirror_mode": {
    "name": "ipython",
    "version": 3
   },
   "file_extension": ".py",
   "mimetype": "text/x-python",
   "name": "python",
   "nbconvert_exporter": "python",
   "pygments_lexer": "ipython3",
   "version": "3.7.3"
  },
  "toc": {
   "base_numbering": 1,
   "nav_menu": {},
   "number_sections": true,
   "sideBar": true,
   "skip_h1_title": false,
   "title_cell": "Table of Contents",
   "title_sidebar": "Contents",
   "toc_cell": false,
   "toc_position": {},
   "toc_section_display": true,
   "toc_window_display": false
  }
 },
 "nbformat": 4,
 "nbformat_minor": 2
}
