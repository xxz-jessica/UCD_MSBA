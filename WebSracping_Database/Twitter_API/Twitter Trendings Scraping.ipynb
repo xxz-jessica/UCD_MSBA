{
 "cells": [
  {
   "cell_type": "code",
   "execution_count": 1,
   "metadata": {
    "ExecuteTime": {
     "end_time": "2020-04-12T19:10:32.771444Z",
     "start_time": "2020-04-12T19:10:31.549656Z"
    }
   },
   "outputs": [],
   "source": [
    "import pandas as pd\n",
    "import requests\n",
    "from bs4 import BeautifulSoup \n",
    "import time\n",
    "import re\n",
    "import os\n",
    "from tqdm import tqdm\n",
    "import datetime as dt"
   ]
  },
  {
   "cell_type": "code",
   "execution_count": 2,
   "metadata": {
    "ExecuteTime": {
     "end_time": "2020-04-12T19:10:33.513402Z",
     "start_time": "2020-04-12T19:10:33.507420Z"
    },
    "code_folding": [
     1
    ]
   },
   "outputs": [],
   "source": [
    "# Define the web scraping function\n",
    "def webcapture(url):\n",
    "    headers = {\n",
    "   # pretend I am a browser\n",
    "   'User-Agent': 'Mozilla/5.0',\n",
    "   }\n",
    "    session = requests.Session() #setup session\n",
    "    data = session.get(url, headers=headers) #scrape the data\n",
    "    soup = BeautifulSoup(data.text, 'html.parser') #parse the data\n",
    "    return soup #return the parsed data"
   ]
  },
  {
   "cell_type": "code",
   "execution_count": 3,
   "metadata": {
    "ExecuteTime": {
     "end_time": "2020-04-12T19:10:44.789559Z",
     "start_time": "2020-04-12T19:10:44.783576Z"
    },
    "code_folding": []
   },
   "outputs": [],
   "source": [
    "# Set up the date range that want to scrape\n",
    "sdate = dt.date(2020, 1, 20)   # start date\n",
    "edate = dt.date(2020, 4, 11)   # end date\n",
    "\n",
    "delta = edate - sdate       # as timedelta\n",
    "date_range = []\n",
    "for i in range(delta.days + 1):\n",
    "    day = sdate + dt.timedelta(days=i)\n",
    "    date_range.append(str(day))"
   ]
  },
  {
   "cell_type": "code",
   "execution_count": 4,
   "metadata": {
    "ExecuteTime": {
     "end_time": "2020-04-12T19:16:16.350835Z",
     "start_time": "2020-04-12T19:11:14.163034Z"
    },
    "code_folding": []
   },
   "outputs": [
    {
     "name": "stderr",
     "output_type": "stream",
     "text": [
      "83it [05:02,  2.96s/it]\n"
     ]
    }
   ],
   "source": [
    "# Scrape the website\n",
    "url_base = 'https://trendogate.com/placebydate/2352824/'\n",
    "usa_trendings = pd.DataFrame()\n",
    "\n",
    "for idx,date in tqdm(enumerate(date_range)):\n",
    "    url = url_base+date\n",
    "    soup = webcapture(url)\n",
    "    trending_list = [li.get_text() for li in soup.find_all('li','list-group-item')]\n",
    "    trending = []\n",
    "    for trend in trending_list:\n",
    "        trending.append(trend+'='+date)\n",
    "    usa_trendings = pd.concat([usa_trendings,pd.DataFrame(trending)])\n",
    "    time.sleep(2)\n",
    "    \n",
    "usa_trendings[['trending','date']] = usa_trendings.iloc[:,0].str.split('=',1,expand=True).iloc[:,0:2]"
   ]
  },
  {
   "cell_type": "code",
   "execution_count": 5,
   "metadata": {
    "ExecuteTime": {
     "end_time": "2020-04-12T19:23:25.266395Z",
     "start_time": "2020-04-12T19:23:25.258442Z"
    }
   },
   "outputs": [],
   "source": [
    "usa_trendings = usa_trendings.iloc[:,1:3]\n",
    "# usa_trendings['date'] = usa_trendings['date'].apply(lambda x:'2'+x)"
   ]
  },
  {
   "cell_type": "code",
   "execution_count": 6,
   "metadata": {
    "ExecuteTime": {
     "end_time": "2020-04-12T19:23:26.374585Z",
     "start_time": "2020-04-12T19:23:26.347654Z"
    }
   },
   "outputs": [],
   "source": [
    "# Save to local \n",
    "os.chdir(r'D:\\Winter 2020\\COVID2019')\n",
    "usa_trendings.to_csv('usa_trending.csv',index=False)"
   ]
  },
  {
   "cell_type": "code",
   "execution_count": 3,
   "metadata": {
    "ExecuteTime": {
     "end_time": "2020-04-11T18:50:13.706514Z",
     "start_time": "2020-04-11T18:50:13.701527Z"
    }
   },
   "outputs": [],
   "source": [
    "# Get WOEID for the future scraping\n",
    "url = 'https://trendogate.com/placebydate/2352824/2020-04-05'"
   ]
  },
  {
   "cell_type": "code",
   "execution_count": 23,
   "metadata": {
    "ExecuteTime": {
     "end_time": "2020-04-11T18:59:29.518765Z",
     "start_time": "2020-04-11T18:59:28.660121Z"
    }
   },
   "outputs": [],
   "source": [
    "soup = webcapture(url)"
   ]
  },
  {
   "cell_type": "code",
   "execution_count": 24,
   "metadata": {
    "ExecuteTime": {
     "end_time": "2020-04-11T18:59:30.080731Z",
     "start_time": "2020-04-11T18:59:30.070759Z"
    }
   },
   "outputs": [],
   "source": [
    "woeid = [option.get('value') for option in soup.find_all('option')]\n",
    "location = [option.get_text() for option in soup.find_all('option')]"
   ]
  },
  {
   "cell_type": "code",
   "execution_count": 25,
   "metadata": {
    "ExecuteTime": {
     "end_time": "2020-04-11T18:59:30.885445Z",
     "start_time": "2020-04-11T18:59:30.880440Z"
    }
   },
   "outputs": [],
   "source": [
    "# Find cities' WOEID in the USA\n",
    "usa_id = [re.findall(r'United States',str(loc)) for loc in location]\n",
    "usa_idx = []\n",
    "for idx,value in enumerate(usa_id):\n",
    "    if value != []:\n",
    "        usa_idx.append(idx)\n",
    "    else:\n",
    "        continue\n"
   ]
  },
  {
   "cell_type": "code",
   "execution_count": 26,
   "metadata": {
    "ExecuteTime": {
     "end_time": "2020-04-11T18:59:31.627737Z",
     "start_time": "2020-04-11T18:59:31.621758Z"
    }
   },
   "outputs": [],
   "source": [
    "usa_woeid = []\n",
    "usa_location = []\n",
    "for idx in usa_idx:\n",
    "    usa_woeid.append(woeid[idx])\n",
    "    usa_location.append(location[idx])"
   ]
  },
  {
   "cell_type": "code",
   "execution_count": 29,
   "metadata": {
    "ExecuteTime": {
     "end_time": "2020-04-11T19:01:40.035600Z",
     "start_time": "2020-04-11T19:01:40.024603Z"
    }
   },
   "outputs": [],
   "source": [
    "# Save to local\n",
    "usa_df = pd.DataFrame(list(zip(usa_woeid,usa_location)),columns=['woeid','location'])\n",
    "os.chdir(r'D:\\Winter 2020\\COVID2019')\n",
    "usa_df.to_csv('usa_woeid_list.csv',index=False)"
   ]
  },
  {
   "cell_type": "code",
   "execution_count": 1,
   "metadata": {
    "ExecuteTime": {
     "end_time": "2020-04-14T07:33:11.922382Z",
     "start_time": "2020-04-14T07:33:11.912439Z"
    },
    "scrolled": true
   },
   "outputs": [],
   "source": [
    "### If interested in, feel free to try the following code to scrape cities' trending topics in the USA\n",
    "# url_base = 'https://trendogate.com/placebydate/'\n",
    "# usa_trendings = pd.DataFrame()\n",
    "# for woeid in usa_df['woeid']:\n",
    "#     for idx,date in tqdm(enumerate(date_range)):\n",
    "#         url = url_base+woeid+'/'+date\n",
    "#         soup = webcapture(url)\n",
    "#         trending_list = [li.get_text() for li in soup.find_all('li','list-group-item')]\n",
    "#         trending = []\n",
    "#         for trend in trending_list:\n",
    "#             trending.append(trend+'='+date+'='+woeid)\n",
    "#         time.sleep(10)\n",
    "#     usa_trendings = pd.concat([usa_trendings,pd.DataFrame(trending)])"
   ]
  },
  {
   "cell_type": "code",
   "execution_count": null,
   "metadata": {
    "ExecuteTime": {
     "end_time": "2020-04-11T19:28:52.049511Z",
     "start_time": "2020-04-11T19:24:56.670Z"
    }
   },
   "outputs": [],
   "source": [
    "# usa_trendings[['trending','date','woeid']] = usa_trendings.iloc[:,0].str.split('=',2,expand=True)"
   ]
  },
  {
   "cell_type": "code",
   "execution_count": null,
   "metadata": {
    "ExecuteTime": {
     "end_time": "2020-04-11T19:28:52.050508Z",
     "start_time": "2020-04-11T19:24:58.689Z"
    }
   },
   "outputs": [],
   "source": [
    "# usa_trendings = usa_trendings.iloc[:,1:4]"
   ]
  },
  {
   "cell_type": "code",
   "execution_count": null,
   "metadata": {
    "ExecuteTime": {
     "end_time": "2020-04-11T19:28:52.052503Z",
     "start_time": "2020-04-11T19:25:01.131Z"
    }
   },
   "outputs": [],
   "source": [
    "# usa_trending_topics_full = usa_trendings.merge(usa_df, left_on='woeid', right_on='woeid')"
   ]
  },
  {
   "cell_type": "code",
   "execution_count": null,
   "metadata": {
    "ExecuteTime": {
     "end_time": "2020-04-11T19:28:52.055497Z",
     "start_time": "2020-04-11T19:25:05.130Z"
    }
   },
   "outputs": [],
   "source": [
    "# os.chdir(r'D:\\Winter 2020\\COVID2019')\n",
    "# usa_trending_topics_full.to_csv('usa_trending_topics_full.csv',index=False)"
   ]
  },
  {
   "cell_type": "code",
   "execution_count": null,
   "metadata": {},
   "outputs": [],
   "source": []
  }
 ],
 "metadata": {
  "kernelspec": {
   "display_name": "Python 3",
   "language": "python",
   "name": "python3"
  },
  "language_info": {
   "codemirror_mode": {
    "name": "ipython",
    "version": 3
   },
   "file_extension": ".py",
   "mimetype": "text/x-python",
   "name": "python",
   "nbconvert_exporter": "python",
   "pygments_lexer": "ipython3",
   "version": "3.7.3"
  },
  "toc": {
   "base_numbering": 1,
   "nav_menu": {},
   "number_sections": true,
   "sideBar": true,
   "skip_h1_title": false,
   "title_cell": "Table of Contents",
   "title_sidebar": "Contents",
   "toc_cell": false,
   "toc_position": {},
   "toc_section_display": true,
   "toc_window_display": false
  }
 },
 "nbformat": 4,
 "nbformat_minor": 2
}
