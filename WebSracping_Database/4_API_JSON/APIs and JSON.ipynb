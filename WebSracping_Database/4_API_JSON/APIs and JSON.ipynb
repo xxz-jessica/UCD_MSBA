{
 "cells": [
  {
   "cell_type": "code",
   "execution_count": 39,
   "metadata": {
    "ExecuteTime": {
     "end_time": "2020-01-25T22:06:27.988021Z",
     "start_time": "2020-01-25T22:06:27.979961Z"
    }
   },
   "outputs": [],
   "source": [
    "import json\n",
    "import requests, re, math\n",
    "from bs4 import BeautifulSoup\n",
    "import pandas as pd\n",
    "import urllib"
   ]
  },
  {
   "cell_type": "code",
   "execution_count": 40,
   "metadata": {
    "ExecuteTime": {
     "end_time": "2020-01-25T22:06:38.377149Z",
     "start_time": "2020-01-25T22:06:33.445202Z"
    }
   },
   "outputs": [
    {
     "name": "stdout",
     "output_type": "stream",
     "text": [
      "{'error_message': 'You must use an API key to authenticate each request to Google Maps Platform APIs. For additional information, please refer to http://g.co/dev/maps-no-account', 'results': [], 'status': 'REQUEST_DENIED'}\n"
     ]
    }
   ],
   "source": [
    "from urllib.parse import urlparse\n",
    "import urllib.request, json \n"
   ]
  },
  {
   "cell_type": "code",
   "execution_count": 47,
   "metadata": {
    "ExecuteTime": {
     "end_time": "2020-01-25T22:10:57.417255Z",
     "start_time": "2020-01-25T22:10:57.411182Z"
    }
   },
   "outputs": [],
   "source": [
    "url = 'https://api.urbandictionary.com/v0/define?term=hella'"
   ]
  },
  {
   "cell_type": "code",
   "execution_count": 20,
   "metadata": {
    "ExecuteTime": {
     "end_time": "2020-01-25T21:52:17.059065Z",
     "start_time": "2020-01-25T21:52:17.052138Z"
    }
   },
   "outputs": [],
   "source": [
    "# data = urlparse(url, 'Mozilla/5.0')\n",
    "# print (json.json(data))"
   ]
  },
  {
   "cell_type": "code",
   "execution_count": 51,
   "metadata": {
    "ExecuteTime": {
     "end_time": "2020-01-25T22:23:46.302178Z",
     "start_time": "2020-01-25T22:23:41.729947Z"
    }
   },
   "outputs": [],
   "source": [
    "headers = {\n",
    "    'User-Agent': 'Mozilla/5.0 (Windows NT 10.0; Win64; x64) AppleWebKit/537.36 (KHTML, like Gecko) Chrome/76.0.3809.87 Safari/537.36'\n",
    "}\n",
    "response = requests.get(url,headers = headers)\n",
    "# if response.status_code == 200:\n",
    "r1 = json.loads(response.content.decode('utf-8'))\n",
    "# else:\n",
    "#      print('None')"
   ]
  },
  {
   "cell_type": "code",
   "execution_count": 58,
   "metadata": {
    "ExecuteTime": {
     "end_time": "2020-01-25T22:27:03.158597Z",
     "start_time": "2020-01-25T22:27:03.145634Z"
    }
   },
   "outputs": [
    {
     "data": {
      "text/plain": [
       "10"
      ]
     },
     "execution_count": 58,
     "metadata": {},
     "output_type": "execute_result"
    }
   ],
   "source": [
    "len(r1['list'])"
   ]
  },
  {
   "cell_type": "code",
   "execution_count": 59,
   "metadata": {
    "ExecuteTime": {
     "end_time": "2020-01-25T22:27:23.863809Z",
     "start_time": "2020-01-25T22:27:23.853632Z"
    }
   },
   "outputs": [
    {
     "name": "stdout",
     "output_type": "stream",
     "text": [
      "[Hella]. Originated from the streets of [San Francisco] in the [Hunters Point] neighborhood. It is commonly used in place of \"really\" or \"very\" when describing something.\n",
      "=================================\n",
      "A [multi-purpose] word invented by people in north california, indigenous to the [Bay Area]. \r\n",
      "\r\n",
      "Adjective: To describe a lot of something or something good.\r\n",
      "\r\n",
      "Noun: A lot of\r\n",
      "\r\n",
      "Adverb: Suplemental, inferrs a great quantity or that you're doing something and [DOING IT RIGHT]!\r\n",
      "\r\n",
      "Interjection: An affirmation of what someone just said\n",
      "=================================\n",
      "Derived from \"[hell of a lot]\". Similar to \"very, really, a lot,\" etc.\r\n",
      "\r\n",
      "Used mostly in [Northern California] though has been heard in other parts of CA and even in the media such as an infamous \"hella\" South Park episode. ([Cartman] used it outside of its meaning to annoy Kyle.)\n",
      "=================================\n",
      "very, totally; [lots] of \r\n",
      "\r\n",
      "N.B. [Generally] used in [Northern California]. \n",
      "=================================\n",
      "[hella is] to [nor*cal] what wicked is to [boston]\n",
      "=================================\n",
      "The farmers from [Northern California] who settled here a long time ago (probably before the [1950's]) were patient and slow people and took everything with ease.  When they communicated to explain \"VERY\" they would say \"hell of a\" instead of \"very\" or \"a lot\".  Then the city folks who [migrated] in later to the Bay Area took the Northern California farmers saying and shortened it to \"Hella\" instead of \"Hell of a.\" \r\n",
      "So in the end the word \"hella\" comes from the Bay Area city folks.  Short and sweet.  \n",
      "=================================\n",
      "\"Hella\" is an all-purpose word. It has its roots deep in the soul (I meant to type soil, but soul works here too, haha) of Northern California. It means something along the lines of \"very\" or \"really,\" but it's much more than that. It's not just a word, but a statement of cultural identification, of a long-standing bond of trust and respect for fellow Northern Californians, and of a [mutual understanding] between you and the rest of the world that you are from (or, in the case of anyone who has lived with kids from [NorCal], that you are an honorary resident) NorCal. As the subtle innuendoes of the word can only be understood by absorption, one must experience and be engulfed by it (as Northern Californians are from birth) to truly understand when its usage is appropriate. [Hella is] a word. It's a symbol. It's a way of life. Hella.\n",
      "=================================\n",
      "An intensifier, with a grammatical function and usage similar to \"very\" or \"really\".\r\n",
      "\r\n",
      "It's a contraction of \"hell of\", and may have originated in [Alameda] County, California. It was definitely in common use in [Berkeley] public schools as far back as [1979].\n",
      "=================================\n",
      "The word \"Hella\" actually is known within California as being a \"Northern\" California term.  Gwen Stefani used it in her song \"Hella Good\" as a [tongue in cheek] [ode] to her Northern Californian friends who would say it alot.\r\n",
      "\r\n",
      "Used to [overexaggerate] adjectives in place of \"really\", \"very\".  Also used to convey large numbers.\n",
      "=================================\n",
      "My own extensive research has found that the term 'hella' or 'hellof' did not [originate] in San Francisco, but rather [Oakland], as the first anyone remembers hearing it was Oaklnd in [1976], then later. in the early 80s in San Francisco.\n",
      "=================================\n"
     ]
    }
   ],
   "source": [
    "for i in range(len(r1['list'])):\n",
    "    print (r1['list'][i]['definition'])\n",
    "    print ('=================================')"
   ]
  },
  {
   "cell_type": "code",
   "execution_count": 49,
   "metadata": {
    "ExecuteTime": {
     "end_time": "2020-01-25T22:11:32.168322Z",
     "start_time": "2020-01-25T22:11:29.595749Z"
    },
    "collapsed": true
   },
   "outputs": [
    {
     "name": "stdout",
     "output_type": "stream",
     "text": [
      "{'list': [{'definition': '[Hella]. Originated from the streets of [San Francisco] in the [Hunters Point] neighborhood. It is commonly used in place of \"really\" or \"very\" when describing something.', 'permalink': 'http://hella.urbanup.com/691669', 'thumbs_up': 11033, 'sound_urls': ['http://wav.urbandictionary.com/hella-26082.wav'], 'author': 'TeknoTurd', 'word': 'hella', 'defid': 691669, 'current_vote': '', 'written_on': '2004-05-27T00:00:00.000Z', 'example': 'The [Fillmore] is hella better than [the Mission].\\r\\n\\r\\n[Thank God] LA is hella far away.', 'thumbs_down': 3008}, {'definition': \"A [multi-purpose] word invented by people in north california, indigenous to the [Bay Area]. \\r\\n\\r\\nAdjective: To describe a lot of something or something good.\\r\\n\\r\\nNoun: A lot of\\r\\n\\r\\nAdverb: Suplemental, inferrs a great quantity or that you're doing something and [DOING IT RIGHT]!\\r\\n\\r\\nInterjection: An affirmation of what someone just said\", 'permalink': 'http://hella.urbanup.com/429279', 'thumbs_up': 4751, 'sound_urls': ['http://wav.urbandictionary.com/hella-26082.wav'], 'author': 'Jaime Portocarrero', 'word': 'Hella', 'defid': 429279, 'current_vote': '', 'written_on': '2004-01-05T00:00:00.000Z', 'example': 'Adjective: This party is [hella chill].\\r\\n\\r\\nNoun: I have hella.\\r\\n\\r\\nAdverb: The Bay areais fuckin hella better than [socal]\\r\\n\\r\\nInterjection: Nicole: Dude that shit was [off tha hook]\\r\\nJaime: hella!', 'thumbs_down': 1517}, {'definition': 'Derived from \"[hell of a lot]\". Similar to \"very, really, a lot,\" etc.\\r\\n\\r\\nUsed mostly in [Northern California] though has been heard in other parts of CA and even in the media such as an infamous \"hella\" South Park episode. ([Cartman] used it outside of its meaning to annoy Kyle.)', 'permalink': 'http://hella.urbanup.com/1023279', 'thumbs_up': 1320, 'sound_urls': ['http://wav.urbandictionary.com/hella-26082.wav'], 'author': 'Dirty Frank', 'word': 'HELLA', 'defid': 1023279, 'current_vote': '', 'written_on': '2005-01-26T00:00:00.000Z', 'example': 'Before: There\\'s [a hell of a lot of] beer in that [fridge].\\r\\n\\r\\nAfter: There\\'s [hella] beer in that fridge.\\r\\n\\r\\nAs \"very\" or \"really\":\\r\\n\\r\\n\"That\\'s hella far away!\"', 'thumbs_down': 425}, {'definition': 'very, totally; [lots] of \\r\\n\\r\\nN.B. [Generally] used in [Northern California]. ', 'permalink': 'http://hella.urbanup.com/46759', 'thumbs_up': 2692, 'sound_urls': ['http://wav.urbandictionary.com/hella-26082.wav'], 'author': 'NorCAL all the way', 'word': 'hella', 'defid': 46759, 'current_vote': '', 'written_on': '2003-03-01T00:00:00.000Z', 'example': '1. That party was [hella sketch]. What with all those skanky-ass girls. \\r\\n2. There was [HELLA weed] [tho]!', 'thumbs_down': 999}, {'definition': '[hella is] to [nor*cal] what wicked is to [boston]', 'permalink': 'http://hella.urbanup.com/651267', 'thumbs_up': 2092, 'sound_urls': ['http://wav.urbandictionary.com/hella-26082.wav'], 'author': 'latida', 'word': 'Hella', 'defid': 651267, 'current_vote': '', 'written_on': '2004-05-03T00:00:00.000Z', 'example': 'That [concert] was [hella tight],', 'thumbs_down': 780}, {'definition': 'The farmers from [Northern California] who settled here a long time ago (probably before the [1950\\'s]) were patient and slow people and took everything with ease.  When they communicated to explain \"VERY\" they would say \"hell of a\" instead of \"very\" or \"a lot\".  Then the city folks who [migrated] in later to the Bay Area took the Northern California farmers saying and shortened it to \"Hella\" instead of \"Hell of a.\" \\r\\nSo in the end the word \"hella\" comes from the Bay Area city folks.  Short and sweet.  ', 'permalink': 'http://hella.urbanup.com/3662996', 'thumbs_up': 155, 'sound_urls': ['http://wav.urbandictionary.com/hella-26082.wav'], 'author': 'Bay area gurl', 'word': 'hella', 'defid': 3662996, 'current_vote': '', 'written_on': '2009-01-27T00:00:00.000Z', 'example': 'She/he was hella sweet.\\r\\nIt was [hella cool].  \\r\\n[The ride] was [hella fresh]. \\r\\n\\r\\n', 'thumbs_down': 52}, {'definition': '\"Hella\" is an all-purpose word. It has its roots deep in the soul (I meant to type soil, but soul works here too, haha) of Northern California. It means something along the lines of \"very\" or \"really,\" but it\\'s much more than that. It\\'s not just a word, but a statement of cultural identification, of a long-standing bond of trust and respect for fellow Northern Californians, and of a [mutual understanding] between you and the rest of the world that you are from (or, in the case of anyone who has lived with kids from [NorCal], that you are an honorary resident) NorCal. As the subtle innuendoes of the word can only be understood by absorption, one must experience and be engulfed by it (as Northern Californians are from birth) to truly understand when its usage is appropriate. [Hella is] a word. It\\'s a symbol. It\\'s a way of life. Hella.', 'permalink': 'http://hella.urbanup.com/3104258', 'thumbs_up': 338, 'sound_urls': ['http://wav.urbandictionary.com/hella-26082.wav'], 'author': 'NorCal,', 'word': 'hella', 'defid': 3104258, 'current_vote': '', 'written_on': '2008-05-21T00:00:00.000Z', 'example': \"Correct:\\r\\n\\r\\nThis is hella whack.\\r\\nI just ate hella [brownies].\\r\\nI'm hella [going to the library] this weekend.\\r\\n\\r\\nIncorrect:\\r\\nI'm going hella to the [library] \", 'thumbs_down': 127}, {'definition': 'An intensifier, with a grammatical function and usage similar to \"very\" or \"really\".\\r\\n\\r\\nIt\\'s a contraction of \"hell of\", and may have originated in [Alameda] County, California. It was definitely in common use in [Berkeley] public schools as far back as [1979].', 'permalink': 'http://hella.urbanup.com/961649', 'thumbs_up': 943, 'sound_urls': ['http://wav.urbandictionary.com/hella-26082.wav'], 'author': 'Chris', 'word': 'hella', 'defid': 961649, 'current_vote': '', 'written_on': '2004-12-23T00:00:00.000Z', 'example': '\"That party was hella [rad].\" ([ca]. [1981])', 'thumbs_down': 408}, {'definition': 'The word \"Hella\" actually is known within California as being a \"Northern\" California term.  Gwen Stefani used it in her song \"Hella Good\" as a [tongue in cheek] [ode] to her Northern Californian friends who would say it alot.\\r\\n\\r\\nUsed to [overexaggerate] adjectives in place of \"really\", \"very\".  Also used to convey large numbers.', 'permalink': 'http://hella.urbanup.com/1513051', 'thumbs_up': 16, 'sound_urls': ['http://wav.urbandictionary.com/hella-26082.wav'], 'author': 'Chase Manhattan', 'word': 'Hella', 'defid': 1513051, 'current_vote': '', 'written_on': '2005-11-10T00:00:00.000Z', 'example': '[The food] was [really good]. = The food was \"[hella]\" good.\\r\\n\\r\\nThere was alot of people there.  = There were \"hella\" people there.', 'thumbs_down': 4}, {'definition': \"My own extensive research has found that the term 'hella' or 'hellof' did not [originate] in San Francisco, but rather [Oakland], as the first anyone remembers hearing it was Oaklnd in [1976], then later. in the early 80s in San Francisco.\", 'permalink': 'http://hella.urbanup.com/836057', 'thumbs_up': 163, 'sound_urls': ['http://wav.urbandictionary.com/hella-26082.wav'], 'author': 'steve', 'word': 'hella', 'defid': 836057, 'current_vote': '', 'written_on': '2004-09-24T00:00:00.000Z', 'example': 'I [tripped] on [my shoe] [laces] hella times today.', 'thumbs_down': 74}]}\n"
     ]
    }
   ],
   "source": [
    "with urllib.request.urlopen(url) as urls:\n",
    "    data = json.loads(urls.read().decode())\n",
    "    print(data)"
   ]
  },
  {
   "cell_type": "code",
   "execution_count": 50,
   "metadata": {
    "ExecuteTime": {
     "end_time": "2020-01-25T22:11:50.932809Z",
     "start_time": "2020-01-25T22:11:50.916739Z"
    }
   },
   "outputs": [
    {
     "data": {
      "text/plain": [
       "[{'definition': '[Hella]. Originated from the streets of [San Francisco] in the [Hunters Point] neighborhood. It is commonly used in place of \"really\" or \"very\" when describing something.',\n",
       "  'permalink': 'http://hella.urbanup.com/691669',\n",
       "  'thumbs_up': 11033,\n",
       "  'sound_urls': ['http://wav.urbandictionary.com/hella-26082.wav'],\n",
       "  'author': 'TeknoTurd',\n",
       "  'word': 'hella',\n",
       "  'defid': 691669,\n",
       "  'current_vote': '',\n",
       "  'written_on': '2004-05-27T00:00:00.000Z',\n",
       "  'example': 'The [Fillmore] is hella better than [the Mission].\\r\\n\\r\\n[Thank God] LA is hella far away.',\n",
       "  'thumbs_down': 3008},\n",
       " {'definition': \"A [multi-purpose] word invented by people in north california, indigenous to the [Bay Area]. \\r\\n\\r\\nAdjective: To describe a lot of something or something good.\\r\\n\\r\\nNoun: A lot of\\r\\n\\r\\nAdverb: Suplemental, inferrs a great quantity or that you're doing something and [DOING IT RIGHT]!\\r\\n\\r\\nInterjection: An affirmation of what someone just said\",\n",
       "  'permalink': 'http://hella.urbanup.com/429279',\n",
       "  'thumbs_up': 4751,\n",
       "  'sound_urls': ['http://wav.urbandictionary.com/hella-26082.wav'],\n",
       "  'author': 'Jaime Portocarrero',\n",
       "  'word': 'Hella',\n",
       "  'defid': 429279,\n",
       "  'current_vote': '',\n",
       "  'written_on': '2004-01-05T00:00:00.000Z',\n",
       "  'example': 'Adjective: This party is [hella chill].\\r\\n\\r\\nNoun: I have hella.\\r\\n\\r\\nAdverb: The Bay areais fuckin hella better than [socal]\\r\\n\\r\\nInterjection: Nicole: Dude that shit was [off tha hook]\\r\\nJaime: hella!',\n",
       "  'thumbs_down': 1517},\n",
       " {'definition': 'Derived from \"[hell of a lot]\". Similar to \"very, really, a lot,\" etc.\\r\\n\\r\\nUsed mostly in [Northern California] though has been heard in other parts of CA and even in the media such as an infamous \"hella\" South Park episode. ([Cartman] used it outside of its meaning to annoy Kyle.)',\n",
       "  'permalink': 'http://hella.urbanup.com/1023279',\n",
       "  'thumbs_up': 1320,\n",
       "  'sound_urls': ['http://wav.urbandictionary.com/hella-26082.wav'],\n",
       "  'author': 'Dirty Frank',\n",
       "  'word': 'HELLA',\n",
       "  'defid': 1023279,\n",
       "  'current_vote': '',\n",
       "  'written_on': '2005-01-26T00:00:00.000Z',\n",
       "  'example': 'Before: There\\'s [a hell of a lot of] beer in that [fridge].\\r\\n\\r\\nAfter: There\\'s [hella] beer in that fridge.\\r\\n\\r\\nAs \"very\" or \"really\":\\r\\n\\r\\n\"That\\'s hella far away!\"',\n",
       "  'thumbs_down': 425},\n",
       " {'definition': 'very, totally; [lots] of \\r\\n\\r\\nN.B. [Generally] used in [Northern California]. ',\n",
       "  'permalink': 'http://hella.urbanup.com/46759',\n",
       "  'thumbs_up': 2692,\n",
       "  'sound_urls': ['http://wav.urbandictionary.com/hella-26082.wav'],\n",
       "  'author': 'NorCAL all the way',\n",
       "  'word': 'hella',\n",
       "  'defid': 46759,\n",
       "  'current_vote': '',\n",
       "  'written_on': '2003-03-01T00:00:00.000Z',\n",
       "  'example': '1. That party was [hella sketch]. What with all those skanky-ass girls. \\r\\n2. There was [HELLA weed] [tho]!',\n",
       "  'thumbs_down': 999},\n",
       " {'definition': '[hella is] to [nor*cal] what wicked is to [boston]',\n",
       "  'permalink': 'http://hella.urbanup.com/651267',\n",
       "  'thumbs_up': 2092,\n",
       "  'sound_urls': ['http://wav.urbandictionary.com/hella-26082.wav'],\n",
       "  'author': 'latida',\n",
       "  'word': 'Hella',\n",
       "  'defid': 651267,\n",
       "  'current_vote': '',\n",
       "  'written_on': '2004-05-03T00:00:00.000Z',\n",
       "  'example': 'That [concert] was [hella tight],',\n",
       "  'thumbs_down': 780},\n",
       " {'definition': 'The farmers from [Northern California] who settled here a long time ago (probably before the [1950\\'s]) were patient and slow people and took everything with ease.  When they communicated to explain \"VERY\" they would say \"hell of a\" instead of \"very\" or \"a lot\".  Then the city folks who [migrated] in later to the Bay Area took the Northern California farmers saying and shortened it to \"Hella\" instead of \"Hell of a.\" \\r\\nSo in the end the word \"hella\" comes from the Bay Area city folks.  Short and sweet.  ',\n",
       "  'permalink': 'http://hella.urbanup.com/3662996',\n",
       "  'thumbs_up': 155,\n",
       "  'sound_urls': ['http://wav.urbandictionary.com/hella-26082.wav'],\n",
       "  'author': 'Bay area gurl',\n",
       "  'word': 'hella',\n",
       "  'defid': 3662996,\n",
       "  'current_vote': '',\n",
       "  'written_on': '2009-01-27T00:00:00.000Z',\n",
       "  'example': 'She/he was hella sweet.\\r\\nIt was [hella cool].  \\r\\n[The ride] was [hella fresh]. \\r\\n\\r\\n',\n",
       "  'thumbs_down': 52},\n",
       " {'definition': '\"Hella\" is an all-purpose word. It has its roots deep in the soul (I meant to type soil, but soul works here too, haha) of Northern California. It means something along the lines of \"very\" or \"really,\" but it\\'s much more than that. It\\'s not just a word, but a statement of cultural identification, of a long-standing bond of trust and respect for fellow Northern Californians, and of a [mutual understanding] between you and the rest of the world that you are from (or, in the case of anyone who has lived with kids from [NorCal], that you are an honorary resident) NorCal. As the subtle innuendoes of the word can only be understood by absorption, one must experience and be engulfed by it (as Northern Californians are from birth) to truly understand when its usage is appropriate. [Hella is] a word. It\\'s a symbol. It\\'s a way of life. Hella.',\n",
       "  'permalink': 'http://hella.urbanup.com/3104258',\n",
       "  'thumbs_up': 338,\n",
       "  'sound_urls': ['http://wav.urbandictionary.com/hella-26082.wav'],\n",
       "  'author': 'NorCal,',\n",
       "  'word': 'hella',\n",
       "  'defid': 3104258,\n",
       "  'current_vote': '',\n",
       "  'written_on': '2008-05-21T00:00:00.000Z',\n",
       "  'example': \"Correct:\\r\\n\\r\\nThis is hella whack.\\r\\nI just ate hella [brownies].\\r\\nI'm hella [going to the library] this weekend.\\r\\n\\r\\nIncorrect:\\r\\nI'm going hella to the [library] \",\n",
       "  'thumbs_down': 127},\n",
       " {'definition': 'An intensifier, with a grammatical function and usage similar to \"very\" or \"really\".\\r\\n\\r\\nIt\\'s a contraction of \"hell of\", and may have originated in [Alameda] County, California. It was definitely in common use in [Berkeley] public schools as far back as [1979].',\n",
       "  'permalink': 'http://hella.urbanup.com/961649',\n",
       "  'thumbs_up': 943,\n",
       "  'sound_urls': ['http://wav.urbandictionary.com/hella-26082.wav'],\n",
       "  'author': 'Chris',\n",
       "  'word': 'hella',\n",
       "  'defid': 961649,\n",
       "  'current_vote': '',\n",
       "  'written_on': '2004-12-23T00:00:00.000Z',\n",
       "  'example': '\"That party was hella [rad].\" ([ca]. [1981])',\n",
       "  'thumbs_down': 408},\n",
       " {'definition': 'The word \"Hella\" actually is known within California as being a \"Northern\" California term.  Gwen Stefani used it in her song \"Hella Good\" as a [tongue in cheek] [ode] to her Northern Californian friends who would say it alot.\\r\\n\\r\\nUsed to [overexaggerate] adjectives in place of \"really\", \"very\".  Also used to convey large numbers.',\n",
       "  'permalink': 'http://hella.urbanup.com/1513051',\n",
       "  'thumbs_up': 16,\n",
       "  'sound_urls': ['http://wav.urbandictionary.com/hella-26082.wav'],\n",
       "  'author': 'Chase Manhattan',\n",
       "  'word': 'Hella',\n",
       "  'defid': 1513051,\n",
       "  'current_vote': '',\n",
       "  'written_on': '2005-11-10T00:00:00.000Z',\n",
       "  'example': '[The food] was [really good]. = The food was \"[hella]\" good.\\r\\n\\r\\nThere was alot of people there.  = There were \"hella\" people there.',\n",
       "  'thumbs_down': 4},\n",
       " {'definition': \"My own extensive research has found that the term 'hella' or 'hellof' did not [originate] in San Francisco, but rather [Oakland], as the first anyone remembers hearing it was Oaklnd in [1976], then later. in the early 80s in San Francisco.\",\n",
       "  'permalink': 'http://hella.urbanup.com/836057',\n",
       "  'thumbs_up': 163,\n",
       "  'sound_urls': ['http://wav.urbandictionary.com/hella-26082.wav'],\n",
       "  'author': 'steve',\n",
       "  'word': 'hella',\n",
       "  'defid': 836057,\n",
       "  'current_vote': '',\n",
       "  'written_on': '2004-09-24T00:00:00.000Z',\n",
       "  'example': 'I [tripped] on [my shoe] [laces] hella times today.',\n",
       "  'thumbs_down': 74}]"
      ]
     },
     "execution_count": 50,
     "metadata": {},
     "output_type": "execute_result"
    }
   ],
   "source": [
    "data['list']"
   ]
  },
  {
   "cell_type": "code",
   "execution_count": null,
   "metadata": {},
   "outputs": [],
   "source": []
  }
 ],
 "metadata": {
  "kernelspec": {
   "display_name": "Python 3",
   "language": "python",
   "name": "python3"
  },
  "language_info": {
   "codemirror_mode": {
    "name": "ipython",
    "version": 3
   },
   "file_extension": ".py",
   "mimetype": "text/x-python",
   "name": "python",
   "nbconvert_exporter": "python",
   "pygments_lexer": "ipython3",
   "version": "3.7.3"
  },
  "toc": {
   "base_numbering": 1,
   "nav_menu": {},
   "number_sections": true,
   "sideBar": true,
   "skip_h1_title": false,
   "title_cell": "Table of Contents",
   "title_sidebar": "Contents",
   "toc_cell": false,
   "toc_position": {},
   "toc_section_display": true,
   "toc_window_display": false
  }
 },
 "nbformat": 4,
 "nbformat_minor": 2
}
