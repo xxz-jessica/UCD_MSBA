{
 "cells": [
  {
   "cell_type": "code",
   "execution_count": 1,
   "metadata": {
    "ExecuteTime": {
     "end_time": "2020-01-29T22:42:03.831377Z",
     "start_time": "2020-01-29T22:42:02.627260Z"
    }
   },
   "outputs": [],
   "source": [
    "import json\n",
    "import requests, re\n",
    "from bs4 import BeautifulSoup\n",
    "import pandas as pd"
   ]
  },
  {
   "cell_type": "markdown",
   "metadata": {},
   "source": [
    "OMDb API\n",
    "\n",
    "This assignment consists of three parts:\n",
    "\n",
    "Please submit your code scripts for all parts with comments (explaining what each part of your code is doing) and bullet each section with the corresponding letter. Please make sure they run without error.\n",
    "\n",
    "# Part 1: \n",
    "\n",
    "(a) Go to http://www.omdbapi.com/ and make yourself familiar with the API and its use. Request an API Key from the page. Specifically, read \"Usage\", \"Parameters\", and \"Examples\", and write down the URL string that would search for all the movies containing the word \"blade\". Include it as a comment in your code script.\n",
    "\n",
    "\n"
   ]
  },
  {
   "cell_type": "code",
   "execution_count": 2,
   "metadata": {
    "ExecuteTime": {
     "end_time": "2020-01-29T22:42:05.147965Z",
     "start_time": "2020-01-29T22:42:05.136964Z"
    }
   },
   "outputs": [
    {
     "data": {
      "text/plain": [
       "'http://www.omdbapi.com/?s=blade&apikey=e908618'"
      ]
     },
     "execution_count": 2,
     "metadata": {},
     "output_type": "execute_result"
    }
   ],
   "source": [
    "api_key = '&apikey=e908618'\n",
    "url_base = 'http://www.omdbapi.com/?'\n",
    "search = 's=blade'\n",
    "url = url_base+search+api_key\n",
    "url"
   ]
  },
  {
   "cell_type": "markdown",
   "metadata": {},
   "source": [
    "(b) Write a program in Python or Java that executes the above API call and prints the result to the screen. You can use the parameters \"Plot: Short\" and \"Response: JSON\". (0.1 bonus points: make your code pretty-print the returned JSON. You may use a package to do so.)\n"
   ]
  },
  {
   "cell_type": "code",
   "execution_count": 3,
   "metadata": {
    "ExecuteTime": {
     "end_time": "2020-01-27T03:17:40.618751Z",
     "start_time": "2020-01-27T03:17:40.611768Z"
    }
   },
   "outputs": [
    {
     "data": {
      "text/plain": [
       "'http://www.omdbapi.com/?s=blade&plot=short&r=json&apikey=e908618'"
      ]
     },
     "execution_count": 3,
     "metadata": {},
     "output_type": "execute_result"
    }
   ],
   "source": [
    "plot = '&plot=short'\n",
    "response = '&r=json'\n",
    "url = url_base+search+plot+response+api_key\n",
    "url"
   ]
  },
  {
   "cell_type": "code",
   "execution_count": 4,
   "metadata": {
    "ExecuteTime": {
     "end_time": "2020-01-27T03:17:41.998842Z",
     "start_time": "2020-01-27T03:17:41.946930Z"
    }
   },
   "outputs": [],
   "source": [
    "headers = {\n",
    "    'User-Agent': 'Mozilla/5.0 (Windows NT 10.0; Win64; x64) AppleWebKit/537.36 (KHTML, like Gecko) Chrome/76.0.3809.87 Safari/537.36'\n",
    "}\n",
    "data = requests.get(url,headers = headers)"
   ]
  },
  {
   "cell_type": "code",
   "execution_count": 5,
   "metadata": {
    "ExecuteTime": {
     "end_time": "2020-01-27T03:17:42.627175Z",
     "start_time": "2020-01-27T03:17:42.622187Z"
    }
   },
   "outputs": [],
   "source": [
    "import pprint"
   ]
  },
  {
   "cell_type": "code",
   "execution_count": 15,
   "metadata": {
    "ExecuteTime": {
     "end_time": "2020-01-27T03:22:05.720262Z",
     "start_time": "2020-01-27T03:22:05.711286Z"
    }
   },
   "outputs": [
    {
     "name": "stdout",
     "output_type": "stream",
     "text": [
      "{'Response': 'True',\n",
      " 'Search': [{'Poster': 'https://m.media-amazon.com/images/M/MV5BNzQzMzJhZTEtOWM4NS00MTdhLTg0YjgtMjM4MDRkZjUwZDBlXkEyXkFqcGdeQXVyNjU0OTQ0OTY@._V1_SX300.jpg',\n",
      "             'Title': 'Blade Runner',\n",
      "             'Type': 'movie',\n",
      "             'Year': '1982',\n",
      "             'imdbID': 'tt0083658'},\n",
      "            {'Poster': 'https://m.media-amazon.com/images/M/MV5BNzA1Njg4NzYxOV5BMl5BanBnXkFtZTgwODk5NjU3MzI@._V1_SX300.jpg',\n",
      "             'Title': 'Blade Runner 2049',\n",
      "             'Type': 'movie',\n",
      "             'Year': '2017',\n",
      "             'imdbID': 'tt1856101'},\n",
      "            {'Poster': 'https://m.media-amazon.com/images/M/MV5BOTk2NDNjZWQtMGY0Mi00YTY2LWE5MzctMGRhZmNlYzljYTg5XkEyXkFqcGdeQXVyMTAyNjg4NjE0._V1_SX300.jpg',\n",
      "             'Title': 'Blade',\n",
      "             'Type': 'movie',\n",
      "             'Year': '1998',\n",
      "             'imdbID': 'tt0120611'},\n",
      "            {'Poster': 'https://m.media-amazon.com/images/M/MV5BOWVjZTIzNDYtNTBlNC00NTJjLTkzOTEtOTE0MjlhYzI2YTcyXkEyXkFqcGdeQXVyNTAyODkwOQ@@._V1_SX300.jpg',\n",
      "             'Title': 'Blade II',\n",
      "             'Type': 'movie',\n",
      "             'Year': '2002',\n",
      "             'imdbID': 'tt0187738'},\n",
      "            {'Poster': 'https://m.media-amazon.com/images/M/MV5BMjE0Nzg2MzI3MF5BMl5BanBnXkFtZTYwMjExODQ3._V1_SX300.jpg',\n",
      "             'Title': 'Blade: Trinity',\n",
      "             'Type': 'movie',\n",
      "             'Year': '2004',\n",
      "             'imdbID': 'tt0359013'},\n",
      "            {'Poster': 'https://m.media-amazon.com/images/M/MV5BNGY5NWIxMjAtODBjNC00MmZhLTk1ZTAtNGRhYThlOTNjMTQwXkEyXkFqcGdeQXVyNTc1NTQxODI@._V1_SX300.jpg',\n",
      "             'Title': 'Sling Blade',\n",
      "             'Type': 'movie',\n",
      "             'Year': '1996',\n",
      "             'imdbID': 'tt0117666'},\n",
      "            {'Poster': 'https://m.media-amazon.com/images/M/MV5BMTk0MjgxOTQ5MF5BMl5BanBnXkFtZTgwODA3NTUwNjE@._V1_SX300.jpg',\n",
      "             'Title': 'Dragon Blade',\n",
      "             'Type': 'movie',\n",
      "             'Year': '2015',\n",
      "             'imdbID': 'tt3672840'},\n",
      "            {'Poster': 'https://m.media-amazon.com/images/M/MV5BYzIwYmJlMjktMzJiMy00YmQzLThmNWYtNWY3NGViZjc4MzYwXkEyXkFqcGdeQXVyNDQxNjcxNQ@@._V1_SX300.jpg',\n",
      "             'Title': 'Blade of the Immortal',\n",
      "             'Type': 'movie',\n",
      "             'Year': '2017',\n",
      "             'imdbID': 'tt5084170'},\n",
      "            {'Poster': 'https://m.media-amazon.com/images/M/MV5BNjZhMTNmMTItNmU4Mi00YTdkLWFkZWUtOGExNTQ3MGRiYWYyXkEyXkFqcGdeQXVyNzI1NzMxNzM@._V1_SX300.jpg',\n",
      "             'Title': 'Shinobi: Heart Under Blade',\n",
      "             'Type': 'movie',\n",
      "             'Year': '2005',\n",
      "             'imdbID': 'tt0475723'},\n",
      "            {'Poster': 'https://m.media-amazon.com/images/M/MV5BZGNiNmNiMTctMDI4OS00OWYxLWE4ZWEtZjFkZjU4ZmY5YzEyXkEyXkFqcGdeQXVyMzgxODM4NjM@._V1_SX300.jpg',\n",
      "             'Title': 'Blade Runner: Black Out 2022',\n",
      "             'Type': 'movie',\n",
      "             'Year': '2017',\n",
      "             'imdbID': 'tt7428594'}],\n",
      " 'totalResults': '228'}\n"
     ]
    }
   ],
   "source": [
    "\n",
    "pprint.pprint(json.loads(data.content.decode('utf-8')))"
   ]
  },
  {
   "cell_type": "markdown",
   "metadata": {},
   "source": [
    "(c) Parse the JSON string in (b) to an internal Python or Java object for further handling. Then write code that iterates through the search results and prints the imdbID results to the screen."
   ]
  },
  {
   "cell_type": "code",
   "execution_count": 18,
   "metadata": {
    "ExecuteTime": {
     "end_time": "2020-01-26T22:40:30.484402Z",
     "start_time": "2020-01-26T22:40:30.467448Z"
    }
   },
   "outputs": [
    {
     "name": "stdout",
     "output_type": "stream",
     "text": [
      "tt0083658\n",
      "=================================\n",
      "tt1856101\n",
      "=================================\n",
      "tt0120611\n",
      "=================================\n",
      "tt0187738\n",
      "=================================\n",
      "tt0359013\n",
      "=================================\n",
      "tt0117666\n",
      "=================================\n",
      "tt3672840\n",
      "=================================\n",
      "tt5084170\n",
      "=================================\n",
      "tt0475723\n",
      "=================================\n",
      "tt7428594\n",
      "=================================\n"
     ]
    }
   ],
   "source": [
    "result = json.loads(data.content.decode('utf-8'))\n",
    "for i in range(len(result['Search'])):\n",
    "    print (result['Search'][i]['imdbID'])\n",
    "    print ('=================================')"
   ]
  },
  {
   "cell_type": "markdown",
   "metadata": {},
   "source": [
    "# Part 2:\n",
    "\n",
    "Please submit part (b) and (c) answers in a PDF file. \n",
    "\n",
    "(a) Install and run SQL on your machine. Use some GUI to see/test that it runs.\n",
    "\n",
    "\n"
   ]
  },
  {
   "cell_type": "markdown",
   "metadata": {},
   "source": [
    "(b) What data types would you choose to store \"imdb_id\", \"title\", and \"year\" in? Why?\n",
    "(c) Do we need to create an additional column as a primary key to uniquely identify rows? If so, what column do you propose? If not, which existing column can we use?\n"
   ]
  },
  {
   "cell_type": "code",
   "execution_count": null,
   "metadata": {},
   "outputs": [],
   "source": []
  },
  {
   "cell_type": "markdown",
   "metadata": {},
   "source": [
    "(d) Write a small program in Python or Java that (i) connects to your local SQL instance (use user \"root\" and NO passwords), (ii) creates a database named \"ucdavis\", (iii) creates the table \"omdb_test\" containing the columns \"imdb_id\", \"title\", and \"year\". This small code will create an empty table."
   ]
  },
  {
   "cell_type": "code",
   "execution_count": 3,
   "metadata": {
    "ExecuteTime": {
     "end_time": "2020-01-29T22:42:42.577632Z",
     "start_time": "2020-01-29T22:42:42.553697Z"
    }
   },
   "outputs": [],
   "source": [
    "import mysql.connector"
   ]
  },
  {
   "cell_type": "code",
   "execution_count": 4,
   "metadata": {
    "ExecuteTime": {
     "end_time": "2020-01-29T22:42:44.155097Z",
     "start_time": "2020-01-29T22:42:43.798051Z"
    }
   },
   "outputs": [
    {
     "name": "stdout",
     "output_type": "stream",
     "text": [
      "<mysql.connector.connection_cext.CMySQLConnection object at 0x000001F4B5D66DD8>\n"
     ]
    }
   ],
   "source": [
    "mydb = mysql.connector.connect(\n",
    "  host=\"localhost\",\n",
    "  user=\"root\"\n",
    ")\n",
    "\n",
    "mycursor = mydb.cursor()\n",
    "print(mydb)"
   ]
  },
  {
   "cell_type": "code",
   "execution_count": null,
   "metadata": {
    "ExecuteTime": {
     "start_time": "2020-01-29T22:43:08.300Z"
    }
   },
   "outputs": [],
   "source": [
    "mycursor.execute( \"DROP DATABASE ucdavis\")"
   ]
  },
  {
   "cell_type": "code",
   "execution_count": 20,
   "metadata": {
    "ExecuteTime": {
     "end_time": "2020-01-27T03:30:48.712185Z",
     "start_time": "2020-01-27T03:30:48.686255Z"
    }
   },
   "outputs": [
    {
     "ename": "ProgrammingError",
     "evalue": "1050 (42S01): Table 'omdb_test' already exists",
     "output_type": "error",
     "traceback": [
      "\u001b[1;31m---------------------------------------------------------------------------\u001b[0m",
      "\u001b[1;31mMySQLInterfaceError\u001b[0m                       Traceback (most recent call last)",
      "\u001b[1;32m~\\Anaconda3\\lib\\site-packages\\mysql\\connector\\connection_cext.py\u001b[0m in \u001b[0;36mcmd_query\u001b[1;34m(self, query, raw, buffered, raw_as_string)\u001b[0m\n\u001b[0;32m    471\u001b[0m                                \u001b[0mraw\u001b[0m\u001b[1;33m=\u001b[0m\u001b[0mraw\u001b[0m\u001b[1;33m,\u001b[0m \u001b[0mbuffered\u001b[0m\u001b[1;33m=\u001b[0m\u001b[0mbuffered\u001b[0m\u001b[1;33m,\u001b[0m\u001b[1;33m\u001b[0m\u001b[1;33m\u001b[0m\u001b[0m\n\u001b[1;32m--> 472\u001b[1;33m                                raw_as_string=raw_as_string)\n\u001b[0m\u001b[0;32m    473\u001b[0m         \u001b[1;32mexcept\u001b[0m \u001b[0mMySQLInterfaceError\u001b[0m \u001b[1;32mas\u001b[0m \u001b[0mexc\u001b[0m\u001b[1;33m:\u001b[0m\u001b[1;33m\u001b[0m\u001b[1;33m\u001b[0m\u001b[0m\n",
      "\u001b[1;31mMySQLInterfaceError\u001b[0m: Table 'omdb_test' already exists",
      "\nDuring handling of the above exception, another exception occurred:\n",
      "\u001b[1;31mProgrammingError\u001b[0m                          Traceback (most recent call last)",
      "\u001b[1;32m<ipython-input-20-ba1f734ad39f>\u001b[0m in \u001b[0;36m<module>\u001b[1;34m\u001b[0m\n\u001b[0;32m      6\u001b[0m )\n\u001b[0;32m      7\u001b[0m \u001b[0mmycursor\u001b[0m \u001b[1;33m=\u001b[0m \u001b[0mmydb\u001b[0m\u001b[1;33m.\u001b[0m\u001b[0mcursor\u001b[0m\u001b[1;33m(\u001b[0m\u001b[1;33m)\u001b[0m\u001b[1;33m\u001b[0m\u001b[1;33m\u001b[0m\u001b[0m\n\u001b[1;32m----> 8\u001b[1;33m \u001b[0mmycursor\u001b[0m\u001b[1;33m.\u001b[0m\u001b[0mexecute\u001b[0m\u001b[1;33m(\u001b[0m\u001b[1;34m\"CREATE TABLE omdb_test (imdb_id VARCHAR(255) NOT NULL PRIMARY KEY, title VARCHAR(255), year INT)\"\u001b[0m\u001b[1;33m)\u001b[0m\u001b[1;33m\u001b[0m\u001b[1;33m\u001b[0m\u001b[0m\n\u001b[0m",
      "\u001b[1;32m~\\Anaconda3\\lib\\site-packages\\mysql\\connector\\cursor_cext.py\u001b[0m in \u001b[0;36mexecute\u001b[1;34m(self, operation, params, multi)\u001b[0m\n\u001b[0;32m    264\u001b[0m             result = self._cnx.cmd_query(stmt, raw=self._raw,\n\u001b[0;32m    265\u001b[0m                                          \u001b[0mbuffered\u001b[0m\u001b[1;33m=\u001b[0m\u001b[0mself\u001b[0m\u001b[1;33m.\u001b[0m\u001b[0m_buffered\u001b[0m\u001b[1;33m,\u001b[0m\u001b[1;33m\u001b[0m\u001b[1;33m\u001b[0m\u001b[0m\n\u001b[1;32m--> 266\u001b[1;33m                                          raw_as_string=self._raw_as_string)\n\u001b[0m\u001b[0;32m    267\u001b[0m         \u001b[1;32mexcept\u001b[0m \u001b[0mMySQLInterfaceError\u001b[0m \u001b[1;32mas\u001b[0m \u001b[0mexc\u001b[0m\u001b[1;33m:\u001b[0m\u001b[1;33m\u001b[0m\u001b[1;33m\u001b[0m\u001b[0m\n\u001b[0;32m    268\u001b[0m             raise errors.get_mysql_exception(msg=exc.msg, errno=exc.errno,\n",
      "\u001b[1;32m~\\Anaconda3\\lib\\site-packages\\mysql\\connector\\connection_cext.py\u001b[0m in \u001b[0;36mcmd_query\u001b[1;34m(self, query, raw, buffered, raw_as_string)\u001b[0m\n\u001b[0;32m    473\u001b[0m         \u001b[1;32mexcept\u001b[0m \u001b[0mMySQLInterfaceError\u001b[0m \u001b[1;32mas\u001b[0m \u001b[0mexc\u001b[0m\u001b[1;33m:\u001b[0m\u001b[1;33m\u001b[0m\u001b[1;33m\u001b[0m\u001b[0m\n\u001b[0;32m    474\u001b[0m             raise errors.get_mysql_exception(exc.errno, msg=exc.msg,\n\u001b[1;32m--> 475\u001b[1;33m                                              sqlstate=exc.sqlstate)\n\u001b[0m\u001b[0;32m    476\u001b[0m         \u001b[1;32mexcept\u001b[0m \u001b[0mAttributeError\u001b[0m\u001b[1;33m:\u001b[0m\u001b[1;33m\u001b[0m\u001b[1;33m\u001b[0m\u001b[0m\n\u001b[0;32m    477\u001b[0m             \u001b[1;32mif\u001b[0m \u001b[0mself\u001b[0m\u001b[1;33m.\u001b[0m\u001b[0m_unix_socket\u001b[0m\u001b[1;33m:\u001b[0m\u001b[1;33m\u001b[0m\u001b[1;33m\u001b[0m\u001b[0m\n",
      "\u001b[1;31mProgrammingError\u001b[0m: 1050 (42S01): Table 'omdb_test' already exists"
     ]
    }
   ],
   "source": [
    "mydb = mysql.connector.connect(\n",
    "  host=\"localhost\",\n",
    "  user=\"root\",\n",
    "  database='ucdavis'\n",
    ")\n",
    "mycursor = mydb.cursor()\n",
    "mycursor.execute(\"CREATE TABLE omdb_test (imdb_id VARCHAR(255) NOT NULL PRIMARY KEY, title VARCHAR(255), year INT)\")"
   ]
  },
  {
   "cell_type": "code",
   "execution_count": 21,
   "metadata": {
    "ExecuteTime": {
     "end_time": "2020-01-27T03:30:53.186717Z",
     "start_time": "2020-01-27T03:30:53.181697Z"
    }
   },
   "outputs": [
    {
     "name": "stdout",
     "output_type": "stream",
     "text": [
      "('omdb',)\n",
      "('omdb_test',)\n"
     ]
    }
   ],
   "source": [
    "mycursor.execute(\"SHOW TABLES\")\n",
    "\n",
    "for x in mycursor:\n",
    "    print(x)"
   ]
  },
  {
   "cell_type": "markdown",
   "metadata": {},
   "source": [
    "# Part 3: Combination time!\n",
    "\n",
    "(a) Write a program in Python or Java that uses the OMDb API to lookup/search _your_ top 10 choices of movie titles and extract their imdbIDs. Print the movie titles along with their imdbID to the screen. (E.g., search for \"Dangal\" or \"Wolf Warrior 2\" and record the imdbID that corresponds to the exact movie you have in mind).\n"
   ]
  },
  {
   "cell_type": "code",
   "execution_count": 20,
   "metadata": {
    "ExecuteTime": {
     "end_time": "2020-01-27T03:04:58.547015Z",
     "start_time": "2020-01-27T03:04:58.142014Z"
    }
   },
   "outputs": [
    {
     "name": "stdout",
     "output_type": "stream",
     "text": [
      "Call Me by Your Name tt5726616\n",
      "Ne Zha tt10627720\n",
      "Frozen tt2294629\n",
      "The Wandering Earth tt7605074\n",
      "The Imitation Game tt2084970\n",
      "1917 tt8579674\n",
      "The Shawshank Redemption tt0111161\n",
      "Your Name. tt5311514\n",
      "The Legend of 1900 tt0120731\n",
      "The Big Short tt1596363\n"
     ]
    }
   ],
   "source": [
    "api_key = '&apikey=e908618'\n",
    "url_base = 'http://www.omdbapi.com/?'\n",
    "\n",
    "headers = {\n",
    "    'User-Agent': 'Mozilla/5.0 (Windows NT 10.0; Win64; x64) AppleWebKit/537.36 (KHTML, like Gecko) Chrome/76.0.3809.87 Safari/537.36'\n",
    "}\n",
    "titles = ['call me by your name','Ne Zha','Frozen','The Wandering Earth','The Imitation Game','1917',\n",
    "          'The Shawshank Redemption','Your Name.','The Legend of 1900','The Big Short']\n",
    "\n",
    "plot = '&plot=short'\n",
    "response = '&r=json'\n",
    "ids = []\n",
    "for title in titles:\n",
    "    url = url_base+'t='+title+plot+response+api_key\n",
    "    data = requests.get(url,headers = headers)\n",
    "    result = json.loads(data.content.decode('utf-8'))\n",
    "    ids.append(result['imdbID'])\n",
    "\n",
    "    print(result['Title'],result['imdbID'])"
   ]
  },
  {
   "cell_type": "markdown",
   "metadata": {},
   "source": [
    "(b) Augment the program you developed in (a) to look up the movie details using the imdbIDs you found (Use only the IDs, NOT titles) and print out the result to the screen. \n"
   ]
  },
  {
   "cell_type": "code",
   "execution_count": 22,
   "metadata": {
    "ExecuteTime": {
     "end_time": "2020-01-27T03:05:03.602517Z",
     "start_time": "2020-01-27T03:05:02.926639Z"
    }
   },
   "outputs": [
    {
     "name": "stdout",
     "output_type": "stream",
     "text": [
      "{'Actors': 'Armie Hammer, Timothée Chalamet, Michael Stuhlbarg, Amira Casar',\n",
      " 'Awards': 'Won 1 Oscar. Another 96 wins & 248 nominations.',\n",
      " 'BoxOffice': 'N/A',\n",
      " 'Country': 'Italy, France, Brazil',\n",
      " 'DVD': '13 Mar 2018',\n",
      " 'Director': 'Luca Guadagnino',\n",
      " 'Genre': 'Drama, Romance',\n",
      " 'Language': 'English, Italian, French, German, Hebrew',\n",
      " 'Metascore': '93',\n",
      " 'Plot': 'In 1980s Italy, a romance blossoms between a seventeen-year-old '\n",
      "         \"student and the older man hired as his father's research assistant.\",\n",
      " 'Poster': 'https://m.media-amazon.com/images/M/MV5BNDk3NTEwNjc0MV5BMl5BanBnXkFtZTgwNzYxNTMwMzI@._V1_SX300.jpg',\n",
      " 'Production': 'Sony Pictures Classics',\n",
      " 'Rated': 'R',\n",
      " 'Ratings': [{'Source': 'Internet Movie Database', 'Value': '7.9/10'},\n",
      "             {'Source': 'Rotten Tomatoes', 'Value': '95%'},\n",
      "             {'Source': 'Metacritic', 'Value': '93/100'}],\n",
      " 'Released': '19 Jan 2018',\n",
      " 'Response': 'True',\n",
      " 'Runtime': '132 min',\n",
      " 'Title': 'Call Me by Your Name',\n",
      " 'Type': 'movie',\n",
      " 'Website': 'N/A',\n",
      " 'Writer': 'James Ivory (screenplay by), André Aciman (based on the novel by)',\n",
      " 'Year': '2017',\n",
      " 'imdbID': 'tt5726616',\n",
      " 'imdbRating': '7.9',\n",
      " 'imdbVotes': '172,809'}\n",
      "======================================================\n",
      "{'Actors': 'Yanting Lü, Joseph, Mo Han, Hao Chen',\n",
      " 'Awards': '11 wins & 5 nominations.',\n",
      " 'BoxOffice': 'N/A',\n",
      " 'Country': 'China',\n",
      " 'DVD': '03 Mar 2020',\n",
      " 'Director': 'Yu Yang',\n",
      " 'Genre': 'Animation, Family, Fantasy, Thriller',\n",
      " 'Language': 'Mandarin',\n",
      " 'Metascore': '54',\n",
      " 'Plot': 'Born with unique powers, a boy is recruited to fight demons and save '\n",
      "         'the community that fears him.',\n",
      " 'Poster': 'https://m.media-amazon.com/images/M/MV5BNGI1NjcwNWEtOGVkZC00OTVkLWE3ZGItZGQwNThkMTdiZTk2XkEyXkFqcGdeQXVyOTE4NzcwNzI@._V1_SX300.jpg',\n",
      " 'Production': 'Well Go USA Entertainment',\n",
      " 'Rated': 'N/A',\n",
      " 'Ratings': [{'Source': 'Internet Movie Database', 'Value': '7.7/10'},\n",
      "             {'Source': 'Rotten Tomatoes', 'Value': '87%'},\n",
      "             {'Source': 'Metacritic', 'Value': '54/100'}],\n",
      " 'Released': '26 Jul 2019',\n",
      " 'Response': 'True',\n",
      " 'Runtime': '110 min',\n",
      " 'Title': 'Ne Zha',\n",
      " 'Type': 'movie',\n",
      " 'Website': 'N/A',\n",
      " 'Writer': 'Yu Yang, Yunyun Wei (story)',\n",
      " 'Year': '2019',\n",
      " 'imdbID': 'tt10627720',\n",
      " 'imdbRating': '7.7',\n",
      " 'imdbVotes': '2,661'}\n",
      "======================================================\n",
      "{'Actors': 'Kristen Bell, Idina Menzel, Jonathan Groff, Josh Gad',\n",
      " 'Awards': 'Won 2 Oscars. Another 78 wins & 57 nominations.',\n",
      " 'BoxOffice': '$400,736,600',\n",
      " 'Country': 'USA',\n",
      " 'DVD': '18 Mar 2014',\n",
      " 'Director': 'Chris Buck, Jennifer Lee',\n",
      " 'Genre': 'Animation, Adventure, Comedy, Family, Fantasy, Musical',\n",
      " 'Language': 'English, Norwegian',\n",
      " 'Metascore': '74',\n",
      " 'Plot': 'When the newly crowned Queen Elsa accidentally uses her power to '\n",
      "         'turn things into ice to curse her home in infinite winter, her '\n",
      "         'sister Anna teams up with a mountain man, his playful reindeer, and '\n",
      "         'a snowman to change the weather condition.',\n",
      " 'Poster': 'https://m.media-amazon.com/images/M/MV5BMTQ1MjQwMTE5OF5BMl5BanBnXkFtZTgwNjk3MTcyMDE@._V1_SX300.jpg',\n",
      " 'Production': 'Walt Disney Pictures',\n",
      " 'Rated': 'PG',\n",
      " 'Ratings': [{'Source': 'Internet Movie Database', 'Value': '7.5/10'},\n",
      "             {'Source': 'Rotten Tomatoes', 'Value': '90%'},\n",
      "             {'Source': 'Metacritic', 'Value': '74/100'}],\n",
      " 'Released': '27 Nov 2013',\n",
      " 'Response': 'True',\n",
      " 'Runtime': '102 min',\n",
      " 'Title': 'Frozen',\n",
      " 'Type': 'movie',\n",
      " 'Website': 'N/A',\n",
      " 'Writer': 'Jennifer Lee (screenplay by), Hans Christian Andersen (story '\n",
      "           'inspired by: \"The Snow Queen\" by), Chris Buck (story by), Jennifer '\n",
      "           'Lee (story by), Shane Morris (story by)',\n",
      " 'Year': '2013',\n",
      " 'imdbID': 'tt2294629',\n",
      " 'imdbRating': '7.5',\n",
      " 'imdbVotes': '540,929'}\n",
      "======================================================\n",
      "{'Actors': 'Jing Wu, Chuxiao Qu, Guangjie Li, Man-Tat Ng',\n",
      " 'Awards': '13 wins & 10 nominations.',\n",
      " 'BoxOffice': 'N/A',\n",
      " 'Country': 'China',\n",
      " 'DVD': 'N/A',\n",
      " 'Director': 'Frant Gwo',\n",
      " 'Genre': 'Action, Drama, Sci-Fi',\n",
      " 'Language': 'Mandarin, English, Russian, French, Japanese, Korean, '\n",
      "             'Indonesian, Hindi',\n",
      " 'Metascore': '57',\n",
      " 'Plot': 'As the sun is dying out, people all around the world build giant '\n",
      "         'planet thrusters to move Earth out of its orbit and sail Earth to a '\n",
      "         'new star system. Yet the 2500-year journey comes with unexpected '\n",
      "         'dangers, and in order to save humanity, a group of young people in '\n",
      "         'this age of a wandering Earth fight hard for the survival of '\n",
      "         'humankind.',\n",
      " 'Poster': 'https://m.media-amazon.com/images/M/MV5BMjE2NzZlMGItMzA4OS00ZjRiLTk3NzItMDRkOGFlZmNhYzJkXkEyXkFqcGdeQXVyNzI1NzMxNzM@._V1_SX300.jpg',\n",
      " 'Production': 'Netflix',\n",
      " 'Rated': 'TV-MA',\n",
      " 'Ratings': [{'Source': 'Internet Movie Database', 'Value': '6.0/10'},\n",
      "             {'Source': 'Rotten Tomatoes', 'Value': '71%'},\n",
      "             {'Source': 'Metacritic', 'Value': '57/100'}],\n",
      " 'Released': '05 Feb 2019',\n",
      " 'Response': 'True',\n",
      " 'Runtime': '125 min',\n",
      " 'Title': 'The Wandering Earth',\n",
      " 'Type': 'movie',\n",
      " 'Website': 'N/A',\n",
      " 'Writer': 'Gong Geer, Junce Ye, Yan Dongxu, Frant Gwo, Yang Zhixue, Cixin Liu '\n",
      "           '(story), Ruchang Ye',\n",
      " 'Year': '2019',\n",
      " 'imdbID': 'tt7605074',\n",
      " 'imdbRating': '6.0',\n",
      " 'imdbVotes': '21,999'}\n",
      "======================================================\n",
      "{'Actors': 'Benedict Cumberbatch, Keira Knightley, Matthew Goode, Rory Kinnear',\n",
      " 'Awards': 'Won 1 Oscar. Another 48 wins & 159 nominations.',\n",
      " 'BoxOffice': 'N/A',\n",
      " 'Country': 'UK, USA',\n",
      " 'DVD': '31 Mar 2015',\n",
      " 'Director': 'Morten Tyldum',\n",
      " 'Genre': 'Biography, Drama, Thriller, War',\n",
      " 'Language': 'English, German',\n",
      " 'Metascore': '73',\n",
      " 'Plot': 'During World War II, the English mathematical genius Alan Turing '\n",
      "         'tries to crack the German Enigma code with help from fellow '\n",
      "         'mathematicians.',\n",
      " 'Poster': 'https://m.media-amazon.com/images/M/MV5BOTgwMzFiMWYtZDhlNS00ODNkLWJiODAtZDVhNzgyNzJhYjQ4L2ltYWdlXkEyXkFqcGdeQXVyNzEzOTYxNTQ@._V1_SX300.jpg',\n",
      " 'Production': 'The Weinstein Company',\n",
      " 'Rated': 'PG-13',\n",
      " 'Ratings': [{'Source': 'Internet Movie Database', 'Value': '8.0/10'},\n",
      "             {'Source': 'Rotten Tomatoes', 'Value': '90%'},\n",
      "             {'Source': 'Metacritic', 'Value': '73/100'}],\n",
      " 'Released': '25 Dec 2014',\n",
      " 'Response': 'True',\n",
      " 'Runtime': '114 min',\n",
      " 'Title': 'The Imitation Game',\n",
      " 'Type': 'movie',\n",
      " 'Website': 'N/A',\n",
      " 'Writer': 'Graham Moore, Andrew Hodges (book)',\n",
      " 'Year': '2014',\n",
      " 'imdbID': 'tt2084970',\n",
      " 'imdbRating': '8.0',\n",
      " 'imdbVotes': '640,868'}\n",
      "======================================================\n",
      "{'Actors': 'Dean-Charles Chapman, George MacKay, Daniel Mays, Colin Firth',\n",
      " 'Awards': 'Won 2 Golden Globes. Another 51 wins & 153 nominations.',\n",
      " 'BoxOffice': 'N/A',\n",
      " 'Country': 'UK, USA',\n",
      " 'DVD': 'N/A',\n",
      " 'Director': 'Sam Mendes',\n",
      " 'Genre': 'Drama, War',\n",
      " 'Language': 'English, French, German',\n",
      " 'Metascore': '79',\n",
      " 'Plot': 'Two young British soldiers during the First World War are given an '\n",
      "         'impossible mission: deliver a message deep in enemy territory that '\n",
      "         \"will stop 1,600 men, and one of the soldiers' brothers, from walking \"\n",
      "         'straight into a deadly trap.',\n",
      " 'Poster': 'https://m.media-amazon.com/images/M/MV5BOTdmNTFjNDEtNzg0My00ZjkxLTg1ZDAtZTdkMDc2ZmFiNWQ1XkEyXkFqcGdeQXVyNTAzNzgwNTg@._V1_SX300.jpg',\n",
      " 'Production': 'Universal Pictures',\n",
      " 'Rated': 'R',\n",
      " 'Ratings': [{'Source': 'Internet Movie Database', 'Value': '8.6/10'},\n",
      "             {'Source': 'Rotten Tomatoes', 'Value': '89%'},\n",
      "             {'Source': 'Metacritic', 'Value': '79/100'}],\n",
      " 'Released': '10 Jan 2020',\n",
      " 'Response': 'True',\n",
      " 'Runtime': '119 min',\n",
      " 'Title': '1917',\n",
      " 'Type': 'movie',\n",
      " 'Website': 'N/A',\n",
      " 'Writer': 'Sam Mendes, Krysty Wilson-Cairns',\n",
      " 'Year': '2019',\n",
      " 'imdbID': 'tt8579674',\n",
      " 'imdbRating': '8.6',\n",
      " 'imdbVotes': '8,580'}\n",
      "======================================================\n",
      "{'Actors': 'Tim Robbins, Morgan Freeman, Bob Gunton, William Sadler',\n",
      " 'Awards': 'Nominated for 7 Oscars. Another 21 wins & 35 nominations.',\n",
      " 'BoxOffice': 'N/A',\n",
      " 'Country': 'USA',\n",
      " 'DVD': '27 Jan 1998',\n",
      " 'Director': 'Frank Darabont',\n",
      " 'Genre': 'Drama',\n",
      " 'Language': 'English',\n",
      " 'Metascore': '80',\n",
      " 'Plot': 'Two imprisoned men bond over a number of years, finding solace and '\n",
      "         'eventual redemption through acts of common decency.',\n",
      " 'Poster': 'https://m.media-amazon.com/images/M/MV5BMDFkYTc0MGEtZmNhMC00ZDIzLWFmNTEtODM1ZmRlYWMwMWFmXkEyXkFqcGdeQXVyMTMxODk2OTU@._V1_SX300.jpg',\n",
      " 'Production': 'Columbia Pictures',\n",
      " 'Rated': 'R',\n",
      " 'Ratings': [{'Source': 'Internet Movie Database', 'Value': '9.3/10'},\n",
      "             {'Source': 'Rotten Tomatoes', 'Value': '90%'},\n",
      "             {'Source': 'Metacritic', 'Value': '80/100'}],\n",
      " 'Released': '14 Oct 1994',\n",
      " 'Response': 'True',\n",
      " 'Runtime': '142 min',\n",
      " 'Title': 'The Shawshank Redemption',\n",
      " 'Type': 'movie',\n",
      " 'Website': 'N/A',\n",
      " 'Writer': 'Stephen King (short story \"Rita Hayworth and Shawshank '\n",
      "           'Redemption\"), Frank Darabont (screenplay)',\n",
      " 'Year': '1994',\n",
      " 'imdbID': 'tt0111161',\n",
      " 'imdbRating': '9.3',\n",
      " 'imdbVotes': '2,177,949'}\n",
      "======================================================\n",
      "{'Actors': 'Ryûnosuke Kamiki, Mone Kamishiraishi, Ryô Narita, Aoi Yûki',\n",
      " 'Awards': '15 wins & 25 nominations.',\n",
      " 'BoxOffice': '$4,676,810',\n",
      " 'Country': 'Japan',\n",
      " 'DVD': '07 Nov 2017',\n",
      " 'Director': 'Makoto Shinkai',\n",
      " 'Genre': 'Animation, Drama, Fantasy, Romance',\n",
      " 'Language': 'Japanese',\n",
      " 'Metascore': '79',\n",
      " 'Plot': 'Two strangers find themselves linked in a bizarre way. When a '\n",
      "         'connection forms, will distance be the only thing to keep them '\n",
      "         'apart?',\n",
      " 'Poster': 'https://m.media-amazon.com/images/M/MV5BODRmZDVmNzUtZDA4ZC00NjhkLWI2M2UtN2M0ZDIzNDcxYThjL2ltYWdlXkEyXkFqcGdeQXVyNTk0MzMzODA@._V1_SX300.jpg',\n",
      " 'Production': 'FUNimation Films',\n",
      " 'Rated': 'PG',\n",
      " 'Ratings': [{'Source': 'Internet Movie Database', 'Value': '8.4/10'},\n",
      "             {'Source': 'Rotten Tomatoes', 'Value': '98%'},\n",
      "             {'Source': 'Metacritic', 'Value': '79/100'}],\n",
      " 'Released': '07 Apr 2017',\n",
      " 'Response': 'True',\n",
      " 'Runtime': '106 min',\n",
      " 'Title': 'Your Name.',\n",
      " 'Type': 'movie',\n",
      " 'Website': 'N/A',\n",
      " 'Writer': 'Makoto Shinkai (based on his novel), Makoto Shinkai (screenplay), '\n",
      "           'Clark Cheng (english script)',\n",
      " 'Year': '2016',\n",
      " 'imdbID': 'tt5311514',\n",
      " 'imdbRating': '8.4',\n",
      " 'imdbVotes': '153,478'}\n",
      "======================================================\n",
      "{'Actors': 'Tim Roth, Pruitt Taylor Vince, Mélanie Thierry, Bill Nunn',\n",
      " 'Awards': 'Won 1 Golden Globe. Another 21 wins & 10 nominations.',\n",
      " 'BoxOffice': 'N/A',\n",
      " 'Country': 'Italy',\n",
      " 'DVD': '04 Jun 2002',\n",
      " 'Director': 'Giuseppe Tornatore',\n",
      " 'Genre': 'Drama, Music, Romance',\n",
      " 'Language': 'English, French, Italian',\n",
      " 'Metascore': '58',\n",
      " 'Plot': 'A baby boy, discovered in 1900 on an ocean liner, grows into a '\n",
      "         'musical prodigy, never setting foot on land.',\n",
      " 'Poster': 'https://m.media-amazon.com/images/M/MV5BMzIwOTdmNjQtOWQ1ZS00ZWQ4LWIxYTMtOWFkM2NjODJiMGY4L2ltYWdlL2ltYWdlXkEyXkFqcGdeQXVyNTI4MjkwNjA@._V1_SX300.jpg',\n",
      " 'Production': 'Fine Line Features',\n",
      " 'Rated': 'R',\n",
      " 'Ratings': [{'Source': 'Internet Movie Database', 'Value': '8.1/10'},\n",
      "             {'Source': 'Rotten Tomatoes', 'Value': '54%'},\n",
      "             {'Source': 'Metacritic', 'Value': '58/100'}],\n",
      " 'Released': '28 Oct 1998',\n",
      " 'Response': 'True',\n",
      " 'Runtime': '169 min',\n",
      " 'Title': 'The Legend of 1900',\n",
      " 'Type': 'movie',\n",
      " 'Website': 'N/A',\n",
      " 'Writer': 'Alessandro Baricco (monologue Novecento), Giuseppe Tornatore',\n",
      " 'Year': '1998',\n",
      " 'imdbID': 'tt0120731',\n",
      " 'imdbRating': '8.1',\n",
      " 'imdbVotes': '54,829'}\n",
      "======================================================\n"
     ]
    },
    {
     "name": "stdout",
     "output_type": "stream",
     "text": [
      "{'Actors': 'Ryan Gosling, Rudy Eisenzopf, Casey Groves, Charlie Talbert',\n",
      " 'Awards': 'Won 1 Oscar. Another 37 wins & 80 nominations.',\n",
      " 'BoxOffice': 'N/A',\n",
      " 'Country': 'USA',\n",
      " 'DVD': '15 Mar 2016',\n",
      " 'Director': 'Adam McKay',\n",
      " 'Genre': 'Biography, Comedy, Drama, History',\n",
      " 'Language': 'English',\n",
      " 'Metascore': '81',\n",
      " 'Plot': 'In 2006-2007 a group of investors bet against the US mortgage '\n",
      "         'market. In their research they discover how flawed and corrupt the '\n",
      "         'market is.',\n",
      " 'Poster': 'https://m.media-amazon.com/images/M/MV5BNDc4MThhN2EtZjMzNC00ZDJmLThiZTgtNThlY2UxZWMzNjdkXkEyXkFqcGdeQXVyNDk3NzU2MTQ@._V1_SX300.jpg',\n",
      " 'Production': 'Paramount Pictures',\n",
      " 'Rated': 'R',\n",
      " 'Ratings': [{'Source': 'Internet Movie Database', 'Value': '7.8/10'},\n",
      "             {'Source': 'Rotten Tomatoes', 'Value': '88%'},\n",
      "             {'Source': 'Metacritic', 'Value': '81/100'}],\n",
      " 'Released': '23 Dec 2015',\n",
      " 'Response': 'True',\n",
      " 'Runtime': '130 min',\n",
      " 'Title': 'The Big Short',\n",
      " 'Type': 'movie',\n",
      " 'Website': 'N/A',\n",
      " 'Writer': 'Charles Randolph (screenplay by), Adam McKay (screenplay by), '\n",
      "           'Michael Lewis (based upon the book by)',\n",
      " 'Year': '2015',\n",
      " 'imdbID': 'tt1596363',\n",
      " 'imdbRating': '7.8',\n",
      " 'imdbVotes': '326,711'}\n",
      "======================================================\n"
     ]
    }
   ],
   "source": [
    "api_key = '&apikey=e908618'\n",
    "url_base = 'http://www.omdbapi.com/?'\n",
    "\n",
    "headers = {\n",
    "    'User-Agent': 'Mozilla/5.0 (Windows NT 10.0; Win64; x64) AppleWebKit/537.36 (KHTML, like Gecko) Chrome/76.0.3809.87 Safari/537.36'\n",
    "}\n",
    "\n",
    "plot = '&plot=short'\n",
    "response = '&r=json'\n",
    "for movie_id in ids:\n",
    "    url = url_base+'i='+movie_id+plot+response+api_key\n",
    "    data = requests.get(url,headers = headers)\n",
    "    result = json.loads(data.content.decode('utf-8'))\n",
    "    pprint.pprint(result)\n",
    "    print('======================================================')\n",
    "    "
   ]
  },
  {
   "cell_type": "markdown",
   "metadata": {},
   "source": [
    "(c) \"Recycle\" + augment your code from (2.d) to insert the following information of _your_ top 10 movie titles into a new SQL table named \"omdb\":\n",
    "title, year, genre, director, imdb_rating, rotten_tomatoes, metacritic, plot, box_office."
   ]
  },
  {
   "cell_type": "code",
   "execution_count": 24,
   "metadata": {
    "ExecuteTime": {
     "end_time": "2020-01-27T03:05:28.982570Z",
     "start_time": "2020-01-27T03:05:28.939663Z"
    }
   },
   "outputs": [],
   "source": [
    "\n",
    "mydb = mysql.connector.connect(\n",
    "  host=\"localhost\",\n",
    "  user=\"root\",\n",
    "  database='ucdavis'\n",
    ")\n",
    "mycursor = mydb.cursor()\n",
    "\n",
    "# mycursor.execute( \"DROP TABLE omdb\")\n",
    "mycursor.execute(\"CREATE TABLE omdb (imdb_id VARCHAR(255) NOT NULL PRIMARY KEY, title VARCHAR(255), year INT,genre VARCHAR(255),director VARCHAR(255), imdb_rating VARCHAR(255),rotten_tomatoes VARCHAR(255),metacritic VARCHAR(255), plot LONGTEXT,box_office VARCHAR(255))\")\n"
   ]
  },
  {
   "cell_type": "code",
   "execution_count": 25,
   "metadata": {
    "ExecuteTime": {
     "end_time": "2020-01-27T03:05:33.686534Z",
     "start_time": "2020-01-27T03:05:33.202827Z"
    }
   },
   "outputs": [
    {
     "name": "stdout",
     "output_type": "stream",
     "text": [
      "1 was inserted.\n",
      "1 was inserted.\n",
      "1 was inserted.\n",
      "1 was inserted.\n",
      "1 was inserted.\n",
      "1 was inserted.\n",
      "1 was inserted.\n",
      "1 was inserted.\n",
      "1 was inserted.\n",
      "1 was inserted.\n"
     ]
    }
   ],
   "source": [
    "api_key = '&apikey=e908618'\n",
    "url_base = 'http://www.omdbapi.com/?'\n",
    "\n",
    "headers = {\n",
    "    'User-Agent': 'Mozilla/5.0 (Windows NT 10.0; Win64; x64) AppleWebKit/537.36 (KHTML, like Gecko) Chrome/76.0.3809.87 Safari/537.36'\n",
    "}\n",
    "\n",
    "plot = '&plot=short'\n",
    "response = '&r=json'\n",
    "\n",
    "\n",
    "for movie_id in ids:\n",
    "    url = url_base+'i='+movie_id+plot+response+api_key\n",
    "    data = requests.get(url,headers = headers)\n",
    "    result = json.loads(data.content.decode('utf-8'))\n",
    "    mydb = mysql.connector.connect(\n",
    "        host=\"localhost\",\n",
    "        user=\"root\",\n",
    "        database='ucdavis')\n",
    "    mycursor = mydb.cursor()\n",
    "    sql = \"INSERT INTO omdb (imdb_id, title,year,genre,director,imdb_rating,rotten_tomatoes,metacritic,plot,box_office) VALUES (%s, %s,%s,%s,%s,%s,%s,%s,%s,%s)\"\n",
    "    val = [(result['imdbID'],\n",
    "           result['Title'],result['Year'],result['Genre'],result['Director'],\n",
    "           result['Ratings'][0]['Value'],result['Ratings'][1]['Value'],\n",
    "           result['Ratings'][2]['Value'],result['Plot'],result['BoxOffice'])]\n",
    "    mycursor.executemany(sql, val)\n",
    "    mydb.commit()\n",
    "    print(mycursor.rowcount, \"was inserted.\")"
   ]
  },
  {
   "cell_type": "code",
   "execution_count": null,
   "metadata": {},
   "outputs": [],
   "source": []
  }
 ],
 "metadata": {
  "kernelspec": {
   "display_name": "Python 3",
   "language": "python",
   "name": "python3"
  },
  "language_info": {
   "codemirror_mode": {
    "name": "ipython",
    "version": 3
   },
   "file_extension": ".py",
   "mimetype": "text/x-python",
   "name": "python",
   "nbconvert_exporter": "python",
   "pygments_lexer": "ipython3",
   "version": "3.7.3"
  },
  "toc": {
   "base_numbering": 1,
   "nav_menu": {},
   "number_sections": true,
   "sideBar": true,
   "skip_h1_title": false,
   "title_cell": "Table of Contents",
   "title_sidebar": "Contents",
   "toc_cell": false,
   "toc_position": {},
   "toc_section_display": true,
   "toc_window_display": false
  }
 },
 "nbformat": 4,
 "nbformat_minor": 2
}
