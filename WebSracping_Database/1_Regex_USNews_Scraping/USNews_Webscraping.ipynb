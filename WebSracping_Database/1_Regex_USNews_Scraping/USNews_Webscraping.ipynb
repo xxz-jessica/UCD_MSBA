{
 "cells": [
  {
   "cell_type": "code",
   "execution_count": 1,
   "metadata": {
    "ExecuteTime": {
     "end_time": "2020-01-06T06:44:29.356167Z",
     "start_time": "2020-01-06T06:44:28.054594Z"
    }
   },
   "outputs": [],
   "source": [
    "import requests, re, math\n",
    "from bs4 import BeautifulSoup\n",
    "import pandas as pd\n",
    "import numpy as np"
   ]
  },
  {
   "cell_type": "code",
   "execution_count": 2,
   "metadata": {
    "ExecuteTime": {
     "end_time": "2020-01-06T06:44:30.375389Z",
     "start_time": "2020-01-06T06:44:30.368410Z"
    }
   },
   "outputs": [],
   "source": [
    "news='https://www.usnews.com'"
   ]
  },
  {
   "cell_type": "code",
   "execution_count": 6,
   "metadata": {
    "ExecuteTime": {
     "end_time": "2020-01-06T06:46:01.551696Z",
     "start_time": "2020-01-06T06:46:01.543718Z"
    }
   },
   "outputs": [],
   "source": [
    "def webcapture(url):\n",
    "    headers = {\n",
    "   # pretend I am a browser\n",
    "   'User-Agent': 'Mozilla/5.0 (Windows NT 10.0; Win64; x64) AppleWebKit/537.36 (KHTML, like Gecko) Chrome/76.0.3809.87 Safari/537.36',\n",
    "   }\n",
    "    session = requests.Session()\n",
    "    data = session.get(url, headers=headers)\n",
    "    soup = BeautifulSoup(data.text, 'html.parser')\n",
    "    return soup"
   ]
  },
  {
   "cell_type": "code",
   "execution_count": 7,
   "metadata": {
    "ExecuteTime": {
     "end_time": "2020-01-06T06:46:08.566169Z",
     "start_time": "2020-01-06T06:46:08.392530Z"
    }
   },
   "outputs": [],
   "source": [
    "soup=webcapture(news)"
   ]
  },
  {
   "cell_type": "code",
   "execution_count": 8,
   "metadata": {
    "ExecuteTime": {
     "end_time": "2020-01-06T06:46:14.946800Z",
     "start_time": "2020-01-06T06:46:14.933834Z"
    }
   },
   "outputs": [],
   "source": [
    "top_story=soup.find_all('div', 'Cell-s1jgw6rh-0-e jfmAAq s85n6m5-0-Box-cwadsP hUvsvZ')"
   ]
  },
  {
   "cell_type": "code",
   "execution_count": 9,
   "metadata": {
    "ExecuteTime": {
     "end_time": "2020-01-06T06:46:16.606025Z",
     "start_time": "2020-01-06T06:46:16.601014Z"
    }
   },
   "outputs": [],
   "source": [
    "top_story=str(top_story)"
   ]
  },
  {
   "cell_type": "code",
   "execution_count": 10,
   "metadata": {
    "ExecuteTime": {
     "end_time": "2020-01-06T06:46:19.031092Z",
     "start_time": "2020-01-06T06:46:19.026106Z"
    }
   },
   "outputs": [],
   "source": [
    "test=re.findall(r'<a href=\"(https:.+?)\">|<a class.+? href=\"(.+?)\".+?>', top_story) "
   ]
  },
  {
   "cell_type": "code",
   "execution_count": 11,
   "metadata": {
    "ExecuteTime": {
     "end_time": "2020-01-06T06:46:20.466589Z",
     "start_time": "2020-01-06T06:46:20.458579Z"
    }
   },
   "outputs": [],
   "source": [
    "link=str(test)"
   ]
  },
  {
   "cell_type": "code",
   "execution_count": 12,
   "metadata": {
    "ExecuteTime": {
     "end_time": "2020-01-06T06:46:21.787314Z",
     "start_time": "2020-01-06T06:46:21.783324Z"
    }
   },
   "outputs": [],
   "source": [
    "links=re.findall(r'\\'(h.+?)\\'',link)"
   ]
  },
  {
   "cell_type": "code",
   "execution_count": 13,
   "metadata": {
    "ExecuteTime": {
     "end_time": "2020-01-06T06:46:29.606389Z",
     "start_time": "2020-01-06T06:46:29.595419Z"
    }
   },
   "outputs": [
    {
     "data": {
      "text/plain": [
       "'https://www.usnews.com/news/healthiest-communities/articles/2020-01-02/life-expectancy-for-childhood-cancer-survivors-has-improved-study-says'"
      ]
     },
     "execution_count": 13,
     "metadata": {},
     "output_type": "execute_result"
    }
   ],
   "source": [
    "links[1]"
   ]
  },
  {
   "cell_type": "code",
   "execution_count": 99,
   "metadata": {
    "ExecuteTime": {
     "end_time": "2020-01-05T08:12:22.010831Z",
     "start_time": "2020-01-05T08:12:22.000828Z"
    }
   },
   "outputs": [],
   "source": [
    "def news_content(link):\n",
    "    news_info = []\n",
    "      \n",
    "    for url in link:\n",
    "        headers = {\n",
    "            # pretend I am a browser\n",
    "            'User-Agent': 'Mozilla/5.0 (Windows NT 10.0; Win64; x64) AppleWebKit/537.36 (KHTML, like Gecko) Chrome/76.0.3809.87 Safari/537.36',\n",
    "            # put the cookie\n",
    "            'Cookie': '__cfduid=df70647f0af67327dbb3928be14d5df9b1570316454; _ga=GA1.2.436208584.1570316459; .Telligent.Evolution=3158E500B630470FB4ABB8D566716908FF759B53C1842E8434CF2B2365D6C65CEC78FEE85C06B53225C453FDC8D5A955675AEBF16A3CD6039FFFF36AA638B0A8904818DC7BA59E85D6185B6A9D8CB63871C1F9C5BB43D9191C9F71F56E6E6AC2BA8BC2A0B905BAA30CEEA552FEA5FBE300D5C666; .CSRoles=CdF-sTGgTYKBtzKl0oHw0g3kCtrT_tWdcuIKs7aoVblNBN6NbmN3bhOYbc1lGyt0iOa4O-rgMvZbovZBC08obrn30-3yFwz3S-p-SNHsXAhGYqk-VWgCtM3UprSc7HtL50krKvsS1_YJKOGluL7h063noaB1jSwRdX2M-xxZJ2ThUckkYl2jcvBUpoSVxkPQWiuR0nLRCNM1YY0l03wvftnUSzDkKvku4VduJdmOEbn99b8Nw1G9gBw53u5EkH4M9Ts7vaS-lk7wOLI5bboRbk9YeDR8q7J4wcUeSxbVPBy-Sc7IbLDdGu_ESZNUb0NdgH-GEBNibB0RVyWM-KP3-lnF3CURQNGyTP7QS31D_rmRfVdk_QJVEDrgGaKarKl0CgqCOvjFOpMPYlZO7iaBPTm5Wd50xMUa3qzmf2Z0Q6cUnPPD1GR3EVPD_AkVFJQfRWdz-guSwKqzfTisZsbNr1NQNKVAVqNtoLBrTUq3bTjNAumBi_gx0XHmFSKxg0RzjBY-tOIxmj55iY8Em8OYdbD693CLSfrQ09pky1Xr42vU8x7jMG6K2mrw9Ic9EXNBs1dxC0Ikshk3azLDPDSoFUNXQtc1; _gid=GA1.2.2114192355.1573711920; Visitor=b106cf73-8090-4cca-900a-0082028f1c90; AuthorizationCookie=8053aee5-6936-4d44-9224-7f33515efee7; Telligent.Evolution-UI=ThreadFilter=UnReadOnly',\n",
    "            }\n",
    "       \n",
    "        \n",
    "       \n",
    "        session = requests.Session()\n",
    "        data = session.get(url, headers=headers)\n",
    "        soup = BeautifulSoup(data.text, 'html.parser')\n",
    "        \n",
    "        \n",
    "        \n",
    "        news_data = [{\n",
    "                          'Link':url,\n",
    "                        \n",
    "                          'Title':[tag.text.strip() for tag in soup.find_all('h1','sc-bdVaJa kwJVtY')],\n",
    "                          \n",
    "                          'Author':[tag.text.strip() for tag in soup.find_all('span','Span-aabx0k-0 eDdTpQ')],\n",
    "                          'Date':[tag.text.strip() for tag in soup.find_all('span','aabx0k-0-Span-juOiwt gWRyAV')],\n",
    "                          'Content': [tag.text.strip() for tag in soup.find_all ('div','Raw-s14xcvr1-0 AXWJq')]\n",
    "                          }\n",
    "                            \n",
    "                        ]\n",
    "        \n",
    "        news_info.extend(news_data) \n",
    "    df =  pd.DataFrame(news_info)\n",
    "    df = df[['Link','Title','Author','Date','Content']]\n",
    "   \n",
    "    return df\n",
    "   "
   ]
  },
  {
   "cell_type": "code",
   "execution_count": 100,
   "metadata": {
    "ExecuteTime": {
     "end_time": "2020-01-05T08:12:23.331372Z",
     "start_time": "2020-01-05T08:12:22.728881Z"
    }
   },
   "outputs": [],
   "source": [
    "df=news_content(links)"
   ]
  },
  {
   "cell_type": "code",
   "execution_count": 101,
   "metadata": {
    "ExecuteTime": {
     "end_time": "2020-01-05T08:12:23.921063Z",
     "start_time": "2020-01-05T08:12:23.877158Z"
    }
   },
   "outputs": [],
   "source": [
    "df['Content']=df['Content'].apply(lambda x:str(x))"
   ]
  },
  {
   "cell_type": "code",
   "execution_count": 108,
   "metadata": {
    "ExecuteTime": {
     "end_time": "2020-01-05T08:13:43.278246Z",
     "start_time": "2020-01-05T08:13:43.262257Z"
    }
   },
   "outputs": [
    {
     "data": {
      "text/html": [
       "<div>\n",
       "<style scoped>\n",
       "    .dataframe tbody tr th:only-of-type {\n",
       "        vertical-align: middle;\n",
       "    }\n",
       "\n",
       "    .dataframe tbody tr th {\n",
       "        vertical-align: top;\n",
       "    }\n",
       "\n",
       "    .dataframe thead th {\n",
       "        text-align: right;\n",
       "    }\n",
       "</style>\n",
       "<table border=\"1\" class=\"dataframe\">\n",
       "  <thead>\n",
       "    <tr style=\"text-align: right;\">\n",
       "      <th></th>\n",
       "      <th>Link</th>\n",
       "      <th>Title</th>\n",
       "      <th>Author</th>\n",
       "      <th>Date</th>\n",
       "      <th>Content</th>\n",
       "    </tr>\n",
       "  </thead>\n",
       "  <tbody>\n",
       "    <tr>\n",
       "      <th>0</th>\n",
       "      <td>https://www.usnews.com/news/best-states/articl...</td>\n",
       "      <td>[California Water Supply Looks Promising in 20...</td>\n",
       "      <td>[By Casey Leins, Staff Writer, By Casey Leins,...</td>\n",
       "      <td>[Jan. 3, 2020, Jan. 3, 2020, at 2:49 p.m.]</td>\n",
       "      <td>[\"California's water supply for this year look...</td>\n",
       "    </tr>\n",
       "    <tr>\n",
       "      <th>1</th>\n",
       "      <td>https://www.usnews.com/news/healthiest-communi...</td>\n",
       "      <td>[Childhood Cancer Survivors Still Face Shorter...</td>\n",
       "      <td>[By Gaby Galvin, Staff Writer, By Gaby Galvin,...</td>\n",
       "      <td>[Jan. 2, 2020, Jan. 2, 2020, at 12:24 p.m.]</td>\n",
       "      <td>['The survival rate of children and adolescent...</td>\n",
       "    </tr>\n",
       "    <tr>\n",
       "      <th>2</th>\n",
       "      <td>https://www.usnews.com/news/national-news/arti...</td>\n",
       "      <td>[Trump to Send 3,000 More Troops to Middle Eas...</td>\n",
       "      <td>[By Paul D. Shinkman, Senior Writer, National ...</td>\n",
       "      <td>[Jan. 3, 2020, Jan. 3, 2020, at 2:19 p.m.]</td>\n",
       "      <td>['President Donald Trump reportedly plans to s...</td>\n",
       "    </tr>\n",
       "    <tr>\n",
       "      <th>3</th>\n",
       "      <td>https://www.usnews.com/news/politics/articles/...</td>\n",
       "      <td>[Support for Trump’s Removal Grows]</td>\n",
       "      <td>[By Susan Milligan, Senior Politics Writer, By...</td>\n",
       "      <td>[Jan. 3, 2020, Jan. 3, 2020, at 9:30 a.m.]</td>\n",
       "      <td>[\"More than half of Americans think President ...</td>\n",
       "    </tr>\n",
       "    <tr>\n",
       "      <th>4</th>\n",
       "      <td>https://www.usnews.com/news/world-report/artic...</td>\n",
       "      <td>[U.S., Iran Poised to Escalate Conflict Follow...</td>\n",
       "      <td>[By Paul D. Shinkman, Senior Writer, National ...</td>\n",
       "      <td>[Jan. 3, 2020, Jan. 3, 2020, at 11:09 a.m.]</td>\n",
       "      <td>[\"Conflict between the U.S. and Iran is poised...</td>\n",
       "    </tr>\n",
       "  </tbody>\n",
       "</table>\n",
       "</div>"
      ],
      "text/plain": [
       "                                                Link  \\\n",
       "0  https://www.usnews.com/news/best-states/articl...   \n",
       "1  https://www.usnews.com/news/healthiest-communi...   \n",
       "2  https://www.usnews.com/news/national-news/arti...   \n",
       "3  https://www.usnews.com/news/politics/articles/...   \n",
       "4  https://www.usnews.com/news/world-report/artic...   \n",
       "\n",
       "                                               Title  \\\n",
       "0  [California Water Supply Looks Promising in 20...   \n",
       "1  [Childhood Cancer Survivors Still Face Shorter...   \n",
       "2  [Trump to Send 3,000 More Troops to Middle Eas...   \n",
       "3                [Support for Trump’s Removal Grows]   \n",
       "4  [U.S., Iran Poised to Escalate Conflict Follow...   \n",
       "\n",
       "                                              Author  \\\n",
       "0  [By Casey Leins, Staff Writer, By Casey Leins,...   \n",
       "1  [By Gaby Galvin, Staff Writer, By Gaby Galvin,...   \n",
       "2  [By Paul D. Shinkman, Senior Writer, National ...   \n",
       "3  [By Susan Milligan, Senior Politics Writer, By...   \n",
       "4  [By Paul D. Shinkman, Senior Writer, National ...   \n",
       "\n",
       "                                          Date  \\\n",
       "0   [Jan. 3, 2020, Jan. 3, 2020, at 2:49 p.m.]   \n",
       "1  [Jan. 2, 2020, Jan. 2, 2020, at 12:24 p.m.]   \n",
       "2   [Jan. 3, 2020, Jan. 3, 2020, at 2:19 p.m.]   \n",
       "3   [Jan. 3, 2020, Jan. 3, 2020, at 9:30 a.m.]   \n",
       "4  [Jan. 3, 2020, Jan. 3, 2020, at 11:09 a.m.]   \n",
       "\n",
       "                                             Content  \n",
       "0  [\"California's water supply for this year look...  \n",
       "1  ['The survival rate of children and adolescent...  \n",
       "2  ['President Donald Trump reportedly plans to s...  \n",
       "3  [\"More than half of Americans think President ...  \n",
       "4  [\"Conflict between the U.S. and Iran is poised...  "
      ]
     },
     "execution_count": 108,
     "metadata": {},
     "output_type": "execute_result"
    }
   ],
   "source": [
    "df"
   ]
  },
  {
   "cell_type": "code",
   "execution_count": null,
   "metadata": {},
   "outputs": [],
   "source": []
  }
 ],
 "metadata": {
  "kernelspec": {
   "display_name": "Python 3",
   "language": "python",
   "name": "python3"
  },
  "language_info": {
   "codemirror_mode": {
    "name": "ipython",
    "version": 3
   },
   "file_extension": ".py",
   "mimetype": "text/x-python",
   "name": "python",
   "nbconvert_exporter": "python",
   "pygments_lexer": "ipython3",
   "version": "3.7.3"
  },
  "toc": {
   "base_numbering": 1,
   "nav_menu": {},
   "number_sections": true,
   "sideBar": true,
   "skip_h1_title": false,
   "title_cell": "Table of Contents",
   "title_sidebar": "Contents",
   "toc_cell": false,
   "toc_position": {},
   "toc_section_display": true,
   "toc_window_display": false
  }
 },
 "nbformat": 4,
 "nbformat_minor": 2
}
