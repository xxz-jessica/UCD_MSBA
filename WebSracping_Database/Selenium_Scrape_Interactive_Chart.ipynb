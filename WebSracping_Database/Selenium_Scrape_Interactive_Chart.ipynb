{
 "cells": [
  {
   "cell_type": "code",
   "execution_count": 104,
   "metadata": {
    "ExecuteTime": {
     "end_time": "2020-04-19T01:25:27.034589Z",
     "start_time": "2020-04-19T01:25:27.028604Z"
    }
   },
   "outputs": [],
   "source": [
    "import requests\n",
    "from selenium import webdriver\n",
    "import time\n",
    "from bs4 import BeautifulSoup\n",
    "import os\n",
    "import random\n",
    "import pandas as pd\n",
    "from tqdm import tqdm_notebook\n",
    "from tqdm import tqdm\n",
    "import glob\n",
    "import re\n",
    "from dateutil import parser\n",
    "from selenium.webdriver.common.keys import Keys\n",
    "from selenium.webdriver.common.action_chains import ActionChains"
   ]
  },
  {
   "cell_type": "code",
   "execution_count": 68,
   "metadata": {
    "ExecuteTime": {
     "end_time": "2020-04-19T00:36:44.661320Z",
     "start_time": "2020-04-19T00:36:39.938379Z"
    }
   },
   "outputs": [],
   "source": [
    "driver = webdriver.Chrome(executable_path='D:/Winter 2020/COVID2019/chromedriver.exe')\n",
    "url = 'http://www.caiso.com/TodaysOutlook/Pages/default.aspx'\n",
    "driver.get(url)"
   ]
  },
  {
   "cell_type": "code",
   "execution_count": 69,
   "metadata": {
    "ExecuteTime": {
     "end_time": "2020-04-19T00:36:48.891713Z",
     "start_time": "2020-04-19T00:36:48.886762Z"
    }
   },
   "outputs": [],
   "source": [
    "action = ActionChains(driver)"
   ]
  },
  {
   "cell_type": "code",
   "execution_count": 84,
   "metadata": {
    "ExecuteTime": {
     "end_time": "2020-04-19T00:39:49.007447Z",
     "start_time": "2020-04-19T00:39:46.044171Z"
    }
   },
   "outputs": [],
   "source": [
    "firstLevelMenu = driver.find_element_by_class_name(\"highcharts-plot-bands-0\")\n",
    "action.move_to_element(firstLevelMenu).click().perform()\n",
    "# tooltip = driver.find_element_by_xpath('//*[@id=\"highcharts-g6xr5au-0\"]/div/span/div')"
   ]
  },
  {
   "cell_type": "code",
   "execution_count": 53,
   "metadata": {
    "ExecuteTime": {
     "end_time": "2020-04-19T00:19:21.988541Z",
     "start_time": "2020-04-19T00:19:21.955643Z"
    },
    "collapsed": true
   },
   "outputs": [
    {
     "data": {
      "text/plain": [
       "{'height': 300, 'width': 762}"
      ]
     },
     "execution_count": 53,
     "metadata": {},
     "output_type": "execute_result"
    }
   ],
   "source": [
    "driver.find_element_by_class_name(\"highcharts-plot-bands-0\").size"
   ]
  },
  {
   "cell_type": "code",
   "execution_count": 118,
   "metadata": {
    "ExecuteTime": {
     "end_time": "2020-04-19T01:51:56.810320Z",
     "start_time": "2020-04-19T01:51:01.122919Z"
    },
    "collapsed": true
   },
   "outputs": [
    {
     "ename": "IndexError",
     "evalue": "list index out of range",
     "output_type": "error",
     "traceback": [
      "\u001b[1;31m---------------------------------------------------------------------------\u001b[0m",
      "\u001b[1;31mIndexError\u001b[0m                                Traceback (most recent call last)",
      "\u001b[1;32m<ipython-input-118-32bcd23063a9>\u001b[0m in \u001b[0;36m<module>\u001b[1;34m\u001b[0m\n\u001b[0;32m     10\u001b[0m     \u001b[0maction\u001b[0m\u001b[1;33m.\u001b[0m\u001b[0mclick\u001b[0m\u001b[1;33m(\u001b[0m\u001b[1;33m)\u001b[0m\u001b[1;33m\u001b[0m\u001b[1;33m\u001b[0m\u001b[0m\n\u001b[0;32m     11\u001b[0m     \u001b[0maction\u001b[0m\u001b[1;33m.\u001b[0m\u001b[0mperform\u001b[0m\u001b[1;33m(\u001b[0m\u001b[1;33m)\u001b[0m\u001b[1;33m\u001b[0m\u001b[1;33m\u001b[0m\u001b[0m\n\u001b[1;32m---> 12\u001b[1;33m     \u001b[0mdemand\u001b[0m\u001b[1;33m.\u001b[0m\u001b[0mappend\u001b[0m\u001b[1;33m(\u001b[0m\u001b[1;33m[\u001b[0m\u001b[0mel\u001b[0m\u001b[1;33m.\u001b[0m\u001b[0mtext\u001b[0m \u001b[1;32mfor\u001b[0m \u001b[0mel\u001b[0m \u001b[1;32min\u001b[0m \u001b[0mdriver\u001b[0m\u001b[1;33m.\u001b[0m\u001b[0mfind_element_by_class_name\u001b[0m\u001b[1;33m(\u001b[0m\u001b[1;34m'chart-tooltip'\u001b[0m\u001b[1;33m)\u001b[0m\u001b[1;33m.\u001b[0m\u001b[0mfind_elements_by_css_selector\u001b[0m\u001b[1;33m(\u001b[0m\u001b[1;34m\"*\"\u001b[0m\u001b[1;33m)\u001b[0m\u001b[1;33m]\u001b[0m\u001b[1;33m[\u001b[0m\u001b[1;36m8\u001b[0m\u001b[1;33m]\u001b[0m\u001b[1;33m)\u001b[0m\u001b[1;33m\u001b[0m\u001b[1;33m\u001b[0m\u001b[0m\n\u001b[0m",
      "\u001b[1;31mIndexError\u001b[0m: list index out of range"
     ]
    }
   ],
   "source": [
    "# offset = -380\n",
    "gap = 5\n",
    "demand = []\n",
    "for i in range(152):\n",
    "    move = i*gap\n",
    "    el=driver.find_element_by_class_name(\"highcharts-plot-bands-0\")\n",
    "\n",
    "    action = webdriver.common.action_chains.ActionChains(driver)\n",
    "    action.move_to_element_with_offset(el, move, 0)\n",
    "    action.click()\n",
    "    action.perform()\n",
    "    demand.append([el.text for el in driver.find_element_by_class_name('chart-tooltip').find_elements_by_css_selector(\"*\")][8])"
   ]
  },
  {
   "cell_type": "code",
   "execution_count": 120,
   "metadata": {
    "ExecuteTime": {
     "end_time": "2020-04-19T01:52:15.271098Z",
     "start_time": "2020-04-19T01:52:15.263155Z"
    }
   },
   "outputs": [
    {
     "data": {
      "text/plain": [
       "['19,644',\n",
       " '19,695',\n",
       " '19,782',\n",
       " '19,656',\n",
       " '19,442',\n",
       " '19,317',\n",
       " '19,238',\n",
       " '19,124',\n",
       " '19,007',\n",
       " '18,880',\n",
       " '18,752',\n",
       " '18,670',\n",
       " '18,551',\n",
       " '18,430',\n",
       " '18,343',\n",
       " '18,276',\n",
       " '18,171',\n",
       " '18,141',\n",
       " '18,051',\n",
       " '17,984',\n",
       " '17,918',\n",
       " '17,848',\n",
       " '17,830',\n",
       " '17,798',\n",
       " '17,732',\n",
       " '17,728',\n",
       " '17,718',\n",
       " '17,689',\n",
       " '17,764',\n",
       " '17,769',\n",
       " '17,806',\n",
       " '17,782',\n",
       " '17,860',\n",
       " '17,876',\n",
       " '17,979',\n",
       " '18,100',\n",
       " '18,130',\n",
       " '18,209',\n",
       " '18,218',\n",
       " '18,292',\n",
       " '18,398',\n",
       " '18,608',\n",
       " '18,645',\n",
       " '18,619',\n",
       " '18,580',\n",
       " '18,545',\n",
       " '18,544',\n",
       " '18,550',\n",
       " '18,558',\n",
       " '18,592',\n",
       " '18,550',\n",
       " '18,628',\n",
       " '18,705',\n",
       " '18,745',\n",
       " '18,934',\n",
       " '18,941',\n",
       " '18,971',\n",
       " '18,938',\n",
       " '18,950',\n",
       " '18,897',\n",
       " '18,870',\n",
       " '18,906',\n",
       " '18,923',\n",
       " '18,827',\n",
       " '18,752',\n",
       " '18,712',\n",
       " '18,673',\n",
       " '18,621',\n",
       " '18,543',\n",
       " '18,414',\n",
       " '18,384',\n",
       " '18,585',\n",
       " '18,465',\n",
       " '18,386',\n",
       " '18,414',\n",
       " '18,376',\n",
       " '18,377',\n",
       " '18,377',\n",
       " '18,421',\n",
       " '18,363',\n",
       " '18,390',\n",
       " '18,402',\n",
       " '18,327',\n",
       " '18,257',\n",
       " '18,192',\n",
       " '18,119',\n",
       " '18,067',\n",
       " '18,007',\n",
       " '18,039',\n",
       " '17,966',\n",
       " '17,954',\n",
       " '17,893',\n",
       " '17,784',\n",
       " '17,681',\n",
       " '17,650',\n",
       " '17,567',\n",
       " '17,491',\n",
       " '17,516',\n",
       " '17,562',\n",
       " '17,624',\n",
       " '17,597',\n",
       " '17,706',\n",
       " '17,761',\n",
       " '17,861',\n",
       " '17,958',\n",
       " '18,015',\n",
       " '18,159',\n",
       " '18,195',\n",
       " '18,309',\n",
       " '18,441',\n",
       " '18,630',\n",
       " '18,826',\n",
       " '19,044',\n",
       " '19,148',\n",
       " '19,305',\n",
       " '19,569',\n",
       " '19,858',\n",
       " '20,139',\n",
       " '20,242',\n",
       " '20,494',\n",
       " '20,613',\n",
       " '20,840',\n",
       " '21,020',\n",
       " '21,295',\n",
       " '21,381']"
      ]
     },
     "execution_count": 120,
     "metadata": {},
     "output_type": "execute_result"
    }
   ],
   "source": [
    "demand"
   ]
  },
  {
   "cell_type": "code",
   "execution_count": null,
   "metadata": {},
   "outputs": [],
   "source": []
  }
 ],
 "metadata": {
  "kernelspec": {
   "display_name": "Python 3",
   "language": "python",
   "name": "python3"
  },
  "language_info": {
   "codemirror_mode": {
    "name": "ipython",
    "version": 3
   },
   "file_extension": ".py",
   "mimetype": "text/x-python",
   "name": "python",
   "nbconvert_exporter": "python",
   "pygments_lexer": "ipython3",
   "version": "3.7.3"
  },
  "toc": {
   "base_numbering": 1,
   "nav_menu": {},
   "number_sections": true,
   "sideBar": true,
   "skip_h1_title": false,
   "title_cell": "Table of Contents",
   "title_sidebar": "Contents",
   "toc_cell": false,
   "toc_position": {},
   "toc_section_display": true,
   "toc_window_display": false
  }
 },
 "nbformat": 4,
 "nbformat_minor": 2
}
