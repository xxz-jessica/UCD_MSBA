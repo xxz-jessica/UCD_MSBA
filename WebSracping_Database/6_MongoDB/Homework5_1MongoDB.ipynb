{
 "cells": [
  {
   "cell_type": "code",
   "execution_count": 45,
   "metadata": {
    "ExecuteTime": {
     "end_time": "2020-02-20T07:44:42.648924Z",
     "start_time": "2020-02-20T07:44:42.642937Z"
    }
   },
   "outputs": [],
   "source": [
    "#MongoDB driver \"PyMongo\"\n",
    "import pymongo"
   ]
  },
  {
   "cell_type": "code",
   "execution_count": 46,
   "metadata": {
    "ExecuteTime": {
     "end_time": "2020-02-20T07:44:45.488826Z",
     "start_time": "2020-02-20T07:44:45.478854Z"
    }
   },
   "outputs": [],
   "source": [
    "# Connect to the local server\n",
    "myclient = pymongo.MongoClient(\"mongodb://localhost:27017/\")\n",
    "mydb = myclient[\"samples_pokemon\"]\n",
    "mycol = mydb[\"samples_pokemon\"]"
   ]
  },
  {
   "cell_type": "code",
   "execution_count": 4,
   "metadata": {
    "ExecuteTime": {
     "end_time": "2020-02-19T22:26:15.893196Z",
     "start_time": "2020-02-19T22:26:15.884182Z"
    },
    "scrolled": false
   },
   "outputs": [],
   "source": [
    "mydoc = mycol.find({\"candy_count\":{\"$gte\":40}})\n",
    "\n",
    "# for x in mydoc:\n",
    "#     print(x)"
   ]
  },
  {
   "cell_type": "markdown",
   "metadata": {},
   "source": [
    "# Q1: Creates a MongoDB database called \"amazon\".\n",
    "\n"
   ]
  },
  {
   "cell_type": "code",
   "execution_count": 5,
   "metadata": {
    "ExecuteTime": {
     "end_time": "2020-02-19T22:26:21.206243Z",
     "start_time": "2020-02-19T22:26:21.164181Z"
    }
   },
   "outputs": [
    {
     "name": "stdout",
     "output_type": "stream",
     "text": [
      "['admin', 'config', 'crunchbase', 'enron_messages', 'local', 'mongomart_cart', 'mongomart_item', 'samples_friends', 'samples_pokemon', 'video_movieDetails', 'video_movies', 'video_reviews']\n"
     ]
    }
   ],
   "source": [
    "# Connect to the local server\n",
    "myclient = pymongo.MongoClient(\"mongodb://localhost:27017/\")\n",
    "print(myclient.list_database_names())"
   ]
  },
  {
   "cell_type": "code",
   "execution_count": 6,
   "metadata": {
    "ExecuteTime": {
     "end_time": "2020-02-19T22:26:35.613547Z",
     "start_time": "2020-02-19T22:26:35.607464Z"
    }
   },
   "outputs": [],
   "source": [
    "mydb = myclient[\"amazon\"]"
   ]
  },
  {
   "cell_type": "code",
   "execution_count": 7,
   "metadata": {
    "ExecuteTime": {
     "end_time": "2020-02-19T22:26:36.859273Z",
     "start_time": "2020-02-19T22:26:36.850372Z"
    }
   },
   "outputs": [
    {
     "name": "stdout",
     "output_type": "stream",
     "text": [
      "['admin', 'config', 'crunchbase', 'enron_messages', 'local', 'mongomart_cart', 'mongomart_item', 'samples_friends', 'samples_pokemon', 'video_movieDetails', 'video_movies', 'video_reviews']\n"
     ]
    }
   ],
   "source": [
    "print(myclient.list_database_names())\n",
    "# In MongoDB, a database is not created until it gets content!"
   ]
  },
  {
   "cell_type": "markdown",
   "metadata": {},
   "source": [
    "# Q2: Reads \"reviews_electronics.16.json\" and uploads each review as a separate document to the collection \"reviews\" in the database \"amazon\".\n",
    "\n"
   ]
  },
  {
   "cell_type": "code",
   "execution_count": 9,
   "metadata": {
    "ExecuteTime": {
     "end_time": "2020-02-19T22:50:35.989534Z",
     "start_time": "2020-02-19T22:50:33.314300Z"
    }
   },
   "outputs": [],
   "source": [
    "# import the built-in JSON library\n",
    "import json\n",
    "\n",
    "# file direction\n",
    "import os\n",
    "\n",
    "import pandas as pd"
   ]
  },
  {
   "cell_type": "code",
   "execution_count": 10,
   "metadata": {
    "ExecuteTime": {
     "end_time": "2020-02-19T22:50:36.004453Z",
     "start_time": "2020-02-19T22:50:35.993562Z"
    }
   },
   "outputs": [],
   "source": [
    "os.chdir(r'D:\\Winter 2020\\BAX 452 Machine Learning\\Homework 6')"
   ]
  },
  {
   "cell_type": "code",
   "execution_count": 13,
   "metadata": {
    "ExecuteTime": {
     "end_time": "2020-02-19T22:55:01.843017Z",
     "start_time": "2020-02-19T22:54:54.570391Z"
    }
   },
   "outputs": [
    {
     "data": {
      "text/plain": [
       "{'reviewerID': 'AWO84NZ6VDYR2',\n",
       " 'asin': 'B00E4KP4W6',\n",
       " 'reviewerName': 'shalane rogillio',\n",
       " 'helpful': [0, 0],\n",
       " 'reviewText': 'I ordered two of these &#34;shatter proof&#34; protector for iPad s.  One arrived broken. Amazon refunded and ordered another one just like it.  Using the flat plastic tool to push bubbles out, the edge of this chipped.  This is definitely not up breakable and when it does break it is in big shards.  So from the 3 I have touched, only one is perfect.',\n",
       " 'overall': 1.0,\n",
       " 'summary': 'Not happy with this, would not recommend',\n",
       " 'unixReviewTime': 1404777600,\n",
       " 'reviewTime': '07 8, 2014'}"
      ]
     },
     "execution_count": 13,
     "metadata": {},
     "output_type": "execute_result"
    }
   ],
   "source": [
    "data = []\n",
    "with io.open('reviews_electronics.16.json', encoding='utf-8') as json_data:\n",
    "    for line in json_data:\n",
    "        data_line = json.loads(line)\n",
    "        data.append(data_line)\n",
    "data[5]"
   ]
  },
  {
   "cell_type": "code",
   "execution_count": 16,
   "metadata": {
    "ExecuteTime": {
     "end_time": "2020-02-19T23:02:13.187215Z",
     "start_time": "2020-02-19T23:01:58.919040Z"
    },
    "scrolled": false
   },
   "outputs": [],
   "source": [
    "mydb = myclient[\"amazon\"]\n",
    "mycol = mydb[\"reviews\"]\n",
    "mycol.drop()\n",
    "mycol = mydb[\"reviews\"]\n",
    "x = mycol.insert_many(data)"
   ]
  },
  {
   "cell_type": "markdown",
   "metadata": {},
   "source": [
    "# Q3: Uses MongoDB's map reduce function to build a new collection \"avg_scores\" that averages review scores by product (\"asin\"). Print the first 100 entries of \"avg_scores\" to screen.\n"
   ]
  },
  {
   "cell_type": "code",
   "execution_count": 1,
   "metadata": {
    "ExecuteTime": {
     "end_time": "2020-02-20T01:51:55.478144Z",
     "start_time": "2020-02-20T01:51:55.449223Z"
    }
   },
   "outputs": [],
   "source": [
    "from bson.code import Code"
   ]
  },
  {
   "cell_type": "code",
   "execution_count": 28,
   "metadata": {
    "ExecuteTime": {
     "end_time": "2020-02-20T06:22:58.506349Z",
     "start_time": "2020-02-20T06:22:58.500390Z"
    }
   },
   "outputs": [],
   "source": [
    "myclient = pymongo.MongoClient(\"mongodb://localhost:27017/\")\n",
    "mydb = myclient[\"amazon\"]\n",
    "mycol = mydb[\"reviews\"]"
   ]
  },
  {
   "cell_type": "code",
   "execution_count": 29,
   "metadata": {
    "ExecuteTime": {
     "end_time": "2020-02-20T06:23:06.046234Z",
     "start_time": "2020-02-20T06:23:02.356104Z"
    },
    "scrolled": true
   },
   "outputs": [
    {
     "name": "stdout",
     "output_type": "stream",
     "text": [
      "{'_id': '0132793040', 'value': 5.0}\n",
      "{'_id': 'B00E4KP4W6', 'value': 4.545454545454546}\n",
      "{'_id': 'B00E4KP8VI', 'value': 5.0}\n",
      "{'_id': 'B00E4KPMC8', 'value': 2.0}\n",
      "{'_id': 'B00E4KQ5C4', 'value': 5.0}\n",
      "{'_id': 'B00E4KQ9GG', 'value': 3.2857142857142856}\n",
      "{'_id': 'B00E4KQ9K2', 'value': 5.0}\n",
      "{'_id': 'B00E4KQD4E', 'value': 4.0}\n",
      "{'_id': 'B00E4KZBX8', 'value': 4.0}\n",
      "{'_id': 'B00E4KZDJ0', 'value': 5.0}\n",
      "{'_id': 'B00E4L35DA', 'value': 4.0}\n",
      "{'_id': 'B00E4L3N9Q', 'value': 4.0}\n",
      "{'_id': 'B00E4L48EA', 'value': 5.0}\n",
      "{'_id': 'B00E4L7FLI', 'value': 1.0}\n",
      "{'_id': 'B00E4L7TS2', 'value': 4.0}\n",
      "{'_id': 'B00E4LAL82', 'value': 3.0}\n",
      "{'_id': 'B00E4LBZZK', 'value': 5.0}\n",
      "{'_id': 'B00E4LF2Z4', 'value': 4.333333333333333}\n",
      "{'_id': 'B00E4LFP0G', 'value': 4.444444444444445}\n",
      "{'_id': 'B00E4LFWWW', 'value': 4.4}\n",
      "{'_id': 'B00E4LGTVU', 'value': 4.195658625514055}\n",
      "{'_id': 'B00E4LGTXS', 'value': 3.923076923076923}\n",
      "{'_id': 'B00E4LGVYA', 'value': 3.272727272727273}\n",
      "{'_id': 'B00E4LGWLW', 'value': 3.5}\n",
      "{'_id': 'B00E4LGXL6', 'value': 5.0}\n",
      "{'_id': 'B00E4LGY88', 'value': 3.8421052631578947}\n",
      "{'_id': 'B00E4LI86O', 'value': 1.0}\n",
      "{'_id': 'B00E4LJ8VI', 'value': 1.6666666666666667}\n",
      "{'_id': 'B00E4LQ9B0', 'value': 1.0}\n",
      "{'_id': 'B00E4M2K08', 'value': 5.0}\n",
      "{'_id': 'B00E4M3KW0', 'value': 4.0}\n",
      "{'_id': 'B00E4M9H40', 'value': 3.3333333333333335}\n",
      "{'_id': 'B00E4MC3LO', 'value': 2.0}\n",
      "{'_id': 'B00E4MHBOI', 'value': 3.0}\n",
      "{'_id': 'B00E4ML766', 'value': 5.0}\n",
      "{'_id': 'B00E4MNXYA', 'value': 5.0}\n",
      "{'_id': 'B00E4MQO8C', 'value': 4.933333333333334}\n",
      "{'_id': 'B00E4MQODW', 'value': 2.6666666666666665}\n",
      "{'_id': 'B00E4MQOE6', 'value': 4.611111111111111}\n",
      "{'_id': 'B00E4MT07Y', 'value': 1.6}\n",
      "{'_id': 'B00E4MVHTI', 'value': 3.9}\n",
      "{'_id': 'B00E4MYDTY', 'value': 4.538461538461538}\n",
      "{'_id': 'B00E4NC912', 'value': 5.0}\n",
      "{'_id': 'B00E4O3CD0', 'value': 4.0}\n",
      "{'_id': 'B00E4O7EO8', 'value': 4.2}\n",
      "{'_id': 'B00E4OCCJK', 'value': 5.0}\n",
      "{'_id': 'B00E4OCECU', 'value': 3.0}\n",
      "{'_id': 'B00E4OHBNM', 'value': 4.0}\n",
      "{'_id': 'B00E4OHRJ0', 'value': 4.0}\n",
      "{'_id': 'B00E4OI5H8', 'value': 5.0}\n",
      "{'_id': 'B00E4OKJKY', 'value': 5.0}\n",
      "{'_id': 'B00E4OKJUE', 'value': 1.0}\n",
      "{'_id': 'B00E4OKZA8', 'value': 5.0}\n",
      "{'_id': 'B00E4ON1YK', 'value': 5.0}\n",
      "{'_id': 'B00E4OSIO8', 'value': 5.0}\n",
      "{'_id': 'B00E4PM406', 'value': 4.0}\n",
      "{'_id': 'B00E4PMDIO', 'value': 5.0}\n",
      "{'_id': 'B00E4POW42', 'value': 5.0}\n",
      "{'_id': 'B00E4PP8PY', 'value': 4.0}\n",
      "{'_id': 'B00E4QD7D8', 'value': 4.0}\n",
      "{'_id': 'B00E4QM3TC', 'value': 1.0}\n",
      "{'_id': 'B00E4QX5J4', 'value': 2.0}\n",
      "{'_id': 'B00E4RD4VC', 'value': 4.375}\n",
      "{'_id': 'B00E4RIYPI', 'value': 4.5}\n",
      "{'_id': 'B00E4RKKVY', 'value': 4.0}\n",
      "{'_id': 'B00E4RS3DG', 'value': 4.5}\n",
      "{'_id': 'B00E4RUZGO', 'value': 2.0}\n",
      "{'_id': 'B00E4RZOQ0', 'value': 5.0}\n",
      "{'_id': 'B00E4RZQM2', 'value': 2.6}\n",
      "{'_id': 'B00E4RZU00', 'value': 4.0}\n",
      "{'_id': 'B00E4RZV6S', 'value': 3.75}\n",
      "{'_id': 'B00E4RZW44', 'value': 3.0}\n",
      "{'_id': 'B00E4RZYMO', 'value': 1.0}\n",
      "{'_id': 'B00E4S5BQ2', 'value': 5.0}\n",
      "{'_id': 'B00E4SDU0Q', 'value': 1.0}\n",
      "{'_id': 'B00E4SEBAY', 'value': 5.0}\n",
      "{'_id': 'B00E4SPPHW', 'value': 3.6666666666666665}\n",
      "{'_id': 'B00E4T58NC', 'value': 2.676470588235294}\n",
      "{'_id': 'B00E4T699E', 'value': 3.0}\n",
      "{'_id': 'B00E4T69DK', 'value': 5.0}\n",
      "{'_id': 'B00E4T6MWI', 'value': 2.0}\n",
      "{'_id': 'B00E4T7GP0', 'value': 2.0}\n",
      "{'_id': 'B00E4T7VOG', 'value': 5.0}\n",
      "{'_id': 'B00E4T8XZC', 'value': 4.666666666666667}\n",
      "{'_id': 'B00E4TADN2', 'value': 3.0}\n",
      "{'_id': 'B00E4TASKK', 'value': 3.5}\n",
      "{'_id': 'B00E4TBST0', 'value': 5.0}\n",
      "{'_id': 'B00E4TEKC2', 'value': 5.0}\n",
      "{'_id': 'B00E4TKYOU', 'value': 5.0}\n",
      "{'_id': 'B00E4TN3MA', 'value': 1.0}\n",
      "{'_id': 'B00E4TOWR0', 'value': 3.0}\n",
      "{'_id': 'B00E4TV36I', 'value': 5.0}\n",
      "{'_id': 'B00E4TWMWC', 'value': 1.0}\n",
      "{'_id': 'B00E4U83B0', 'value': 3.1333333333333333}\n",
      "{'_id': 'B00E4UA7SW', 'value': 4.571428571428571}\n",
      "{'_id': 'B00E4UD9TQ', 'value': 4.666666666666667}\n",
      "{'_id': 'B00E4UGIVC', 'value': 3.0}\n",
      "{'_id': 'B00E4UGJV6', 'value': 4.0}\n",
      "{'_id': 'B00E4UIU1I', 'value': 5.0}\n",
      "{'_id': 'B00E4UVVYG', 'value': 5.0}\n"
     ]
    }
   ],
   "source": [
    "mapper = Code(\"\"\"\n",
    "              function () {emit(this.asin,this.overall)}\n",
    "             \"\"\")\n",
    "reducer = Code(\"\"\"\n",
    "                function (key,value) {return Array.avg(value)}\n",
    "              \"\"\")\n",
    "result = mycol.map_reduce(mapper, reducer, \"avg_scores\")\n",
    "for doc in result.find().limit(100):\n",
    "    print(doc)"
   ]
  },
  {
   "cell_type": "markdown",
   "metadata": {},
   "source": [
    "# Q4: Uses MongoDB's map reduce function to build a new collection \"weighted_avg_scores\" that averages review scores by product (\"asin\"), weighted by the number of helpful votes (The base weight is 1 and for every additional helpful vote add 1 to weight. e.g. a \"[3, 5]\" value on \"helpful\" column should use 3 + 1 = 4 as weight, 3 being the additional votes and 1 being the base weight). Print the first 100 entries of \"weighted_avg_scores\" to screen.\n",
    "\n"
   ]
  },
  {
   "cell_type": "code",
   "execution_count": 47,
   "metadata": {
    "ExecuteTime": {
     "end_time": "2020-02-20T07:44:52.652363Z",
     "start_time": "2020-02-20T07:44:52.645380Z"
    }
   },
   "outputs": [],
   "source": [
    "myclient = pymongo.MongoClient(\"mongodb://localhost:27017/\")\n",
    "mydb = myclient[\"amazon\"]\n",
    "mycol = mydb[\"reviews\"]"
   ]
  },
  {
   "cell_type": "code",
   "execution_count": 48,
   "metadata": {
    "ExecuteTime": {
     "end_time": "2020-02-20T07:44:53.777352Z",
     "start_time": "2020-02-20T07:44:53.773362Z"
    }
   },
   "outputs": [],
   "source": [
    "mapper = Code(\"\"\"\n",
    "    function() {       \n",
    "        var key = this.asin;\n",
    "        var value = {\n",
    "            base: this.helpful[0]+1,\n",
    "            rate: this.overall*(this.helpful[0]+1),\n",
    "            test: (this.overall*(this.helpful[0]+1))/(this.helpful[0]+1)};\n",
    "        emit(key, value);};\n",
    "             \"\"\")"
   ]
  },
  {
   "cell_type": "code",
   "execution_count": 49,
   "metadata": {
    "ExecuteTime": {
     "end_time": "2020-02-20T07:44:54.347828Z",
     "start_time": "2020-02-20T07:44:54.341844Z"
    }
   },
   "outputs": [],
   "source": [
    "reducer = Code(\"\"\"\n",
    "    function(key, value) {\n",
    "        reduce = { rate: value[0].rate, base: value[0].base,test:(value[0].rate/value[0].base) };   \n",
    "        for (var idx = 1; idx < value.length; idx++) {\n",
    "            reduce.rate += value[idx].rate;\n",
    "            reduce.base += value[idx].base;};\n",
    "        reduce.test = (reduce.rate/reduce.base);\n",
    "        return reduce;};\n",
    "              \"\"\")"
   ]
  },
  {
   "cell_type": "code",
   "execution_count": 50,
   "metadata": {
    "ExecuteTime": {
     "end_time": "2020-02-20T07:44:55.513077Z",
     "start_time": "2020-02-20T07:44:55.509087Z"
    }
   },
   "outputs": [],
   "source": [
    "finalizer = Code(\"\"\"function (key, reducedVal) {\n",
    "    reducedVal.avg = reducedVal.rate/reducedVal.base;\n",
    "    return reducedVal;\n",
    "                    };\"\"\")"
   ]
  },
  {
   "cell_type": "code",
   "execution_count": 51,
   "metadata": {
    "ExecuteTime": {
     "end_time": "2020-02-20T07:45:03.815307Z",
     "start_time": "2020-02-20T07:44:58.097098Z"
    }
   },
   "outputs": [],
   "source": [
    "result = mycol.map_reduce(mapper, reducer, \"test1\")\n"
   ]
  },
  {
   "cell_type": "code",
   "execution_count": 52,
   "metadata": {
    "ExecuteTime": {
     "end_time": "2020-02-20T07:45:06.760861Z",
     "start_time": "2020-02-20T07:45:06.731906Z"
    }
   },
   "outputs": [
    {
     "name": "stdout",
     "output_type": "stream",
     "text": [
      "{'_id': '0132793040', 'value': {'base': 2.0, 'rate': 10.0, 'test': 5.0}}\n",
      "{'_id': 'B00E4KP4W6', 'value': {'rate': 89.0, 'base': 19.0, 'test': 4.684210526315789}}\n",
      "{'_id': 'B00E4KP8VI', 'value': {'base': 1.0, 'rate': 5.0, 'test': 5.0}}\n",
      "{'_id': 'B00E4KPMC8', 'value': {'rate': 12.0, 'base': 6.0, 'test': 2.0}}\n",
      "{'_id': 'B00E4KQ5C4', 'value': {'base': 2.0, 'rate': 10.0, 'test': 5.0}}\n",
      "{'_id': 'B00E4KQ9GG', 'value': {'rate': 59.0, 'base': 16.0, 'test': 3.6875}}\n",
      "{'_id': 'B00E4KQ9K2', 'value': {'rate': 65.0, 'base': 13.0, 'test': 5.0}}\n",
      "{'_id': 'B00E4KQD4E', 'value': {'base': 1.0, 'rate': 4.0, 'test': 4.0}}\n",
      "{'_id': 'B00E4KZBX8', 'value': {'base': 2.0, 'rate': 8.0, 'test': 4.0}}\n",
      "{'_id': 'B00E4KZDJ0', 'value': {'base': 1.0, 'rate': 5.0, 'test': 5.0}}\n"
     ]
    }
   ],
   "source": [
    "myclient = pymongo.MongoClient(\"mongodb://localhost:27017/\")\n",
    "mydb = myclient[\"amazon\"]\n",
    "mycol = mydb[\"test1\"]\n",
    "for i in mycol.find().limit(10):\n",
    "    print(i)"
   ]
  },
  {
   "cell_type": "code",
   "execution_count": null,
   "metadata": {},
   "outputs": [],
   "source": []
  }
 ],
 "metadata": {
  "kernelspec": {
   "display_name": "Python 3",
   "language": "python",
   "name": "python3"
  },
  "language_info": {
   "codemirror_mode": {
    "name": "ipython",
    "version": 3
   },
   "file_extension": ".py",
   "mimetype": "text/x-python",
   "name": "python",
   "nbconvert_exporter": "python",
   "pygments_lexer": "ipython3",
   "version": "3.7.3"
  },
  "toc": {
   "base_numbering": 1,
   "nav_menu": {},
   "number_sections": true,
   "sideBar": true,
   "skip_h1_title": false,
   "title_cell": "Table of Contents",
   "title_sidebar": "Contents",
   "toc_cell": false,
   "toc_position": {},
   "toc_section_display": true,
   "toc_window_display": false
  }
 },
 "nbformat": 4,
 "nbformat_minor": 2
}
