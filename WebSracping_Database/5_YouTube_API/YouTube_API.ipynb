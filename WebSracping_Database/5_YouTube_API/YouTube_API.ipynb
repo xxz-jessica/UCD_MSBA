{
 "cells": [
  {
   "cell_type": "markdown",
   "metadata": {
    "colab_type": "text",
    "id": "l134lPVISZcU"
   },
   "source": [
    "# HW 6.1"
   ]
  },
  {
   "cell_type": "markdown",
   "metadata": {
    "colab_type": "text",
    "id": "kEcnONPJVCGy"
   },
   "source": [
    "In this part, we only need to scrap the video's url, video ID, author, and total views from the trending website. To avoiding the banning of the Youtube, more data will extract by Youtube API after saving all trending page information for 7 days. So, we will run this simple code every day for a week, and this code is an example. We are also working on the API. "
   ]
  },
  {
   "cell_type": "code",
   "execution_count": 1,
   "metadata": {
    "ExecuteTime": {
     "end_time": "2020-03-03T07:50:17.541119Z",
     "start_time": "2020-03-03T07:50:16.708318Z"
    },
    "colab": {},
    "colab_type": "code",
    "id": "NaQ4oXEESJU4"
   },
   "outputs": [],
   "source": [
    "\n",
    "import warnings\n",
    "import requests\n",
    "import json\n",
    "import time\n",
    "import codecs\n",
    "import re\n",
    "from bs4 import BeautifulSoup\n",
    "import pandas as pd"
   ]
  },
  {
   "cell_type": "code",
   "execution_count": 2,
   "metadata": {
    "ExecuteTime": {
     "end_time": "2020-03-03T07:50:19.648443Z",
     "start_time": "2020-03-03T07:50:19.216032Z"
    },
    "colab": {},
    "colab_type": "code",
    "id": "PB9U7nzASY9G"
   },
   "outputs": [],
   "source": [
    "def webcapture(url):\n",
    "    # Scrap the page in url, return Soup object\n",
    "    headers = {\n",
    "   'User-Agent': 'Mozilla/5.0 (Macintosh; Intel Mac OS X 10_12_6) AppleWebKit/537.36 (KHTML, like Gecko) Chrome/79.0.3945.130 Safari/537.36',\n",
    "   }\n",
    "    \n",
    "    data = requests.get(url, headers=headers) \n",
    "    soup = BeautifulSoup(data.text, 'html.parser') \n",
    "    return soup \n",
    "trending_url=\"https://www.youtube.com/feed/trending\"\n",
    "soup=webcapture(trending_url)"
   ]
  },
  {
   "cell_type": "code",
   "execution_count": 4,
   "metadata": {
    "ExecuteTime": {
     "end_time": "2020-03-03T07:50:34.517921Z",
     "start_time": "2020-03-03T07:50:34.475031Z"
    },
    "colab": {},
    "colab_type": "code",
    "id": "2OoZBiA8Smve"
   },
   "outputs": [],
   "source": [
    "#create files\n",
    "with open('trending.hml', \"w\",encoding='utf-8') as file:\n",
    "    file.write(str(soup))\n",
    "    file.close()\n",
    "\n",
    "with open('trending.hml',encoding=\"utf-8\") as page:\n",
    "  #parse as beautifulsoup object\n",
    "  soup=BeautifulSoup(page, 'html.parser')"
   ]
  },
  {
   "cell_type": "code",
   "execution_count": 5,
   "metadata": {
    "ExecuteTime": {
     "end_time": "2020-03-03T07:50:36.109936Z",
     "start_time": "2020-03-03T07:50:36.086965Z"
    },
    "colab": {},
    "colab_type": "code",
    "id": "TuEGs7iwSZCa"
   },
   "outputs": [],
   "source": [
    "# Extract data\n",
    "soup=str(soup)\n",
    "url_list=re.findall('\"url\":\"/watch\\\\?v\\\\=.{12}',soup) \n",
    "views = re.findall('\"shortViewCountText\":{\"simpleText\":\"(.+?) views\"},',soup)\n",
    "author = re.findall('\"ownerText\":{\"runs\":.{\"text\":\"(.+?)\",',soup)\n",
    "video_id = re.findall('\"watchEndpoint\":{\"videoId\":\"(.+?)\"}}',soup)"
   ]
  },
  {
   "cell_type": "code",
   "execution_count": 6,
   "metadata": {
    "ExecuteTime": {
     "end_time": "2020-03-03T07:50:37.735031Z",
     "start_time": "2020-03-03T07:50:37.722066Z"
    },
    "colab": {},
    "colab_type": "code",
    "id": "R4ZDKuW_Su7R"
   },
   "outputs": [],
   "source": [
    "# Edit url into links\n",
    "for i in range(len(url_list)):\n",
    "    url_list[i]=url_list[i].replace('\"url\":\"',\"http://www.youtube.com\").replace('\"','')"
   ]
  },
  {
   "cell_type": "code",
   "execution_count": 7,
   "metadata": {
    "ExecuteTime": {
     "end_time": "2020-03-03T07:50:38.915181Z",
     "start_time": "2020-03-03T07:50:38.906234Z"
    },
    "colab": {},
    "colab_type": "code",
    "id": "UoYK08JASvEo"
   },
   "outputs": [],
   "source": [
    "# Create a zipped list of tuples from above lists\n",
    "zippedList =  list(zip(video_id,author,views,url_list))\n",
    "# Create a dataframe from zipped list\n",
    "trending_df = pd.DataFrame(zippedList, columns = ['video_id' , 'author', 'views','url_list'])"
   ]
  },
  {
   "cell_type": "code",
   "execution_count": 10,
   "metadata": {
    "ExecuteTime": {
     "end_time": "2020-03-03T07:51:34.587586Z",
     "start_time": "2020-03-03T07:51:34.573624Z"
    },
    "colab": {
     "base_uri": "https://localhost:8080/",
     "height": 415
    },
    "colab_type": "code",
    "id": "g09-1ZFCTWpi",
    "outputId": "7945cbc8-d660-4973-cba6-eefbb1c9b66c",
    "scrolled": true
   },
   "outputs": [
    {
     "data": {
      "text/html": [
       "<div>\n",
       "<style scoped>\n",
       "    .dataframe tbody tr th:only-of-type {\n",
       "        vertical-align: middle;\n",
       "    }\n",
       "\n",
       "    .dataframe tbody tr th {\n",
       "        vertical-align: top;\n",
       "    }\n",
       "\n",
       "    .dataframe thead th {\n",
       "        text-align: right;\n",
       "    }\n",
       "</style>\n",
       "<table border=\"1\" class=\"dataframe\">\n",
       "  <thead>\n",
       "    <tr style=\"text-align: right;\">\n",
       "      <th></th>\n",
       "      <th>video_id</th>\n",
       "      <th>author</th>\n",
       "      <th>views</th>\n",
       "      <th>url_list</th>\n",
       "    </tr>\n",
       "  </thead>\n",
       "  <tbody>\n",
       "    <tr>\n",
       "      <th>0</th>\n",
       "      <td>FZV6Hb7-d4E</td>\n",
       "      <td>How Ridiculous</td>\n",
       "      <td>1.1M</td>\n",
       "      <td>http://www.youtube.com/watch?v=FZV6Hb7-d4E</td>\n",
       "    </tr>\n",
       "    <tr>\n",
       "      <th>1</th>\n",
       "      <td>tMKXbLBgkEc</td>\n",
       "      <td>Mark Rober</td>\n",
       "      <td>3.3M</td>\n",
       "      <td>http://www.youtube.com/watch?v=tMKXbLBgkEc</td>\n",
       "    </tr>\n",
       "    <tr>\n",
       "      <th>2</th>\n",
       "      <td>0jz0GAFNNIo</td>\n",
       "      <td>Drake</td>\n",
       "      <td>8.4M</td>\n",
       "      <td>http://www.youtube.com/watch?v=0jz0GAFNNIo</td>\n",
       "    </tr>\n",
       "    <tr>\n",
       "      <th>3</th>\n",
       "      <td>zFjdfWfg--M</td>\n",
       "      <td>Bad Bunny</td>\n",
       "      <td>229K</td>\n",
       "      <td>http://www.youtube.com/watch?v=zFjdfWfg--M</td>\n",
       "    </tr>\n",
       "    <tr>\n",
       "      <th>4</th>\n",
       "      <td>MtK36uCmDtQ</td>\n",
       "      <td>LIL UZI VERT</td>\n",
       "      <td>23K</td>\n",
       "      <td>http://www.youtube.com/watch?v=MtK36uCmDtQ</td>\n",
       "    </tr>\n",
       "    <tr>\n",
       "      <th>5</th>\n",
       "      <td>L9RYLPgNzys</td>\n",
       "      <td>ESPN</td>\n",
       "      <td>10K</td>\n",
       "      <td>http://www.youtube.com/watch?v=L9RYLPgNzys</td>\n",
       "    </tr>\n",
       "    <tr>\n",
       "      <th>6</th>\n",
       "      <td>UyFfFXrp9sc</td>\n",
       "      <td>The Royalty Family</td>\n",
       "      <td>4.6K</td>\n",
       "      <td>http://www.youtube.com/watch?v=UyFfFXrp9sc</td>\n",
       "    </tr>\n",
       "    <tr>\n",
       "      <th>7</th>\n",
       "      <td>JSAvt7xsizU</td>\n",
       "      <td>beIN SPORTS USA</td>\n",
       "      <td>3.9K</td>\n",
       "      <td>http://www.youtube.com/watch?v=JSAvt7xsizU</td>\n",
       "    </tr>\n",
       "    <tr>\n",
       "      <th>8</th>\n",
       "      <td>kKdtU4dnnQY</td>\n",
       "      <td>Breakfast Club Power 105.1 FM</td>\n",
       "      <td>5.1K</td>\n",
       "      <td>http://www.youtube.com/watch?v=kKdtU4dnnQY</td>\n",
       "    </tr>\n",
       "    <tr>\n",
       "      <th>9</th>\n",
       "      <td>CPK_IdHe1Yg</td>\n",
       "      <td>Good Morning America</td>\n",
       "      <td>5.1M</td>\n",
       "      <td>http://www.youtube.com/watch?v=CPK_IdHe1Yg</td>\n",
       "    </tr>\n",
       "  </tbody>\n",
       "</table>\n",
       "</div>"
      ],
      "text/plain": [
       "      video_id                         author views  \\\n",
       "0  FZV6Hb7-d4E                 How Ridiculous  1.1M   \n",
       "1  tMKXbLBgkEc                     Mark Rober  3.3M   \n",
       "2  0jz0GAFNNIo                          Drake  8.4M   \n",
       "3  zFjdfWfg--M                      Bad Bunny  229K   \n",
       "4  MtK36uCmDtQ                   LIL UZI VERT   23K   \n",
       "5  L9RYLPgNzys                           ESPN   10K   \n",
       "6  UyFfFXrp9sc             The Royalty Family  4.6K   \n",
       "7  JSAvt7xsizU                beIN SPORTS USA  3.9K   \n",
       "8  kKdtU4dnnQY  Breakfast Club Power 105.1 FM  5.1K   \n",
       "9  CPK_IdHe1Yg           Good Morning America  5.1M   \n",
       "\n",
       "                                     url_list  \n",
       "0  http://www.youtube.com/watch?v=FZV6Hb7-d4E  \n",
       "1  http://www.youtube.com/watch?v=tMKXbLBgkEc  \n",
       "2  http://www.youtube.com/watch?v=0jz0GAFNNIo  \n",
       "3  http://www.youtube.com/watch?v=zFjdfWfg--M  \n",
       "4  http://www.youtube.com/watch?v=MtK36uCmDtQ  \n",
       "5  http://www.youtube.com/watch?v=L9RYLPgNzys  \n",
       "6  http://www.youtube.com/watch?v=UyFfFXrp9sc  \n",
       "7  http://www.youtube.com/watch?v=JSAvt7xsizU  \n",
       "8  http://www.youtube.com/watch?v=kKdtU4dnnQY  \n",
       "9  http://www.youtube.com/watch?v=CPK_IdHe1Yg  "
      ]
     },
     "execution_count": 10,
     "metadata": {},
     "output_type": "execute_result"
    }
   ],
   "source": [
    "trending_df.head(10)"
   ]
  },
  {
   "cell_type": "code",
   "execution_count": 9,
   "metadata": {
    "ExecuteTime": {
     "end_time": "2020-03-03T07:50:47.118831Z",
     "start_time": "2020-03-03T07:50:47.107861Z"
    },
    "colab": {},
    "colab_type": "code",
    "id": "0uzgGeuLWCpv"
   },
   "outputs": [],
   "source": [
    "# save to csv\n",
    "trending_df.to_csv('trending_mar_2.csv',index=False)"
   ]
  },
  {
   "cell_type": "markdown",
   "metadata": {
    "colab_type": "text",
    "id": "jiH6vvHNR57J"
   },
   "source": [
    "## HW 6.2  \n",
    "This assignment builds upon assignment 5.2.  In the last assignment, you have developed code that reads and uploads part of “reviews_electronics.16.json” to a MongoDB database called “amazon”.\n",
    "\n",
    "a) Augment last week’s code to create a collection called “electronics” in “amazon” that contains each line of “reviews_electronics.16.json” as an individual document.\n",
    "Write code that reads all documents in “electronics”, and prints the first 25 documents to screen.\n",
    "\n",
    "- Please ignore the field “reviewText” for all subsequent questions as it would only eat up space.  Again, “reviewText” does not need to be part of your consideration. "
   ]
  },
  {
   "cell_type": "code",
   "execution_count": 0,
   "metadata": {
    "colab": {},
    "colab_type": "code",
    "id": "7XmYpg0kR57L"
   },
   "outputs": [],
   "source": [
    "import pymongo\n",
    "import json\n",
    "import pprint"
   ]
  },
  {
   "cell_type": "markdown",
   "metadata": {
    "colab_type": "text",
    "id": "xo6T5EZQR57O"
   },
   "source": [
    "***Step 1: Connect to MongoDB, create the DB & collection***"
   ]
  },
  {
   "cell_type": "code",
   "execution_count": 0,
   "metadata": {
    "colab": {},
    "colab_type": "code",
    "id": "Yo_4IBgzR57P",
    "outputId": "f3d6db2a-d80d-47ab-d41e-482b9dbe9913"
   },
   "outputs": [
    {
     "name": "stdout",
     "output_type": "stream",
     "text": [
      "database created\n"
     ]
    }
   ],
   "source": [
    "# connect to mongoDB\n",
    "client = pymongo.MongoClient()\n",
    "# create the database\n",
    "db_name = \"amazon\"\n",
    "if db_name not in client.list_database_names():\n",
    "    db = client[db_name]\n",
    "    print(\"database created\")\n",
    "else:\n",
    "    print(\"database exist\")\n",
    "    drop = input(\"Drop the database? Y/N\") \n",
    "    if drop == \"Y\":\n",
    "        client.drop_database(db_name) "
   ]
  },
  {
   "cell_type": "code",
   "execution_count": 0,
   "metadata": {
    "colab": {},
    "colab_type": "code",
    "id": "-w5HJqs3R57S"
   },
   "outputs": [],
   "source": [
    "# create the collection\n",
    "collection = db[\"electronics\"]"
   ]
  },
  {
   "cell_type": "markdown",
   "metadata": {
    "colab_type": "text",
    "id": "_MtXcxGVR57V"
   },
   "source": [
    "***Step 2: Import Json file to the collection***"
   ]
  },
  {
   "cell_type": "code",
   "execution_count": 0,
   "metadata": {
    "colab": {},
    "colab_type": "code",
    "collapsed": true,
    "id": "mJ3t-wYRR57V",
    "outputId": "4abaccd4-bde9-4f69-8bf8-ae02ec4bf6d1"
   },
   "outputs": [
    {
     "data": {
      "text/plain": [
       "[{'reviewerID': 'AKM1MP6P0OYPR',\n",
       "  'asin': '0132793040',\n",
       "  'reviewerName': 'Vicki Gibson \"momo4\"',\n",
       "  'helpful': [1, 1],\n",
       "  'reviewText': 'Corey Barker does a great job of explaining Blend Modes in this DVD. All of the Kelby training videos are great but pricey to buy individually. If you really want bang for your buck just subscribe to Kelby Training online.',\n",
       "  'overall': 5.0,\n",
       "  'summary': 'Very thorough',\n",
       "  'unixReviewTime': 1365811200,\n",
       "  'reviewTime': '04 13, 2013'},\n",
       " {'reviewerID': 'A2X8VX4DPMQFQQ',\n",
       "  'asin': 'B00E4KP4W6',\n",
       "  'reviewerName': 'lily68',\n",
       "  'helpful': [1, 1],\n",
       "  'reviewText': \"I can't believe I waited to long to switch to a glass screen protector.  I love this.  It feels and looks like there is no protector on.  It does show fingerprints, which I think is inevitable unless you use a matte finish screen protector, but they wipe right away. I would definitely recommend this! Easier to apply than the films too!\",\n",
       "  'overall': 5.0,\n",
       "  'summary': 'LOVE this screen protector!!',\n",
       "  'unixReviewTime': 1393459200,\n",
       "  'reviewTime': '02 27, 2014'},\n",
       " {'reviewerID': 'A1JEKX4D58576X',\n",
       "  'asin': 'B00E4KP4W6',\n",
       "  'reviewerName': 'Mara Milagros',\n",
       "  'helpful': [2, 2],\n",
       "  'reviewText': 'presentation of product is beautiful, everything is perfect! And my iPad screen seems to be really protected. I recommend it.',\n",
       "  'overall': 5.0,\n",
       "  'summary': 'excellent',\n",
       "  'unixReviewTime': 1394496000,\n",
       "  'reviewTime': '03 11, 2014'},\n",
       " {'reviewerID': 'ATM6RRB90D8DV',\n",
       "  'asin': 'B00E4KP4W6',\n",
       "  'reviewerName': 'Matthew D. Irmen \"Jazz Fan\"',\n",
       "  'helpful': [1, 2],\n",
       "  'reviewText': \"I bought this screen protector because I was unimpressed with the Otterbox Defender attached screen protector. If I have a retina display iPad, I want it to look like it has retina display, not a hazy iPad 2. So... I started researching and came across this tempered glass screen protector with promises of easy installation and beautiful retina quality display. I have to admit that I am very impressed with the picture quality and the ease of installation. Best of all, I was able to tear out the plastic screen protector from my Otterbox defender case and use the case without issue. So why did I give it 4 stars? Because of the home button sticker! The sticker is a lame plastic blob that sits on the home button and looks ugly. I thought little of it because I would bury it under the frame of the Otterbox case. Unfortunately it causes slight problems with the use of the home button. If I press for slightly too long (a second) it activates siri. Believe me it's not the end of the world and I love how the screen looks it's just a minor issue that justifies 4 stars.\",\n",
       "  'overall': 4.0,\n",
       "  'summary': 'Nice looking, easy to install glass screen protector that works beautifully with the Otterbox Defender.',\n",
       "  'unixReviewTime': 1393891200,\n",
       "  'reviewTime': '03 4, 2014'},\n",
       " {'reviewerID': 'A3QOYJ97A6OMX7',\n",
       "  'asin': 'B00E4KP4W6',\n",
       "  'reviewerName': 'pharmdaddyd',\n",
       "  'helpful': [1, 1],\n",
       "  'reviewText': 'this is a great screen protector for the price, not as expensive as others and just as good as name brands',\n",
       "  'overall': 5.0,\n",
       "  'summary': 'great for the price',\n",
       "  'unixReviewTime': 1388361600,\n",
       "  'reviewTime': '12 30, 2013'},\n",
       " {'reviewerID': 'AWO84NZ6VDYR2',\n",
       "  'asin': 'B00E4KP4W6',\n",
       "  'reviewerName': 'shalane rogillio',\n",
       "  'helpful': [0, 0],\n",
       "  'reviewText': 'I ordered two of these &#34;shatter proof&#34; protector for iPad s.  One arrived broken. Amazon refunded and ordered another one just like it.  Using the flat plastic tool to push bubbles out, the edge of this chipped.  This is definitely not up breakable and when it does break it is in big shards.  So from the 3 I have touched, only one is perfect.',\n",
       "  'overall': 1.0,\n",
       "  'summary': 'Not happy with this, would not recommend',\n",
       "  'unixReviewTime': 1404777600,\n",
       "  'reviewTime': '07 8, 2014'},\n",
       " {'reviewerID': 'A15ZEBTKX72NPB',\n",
       "  'asin': 'B00E4KP4W6',\n",
       "  'reviewerName': 'S. Marcus \"pdtpoet\"',\n",
       "  'helpful': [1, 2],\n",
       "  'reviewText': \"For some reasons, the clear film screens that other people like have short lives on my devices...they begin to curl or bubble or peel within a week or 2 of application, and look terrible.  The only film screen that stayed on my ipad blurred my view of the screen a little bit, which was a constant annoyance.  Putting a tempered glass screen on my iphone 5 solved all those problems so well that I replaced the plastic screen on my iPad 2 with this WOPUTUO tempered glass screen protector.  Application was easy and there were no bubbles in the viewing area at all!  The screen is wonderfully clear so I can finally see the full resolution of the iPad screen.  I'm only sorry I did not use the tempered glass screen when I first bought my iPad!\",\n",
       "  'overall': 5.0,\n",
       "  'summary': 'Far better than film screens for iPhone or iPad!',\n",
       "  'unixReviewTime': 1392249600,\n",
       "  'reviewTime': '02 13, 2014'},\n",
       " {'reviewerID': 'A2ZI014DO0LWEW',\n",
       "  'asin': 'B00E4KP4W6',\n",
       "  'reviewerName': 'SueinCa',\n",
       "  'helpful': [0, 0],\n",
       "  'reviewText': 'This was just what the doctor ordered for my broken screen and i could not afford replacement and this is next best thing and perfect.',\n",
       "  'overall': 5.0,\n",
       "  'summary': 'Right On',\n",
       "  'unixReviewTime': 1397174400,\n",
       "  'reviewTime': '04 11, 2014'},\n",
       " {'reviewerID': 'A3IN9CE5GG8VKR',\n",
       "  'asin': 'B00E4KP4W6',\n",
       "  'reviewerName': 'Tess Brown',\n",
       "  'helpful': [0, 0],\n",
       "  'reviewText': 'This is the best screen protector.  Very smooth feel! Looks incredible. Takes a little skill to put on but no air bubbles at all!',\n",
       "  'overall': 5.0,\n",
       "  'summary': 'Tempered Glass Screen Protector',\n",
       "  'unixReviewTime': 1399593600,\n",
       "  'reviewTime': '05 9, 2014'},\n",
       " {'reviewerID': 'A1U9ZR7HQ5EZ6L',\n",
       "  'asin': 'B00E4KP4W6',\n",
       "  'reviewerName': 'Thinker623',\n",
       "  'helpful': [1, 1],\n",
       "  'reviewText': 'Great glass cover for IPad.  I had been using ones that are top screen protector made of plastic.  I dropped my IpadAnd had a dent in protector.  I heard about these tempered glass protectors from my son.  They priced at $60.  This one was much cheaper and works great.  Cannot believe the quality difference between glass and the plastic.',\n",
       "  'overall': 5.0,\n",
       "  'summary': 'Great glass cover for IPad.',\n",
       "  'unixReviewTime': 1391126400,\n",
       "  'reviewTime': '01 31, 2014'}]"
      ]
     },
     "execution_count": 5,
     "metadata": {
      "tags": []
     },
     "output_type": "execute_result"
    }
   ],
   "source": [
    "# read Json file by line into a list\n",
    "file_data = []\n",
    "with open('reviews_electronics.16.json', 'r', encoding=\"UTF-8\") as f:\n",
    "    for line in f:\n",
    "        file_data.append(json.loads(line))\n",
    "file_data[:10]"
   ]
  },
  {
   "cell_type": "code",
   "execution_count": 0,
   "metadata": {
    "colab": {},
    "colab_type": "code",
    "id": "Dv4MuCwYR57a",
    "outputId": "1b61e4dc-9063-4c61-c7bf-709390614b57"
   },
   "outputs": [
    {
     "name": "stdout",
     "output_type": "stream",
     "text": [
      "There are 324546 number of reviews \n"
     ]
    }
   ],
   "source": [
    "# insert documents into Mongo DB\n",
    "collection.insert_many(file_data)\n",
    "print(\"There are {} number of reviews \".format(collection.count_documents({})))"
   ]
  },
  {
   "cell_type": "markdown",
   "metadata": {
    "colab_type": "text",
    "id": "JAIzN_naR57d"
   },
   "source": [
    "***Step 3: Reads all documents in “electronics” & prints the first 25 documents***"
   ]
  },
  {
   "cell_type": "code",
   "execution_count": 0,
   "metadata": {
    "colab": {},
    "colab_type": "code",
    "id": "YdWPc8JlR57e",
    "outputId": "abc011fd-a9c7-4f88-9e03-62b1fe1ca342"
   },
   "outputs": [
    {
     "name": "stdout",
     "output_type": "stream",
     "text": [
      "{'_id': ObjectId('5e5de768e9e2b9b2ef053ca9'),\n",
      " 'asin': '0132793040',\n",
      " 'helpful': [1, 1],\n",
      " 'overall': 5.0,\n",
      " 'reviewText': 'Corey Barker does a great job of explaining Blend Modes in '\n",
      "               'this DVD. All of the Kelby training videos are great but '\n",
      "               'pricey to buy individually. If you really want bang for your '\n",
      "               'buck just subscribe to Kelby Training online.',\n",
      " 'reviewTime': '04 13, 2013',\n",
      " 'reviewerID': 'AKM1MP6P0OYPR',\n",
      " 'reviewerName': 'Vicki Gibson \"momo4\"',\n",
      " 'summary': 'Very thorough',\n",
      " 'unixReviewTime': 1365811200}\n",
      "{'_id': ObjectId('5e5de768e9e2b9b2ef053caa'),\n",
      " 'asin': 'B00E4KP4W6',\n",
      " 'helpful': [1, 1],\n",
      " 'overall': 5.0,\n",
      " 'reviewText': \"I can't believe I waited to long to switch to a glass screen \"\n",
      "               'protector.  I love this.  It feels and looks like there is no '\n",
      "               'protector on.  It does show fingerprints, which I think is '\n",
      "               'inevitable unless you use a matte finish screen protector, but '\n",
      "               'they wipe right away. I would definitely recommend this! '\n",
      "               'Easier to apply than the films too!',\n",
      " 'reviewTime': '02 27, 2014',\n",
      " 'reviewerID': 'A2X8VX4DPMQFQQ',\n",
      " 'reviewerName': 'lily68',\n",
      " 'summary': 'LOVE this screen protector!!',\n",
      " 'unixReviewTime': 1393459200}\n",
      "{'_id': ObjectId('5e5de768e9e2b9b2ef053cab'),\n",
      " 'asin': 'B00E4KP4W6',\n",
      " 'helpful': [2, 2],\n",
      " 'overall': 5.0,\n",
      " 'reviewText': 'presentation of product is beautiful, everything is perfect! '\n",
      "               'And my iPad screen seems to be really protected. I recommend '\n",
      "               'it.',\n",
      " 'reviewTime': '03 11, 2014',\n",
      " 'reviewerID': 'A1JEKX4D58576X',\n",
      " 'reviewerName': 'Mara Milagros',\n",
      " 'summary': 'excellent',\n",
      " 'unixReviewTime': 1394496000}\n",
      "{'_id': ObjectId('5e5de768e9e2b9b2ef053cac'),\n",
      " 'asin': 'B00E4KP4W6',\n",
      " 'helpful': [1, 2],\n",
      " 'overall': 4.0,\n",
      " 'reviewText': 'I bought this screen protector because I was unimpressed with '\n",
      "               'the Otterbox Defender attached screen protector. If I have a '\n",
      "               'retina display iPad, I want it to look like it has retina '\n",
      "               'display, not a hazy iPad 2. So... I started researching and '\n",
      "               'came across this tempered glass screen protector with promises '\n",
      "               'of easy installation and beautiful retina quality display. I '\n",
      "               'have to admit that I am very impressed with the picture '\n",
      "               'quality and the ease of installation. Best of all, I was able '\n",
      "               'to tear out the plastic screen protector from my Otterbox '\n",
      "               'defender case and use the case without issue. So why did I '\n",
      "               'give it 4 stars? Because of the home button sticker! The '\n",
      "               'sticker is a lame plastic blob that sits on the home button '\n",
      "               'and looks ugly. I thought little of it because I would bury it '\n",
      "               'under the frame of the Otterbox case. Unfortunately it causes '\n",
      "               'slight problems with the use of the home button. If I press '\n",
      "               'for slightly too long (a second) it activates siri. Believe me '\n",
      "               \"it's not the end of the world and I love how the screen looks \"\n",
      "               \"it's just a minor issue that justifies 4 stars.\",\n",
      " 'reviewTime': '03 4, 2014',\n",
      " 'reviewerID': 'ATM6RRB90D8DV',\n",
      " 'reviewerName': 'Matthew D. Irmen \"Jazz Fan\"',\n",
      " 'summary': 'Nice looking, easy to install glass screen protector that works '\n",
      "            'beautifully with the Otterbox Defender.',\n",
      " 'unixReviewTime': 1393891200}\n",
      "{'_id': ObjectId('5e5de768e9e2b9b2ef053cad'),\n",
      " 'asin': 'B00E4KP4W6',\n",
      " 'helpful': [1, 1],\n",
      " 'overall': 5.0,\n",
      " 'reviewText': 'this is a great screen protector for the price, not as '\n",
      "               'expensive as others and just as good as name brands',\n",
      " 'reviewTime': '12 30, 2013',\n",
      " 'reviewerID': 'A3QOYJ97A6OMX7',\n",
      " 'reviewerName': 'pharmdaddyd',\n",
      " 'summary': 'great for the price',\n",
      " 'unixReviewTime': 1388361600}\n",
      "{'_id': ObjectId('5e5de768e9e2b9b2ef053cae'),\n",
      " 'asin': 'B00E4KP4W6',\n",
      " 'helpful': [0, 0],\n",
      " 'overall': 1.0,\n",
      " 'reviewText': 'I ordered two of these &#34;shatter proof&#34; protector for '\n",
      "               'iPad s.  One arrived broken. Amazon refunded and ordered '\n",
      "               'another one just like it.  Using the flat plastic tool to push '\n",
      "               'bubbles out, the edge of this chipped.  This is definitely not '\n",
      "               'up breakable and when it does break it is in big shards.  So '\n",
      "               'from the 3 I have touched, only one is perfect.',\n",
      " 'reviewTime': '07 8, 2014',\n",
      " 'reviewerID': 'AWO84NZ6VDYR2',\n",
      " 'reviewerName': 'shalane rogillio',\n",
      " 'summary': 'Not happy with this, would not recommend',\n",
      " 'unixReviewTime': 1404777600}\n",
      "{'_id': ObjectId('5e5de768e9e2b9b2ef053caf'),\n",
      " 'asin': 'B00E4KP4W6',\n",
      " 'helpful': [1, 2],\n",
      " 'overall': 5.0,\n",
      " 'reviewText': 'For some reasons, the clear film screens that other people '\n",
      "               'like have short lives on my devices...they begin to curl or '\n",
      "               'bubble or peel within a week or 2 of application, and look '\n",
      "               'terrible.  The only film screen that stayed on my ipad blurred '\n",
      "               'my view of the screen a little bit, which was a constant '\n",
      "               'annoyance.  Putting a tempered glass screen on my iphone 5 '\n",
      "               'solved all those problems so well that I replaced the plastic '\n",
      "               'screen on my iPad 2 with this WOPUTUO tempered glass screen '\n",
      "               'protector.  Application was easy and there were no bubbles in '\n",
      "               'the viewing area at all!  The screen is wonderfully clear so I '\n",
      "               \"can finally see the full resolution of the iPad screen.  I'm \"\n",
      "               'only sorry I did not use the tempered glass screen when I '\n",
      "               'first bought my iPad!',\n",
      " 'reviewTime': '02 13, 2014',\n",
      " 'reviewerID': 'A15ZEBTKX72NPB',\n",
      " 'reviewerName': 'S. Marcus \"pdtpoet\"',\n",
      " 'summary': 'Far better than film screens for iPhone or iPad!',\n",
      " 'unixReviewTime': 1392249600}\n",
      "{'_id': ObjectId('5e5de768e9e2b9b2ef053cb0'),\n",
      " 'asin': 'B00E4KP4W6',\n",
      " 'helpful': [0, 0],\n",
      " 'overall': 5.0,\n",
      " 'reviewText': 'This was just what the doctor ordered for my broken screen and '\n",
      "               'i could not afford replacement and this is next best thing and '\n",
      "               'perfect.',\n",
      " 'reviewTime': '04 11, 2014',\n",
      " 'reviewerID': 'A2ZI014DO0LWEW',\n",
      " 'reviewerName': 'SueinCa',\n",
      " 'summary': 'Right On',\n",
      " 'unixReviewTime': 1397174400}\n",
      "{'_id': ObjectId('5e5de768e9e2b9b2ef053cb1'),\n",
      " 'asin': 'B00E4KP4W6',\n",
      " 'helpful': [0, 0],\n",
      " 'overall': 5.0,\n",
      " 'reviewText': 'This is the best screen protector.  Very smooth feel! Looks '\n",
      "               'incredible. Takes a little skill to put on but no air bubbles '\n",
      "               'at all!',\n",
      " 'reviewTime': '05 9, 2014',\n",
      " 'reviewerID': 'A3IN9CE5GG8VKR',\n",
      " 'reviewerName': 'Tess Brown',\n",
      " 'summary': 'Tempered Glass Screen Protector',\n",
      " 'unixReviewTime': 1399593600}\n",
      "{'_id': ObjectId('5e5de768e9e2b9b2ef053cb2'),\n",
      " 'asin': 'B00E4KP4W6',\n",
      " 'helpful': [1, 1],\n",
      " 'overall': 5.0,\n",
      " 'reviewText': 'Great glass cover for IPad.  I had been using ones that are '\n",
      "               'top screen protector made of plastic.  I dropped my IpadAnd '\n",
      "               'had a dent in protector.  I heard about these tempered glass '\n",
      "               'protectors from my son.  They priced at $60.  This one was '\n",
      "               'much cheaper and works great.  Cannot believe the quality '\n",
      "               'difference between glass and the plastic.',\n",
      " 'reviewTime': '01 31, 2014',\n",
      " 'reviewerID': 'A1U9ZR7HQ5EZ6L',\n",
      " 'reviewerName': 'Thinker623',\n",
      " 'summary': 'Great glass cover for IPad.',\n",
      " 'unixReviewTime': 1391126400}\n",
      "{'_id': ObjectId('5e5de768e9e2b9b2ef053cb3'),\n",
      " 'asin': 'B00E4KP4W6',\n",
      " 'helpful': [0, 0],\n",
      " 'overall': 5.0,\n",
      " 'reviewText': 'Glass screen protectors are a drastic improvement over plastic '\n",
      "               'film protectors.  The glass fits perfectly without any '\n",
      "               'bubbles.  This kit came with wipes and a cleaning cloth.  It '\n",
      "               'helps to dab the ipad with a piece of masking tape to pick up '\n",
      "               'any remaining dust before the glass goes on.',\n",
      " 'reviewTime': '05 7, 2014',\n",
      " 'reviewerID': 'A2DFGG75NH91H2',\n",
      " 'reviewerName': 'Thuddds',\n",
      " 'summary': 'Excellent',\n",
      " 'unixReviewTime': 1399420800}\n",
      "{'_id': ObjectId('5e5de768e9e2b9b2ef053cb4'),\n",
      " 'asin': 'B00E4KP4W6',\n",
      " 'helpful': [1, 1],\n",
      " 'overall': 5.0,\n",
      " 'reviewText': 'Easy application and clear as glass, one step. Received '\n",
      "               'product very promptly with no complications. Very please with '\n",
      "               'my purchase',\n",
      " 'reviewTime': '11 24, 2013',\n",
      " 'reviewerID': 'ADTAGIHSU42HH',\n",
      " 'reviewerName': 'Wvmtnivy',\n",
      " 'summary': 'Nice screen protector',\n",
      " 'unixReviewTime': 1385251200}\n",
      "{'_id': ObjectId('5e5de768e9e2b9b2ef053cb5'),\n",
      " 'asin': 'B00E4KP8VI',\n",
      " 'helpful': [0, 0],\n",
      " 'overall': 5.0,\n",
      " 'reviewText': 'Bought these even though I was skeptical. They ended up being '\n",
      "               \"very awesome. They're somewhat large, so they'll fit big heads \"\n",
      "               'or over glasses well. They sound clear, the mic works well and '\n",
      "               \"that it's short is a plus. They feel cheap/flimsy at first, \"\n",
      "               'but have been holding up well. Definitely would buy again!',\n",
      " 'reviewTime': '09 13, 2013',\n",
      " 'reviewerID': 'A2QXOUHUL5CDT5',\n",
      " 'reviewerName': 'Cassi Olsen',\n",
      " 'summary': 'Great headset for cheap.',\n",
      " 'unixReviewTime': 1379030400}\n",
      "{'_id': ObjectId('5e5de768e9e2b9b2ef053cb6'),\n",
      " 'asin': 'B00E4KPMC8',\n",
      " 'helpful': [1, 1],\n",
      " 'overall': 2.0,\n",
      " 'reviewText': 'Despite what the specifications say this camera will only tilt '\n",
      "               'about 75 degrees which means it will not look horizontal.  If '\n",
      "               'you have in mind looking out across an open area outdoors be '\n",
      "               'prepared to mount it sky high because it will always look '\n",
      "               'downward.  The camera appears to be a Foscam fi8919w clone.  '\n",
      "               'It looks like and responds to all the same command syntax.The '\n",
      "               'camera works well electronically.  I had no problem using the '\n",
      "               'ActiveX mode in Windows 7 and Internet Explorer 11.  The '\n",
      "               'software that comes with this camera was written for Windows '\n",
      "               'XP and requires some compatibility tinkering to run in Win7.  '\n",
      "               \"It wasn't stellar when it was written and now it is years out \"\n",
      "               'of date.  On the plus side, the built in wifi works very well '\n",
      "               'as mine is a long way from the AP and works without issue.Like '\n",
      "               'a lot of these cameras it was not focused well from the '\n",
      "               'factory which required me to disassemble the lens cover and '\n",
      "               'twist the focus ring.  In so doing I observed there are no '\n",
      "               'rubber seals or very much weatherproofing at all.  The bracket '\n",
      "               'is nice metal and the electronics seem fine but I suspect I '\n",
      "               'will have water and fogging problems with my outside '\n",
      "               'installation.As the old saying goes, you get what you pay '\n",
      "               'for.  This camera might be a good choice to mount under a '\n",
      "               'porch and watch your front door but in general is not what I '\n",
      "               'would call high quality.',\n",
      " 'reviewTime': '02 27, 2014',\n",
      " 'reviewerID': 'A1YQI2Y7DRYFZL',\n",
      " 'reviewerName': 'HBP',\n",
      " 'summary': 'Will not tilt horizontal',\n",
      " 'unixReviewTime': 1393459200}\n",
      "{'_id': ObjectId('5e5de768e9e2b9b2ef053cb7'),\n",
      " 'asin': 'B00E4KPMC8',\n",
      " 'helpful': [1, 1],\n",
      " 'overall': 3.0,\n",
      " 'reviewText': 'During the day this cam had a decent picture. The wireless '\n",
      "               'seems to work a little better than on other models. My problem '\n",
      "               'was the range of the LED lighting at night. I have a 50 foot '\n",
      "               'driveway and unfortunately this had a ranges of about a third '\n",
      "               'of the distance. This would be a good cam for on a porch to '\n",
      "               'see who is at your door and do well at night.',\n",
      " 'reviewTime': '02 22, 2014',\n",
      " 'reviewerID': 'AWFP70TL8BF43',\n",
      " 'reviewerName': 'PJ \"Peter\"',\n",
      " 'summary': 'Not what I needed',\n",
      " 'unixReviewTime': 1393027200}\n",
      "{'_id': ObjectId('5e5de768e9e2b9b2ef053cb8'),\n",
      " 'asin': 'B00E4KPMC8',\n",
      " 'helpful': [1, 1],\n",
      " 'overall': 1.0,\n",
      " 'reviewText': 'The EasyN F-series Camera does not support Windows 7 or '\n",
      "               'Windows 8 OS.  Limited to no customer service for support or '\n",
      "               'return purposes.  Unless you speak and/or understand Mandarin '\n",
      "               'or Cantanese, purchase another system.',\n",
      " 'reviewTime': '02 17, 2014',\n",
      " 'reviewerID': 'A1T7SJ8JMCIIZ8',\n",
      " 'reviewerName': 'Tracey Wesolowski',\n",
      " 'summary': 'DO NOT PURCHASE!',\n",
      " 'unixReviewTime': 1392595200}\n",
      "{'_id': ObjectId('5e5de768e9e2b9b2ef053cb9'),\n",
      " 'asin': 'B00E4KQ5C4',\n",
      " 'helpful': [1, 1],\n",
      " 'overall': 5.0,\n",
      " 'reviewText': \"These may seem like they're gonna be crap for the low price \"\n",
      "               'but just hear me out! These sound amazing, the mic records in '\n",
      "               'HD quality for recording, the earphones... are actually noise '\n",
      "               \"cancelling! The price is amazing! The fact that it's so low \"\n",
      "               'astonishes me! All around, your not making a mistake for '\n",
      "               'buying these!',\n",
      " 'reviewTime': '01 3, 2014',\n",
      " 'reviewerID': 'A2QO3GRUYBVDX5',\n",
      " 'reviewerName': 'Alexander Cornwell',\n",
      " 'summary': 'How?',\n",
      " 'unixReviewTime': 1388707200}\n",
      "{'_id': ObjectId('5e5de768e9e2b9b2ef053cba'),\n",
      " 'asin': 'B00E4KQ9GG',\n",
      " 'helpful': [1, 1],\n",
      " 'overall': 4.0,\n",
      " 'reviewText': 'I wasnt sure at first if I liked it, but after I figured out '\n",
      "               'how to use the stand, I really like it.Pros: a tight fit '\n",
      "               'without those corner elastic bands. Nice and snugHas a nice '\n",
      "               'stand, so you can use it in an upright positionHas protective '\n",
      "               'inside so when you close your case, it doesnt scratch the '\n",
      "               'screencon:  Only one. When you slide the tab into one of the '\n",
      "               'grooves so you can use it in an upright position, it slides '\n",
      "               'out veryEasily. I am hoping that they make that groove a '\n",
      "               'little deeper the next time',\n",
      " 'reviewTime': '01 29, 2014',\n",
      " 'reviewerID': 'AQ1VEA1RAXMJM',\n",
      " 'reviewerName': 'Amazon Customer \"Annette\"',\n",
      " 'summary': 'nice fitting case for the samsung galaxy tab 3',\n",
      " 'unixReviewTime': 1390953600}\n",
      "{'_id': ObjectId('5e5de768e9e2b9b2ef053cbb'),\n",
      " 'asin': 'B00E4KQ9GG',\n",
      " 'helpful': [4, 4],\n",
      " 'overall': 5.0,\n",
      " 'reviewText': 'This is a great case. It has a smooth luxurious feel. My 8 '\n",
      "               'inch Samsung tablet fits snugly in the hardshell back. I '\n",
      "               'especially like the clip that locks it closed. Very sturdily '\n",
      "               'built and worth the money. I have always had good service from '\n",
      "               'Speck cases and it looks like this one will be no exception. I '\n",
      "               'would reccomend',\n",
      " 'reviewTime': '11 23, 2013',\n",
      " 'reviewerID': 'A28YUFBI33QZ28',\n",
      " 'reviewerName': 'Amazon Customer',\n",
      " 'summary': 'Top notch case !',\n",
      " 'unixReviewTime': 1385164800}\n",
      "{'_id': ObjectId('5e5de768e9e2b9b2ef053cbc'),\n",
      " 'asin': 'B00E4KQ9GG',\n",
      " 'helpful': [1, 1],\n",
      " 'overall': 3.0,\n",
      " 'reviewText': 'Lightweight and thin.  But the tablet does not fit the best at '\n",
      "               'the corners.  If you consistently remove the tablet from its '\n",
      "               'case, corner fit helps in that.  However, the side to side fit '\n",
      "               'is completely secure. When need a replacement,  will likely '\n",
      "               'get this product again.',\n",
      " 'reviewTime': '05 18, 2014',\n",
      " 'reviewerID': 'A1EN2PR6V7F87Z',\n",
      " 'reviewerName': 'Anne',\n",
      " 'summary': 'thin but not the best fit',\n",
      " 'unixReviewTime': 1400371200}\n",
      "{'_id': ObjectId('5e5de768e9e2b9b2ef053cbd'),\n",
      " 'asin': 'B00E4KQ9GG',\n",
      " 'helpful': [0, 1],\n",
      " 'overall': 2.0,\n",
      " 'reviewText': 'Ordered this thining it would be a perfect fit being this is '\n",
      "               'speck and all.  Unfortunately it didnt live up to my '\n",
      "               'expectations.  The fit was unacceptable,  there were gaps all '\n",
      "               'over.  Also my other cheap $15 case has the screen sleep and '\n",
      "               \"wake up function which the speck doesn't have.  I would have \"\n",
      "               'expected more ay this price range.',\n",
      " 'reviewTime': '01 13, 2014',\n",
      " 'reviewerID': 'A1Y109DY2NSQYP',\n",
      " 'reviewerName': 'Barry Palacios',\n",
      " 'summary': 'not worth the money!',\n",
      " 'unixReviewTime': 1389571200}\n",
      "{'_id': ObjectId('5e5de768e9e2b9b2ef053cbe'),\n",
      " 'asin': 'B00E4KQ9GG',\n",
      " 'helpful': [1, 1],\n",
      " 'overall': 5.0,\n",
      " 'reviewText': 'Recieved exact product as specified, no defects, product '\n",
      "               'recieved within a week. The case is very durable, hold tablet '\n",
      "               'in various positions.  Elegant design with the leather '\n",
      "               'exterior. Top product',\n",
      " 'reviewTime': '03 18, 2014',\n",
      " 'reviewerID': 'A1W8TUEAXHF1H9',\n",
      " 'reviewerName': 'Carlos Seer',\n",
      " 'summary': 'excelent case',\n",
      " 'unixReviewTime': 1395100800}\n",
      "{'_id': ObjectId('5e5de768e9e2b9b2ef053cbf'),\n",
      " 'asin': 'B00E4KQ9GG',\n",
      " 'helpful': [1, 1],\n",
      " 'overall': 3.0,\n",
      " 'reviewText': 'i chose to buy this case because it cost more and I knew the '\n",
      "               'reputation of Speck as being TOPs, however, the one I bought '\n",
      "               'did not fit properly, perhaps because the Tab3 8&#34; is new '\n",
      "               'they have not perfected its fit.  My tabled kept snapping '\n",
      "               \"off.  It felt as if it didn't fit properly. I had to return \"\n",
      "               'it.',\n",
      " 'reviewTime': '01 8, 2014',\n",
      " 'reviewerID': 'A2U0VQAQHEFB1Y',\n",
      " 'reviewerName': 'DaddyO',\n",
      " 'summary': 'Beautiful design, good quality...but',\n",
      " 'unixReviewTime': 1389139200}\n",
      "{'_id': ObjectId('5e5de768e9e2b9b2ef053cc0'),\n",
      " 'asin': 'B00E4KQ9GG',\n",
      " 'helpful': [1, 2],\n",
      " 'overall': 1.0,\n",
      " 'reviewText': 'I was so excited to get this case...too bad it doesnt fit. The '\n",
      "               'top and bottom both have a significant gap between the tab and '\n",
      "               'the case. It ruined my screen protector and is really hard to '\n",
      "               'get in and out.I will be sending it back.',\n",
      " 'reviewTime': '12 25, 2013',\n",
      " 'reviewerID': 'A17970XJG2BYIA',\n",
      " 'reviewerName': 'Linzee1998',\n",
      " 'summary': 'Doesnt fit!',\n",
      " 'unixReviewTime': 1387929600}\n",
      "{'_id': ObjectId('5e5de768e9e2b9b2ef053cc1'),\n",
      " 'asin': 'B00E4KQ9K2',\n",
      " 'helpful': [0, 0],\n",
      " 'overall': 5.0,\n",
      " 'reviewText': 'Very satisfied with it, blue is bright but not over, perfect '\n",
      "               'fit and easy to use..my samsung s4 is much safer now..',\n",
      " 'reviewTime': '03 24, 2014',\n",
      " 'reviewerID': 'A6EAQI9PSIFP5',\n",
      " 'reviewerName': 'Amazon Customer',\n",
      " 'summary': 'great',\n",
      " 'unixReviewTime': 1395619200}\n"
     ]
    }
   ],
   "source": [
    "# read all docs\n",
    "all_documents = db.electronics.find({})\n",
    "# print the first 25 docs\n",
    "for document in all_documents.limit(25): \n",
    "    pprint.pprint(document)"
   ]
  },
  {
   "cell_type": "markdown",
   "metadata": {
    "colab_type": "text",
    "id": "srKGshH2R57g"
   },
   "source": [
    "b) Using Python or Java: Create a SQL database named “amazon_SQL”, In this database, create a SQL table named “electronics_SQL” that can hold each document from “electronics”.  Please chose your data types wisely.\n",
    "\n",
    "Develop code (in Python or Java) that (1) reads all documents from “electronics” in MongoDB, and (2) writes that content to “electronics_SQL” in SQL. Print the first 25 documents to the screen. "
   ]
  },
  {
   "cell_type": "code",
   "execution_count": 0,
   "metadata": {
    "colab": {},
    "colab_type": "code",
    "id": "4tWaM86mR57h"
   },
   "outputs": [],
   "source": [
    "import mysql.connector\n",
    "import re\n",
    "import prettytable"
   ]
  },
  {
   "cell_type": "code",
   "execution_count": 0,
   "metadata": {
    "colab": {},
    "colab_type": "code",
    "id": "XBSEk2JfR57m"
   },
   "outputs": [],
   "source": [
    "DB_CONN = mysql.connector.connect(host='localhost',\n",
    "                                  user='root',\n",
    "                                  password='123456qwerty',\n",
    "                                  port=3306,\n",
    "                                  auth_plugin='mysql_native_password')\n",
    "\n",
    "DB_NAME = 'amazon_SQL'\n",
    "TABLE_NAME = 'electronics_SQL'\n",
    "\n",
    "TABLE_SCHEMA = \"(\" \\\n",
    "                \"_id VARCHAR(500) NOT NULL,\" \\\n",
    "                \"asin VARCHAR(500),\" + \\\n",
    "                \"helpful_start SMALLINT(100),\" + \\\n",
    "                \"helpful_end SMALLINT(100),\" + \\\n",
    "                \"overall SMALLINT(100),\" + \\\n",
    "                \"reviewTime DATE,\" + \\\n",
    "                \"reviewerID VARCHAR(500),\" + \\\n",
    "                \"reviewerName VARCHAR(500),\" + \\\n",
    "                \"summary VARCHAR(500),\" + \\\n",
    "                \"unixReviewTime VARCHAR(500),\" + \\\n",
    "                \"PRIMARY KEY (_id)\" \\\n",
    "                \")\""
   ]
  },
  {
   "cell_type": "markdown",
   "metadata": {
    "colab_type": "text",
    "id": "k9mgtHQQR57q"
   },
   "source": [
    "***Step 1: Create mysql database and table***"
   ]
  },
  {
   "cell_type": "code",
   "execution_count": 0,
   "metadata": {
    "colab": {},
    "colab_type": "code",
    "id": "H_QoF_0GR57r"
   },
   "outputs": [],
   "source": [
    "def create_db_and_table_if_not_exists(DB_NAME, TABLE_NAME, TABLE_SCHEMA):\n",
    "    try:\n",
    "        \n",
    "        cursor = DB_CONN.cursor()\n",
    "        \n",
    "        # Create the DB if not exists\n",
    "        create_db_operation = 'CREATE DATABASE IF NOT EXISTS ' + DB_NAME\n",
    "        cursor.execute(create_db_operation)\n",
    "        \n",
    "        # Select the database just created\n",
    "        DB_CONN.database = DB_NAME\n",
    "\n",
    "        # Create the table if not exists\n",
    "        create_table_operation = \"CREATE TABLE IF NOT EXISTS \" + DB_NAME + \".\" + TABLE_NAME + \" \" + TABLE_SCHEMA + \";\"\n",
    "        cursor.execute(create_table_operation)\n",
    "        \n",
    "        # Close cursor\n",
    "        cursor.close()\n",
    "        return\n",
    "    \n",
    "    except IOError as e:\n",
    "        print(\"Failed to create database or table.\", e)"
   ]
  },
  {
   "cell_type": "code",
   "execution_count": 0,
   "metadata": {
    "colab": {},
    "colab_type": "code",
    "id": "JQefT77xR57t"
   },
   "outputs": [],
   "source": [
    "create_db_and_table_if_not_exists(DB_NAME, TABLE_NAME, TABLE_SCHEMA)"
   ]
  },
  {
   "cell_type": "markdown",
   "metadata": {
    "colab_type": "text",
    "id": "-Fx5W3v7R57v"
   },
   "source": [
    "***Step2: Clean data***"
   ]
  },
  {
   "cell_type": "code",
   "execution_count": 0,
   "metadata": {
    "colab": {},
    "colab_type": "code",
    "id": "zLJG8_xOR57w"
   },
   "outputs": [],
   "source": [
    "# reads all documents from “electronics” in MongoDB into a nested list\n",
    "all_documents = db.electronics.find({})\n",
    "\n",
    "electronics_nested_list = []\n",
    "\n",
    "for document in all_documents:\n",
    "    \n",
    "    _id = str(document.get(\"_id\"))\n",
    "    asin = document.get(\"asin\")\n",
    "    helpful_start = document.get(\"helpful\")[0]\n",
    "    helpful_end = document.get(\"helpful\")[1]\n",
    "    overall = document.get(\"overall\")\n",
    "    \n",
    "    # convert reviewTime to DATE format\n",
    "    reviewTime = document.get(\"reviewTime\")\n",
    "    reviewTime_date = reviewTime[-4:] + \"-\" + reviewTime[0:2] + \"-\" + re.findall(r' ([0-9]+)\\,', reviewTime)[0]\n",
    "\n",
    "    reviewerID = document.get(\"reviewerID\")\n",
    "    reviewerName = document.get(\"reviewerName\")\n",
    "    summary = document.get(\"summary\")\n",
    "    unixReviewTime = document.get(\"unixReviewTime\")\n",
    "    \n",
    "    doc_list = [_id, asin, helpful_start, helpful_end, overall, reviewTime_date, reviewerID, reviewerName, summary, unixReviewTime]\n",
    "    electronics_nested_list.append(doc_list)\n"
   ]
  },
  {
   "cell_type": "markdown",
   "metadata": {
    "colab_type": "text",
    "id": "Dqaw4XD4R57y"
   },
   "source": [
    "***Step 3: Insert data into MySQL database***"
   ]
  },
  {
   "cell_type": "code",
   "execution_count": 0,
   "metadata": {
    "colab": {},
    "colab_type": "code",
    "id": "DZhrhv6ER57y"
   },
   "outputs": [],
   "source": [
    "insert_query = \"INSERT INTO \" + TABLE_NAME + \\\n",
    "                   \"(_id, asin, helpful_start, helpful_end, overall, reviewTime, reviewerID, reviewerName, summary, unixReviewTime)\" + \\\n",
    "                   \" VALUES (%s, %s, %s, %s, %s, %s, %s, %s, %s, %s);\""
   ]
  },
  {
   "cell_type": "code",
   "execution_count": 0,
   "metadata": {
    "colab": {},
    "colab_type": "code",
    "id": "6cIkoJd1R571"
   },
   "outputs": [],
   "source": [
    "def insert_nested_list_into_MYSQL_table(DB_NAME, INSERT_QUERY, NESTED_LIST):\n",
    "    \n",
    "    try:\n",
    "        cursor = DB_CONN.cursor()\n",
    "        DB_CONN.database = DB_NAME\n",
    "        \n",
    "        cursor.executemany(INSERT_QUERY, NESTED_LIST)\n",
    "        DB_CONN.commit()\n",
    "        cursor.close()\n",
    "\n",
    "    except IOError as e:\n",
    "        print(e)"
   ]
  },
  {
   "cell_type": "code",
   "execution_count": 0,
   "metadata": {
    "colab": {},
    "colab_type": "code",
    "id": "io9DyAGiR574"
   },
   "outputs": [],
   "source": [
    "insert_nested_list_into_MYSQL_table(DB_NAME, insert_query, electronics_nested_list)"
   ]
  },
  {
   "cell_type": "markdown",
   "metadata": {
    "colab_type": "text",
    "id": "ZfTyUqNQR577"
   },
   "source": [
    "***Step 4: Query the first 25 records***"
   ]
  },
  {
   "cell_type": "code",
   "execution_count": 0,
   "metadata": {
    "colab": {},
    "colab_type": "code",
    "id": "JnyEPmesR577",
    "outputId": "5b19ebcb-0e06-4c4d-f35d-cadc8015d5a3"
   },
   "outputs": [
    {
     "name": "stdout",
     "output_type": "stream",
     "text": [
      "+--------------------------+------------+---------------+-------------+---------+------------+----------------+-----------------------------+---------------------------------------------------------------------------------------------------------+----------------+\n",
      "|           _id            |    asin    | helpful_start | helpful_end | overall | reviewTime |   reviewerID   |         reviewerName        |                                                 summary                                                 | unixReviewTime |\n",
      "+--------------------------+------------+---------------+-------------+---------+------------+----------------+-----------------------------+---------------------------------------------------------------------------------------------------------+----------------+\n",
      "| 5e5de768e9e2b9b2ef053ca9 | 0132793040 |       1       |      1      |    5    | 2013-04-13 | AKM1MP6P0OYPR  |     Vicki Gibson \"momo4\"    |                                              Very thorough                                              |   1365811200   |\n",
      "| 5e5de768e9e2b9b2ef053caa | B00E4KP4W6 |       1       |      1      |    5    | 2014-02-27 | A2X8VX4DPMQFQQ |            lily68           |                                       LOVE this screen protector!!                                      |   1393459200   |\n",
      "| 5e5de768e9e2b9b2ef053cab | B00E4KP4W6 |       2       |      2      |    5    | 2014-03-11 | A1JEKX4D58576X |        Mara Milagros        |                                                excellent                                                |   1394496000   |\n",
      "| 5e5de768e9e2b9b2ef053cac | B00E4KP4W6 |       1       |      2      |    4    | 2014-03-04 | ATM6RRB90D8DV  | Matthew D. Irmen \"Jazz Fan\" | Nice looking, easy to install glass screen protector that works beautifully with the Otterbox Defender. |   1393891200   |\n",
      "| 5e5de768e9e2b9b2ef053cad | B00E4KP4W6 |       1       |      1      |    5    | 2013-12-30 | A3QOYJ97A6OMX7 |         pharmdaddyd         |                                           great for the price                                           |   1388361600   |\n",
      "| 5e5de768e9e2b9b2ef053cae | B00E4KP4W6 |       0       |      0      |    1    | 2014-07-08 | AWO84NZ6VDYR2  |       shalane rogillio      |                                 Not happy with this, would not recommend                                |   1404777600   |\n",
      "| 5e5de768e9e2b9b2ef053caf | B00E4KP4W6 |       1       |      2      |    5    | 2014-02-13 | A15ZEBTKX72NPB |     S. Marcus \"pdtpoet\"     |                             Far better than film screens for iPhone or iPad!                            |   1392249600   |\n",
      "| 5e5de768e9e2b9b2ef053cb0 | B00E4KP4W6 |       0       |      0      |    5    | 2014-04-11 | A2ZI014DO0LWEW |           SueinCa           |                                                 Right On                                                |   1397174400   |\n",
      "| 5e5de768e9e2b9b2ef053cb1 | B00E4KP4W6 |       0       |      0      |    5    | 2014-05-09 | A3IN9CE5GG8VKR |          Tess Brown         |                                     Tempered Glass Screen Protector                                     |   1399593600   |\n",
      "| 5e5de768e9e2b9b2ef053cb2 | B00E4KP4W6 |       1       |      1      |    5    | 2014-01-31 | A1U9ZR7HQ5EZ6L |          Thinker623         |                                       Great glass cover for IPad.                                       |   1391126400   |\n",
      "| 5e5de768e9e2b9b2ef053cb3 | B00E4KP4W6 |       0       |      0      |    5    | 2014-05-07 | A2DFGG75NH91H2 |           Thuddds           |                                                Excellent                                                |   1399420800   |\n",
      "| 5e5de768e9e2b9b2ef053cb4 | B00E4KP4W6 |       1       |      1      |    5    | 2013-11-24 | ADTAGIHSU42HH  |           Wvmtnivy          |                                          Nice screen protector                                          |   1385251200   |\n",
      "| 5e5de768e9e2b9b2ef053cb5 | B00E4KP8VI |       0       |      0      |    5    | 2013-09-13 | A2QXOUHUL5CDT5 |         Cassi Olsen         |                                         Great headset for cheap.                                        |   1379030400   |\n",
      "| 5e5de768e9e2b9b2ef053cb6 | B00E4KPMC8 |       1       |      1      |    2    | 2014-02-27 | A1YQI2Y7DRYFZL |             HBP             |                                         Will not tilt horizontal                                        |   1393459200   |\n",
      "| 5e5de768e9e2b9b2ef053cb7 | B00E4KPMC8 |       1       |      1      |    3    | 2014-02-22 | AWFP70TL8BF43  |          PJ \"Peter\"         |                                            Not what I needed                                            |   1393027200   |\n",
      "| 5e5de768e9e2b9b2ef053cb8 | B00E4KPMC8 |       1       |      1      |    1    | 2014-02-17 | A1T7SJ8JMCIIZ8 |      Tracey Wesolowski      |                                             DO NOT PURCHASE!                                            |   1392595200   |\n",
      "| 5e5de768e9e2b9b2ef053cb9 | B00E4KQ5C4 |       1       |      1      |    5    | 2014-01-03 | A2QO3GRUYBVDX5 |      Alexander Cornwell     |                                                   How?                                                  |   1388707200   |\n",
      "| 5e5de768e9e2b9b2ef053cba | B00E4KQ9GG |       1       |      1      |    4    | 2014-01-29 | AQ1VEA1RAXMJM  |  Amazon Customer \"Annette\"  |                              nice fitting case for the samsung galaxy tab 3                             |   1390953600   |\n",
      "| 5e5de768e9e2b9b2ef053cbb | B00E4KQ9GG |       4       |      4      |    5    | 2013-11-23 | A28YUFBI33QZ28 |       Amazon Customer       |                                             Top notch case !                                            |   1385164800   |\n",
      "| 5e5de768e9e2b9b2ef053cbc | B00E4KQ9GG |       1       |      1      |    3    | 2014-05-18 | A1EN2PR6V7F87Z |             Anne            |                                        thin but not the best fit                                        |   1400371200   |\n",
      "| 5e5de768e9e2b9b2ef053cbd | B00E4KQ9GG |       0       |      1      |    2    | 2014-01-13 | A1Y109DY2NSQYP |        Barry Palacios       |                                           not worth the money!                                          |   1389571200   |\n",
      "| 5e5de768e9e2b9b2ef053cbe | B00E4KQ9GG |       1       |      1      |    5    | 2014-03-18 | A1W8TUEAXHF1H9 |         Carlos Seer         |                                              excelent case                                              |   1395100800   |\n",
      "| 5e5de768e9e2b9b2ef053cbf | B00E4KQ9GG |       1       |      1      |    3    | 2014-01-08 | A2U0VQAQHEFB1Y |            DaddyO           |                                   Beautiful design, good quality...but                                  |   1389139200   |\n",
      "| 5e5de768e9e2b9b2ef053cc0 | B00E4KQ9GG |       1       |      2      |    1    | 2013-12-25 | A17970XJG2BYIA |          Linzee1998         |                                               Doesnt fit!                                               |   1387929600   |\n",
      "| 5e5de768e9e2b9b2ef053cc1 | B00E4KQ9K2 |       0       |      0      |    5    | 2014-03-24 | A6EAQI9PSIFP5  |       Amazon Customer       |                                                  great                                                  |   1395619200   |\n",
      "+--------------------------+------------+---------------+-------------+---------+------------+----------------+-----------------------------+---------------------------------------------------------------------------------------------------------+----------------+\n"
     ]
    }
   ],
   "source": [
    "cursor = DB_CONN.cursor()\n",
    "DB_CONN.database = DB_NAME\n",
    "\n",
    "query = 'SELECT * FROM electronics_SQL LIMIT 25;'\n",
    "cursor.execute(query) \n",
    "\n",
    "# Use prettytable to pretty print the sql result\n",
    "titles = [title[0] for title in cursor.description]\n",
    "table = prettytable.PrettyTable(titles)\n",
    "for row in cursor.fetchall():\n",
    "    table.add_row(row)\n",
    "print(table)"
   ]
  },
  {
   "cell_type": "code",
   "execution_count": 0,
   "metadata": {
    "colab": {},
    "colab_type": "code",
    "id": "QkoQx33UR579"
   },
   "outputs": [],
   "source": [
    "DB_CONN.close()"
   ]
  }
 ],
 "metadata": {
  "colab": {
   "collapsed_sections": [],
   "name": "DDR_HW6_Group 5.ipynb",
   "provenance": []
  },
  "kernelspec": {
   "display_name": "Python 3",
   "language": "python",
   "name": "python3"
  },
  "language_info": {
   "codemirror_mode": {
    "name": "ipython",
    "version": 3
   },
   "file_extension": ".py",
   "mimetype": "text/x-python",
   "name": "python",
   "nbconvert_exporter": "python",
   "pygments_lexer": "ipython3",
   "version": "3.7.3"
  },
  "toc": {
   "base_numbering": 1,
   "nav_menu": {},
   "number_sections": true,
   "sideBar": true,
   "skip_h1_title": false,
   "title_cell": "Table of Contents",
   "title_sidebar": "Contents",
   "toc_cell": false,
   "toc_position": {},
   "toc_section_display": true,
   "toc_window_display": false
  }
 },
 "nbformat": 4,
 "nbformat_minor": 1
}
