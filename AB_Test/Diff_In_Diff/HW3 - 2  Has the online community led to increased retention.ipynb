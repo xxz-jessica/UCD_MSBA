{
 "cells": [
  {
   "cell_type": "markdown",
   "metadata": {},
   "source": [
    "# Packages"
   ]
  },
  {
   "cell_type": "code",
   "execution_count": 9,
   "metadata": {
    "ExecuteTime": {
     "end_time": "2019-11-18T00:32:06.949167Z",
     "start_time": "2019-11-18T00:31:39.408Z"
    },
    "collapsed": true
   },
   "outputs": [
    {
     "name": "stderr",
     "output_type": "stream",
     "text": [
      "also installing the dependencies 'grpreg', 'pls', 'bestglm', 'leaps', 'VGAM', 'rpart.plot'\n",
      "\n"
     ]
    },
    {
     "name": "stdout",
     "output_type": "stream",
     "text": [
      "package 'grpreg' successfully unpacked and MD5 sums checked\n",
      "package 'pls' successfully unpacked and MD5 sums checked\n",
      "package 'bestglm' successfully unpacked and MD5 sums checked\n",
      "package 'leaps' successfully unpacked and MD5 sums checked\n",
      "package 'VGAM' successfully unpacked and MD5 sums checked\n",
      "package 'rpart.plot' successfully unpacked and MD5 sums checked\n",
      "package 'regclass' successfully unpacked and MD5 sums checked\n",
      "\n",
      "The downloaded binary packages are in\n",
      "\tC:\\Users\\xingxuan_dell\\AppData\\Local\\Temp\\Rtmpgdgsjw\\downloaded_packages\n"
     ]
    }
   ],
   "source": [
    "install.packages('regclass')"
   ]
  },
  {
   "cell_type": "code",
   "execution_count": 11,
   "metadata": {
    "ExecuteTime": {
     "end_time": "2019-11-18T00:32:38.617009Z",
     "start_time": "2019-11-18T00:32:33.914Z"
    },
    "collapsed": true
   },
   "outputs": [
    {
     "name": "stdout",
     "output_type": "stream",
     "text": [
      "package 'ISLR' successfully unpacked and MD5 sums checked\n",
      "\n",
      "The downloaded binary packages are in\n",
      "\tC:\\Users\\xingxuan_dell\\AppData\\Local\\Temp\\Rtmpgdgsjw\\downloaded_packages\n"
     ]
    }
   ],
   "source": [
    "install.packages('ISLR')"
   ]
  },
  {
   "cell_type": "code",
   "execution_count": 13,
   "metadata": {
    "ExecuteTime": {
     "end_time": "2019-11-18T00:33:28.623321Z",
     "start_time": "2019-11-18T00:33:25.397Z"
    },
    "collapsed": true
   },
   "outputs": [
    {
     "name": "stdout",
     "output_type": "stream",
     "text": [
      "package 'pROC' successfully unpacked and MD5 sums checked\n",
      "\n",
      "The downloaded binary packages are in\n",
      "\tC:\\Users\\xingxuan_dell\\AppData\\Local\\Temp\\Rtmpgdgsjw\\downloaded_packages\n"
     ]
    }
   ],
   "source": [
    "install.packages('pROC')"
   ]
  },
  {
   "cell_type": "code",
   "execution_count": 14,
   "metadata": {
    "ExecuteTime": {
     "end_time": "2019-11-18T00:33:31.756207Z",
     "start_time": "2019-11-18T00:33:31.692Z"
    },
    "collapsed": true
   },
   "outputs": [
    {
     "name": "stderr",
     "output_type": "stream",
     "text": [
      "Type 'citation(\"pROC\")' for a citation.\n",
      "\n",
      "Attaching package: 'pROC'\n",
      "\n",
      "The following objects are masked from 'package:stats':\n",
      "\n",
      "    cov, smooth, var\n",
      "\n"
     ]
    }
   ],
   "source": [
    "rm(list=ls())\n",
    "library(readxl)\n",
    "library(Hmisc)\n",
    "library(MASS)\n",
    "library(caret)\n",
    "library(regclass)\n",
    "library(ISLR)\n",
    "library(boot)\n",
    "library(vcd)\n",
    "library(pROC)"
   ]
  },
  {
   "cell_type": "markdown",
   "metadata": {},
   "source": [
    "# File"
   ]
  },
  {
   "cell_type": "code",
   "execution_count": 32,
   "metadata": {
    "ExecuteTime": {
     "end_time": "2019-11-18T01:02:52.424094Z",
     "start_time": "2019-11-18T01:02:52.361Z"
    },
    "collapsed": true
   },
   "outputs": [
    {
     "data": {
      "text/html": [
       "<table>\n",
       "<thead><tr><th scope=col>id</th><th scope=col>join</th><th scope=col>age</th><th scope=col>churn</th><th scope=col>spend</th></tr></thead>\n",
       "<tbody>\n",
       "\t<tr><td>1000201</td><td>1      </td><td>7      </td><td>0      </td><td> 88    </td></tr>\n",
       "\t<tr><td>1000202</td><td>0      </td><td>7      </td><td>1      </td><td>103    </td></tr>\n",
       "\t<tr><td>1000203</td><td>0      </td><td>8      </td><td>1      </td><td> 45    </td></tr>\n",
       "\t<tr><td>1000204</td><td>1      </td><td>2      </td><td>1      </td><td>113    </td></tr>\n",
       "\t<tr><td>1000205</td><td>1      </td><td>5      </td><td>0      </td><td> 99    </td></tr>\n",
       "\t<tr><td>1000206</td><td>1      </td><td>3      </td><td>1      </td><td> 68    </td></tr>\n",
       "\t<tr><td>1000207</td><td>1      </td><td>5      </td><td>0      </td><td> 86    </td></tr>\n",
       "\t<tr><td>1000208</td><td>0      </td><td>8      </td><td>1      </td><td> 58    </td></tr>\n",
       "\t<tr><td>1000209</td><td>0      </td><td>7      </td><td>0      </td><td>106    </td></tr>\n",
       "\t<tr><td>1000210</td><td>1      </td><td>5      </td><td>1      </td><td> 50    </td></tr>\n",
       "\t<tr><td>1000211</td><td>0      </td><td>5      </td><td>1      </td><td> 57    </td></tr>\n",
       "\t<tr><td>1000212</td><td>0      </td><td>5      </td><td>0      </td><td> 47    </td></tr>\n",
       "\t<tr><td>1000213</td><td>0      </td><td>5      </td><td>0      </td><td> 39    </td></tr>\n",
       "\t<tr><td>1000214</td><td>0      </td><td>1      </td><td>1      </td><td> 53    </td></tr>\n",
       "\t<tr><td>1000215</td><td>1      </td><td>3      </td><td>1      </td><td>123    </td></tr>\n",
       "\t<tr><td>1000216</td><td>1      </td><td>2      </td><td>1      </td><td>122    </td></tr>\n",
       "\t<tr><td>1000217</td><td>1      </td><td>6      </td><td>1      </td><td>112    </td></tr>\n",
       "\t<tr><td>1000218</td><td>1      </td><td>5      </td><td>0      </td><td> 93    </td></tr>\n",
       "\t<tr><td>1000219</td><td>0      </td><td>5      </td><td>0      </td><td>111    </td></tr>\n",
       "\t<tr><td>1000220</td><td>0      </td><td>6      </td><td>0      </td><td> 21    </td></tr>\n",
       "\t<tr><td>1000221</td><td>0      </td><td>6      </td><td>1      </td><td> 29    </td></tr>\n",
       "\t<tr><td>1000222</td><td>1      </td><td>5      </td><td>1      </td><td>123    </td></tr>\n",
       "\t<tr><td>1000223</td><td>1      </td><td>2      </td><td>1      </td><td>109    </td></tr>\n",
       "\t<tr><td>1000224</td><td>0      </td><td>1      </td><td>1      </td><td> 29    </td></tr>\n",
       "\t<tr><td>1000225</td><td>1      </td><td>5      </td><td>1      </td><td>125    </td></tr>\n",
       "\t<tr><td>1000226</td><td>0      </td><td>4      </td><td>1      </td><td> 82    </td></tr>\n",
       "\t<tr><td>1000227</td><td>0      </td><td>2      </td><td>0      </td><td> 80    </td></tr>\n",
       "\t<tr><td>1000228</td><td>1      </td><td>8      </td><td>1      </td><td> 88    </td></tr>\n",
       "\t<tr><td>1000229</td><td>1      </td><td>2      </td><td>0      </td><td>135    </td></tr>\n",
       "\t<tr><td>1000230</td><td>0      </td><td>4      </td><td>1      </td><td> 34    </td></tr>\n",
       "\t<tr><td>...</td><td>...</td><td>...</td><td>...</td><td>...</td></tr>\n",
       "\t<tr><td>1000370</td><td>0      </td><td>4      </td><td>1      </td><td> 41    </td></tr>\n",
       "\t<tr><td>1000371</td><td>0      </td><td>2      </td><td>1      </td><td> 93    </td></tr>\n",
       "\t<tr><td>1000372</td><td>0      </td><td>3      </td><td>0      </td><td> 71    </td></tr>\n",
       "\t<tr><td>1000373</td><td>1      </td><td>5      </td><td>1      </td><td>111    </td></tr>\n",
       "\t<tr><td>1000374</td><td>0      </td><td>5      </td><td>1      </td><td>100    </td></tr>\n",
       "\t<tr><td>1000375</td><td>0      </td><td>2      </td><td>1      </td><td> 80    </td></tr>\n",
       "\t<tr><td>1000376</td><td>0      </td><td>3      </td><td>1      </td><td> 45    </td></tr>\n",
       "\t<tr><td>1000377</td><td>0      </td><td>2      </td><td>1      </td><td> 86    </td></tr>\n",
       "\t<tr><td>1000378</td><td>0      </td><td>7      </td><td>0      </td><td> 43    </td></tr>\n",
       "\t<tr><td>1000379</td><td>1      </td><td>7      </td><td>1      </td><td>123    </td></tr>\n",
       "\t<tr><td>1000380</td><td>1      </td><td>6      </td><td>0      </td><td> 85    </td></tr>\n",
       "\t<tr><td>1000381</td><td>0      </td><td>3      </td><td>0      </td><td> 59    </td></tr>\n",
       "\t<tr><td>1000382</td><td>0      </td><td>3      </td><td>1      </td><td> 84    </td></tr>\n",
       "\t<tr><td>1000383</td><td>1      </td><td>8      </td><td>1      </td><td> 85    </td></tr>\n",
       "\t<tr><td>1000384</td><td>1      </td><td>3      </td><td>1      </td><td> 99    </td></tr>\n",
       "\t<tr><td>1000385</td><td>1      </td><td>6      </td><td>1      </td><td>104    </td></tr>\n",
       "\t<tr><td>1000386</td><td>0      </td><td>5      </td><td>0      </td><td> 39    </td></tr>\n",
       "\t<tr><td>1000387</td><td>0      </td><td>1      </td><td>0      </td><td> 81    </td></tr>\n",
       "\t<tr><td>1000388</td><td>1      </td><td>2      </td><td>1      </td><td>122    </td></tr>\n",
       "\t<tr><td>1000389</td><td>0      </td><td>8      </td><td>1      </td><td> 71    </td></tr>\n",
       "\t<tr><td>1000390</td><td>0      </td><td>5      </td><td>1      </td><td> 37    </td></tr>\n",
       "\t<tr><td>1000391</td><td>0      </td><td>3      </td><td>1      </td><td> 43    </td></tr>\n",
       "\t<tr><td>1000392</td><td>0      </td><td>6      </td><td>1      </td><td> 74    </td></tr>\n",
       "\t<tr><td>1000393</td><td>1      </td><td>2      </td><td>1      </td><td> 91    </td></tr>\n",
       "\t<tr><td>1000394</td><td>1      </td><td>1      </td><td>1      </td><td> 67    </td></tr>\n",
       "\t<tr><td>1000395</td><td>0      </td><td>4      </td><td>1      </td><td> 95    </td></tr>\n",
       "\t<tr><td>1000396</td><td>0      </td><td>5      </td><td>1      </td><td> 28    </td></tr>\n",
       "\t<tr><td>1000397</td><td>0      </td><td>5      </td><td>0      </td><td> 25    </td></tr>\n",
       "\t<tr><td>1000398</td><td>1      </td><td>2      </td><td>1      </td><td> 95    </td></tr>\n",
       "\t<tr><td>1000399</td><td>0      </td><td>6      </td><td>1      </td><td> 47    </td></tr>\n",
       "</tbody>\n",
       "</table>\n"
      ],
      "text/latex": [
       "\\begin{tabular}{r|lllll}\n",
       " id & join & age & churn & spend\\\\\n",
       "\\hline\n",
       "\t 1000201 & 1       & 7       & 0       &  88    \\\\\n",
       "\t 1000202 & 0       & 7       & 1       & 103    \\\\\n",
       "\t 1000203 & 0       & 8       & 1       &  45    \\\\\n",
       "\t 1000204 & 1       & 2       & 1       & 113    \\\\\n",
       "\t 1000205 & 1       & 5       & 0       &  99    \\\\\n",
       "\t 1000206 & 1       & 3       & 1       &  68    \\\\\n",
       "\t 1000207 & 1       & 5       & 0       &  86    \\\\\n",
       "\t 1000208 & 0       & 8       & 1       &  58    \\\\\n",
       "\t 1000209 & 0       & 7       & 0       & 106    \\\\\n",
       "\t 1000210 & 1       & 5       & 1       &  50    \\\\\n",
       "\t 1000211 & 0       & 5       & 1       &  57    \\\\\n",
       "\t 1000212 & 0       & 5       & 0       &  47    \\\\\n",
       "\t 1000213 & 0       & 5       & 0       &  39    \\\\\n",
       "\t 1000214 & 0       & 1       & 1       &  53    \\\\\n",
       "\t 1000215 & 1       & 3       & 1       & 123    \\\\\n",
       "\t 1000216 & 1       & 2       & 1       & 122    \\\\\n",
       "\t 1000217 & 1       & 6       & 1       & 112    \\\\\n",
       "\t 1000218 & 1       & 5       & 0       &  93    \\\\\n",
       "\t 1000219 & 0       & 5       & 0       & 111    \\\\\n",
       "\t 1000220 & 0       & 6       & 0       &  21    \\\\\n",
       "\t 1000221 & 0       & 6       & 1       &  29    \\\\\n",
       "\t 1000222 & 1       & 5       & 1       & 123    \\\\\n",
       "\t 1000223 & 1       & 2       & 1       & 109    \\\\\n",
       "\t 1000224 & 0       & 1       & 1       &  29    \\\\\n",
       "\t 1000225 & 1       & 5       & 1       & 125    \\\\\n",
       "\t 1000226 & 0       & 4       & 1       &  82    \\\\\n",
       "\t 1000227 & 0       & 2       & 0       &  80    \\\\\n",
       "\t 1000228 & 1       & 8       & 1       &  88    \\\\\n",
       "\t 1000229 & 1       & 2       & 0       & 135    \\\\\n",
       "\t 1000230 & 0       & 4       & 1       &  34    \\\\\n",
       "\t ... & ... & ... & ... & ...\\\\\n",
       "\t 1000370 & 0       & 4       & 1       &  41    \\\\\n",
       "\t 1000371 & 0       & 2       & 1       &  93    \\\\\n",
       "\t 1000372 & 0       & 3       & 0       &  71    \\\\\n",
       "\t 1000373 & 1       & 5       & 1       & 111    \\\\\n",
       "\t 1000374 & 0       & 5       & 1       & 100    \\\\\n",
       "\t 1000375 & 0       & 2       & 1       &  80    \\\\\n",
       "\t 1000376 & 0       & 3       & 1       &  45    \\\\\n",
       "\t 1000377 & 0       & 2       & 1       &  86    \\\\\n",
       "\t 1000378 & 0       & 7       & 0       &  43    \\\\\n",
       "\t 1000379 & 1       & 7       & 1       & 123    \\\\\n",
       "\t 1000380 & 1       & 6       & 0       &  85    \\\\\n",
       "\t 1000381 & 0       & 3       & 0       &  59    \\\\\n",
       "\t 1000382 & 0       & 3       & 1       &  84    \\\\\n",
       "\t 1000383 & 1       & 8       & 1       &  85    \\\\\n",
       "\t 1000384 & 1       & 3       & 1       &  99    \\\\\n",
       "\t 1000385 & 1       & 6       & 1       & 104    \\\\\n",
       "\t 1000386 & 0       & 5       & 0       &  39    \\\\\n",
       "\t 1000387 & 0       & 1       & 0       &  81    \\\\\n",
       "\t 1000388 & 1       & 2       & 1       & 122    \\\\\n",
       "\t 1000389 & 0       & 8       & 1       &  71    \\\\\n",
       "\t 1000390 & 0       & 5       & 1       &  37    \\\\\n",
       "\t 1000391 & 0       & 3       & 1       &  43    \\\\\n",
       "\t 1000392 & 0       & 6       & 1       &  74    \\\\\n",
       "\t 1000393 & 1       & 2       & 1       &  91    \\\\\n",
       "\t 1000394 & 1       & 1       & 1       &  67    \\\\\n",
       "\t 1000395 & 0       & 4       & 1       &  95    \\\\\n",
       "\t 1000396 & 0       & 5       & 1       &  28    \\\\\n",
       "\t 1000397 & 0       & 5       & 0       &  25    \\\\\n",
       "\t 1000398 & 1       & 2       & 1       &  95    \\\\\n",
       "\t 1000399 & 0       & 6       & 1       &  47    \\\\\n",
       "\\end{tabular}\n"
      ],
      "text/markdown": [
       "\n",
       "| id | join | age | churn | spend |\n",
       "|---|---|---|---|---|\n",
       "| 1000201 | 1       | 7       | 0       |  88     |\n",
       "| 1000202 | 0       | 7       | 1       | 103     |\n",
       "| 1000203 | 0       | 8       | 1       |  45     |\n",
       "| 1000204 | 1       | 2       | 1       | 113     |\n",
       "| 1000205 | 1       | 5       | 0       |  99     |\n",
       "| 1000206 | 1       | 3       | 1       |  68     |\n",
       "| 1000207 | 1       | 5       | 0       |  86     |\n",
       "| 1000208 | 0       | 8       | 1       |  58     |\n",
       "| 1000209 | 0       | 7       | 0       | 106     |\n",
       "| 1000210 | 1       | 5       | 1       |  50     |\n",
       "| 1000211 | 0       | 5       | 1       |  57     |\n",
       "| 1000212 | 0       | 5       | 0       |  47     |\n",
       "| 1000213 | 0       | 5       | 0       |  39     |\n",
       "| 1000214 | 0       | 1       | 1       |  53     |\n",
       "| 1000215 | 1       | 3       | 1       | 123     |\n",
       "| 1000216 | 1       | 2       | 1       | 122     |\n",
       "| 1000217 | 1       | 6       | 1       | 112     |\n",
       "| 1000218 | 1       | 5       | 0       |  93     |\n",
       "| 1000219 | 0       | 5       | 0       | 111     |\n",
       "| 1000220 | 0       | 6       | 0       |  21     |\n",
       "| 1000221 | 0       | 6       | 1       |  29     |\n",
       "| 1000222 | 1       | 5       | 1       | 123     |\n",
       "| 1000223 | 1       | 2       | 1       | 109     |\n",
       "| 1000224 | 0       | 1       | 1       |  29     |\n",
       "| 1000225 | 1       | 5       | 1       | 125     |\n",
       "| 1000226 | 0       | 4       | 1       |  82     |\n",
       "| 1000227 | 0       | 2       | 0       |  80     |\n",
       "| 1000228 | 1       | 8       | 1       |  88     |\n",
       "| 1000229 | 1       | 2       | 0       | 135     |\n",
       "| 1000230 | 0       | 4       | 1       |  34     |\n",
       "| ... | ... | ... | ... | ... |\n",
       "| 1000370 | 0       | 4       | 1       |  41     |\n",
       "| 1000371 | 0       | 2       | 1       |  93     |\n",
       "| 1000372 | 0       | 3       | 0       |  71     |\n",
       "| 1000373 | 1       | 5       | 1       | 111     |\n",
       "| 1000374 | 0       | 5       | 1       | 100     |\n",
       "| 1000375 | 0       | 2       | 1       |  80     |\n",
       "| 1000376 | 0       | 3       | 1       |  45     |\n",
       "| 1000377 | 0       | 2       | 1       |  86     |\n",
       "| 1000378 | 0       | 7       | 0       |  43     |\n",
       "| 1000379 | 1       | 7       | 1       | 123     |\n",
       "| 1000380 | 1       | 6       | 0       |  85     |\n",
       "| 1000381 | 0       | 3       | 0       |  59     |\n",
       "| 1000382 | 0       | 3       | 1       |  84     |\n",
       "| 1000383 | 1       | 8       | 1       |  85     |\n",
       "| 1000384 | 1       | 3       | 1       |  99     |\n",
       "| 1000385 | 1       | 6       | 1       | 104     |\n",
       "| 1000386 | 0       | 5       | 0       |  39     |\n",
       "| 1000387 | 0       | 1       | 0       |  81     |\n",
       "| 1000388 | 1       | 2       | 1       | 122     |\n",
       "| 1000389 | 0       | 8       | 1       |  71     |\n",
       "| 1000390 | 0       | 5       | 1       |  37     |\n",
       "| 1000391 | 0       | 3       | 1       |  43     |\n",
       "| 1000392 | 0       | 6       | 1       |  74     |\n",
       "| 1000393 | 1       | 2       | 1       |  91     |\n",
       "| 1000394 | 1       | 1       | 1       |  67     |\n",
       "| 1000395 | 0       | 4       | 1       |  95     |\n",
       "| 1000396 | 0       | 5       | 1       |  28     |\n",
       "| 1000397 | 0       | 5       | 0       |  25     |\n",
       "| 1000398 | 1       | 2       | 1       |  95     |\n",
       "| 1000399 | 0       | 6       | 1       |  47     |\n",
       "\n"
      ],
      "text/plain": [
       "    id      join age churn spend\n",
       "1   1000201 1    7   0      88  \n",
       "2   1000202 0    7   1     103  \n",
       "3   1000203 0    8   1      45  \n",
       "4   1000204 1    2   1     113  \n",
       "5   1000205 1    5   0      99  \n",
       "6   1000206 1    3   1      68  \n",
       "7   1000207 1    5   0      86  \n",
       "8   1000208 0    8   1      58  \n",
       "9   1000209 0    7   0     106  \n",
       "10  1000210 1    5   1      50  \n",
       "11  1000211 0    5   1      57  \n",
       "12  1000212 0    5   0      47  \n",
       "13  1000213 0    5   0      39  \n",
       "14  1000214 0    1   1      53  \n",
       "15  1000215 1    3   1     123  \n",
       "16  1000216 1    2   1     122  \n",
       "17  1000217 1    6   1     112  \n",
       "18  1000218 1    5   0      93  \n",
       "19  1000219 0    5   0     111  \n",
       "20  1000220 0    6   0      21  \n",
       "21  1000221 0    6   1      29  \n",
       "22  1000222 1    5   1     123  \n",
       "23  1000223 1    2   1     109  \n",
       "24  1000224 0    1   1      29  \n",
       "25  1000225 1    5   1     125  \n",
       "26  1000226 0    4   1      82  \n",
       "27  1000227 0    2   0      80  \n",
       "28  1000228 1    8   1      88  \n",
       "29  1000229 1    2   0     135  \n",
       "30  1000230 0    4   1      34  \n",
       "... ...     ...  ... ...   ...  \n",
       "170 1000370 0    4   1      41  \n",
       "171 1000371 0    2   1      93  \n",
       "172 1000372 0    3   0      71  \n",
       "173 1000373 1    5   1     111  \n",
       "174 1000374 0    5   1     100  \n",
       "175 1000375 0    2   1      80  \n",
       "176 1000376 0    3   1      45  \n",
       "177 1000377 0    2   1      86  \n",
       "178 1000378 0    7   0      43  \n",
       "179 1000379 1    7   1     123  \n",
       "180 1000380 1    6   0      85  \n",
       "181 1000381 0    3   0      59  \n",
       "182 1000382 0    3   1      84  \n",
       "183 1000383 1    8   1      85  \n",
       "184 1000384 1    3   1      99  \n",
       "185 1000385 1    6   1     104  \n",
       "186 1000386 0    5   0      39  \n",
       "187 1000387 0    1   0      81  \n",
       "188 1000388 1    2   1     122  \n",
       "189 1000389 0    8   1      71  \n",
       "190 1000390 0    5   1      37  \n",
       "191 1000391 0    3   1      43  \n",
       "192 1000392 0    6   1      74  \n",
       "193 1000393 1    2   1      91  \n",
       "194 1000394 1    1   1      67  \n",
       "195 1000395 0    4   1      95  \n",
       "196 1000396 0    5   1      28  \n",
       "197 1000397 0    5   0      25  \n",
       "198 1000398 1    2   1      95  \n",
       "199 1000399 0    6   1      47  "
      ]
     },
     "metadata": {},
     "output_type": "display_data"
    }
   ],
   "source": [
    "setwd(\"D:/BAX401/HW3\")\n",
    "Q2<-read.csv('Q2.csv')\n",
    "colnames(Q2)<-c('id','join','age','churn','spend')\n",
    "Q2$join<-as.factor(Q2$join)\n",
    "Q2$churn<-as.factor(Q2$churn)\n",
    "Q2"
   ]
  },
  {
   "cell_type": "code",
   "execution_count": 33,
   "metadata": {
    "ExecuteTime": {
     "end_time": "2019-11-18T01:02:56.187819Z",
     "start_time": "2019-11-18T01:02:56.163Z"
    }
   },
   "outputs": [
    {
     "name": "stdout",
     "output_type": "stream",
     "text": [
      "'data.frame':\t199 obs. of  5 variables:\n",
      " $ id   : int  1000201 1000202 1000203 1000204 1000205 1000206 1000207 1000208 1000209 1000210 ...\n",
      " $ join : Factor w/ 2 levels \"0\",\"1\": 2 1 1 2 2 2 2 1 1 2 ...\n",
      " $ age  : int  7 7 8 2 5 3 5 8 7 5 ...\n",
      " $ churn: Factor w/ 2 levels \"0\",\"1\": 1 2 2 2 1 2 1 2 1 2 ...\n",
      " $ spend: int  88 103 45 113 99 68 86 58 106 50 ...\n"
     ]
    }
   ],
   "source": [
    " str(Q2)"
   ]
  },
  {
   "cell_type": "markdown",
   "metadata": {},
   "source": [
    "# Logistic Regression"
   ]
  },
  {
   "cell_type": "code",
   "execution_count": 34,
   "metadata": {
    "ExecuteTime": {
     "end_time": "2019-11-18T01:03:00.926453Z",
     "start_time": "2019-11-18T01:03:00.891Z"
    }
   },
   "outputs": [
    {
     "data": {
      "text/plain": [
       "\n",
       "Call:\n",
       "glm(formula = churn ~ join + age + spend, family = binomial(link = \"logit\"), \n",
       "    data = Q2)\n",
       "\n",
       "Deviance Residuals: \n",
       "    Min       1Q   Median       3Q      Max  \n",
       "-1.6753  -1.2113   0.7973   1.0979   1.2894  \n",
       "\n",
       "Coefficients:\n",
       "             Estimate Std. Error z value Pr(>|z|)   \n",
       "(Intercept)  0.474797   0.523983   0.906  0.36487   \n",
       "join1        0.916584   0.355287   2.580  0.00988 **\n",
       "age         -0.055849   0.071598  -0.780  0.43537   \n",
       "spend       -0.002819   0.005655  -0.498  0.61815   \n",
       "---\n",
       "Signif. codes:  0 '***' 0.001 '**' 0.01 '*' 0.05 '.' 0.1 ' ' 1\n",
       "\n",
       "(Dispersion parameter for binomial family taken to be 1)\n",
       "\n",
       "    Null deviance: 268.95  on 198  degrees of freedom\n",
       "Residual deviance: 260.42  on 195  degrees of freedom\n",
       "AIC: 268.42\n",
       "\n",
       "Number of Fisher Scoring iterations: 4\n"
      ]
     },
     "metadata": {},
     "output_type": "display_data"
    }
   ],
   "source": [
    "mylogit1<-glm(churn~join+age+spend,data=Q2,family=binomial(link=\"logit\"))\n",
    "summary(mylogit1)"
   ]
  },
  {
   "cell_type": "markdown",
   "metadata": {},
   "source": [
    "# Confusion Matrix"
   ]
  },
  {
   "cell_type": "code",
   "execution_count": 35,
   "metadata": {
    "ExecuteTime": {
     "end_time": "2019-11-18T01:03:11.920261Z",
     "start_time": "2019-11-18T01:03:11.894Z"
    }
   },
   "outputs": [
    {
     "data": {
      "text/html": [
       "<table>\n",
       "<thead><tr><th></th><th scope=col>Predicted 0</th><th scope=col>Predicted 1</th><th scope=col>Total</th></tr></thead>\n",
       "<tbody>\n",
       "\t<tr><th scope=row>Actual 0</th><td>24 </td><td> 57</td><td> 81</td></tr>\n",
       "\t<tr><th scope=row>Actual 1</th><td>17 </td><td>101</td><td>118</td></tr>\n",
       "\t<tr><th scope=row>Total</th><td>41 </td><td>158</td><td>199</td></tr>\n",
       "</tbody>\n",
       "</table>\n"
      ],
      "text/latex": [
       "\\begin{tabular}{r|lll}\n",
       "  & Predicted 0 & Predicted 1 & Total\\\\\n",
       "\\hline\n",
       "\tActual 0 & 24  &  57 &  81\\\\\n",
       "\tActual 1 & 17  & 101 & 118\\\\\n",
       "\tTotal & 41  & 158 & 199\\\\\n",
       "\\end{tabular}\n"
      ],
      "text/markdown": [
       "\n",
       "| <!--/--> | Predicted 0 | Predicted 1 | Total |\n",
       "|---|---|---|---|\n",
       "| Actual 0 | 24  |  57 |  81 |\n",
       "| Actual 1 | 17  | 101 | 118 |\n",
       "| Total | 41  | 158 | 199 |\n",
       "\n"
      ],
      "text/plain": [
       "         Predicted 0 Predicted 1 Total\n",
       "Actual 0 24           57          81  \n",
       "Actual 1 17          101         118  \n",
       "Total    41          158         199  "
      ]
     },
     "metadata": {},
     "output_type": "display_data"
    }
   ],
   "source": [
    "confmat1<-confusion_matrix(mylogit1) #Predict True/False Positive/Negative (TP,TN,FP.FN)\n",
    "confmat1"
   ]
  },
  {
   "cell_type": "code",
   "execution_count": 36,
   "metadata": {
    "ExecuteTime": {
     "end_time": "2019-11-18T01:03:14.883254Z",
     "start_time": "2019-11-18T01:03:14.852Z"
    }
   },
   "outputs": [
    {
     "name": "stdout",
     "output_type": "stream",
     "text": [
      "[1] \"Accuracy 0.6281\"\n"
     ]
    }
   ],
   "source": [
    "#first get predicted values\n",
    "preddata<-with(Q2,data.frame(id,join,age,churn,spend))\n",
    "probdefault<-predict(mylogit1,newdata=preddata,type=\"response\")\n",
    "preddefault<-ifelse(probdefault > 0.5, 1,0) #at what level should we say prob(default)=1\n",
    "\n",
    "#Let's determine Accuracy manually first\n",
    "missclass<-preddefault!=Q2$churn\n",
    "misclasserror<-round(mean(preddefault!=Q2$churn),4)\n",
    "print(paste('Accuracy',1-misclasserror)) #To determine accuracy manually"
   ]
  },
  {
   "cell_type": "code",
   "execution_count": 37,
   "metadata": {
    "ExecuteTime": {
     "end_time": "2019-11-18T01:03:17.098754Z",
     "start_time": "2019-11-18T01:03:17.074Z"
    }
   },
   "outputs": [
    {
     "data": {
      "text/plain": [
       "Confusion Matrix and Statistics\n",
       "\n",
       "          Reference\n",
       "Prediction   0   1\n",
       "         0  24  17\n",
       "         1  57 101\n",
       "                                         \n",
       "               Accuracy : 0.6281         \n",
       "                 95% CI : (0.557, 0.6954)\n",
       "    No Information Rate : 0.593          \n",
       "    P-Value [Acc > NIR] : 0.1743         \n",
       "                                         \n",
       "                  Kappa : 0.165          \n",
       "                                         \n",
       " Mcnemar's Test P-Value : 5.797e-06      \n",
       "                                         \n",
       "            Sensitivity : 0.8559         \n",
       "            Specificity : 0.2963         \n",
       "         Pos Pred Value : 0.6392         \n",
       "         Neg Pred Value : 0.5854         \n",
       "             Prevalence : 0.5930         \n",
       "         Detection Rate : 0.5075         \n",
       "   Detection Prevalence : 0.7940         \n",
       "      Balanced Accuracy : 0.5761         \n",
       "                                         \n",
       "       'Positive' Class : 1              \n",
       "                                         "
      ]
     },
     "metadata": {},
     "output_type": "display_data"
    }
   ],
   "source": [
    "confMat2<-confusionMatrix(data = as.factor(preddefault),reference = as.factor(Q2$churn),positive = \"1\")\n",
    "confMat2 ###Note, because of how this matrix is strutured, 0,0 becomes true positive -- thus we specify positive as 1"
   ]
  },
  {
   "cell_type": "markdown",
   "metadata": {},
   "source": [
    "# F Measure"
   ]
  },
  {
   "cell_type": "code",
   "execution_count": 30,
   "metadata": {
    "ExecuteTime": {
     "end_time": "2019-11-18T00:49:25.507065Z",
     "start_time": "2019-11-18T00:49:25.485Z"
    }
   },
   "outputs": [
    {
     "data": {
      "text/html": [
       "0.731884057971015"
      ],
      "text/latex": [
       "0.731884057971015"
      ],
      "text/markdown": [
       "0.731884057971015"
      ],
      "text/plain": [
       "[1] 0.7318841"
      ]
     },
     "metadata": {},
     "output_type": "display_data"
    }
   ],
   "source": [
    "(2*confMat2[['byClass']][[\"Pos Pred Value\"]]*confMat2[['byClass']][[\"Sensitivity\"]])/(confMat2[['byClass']][[\"Pos Pred Value\"]]+confMat2[['byClass']][[\"Sensitivity\"]])"
   ]
  },
  {
   "cell_type": "markdown",
   "metadata": {},
   "source": [
    "# Train - Test"
   ]
  },
  {
   "cell_type": "code",
   "execution_count": 39,
   "metadata": {
    "ExecuteTime": {
     "end_time": "2019-11-18T01:16:37.392272Z",
     "start_time": "2019-11-18T01:16:37.341Z"
    }
   },
   "outputs": [
    {
     "data": {
      "text/html": [
       "149"
      ],
      "text/latex": [
       "149"
      ],
      "text/markdown": [
       "149"
      ],
      "text/plain": [
       "[1] 149"
      ]
     },
     "metadata": {},
     "output_type": "display_data"
    },
    {
     "data": {
      "text/plain": [
       "\n",
       "Call:\n",
       "glm(formula = churn ~ join + age + spend, family = binomial(link = \"logit\"), \n",
       "    data = Q2)\n",
       "\n",
       "Deviance Residuals: \n",
       "    Min       1Q   Median       3Q      Max  \n",
       "-1.6753  -1.2113   0.7973   1.0979   1.2894  \n",
       "\n",
       "Coefficients:\n",
       "             Estimate Std. Error z value Pr(>|z|)   \n",
       "(Intercept)  0.474797   0.523983   0.906  0.36487   \n",
       "join1        0.916584   0.355287   2.580  0.00988 **\n",
       "age         -0.055849   0.071598  -0.780  0.43537   \n",
       "spend       -0.002819   0.005655  -0.498  0.61815   \n",
       "---\n",
       "Signif. codes:  0 '***' 0.001 '**' 0.01 '*' 0.05 '.' 0.1 ' ' 1\n",
       "\n",
       "(Dispersion parameter for binomial family taken to be 1)\n",
       "\n",
       "    Null deviance: 268.95  on 198  degrees of freedom\n",
       "Residual deviance: 260.42  on 195  degrees of freedom\n",
       "AIC: 268.42\n",
       "\n",
       "Number of Fisher Scoring iterations: 4\n"
      ]
     },
     "metadata": {},
     "output_type": "display_data"
    },
    {
     "name": "stdout",
     "output_type": "stream",
     "text": [
      "[1] \"Accuracy 0.74\"\n"
     ]
    }
   ],
   "source": [
    "set.seed(20)\n",
    "sample_siz = floor(0.75*nrow(Q2))  # creates a value for dividing the data into train and test. In this case the value is defined as 75% of the number of rows in the dataset\n",
    "sample_siz #how big?\n",
    "train_index = sample(seq_len(nrow(Q2)),size = sample_siz)# Randomly identifies therows equal to sample size ( defined in previous instruction) from  all the rows of Smarket dataset and stores the row number in train_ind\n",
    "\n",
    "train=Q2[train_index,] #creates the training dataset with row numbers stored in train_ind\n",
    "test=Q2[-train_index,]  # creates the test dataset excluding the row numbers mentioned in train_ind\n",
    "\n",
    "#Logistic Regression Model Estimation\n",
    "mylogit_train<-glm(churn~join+age+spend,data=Q2,family=binomial(link=\"logit\"))\n",
    "\n",
    "#coefficients\n",
    "summary(mylogit_train) \n",
    "\n",
    "#Predict using Test data\n",
    "preddata_test<-with(test,data.frame(id,join,age,churn,spend))\n",
    "probdefault_test<-predict(mylogit_train,newdata=preddata_test,type=\"response\")\n",
    "preddefault_test<-ifelse(probdefault_test > 0.5, 1,0) #at what level should we say prob(default)=1\n",
    "\n",
    "missclass_test<-preddefault_test!=test$churn\n",
    "misclasserror_test<-round(mean(preddefault_test!=test$churn),4)\n",
    "print(paste('Accuracy',1-misclasserror_test))"
   ]
  },
  {
   "cell_type": "code",
   "execution_count": 40,
   "metadata": {
    "ExecuteTime": {
     "end_time": "2019-11-18T01:17:27.534021Z",
     "start_time": "2019-11-18T01:17:27.495Z"
    }
   },
   "outputs": [
    {
     "data": {
      "text/html": [
       "<table>\n",
       "<thead><tr><th></th><th scope=col>Df</th><th scope=col>Deviance</th><th scope=col>Resid. Df</th><th scope=col>Resid. Dev</th><th scope=col>Pr(&gt;Chi)</th></tr></thead>\n",
       "<tbody>\n",
       "\t<tr><th scope=row>NULL</th><td>NA         </td><td>      NA   </td><td>198        </td><td>268.9530   </td><td>         NA</td></tr>\n",
       "\t<tr><th scope=row>join</th><td> 1         </td><td>7.689494   </td><td>197        </td><td>261.2635   </td><td>0.005554321</td></tr>\n",
       "</tbody>\n",
       "</table>\n"
      ],
      "text/latex": [
       "\\begin{tabular}{r|lllll}\n",
       "  & Df & Deviance & Resid. Df & Resid. Dev & Pr(>Chi)\\\\\n",
       "\\hline\n",
       "\tNULL & NA          &       NA    & 198         & 268.9530    &          NA\\\\\n",
       "\tjoin &  1          & 7.689494    & 197         & 261.2635    & 0.005554321\\\\\n",
       "\\end{tabular}\n"
      ],
      "text/markdown": [
       "\n",
       "| <!--/--> | Df | Deviance | Resid. Df | Resid. Dev | Pr(>Chi) |\n",
       "|---|---|---|---|---|---|\n",
       "| NULL | NA          |       NA    | 198         | 268.9530    |          NA |\n",
       "| join |  1          | 7.689494    | 197         | 261.2635    | 0.005554321 |\n",
       "\n"
      ],
      "text/plain": [
       "     Df Deviance Resid. Df Resid. Dev Pr(>Chi)   \n",
       "NULL NA       NA 198       268.9530            NA\n",
       "join  1 7.689494 197       261.2635   0.005554321"
      ]
     },
     "metadata": {},
     "output_type": "display_data"
    }
   ],
   "source": [
    "anova(mylogit, test=\"Chisq\")"
   ]
  },
  {
   "cell_type": "markdown",
   "metadata": {},
   "source": [
    "# K Fold"
   ]
  },
  {
   "cell_type": "code",
   "execution_count": 41,
   "metadata": {
    "ExecuteTime": {
     "end_time": "2019-11-18T01:18:44.974231Z",
     "start_time": "2019-11-18T01:18:44.572Z"
    }
   },
   "outputs": [
    {
     "data": {
      "text/html": [
       "<ol class=list-inline>\n",
       "\t<li>0.247018780510476</li>\n",
       "\t<li>0.243152391763003</li>\n",
       "\t<li>0.240020440820298</li>\n",
       "\t<li>0.245207389084416</li>\n",
       "\t<li>0.241789260507343</li>\n",
       "\t<li>0.241440670724236</li>\n",
       "\t<li>0.241034541449709</li>\n",
       "\t<li>0.23751352108389</li>\n",
       "\t<li>0.240915772890144</li>\n",
       "\t<li>0.239373497752602</li>\n",
       "</ol>\n"
      ],
      "text/latex": [
       "\\begin{enumerate*}\n",
       "\\item 0.247018780510476\n",
       "\\item 0.243152391763003\n",
       "\\item 0.240020440820298\n",
       "\\item 0.245207389084416\n",
       "\\item 0.241789260507343\n",
       "\\item 0.241440670724236\n",
       "\\item 0.241034541449709\n",
       "\\item 0.23751352108389\n",
       "\\item 0.240915772890144\n",
       "\\item 0.239373497752602\n",
       "\\end{enumerate*}\n"
      ],
      "text/markdown": [
       "1. 0.247018780510476\n",
       "2. 0.243152391763003\n",
       "3. 0.240020440820298\n",
       "4. 0.245207389084416\n",
       "5. 0.241789260507343\n",
       "6. 0.241440670724236\n",
       "7. 0.241034541449709\n",
       "8. 0.23751352108389\n",
       "9. 0.240915772890144\n",
       "10. 0.239373497752602\n",
       "\n",
       "\n"
      ],
      "text/plain": [
       " [1] 0.2470188 0.2431524 0.2400204 0.2452074 0.2417893 0.2414407 0.2410345\n",
       " [8] 0.2375135 0.2409158 0.2393735"
      ]
     },
     "metadata": {},
     "output_type": "display_data"
    }
   ],
   "source": [
    "set.seed(20)\n",
    "cv.error.10=rep(0 ,10)\n",
    "for (i in 1:10){\n",
    "  glm.fit=glm(churn~join+age+spend,data=Q2,family=binomial(link=\"logit\")) \n",
    "  cv.error.10[i]=cv.glm(Q2,glm.fit,K=10)$delta[1]\n",
    "}\n",
    "cv.error.10"
   ]
  },
  {
   "cell_type": "code",
   "execution_count": null,
   "metadata": {},
   "outputs": [],
   "source": []
  }
 ],
 "metadata": {
  "kernelspec": {
   "display_name": "R",
   "language": "R",
   "name": "ir"
  },
  "language_info": {
   "codemirror_mode": "r",
   "file_extension": ".r",
   "mimetype": "text/x-r-source",
   "name": "R",
   "pygments_lexer": "r",
   "version": "3.6.1"
  },
  "toc": {
   "base_numbering": 1,
   "nav_menu": {},
   "number_sections": true,
   "sideBar": true,
   "skip_h1_title": false,
   "title_cell": "Table of Contents",
   "title_sidebar": "Contents",
   "toc_cell": false,
   "toc_position": {},
   "toc_section_display": true,
   "toc_window_display": true
  }
 },
 "nbformat": 4,
 "nbformat_minor": 2
}
