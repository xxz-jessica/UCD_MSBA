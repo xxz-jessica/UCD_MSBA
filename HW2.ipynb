{
 "cells": [
  {
   "cell_type": "code",
   "execution_count": 1,
   "metadata": {
    "collapsed": true
   },
   "outputs": [
    {
     "name": "stderr",
     "output_type": "stream",
     "text": [
      "also installing the dependencies 'R.methodsS3', 'R.oo', 'R.utils', 'R.devices', 'doParallel', 'itertools', 'rjson'\n",
      "\n"
     ]
    },
    {
     "name": "stdout",
     "output_type": "stream",
     "text": [
      "package 'R.methodsS3' successfully unpacked and MD5 sums checked\n",
      "package 'R.oo' successfully unpacked and MD5 sums checked\n",
      "package 'R.utils' successfully unpacked and MD5 sums checked\n",
      "package 'R.devices' successfully unpacked and MD5 sums checked\n",
      "package 'doParallel' successfully unpacked and MD5 sums checked\n",
      "package 'itertools' successfully unpacked and MD5 sums checked\n",
      "package 'rjson' successfully unpacked and MD5 sums checked\n",
      "package 'contextual' successfully unpacked and MD5 sums checked\n",
      "\n",
      "The downloaded binary packages are in\n",
      "\tC:\\Users\\xingxuan_dell\\AppData\\Local\\Temp\\Rtmp2VfJhV\\downloaded_packages\n"
     ]
    },
    {
     "name": "stderr",
     "output_type": "stream",
     "text": [
      "Registered S3 method overwritten by 'R.oo':\n",
      "  method        from       \n",
      "  throw.default R.methodsS3\n"
     ]
    }
   ],
   "source": [
    "install.packages('contextual')\n",
    "library(contextual)"
   ]
  },
  {
   "cell_type": "code",
   "execution_count": 2,
   "metadata": {
    "collapsed": true
   },
   "outputs": [
    {
     "name": "stdout",
     "output_type": "stream",
     "text": [
      "package 'readxl' successfully unpacked and MD5 sums checked\n",
      "\n",
      "The downloaded binary packages are in\n",
      "\tC:\\Users\\xingxuan_dell\\AppData\\Local\\Temp\\RtmpW0ScbE\\downloaded_packages\n"
     ]
    }
   ],
   "source": [
    "install.packages('readxl')\n",
    "library(readxl)"
   ]
  },
  {
   "cell_type": "code",
   "execution_count": 47,
   "metadata": {},
   "outputs": [
    {
     "name": "stderr",
     "output_type": "stream",
     "text": [
      "Warning message:\n",
      "\"package 'S4' is not available (for R version 3.6.1)\""
     ]
    }
   ],
   "source": [
    "install.packages('S4')"
   ]
  },
  {
   "cell_type": "code",
   "execution_count": 1,
   "metadata": {},
   "outputs": [],
   "source": [
    "library(readxl)"
   ]
  },
  {
   "cell_type": "code",
   "execution_count": 2,
   "metadata": {
    "collapsed": true
   },
   "outputs": [
    {
     "name": "stderr",
     "output_type": "stream",
     "text": [
      "Loading required package: lattice\n",
      "Loading required package: survival\n",
      "Loading required package: Formula\n",
      "Loading required package: ggplot2\n",
      "Registered S3 methods overwritten by 'ggplot2':\n",
      "  method         from \n",
      "  [.quosures     rlang\n",
      "  c.quosures     rlang\n",
      "  print.quosures rlang\n",
      "\n",
      "Attaching package: 'Hmisc'\n",
      "\n",
      "The following objects are masked from 'package:base':\n",
      "\n",
      "    format.pval, units\n",
      "\n"
     ]
    }
   ],
   "source": [
    "library(Hmisc)"
   ]
  },
  {
   "cell_type": "code",
   "execution_count": 45,
   "metadata": {},
   "outputs": [
    {
     "ename": "ERROR",
     "evalue": "Error in library(Stat4): there is no package called 'Stat4'\n",
     "output_type": "error",
     "traceback": [
      "Error in library(Stat4): there is no package called 'Stat4'\nTraceback:\n",
      "1. library(Stat4)"
     ]
    }
   ],
   "source": [
    "library(Stat4)"
   ]
  },
  {
   "cell_type": "code",
   "execution_count": 71,
   "metadata": {},
   "outputs": [
    {
     "name": "stderr",
     "output_type": "stream",
     "text": [
      "New names:\n",
      "* `` -> ...16\n"
     ]
    }
   ],
   "source": [
    "setwd(\"D:/BAX401/HW2\")\n",
    "hw2<-read_excel('HW2_MultimediaHW.xlsx')\n",
    "colnames(hw2)[colnames(hw2)==\"Sales (units)\"] <- \"sale\""
   ]
  },
  {
   "cell_type": "code",
   "execution_count": 67,
   "metadata": {},
   "outputs": [
    {
     "data": {
      "text/html": [
       "<table>\n",
       "<thead><tr><th></th><th scope=col>sd</th><th scope=col>mean</th><th scope=col>min</th><th scope=col>Q1</th><th scope=col>median</th><th scope=col>Q3</th><th scope=col>max</th></tr></thead>\n",
       "<tbody>\n",
       "\t<tr><th scope=row>Months</th><td> 12.2678441 </td><td>  21.5000000</td><td>   1.000000 </td><td>  11.2500000</td><td>  21.5000000</td><td>  31.7500000</td><td>  42.000000 </td></tr>\n",
       "\t<tr><th scope=row>sale</th><td>815.1550044 </td><td>4809.2539425</td><td>3354.753138 </td><td>4405.5153635</td><td>4690.2234148</td><td>5194.9379109</td><td>6975.591260 </td></tr>\n",
       "\t<tr><th scope=row>ADV_Total</th><td>486.5698951 </td><td>1047.1570659</td><td>  59.607431 </td><td> 709.1407951</td><td> 924.2205370</td><td>1408.2718441</td><td>1971.534095 </td></tr>\n",
       "\t<tr><th scope=row>ADV_Offline</th><td>488.5821850 </td><td> 935.3178462</td><td>   0.000000 </td><td> 617.2170405</td><td> 771.8596235</td><td>1294.8433587</td><td>1815.123109 </td></tr>\n",
       "\t<tr><th scope=row>Catalogs_ExistCust</th><td>295.6329127 </td><td> 567.5999324</td><td>   0.000000 </td><td> 328.6903772</td><td> 597.9552374</td><td> 625.6437687</td><td>1298.693704 </td></tr>\n",
       "\t<tr><th scope=row>Catalogs_Winback</th><td>126.6688843 </td><td>  83.4240108</td><td>   0.000000 </td><td>   0.0000000</td><td>   0.0000000</td><td> 174.1524838</td><td> 438.539229 </td></tr>\n",
       "\t<tr><th scope=row>Catalogs_NewCust</th><td>341.2606952 </td><td> 272.8700193</td><td>   0.000000 </td><td>   0.0000000</td><td>  43.6314724</td><td> 487.4163594</td><td>1131.566062 </td></tr>\n",
       "\t<tr><th scope=row>Mailings</th><td> 18.3161356 </td><td>  11.4238837</td><td>   0.000000 </td><td>   0.0000000</td><td>   0.0000000</td><td>  19.2402322</td><td>  84.472110 </td></tr>\n",
       "\t<tr><th scope=row>ADV_online</th><td> 53.0977384 </td><td> 111.8392197</td><td>  50.413570 </td><td>  70.1430533</td><td>  99.9681422</td><td> 136.6144398</td><td> 295.212131 </td></tr>\n",
       "\t<tr><th scope=row>Banner</th><td> 18.9706701 </td><td>   5.1794717</td><td>   0.000000 </td><td>   0.0000000</td><td>   0.0000000</td><td>   0.0000000</td><td>  87.610677 </td></tr>\n",
       "\t<tr><th scope=row>Search</th><td> 25.2237252 </td><td>  69.8326228</td><td>  38.166397 </td><td>  45.3756058</td><td>  66.1092892</td><td>  88.1932149</td><td> 134.871567 </td></tr>\n",
       "\t<tr><th scope=row>SocialMedia</th><td>  0.0000000 </td><td>   0.0000000</td><td>   0.000000 </td><td>   0.0000000</td><td>   0.0000000</td><td>   0.0000000</td><td>   0.000000 </td></tr>\n",
       "\t<tr><th scope=row>Newsletter</th><td>  8.5267157 </td><td>  20.7341341</td><td>   7.056543 </td><td>  16.6914378</td><td>  19.7786753</td><td>  25.1389338</td><td>  53.609370 </td></tr>\n",
       "\t<tr><th scope=row>Retargeting</th><td> 16.0938680 </td><td>  10.8468457</td><td>   0.000000 </td><td>   0.0000000</td><td>   0.0000000</td><td>  18.5573506</td><td>  49.297415 </td></tr>\n",
       "\t<tr><th scope=row>Portals</th><td>  1.9573334 </td><td>   5.2461454</td><td>   2.544426 </td><td>   3.3925687</td><td>   4.7071890</td><td>   6.8665590</td><td>   9.303373 </td></tr>\n",
       "\t<tr><th scope=row>...16</th><td>  0.2389815 </td><td>   0.8259485</td><td>   0.000000 </td><td>   0.8470715</td><td>   0.8943151</td><td>   0.9243779</td><td>   0.965136 </td></tr>\n",
       "</tbody>\n",
       "</table>\n"
      ],
      "text/latex": [
       "\\begin{tabular}{r|lllllll}\n",
       "  & sd & mean & min & Q1 & median & Q3 & max\\\\\n",
       "\\hline\n",
       "\tMonths &  12.2678441  &   21.5000000 &    1.000000  &   11.2500000 &   21.5000000 &   31.7500000 &   42.000000 \\\\\n",
       "\tsale & 815.1550044  & 4809.2539425 & 3354.753138  & 4405.5153635 & 4690.2234148 & 5194.9379109 & 6975.591260 \\\\\n",
       "\tADV\\_Total & 486.5698951  & 1047.1570659 &   59.607431  &  709.1407951 &  924.2205370 & 1408.2718441 & 1971.534095 \\\\\n",
       "\tADV\\_Offline & 488.5821850  &  935.3178462 &    0.000000  &  617.2170405 &  771.8596235 & 1294.8433587 & 1815.123109 \\\\\n",
       "\tCatalogs\\_ExistCust & 295.6329127  &  567.5999324 &    0.000000  &  328.6903772 &  597.9552374 &  625.6437687 & 1298.693704 \\\\\n",
       "\tCatalogs\\_Winback & 126.6688843  &   83.4240108 &    0.000000  &    0.0000000 &    0.0000000 &  174.1524838 &  438.539229 \\\\\n",
       "\tCatalogs\\_NewCust & 341.2606952  &  272.8700193 &    0.000000  &    0.0000000 &   43.6314724 &  487.4163594 & 1131.566062 \\\\\n",
       "\tMailings &  18.3161356  &   11.4238837 &    0.000000  &    0.0000000 &    0.0000000 &   19.2402322 &   84.472110 \\\\\n",
       "\tADV\\_online &  53.0977384  &  111.8392197 &   50.413570  &   70.1430533 &   99.9681422 &  136.6144398 &  295.212131 \\\\\n",
       "\tBanner &  18.9706701  &    5.1794717 &    0.000000  &    0.0000000 &    0.0000000 &    0.0000000 &   87.610677 \\\\\n",
       "\tSearch &  25.2237252  &   69.8326228 &   38.166397  &   45.3756058 &   66.1092892 &   88.1932149 &  134.871567 \\\\\n",
       "\tSocialMedia &   0.0000000  &    0.0000000 &    0.000000  &    0.0000000 &    0.0000000 &    0.0000000 &    0.000000 \\\\\n",
       "\tNewsletter &   8.5267157  &   20.7341341 &    7.056543  &   16.6914378 &   19.7786753 &   25.1389338 &   53.609370 \\\\\n",
       "\tRetargeting &  16.0938680  &   10.8468457 &    0.000000  &    0.0000000 &    0.0000000 &   18.5573506 &   49.297415 \\\\\n",
       "\tPortals &   1.9573334  &    5.2461454 &    2.544426  &    3.3925687 &    4.7071890 &    6.8665590 &    9.303373 \\\\\n",
       "\t...16 &   0.2389815  &    0.8259485 &    0.000000  &    0.8470715 &    0.8943151 &    0.9243779 &    0.965136 \\\\\n",
       "\\end{tabular}\n"
      ],
      "text/markdown": [
       "\n",
       "| <!--/--> | sd | mean | min | Q1 | median | Q3 | max |\n",
       "|---|---|---|---|---|---|---|---|\n",
       "| Months |  12.2678441  |   21.5000000 |    1.000000  |   11.2500000 |   21.5000000 |   31.7500000 |   42.000000  |\n",
       "| sale | 815.1550044  | 4809.2539425 | 3354.753138  | 4405.5153635 | 4690.2234148 | 5194.9379109 | 6975.591260  |\n",
       "| ADV_Total | 486.5698951  | 1047.1570659 |   59.607431  |  709.1407951 |  924.2205370 | 1408.2718441 | 1971.534095  |\n",
       "| ADV_Offline | 488.5821850  |  935.3178462 |    0.000000  |  617.2170405 |  771.8596235 | 1294.8433587 | 1815.123109  |\n",
       "| Catalogs_ExistCust | 295.6329127  |  567.5999324 |    0.000000  |  328.6903772 |  597.9552374 |  625.6437687 | 1298.693704  |\n",
       "| Catalogs_Winback | 126.6688843  |   83.4240108 |    0.000000  |    0.0000000 |    0.0000000 |  174.1524838 |  438.539229  |\n",
       "| Catalogs_NewCust | 341.2606952  |  272.8700193 |    0.000000  |    0.0000000 |   43.6314724 |  487.4163594 | 1131.566062  |\n",
       "| Mailings |  18.3161356  |   11.4238837 |    0.000000  |    0.0000000 |    0.0000000 |   19.2402322 |   84.472110  |\n",
       "| ADV_online |  53.0977384  |  111.8392197 |   50.413570  |   70.1430533 |   99.9681422 |  136.6144398 |  295.212131  |\n",
       "| Banner |  18.9706701  |    5.1794717 |    0.000000  |    0.0000000 |    0.0000000 |    0.0000000 |   87.610677  |\n",
       "| Search |  25.2237252  |   69.8326228 |   38.166397  |   45.3756058 |   66.1092892 |   88.1932149 |  134.871567  |\n",
       "| SocialMedia |   0.0000000  |    0.0000000 |    0.000000  |    0.0000000 |    0.0000000 |    0.0000000 |    0.000000  |\n",
       "| Newsletter |   8.5267157  |   20.7341341 |    7.056543  |   16.6914378 |   19.7786753 |   25.1389338 |   53.609370  |\n",
       "| Retargeting |  16.0938680  |   10.8468457 |    0.000000  |    0.0000000 |    0.0000000 |   18.5573506 |   49.297415  |\n",
       "| Portals |   1.9573334  |    5.2461454 |    2.544426  |    3.3925687 |    4.7071890 |    6.8665590 |    9.303373  |\n",
       "| ...16 |   0.2389815  |    0.8259485 |    0.000000  |    0.8470715 |    0.8943151 |    0.9243779 |    0.965136  |\n",
       "\n"
      ],
      "text/plain": [
       "                   sd          mean         min         Q1          \n",
       "Months              12.2678441   21.5000000    1.000000   11.2500000\n",
       "sale               815.1550044 4809.2539425 3354.753138 4405.5153635\n",
       "ADV_Total          486.5698951 1047.1570659   59.607431  709.1407951\n",
       "ADV_Offline        488.5821850  935.3178462    0.000000  617.2170405\n",
       "Catalogs_ExistCust 295.6329127  567.5999324    0.000000  328.6903772\n",
       "Catalogs_Winback   126.6688843   83.4240108    0.000000    0.0000000\n",
       "Catalogs_NewCust   341.2606952  272.8700193    0.000000    0.0000000\n",
       "Mailings            18.3161356   11.4238837    0.000000    0.0000000\n",
       "ADV_online          53.0977384  111.8392197   50.413570   70.1430533\n",
       "Banner              18.9706701    5.1794717    0.000000    0.0000000\n",
       "Search              25.2237252   69.8326228   38.166397   45.3756058\n",
       "SocialMedia          0.0000000    0.0000000    0.000000    0.0000000\n",
       "Newsletter           8.5267157   20.7341341    7.056543   16.6914378\n",
       "Retargeting         16.0938680   10.8468457    0.000000    0.0000000\n",
       "Portals              1.9573334    5.2461454    2.544426    3.3925687\n",
       "...16                0.2389815    0.8259485    0.000000    0.8470715\n",
       "                   median       Q3           max        \n",
       "Months               21.5000000   31.7500000   42.000000\n",
       "sale               4690.2234148 5194.9379109 6975.591260\n",
       "ADV_Total           924.2205370 1408.2718441 1971.534095\n",
       "ADV_Offline         771.8596235 1294.8433587 1815.123109\n",
       "Catalogs_ExistCust  597.9552374  625.6437687 1298.693704\n",
       "Catalogs_Winback      0.0000000  174.1524838  438.539229\n",
       "Catalogs_NewCust     43.6314724  487.4163594 1131.566062\n",
       "Mailings              0.0000000   19.2402322   84.472110\n",
       "ADV_online           99.9681422  136.6144398  295.212131\n",
       "Banner                0.0000000    0.0000000   87.610677\n",
       "Search               66.1092892   88.1932149  134.871567\n",
       "SocialMedia           0.0000000    0.0000000    0.000000\n",
       "Newsletter           19.7786753   25.1389338   53.609370\n",
       "Retargeting           0.0000000   18.5573506   49.297415\n",
       "Portals               4.7071890    6.8665590    9.303373\n",
       "...16                 0.8943151    0.9243779    0.965136"
      ]
     },
     "metadata": {},
     "output_type": "display_data"
    }
   ],
   "source": [
    "summary<-data.frame(sd=apply(hw2,MARGIN=2,sd),mean=apply(hw2,MARGIN=2,mean),\n",
    "                     min=apply(hw2,MARGIN=2,min),Q1=apply(hw2,MARGIN=2,quantile,probs = 0.25),\n",
    "                       median=apply(hw2,MARGIN=2,median),Q3=apply(hw2,MARGIN=2,quantile,probs = 0.75),\n",
    "                       max=apply(hw2,MARGIN=2,max))\n",
    "summary\n"
   ]
  },
  {
   "cell_type": "code",
   "execution_count": 72,
   "metadata": {},
   "outputs": [
    {
     "data": {
      "text/plain": [
       "\n",
       "Call:\n",
       "lm(formula = y ~ Catalogs_ExistCust + Catalogs_Winback + Catalogs_NewCust + \n",
       "    Portals + Search + sale_lag, data = df)\n",
       "\n",
       "Residuals:\n",
       "     Min       1Q   Median       3Q      Max \n",
       "-1294.33  -504.53   -15.72   320.11  1810.01 \n",
       "\n",
       "Coefficients:\n",
       "                    Estimate Std. Error t value Pr(>|t|)  \n",
       "(Intercept)        2543.8778  1072.9106   2.371   0.0235 *\n",
       "Catalogs_ExistCust  -17.4655    15.7681  -1.108   0.2758  \n",
       "Catalogs_Winback     49.5068    26.4117   1.874   0.0695 .\n",
       "Catalogs_NewCust    -24.5686    14.4490  -1.700   0.0982 .\n",
       "Portals             894.8606   601.9088   1.487   0.1463  \n",
       "Search              -16.0436   168.0780  -0.095   0.9245  \n",
       "sale_lag              0.1667     0.1877   0.888   0.3807  \n",
       "---\n",
       "Signif. codes:  0 '***' 0.001 '**' 0.01 '*' 0.05 '.' 0.1 ' ' 1\n",
       "\n",
       "Residual standard error: 692.1 on 34 degrees of freedom\n",
       "  (1 observation deleted due to missingness)\n",
       "Multiple R-squared:  0.3571,\tAdjusted R-squared:  0.2437 \n",
       "F-statistic: 3.148 on 6 and 34 DF,  p-value: 0.01454\n"
      ]
     },
     "metadata": {},
     "output_type": "display_data"
    },
    {
     "data": {
      "text/html": [
       "660.937682934425"
      ],
      "text/latex": [
       "660.937682934425"
      ],
      "text/markdown": [
       "660.937682934425"
      ],
      "text/plain": [
       "[1] 660.9377"
      ]
     },
     "metadata": {},
     "output_type": "display_data"
    }
   ],
   "source": [
    "#focal model\n",
    "\n",
    "y<-hw2$sale\n",
    "\n",
    "df<-sqrt(hw2)\n",
    "\n",
    "df<-df[,-c(1,2)]\n",
    "\n",
    "\n",
    "df$sale_lag<-Lag(y,shift=1)\n",
    "\n",
    "summary(lm(y ~  Catalogs_ExistCust + Catalogs_Winback + Catalogs_NewCust+Portals +Search+sale_lag, data=df))\n",
    "AIC(lm(y ~  Catalogs_ExistCust + Catalogs_Winback + Catalogs_NewCust+Portals +Search+sale_lag, data=df))"
   ]
  },
  {
   "cell_type": "code",
   "execution_count": 73,
   "metadata": {},
   "outputs": [
    {
     "data": {
      "text/plain": [
       "\n",
       "Call:\n",
       "lm(formula = y ~ Catalogs_ExistCust + Catalogs_Winback + Catalogs_NewCust + \n",
       "    Portals + Search + sale_lag2, data = df2)\n",
       "\n",
       "Residuals:\n",
       "    Min      1Q  Median      3Q     Max \n",
       "-1130.2  -480.9   113.8   363.6  1023.4 \n",
       "\n",
       "Coefficients:\n",
       "                    Estimate Std. Error t value Pr(>|t|)  \n",
       "(Intercept)        1865.9733   892.7582   2.090   0.0449 *\n",
       "Catalogs_ExistCust   45.4437    20.3083   2.238   0.0326 *\n",
       "Catalogs_Winback     29.0236    22.9556   1.264   0.2155  \n",
       "Catalogs_NewCust     -1.4761    13.5372  -0.109   0.9139  \n",
       "Portals             840.9344   512.4090   1.641   0.1109  \n",
       "Search               49.9019   142.7215   0.350   0.7290  \n",
       "sale_lag2            -0.1489     0.1682  -0.885   0.3829  \n",
       "---\n",
       "Signif. codes:  0 '***' 0.001 '**' 0.01 '*' 0.05 '.' 0.1 ' ' 1\n",
       "\n",
       "Residual standard error: 577.8 on 31 degrees of freedom\n",
       "  (1 observation deleted due to missingness)\n",
       "Multiple R-squared:  0.4581,\tAdjusted R-squared:  0.3532 \n",
       "F-statistic: 4.368 on 6 and 31 DF,  p-value: 0.002624\n"
      ]
     },
     "metadata": {},
     "output_type": "display_data"
    },
    {
     "data": {
      "text/html": [
       "599.403481280422"
      ],
      "text/latex": [
       "599.403481280422"
      ],
      "text/markdown": [
       "599.403481280422"
      ],
      "text/plain": [
       "[1] 599.4035"
      ]
     },
     "metadata": {},
     "output_type": "display_data"
    }
   ],
   "source": [
    "hw3<-hw2[-c(12),]\n",
    "hw3<-hw3[-c(23),]\n",
    "hw3<-hw3[-c(34),]\n",
    "\n",
    "y<-hw3$sale\n",
    "\n",
    "df2<-df[-c(12),]\n",
    "df2<-df2[-c(23),]\n",
    "df2<-df2[-c(34),]\n",
    "df2$sale_lag2<-Lag(y,shift=1)\n",
    "summary(lm(y ~  Catalogs_ExistCust + Catalogs_Winback + Catalogs_NewCust+Portals +Search+sale_lag2, data=df2))\n",
    "AIC(lm(y ~  Catalogs_ExistCust + Catalogs_Winback + Catalogs_NewCust+Portals +Search+sale_lag2, data=df2))"
   ]
  },
  {
   "cell_type": "code",
   "execution_count": 74,
   "metadata": {},
   "outputs": [
    {
     "data": {
      "text/plain": [
       "\n",
       "Call:\n",
       "lm(formula = y ~ Catalogs_ExistCust + Catalogs_Winback + Catalogs_NewCust + \n",
       "    Portals + Search + sale_lag3, data = df2)\n",
       "\n",
       "Residuals:\n",
       "    Min      1Q  Median      3Q     Max \n",
       "-859.43 -212.55    8.02  327.65  644.24 \n",
       "\n",
       "Coefficients:\n",
       "                    Estimate Std. Error t value Pr(>|t|)   \n",
       "(Intercept)         961.8007   879.2996   1.094  0.28642   \n",
       "Catalogs_ExistCust   44.5776    19.6127   2.273  0.03365 * \n",
       "Catalogs_Winback     25.6326    17.2307   1.488  0.15171   \n",
       "Catalogs_NewCust    -11.7156     9.8505  -1.189  0.24758   \n",
       "Portals             609.9876   424.2885   1.438  0.16526   \n",
       "Search             -132.5112   146.8192  -0.903  0.37700   \n",
       "sale_lag3             0.5504     0.1503   3.661  0.00146 **\n",
       "---\n",
       "Signif. codes:  0 '***' 0.001 '**' 0.01 '*' 0.05 '.' 0.1 ' ' 1\n",
       "\n",
       "Residual standard error: 446.7 on 21 degrees of freedom\n",
       "  (11 observations deleted due to missingness)\n",
       "Multiple R-squared:  0.679,\tAdjusted R-squared:  0.5872 \n",
       "F-statistic: 7.402 on 6 and 21 DF,  p-value: 0.0002369\n"
      ]
     },
     "metadata": {},
     "output_type": "display_data"
    },
    {
     "data": {
      "text/html": [
       "429.107920031768"
      ],
      "text/latex": [
       "429.107920031768"
      ],
      "text/markdown": [
       "429.107920031768"
      ],
      "text/plain": [
       "[1] 429.1079"
      ]
     },
     "metadata": {},
     "output_type": "display_data"
    }
   ],
   "source": [
    "df2$sale_lag3<-Lag(y,shift=11)\n",
    "summary(lm(y ~  Catalogs_ExistCust + Catalogs_Winback + Catalogs_NewCust+Portals +Search+sale_lag3, data=df2))\n",
    "AIC(lm(y ~  Catalogs_ExistCust + Catalogs_Winback + Catalogs_NewCust+Portals +Search+sale_lag3, data=df2))"
   ]
  },
  {
   "cell_type": "code",
   "execution_count": 65,
   "metadata": {},
   "outputs": [
    {
     "data": {
      "text/plain": [
       "\n",
       "Call:\n",
       "lm(formula = y ~ Catalogs_ExistCust + Catalogs_Winback + Catalogs_NewCust + \n",
       "    Portals + Portals:Retargeting + Retargeting + sale_lag3, \n",
       "    data = df2)\n",
       "\n",
       "Residuals:\n",
       "    Min      1Q  Median      3Q     Max \n",
       "-751.02 -244.21   -0.46  311.95  579.42 \n",
       "\n",
       "Coefficients:\n",
       "                     Estimate Std. Error t value Pr(>|t|)   \n",
       "(Intercept)         -249.1755   844.6397  -0.295  0.77103   \n",
       "Catalogs_ExistCust    43.0136    19.2849   2.230  0.03733 * \n",
       "Catalogs_Winback      27.0787    16.0780   1.684  0.10768   \n",
       "Catalogs_NewCust     -12.8499     9.5093  -1.351  0.19169   \n",
       "Portals              761.1732   365.3647   2.083  0.05026 . \n",
       "Retargeting          295.0480   284.0871   1.039  0.31139   \n",
       "sale_lag3              0.5287     0.1461   3.619  0.00171 **\n",
       "Portals:Retargeting -136.5283   109.7810  -1.244  0.22801   \n",
       "---\n",
       "Signif. codes:  0 '***' 0.001 '**' 0.01 '*' 0.05 '.' 0.1 ' ' 1\n",
       "\n",
       "Residual standard error: 434.5 on 20 degrees of freedom\n",
       "  (11 observations deleted due to missingness)\n",
       "Multiple R-squared:  0.7107,\tAdjusted R-squared:  0.6095 \n",
       "F-statistic:  7.02 on 7 and 20 DF,  p-value: 0.0002718\n"
      ]
     },
     "metadata": {},
     "output_type": "display_data"
    },
    {
     "data": {
      "text/html": [
       "428.189124025909"
      ],
      "text/latex": [
       "428.189124025909"
      ],
      "text/markdown": [
       "428.189124025909"
      ],
      "text/plain": [
       "[1] 428.1891"
      ]
     },
     "metadata": {},
     "output_type": "display_data"
    }
   ],
   "source": [
    "summary(lm(y ~  Catalogs_ExistCust + Catalogs_Winback + Catalogs_NewCust+Portals +Portals:Retargeting+Retargeting+sale_lag3, data=df2))\n",
    "AIC(lm(y ~  Catalogs_ExistCust + Catalogs_Winback + Catalogs_NewCust +Portals+Portals:Retargeting+Retargeting+sale_lag3, data=df2))"
   ]
  },
  {
   "cell_type": "code",
   "execution_count": 62,
   "metadata": {},
   "outputs": [
    {
     "data": {
      "text/plain": [
       "\n",
       "Call:\n",
       "lm(formula = y ~ Catalogs_ExistCust + Mailings + sale_lag3, data = df2)\n",
       "\n",
       "Residuals:\n",
       "    Min      1Q  Median      3Q     Max \n",
       "-821.13 -262.60  -11.42  375.07  677.07 \n",
       "\n",
       "Coefficients:\n",
       "                   Estimate Std. Error t value Pr(>|t|)    \n",
       "(Intercept)         235.691    720.217   0.327  0.74632    \n",
       "Catalogs_ExistCust   70.495     19.950   3.534  0.00169 ** \n",
       "Mailings             56.390     32.643   1.727  0.09693 .  \n",
       "sale_lag3             0.601      0.119   5.049 3.67e-05 ***\n",
       "---\n",
       "Signif. codes:  0 '***' 0.001 '**' 0.01 '*' 0.05 '.' 0.1 ' ' 1\n",
       "\n",
       "Residual standard error: 441.9 on 24 degrees of freedom\n",
       "  (11 observations deleted due to missingness)\n",
       "Multiple R-squared:  0.6409,\tAdjusted R-squared:  0.596 \n",
       "F-statistic: 14.28 on 3 and 24 DF,  p-value: 1.517e-05\n"
      ]
     },
     "metadata": {},
     "output_type": "display_data"
    }
   ],
   "source": [
    "#summary(lm(y ~  Catalogs_ExistCust  + Mailings + sale_lag3, data=df2))\n",
    "#step(lm(y~ .,data=df2))\n"
   ]
  },
  {
   "cell_type": "code",
   "execution_count": 27,
   "metadata": {
    "scrolled": true
   },
   "outputs": [
    {
     "data": {
      "text/plain": [
       "\n",
       "Call:\n",
       "lm(formula = y ~ Catalogs_ExistCust + Catalogs_Winback + Catalogs_NewCust + \n",
       "    Search + Newsletter + Retargeting + Portals + sale_lag, data = df)\n",
       "\n",
       "Residuals:\n",
       "    Min      1Q  Median      3Q     Max \n",
       "-8.7727 -3.2142  0.4106  2.7355 11.5208 \n",
       "\n",
       "Coefficients:\n",
       "                   Estimate Std. Error t value Pr(>|t|)   \n",
       "(Intercept)         43.5499    13.2346   3.291  0.00244 **\n",
       "Catalogs_ExistCust  -0.1744     0.1156  -1.509  0.14115   \n",
       "Catalogs_Winback     0.3502     0.1911   1.833  0.07616 . \n",
       "Catalogs_NewCust    -0.1825     0.1040  -1.755  0.08877 . \n",
       "Search               0.9814     1.5062   0.652  0.51934   \n",
       "Newsletter           0.8642     0.9946   0.869  0.39135   \n",
       "Retargeting         -0.5708     0.6423  -0.889  0.38084   \n",
       "Portals              5.8560     4.3207   1.355  0.18480   \n",
       "sale_lag             0.0843     0.1951   0.432  0.66853   \n",
       "---\n",
       "Signif. codes:  0 '***' 0.001 '**' 0.01 '*' 0.05 '.' 0.1 ' ' 1\n",
       "\n",
       "Residual standard error: 4.872 on 32 degrees of freedom\n",
       "  (1 observation deleted due to missingness)\n",
       "Multiple R-squared:  0.4019,\tAdjusted R-squared:  0.2524 \n",
       "F-statistic: 2.688 on 8 and 32 DF,  p-value: 0.02207\n"
      ]
     },
     "metadata": {},
     "output_type": "display_data"
    },
    {
     "name": "stdout",
     "output_type": "stream",
     "text": [
      "Start:  AIC=137.68\n",
      "y ~ Catalogs_ExistCust + Catalogs_Winback + Catalogs_NewCust + \n",
      "    Search + Newsletter + Retargeting + Portals + sale_lag\n",
      "\n",
      "                     Df Sum of Sq    RSS    AIC\n",
      "- sale_lag            1     4.432 763.89 135.92\n",
      "- Search              1    10.076 769.54 136.22\n",
      "- Newsletter          1    17.920 777.38 136.64\n",
      "- Retargeting         1    18.741 778.20 136.68\n",
      "<none>                            759.46 137.68\n",
      "- Portals             1    43.597 803.06 137.97\n",
      "- Catalogs_ExistCust  1    54.031 813.49 138.50\n",
      "- Catalogs_NewCust    1    73.127 832.59 139.45\n",
      "- Catalogs_Winback    1    79.719 839.18 139.77\n"
     ]
    },
    {
     "ename": "ERROR",
     "evalue": "Error in step(lm(y ~ Catalogs_ExistCust + Catalogs_Winback + Catalogs_NewCust + : number of rows in use has changed: remove missing values?\n",
     "output_type": "error",
     "traceback": [
      "Error in step(lm(y ~ Catalogs_ExistCust + Catalogs_Winback + Catalogs_NewCust + : number of rows in use has changed: remove missing values?\nTraceback:\n",
      "1. step(lm(y ~ Catalogs_ExistCust + Catalogs_Winback + Catalogs_NewCust + \n .     Search + Newsletter + Retargeting + Portals + sale_lag, data = df))",
      "2. stop(\"number of rows in use has changed: remove missing values?\")"
     ]
    }
   ],
   "source": [
    "y<-sqrt(hw2$sale)\n",
    "df<-sqrt(hw2)\n",
    "df<-df[,-c(1,2,3,4,9,12)]\n",
    "\n",
    "df$sale_lag<-Lag(y,shift=1)\n",
    "\n",
    "summary(lm(y ~ Catalogs_ExistCust + Catalogs_Winback + Catalogs_NewCust + \n",
    "    Search + Newsletter + Retargeting + Portals + sale_lag, data=df))\n",
    "step(lm(y~ Catalogs_ExistCust + Catalogs_Winback + Catalogs_NewCust + \n",
    "    Search + Newsletter + Retargeting + Portals + sale_lag,data=df))"
   ]
  },
  {
   "cell_type": "code",
   "execution_count": 6,
   "metadata": {},
   "outputs": [
    {
     "data": {
      "text/plain": [
       "\n",
       "Call:\n",
       "lm(formula = y ~ Catalogs_ExistCust + Catalogs_Winback + Portals + \n",
       "    sale_lag, data = df)\n",
       "\n",
       "Residuals:\n",
       "     Min       1Q   Median       3Q      Max \n",
       "-1159.16  -465.82    99.27   368.65  1017.59 \n",
       "\n",
       "Coefficients:\n",
       "                    Estimate Std. Error t value Pr(>|t|)    \n",
       "(Intercept)        1963.1949   821.3901   2.390 0.022711 *  \n",
       "Catalogs_ExistCust   44.7241    18.7081   2.391 0.022683 *  \n",
       "Catalogs_Winback     25.8389    13.0776   1.976 0.056586 .  \n",
       "Portals             997.0091   248.2768   4.016 0.000322 ***\n",
       "sale_lag             -0.1529     0.1459  -1.048 0.302161    \n",
       "---\n",
       "Signif. codes:  0 '***' 0.001 '**' 0.01 '*' 0.05 '.' 0.1 ' ' 1\n",
       "\n",
       "Residual standard error: 561.2 on 33 degrees of freedom\n",
       "  (1 observation deleted due to missingness)\n",
       "Multiple R-squared:  0.4559,\tAdjusted R-squared:   0.39 \n",
       "F-statistic: 6.913 on 4 and 33 DF,  p-value: 0.0003709\n"
      ]
     },
     "metadata": {},
     "output_type": "display_data"
    }
   ],
   "source": [
    "\n",
    "df<-hw2[,-1]\n",
    "df<-df[-c(12,24,36),]\n",
    "y<-df$sale\n",
    "df$catelog<-df$Catalogs_ExistCust+df$Catalogs_NewCust+df$Catalogs_Winback\n",
    "df<-df[,-1]\n",
    "df<-sqrt(df)\n",
    "df$sale_lag<-Lag(y,shift=1)\n",
    "summary(lm(y ~  Catalogs_ExistCust + Catalogs_Winback + Portals + sale_lag,data=df))"
   ]
  },
  {
   "cell_type": "code",
   "execution_count": 17,
   "metadata": {},
   "outputs": [
    {
     "name": "stdout",
     "output_type": "stream",
     "text": [
      "Start:  AIC=128.3\n",
      "y ~ ADV_Total + ADV_Offline + Catalogs_ExistCust + Catalogs_Winback + \n",
      "    Catalogs_NewCust + Mailings + ADV_online + Banner + Search + \n",
      "    SocialMedia + Newsletter + Retargeting + Portals + catelog + \n",
      "    sale_lag\n",
      "\n",
      "\n",
      "Step:  AIC=128.3\n",
      "y ~ ADV_Total + ADV_Offline + Catalogs_ExistCust + Catalogs_Winback + \n",
      "    Catalogs_NewCust + Mailings + ADV_online + Banner + Search + \n",
      "    Newsletter + Retargeting + Portals + catelog + sale_lag\n",
      "\n",
      "                     Df Sum of Sq    RSS    AIC\n",
      "- Retargeting         1     0.001 504.88 126.30\n",
      "- Banner              1     0.030 504.90 126.30\n",
      "- Mailings            1     0.090 504.96 126.30\n",
      "- ADV_Offline         1     0.844 505.72 126.36\n",
      "- catelog             1     2.113 506.99 126.45\n",
      "- Newsletter          1     2.695 507.57 126.50\n",
      "- ADV_online          1     5.955 510.83 126.74\n",
      "- Catalogs_NewCust    1     7.268 512.14 126.84\n",
      "- Search              1     7.273 512.15 126.84\n",
      "- ADV_Total           1    10.434 515.31 127.07\n",
      "- sale_lag            1    12.692 517.57 127.24\n",
      "- Catalogs_ExistCust  1    23.830 528.70 128.05\n",
      "- Catalogs_Winback    1    25.295 530.17 128.15\n",
      "<none>                            504.87 128.30\n",
      "- Portals             1    35.545 540.42 128.88\n",
      "\n",
      "Step:  AIC=126.3\n",
      "y ~ ADV_Total + ADV_Offline + Catalogs_ExistCust + Catalogs_Winback + \n",
      "    Catalogs_NewCust + Mailings + ADV_online + Banner + Search + \n",
      "    Newsletter + Portals + catelog + sale_lag\n",
      "\n",
      "                     Df Sum of Sq    RSS    AIC\n",
      "- Banner              1     0.094 504.97 124.30\n",
      "- Mailings            1     0.121 505.00 124.31\n",
      "- ADV_Offline         1     1.142 506.02 124.38\n",
      "- catelog             1     2.636 507.51 124.49\n",
      "- Catalogs_NewCust    1     7.388 512.26 124.85\n",
      "- Newsletter          1    10.693 515.57 125.09\n",
      "- ADV_Total           1    12.135 517.01 125.20\n",
      "- sale_lag            1    13.783 518.66 125.32\n",
      "- Search              1    15.300 520.18 125.43\n",
      "- ADV_online          1    22.750 527.63 125.97\n",
      "- Catalogs_ExistCust  1    24.918 529.79 126.13\n",
      "<none>                            504.88 126.30\n",
      "- Catalogs_Winback    1    28.101 532.98 126.35\n",
      "- Portals             1    36.053 540.93 126.92\n",
      "\n",
      "Step:  AIC=124.3\n",
      "y ~ ADV_Total + ADV_Offline + Catalogs_ExistCust + Catalogs_Winback + \n",
      "    Catalogs_NewCust + Mailings + ADV_online + Search + Newsletter + \n",
      "    Portals + catelog + sale_lag\n",
      "\n",
      "                     Df Sum of Sq    RSS    AIC\n",
      "- Mailings            1     0.180 505.15 122.32\n",
      "- ADV_Offline         1     1.049 506.02 122.38\n",
      "- catelog             1     2.909 507.88 122.52\n",
      "- Catalogs_NewCust    1     7.355 512.33 122.85\n",
      "- ADV_Total           1    12.523 517.49 123.23\n",
      "- sale_lag            1    14.792 519.76 123.40\n",
      "- Newsletter          1    15.374 520.34 123.44\n",
      "- Search              1    24.113 529.08 124.08\n",
      "- Catalogs_ExistCust  1    25.968 530.94 124.21\n",
      "<none>                            504.97 124.30\n",
      "- ADV_online          1    27.741 532.71 124.33\n",
      "- Catalogs_Winback    1    29.800 534.77 124.48\n",
      "- Portals             1    39.636 544.61 125.17\n",
      "\n",
      "Step:  AIC=122.32\n",
      "y ~ ADV_Total + ADV_Offline + Catalogs_ExistCust + Catalogs_Winback + \n",
      "    Catalogs_NewCust + ADV_online + Search + Newsletter + Portals + \n",
      "    catelog + sale_lag\n",
      "\n",
      "                     Df Sum of Sq    RSS    AIC\n",
      "- ADV_Offline         1     6.184 511.33 120.78\n",
      "- Catalogs_NewCust    1     7.776 512.93 120.90\n",
      "- catelog             1     8.484 513.63 120.95\n",
      "- ADV_Total           1    13.355 518.50 121.31\n",
      "- Newsletter          1    15.194 520.34 121.44\n",
      "- sale_lag            1    16.443 521.59 121.53\n",
      "- Search              1    24.097 529.25 122.09\n",
      "<none>                            505.15 122.32\n",
      "- ADV_online          1    27.906 533.06 122.36\n",
      "- Catalogs_ExistCust  1    29.450 534.60 122.47\n",
      "- Catalogs_Winback    1    38.379 543.53 123.10\n",
      "- Portals             1    43.133 548.28 123.43\n",
      "\n",
      "Step:  AIC=120.78\n",
      "y ~ ADV_Total + Catalogs_ExistCust + Catalogs_Winback + Catalogs_NewCust + \n",
      "    ADV_online + Search + Newsletter + Portals + catelog + sale_lag\n",
      "\n",
      "                     Df Sum of Sq    RSS    AIC\n",
      "- Catalogs_NewCust    1     4.995 516.33 119.15\n",
      "- ADV_Total           1     8.290 519.62 119.39\n",
      "- catelog             1    10.418 521.75 119.55\n",
      "- Newsletter          1    10.678 522.01 119.56\n",
      "- sale_lag            1    15.103 526.44 119.89\n",
      "- Search              1    18.697 530.03 120.14\n",
      "- Catalogs_ExistCust  1    25.474 536.81 120.63\n",
      "<none>                            511.33 120.78\n",
      "- ADV_online          1    32.224 543.56 121.10\n",
      "- Portals             1    39.292 550.63 121.59\n",
      "- Catalogs_Winback    1    39.943 551.28 121.64\n",
      "\n",
      "Step:  AIC=119.15\n",
      "y ~ ADV_Total + Catalogs_ExistCust + Catalogs_Winback + ADV_online + \n",
      "    Search + Newsletter + Portals + catelog + sale_lag\n",
      "\n",
      "                     Df Sum of Sq    RSS    AIC\n",
      "- ADV_Total           1     4.494 520.82 117.48\n",
      "- catelog             1     5.521 521.85 117.55\n",
      "- sale_lag            1    10.677 527.01 117.93\n",
      "- Newsletter          1    12.811 529.14 118.08\n",
      "- Search              1    24.545 540.87 118.91\n",
      "<none>                            516.33 119.15\n",
      "- ADV_online          1    28.083 544.41 119.16\n",
      "- Portals             1    34.670 551.00 119.62\n",
      "- Catalogs_Winback    1    36.432 552.76 119.74\n",
      "- Catalogs_ExistCust  1    71.935 588.26 122.10\n",
      "\n",
      "Step:  AIC=117.48\n",
      "y ~ Catalogs_ExistCust + Catalogs_Winback + ADV_online + Search + \n",
      "    Newsletter + Portals + catelog + sale_lag\n",
      "\n",
      "                     Df Sum of Sq    RSS    AIC\n",
      "- catelog             1     7.104 527.93 115.99\n",
      "- sale_lag            1    13.944 534.77 116.48\n",
      "- Newsletter          1    14.657 535.48 116.53\n",
      "- ADV_online          1    25.424 546.25 117.29\n",
      "<none>                            520.82 117.48\n",
      "- Search              1    28.573 549.40 117.51\n",
      "- Portals             1    30.860 551.68 117.67\n",
      "- Catalogs_Winback    1    40.919 561.74 118.35\n",
      "- Catalogs_ExistCust  1    70.399 591.22 120.30\n",
      "\n",
      "Step:  AIC=115.99\n",
      "y ~ Catalogs_ExistCust + Catalogs_Winback + ADV_online + Search + \n",
      "    Newsletter + Portals + sale_lag\n",
      "\n",
      "                     Df Sum of Sq    RSS    AIC\n",
      "- Newsletter          1    10.269 538.20 114.72\n",
      "- sale_lag            1    21.884 549.81 115.54\n",
      "- ADV_online          1    23.837 551.76 115.67\n",
      "- Search              1    25.755 553.68 115.80\n",
      "<none>                            527.93 115.99\n",
      "- Portals             1    36.324 564.25 116.52\n",
      "- Catalogs_Winback    1    58.357 586.28 117.98\n",
      "- Catalogs_ExistCust  1    65.168 593.10 118.42\n",
      "\n",
      "Step:  AIC=114.72\n",
      "y ~ Catalogs_ExistCust + Catalogs_Winback + ADV_online + Search + \n",
      "    Portals + sale_lag\n",
      "\n",
      "                     Df Sum of Sq    RSS    AIC\n",
      "- ADV_online          1    15.038 553.23 113.77\n",
      "- Search              1    17.023 555.22 113.91\n",
      "- sale_lag            1    18.607 556.80 114.02\n",
      "<none>                            538.20 114.72\n",
      "- Portals             1    43.243 581.44 115.66\n",
      "- Catalogs_Winback    1    58.145 596.34 116.62\n",
      "- Catalogs_ExistCust  1    88.889 627.09 118.53\n",
      "\n",
      "Step:  AIC=113.77\n",
      "y ~ Catalogs_ExistCust + Catalogs_Winback + Search + Portals + \n",
      "    sale_lag\n",
      "\n",
      "                     Df Sum of Sq    RSS    AIC\n",
      "- Search              1     2.705 555.94 111.96\n",
      "- sale_lag            1    12.349 565.58 112.61\n",
      "<none>                            553.23 113.77\n",
      "- Portals             1    43.314 596.55 114.64\n",
      "- Catalogs_Winback    1    62.606 615.84 115.84\n",
      "- Catalogs_ExistCust  1    78.308 631.54 116.80\n",
      "\n",
      "Step:  AIC=111.96\n",
      "y ~ Catalogs_ExistCust + Catalogs_Winback + Portals + sale_lag\n",
      "\n",
      "                     Df Sum of Sq    RSS    AIC\n",
      "- sale_lag            1    11.466 567.41 110.73\n",
      "<none>                            555.94 111.96\n",
      "- Catalogs_Winback    1    60.044 615.98 113.85\n",
      "- Catalogs_ExistCust  1    75.606 631.55 114.80\n",
      "- Portals             1   247.262 803.20 123.94\n"
     ]
    },
    {
     "ename": "ERROR",
     "evalue": "Error in step(lm(y ~ ., data = df)): number of rows in use has changed: remove missing values?\n",
     "output_type": "error",
     "traceback": [
      "Error in step(lm(y ~ ., data = df)): number of rows in use has changed: remove missing values?\nTraceback:\n",
      "1. step(lm(y ~ ., data = df))",
      "2. stop(\"number of rows in use has changed: remove missing values?\")"
     ]
    }
   ],
   "source": [
    "step(lm(y~ .,data=df))"
   ]
  },
  {
   "cell_type": "code",
   "execution_count": 50,
   "metadata": {
    "collapsed": true
   },
   "outputs": [
    {
     "name": "stdout",
     "output_type": "stream",
     "text": [
      "package 'MASS' successfully unpacked and MD5 sums checked\n",
      "\n",
      "The downloaded binary packages are in\n",
      "\tC:\\Users\\xingxuan_dell\\AppData\\Local\\Temp\\RtmpW0ScbE\\downloaded_packages\n"
     ]
    }
   ],
   "source": [
    "install.packages('MASS')\n",
    "library(MASS)"
   ]
  },
  {
   "cell_type": "code",
   "execution_count": 52,
   "metadata": {
    "collapsed": true
   },
   "outputs": [
    {
     "name": "stdout",
     "output_type": "stream",
     "text": [
      "Start:  AIC=523.91\n",
      "y ~ ADV_Total + ADV_Offline + Catalogs_ExistCust + Catalogs_Winback + \n",
      "    Catalogs_NewCust + Mailings + ADV_online + Banner + Search + \n",
      "    SocialMedia + Newsletter + Retargeting + Portals + sale_lag\n",
      "\n"
     ]
    },
    {
     "data": {
      "text/plain": [
       "\n",
       "Call:\n",
       "lm(formula = y ~ ADV_Total + ADV_Offline + Catalogs_ExistCust + \n",
       "    Catalogs_Winback + Catalogs_NewCust + Mailings + ADV_online + \n",
       "    Banner + Search + SocialMedia + Newsletter + Retargeting + \n",
       "    Portals + sale_lag, data = df)\n",
       "\n",
       "Coefficients:\n",
       "       (Intercept)           ADV_Total         ADV_Offline  Catalogs_ExistCust  \n",
       "         1850.9501            295.2841           -346.6967             83.5182  \n",
       "  Catalogs_Winback    Catalogs_NewCust            Mailings          ADV_online  \n",
       "           42.5495             25.8531             12.5867           -346.8158  \n",
       "            Banner              Search         SocialMedia          Newsletter  \n",
       "          -11.8587            429.8952                  NA            158.1771  \n",
       "       Retargeting             Portals            sale_lag  \n",
       "           -3.1691            725.0095             -0.2076  \n"
      ]
     },
     "metadata": {},
     "output_type": "display_data"
    },
    {
     "name": "stdout",
     "output_type": "stream",
     "text": [
      "Start:  AIC=523.91\n",
      "y ~ ADV_Total + ADV_Offline + Catalogs_ExistCust + Catalogs_Winback + \n",
      "    Catalogs_NewCust + Mailings + ADV_online + Banner + Search + \n",
      "    SocialMedia + Newsletter + Retargeting + Portals + sale_lag\n",
      "\n",
      "\n",
      "Step:  AIC=523.91\n",
      "y ~ ADV_Total + ADV_Offline + Catalogs_ExistCust + Catalogs_Winback + \n",
      "    Catalogs_NewCust + Mailings + ADV_online + Banner + Search + \n",
      "    Newsletter + Retargeting + Portals + sale_lag\n",
      "\n",
      "                     Df Sum of Sq      RSS    AIC\n",
      "- Retargeting         1       127  9690706 521.91\n",
      "- Banner              1      1648  9692226 521.92\n",
      "- Mailings            1     28166  9718744 522.03\n",
      "- Newsletter          1     98384  9788963 522.32\n",
      "- Catalogs_NewCust    1    115785  9806363 522.39\n",
      "- ADV_online          1    137355  9827934 522.47\n",
      "- Search              1    281068  9971647 523.06\n",
      "- sale_lag            1    373409 10063987 523.42\n",
      "<none>                             9690579 523.91\n",
      "- Catalogs_ExistCust  1    562789 10253368 524.17\n",
      "- Portals             1    633317 10323896 524.44\n",
      "- Catalogs_Winback    1    812852 10503431 525.13\n",
      "- ADV_Total           1   2021880 11712458 529.49\n",
      "- ADV_Offline         1   3921932 13612511 535.50\n",
      "\n",
      "Step:  AIC=521.91\n",
      "y ~ ADV_Total + ADV_Offline + Catalogs_ExistCust + Catalogs_Winback + \n",
      "    Catalogs_NewCust + Mailings + ADV_online + Banner + Search + \n",
      "    Newsletter + Portals + sale_lag\n",
      "\n",
      "                     Df Sum of Sq      RSS    AIC\n",
      "- Banner              1      2655  9693361 519.92\n",
      "- Mailings            1     28088  9718793 520.03\n",
      "- Catalogs_NewCust    1    115712  9806417 520.39\n",
      "- Newsletter          1    371288 10061994 521.42\n",
      "- sale_lag            1    376765 10067471 521.44\n",
      "<none>                             9690706 521.91\n",
      "- Search              1    537657 10228363 522.07\n",
      "- Catalogs_ExistCust  1    562662 10253368 522.17\n",
      "- ADV_online          1    577561 10268267 522.23\n",
      "- Portals             1    637042 10327748 522.46\n",
      "- Catalogs_Winback    1    821387 10512093 523.17\n",
      "- ADV_Total           1   2060129 11750835 527.62\n",
      "- ADV_Offline         1   4008839 13699545 533.76\n",
      "\n",
      "Step:  AIC=519.92\n",
      "y ~ ADV_Total + ADV_Offline + Catalogs_ExistCust + Catalogs_Winback + \n",
      "    Catalogs_NewCust + Mailings + ADV_online + Search + Newsletter + \n",
      "    Portals + sale_lag\n",
      "\n",
      "                     Df Sum of Sq      RSS    AIC\n",
      "- Mailings            1     27761  9721122 518.04\n",
      "- Catalogs_NewCust    1    113365  9806726 518.39\n",
      "- sale_lag            1    387594 10080955 519.49\n",
      "<none>                             9693361 519.92\n",
      "- Catalogs_ExistCust  1    564834 10258194 520.19\n",
      "- Newsletter          1    637687 10331047 520.47\n",
      "- Portals             1    693484 10386844 520.69\n",
      "- Catalogs_Winback    1    836102 10529463 521.23\n",
      "- Search              1   1005117 10698478 521.87\n",
      "- ADV_online          1   1623599 11316959 524.12\n",
      "- ADV_Total           1   2081604 11774964 525.70\n",
      "- ADV_Offline         1   4258586 13951946 532.49\n",
      "\n",
      "Step:  AIC=518.04\n",
      "y ~ ADV_Total + ADV_Offline + Catalogs_ExistCust + Catalogs_Winback + \n",
      "    Catalogs_NewCust + ADV_online + Search + Newsletter + Portals + \n",
      "    sale_lag\n",
      "\n",
      "                     Df Sum of Sq      RSS    AIC\n",
      "- Catalogs_NewCust    1     86109  9807231 516.39\n",
      "- sale_lag            1    415545 10136667 517.71\n",
      "<none>                             9721122 518.04\n",
      "- Catalogs_ExistCust  1    600722 10321844 518.44\n",
      "- Portals             1    707729 10428851 518.85\n",
      "- Newsletter          1    784484 10505606 519.14\n",
      "- Catalogs_Winback    1    814143 10535264 519.25\n",
      "- Search              1   1219570 10940692 520.76\n",
      "- ADV_online          1   1965131 11686253 523.40\n",
      "- ADV_Total           1   2269419 11990541 524.43\n",
      "- ADV_Offline         1   4294551 14015673 530.67\n",
      "\n",
      "Step:  AIC=516.39\n",
      "y ~ ADV_Total + ADV_Offline + Catalogs_ExistCust + Catalogs_Winback + \n",
      "    ADV_online + Search + Newsletter + Portals + sale_lag\n",
      "\n",
      "                     Df Sum of Sq      RSS    AIC\n",
      "- sale_lag            1    329596 10136827 515.71\n",
      "<none>                             9807231 516.39\n",
      "- Portals             1    660806 10468037 517.00\n",
      "- Catalogs_Winback    1    760500 10567731 517.38\n",
      "- Newsletter          1    854460 10661691 517.73\n",
      "- Search              1   1332797 11140028 519.49\n",
      "- Catalogs_ExistCust  1   1415479 11222710 519.78\n",
      "- ADV_online          1   2152139 11959370 522.33\n",
      "- ADV_Total           1   3009756 12816987 525.10\n",
      "- ADV_Offline         1   4383709 14190940 529.17\n"
     ]
    },
    {
     "ename": "ERROR",
     "evalue": "Error in stepAIC(lm(y ~ ., data = df), direction = \"backward\"): number of rows in use has changed: remove missing values?\n",
     "output_type": "error",
     "traceback": [
      "Error in stepAIC(lm(y ~ ., data = df), direction = \"backward\"): number of rows in use has changed: remove missing values?\nTraceback:\n",
      "1. stepAIC(lm(y ~ ., data = df), direction = \"backward\")",
      "2. stop(\"number of rows in use has changed: remove missing values?\")"
     ]
    }
   ],
   "source": [
    "stepAIC(lm(y~ .,data=df),direction = \"forward\")\n",
    "stepAIC(lm(y~ .,data=df),direction = \"backward\")\n"
   ]
  },
  {
   "cell_type": "code",
   "execution_count": null,
   "metadata": {},
   "outputs": [],
   "source": [
    "#dimmy veriance: banner, retargeting, "
   ]
  },
  {
   "cell_type": "code",
   "execution_count": null,
   "metadata": {},
   "outputs": [],
   "source": []
  },
  {
   "cell_type": "markdown",
   "metadata": {},
   "source": [
    "## Model 1 without all 25% missing variables - nonsig"
   ]
  },
  {
   "cell_type": "code",
   "execution_count": 6,
   "metadata": {
    "scrolled": false
   },
   "outputs": [
    {
     "data": {
      "text/plain": [
       "\n",
       "Call:\n",
       "lm(formula = y ~ sale_lag + z$cat_exist + z$search:z$portals + \n",
       "    z$newsletter + z$portals + z$search)\n",
       "\n",
       "Residuals:\n",
       "     Min       1Q   Median       3Q      Max \n",
       "-1154.63  -474.27     5.01   330.82  1826.49 \n",
       "\n",
       "Coefficients:\n",
       "                     Estimate Std. Error t value Pr(>|t|)\n",
       "(Intercept)        1235.67884 4783.61176   0.258    0.798\n",
       "sale_lag             -0.01162    0.17887  -0.065    0.949\n",
       "z$cat_exist         -27.53789   17.06005  -1.614    0.116\n",
       "z$newsletter        106.99514  139.48397   0.767    0.448\n",
       "z$portals          2091.57768 2381.43583   0.878    0.386\n",
       "z$search            132.93349  604.22579   0.220    0.827\n",
       "z$search:z$portals -105.13625  262.30046  -0.401    0.691\n",
       "\n",
       "Residual standard error: 718.5 on 34 degrees of freedom\n",
       "  (1 observation deleted due to missingness)\n",
       "Multiple R-squared:  0.3072,\tAdjusted R-squared:  0.1849 \n",
       "F-statistic: 2.512 on 6 and 34 DF,  p-value: 0.04033\n"
      ]
     },
     "metadata": {},
     "output_type": "display_data"
    }
   ],
   "source": [
    "features<-cbind(hw2[,2],hw2$Catalogs_ExistCust,hw2$Search,hw2$Newsletter,hw2$Portals)\n",
    "colnames(features)<-c('sale','cat_exist','search','newsletter','portals')\n",
    "sale_lag<-Lag(features$sale,shift=1)\n",
    "\n",
    "y<-features$sale\n",
    "x<-features[,-1]\n",
    "z<-sqrt(x)\n",
    "\n",
    "model_1<-lm(y~sale_lag+z$cat_exist+z$search:z$portals+z$newsletter+z$portals+z$search)\n",
    "summary(model_1)"
   ]
  },
  {
   "cell_type": "code",
   "execution_count": 8,
   "metadata": {},
   "outputs": [
    {
     "name": "stdout",
     "output_type": "stream",
     "text": [
      "Start:  AIC=545.65\n",
      "y ~ sale_lag + z$cat_exist + z$search:z$portals + z$newsletter + \n",
      "    z$portals + z$search\n",
      "\n",
      "                     Df Sum of Sq      RSS    AIC\n",
      "- sale_lag            1      2180 17555188 543.66\n",
      "- z$search:z$portals  1     82943 17635951 543.85\n",
      "- z$newsletter        1    303775 17856783 544.36\n",
      "<none>                            17553008 545.65\n",
      "- z$cat_exist         1   1345159 18898167 546.68\n"
     ]
    },
    {
     "ename": "ERROR",
     "evalue": "Error in step(lm(y ~ sale_lag + z$cat_exist + z$search:z$portals + z$newsletter + : number of rows in use has changed: remove missing values?\n",
     "output_type": "error",
     "traceback": [
      "Error in step(lm(y ~ sale_lag + z$cat_exist + z$search:z$portals + z$newsletter + : number of rows in use has changed: remove missing values?\nTraceback:\n",
      "1. step(lm(y ~ sale_lag + z$cat_exist + z$search:z$portals + z$newsletter + \n .     z$portals + z$search))",
      "2. stop(\"number of rows in use has changed: remove missing values?\")"
     ]
    }
   ],
   "source": [
    "step(lm(y~sale_lag+z$cat_exist+z$search:z$portals+z$newsletter+z$portals+z$search))"
   ]
  },
  {
   "cell_type": "markdown",
   "metadata": {},
   "source": [
    "## Model 2 only use sub-total - nonsig"
   ]
  },
  {
   "cell_type": "code",
   "execution_count": 37,
   "metadata": {
    "scrolled": true
   },
   "outputs": [
    {
     "data": {
      "text/plain": [
       "\n",
       "Call:\n",
       "lm(formula = y ~ sale_lag + z$offline + z$online)\n",
       "\n",
       "Residuals:\n",
       "     Min       1Q   Median       3Q      Max \n",
       "-1254.65  -524.09   -92.13   378.69  2092.81 \n",
       "\n",
       "Coefficients:\n",
       "             Estimate Std. Error t value Pr(>|t|)   \n",
       "(Intercept) 3613.0600  1031.8249   3.502  0.00123 **\n",
       "sale_lag       0.1129     0.1758   0.642  0.52453   \n",
       "z$offline    -12.5352    12.9098  -0.971  0.33786   \n",
       "z$online     101.2217    54.6495   1.852  0.07199 . \n",
       "---\n",
       "Signif. codes:  0 '***' 0.001 '**' 0.01 '*' 0.05 '.' 0.1 ' ' 1\n",
       "\n",
       "Residual standard error: 747.1 on 37 degrees of freedom\n",
       "  (1 observation deleted due to missingness)\n",
       "Multiple R-squared:  0.1848,\tAdjusted R-squared:  0.1187 \n",
       "F-statistic: 2.796 on 3 and 37 DF,  p-value: 0.0536\n"
      ]
     },
     "metadata": {},
     "output_type": "display_data"
    }
   ],
   "source": [
    "features<-cbind(hw2[,2],hw2$ADV_Offline,hw2$ADV_online)\n",
    "colnames(features)<-c('sale','offline','online')\n",
    "sale_lag<-Lag(features$sale,shift=1)\n",
    "\n",
    "y<-features$sale\n",
    "x<-features[,-1]\n",
    "z<-sqrt(x)\n",
    "\n",
    "\n",
    "model_2<-lm(y~sale_lag+z$offline+z$online)\n",
    "summary(model_2)"
   ]
  },
  {
   "cell_type": "markdown",
   "metadata": {},
   "source": [
    "## Model 3 only total - nonsig"
   ]
  },
  {
   "cell_type": "code",
   "execution_count": 40,
   "metadata": {},
   "outputs": [
    {
     "data": {
      "text/plain": [
       "\n",
       "Call:\n",
       "lm(formula = y ~ sale_lag + z)\n",
       "\n",
       "Residuals:\n",
       "     Min       1Q   Median       3Q      Max \n",
       "-1614.25  -426.57     3.78   370.03  2176.92 \n",
       "\n",
       "Coefficients:\n",
       "             Estimate Std. Error t value Pr(>|t|)   \n",
       "(Intercept) 3520.4329  1069.6812   3.291  0.00216 **\n",
       "sale_lag       0.2899     0.1605   1.806  0.07890 . \n",
       "z             -2.3082    15.7517  -0.147  0.88427   \n",
       "---\n",
       "Signif. codes:  0 '***' 0.001 '**' 0.01 '*' 0.05 '.' 0.1 ' ' 1\n",
       "\n",
       "Residual standard error: 776.2 on 38 degrees of freedom\n",
       "  (1 observation deleted due to missingness)\n",
       "Multiple R-squared:  0.09645,\tAdjusted R-squared:  0.04889 \n",
       "F-statistic: 2.028 on 2 and 38 DF,  p-value: 0.1456\n"
      ]
     },
     "metadata": {},
     "output_type": "display_data"
    }
   ],
   "source": [
    "features<-cbind(hw2[,2],hw2$ADV_Total)\n",
    "colnames(features)<-c('sale','ad')\n",
    "sale_lag<-Lag(features$sale,shift=1)\n",
    "\n",
    "y<-features$sale\n",
    "x<-features[,-1]\n",
    "z<-sqrt(x)\n",
    "\n",
    "\n",
    "model_3<-lm(y~sale_lag+z)\n",
    "summary(model_3)"
   ]
  },
  {
   "cell_type": "code",
   "execution_count": null,
   "metadata": {},
   "outputs": [],
   "source": []
  }
 ],
 "metadata": {
  "kernelspec": {
   "display_name": "R",
   "language": "R",
   "name": "ir"
  },
  "language_info": {
   "codemirror_mode": "r",
   "file_extension": ".r",
   "mimetype": "text/x-r-source",
   "name": "R",
   "pygments_lexer": "r",
   "version": "3.6.1"
  }
 },
 "nbformat": 4,
 "nbformat_minor": 2
}
