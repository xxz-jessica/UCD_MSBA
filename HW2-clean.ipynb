{
 "cells": [
  {
   "cell_type": "code",
   "execution_count": 12,
   "metadata": {
    "collapsed": true
   },
   "outputs": [
    {
     "name": "stderr",
     "output_type": "stream",
     "text": [
      "Warning message:\n",
      "\"package 'stats4' is not available (for R version 3.6.1)\"Warning message:\n",
      "\"package 'stats4' is a base package, and should not be updated\""
     ]
    }
   ],
   "source": [
    "install.packages('stats4')"
   ]
  },
  {
   "cell_type": "code",
   "execution_count": 13,
   "metadata": {},
   "outputs": [],
   "source": [
    "library(readxl)\n",
    "library(Hmisc)\n",
    "library(stats4)"
   ]
  },
  {
   "cell_type": "code",
   "execution_count": 32,
   "metadata": {},
   "outputs": [],
   "source": [
    "setwd(\"D:/BAX401/HW2\")\n",
    "hw2<-read_excel('HW2_Clean.xlsx')"
   ]
  },
  {
   "cell_type": "code",
   "execution_count": null,
   "metadata": {},
   "outputs": [],
   "source": []
  },
  {
   "cell_type": "code",
   "execution_count": 5,
   "metadata": {},
   "outputs": [
    {
     "data": {
      "text/html": [
       "<table>\n",
       "<thead><tr><th scope=col>Months</th><th scope=col>Sales</th><th scope=col>ADV_Total</th><th scope=col>ADV_Offline</th><th scope=col>Catalogs_ExistCust</th><th scope=col>Catalogs_Winback</th><th scope=col>Catalogs_NewCust</th><th scope=col>Mailings</th><th scope=col>ADV_online</th><th scope=col>Banner</th><th scope=col>Search</th><th scope=col>Newsletter</th><th scope=col>Retargeting</th><th scope=col>Portals</th></tr></thead>\n",
       "<tbody>\n",
       "\t<tr><td>1         </td><td>3444.523  </td><td> 661.3194 </td><td> 591.1781 </td><td> 503.9151 </td><td>  0.0000  </td><td>  87.26294</td><td> 0.000000 </td><td>70.14136  </td><td>0         </td><td>39.86268  </td><td>26.886107 </td><td>0         </td><td>3.392569  </td></tr>\n",
       "\t<tr><td>2         </td><td>3354.753  </td><td>1249.0182 </td><td>1198.6046 </td><td> 306.3622 </td><td>314.6137  </td><td> 577.62865</td><td> 0.000000 </td><td>50.41357  </td><td>0         </td><td>38.16640  </td><td> 8.854604 </td><td>0         </td><td>3.392569  </td></tr>\n",
       "\t<tr><td>3         </td><td>3979.682  </td><td>1408.8378 </td><td>1333.1326 </td><td>1298.6937 </td><td>  0.0000  </td><td>   0.00000</td><td>34.438880 </td><td>75.70517  </td><td>0         </td><td>38.16640  </td><td>34.146204 </td><td>0         </td><td>3.392569  </td></tr>\n",
       "\t<tr><td>4         </td><td>4816.464  </td><td>1719.9289 </td><td>1659.9652 </td><td> 323.9706 </td><td>200.1860  </td><td>1131.56606</td><td> 4.242577 </td><td>59.96365  </td><td>0         </td><td>38.16640  </td><td>18.404685 </td><td>0         </td><td>3.392569  </td></tr>\n",
       "\t<tr><td>5         </td><td>4294.312  </td><td> 671.2236 </td><td> 620.8101 </td><td> 620.8101 </td><td>  0.0000  </td><td>   0.00000</td><td> 0.000000 </td><td>50.41357  </td><td>0         </td><td>38.16640  </td><td> 8.854604 </td><td>0         </td><td>3.392569  </td></tr>\n",
       "\t<tr><td>6         </td><td>4133.617  </td><td> 687.0274 </td><td> 617.5646 </td><td> 617.5646 </td><td>  0.0000  </td><td>   0.00000</td><td> 0.000000 </td><td>69.46284  </td><td>0         </td><td>38.16640  </td><td>27.903877 </td><td>0         </td><td>3.392569  </td></tr>\n",
       "</tbody>\n",
       "</table>\n"
      ],
      "text/latex": [
       "\\begin{tabular}{r|llllllllllllll}\n",
       " Months & Sales & ADV\\_Total & ADV\\_Offline & Catalogs\\_ExistCust & Catalogs\\_Winback & Catalogs\\_NewCust & Mailings & ADV\\_online & Banner & Search & Newsletter & Retargeting & Portals\\\\\n",
       "\\hline\n",
       "\t 1          & 3444.523   &  661.3194  &  591.1781  &  503.9151  &   0.0000   &   87.26294 &  0.000000  & 70.14136   & 0          & 39.86268   & 26.886107  & 0          & 3.392569  \\\\\n",
       "\t 2          & 3354.753   & 1249.0182  & 1198.6046  &  306.3622  & 314.6137   &  577.62865 &  0.000000  & 50.41357   & 0          & 38.16640   &  8.854604  & 0          & 3.392569  \\\\\n",
       "\t 3          & 3979.682   & 1408.8378  & 1333.1326  & 1298.6937  &   0.0000   &    0.00000 & 34.438880  & 75.70517   & 0          & 38.16640   & 34.146204  & 0          & 3.392569  \\\\\n",
       "\t 4          & 4816.464   & 1719.9289  & 1659.9652  &  323.9706  & 200.1860   & 1131.56606 &  4.242577  & 59.96365   & 0          & 38.16640   & 18.404685  & 0          & 3.392569  \\\\\n",
       "\t 5          & 4294.312   &  671.2236  &  620.8101  &  620.8101  &   0.0000   &    0.00000 &  0.000000  & 50.41357   & 0          & 38.16640   &  8.854604  & 0          & 3.392569  \\\\\n",
       "\t 6          & 4133.617   &  687.0274  &  617.5646  &  617.5646  &   0.0000   &    0.00000 &  0.000000  & 69.46284   & 0          & 38.16640   & 27.903877  & 0          & 3.392569  \\\\\n",
       "\\end{tabular}\n"
      ],
      "text/markdown": [
       "\n",
       "| Months | Sales | ADV_Total | ADV_Offline | Catalogs_ExistCust | Catalogs_Winback | Catalogs_NewCust | Mailings | ADV_online | Banner | Search | Newsletter | Retargeting | Portals |\n",
       "|---|---|---|---|---|---|---|---|---|---|---|---|---|---|\n",
       "| 1          | 3444.523   |  661.3194  |  591.1781  |  503.9151  |   0.0000   |   87.26294 |  0.000000  | 70.14136   | 0          | 39.86268   | 26.886107  | 0          | 3.392569   |\n",
       "| 2          | 3354.753   | 1249.0182  | 1198.6046  |  306.3622  | 314.6137   |  577.62865 |  0.000000  | 50.41357   | 0          | 38.16640   |  8.854604  | 0          | 3.392569   |\n",
       "| 3          | 3979.682   | 1408.8378  | 1333.1326  | 1298.6937  |   0.0000   |    0.00000 | 34.438880  | 75.70517   | 0          | 38.16640   | 34.146204  | 0          | 3.392569   |\n",
       "| 4          | 4816.464   | 1719.9289  | 1659.9652  |  323.9706  | 200.1860   | 1131.56606 |  4.242577  | 59.96365   | 0          | 38.16640   | 18.404685  | 0          | 3.392569   |\n",
       "| 5          | 4294.312   |  671.2236  |  620.8101  |  620.8101  |   0.0000   |    0.00000 |  0.000000  | 50.41357   | 0          | 38.16640   |  8.854604  | 0          | 3.392569   |\n",
       "| 6          | 4133.617   |  687.0274  |  617.5646  |  617.5646  |   0.0000   |    0.00000 |  0.000000  | 69.46284   | 0          | 38.16640   | 27.903877  | 0          | 3.392569   |\n",
       "\n"
      ],
      "text/plain": [
       "  Months Sales    ADV_Total ADV_Offline Catalogs_ExistCust Catalogs_Winback\n",
       "1 1      3444.523  661.3194  591.1781    503.9151            0.0000        \n",
       "2 2      3354.753 1249.0182 1198.6046    306.3622          314.6137        \n",
       "3 3      3979.682 1408.8378 1333.1326   1298.6937            0.0000        \n",
       "4 4      4816.464 1719.9289 1659.9652    323.9706          200.1860        \n",
       "5 5      4294.312  671.2236  620.8101    620.8101            0.0000        \n",
       "6 6      4133.617  687.0274  617.5646    617.5646            0.0000        \n",
       "  Catalogs_NewCust Mailings  ADV_online Banner Search   Newsletter Retargeting\n",
       "1   87.26294        0.000000 70.14136   0      39.86268 26.886107  0          \n",
       "2  577.62865        0.000000 50.41357   0      38.16640  8.854604  0          \n",
       "3    0.00000       34.438880 75.70517   0      38.16640 34.146204  0          \n",
       "4 1131.56606        4.242577 59.96365   0      38.16640 18.404685  0          \n",
       "5    0.00000        0.000000 50.41357   0      38.16640  8.854604  0          \n",
       "6    0.00000        0.000000 69.46284   0      38.16640 27.903877  0          \n",
       "  Portals \n",
       "1 3.392569\n",
       "2 3.392569\n",
       "3 3.392569\n",
       "4 3.392569\n",
       "5 3.392569\n",
       "6 3.392569"
      ]
     },
     "metadata": {},
     "output_type": "display_data"
    }
   ],
   "source": [
    "head(hw2)"
   ]
  },
  {
   "cell_type": "code",
   "execution_count": 6,
   "metadata": {},
   "outputs": [
    {
     "data": {
      "text/html": [
       "<table>\n",
       "<thead><tr><th></th><th scope=col>sd</th><th scope=col>mean</th><th scope=col>min</th><th scope=col>Q1</th><th scope=col>median</th><th scope=col>Q3</th><th scope=col>max</th></tr></thead>\n",
       "<tbody>\n",
       "\t<tr><th scope=row>Months</th><td> 12.267844 </td><td>  21.500000</td><td>   1.000000</td><td>  11.250000</td><td>  21.500000</td><td>  31.750000</td><td>  42.000000</td></tr>\n",
       "\t<tr><th scope=row>Sales</th><td>815.155004 </td><td>4809.253943</td><td>3354.753138</td><td>4405.515363</td><td>4690.223415</td><td>5194.937911</td><td>6975.591260</td></tr>\n",
       "\t<tr><th scope=row>ADV_Total</th><td>486.569895 </td><td>1047.157066</td><td>  59.607431</td><td> 709.140795</td><td> 924.220537</td><td>1408.271844</td><td>1971.534095</td></tr>\n",
       "\t<tr><th scope=row>ADV_Offline</th><td>488.582185 </td><td> 935.317846</td><td>   0.000000</td><td> 617.217040</td><td> 771.859623</td><td>1294.843359</td><td>1815.123109</td></tr>\n",
       "\t<tr><th scope=row>Catalogs_ExistCust</th><td>295.632913 </td><td> 567.599932</td><td>   0.000000</td><td> 328.690377</td><td> 597.955237</td><td> 625.643769</td><td>1298.693704</td></tr>\n",
       "\t<tr><th scope=row>Catalogs_Winback</th><td>126.668884 </td><td>  83.424011</td><td>   0.000000</td><td>   0.000000</td><td>   0.000000</td><td> 174.152484</td><td> 438.539229</td></tr>\n",
       "\t<tr><th scope=row>Catalogs_NewCust</th><td>341.260695 </td><td> 272.870019</td><td>   0.000000</td><td>   0.000000</td><td>  43.631472</td><td> 487.416359</td><td>1131.566062</td></tr>\n",
       "\t<tr><th scope=row>Mailings</th><td> 18.316136 </td><td>  11.423884</td><td>   0.000000</td><td>   0.000000</td><td>   0.000000</td><td>  19.240232</td><td>  84.472110</td></tr>\n",
       "\t<tr><th scope=row>ADV_online</th><td> 53.097738 </td><td> 111.839220</td><td>  50.413570</td><td>  70.143053</td><td>  99.968142</td><td> 136.614440</td><td> 295.212131</td></tr>\n",
       "\t<tr><th scope=row>Banner</th><td> 18.970670 </td><td>   5.179472</td><td>   0.000000</td><td>   0.000000</td><td>   0.000000</td><td>   0.000000</td><td>  87.610677</td></tr>\n",
       "\t<tr><th scope=row>Search</th><td> 25.223725 </td><td>  69.832623</td><td>  38.166397</td><td>  45.375606</td><td>  66.109289</td><td>  88.193215</td><td> 134.871567</td></tr>\n",
       "\t<tr><th scope=row>Newsletter</th><td>  8.526716 </td><td>  20.734134</td><td>   7.056543</td><td>  16.691438</td><td>  19.778675</td><td>  25.138934</td><td>  53.609370</td></tr>\n",
       "\t<tr><th scope=row>Retargeting</th><td> 16.093868 </td><td>  10.846846</td><td>   0.000000</td><td>   0.000000</td><td>   0.000000</td><td>  18.557351</td><td>  49.297415</td></tr>\n",
       "\t<tr><th scope=row>Portals</th><td>  1.957333 </td><td>   5.246145</td><td>   2.544426</td><td>   3.392569</td><td>   4.707189</td><td>   6.866559</td><td>   9.303373</td></tr>\n",
       "</tbody>\n",
       "</table>\n"
      ],
      "text/latex": [
       "\\begin{tabular}{r|lllllll}\n",
       "  & sd & mean & min & Q1 & median & Q3 & max\\\\\n",
       "\\hline\n",
       "\tMonths &  12.267844  &   21.500000 &    1.000000 &   11.250000 &   21.500000 &   31.750000 &   42.000000\\\\\n",
       "\tSales & 815.155004  & 4809.253943 & 3354.753138 & 4405.515363 & 4690.223415 & 5194.937911 & 6975.591260\\\\\n",
       "\tADV\\_Total & 486.569895  & 1047.157066 &   59.607431 &  709.140795 &  924.220537 & 1408.271844 & 1971.534095\\\\\n",
       "\tADV\\_Offline & 488.582185  &  935.317846 &    0.000000 &  617.217040 &  771.859623 & 1294.843359 & 1815.123109\\\\\n",
       "\tCatalogs\\_ExistCust & 295.632913  &  567.599932 &    0.000000 &  328.690377 &  597.955237 &  625.643769 & 1298.693704\\\\\n",
       "\tCatalogs\\_Winback & 126.668884  &   83.424011 &    0.000000 &    0.000000 &    0.000000 &  174.152484 &  438.539229\\\\\n",
       "\tCatalogs\\_NewCust & 341.260695  &  272.870019 &    0.000000 &    0.000000 &   43.631472 &  487.416359 & 1131.566062\\\\\n",
       "\tMailings &  18.316136  &   11.423884 &    0.000000 &    0.000000 &    0.000000 &   19.240232 &   84.472110\\\\\n",
       "\tADV\\_online &  53.097738  &  111.839220 &   50.413570 &   70.143053 &   99.968142 &  136.614440 &  295.212131\\\\\n",
       "\tBanner &  18.970670  &    5.179472 &    0.000000 &    0.000000 &    0.000000 &    0.000000 &   87.610677\\\\\n",
       "\tSearch &  25.223725  &   69.832623 &   38.166397 &   45.375606 &   66.109289 &   88.193215 &  134.871567\\\\\n",
       "\tNewsletter &   8.526716  &   20.734134 &    7.056543 &   16.691438 &   19.778675 &   25.138934 &   53.609370\\\\\n",
       "\tRetargeting &  16.093868  &   10.846846 &    0.000000 &    0.000000 &    0.000000 &   18.557351 &   49.297415\\\\\n",
       "\tPortals &   1.957333  &    5.246145 &    2.544426 &    3.392569 &    4.707189 &    6.866559 &    9.303373\\\\\n",
       "\\end{tabular}\n"
      ],
      "text/markdown": [
       "\n",
       "| <!--/--> | sd | mean | min | Q1 | median | Q3 | max |\n",
       "|---|---|---|---|---|---|---|---|\n",
       "| Months |  12.267844  |   21.500000 |    1.000000 |   11.250000 |   21.500000 |   31.750000 |   42.000000 |\n",
       "| Sales | 815.155004  | 4809.253943 | 3354.753138 | 4405.515363 | 4690.223415 | 5194.937911 | 6975.591260 |\n",
       "| ADV_Total | 486.569895  | 1047.157066 |   59.607431 |  709.140795 |  924.220537 | 1408.271844 | 1971.534095 |\n",
       "| ADV_Offline | 488.582185  |  935.317846 |    0.000000 |  617.217040 |  771.859623 | 1294.843359 | 1815.123109 |\n",
       "| Catalogs_ExistCust | 295.632913  |  567.599932 |    0.000000 |  328.690377 |  597.955237 |  625.643769 | 1298.693704 |\n",
       "| Catalogs_Winback | 126.668884  |   83.424011 |    0.000000 |    0.000000 |    0.000000 |  174.152484 |  438.539229 |\n",
       "| Catalogs_NewCust | 341.260695  |  272.870019 |    0.000000 |    0.000000 |   43.631472 |  487.416359 | 1131.566062 |\n",
       "| Mailings |  18.316136  |   11.423884 |    0.000000 |    0.000000 |    0.000000 |   19.240232 |   84.472110 |\n",
       "| ADV_online |  53.097738  |  111.839220 |   50.413570 |   70.143053 |   99.968142 |  136.614440 |  295.212131 |\n",
       "| Banner |  18.970670  |    5.179472 |    0.000000 |    0.000000 |    0.000000 |    0.000000 |   87.610677 |\n",
       "| Search |  25.223725  |   69.832623 |   38.166397 |   45.375606 |   66.109289 |   88.193215 |  134.871567 |\n",
       "| Newsletter |   8.526716  |   20.734134 |    7.056543 |   16.691438 |   19.778675 |   25.138934 |   53.609370 |\n",
       "| Retargeting |  16.093868  |   10.846846 |    0.000000 |    0.000000 |    0.000000 |   18.557351 |   49.297415 |\n",
       "| Portals |   1.957333  |    5.246145 |    2.544426 |    3.392569 |    4.707189 |    6.866559 |    9.303373 |\n",
       "\n"
      ],
      "text/plain": [
       "                   sd         mean        min         Q1          median     \n",
       "Months              12.267844   21.500000    1.000000   11.250000   21.500000\n",
       "Sales              815.155004 4809.253943 3354.753138 4405.515363 4690.223415\n",
       "ADV_Total          486.569895 1047.157066   59.607431  709.140795  924.220537\n",
       "ADV_Offline        488.582185  935.317846    0.000000  617.217040  771.859623\n",
       "Catalogs_ExistCust 295.632913  567.599932    0.000000  328.690377  597.955237\n",
       "Catalogs_Winback   126.668884   83.424011    0.000000    0.000000    0.000000\n",
       "Catalogs_NewCust   341.260695  272.870019    0.000000    0.000000   43.631472\n",
       "Mailings            18.316136   11.423884    0.000000    0.000000    0.000000\n",
       "ADV_online          53.097738  111.839220   50.413570   70.143053   99.968142\n",
       "Banner              18.970670    5.179472    0.000000    0.000000    0.000000\n",
       "Search              25.223725   69.832623   38.166397   45.375606   66.109289\n",
       "Newsletter           8.526716   20.734134    7.056543   16.691438   19.778675\n",
       "Retargeting         16.093868   10.846846    0.000000    0.000000    0.000000\n",
       "Portals              1.957333    5.246145    2.544426    3.392569    4.707189\n",
       "                   Q3          max        \n",
       "Months               31.750000   42.000000\n",
       "Sales              5194.937911 6975.591260\n",
       "ADV_Total          1408.271844 1971.534095\n",
       "ADV_Offline        1294.843359 1815.123109\n",
       "Catalogs_ExistCust  625.643769 1298.693704\n",
       "Catalogs_Winback    174.152484  438.539229\n",
       "Catalogs_NewCust    487.416359 1131.566062\n",
       "Mailings             19.240232   84.472110\n",
       "ADV_online          136.614440  295.212131\n",
       "Banner                0.000000   87.610677\n",
       "Search               88.193215  134.871567\n",
       "Newsletter           25.138934   53.609370\n",
       "Retargeting          18.557351   49.297415\n",
       "Portals               6.866559    9.303373"
      ]
     },
     "metadata": {},
     "output_type": "display_data"
    }
   ],
   "source": [
    "summary<-data.frame(sd=apply(hw2,MARGIN=2,sd),mean=apply(hw2,MARGIN=2,mean),\n",
    "                     min=apply(hw2,MARGIN=2,min),Q1=apply(hw2,MARGIN=2,quantile,probs = 0.25),\n",
    "                       median=apply(hw2,MARGIN=2,median),Q3=apply(hw2,MARGIN=2,quantile,probs = 0.75),\n",
    "                       max=apply(hw2,MARGIN=2,max))\n",
    "summary\n"
   ]
  },
  {
   "cell_type": "code",
   "execution_count": 31,
   "metadata": {
    "scrolled": false
   },
   "outputs": [
    {
     "data": {
      "text/plain": [
       "\n",
       "Call:\n",
       "lm(formula = y ~ Months + Catalogs_ExistCust + Catalogs_NewCust + \n",
       "    Search + Portals + sale_lag, data = df)\n",
       "\n",
       "Residuals:\n",
       "    Min      1Q  Median      3Q     Max \n",
       "-925.04 -297.20  -51.77  332.13  934.35 \n",
       "\n",
       "Coefficients:\n",
       "                     Estimate Std. Error t value Pr(>|t|)    \n",
       "(Intercept)         5744.3905  1384.2996   4.150 0.000388 ***\n",
       "Months               940.7980   300.0965   3.135 0.004645 ** \n",
       "Catalogs_ExistCust    59.5836    22.3487   2.666 0.013799 *  \n",
       "Catalogs_NewCust      31.6964    10.0234   3.162 0.004354 ** \n",
       "Search             -1137.2322   373.7304  -3.043 0.005777 ** \n",
       "Portals             1714.7858   677.7834   2.530 0.018711 *  \n",
       "sale_lag              -0.3381     0.1574  -2.148 0.042516 *  \n",
       "---\n",
       "Signif. codes:  0 '***' 0.001 '**' 0.01 '*' 0.05 '.' 0.1 ' ' 1\n",
       "\n",
       "Residual standard error: 525.7 on 23 degrees of freedom\n",
       "  (1 observation deleted due to missingness)\n",
       "Multiple R-squared:  0.6211,\tAdjusted R-squared:  0.5223 \n",
       "F-statistic: 6.284 on 6 and 23 DF,  p-value: 0.0005099\n"
      ]
     },
     "metadata": {},
     "output_type": "display_data"
    },
    {
     "data": {
      "text/html": [
       "469.050027007048"
      ],
      "text/latex": [
       "469.050027007048"
      ],
      "text/markdown": [
       "469.050027007048"
      ],
      "text/plain": [
       "[1] 469.05"
      ]
     },
     "metadata": {},
     "output_type": "display_data"
    },
    {
     "name": "stdout",
     "output_type": "stream",
     "text": [
      "Start:  AIC=377.62\n",
      "y ~ Months + Catalogs_ExistCust + Catalogs_Winback + Catalogs_NewCust + \n",
      "    Mailings + Banner + Search + Newsletter + Retargeting + Portals + \n",
      "    sale_lag\n",
      "\n",
      "                     Df Sum of Sq     RSS    AIC\n",
      "- Catalogs_Winback    1         4 3947151 375.62\n",
      "- Retargeting         1    137490 4084637 376.65\n",
      "- Mailings            1    246622 4193770 377.44\n",
      "<none>                            3947147 377.62\n",
      "- Banner              1    733915 4681062 380.74\n",
      "- Newsletter          1    881113 4828260 381.66\n",
      "- Catalogs_NewCust    1   1026657 4973804 382.55\n",
      "- sale_lag            1   1114823 5061970 383.08\n",
      "- Portals             1   1209138 5156285 383.64\n",
      "- Search              1   1616058 5563205 385.91\n",
      "- Months              1   2819991 6767138 391.79\n",
      "- Catalogs_ExistCust  1   2866618 6813765 392.00\n",
      "\n",
      "Step:  AIC=375.62\n",
      "y ~ Months + Catalogs_ExistCust + Catalogs_NewCust + Mailings + \n",
      "    Banner + Search + Newsletter + Retargeting + Portals + sale_lag\n",
      "\n",
      "                     Df Sum of Sq     RSS    AIC\n",
      "- Retargeting         1    159288 4106439 374.81\n",
      "- Mailings            1    249004 4196155 375.45\n",
      "<none>                            3947151 375.62\n",
      "- Banner              1    820880 4768031 379.29\n",
      "- Newsletter          1   1167768 5114918 381.39\n",
      "- sale_lag            1   1781052 5728203 384.79\n",
      "- Portals             1   2025057 5972208 386.04\n",
      "- Search              1   2300798 6247949 387.40\n",
      "- Catalogs_ExistCust  1   2867171 6814322 390.00\n",
      "- Months              1   3673187 7620338 393.35\n",
      "- Catalogs_NewCust    1   4145535 8092686 395.16\n",
      "\n",
      "Step:  AIC=374.81\n",
      "y ~ Months + Catalogs_ExistCust + Catalogs_NewCust + Mailings + \n",
      "    Banner + Search + Newsletter + Portals + sale_lag\n",
      "\n",
      "                     Df Sum of Sq     RSS    AIC\n",
      "- Mailings            1    186629 4293067 374.14\n",
      "<none>                            4106439 374.81\n",
      "- Newsletter          1   1053692 5160131 379.66\n",
      "- Banner              1   1283997 5390436 380.97\n",
      "- sale_lag            1   1646644 5753083 382.92\n",
      "- Portals             1   2201831 6308270 385.69\n",
      "- Catalogs_ExistCust  1   2928210 7034649 388.95\n",
      "- Search              1   3212650 7319089 390.14\n",
      "- Months              1   3688988 7795427 392.04\n",
      "- Catalogs_NewCust    1   4148916 8255355 393.76\n",
      "\n",
      "Step:  AIC=374.14\n",
      "y ~ Months + Catalogs_ExistCust + Catalogs_NewCust + Banner + \n",
      "    Search + Newsletter + Portals + sale_lag\n",
      "\n",
      "                     Df Sum of Sq     RSS    AIC\n",
      "<none>                            4293067 374.14\n",
      "- Banner              1   1124802 5417869 379.12\n",
      "- Newsletter          1   1192783 5485850 379.49\n",
      "- sale_lag            1   1502385 5795452 381.14\n",
      "- Portals             1   2139342 6432409 384.27\n",
      "- Search              1   3199590 7492657 388.85\n",
      "- Catalogs_ExistCust  1   3327501 7620569 389.35\n",
      "- Months              1   3636491 7929558 390.55\n",
      "- Catalogs_NewCust    1   4030329 8323396 392.00\n"
     ]
    },
    {
     "data": {
      "text/plain": [
       "\n",
       "Call:\n",
       "lm(formula = y ~ Months + Catalogs_ExistCust + Catalogs_NewCust + \n",
       "    Banner + Search + Newsletter + Portals + sale_lag, data = df)\n",
       "\n",
       "Coefficients:\n",
       "       (Intercept)              Months  Catalogs_ExistCust    Catalogs_NewCust  \n",
       "           6639.12             1155.05               87.00               40.42  \n",
       "            Banner              Search          Newsletter             Portals  \n",
       "           -171.33            -1349.17             -252.50             1915.12  \n",
       "          sale_lag  \n",
       "             -0.37  \n"
      ]
     },
     "metadata": {},
     "output_type": "display_data"
    }
   ],
   "source": [
    "hw2<-hw2[-c(12,24,36),]\n",
    "y<-hw2$Sales\n",
    "df<-hw2[,c(1,5,6,7,8,10,11,12,13,14)]\n",
    "df<-sqrt(df)\n",
    "df$sale_lag<-Lag(y,shift=1)\n",
    "\n",
    "summary(lm(y ~Months + Catalogs_ExistCust  + Catalogs_NewCust + Search  + Portals + sale_lag,data=df))\n",
    "\n",
    "AIC(lm(y ~  Months + Catalogs_ExistCust  + Catalogs_NewCust + Search  + Portals + sale_lag,data=df))\n",
    "step(lm(y~ .,data=df))"
   ]
  },
  {
   "cell_type": "code",
   "execution_count": null,
   "metadata": {},
   "outputs": [],
   "source": []
  },
  {
   "cell_type": "code",
   "execution_count": null,
   "metadata": {},
   "outputs": [],
   "source": []
  }
 ],
 "metadata": {
  "kernelspec": {
   "display_name": "R",
   "language": "R",
   "name": "ir"
  },
  "language_info": {
   "codemirror_mode": "r",
   "file_extension": ".r",
   "mimetype": "text/x-r-source",
   "name": "R",
   "pygments_lexer": "r",
   "version": "3.6.1"
  }
 },
 "nbformat": 4,
 "nbformat_minor": 2
}
