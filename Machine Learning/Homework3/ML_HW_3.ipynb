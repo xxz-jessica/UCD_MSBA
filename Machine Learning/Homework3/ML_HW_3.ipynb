{
 "cells": [
  {
   "cell_type": "code",
   "execution_count": 1,
   "metadata": {
    "ExecuteTime": {
     "end_time": "2020-01-22T06:39:36.997664Z",
     "start_time": "2020-01-22T06:39:35.162808Z"
    }
   },
   "outputs": [],
   "source": [
    "import numpy as np\n",
    "import pandas as pd\n",
    "import scipy as sp\n",
    "import os\n",
    "import seaborn as sns\n",
    "import matplotlib.pyplot as plt\n",
    "import statsmodels.api as sm\n",
    "from sklearn import preprocessing\n",
    "from sklearn.metrics import confusion_matrix\n",
    "from sklearn.metrics import r2_score\n",
    "from sklearn.model_selection import cross_val_score, cross_val_predict\n",
    "from sklearn.linear_model import LogisticRegression\n",
    "from sklearn.model_selection import train_test_split\n",
    "from sklearn.feature_selection import RFE\n",
    "from sklearn import metrics\n",
    "from sklearn.linear_model import Lasso\n",
    "from sklearn.linear_model import Ridge\n",
    "from sklearn.linear_model import LinearRegression\n",
    "from sklearn.model_selection import GridSearchCV"
   ]
  },
  {
   "cell_type": "code",
   "execution_count": 90,
   "metadata": {
    "ExecuteTime": {
     "end_time": "2020-01-22T07:42:16.312288Z",
     "start_time": "2020-01-22T07:42:16.309297Z"
    }
   },
   "outputs": [],
   "source": [
    "import re\n",
    "import math"
   ]
  },
  {
   "cell_type": "code",
   "execution_count": 164,
   "metadata": {
    "ExecuteTime": {
     "end_time": "2020-01-22T07:57:24.568036Z",
     "start_time": "2020-01-22T07:57:24.563018Z"
    }
   },
   "outputs": [],
   "source": [
    "from sklearn.pipeline import make_pipeline\n",
    "from sklearn.preprocessing import StandardScaler\n",
    "from sklearn.preprocessing import RobustScaler"
   ]
  },
  {
   "cell_type": "code",
   "execution_count": 572,
   "metadata": {
    "ExecuteTime": {
     "end_time": "2020-01-22T08:52:19.942379Z",
     "start_time": "2020-01-22T08:52:19.053084Z"
    }
   },
   "outputs": [],
   "source": [
    "fifa = pd.read_csv(\"FIFA19data.csv\", sep=r'\\s*,\\s*', engine='python')\n",
    "#fifa.head()\n",
    "#18207 rows * 50 columns, no null"
   ]
  },
  {
   "cell_type": "code",
   "execution_count": 573,
   "metadata": {
    "ExecuteTime": {
     "end_time": "2020-01-22T08:52:20.642022Z",
     "start_time": "2020-01-22T08:52:20.477452Z"
    }
   },
   "outputs": [
    {
     "data": {
      "text/html": [
       "<div>\n",
       "<style scoped>\n",
       "    .dataframe tbody tr th:only-of-type {\n",
       "        vertical-align: middle;\n",
       "    }\n",
       "\n",
       "    .dataframe tbody tr th {\n",
       "        vertical-align: top;\n",
       "    }\n",
       "\n",
       "    .dataframe thead th {\n",
       "        text-align: right;\n",
       "    }\n",
       "</style>\n",
       "<table border=\"1\" class=\"dataframe\">\n",
       "  <thead>\n",
       "    <tr style=\"text-align: right;\">\n",
       "      <th></th>\n",
       "      <th>ID</th>\n",
       "      <th>Name</th>\n",
       "      <th>Age</th>\n",
       "      <th>Nationality</th>\n",
       "      <th>Overall</th>\n",
       "      <th>Potential</th>\n",
       "      <th>Club</th>\n",
       "      <th>Value</th>\n",
       "      <th>Wage</th>\n",
       "      <th>International Reputation</th>\n",
       "      <th>...</th>\n",
       "      <th>Marking</th>\n",
       "      <th>StandingTackle</th>\n",
       "      <th>SlidingTackle</th>\n",
       "      <th>GKDiving</th>\n",
       "      <th>GKHandling</th>\n",
       "      <th>GKKicking</th>\n",
       "      <th>GKPositioning</th>\n",
       "      <th>GKReflexes</th>\n",
       "      <th>Value_unit</th>\n",
       "      <th>Wage_unit</th>\n",
       "    </tr>\n",
       "  </thead>\n",
       "  <tbody>\n",
       "    <tr>\n",
       "      <th>0</th>\n",
       "      <td>158023</td>\n",
       "      <td>L. Messi</td>\n",
       "      <td>31</td>\n",
       "      <td>Argentina</td>\n",
       "      <td>94</td>\n",
       "      <td>94</td>\n",
       "      <td>FC Barcelona</td>\n",
       "      <td>110.5</td>\n",
       "      <td>565.0</td>\n",
       "      <td>5.0</td>\n",
       "      <td>...</td>\n",
       "      <td>33.0</td>\n",
       "      <td>28.0</td>\n",
       "      <td>26.0</td>\n",
       "      <td>6.0</td>\n",
       "      <td>11.0</td>\n",
       "      <td>15.0</td>\n",
       "      <td>14.0</td>\n",
       "      <td>8.0</td>\n",
       "      <td>M</td>\n",
       "      <td>K</td>\n",
       "    </tr>\n",
       "    <tr>\n",
       "      <th>1</th>\n",
       "      <td>20801</td>\n",
       "      <td>Cristiano Ronaldo</td>\n",
       "      <td>33</td>\n",
       "      <td>Portugal</td>\n",
       "      <td>94</td>\n",
       "      <td>94</td>\n",
       "      <td>Juventus</td>\n",
       "      <td>77.0</td>\n",
       "      <td>405.0</td>\n",
       "      <td>5.0</td>\n",
       "      <td>...</td>\n",
       "      <td>28.0</td>\n",
       "      <td>31.0</td>\n",
       "      <td>23.0</td>\n",
       "      <td>7.0</td>\n",
       "      <td>11.0</td>\n",
       "      <td>15.0</td>\n",
       "      <td>14.0</td>\n",
       "      <td>11.0</td>\n",
       "      <td>M</td>\n",
       "      <td>K</td>\n",
       "    </tr>\n",
       "    <tr>\n",
       "      <th>2</th>\n",
       "      <td>190871</td>\n",
       "      <td>Neymar Jr</td>\n",
       "      <td>26</td>\n",
       "      <td>Brazil</td>\n",
       "      <td>92</td>\n",
       "      <td>93</td>\n",
       "      <td>Paris Saint-Germain</td>\n",
       "      <td>118.5</td>\n",
       "      <td>290.0</td>\n",
       "      <td>5.0</td>\n",
       "      <td>...</td>\n",
       "      <td>27.0</td>\n",
       "      <td>24.0</td>\n",
       "      <td>33.0</td>\n",
       "      <td>9.0</td>\n",
       "      <td>9.0</td>\n",
       "      <td>15.0</td>\n",
       "      <td>15.0</td>\n",
       "      <td>11.0</td>\n",
       "      <td>M</td>\n",
       "      <td>K</td>\n",
       "    </tr>\n",
       "    <tr>\n",
       "      <th>3</th>\n",
       "      <td>193080</td>\n",
       "      <td>De Gea</td>\n",
       "      <td>27</td>\n",
       "      <td>Spain</td>\n",
       "      <td>91</td>\n",
       "      <td>93</td>\n",
       "      <td>Manchester United</td>\n",
       "      <td>72.0</td>\n",
       "      <td>260.0</td>\n",
       "      <td>4.0</td>\n",
       "      <td>...</td>\n",
       "      <td>15.0</td>\n",
       "      <td>21.0</td>\n",
       "      <td>13.0</td>\n",
       "      <td>90.0</td>\n",
       "      <td>85.0</td>\n",
       "      <td>87.0</td>\n",
       "      <td>88.0</td>\n",
       "      <td>94.0</td>\n",
       "      <td>M</td>\n",
       "      <td>K</td>\n",
       "    </tr>\n",
       "    <tr>\n",
       "      <th>4</th>\n",
       "      <td>192985</td>\n",
       "      <td>K. De Bruyne</td>\n",
       "      <td>27</td>\n",
       "      <td>Belgium</td>\n",
       "      <td>91</td>\n",
       "      <td>92</td>\n",
       "      <td>Manchester City</td>\n",
       "      <td>102.0</td>\n",
       "      <td>355.0</td>\n",
       "      <td>4.0</td>\n",
       "      <td>...</td>\n",
       "      <td>68.0</td>\n",
       "      <td>58.0</td>\n",
       "      <td>51.0</td>\n",
       "      <td>15.0</td>\n",
       "      <td>13.0</td>\n",
       "      <td>5.0</td>\n",
       "      <td>10.0</td>\n",
       "      <td>13.0</td>\n",
       "      <td>M</td>\n",
       "      <td>K</td>\n",
       "    </tr>\n",
       "  </tbody>\n",
       "</table>\n",
       "<p>5 rows × 52 columns</p>\n",
       "</div>"
      ],
      "text/plain": [
       "       ID               Name  Age Nationality  Overall  Potential  \\\n",
       "0  158023           L. Messi   31   Argentina       94         94   \n",
       "1   20801  Cristiano Ronaldo   33    Portugal       94         94   \n",
       "2  190871          Neymar Jr   26      Brazil       92         93   \n",
       "3  193080             De Gea   27       Spain       91         93   \n",
       "4  192985       K. De Bruyne   27     Belgium       91         92   \n",
       "\n",
       "                  Club  Value   Wage  International Reputation  ...  Marking  \\\n",
       "0         FC Barcelona  110.5  565.0                       5.0  ...     33.0   \n",
       "1             Juventus   77.0  405.0                       5.0  ...     28.0   \n",
       "2  Paris Saint-Germain  118.5  290.0                       5.0  ...     27.0   \n",
       "3    Manchester United   72.0  260.0                       4.0  ...     15.0   \n",
       "4      Manchester City  102.0  355.0                       4.0  ...     68.0   \n",
       "\n",
       "   StandingTackle SlidingTackle GKDiving GKHandling GKKicking  GKPositioning  \\\n",
       "0            28.0          26.0      6.0       11.0      15.0           14.0   \n",
       "1            31.0          23.0      7.0       11.0      15.0           14.0   \n",
       "2            24.0          33.0      9.0        9.0      15.0           15.0   \n",
       "3            21.0          13.0     90.0       85.0      87.0           88.0   \n",
       "4            58.0          51.0     15.0       13.0       5.0           10.0   \n",
       "\n",
       "   GKReflexes  Value_unit  Wage_unit  \n",
       "0         8.0           M          K  \n",
       "1        11.0           M          K  \n",
       "2        11.0           M          K  \n",
       "3        94.0           M          K  \n",
       "4        13.0           M          K  \n",
       "\n",
       "[5 rows x 52 columns]"
      ]
     },
     "execution_count": 573,
     "metadata": {},
     "output_type": "execute_result"
    }
   ],
   "source": [
    "\n",
    "fifa['Value_unit'] = fifa['Value'].copy()\n",
    "fifa['Value'] = fifa['Value'].apply(lambda x:float((str(re.findall(r'(\\d+\\.*\\d*)',str(x))).strip(\"['']\"))))\n",
    "fifa['Value_unit'] = fifa['Value_unit'].apply(lambda x:str(re.findall(r'[A-Z]',str(x))).strip(\"['']\"))\n",
    "\n",
    "fifa['Wage_unit'] = fifa['Wage'].copy()\n",
    "fifa['Wage'] = fifa['Wage'].apply(lambda x:float(str(re.findall(r'(\\d+\\.*\\d*)',str(x))).strip(\"['']\")))\n",
    "fifa['Wage_unit'] = fifa['Wage_unit'].apply(lambda x:str(re.findall(r'[A-Z]',str(x))).strip(\"['']\"))\n",
    "\n",
    "fifa.head()"
   ]
  },
  {
   "cell_type": "code",
   "execution_count": 574,
   "metadata": {
    "ExecuteTime": {
     "end_time": "2020-01-22T08:52:21.399321Z",
     "start_time": "2020-01-22T08:52:21.391343Z"
    }
   },
   "outputs": [],
   "source": [
    "fifa['Value']=np.where(fifa['Value_unit'] =='M', fifa['Value']*1000, fifa['Value'])\n",
    "#fifa['Value']=np.where(fifa['Value_unit'] =='K', fifa['Value']*1000, fifa['Value'])\n",
    "#fifa['Wage']=np.where(fifa['Wage_unit'] =='K', fifa['Wage']*1000, fifa['Wage'])\n",
    "#fifa['GK_level']=np.where(fifa['GKDiving'] <=40, 'low', 'high')"
   ]
  },
  {
   "cell_type": "code",
   "execution_count": 575,
   "metadata": {
    "ExecuteTime": {
     "end_time": "2020-01-22T08:52:22.726710Z",
     "start_time": "2020-01-22T08:52:22.416634Z"
    }
   },
   "outputs": [
    {
     "data": {
      "text/plain": [
       "<matplotlib.axes._subplots.AxesSubplot at 0x2011a2312b0>"
      ]
     },
     "execution_count": 575,
     "metadata": {},
     "output_type": "execute_result"
    },
    {
     "data": {
      "image/png": "[encoded data removed]",
      "text/plain": [
       "<Figure size 432x288 with 1 Axes>"
      ]
     },
     "metadata": {
      "needs_background": "light"
     },
     "output_type": "display_data"
    }
   ],
   "source": [
    "sns.scatterplot(x=fifa['GKDiving'],y=fifa['GKReflexes'])"
   ]
  },
  {
   "cell_type": "code",
   "execution_count": 576,
   "metadata": {
    "ExecuteTime": {
     "end_time": "2020-01-22T08:52:23.517324Z",
     "start_time": "2020-01-22T08:52:23.508348Z"
    }
   },
   "outputs": [
    {
     "data": {
      "text/plain": [
       "array(['2021', '2022', '2020', '2023', '2019', '2024', '30-Jun-19',\n",
       "       '2025', '2026', '31-Dec-18', '2018', nan, '31-May-20', '30-Jun-20',\n",
       "       '31-May-19', '31-Dec-19', '1-Jan-19', '1-Jun-19', '4-Jan-19',\n",
       "       '31-Jan-19', '7-Jan-19', '2-Jan-19', '6-Jan-19', '14-Oct-19',\n",
       "       '3-Jan-19', '4-May-19', '12-Jan-19', '25-Jan-19', '18-Jan-19',\n",
       "       '1-Dec-19', '30-Nov-18', '27-Feb-20', '5-Jan-19', '15-Jan-19',\n",
       "       '30-Jan-19', '11-Jan-19', '20-Jan-19'], dtype=object)"
      ]
     },
     "execution_count": 576,
     "metadata": {},
     "output_type": "execute_result"
    }
   ],
   "source": [
    "fifa['Contract Valid Until'].unique()"
   ]
  },
  {
   "cell_type": "code",
   "execution_count": 577,
   "metadata": {
    "ExecuteTime": {
     "end_time": "2020-01-22T08:52:25.239273Z",
     "start_time": "2020-01-22T08:52:25.171422Z"
    }
   },
   "outputs": [],
   "source": [
    "fifa['Contract Valid Until']=np.where(fifa['Contract Valid Until'] =='20-Jan-19', '2019', fifa['Contract Valid Until'])\n",
    "fifa['Contract Valid Until']=np.where(fifa['Contract Valid Until'] =='11-Jan-19', '2019', fifa['Contract Valid Until'])\n",
    "fifa['Contract Valid Until']=np.where(fifa['Contract Valid Until'] =='30-Jan-19', '2019', fifa['Contract Valid Until'])\n",
    "fifa['Contract Valid Until']=np.where(fifa['Contract Valid Until'] =='15-Jan-19', '2019', fifa['Contract Valid Until'])\n",
    "fifa['Contract Valid Until']=np.where(fifa['Contract Valid Until'] =='5-Jan-19', '2019', fifa['Contract Valid Until'])\n",
    "fifa['Contract Valid Until']=np.where(fifa['Contract Valid Until'] =='3-Jan-19', '2019', fifa['Contract Valid Until'])\n",
    "fifa['Contract Valid Until']=np.where(fifa['Contract Valid Until'] =='30-Jun-19', '2019', fifa['Contract Valid Until'])\n",
    "fifa['Contract Valid Until']=np.where(fifa['Contract Valid Until'] =='27-Feb-20', '2019', fifa['Contract Valid Until'])\n",
    "\n",
    "fifa['Contract Valid Until']=np.where(fifa['Contract Valid Until'] =='30-Nov-18', '2018', fifa['Contract Valid Until'])\n",
    "fifa['Contract Valid Until']=np.where(fifa['Contract Valid Until'] =='1-Dec-19', '2019', fifa['Contract Valid Until'])\n",
    "fifa['Contract Valid Until']=np.where(fifa['Contract Valid Until'] =='18-Jan-19', '2019', fifa['Contract Valid Until'])\n",
    "fifa['Contract Valid Until']=np.where(fifa['Contract Valid Until'] =='25-Jan-19', '2019', fifa['Contract Valid Until'])\n",
    "fifa['Contract Valid Until']=np.where(fifa['Contract Valid Until'] =='12-Jan-19', '2019', fifa['Contract Valid Until'])\n",
    "\n",
    "fifa['Contract Valid Until']=np.where(fifa['Contract Valid Until'] =='4-May-19', '2019', fifa['Contract Valid Until'])\n",
    "fifa['Contract Valid Until']=np.where(fifa['Contract Valid Until'] =='14-Oct-19', '2019', fifa['Contract Valid Until'])\n",
    "fifa['Contract Valid Until']=np.where(fifa['Contract Valid Until'] =='6-Jan-19', '2019', fifa['Contract Valid Until'])\n",
    "fifa['Contract Valid Until']=np.where(fifa['Contract Valid Until'] =='2-Jan-19', '2019', fifa['Contract Valid Until'])\n",
    "fifa['Contract Valid Until']=np.where(fifa['Contract Valid Until'] =='7-Jan-19', '2019', fifa['Contract Valid Until'])\n",
    "\n",
    "fifa['Contract Valid Until']=np.where(fifa['Contract Valid Until'] =='31-Jan-19', '2019', fifa['Contract Valid Until'])\n",
    "fifa['Contract Valid Until']=np.where(fifa['Contract Valid Until'] =='4-Jan-19', '2019', fifa['Contract Valid Until'])\n",
    "fifa['Contract Valid Until']=np.where(fifa['Contract Valid Until'] =='1-Jun-19', '2019', fifa['Contract Valid Until'])\n",
    "fifa['Contract Valid Until']=np.where(fifa['Contract Valid Until'] =='1-Jan-19', '2019', fifa['Contract Valid Until'])\n",
    "fifa['Contract Valid Until']=np.where(fifa['Contract Valid Until'] =='31-Dec-19', '2019', fifa['Contract Valid Until'])\n",
    "\n",
    "fifa['Contract Valid Until']=np.where(fifa['Contract Valid Until'] =='31-May-19', '2019', fifa['Contract Valid Until'])\n",
    "fifa['Contract Valid Until']=np.where(fifa['Contract Valid Until'] =='30-Jun-20', '2020', fifa['Contract Valid Until'])\n",
    "fifa['Contract Valid Until']=np.where(fifa['Contract Valid Until'] =='31-May-20', '2020', fifa['Contract Valid Until'])\n",
    "fifa['Contract Valid Until']=np.where(fifa['Contract Valid Until'] =='31-Dec-18', '2018', fifa['Contract Valid Until'])"
   ]
  },
  {
   "cell_type": "code",
   "execution_count": 578,
   "metadata": {
    "ExecuteTime": {
     "end_time": "2020-01-22T08:52:26.430480Z",
     "start_time": "2020-01-22T08:52:26.359691Z"
    }
   },
   "outputs": [],
   "source": [
    "fifa = fifa.drop('ID', 1)\n",
    "fifa = fifa.drop('Name', 1)\n",
    "fifa = fifa.drop('Nationality', 1)\n",
    "fifa = fifa.drop('Club', 1)\n",
    "#fifa = fifa.drop('Value', 1)\n",
    "#fifa = fifa.drop('Wage', 1)\n",
    "fifa = fifa.drop('Body Type', 1)\n",
    "fifa = fifa.drop('Potential', 1)\n",
    "fifa = fifa.drop('Value_unit', 1)\n",
    "fifa = fifa.drop('Wage_unit', 1)\n",
    "# fifa = fifa.drop('GKPositioning', 1)\n",
    "# fifa = fifa.drop('GKDiving', 1)\n",
    "# fifa = fifa.drop('GKKicking', 1)\n",
    "# fifa = fifa.drop('GKHandling', 1)\n",
    "# fifa = fifa.drop('GKReflexes', 1)\n",
    "fifa = fifa.dropna()"
   ]
  },
  {
   "cell_type": "code",
   "execution_count": 579,
   "metadata": {
    "ExecuteTime": {
     "end_time": "2020-01-22T08:52:31.426084Z",
     "start_time": "2020-01-22T08:52:30.631282Z"
    }
   },
   "outputs": [
    {
     "data": {
      "text/plain": [
       "<matplotlib.axes._subplots.AxesSubplot at 0x2011a2b5668>"
      ]
     },
     "execution_count": 579,
     "metadata": {},
     "output_type": "execute_result"
    },
    {
     "data": {
      "image/png": "[encoded data removed]",
      "text/plain": [
       "<Figure size 720x720 with 2 Axes>"
      ]
     },
     "metadata": {
      "needs_background": "light"
     },
     "output_type": "display_data"
    }
   ],
   "source": [
    "corr_mat=fifa.corr()\n",
    "fig, ax = plt.subplots(figsize=(10,10)) \n",
    "sns.heatmap(corr_mat,ax=ax,cmap='RdYlBu')"
   ]
  },
  {
   "cell_type": "code",
   "execution_count": 580,
   "metadata": {
    "ExecuteTime": {
     "end_time": "2020-01-22T08:52:39.866319Z",
     "start_time": "2020-01-22T08:52:33.442855Z"
    }
   },
   "outputs": [],
   "source": [
    "for col in fifa.columns:\n",
    "    fifa[col].fillna(value=fifa[col].mode()[0], inplace=True)\n",
    "\n",
    "factors = ['International Reputation', 'Weak Foot', 'Skill Moves', 'Work Rate', 'Position', 'Contract Valid Until','Wage']\n",
    "\n",
    "for var in factors:\n",
    "    cat_list='var'+'_'+var\n",
    "    cat_list = pd.get_dummies(fifa[var], prefix=var)\n",
    "    fifa = pd.concat([fifa,cat_list], axis = 1)\n",
    "    fifa = fifa.drop(var, 1)"
   ]
  },
  {
   "cell_type": "code",
   "execution_count": 549,
   "metadata": {
    "ExecuteTime": {
     "end_time": "2020-01-22T08:45:41.409595Z",
     "start_time": "2020-01-22T08:45:41.400625Z"
    }
   },
   "outputs": [
    {
     "data": {
      "text/plain": [
       "['Overall',\n",
       " 'Wage',\n",
       " 'Crossing',\n",
       " 'Finishing',\n",
       " 'HeadingAccuracy',\n",
       " 'ShortPassing',\n",
       " 'Volleys',\n",
       " 'Dribbling',\n",
       " 'Curve',\n",
       " 'FKAccuracy',\n",
       " 'LongPassing',\n",
       " 'BallControl',\n",
       " 'Acceleration',\n",
       " 'SprintSpeed',\n",
       " 'Agility',\n",
       " 'Reactions',\n",
       " 'Balance',\n",
       " 'ShotPower',\n",
       " 'Jumping',\n",
       " 'Stamina',\n",
       " 'Strength',\n",
       " 'LongShots',\n",
       " 'Aggression',\n",
       " 'Interceptions',\n",
       " 'Positioning',\n",
       " 'Vision',\n",
       " 'Penalties',\n",
       " 'Composure',\n",
       " 'Marking',\n",
       " 'StandingTackle',\n",
       " 'SlidingTackle',\n",
       " 'GKDiving',\n",
       " 'GKHandling',\n",
       " 'GKKicking',\n",
       " 'GKPositioning',\n",
       " 'GKReflexes',\n",
       " 'International Reputation_1.0',\n",
       " 'International Reputation_2.0',\n",
       " 'International Reputation_3.0',\n",
       " 'International Reputation_4.0',\n",
       " 'International Reputation_5.0',\n",
       " 'Weak Foot_1.0',\n",
       " 'Weak Foot_2.0',\n",
       " 'Weak Foot_3.0',\n",
       " 'Weak Foot_4.0',\n",
       " 'Weak Foot_5.0',\n",
       " 'Skill Moves_1.0',\n",
       " 'Skill Moves_2.0',\n",
       " 'Skill Moves_3.0',\n",
       " 'Skill Moves_4.0',\n",
       " 'Skill Moves_5.0',\n",
       " 'Work Rate_High/ High',\n",
       " 'Work Rate_High/ Low',\n",
       " 'Work Rate_High/ Medium',\n",
       " 'Work Rate_Low/ High',\n",
       " 'Work Rate_Low/ Low',\n",
       " 'Work Rate_Low/ Medium',\n",
       " 'Work Rate_Medium/ High',\n",
       " 'Work Rate_Medium/ Low',\n",
       " 'Work Rate_Medium/ Medium',\n",
       " 'Position_CAM',\n",
       " 'Position_CB',\n",
       " 'Position_CDM',\n",
       " 'Position_CF',\n",
       " 'Position_CM',\n",
       " 'Position_GK',\n",
       " 'Position_LAM',\n",
       " 'Position_LB',\n",
       " 'Position_LCB',\n",
       " 'Position_LCM',\n",
       " 'Position_LDM',\n",
       " 'Position_LF',\n",
       " 'Position_LM',\n",
       " 'Position_LS',\n",
       " 'Position_LW',\n",
       " 'Position_LWB',\n",
       " 'Position_RAM',\n",
       " 'Position_RB',\n",
       " 'Position_RCB',\n",
       " 'Position_RCM',\n",
       " 'Position_RDM',\n",
       " 'Position_RF',\n",
       " 'Position_RM',\n",
       " 'Position_RS',\n",
       " 'Position_RW',\n",
       " 'Position_RWB',\n",
       " 'Position_ST',\n",
       " 'Contract Valid Until_2018',\n",
       " 'Contract Valid Until_2019',\n",
       " 'Contract Valid Until_2020',\n",
       " 'Contract Valid Until_2021',\n",
       " 'Contract Valid Until_2022',\n",
       " 'Contract Valid Until_2023',\n",
       " 'Contract Valid Until_2024',\n",
       " 'Contract Valid Until_2025',\n",
       " 'Contract Valid Until_2026',\n",
       " 'Age_16',\n",
       " 'Age_17',\n",
       " 'Age_18',\n",
       " 'Age_19',\n",
       " 'Age_20',\n",
       " 'Age_21',\n",
       " 'Age_22',\n",
       " 'Age_23',\n",
       " 'Age_24',\n",
       " 'Age_25',\n",
       " 'Age_26',\n",
       " 'Age_27',\n",
       " 'Age_28',\n",
       " 'Age_29',\n",
       " 'Age_30',\n",
       " 'Age_31',\n",
       " 'Age_32',\n",
       " 'Age_33',\n",
       " 'Age_34',\n",
       " 'Age_35',\n",
       " 'Age_36',\n",
       " 'Age_37',\n",
       " 'Age_38',\n",
       " 'Age_39',\n",
       " 'Age_40',\n",
       " 'Age_41',\n",
       " 'Age_42',\n",
       " 'Age_44',\n",
       " 'Age_45']"
      ]
     },
     "execution_count": 549,
     "metadata": {},
     "output_type": "execute_result"
    }
   ],
   "source": [
    "fifa.columns.to_list()"
   ]
  },
  {
   "cell_type": "code",
   "execution_count": 581,
   "metadata": {
    "ExecuteTime": {
     "end_time": "2020-01-22T08:52:43.020732Z",
     "start_time": "2020-01-22T08:52:42.997796Z"
    }
   },
   "outputs": [],
   "source": [
    "X = fifa.copy()\n",
    "X = X.drop('Overall', 1)\n",
    "Y = fifa.copy()\n",
    "Y = Y['Overall']"
   ]
  },
  {
   "cell_type": "code",
   "execution_count": 582,
   "metadata": {
    "ExecuteTime": {
     "end_time": "2020-01-22T08:52:43.810128Z",
     "start_time": "2020-01-22T08:52:43.789215Z"
    }
   },
   "outputs": [],
   "source": [
    "X_train,X_test,y_train,y_test=train_test_split(X,Y, test_size=0.9, random_state=31)"
   ]
  },
  {
   "cell_type": "markdown",
   "metadata": {},
   "source": [
    "# Basic Linear Model"
   ]
  },
  {
   "cell_type": "code",
   "execution_count": 583,
   "metadata": {
    "ExecuteTime": {
     "end_time": "2020-01-22T08:52:45.298280Z",
     "start_time": "2020-01-22T08:52:45.246454Z"
    }
   },
   "outputs": [
    {
     "name": "stdout",
     "output_type": "stream",
     "text": [
      "R square:  0.8949859198063498\n",
      "Adj. R square:  0.8934061146092527\n",
      "Features used:  239\n"
     ]
    }
   ],
   "source": [
    "lm1 = LinearRegression()\n",
    "lm1.fit(X_train, y_train)\n",
    "lm1_predictions = lm1.predict(X_test)\n",
    "lm1_r2 = r2_score(y_test,lm1_predictions)\n",
    "lm1_r2_adj = 1 - (1-lm1_r2)*(len(y_test)-1)/(len(y_test)-X_test.shape[1]-1)\n",
    "print('R square: ',lm1_r2)\n",
    "print('Adj. R square: ',lm1_r2_adj)\n",
    "print('Features used: ',len(X_test.columns.tolist()))"
   ]
  },
  {
   "cell_type": "code",
   "execution_count": 584,
   "metadata": {
    "ExecuteTime": {
     "end_time": "2020-01-22T08:52:46.474758Z",
     "start_time": "2020-01-22T08:52:46.157981Z"
    }
   },
   "outputs": [
    {
     "data": {
      "text/plain": [
       "<matplotlib.axes._subplots.AxesSubplot at 0x2011a2ce198>"
      ]
     },
     "execution_count": 584,
     "metadata": {},
     "output_type": "execute_result"
    },
    {
     "data": {
      "image/png": "[encoded data removed]",
      "text/plain": [
       "<Figure size 432x288 with 1 Axes>"
      ]
     },
     "metadata": {
      "needs_background": "light"
     },
     "output_type": "display_data"
    }
   ],
   "source": [
    "sns.scatterplot(lm1_predictions,y_test)"
   ]
  },
  {
   "cell_type": "markdown",
   "metadata": {},
   "source": [
    "# CrossVal"
   ]
  },
  {
   "cell_type": "code",
   "execution_count": 585,
   "metadata": {
    "ExecuteTime": {
     "end_time": "2020-01-22T08:52:51.264420Z",
     "start_time": "2020-01-22T08:52:50.635106Z"
    }
   },
   "outputs": [
    {
     "name": "stdout",
     "output_type": "stream",
     "text": [
      "-1.2490592308055102\n"
     ]
    }
   ],
   "source": [
    "cv_predictions = cross_val_predict(lm1, X, Y, cv=5)\n",
    "cv_r2 = r2_score(Y,cv_predictions)\n",
    "#cv_predictions = cross_val_predict(lm1, X_test, y_test, cv=5)\n",
    "#cv_r2 = r2_score(y_test,cv_predictions)\n",
    "print(cv_r2)"
   ]
  },
  {
   "cell_type": "markdown",
   "metadata": {},
   "source": [
    "# Lasso"
   ]
  },
  {
   "cell_type": "code",
   "execution_count": null,
   "metadata": {},
   "outputs": [],
   "source": []
  },
  {
   "cell_type": "code",
   "execution_count": 586,
   "metadata": {
    "ExecuteTime": {
     "end_time": "2020-01-22T08:52:53.560176Z",
     "start_time": "2020-01-22T08:52:53.403627Z"
    }
   },
   "outputs": [],
   "source": [
    "scaler=StandardScaler()\n",
    "X_test=scaler.fit_transform(X_test)\n",
    "#scaler = RobustScaler()\n",
    "X_train=scaler.fit_transform(X_train)\n",
    "#X_train,X_test,y_train,y_test=train_test_split(X,Y, test_size=0.9, random_state=31)"
   ]
  },
  {
   "cell_type": "code",
   "execution_count": 587,
   "metadata": {
    "ExecuteTime": {
     "end_time": "2020-01-22T08:52:54.234924Z",
     "start_time": "2020-01-22T08:52:54.202978Z"
    }
   },
   "outputs": [],
   "source": [
    "#scaler=StandardScaler()\n",
    "#X=scaler.fit_transform(X_train)\n",
    "lasso = Lasso(normalize=False)\n",
    "lasso.fit(X_train,y_train)\n",
    "lasso1_predictions = lasso.predict(X_test)\n",
    "train_score=lasso.score(X_train,y_train)\n",
    "test_score=lasso.score(X_test,y_test)\n",
    "coeff_used = np.sum(lasso.coef_!=0)\n",
    "r2_lasso1 = r2_score(y_test, lasso1_predictions)\n",
    "lasso1_r2_adj = 1 - (1-r2_lasso1)*(len(y_test)-1)/(len(y_test)-coeff_used-1)"
   ]
  },
  {
   "cell_type": "code",
   "execution_count": 588,
   "metadata": {
    "ExecuteTime": {
     "end_time": "2020-01-22T08:52:55.337800Z",
     "start_time": "2020-01-22T08:52:55.330820Z"
    }
   },
   "outputs": [
    {
     "name": "stdout",
     "output_type": "stream",
     "text": [
      "training score: 0.7901448410778036\n",
      "test score:  0.7856114630806835\n",
      "number of features used:  6\n",
      "test r2 score:  0.7856114630806834\n",
      "test r2 adj score:  0.785531665858505\n"
     ]
    }
   ],
   "source": [
    "print(\"training score:\", train_score)\n",
    "print(\"test score: \", test_score)\n",
    "print(\"number of features used: \", coeff_used)\n",
    "print(\"test r2 score: \", r2_lasso1)\n",
    "print('test r2 adj score: ', lasso1_r2_adj)"
   ]
  },
  {
   "cell_type": "code",
   "execution_count": 589,
   "metadata": {
    "ExecuteTime": {
     "end_time": "2020-01-22T08:52:57.819410Z",
     "start_time": "2020-01-22T08:52:57.515639Z"
    }
   },
   "outputs": [
    {
     "data": {
      "text/plain": [
       "<matplotlib.axes._subplots.AxesSubplot at 0x201266fd9e8>"
      ]
     },
     "execution_count": 589,
     "metadata": {},
     "output_type": "execute_result"
    },
    {
     "data": {
      "image/png": "[encoded data removed]",
      "text/plain": [
       "<Figure size 432x288 with 1 Axes>"
      ]
     },
     "metadata": {
      "needs_background": "light"
     },
     "output_type": "display_data"
    }
   ],
   "source": [
    "sns.scatterplot(lasso1_predictions,y_test)"
   ]
  },
  {
   "cell_type": "code",
   "execution_count": 590,
   "metadata": {
    "ExecuteTime": {
     "end_time": "2020-01-22T08:52:58.934599Z",
     "start_time": "2020-01-22T08:52:58.930607Z"
    }
   },
   "outputs": [],
   "source": [
    "#If you are interested in checking adjusted R2\n",
    "# lm_train_score=lm1.score(X_train,y_train)\n",
    "# lm_test_score=lm1.score(X_test,y_test)\n",
    "# print(\"training score:\", lm_train_score)\n",
    "# print(\"test score: \", lm_test_score)\n",
    "\n",
    "# lm_ra = 1-(1-lm_train_score)*((len(X_train)-1)/(len(X_train)-len(lm1.coef_)-1))\n",
    "# print(lm_ra)\n",
    "# print(lm_train_score)\n",
    "\n",
    "# lasso_ra = 1-(1-train_score)*((len(X_train)-1)/(len(X_train)-coeff_used-1))\n",
    "# print(lasso_ra)\n",
    "# print(train_score)"
   ]
  },
  {
   "cell_type": "code",
   "execution_count": 591,
   "metadata": {
    "ExecuteTime": {
     "end_time": "2020-01-22T08:53:05.111278Z",
     "start_time": "2020-01-22T08:52:59.686616Z"
    }
   },
   "outputs": [
    {
     "name": "stderr",
     "output_type": "stream",
     "text": [
      "C:\\Users\\xingxuan_dell\\Anaconda3\\lib\\site-packages\\sklearn\\linear_model\\_coordinate_descent.py:476: ConvergenceWarning: Objective did not converge. You might want to increase the number of iterations. Duality gap: 2292.543443448702, tolerance: 6.950806703910613\n",
      "  positive)\n",
      "C:\\Users\\xingxuan_dell\\Anaconda3\\lib\\site-packages\\sklearn\\linear_model\\_coordinate_descent.py:476: ConvergenceWarning: Objective did not converge. You might want to increase the number of iterations. Duality gap: 2419.548310731432, tolerance: 7.153939009071877\n",
      "  positive)\n",
      "C:\\Users\\xingxuan_dell\\Anaconda3\\lib\\site-packages\\sklearn\\linear_model\\_coordinate_descent.py:476: ConvergenceWarning: Objective did not converge. You might want to increase the number of iterations. Duality gap: 2454.3450521427303, tolerance: 7.037239357990231\n",
      "  positive)\n",
      "C:\\Users\\xingxuan_dell\\Anaconda3\\lib\\site-packages\\sklearn\\linear_model\\_coordinate_descent.py:476: ConvergenceWarning: Objective did not converge. You might want to increase the number of iterations. Duality gap: 2499.3634665621294, tolerance: 6.885425540823449\n",
      "  positive)\n",
      "C:\\Users\\xingxuan_dell\\Anaconda3\\lib\\site-packages\\sklearn\\linear_model\\_coordinate_descent.py:476: ConvergenceWarning: Objective did not converge. You might want to increase the number of iterations. Duality gap: 2471.4581110329596, tolerance: 7.0820541521284035\n",
      "  positive)\n",
      "C:\\Users\\xingxuan_dell\\Anaconda3\\lib\\site-packages\\sklearn\\linear_model\\_coordinate_descent.py:476: ConvergenceWarning: Objective did not converge. You might want to increase the number of iterations. Duality gap: 2291.7533948126447, tolerance: 6.950806703910613\n",
      "  positive)\n",
      "C:\\Users\\xingxuan_dell\\Anaconda3\\lib\\site-packages\\sklearn\\linear_model\\_coordinate_descent.py:476: ConvergenceWarning: Objective did not converge. You might want to increase the number of iterations. Duality gap: 2419.1285687073278, tolerance: 7.153939009071877\n",
      "  positive)\n",
      "C:\\Users\\xingxuan_dell\\Anaconda3\\lib\\site-packages\\sklearn\\linear_model\\_coordinate_descent.py:476: ConvergenceWarning: Objective did not converge. You might want to increase the number of iterations. Duality gap: 2454.025471374625, tolerance: 7.037239357990231\n",
      "  positive)\n",
      "C:\\Users\\xingxuan_dell\\Anaconda3\\lib\\site-packages\\sklearn\\linear_model\\_coordinate_descent.py:476: ConvergenceWarning: Objective did not converge. You might want to increase the number of iterations. Duality gap: 2497.710884381415, tolerance: 6.885425540823449\n",
      "  positive)\n",
      "C:\\Users\\xingxuan_dell\\Anaconda3\\lib\\site-packages\\sklearn\\linear_model\\_coordinate_descent.py:476: ConvergenceWarning: Objective did not converge. You might want to increase the number of iterations. Duality gap: 2471.1937123729776, tolerance: 7.0820541521284035\n",
      "  positive)\n",
      "C:\\Users\\xingxuan_dell\\Anaconda3\\lib\\site-packages\\sklearn\\linear_model\\_coordinate_descent.py:476: ConvergenceWarning: Objective did not converge. You might want to increase the number of iterations. Duality gap: 2215.514452429472, tolerance: 6.950806703910613\n",
      "  positive)\n",
      "C:\\Users\\xingxuan_dell\\Anaconda3\\lib\\site-packages\\sklearn\\linear_model\\_coordinate_descent.py:476: ConvergenceWarning: Objective did not converge. You might want to increase the number of iterations. Duality gap: 2378.1082447424283, tolerance: 7.153939009071877\n",
      "  positive)\n",
      "C:\\Users\\xingxuan_dell\\Anaconda3\\lib\\site-packages\\sklearn\\linear_model\\_coordinate_descent.py:476: ConvergenceWarning: Objective did not converge. You might want to increase the number of iterations. Duality gap: 2422.692969923603, tolerance: 7.037239357990231\n",
      "  positive)\n",
      "C:\\Users\\xingxuan_dell\\Anaconda3\\lib\\site-packages\\sklearn\\linear_model\\_coordinate_descent.py:476: ConvergenceWarning: Objective did not converge. You might want to increase the number of iterations. Duality gap: 2331.4032336273763, tolerance: 6.885425540823449\n",
      "  positive)\n",
      "C:\\Users\\xingxuan_dell\\Anaconda3\\lib\\site-packages\\sklearn\\linear_model\\_coordinate_descent.py:476: ConvergenceWarning: Objective did not converge. You might want to increase the number of iterations. Duality gap: 2445.2265347297052, tolerance: 7.0820541521284035\n",
      "  positive)\n",
      "C:\\Users\\xingxuan_dell\\Anaconda3\\lib\\site-packages\\sklearn\\linear_model\\_coordinate_descent.py:476: ConvergenceWarning: Objective did not converge. You might want to increase the number of iterations. Duality gap: 106.20339333777201, tolerance: 6.950806703910613\n",
      "  positive)\n",
      "C:\\Users\\xingxuan_dell\\Anaconda3\\lib\\site-packages\\sklearn\\linear_model\\_coordinate_descent.py:476: ConvergenceWarning: Objective did not converge. You might want to increase the number of iterations. Duality gap: 393.8445377465946, tolerance: 7.153939009071877\n",
      "  positive)\n",
      "C:\\Users\\xingxuan_dell\\Anaconda3\\lib\\site-packages\\sklearn\\linear_model\\_coordinate_descent.py:476: ConvergenceWarning: Objective did not converge. You might want to increase the number of iterations. Duality gap: 608.1084278741082, tolerance: 7.037239357990231\n",
      "  positive)\n",
      "C:\\Users\\xingxuan_dell\\Anaconda3\\lib\\site-packages\\sklearn\\linear_model\\_coordinate_descent.py:476: ConvergenceWarning: Objective did not converge. You might want to increase the number of iterations. Duality gap: 322.7371934301982, tolerance: 6.885425540823449\n",
      "  positive)\n",
      "C:\\Users\\xingxuan_dell\\Anaconda3\\lib\\site-packages\\sklearn\\linear_model\\_coordinate_descent.py:476: ConvergenceWarning: Objective did not converge. You might want to increase the number of iterations. Duality gap: 111.21942251515884, tolerance: 7.0820541521284035\n",
      "  positive)\n"
     ]
    },
    {
     "data": {
      "text/plain": [
       "GridSearchCV(cv=5, error_score=nan,\n",
       "             estimator=Lasso(alpha=1.0, copy_X=True, fit_intercept=True,\n",
       "                             max_iter=1000, normalize=False, positive=False,\n",
       "                             precompute=False, random_state=None,\n",
       "                             selection='cyclic', tol=0.0001, warm_start=False),\n",
       "             iid='deprecated', n_jobs=None,\n",
       "             param_grid={'alpha': [1e-15, 1e-10, 1e-08, 0.0001, 0.001, 0.02,\n",
       "                                   0.01, 1, 5, 10, 20]},\n",
       "             pre_dispatch='2*n_jobs', refit=True, return_train_score=False,\n",
       "             scoring=None, verbose=0)"
      ]
     },
     "execution_count": 591,
     "metadata": {},
     "output_type": "execute_result"
    }
   ],
   "source": [
    "lasso = Lasso()\n",
    "\n",
    "parameters = {'alpha': [1e-15, 1e-10, 1e-8, 1e-4, 1e-3,2e-2,1e-2, 1, 5, 10, 20]}\n",
    "\n",
    "lasso_regressor = GridSearchCV(lasso, parameters, cv = 5)\n",
    "\n",
    "lasso_regressor.fit(X_train, y_train)"
   ]
  },
  {
   "cell_type": "code",
   "execution_count": 592,
   "metadata": {
    "ExecuteTime": {
     "end_time": "2020-01-22T08:53:06.074697Z",
     "start_time": "2020-01-22T08:53:06.066744Z"
    }
   },
   "outputs": [
    {
     "data": {
      "text/plain": [
       "{'alpha': 0.02}"
      ]
     },
     "execution_count": 592,
     "metadata": {},
     "output_type": "execute_result"
    }
   ],
   "source": [
    "lasso_regressor.best_params_"
   ]
  },
  {
   "cell_type": "code",
   "execution_count": 593,
   "metadata": {
    "ExecuteTime": {
     "end_time": "2020-01-22T08:53:07.028181Z",
     "start_time": "2020-01-22T08:53:06.927447Z"
    }
   },
   "outputs": [
    {
     "name": "stdout",
     "output_type": "stream",
     "text": [
      "training score: 0.9269477688171893\n",
      "test score:  0.9035530826772601\n",
      "number of features used:  127\n",
      "test r2 score:  0.9035530826772602\n",
      "test r2 adj score:  0.9027874874213074\n"
     ]
    }
   ],
   "source": [
    "#lasso_regressor.score(X_train,y_train)\n",
    "lasso_best = Lasso(normalize=False,alpha=0.02)\n",
    "lasso_best.fit(X_train,y_train)\n",
    "lasso2_predictions = lasso_best.predict(X_test)\n",
    "train_score=lasso_best.score(X_train,y_train)\n",
    "test_score=lasso_best.score(X_test,y_test)\n",
    "coeff_used = np.sum(lasso_best.coef_!=0)\n",
    "r2_lasso2 = r2_score(y_test, lasso2_predictions)\n",
    "lasso2_r2_adj = 1 - (1-r2_lasso2)*(len(y_test)-1)/(len(y_test)-coeff_used-1)\n",
    "\n",
    "print(\"training score:\", train_score)\n",
    "print(\"test score: \", test_score)\n",
    "print(\"number of features used: \", coeff_used)\n",
    "print(\"test r2 score: \", r2_lasso2)\n",
    "print('test r2 adj score: ', lasso2_r2_adj)"
   ]
  },
  {
   "cell_type": "code",
   "execution_count": 594,
   "metadata": {
    "ExecuteTime": {
     "end_time": "2020-01-22T08:53:12.130976Z",
     "start_time": "2020-01-22T08:53:11.819571Z"
    }
   },
   "outputs": [
    {
     "data": {
      "text/plain": [
       "<matplotlib.axes._subplots.AxesSubplot at 0x201197db470>"
      ]
     },
     "execution_count": 594,
     "metadata": {},
     "output_type": "execute_result"
    },
    {
     "data": {
      "image/png": "[encoded data removed]",
      "text/plain": [
       "<Figure size 432x288 with 1 Axes>"
      ]
     },
     "metadata": {
      "needs_background": "light"
     },
     "output_type": "display_data"
    }
   ],
   "source": [
    "sns.scatterplot(lasso2_predictions,y_test)"
   ]
  },
  {
   "cell_type": "code",
   "execution_count": 595,
   "metadata": {
    "ExecuteTime": {
     "end_time": "2020-01-22T08:53:13.754824Z",
     "start_time": "2020-01-22T08:53:13.716952Z"
    }
   },
   "outputs": [
    {
     "name": "stdout",
     "output_type": "stream",
     "text": [
      "training score: 0.9294561944331509\n",
      "test score:  0.8952312456972494\n",
      "number of features used:  188\n",
      "test r2 score:  0.8952312456972494\n",
      "test r2 adj score:  0.8939954240252129\n"
     ]
    }
   ],
   "source": [
    "#Rigde Penality\n",
    "lasso_best = Ridge(alpha=1)\n",
    "lasso_best.fit(X_train,y_train)\n",
    "lasso2_predictions = lasso_best.predict(X_test)\n",
    "train_score=lasso_best.score(X_train,y_train)\n",
    "test_score=lasso_best.score(X_test,y_test)\n",
    "coeff_used = np.sum(lasso_best.coef_!=0)\n",
    "r2_lasso2 = r2_score(y_test, lasso2_predictions)\n",
    "lasso2_r2_adj = 1 - (1-r2_lasso2)*(len(y_test)-1)/(len(y_test)-coeff_used-1)\n",
    "\n",
    "print(\"training score:\", train_score)\n",
    "print(\"test score: \", test_score)\n",
    "print(\"number of features used: \", coeff_used)\n",
    "print(\"test r2 score: \", r2_lasso2)\n",
    "print('test r2 adj score: ', lasso2_r2_adj)"
   ]
  },
  {
   "cell_type": "code",
   "execution_count": 404,
   "metadata": {
    "ExecuteTime": {
     "end_time": "2020-01-22T08:37:11.972326Z",
     "start_time": "2020-01-22T08:37:11.968337Z"
    }
   },
   "outputs": [],
   "source": [
    "# coeff_used = np.sum(lasso_regressor.best_estimator_.coef_!=0)\n",
    "# print(coeff_used)"
   ]
  },
  {
   "cell_type": "code",
   "execution_count": 178,
   "metadata": {
    "ExecuteTime": {
     "end_time": "2020-01-19T09:47:34.464488Z",
     "start_time": "2020-01-19T09:47:34.448534Z"
    }
   },
   "outputs": [],
   "source": [
    "# lasso2_predictions = lasso_regressor.predict(X_test)"
   ]
  },
  {
   "cell_type": "markdown",
   "metadata": {},
   "source": [
    "# AIC BIC"
   ]
  },
  {
   "cell_type": "code",
   "execution_count": 179,
   "metadata": {
    "ExecuteTime": {
     "end_time": "2020-01-19T09:47:37.660914Z",
     "start_time": "2020-01-19T09:47:37.653933Z"
    }
   },
   "outputs": [],
   "source": [
    "def AIC(y_true, y_hat, coeff_used):\n",
    "    resid = y_true - y_hat\n",
    "    sse = sum(resid**2)\n",
    "    n = len(y_hat)\n",
    "    return n*np.log(sse/n) + 2*coeff_used\n",
    "\n",
    "def BIC(y_true, y_hat, coeff_used):\n",
    "    resid = y_true - y_hat\n",
    "    sse = sum(resid**2)\n",
    "    n = len(y_hat)\n",
    "    return n*np.log(sse/n) + np.log(n)*coeff_used"
   ]
  },
  {
   "cell_type": "code",
   "execution_count": 180,
   "metadata": {
    "ExecuteTime": {
     "end_time": "2020-01-19T09:47:41.761948Z",
     "start_time": "2020-01-19T09:47:41.744026Z"
    }
   },
   "outputs": [
    {
     "name": "stdout",
     "output_type": "stream",
     "text": [
      "27300.326786055277\n",
      "28247.948750890464\n"
     ]
    }
   ],
   "source": [
    "#aic and bic of simple linear model\n",
    "aic_lm1 = AIC(y_test, lm1_predictions, (len(X_test.columns)+1))\n",
    "print(aic_lm1)\n",
    "bic_lm1 = BIC(y_test, lm1_predictions, (len(X_test.columns)+1))\n",
    "print(bic_lm1)"
   ]
  },
  {
   "cell_type": "code",
   "execution_count": 181,
   "metadata": {
    "ExecuteTime": {
     "end_time": "2020-01-19T09:47:43.075434Z",
     "start_time": "2020-01-19T09:47:43.064464Z"
    }
   },
   "outputs": [
    {
     "name": "stdout",
     "output_type": "stream",
     "text": [
      "27274.691985757767\n",
      "27736.94660275054\n"
     ]
    }
   ],
   "source": [
    "#aic and bic of lasso model\n",
    "aic_lasso2 = AIC(y_test, lasso2_predictions, (coeff_used+1))\n",
    "print(aic_lasso2)\n",
    "bic_lasso2 = BIC(y_test, lasso2_predictions, (coeff_used+1))\n",
    "print(bic_lasso2)"
   ]
  },
  {
   "cell_type": "code",
   "execution_count": null,
   "metadata": {},
   "outputs": [],
   "source": []
  }
 ],
 "metadata": {
  "kernelspec": {
   "display_name": "Python 3",
   "language": "python",
   "name": "python3"
  },
  "language_info": {
   "codemirror_mode": {
    "name": "ipython",
    "version": 3
   },
   "file_extension": ".py",
   "mimetype": "text/x-python",
   "name": "python",
   "nbconvert_exporter": "python",
   "pygments_lexer": "ipython3",
   "version": "3.7.3"
  },
  "toc": {
   "base_numbering": 1,
   "nav_menu": {},
   "number_sections": true,
   "sideBar": true,
   "skip_h1_title": false,
   "title_cell": "Table of Contents",
   "title_sidebar": "Contents",
   "toc_cell": false,
   "toc_position": {},
   "toc_section_display": true,
   "toc_window_display": false
  }
 },
 "nbformat": 4,
 "nbformat_minor": 2
}
