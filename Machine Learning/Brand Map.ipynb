{
 "cells": [
  {
   "cell_type": "code",
   "execution_count": 1,
   "metadata": {
    "ExecuteTime": {
     "end_time": "2020-01-28T03:15:15.686279Z",
     "start_time": "2020-01-28T03:15:14.936Z"
    }
   },
   "outputs": [
    {
     "name": "stderr",
     "output_type": "stream",
     "text": [
      "Loading required package: Matrix\n",
      "Loading required package: foreach\n",
      "Loaded glmnet 2.0-16\n",
      "\n"
     ]
    }
   ],
   "source": [
    "setwd(\"D:\\\\Winter 2020\\\\BAX 442 Advanced Statistics\\\\Class 3\\\\Class 3\")\n",
    "library(glmnet)"
   ]
  },
  {
   "cell_type": "code",
   "execution_count": 4,
   "metadata": {
    "ExecuteTime": {
     "end_time": "2020-01-28T03:26:35.004669Z",
     "start_time": "2020-01-28T03:26:27.275Z"
    },
    "collapsed": true
   },
   "outputs": [
    {
     "name": "stdout",
     "output_type": "stream",
     "text": [
      "package 'pls' successfully unpacked and MD5 sums checked\n",
      "\n",
      "The downloaded binary packages are in\n",
      "\tC:\\Users\\xingxuan_dell\\AppData\\Local\\Temp\\RtmpSEiCS2\\downloaded_packages\n"
     ]
    },
    {
     "name": "stderr",
     "output_type": "stream",
     "text": [
      "Warning message:\n",
      "\"package 'pls' was built under R version 3.6.2\"\n",
      "Attaching package: 'pls'\n",
      "\n",
      "The following object is masked from 'package:stats':\n",
      "\n",
      "    loadings\n",
      "\n"
     ]
    }
   ],
   "source": [
    "#install.packages('pls')\n",
    "library(pls)"
   ]
  },
  {
   "cell_type": "code",
   "execution_count": 16,
   "metadata": {
    "ExecuteTime": {
     "end_time": "2020-01-28T07:28:50.394692Z",
     "start_time": "2020-01-28T07:28:50.359Z"
    }
   },
   "outputs": [
    {
     "data": {
      "text/html": [
       "<table>\n",
       "<thead><tr><th></th><th scope=col>Attractive</th><th scope=col>Quiet</th><th scope=col>Unreliable</th><th scope=col>Poorly.Built</th><th scope=col>Interesting</th><th scope=col>Sporty</th><th scope=col>Uncomfortable</th><th scope=col>Roomy</th><th scope=col>Easy.Service</th><th scope=col>Prestige</th><th scope=col>Common</th><th scope=col>Economical</th><th scope=col>Successful</th><th scope=col>AvantGarde</th><th scope=col>Poor.Value</th><th scope=col>Overall.Preference</th></tr></thead>\n",
       "<tbody>\n",
       "\t<tr><th scope=row>Infinity</th><td>5.6</td><td>6.3</td><td>2.9</td><td>1.6</td><td>3.6</td><td>4.1</td><td>3.2</td><td>4.2</td><td>4.6</td><td>6.4</td><td>3.5</td><td>3.6</td><td>5.3</td><td>4.3</td><td>3.4</td><td>6.3</td></tr>\n",
       "\t<tr><th scope=row>Ford</th><td>4.0</td><td>3.6</td><td>4.2</td><td>4.2</td><td>5.0</td><td>4.9</td><td>4.0</td><td>3.9</td><td>4.9</td><td>3.5</td><td>3.6</td><td>3.7</td><td>4.2</td><td>3.6</td><td>4.3</td><td>3.9</td></tr>\n",
       "\t<tr><th scope=row>Audi</th><td>4.6</td><td>5.2</td><td>3.7</td><td>2.6</td><td>4.0</td><td>3.8</td><td>2.4</td><td>5.3</td><td>3.5</td><td>5.6</td><td>3.4</td><td>3.6</td><td>5.0</td><td>3.6</td><td>4.3</td><td>6.0</td></tr>\n",
       "\t<tr><th scope=row>Toyota</th><td>5.6</td><td>4.2</td><td>2.0</td><td>2.1</td><td>4.3</td><td>6.2</td><td>3.7</td><td>3.5</td><td>4.9</td><td>5.3</td><td>2.9</td><td>3.2</td><td>5.5</td><td>4.9</td><td>3.5</td><td>5.5</td></tr>\n",
       "\t<tr><th scope=row>Eagle</th><td>4.0</td><td>3.5</td><td>4.3</td><td>4.3</td><td>3.9</td><td>4.9</td><td>4.0</td><td>3.6</td><td>4.6</td><td>2.8</td><td>4.3</td><td>4.9</td><td>3.7</td><td>4.4</td><td>3.6</td><td>4.0</td></tr>\n",
       "\t<tr><th scope=row>Honda</th><td>5.2</td><td>5.4</td><td>3.2</td><td>2.8</td><td>3.4</td><td>5.1</td><td>3.3</td><td>3.9</td><td>5.0</td><td>4.7</td><td>3.9</td><td>5.0</td><td>5.6</td><td>3.9</td><td>2.6</td><td>6.5</td></tr>\n",
       "\t<tr><th scope=row>Saab</th><td>5.3</td><td>4.8</td><td>3.7</td><td>2.8</td><td>3.4</td><td>4.3</td><td>2.5</td><td>5.8</td><td>3.8</td><td>5.4</td><td>1.9</td><td>4.3</td><td>5.3</td><td>4.7</td><td>2.9</td><td>6.8</td></tr>\n",
       "\t<tr><th scope=row>Pontiac</th><td>3.9</td><td>2.8</td><td>3.9</td><td>4.4</td><td>5.4</td><td>5.7</td><td>4.3</td><td>3.3</td><td>4.7</td><td>3.8</td><td>4.3</td><td>3.1</td><td>4.4</td><td>4.1</td><td>4.3</td><td>3.0</td></tr>\n",
       "\t<tr><th scope=row>BMW</th><td>5.7</td><td>5.0</td><td>2.3</td><td>1.8</td><td>3.3</td><td>4.1</td><td>3.5</td><td>4.3</td><td>4.1</td><td>6.4</td><td>2.8</td><td>4.3</td><td>5.9</td><td>3.7</td><td>3.3</td><td>6.7</td></tr>\n",
       "\t<tr><th scope=row>Mercury</th><td>3.9</td><td>3.3</td><td>4.0</td><td>4.3</td><td>3.9</td><td>5.2</td><td>4.4</td><td>3.6</td><td>4.6</td><td>3.3</td><td>3.9</td><td>4.6</td><td>3.9</td><td>4.5</td><td>3.8</td><td>4.0</td></tr>\n",
       "</tbody>\n",
       "</table>\n"
      ],
      "text/latex": [
       "\\begin{tabular}{r|llllllllllllllll}\n",
       "  & Attractive & Quiet & Unreliable & Poorly.Built & Interesting & Sporty & Uncomfortable & Roomy & Easy.Service & Prestige & Common & Economical & Successful & AvantGarde & Poor.Value & Overall.Preference\\\\\n",
       "\\hline\n",
       "\tInfinity & 5.6 & 6.3 & 2.9 & 1.6 & 3.6 & 4.1 & 3.2 & 4.2 & 4.6 & 6.4 & 3.5 & 3.6 & 5.3 & 4.3 & 3.4 & 6.3\\\\\n",
       "\tFord & 4.0 & 3.6 & 4.2 & 4.2 & 5.0 & 4.9 & 4.0 & 3.9 & 4.9 & 3.5 & 3.6 & 3.7 & 4.2 & 3.6 & 4.3 & 3.9\\\\\n",
       "\tAudi & 4.6 & 5.2 & 3.7 & 2.6 & 4.0 & 3.8 & 2.4 & 5.3 & 3.5 & 5.6 & 3.4 & 3.6 & 5.0 & 3.6 & 4.3 & 6.0\\\\\n",
       "\tToyota & 5.6 & 4.2 & 2.0 & 2.1 & 4.3 & 6.2 & 3.7 & 3.5 & 4.9 & 5.3 & 2.9 & 3.2 & 5.5 & 4.9 & 3.5 & 5.5\\\\\n",
       "\tEagle & 4.0 & 3.5 & 4.3 & 4.3 & 3.9 & 4.9 & 4.0 & 3.6 & 4.6 & 2.8 & 4.3 & 4.9 & 3.7 & 4.4 & 3.6 & 4.0\\\\\n",
       "\tHonda & 5.2 & 5.4 & 3.2 & 2.8 & 3.4 & 5.1 & 3.3 & 3.9 & 5.0 & 4.7 & 3.9 & 5.0 & 5.6 & 3.9 & 2.6 & 6.5\\\\\n",
       "\tSaab & 5.3 & 4.8 & 3.7 & 2.8 & 3.4 & 4.3 & 2.5 & 5.8 & 3.8 & 5.4 & 1.9 & 4.3 & 5.3 & 4.7 & 2.9 & 6.8\\\\\n",
       "\tPontiac & 3.9 & 2.8 & 3.9 & 4.4 & 5.4 & 5.7 & 4.3 & 3.3 & 4.7 & 3.8 & 4.3 & 3.1 & 4.4 & 4.1 & 4.3 & 3.0\\\\\n",
       "\tBMW & 5.7 & 5.0 & 2.3 & 1.8 & 3.3 & 4.1 & 3.5 & 4.3 & 4.1 & 6.4 & 2.8 & 4.3 & 5.9 & 3.7 & 3.3 & 6.7\\\\\n",
       "\tMercury & 3.9 & 3.3 & 4.0 & 4.3 & 3.9 & 5.2 & 4.4 & 3.6 & 4.6 & 3.3 & 3.9 & 4.6 & 3.9 & 4.5 & 3.8 & 4.0\\\\\n",
       "\\end{tabular}\n"
      ],
      "text/markdown": [
       "\n",
       "| <!--/--> | Attractive | Quiet | Unreliable | Poorly.Built | Interesting | Sporty | Uncomfortable | Roomy | Easy.Service | Prestige | Common | Economical | Successful | AvantGarde | Poor.Value | Overall.Preference |\n",
       "|---|---|---|---|---|---|---|---|---|---|---|---|---|---|---|---|---|\n",
       "| Infinity | 5.6 | 6.3 | 2.9 | 1.6 | 3.6 | 4.1 | 3.2 | 4.2 | 4.6 | 6.4 | 3.5 | 3.6 | 5.3 | 4.3 | 3.4 | 6.3 |\n",
       "| Ford | 4.0 | 3.6 | 4.2 | 4.2 | 5.0 | 4.9 | 4.0 | 3.9 | 4.9 | 3.5 | 3.6 | 3.7 | 4.2 | 3.6 | 4.3 | 3.9 |\n",
       "| Audi | 4.6 | 5.2 | 3.7 | 2.6 | 4.0 | 3.8 | 2.4 | 5.3 | 3.5 | 5.6 | 3.4 | 3.6 | 5.0 | 3.6 | 4.3 | 6.0 |\n",
       "| Toyota | 5.6 | 4.2 | 2.0 | 2.1 | 4.3 | 6.2 | 3.7 | 3.5 | 4.9 | 5.3 | 2.9 | 3.2 | 5.5 | 4.9 | 3.5 | 5.5 |\n",
       "| Eagle | 4.0 | 3.5 | 4.3 | 4.3 | 3.9 | 4.9 | 4.0 | 3.6 | 4.6 | 2.8 | 4.3 | 4.9 | 3.7 | 4.4 | 3.6 | 4.0 |\n",
       "| Honda | 5.2 | 5.4 | 3.2 | 2.8 | 3.4 | 5.1 | 3.3 | 3.9 | 5.0 | 4.7 | 3.9 | 5.0 | 5.6 | 3.9 | 2.6 | 6.5 |\n",
       "| Saab | 5.3 | 4.8 | 3.7 | 2.8 | 3.4 | 4.3 | 2.5 | 5.8 | 3.8 | 5.4 | 1.9 | 4.3 | 5.3 | 4.7 | 2.9 | 6.8 |\n",
       "| Pontiac | 3.9 | 2.8 | 3.9 | 4.4 | 5.4 | 5.7 | 4.3 | 3.3 | 4.7 | 3.8 | 4.3 | 3.1 | 4.4 | 4.1 | 4.3 | 3.0 |\n",
       "| BMW | 5.7 | 5.0 | 2.3 | 1.8 | 3.3 | 4.1 | 3.5 | 4.3 | 4.1 | 6.4 | 2.8 | 4.3 | 5.9 | 3.7 | 3.3 | 6.7 |\n",
       "| Mercury | 3.9 | 3.3 | 4.0 | 4.3 | 3.9 | 5.2 | 4.4 | 3.6 | 4.6 | 3.3 | 3.9 | 4.6 | 3.9 | 4.5 | 3.8 | 4.0 |\n",
       "\n"
      ],
      "text/plain": [
       "         Attractive Quiet Unreliable Poorly.Built Interesting Sporty\n",
       "Infinity 5.6        6.3   2.9        1.6          3.6         4.1   \n",
       "Ford     4.0        3.6   4.2        4.2          5.0         4.9   \n",
       "Audi     4.6        5.2   3.7        2.6          4.0         3.8   \n",
       "Toyota   5.6        4.2   2.0        2.1          4.3         6.2   \n",
       "Eagle    4.0        3.5   4.3        4.3          3.9         4.9   \n",
       "Honda    5.2        5.4   3.2        2.8          3.4         5.1   \n",
       "Saab     5.3        4.8   3.7        2.8          3.4         4.3   \n",
       "Pontiac  3.9        2.8   3.9        4.4          5.4         5.7   \n",
       "BMW      5.7        5.0   2.3        1.8          3.3         4.1   \n",
       "Mercury  3.9        3.3   4.0        4.3          3.9         5.2   \n",
       "         Uncomfortable Roomy Easy.Service Prestige Common Economical Successful\n",
       "Infinity 3.2           4.2   4.6          6.4      3.5    3.6        5.3       \n",
       "Ford     4.0           3.9   4.9          3.5      3.6    3.7        4.2       \n",
       "Audi     2.4           5.3   3.5          5.6      3.4    3.6        5.0       \n",
       "Toyota   3.7           3.5   4.9          5.3      2.9    3.2        5.5       \n",
       "Eagle    4.0           3.6   4.6          2.8      4.3    4.9        3.7       \n",
       "Honda    3.3           3.9   5.0          4.7      3.9    5.0        5.6       \n",
       "Saab     2.5           5.8   3.8          5.4      1.9    4.3        5.3       \n",
       "Pontiac  4.3           3.3   4.7          3.8      4.3    3.1        4.4       \n",
       "BMW      3.5           4.3   4.1          6.4      2.8    4.3        5.9       \n",
       "Mercury  4.4           3.6   4.6          3.3      3.9    4.6        3.9       \n",
       "         AvantGarde Poor.Value Overall.Preference\n",
       "Infinity 4.3        3.4        6.3               \n",
       "Ford     3.6        4.3        3.9               \n",
       "Audi     3.6        4.3        6.0               \n",
       "Toyota   4.9        3.5        5.5               \n",
       "Eagle    4.4        3.6        4.0               \n",
       "Honda    3.9        2.6        6.5               \n",
       "Saab     4.7        2.9        6.8               \n",
       "Pontiac  4.1        4.3        3.0               \n",
       "BMW      3.7        3.3        6.7               \n",
       "Mercury  4.5        3.8        4.0               "
      ]
     },
     "metadata": {},
     "output_type": "display_data"
    }
   ],
   "source": [
    "data=read.csv(\"Cars_Data.csv\", header=T,row.names=\"Brands\")\n",
    "data"
   ]
  },
  {
   "cell_type": "code",
   "execution_count": 18,
   "metadata": {
    "ExecuteTime": {
     "end_time": "2020-01-28T07:29:06.570934Z",
     "start_time": "2020-01-28T07:29:06.549Z"
    }
   },
   "outputs": [],
   "source": [
    "y=data[,16]\n",
    "x=as.matrix(data[,1:15])"
   ]
  },
  {
   "cell_type": "markdown",
   "metadata": {},
   "source": [
    "# 1. Build a positioning map for the car brands, where the number of attributes exceed the number of brands (p > N)\n"
   ]
  },
  {
   "cell_type": "code",
   "execution_count": 19,
   "metadata": {
    "ExecuteTime": {
     "end_time": "2020-01-28T07:29:09.291890Z",
     "start_time": "2020-01-28T07:29:09.261Z"
    }
   },
   "outputs": [
    {
     "name": "stdout",
     "output_type": "stream",
     "text": [
      "Data: \tX dimension: 10 15 \n",
      "\tY dimension: 10 1\n",
      "Fit method: svdpc\n",
      "Number of components considered: 8\n",
      "\n",
      "VALIDATION: RMSEP\n",
      "Cross-validated using 10 leave-one-out segments.\n",
      "       (Intercept)  1 comps  2 comps  3 comps  4 comps  5 comps  6 comps\n",
      "CV           1.482   0.5388   0.5138   0.3552   0.3595   0.3748   0.3523\n",
      "adjCV        1.482   0.5323   0.5066   0.3454   0.3490   0.3686   0.3400\n",
      "       7 comps  8 comps\n",
      "CV      0.3730   0.4376\n",
      "adjCV   0.3614   0.4175\n",
      "\n",
      "TRAINING: % variance explained\n",
      "   1 comps  2 comps  3 comps  4 comps  5 comps  6 comps  7 comps  8 comps\n",
      "X    64.01    78.83    88.43    94.54    96.72    98.44    99.33    99.86\n",
      "y    90.59    92.72    97.58    98.32    98.39    99.45    99.56    99.89\n"
     ]
    }
   ],
   "source": [
    "set.seed(1)\n",
    "pcr.fit = pcr(y~x,validation='CV')\n",
    "summary(pcr.fit)"
   ]
  },
  {
   "cell_type": "code",
   "execution_count": 20,
   "metadata": {
    "ExecuteTime": {
     "end_time": "2020-01-28T07:29:11.828659Z",
     "start_time": "2020-01-28T07:29:11.771Z"
    }
   },
   "outputs": [
    {
     "data": {
      "image/png": "[encoded data removed]",
      "text/plain": [
       "Plot with title \"y\""
      ]
     },
     "metadata": {},
     "output_type": "display_data"
    }
   ],
   "source": [
    "validationplot(pcr.fit,val.type='MSEP')"
   ]
  },
  {
   "cell_type": "code",
   "execution_count": 21,
   "metadata": {
    "ExecuteTime": {
     "end_time": "2020-01-28T07:29:16.414715Z",
     "start_time": "2020-01-28T07:29:16.389Z"
    }
   },
   "outputs": [
    {
     "name": "stdout",
     "output_type": "stream",
     "text": [
      "Data: \tX dimension: 10 15 \n",
      "\tY dimension: 10 1\n",
      "Fit method: svdpc\n",
      "Number of components considered: 2\n",
      "TRAINING: % variance explained\n",
      "   1 comps  2 comps\n",
      "X    64.01    78.83\n",
      "y    90.59    92.72\n"
     ]
    }
   ],
   "source": [
    "pcr.fit = pcr(y~x,ncomp=2)\n",
    "summary(pcr.fit)"
   ]
  },
  {
   "cell_type": "code",
   "execution_count": 30,
   "metadata": {
    "ExecuteTime": {
     "end_time": "2020-01-28T07:56:06.722574Z",
     "start_time": "2020-01-28T07:56:06.699Z"
    }
   },
   "outputs": [
    {
     "data": {
      "text/html": [
       "<ol class=list-inline>\n",
       "\t<li>0.11931757210369</li>\n",
       "\t<li>0.228821233298155</li>\n",
       "\t<li>-0.0472659105718439</li>\n",
       "\t<li>-0.190671103208576</li>\n",
       "\t<li>-0.128521858326136</li>\n",
       "\t<li>-0.163137228655157</li>\n",
       "\t<li>-0.158471880123444</li>\n",
       "\t<li>0.180379677787383</li>\n",
       "\t<li>-0.0928961921203419</li>\n",
       "\t<li>0.242456068845148</li>\n",
       "\t<li>-0.120310949165617</li>\n",
       "\t<li>0.0316022253145329</li>\n",
       "\t<li>0.116121345554277</li>\n",
       "\t<li>-0.0223356016888193</li>\n",
       "\t<li>-0.0628247249578156</li>\n",
       "</ol>\n"
      ],
      "text/latex": [
       "\\begin{enumerate*}\n",
       "\\item 0.11931757210369\n",
       "\\item 0.228821233298155\n",
       "\\item -0.0472659105718439\n",
       "\\item -0.190671103208576\n",
       "\\item -0.128521858326136\n",
       "\\item -0.163137228655157\n",
       "\\item -0.158471880123444\n",
       "\\item 0.180379677787383\n",
       "\\item -0.0928961921203419\n",
       "\\item 0.242456068845148\n",
       "\\item -0.120310949165617\n",
       "\\item 0.0316022253145329\n",
       "\\item 0.116121345554277\n",
       "\\item -0.0223356016888193\n",
       "\\item -0.0628247249578156\n",
       "\\end{enumerate*}\n"
      ],
      "text/markdown": [
       "1. 0.11931757210369\n",
       "2. 0.228821233298155\n",
       "3. -0.0472659105718439\n",
       "4. -0.190671103208576\n",
       "5. -0.128521858326136\n",
       "6. -0.163137228655157\n",
       "7. -0.158471880123444\n",
       "8. 0.180379677787383\n",
       "9. -0.0928961921203419\n",
       "10. 0.242456068845148\n",
       "11. -0.120310949165617\n",
       "12. 0.0316022253145329\n",
       "13. 0.116121345554277\n",
       "14. -0.0223356016888193\n",
       "15. -0.0628247249578156\n",
       "\n",
       "\n"
      ],
      "text/plain": [
       ", , 2 comps\n",
       "\n",
       "                        y\n",
       "Attractive     0.11931757\n",
       "Quiet          0.22882123\n",
       "Unreliable    -0.04726591\n",
       "Poorly.Built  -0.19067110\n",
       "Interesting   -0.12852186\n",
       "Sporty        -0.16313723\n",
       "Uncomfortable -0.15847188\n",
       "Roomy          0.18037968\n",
       "Easy.Service  -0.09289619\n",
       "Prestige       0.24245607\n",
       "Common        -0.12031095\n",
       "Economical     0.03160223\n",
       "Successful     0.11612135\n",
       "AvantGarde    -0.02233560\n",
       "Poor.Value    -0.06282472\n"
      ]
     },
     "metadata": {},
     "output_type": "display_data"
    }
   ],
   "source": [
    "coef(pcr.fit)"
   ]
  },
  {
   "cell_type": "markdown",
   "metadata": {},
   "source": [
    "https://bookdown.org/content/1340/principal-components-analysis.html\n",
    "\n",
    "https://rdrr.io/cran/pls/man/scores.html"
   ]
  },
  {
   "cell_type": "code",
   "execution_count": 28,
   "metadata": {
    "ExecuteTime": {
     "end_time": "2020-01-28T07:54:50.563741Z",
     "start_time": "2020-01-28T07:54:50.539Z"
    }
   },
   "outputs": [],
   "source": [
    "yhat = predict(pcr.fit)\n",
    "sse = sum((y - yhat)^2)\n",
    "sst = sum((y-mean(y))^2)\n",
    "r2 = 1-sse/sst"
   ]
  },
  {
   "cell_type": "code",
   "execution_count": 29,
   "metadata": {
    "ExecuteTime": {
     "end_time": "2020-01-28T07:55:00.364700Z",
     "start_time": "2020-01-28T07:55:00.337Z"
    }
   },
   "outputs": [
    {
     "data": {
      "text/html": [
       "0.833081045154947"
      ],
      "text/latex": [
       "0.833081045154947"
      ],
      "text/markdown": [
       "0.833081045154947"
      ],
      "text/plain": [
       "[1] 0.833081"
      ]
     },
     "metadata": {},
     "output_type": "display_data"
    }
   ],
   "source": [
    "r2"
   ]
  },
  {
   "cell_type": "code",
   "execution_count": 22,
   "metadata": {
    "ExecuteTime": {
     "end_time": "2020-01-28T07:29:19.997460Z",
     "start_time": "2020-01-28T07:29:19.908Z"
    }
   },
   "outputs": [
    {
     "data": {
      "image/png": "[encoded data removed]",
      "text/plain": [
       "Plot with title \"X scores and X loadings\""
      ]
     },
     "metadata": {},
     "output_type": "display_data"
    }
   ],
   "source": [
    "biplot(pcr.fit)"
   ]
  },
  {
   "cell_type": "code",
   "execution_count": 42,
   "metadata": {
    "ExecuteTime": {
     "end_time": "2020-01-28T08:09:36.498295Z",
     "start_time": "2020-01-28T08:09:36.476Z"
    }
   },
   "outputs": [],
   "source": [
    "weight_1 <- loadings(pcr.fit)[,1]\n",
    "weight_2 <- loadings(pcr.fit)[,2]\n",
    "z1 = x %*% weight_1\n",
    "z2 = x %*% weight_2"
   ]
  },
  {
   "cell_type": "code",
   "execution_count": 44,
   "metadata": {
    "ExecuteTime": {
     "end_time": "2020-01-28T08:10:38.394515Z",
     "start_time": "2020-01-28T08:10:38.368Z"
    }
   },
   "outputs": [
    {
     "data": {
      "text/plain": [
       "\n",
       "Call:\n",
       "lm(formula = y ~ z1 + z2)\n",
       "\n",
       "Residuals:\n",
       "     Min       1Q   Median       3Q      Max \n",
       "-0.47926 -0.28862  0.04423  0.16289  0.78397 \n",
       "\n",
       "Coefficients:\n",
       "            Estimate Std. Error t value Pr(>|t|)    \n",
       "(Intercept)  4.86983    0.33720  14.442 1.82e-06 ***\n",
       "z1          -0.52774    0.05655  -9.332 3.37e-05 ***\n",
       "z2          -0.16816    0.11752  -1.431    0.196    \n",
       "---\n",
       "Signif. codes:  0 '***' 0.001 '**' 0.01 '*' 0.05 '.' 0.1 ' ' 1\n",
       "\n",
       "Residual standard error: 0.4303 on 7 degrees of freedom\n",
       "Multiple R-squared:  0.9272,\tAdjusted R-squared:  0.9064 \n",
       "F-statistic: 44.57 on 2 and 7 DF,  p-value: 0.0001042\n"
      ]
     },
     "metadata": {},
     "output_type": "display_data"
    }
   ],
   "source": [
    "lm_z <- lm(y~z1+z2)\n",
    "summary(lm(y~z1+z2))"
   ]
  },
  {
   "cell_type": "code",
   "execution_count": 45,
   "metadata": {
    "ExecuteTime": {
     "end_time": "2020-01-28T08:11:02.080728Z",
     "start_time": "2020-01-28T08:11:02.049Z"
    }
   },
   "outputs": [],
   "source": [
    "b1=as.vector(coef(lm_z)[2])\n",
    "b2=as.vector(coef(lm_z)[3])\n",
    "\n",
    "slope.iso.preference = - b1/b2\n",
    "slope.ideal.vector = b2/b1 \n",
    "\n",
    "angle.iso.preference = atan(slope.iso.preference)*180/pi\n",
    "angle.ideal.vector = atan(slope.ideal.vector)*180/pi\n"
   ]
  },
  {
   "cell_type": "code",
   "execution_count": 46,
   "metadata": {
    "ExecuteTime": {
     "end_time": "2020-01-28T08:11:09.371076Z",
     "start_time": "2020-01-28T08:11:09.349Z"
    }
   },
   "outputs": [
    {
     "data": {
      "text/html": [
       "-3.13821809783907"
      ],
      "text/latex": [
       "-3.13821809783907"
      ],
      "text/markdown": [
       "-3.13821809783907"
      ],
      "text/plain": [
       "[1] -3.138218"
      ]
     },
     "metadata": {},
     "output_type": "display_data"
    }
   ],
   "source": [
    "slope.iso.preference"
   ]
  },
  {
   "cell_type": "code",
   "execution_count": 47,
   "metadata": {
    "ExecuteTime": {
     "end_time": "2020-01-28T08:11:21.608280Z",
     "start_time": "2020-01-28T08:11:21.578Z"
    }
   },
   "outputs": [
    {
     "data": {
      "text/html": [
       "0.318652167830077"
      ],
      "text/latex": [
       "0.318652167830077"
      ],
      "text/markdown": [
       "0.318652167830077"
      ],
      "text/plain": [
       "[1] 0.3186522"
      ]
     },
     "metadata": {},
     "output_type": "display_data"
    }
   ],
   "source": [
    "slope.ideal.vector"
   ]
  },
  {
   "cell_type": "code",
   "execution_count": 48,
   "metadata": {
    "ExecuteTime": {
     "end_time": "2020-01-28T08:11:30.001377Z",
     "start_time": "2020-01-28T08:11:29.979Z"
    }
   },
   "outputs": [
    {
     "data": {
      "text/html": [
       "-72.3254075493879"
      ],
      "text/latex": [
       "-72.3254075493879"
      ],
      "text/markdown": [
       "-72.3254075493879"
      ],
      "text/plain": [
       "[1] -72.32541"
      ]
     },
     "metadata": {},
     "output_type": "display_data"
    }
   ],
   "source": [
    "angle.iso.preference"
   ]
  },
  {
   "cell_type": "code",
   "execution_count": 49,
   "metadata": {
    "ExecuteTime": {
     "end_time": "2020-01-28T08:11:36.396324Z",
     "start_time": "2020-01-28T08:11:36.370Z"
    }
   },
   "outputs": [
    {
     "data": {
      "text/html": [
       "17.6745924506121"
      ],
      "text/latex": [
       "17.6745924506121"
      ],
      "text/markdown": [
       "17.6745924506121"
      ],
      "text/plain": [
       "[1] 17.67459"
      ]
     },
     "metadata": {},
     "output_type": "display_data"
    }
   ],
   "source": [
    "angle.ideal.vector"
   ]
  },
  {
   "cell_type": "code",
   "execution_count": null,
   "metadata": {},
   "outputs": [],
   "source": []
  }
 ],
 "metadata": {
  "kernelspec": {
   "display_name": "R",
   "language": "R",
   "name": "ir"
  },
  "language_info": {
   "codemirror_mode": "r",
   "file_extension": ".r",
   "mimetype": "text/x-r-source",
   "name": "R",
   "pygments_lexer": "r",
   "version": "3.6.1"
  },
  "toc": {
   "base_numbering": 1,
   "nav_menu": {},
   "number_sections": true,
   "sideBar": true,
   "skip_h1_title": false,
   "title_cell": "Table of Contents",
   "title_sidebar": "Contents",
   "toc_cell": false,
   "toc_position": {},
   "toc_section_display": true,
   "toc_window_display": false
  }
 },
 "nbformat": 4,
 "nbformat_minor": 2
}
