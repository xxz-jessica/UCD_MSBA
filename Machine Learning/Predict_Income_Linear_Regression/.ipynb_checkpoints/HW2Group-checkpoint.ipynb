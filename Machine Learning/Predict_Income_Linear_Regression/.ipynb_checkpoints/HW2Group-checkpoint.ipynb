{
 "cells": [
  {
   "cell_type": "markdown",
   "metadata": {
    "colab_type": "text",
    "id": "U5yv6K84O1dT"
   },
   "source": [
    "# BAX 452 Machine Learning HW2 Code"
   ]
  },
  {
   "cell_type": "markdown",
   "metadata": {
    "colab_type": "text",
    "id": "eDtp3opP9aeW"
   },
   "source": [
    "# Import & Clean Data"
   ]
  },
  {
   "cell_type": "code",
   "execution_count": 2,
   "metadata": {
    "ExecuteTime": {
     "end_time": "2020-01-17T02:21:46.277078Z",
     "start_time": "2020-01-17T02:21:45.213898Z"
    },
    "colab": {},
    "colab_type": "code",
    "id": "5hYYQo6YO1dW"
   },
   "outputs": [],
   "source": [
    "import numpy as np\n",
    "import pandas as pd\n",
    "import scipy as sp\n",
    "import os\n",
    "import seaborn as sns\n",
    "import matplotlib.pyplot as plt\n",
    "import statsmodels.api as sm\n",
    "from sklearn import preprocessing\n",
    "from sklearn.linear_model import LogisticRegression\n",
    "from sklearn.model_selection import train_test_split\n",
    "from sklearn.metrics import roc_auc_score\n",
    "from sklearn.metrics import roc_curve\n",
    "from sklearn.feature_selection import RFE\n",
    "from sklearn.linear_model import LogisticRegression\n",
    "from sklearn.linear_model import LogisticRegression\n",
    "from sklearn import metrics\n",
    "from sklearn.metrics import confusion_matrix\n",
    "from imblearn.over_sampling import SMOTE\n",
    "import mne\n",
    "from mne.stats import bonferroni_correction, fdr_correction"
   ]
  },
  {
   "cell_type": "code",
   "execution_count": 2,
   "metadata": {
    "colab": {
     "base_uri": "https://localhost:8080/",
     "height": 71,
     "resources": {
      "http://localhost:8080/nbextensions/google.colab/files.js": {
       "data": "Ly8gQ29weXJpZ2h0IDIwMTcgR29vZ2xlIExMQwovLwovLyBMaWNlbnNlZCB1bmRlciB0aGUgQXBhY2hlIExpY2Vuc2UsIFZlcnNpb24gMi4wICh0aGUgIkxpY2Vuc2UiKTsKLy8geW91IG1heSBub3QgdXNlIHRoaXMgZmlsZSBleGNlcHQgaW4gY29tcGxpYW5jZSB3aXRoIHRoZSBMaWNlbnNlLgovLyBZb3UgbWF5IG9idGFpbiBhIGNvcHkgb2YgdGhlIExpY2Vuc2UgYXQKLy8KLy8gICAgICBodHRwOi8vd3d3LmFwYWNoZS5vcmcvbGljZW5zZXMvTElDRU5TRS0yLjAKLy8KLy8gVW5sZXNzIHJlcXVpcmVkIGJ5IGFwcGxpY2FibGUgbGF3IG9yIGFncmVlZCB0byBpbiB3cml0aW5nLCBzb2Z0d2FyZQovLyBkaXN0cmlidXRlZCB1bmRlciB0aGUgTGljZW5zZSBpcyBkaXN0cmlidXRlZCBvbiBhbiAiQVMgSVMiIEJBU0lTLAovLyBXSVRIT1VUIFdBUlJBTlRJRVMgT1IgQ09ORElUSU9OUyBPRiBBTlkgS0lORCwgZWl0aGVyIGV4cHJlc3Mgb3IgaW1wbGllZC4KLy8gU2VlIHRoZSBMaWNlbnNlIGZvciB0aGUgc3BlY2lmaWMgbGFuZ3VhZ2UgZ292ZXJuaW5nIHBlcm1pc3Npb25zIGFuZAovLyBsaW1pdGF0aW9ucyB1bmRlciB0aGUgTGljZW5zZS4KCi8qKgogKiBAZmlsZW92ZXJ2aWV3IEhlbHBlcnMgZm9yIGdvb2dsZS5jb2xhYiBQeXRob24gbW9kdWxlLgogKi8KKGZ1bmN0aW9uKHNjb3BlKSB7CmZ1bmN0aW9uIHNwYW4odGV4dCwgc3R5bGVBdHRyaWJ1dGVzID0ge30pIHsKICBjb25zdCBlbGVtZW50ID0gZG9jdW1lbnQuY3JlYXRlRWxlbWVudCgnc3BhbicpOwogIGVsZW1lbnQudGV4dENvbnRlbnQgPSB0ZXh0OwogIGZvciAoY29uc3Qga2V5IG9mIE9iamVjdC5rZXlzKHN0eWxlQXR0cmlidXRlcykpIHsKICAgIGVsZW1lbnQuc3R5bGVba2V5XSA9IHN0eWxlQXR0cmlidXRlc1trZXldOwogIH0KICByZXR1cm4gZWxlbWVudDsKfQoKLy8gTWF4IG51bWJlciBvZiBieXRlcyB3aGljaCB3aWxsIGJlIHVwbG9hZGVkIGF0IGEgdGltZS4KY29uc3QgTUFYX1BBWUxPQURfU0laRSA9IDEwMCAqIDEwMjQ7Ci8vIE1heCBhbW91bnQgb2YgdGltZSB0byBibG9jayB3YWl0aW5nIGZvciB0aGUgdXNlci4KY29uc3QgRklMRV9DSEFOR0VfVElNRU9VVF9NUyA9IDMwICogMTAwMDsKCmZ1bmN0aW9uIF91cGxvYWRGaWxlcyhpbnB1dElkLCBvdXRwdXRJZCkgewogIGNvbnN0IHN0ZXBzID0gdXBsb2FkRmlsZXNTdGVwKGlucHV0SWQsIG91dHB1dElkKTsKICBjb25zdCBvdXRwdXRFbGVtZW50ID0gZG9jdW1lbnQuZ2V0RWxlbWVudEJ5SWQob3V0cHV0SWQpOwogIC8vIENhY2hlIHN0ZXBzIG9uIHRoZSBvdXRwdXRFbGVtZW50IHRvIG1ha2UgaXQgYXZhaWxhYmxlIGZvciB0aGUgbmV4dCBjYWxsCiAgLy8gdG8gdXBsb2FkRmlsZXNDb250aW51ZSBmcm9tIFB5dGhvbi4KICBvdXRwdXRFbGVtZW50LnN0ZXBzID0gc3RlcHM7CgogIHJldHVybiBfdXBsb2FkRmlsZXNDb250aW51ZShvdXRwdXRJZCk7Cn0KCi8vIFRoaXMgaXMgcm91Z2hseSBhbiBhc3luYyBnZW5lcmF0b3IgKG5vdCBzdXBwb3J0ZWQgaW4gdGhlIGJyb3dzZXIgeWV0KSwKLy8gd2hlcmUgdGhlcmUgYXJlIG11bHRpcGxlIGFzeW5jaHJvbm91cyBzdGVwcyBhbmQgdGhlIFB5dGhvbiBzaWRlIGlzIGdvaW5nCi8vIHRvIHBvbGwgZm9yIGNvbXBsZXRpb24gb2YgZWFjaCBzdGVwLgovLyBUaGlzIHVzZXMgYSBQcm9taXNlIHRvIGJsb2NrIHRoZSBweXRob24gc2lkZSBvbiBjb21wbGV0aW9uIG9mIGVhY2ggc3RlcCwKLy8gdGhlbiBwYXNzZXMgdGhlIHJlc3VsdCBvZiB0aGUgcHJldmlvdXMgc3RlcCBhcyB0aGUgaW5wdXQgdG8gdGhlIG5leHQgc3RlcC4KZnVuY3Rpb24gX3VwbG9hZEZpbGVzQ29udGludWUob3V0cHV0SWQpIHsKICBjb25zdCBvdXRwdXRFbGVtZW50ID0gZG9jdW1lbnQuZ2V0RWxlbWVudEJ5SWQob3V0cHV0SWQpOwogIGNvbnN0IHN0ZXBzID0gb3V0cHV0RWxlbWVudC5zdGVwczsKCiAgY29uc3QgbmV4dCA9IHN0ZXBzLm5leHQob3V0cHV0RWxlbWVudC5sYXN0UHJvbWlzZVZhbHVlKTsKICByZXR1cm4gUHJvbWlzZS5yZXNvbHZlKG5leHQudmFsdWUucHJvbWlzZSkudGhlbigodmFsdWUpID0+IHsKICAgIC8vIENhY2hlIHRoZSBsYXN0IHByb21pc2UgdmFsdWUgdG8gbWFrZSBpdCBhdmFpbGFibGUgdG8gdGhlIG5leHQKICAgIC8vIHN0ZXAgb2YgdGhlIGdlbmVyYXRvci4KICAgIG91dHB1dEVsZW1lbnQubGFzdFByb21pc2VWYWx1ZSA9IHZhbHVlOwogICAgcmV0dXJuIG5leHQudmFsdWUucmVzcG9uc2U7CiAgfSk7Cn0KCi8qKgogKiBHZW5lcmF0b3IgZnVuY3Rpb24gd2hpY2ggaXMgY2FsbGVkIGJldHdlZW4gZWFjaCBhc3luYyBzdGVwIG9mIHRoZSB1cGxvYWQKICogcHJvY2Vzcy4KICogQHBhcmFtIHtzdHJpbmd9IGlucHV0SWQgRWxlbWVudCBJRCBvZiB0aGUgaW5wdXQgZmlsZSBwaWNrZXIgZWxlbWVudC4KICogQHBhcmFtIHtzdHJpbmd9IG91dHB1dElkIEVsZW1lbnQgSUQgb2YgdGhlIG91dHB1dCBkaXNwbGF5LgogKiBAcmV0dXJuIHshSXRlcmFibGU8IU9iamVjdD59IEl0ZXJhYmxlIG9mIG5leHQgc3RlcHMuCiAqLwpmdW5jdGlvbiogdXBsb2FkRmlsZXNTdGVwKGlucHV0SWQsIG91dHB1dElkKSB7CiAgY29uc3QgaW5wdXRFbGVtZW50ID0gZG9jdW1lbnQuZ2V0RWxlbWVudEJ5SWQoaW5wdXRJZCk7CiAgaW5wdXRFbGVtZW50LmRpc2FibGVkID0gZmFsc2U7CgogIGNvbnN0IG91dHB1dEVsZW1lbnQgPSBkb2N1bWVudC5nZXRFbGVtZW50QnlJZChvdXRwdXRJZCk7CiAgb3V0cHV0RWxlbWVudC5pbm5lckhUTUwgPSAnJzsKCiAgY29uc3QgcGlja2VkUHJvbWlzZSA9IG5ldyBQcm9taXNlKChyZXNvbHZlKSA9PiB7CiAgICBpbnB1dEVsZW1lbnQuYWRkRXZlbnRMaXN0ZW5lcignY2hhbmdlJywgKGUpID0+IHsKICAgICAgcmVzb2x2ZShlLnRhcmdldC5maWxlcyk7CiAgICB9KTsKICB9KTsKCiAgY29uc3QgY2FuY2VsID0gZG9jdW1lbnQuY3JlYXRlRWxlbWVudCgnYnV0dG9uJyk7CiAgaW5wdXRFbGVtZW50LnBhcmVudEVsZW1lbnQuYXBwZW5kQ2hpbGQoY2FuY2VsKTsKICBjYW5jZWwudGV4dENvbnRlbnQgPSAnQ2FuY2VsIHVwbG9hZCc7CiAgY29uc3QgY2FuY2VsUHJvbWlzZSA9IG5ldyBQcm9taXNlKChyZXNvbHZlKSA9PiB7CiAgICBjYW5jZWwub25jbGljayA9ICgpID0+IHsKICAgICAgcmVzb2x2ZShudWxsKTsKICAgIH07CiAgfSk7CgogIC8vIENhbmNlbCB1cGxvYWQgaWYgdXNlciBoYXNuJ3QgcGlja2VkIGFueXRoaW5nIGluIHRpbWVvdXQuCiAgY29uc3QgdGltZW91dFByb21pc2UgPSBuZXcgUHJvbWlzZSgocmVzb2x2ZSkgPT4gewogICAgc2V0VGltZW91dCgoKSA9PiB7CiAgICAgIHJlc29sdmUobnVsbCk7CiAgICB9LCBGSUxFX0NIQU5HRV9USU1FT1VUX01TKTsKICB9KTsKCiAgLy8gV2FpdCBmb3IgdGhlIHVzZXIgdG8gcGljayB0aGUgZmlsZXMuCiAgY29uc3QgZmlsZXMgPSB5aWVsZCB7CiAgICBwcm9taXNlOiBQcm9taXNlLnJhY2UoW3BpY2tlZFByb21pc2UsIHRpbWVvdXRQcm9taXNlLCBjYW5jZWxQcm9taXNlXSksCiAgICByZXNwb25zZTogewogICAgICBhY3Rpb246ICdzdGFydGluZycsCiAgICB9CiAgfTsKCiAgaWYgKCFmaWxlcykgewogICAgcmV0dXJuIHsKICAgICAgcmVzcG9uc2U6IHsKICAgICAgICBhY3Rpb246ICdjb21wbGV0ZScsCiAgICAgIH0KICAgIH07CiAgfQoKICBjYW5jZWwucmVtb3ZlKCk7CgogIC8vIERpc2FibGUgdGhlIGlucHV0IGVsZW1lbnQgc2luY2UgZnVydGhlciBwaWNrcyBhcmUgbm90IGFsbG93ZWQuCiAgaW5wdXRFbGVtZW50LmRpc2FibGVkID0gdHJ1ZTsKCiAgZm9yIChjb25zdCBmaWxlIG9mIGZpbGVzKSB7CiAgICBjb25zdCBsaSA9IGRvY3VtZW50LmNyZWF0ZUVsZW1lbnQoJ2xpJyk7CiAgICBsaS5hcHBlbmQoc3BhbihmaWxlLm5hbWUsIHtmb250V2VpZ2h0OiAnYm9sZCd9KSk7CiAgICBsaS5hcHBlbmQoc3BhbigKICAgICAgICBgKCR7ZmlsZS50eXBlIHx8ICduL2EnfSkgLSAke2ZpbGUuc2l6ZX0gYnl0ZXMsIGAgKwogICAgICAgIGBsYXN0IG1vZGlmaWVkOiAkewogICAgICAgICAgICBmaWxlLmxhc3RNb2RpZmllZERhdGUgPyBmaWxlLmxhc3RNb2RpZmllZERhdGUudG9Mb2NhbGVEYXRlU3RyaW5nKCkgOgogICAgICAgICAgICAgICAgICAgICAgICAgICAgICAgICAgICAnbi9hJ30gLSBgKSk7CiAgICBjb25zdCBwZXJjZW50ID0gc3BhbignMCUgZG9uZScpOwogICAgbGkuYXBwZW5kQ2hpbGQocGVyY2VudCk7CgogICAgb3V0cHV0RWxlbWVudC5hcHBlbmRDaGlsZChsaSk7CgogICAgY29uc3QgZmlsZURhdGFQcm9taXNlID0gbmV3IFByb21pc2UoKHJlc29sdmUpID0+IHsKICAgICAgY29uc3QgcmVhZGVyID0gbmV3IEZpbGVSZWFkZXIoKTsKICAgICAgcmVhZGVyLm9ubG9hZCA9IChlKSA9PiB7CiAgICAgICAgcmVzb2x2ZShlLnRhcmdldC5yZXN1bHQpOwogICAgICB9OwogICAgICByZWFkZXIucmVhZEFzQXJyYXlCdWZmZXIoZmlsZSk7CiAgICB9KTsKICAgIC8vIFdhaXQgZm9yIHRoZSBkYXRhIHRvIGJlIHJlYWR5LgogICAgbGV0IGZpbGVEYXRhID0geWllbGQgewogICAgICBwcm9taXNlOiBmaWxlRGF0YVByb21pc2UsCiAgICAgIHJlc3BvbnNlOiB7CiAgICAgICAgYWN0aW9uOiAnY29udGludWUnLAogICAgICB9CiAgICB9OwoKICAgIC8vIFVzZSBhIGNodW5rZWQgc2VuZGluZyB0byBhdm9pZCBtZXNzYWdlIHNpemUgbGltaXRzLiBTZWUgYi82MjExNTY2MC4KICAgIGxldCBwb3NpdGlvbiA9IDA7CiAgICB3aGlsZSAocG9zaXRpb24gPCBmaWxlRGF0YS5ieXRlTGVuZ3RoKSB7CiAgICAgIGNvbnN0IGxlbmd0aCA9IE1hdGgubWluKGZpbGVEYXRhLmJ5dGVMZW5ndGggLSBwb3NpdGlvbiwgTUFYX1BBWUxPQURfU0laRSk7CiAgICAgIGNvbnN0IGNodW5rID0gbmV3IFVpbnQ4QXJyYXkoZmlsZURhdGEsIHBvc2l0aW9uLCBsZW5ndGgpOwogICAgICBwb3NpdGlvbiArPSBsZW5ndGg7CgogICAgICBjb25zdCBiYXNlNjQgPSBidG9hKFN0cmluZy5mcm9tQ2hhckNvZGUuYXBwbHkobnVsbCwgY2h1bmspKTsKICAgICAgeWllbGQgewogICAgICAgIHJlc3BvbnNlOiB7CiAgICAgICAgICBhY3Rpb246ICdhcHBlbmQnLAogICAgICAgICAgZmlsZTogZmlsZS5uYW1lLAogICAgICAgICAgZGF0YTogYmFzZTY0LAogICAgICAgIH0sCiAgICAgIH07CiAgICAgIHBlcmNlbnQudGV4dENvbnRlbnQgPQogICAgICAgICAgYCR7TWF0aC5yb3VuZCgocG9zaXRpb24gLyBmaWxlRGF0YS5ieXRlTGVuZ3RoKSAqIDEwMCl9JSBkb25lYDsKICAgIH0KICB9CgogIC8vIEFsbCBkb25lLgogIHlpZWxkIHsKICAgIHJlc3BvbnNlOiB7CiAgICAgIGFjdGlvbjogJ2NvbXBsZXRlJywKICAgIH0KICB9Owp9CgpzY29wZS5nb29nbGUgPSBzY29wZS5nb29nbGUgfHwge307CnNjb3BlLmdvb2dsZS5jb2xhYiA9IHNjb3BlLmdvb2dsZS5jb2xhYiB8fCB7fTsKc2NvcGUuZ29vZ2xlLmNvbGFiLl9maWxlcyA9IHsKICBfdXBsb2FkRmlsZXMsCiAgX3VwbG9hZEZpbGVzQ29udGludWUsCn07Cn0pKHNlbGYpOwo=",
       "headers": [
        [
         "content-type",
         "application/javascript"
        ]
       ],
       "ok": true,
       "status": 200,
       "status_text": ""
      }
     }
    },
    "colab_type": "code",
    "executionInfo": {
     "elapsed": 46092,
     "status": "ok",
     "timestamp": 1579151186052,
     "user": {
      "displayName": "Jiayin Liu",
      "photoUrl": "",
      "userId": "02469597142612733971"
     },
     "user_tz": 480
    },
    "id": "DY_GJc8l3Pzg",
    "outputId": "4b013ea1-552f-4bb7-ba5a-ff299b49f8dc"
   },
   "outputs": [],
   "source": [
    "# import google.colab\n",
    "# from google.colab import files\n",
    "# uploaded = files.upload()"
   ]
  },
  {
   "cell_type": "code",
   "execution_count": 4,
   "metadata": {
    "ExecuteTime": {
     "end_time": "2020-01-17T02:22:36.314172Z",
     "start_time": "2020-01-17T02:22:35.762649Z"
    },
    "colab": {},
    "colab_type": "code",
    "id": "7uoQwCtIO1dY"
   },
   "outputs": [],
   "source": [
    "income = pd.read_csv(r\"D:/Winter 2020/BAX 452 Machine Learning/Homework 2/income_data.csv\", sep=r'\\s*,\\s*', engine='python')"
   ]
  },
  {
   "cell_type": "code",
   "execution_count": 5,
   "metadata": {
    "ExecuteTime": {
     "end_time": "2020-01-17T02:22:38.286894Z",
     "start_time": "2020-01-17T02:22:38.264952Z"
    },
    "colab": {},
    "colab_type": "code",
    "id": "TZ2tCEcSO1da"
   },
   "outputs": [],
   "source": [
    "#clean the variable name \n",
    "income['marital_status'] = income['marital-status']\n",
    "income['education_num'] = income['education-num']\n",
    "income['capital_gain'] = income['capital-gain']\n",
    "income['capital_loss'] = income['capital-loss']\n",
    "income['hours_per_week'] = income['hours-per-week']\n",
    "income['native_country'] = income['native-country']\n",
    "unclean_names = ['marital-status', 'education-num', 'capital-gain', 'capital-loss', 'hours-per-week', 'native-country']\n",
    "income = income.drop(unclean_names, 1)"
   ]
  },
  {
   "cell_type": "code",
   "execution_count": 6,
   "metadata": {
    "ExecuteTime": {
     "end_time": "2020-01-17T02:22:40.444121Z",
     "start_time": "2020-01-17T02:22:40.409215Z"
    },
    "colab": {},
    "colab_type": "code",
    "id": "YN3SDKupO1dc"
   },
   "outputs": [],
   "source": [
    "#merging levels of education\n",
    "income['education']=np.where(income['education'] =='11th', 'Not-HS-Grad', income['education'])\n",
    "income['education']=np.where(income['education'] =='9th', 'Not-HS-Grad', income['education'])\n",
    "income['education']=np.where(income['education'] =='7th-8th', 'Not-HS-Grad', income['education'])\n",
    "income['education']=np.where(income['education'] =='5th-6th', 'Not-HS-Grad', income['education'])\n",
    "income['education']=np.where(income['education'] =='10th', 'Not-HS-Grad', income['education'])\n",
    "income['education']=np.where(income['education'] =='1st-4th', 'Not-HS-Grad', income['education'])\n",
    "income['education']=np.where(income['education'] =='Preschool', 'Not-HS-Grad', income['education'])\n",
    "income['education']=np.where(income['education'] =='12th', 'Not-HS-Grad', income['education'])"
   ]
  },
  {
   "cell_type": "code",
   "execution_count": 7,
   "metadata": {
    "ExecuteTime": {
     "end_time": "2020-01-17T02:22:42.304146Z",
     "start_time": "2020-01-17T02:22:42.297165Z"
    },
    "colab": {},
    "colab_type": "code",
    "id": "qR4IpEXtry15"
   },
   "outputs": [],
   "source": [
    "income_raw = income.copy()"
   ]
  },
  {
   "cell_type": "markdown",
   "metadata": {
    "colab_type": "text",
    "id": "D6YtbQVr954g"
   },
   "source": [
    "# EDA"
   ]
  },
  {
   "cell_type": "markdown",
   "metadata": {
    "colab_type": "text",
    "id": "ZNJlDfXIl4HQ"
   },
   "source": [
    "## Part 1. Y = whether income > 50k"
   ]
  },
  {
   "cell_type": "markdown",
   "metadata": {
    "colab_type": "text",
    "id": "6BzQKWYL_jup"
   },
   "source": [
    "**1) Occupation**    \n",
    "    a. Exec-managerial occupation shows more even distribution for people earn over 50k and under 50k.   \n",
    "    b. people work in the adm-clerical, other-service, sales, craft-repaire field show large disparency of income level."
   ]
  },
  {
   "cell_type": "code",
   "execution_count": null,
   "metadata": {
    "ExecuteTime": {
     "start_time": "2020-01-17T02:22:45.396Z"
    },
    "colab": {
     "base_uri": "https://localhost:8080/",
     "height": 1000
    },
    "colab_type": "code",
    "executionInfo": {
     "elapsed": 14247,
     "status": "ok",
     "timestamp": 1579054973326,
     "user": {
      "displayName": "Jiayin Liu",
      "photoUrl": "",
      "userId": "02469597142612733971"
     },
     "user_tz": 480
    },
    "id": "_1eELaQVO1dh",
    "outputId": "99afdca5-df76-4c5c-c540-2a40a23d2f99"
   },
   "outputs": [],
   "source": [
    "grid = sns.FacetGrid(income, col='income', row='occupation',height=2.3, aspect=3)\n",
    "grid.map(plt.hist, 'age', alpha=.5, bins=20)\n",
    "grid.add_legend();"
   ]
  },
  {
   "cell_type": "markdown",
   "metadata": {
    "colab_type": "text",
    "id": "2lFpGBGuAItW"
   },
   "source": [
    "**2) Age**  \n",
    "Age of people with income over 50k are normally distributed, centered on middle age - 40 to 45 years old.   \n",
    "Age distribution of people with income less than 50k are right skewed. \n"
   ]
  },
  {
   "cell_type": "code",
   "execution_count": 8,
   "metadata": {
    "colab": {
     "base_uri": "https://localhost:8080/",
     "height": 386
    },
    "colab_type": "code",
    "executionInfo": {
     "elapsed": 1112,
     "status": "ok",
     "timestamp": 1579054873952,
     "user": {
      "displayName": "Jiayin Liu",
      "photoUrl": "",
      "userId": "02469597142612733971"
     },
     "user_tz": 480
    },
    "id": "2UwRg0PWAR4D",
    "outputId": "10305c8f-6c60-4ea8-b82c-dd7c4bccd91c"
   },
   "outputs": [
    {
     "data": {
      "text/plain": [
       "Text(0.5, 0, 'Age')"
      ]
     },
     "execution_count": 8,
     "metadata": {},
     "output_type": "execute_result"
    },
    {
     "data": {
      "image/png": "[encoded data removed]",
      "text/plain": [
       "<Figure size 1080x360 with 2 Axes>"
      ]
     },
     "metadata": {
      "needs_background": "light"
     },
     "output_type": "display_data"
    }
   ],
   "source": [
    "fig, axs = plt.subplots(1, 2, sharey=True, tight_layout=True, figsize = (15,5))\n",
    "\n",
    "axs[0].hist(income[income[\"income\"] == \"<=50K\"][\"age\"], bins=20)\n",
    "axs[0].set_title(\"Distribution of Age for Income <=50k\")\n",
    "axs[0].set_xlabel(\"Age\")\n",
    "axs[1].hist(income[income[\"income\"] == \">50K\"][\"age\"], bins=20)\n",
    "axs[1].set_title(\"Distribution of Age for Income >50k\")\n",
    "axs[1].set_xlabel(\"Age\")"
   ]
  },
  {
   "cell_type": "code",
   "execution_count": 9,
   "metadata": {
    "colab": {
     "base_uri": "https://localhost:8080/",
     "height": 85
    },
    "colab_type": "code",
    "executionInfo": {
     "elapsed": 355,
     "status": "ok",
     "timestamp": 1579152713029,
     "user": {
      "displayName": "Jiayin Liu",
      "photoUrl": "",
      "userId": "02469597142612733971"
     },
     "user_tz": 480
    },
    "id": "MrSNt2qj1fkR",
    "outputId": "a1c9493a-e9c8-4231-dd2c-a7ebc484eb3f"
   },
   "outputs": [
    {
     "data": {
      "text/plain": [
       "income\n",
       "<=50K    36.783738\n",
       ">50K     44.249841\n",
       "Name: age, dtype: float64"
      ]
     },
     "execution_count": 9,
     "metadata": {},
     "output_type": "execute_result"
    }
   ],
   "source": [
    "income.groupby('income')['age'].mean()"
   ]
  },
  {
   "cell_type": "markdown",
   "metadata": {
    "colab_type": "text",
    "id": "_OgEl5S9Bk42"
   },
   "source": [
    "**3) Education Level**\n",
    "\n",
    "Education level plays an important role in terms of its effect on whether people can earn over 50k. But the effect dramatally decreases when reaching the level of master degree."
   ]
  },
  {
   "cell_type": "code",
   "execution_count": 10,
   "metadata": {
    "colab": {
     "base_uri": "https://localhost:8080/",
     "height": 1000
    },
    "colab_type": "code",
    "executionInfo": {
     "elapsed": 7813,
     "status": "ok",
     "timestamp": 1579151999701,
     "user": {
      "displayName": "Jiayin Liu",
      "photoUrl": "",
      "userId": "02469597142612733971"
     },
     "user_tz": 480
    },
    "id": "PrBlet1QBlKH",
    "outputId": "55d90237-9450-4e7f-beed-635a3c1f33eb"
   },
   "outputs": [
    {
     "data": {
      "image/png": "[encoded data removed]",
      "text/plain": [
       "<Figure size 1001.6x1490.4 with 18 Axes>"
      ]
     },
     "metadata": {
      "needs_background": "light"
     },
     "output_type": "display_data"
    }
   ],
   "source": [
    "grid = sns.FacetGrid(income, col='income', row='education', height=2.3, aspect=3)\n",
    "grid.map(plt.hist, 'age', alpha=.5, bins=20)\n",
    "grid.add_legend();"
   ]
  },
  {
   "cell_type": "markdown",
   "metadata": {
    "colab_type": "text",
    "id": "DG83gHKLGQW4"
   },
   "source": [
    "**4) Working Hours**  \n",
    "Working overtime -> income >50k"
   ]
  },
  {
   "cell_type": "code",
   "execution_count": 11,
   "metadata": {
    "colab": {
     "base_uri": "https://localhost:8080/",
     "height": 386
    },
    "colab_type": "code",
    "executionInfo": {
     "elapsed": 1130,
     "status": "ok",
     "timestamp": 1579152159979,
     "user": {
      "displayName": "Jiayin Liu",
      "photoUrl": "",
      "userId": "02469597142612733971"
     },
     "user_tz": 480
    },
    "id": "cvShlTRzDu1K",
    "outputId": "35ee2f8a-8bda-4bb1-fcce-54463e45b1dc"
   },
   "outputs": [
    {
     "data": {
      "text/plain": [
       "Text(0.5, 0, 'Weekly Working Hours')"
      ]
     },
     "execution_count": 11,
     "metadata": {},
     "output_type": "execute_result"
    },
    {
     "data": {
      "image/png": "[encoded data removed]",
      "text/plain": [
       "<Figure size 1080x360 with 2 Axes>"
      ]
     },
     "metadata": {
      "needs_background": "light"
     },
     "output_type": "display_data"
    }
   ],
   "source": [
    "fig, axs = plt.subplots(1, 2, sharey=True, tight_layout=True, figsize = (15,5))\n",
    "\n",
    "axs[0].hist(income[income[\"income\"] == \"<=50K\"][\"hours_per_week\"], bins=20)\n",
    "axs[0].set_title(\"Distribution of Weekly Working Hours for Income <=50k\")\n",
    "axs[0].set_xlabel(\"Weekly Working Hours\")\n",
    "axs[1].hist(income[income[\"income\"] == \">50K\"][\"hours_per_week\"], bins=20)\n",
    "axs[1].set_title(\"Distribution of Weekly Working Hours for Income >50k\")\n",
    "axs[1].set_xlabel(\"Weekly Working Hours\")"
   ]
  },
  {
   "cell_type": "code",
   "execution_count": 12,
   "metadata": {
    "colab": {
     "base_uri": "https://localhost:8080/",
     "height": 85
    },
    "colab_type": "code",
    "executionInfo": {
     "elapsed": 352,
     "status": "ok",
     "timestamp": 1579152240022,
     "user": {
      "displayName": "Jiayin Liu",
      "photoUrl": "",
      "userId": "02469597142612733971"
     },
     "user_tz": 480
    },
    "id": "XKH1M9qhzk1C",
    "outputId": "004bda8b-365e-407d-e4ba-c94bec041a13"
   },
   "outputs": [
    {
     "data": {
      "text/plain": [
       "income\n",
       "<=50K    38.840210\n",
       ">50K     45.473026\n",
       "Name: hours_per_week, dtype: float64"
      ]
     },
     "execution_count": 12,
     "metadata": {},
     "output_type": "execute_result"
    }
   ],
   "source": [
    "income.groupby(\"income\").mean()[\"hours_per_week\"]"
   ]
  },
  {
   "cell_type": "markdown",
   "metadata": {
    "colab_type": "text",
    "id": "wqocIJOOl-cz"
   },
   "source": [
    "## Part 2. Y = Working Hours per Week"
   ]
  },
  {
   "cell_type": "markdown",
   "metadata": {
    "colab_type": "text",
    "id": "E6UZCzOamE1m"
   },
   "source": [
    "1) Workclass"
   ]
  },
  {
   "cell_type": "code",
   "execution_count": 13,
   "metadata": {
    "colab": {
     "base_uri": "https://localhost:8080/",
     "height": 351
    },
    "colab_type": "code",
    "executionInfo": {
     "elapsed": 677,
     "status": "ok",
     "timestamp": 1579152585984,
     "user": {
      "displayName": "Jiayin Liu",
      "photoUrl": "",
      "userId": "02469597142612733971"
     },
     "user_tz": 480
    },
    "id": "kldS2Ur_NUmQ",
    "outputId": "ab360c80-d48e-459e-dd83-9a7f889af315"
   },
   "outputs": [
    {
     "data": {
      "text/plain": [
       "<matplotlib.axes._subplots.AxesSubplot at 0x1096217d0>"
      ]
     },
     "execution_count": 13,
     "metadata": {},
     "output_type": "execute_result"
    },
    {
     "data": {
      "image/png": "[encoded data removed]",
      "text/plain": [
       "<Figure size 864x360 with 1 Axes>"
      ]
     },
     "metadata": {
      "needs_background": "light"
     },
     "output_type": "display_data"
    }
   ],
   "source": [
    "plt.figure(figsize=(12,5))\n",
    "grp_class=income.groupby('workclass')['hours_per_week'].mean().reset_index()\n",
    "sp=sns.lineplot(\n",
    "    x='workclass',\n",
    "    y='hours_per_week',\n",
    "    data=grp_class)\n",
    "sp"
   ]
  },
  {
   "cell_type": "code",
   "execution_count": 14,
   "metadata": {
    "colab": {
     "base_uri": "https://localhost:8080/",
     "height": 187
    },
    "colab_type": "code",
    "executionInfo": {
     "elapsed": 570,
     "status": "ok",
     "timestamp": 1579153391587,
     "user": {
      "displayName": "Jiayin Liu",
      "photoUrl": "",
      "userId": "02469597142612733971"
     },
     "user_tz": 480
    },
    "id": "tExbYGfh09TU",
    "outputId": "c95fe6e1-ee67-4078-d342-87473de26802"
   },
   "outputs": [
    {
     "data": {
      "text/plain": [
       "workclass\n",
       "Federal-gov         41.379167\n",
       "Local-gov           40.982800\n",
       "Never-worked        28.428571\n",
       "Private             40.267096\n",
       "Self-emp-inc        48.818100\n",
       "Self-emp-not-inc    44.421881\n",
       "State-gov           39.031587\n",
       "Without-pay         32.714286\n",
       "Name: hours_per_week, dtype: float64"
      ]
     },
     "execution_count": 14,
     "metadata": {},
     "output_type": "execute_result"
    }
   ],
   "source": [
    "income[income['workclass'] != \"?\"].groupby('workclass')['hours_per_week'].mean()"
   ]
  },
  {
   "cell_type": "markdown",
   "metadata": {
    "colab_type": "text",
    "id": "o8cY_dXToneD"
   },
   "source": [
    "2) Education"
   ]
  },
  {
   "cell_type": "code",
   "execution_count": 15,
   "metadata": {
    "colab": {
     "base_uri": "https://localhost:8080/",
     "height": 351
    },
    "colab_type": "code",
    "executionInfo": {
     "elapsed": 762,
     "status": "ok",
     "timestamp": 1579065238285,
     "user": {
      "displayName": "Jiayin Liu",
      "photoUrl": "",
      "userId": "02469597142612733971"
     },
     "user_tz": 480
    },
    "id": "ba0fVvVmNhY-",
    "outputId": "1c857a53-44f6-4691-ee27-36f136262222"
   },
   "outputs": [
    {
     "data": {
      "text/plain": [
       "<matplotlib.axes._subplots.AxesSubplot at 0x1c3642b0d0>"
      ]
     },
     "execution_count": 15,
     "metadata": {},
     "output_type": "execute_result"
    },
    {
     "data": {
      "image/png": "[encoded data removed]",
      "text/plain": [
       "<Figure size 864x360 with 1 Axes>"
      ]
     },
     "metadata": {
      "needs_background": "light"
     },
     "output_type": "display_data"
    }
   ],
   "source": [
    "plt.figure(figsize=(12,5))\n",
    "grp_edu=income.groupby('education')['hours_per_week'].mean().reset_index()\n",
    "sp1=sns.lineplot(\n",
    "    x='education',\n",
    "    y='hours_per_week',\n",
    "    data=grp_edu)\n",
    "sp1"
   ]
  },
  {
   "cell_type": "code",
   "execution_count": 16,
   "metadata": {
    "colab": {
     "base_uri": "https://localhost:8080/",
     "height": 204
    },
    "colab_type": "code",
    "executionInfo": {
     "elapsed": 325,
     "status": "ok",
     "timestamp": 1579152967693,
     "user": {
      "displayName": "Jiayin Liu",
      "photoUrl": "",
      "userId": "02469597142612733971"
     },
     "user_tz": 480
    },
    "id": "jxLYhBh22fIz",
    "outputId": "ad1cf113-22fa-42c8-92ef-3b47030221bf"
   },
   "outputs": [
    {
     "data": {
      "text/plain": [
       "education\n",
       "Assoc-acdm      40.504217\n",
       "Assoc-voc       41.610709\n",
       "Bachelors       42.614006\n",
       "Doctorate       46.973366\n",
       "HS-grad         40.575374\n",
       "Masters         43.836332\n",
       "Not-HS-Grad     36.717846\n",
       "Prof-school     47.425347\n",
       "Some-college    38.852284\n",
       "Name: hours_per_week, dtype: float64"
      ]
     },
     "execution_count": 16,
     "metadata": {},
     "output_type": "execute_result"
    }
   ],
   "source": [
    "income.groupby('education')['hours_per_week'].mean()"
   ]
  },
  {
   "cell_type": "markdown",
   "metadata": {
    "colab_type": "text",
    "id": "DtNPQgJ0-NCo"
   },
   "source": [
    "# Feature Elimination\n",
    "### Part 1. Elimination by EDA\n",
    "**1) Investment**  \n",
    "Compared to those who did not investment at all, people had either 'Capital-gain' or 'Capital-loss' are more likely to earn 50k or more. One possible explanation is that only those people with higher income have the ability and resources to make investment. \n"
   ]
  },
  {
   "cell_type": "markdown",
   "metadata": {
    "colab_type": "text",
    "id": "wKMBqf38WOFX"
   },
   "source": [
    "### Part 1. Elimination by EDA"
   ]
  },
  {
   "cell_type": "markdown",
   "metadata": {
    "colab_type": "text",
    "id": "9ZhphnwZYJBU"
   },
   "source": [
    "**1) Investment**  \n",
    "Compared to those who did not investment at all, people had either 'Capital-gain' or 'Capital-loss' are more likely to earn 50k or more. One possible explanation is that only those people with higher income have the ability and resources to make investment. \n"
   ]
  },
  {
   "cell_type": "code",
   "execution_count": 17,
   "metadata": {
    "colab": {},
    "colab_type": "code",
    "id": "vxTFHK05WdHQ"
   },
   "outputs": [],
   "source": [
    "# Tranform Capital Loss & Capital Gain into Logical variable\n",
    "income['boolean_capital_gain'] = np.where((income[\"capital_gain\"] == 0), \"Zero Gain\", \"Gain\")\n",
    "income['boolean_capital_loss'] = np.where((income[\"capital_loss\"] == 0), \"Zero Loss\", \"Loss\")"
   ]
  },
  {
   "cell_type": "code",
   "execution_count": 18,
   "metadata": {
    "colab": {
     "base_uri": "https://localhost:8080/",
     "height": 336
    },
    "colab_type": "code",
    "executionInfo": {
     "elapsed": 596,
     "status": "ok",
     "timestamp": 1579153974746,
     "user": {
      "displayName": "Jiayin Liu",
      "photoUrl": "",
      "userId": "02469597142612733971"
     },
     "user_tz": 480
    },
    "id": "UNNRpYnoXSGl",
    "outputId": "7e7db749-a513-43fe-c154-9bc58b582c07"
   },
   "outputs": [
    {
     "data": {
      "text/plain": [
       "Text(0, 0.5, '')"
      ]
     },
     "execution_count": 18,
     "metadata": {},
     "output_type": "execute_result"
    },
    {
     "data": {
      "image/png": "[encoded data removed]",
      "text/plain": [
       "<Figure size 1080x360 with 2 Axes>"
      ]
     },
     "metadata": {},
     "output_type": "display_data"
    }
   ],
   "source": [
    "# Capital-Gain vs. High Income\n",
    "f,ax=plt.subplots(1,2,figsize=(15,5))\n",
    "income[income[\"income\"] == \"<=50K\"][\"boolean_capital_gain\"].value_counts().plot.pie(explode=[0,0.1],autopct='%1.1f%%',ax=ax[0],shadow=True)\n",
    "ax[0].set_title('income <= 50k')\n",
    "ax[0].set_ylabel('')\n",
    "income[income[\"income\"] == \">50K\"][\"boolean_capital_loss\"].value_counts().plot.pie(explode=[0,0.1],autopct='%1.1f%%',ax=ax[1],shadow=True)\n",
    "ax[1].set_title('income > 50k')\n",
    "ax[1].set_ylabel('')"
   ]
  },
  {
   "cell_type": "code",
   "execution_count": 19,
   "metadata": {
    "colab": {
     "base_uri": "https://localhost:8080/",
     "height": 336
    },
    "colab_type": "code",
    "executionInfo": {
     "elapsed": 586,
     "status": "ok",
     "timestamp": 1579153992953,
     "user": {
      "displayName": "Jiayin Liu",
      "photoUrl": "",
      "userId": "02469597142612733971"
     },
     "user_tz": 480
    },
    "id": "gE7B67KmXhMS",
    "outputId": "d1178326-c4e9-4496-ca71-cd2702300cbd"
   },
   "outputs": [
    {
     "data": {
      "text/plain": [
       "Text(0, 0.5, '')"
      ]
     },
     "execution_count": 19,
     "metadata": {},
     "output_type": "execute_result"
    },
    {
     "data": {
      "image/png": "[encoded data removed]",
      "text/plain": [
       "<Figure size 1080x360 with 2 Axes>"
      ]
     },
     "metadata": {},
     "output_type": "display_data"
    }
   ],
   "source": [
    "# Capital-Loss vs. High Income\n",
    "f,ax=plt.subplots(1,2,figsize=(15,5))\n",
    "income[income[\"income\"] == \"<=50K\"][\"boolean_capital_loss\"].value_counts().plot.pie(explode=[0,0.1],autopct='%1.1f%%',ax=ax[0],shadow=True)\n",
    "ax[0].set_title('income <= 50k')\n",
    "ax[0].set_ylabel('')\n",
    "income[income[\"income\"] == \">50K\"][\"boolean_capital_loss\"].value_counts().plot.pie(explode=[0,0.1],autopct='%1.1f%%',ax=ax[1],shadow=True)\n",
    "ax[1].set_title('income > 50k')\n",
    "ax[1].set_ylabel('')"
   ]
  },
  {
   "cell_type": "code",
   "execution_count": 20,
   "metadata": {
    "colab": {
     "base_uri": "https://localhost:8080/",
     "height": 309
    },
    "colab_type": "code",
    "executionInfo": {
     "elapsed": 544,
     "status": "ok",
     "timestamp": 1579154006637,
     "user": {
      "displayName": "Jiayin Liu",
      "photoUrl": "",
      "userId": "02469597142612733971"
     },
     "user_tz": 480
    },
    "id": "06-vONJeXsJa",
    "outputId": "8d662ef1-0f76-4c0a-db62-433339851fb4"
   },
   "outputs": [
    {
     "data": {
      "text/plain": [
       "Text(0, 0.5, 'High Income')"
      ]
     },
     "execution_count": 20,
     "metadata": {},
     "output_type": "execute_result"
    },
    {
     "data": {
      "image/png": "[encoded data removed]",
      "text/plain": [
       "<Figure size 432x288 with 1 Axes>"
      ]
     },
     "metadata": {
      "needs_background": "light"
     },
     "output_type": "display_data"
    }
   ],
   "source": [
    "# Combined Capital-Gain & Loss to create new variable 'Invenstment' - whether people invested or not\n",
    "income['investment'] = np.where(((income[\"capital_gain\"] == 0) & (income[\"capital_loss\"] == 0)), 0, 1)\n",
    "pd.crosstab(income['investment'],income['income']).plot(kind='bar')\n",
    "plt.title('Income against Investment')\n",
    "plt.xlabel('Investment')\n",
    "plt.ylabel('High Income')"
   ]
  },
  {
   "cell_type": "markdown",
   "metadata": {
    "colab_type": "text",
    "id": "YWBAnF_kZ6GN"
   },
   "source": [
    "**2) Choice between Education Level vs Years of Education**  \n",
    "They two are highly correlated. So we chose enducation level, which has lesser levels. "
   ]
  },
  {
   "cell_type": "code",
   "execution_count": 21,
   "metadata": {
    "colab": {
     "base_uri": "https://localhost:8080/",
     "height": 351
    },
    "colab_type": "code",
    "executionInfo": {
     "elapsed": 554,
     "status": "ok",
     "timestamp": 1579151356724,
     "user": {
      "displayName": "Jiayin Liu",
      "photoUrl": "",
      "userId": "02469597142612733971"
     },
     "user_tz": 480
    },
    "id": "_q0ajx5Xlhf4",
    "outputId": "c2f47693-5eba-42c9-f80b-cb11bfdd6063"
   },
   "outputs": [
    {
     "data": {
      "text/plain": [
       "<matplotlib.axes._subplots.AxesSubplot at 0x1c39070490>"
      ]
     },
     "execution_count": 21,
     "metadata": {},
     "output_type": "execute_result"
    },
    {
     "data": {
      "image/png": "[encoded data removed]",
      "text/plain": [
       "<Figure size 864x360 with 1 Axes>"
      ]
     },
     "metadata": {
      "needs_background": "light"
     },
     "output_type": "display_data"
    }
   ],
   "source": [
    "grp_edu=income.groupby('education').mean().reset_index()\n",
    "# reorder the education level\n",
    "order_edu = [\"Not-HS-Grad\", \"HS-grad\", \"Some-college\", \"Assoc-voc\", \"Assoc-acdm\", \"Bachelors\", \"Masters\", \"Prof-school\", \"Doctorate\"]\n",
    "\n",
    "plt.figure(figsize=(12,5))\n",
    "\n",
    "edu =sns.barplot(\n",
    "    x='education',\n",
    "    y='education_num',\n",
    "    data=grp_edu,\n",
    "    order = order_edu)\n",
    "edu"
   ]
  },
  {
   "cell_type": "markdown",
   "metadata": {
    "colab_type": "text",
    "id": "pOCic_lb1gek"
   },
   "source": [
    "**3) Race**  \n",
    "Unbalanced Data - drop race\n"
   ]
  },
  {
   "cell_type": "code",
   "execution_count": 22,
   "metadata": {
    "colab": {
     "base_uri": "https://localhost:8080/",
     "height": 441
    },
    "colab_type": "code",
    "executionInfo": {
     "elapsed": 872,
     "status": "ok",
     "timestamp": 1579069844707,
     "user": {
      "displayName": "Jiayin Liu",
      "photoUrl": "",
      "userId": "02469597142612733971"
     },
     "user_tz": 480
    },
    "id": "L9--zeh81lKj",
    "outputId": "4a4954ec-749c-446a-c087-df00a721fae4"
   },
   "outputs": [
    {
     "data": {
      "image/png": "[encoded data removed]",
      "text/plain": [
       "<Figure size 1296x432 with 2 Axes>"
      ]
     },
     "metadata": {
      "needs_background": "light"
     },
     "output_type": "display_data"
    }
   ],
   "source": [
    "f,ax=plt.subplots(1,2,figsize=(18,6), tight_layout=True)\n",
    "income['race'].value_counts().plot.pie(explode=[0.1,0,0,0,0],autopct='%1.1f%%',ax=ax[0],shadow=True)\n",
    "ax[0].set_title('Race %')\n",
    "ax[0].set_ylabel('')\n",
    "sns.countplot('race',data=income,ax=ax[1])\n",
    "ax[1].set_title('Race')\n",
    "plt.show()"
   ]
  },
  {
   "cell_type": "markdown",
   "metadata": {
    "colab_type": "text",
    "id": "AAYXI8GE50mL"
   },
   "source": [
    "**4) Native_country**  \n",
    "Unbalanced Data - drop Native_country"
   ]
  },
  {
   "cell_type": "code",
   "execution_count": 23,
   "metadata": {
    "colab": {
     "base_uri": "https://localhost:8080/",
     "height": 441
    },
    "colab_type": "code",
    "executionInfo": {
     "elapsed": 2031,
     "status": "ok",
     "timestamp": 1579069934557,
     "user": {
      "displayName": "Jiayin Liu",
      "photoUrl": "",
      "userId": "02469597142612733971"
     },
     "user_tz": 480
    },
    "id": "zJF7l6vj5lQy",
    "outputId": "8c9abd47-d408-4f39-b335-6ad12dc415e6"
   },
   "outputs": [
    {
     "data": {
      "image/png": "[encoded data removed]",
      "text/plain": [
       "<Figure size 1296x432 with 2 Axes>"
      ]
     },
     "metadata": {
      "needs_background": "light"
     },
     "output_type": "display_data"
    }
   ],
   "source": [
    "f,ax=plt.subplots(1,2,figsize=(18,6), tight_layout=True)\n",
    "income['native_country'].value_counts().plot.pie(autopct='%1.1f%%',ax=ax[0],shadow=True)\n",
    "ax[0].set_title('Native_country %')\n",
    "ax[0].set_ylabel('')\n",
    "sns.countplot('native_country',data=income,ax=ax[1])\n",
    "ax[1].set_title('Native_country')\n",
    "plt.show()"
   ]
  },
  {
   "cell_type": "markdown",
   "metadata": {
    "colab_type": "text",
    "id": "Ky5f0Q6PO1di"
   },
   "source": [
    "### Part 2. Recursive Feature Elimination"
   ]
  },
  {
   "cell_type": "markdown",
   "metadata": {
    "colab_type": "text",
    "id": "kcKZlBWPry2g"
   },
   "source": [
    "**1) clean data based on EDA**  "
   ]
  },
  {
   "cell_type": "code",
   "execution_count": 24,
   "metadata": {
    "colab": {},
    "colab_type": "code",
    "id": "f4-V9e_Ury2g"
   },
   "outputs": [],
   "source": [
    "# relevel education variable and change it to ordinal factor \n",
    "mapper = {'Not-HS-Grad':1,'HS-grad':2,'Some-college':3,\"Assoc-voc\":4,\"Assoc-acdm\":5,\"Bachelors\":6,\"Masters\":7, \"Prof-school\":8, \"Doctorate\":9}\n",
    "income_raw['ordedu'] = income_raw['education'].map(mapper)"
   ]
  },
  {
   "cell_type": "code",
   "execution_count": 25,
   "metadata": {
    "colab": {},
    "colab_type": "code",
    "id": "RXpCw8S9ry2i"
   },
   "outputs": [],
   "source": [
    "income_raw['investment'] = np.where(((income_raw[\"capital_gain\"] == 0) & (income_raw[\"capital_loss\"] == 0)), 0, 1)"
   ]
  },
  {
   "cell_type": "code",
   "execution_count": 26,
   "metadata": {
    "colab": {
     "base_uri": "https://localhost:8080/",
     "height": 224
    },
    "colab_type": "code",
    "executionInfo": {
     "elapsed": 352,
     "status": "ok",
     "timestamp": 1579151369175,
     "user": {
      "displayName": "Jiayin Liu",
      "photoUrl": "",
      "userId": "02469597142612733971"
     },
     "user_tz": 480
    },
    "id": "7rFoE-pXO1de",
    "outputId": "6844383a-92c6-4e35-9ad9-a0c513f9f750"
   },
   "outputs": [
    {
     "data": {
      "text/html": [
       "<div>\n",
       "<style scoped>\n",
       "    .dataframe tbody tr th:only-of-type {\n",
       "        vertical-align: middle;\n",
       "    }\n",
       "\n",
       "    .dataframe tbody tr th {\n",
       "        vertical-align: top;\n",
       "    }\n",
       "\n",
       "    .dataframe thead th {\n",
       "        text-align: right;\n",
       "    }\n",
       "</style>\n",
       "<table border=\"1\" class=\"dataframe\">\n",
       "  <thead>\n",
       "    <tr style=\"text-align: right;\">\n",
       "      <th></th>\n",
       "      <th>age</th>\n",
       "      <th>workclass</th>\n",
       "      <th>fnlwgt</th>\n",
       "      <th>occupation</th>\n",
       "      <th>relationship</th>\n",
       "      <th>race</th>\n",
       "      <th>sex</th>\n",
       "      <th>income</th>\n",
       "      <th>marital_status</th>\n",
       "      <th>education_num</th>\n",
       "      <th>capital_gain</th>\n",
       "      <th>capital_loss</th>\n",
       "      <th>hours_per_week</th>\n",
       "      <th>native_country</th>\n",
       "      <th>ordedu</th>\n",
       "      <th>investment</th>\n",
       "    </tr>\n",
       "  </thead>\n",
       "  <tbody>\n",
       "    <tr>\n",
       "      <td>0</td>\n",
       "      <td>39</td>\n",
       "      <td>7</td>\n",
       "      <td>77516</td>\n",
       "      <td>1</td>\n",
       "      <td>1</td>\n",
       "      <td>4</td>\n",
       "      <td>1</td>\n",
       "      <td>0</td>\n",
       "      <td>4</td>\n",
       "      <td>13</td>\n",
       "      <td>2174</td>\n",
       "      <td>0</td>\n",
       "      <td>40</td>\n",
       "      <td>39</td>\n",
       "      <td>6</td>\n",
       "      <td>1</td>\n",
       "    </tr>\n",
       "    <tr>\n",
       "      <td>1</td>\n",
       "      <td>50</td>\n",
       "      <td>6</td>\n",
       "      <td>83311</td>\n",
       "      <td>4</td>\n",
       "      <td>0</td>\n",
       "      <td>4</td>\n",
       "      <td>1</td>\n",
       "      <td>0</td>\n",
       "      <td>2</td>\n",
       "      <td>13</td>\n",
       "      <td>0</td>\n",
       "      <td>0</td>\n",
       "      <td>13</td>\n",
       "      <td>39</td>\n",
       "      <td>6</td>\n",
       "      <td>0</td>\n",
       "    </tr>\n",
       "    <tr>\n",
       "      <td>2</td>\n",
       "      <td>38</td>\n",
       "      <td>4</td>\n",
       "      <td>215646</td>\n",
       "      <td>6</td>\n",
       "      <td>1</td>\n",
       "      <td>4</td>\n",
       "      <td>1</td>\n",
       "      <td>0</td>\n",
       "      <td>0</td>\n",
       "      <td>9</td>\n",
       "      <td>0</td>\n",
       "      <td>0</td>\n",
       "      <td>40</td>\n",
       "      <td>39</td>\n",
       "      <td>2</td>\n",
       "      <td>0</td>\n",
       "    </tr>\n",
       "    <tr>\n",
       "      <td>3</td>\n",
       "      <td>53</td>\n",
       "      <td>4</td>\n",
       "      <td>234721</td>\n",
       "      <td>6</td>\n",
       "      <td>0</td>\n",
       "      <td>2</td>\n",
       "      <td>1</td>\n",
       "      <td>0</td>\n",
       "      <td>2</td>\n",
       "      <td>7</td>\n",
       "      <td>0</td>\n",
       "      <td>0</td>\n",
       "      <td>40</td>\n",
       "      <td>39</td>\n",
       "      <td>1</td>\n",
       "      <td>0</td>\n",
       "    </tr>\n",
       "    <tr>\n",
       "      <td>4</td>\n",
       "      <td>28</td>\n",
       "      <td>4</td>\n",
       "      <td>338409</td>\n",
       "      <td>10</td>\n",
       "      <td>5</td>\n",
       "      <td>2</td>\n",
       "      <td>0</td>\n",
       "      <td>0</td>\n",
       "      <td>2</td>\n",
       "      <td>13</td>\n",
       "      <td>0</td>\n",
       "      <td>0</td>\n",
       "      <td>40</td>\n",
       "      <td>5</td>\n",
       "      <td>6</td>\n",
       "      <td>0</td>\n",
       "    </tr>\n",
       "  </tbody>\n",
       "</table>\n",
       "</div>"
      ],
      "text/plain": [
       "   age  workclass  fnlwgt  occupation  relationship  race  sex  income  \\\n",
       "0   39          7   77516           1             1     4    1       0   \n",
       "1   50          6   83311           4             0     4    1       0   \n",
       "2   38          4  215646           6             1     4    1       0   \n",
       "3   53          4  234721           6             0     2    1       0   \n",
       "4   28          4  338409          10             5     2    0       0   \n",
       "\n",
       "   marital_status  education_num  capital_gain  capital_loss  hours_per_week  \\\n",
       "0               4             13          2174             0              40   \n",
       "1               2             13             0             0              13   \n",
       "2               0              9             0             0              40   \n",
       "3               2              7             0             0              40   \n",
       "4               2             13             0             0              40   \n",
       "\n",
       "   native_country  ordedu  investment  \n",
       "0              39       6           1  \n",
       "1              39       6           0  \n",
       "2              39       2           0  \n",
       "3              39       1           0  \n",
       "4               5       6           0  "
      ]
     },
     "execution_count": 26,
     "metadata": {},
     "output_type": "execute_result"
    }
   ],
   "source": [
    "# assigning levels to the values of categorical variables\n",
    "factors = ['workclass', 'marital_status', 'occupation', 'relationship', 'race', 'sex', 'investment', 'native_country', 'income']\n",
    "income_raw = income_raw.drop('education', 1)\n",
    "income_fact = income_raw.copy()\n",
    "mapping_levels = []\n",
    "for factor in factors:\n",
    "    income_fact[factor] = income_fact[factor].factorize(sort = True)[0]\n",
    "    mapping_levels.append(income_fact[factor].factorize(sort = True)[1])\n",
    "income_fact.head()"
   ]
  },
  {
   "cell_type": "code",
   "execution_count": 27,
   "metadata": {
    "colab": {},
    "colab_type": "code",
    "id": "7lr428qCO1dj"
   },
   "outputs": [],
   "source": [
    "y = income_fact[['income']]\n",
    "X = income_fact.loc[:, income_fact.columns != 'income']"
   ]
  },
  {
   "cell_type": "code",
   "execution_count": 28,
   "metadata": {
    "colab": {
     "base_uri": "https://localhost:8080/",
     "height": 85
    },
    "colab_type": "code",
    "executionInfo": {
     "elapsed": 521,
     "status": "ok",
     "timestamp": 1579052659117,
     "user": {
      "displayName": "Jiayin Liu",
      "photoUrl": "",
      "userId": "02469597142612733971"
     },
     "user_tz": 480
    },
    "id": "Y4Bze4llO1dl",
    "outputId": "f61995da-2c26-427a-a7d2-dc45cf28155a",
    "scrolled": true
   },
   "outputs": [
    {
     "data": {
      "text/plain": [
       "Index(['age', 'workclass', 'fnlwgt', 'occupation', 'relationship', 'race',\n",
       "       'sex', 'marital_status', 'education_num', 'capital_gain',\n",
       "       'capital_loss', 'hours_per_week', 'native_country', 'ordedu',\n",
       "       'investment'],\n",
       "      dtype='object')"
      ]
     },
     "execution_count": 28,
     "metadata": {},
     "output_type": "execute_result"
    }
   ],
   "source": [
    "X.columns"
   ]
  },
  {
   "cell_type": "markdown",
   "metadata": {
    "colab_type": "text",
    "id": "4uDAz4cvry2p"
   },
   "source": [
    "**2) perform RFE**"
   ]
  },
  {
   "cell_type": "code",
   "execution_count": 38,
   "metadata": {
    "colab": {
     "base_uri": "https://localhost:8080/",
     "height": 819
    },
    "colab_type": "code",
    "executionInfo": {
     "elapsed": 3676,
     "status": "ok",
     "timestamp": 1579052664583,
     "user": {
      "displayName": "Jiayin Liu",
      "photoUrl": "",
      "userId": "02469597142612733971"
     },
     "user_tz": 480
    },
    "id": "jmhXhaD9O1dn",
    "outputId": "d6868562-e310-4bd0-c0bf-db0512dc0c3d",
    "scrolled": true
   },
   "outputs": [
    {
     "name": "stderr",
     "output_type": "stream",
     "text": [
      "/opt/anaconda3/lib/python3.7/site-packages/sklearn/utils/validation.py:760: DataConversionWarning: A column-vector y was passed when a 1d array was expected. Please change the shape of y to (n_samples, ), for example using ravel().\n",
      "  y = column_or_1d(y, warn=True)\n",
      "/opt/anaconda3/lib/python3.7/site-packages/sklearn/linear_model/_logistic.py:940: ConvergenceWarning: lbfgs failed to converge (status=1):\n",
      "STOP: TOTAL NO. of ITERATIONS REACHED LIMIT.\n",
      "\n",
      "Increase the number of iterations (max_iter) or scale the data as shown in:\n",
      "    https://scikit-learn.org/stable/modules/preprocessing.html\n",
      "Please also refer to the documentation for alternative solver options:\n",
      "    https://scikit-learn.org/stable/modules/linear_model.html#logistic-regression\n",
      "  extra_warning_msg=_LOGISTIC_SOLVER_CONVERGENCE_MSG)\n",
      "/opt/anaconda3/lib/python3.7/site-packages/sklearn/linear_model/_logistic.py:940: ConvergenceWarning: lbfgs failed to converge (status=1):\n",
      "STOP: TOTAL NO. of ITERATIONS REACHED LIMIT.\n",
      "\n",
      "Increase the number of iterations (max_iter) or scale the data as shown in:\n",
      "    https://scikit-learn.org/stable/modules/preprocessing.html\n",
      "Please also refer to the documentation for alternative solver options:\n",
      "    https://scikit-learn.org/stable/modules/linear_model.html#logistic-regression\n",
      "  extra_warning_msg=_LOGISTIC_SOLVER_CONVERGENCE_MSG)\n",
      "/opt/anaconda3/lib/python3.7/site-packages/sklearn/linear_model/_logistic.py:940: ConvergenceWarning: lbfgs failed to converge (status=1):\n",
      "STOP: TOTAL NO. of ITERATIONS REACHED LIMIT.\n",
      "\n",
      "Increase the number of iterations (max_iter) or scale the data as shown in:\n",
      "    https://scikit-learn.org/stable/modules/preprocessing.html\n",
      "Please also refer to the documentation for alternative solver options:\n",
      "    https://scikit-learn.org/stable/modules/linear_model.html#logistic-regression\n",
      "  extra_warning_msg=_LOGISTIC_SOLVER_CONVERGENCE_MSG)\n",
      "/opt/anaconda3/lib/python3.7/site-packages/sklearn/linear_model/_logistic.py:940: ConvergenceWarning: lbfgs failed to converge (status=1):\n",
      "STOP: TOTAL NO. of ITERATIONS REACHED LIMIT.\n",
      "\n",
      "Increase the number of iterations (max_iter) or scale the data as shown in:\n",
      "    https://scikit-learn.org/stable/modules/preprocessing.html\n",
      "Please also refer to the documentation for alternative solver options:\n",
      "    https://scikit-learn.org/stable/modules/linear_model.html#logistic-regression\n",
      "  extra_warning_msg=_LOGISTIC_SOLVER_CONVERGENCE_MSG)\n",
      "/opt/anaconda3/lib/python3.7/site-packages/sklearn/linear_model/_logistic.py:940: ConvergenceWarning: lbfgs failed to converge (status=1):\n",
      "STOP: TOTAL NO. of ITERATIONS REACHED LIMIT.\n",
      "\n",
      "Increase the number of iterations (max_iter) or scale the data as shown in:\n",
      "    https://scikit-learn.org/stable/modules/preprocessing.html\n",
      "Please also refer to the documentation for alternative solver options:\n",
      "    https://scikit-learn.org/stable/modules/linear_model.html#logistic-regression\n",
      "  extra_warning_msg=_LOGISTIC_SOLVER_CONVERGENCE_MSG)\n"
     ]
    },
    {
     "name": "stdout",
     "output_type": "stream",
     "text": [
      "Num Features: 10\n",
      "Selected Features: [ True  True False False  True  True  True  True  True False False  True\n",
      " False  True  True]\n",
      "Feature Ranking: [1 1 6 3 1 1 1 1 1 5 4 1 2 1 1]\n"
     ]
    },
    {
     "name": "stderr",
     "output_type": "stream",
     "text": [
      "/opt/anaconda3/lib/python3.7/site-packages/sklearn/linear_model/_logistic.py:940: ConvergenceWarning: lbfgs failed to converge (status=1):\n",
      "STOP: TOTAL NO. of ITERATIONS REACHED LIMIT.\n",
      "\n",
      "Increase the number of iterations (max_iter) or scale the data as shown in:\n",
      "    https://scikit-learn.org/stable/modules/preprocessing.html\n",
      "Please also refer to the documentation for alternative solver options:\n",
      "    https://scikit-learn.org/stable/modules/linear_model.html#logistic-regression\n",
      "  extra_warning_msg=_LOGISTIC_SOLVER_CONVERGENCE_MSG)\n"
     ]
    }
   ],
   "source": [
    "model = LogisticRegression()\n",
    "rfe = RFE(model, 10)\n",
    "fit = rfe.fit(X,y)\n",
    "print(\"Num Features: %s\" % (fit.n_features_))\n",
    "print(\"Selected Features: %s\" % (fit.support_))\n",
    "print(\"Feature Ranking: %s\" % (fit.ranking_))"
   ]
  },
  {
   "cell_type": "markdown",
   "metadata": {
    "colab_type": "text",
    "id": "gEW2-gRXO1dp"
   },
   "source": [
    "## Logistic Regression Model"
   ]
  },
  {
   "cell_type": "markdown",
   "metadata": {
    "colab_type": "text",
    "id": "z4zII8gmry2u"
   },
   "source": [
    "**1) drop features based on feature selection technique**"
   ]
  },
  {
   "cell_type": "code",
   "execution_count": 30,
   "metadata": {
    "colab": {},
    "colab_type": "code",
    "id": "iixiGXOcO1dq"
   },
   "outputs": [],
   "source": [
    "drop = ['fnlwgt', 'occupation', 'age', 'race', 'capital_gain', 'capital_loss', 'native_country']\n",
    "income_fact = income_fact.drop(drop,1)"
   ]
  },
  {
   "cell_type": "markdown",
   "metadata": {
    "colab_type": "text",
    "id": "vgdZ8Odjry2w"
   },
   "source": [
    "**2) create indicator variables**"
   ]
  },
  {
   "cell_type": "code",
   "execution_count": 31,
   "metadata": {
    "colab": {
     "base_uri": "https://localhost:8080/",
     "height": 224
    },
    "colab_type": "code",
    "executionInfo": {
     "elapsed": 857,
     "status": "ok",
     "timestamp": 1579052672308,
     "user": {
      "displayName": "Jiayin Liu",
      "photoUrl": "",
      "userId": "02469597142612733971"
     },
     "user_tz": 480
    },
    "id": "cycdif99O1dr",
    "outputId": "65281f2a-83a3-445b-a319-43e1278a0475",
    "scrolled": true
   },
   "outputs": [
    {
     "data": {
      "text/html": [
       "<div>\n",
       "<style scoped>\n",
       "    .dataframe tbody tr th:only-of-type {\n",
       "        vertical-align: middle;\n",
       "    }\n",
       "\n",
       "    .dataframe tbody tr th {\n",
       "        vertical-align: top;\n",
       "    }\n",
       "\n",
       "    .dataframe thead th {\n",
       "        text-align: right;\n",
       "    }\n",
       "</style>\n",
       "<table border=\"1\" class=\"dataframe\">\n",
       "  <thead>\n",
       "    <tr style=\"text-align: right;\">\n",
       "      <th></th>\n",
       "      <th>income</th>\n",
       "      <th>education_num</th>\n",
       "      <th>hours_per_week</th>\n",
       "      <th>ordedu</th>\n",
       "      <th>workclass_1</th>\n",
       "      <th>workclass_2</th>\n",
       "      <th>workclass_3</th>\n",
       "      <th>workclass_4</th>\n",
       "      <th>workclass_5</th>\n",
       "      <th>workclass_6</th>\n",
       "      <th>...</th>\n",
       "      <th>marital_status_4</th>\n",
       "      <th>marital_status_5</th>\n",
       "      <th>marital_status_6</th>\n",
       "      <th>relationship_1</th>\n",
       "      <th>relationship_2</th>\n",
       "      <th>relationship_3</th>\n",
       "      <th>relationship_4</th>\n",
       "      <th>relationship_5</th>\n",
       "      <th>sex_1</th>\n",
       "      <th>investment_1</th>\n",
       "    </tr>\n",
       "  </thead>\n",
       "  <tbody>\n",
       "    <tr>\n",
       "      <td>0</td>\n",
       "      <td>0</td>\n",
       "      <td>13</td>\n",
       "      <td>40</td>\n",
       "      <td>6</td>\n",
       "      <td>0</td>\n",
       "      <td>0</td>\n",
       "      <td>0</td>\n",
       "      <td>0</td>\n",
       "      <td>0</td>\n",
       "      <td>0</td>\n",
       "      <td>...</td>\n",
       "      <td>1</td>\n",
       "      <td>0</td>\n",
       "      <td>0</td>\n",
       "      <td>1</td>\n",
       "      <td>0</td>\n",
       "      <td>0</td>\n",
       "      <td>0</td>\n",
       "      <td>0</td>\n",
       "      <td>1</td>\n",
       "      <td>1</td>\n",
       "    </tr>\n",
       "    <tr>\n",
       "      <td>1</td>\n",
       "      <td>0</td>\n",
       "      <td>13</td>\n",
       "      <td>13</td>\n",
       "      <td>6</td>\n",
       "      <td>0</td>\n",
       "      <td>0</td>\n",
       "      <td>0</td>\n",
       "      <td>0</td>\n",
       "      <td>0</td>\n",
       "      <td>1</td>\n",
       "      <td>...</td>\n",
       "      <td>0</td>\n",
       "      <td>0</td>\n",
       "      <td>0</td>\n",
       "      <td>0</td>\n",
       "      <td>0</td>\n",
       "      <td>0</td>\n",
       "      <td>0</td>\n",
       "      <td>0</td>\n",
       "      <td>1</td>\n",
       "      <td>0</td>\n",
       "    </tr>\n",
       "    <tr>\n",
       "      <td>2</td>\n",
       "      <td>0</td>\n",
       "      <td>9</td>\n",
       "      <td>40</td>\n",
       "      <td>2</td>\n",
       "      <td>0</td>\n",
       "      <td>0</td>\n",
       "      <td>0</td>\n",
       "      <td>1</td>\n",
       "      <td>0</td>\n",
       "      <td>0</td>\n",
       "      <td>...</td>\n",
       "      <td>0</td>\n",
       "      <td>0</td>\n",
       "      <td>0</td>\n",
       "      <td>1</td>\n",
       "      <td>0</td>\n",
       "      <td>0</td>\n",
       "      <td>0</td>\n",
       "      <td>0</td>\n",
       "      <td>1</td>\n",
       "      <td>0</td>\n",
       "    </tr>\n",
       "    <tr>\n",
       "      <td>3</td>\n",
       "      <td>0</td>\n",
       "      <td>7</td>\n",
       "      <td>40</td>\n",
       "      <td>1</td>\n",
       "      <td>0</td>\n",
       "      <td>0</td>\n",
       "      <td>0</td>\n",
       "      <td>1</td>\n",
       "      <td>0</td>\n",
       "      <td>0</td>\n",
       "      <td>...</td>\n",
       "      <td>0</td>\n",
       "      <td>0</td>\n",
       "      <td>0</td>\n",
       "      <td>0</td>\n",
       "      <td>0</td>\n",
       "      <td>0</td>\n",
       "      <td>0</td>\n",
       "      <td>0</td>\n",
       "      <td>1</td>\n",
       "      <td>0</td>\n",
       "    </tr>\n",
       "    <tr>\n",
       "      <td>4</td>\n",
       "      <td>0</td>\n",
       "      <td>13</td>\n",
       "      <td>40</td>\n",
       "      <td>6</td>\n",
       "      <td>0</td>\n",
       "      <td>0</td>\n",
       "      <td>0</td>\n",
       "      <td>1</td>\n",
       "      <td>0</td>\n",
       "      <td>0</td>\n",
       "      <td>...</td>\n",
       "      <td>0</td>\n",
       "      <td>0</td>\n",
       "      <td>0</td>\n",
       "      <td>0</td>\n",
       "      <td>0</td>\n",
       "      <td>0</td>\n",
       "      <td>0</td>\n",
       "      <td>1</td>\n",
       "      <td>0</td>\n",
       "      <td>0</td>\n",
       "    </tr>\n",
       "  </tbody>\n",
       "</table>\n",
       "<p>5 rows × 25 columns</p>\n",
       "</div>"
      ],
      "text/plain": [
       "   income  education_num  hours_per_week  ordedu  workclass_1  workclass_2  \\\n",
       "0       0             13              40       6            0            0   \n",
       "1       0             13              13       6            0            0   \n",
       "2       0              9              40       2            0            0   \n",
       "3       0              7              40       1            0            0   \n",
       "4       0             13              40       6            0            0   \n",
       "\n",
       "   workclass_3  workclass_4  workclass_5  workclass_6  ...  marital_status_4  \\\n",
       "0            0            0            0            0  ...                 1   \n",
       "1            0            0            0            1  ...                 0   \n",
       "2            0            1            0            0  ...                 0   \n",
       "3            0            1            0            0  ...                 0   \n",
       "4            0            1            0            0  ...                 0   \n",
       "\n",
       "   marital_status_5  marital_status_6  relationship_1  relationship_2  \\\n",
       "0                 0                 0               1               0   \n",
       "1                 0                 0               0               0   \n",
       "2                 0                 0               1               0   \n",
       "3                 0                 0               0               0   \n",
       "4                 0                 0               0               0   \n",
       "\n",
       "   relationship_3  relationship_4  relationship_5  sex_1  investment_1  \n",
       "0               0               0               0      1             1  \n",
       "1               0               0               0      1             0  \n",
       "2               0               0               0      1             0  \n",
       "3               0               0               0      1             0  \n",
       "4               0               0               1      0             0  \n",
       "\n",
       "[5 rows x 25 columns]"
      ]
     },
     "execution_count": 31,
     "metadata": {},
     "output_type": "execute_result"
    }
   ],
   "source": [
    "df_income = income_fact.copy()\n",
    "factors1 = ['workclass', 'marital_status', 'relationship', 'sex', 'investment', 'income']\n",
    "for var in factors1:\n",
    "    if var != 'income':\n",
    "        cat_list='var'+'_'+var\n",
    "        cat_list = pd.get_dummies(df_income[var], prefix=var, drop_first=True)\n",
    "        df_income = pd.concat([df_income,cat_list], axis = 1)\n",
    "        df_income = df_income.drop(var, 1)\n",
    "\n",
    "df_income['income'] = df_income['income'].factorize()[0]\n",
    "df_income.head()"
   ]
  },
  {
   "cell_type": "markdown",
   "metadata": {
    "colab_type": "text",
    "id": "UEKJoL6Lry2x"
   },
   "source": [
    "**3) Test-Training Set Split; oversampling using SMOTE**"
   ]
  },
  {
   "cell_type": "code",
   "execution_count": 32,
   "metadata": {
    "colab": {},
    "colab_type": "code",
    "id": "54bZZ3ABry2y",
    "outputId": "81efdb3e-9359-4b05-db1b-0546c7ea8282"
   },
   "outputs": [
    {
     "name": "stdout",
     "output_type": "stream",
     "text": [
      "length of oversampled data is  34626\n",
      "Number of income less than 50k in oversampled data 17313\n",
      "Number of income more than 50k 17313\n",
      "Proportion of income less than 50k data in oversampled data is  0.5\n",
      "Proportion of income more than 50k data in oversampled data is  0.5\n"
     ]
    }
   ],
   "source": [
    "os = SMOTE(random_state=0)\n",
    "X_train, X_test, Y_train, Y_test = train_test_split(df_income.drop('income',axis=1),df_income['income'], test_size=0.30, random_state=0)\n",
    "columns = X_train.columns\n",
    "os_data_X,os_data_y=os.fit_sample(X_train, Y_train)\n",
    "os_data_X = pd.DataFrame(data=os_data_X,columns=columns )\n",
    "os_data_y= pd.DataFrame(data=os_data_y,columns=['income'])\n",
    "# we can Check the numbers of our data\n",
    "print(\"length of oversampled data is \",len(os_data_X))\n",
    "print(\"Number of income less than 50k in oversampled data\",len(os_data_y[os_data_y['income']==0]))\n",
    "print(\"Number of income more than 50k\",len(os_data_y[os_data_y['income']==1]))\n",
    "print(\"Proportion of income less than 50k data in oversampled data is \",len(os_data_y[os_data_y['income']==0])/len(os_data_X))\n",
    "print(\"Proportion of income more than 50k data in oversampled data is \",len(os_data_y[os_data_y['income']==1])/len(os_data_X))"
   ]
  },
  {
   "cell_type": "markdown",
   "metadata": {
    "colab_type": "text",
    "id": "GJS9yRYgry20"
   },
   "source": [
    "**4) logistic model building**"
   ]
  },
  {
   "cell_type": "code",
   "execution_count": 33,
   "metadata": {
    "colab": {
     "base_uri": "https://localhost:8080/",
     "height": 153
    },
    "colab_type": "code",
    "executionInfo": {
     "elapsed": 970,
     "status": "ok",
     "timestamp": 1579052679092,
     "user": {
      "displayName": "Jiayin Liu",
      "photoUrl": "",
      "userId": "02469597142612733971"
     },
     "user_tz": 480
    },
    "id": "-KQMfgEVO1du",
    "outputId": "be7ce51e-e3c1-4cd8-cf7a-94673e682cba",
    "scrolled": false
   },
   "outputs": [
    {
     "name": "stderr",
     "output_type": "stream",
     "text": [
      "/opt/anaconda3/lib/python3.7/site-packages/sklearn/linear_model/_logistic.py:940: ConvergenceWarning: lbfgs failed to converge (status=1):\n",
      "STOP: TOTAL NO. of ITERATIONS REACHED LIMIT.\n",
      "\n",
      "Increase the number of iterations (max_iter) or scale the data as shown in:\n",
      "    https://scikit-learn.org/stable/modules/preprocessing.html\n",
      "Please also refer to the documentation for alternative solver options:\n",
      "    https://scikit-learn.org/stable/modules/linear_model.html#logistic-regression\n",
      "  extra_warning_msg=_LOGISTIC_SOLVER_CONVERGENCE_MSG)\n"
     ]
    }
   ],
   "source": [
    "logreg = LogisticRegression()\n",
    "logreg = logreg.fit(X_train, Y_train)"
   ]
  },
  {
   "cell_type": "code",
   "execution_count": 34,
   "metadata": {
    "colab": {
     "base_uri": "https://localhost:8080/",
     "height": 51
    },
    "colab_type": "code",
    "executionInfo": {
     "elapsed": 905,
     "status": "ok",
     "timestamp": 1579052683289,
     "user": {
      "displayName": "Jiayin Liu",
      "photoUrl": "",
      "userId": "02469597142612733971"
     },
     "user_tz": 480
    },
    "id": "SRgY6m6KO1dw",
    "outputId": "4d5de7d7-4324-4f3e-b76e-3fd84c9d297f"
   },
   "outputs": [
    {
     "name": "stdout",
     "output_type": "stream",
     "text": [
      "[[6815  592]\n",
      " [1039 1323]]\n"
     ]
    }
   ],
   "source": [
    "Y_pred = logreg.predict(X_test)\n",
    "confusion_matrix = confusion_matrix(Y_test, Y_pred)\n",
    "print(confusion_matrix)"
   ]
  },
  {
   "cell_type": "code",
   "execution_count": 35,
   "metadata": {
    "colab": {
     "base_uri": "https://localhost:8080/",
     "height": 68
    },
    "colab_type": "code",
    "executionInfo": {
     "elapsed": 858,
     "status": "ok",
     "timestamp": 1579052686918,
     "user": {
      "displayName": "Jiayin Liu",
      "photoUrl": "",
      "userId": "02469597142612733971"
     },
     "user_tz": 480
    },
    "id": "CzcnF_tvO1dy",
    "outputId": "84749005-5e16-48dd-a969-b4e4ac50e5e8"
   },
   "outputs": [
    {
     "name": "stdout",
     "output_type": "stream",
     "text": [
      "Accuracy: 0.8340645840645841\n",
      "Precision: 0.6908616187989556\n",
      "Recall: 0.5601185436071127\n"
     ]
    }
   ],
   "source": [
    "print(\"Accuracy:\",logreg.score(X_train, Y_train))\n",
    "print(\"Precision:\",metrics.precision_score(Y_test, Y_pred))\n",
    "print(\"Recall:\",metrics.recall_score(Y_test, Y_pred))"
   ]
  },
  {
   "cell_type": "code",
   "execution_count": 36,
   "metadata": {
    "colab": {
     "base_uri": "https://localhost:8080/",
     "height": 295
    },
    "colab_type": "code",
    "executionInfo": {
     "elapsed": 776,
     "status": "ok",
     "timestamp": 1579052692644,
     "user": {
      "displayName": "Jiayin Liu",
      "photoUrl": "",
      "userId": "02469597142612733971"
     },
     "user_tz": 480
    },
    "id": "G5Bl9A9gO1d0",
    "outputId": "13732ab1-ef41-41ff-bcc3-bbd1793996e8"
   },
   "outputs": [
    {
     "data": {
      "image/png": "[encoded data removed]",
      "text/plain": [
       "<Figure size 432x288 with 1 Axes>"
      ]
     },
     "metadata": {
      "needs_background": "light"
     },
     "output_type": "display_data"
    }
   ],
   "source": [
    "# ROC curve and AUC\n",
    "logit_roc_auc = roc_auc_score(Y_test, logreg.predict(X_test))\n",
    "fpr, tpr, thresholds = roc_curve(Y_test, logreg.predict_proba(X_test)[:,1])\n",
    "plt.figure()\n",
    "plt.plot(fpr, tpr, label=\"logisticmodel, auc=\"+str(logit_roc_auc))\n",
    "plt.plot([0, 1], [0, 1],'r--')\n",
    "plt.xlim([0.0, 1.0])\n",
    "plt.ylim([0.0, 1.05])\n",
    "plt.xlabel('False Positive Rate')\n",
    "plt.ylabel('True Positive Rate')\n",
    "plt.title('Receiver operating characteristic')\n",
    "plt.legend(loc=\"lower right\")\n",
    "plt.savefig('Log_ROC')\n",
    "plt.show()"
   ]
  },
  {
   "cell_type": "code",
   "execution_count": 37,
   "metadata": {
    "colab": {
     "base_uri": "https://localhost:8080/",
     "height": 1000
    },
    "colab_type": "code",
    "executionInfo": {
     "elapsed": 491,
     "status": "ok",
     "timestamp": 1579052696388,
     "user": {
      "displayName": "Jiayin Liu",
      "photoUrl": "",
      "userId": "02469597142612733971"
     },
     "user_tz": 480
    },
    "id": "6kJ8W1_yO1d2",
    "outputId": "19e49ada-9422-4afb-c476-949eb8951a3b"
   },
   "outputs": [
    {
     "ename": "ModuleNotFoundError",
     "evalue": "No module named 'regressors'",
     "output_type": "error",
     "traceback": [
      "\u001b[0;31m---------------------------------------------------------------------------\u001b[0m",
      "\u001b[0;31mModuleNotFoundError\u001b[0m                       Traceback (most recent call last)",
      "\u001b[0;32m<ipython-input-37-bc6492e3fc70>\u001b[0m in \u001b[0;36m<module>\u001b[0;34m\u001b[0m\n\u001b[1;32m      4\u001b[0m \u001b[0mcoeff_df\u001b[0m\u001b[0;34m.\u001b[0m\u001b[0mcolumns\u001b[0m \u001b[0;34m=\u001b[0m \u001b[0;34m[\u001b[0m\u001b[0;34m'Feature'\u001b[0m\u001b[0;34m]\u001b[0m\u001b[0;34m\u001b[0m\u001b[0;34m\u001b[0m\u001b[0m\n\u001b[1;32m      5\u001b[0m \u001b[0mcoeff_df\u001b[0m\u001b[0;34m[\u001b[0m\u001b[0;34m\"Correlation\"\u001b[0m\u001b[0;34m]\u001b[0m \u001b[0;34m=\u001b[0m \u001b[0mpd\u001b[0m\u001b[0;34m.\u001b[0m\u001b[0mSeries\u001b[0m\u001b[0;34m(\u001b[0m\u001b[0mlogreg\u001b[0m\u001b[0;34m.\u001b[0m\u001b[0mcoef_\u001b[0m\u001b[0;34m[\u001b[0m\u001b[0;36m0\u001b[0m\u001b[0;34m]\u001b[0m\u001b[0;34m)\u001b[0m\u001b[0;34m\u001b[0m\u001b[0;34m\u001b[0m\u001b[0m\n\u001b[0;32m----> 6\u001b[0;31m \u001b[0;32mfrom\u001b[0m \u001b[0mregressors\u001b[0m \u001b[0;32mimport\u001b[0m \u001b[0mstats\u001b[0m\u001b[0;34m\u001b[0m\u001b[0;34m\u001b[0m\u001b[0m\n\u001b[0m\u001b[1;32m      7\u001b[0m \u001b[0mcoeff_df\u001b[0m\u001b[0;34m[\u001b[0m\u001b[0;34m'pvals'\u001b[0m\u001b[0;34m]\u001b[0m \u001b[0;34m=\u001b[0m \u001b[0mpd\u001b[0m\u001b[0;34m.\u001b[0m\u001b[0mSeries\u001b[0m\u001b[0;34m(\u001b[0m\u001b[0mstats\u001b[0m\u001b[0;34m.\u001b[0m\u001b[0mcoef_pval\u001b[0m\u001b[0;34m(\u001b[0m\u001b[0mlogreg\u001b[0m\u001b[0;34m,\u001b[0m \u001b[0mX_train\u001b[0m\u001b[0;34m,\u001b[0m \u001b[0mY_train\u001b[0m\u001b[0;34m)\u001b[0m\u001b[0;34m)\u001b[0m\u001b[0;34m\u001b[0m\u001b[0;34m\u001b[0m\u001b[0m\n\u001b[1;32m      8\u001b[0m \u001b[0;34m\u001b[0m\u001b[0m\n",
      "\u001b[0;31mModuleNotFoundError\u001b[0m: No module named 'regressors'"
     ]
    }
   ],
   "source": [
    "# Positive coefficients increase the log-odds of the response (and thus increase the probability) \n",
    "# negative coefficients decrease the log-odds of the response (and thus decrease the probability).\n",
    "coeff_df = pd.DataFrame(X_train.columns.delete(0))\n",
    "coeff_df.columns = ['Feature']\n",
    "coeff_df[\"Correlation\"] = pd.Series(logreg.coef_[0])\n",
    "from regressors import stats\n",
    "coeff_df['pvals'] = pd.Series(stats.coef_pval(logreg, X_train, Y_train))\n",
    "\n",
    "coeff_df.sort_values(by='Correlation', ascending=False)"
   ]
  },
  {
   "cell_type": "code",
   "execution_count": null,
   "metadata": {
    "colab": {},
    "colab_type": "code",
    "id": "OnRF8Loyry2-"
   },
   "outputs": [],
   "source": []
  },
  {
   "cell_type": "markdown",
   "metadata": {},
   "source": [
    "### Prepared data For Q5,Q6\n"
   ]
  },
  {
   "cell_type": "code",
   "execution_count": null,
   "metadata": {},
   "outputs": [],
   "source": [
    "income_fact = income.copy()\n",
    "mapping_levels = []\n",
    "for factor in factors:\n",
    "    income_fact[factor] = income_fact[factor].factorize(sort = True)[0]\n",
    "    mapping_levels.append(income_fact[factor].factorize(sort = True)[1])\n",
    "income_fact.head()"
   ]
  },
  {
   "cell_type": "code",
   "execution_count": null,
   "metadata": {},
   "outputs": [],
   "source": [
    "# create indicator variables\n",
    "df_income = income_fact.copy()\n",
    "factors1 = ['workclass', 'marital_status', 'education', \"occupation\", 'relationship', 'race', 'sex', 'income','native_country']\n",
    "for var in factors1:\n",
    "    if var != 'income':\n",
    "        cat_list='var'+'_'+var\n",
    "        cat_list = pd.get_dummies(df_income[var], prefix=var, drop_first=True)\n",
    "        df_income = pd.concat([df_income,cat_list], axis = 1)\n",
    "        df_income = df_income.drop(var, 1)\n",
    "\n",
    "df_income['income'] = df_income['income'].factorize()[0]\n",
    "df_income.head()"
   ]
  },
  {
   "cell_type": "code",
   "execution_count": null,
   "metadata": {},
   "outputs": [],
   "source": [
    "y = df_income[['hours_per_week']]\n",
    "X = df_income.loc[:, df_income.columns != 'hours_per_week']"
   ]
  },
  {
   "cell_type": "markdown",
   "metadata": {},
   "source": [
    "### Data used for reduced variables"
   ]
  },
  {
   "cell_type": "markdown",
   "metadata": {},
   "source": [
    "#### First, Use RFE for the new dependent variable"
   ]
  },
  {
   "cell_type": "code",
   "execution_count": null,
   "metadata": {},
   "outputs": [],
   "source": [
    "from sklearn.linear_model import LinearRegression\n",
    "\n",
    "y_rfe = income_fact[['hours_per_week']]\n",
    "X_rfe = income_fact.loc[:, income_fact.columns != 'hours_per_week']\n",
    "model_select_feature = LinearRegression()\n",
    "rfe = RFE(model_select_feature, 10)\n",
    "fit = rfe.fit(X_rfe,y_rfe)\n",
    "print(\"Num Features: %s\" % (fit.n_features_))\n",
    "print(\"Selected Features: %s\" % (fit.support_))\n",
    "print(\"Feature Ranking: %s\" % (fit.ranking_))\n",
    "\n",
    "\n",
    "\n",
    "# drop features due to FDR and RFE\n",
    "drop = ['fnlwgt', 'capital_gain', 'capital_loss', 'native_country']\n",
    "income_fact2 = income_fact.drop(drop,1)\n",
    "\n",
    "# create indicator variables\n",
    "df_income2 = income_fact2.copy()\n",
    "factors1 = ['workclass', 'marital_status', 'education', \"occupation\", 'relationship', 'race', 'sex', 'income']\n",
    "for var in factors1:\n",
    "    if var != 'income':\n",
    "        cat_list='var'+'_'+var\n",
    "        cat_list = pd.get_dummies(df_income2[var], prefix=var, drop_first=True)\n",
    "        df_income2 = pd.concat([df_income2,cat_list], axis = 1)\n",
    "        df_income2 = df_income2.drop(var, 1)\n",
    "\n",
    "df_income2['income'] = df_income2['income'].factorize()[0]\n",
    "df_income2.head()\n"
   ]
  },
  {
   "cell_type": "markdown",
   "metadata": {},
   "source": [
    "\n",
    "## Question 5\n",
    "\n",
    "### Fit a Full model and Pick features with P-value>0.05\n"
   ]
  },
  {
   "cell_type": "code",
   "execution_count": null,
   "metadata": {},
   "outputs": [],
   "source": [
    "\n",
    "import statsmodels.api as sm\n",
    "from scipy import stats\n",
    "\n",
    "mod = sm.OLS(y,X)\n",
    "print(\"We have features : \")\n",
    "print((X.shape[1]))\n",
    "fit = mod.fit()\n",
    "p_values = fit.summary2().tables[1]['P>|t|']\n",
    "\n",
    "fit.summary()"
   ]
  },
  {
   "cell_type": "markdown",
   "metadata": {},
   "source": [
    "### Leave only important features with p-value <0.05"
   ]
  },
  {
   "cell_type": "code",
   "execution_count": null,
   "metadata": {},
   "outputs": [],
   "source": [
    "import statsmodels.api as sm\n",
    "from scipy import stats\n",
    "\n",
    "y2 = df_income2[['hours_per_week']]\n",
    "X2 = df_income2.loc[:, df_income2.columns != 'hours_per_week']\n",
    "\n",
    "print(\"We have features : \")\n",
    "print((X2.shape[1]))\n",
    "\n",
    "mod2 = sm.OLS(y2,X2)\n",
    "fit2 = mod2.fit()\n",
    "p_values2 = fit2.summary2().tables[1]['P>|t|']\n",
    "\n",
    "fit2.summary()\n"
   ]
  },
  {
   "cell_type": "markdown",
   "metadata": {},
   "source": [
    "### Regression with Interaction"
   ]
  },
  {
   "cell_type": "code",
   "execution_count": null,
   "metadata": {},
   "outputs": [],
   "source": [
    "\n",
    "import statsmodels.formula.api as smf\n",
    "formula1=\"hours_per_week~age+workclass+fnlwgt+sex+education+relationship+occupation+education_num+marital_status+race+capital_gain+capital_loss+native_country+income\"\n",
    "model_inter = smf.ols(formula1, data=income)\n",
    "model_inter = model_inter.fit()\n",
    "\n",
    "print(formula1)\n",
    "model_inter.summary()"
   ]
  },
  {
   "cell_type": "code",
   "execution_count": null,
   "metadata": {},
   "outputs": [],
   "source": [
    "\n",
    "import statsmodels.formula.api as smf\n",
    "formula2=\"hours_per_week~age+workclass+fnlwgt+relationship+sex*education*occupation+native_country+education_num+marital_status+race+capital_gain+capital_loss+income\"\n",
    "model_inter = smf.ols(formula2, data=income)\n",
    "model_inter = model_inter.fit()\n",
    "\n",
    "\n",
    "model_inter.summary()"
   ]
  },
  {
   "cell_type": "markdown",
   "metadata": {},
   "source": [
    "## Question 6\n",
    "### Linear regression for Sales\n"
   ]
  },
  {
   "cell_type": "code",
   "execution_count": null,
   "metadata": {},
   "outputs": [],
   "source": [
    "income2= income.loc[income['occupation']=='Sales']\n",
    "#assigning levels to the values of categorical variables\n",
    "income_fact = income2.copy()\n",
    "mapping_levels = []\n",
    "for factor in factors:\n",
    "    income_fact[factor] = income_fact[factor].factorize(sort = True)[0]\n",
    "    mapping_levels.append(income_fact[factor].factorize(sort = True)[1])\n",
    "income_fact.head()\n"
   ]
  },
  {
   "cell_type": "code",
   "execution_count": null,
   "metadata": {},
   "outputs": [],
   "source": [
    "\n",
    "# create indicator variables\n",
    "df_income = income_fact.copy()\n",
    "factors1 = ['workclass', 'marital_status', 'education', 'relationship', 'race', 'sex', 'income']\n",
    "for var in factors1:\n",
    "    if var != 'income':\n",
    "        cat_list='var'+'_'+var\n",
    "        cat_list = pd.get_dummies(df_income[var], prefix=var, drop_first=True)\n",
    "        df_income = pd.concat([df_income,cat_list], axis = 1)\n",
    "        df_income = df_income.drop(var, 1)\n",
    "\n",
    "df_income['income'] = df_income['income'].factorize()[0]\n",
    "df_income.head()\n",
    "\n",
    "y3 = df_income[['hours_per_week']]\n",
    "X3 = df_income.loc[:, df_income.columns != 'hours_per_week']\n",
    "\n",
    "print(\"We have features : \")\n",
    "print((X3.shape[1]))\n",
    "\n",
    "mod3 = sm.OLS(y3,X3)\n",
    "fit3 = mod3.fit()\n",
    "\n",
    "\n",
    "fit3.summary()"
   ]
  }
 ],
 "metadata": {
  "colab": {
   "collapsed_sections": [],
   "name": "hw2.ipynb",
   "provenance": []
  },
  "kernelspec": {
   "display_name": "Python 3",
   "language": "python",
   "name": "python3"
  },
  "language_info": {
   "codemirror_mode": {
    "name": "ipython",
    "version": 3
   },
   "file_extension": ".py",
   "mimetype": "text/x-python",
   "name": "python",
   "nbconvert_exporter": "python",
   "pygments_lexer": "ipython3",
   "version": "3.7.3"
  },
  "toc": {
   "base_numbering": 1,
   "nav_menu": {},
   "number_sections": true,
   "sideBar": true,
   "skip_h1_title": false,
   "title_cell": "Table of Contents",
   "title_sidebar": "Contents",
   "toc_cell": false,
   "toc_position": {},
   "toc_section_display": true,
   "toc_window_display": false
  }
 },
 "nbformat": 4,
 "nbformat_minor": 1
}
