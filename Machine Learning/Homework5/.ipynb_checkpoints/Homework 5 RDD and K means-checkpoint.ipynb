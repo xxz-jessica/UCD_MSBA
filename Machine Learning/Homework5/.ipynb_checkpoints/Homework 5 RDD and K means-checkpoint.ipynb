{
 "cells": [
  {
   "cell_type": "code",
   "execution_count": 29,
   "metadata": {
    "ExecuteTime": {
     "end_time": "2020-02-05T09:36:14.426375Z",
     "start_time": "2020-02-05T09:36:14.402Z"
    }
   },
   "outputs": [],
   "source": [
    "# install.packages('textir')\n",
    "# install.packages('maptpx')\n",
    "# install.packages('wordcloud')\n",
    "# install.packages('purrr')"
   ]
  },
  {
   "cell_type": "code",
   "execution_count": 8,
   "metadata": {
    "ExecuteTime": {
     "end_time": "2020-02-11T04:18:13.413162Z",
     "start_time": "2020-02-11T04:18:11.067Z"
    }
   },
   "outputs": [
    {
     "name": "stderr",
     "output_type": "stream",
     "text": [
      "Warning message:\n",
      "\"package 'textir' was built under R version 3.6.2\"Loading required package: distrom\n",
      "Warning message:\n",
      "\"package 'distrom' was built under R version 3.6.2\"Loading required package: gamlr\n",
      "Warning message:\n",
      "\"package 'gamlr' was built under R version 3.6.2\"Loading required package: parallel\n",
      "Warning message:\n",
      "\"package 'maptpx' was built under R version 3.6.2\"Loading required package: slam\n",
      "Warning message:\n",
      "\"package 'slam' was built under R version 3.6.2\"Warning message:\n",
      "\"package 'wordcloud' was built under R version 3.6.2\"Loading required package: RColorBrewer\n",
      "Loading required package: foreach\n",
      "Loaded glmnet 2.0-16\n",
      "\n",
      "Warning message:\n",
      "\"package 'rddtools' was built under R version 3.6.2\"Loading required package: AER\n",
      "Warning message:\n",
      "\"package 'AER' was built under R version 3.6.2\"Loading required package: car\n",
      "Loading required package: carData\n",
      "\n",
      "Attaching package: 'car'\n",
      "\n",
      "The following object is masked from 'package:maptpx':\n",
      "\n",
      "    logit\n",
      "\n",
      "Loading required package: lmtest\n",
      "Loading required package: zoo\n",
      "\n",
      "Attaching package: 'zoo'\n",
      "\n",
      "The following objects are masked from 'package:base':\n",
      "\n",
      "    as.Date, as.Date.numeric\n",
      "\n",
      "Loading required package: sandwich\n",
      "Warning message:\n",
      "\"package 'sandwich' was built under R version 3.6.2\"Loading required package: survival\n",
      "Loading required package: np\n",
      "Warning message:\n",
      "\"package 'np' was built under R version 3.6.2\"Nonparametric Kernel Methods for Mixed Datatypes (version 0.60-9)\n",
      "[vignette(\"np_faq\",package=\"np\") provides answers to frequently asked questions]\n",
      "[vignette(\"np\",package=\"np\") an overview]\n",
      "[vignette(\"entropy_np\",package=\"np\") an overview of entropy-based methods]\n",
      "Registered S3 methods overwritten by 'ggplot2':\n",
      "  method         from \n",
      "  [.quosures     rlang\n",
      "  c.quosures     rlang\n",
      "  print.quosures rlang\n",
      "\n",
      "Attaching package: 'purrr'\n",
      "\n",
      "The following object is masked from 'package:car':\n",
      "\n",
      "    some\n",
      "\n",
      "The following objects are masked from 'package:foreach':\n",
      "\n",
      "    accumulate, when\n",
      "\n",
      "Registered S3 method overwritten by 'rvest':\n",
      "  method            from\n",
      "  read_xml.response xml2\n",
      "-- Attaching packages --------------------------------------- tidyverse 1.2.1 --\n",
      "v ggplot2 3.1.1     v readr   1.3.1\n",
      "v tibble  2.1.1     v dplyr   0.8.3\n",
      "v tidyr   0.8.3     v stringr 1.4.0\n",
      "v ggplot2 3.1.1     v forcats 0.4.0\n",
      "-- Conflicts ------------------------------------------ tidyverse_conflicts() --\n",
      "x purrr::accumulate() masks foreach::accumulate()\n",
      "x dplyr::collapse()   masks distrom::collapse()\n",
      "x tidyr::expand()     masks Matrix::expand()\n",
      "x dplyr::filter()     masks stats::filter()\n",
      "x dplyr::lag()        masks stats::lag()\n",
      "x dplyr::recode()     masks car::recode()\n",
      "x purrr::some()       masks car::some()\n",
      "x purrr::when()       masks foreach::when()\n",
      "\n",
      "Attaching package: 'reshape2'\n",
      "\n",
      "The following object is masked from 'package:tidyr':\n",
      "\n",
      "    smiths\n",
      "\n"
     ]
    }
   ],
   "source": [
    "library(textir) # to get the data\n",
    "library(maptpx) # for the topics function\n",
    "library(wordcloud)\n",
    "library(glmnet)\n",
    "library(rddtools)\n",
    "library(purrr)\n",
    "library(tidyverse)\n",
    "library(dplyr)\n",
    "library(reshape2)"
   ]
  },
  {
   "cell_type": "markdown",
   "metadata": {},
   "source": [
    "# Part 1 Background: \n",
    "\n",
    "This part of the problem is based on a study conducted on schools in Israel, and the research revolves around the question “Do smaller class sizes result in better grades?” You are to solve the problems using the classroom size and average grade data from class.csv and the summary statistics obtained from the original research. \n",
    "Problem Set 1: \n",
    "\n",
    "https://www.econometrics-with-r.org/13-4-quasi-experiments.html#regression-discontinuity-estimators\n",
    "\n",
    "## 1. Explore the data in class.csv and see whether you think grades really do depend on the class size. Please explain the reason behind your conclusion. \n"
   ]
  },
  {
   "cell_type": "code",
   "execution_count": 2,
   "metadata": {
    "ExecuteTime": {
     "end_time": "2020-02-06T05:38:59.125735Z",
     "start_time": "2020-02-06T05:38:58.815Z"
    }
   },
   "outputs": [],
   "source": [
    "class <- read.csv('class.csv')\n",
    "y <- class$mean_test_score\n",
    "x <- class$class_size"
   ]
  },
  {
   "cell_type": "code",
   "execution_count": 3,
   "metadata": {
    "ExecuteTime": {
     "end_time": "2020-02-06T05:39:00.441737Z",
     "start_time": "2020-02-06T05:39:00.364Z"
    }
   },
   "outputs": [
    {
     "data": {
      "text/plain": [
       "\n",
       "Call:\n",
       "lm(formula = mean_test_score ~ class_size, data = class)\n",
       "\n",
       "Residuals:\n",
       "     Min       1Q   Median       3Q      Max \n",
       "-22.2853  -4.3699  -0.1162   4.3793  21.0470 \n",
       "\n",
       "Coefficients:\n",
       "             Estimate Std. Error t value Pr(>|t|)    \n",
       "(Intercept) 101.30015    0.79493  127.43   <2e-16 ***\n",
       "class_size   -0.83383    0.02653  -31.43   <2e-16 ***\n",
       "---\n",
       "Signif. codes:  0 '***' 0.001 '**' 0.01 '*' 0.05 '.' 0.1 ' ' 1\n",
       "\n",
       "Residual standard error: 6.62 on 2017 degrees of freedom\n",
       "Multiple R-squared:  0.3287,\tAdjusted R-squared:  0.3284 \n",
       "F-statistic: 987.7 on 1 and 2017 DF,  p-value: < 2.2e-16\n"
      ]
     },
     "metadata": {},
     "output_type": "display_data"
    }
   ],
   "source": [
    "summary(lm(mean_test_score~class_size,data = class))"
   ]
  },
  {
   "cell_type": "code",
   "execution_count": 4,
   "metadata": {
    "ExecuteTime": {
     "end_time": "2020-02-06T05:39:02.940019Z",
     "start_time": "2020-02-06T05:39:02.883Z"
    }
   },
   "outputs": [
    {
     "data": {
      "text/plain": [
       "\n",
       "Call:\n",
       "lm(formula = y ~ ., data = dat_step1, weights = weights)\n",
       "\n",
       "Residuals:\n",
       "     Min       1Q   Median       3Q      Max \n",
       "-18.0656  -3.8355   0.0606   4.1373  19.0878 \n",
       "\n",
       "Coefficients:\n",
       "             Estimate Std. Error t value Pr(>|t|)    \n",
       "(Intercept)  82.47919    0.29963 275.272   <2e-16 ***\n",
       "D           -10.41362    0.45240 -23.019   <2e-16 ***\n",
       "x            -0.07670    0.04049  -1.894   0.0583 .  \n",
       "---\n",
       "Signif. codes:  0 '***' 0.001 '**' 0.01 '*' 0.05 '.' 0.1 ' ' 1\n",
       "\n",
       "Residual standard error: 5.893 on 2016 degrees of freedom\n",
       "Multiple R-squared:  0.4684,\tAdjusted R-squared:  0.4679 \n",
       "F-statistic: 888.3 on 2 and 2016 DF,  p-value: < 2.2e-16\n"
      ]
     },
     "metadata": {},
     "output_type": "display_data"
    }
   ],
   "source": [
    "rdd <- rdd_data(y,x,cutpoint =30)\n",
    "rdd_mod <- rdd_reg_lm(rdd_object = rdd, \n",
    "                      slope = \"same\")\n",
    "summary(rdd_mod)"
   ]
  },
  {
   "cell_type": "code",
   "execution_count": 5,
   "metadata": {
    "ExecuteTime": {
     "end_time": "2020-02-06T05:39:03.837401Z",
     "start_time": "2020-02-06T05:39:03.697Z"
    }
   },
   "outputs": [
    {
     "data": {
      "image/png": "[encoded data removed]",
      "text/plain": [
       "plot without title"
      ]
     },
     "metadata": {},
     "output_type": "display_data"
    }
   ],
   "source": [
    "plot(rdd_mod,xlab='class size',ylab='mean score')"
   ]
  },
  {
   "cell_type": "markdown",
   "metadata": {},
   "source": [
    "## 2. Have a look at the summary statistics of the original research. Explain in detail (tell us about the steps you would follow), how you would have tackled the question of class sizes resulting in better grades using RDD. \n"
   ]
  },
  {
   "cell_type": "code",
   "execution_count": null,
   "metadata": {},
   "outputs": [],
   "source": []
  },
  {
   "cell_type": "markdown",
   "metadata": {},
   "source": [
    "## 3. Try to use the data from question 1 and apply the procedure you described in question 2 (maybe a simple version of what you described) to estimate the effect of performance on class size? What is your conclusion? "
   ]
  },
  {
   "cell_type": "code",
   "execution_count": 37,
   "metadata": {
    "ExecuteTime": {
     "end_time": "2020-02-05T00:26:44.372786Z",
     "start_time": "2020-02-05T00:26:44.191Z"
    }
   },
   "outputs": [
    {
     "data": {
      "image/png": "[encoded data removed]",
      "text/plain": [
       "plot without title"
      ]
     },
     "metadata": {},
     "output_type": "display_data"
    }
   ],
   "source": [
    "class_1 <- subset(class, class$class_size<30,)\n",
    "class_2 <- subset(class, class$class_size>=30)\n",
    "# summary(lm(mean_test_score~class_size,data = class_1))\n",
    "# summary(lm(mean_test_score~class_size,data = class_2))\n",
    "plot(class)\n",
    "points(class_2,col=2)\n",
    "abline(lm(mean_test_score~class_size,data = class_1), col=\"black\")\n",
    "abline(lm(mean_test_score~class_size,data = class_2), col=\"red\")\n",
    "abline(lm(mean_test_score~class_size,data = class), col=\"blue\")"
   ]
  },
  {
   "cell_type": "markdown",
   "metadata": {},
   "source": [
    "# Part 2 Background:\n",
    "\n",
    "This data originally appeared in Gentzkow and Shapiro (GS; 2010) and considers text of the 2005 Congressional Record, containing all speeches in that year for members of the United States House and Senate. In particular, GS record the number times each of 529 legislators used terms in a list of 1000 phrases (i.e., each document is a year of transcripts for a single speaker). It also includes the ideology of each speaker –  Party: (Republican, Democrat, or Independent)  repshare: share of constituents voting for Bush in 2004 Based on the congress.RData that has been shared, solve the following questions. \n",
    "Problem Set 2: \n",
    "\n",
    "## 1. Fit K-means to the speech text of the members, comprising of the 1000 phrases, for K in 5,10,15,20,25 \n"
   ]
  },
  {
   "cell_type": "code",
   "execution_count": 9,
   "metadata": {
    "ExecuteTime": {
     "end_time": "2020-02-11T04:18:17.719835Z",
     "start_time": "2020-02-11T04:18:17.579Z"
    }
   },
   "outputs": [],
   "source": [
    "congress <- load(\"congress.RData\")"
   ]
  },
  {
   "cell_type": "code",
   "execution_count": 10,
   "metadata": {
    "ExecuteTime": {
     "end_time": "2020-02-11T04:18:18.404388Z",
     "start_time": "2020-02-11T04:18:18.384Z"
    }
   },
   "outputs": [],
   "source": [
    "# congress"
   ]
  },
  {
   "cell_type": "code",
   "execution_count": 11,
   "metadata": {
    "ExecuteTime": {
     "end_time": "2020-02-11T04:18:18.905183Z",
     "start_time": "2020-02-11T04:18:18.871Z"
    }
   },
   "outputs": [
    {
     "data": {
      "text/html": [
       "<table>\n",
       "<thead><tr><th></th><th scope=col>name</th><th scope=col>party</th><th scope=col>state</th><th scope=col>chamber</th><th scope=col>repshare</th><th scope=col>cs1</th><th scope=col>cs2</th></tr></thead>\n",
       "<tbody>\n",
       "\t<tr><th scope=row>Chris Cannon</th><td>Chris Cannon    </td><td>R               </td><td>UT              </td><td>H               </td><td>0.7900621       </td><td>0.534           </td><td>-0.124          </td></tr>\n",
       "\t<tr><th scope=row>Michael Conaway</th><td>Michael Conaway </td><td>R               </td><td>TX              </td><td>H               </td><td>0.7836028       </td><td>0.484           </td><td> 0.051          </td></tr>\n",
       "\t<tr><th scope=row>Spencer Bachus</th><td>Spencer Bachus  </td><td>R               </td><td>AL              </td><td>H               </td><td>0.7812933       </td><td>0.369           </td><td>-0.013          </td></tr>\n",
       "\t<tr><th scope=row>Mac Thornberry</th><td>Mac Thornberry  </td><td>R               </td><td>TX              </td><td>H               </td><td>0.7776520       </td><td>0.493           </td><td> 0.002          </td></tr>\n",
       "\t<tr><th scope=row>Randy Neugebauer</th><td>Randy Neugebauer</td><td>R               </td><td>TX              </td><td>H               </td><td>0.7746633       </td><td>0.506           </td><td> 0.070          </td></tr>\n",
       "\t<tr><th scope=row>Nathan Deal</th><td>Nathan Deal     </td><td>R               </td><td>GA              </td><td>H               </td><td>0.7707892       </td><td>0.474           </td><td> 0.058          </td></tr>\n",
       "</tbody>\n",
       "</table>\n"
      ],
      "text/latex": [
       "\\begin{tabular}{r|lllllll}\n",
       "  & name & party & state & chamber & repshare & cs1 & cs2\\\\\n",
       "\\hline\n",
       "\tChris Cannon & Chris Cannon     & R                & UT               & H                & 0.7900621        & 0.534            & -0.124          \\\\\n",
       "\tMichael Conaway & Michael Conaway  & R                & TX               & H                & 0.7836028        & 0.484            &  0.051          \\\\\n",
       "\tSpencer Bachus & Spencer Bachus   & R                & AL               & H                & 0.7812933        & 0.369            & -0.013          \\\\\n",
       "\tMac Thornberry & Mac Thornberry   & R                & TX               & H                & 0.7776520        & 0.493            &  0.002          \\\\\n",
       "\tRandy Neugebauer & Randy Neugebauer & R                & TX               & H                & 0.7746633        & 0.506            &  0.070          \\\\\n",
       "\tNathan Deal & Nathan Deal      & R                & GA               & H                & 0.7707892        & 0.474            &  0.058          \\\\\n",
       "\\end{tabular}\n"
      ],
      "text/markdown": [
       "\n",
       "| <!--/--> | name | party | state | chamber | repshare | cs1 | cs2 |\n",
       "|---|---|---|---|---|---|---|---|\n",
       "| Chris Cannon | Chris Cannon     | R                | UT               | H                | 0.7900621        | 0.534            | -0.124           |\n",
       "| Michael Conaway | Michael Conaway  | R                | TX               | H                | 0.7836028        | 0.484            |  0.051           |\n",
       "| Spencer Bachus | Spencer Bachus   | R                | AL               | H                | 0.7812933        | 0.369            | -0.013           |\n",
       "| Mac Thornberry | Mac Thornberry   | R                | TX               | H                | 0.7776520        | 0.493            |  0.002           |\n",
       "| Randy Neugebauer | Randy Neugebauer | R                | TX               | H                | 0.7746633        | 0.506            |  0.070           |\n",
       "| Nathan Deal | Nathan Deal      | R                | GA               | H                | 0.7707892        | 0.474            |  0.058           |\n",
       "\n"
      ],
      "text/plain": [
       "                 name             party state chamber repshare  cs1   cs2   \n",
       "Chris Cannon     Chris Cannon     R     UT    H       0.7900621 0.534 -0.124\n",
       "Michael Conaway  Michael Conaway  R     TX    H       0.7836028 0.484  0.051\n",
       "Spencer Bachus   Spencer Bachus   R     AL    H       0.7812933 0.369 -0.013\n",
       "Mac Thornberry   Mac Thornberry   R     TX    H       0.7776520 0.493  0.002\n",
       "Randy Neugebauer Randy Neugebauer R     TX    H       0.7746633 0.506  0.070\n",
       "Nathan Deal      Nathan Deal      R     GA    H       0.7707892 0.474  0.058"
      ]
     },
     "metadata": {},
     "output_type": "display_data"
    }
   ],
   "source": [
    "head(congress109Ideology)"
   ]
  },
  {
   "cell_type": "code",
   "execution_count": 12,
   "metadata": {
    "ExecuteTime": {
     "end_time": "2020-02-11T04:18:19.652733Z",
     "start_time": "2020-02-11T04:18:19.576Z"
    }
   },
   "outputs": [],
   "source": [
    "# df <- scale(congress109Counts)#@Dimnames[[2]]"
   ]
  },
  {
   "cell_type": "code",
   "execution_count": 13,
   "metadata": {
    "ExecuteTime": {
     "end_time": "2020-02-11T04:18:20.334873Z",
     "start_time": "2020-02-11T04:18:20.316Z"
    }
   },
   "outputs": [],
   "source": [
    "# head(.Random.seed)"
   ]
  },
  {
   "cell_type": "code",
   "execution_count": 14,
   "metadata": {
    "ExecuteTime": {
     "end_time": "2020-02-11T04:18:21.379764Z",
     "start_time": "2020-02-11T04:18:21.300Z"
    }
   },
   "outputs": [],
   "source": [
    "fs <- scale(as.matrix(congress109Counts/rowSums(congress109Counts) ))"
   ]
  },
  {
   "cell_type": "code",
   "execution_count": 48,
   "metadata": {
    "ExecuteTime": {
     "end_time": "2020-02-11T05:30:39.027715Z",
     "start_time": "2020-02-11T05:30:38.868Z"
    },
    "scrolled": false
   },
   "outputs": [
    {
     "name": "stdout",
     "output_type": "stream",
     "text": [
      "      1                             2                           \n",
      " [1,] \"oil.food\"                    \"able.buy.gun\"              \n",
      " [2,] \"oil.food.program\"            \"buy.gun\"                   \n",
      " [3,] \"food.scandal\"                \"background.check.system\"   \n",
      " [4,] \"oil.food.scandal\"            \"assault.weapon.ban\"        \n",
      " [5,] \"food.program\"                \"assault.weapon\"            \n",
      " [6,] \"united.nation.reform\"        \"gun.industry\"              \n",
      " [7,] \"atomic.energy.agency\"        \"gun.violence\"              \n",
      " [8,] \"international.atomic.energy\" \"bul.eye\"                   \n",
      " [9,] \"reform.united.nation\"        \"national.rifle.association\"\n",
      "[10,] \"un.reform\"                   \"gun.safety\"                \n",
      "      3                    4                 5                    \n",
      " [1,] \"stem.cel\"           \"private.account\" \"look.forward\"       \n",
      " [2,] \"embryonic.stem.cel\" \"tax.cut.wealthy\" \"strong.support\"     \n",
      " [3,] \"embryonic.stem\"     \"cut.medicaid\"    \"urge.support\"       \n",
      " [4,] \"adult.stem\"         \"child.support\"   \"illegal.immigration\"\n",
      " [5,] \"adult.stem.cel\"     \"cost.war\"        \"pass.bil\"           \n",
      " [6,] \"cel.research\"       \"tax.break\"       \"national.defense\"   \n",
      " [7,] \"blood.stem.cel\"     \"cut.food.stamp\"  \"appropriation.bil\"  \n",
      " [8,] \"cord.blood.stem\"    \"student.loan\"    \"business.owner\"     \n",
      " [9,] \"cel.line\"           \"president.plan\"  \"private.property\"   \n",
      "[10,] \"stem.cel.line\"      \"medicaid.cut\"    \"border.security\"    \n"
     ]
    }
   ],
   "source": [
    "set.seed(123)\n",
    "kmfs_5 <- kmeans(fs,5)  \n",
    "print(apply(kmfs_5$centers,1,function(c) colnames(fs)[order(-c)[1:10]]))"
   ]
  },
  {
   "cell_type": "code",
   "execution_count": 49,
   "metadata": {
    "ExecuteTime": {
     "end_time": "2020-02-11T05:30:41.813558Z",
     "start_time": "2020-02-11T05:30:41.707Z"
    },
    "scrolled": true
   },
   "outputs": [
    {
     "name": "stdout",
     "output_type": "stream",
     "text": [
      "      1                           2                             \n",
      " [1,] \"repeal.death.tax\"          \"oil.food\"                    \n",
      " [2,] \"death.tax.repeal\"          \"oil.food.program\"            \n",
      " [3,] \"tax.repeal\"                \"atomic.energy.agency\"        \n",
      " [4,] \"dependence.foreign.oil\"    \"international.atomic.energy\" \n",
      " [5,] \"madison.county\"            \"united.nation.reform\"        \n",
      " [6,] \"reduce.dependence.foreign\" \"food.program\"                \n",
      " [7,] \"farm.bureau\"               \"food.scandal\"                \n",
      " [8,] \"class.action.reform\"       \"oil.food.scandal\"            \n",
      " [9,] \"death.tax\"                 \"international.peace.security\"\n",
      "[10,] \"foreign.oil\"               \"un.peacekeeper\"              \n",
      "      3                         4                    \n",
      " [1,] \"change.heart.mind\"       \"urge.support\"       \n",
      " [2,] \"hate.crime.legislation\"  \"strong.support\"     \n",
      " [3,] \"hate.crime.law\"          \"driver.license\"     \n",
      " [4,] \"hate.crime\"              \"embryonic.stem\"     \n",
      " [5,] \"change.heart\"            \"embryonic.stem.cel\" \n",
      " [6,] \"law.change\"              \"illegal.immigrant\"  \n",
      " [7,] \"crime.law\"               \"illegal.immigration\"\n",
      " [8,] \"heart.mind\"              \"appropriation.bil\"  \n",
      " [9,] \"tongass.national.forest\" \"border.security\"    \n",
      "[10,] \"finance.committe\"        \"stem.cel\"           \n",
      "      5                             6                   \n",
      " [1,] \"tax.cut.wealthy\"             \"suppli.natural.ga\" \n",
      " [2,] \"private.account\"             \"supply.natural.ga\" \n",
      " [3,] \"cut.medicaid\"                \"ga.natural.ga\"     \n",
      " [4,] \"cut.food.stamp\"              \"natural.ga.natural\"\n",
      " [5,] \"child.support\"               \"ga.natural\"        \n",
      " [6,] \"care.cut\"                    \"natural.ga\"        \n",
      " [7,] \"privatizing.social.security\" \"grand.ole.opry\"    \n",
      " [8,] \"cost.war\"                    \"consent.decre\"     \n",
      " [9,] \"medicaid.cut\"                \"ga.price.reduction\"\n",
      "[10,] \"student.loan\"                \"price.natural.ga\"  \n",
      "      7                            8                          \n",
      " [1,] \"able.buy.gun\"               \"right.movement\"           \n",
      " [2,] \"buy.gun\"                    \"civil.right.movement\"     \n",
      " [3,] \"background.check.system\"    \"luther.king\"              \n",
      " [4,] \"assault.weapon.ban\"         \"martin.luther\"            \n",
      " [5,] \"assault.weapon\"             \"civil.right\"              \n",
      " [6,] \"gun.industry\"               \"rosa.park\"                \n",
      " [7,] \"gun.violence\"               \"dr.martin.luther\"         \n",
      " [8,] \"bul.eye\"                    \"job.loss\"                 \n",
      " [9,] \"national.rifle.association\" \"pacific.american.heritage\"\n",
      "[10,] \"gun.safety\"                 \"american.heritage.month\"  \n",
      "      9                           10                       \n",
      " [1,] \"court.appeal\"              \"personal.account\"       \n",
      " [2,] \"business.meeting\"          \"social.security.system\" \n",
      " [3,] \"committe.foreign.relation\" \"security.system\"        \n",
      " [4,] \"housing.urban.affair\"      \"social.security.trust\"  \n",
      " [5,] \"urban.affair\"              \"security.trust\"         \n",
      " [6,] \"circuit.court.appeal\"      \"security.trust.fund\"    \n",
      " [7,] \"court.judge\"               \"tax.increase\"           \n",
      " [8,] \"judicial.nomine\"           \"reform.social.security\" \n",
      " [9,] \"committe.commerce.science\" \"social.security.benefit\"\n",
      "[10,] \"banking.housing.urban\"     \"security.benefit\"       \n"
     ]
    }
   ],
   "source": [
    "kmfs_10 <- kmeans(fs,10)  \n",
    "print(apply(kmfs_10$centers,1,function(c) colnames(fs)[order(-c)[1:10]]))"
   ]
  },
  {
   "cell_type": "code",
   "execution_count": 50,
   "metadata": {
    "ExecuteTime": {
     "end_time": "2020-02-11T05:30:45.170000Z",
     "start_time": "2020-02-11T05:30:44.796Z"
    },
    "scrolled": true
   },
   "outputs": [
    {
     "name": "stdout",
     "output_type": "stream",
     "text": [
      "      1                           2                       \n",
      " [1,] \"asian.pacific\"             \"billion.trade.deficit\" \n",
      " [2,] \"asian.pacific.american\"    \"job.oversea\"           \n",
      " [3,] \"american.heritage.month\"   \"send.job.oversea\"      \n",
      " [4,] \"pacific.american.heritage\" \"manufacturing.job.lost\"\n",
      " [5,] \"asian.pacific.islander\"    \"american.fre.trade\"    \n",
      " [6,] \"pacific.islander\"          \"manufacturing.job\"     \n",
      " [7,] \"dr.martin.luther\"          \"central.american.fre\"  \n",
      " [8,] \"heritage.month\"            \"job.loss\"              \n",
      " [9,] \"racial.ethnic.minoriti\"    \"world.poorest.people\"  \n",
      "[10,] \"luther.king\"               \"american.worker\"       \n",
      "      3                     4                    5                          \n",
      " [1,] \"urge.support\"        \"suppli.natural.ga\"  \"private.account\"          \n",
      " [2,] \"illegal.immigrant\"   \"supply.natural.ga\"  \"plan.privatize\"           \n",
      " [3,] \"strong.support\"      \"ga.natural.ga\"      \"plan.privatize.social\"    \n",
      " [4,] \"illegal.immigration\" \"natural.ga.natural\" \"cut.food.stamp\"           \n",
      " [5,] \"post.office\"         \"ga.natural\"         \"cut.medicaid\"             \n",
      " [6,] \"look.forward\"        \"natural.ga\"         \"cost.war\"                 \n",
      " [7,] \"terri.schiavo\"       \"grand.ole.opry\"     \"cut.program\"              \n",
      " [8,] \"private.property\"    \"consent.decre\"      \"privatize.social.security\"\n",
      " [9,] \"adult.stem\"          \"ga.price.reduction\" \"tax.cut.wealthy\"          \n",
      "[10,] \"embryonic.stem\"      \"price.natural.ga\"   \"medicaid.cut\"             \n",
      "      6                      7                              \n",
      " [1,] \"plan.bring.troop\"     \"oil.ga.compani\"               \n",
      " [2,] \"bring.troop.home\"     \"ga.compani\"                   \n",
      " [3,] \"bring.troop\"          \"food.stamp.cut\"               \n",
      " [4,] \"iraq.president\"       \"below.poverty.line\"           \n",
      " [5,] \"policy.iraq\"          \"record.profit\"                \n",
      " [6,] \"troop.home\"           \"privatization.social.security\"\n",
      " [7,] \"force.iraq\"           \"poverty.line\"                 \n",
      " [8,] \"mission.accomplished\" \"cut.education\"                \n",
      " [9,] \"white.house.congress\" \"tax.cut.wealthy\"              \n",
      "[10,] \"tax.break.wealthy\"    \"provide.health.care\"          \n",
      "      8                               9                         \n",
      " [1,] \"cut.student.aid\"               \"court.appeal\"            \n",
      " [2,] \"cut.student.loan\"              \"circuit.court.appeal\"    \n",
      " [3,] \"student.loan\"                  \"judicial.nomine\"         \n",
      " [4,] \"fund.tax.cut\"                  \"court.judge\"             \n",
      " [5,] \"surplu.social.security\"        \"supreme.court.texa\"      \n",
      " [6,] \"social.security.privatization\" \"justice.priscilla.owen\"  \n",
      " [7,] \"massive.tax.cut\"               \"justice.janice.roger\"    \n",
      " [8,] \"tax.cut.spending\"              \"american.bar.association\"\n",
      " [9,] \"cost.tax.cut\"                  \"supreme.court.united\"    \n",
      "[10,] \"pay.national.debt\"             \"circuit.court\"           \n",
      "      10                            11                            \n",
      " [1,] \"community.development\"       \"oil.food\"                    \n",
      " [2,] \"block.grant\"                 \"oil.food.program\"            \n",
      " [3,] \"community.development.block\" \"united.nation.reform\"        \n",
      " [4,] \"development.block.grant\"     \"food.program\"                \n",
      " [5,] \"rail.system\"                 \"reform.united.nation\"        \n",
      " [6,] \"passenger.rail\"              \"food.scandal\"                \n",
      " [7,] \"passenger.rail.service\"      \"oil.food.scandal\"            \n",
      " [8,] \"passenger.rail.system\"       \"international.peace.security\"\n",
      " [9,] \"poor.people\"                 \"un.peacekeeper\"              \n",
      "[10,] \"public.television\"           \"un.reform\"                   \n",
      "      12                          13                       \n",
      " [1,] \"committe.commerce.science\" \"change.heart.mind\"      \n",
      " [2,] \"business.meeting\"          \"hate.crime.legislation\" \n",
      " [3,] \"committe.foreign.relation\" \"hate.crime.law\"         \n",
      " [4,] \"housing.urban.affair\"      \"hate.crime\"             \n",
      " [5,] \"urban.affair\"              \"change.heart\"           \n",
      " [6,] \"banking.housing.urban\"     \"law.change\"             \n",
      " [7,] \"date.time\"                 \"crime.law\"              \n",
      " [8,] \"energy.natural.resource\"   \"heart.mind\"             \n",
      " [9,] \"president.business\"        \"tongass.national.forest\"\n",
      "[10,] \"final.minute\"              \"finance.committe\"       \n",
      "      14                        15                          \n",
      " [1,] \"social.security.system\"  \"able.buy.gun\"              \n",
      " [2,] \"personal.account\"        \"buy.gun\"                   \n",
      " [3,] \"security.system\"         \"background.check.system\"   \n",
      " [4,] \"social.security.benefit\" \"assault.weapon.ban\"        \n",
      " [5,] \"security.benefit\"        \"assault.weapon\"            \n",
      " [6,] \"tax.increase\"            \"gun.industry\"              \n",
      " [7,] \"reform.social.security\"  \"gun.violence\"              \n",
      " [8,] \"social.security.program\" \"bul.eye\"                   \n",
      " [9,] \"social.security.trust\"   \"national.rifle.association\"\n",
      "[10,] \"security.trust\"          \"gun.safety\"                \n"
     ]
    }
   ],
   "source": [
    "kmfs_15 <- kmeans(fs,15)  \n",
    "print(apply(kmfs_15$centers,1,function(c) colnames(fs)[order(-c)[1:10]]))"
   ]
  },
  {
   "cell_type": "code",
   "execution_count": 51,
   "metadata": {
    "ExecuteTime": {
     "end_time": "2020-02-11T05:30:47.207553Z",
     "start_time": "2020-02-11T05:30:47.049Z"
    },
    "scrolled": true
   },
   "outputs": [
    {
     "name": "stdout",
     "output_type": "stream",
     "text": [
      "      1                       2                           \n",
      " [1,] \"cost.war\"              \"able.buy.gun\"              \n",
      " [2,] \"nuclear.option\"        \"buy.gun\"                   \n",
      " [3,] \"water.act\"             \"background.check.system\"   \n",
      " [4,] \"clean.water.act\"       \"assault.weapon.ban\"        \n",
      " [5,] \"committe.hold.hearing\" \"assault.weapon\"            \n",
      " [6,] \"oil.compani\"           \"gun.industry\"              \n",
      " [7,] \"health.care.poor\"      \"gun.violence\"              \n",
      " [8,] \"tax.cut.benefit\"       \"bul.eye\"                   \n",
      " [9,] \"veteran.health.care\"   \"national.rifle.association\"\n",
      "[10,] \"arctic.refuge\"         \"gun.safety\"                \n",
      "      3                              4                              \n",
      " [1,] \"oil.food\"                     \"oil.ga.compani\"               \n",
      " [2,] \"oil.food.program\"             \"ga.compani\"                   \n",
      " [3,] \"united.nation.reform\"         \"food.stamp.cut\"               \n",
      " [4,] \"food.program\"                 \"below.poverty.line\"           \n",
      " [5,] \"food.scandal\"                 \"record.profit\"                \n",
      " [6,] \"oil.food.scandal\"             \"privatization.social.security\"\n",
      " [7,] \"international.peace.security\" \"poverty.line\"                 \n",
      " [8,] \"reform.united.nation\"         \"cut.education\"                \n",
      " [9,] \"un.reform\"                    \"tax.cut.wealthy\"              \n",
      "[10,] \"un.peacekeeper\"               \"provide.health.care\"          \n",
      "      5                    6                             7                     \n",
      " [1,] \"stem.cel\"           \"birth.abortion\"              \"urge.support\"        \n",
      " [2,] \"embryonic.stem.cel\" \"partial.birth\"               \"strong.support\"      \n",
      " [3,] \"embryonic.stem\"     \"partial.birth.abortion\"      \"post.office\"         \n",
      " [4,] \"adult.stem\"         \"roe.wade\"                    \"civil.right.movement\"\n",
      " [5,] \"adult.stem.cel\"     \"right.life.liberty\"          \"speaker.table\"       \n",
      " [6,] \"cel.research\"       \"parent.notification\"         \"right.movement\"      \n",
      " [7,] \"cel.line\"           \"justice.william.rehnquist\"   \"appropriation.bil\"   \n",
      " [8,] \"stem.cel.line\"      \"atomic.energy.agency\"        \"gulf.coast\"          \n",
      " [9,] \"blood.stem.cel\"     \"international.atomic.energy\" \"hurricane.katrina\"   \n",
      "[10,] \"cord.blood.stem\"    \"judge.john.robert\"           \"african.american\"    \n",
      "      8                                9                          \n",
      " [1,] \"arm.embargo.china\"              \"illegal.immigration\"      \n",
      " [2,] \"arm.embargo\"                    \"immigration.reform\"       \n",
      " [3,] \"medic.liability.reform\"         \"guest.worker\"             \n",
      " [4,] \"fre.enterprise.system\"          \"guest.worker.program\"     \n",
      " [5,] \"national.defense.authorization\" \"million.illegal.immigrant\"\n",
      " [6,] \"fre.enterprise\"                 \"illegal.immigrant\"        \n",
      " [7,] \"medic.liability\"                \"border.security\"          \n",
      " [8,] \"largest.export.market\"          \"immigration.law\"          \n",
      " [9,] \"malpractice.insurance\"          \"feder.trade.commission\"   \n",
      "[10,] \"job.creation\"                   \"feder.trade\"              \n",
      "      10                   11                         \n",
      " [1,] \"suppli.natural.ga\"  \"asian.pacific.american\"   \n",
      " [2,] \"supply.natural.ga\"  \"asian.pacific\"            \n",
      " [3,] \"ga.natural.ga\"      \"american.heritage.month\"  \n",
      " [4,] \"natural.ga.natural\" \"pacific.american.heritage\"\n",
      " [5,] \"ga.natural\"         \"cut.student.aid\"          \n",
      " [6,] \"natural.ga\"         \"cut.student.loan\"         \n",
      " [7,] \"grand.ole.opry\"     \"heritage.month\"           \n",
      " [8,] \"consent.decre\"      \"student.loan\"             \n",
      " [9,] \"ga.price.reduction\" \"national.debt\"            \n",
      "[10,] \"price.natural.ga\"   \"fund.tax.cut\"             \n",
      "      12                          13                         \n",
      " [1,] \"business.meeting\"          \"white.house.press\"        \n",
      " [2,] \"housing.urban.affair\"      \"traumatic.stress.disorder\"\n",
      " [3,] \"urban.affair\"              \"stress.disorder\"          \n",
      " [4,] \"committe.foreign.relation\" \"post.traumatic\"           \n",
      " [5,] \"banking.housing.urban\"     \"post.traumatic.stress\"    \n",
      " [6,] \"court.appeal\"              \"traumatic.stress\"         \n",
      " [7,] \"committe.commerce.science\" \"health.care.budget\"       \n",
      " [8,] \"president.pro.tempore\"     \"help.veteran\"             \n",
      " [9,] \"circuit.court.appeal\"      \"war.iraq.afghanistan\"     \n",
      "[10,] \"circuit.judge\"             \"care.cut\"                 \n",
      "      14                        15                         \n",
      " [1,] \"personal.account\"        \"fuel.efficiency\"          \n",
      " [2,] \"social.security.system\"  \"foreign.oil\"              \n",
      " [3,] \"tax.increase\"            \"dependence.foreign.oil\"   \n",
      " [4,] \"reform.social.security\"  \"solar.energy\"             \n",
      " [5,] \"security.system\"         \"oil.natural.ga\"           \n",
      " [6,] \"social.security.benefit\" \"natural.ga.oil\"           \n",
      " [7,] \"security.benefit\"        \"arctic.national.wildlife\" \n",
      " [8,] \"personal.saving.account\" \"drilling.arctic.national\" \n",
      " [9,] \"raise.taxe\"              \"fuel.efficiency.standard\" \n",
      "[10,] \"minimum.tax\"             \"reduce.dependence.foreign\"\n",
      "      16                       17                        \n",
      " [1,] \"billion.trade.deficit\"  \"victim.domestic.violence\"\n",
      " [2,] \"job.oversea\"            \"victim.domestic\"         \n",
      " [3,] \"send.job.oversea\"       \"violence.women.act\"      \n",
      " [4,] \"manufacturing.job.lost\" \"violence.women\"          \n",
      " [5,] \"american.fre.trade\"     \"domestic.violence\"       \n",
      " [6,] \"manufacturing.job\"      \"violence.sexual.assault\" \n",
      " [7,] \"central.american.fre\"   \"domestic.violence.sexual\"\n",
      " [8,] \"job.loss\"               \"medic.liability.crisi\"   \n",
      " [9,] \"world.poorest.people\"   \"sole.source.contract\"    \n",
      "[10,] \"american.worker\"        \"budget.prioriti\"         \n",
      "      18                          19                       \n",
      " [1,] \"cut.food.stamp\"            \"change.heart.mind\"      \n",
      " [2,] \"private.account\"           \"hate.crime.legislation\" \n",
      " [3,] \"president.plan\"            \"hate.crime.law\"         \n",
      " [4,] \"live.poverty\"              \"hate.crime\"             \n",
      " [5,] \"cut.social.security\"       \"change.heart\"           \n",
      " [6,] \"privatization.plan\"        \"law.change\"             \n",
      " [7,] \"plan.privatize\"            \"crime.law\"              \n",
      " [8,] \"cut.child.support\"         \"heart.mind\"             \n",
      " [9,] \"plan.privatize.social\"     \"tongass.national.forest\"\n",
      "[10,] \"privatize.social.security\" \"finance.committe\"       \n",
      "      20                    \n",
      " [1,] \"plan.bring.troop\"    \n",
      " [2,] \"bring.troop.home\"    \n",
      " [3,] \"bring.troop\"         \n",
      " [4,] \"iraq.president\"      \n",
      " [5,] \"policy.iraq\"         \n",
      " [6,] \"troop.home\"          \n",
      " [7,] \"force.iraq\"          \n",
      " [8,] \"mission.accomplished\"\n",
      " [9,] \"white.house.congress\"\n",
      "[10,] \"tax.break.wealthy\"   \n"
     ]
    }
   ],
   "source": [
    "kmfs_20 <- kmeans(fs,20)  \n",
    "print(apply(kmfs_20$centers,1,function(c) colnames(fs)[order(-c)[1:10]]))"
   ]
  },
  {
   "cell_type": "code",
   "execution_count": 52,
   "metadata": {
    "ExecuteTime": {
     "end_time": "2020-02-11T05:30:49.289802Z",
     "start_time": "2020-02-11T05:30:49.154Z"
    },
    "scrolled": false
   },
   "outputs": [
    {
     "name": "stdout",
     "output_type": "stream",
     "text": [
      "      1                    2                          \n",
      " [1,] \"suppli.natural.ga\"  \"president.announce\"       \n",
      " [2,] \"supply.natural.ga\"  \"energy.natural.resource\"  \n",
      " [3,] \"ga.natural.ga\"      \"hearing.scheduled\"        \n",
      " [4,] \"natural.ga.natural\" \"witness.testify\"          \n",
      " [5,] \"ga.natural\"         \"indian.affair\"            \n",
      " [6,] \"natural.ga\"         \"indian.tribe\"             \n",
      " [7,] \"grand.ole.opry\"     \"clinic.social.worker\"     \n",
      " [8,] \"consent.decre\"      \"natural.resource\"         \n",
      " [9,] \"ga.price.reduction\" \"committe.commerce.science\"\n",
      "[10,] \"price.natural.ga\"   \"limited.time\"             \n",
      "      3                            4                     \n",
      " [1,] \"strong.support\"             \"pluripotent.stem.cel\"\n",
      " [2,] \"urge.support\"               \"arab.oil.embargo\"    \n",
      " [3,] \"look.forward\"               \"oil.field\"           \n",
      " [4,] \"appropriation.bil\"          \"oil.production\"      \n",
      " [5,] \"private.property\"           \"percent.growth\"      \n",
      " [6,] \"illegal.immigration\"        \"cel.line\"            \n",
      " [7,] \"property.right\"             \"stem.cel.line\"       \n",
      " [8,] \"endangered.speci.act\"       \"percent.growth.rate\" \n",
      " [9,] \"committe.homeland.security\" \"stem.cel\"            \n",
      "[10,] \"illegal.immigrant\"          \"cel.stem.cel\"        \n",
      "      5                             6                          \n",
      " [1,] \"right.life.liberty\"          \"dependence.foreign.oil\"   \n",
      " [2,] \"roe.wade\"                    \"reduce.dependence.foreign\"\n",
      " [3,] \"justice.william.rehnquist\"   \"world.trade.organization\" \n",
      " [4,] \"atomic.energy.agency\"        \"middle.class\"             \n",
      " [5,] \"international.atomic.energy\" \"repeal.death.tax\"         \n",
      " [6,] \"judge.john.robert\"           \"death.tax.repeal\"         \n",
      " [7,] \"john.robert\"                 \"tax.repeal\"               \n",
      " [8,] \"chief.justice.william\"       \"death.tax\"                \n",
      " [9,] \"birth.abortion\"              \"tax.relief.act\"           \n",
      "[10,] \"partial.birth\"               \"tax.increase\"             \n",
      "      7                        8                          \n",
      " [1,] \"billion.trade.deficit\"  \"civil.right.movement\"     \n",
      " [2,] \"job.oversea\"            \"right.movement\"           \n",
      " [3,] \"send.job.oversea\"       \"luther.king\"              \n",
      " [4,] \"manufacturing.job.lost\" \"martin.luther\"            \n",
      " [5,] \"american.fre.trade\"     \"civil.right\"              \n",
      " [6,] \"manufacturing.job\"      \"dr.martin.luther\"         \n",
      " [7,] \"central.american.fre\"   \"rosa.park\"                \n",
      " [8,] \"job.loss\"               \"african.american\"         \n",
      " [9,] \"world.poorest.people\"   \"black.caucu\"              \n",
      "[10,] \"american.worker\"        \"congressional.black.caucu\"\n",
      "      9                          10                              \n",
      " [1,] \"court.appeal\"             \"arm.embargo.china\"             \n",
      " [2,] \"circuit.court.appeal\"     \"arm.embargo\"                   \n",
      " [3,] \"justice.priscilla.owen\"   \"medic.liability.reform\"        \n",
      " [4,] \"american.bar.association\" \"fre.enterprise.system\"         \n",
      " [5,] \"supreme.court.texa\"       \"national.defense.authorization\"\n",
      " [6,] \"judicial.nomine\"          \"fre.enterprise\"                \n",
      " [7,] \"fifth.circuit.court\"      \"medic.liability\"               \n",
      " [8,] \"circuit.court\"            \"largest.export.market\"         \n",
      " [9,] \"supreme.court.united\"     \"malpractice.insurance\"         \n",
      "[10,] \"california.supreme.court\" \"job.creation\"                  \n",
      "      11                     12                     \n",
      " [1,] \"force.iraq\"           \"cut.medicaid\"         \n",
      " [2,] \"troop.home\"           \"pay.tax.cut\"          \n",
      " [3,] \"plan.bring.troop\"     \"medicaid.cut\"         \n",
      " [4,] \"bring.troop.home\"     \"cut.child.support\"    \n",
      " [5,] \"bring.troop\"          \"child.support\"        \n",
      " [6,] \"iraq.president\"       \"pay.tax\"              \n",
      " [7,] \"policy.iraq\"          \"tax.cut.wealthy\"      \n",
      " [8,] \"china.japan\"          \"cut.food.stamp\"       \n",
      " [9,] \"mission.accomplished\" \"malpractice.insurance\"\n",
      "[10,] \"white.house.congress\" \"budget.cut\"           \n",
      "      13                              14                            \n",
      " [1,] \"oil.ga.compani\"                \"system.check.bal\"            \n",
      " [2,] \"ga.compani\"                    \"cia.agent\"                   \n",
      " [3,] \"food.stamp.cut\"                \"health.care.cut\"             \n",
      " [4,] \"below.poverty.line\"            \"administration.official\"     \n",
      " [5,] \"record.profit\"                 \"change.senate.rule\"          \n",
      " [6,] \"privatization.social.security\" \"republican.national.committe\"\n",
      " [7,] \"poverty.line\"                  \"plan.privatize\"              \n",
      " [8,] \"cut.education\"                 \"credit.card\"                 \n",
      " [9,] \"tax.cut.wealthy\"               \"medic.leave.act\"             \n",
      "[10,] \"provide.health.care\"           \"wage.worker\"                 \n",
      "      15                          16                       \n",
      " [1,] \"white.house.press\"         \"change.heart.mind\"      \n",
      " [2,] \"traumatic.stress.disorder\" \"hate.crime.legislation\" \n",
      " [3,] \"stress.disorder\"           \"hate.crime.law\"         \n",
      " [4,] \"post.traumatic\"            \"hate.crime\"             \n",
      " [5,] \"post.traumatic.stress\"     \"change.heart\"           \n",
      " [6,] \"traumatic.stress\"          \"law.change\"             \n",
      " [7,] \"health.care.budget\"        \"crime.law\"              \n",
      " [8,] \"help.veteran\"              \"heart.mind\"             \n",
      " [9,] \"war.iraq.afghanistan\"      \"tongass.national.forest\"\n",
      "[10,] \"care.cut\"                  \"finance.committe\"       \n",
      "      17                     18                          19                  \n",
      " [1,] \"oil.food.program\"     \"committe.foreign.relation\" \"stem.cel\"          \n",
      " [2,] \"oil.food\"             \"final.minute\"              \"embryonic.stem\"    \n",
      " [3,] \"food.program\"         \"housing.urban.affair\"      \"embryonic.stem.cel\"\n",
      " [4,] \"food.scandal\"         \"urban.affair\"              \"cel.research\"      \n",
      " [5,] \"oil.food.scandal\"     \"banking.housing.urban\"     \"adult.stem\"        \n",
      " [6,] \"nation.oil.food\"      \"president.move\"            \"adult.stem.cel\"    \n",
      " [7,] \"un.reform\"            \"date.time\"                 \"embryo.stem.cel\"   \n",
      " [8,] \"united.nation.oil\"    \"president.business\"        \"blood.stem.cel\"    \n",
      " [9,] \"united.nation.reform\" \"committe.commerce.science\" \"cord.blood.stem\"   \n",
      "[10,] \"un.peacekeeper\"       \"business.meeting\"          \"cel.line\"          \n",
      "      20                        21                           \n",
      " [1,] \"social.security.system\"  \"million.budget.request\"     \n",
      " [2,] \"security.system\"         \"ending.september\"           \n",
      " [3,] \"social.security.reform\"  \"speaker.table\"              \n",
      " [4,] \"security.reform\"         \"weapon.grade.plutonium\"     \n",
      " [5,] \"personal.account\"        \"tongass.national.forest\"    \n",
      " [6,] \"reform.social.security\"  \"strategic.petroleum.reserve\"\n",
      " [7,] \"social.security.program\" \"national.endowment.art\"     \n",
      " [8,] \"personal.saving.account\" \"forest.service\"             \n",
      " [9,] \"saving.account\"          \"date.time\"                  \n",
      "[10,] \"social.security.benefit\" \"health.care.benefit\"        \n",
      "      22                           23                           \n",
      " [1,] \"able.buy.gun\"               \"chief.justice\"              \n",
      " [2,] \"buy.gun\"                    \"justice.supreme.court\"      \n",
      " [3,] \"background.check.system\"    \"united.supreme.court\"       \n",
      " [4,] \"assault.weapon.ban\"         \"ten.commandment\"            \n",
      " [5,] \"assault.weapon\"             \"improvised.explosive.device\"\n",
      " [6,] \"gun.industry\"               \"chief.justice.rehnquist\"    \n",
      " [7,] \"gun.violence\"               \"chief.justice.william\"      \n",
      " [8,] \"bul.eye\"                    \"judge.robert\"               \n",
      " [9,] \"national.rifle.association\" \"justice.william.rehnquist\"  \n",
      "[10,] \"gun.safety\"                 \"explosive.device.detonated\" \n",
      "      24                              25                        \n",
      " [1,] \"congress.white.house\"          \"national.wildlife\"       \n",
      " [2,] \"party.line.vote\"               \"national.wildlife.refuge\"\n",
      " [3,] \"spending.cut.bil\"              \"arctic.national.wildlife\"\n",
      " [4,] \"rule.change\"                   \"wildlife.refuge\"         \n",
      " [5,] \"ethic.rule\"                    \"drilling.arctic.national\"\n",
      " [6,] \"financial.accounting.standard\" \"wild.bird\"               \n",
      " [7,] \"cut.bil\"                       \"fuel.efficiency.standard\"\n",
      " [8,] \"tax.cut.people\"                \"western.energy.crisi\"    \n",
      " [9,] \"budget.prioriti\"               \"valid.driver.license\"    \n",
      "[10,] \"domestic.violence.sexual\"      \"county.north.carolina\"   \n"
     ]
    }
   ],
   "source": [
    "kmfs_25 <- kmeans(fs,25)  \n",
    "print(apply(kmfs_25$centers,1,function(c) colnames(fs)[order(-c)[1:10]]))"
   ]
  },
  {
   "cell_type": "code",
   "execution_count": 40,
   "metadata": {
    "ExecuteTime": {
     "end_time": "2020-02-11T04:48:29.000557Z",
     "start_time": "2020-02-11T04:48:28.930Z"
    },
    "scrolled": true
   },
   "outputs": [
    {
     "data": {
      "text/html": [
       "<table>\n",
       "<thead><tr><th scope=col>gifted.talented.student</th><th scope=col>national.heritage.corridor</th><th scope=col>national.homeownership.month</th><th scope=col>near.retirement.age</th><th scope=col>personal.injury.lawyer</th><th scope=col>regional.training.cent</th><th scope=col>amnesty.illegal.alien</th><th scope=col>arm.embargo.china</th><th scope=col>flag.protection.amendment</th><th scope=col>low.cost.reliable</th><th scope=col>...</th><th scope=col>prescription.drug</th><th scope=col>class.action</th><th scope=col>civil.right</th><th scope=col>look.forward</th><th scope=col>stem.cel</th><th scope=col>natural.ga</th><th scope=col>hurricane.katrina</th><th scope=col>trade.agreement</th><th scope=col>appropriation.bil</th><th scope=col>american.people</th></tr></thead>\n",
       "<tbody>\n",
       "\t<tr><td>-0.0453077   </td><td>-0.04643408  </td><td>-0.060158151 </td><td>-0.04347826  </td><td>-0.10034313  </td><td>-0.04347826  </td><td>-0.051787266 </td><td>-0.0546222458</td><td>-0.066414683 </td><td> 9.5211183   </td><td>...          </td><td>-0.154324037 </td><td>-0.22405960  </td><td>-0.01797094  </td><td>-0.23181159  </td><td>-0.27130045  </td><td>11.30482309  </td><td>-0.397499532 </td><td>-0.398784640 </td><td>-0.41778640  </td><td>-0.72261023  </td></tr>\n",
       "\t<tr><td>-0.0453077   </td><td>-0.04643408  </td><td>-0.060158151 </td><td>-0.04347826  </td><td>-0.10034313  </td><td>-0.04347826  </td><td>-0.051787266 </td><td>-0.0546222458</td><td>-0.066414683 </td><td>-0.0603377   </td><td>...          </td><td>-0.231575526 </td><td>-0.13358463  </td><td>-0.17062757  </td><td> 0.01303461  </td><td>-0.31611685  </td><td> 0.71909759  </td><td>-0.209900617 </td><td>-0.007419118 </td><td> 0.42412821  </td><td>-0.44476105  </td></tr>\n",
       "\t<tr><td>-0.0453077   </td><td>-0.03862001  </td><td> 0.083753754 </td><td>-0.04347826  </td><td> 0.01267769  </td><td>-0.04347826  </td><td> 0.067661341 </td><td>-0.0546222458</td><td> 0.041262670 </td><td>-0.0603377   </td><td>...          </td><td> 0.046381491 </td><td> 0.06529458  </td><td>-0.14371057  </td><td> 0.22420225  </td><td>-0.17488356  </td><td>-0.01372786  </td><td> 0.131276372 </td><td>-0.165369230 </td><td> 0.21927627  </td><td>-0.07353541  </td></tr>\n",
       "\t<tr><td>-0.0453077   </td><td>-0.04643408  </td><td>-0.060158151 </td><td>-0.04347826  </td><td>-0.10034313  </td><td>-0.04347826  </td><td>-0.051787266 </td><td>-0.0546222458</td><td>-0.066414683 </td><td>-0.0603377   </td><td>...          </td><td>-0.280418756 </td><td>-0.22405960  </td><td>-0.43080106  </td><td>-0.41702993  </td><td> 7.97638936  </td><td> 0.88256541  </td><td>-0.431479278 </td><td>-0.398784640 </td><td>-0.49339217  </td><td>-0.71298240  </td></tr>\n",
       "\t<tr><td>-0.0453077   </td><td>-0.04643408  </td><td>-0.060158151 </td><td>-0.04347826  </td><td>-0.10034313  </td><td>-0.04347826  </td><td>-0.051787266 </td><td>-0.0546222458</td><td>-0.066414683 </td><td>-0.0603377   </td><td>...          </td><td>-0.280418756 </td><td>-0.22405960  </td><td>-0.43080106  </td><td>-0.08590581  </td><td>-0.31611685  </td><td> 0.07796731  </td><td>-0.431479278 </td><td>-0.398784640 </td><td>-0.49339217  </td><td> 0.03850602  </td></tr>\n",
       "\t<tr><td>-0.0453077   </td><td>-0.04643408  </td><td>-0.060158151 </td><td>-0.04347826  </td><td>-0.10034313  </td><td>-0.04347826  </td><td>-0.051787266 </td><td>-0.0546222458</td><td>-0.066414683 </td><td>-0.0603377   </td><td>...          </td><td>-0.161442422 </td><td> 0.18109562  </td><td>-0.26248749  </td><td>-0.06287550  </td><td>-0.28903138  </td><td>-0.10892346  </td><td>-0.226859675 </td><td> 0.509179757 </td><td>-0.32317898  </td><td>-0.16822737  </td></tr>\n",
       "\t<tr><td>-0.0453077   </td><td>-0.04643408  </td><td>-0.060158151 </td><td>-0.04347826  </td><td>-0.10034313  </td><td>-0.04347826  </td><td>-0.051787266 </td><td>-0.0546222458</td><td>-0.066414683 </td><td>-0.0603377   </td><td>...          </td><td>-0.014157020 </td><td>-0.22405960  </td><td>-0.26238735  </td><td>-0.23045455  </td><td>-0.28241751  </td><td>-0.18965209  </td><td>-0.189758632 </td><td> 3.958236413 </td><td>-0.35824260  </td><td> 0.12593711  </td></tr>\n",
       "\t<tr><td>-0.0453077   </td><td> 0.80342207  </td><td>-0.060158151 </td><td>-0.04347826  </td><td>-0.10034313  </td><td>-0.04347826  </td><td>-0.051787266 </td><td>-0.0546222458</td><td>-0.066414683 </td><td>-0.0603377   </td><td>...          </td><td>-0.189472305 </td><td>-0.16077461  </td><td> 2.62854521  </td><td>-0.28144772  </td><td>-0.22717030  </td><td> 0.01071487  </td><td> 0.153889553 </td><td>-0.175656866 </td><td>-0.28139378  </td><td>-0.13787789  </td></tr>\n",
       "\t<tr><td>-0.0453077   </td><td>-0.04643408  </td><td>-0.060158151 </td><td>-0.04347826  </td><td> 0.44942409  </td><td>-0.04347826  </td><td> 0.049416215 </td><td> 0.0007556673</td><td> 0.162851705 </td><td> 0.6110166   </td><td>...          </td><td>-0.056639490 </td><td> 0.92802594  </td><td>-0.08286003  </td><td>-0.11417600  </td><td>-0.05128128  </td><td>-0.03239260  </td><td>-0.124969538 </td><td>-0.164494275 </td><td>-0.24649934  </td><td> 0.08651892  </td></tr>\n",
       "\t<tr><td>-0.0453077   </td><td>-0.04643408  </td><td>-0.060158151 </td><td>-0.04347826  </td><td>-0.10034313  </td><td>-0.04347826  </td><td>-0.051787266 </td><td>22.7273696761</td><td>-0.066414683 </td><td>-0.0603377   </td><td>...          </td><td>-0.280418756 </td><td>-0.22405960  </td><td>-0.43080106  </td><td>-0.43695559  </td><td>-0.31611685  </td><td>-0.22120504  </td><td> 1.068554140 </td><td>-0.398784640 </td><td> 0.93701251  </td><td>-0.86720792  </td></tr>\n",
       "\t<tr><td>-0.0453077   </td><td>-0.04643408  </td><td>-0.060158151 </td><td>-0.04347826  </td><td>-0.10034313  </td><td>-0.04347826  </td><td>-0.051787266 </td><td>-0.0546222458</td><td>-0.066414683 </td><td>-0.0603377   </td><td>...          </td><td>-0.205079718 </td><td>-0.22405960  </td><td>-0.39461665  </td><td>-0.36826402  </td><td>-0.31611685  </td><td>-0.21752737  </td><td>-0.250588508 </td><td>-0.169744929 </td><td>-0.28788748  </td><td> 0.28337218  </td></tr>\n",
       "\t<tr><td>-0.0453077   </td><td>-0.04643408  </td><td>-0.060158151 </td><td>-0.04347826  </td><td>-0.10034313  </td><td>-0.04347826  </td><td>-0.051787266 </td><td>-0.0546222458</td><td>-0.066414683 </td><td>-0.0603377   </td><td>...          </td><td>-0.003182139 </td><td>-0.14518204  </td><td> 0.03466256  </td><td>-0.23893925  </td><td>-0.14013286  </td><td>-0.09006878  </td><td> 0.021879675 </td><td> 0.138845896 </td><td>-0.13212006  </td><td> 0.08393956  </td></tr>\n",
       "\t<tr><td>-0.0453077   </td><td>-0.04643408  </td><td>-0.060158151 </td><td>-0.04347826  </td><td>-0.10034313  </td><td>-0.04347826  </td><td>-0.051787266 </td><td>-0.0546222458</td><td>-0.066414683 </td><td>-0.0603377   </td><td>...          </td><td>-0.280418756 </td><td> 0.65508625  </td><td>-0.43080106  </td><td>-0.43695559  </td><td>-0.31611685  </td><td>-0.22120504  </td><td>-0.431479278 </td><td>-0.398784640 </td><td>-0.49339217  </td><td>-0.86720792  </td></tr>\n",
       "\t<tr><td>-0.0453077   </td><td>-0.04643408  </td><td>-0.060158151 </td><td>-0.04347826  </td><td>-0.10034313  </td><td>-0.04347826  </td><td>-0.051787266 </td><td>-0.0546222458</td><td>-0.066414683 </td><td>-0.0603377   </td><td>...          </td><td> 0.100102366 </td><td>-0.09700986  </td><td>-0.02761733  </td><td>-0.21198863  </td><td>-0.15641138  </td><td>-0.10683497  </td><td>-0.005547721 </td><td> 0.025208494 </td><td>-0.16498824  </td><td> 0.43297703  </td></tr>\n",
       "\t<tr><td>-0.0453077   </td><td>-0.04643408  </td><td>-0.060158151 </td><td>-0.04347826  </td><td>-0.10034313  </td><td>-0.04347826  </td><td>-0.051787266 </td><td>-0.0546222458</td><td>-0.066414683 </td><td>-0.0603377   </td><td>...          </td><td>-0.040795550 </td><td>-0.22405960  </td><td> 0.66647691  </td><td>-0.27337742  </td><td>-0.31611685  </td><td>-0.22120504  </td><td> 0.471682204 </td><td> 0.017902054 </td><td> 0.71234162  </td><td>-0.16381752  </td></tr>\n",
       "\t<tr><td>-0.0453077   </td><td>-0.04643408  </td><td>-0.060158151 </td><td>-0.04347826  </td><td>-0.10034313  </td><td>-0.04347826  </td><td>-0.051787266 </td><td> 1.7600472406</td><td>-0.066414683 </td><td>-0.0603377   </td><td>...          </td><td>-0.280418756 </td><td>-0.22405960  </td><td>-0.02252815  </td><td>-0.13939911  </td><td>-0.31611685  </td><td>-0.19815193  </td><td>-0.282125301 </td><td>-0.364331324 </td><td>-0.43642367  </td><td>-0.68109874  </td></tr>\n",
       "\t<tr><td>-0.0453077   </td><td>-0.04643408  </td><td>-0.060158151 </td><td>-0.04347826  </td><td>-0.10034313  </td><td>-0.04347826  </td><td>-0.051787266 </td><td>-0.0546222458</td><td>-0.066414683 </td><td>-0.0603377   </td><td>...          </td><td>-0.202780024 </td><td>-0.22405960  </td><td>-0.30149791  </td><td>-0.16638238  </td><td>-0.02531785  </td><td>-0.22120504  </td><td>-0.222166355 </td><td>-0.289297860 </td><td>-0.40453369  </td><td> 0.10997137  </td></tr>\n",
       "\t<tr><td> 1.6666763   </td><td>-0.04643408  </td><td>-0.060158151 </td><td>-0.04347826  </td><td>-0.01919034  </td><td>-0.04347826  </td><td> 0.001551014 </td><td> 0.1772582029</td><td>-0.066414683 </td><td>-0.0603377   </td><td>...          </td><td>-0.163195227 </td><td>-0.02400300  </td><td>-0.07707799  </td><td> 0.23789096  </td><td>-0.26243710  </td><td> 0.01537341  </td><td>-0.083906305 </td><td>-0.202723569 </td><td> 0.69438641  </td><td>-0.33153447  </td></tr>\n",
       "\t<tr><td>-0.0453077   </td><td>-0.04643408  </td><td>-0.060158151 </td><td>-0.04347826  </td><td>-0.10034313  </td><td> 1.00197628  </td><td>-0.051787266 </td><td>-0.0546222458</td><td> 0.008120775 </td><td>-0.0603377   </td><td>...          </td><td> 0.149100121 </td><td>-0.10281433  </td><td>-0.37569233  </td><td>-0.28905448  </td><td> 3.76114115  </td><td>-0.01015647  </td><td>-0.227489980 </td><td>-0.183411973 </td><td>-0.21356759  </td><td>-0.17232921  </td></tr>\n",
       "\t<tr><td>-0.0453077   </td><td>-0.04643408  </td><td>-0.002046795 </td><td> 0.61366460  </td><td> 0.41692799  </td><td>-0.04347826  </td><td>-0.051787266 </td><td>-0.0546222458</td><td>-0.035959500 </td><td>-0.0603377   </td><td>...          </td><td>-0.003579434 </td><td>-0.08600836  </td><td>-0.21636093  </td><td>-0.02473857  </td><td>-0.09655141  </td><td>-0.09406065  </td><td>-0.167637239 </td><td> 0.104949252 </td><td>-0.23212656  </td><td> 0.07473169  </td></tr>\n",
       "\t<tr><td>-0.0453077   </td><td>-0.04643408  </td><td>-0.060158151 </td><td>-0.04347826  </td><td>-0.10034313  </td><td>-0.04347826  </td><td>-0.051787266 </td><td>-0.0546222458</td><td>-0.066414683 </td><td>-0.0603377   </td><td>...          </td><td>-0.280418756 </td><td>-0.22405960  </td><td>-0.43080106  </td><td> 0.66780592  </td><td>-0.31611685  </td><td>-0.22120504  </td><td>-0.431479278 </td><td>-0.398784640 </td><td> 2.56795780  </td><td> 0.08289274  </td></tr>\n",
       "\t<tr><td>-0.0453077   </td><td>-0.04643408  </td><td>-0.060158151 </td><td>-0.04347826  </td><td>-0.10034313  </td><td>-0.04347826  </td><td>-0.051787266 </td><td>-0.0546222458</td><td>-0.066414683 </td><td>-0.0603377   </td><td>...          </td><td>-0.280418756 </td><td>-0.22405960  </td><td>-0.43080106  </td><td>-0.34968344  </td><td>-0.31611685  </td><td>-0.22120504  </td><td>-0.335108416 </td><td>-0.398784640 </td><td>-0.49339217  </td><td> 0.10850067  </td></tr>\n",
       "\t<tr><td>-0.0453077   </td><td>-0.04643408  </td><td>-0.060158151 </td><td>-0.04347826  </td><td>-0.10034313  </td><td>-0.04347826  </td><td>-0.051787266 </td><td>-0.0546222458</td><td> 0.346612628 </td><td>-0.0603377   </td><td>...          </td><td> 0.237535876 </td><td>-0.04677727  </td><td>-0.27825367  </td><td> 0.19640462  </td><td>-0.31611685  </td><td>-0.01567864  </td><td>-0.136498399 </td><td> 0.480318090 </td><td>-0.17861334  </td><td>-0.17891156  </td></tr>\n",
       "\t<tr><td>-0.0453077   </td><td>-0.04643408  </td><td>-0.060158151 </td><td>-0.04347826  </td><td>-0.10034313  </td><td>-0.04347826  </td><td>-0.051787266 </td><td>-0.0546222458</td><td>-0.066414683 </td><td>-0.0603377   </td><td>...          </td><td>-0.280418756 </td><td>-0.22405960  </td><td>-0.43080106  </td><td> 0.08305591  </td><td>-0.31611685  </td><td>-0.22120504  </td><td>-0.431479278 </td><td>-0.321665300 </td><td>-0.06021045  </td><td> 0.56242441  </td></tr>\n",
       "\t<tr><td>-0.0453077   </td><td>-0.04643408  </td><td>-0.060158151 </td><td>-0.04347826  </td><td>-0.10034313  </td><td>-0.04347826  </td><td>-0.051787266 </td><td>-0.0546222458</td><td>-0.066414683 </td><td>-0.0603377   </td><td>...          </td><td>-0.259456393 </td><td>-0.22405960  </td><td>-0.39781014  </td><td>-0.12099230  </td><td>-0.30634375  </td><td>-0.02769352  </td><td>-0.295154349 </td><td>-0.280298137 </td><td>-0.16944052  </td><td> 0.15400817  </td></tr>\n",
       "</tbody>\n",
       "</table>\n"
      ],
      "text/latex": [
       "\\begin{tabular}{r|llllllllllllllllllllllllllllllllllllllllllllllllllllllllllllllllllllllllllllllllllllllllllllllllllllllllllllllllllllllllllllllllllllllllllllllllllllllllllllllllllllllllllllllllllllllllllllllllllllllllllllllllllllllllllllllllllllllllllllllllllllllllllllllllllllllllllllllllllllllllllllllllllllllllllllllllllllllllllllllllllllllllllllllllllllllllllllllllllllllllllllllllllllllllllllllllllllllllllllllllllllllllllllllllllllllllllllllllllllllllllllllllllllllllllllllllllllllllllllllllllllllllllllllllllllllllllllllllllllllllllllllllllllllllllllllllllllllllllllllllllllllllllllllllllllllllllllllllllllllllllllllllllllllllllllllllllllllllllllllllllllllllllllllllllllllllllllllllllllllllllllllllllllllllllllllllllllllllllllllllllllllllllllllllllllllllllllllllllllllllllllllllllllllllllllllllllllllllllllllllllllllllllllllllllllllllllllllllllllllllllllllllllllllllllllllllllllllllllllllllllllllllllllllllllllllllllllllllllllllllllllllllllllllllllllllllllllllllllllllllllllllllllllllllllllllllllllllllllllllll}\n",
       " gifted.talented.student & national.heritage.corridor & national.homeownership.month & near.retirement.age & personal.injury.lawyer & regional.training.cent & amnesty.illegal.alien & arm.embargo.china & flag.protection.amendment & low.cost.reliable & ... & prescription.drug & class.action & civil.right & look.forward & stem.cel & natural.ga & hurricane.katrina & trade.agreement & appropriation.bil & american.people\\\\\n",
       "\\hline\n",
       "\t -0.0453077    & -0.04643408   & -0.060158151  & -0.04347826   & -0.10034313   & -0.04347826   & -0.051787266  & -0.0546222458 & -0.066414683  &  9.5211183    & ...           & -0.154324037  & -0.22405960   & -0.01797094   & -0.23181159   & -0.27130045   & 11.30482309   & -0.397499532  & -0.398784640  & -0.41778640   & -0.72261023  \\\\\n",
       "\t -0.0453077    & -0.04643408   & -0.060158151  & -0.04347826   & -0.10034313   & -0.04347826   & -0.051787266  & -0.0546222458 & -0.066414683  & -0.0603377    & ...           & -0.231575526  & -0.13358463   & -0.17062757   &  0.01303461   & -0.31611685   &  0.71909759   & -0.209900617  & -0.007419118  &  0.42412821   & -0.44476105  \\\\\n",
       "\t -0.0453077    & -0.03862001   &  0.083753754  & -0.04347826   &  0.01267769   & -0.04347826   &  0.067661341  & -0.0546222458 &  0.041262670  & -0.0603377    & ...           &  0.046381491  &  0.06529458   & -0.14371057   &  0.22420225   & -0.17488356   & -0.01372786   &  0.131276372  & -0.165369230  &  0.21927627   & -0.07353541  \\\\\n",
       "\t -0.0453077    & -0.04643408   & -0.060158151  & -0.04347826   & -0.10034313   & -0.04347826   & -0.051787266  & -0.0546222458 & -0.066414683  & -0.0603377    & ...           & -0.280418756  & -0.22405960   & -0.43080106   & -0.41702993   &  7.97638936   &  0.88256541   & -0.431479278  & -0.398784640  & -0.49339217   & -0.71298240  \\\\\n",
       "\t -0.0453077    & -0.04643408   & -0.060158151  & -0.04347826   & -0.10034313   & -0.04347826   & -0.051787266  & -0.0546222458 & -0.066414683  & -0.0603377    & ...           & -0.280418756  & -0.22405960   & -0.43080106   & -0.08590581   & -0.31611685   &  0.07796731   & -0.431479278  & -0.398784640  & -0.49339217   &  0.03850602  \\\\\n",
       "\t -0.0453077    & -0.04643408   & -0.060158151  & -0.04347826   & -0.10034313   & -0.04347826   & -0.051787266  & -0.0546222458 & -0.066414683  & -0.0603377    & ...           & -0.161442422  &  0.18109562   & -0.26248749   & -0.06287550   & -0.28903138   & -0.10892346   & -0.226859675  &  0.509179757  & -0.32317898   & -0.16822737  \\\\\n",
       "\t -0.0453077    & -0.04643408   & -0.060158151  & -0.04347826   & -0.10034313   & -0.04347826   & -0.051787266  & -0.0546222458 & -0.066414683  & -0.0603377    & ...           & -0.014157020  & -0.22405960   & -0.26238735   & -0.23045455   & -0.28241751   & -0.18965209   & -0.189758632  &  3.958236413  & -0.35824260   &  0.12593711  \\\\\n",
       "\t -0.0453077    &  0.80342207   & -0.060158151  & -0.04347826   & -0.10034313   & -0.04347826   & -0.051787266  & -0.0546222458 & -0.066414683  & -0.0603377    & ...           & -0.189472305  & -0.16077461   &  2.62854521   & -0.28144772   & -0.22717030   &  0.01071487   &  0.153889553  & -0.175656866  & -0.28139378   & -0.13787789  \\\\\n",
       "\t -0.0453077    & -0.04643408   & -0.060158151  & -0.04347826   &  0.44942409   & -0.04347826   &  0.049416215  &  0.0007556673 &  0.162851705  &  0.6110166    & ...           & -0.056639490  &  0.92802594   & -0.08286003   & -0.11417600   & -0.05128128   & -0.03239260   & -0.124969538  & -0.164494275  & -0.24649934   &  0.08651892  \\\\\n",
       "\t -0.0453077    & -0.04643408   & -0.060158151  & -0.04347826   & -0.10034313   & -0.04347826   & -0.051787266  & 22.7273696761 & -0.066414683  & -0.0603377    & ...           & -0.280418756  & -0.22405960   & -0.43080106   & -0.43695559   & -0.31611685   & -0.22120504   &  1.068554140  & -0.398784640  &  0.93701251   & -0.86720792  \\\\\n",
       "\t -0.0453077    & -0.04643408   & -0.060158151  & -0.04347826   & -0.10034313   & -0.04347826   & -0.051787266  & -0.0546222458 & -0.066414683  & -0.0603377    & ...           & -0.205079718  & -0.22405960   & -0.39461665   & -0.36826402   & -0.31611685   & -0.21752737   & -0.250588508  & -0.169744929  & -0.28788748   &  0.28337218  \\\\\n",
       "\t -0.0453077    & -0.04643408   & -0.060158151  & -0.04347826   & -0.10034313   & -0.04347826   & -0.051787266  & -0.0546222458 & -0.066414683  & -0.0603377    & ...           & -0.003182139  & -0.14518204   &  0.03466256   & -0.23893925   & -0.14013286   & -0.09006878   &  0.021879675  &  0.138845896  & -0.13212006   &  0.08393956  \\\\\n",
       "\t -0.0453077    & -0.04643408   & -0.060158151  & -0.04347826   & -0.10034313   & -0.04347826   & -0.051787266  & -0.0546222458 & -0.066414683  & -0.0603377    & ...           & -0.280418756  &  0.65508625   & -0.43080106   & -0.43695559   & -0.31611685   & -0.22120504   & -0.431479278  & -0.398784640  & -0.49339217   & -0.86720792  \\\\\n",
       "\t -0.0453077    & -0.04643408   & -0.060158151  & -0.04347826   & -0.10034313   & -0.04347826   & -0.051787266  & -0.0546222458 & -0.066414683  & -0.0603377    & ...           &  0.100102366  & -0.09700986   & -0.02761733   & -0.21198863   & -0.15641138   & -0.10683497   & -0.005547721  &  0.025208494  & -0.16498824   &  0.43297703  \\\\\n",
       "\t -0.0453077    & -0.04643408   & -0.060158151  & -0.04347826   & -0.10034313   & -0.04347826   & -0.051787266  & -0.0546222458 & -0.066414683  & -0.0603377    & ...           & -0.040795550  & -0.22405960   &  0.66647691   & -0.27337742   & -0.31611685   & -0.22120504   &  0.471682204  &  0.017902054  &  0.71234162   & -0.16381752  \\\\\n",
       "\t -0.0453077    & -0.04643408   & -0.060158151  & -0.04347826   & -0.10034313   & -0.04347826   & -0.051787266  &  1.7600472406 & -0.066414683  & -0.0603377    & ...           & -0.280418756  & -0.22405960   & -0.02252815   & -0.13939911   & -0.31611685   & -0.19815193   & -0.282125301  & -0.364331324  & -0.43642367   & -0.68109874  \\\\\n",
       "\t -0.0453077    & -0.04643408   & -0.060158151  & -0.04347826   & -0.10034313   & -0.04347826   & -0.051787266  & -0.0546222458 & -0.066414683  & -0.0603377    & ...           & -0.202780024  & -0.22405960   & -0.30149791   & -0.16638238   & -0.02531785   & -0.22120504   & -0.222166355  & -0.289297860  & -0.40453369   &  0.10997137  \\\\\n",
       "\t  1.6666763    & -0.04643408   & -0.060158151  & -0.04347826   & -0.01919034   & -0.04347826   &  0.001551014  &  0.1772582029 & -0.066414683  & -0.0603377    & ...           & -0.163195227  & -0.02400300   & -0.07707799   &  0.23789096   & -0.26243710   &  0.01537341   & -0.083906305  & -0.202723569  &  0.69438641   & -0.33153447  \\\\\n",
       "\t -0.0453077    & -0.04643408   & -0.060158151  & -0.04347826   & -0.10034313   &  1.00197628   & -0.051787266  & -0.0546222458 &  0.008120775  & -0.0603377    & ...           &  0.149100121  & -0.10281433   & -0.37569233   & -0.28905448   &  3.76114115   & -0.01015647   & -0.227489980  & -0.183411973  & -0.21356759   & -0.17232921  \\\\\n",
       "\t -0.0453077    & -0.04643408   & -0.002046795  &  0.61366460   &  0.41692799   & -0.04347826   & -0.051787266  & -0.0546222458 & -0.035959500  & -0.0603377    & ...           & -0.003579434  & -0.08600836   & -0.21636093   & -0.02473857   & -0.09655141   & -0.09406065   & -0.167637239  &  0.104949252  & -0.23212656   &  0.07473169  \\\\\n",
       "\t -0.0453077    & -0.04643408   & -0.060158151  & -0.04347826   & -0.10034313   & -0.04347826   & -0.051787266  & -0.0546222458 & -0.066414683  & -0.0603377    & ...           & -0.280418756  & -0.22405960   & -0.43080106   &  0.66780592   & -0.31611685   & -0.22120504   & -0.431479278  & -0.398784640  &  2.56795780   &  0.08289274  \\\\\n",
       "\t -0.0453077    & -0.04643408   & -0.060158151  & -0.04347826   & -0.10034313   & -0.04347826   & -0.051787266  & -0.0546222458 & -0.066414683  & -0.0603377    & ...           & -0.280418756  & -0.22405960   & -0.43080106   & -0.34968344   & -0.31611685   & -0.22120504   & -0.335108416  & -0.398784640  & -0.49339217   &  0.10850067  \\\\\n",
       "\t -0.0453077    & -0.04643408   & -0.060158151  & -0.04347826   & -0.10034313   & -0.04347826   & -0.051787266  & -0.0546222458 &  0.346612628  & -0.0603377    & ...           &  0.237535876  & -0.04677727   & -0.27825367   &  0.19640462   & -0.31611685   & -0.01567864   & -0.136498399  &  0.480318090  & -0.17861334   & -0.17891156  \\\\\n",
       "\t -0.0453077    & -0.04643408   & -0.060158151  & -0.04347826   & -0.10034313   & -0.04347826   & -0.051787266  & -0.0546222458 & -0.066414683  & -0.0603377    & ...           & -0.280418756  & -0.22405960   & -0.43080106   &  0.08305591   & -0.31611685   & -0.22120504   & -0.431479278  & -0.321665300  & -0.06021045   &  0.56242441  \\\\\n",
       "\t -0.0453077    & -0.04643408   & -0.060158151  & -0.04347826   & -0.10034313   & -0.04347826   & -0.051787266  & -0.0546222458 & -0.066414683  & -0.0603377    & ...           & -0.259456393  & -0.22405960   & -0.39781014   & -0.12099230   & -0.30634375   & -0.02769352   & -0.295154349  & -0.280298137  & -0.16944052   &  0.15400817  \\\\\n",
       "\\end{tabular}\n"
      ],
      "text/markdown": [
       "\n",
       "| gifted.talented.student | national.heritage.corridor | national.homeownership.month | near.retirement.age | personal.injury.lawyer | regional.training.cent | amnesty.illegal.alien | arm.embargo.china | flag.protection.amendment | low.cost.reliable | ... | prescription.drug | class.action | civil.right | look.forward | stem.cel | natural.ga | hurricane.katrina | trade.agreement | appropriation.bil | american.people |\n",
       "|---|---|---|---|---|---|---|---|---|---|---|---|---|---|---|---|---|---|---|---|---|\n",
       "| -0.0453077    | -0.04643408   | -0.060158151  | -0.04347826   | -0.10034313   | -0.04347826   | -0.051787266  | -0.0546222458 | -0.066414683  |  9.5211183    | ...           | -0.154324037  | -0.22405960   | -0.01797094   | -0.23181159   | -0.27130045   | 11.30482309   | -0.397499532  | -0.398784640  | -0.41778640   | -0.72261023   |\n",
       "| -0.0453077    | -0.04643408   | -0.060158151  | -0.04347826   | -0.10034313   | -0.04347826   | -0.051787266  | -0.0546222458 | -0.066414683  | -0.0603377    | ...           | -0.231575526  | -0.13358463   | -0.17062757   |  0.01303461   | -0.31611685   |  0.71909759   | -0.209900617  | -0.007419118  |  0.42412821   | -0.44476105   |\n",
       "| -0.0453077    | -0.03862001   |  0.083753754  | -0.04347826   |  0.01267769   | -0.04347826   |  0.067661341  | -0.0546222458 |  0.041262670  | -0.0603377    | ...           |  0.046381491  |  0.06529458   | -0.14371057   |  0.22420225   | -0.17488356   | -0.01372786   |  0.131276372  | -0.165369230  |  0.21927627   | -0.07353541   |\n",
       "| -0.0453077    | -0.04643408   | -0.060158151  | -0.04347826   | -0.10034313   | -0.04347826   | -0.051787266  | -0.0546222458 | -0.066414683  | -0.0603377    | ...           | -0.280418756  | -0.22405960   | -0.43080106   | -0.41702993   |  7.97638936   |  0.88256541   | -0.431479278  | -0.398784640  | -0.49339217   | -0.71298240   |\n",
       "| -0.0453077    | -0.04643408   | -0.060158151  | -0.04347826   | -0.10034313   | -0.04347826   | -0.051787266  | -0.0546222458 | -0.066414683  | -0.0603377    | ...           | -0.280418756  | -0.22405960   | -0.43080106   | -0.08590581   | -0.31611685   |  0.07796731   | -0.431479278  | -0.398784640  | -0.49339217   |  0.03850602   |\n",
       "| -0.0453077    | -0.04643408   | -0.060158151  | -0.04347826   | -0.10034313   | -0.04347826   | -0.051787266  | -0.0546222458 | -0.066414683  | -0.0603377    | ...           | -0.161442422  |  0.18109562   | -0.26248749   | -0.06287550   | -0.28903138   | -0.10892346   | -0.226859675  |  0.509179757  | -0.32317898   | -0.16822737   |\n",
       "| -0.0453077    | -0.04643408   | -0.060158151  | -0.04347826   | -0.10034313   | -0.04347826   | -0.051787266  | -0.0546222458 | -0.066414683  | -0.0603377    | ...           | -0.014157020  | -0.22405960   | -0.26238735   | -0.23045455   | -0.28241751   | -0.18965209   | -0.189758632  |  3.958236413  | -0.35824260   |  0.12593711   |\n",
       "| -0.0453077    |  0.80342207   | -0.060158151  | -0.04347826   | -0.10034313   | -0.04347826   | -0.051787266  | -0.0546222458 | -0.066414683  | -0.0603377    | ...           | -0.189472305  | -0.16077461   |  2.62854521   | -0.28144772   | -0.22717030   |  0.01071487   |  0.153889553  | -0.175656866  | -0.28139378   | -0.13787789   |\n",
       "| -0.0453077    | -0.04643408   | -0.060158151  | -0.04347826   |  0.44942409   | -0.04347826   |  0.049416215  |  0.0007556673 |  0.162851705  |  0.6110166    | ...           | -0.056639490  |  0.92802594   | -0.08286003   | -0.11417600   | -0.05128128   | -0.03239260   | -0.124969538  | -0.164494275  | -0.24649934   |  0.08651892   |\n",
       "| -0.0453077    | -0.04643408   | -0.060158151  | -0.04347826   | -0.10034313   | -0.04347826   | -0.051787266  | 22.7273696761 | -0.066414683  | -0.0603377    | ...           | -0.280418756  | -0.22405960   | -0.43080106   | -0.43695559   | -0.31611685   | -0.22120504   |  1.068554140  | -0.398784640  |  0.93701251   | -0.86720792   |\n",
       "| -0.0453077    | -0.04643408   | -0.060158151  | -0.04347826   | -0.10034313   | -0.04347826   | -0.051787266  | -0.0546222458 | -0.066414683  | -0.0603377    | ...           | -0.205079718  | -0.22405960   | -0.39461665   | -0.36826402   | -0.31611685   | -0.21752737   | -0.250588508  | -0.169744929  | -0.28788748   |  0.28337218   |\n",
       "| -0.0453077    | -0.04643408   | -0.060158151  | -0.04347826   | -0.10034313   | -0.04347826   | -0.051787266  | -0.0546222458 | -0.066414683  | -0.0603377    | ...           | -0.003182139  | -0.14518204   |  0.03466256   | -0.23893925   | -0.14013286   | -0.09006878   |  0.021879675  |  0.138845896  | -0.13212006   |  0.08393956   |\n",
       "| -0.0453077    | -0.04643408   | -0.060158151  | -0.04347826   | -0.10034313   | -0.04347826   | -0.051787266  | -0.0546222458 | -0.066414683  | -0.0603377    | ...           | -0.280418756  |  0.65508625   | -0.43080106   | -0.43695559   | -0.31611685   | -0.22120504   | -0.431479278  | -0.398784640  | -0.49339217   | -0.86720792   |\n",
       "| -0.0453077    | -0.04643408   | -0.060158151  | -0.04347826   | -0.10034313   | -0.04347826   | -0.051787266  | -0.0546222458 | -0.066414683  | -0.0603377    | ...           |  0.100102366  | -0.09700986   | -0.02761733   | -0.21198863   | -0.15641138   | -0.10683497   | -0.005547721  |  0.025208494  | -0.16498824   |  0.43297703   |\n",
       "| -0.0453077    | -0.04643408   | -0.060158151  | -0.04347826   | -0.10034313   | -0.04347826   | -0.051787266  | -0.0546222458 | -0.066414683  | -0.0603377    | ...           | -0.040795550  | -0.22405960   |  0.66647691   | -0.27337742   | -0.31611685   | -0.22120504   |  0.471682204  |  0.017902054  |  0.71234162   | -0.16381752   |\n",
       "| -0.0453077    | -0.04643408   | -0.060158151  | -0.04347826   | -0.10034313   | -0.04347826   | -0.051787266  |  1.7600472406 | -0.066414683  | -0.0603377    | ...           | -0.280418756  | -0.22405960   | -0.02252815   | -0.13939911   | -0.31611685   | -0.19815193   | -0.282125301  | -0.364331324  | -0.43642367   | -0.68109874   |\n",
       "| -0.0453077    | -0.04643408   | -0.060158151  | -0.04347826   | -0.10034313   | -0.04347826   | -0.051787266  | -0.0546222458 | -0.066414683  | -0.0603377    | ...           | -0.202780024  | -0.22405960   | -0.30149791   | -0.16638238   | -0.02531785   | -0.22120504   | -0.222166355  | -0.289297860  | -0.40453369   |  0.10997137   |\n",
       "|  1.6666763    | -0.04643408   | -0.060158151  | -0.04347826   | -0.01919034   | -0.04347826   |  0.001551014  |  0.1772582029 | -0.066414683  | -0.0603377    | ...           | -0.163195227  | -0.02400300   | -0.07707799   |  0.23789096   | -0.26243710   |  0.01537341   | -0.083906305  | -0.202723569  |  0.69438641   | -0.33153447   |\n",
       "| -0.0453077    | -0.04643408   | -0.060158151  | -0.04347826   | -0.10034313   |  1.00197628   | -0.051787266  | -0.0546222458 |  0.008120775  | -0.0603377    | ...           |  0.149100121  | -0.10281433   | -0.37569233   | -0.28905448   |  3.76114115   | -0.01015647   | -0.227489980  | -0.183411973  | -0.21356759   | -0.17232921   |\n",
       "| -0.0453077    | -0.04643408   | -0.002046795  |  0.61366460   |  0.41692799   | -0.04347826   | -0.051787266  | -0.0546222458 | -0.035959500  | -0.0603377    | ...           | -0.003579434  | -0.08600836   | -0.21636093   | -0.02473857   | -0.09655141   | -0.09406065   | -0.167637239  |  0.104949252  | -0.23212656   |  0.07473169   |\n",
       "| -0.0453077    | -0.04643408   | -0.060158151  | -0.04347826   | -0.10034313   | -0.04347826   | -0.051787266  | -0.0546222458 | -0.066414683  | -0.0603377    | ...           | -0.280418756  | -0.22405960   | -0.43080106   |  0.66780592   | -0.31611685   | -0.22120504   | -0.431479278  | -0.398784640  |  2.56795780   |  0.08289274   |\n",
       "| -0.0453077    | -0.04643408   | -0.060158151  | -0.04347826   | -0.10034313   | -0.04347826   | -0.051787266  | -0.0546222458 | -0.066414683  | -0.0603377    | ...           | -0.280418756  | -0.22405960   | -0.43080106   | -0.34968344   | -0.31611685   | -0.22120504   | -0.335108416  | -0.398784640  | -0.49339217   |  0.10850067   |\n",
       "| -0.0453077    | -0.04643408   | -0.060158151  | -0.04347826   | -0.10034313   | -0.04347826   | -0.051787266  | -0.0546222458 |  0.346612628  | -0.0603377    | ...           |  0.237535876  | -0.04677727   | -0.27825367   |  0.19640462   | -0.31611685   | -0.01567864   | -0.136498399  |  0.480318090  | -0.17861334   | -0.17891156   |\n",
       "| -0.0453077    | -0.04643408   | -0.060158151  | -0.04347826   | -0.10034313   | -0.04347826   | -0.051787266  | -0.0546222458 | -0.066414683  | -0.0603377    | ...           | -0.280418756  | -0.22405960   | -0.43080106   |  0.08305591   | -0.31611685   | -0.22120504   | -0.431479278  | -0.321665300  | -0.06021045   |  0.56242441   |\n",
       "| -0.0453077    | -0.04643408   | -0.060158151  | -0.04347826   | -0.10034313   | -0.04347826   | -0.051787266  | -0.0546222458 | -0.066414683  | -0.0603377    | ...           | -0.259456393  | -0.22405960   | -0.39781014   | -0.12099230   | -0.30634375   | -0.02769352   | -0.295154349  | -0.280298137  | -0.16944052   |  0.15400817   |\n",
       "\n"
      ],
      "text/plain": [
       "   gifted.talented.student national.heritage.corridor\n",
       "1  -0.0453077              -0.04643408               \n",
       "2  -0.0453077              -0.04643408               \n",
       "3  -0.0453077              -0.03862001               \n",
       "4  -0.0453077              -0.04643408               \n",
       "5  -0.0453077              -0.04643408               \n",
       "6  -0.0453077              -0.04643408               \n",
       "7  -0.0453077              -0.04643408               \n",
       "8  -0.0453077               0.80342207               \n",
       "9  -0.0453077              -0.04643408               \n",
       "10 -0.0453077              -0.04643408               \n",
       "11 -0.0453077              -0.04643408               \n",
       "12 -0.0453077              -0.04643408               \n",
       "13 -0.0453077              -0.04643408               \n",
       "14 -0.0453077              -0.04643408               \n",
       "15 -0.0453077              -0.04643408               \n",
       "16 -0.0453077              -0.04643408               \n",
       "17 -0.0453077              -0.04643408               \n",
       "18  1.6666763              -0.04643408               \n",
       "19 -0.0453077              -0.04643408               \n",
       "20 -0.0453077              -0.04643408               \n",
       "21 -0.0453077              -0.04643408               \n",
       "22 -0.0453077              -0.04643408               \n",
       "23 -0.0453077              -0.04643408               \n",
       "24 -0.0453077              -0.04643408               \n",
       "25 -0.0453077              -0.04643408               \n",
       "   national.homeownership.month near.retirement.age personal.injury.lawyer\n",
       "1  -0.060158151                 -0.04347826         -0.10034313           \n",
       "2  -0.060158151                 -0.04347826         -0.10034313           \n",
       "3   0.083753754                 -0.04347826          0.01267769           \n",
       "4  -0.060158151                 -0.04347826         -0.10034313           \n",
       "5  -0.060158151                 -0.04347826         -0.10034313           \n",
       "6  -0.060158151                 -0.04347826         -0.10034313           \n",
       "7  -0.060158151                 -0.04347826         -0.10034313           \n",
       "8  -0.060158151                 -0.04347826         -0.10034313           \n",
       "9  -0.060158151                 -0.04347826          0.44942409           \n",
       "10 -0.060158151                 -0.04347826         -0.10034313           \n",
       "11 -0.060158151                 -0.04347826         -0.10034313           \n",
       "12 -0.060158151                 -0.04347826         -0.10034313           \n",
       "13 -0.060158151                 -0.04347826         -0.10034313           \n",
       "14 -0.060158151                 -0.04347826         -0.10034313           \n",
       "15 -0.060158151                 -0.04347826         -0.10034313           \n",
       "16 -0.060158151                 -0.04347826         -0.10034313           \n",
       "17 -0.060158151                 -0.04347826         -0.10034313           \n",
       "18 -0.060158151                 -0.04347826         -0.01919034           \n",
       "19 -0.060158151                 -0.04347826         -0.10034313           \n",
       "20 -0.002046795                  0.61366460          0.41692799           \n",
       "21 -0.060158151                 -0.04347826         -0.10034313           \n",
       "22 -0.060158151                 -0.04347826         -0.10034313           \n",
       "23 -0.060158151                 -0.04347826         -0.10034313           \n",
       "24 -0.060158151                 -0.04347826         -0.10034313           \n",
       "25 -0.060158151                 -0.04347826         -0.10034313           \n",
       "   regional.training.cent amnesty.illegal.alien arm.embargo.china\n",
       "1  -0.04347826            -0.051787266          -0.0546222458    \n",
       "2  -0.04347826            -0.051787266          -0.0546222458    \n",
       "3  -0.04347826             0.067661341          -0.0546222458    \n",
       "4  -0.04347826            -0.051787266          -0.0546222458    \n",
       "5  -0.04347826            -0.051787266          -0.0546222458    \n",
       "6  -0.04347826            -0.051787266          -0.0546222458    \n",
       "7  -0.04347826            -0.051787266          -0.0546222458    \n",
       "8  -0.04347826            -0.051787266          -0.0546222458    \n",
       "9  -0.04347826             0.049416215           0.0007556673    \n",
       "10 -0.04347826            -0.051787266          22.7273696761    \n",
       "11 -0.04347826            -0.051787266          -0.0546222458    \n",
       "12 -0.04347826            -0.051787266          -0.0546222458    \n",
       "13 -0.04347826            -0.051787266          -0.0546222458    \n",
       "14 -0.04347826            -0.051787266          -0.0546222458    \n",
       "15 -0.04347826            -0.051787266          -0.0546222458    \n",
       "16 -0.04347826            -0.051787266           1.7600472406    \n",
       "17 -0.04347826            -0.051787266          -0.0546222458    \n",
       "18 -0.04347826             0.001551014           0.1772582029    \n",
       "19  1.00197628            -0.051787266          -0.0546222458    \n",
       "20 -0.04347826            -0.051787266          -0.0546222458    \n",
       "21 -0.04347826            -0.051787266          -0.0546222458    \n",
       "22 -0.04347826            -0.051787266          -0.0546222458    \n",
       "23 -0.04347826            -0.051787266          -0.0546222458    \n",
       "24 -0.04347826            -0.051787266          -0.0546222458    \n",
       "25 -0.04347826            -0.051787266          -0.0546222458    \n",
       "   flag.protection.amendment low.cost.reliable ... prescription.drug\n",
       "1  -0.066414683               9.5211183        ... -0.154324037     \n",
       "2  -0.066414683              -0.0603377        ... -0.231575526     \n",
       "3   0.041262670              -0.0603377        ...  0.046381491     \n",
       "4  -0.066414683              -0.0603377        ... -0.280418756     \n",
       "5  -0.066414683              -0.0603377        ... -0.280418756     \n",
       "6  -0.066414683              -0.0603377        ... -0.161442422     \n",
       "7  -0.066414683              -0.0603377        ... -0.014157020     \n",
       "8  -0.066414683              -0.0603377        ... -0.189472305     \n",
       "9   0.162851705               0.6110166        ... -0.056639490     \n",
       "10 -0.066414683              -0.0603377        ... -0.280418756     \n",
       "11 -0.066414683              -0.0603377        ... -0.205079718     \n",
       "12 -0.066414683              -0.0603377        ... -0.003182139     \n",
       "13 -0.066414683              -0.0603377        ... -0.280418756     \n",
       "14 -0.066414683              -0.0603377        ...  0.100102366     \n",
       "15 -0.066414683              -0.0603377        ... -0.040795550     \n",
       "16 -0.066414683              -0.0603377        ... -0.280418756     \n",
       "17 -0.066414683              -0.0603377        ... -0.202780024     \n",
       "18 -0.066414683              -0.0603377        ... -0.163195227     \n",
       "19  0.008120775              -0.0603377        ...  0.149100121     \n",
       "20 -0.035959500              -0.0603377        ... -0.003579434     \n",
       "21 -0.066414683              -0.0603377        ... -0.280418756     \n",
       "22 -0.066414683              -0.0603377        ... -0.280418756     \n",
       "23  0.346612628              -0.0603377        ...  0.237535876     \n",
       "24 -0.066414683              -0.0603377        ... -0.280418756     \n",
       "25 -0.066414683              -0.0603377        ... -0.259456393     \n",
       "   class.action civil.right look.forward stem.cel    natural.ga \n",
       "1  -0.22405960  -0.01797094 -0.23181159  -0.27130045 11.30482309\n",
       "2  -0.13358463  -0.17062757  0.01303461  -0.31611685  0.71909759\n",
       "3   0.06529458  -0.14371057  0.22420225  -0.17488356 -0.01372786\n",
       "4  -0.22405960  -0.43080106 -0.41702993   7.97638936  0.88256541\n",
       "5  -0.22405960  -0.43080106 -0.08590581  -0.31611685  0.07796731\n",
       "6   0.18109562  -0.26248749 -0.06287550  -0.28903138 -0.10892346\n",
       "7  -0.22405960  -0.26238735 -0.23045455  -0.28241751 -0.18965209\n",
       "8  -0.16077461   2.62854521 -0.28144772  -0.22717030  0.01071487\n",
       "9   0.92802594  -0.08286003 -0.11417600  -0.05128128 -0.03239260\n",
       "10 -0.22405960  -0.43080106 -0.43695559  -0.31611685 -0.22120504\n",
       "11 -0.22405960  -0.39461665 -0.36826402  -0.31611685 -0.21752737\n",
       "12 -0.14518204   0.03466256 -0.23893925  -0.14013286 -0.09006878\n",
       "13  0.65508625  -0.43080106 -0.43695559  -0.31611685 -0.22120504\n",
       "14 -0.09700986  -0.02761733 -0.21198863  -0.15641138 -0.10683497\n",
       "15 -0.22405960   0.66647691 -0.27337742  -0.31611685 -0.22120504\n",
       "16 -0.22405960  -0.02252815 -0.13939911  -0.31611685 -0.19815193\n",
       "17 -0.22405960  -0.30149791 -0.16638238  -0.02531785 -0.22120504\n",
       "18 -0.02400300  -0.07707799  0.23789096  -0.26243710  0.01537341\n",
       "19 -0.10281433  -0.37569233 -0.28905448   3.76114115 -0.01015647\n",
       "20 -0.08600836  -0.21636093 -0.02473857  -0.09655141 -0.09406065\n",
       "21 -0.22405960  -0.43080106  0.66780592  -0.31611685 -0.22120504\n",
       "22 -0.22405960  -0.43080106 -0.34968344  -0.31611685 -0.22120504\n",
       "23 -0.04677727  -0.27825367  0.19640462  -0.31611685 -0.01567864\n",
       "24 -0.22405960  -0.43080106  0.08305591  -0.31611685 -0.22120504\n",
       "25 -0.22405960  -0.39781014 -0.12099230  -0.30634375 -0.02769352\n",
       "   hurricane.katrina trade.agreement appropriation.bil american.people\n",
       "1  -0.397499532      -0.398784640    -0.41778640       -0.72261023    \n",
       "2  -0.209900617      -0.007419118     0.42412821       -0.44476105    \n",
       "3   0.131276372      -0.165369230     0.21927627       -0.07353541    \n",
       "4  -0.431479278      -0.398784640    -0.49339217       -0.71298240    \n",
       "5  -0.431479278      -0.398784640    -0.49339217        0.03850602    \n",
       "6  -0.226859675       0.509179757    -0.32317898       -0.16822737    \n",
       "7  -0.189758632       3.958236413    -0.35824260        0.12593711    \n",
       "8   0.153889553      -0.175656866    -0.28139378       -0.13787789    \n",
       "9  -0.124969538      -0.164494275    -0.24649934        0.08651892    \n",
       "10  1.068554140      -0.398784640     0.93701251       -0.86720792    \n",
       "11 -0.250588508      -0.169744929    -0.28788748        0.28337218    \n",
       "12  0.021879675       0.138845896    -0.13212006        0.08393956    \n",
       "13 -0.431479278      -0.398784640    -0.49339217       -0.86720792    \n",
       "14 -0.005547721       0.025208494    -0.16498824        0.43297703    \n",
       "15  0.471682204       0.017902054     0.71234162       -0.16381752    \n",
       "16 -0.282125301      -0.364331324    -0.43642367       -0.68109874    \n",
       "17 -0.222166355      -0.289297860    -0.40453369        0.10997137    \n",
       "18 -0.083906305      -0.202723569     0.69438641       -0.33153447    \n",
       "19 -0.227489980      -0.183411973    -0.21356759       -0.17232921    \n",
       "20 -0.167637239       0.104949252    -0.23212656        0.07473169    \n",
       "21 -0.431479278      -0.398784640     2.56795780        0.08289274    \n",
       "22 -0.335108416      -0.398784640    -0.49339217        0.10850067    \n",
       "23 -0.136498399       0.480318090    -0.17861334       -0.17891156    \n",
       "24 -0.431479278      -0.321665300    -0.06021045        0.56242441    \n",
       "25 -0.295154349      -0.280298137    -0.16944052        0.15400817    "
      ]
     },
     "metadata": {},
     "output_type": "display_data"
    }
   ],
   "source": [
    "kmfs_25$centers"
   ]
  },
  {
   "cell_type": "markdown",
   "metadata": {},
   "source": [
    "## 2. Use BIC to choose the K and interpret the selected model. Also use the elbow curve method to identify the most optimal value of K. Compare the two values of K that you obtained. Are they equal? !"
   ]
  },
  {
   "cell_type": "code",
   "execution_count": 23,
   "metadata": {
    "ExecuteTime": {
     "end_time": "2020-02-11T04:19:45.683245Z",
     "start_time": "2020-02-11T04:19:45.663Z"
    }
   },
   "outputs": [],
   "source": [
    "kic <- function(fit, rule=c(\"A\",\"B\")){\n",
    "    df <- length(fit$centers) # K*dim\n",
    "    n <- sum(fit$size)\n",
    "    D <- fit$tot.withinss # deviance\n",
    "    rule=match.arg(rule)\n",
    "    if(rule==\"A\")\n",
    "        return(D + 2*df*n/(n-df-1))\n",
    "    else\n",
    "        return(D + log(n)*df)\n",
    "}"
   ]
  },
  {
   "cell_type": "code",
   "execution_count": 24,
   "metadata": {
    "ExecuteTime": {
     "end_time": "2020-02-11T04:19:46.936956Z",
     "start_time": "2020-02-11T04:19:46.286Z"
    }
   },
   "outputs": [
    {
     "data": {
      "text/html": [
       "25"
      ],
      "text/latex": [
       "25"
      ],
      "text/markdown": [
       "25"
      ],
      "text/plain": [
       "[1] 25"
      ]
     },
     "metadata": {},
     "output_type": "display_data"
    }
   ],
   "source": [
    "k <- c(1,seq(5,25,5))\n",
    "aiccs <- list()\n",
    "for (i in k){\n",
    "    fit <- kmeans(fs,i)\n",
    "    aicc <- kic(fit,'A')\n",
    "    aiccs <- c(aiccs,aicc)\n",
    "}\n",
    "\n",
    "k[which.min(aiccs)]"
   ]
  },
  {
   "cell_type": "code",
   "execution_count": 25,
   "metadata": {
    "ExecuteTime": {
     "end_time": "2020-02-11T04:19:47.478266Z",
     "start_time": "2020-02-11T04:19:47.415Z"
    }
   },
   "outputs": [
    {
     "data": {
      "image/png": "[encoded data removed]",
      "text/plain": [
       "plot without title"
      ]
     },
     "metadata": {},
     "output_type": "display_data"
    }
   ],
   "source": [
    "plot(k,aiccs,\n",
    "       type=\"b\", pch = 19, frame = FALSE, \n",
    "       xlab=\"Number of clusters K\",\n",
    "       ylab=\"AICc\")"
   ]
  },
  {
   "cell_type": "code",
   "execution_count": 26,
   "metadata": {
    "ExecuteTime": {
     "end_time": "2020-02-11T04:19:52.245392Z",
     "start_time": "2020-02-11T04:19:48.157Z"
    }
   },
   "outputs": [
    {
     "data": {
      "image/png": "[encoded data removed]",
      "text/plain": [
       "plot without title"
      ]
     },
     "metadata": {},
     "output_type": "display_data"
    }
   ],
   "source": [
    "set.seed(123)\n",
    "\n",
    "# function to compute total within-cluster sum of square \n",
    "wss <- function(k) {\n",
    "  kmeans(fs, k, nstart = 10 )$tot.withinss\n",
    "}\n",
    "\n",
    "\n",
    "k.values <- c(1,seq(5,25,5))\n",
    "\n",
    "# extract wss for 2-15 clusters\n",
    "wss_values <- map_dbl(k.values, wss)\n",
    "\n",
    "plot(k.values, wss_values,\n",
    "       type=\"b\", pch = 19, frame = FALSE, \n",
    "       xlab=\"Number of clusters K\",\n",
    "       ylab=\"Deviation\")"
   ]
  },
  {
   "cell_type": "markdown",
   "metadata": {},
   "source": [
    "## 3. Fit a topic model for the speech counts.  Use Bayes factors to choose the number of topics and interpret your chosen model. \n"
   ]
  },
  {
   "cell_type": "code",
   "execution_count": 27,
   "metadata": {
    "ExecuteTime": {
     "end_time": "2020-02-11T04:19:54.259887Z",
     "start_time": "2020-02-11T04:19:54.240Z"
    }
   },
   "outputs": [],
   "source": [
    "x <- as.simple_triplet_matrix(congress109Counts)"
   ]
  },
  {
   "cell_type": "code",
   "execution_count": 28,
   "metadata": {
    "ExecuteTime": {
     "end_time": "2020-02-11T04:20:12.819201Z",
     "start_time": "2020-02-11T04:19:54.924Z"
    }
   },
   "outputs": [
    {
     "name": "stdout",
     "output_type": "stream",
     "text": [
      "\n",
      "Estimating on a 529 document collection.\n",
      "Fit and Bayes Factor Estimation for K = 5 ... 25\n",
      "log posterior increase: 6250.9, 5343.6, 4087.6, 3171.8, 2517.7, 1997.5, 1757.8, 1621.5, 1486.2, 1367.6, 1240.2, 1167.2, 1077.1, 999.2, 897.3, 776.3, 686.9, 634.6, 598.5, 552.6, 504.8, 468.4, 449.4, 439.9, 425.7, 436.1, 441, 427.9, 418.2, 419.2, 395.4, done. (L = -1028222.6)\n",
      "log BF( 5 ) = 57506.56 [  32 steps, disp = 3.65  ]\n",
      "log posterior increase: 4384.5, 2580.8, 1914.4, 1983.9, 1311.1, 1076.7, 980.4, 744.9, 567, 480.6, 404.5, 339.8, 294.9, 306.1, 327.6, 295, 272.4, 236.2, 231.8, 214.8, 188.6, 188.6, 158, 137, 131.3, 141.4, 171.3, 207.1, 200.8, 182.7, 181.8, 189.5, 190.5, 180, 161.5, 150.3, 150.1, 159.8, 169.4, 177.1, 183.3, 190.2, 197.2, 205.7, 220.6, 239, 251.5, 262.4, 249, 230.1, 248.6, 267.5, 233.1, 203, 189.6, 212.5, 243.2, 266.2, 226.7, 177.8, 154.2, 143.3, 122.8, done. (L = -991521.9)\n",
      "log BF( 10 ) = 77508.5 [  64 steps, disp = 2.9  ]\n",
      "log posterior increase: 3328.5, 2119.1, 1376.8, 926.6, 745.7, 578.8, 492.1, 419.5, 341.6, 288.8, 266.8, 266.7, 219.3, 166.7, 146, 127.3, 105.1, 93.4, 84.6, 76.2, 199.3, 80.1, 97.6, 57.6, 64.5, 73.3, 52.1, 65.1, 61.4, 44.6, 52.8, 58, 41.1, 43.6, 44.1, 33.7, 41, 49.9, 45.7, 47.9, 57, 50.1, 47.9, 104.2, 63.3, 66.8, 114.5, 77.2, 194.1, 131.7, 126.2, 144, 148.9, 126.1, 95.4, 92.4, 176, 226.4, 161.4, 145.4, 92.7, 68.7, done. (L = -972031.5)\n",
      "log BF( 15 ) = 76830.85 [  63 steps, disp = 2.48  ]\n",
      "log posterior increase: 1986.5, 1132.8, 725.2, 557.5, 448.3, 377.4, 313.5, 267.2, 257.8, 282.1, 293.7, 287.7, 277.7, 219.2, 205.9, 215, 197.1, 157.7, 138.3, 127, 120.2, 112.6, 101.6, 90.9, 83.5, 77.9, 75.1, 74.1, 72.3, 71.1, 69.7, 80.4, 101.4, 56.4, 50.3, 77.2, 97.2, 75.4, 125.9, 60.7, 70, 143.2, 79.8, 83.3, 169.3, 76.9, 67.7, 174.9, 65.7, 56.7, 55.7, 44.4, 43.5, 45, 48, 53, 57.8, 56.5, 113.2, 47.6, 35.7, done. (L = -957860.8)\n",
      "log BF( 20 ) = 68467.05 [  62 steps, disp = 2.23  ]\n"
     ]
    }
   ],
   "source": [
    "tpcs <- topics(x, K=5*(1:5), verb=10)"
   ]
  },
  {
   "cell_type": "code",
   "execution_count": 29,
   "metadata": {
    "ExecuteTime": {
     "end_time": "2020-02-11T04:20:14.052763Z",
     "start_time": "2020-02-11T04:20:14.023Z"
    }
   },
   "outputs": [
    {
     "name": "stdout",
     "output_type": "stream",
     "text": [
      "\n",
      "Top 10 phrases by topic-over-null term lift (and usage %):\n",
      "\n",
      "[1] 'asian.pacific.american', 'american.heritage.month', 'pacific.american.heritage', 'ryan.white.care', 'white.care.act', 'columbia.river.gorge', 'asian.pacific', 'asian.pacific.islander', 'african.american.community', 'little.rock.nine' (15.3) \n",
      "[2] 'united.airline.employe', 'va.health.care', 'social.security.privatization', 'paralyzed.veteran.america', 'student.loan.cut', 'disabled.american.veteran', 'issue.facing.american', 'privatization.plan', 'social.security.solvency', 'troop.bring.home' (14.6) \n",
      "[3] 'southeast.texa', 'million.illegal.alien', 'temporary.worker.program', 'amnesty.illegal.alien', 'ready.mixed.concrete', 'illegal.alien', 'postal.service', 'private.property.owner', 'illegal.immigration', 'social.security.card' (13.6) \n",
      "[4] 'near.earth.object', 'million.budget.request', 'oil.food.program', 'winning.war.iraq', 'food.scandal', 'oil.food.scandal', 'ending.september', 'indian.art.craft', 'oil.food', 'atomic.energy.agency' (13.1) \n",
      "[5] 'near.retirement.age', 'increase.taxe', 'medic.liability.crisi', 'tax.relief.package', 'repeal.death.tax', 'gifted.talented.student', 'tax.repeal', 'death.tax.repeal', 'personal.retirement.account', 'medic.liability.insurance' (12.7) \n",
      "[6] 'republic.cypru', 'change.heart.mind', 'tongass.national.forest', 'hate.crime.legislation', 'witness.testify', 'timber.sale', 'driver.education', 'wild.bird', 'hate.crime.law', 'commonly.prescribed.drug' (7.9) \n",
      "[7] 'judicial.confirmation.process', 'judge.alberto.gonzale', 'circuit.court.judge', 'judicial.nomine', 'fifth.circuit.court', 'justice.janice.roger', 'circuit.judge', 'president.judicial.nomine', 'john.robert', 'judge.robert' (6.3) \n",
      "[8] 'able.buy.gun', 'deep.sea.coral', 'gun.safety.law', 'caliber.sniper.rifle', 'gun.safety', 'buy.gun', 'assault.weapon', 'global.gag.rule', 'passenger.rail', 'passenger.rail.service' (5.8) \n",
      "[9] 'financial.accounting.standard', 'record.trade.deficit', 'record.budget.deficit', 'warren.buffett', 'north.american.fre', 'trade.polici', 'buy.american.product', 'trade.policy', 'american.fre.trade', 'central.american.fre' (5.5) \n",
      "[10] 'pluripotent.stem.cel', 'national.ad.campaign', 'regional.training.cent', 'cel.stem.cel', 'embryo.stem.cel', 'embryonic.stem', 'embryonic.stem.cel', 'produce.stem.cel', 'stem.cel.line', 'cel.line' (5.2) \n",
      "\n",
      "Log Bayes factor and estimated dispersion, by number of topics:\n",
      "\n",
      "             5      10       15       20\n",
      "logBF 57506.56 77508.5 76830.85 68467.05\n",
      "Disp      3.65     2.9     2.48     2.23\n",
      "\n",
      "Selected the K = 10 topic model\n",
      "\n"
     ]
    }
   ],
   "source": [
    "summary(tpcs, n=10) "
   ]
  },
  {
   "cell_type": "code",
   "execution_count": 19,
   "metadata": {
    "ExecuteTime": {
     "end_time": "2020-02-05T09:29:40.151289Z",
     "start_time": "2020-02-05T09:29:40.126Z"
    }
   },
   "outputs": [],
   "source": [
    "# rownames(tpcs$theta)[order(tpcs$theta[,1], decreasing=TRUE)[1:10]]\n",
    "# rownames(tpcs$theta)[order(tpcs$theta[,2], decreasing=TRUE)[1:10]]\n",
    "# par(mfrow=c(1,2))\n",
    "# wordcloud(row.names(tpcs$theta), \n",
    "#           freq=tpcs$theta[,1], min.freq=0.004, col=\"maroon\")\n",
    "# wordcloud(row.names(tpcs$theta), \n",
    "#           freq=tpcs$theta[,2], min.freq=0.004, col=\"navy\")\n",
    "# wordcloud(row.names(tpcs$theta), \n",
    "#           freq=tpcs$theta[,3], min.freq=0.004, col=\"navy\")\n",
    "# wordcloud(row.names(tpcs$theta), \n",
    "#           freq=tpcs$theta[,4], min.freq=0.004, col=\"navy\")\n",
    "# wordcloud(row.names(tpcs$theta), \n",
    "#           freq=tpcs$theta[,5], min.freq=0.004, col=\"navy\")\n",
    "# wordcloud(row.names(tpcs$theta), \n",
    "#           freq=tpcs$theta[,6], min.freq=0.004, col=\"navy\")\n",
    "# wordcloud(row.names(tpcs$theta), \n",
    "#           freq=tpcs$theta[,7], min.freq=0.004, col=\"navy\")\n",
    "# wordcloud(row.names(tpcs$theta), \n",
    "#           freq=tpcs$theta[,8], min.freq=0.004, col=\"navy\")\n",
    "# wordcloud(row.names(tpcs$theta), \n",
    "#           freq=tpcs$theta[,9], min.freq=0.004, col=\"navy\")\n",
    "# wordcloud(row.names(tpcs$theta), \n",
    "#           freq=tpcs$theta[,10], min.freq=0.004, col=\"navy\")\n"
   ]
  },
  {
   "cell_type": "markdown",
   "metadata": {},
   "source": [
    "## 4. Connect the unsupervised clusters to partisanship. Tabulate party membership by K-means cluster.  Are there any non-partisan topics? Fit topic regressions for each of party and repshare.  Compare to regression onto phrase percentages: x <- 100 * congress109Counts / rowSums(congress109Counts) \n"
   ]
  },
  {
   "cell_type": "code",
   "execution_count": 47,
   "metadata": {
    "ExecuteTime": {
     "end_time": "2020-02-11T04:58:31.695017Z",
     "start_time": "2020-02-11T04:58:31.643Z"
    }
   },
   "outputs": [
    {
     "name": "stderr",
     "output_type": "stream",
     "text": [
      "Using cluster as value column: use value.var to override.\n"
     ]
    },
    {
     "data": {
      "text/html": [
       "<table>\n",
       "<thead><tr><th scope=col>party</th><th scope=col>1</th><th scope=col>10</th><th scope=col>2</th><th scope=col>3</th><th scope=col>4</th><th scope=col>5</th><th scope=col>6</th><th scope=col>7</th><th scope=col>8</th><th scope=col>9</th></tr></thead>\n",
       "<tbody>\n",
       "\t<tr><td>D  </td><td>4  </td><td> 7 </td><td> 1 </td><td>0  </td><td> 81</td><td>114</td><td>0  </td><td>1  </td><td>30 </td><td> 4 </td></tr>\n",
       "\t<tr><td>I  </td><td>0  </td><td> 0 </td><td> 0 </td><td>0  </td><td>  0</td><td>  1</td><td>0  </td><td>0  </td><td> 1 </td><td> 0 </td></tr>\n",
       "\t<tr><td>R  </td><td>7  </td><td>29 </td><td>10 </td><td>1  </td><td>179</td><td>  0</td><td>2  </td><td>0  </td><td> 9 </td><td>48 </td></tr>\n",
       "</tbody>\n",
       "</table>\n"
      ],
      "text/latex": [
       "\\begin{tabular}{r|lllllllllll}\n",
       " party & 1 & 10 & 2 & 3 & 4 & 5 & 6 & 7 & 8 & 9\\\\\n",
       "\\hline\n",
       "\t D   & 4   &  7  &  1  & 0   &  81 & 114 & 0   & 1   & 30  &  4 \\\\\n",
       "\t I   & 0   &  0  &  0  & 0   &   0 &   1 & 0   & 0   &  1  &  0 \\\\\n",
       "\t R   & 7   & 29  & 10  & 1   & 179 &   0 & 2   & 0   &  9  & 48 \\\\\n",
       "\\end{tabular}\n"
      ],
      "text/markdown": [
       "\n",
       "| party | 1 | 10 | 2 | 3 | 4 | 5 | 6 | 7 | 8 | 9 |\n",
       "|---|---|---|---|---|---|---|---|---|---|---|\n",
       "| D   | 4   |  7  |  1  | 0   |  81 | 114 | 0   | 1   | 30  |  4  |\n",
       "| I   | 0   |  0  |  0  | 0   |   0 |   1 | 0   | 0   |  1  |  0  |\n",
       "| R   | 7   | 29  | 10  | 1   | 179 |   0 | 2   | 0   |  9  | 48  |\n",
       "\n"
      ],
      "text/plain": [
       "  party 1 10 2  3 4   5   6 7 8  9 \n",
       "1 D     4  7  1 0  81 114 0 1 30  4\n",
       "2 I     0  0  0 0   0   1 0 0  1  0\n",
       "3 R     7 29 10 1 179   0 2 0  9 48"
      ]
     },
     "metadata": {},
     "output_type": "display_data"
    }
   ],
   "source": [
    "# connect the unsupervised clusters to partisanship\n",
    "cluster <- kmfs_10$cluster\n",
    "\n",
    "party <- congress109Ideology$party\n",
    "party <- as.vector(party)\n",
    "\n",
    "frequent <- rep(1,length(party))\n",
    "tb <- cbind(party,cluster)\n",
    "tb <- as.data.frame(tb)\n",
    "party_r <- tb[tb$party=='R',]\n",
    "party_i <- tb[tb$party=='I',]\n",
    "party_d <- tb[tb$party=='D',]\n",
    "\n",
    "# table for party membership by K-means cluster\n",
    "dcast(tb, party ~ cluster, fun.aggregate = length)\n"
   ]
  },
  {
   "cell_type": "code",
   "execution_count": 30,
   "metadata": {
    "ExecuteTime": {
     "end_time": "2020-02-11T04:20:19.697258Z",
     "start_time": "2020-02-11T04:20:19.599Z"
    }
   },
   "outputs": [
    {
     "data": {
      "text/html": [
       "<table>\n",
       "<thead><tr><th></th><th scope=col>1</th><th scope=col>2</th><th scope=col>3</th><th scope=col>4</th><th scope=col>5</th><th scope=col>6</th><th scope=col>7</th><th scope=col>8</th><th scope=col>9</th><th scope=col>10</th></tr></thead>\n",
       "<tbody>\n",
       "\t<tr><th scope=row>gifted.talented.student</th><td>6.106580e-09</td><td>2.807175e-09</td><td>8.732176e-09</td><td>7.673126e-09</td><td>6.207497e-04</td><td>6.548186e-09</td><td>2.150572e-08</td><td>5.962403e-09</td><td>9.982102e-09</td><td>1.457420e-08</td></tr>\n",
       "\t<tr><th scope=row>national.heritage.corridor</th><td>2.469811e-05</td><td>2.816632e-09</td><td>1.358435e-08</td><td>7.124072e-09</td><td>6.763767e-09</td><td>6.690550e-04</td><td>4.208087e-09</td><td>5.807757e-09</td><td>2.098875e-08</td><td>1.147766e-08</td></tr>\n",
       "\t<tr><th scope=row>national.homeownership.month</th><td>6.111090e-05</td><td>2.815981e-09</td><td>7.789241e-07</td><td>1.189053e-08</td><td>5.637561e-04</td><td>8.839347e-09</td><td>5.132473e-09</td><td>5.842364e-09</td><td>7.791894e-09</td><td>1.332548e-08</td></tr>\n",
       "\t<tr><th scope=row>near.retirement.age</th><td>6.104929e-09</td><td>2.809295e-09</td><td>9.336011e-09</td><td>6.565172e-09</td><td>6.207766e-04</td><td>6.317829e-09</td><td>4.188501e-09</td><td>5.763409e-09</td><td>7.472261e-09</td><td>1.318285e-08</td></tr>\n",
       "\t<tr><th scope=row>personal.injury.lawyer</th><td>6.407064e-09</td><td>2.818895e-09</td><td>3.588703e-04</td><td>8.589249e-09</td><td>1.621754e-04</td><td>6.373082e-09</td><td>1.671154e-04</td><td>5.910372e-09</td><td>8.171248e-09</td><td>3.062252e-08</td></tr>\n",
       "\t<tr><th scope=row>regional.training.cent</th><td>6.213510e-09</td><td>2.817956e-09</td><td>1.135626e-08</td><td>9.789318e-09</td><td>5.648596e-09</td><td>6.316186e-09</td><td>4.482719e-09</td><td>5.762950e-09</td><td>7.665406e-09</td><td>1.200992e-03</td></tr>\n",
       "\t<tr><th scope=row>amnesty.illegal.alien</th><td>6.462072e-09</td><td>2.808122e-09</td><td>1.043081e-03</td><td>8.883476e-09</td><td>6.155901e-09</td><td>7.826542e-09</td><td>3.613237e-08</td><td>6.569559e-09</td><td>7.673465e-09</td><td>1.096336e-08</td></tr>\n",
       "\t<tr><th scope=row>arm.embargo.china</th><td>7.204933e-09</td><td>2.811310e-09</td><td>1.438524e-05</td><td>2.030847e-08</td><td>9.127400e-09</td><td>7.472811e-04</td><td>2.249177e-08</td><td>6.567333e-09</td><td>8.313699e-09</td><td>1.107165e-08</td></tr>\n",
       "\t<tr><th scope=row>flag.protection.amendment</th><td>6.714298e-09</td><td>3.038355e-09</td><td>9.563505e-04</td><td>6.550868e-05</td><td>7.321315e-09</td><td>6.703069e-09</td><td>4.879066e-09</td><td>6.190568e-09</td><td>7.642915e-09</td><td>1.797244e-08</td></tr>\n",
       "\t<tr><th scope=row>low.cost.reliable</th><td>6.930607e-09</td><td>2.811063e-09</td><td>9.283667e-09</td><td>7.843182e-09</td><td>7.916545e-09</td><td>2.068786e-05</td><td>7.771687e-09</td><td>6.227304e-09</td><td>7.517865e-09</td><td>1.274406e-03</td></tr>\n",
       "\t<tr><th scope=row>assistant.secretary.commerce</th><td>6.161912e-09</td><td>2.913145e-09</td><td>3.140081e-08</td><td>4.370295e-08</td><td>3.374246e-04</td><td>2.126886e-04</td><td>1.526575e-04</td><td>7.052376e-09</td><td>8.545884e-09</td><td>1.465870e-08</td></tr>\n",
       "\t<tr><th scope=row>human.right.body</th><td>6.665296e-09</td><td>2.812123e-09</td><td>1.215490e-08</td><td>5.977476e-04</td><td>6.503765e-09</td><td>6.631820e-09</td><td>4.273218e-09</td><td>5.783624e-09</td><td>7.565576e-09</td><td>4.245899e-04</td></tr>\n",
       "\t<tr><th scope=row>indian.art.craft</th><td>6.682354e-09</td><td>2.862145e-09</td><td>1.403114e-05</td><td>8.210221e-04</td><td>6.893892e-06</td><td>1.253957e-05</td><td>1.562210e-07</td><td>6.882550e-09</td><td>9.208494e-09</td><td>1.095613e-08</td></tr>\n",
       "\t<tr><th scope=row>nation.oil.food</th><td>7.218910e-09</td><td>2.813587e-09</td><td>1.714565e-08</td><td>8.039563e-04</td><td>4.204675e-05</td><td>8.903885e-09</td><td>2.292051e-08</td><td>5.776981e-09</td><td>7.694376e-09</td><td>2.126665e-08</td></tr>\n",
       "\t<tr><th scope=row>using.adult.stem</th><td>6.233140e-09</td><td>2.839382e-09</td><td>1.095408e-08</td><td>8.389867e-09</td><td>7.637445e-09</td><td>6.438742e-09</td><td>5.352063e-09</td><td>5.820387e-09</td><td>8.992327e-09</td><td>1.419349e-03</td></tr>\n",
       "\t<tr><th scope=row>valid.driver.license</th><td>7.794345e-09</td><td>2.849472e-09</td><td>8.380959e-04</td><td>8.205808e-09</td><td>8.033650e-09</td><td>7.046951e-09</td><td>4.698695e-09</td><td>5.814640e-09</td><td>9.001854e-09</td><td>3.667270e-04</td></tr>\n",
       "\t<tr><th scope=row>weapon.grade.plutonium</th><td>6.132749e-09</td><td>2.818881e-09</td><td>9.117948e-09</td><td>2.779315e-04</td><td>1.418338e-08</td><td>4.900006e-04</td><td>1.259782e-08</td><td>6.356560e-09</td><td>9.322752e-09</td><td>1.095991e-04</td></tr>\n",
       "\t<tr><th scope=row>marriage.protection.amendment</th><td>6.324463e-09</td><td>2.828865e-09</td><td>2.533148e-08</td><td>2.234908e-08</td><td>5.923705e-04</td><td>2.623175e-08</td><td>1.058799e-04</td><td>6.793571e-09</td><td>1.006982e-08</td><td>1.058765e-04</td></tr>\n",
       "\t<tr><th scope=row>people.middle.east</th><td>8.332801e-09</td><td>2.996373e-09</td><td>2.701245e-04</td><td>1.280712e-04</td><td>1.789308e-04</td><td>6.849634e-09</td><td>1.712376e-04</td><td>5.948899e-09</td><td>7.964296e-09</td><td>1.827254e-04</td></tr>\n",
       "\t<tr><th scope=row>produce.stem.cel</th><td>6.959429e-09</td><td>2.921027e-09</td><td>1.071229e-08</td><td>6.905155e-09</td><td>6.906569e-09</td><td>6.533568e-09</td><td>4.183748e-09</td><td>5.883142e-09</td><td>1.066589e-08</td><td>1.528532e-03</td></tr>\n",
       "\t<tr><th scope=row>united.nation.oil</th><td>7.121758e-09</td><td>2.816429e-09</td><td>1.680798e-08</td><td>8.632152e-04</td><td>4.751274e-05</td><td>8.878267e-09</td><td>1.835430e-08</td><td>5.776607e-09</td><td>7.708988e-09</td><td>2.080362e-08</td></tr>\n",
       "\t<tr><th scope=row>winning.war.iraq</th><td>6.107825e-09</td><td>3.027545e-09</td><td>1.431187e-08</td><td>9.136095e-04</td><td>4.109671e-06</td><td>6.320015e-09</td><td>4.480383e-09</td><td>5.764438e-09</td><td>7.543833e-09</td><td>1.699125e-07</td></tr>\n",
       "\t<tr><th scope=row>ayman.al.zawahiri</th><td>6.740074e-09</td><td>5.423743e-09</td><td>1.254927e-08</td><td>8.733830e-04</td><td>7.643695e-09</td><td>1.472945e-08</td><td>7.052026e-05</td><td>8.166174e-09</td><td>1.007586e-08</td><td>1.273702e-08</td></tr>\n",
       "\t<tr><th scope=row>commonly.prescribed.drug</th><td>6.192204e-09</td><td>5.955702e-09</td><td>1.369094e-05</td><td>1.344428e-08</td><td>6.775706e-09</td><td>9.372582e-04</td><td>4.207969e-09</td><td>5.780394e-09</td><td>8.129790e-09</td><td>1.210864e-08</td></tr>\n",
       "\t<tr><th scope=row>county.north.carolina</th><td>6.125420e-05</td><td>2.960374e-09</td><td>6.776385e-04</td><td>1.825934e-08</td><td>7.119491e-08</td><td>7.599326e-09</td><td>4.521979e-09</td><td>5.795389e-09</td><td>7.573690e-09</td><td>6.768966e-04</td></tr>\n",
       "\t<tr><th scope=row>feder.air.marshal</th><td>6.467059e-09</td><td>2.819765e-09</td><td>1.211962e-03</td><td>1.253711e-05</td><td>7.276090e-09</td><td>6.813109e-09</td><td>3.624343e-05</td><td>5.933623e-09</td><td>7.929982e-09</td><td>1.882189e-08</td></tr>\n",
       "\t<tr><th scope=row>financial.accounting.standard</th><td>6.417759e-09</td><td>2.833379e-09</td><td>8.157394e-08</td><td>2.071215e-08</td><td>8.265775e-09</td><td>6.323793e-09</td><td>4.185488e-09</td><td>5.868777e-09</td><td>1.119714e-03</td><td>1.113392e-08</td></tr>\n",
       "\t<tr><th scope=row>ga.price.reduction</th><td>6.403785e-09</td><td>2.807072e-09</td><td>1.028383e-08</td><td>6.792586e-09</td><td>5.933109e-09</td><td>7.190560e-09</td><td>2.571686e-08</td><td>5.924859e-09</td><td>7.585386e-09</td><td>1.637665e-03</td></tr>\n",
       "\t<tr><th scope=row>sanctity.human.life</th><td>6.666284e-09</td><td>3.189474e-09</td><td>5.560460e-07</td><td>6.257211e-04</td><td>9.873459e-09</td><td>6.944659e-09</td><td>9.397890e-05</td><td>6.473352e-09</td><td>9.455083e-09</td><td>3.502390e-04</td></tr>\n",
       "\t<tr><th scope=row>united.airline.employe</th><td>7.933519e-09</td><td>4.209660e-04</td><td>9.035910e-09</td><td>6.821420e-09</td><td>5.834069e-09</td><td>6.590807e-09</td><td>4.674008e-09</td><td>6.562528e-09</td><td>1.033518e-08</td><td>1.328946e-08</td></tr>\n",
       "\t<tr><th scope=row>...</th><td>...</td><td>...</td><td>...</td><td>...</td><td>...</td><td>...</td><td>...</td><td>...</td><td>...</td><td>...</td></tr>\n",
       "\t<tr><th scope=row>nuclear.weapon</th><td>3.287822e-08</td><td>5.862558e-04</td><td>1.944790e-08</td><td>1.713941e-02</td><td>2.526388e-08</td><td>4.305962e-08</td><td>1.970838e-05</td><td>1.983260e-02</td><td>1.292501e-02</td><td>3.161199e-03</td></tr>\n",
       "\t<tr><th scope=row>war.terror</th><td>1.511162e-04</td><td>7.578580e-07</td><td>9.857716e-04</td><td>3.635154e-02</td><td>4.760582e-03</td><td>4.706979e-08</td><td>4.820306e-03</td><td>2.526162e-03</td><td>1.665658e-03</td><td>7.881874e-04</td></tr>\n",
       "\t<tr><th scope=row>chief.justice</th><td>1.744230e-08</td><td>8.949875e-09</td><td>8.132208e-03</td><td>2.226083e-04</td><td>9.481648e-07</td><td>8.281870e-04</td><td>3.063573e-02</td><td>1.572434e-08</td><td>2.331435e-07</td><td>5.370631e-08</td></tr>\n",
       "\t<tr><th scope=row>judicial.nomine</th><td>1.212135e-08</td><td>3.844849e-05</td><td>1.808827e-08</td><td>3.023997e-07</td><td>6.932372e-08</td><td>3.761644e-08</td><td>3.606240e-02</td><td>2.388590e-07</td><td>1.389753e-04</td><td>1.192156e-06</td></tr>\n",
       "\t<tr><th scope=row>washington.dc</th><td>3.374874e-03</td><td>4.982609e-03</td><td>6.914168e-03</td><td>6.989895e-03</td><td>6.279227e-03</td><td>1.474788e-02</td><td>4.088196e-03</td><td>1.533255e-04</td><td>6.228105e-04</td><td>7.036323e-04</td></tr>\n",
       "\t<tr><th scope=row>war.iraq</th><td>4.563402e-03</td><td>1.373473e-02</td><td>2.835885e-07</td><td>2.052721e-02</td><td>1.459933e-04</td><td>5.775141e-08</td><td>6.541420e-05</td><td>1.767616e-03</td><td>6.286351e-06</td><td>2.241414e-08</td></tr>\n",
       "\t<tr><th scope=row>central.american</th><td>1.572051e-08</td><td>2.676000e-07</td><td>4.917433e-06</td><td>1.543880e-05</td><td>2.033049e-08</td><td>2.133066e-04</td><td>1.934949e-03</td><td>8.934912e-07</td><td>6.472487e-02</td><td>3.335849e-08</td></tr>\n",
       "\t<tr><th scope=row>head.start</th><td>4.033740e-02</td><td>1.753742e-03</td><td>3.269862e-08</td><td>3.471820e-08</td><td>3.669222e-04</td><td>1.782649e-04</td><td>4.219641e-08</td><td>8.888126e-03</td><td>1.000226e-05</td><td>6.627038e-03</td></tr>\n",
       "\t<tr><th scope=row>trade.deficit</th><td>3.591161e-08</td><td>6.130559e-08</td><td>1.993341e-05</td><td>2.867804e-06</td><td>2.775329e-08</td><td>3.224421e-03</td><td>1.195182e-03</td><td>1.664234e-04</td><td>6.441241e-02</td><td>2.567735e-04</td></tr>\n",
       "\t<tr><th scope=row>national.guard</th><td>2.846286e-03</td><td>5.693789e-03</td><td>2.310223e-04</td><td>2.442674e-02</td><td>1.823941e-03</td><td>2.541497e-03</td><td>5.937985e-03</td><td>5.170632e-03</td><td>1.574983e-03</td><td>2.567728e-08</td></tr>\n",
       "\t<tr><th scope=row>credit.card</th><td>2.231049e-08</td><td>5.075301e-03</td><td>3.075186e-04</td><td>7.354008e-08</td><td>1.198334e-03</td><td>1.709142e-08</td><td>7.787106e-03</td><td>3.535224e-02</td><td>2.707087e-05</td><td>2.191287e-08</td></tr>\n",
       "\t<tr><th scope=row>iraq.afghanistan</th><td>5.505669e-08</td><td>1.126456e-02</td><td>1.104762e-04</td><td>2.769150e-02</td><td>7.928274e-04</td><td>1.582460e-03</td><td>2.757930e-03</td><td>6.040245e-03</td><td>4.707780e-04</td><td>3.023771e-08</td></tr>\n",
       "\t<tr><th scope=row>minimum.wage</th><td>9.867113e-04</td><td>1.179756e-03</td><td>1.676643e-08</td><td>1.196623e-08</td><td>1.399367e-08</td><td>1.186137e-08</td><td>2.643796e-03</td><td>5.378445e-02</td><td>7.339925e-04</td><td>1.613835e-08</td></tr>\n",
       "\t<tr><th scope=row>strong.support</th><td>2.073770e-02</td><td>8.968183e-04</td><td>2.591993e-02</td><td>1.627064e-02</td><td>4.705341e-03</td><td>2.133998e-03</td><td>2.070142e-04</td><td>8.798751e-04</td><td>6.570639e-06</td><td>5.734701e-03</td></tr>\n",
       "\t<tr><th scope=row>gulf.coast</th><td>2.136451e-02</td><td>5.764092e-03</td><td>2.897435e-03</td><td>1.587384e-02</td><td>7.781763e-03</td><td>4.001958e-03</td><td>2.486532e-03</td><td>4.553310e-03</td><td>3.283562e-04</td><td>2.739479e-08</td></tr>\n",
       "\t<tr><th scope=row>billion.dollar</th><td>7.425705e-03</td><td>1.270259e-02</td><td>2.056508e-03</td><td>9.546386e-03</td><td>6.855608e-03</td><td>7.694886e-03</td><td>1.867587e-03</td><td>1.956935e-03</td><td>7.636645e-03</td><td>1.990511e-03</td></tr>\n",
       "\t<tr><th scope=row>million.american</th><td>1.273121e-02</td><td>7.842597e-03</td><td>8.348324e-03</td><td>2.077982e-03</td><td>6.387228e-03</td><td>6.216363e-03</td><td>4.910971e-03</td><td>1.360062e-02</td><td>4.933738e-03</td><td>2.935860e-03</td></tr>\n",
       "\t<tr><th scope=row>fre.trade</th><td>1.842510e-08</td><td>1.048940e-08</td><td>2.061899e-03</td><td>1.790605e-03</td><td>4.631118e-07</td><td>6.982846e-04</td><td>4.297348e-03</td><td>2.945310e-08</td><td>8.331952e-02</td><td>1.702692e-06</td></tr>\n",
       "\t<tr><th scope=row>african.american</th><td>6.311132e-02</td><td>1.905974e-06</td><td>4.926014e-07</td><td>3.629658e-04</td><td>3.398476e-06</td><td>1.772413e-03</td><td>1.081177e-02</td><td>9.361895e-08</td><td>5.474354e-04</td><td>3.983859e-08</td></tr>\n",
       "\t<tr><th scope=row>low.income</th><td>1.406667e-02</td><td>3.527559e-03</td><td>3.867532e-08</td><td>1.909632e-08</td><td>1.686206e-02</td><td>1.524457e-02</td><td>1.410529e-03</td><td>2.326439e-02</td><td>2.866164e-03</td><td>8.253039e-04</td></tr>\n",
       "\t<tr><th scope=row>prescription.drug</th><td>3.184578e-08</td><td>1.907865e-02</td><td>5.702191e-05</td><td>1.555578e-08</td><td>1.432678e-02</td><td>1.399206e-02</td><td>6.368482e-03</td><td>2.183322e-04</td><td>5.448070e-03</td><td>1.042127e-04</td></tr>\n",
       "\t<tr><th scope=row>class.action</th><td>1.203818e-08</td><td>6.056913e-09</td><td>3.577466e-02</td><td>1.371112e-08</td><td>3.892926e-03</td><td>3.505266e-08</td><td>3.934334e-02</td><td>3.593330e-04</td><td>1.063378e-08</td><td>1.780035e-08</td></tr>\n",
       "\t<tr><th scope=row>civil.right</th><td>4.609326e-02</td><td>3.835761e-04</td><td>2.448509e-03</td><td>5.408146e-08</td><td>2.163890e-08</td><td>2.015221e-03</td><td>1.635095e-02</td><td>1.278408e-02</td><td>6.540227e-04</td><td>4.729346e-08</td></tr>\n",
       "\t<tr><th scope=row>look.forward</th><td>8.162086e-03</td><td>2.557946e-03</td><td>1.223362e-02</td><td>1.473526e-02</td><td>1.198138e-02</td><td>1.665298e-02</td><td>1.703090e-02</td><td>8.202935e-03</td><td>7.911075e-05</td><td>1.400356e-03</td></tr>\n",
       "\t<tr><th scope=row>stem.cel</th><td>1.282452e-08</td><td>8.719621e-09</td><td>1.411908e-08</td><td>9.809679e-09</td><td>9.418522e-09</td><td>8.634872e-09</td><td>7.559863e-07</td><td>3.681859e-08</td><td>4.516508e-08</td><td>1.854964e-01</td></tr>\n",
       "\t<tr><th scope=row>natural.ga</th><td>1.720164e-08</td><td>8.247484e-04</td><td>6.154477e-08</td><td>1.605545e-07</td><td>3.170689e-08</td><td>4.599072e-02</td><td>7.419244e-04</td><td>1.811894e-03</td><td>5.074089e-04</td><td>1.068116e-01</td></tr>\n",
       "\t<tr><th scope=row>hurricane.katrina</th><td>2.751108e-02</td><td>1.633351e-02</td><td>1.746444e-02</td><td>1.059758e-02</td><td>1.018478e-02</td><td>1.000009e-02</td><td>3.827309e-03</td><td>8.350476e-03</td><td>3.676112e-03</td><td>1.088477e-05</td></tr>\n",
       "\t<tr><th scope=row>trade.agreement</th><td>2.669439e-08</td><td>2.823227e-04</td><td>1.253786e-04</td><td>1.107865e-04</td><td>2.839125e-08</td><td>1.417790e-03</td><td>6.235477e-03</td><td>5.827842e-07</td><td>1.600680e-01</td><td>3.088630e-08</td></tr>\n",
       "\t<tr><th scope=row>appropriation.bil</th><td>1.005185e-04</td><td>1.105010e-02</td><td>6.930070e-03</td><td>4.333898e-02</td><td>9.549849e-03</td><td>1.700082e-02</td><td>2.538670e-02</td><td>8.688182e-03</td><td>1.821706e-03</td><td>2.921838e-05</td></tr>\n",
       "\t<tr><th scope=row>american.people</th><td>1.252622e-02</td><td>7.655936e-02</td><td>2.976355e-02</td><td>5.917094e-02</td><td>3.458721e-02</td><td>4.113964e-03</td><td>3.967682e-02</td><td>1.132044e-02</td><td>1.484580e-02</td><td>6.090931e-03</td></tr>\n",
       "</tbody>\n",
       "</table>\n"
      ],
      "text/latex": [
       "\\begin{tabular}{r|llllllllll}\n",
       "  & 1 & 2 & 3 & 4 & 5 & 6 & 7 & 8 & 9 & 10\\\\\n",
       "\\hline\n",
       "\tgifted.talented.student & 6.106580e-09 & 2.807175e-09 & 8.732176e-09 & 7.673126e-09 & 6.207497e-04 & 6.548186e-09 & 2.150572e-08 & 5.962403e-09 & 9.982102e-09 & 1.457420e-08\\\\\n",
       "\tnational.heritage.corridor & 2.469811e-05 & 2.816632e-09 & 1.358435e-08 & 7.124072e-09 & 6.763767e-09 & 6.690550e-04 & 4.208087e-09 & 5.807757e-09 & 2.098875e-08 & 1.147766e-08\\\\\n",
       "\tnational.homeownership.month & 6.111090e-05 & 2.815981e-09 & 7.789241e-07 & 1.189053e-08 & 5.637561e-04 & 8.839347e-09 & 5.132473e-09 & 5.842364e-09 & 7.791894e-09 & 1.332548e-08\\\\\n",
       "\tnear.retirement.age & 6.104929e-09 & 2.809295e-09 & 9.336011e-09 & 6.565172e-09 & 6.207766e-04 & 6.317829e-09 & 4.188501e-09 & 5.763409e-09 & 7.472261e-09 & 1.318285e-08\\\\\n",
       "\tpersonal.injury.lawyer & 6.407064e-09 & 2.818895e-09 & 3.588703e-04 & 8.589249e-09 & 1.621754e-04 & 6.373082e-09 & 1.671154e-04 & 5.910372e-09 & 8.171248e-09 & 3.062252e-08\\\\\n",
       "\tregional.training.cent & 6.213510e-09 & 2.817956e-09 & 1.135626e-08 & 9.789318e-09 & 5.648596e-09 & 6.316186e-09 & 4.482719e-09 & 5.762950e-09 & 7.665406e-09 & 1.200992e-03\\\\\n",
       "\tamnesty.illegal.alien & 6.462072e-09 & 2.808122e-09 & 1.043081e-03 & 8.883476e-09 & 6.155901e-09 & 7.826542e-09 & 3.613237e-08 & 6.569559e-09 & 7.673465e-09 & 1.096336e-08\\\\\n",
       "\tarm.embargo.china & 7.204933e-09 & 2.811310e-09 & 1.438524e-05 & 2.030847e-08 & 9.127400e-09 & 7.472811e-04 & 2.249177e-08 & 6.567333e-09 & 8.313699e-09 & 1.107165e-08\\\\\n",
       "\tflag.protection.amendment & 6.714298e-09 & 3.038355e-09 & 9.563505e-04 & 6.550868e-05 & 7.321315e-09 & 6.703069e-09 & 4.879066e-09 & 6.190568e-09 & 7.642915e-09 & 1.797244e-08\\\\\n",
       "\tlow.cost.reliable & 6.930607e-09 & 2.811063e-09 & 9.283667e-09 & 7.843182e-09 & 7.916545e-09 & 2.068786e-05 & 7.771687e-09 & 6.227304e-09 & 7.517865e-09 & 1.274406e-03\\\\\n",
       "\tassistant.secretary.commerce & 6.161912e-09 & 2.913145e-09 & 3.140081e-08 & 4.370295e-08 & 3.374246e-04 & 2.126886e-04 & 1.526575e-04 & 7.052376e-09 & 8.545884e-09 & 1.465870e-08\\\\\n",
       "\thuman.right.body & 6.665296e-09 & 2.812123e-09 & 1.215490e-08 & 5.977476e-04 & 6.503765e-09 & 6.631820e-09 & 4.273218e-09 & 5.783624e-09 & 7.565576e-09 & 4.245899e-04\\\\\n",
       "\tindian.art.craft & 6.682354e-09 & 2.862145e-09 & 1.403114e-05 & 8.210221e-04 & 6.893892e-06 & 1.253957e-05 & 1.562210e-07 & 6.882550e-09 & 9.208494e-09 & 1.095613e-08\\\\\n",
       "\tnation.oil.food & 7.218910e-09 & 2.813587e-09 & 1.714565e-08 & 8.039563e-04 & 4.204675e-05 & 8.903885e-09 & 2.292051e-08 & 5.776981e-09 & 7.694376e-09 & 2.126665e-08\\\\\n",
       "\tusing.adult.stem & 6.233140e-09 & 2.839382e-09 & 1.095408e-08 & 8.389867e-09 & 7.637445e-09 & 6.438742e-09 & 5.352063e-09 & 5.820387e-09 & 8.992327e-09 & 1.419349e-03\\\\\n",
       "\tvalid.driver.license & 7.794345e-09 & 2.849472e-09 & 8.380959e-04 & 8.205808e-09 & 8.033650e-09 & 7.046951e-09 & 4.698695e-09 & 5.814640e-09 & 9.001854e-09 & 3.667270e-04\\\\\n",
       "\tweapon.grade.plutonium & 6.132749e-09 & 2.818881e-09 & 9.117948e-09 & 2.779315e-04 & 1.418338e-08 & 4.900006e-04 & 1.259782e-08 & 6.356560e-09 & 9.322752e-09 & 1.095991e-04\\\\\n",
       "\tmarriage.protection.amendment & 6.324463e-09 & 2.828865e-09 & 2.533148e-08 & 2.234908e-08 & 5.923705e-04 & 2.623175e-08 & 1.058799e-04 & 6.793571e-09 & 1.006982e-08 & 1.058765e-04\\\\\n",
       "\tpeople.middle.east & 8.332801e-09 & 2.996373e-09 & 2.701245e-04 & 1.280712e-04 & 1.789308e-04 & 6.849634e-09 & 1.712376e-04 & 5.948899e-09 & 7.964296e-09 & 1.827254e-04\\\\\n",
       "\tproduce.stem.cel & 6.959429e-09 & 2.921027e-09 & 1.071229e-08 & 6.905155e-09 & 6.906569e-09 & 6.533568e-09 & 4.183748e-09 & 5.883142e-09 & 1.066589e-08 & 1.528532e-03\\\\\n",
       "\tunited.nation.oil & 7.121758e-09 & 2.816429e-09 & 1.680798e-08 & 8.632152e-04 & 4.751274e-05 & 8.878267e-09 & 1.835430e-08 & 5.776607e-09 & 7.708988e-09 & 2.080362e-08\\\\\n",
       "\twinning.war.iraq & 6.107825e-09 & 3.027545e-09 & 1.431187e-08 & 9.136095e-04 & 4.109671e-06 & 6.320015e-09 & 4.480383e-09 & 5.764438e-09 & 7.543833e-09 & 1.699125e-07\\\\\n",
       "\tayman.al.zawahiri & 6.740074e-09 & 5.423743e-09 & 1.254927e-08 & 8.733830e-04 & 7.643695e-09 & 1.472945e-08 & 7.052026e-05 & 8.166174e-09 & 1.007586e-08 & 1.273702e-08\\\\\n",
       "\tcommonly.prescribed.drug & 6.192204e-09 & 5.955702e-09 & 1.369094e-05 & 1.344428e-08 & 6.775706e-09 & 9.372582e-04 & 4.207969e-09 & 5.780394e-09 & 8.129790e-09 & 1.210864e-08\\\\\n",
       "\tcounty.north.carolina & 6.125420e-05 & 2.960374e-09 & 6.776385e-04 & 1.825934e-08 & 7.119491e-08 & 7.599326e-09 & 4.521979e-09 & 5.795389e-09 & 7.573690e-09 & 6.768966e-04\\\\\n",
       "\tfeder.air.marshal & 6.467059e-09 & 2.819765e-09 & 1.211962e-03 & 1.253711e-05 & 7.276090e-09 & 6.813109e-09 & 3.624343e-05 & 5.933623e-09 & 7.929982e-09 & 1.882189e-08\\\\\n",
       "\tfinancial.accounting.standard & 6.417759e-09 & 2.833379e-09 & 8.157394e-08 & 2.071215e-08 & 8.265775e-09 & 6.323793e-09 & 4.185488e-09 & 5.868777e-09 & 1.119714e-03 & 1.113392e-08\\\\\n",
       "\tga.price.reduction & 6.403785e-09 & 2.807072e-09 & 1.028383e-08 & 6.792586e-09 & 5.933109e-09 & 7.190560e-09 & 2.571686e-08 & 5.924859e-09 & 7.585386e-09 & 1.637665e-03\\\\\n",
       "\tsanctity.human.life & 6.666284e-09 & 3.189474e-09 & 5.560460e-07 & 6.257211e-04 & 9.873459e-09 & 6.944659e-09 & 9.397890e-05 & 6.473352e-09 & 9.455083e-09 & 3.502390e-04\\\\\n",
       "\tunited.airline.employe & 7.933519e-09 & 4.209660e-04 & 9.035910e-09 & 6.821420e-09 & 5.834069e-09 & 6.590807e-09 & 4.674008e-09 & 6.562528e-09 & 1.033518e-08 & 1.328946e-08\\\\\n",
       "\t... & ... & ... & ... & ... & ... & ... & ... & ... & ... & ...\\\\\n",
       "\tnuclear.weapon & 3.287822e-08 & 5.862558e-04 & 1.944790e-08 & 1.713941e-02 & 2.526388e-08 & 4.305962e-08 & 1.970838e-05 & 1.983260e-02 & 1.292501e-02 & 3.161199e-03\\\\\n",
       "\twar.terror & 1.511162e-04 & 7.578580e-07 & 9.857716e-04 & 3.635154e-02 & 4.760582e-03 & 4.706979e-08 & 4.820306e-03 & 2.526162e-03 & 1.665658e-03 & 7.881874e-04\\\\\n",
       "\tchief.justice & 1.744230e-08 & 8.949875e-09 & 8.132208e-03 & 2.226083e-04 & 9.481648e-07 & 8.281870e-04 & 3.063573e-02 & 1.572434e-08 & 2.331435e-07 & 5.370631e-08\\\\\n",
       "\tjudicial.nomine & 1.212135e-08 & 3.844849e-05 & 1.808827e-08 & 3.023997e-07 & 6.932372e-08 & 3.761644e-08 & 3.606240e-02 & 2.388590e-07 & 1.389753e-04 & 1.192156e-06\\\\\n",
       "\twashington.dc & 3.374874e-03 & 4.982609e-03 & 6.914168e-03 & 6.989895e-03 & 6.279227e-03 & 1.474788e-02 & 4.088196e-03 & 1.533255e-04 & 6.228105e-04 & 7.036323e-04\\\\\n",
       "\twar.iraq & 4.563402e-03 & 1.373473e-02 & 2.835885e-07 & 2.052721e-02 & 1.459933e-04 & 5.775141e-08 & 6.541420e-05 & 1.767616e-03 & 6.286351e-06 & 2.241414e-08\\\\\n",
       "\tcentral.american & 1.572051e-08 & 2.676000e-07 & 4.917433e-06 & 1.543880e-05 & 2.033049e-08 & 2.133066e-04 & 1.934949e-03 & 8.934912e-07 & 6.472487e-02 & 3.335849e-08\\\\\n",
       "\thead.start & 4.033740e-02 & 1.753742e-03 & 3.269862e-08 & 3.471820e-08 & 3.669222e-04 & 1.782649e-04 & 4.219641e-08 & 8.888126e-03 & 1.000226e-05 & 6.627038e-03\\\\\n",
       "\ttrade.deficit & 3.591161e-08 & 6.130559e-08 & 1.993341e-05 & 2.867804e-06 & 2.775329e-08 & 3.224421e-03 & 1.195182e-03 & 1.664234e-04 & 6.441241e-02 & 2.567735e-04\\\\\n",
       "\tnational.guard & 2.846286e-03 & 5.693789e-03 & 2.310223e-04 & 2.442674e-02 & 1.823941e-03 & 2.541497e-03 & 5.937985e-03 & 5.170632e-03 & 1.574983e-03 & 2.567728e-08\\\\\n",
       "\tcredit.card & 2.231049e-08 & 5.075301e-03 & 3.075186e-04 & 7.354008e-08 & 1.198334e-03 & 1.709142e-08 & 7.787106e-03 & 3.535224e-02 & 2.707087e-05 & 2.191287e-08\\\\\n",
       "\tiraq.afghanistan & 5.505669e-08 & 1.126456e-02 & 1.104762e-04 & 2.769150e-02 & 7.928274e-04 & 1.582460e-03 & 2.757930e-03 & 6.040245e-03 & 4.707780e-04 & 3.023771e-08\\\\\n",
       "\tminimum.wage & 9.867113e-04 & 1.179756e-03 & 1.676643e-08 & 1.196623e-08 & 1.399367e-08 & 1.186137e-08 & 2.643796e-03 & 5.378445e-02 & 7.339925e-04 & 1.613835e-08\\\\\n",
       "\tstrong.support & 2.073770e-02 & 8.968183e-04 & 2.591993e-02 & 1.627064e-02 & 4.705341e-03 & 2.133998e-03 & 2.070142e-04 & 8.798751e-04 & 6.570639e-06 & 5.734701e-03\\\\\n",
       "\tgulf.coast & 2.136451e-02 & 5.764092e-03 & 2.897435e-03 & 1.587384e-02 & 7.781763e-03 & 4.001958e-03 & 2.486532e-03 & 4.553310e-03 & 3.283562e-04 & 2.739479e-08\\\\\n",
       "\tbillion.dollar & 7.425705e-03 & 1.270259e-02 & 2.056508e-03 & 9.546386e-03 & 6.855608e-03 & 7.694886e-03 & 1.867587e-03 & 1.956935e-03 & 7.636645e-03 & 1.990511e-03\\\\\n",
       "\tmillion.american & 1.273121e-02 & 7.842597e-03 & 8.348324e-03 & 2.077982e-03 & 6.387228e-03 & 6.216363e-03 & 4.910971e-03 & 1.360062e-02 & 4.933738e-03 & 2.935860e-03\\\\\n",
       "\tfre.trade & 1.842510e-08 & 1.048940e-08 & 2.061899e-03 & 1.790605e-03 & 4.631118e-07 & 6.982846e-04 & 4.297348e-03 & 2.945310e-08 & 8.331952e-02 & 1.702692e-06\\\\\n",
       "\tafrican.american & 6.311132e-02 & 1.905974e-06 & 4.926014e-07 & 3.629658e-04 & 3.398476e-06 & 1.772413e-03 & 1.081177e-02 & 9.361895e-08 & 5.474354e-04 & 3.983859e-08\\\\\n",
       "\tlow.income & 1.406667e-02 & 3.527559e-03 & 3.867532e-08 & 1.909632e-08 & 1.686206e-02 & 1.524457e-02 & 1.410529e-03 & 2.326439e-02 & 2.866164e-03 & 8.253039e-04\\\\\n",
       "\tprescription.drug & 3.184578e-08 & 1.907865e-02 & 5.702191e-05 & 1.555578e-08 & 1.432678e-02 & 1.399206e-02 & 6.368482e-03 & 2.183322e-04 & 5.448070e-03 & 1.042127e-04\\\\\n",
       "\tclass.action & 1.203818e-08 & 6.056913e-09 & 3.577466e-02 & 1.371112e-08 & 3.892926e-03 & 3.505266e-08 & 3.934334e-02 & 3.593330e-04 & 1.063378e-08 & 1.780035e-08\\\\\n",
       "\tcivil.right & 4.609326e-02 & 3.835761e-04 & 2.448509e-03 & 5.408146e-08 & 2.163890e-08 & 2.015221e-03 & 1.635095e-02 & 1.278408e-02 & 6.540227e-04 & 4.729346e-08\\\\\n",
       "\tlook.forward & 8.162086e-03 & 2.557946e-03 & 1.223362e-02 & 1.473526e-02 & 1.198138e-02 & 1.665298e-02 & 1.703090e-02 & 8.202935e-03 & 7.911075e-05 & 1.400356e-03\\\\\n",
       "\tstem.cel & 1.282452e-08 & 8.719621e-09 & 1.411908e-08 & 9.809679e-09 & 9.418522e-09 & 8.634872e-09 & 7.559863e-07 & 3.681859e-08 & 4.516508e-08 & 1.854964e-01\\\\\n",
       "\tnatural.ga & 1.720164e-08 & 8.247484e-04 & 6.154477e-08 & 1.605545e-07 & 3.170689e-08 & 4.599072e-02 & 7.419244e-04 & 1.811894e-03 & 5.074089e-04 & 1.068116e-01\\\\\n",
       "\thurricane.katrina & 2.751108e-02 & 1.633351e-02 & 1.746444e-02 & 1.059758e-02 & 1.018478e-02 & 1.000009e-02 & 3.827309e-03 & 8.350476e-03 & 3.676112e-03 & 1.088477e-05\\\\\n",
       "\ttrade.agreement & 2.669439e-08 & 2.823227e-04 & 1.253786e-04 & 1.107865e-04 & 2.839125e-08 & 1.417790e-03 & 6.235477e-03 & 5.827842e-07 & 1.600680e-01 & 3.088630e-08\\\\\n",
       "\tappropriation.bil & 1.005185e-04 & 1.105010e-02 & 6.930070e-03 & 4.333898e-02 & 9.549849e-03 & 1.700082e-02 & 2.538670e-02 & 8.688182e-03 & 1.821706e-03 & 2.921838e-05\\\\\n",
       "\tamerican.people & 1.252622e-02 & 7.655936e-02 & 2.976355e-02 & 5.917094e-02 & 3.458721e-02 & 4.113964e-03 & 3.967682e-02 & 1.132044e-02 & 1.484580e-02 & 6.090931e-03\\\\\n",
       "\\end{tabular}\n"
      ],
      "text/markdown": [
       "\n",
       "| <!--/--> | 1 | 2 | 3 | 4 | 5 | 6 | 7 | 8 | 9 | 10 |\n",
       "|---|---|---|---|---|---|---|---|---|---|---|\n",
       "| gifted.talented.student | 6.106580e-09 | 2.807175e-09 | 8.732176e-09 | 7.673126e-09 | 6.207497e-04 | 6.548186e-09 | 2.150572e-08 | 5.962403e-09 | 9.982102e-09 | 1.457420e-08 |\n",
       "| national.heritage.corridor | 2.469811e-05 | 2.816632e-09 | 1.358435e-08 | 7.124072e-09 | 6.763767e-09 | 6.690550e-04 | 4.208087e-09 | 5.807757e-09 | 2.098875e-08 | 1.147766e-08 |\n",
       "| national.homeownership.month | 6.111090e-05 | 2.815981e-09 | 7.789241e-07 | 1.189053e-08 | 5.637561e-04 | 8.839347e-09 | 5.132473e-09 | 5.842364e-09 | 7.791894e-09 | 1.332548e-08 |\n",
       "| near.retirement.age | 6.104929e-09 | 2.809295e-09 | 9.336011e-09 | 6.565172e-09 | 6.207766e-04 | 6.317829e-09 | 4.188501e-09 | 5.763409e-09 | 7.472261e-09 | 1.318285e-08 |\n",
       "| personal.injury.lawyer | 6.407064e-09 | 2.818895e-09 | 3.588703e-04 | 8.589249e-09 | 1.621754e-04 | 6.373082e-09 | 1.671154e-04 | 5.910372e-09 | 8.171248e-09 | 3.062252e-08 |\n",
       "| regional.training.cent | 6.213510e-09 | 2.817956e-09 | 1.135626e-08 | 9.789318e-09 | 5.648596e-09 | 6.316186e-09 | 4.482719e-09 | 5.762950e-09 | 7.665406e-09 | 1.200992e-03 |\n",
       "| amnesty.illegal.alien | 6.462072e-09 | 2.808122e-09 | 1.043081e-03 | 8.883476e-09 | 6.155901e-09 | 7.826542e-09 | 3.613237e-08 | 6.569559e-09 | 7.673465e-09 | 1.096336e-08 |\n",
       "| arm.embargo.china | 7.204933e-09 | 2.811310e-09 | 1.438524e-05 | 2.030847e-08 | 9.127400e-09 | 7.472811e-04 | 2.249177e-08 | 6.567333e-09 | 8.313699e-09 | 1.107165e-08 |\n",
       "| flag.protection.amendment | 6.714298e-09 | 3.038355e-09 | 9.563505e-04 | 6.550868e-05 | 7.321315e-09 | 6.703069e-09 | 4.879066e-09 | 6.190568e-09 | 7.642915e-09 | 1.797244e-08 |\n",
       "| low.cost.reliable | 6.930607e-09 | 2.811063e-09 | 9.283667e-09 | 7.843182e-09 | 7.916545e-09 | 2.068786e-05 | 7.771687e-09 | 6.227304e-09 | 7.517865e-09 | 1.274406e-03 |\n",
       "| assistant.secretary.commerce | 6.161912e-09 | 2.913145e-09 | 3.140081e-08 | 4.370295e-08 | 3.374246e-04 | 2.126886e-04 | 1.526575e-04 | 7.052376e-09 | 8.545884e-09 | 1.465870e-08 |\n",
       "| human.right.body | 6.665296e-09 | 2.812123e-09 | 1.215490e-08 | 5.977476e-04 | 6.503765e-09 | 6.631820e-09 | 4.273218e-09 | 5.783624e-09 | 7.565576e-09 | 4.245899e-04 |\n",
       "| indian.art.craft | 6.682354e-09 | 2.862145e-09 | 1.403114e-05 | 8.210221e-04 | 6.893892e-06 | 1.253957e-05 | 1.562210e-07 | 6.882550e-09 | 9.208494e-09 | 1.095613e-08 |\n",
       "| nation.oil.food | 7.218910e-09 | 2.813587e-09 | 1.714565e-08 | 8.039563e-04 | 4.204675e-05 | 8.903885e-09 | 2.292051e-08 | 5.776981e-09 | 7.694376e-09 | 2.126665e-08 |\n",
       "| using.adult.stem | 6.233140e-09 | 2.839382e-09 | 1.095408e-08 | 8.389867e-09 | 7.637445e-09 | 6.438742e-09 | 5.352063e-09 | 5.820387e-09 | 8.992327e-09 | 1.419349e-03 |\n",
       "| valid.driver.license | 7.794345e-09 | 2.849472e-09 | 8.380959e-04 | 8.205808e-09 | 8.033650e-09 | 7.046951e-09 | 4.698695e-09 | 5.814640e-09 | 9.001854e-09 | 3.667270e-04 |\n",
       "| weapon.grade.plutonium | 6.132749e-09 | 2.818881e-09 | 9.117948e-09 | 2.779315e-04 | 1.418338e-08 | 4.900006e-04 | 1.259782e-08 | 6.356560e-09 | 9.322752e-09 | 1.095991e-04 |\n",
       "| marriage.protection.amendment | 6.324463e-09 | 2.828865e-09 | 2.533148e-08 | 2.234908e-08 | 5.923705e-04 | 2.623175e-08 | 1.058799e-04 | 6.793571e-09 | 1.006982e-08 | 1.058765e-04 |\n",
       "| people.middle.east | 8.332801e-09 | 2.996373e-09 | 2.701245e-04 | 1.280712e-04 | 1.789308e-04 | 6.849634e-09 | 1.712376e-04 | 5.948899e-09 | 7.964296e-09 | 1.827254e-04 |\n",
       "| produce.stem.cel | 6.959429e-09 | 2.921027e-09 | 1.071229e-08 | 6.905155e-09 | 6.906569e-09 | 6.533568e-09 | 4.183748e-09 | 5.883142e-09 | 1.066589e-08 | 1.528532e-03 |\n",
       "| united.nation.oil | 7.121758e-09 | 2.816429e-09 | 1.680798e-08 | 8.632152e-04 | 4.751274e-05 | 8.878267e-09 | 1.835430e-08 | 5.776607e-09 | 7.708988e-09 | 2.080362e-08 |\n",
       "| winning.war.iraq | 6.107825e-09 | 3.027545e-09 | 1.431187e-08 | 9.136095e-04 | 4.109671e-06 | 6.320015e-09 | 4.480383e-09 | 5.764438e-09 | 7.543833e-09 | 1.699125e-07 |\n",
       "| ayman.al.zawahiri | 6.740074e-09 | 5.423743e-09 | 1.254927e-08 | 8.733830e-04 | 7.643695e-09 | 1.472945e-08 | 7.052026e-05 | 8.166174e-09 | 1.007586e-08 | 1.273702e-08 |\n",
       "| commonly.prescribed.drug | 6.192204e-09 | 5.955702e-09 | 1.369094e-05 | 1.344428e-08 | 6.775706e-09 | 9.372582e-04 | 4.207969e-09 | 5.780394e-09 | 8.129790e-09 | 1.210864e-08 |\n",
       "| county.north.carolina | 6.125420e-05 | 2.960374e-09 | 6.776385e-04 | 1.825934e-08 | 7.119491e-08 | 7.599326e-09 | 4.521979e-09 | 5.795389e-09 | 7.573690e-09 | 6.768966e-04 |\n",
       "| feder.air.marshal | 6.467059e-09 | 2.819765e-09 | 1.211962e-03 | 1.253711e-05 | 7.276090e-09 | 6.813109e-09 | 3.624343e-05 | 5.933623e-09 | 7.929982e-09 | 1.882189e-08 |\n",
       "| financial.accounting.standard | 6.417759e-09 | 2.833379e-09 | 8.157394e-08 | 2.071215e-08 | 8.265775e-09 | 6.323793e-09 | 4.185488e-09 | 5.868777e-09 | 1.119714e-03 | 1.113392e-08 |\n",
       "| ga.price.reduction | 6.403785e-09 | 2.807072e-09 | 1.028383e-08 | 6.792586e-09 | 5.933109e-09 | 7.190560e-09 | 2.571686e-08 | 5.924859e-09 | 7.585386e-09 | 1.637665e-03 |\n",
       "| sanctity.human.life | 6.666284e-09 | 3.189474e-09 | 5.560460e-07 | 6.257211e-04 | 9.873459e-09 | 6.944659e-09 | 9.397890e-05 | 6.473352e-09 | 9.455083e-09 | 3.502390e-04 |\n",
       "| united.airline.employe | 7.933519e-09 | 4.209660e-04 | 9.035910e-09 | 6.821420e-09 | 5.834069e-09 | 6.590807e-09 | 4.674008e-09 | 6.562528e-09 | 1.033518e-08 | 1.328946e-08 |\n",
       "| ... | ... | ... | ... | ... | ... | ... | ... | ... | ... | ... |\n",
       "| nuclear.weapon | 3.287822e-08 | 5.862558e-04 | 1.944790e-08 | 1.713941e-02 | 2.526388e-08 | 4.305962e-08 | 1.970838e-05 | 1.983260e-02 | 1.292501e-02 | 3.161199e-03 |\n",
       "| war.terror | 1.511162e-04 | 7.578580e-07 | 9.857716e-04 | 3.635154e-02 | 4.760582e-03 | 4.706979e-08 | 4.820306e-03 | 2.526162e-03 | 1.665658e-03 | 7.881874e-04 |\n",
       "| chief.justice | 1.744230e-08 | 8.949875e-09 | 8.132208e-03 | 2.226083e-04 | 9.481648e-07 | 8.281870e-04 | 3.063573e-02 | 1.572434e-08 | 2.331435e-07 | 5.370631e-08 |\n",
       "| judicial.nomine | 1.212135e-08 | 3.844849e-05 | 1.808827e-08 | 3.023997e-07 | 6.932372e-08 | 3.761644e-08 | 3.606240e-02 | 2.388590e-07 | 1.389753e-04 | 1.192156e-06 |\n",
       "| washington.dc | 3.374874e-03 | 4.982609e-03 | 6.914168e-03 | 6.989895e-03 | 6.279227e-03 | 1.474788e-02 | 4.088196e-03 | 1.533255e-04 | 6.228105e-04 | 7.036323e-04 |\n",
       "| war.iraq | 4.563402e-03 | 1.373473e-02 | 2.835885e-07 | 2.052721e-02 | 1.459933e-04 | 5.775141e-08 | 6.541420e-05 | 1.767616e-03 | 6.286351e-06 | 2.241414e-08 |\n",
       "| central.american | 1.572051e-08 | 2.676000e-07 | 4.917433e-06 | 1.543880e-05 | 2.033049e-08 | 2.133066e-04 | 1.934949e-03 | 8.934912e-07 | 6.472487e-02 | 3.335849e-08 |\n",
       "| head.start | 4.033740e-02 | 1.753742e-03 | 3.269862e-08 | 3.471820e-08 | 3.669222e-04 | 1.782649e-04 | 4.219641e-08 | 8.888126e-03 | 1.000226e-05 | 6.627038e-03 |\n",
       "| trade.deficit | 3.591161e-08 | 6.130559e-08 | 1.993341e-05 | 2.867804e-06 | 2.775329e-08 | 3.224421e-03 | 1.195182e-03 | 1.664234e-04 | 6.441241e-02 | 2.567735e-04 |\n",
       "| national.guard | 2.846286e-03 | 5.693789e-03 | 2.310223e-04 | 2.442674e-02 | 1.823941e-03 | 2.541497e-03 | 5.937985e-03 | 5.170632e-03 | 1.574983e-03 | 2.567728e-08 |\n",
       "| credit.card | 2.231049e-08 | 5.075301e-03 | 3.075186e-04 | 7.354008e-08 | 1.198334e-03 | 1.709142e-08 | 7.787106e-03 | 3.535224e-02 | 2.707087e-05 | 2.191287e-08 |\n",
       "| iraq.afghanistan | 5.505669e-08 | 1.126456e-02 | 1.104762e-04 | 2.769150e-02 | 7.928274e-04 | 1.582460e-03 | 2.757930e-03 | 6.040245e-03 | 4.707780e-04 | 3.023771e-08 |\n",
       "| minimum.wage | 9.867113e-04 | 1.179756e-03 | 1.676643e-08 | 1.196623e-08 | 1.399367e-08 | 1.186137e-08 | 2.643796e-03 | 5.378445e-02 | 7.339925e-04 | 1.613835e-08 |\n",
       "| strong.support | 2.073770e-02 | 8.968183e-04 | 2.591993e-02 | 1.627064e-02 | 4.705341e-03 | 2.133998e-03 | 2.070142e-04 | 8.798751e-04 | 6.570639e-06 | 5.734701e-03 |\n",
       "| gulf.coast | 2.136451e-02 | 5.764092e-03 | 2.897435e-03 | 1.587384e-02 | 7.781763e-03 | 4.001958e-03 | 2.486532e-03 | 4.553310e-03 | 3.283562e-04 | 2.739479e-08 |\n",
       "| billion.dollar | 7.425705e-03 | 1.270259e-02 | 2.056508e-03 | 9.546386e-03 | 6.855608e-03 | 7.694886e-03 | 1.867587e-03 | 1.956935e-03 | 7.636645e-03 | 1.990511e-03 |\n",
       "| million.american | 1.273121e-02 | 7.842597e-03 | 8.348324e-03 | 2.077982e-03 | 6.387228e-03 | 6.216363e-03 | 4.910971e-03 | 1.360062e-02 | 4.933738e-03 | 2.935860e-03 |\n",
       "| fre.trade | 1.842510e-08 | 1.048940e-08 | 2.061899e-03 | 1.790605e-03 | 4.631118e-07 | 6.982846e-04 | 4.297348e-03 | 2.945310e-08 | 8.331952e-02 | 1.702692e-06 |\n",
       "| african.american | 6.311132e-02 | 1.905974e-06 | 4.926014e-07 | 3.629658e-04 | 3.398476e-06 | 1.772413e-03 | 1.081177e-02 | 9.361895e-08 | 5.474354e-04 | 3.983859e-08 |\n",
       "| low.income | 1.406667e-02 | 3.527559e-03 | 3.867532e-08 | 1.909632e-08 | 1.686206e-02 | 1.524457e-02 | 1.410529e-03 | 2.326439e-02 | 2.866164e-03 | 8.253039e-04 |\n",
       "| prescription.drug | 3.184578e-08 | 1.907865e-02 | 5.702191e-05 | 1.555578e-08 | 1.432678e-02 | 1.399206e-02 | 6.368482e-03 | 2.183322e-04 | 5.448070e-03 | 1.042127e-04 |\n",
       "| class.action | 1.203818e-08 | 6.056913e-09 | 3.577466e-02 | 1.371112e-08 | 3.892926e-03 | 3.505266e-08 | 3.934334e-02 | 3.593330e-04 | 1.063378e-08 | 1.780035e-08 |\n",
       "| civil.right | 4.609326e-02 | 3.835761e-04 | 2.448509e-03 | 5.408146e-08 | 2.163890e-08 | 2.015221e-03 | 1.635095e-02 | 1.278408e-02 | 6.540227e-04 | 4.729346e-08 |\n",
       "| look.forward | 8.162086e-03 | 2.557946e-03 | 1.223362e-02 | 1.473526e-02 | 1.198138e-02 | 1.665298e-02 | 1.703090e-02 | 8.202935e-03 | 7.911075e-05 | 1.400356e-03 |\n",
       "| stem.cel | 1.282452e-08 | 8.719621e-09 | 1.411908e-08 | 9.809679e-09 | 9.418522e-09 | 8.634872e-09 | 7.559863e-07 | 3.681859e-08 | 4.516508e-08 | 1.854964e-01 |\n",
       "| natural.ga | 1.720164e-08 | 8.247484e-04 | 6.154477e-08 | 1.605545e-07 | 3.170689e-08 | 4.599072e-02 | 7.419244e-04 | 1.811894e-03 | 5.074089e-04 | 1.068116e-01 |\n",
       "| hurricane.katrina | 2.751108e-02 | 1.633351e-02 | 1.746444e-02 | 1.059758e-02 | 1.018478e-02 | 1.000009e-02 | 3.827309e-03 | 8.350476e-03 | 3.676112e-03 | 1.088477e-05 |\n",
       "| trade.agreement | 2.669439e-08 | 2.823227e-04 | 1.253786e-04 | 1.107865e-04 | 2.839125e-08 | 1.417790e-03 | 6.235477e-03 | 5.827842e-07 | 1.600680e-01 | 3.088630e-08 |\n",
       "| appropriation.bil | 1.005185e-04 | 1.105010e-02 | 6.930070e-03 | 4.333898e-02 | 9.549849e-03 | 1.700082e-02 | 2.538670e-02 | 8.688182e-03 | 1.821706e-03 | 2.921838e-05 |\n",
       "| american.people | 1.252622e-02 | 7.655936e-02 | 2.976355e-02 | 5.917094e-02 | 3.458721e-02 | 4.113964e-03 | 3.967682e-02 | 1.132044e-02 | 1.484580e-02 | 6.090931e-03 |\n",
       "\n"
      ],
      "text/plain": [
       "                              1            2            3           \n",
       "gifted.talented.student       6.106580e-09 2.807175e-09 8.732176e-09\n",
       "national.heritage.corridor    2.469811e-05 2.816632e-09 1.358435e-08\n",
       "national.homeownership.month  6.111090e-05 2.815981e-09 7.789241e-07\n",
       "near.retirement.age           6.104929e-09 2.809295e-09 9.336011e-09\n",
       "personal.injury.lawyer        6.407064e-09 2.818895e-09 3.588703e-04\n",
       "regional.training.cent        6.213510e-09 2.817956e-09 1.135626e-08\n",
       "amnesty.illegal.alien         6.462072e-09 2.808122e-09 1.043081e-03\n",
       "arm.embargo.china             7.204933e-09 2.811310e-09 1.438524e-05\n",
       "flag.protection.amendment     6.714298e-09 3.038355e-09 9.563505e-04\n",
       "low.cost.reliable             6.930607e-09 2.811063e-09 9.283667e-09\n",
       "assistant.secretary.commerce  6.161912e-09 2.913145e-09 3.140081e-08\n",
       "human.right.body              6.665296e-09 2.812123e-09 1.215490e-08\n",
       "indian.art.craft              6.682354e-09 2.862145e-09 1.403114e-05\n",
       "nation.oil.food               7.218910e-09 2.813587e-09 1.714565e-08\n",
       "using.adult.stem              6.233140e-09 2.839382e-09 1.095408e-08\n",
       "valid.driver.license          7.794345e-09 2.849472e-09 8.380959e-04\n",
       "weapon.grade.plutonium        6.132749e-09 2.818881e-09 9.117948e-09\n",
       "marriage.protection.amendment 6.324463e-09 2.828865e-09 2.533148e-08\n",
       "people.middle.east            8.332801e-09 2.996373e-09 2.701245e-04\n",
       "produce.stem.cel              6.959429e-09 2.921027e-09 1.071229e-08\n",
       "united.nation.oil             7.121758e-09 2.816429e-09 1.680798e-08\n",
       "winning.war.iraq              6.107825e-09 3.027545e-09 1.431187e-08\n",
       "ayman.al.zawahiri             6.740074e-09 5.423743e-09 1.254927e-08\n",
       "commonly.prescribed.drug      6.192204e-09 5.955702e-09 1.369094e-05\n",
       "county.north.carolina         6.125420e-05 2.960374e-09 6.776385e-04\n",
       "feder.air.marshal             6.467059e-09 2.819765e-09 1.211962e-03\n",
       "financial.accounting.standard 6.417759e-09 2.833379e-09 8.157394e-08\n",
       "ga.price.reduction            6.403785e-09 2.807072e-09 1.028383e-08\n",
       "sanctity.human.life           6.666284e-09 3.189474e-09 5.560460e-07\n",
       "united.airline.employe        7.933519e-09 4.209660e-04 9.035910e-09\n",
       "...                           ...          ...          ...         \n",
       "nuclear.weapon                3.287822e-08 5.862558e-04 1.944790e-08\n",
       "war.terror                    1.511162e-04 7.578580e-07 9.857716e-04\n",
       "chief.justice                 1.744230e-08 8.949875e-09 8.132208e-03\n",
       "judicial.nomine               1.212135e-08 3.844849e-05 1.808827e-08\n",
       "washington.dc                 3.374874e-03 4.982609e-03 6.914168e-03\n",
       "war.iraq                      4.563402e-03 1.373473e-02 2.835885e-07\n",
       "central.american              1.572051e-08 2.676000e-07 4.917433e-06\n",
       "head.start                    4.033740e-02 1.753742e-03 3.269862e-08\n",
       "trade.deficit                 3.591161e-08 6.130559e-08 1.993341e-05\n",
       "national.guard                2.846286e-03 5.693789e-03 2.310223e-04\n",
       "credit.card                   2.231049e-08 5.075301e-03 3.075186e-04\n",
       "iraq.afghanistan              5.505669e-08 1.126456e-02 1.104762e-04\n",
       "minimum.wage                  9.867113e-04 1.179756e-03 1.676643e-08\n",
       "strong.support                2.073770e-02 8.968183e-04 2.591993e-02\n",
       "gulf.coast                    2.136451e-02 5.764092e-03 2.897435e-03\n",
       "billion.dollar                7.425705e-03 1.270259e-02 2.056508e-03\n",
       "million.american              1.273121e-02 7.842597e-03 8.348324e-03\n",
       "fre.trade                     1.842510e-08 1.048940e-08 2.061899e-03\n",
       "african.american              6.311132e-02 1.905974e-06 4.926014e-07\n",
       "low.income                    1.406667e-02 3.527559e-03 3.867532e-08\n",
       "prescription.drug             3.184578e-08 1.907865e-02 5.702191e-05\n",
       "class.action                  1.203818e-08 6.056913e-09 3.577466e-02\n",
       "civil.right                   4.609326e-02 3.835761e-04 2.448509e-03\n",
       "look.forward                  8.162086e-03 2.557946e-03 1.223362e-02\n",
       "stem.cel                      1.282452e-08 8.719621e-09 1.411908e-08\n",
       "natural.ga                    1.720164e-08 8.247484e-04 6.154477e-08\n",
       "hurricane.katrina             2.751108e-02 1.633351e-02 1.746444e-02\n",
       "trade.agreement               2.669439e-08 2.823227e-04 1.253786e-04\n",
       "appropriation.bil             1.005185e-04 1.105010e-02 6.930070e-03\n",
       "american.people               1.252622e-02 7.655936e-02 2.976355e-02\n",
       "                              4            5            6           \n",
       "gifted.talented.student       7.673126e-09 6.207497e-04 6.548186e-09\n",
       "national.heritage.corridor    7.124072e-09 6.763767e-09 6.690550e-04\n",
       "national.homeownership.month  1.189053e-08 5.637561e-04 8.839347e-09\n",
       "near.retirement.age           6.565172e-09 6.207766e-04 6.317829e-09\n",
       "personal.injury.lawyer        8.589249e-09 1.621754e-04 6.373082e-09\n",
       "regional.training.cent        9.789318e-09 5.648596e-09 6.316186e-09\n",
       "amnesty.illegal.alien         8.883476e-09 6.155901e-09 7.826542e-09\n",
       "arm.embargo.china             2.030847e-08 9.127400e-09 7.472811e-04\n",
       "flag.protection.amendment     6.550868e-05 7.321315e-09 6.703069e-09\n",
       "low.cost.reliable             7.843182e-09 7.916545e-09 2.068786e-05\n",
       "assistant.secretary.commerce  4.370295e-08 3.374246e-04 2.126886e-04\n",
       "human.right.body              5.977476e-04 6.503765e-09 6.631820e-09\n",
       "indian.art.craft              8.210221e-04 6.893892e-06 1.253957e-05\n",
       "nation.oil.food               8.039563e-04 4.204675e-05 8.903885e-09\n",
       "using.adult.stem              8.389867e-09 7.637445e-09 6.438742e-09\n",
       "valid.driver.license          8.205808e-09 8.033650e-09 7.046951e-09\n",
       "weapon.grade.plutonium        2.779315e-04 1.418338e-08 4.900006e-04\n",
       "marriage.protection.amendment 2.234908e-08 5.923705e-04 2.623175e-08\n",
       "people.middle.east            1.280712e-04 1.789308e-04 6.849634e-09\n",
       "produce.stem.cel              6.905155e-09 6.906569e-09 6.533568e-09\n",
       "united.nation.oil             8.632152e-04 4.751274e-05 8.878267e-09\n",
       "winning.war.iraq              9.136095e-04 4.109671e-06 6.320015e-09\n",
       "ayman.al.zawahiri             8.733830e-04 7.643695e-09 1.472945e-08\n",
       "commonly.prescribed.drug      1.344428e-08 6.775706e-09 9.372582e-04\n",
       "county.north.carolina         1.825934e-08 7.119491e-08 7.599326e-09\n",
       "feder.air.marshal             1.253711e-05 7.276090e-09 6.813109e-09\n",
       "financial.accounting.standard 2.071215e-08 8.265775e-09 6.323793e-09\n",
       "ga.price.reduction            6.792586e-09 5.933109e-09 7.190560e-09\n",
       "sanctity.human.life           6.257211e-04 9.873459e-09 6.944659e-09\n",
       "united.airline.employe        6.821420e-09 5.834069e-09 6.590807e-09\n",
       "...                           ...          ...          ...         \n",
       "nuclear.weapon                1.713941e-02 2.526388e-08 4.305962e-08\n",
       "war.terror                    3.635154e-02 4.760582e-03 4.706979e-08\n",
       "chief.justice                 2.226083e-04 9.481648e-07 8.281870e-04\n",
       "judicial.nomine               3.023997e-07 6.932372e-08 3.761644e-08\n",
       "washington.dc                 6.989895e-03 6.279227e-03 1.474788e-02\n",
       "war.iraq                      2.052721e-02 1.459933e-04 5.775141e-08\n",
       "central.american              1.543880e-05 2.033049e-08 2.133066e-04\n",
       "head.start                    3.471820e-08 3.669222e-04 1.782649e-04\n",
       "trade.deficit                 2.867804e-06 2.775329e-08 3.224421e-03\n",
       "national.guard                2.442674e-02 1.823941e-03 2.541497e-03\n",
       "credit.card                   7.354008e-08 1.198334e-03 1.709142e-08\n",
       "iraq.afghanistan              2.769150e-02 7.928274e-04 1.582460e-03\n",
       "minimum.wage                  1.196623e-08 1.399367e-08 1.186137e-08\n",
       "strong.support                1.627064e-02 4.705341e-03 2.133998e-03\n",
       "gulf.coast                    1.587384e-02 7.781763e-03 4.001958e-03\n",
       "billion.dollar                9.546386e-03 6.855608e-03 7.694886e-03\n",
       "million.american              2.077982e-03 6.387228e-03 6.216363e-03\n",
       "fre.trade                     1.790605e-03 4.631118e-07 6.982846e-04\n",
       "african.american              3.629658e-04 3.398476e-06 1.772413e-03\n",
       "low.income                    1.909632e-08 1.686206e-02 1.524457e-02\n",
       "prescription.drug             1.555578e-08 1.432678e-02 1.399206e-02\n",
       "class.action                  1.371112e-08 3.892926e-03 3.505266e-08\n",
       "civil.right                   5.408146e-08 2.163890e-08 2.015221e-03\n",
       "look.forward                  1.473526e-02 1.198138e-02 1.665298e-02\n",
       "stem.cel                      9.809679e-09 9.418522e-09 8.634872e-09\n",
       "natural.ga                    1.605545e-07 3.170689e-08 4.599072e-02\n",
       "hurricane.katrina             1.059758e-02 1.018478e-02 1.000009e-02\n",
       "trade.agreement               1.107865e-04 2.839125e-08 1.417790e-03\n",
       "appropriation.bil             4.333898e-02 9.549849e-03 1.700082e-02\n",
       "american.people               5.917094e-02 3.458721e-02 4.113964e-03\n",
       "                              7            8            9           \n",
       "gifted.talented.student       2.150572e-08 5.962403e-09 9.982102e-09\n",
       "national.heritage.corridor    4.208087e-09 5.807757e-09 2.098875e-08\n",
       "national.homeownership.month  5.132473e-09 5.842364e-09 7.791894e-09\n",
       "near.retirement.age           4.188501e-09 5.763409e-09 7.472261e-09\n",
       "personal.injury.lawyer        1.671154e-04 5.910372e-09 8.171248e-09\n",
       "regional.training.cent        4.482719e-09 5.762950e-09 7.665406e-09\n",
       "amnesty.illegal.alien         3.613237e-08 6.569559e-09 7.673465e-09\n",
       "arm.embargo.china             2.249177e-08 6.567333e-09 8.313699e-09\n",
       "flag.protection.amendment     4.879066e-09 6.190568e-09 7.642915e-09\n",
       "low.cost.reliable             7.771687e-09 6.227304e-09 7.517865e-09\n",
       "assistant.secretary.commerce  1.526575e-04 7.052376e-09 8.545884e-09\n",
       "human.right.body              4.273218e-09 5.783624e-09 7.565576e-09\n",
       "indian.art.craft              1.562210e-07 6.882550e-09 9.208494e-09\n",
       "nation.oil.food               2.292051e-08 5.776981e-09 7.694376e-09\n",
       "using.adult.stem              5.352063e-09 5.820387e-09 8.992327e-09\n",
       "valid.driver.license          4.698695e-09 5.814640e-09 9.001854e-09\n",
       "weapon.grade.plutonium        1.259782e-08 6.356560e-09 9.322752e-09\n",
       "marriage.protection.amendment 1.058799e-04 6.793571e-09 1.006982e-08\n",
       "people.middle.east            1.712376e-04 5.948899e-09 7.964296e-09\n",
       "produce.stem.cel              4.183748e-09 5.883142e-09 1.066589e-08\n",
       "united.nation.oil             1.835430e-08 5.776607e-09 7.708988e-09\n",
       "winning.war.iraq              4.480383e-09 5.764438e-09 7.543833e-09\n",
       "ayman.al.zawahiri             7.052026e-05 8.166174e-09 1.007586e-08\n",
       "commonly.prescribed.drug      4.207969e-09 5.780394e-09 8.129790e-09\n",
       "county.north.carolina         4.521979e-09 5.795389e-09 7.573690e-09\n",
       "feder.air.marshal             3.624343e-05 5.933623e-09 7.929982e-09\n",
       "financial.accounting.standard 4.185488e-09 5.868777e-09 1.119714e-03\n",
       "ga.price.reduction            2.571686e-08 5.924859e-09 7.585386e-09\n",
       "sanctity.human.life           9.397890e-05 6.473352e-09 9.455083e-09\n",
       "united.airline.employe        4.674008e-09 6.562528e-09 1.033518e-08\n",
       "...                           ...          ...          ...         \n",
       "nuclear.weapon                1.970838e-05 1.983260e-02 1.292501e-02\n",
       "war.terror                    4.820306e-03 2.526162e-03 1.665658e-03\n",
       "chief.justice                 3.063573e-02 1.572434e-08 2.331435e-07\n",
       "judicial.nomine               3.606240e-02 2.388590e-07 1.389753e-04\n",
       "washington.dc                 4.088196e-03 1.533255e-04 6.228105e-04\n",
       "war.iraq                      6.541420e-05 1.767616e-03 6.286351e-06\n",
       "central.american              1.934949e-03 8.934912e-07 6.472487e-02\n",
       "head.start                    4.219641e-08 8.888126e-03 1.000226e-05\n",
       "trade.deficit                 1.195182e-03 1.664234e-04 6.441241e-02\n",
       "national.guard                5.937985e-03 5.170632e-03 1.574983e-03\n",
       "credit.card                   7.787106e-03 3.535224e-02 2.707087e-05\n",
       "iraq.afghanistan              2.757930e-03 6.040245e-03 4.707780e-04\n",
       "minimum.wage                  2.643796e-03 5.378445e-02 7.339925e-04\n",
       "strong.support                2.070142e-04 8.798751e-04 6.570639e-06\n",
       "gulf.coast                    2.486532e-03 4.553310e-03 3.283562e-04\n",
       "billion.dollar                1.867587e-03 1.956935e-03 7.636645e-03\n",
       "million.american              4.910971e-03 1.360062e-02 4.933738e-03\n",
       "fre.trade                     4.297348e-03 2.945310e-08 8.331952e-02\n",
       "african.american              1.081177e-02 9.361895e-08 5.474354e-04\n",
       "low.income                    1.410529e-03 2.326439e-02 2.866164e-03\n",
       "prescription.drug             6.368482e-03 2.183322e-04 5.448070e-03\n",
       "class.action                  3.934334e-02 3.593330e-04 1.063378e-08\n",
       "civil.right                   1.635095e-02 1.278408e-02 6.540227e-04\n",
       "look.forward                  1.703090e-02 8.202935e-03 7.911075e-05\n",
       "stem.cel                      7.559863e-07 3.681859e-08 4.516508e-08\n",
       "natural.ga                    7.419244e-04 1.811894e-03 5.074089e-04\n",
       "hurricane.katrina             3.827309e-03 8.350476e-03 3.676112e-03\n",
       "trade.agreement               6.235477e-03 5.827842e-07 1.600680e-01\n",
       "appropriation.bil             2.538670e-02 8.688182e-03 1.821706e-03\n",
       "american.people               3.967682e-02 1.132044e-02 1.484580e-02\n",
       "                              10          \n",
       "gifted.talented.student       1.457420e-08\n",
       "national.heritage.corridor    1.147766e-08\n",
       "national.homeownership.month  1.332548e-08\n",
       "near.retirement.age           1.318285e-08\n",
       "personal.injury.lawyer        3.062252e-08\n",
       "regional.training.cent        1.200992e-03\n",
       "amnesty.illegal.alien         1.096336e-08\n",
       "arm.embargo.china             1.107165e-08\n",
       "flag.protection.amendment     1.797244e-08\n",
       "low.cost.reliable             1.274406e-03\n",
       "assistant.secretary.commerce  1.465870e-08\n",
       "human.right.body              4.245899e-04\n",
       "indian.art.craft              1.095613e-08\n",
       "nation.oil.food               2.126665e-08\n",
       "using.adult.stem              1.419349e-03\n",
       "valid.driver.license          3.667270e-04\n",
       "weapon.grade.plutonium        1.095991e-04\n",
       "marriage.protection.amendment 1.058765e-04\n",
       "people.middle.east            1.827254e-04\n",
       "produce.stem.cel              1.528532e-03\n",
       "united.nation.oil             2.080362e-08\n",
       "winning.war.iraq              1.699125e-07\n",
       "ayman.al.zawahiri             1.273702e-08\n",
       "commonly.prescribed.drug      1.210864e-08\n",
       "county.north.carolina         6.768966e-04\n",
       "feder.air.marshal             1.882189e-08\n",
       "financial.accounting.standard 1.113392e-08\n",
       "ga.price.reduction            1.637665e-03\n",
       "sanctity.human.life           3.502390e-04\n",
       "united.airline.employe        1.328946e-08\n",
       "...                           ...         \n",
       "nuclear.weapon                3.161199e-03\n",
       "war.terror                    7.881874e-04\n",
       "chief.justice                 5.370631e-08\n",
       "judicial.nomine               1.192156e-06\n",
       "washington.dc                 7.036323e-04\n",
       "war.iraq                      2.241414e-08\n",
       "central.american              3.335849e-08\n",
       "head.start                    6.627038e-03\n",
       "trade.deficit                 2.567735e-04\n",
       "national.guard                2.567728e-08\n",
       "credit.card                   2.191287e-08\n",
       "iraq.afghanistan              3.023771e-08\n",
       "minimum.wage                  1.613835e-08\n",
       "strong.support                5.734701e-03\n",
       "gulf.coast                    2.739479e-08\n",
       "billion.dollar                1.990511e-03\n",
       "million.american              2.935860e-03\n",
       "fre.trade                     1.702692e-06\n",
       "african.american              3.983859e-08\n",
       "low.income                    8.253039e-04\n",
       "prescription.drug             1.042127e-04\n",
       "class.action                  1.780035e-08\n",
       "civil.right                   4.729346e-08\n",
       "look.forward                  1.400356e-03\n",
       "stem.cel                      1.854964e-01\n",
       "natural.ga                    1.068116e-01\n",
       "hurricane.katrina             1.088477e-05\n",
       "trade.agreement               3.088630e-08\n",
       "appropriation.bil             2.921838e-05\n",
       "american.people               6.090931e-03"
      ]
     },
     "metadata": {},
     "output_type": "display_data"
    }
   ],
   "source": [
    "tpcs$theta"
   ]
  },
  {
   "cell_type": "code",
   "execution_count": 31,
   "metadata": {
    "ExecuteTime": {
     "end_time": "2020-02-11T04:20:24.987549Z",
     "start_time": "2020-02-11T04:20:24.890Z"
    }
   },
   "outputs": [
    {
     "data": {
      "text/html": [
       "<table>\n",
       "<thead><tr><th></th><th scope=col>1</th><th scope=col>2</th><th scope=col>3</th><th scope=col>4</th><th scope=col>5</th><th scope=col>6</th><th scope=col>7</th><th scope=col>8</th><th scope=col>9</th><th scope=col>10</th></tr></thead>\n",
       "<tbody>\n",
       "\t<tr><th scope=row>Chris Cannon</th><td>0.0680548277</td><td>0.0012556703</td><td>0.879625705 </td><td>0.0445791648</td><td>0.001142059 </td><td>0.0011926692</td><td>0.0011839707</td><td>0.0009668420</td><td>0.0010451143</td><td>0.0009539774</td></tr>\n",
       "\t<tr><th scope=row>Michael Conaway</th><td>0.0005899192</td><td>0.0042881742</td><td>0.067163064 </td><td>0.1323693371</td><td>0.625841980 </td><td>0.0544827614</td><td>0.0021354543</td><td>0.0040298073</td><td>0.1010446893</td><td>0.0080548131</td></tr>\n",
       "\t<tr><th scope=row>Spencer Bachus</th><td>0.1991346183</td><td>0.0484123858</td><td>0.102975465 </td><td>0.0128857693</td><td>0.302266766 </td><td>0.0154968694</td><td>0.0482887550</td><td>0.0171006414</td><td>0.2472251836</td><td>0.0062135462</td></tr>\n",
       "\t<tr><th scope=row>Mac Thornberry</th><td>0.0174549620</td><td>0.3706735534</td><td>0.020143559 </td><td>0.4453830390</td><td>0.021150868 </td><td>0.0215048745</td><td>0.0411665209</td><td>0.0237798506</td><td>0.0226020475</td><td>0.0161407252</td></tr>\n",
       "\t<tr><th scope=row>Randy Neugebauer</th><td>0.0094290470</td><td>0.0035689379</td><td>0.049169012 </td><td>0.4536633025</td><td>0.266490161 </td><td>0.0528226423</td><td>0.0013572729</td><td>0.0022324194</td><td>0.0009345718</td><td>0.1603326334</td></tr>\n",
       "\t<tr><th scope=row>Nathan Deal</th><td>0.1441308016</td><td>0.0148496972</td><td>0.177112860 </td><td>0.0024988835</td><td>0.581438203 </td><td>0.0685140993</td><td>0.0038435421</td><td>0.0024438222</td><td>0.0025141456</td><td>0.0026539447</td></tr>\n",
       "\t<tr><th scope=row>Tom Osborne</th><td>0.0915497340</td><td>0.0041394214</td><td>0.024728235 </td><td>0.3188159820</td><td>0.002166860 </td><td>0.2455614371</td><td>0.0005909921</td><td>0.0025136616</td><td>0.0833656521</td><td>0.2265680247</td></tr>\n",
       "\t<tr><th scope=row>John Linder</th><td>0.0066940496</td><td>0.0736835777</td><td>0.226056923 </td><td>0.0092914763</td><td>0.396383037 </td><td>0.0050885422</td><td>0.0055258433</td><td>0.0059614485</td><td>0.2672828737</td><td>0.0040322292</td></tr>\n",
       "\t<tr><th scope=row>Rob Bishop</th><td>0.4090471383</td><td>0.0025437168</td><td>0.296493819 </td><td>0.1806448341</td><td>0.049820879 </td><td>0.0101223318</td><td>0.0228530906</td><td>0.0045581440</td><td>0.0014144140</td><td>0.0225016329</td></tr>\n",
       "\t<tr><th scope=row>Lynn Westmoreland</th><td>0.1481541090</td><td>0.0016259130</td><td>0.423754766 </td><td>0.0743890420</td><td>0.257338602 </td><td>0.0010313519</td><td>0.0879752872</td><td>0.0029470540</td><td>0.0018439525</td><td>0.0009399228</td></tr>\n",
       "\t<tr><th scope=row>Robert Bennett</th><td>0.0009540721</td><td>0.0026752639</td><td>0.008989351 </td><td>0.0363026990</td><td>0.152901768 </td><td>0.2310732092</td><td>0.4742201633</td><td>0.0917142334</td><td>0.0005526469</td><td>0.0006165930</td></tr>\n",
       "\t<tr><th scope=row>Orrin Hatch</th><td>0.0003030314</td><td>0.0002138434</td><td>0.053652865 </td><td>0.0001972754</td><td>0.034664052 </td><td>0.0003411565</td><td>0.7546749173</td><td>0.0199708548</td><td>0.0088286133</td><td>0.1271533909</td></tr>\n",
       "\t<tr><th scope=row>Jerry Moran</th><td>0.6630831189</td><td>0.0347131614</td><td>0.003277743 </td><td>0.0020896103</td><td>0.107812398 </td><td>0.0045199668</td><td>0.0026881872</td><td>0.0044351382</td><td>0.0795440410</td><td>0.0978366356</td></tr>\n",
       "\t<tr><th scope=row>Charles Norwood</th><td>0.0020974766</td><td>0.0852458957</td><td>0.649971055 </td><td>0.0460958388</td><td>0.096282306 </td><td>0.0277699371</td><td>0.0030834334</td><td>0.0037393868</td><td>0.0847020320</td><td>0.0010126391</td></tr>\n",
       "\t<tr><th scope=row>Kevin Brady</th><td>0.0022308918</td><td>0.0041217792</td><td>0.080427515 </td><td>0.0518914138</td><td>0.500688397 </td><td>0.0061442421</td><td>0.0019609891</td><td>0.0016428652</td><td>0.3492233973</td><td>0.0016685092</td></tr>\n",
       "\t<tr><th scope=row>Jeff Miller</th><td>0.0030351948</td><td>0.0039561811</td><td>0.027389582 </td><td>0.4290898705</td><td>0.453190386 </td><td>0.0102022182</td><td>0.0033936293</td><td>0.0027590504</td><td>0.0030482806</td><td>0.0639356073</td></tr>\n",
       "\t<tr><th scope=row>Robert Aderholt</th><td>0.0046179732</td><td>0.0037935841</td><td>0.627273966 </td><td>0.0123035109</td><td>0.003668853 </td><td>0.0033695606</td><td>0.0037817741</td><td>0.0032382969</td><td>0.0031316166</td><td>0.3348208644</td></tr>\n",
       "\t<tr><th scope=row>Dan Burton</th><td>0.0066086919</td><td>0.1733085107</td><td>0.342671905 </td><td>0.2875159206</td><td>0.007100013 </td><td>0.0014964816</td><td>0.0026812240</td><td>0.0012290647</td><td>0.1761823294</td><td>0.0012058595</td></tr>\n",
       "\t<tr><th scope=row>Frank Lucas</th><td>0.0566062439</td><td>0.0354498504</td><td>0.632766878 </td><td>0.0552578774</td><td>0.041888400 </td><td>0.0362938649</td><td>0.0356785964</td><td>0.0347969214</td><td>0.0339045846</td><td>0.0373567835</td></tr>\n",
       "\t<tr><th scope=row>Bobby Jindal</th><td>0.2473664528</td><td>0.0643382425</td><td>0.263917942 </td><td>0.2507769725</td><td>0.160392673 </td><td>0.0027691680</td><td>0.0037860458</td><td>0.0010261867</td><td>0.0044308133</td><td>0.0011955030</td></tr>\n",
       "\t<tr><th scope=row>Tom Price</th><td>0.0322667259</td><td>0.0013534111</td><td>0.135650390 </td><td>0.0268932570</td><td>0.696207899 </td><td>0.0002469433</td><td>0.0069902765</td><td>0.0004873671</td><td>0.0002315041</td><td>0.0996722262</td></tr>\n",
       "\t<tr><th scope=row>Ralph Hall</th><td>0.0118369479</td><td>0.0101224596</td><td>0.102348528 </td><td>0.0757635717</td><td>0.114223345 </td><td>0.5341049725</td><td>0.0068073579</td><td>0.1301483541</td><td>0.0063578403</td><td>0.0082866236</td></tr>\n",
       "\t<tr><th scope=row>Michael Enzi</th><td>0.0014489660</td><td>0.0022141853</td><td>0.036336256 </td><td>0.0103147040</td><td>0.335997228 </td><td>0.0418451338</td><td>0.1134752563</td><td>0.4366000209</td><td>0.0076614804</td><td>0.0141067692</td></tr>\n",
       "\t<tr><th scope=row>Craig Thomas</th><td>0.0005734268</td><td>0.0007590704</td><td>0.019829171 </td><td>0.0937234966</td><td>0.149677937 </td><td>0.6674163081</td><td>0.0155323868</td><td>0.0007298730</td><td>0.0511614452</td><td>0.0005968858</td></tr>\n",
       "\t<tr><th scope=row>Barbara Cubin</th><td>0.0090093605</td><td>0.0129360555</td><td>0.788870512 </td><td>0.0368434431</td><td>0.012326150 </td><td>0.0309141887</td><td>0.0086384900</td><td>0.0763828955</td><td>0.0093770607</td><td>0.0147018440</td></tr>\n",
       "\t<tr><th scope=row>Howard Coble</th><td>0.0090008691</td><td>0.0093937262</td><td>0.024613391 </td><td>0.0139258676</td><td>0.010584910 </td><td>0.0114843289</td><td>0.4396678864</td><td>0.0091189218</td><td>0.4643931936</td><td>0.0078169053</td></tr>\n",
       "\t<tr><th scope=row>Steve Buyer</th><td>0.0015162574</td><td>0.2602748930</td><td>0.259602054 </td><td>0.4106719301</td><td>0.060467368 </td><td>0.0022255980</td><td>0.0016684297</td><td>0.0014045904</td><td>0.0011500336</td><td>0.0010188460</td></tr>\n",
       "\t<tr><th scope=row>Louie Gohmert</th><td>0.0020034640</td><td>0.0115763693</td><td>0.234253925 </td><td>0.1612044681</td><td>0.108093736 </td><td>0.0911080671</td><td>0.3893555694</td><td>0.0005946367</td><td>0.0012619425</td><td>0.0005478220</td></tr>\n",
       "\t<tr><th scope=row>Butch Otter</th><td>0.0019304410</td><td>0.0020171678</td><td>0.485095031 </td><td>0.0021548578</td><td>0.001868294 </td><td>0.0497084055</td><td>0.0047199413</td><td>0.0800760326</td><td>0.3708406578</td><td>0.0015891709</td></tr>\n",
       "\t<tr><th scope=row>Ander Crenshaw</th><td>0.0664064002</td><td>0.0039922734</td><td>0.025630182 </td><td>0.3403613583</td><td>0.551173685 </td><td>0.0019582332</td><td>0.0049334056</td><td>0.0021748793</td><td>0.0016968920</td><td>0.0016726906</td></tr>\n",
       "\t<tr><th scope=row>...</th><td>...</td><td>...</td><td>...</td><td>...</td><td>...</td><td>...</td><td>...</td><td>...</td><td>...</td><td>...</td></tr>\n",
       "\t<tr><th scope=row>Joseph Crowley</th><td>0.651260294 </td><td>0.0016350278</td><td>0.0017020070</td><td>0.0883942011</td><td>0.0007668205</td><td>2.256961e-02</td><td>0.0055292767</td><td>0.0328748709</td><td>0.1239215146</td><td>7.134638e-02</td></tr>\n",
       "\t<tr><th scope=row>Eddie Johnson</th><td>0.461407653 </td><td>0.3157929852</td><td>0.0183932503</td><td>0.0005878093</td><td>0.0663450108</td><td>1.241528e-03</td><td>0.0005433261</td><td>0.1342995737</td><td>0.0009465906</td><td>4.422729e-04</td></tr>\n",
       "\t<tr><th scope=row>William Clay</th><td>0.011767837 </td><td>0.1758579728</td><td>0.1089088216</td><td>0.0078509543</td><td>0.0018844831</td><td>1.613883e-03</td><td>0.0017535953</td><td>0.4413552380</td><td>0.0019989942</td><td>2.470082e-01</td></tr>\n",
       "\t<tr><th scope=row>Carolyn Maloney</th><td>0.286402182 </td><td>0.4308871604</td><td>0.0403156675</td><td>0.0004126991</td><td>0.0948734894</td><td>8.077367e-04</td><td>0.0003622671</td><td>0.0013000763</td><td>0.0830558680</td><td>6.158285e-02</td></tr>\n",
       "\t<tr><th scope=row>Alcee Hastings</th><td>0.329113487 </td><td>0.2648846691</td><td>0.1474361293</td><td>0.0321981125</td><td>0.0009288670</td><td>1.066051e-02</td><td>0.0025039027</td><td>0.1663721521</td><td>0.0456332591</td><td>2.689148e-04</td></tr>\n",
       "\t<tr><th scope=row>William Jefferson</th><td>0.667770911 </td><td>0.0007624837</td><td>0.0006096699</td><td>0.0006039582</td><td>0.1723251534</td><td>1.255609e-03</td><td>0.0005068247</td><td>0.0005864380</td><td>0.0582681084</td><td>9.731084e-02</td></tr>\n",
       "\t<tr><th scope=row>Xavier Becerra</th><td>0.002764706 </td><td>0.8410842276</td><td>0.0022534016</td><td>0.0023926670</td><td>0.0108182787</td><td>2.293087e-03</td><td>0.0024373863</td><td>0.0028390653</td><td>0.1308746989</td><td>2.242481e-03</td></tr>\n",
       "\t<tr><th scope=row>Al Wynn</th><td>0.019392309 </td><td>0.0461592666</td><td>0.1291488298</td><td>0.0273672736</td><td>0.1427963989</td><td>4.542968e-01</td><td>0.0150843130</td><td>0.1321641828</td><td>0.0090940363</td><td>2.449660e-02</td></tr>\n",
       "\t<tr><th scope=row>Luis Gutierrez</th><td>0.697644309 </td><td>0.0025229973</td><td>0.1117254637</td><td>0.0021861763</td><td>0.1737154984</td><td>2.635385e-03</td><td>0.0022395641</td><td>0.0028746370</td><td>0.0025005744</td><td>1.955395e-03</td></tr>\n",
       "\t<tr><th scope=row>Maxine Waters</th><td>0.472884401 </td><td>0.1548981341</td><td>0.0379439106</td><td>0.0923161473</td><td>0.0004959922</td><td>9.260485e-04</td><td>0.0004191164</td><td>0.0009870097</td><td>0.2388434193</td><td>2.858206e-04</td></tr>\n",
       "\t<tr><th scope=row>Jim McDermott</th><td>0.024039498 </td><td>0.6532276745</td><td>0.0003039240</td><td>0.0883567569</td><td>0.0094893588</td><td>1.640921e-03</td><td>0.0090783497</td><td>0.1484578176</td><td>0.0546134566</td><td>1.079224e-02</td></tr>\n",
       "\t<tr><th scope=row>Michael Capuano</th><td>0.030137265 </td><td>0.3801013096</td><td>0.0596055882</td><td>0.1567252190</td><td>0.0264923430</td><td>3.190498e-02</td><td>0.0370149561</td><td>0.2406768605</td><td>0.0198354987</td><td>1.750598e-02</td></tr>\n",
       "\t<tr><th scope=row>Carolyn Kilpatrick</th><td>0.481028627 </td><td>0.1350979601</td><td>0.0009974922</td><td>0.0229433424</td><td>0.0008374818</td><td>5.153921e-04</td><td>0.0028094459</td><td>0.0546993424</td><td>0.1530090611</td><td>1.480619e-01</td></tr>\n",
       "\t<tr><th scope=row>Nydia Velazquez</th><td>0.426956440 </td><td>0.0139219641</td><td>0.0031111682</td><td>0.0209563194</td><td>0.3935241391</td><td>3.429365e-02</td><td>0.0461705765</td><td>0.0035618530</td><td>0.0561305358</td><td>1.373353e-03</td></tr>\n",
       "\t<tr><th scope=row>Stephanie Jones</th><td>0.794064281 </td><td>0.0026660714</td><td>0.0095476242</td><td>0.0007176396</td><td>0.1005787686</td><td>1.650484e-02</td><td>0.0008923416</td><td>0.0010499977</td><td>0.0023049129</td><td>7.167352e-02</td></tr>\n",
       "\t<tr><th scope=row>Donald Payne</th><td>0.911170554 </td><td>0.0021868192</td><td>0.0021329584</td><td>0.0245960197</td><td>0.0013802104</td><td>2.082742e-02</td><td>0.0323543614</td><td>0.0026317549</td><td>0.0015326892</td><td>1.187209e-03</td></tr>\n",
       "\t<tr><th scope=row>John Conyers</th><td>0.723757296 </td><td>0.0005250174</td><td>0.0835751056</td><td>0.0003730782</td><td>0.0003259936</td><td>7.941472e-02</td><td>0.0946207956</td><td>0.0168637165</td><td>0.0003030123</td><td>2.412625e-04</td></tr>\n",
       "\t<tr><th scope=row>Bobby Rush</th><td>0.898825940 </td><td>0.0811985540</td><td>0.0012142815</td><td>0.0017526464</td><td>0.0012614058</td><td>9.206037e-03</td><td>0.0013839854</td><td>0.0019544358</td><td>0.0010981377</td><td>2.104576e-03</td></tr>\n",
       "\t<tr><th scope=row>Kendrick Meek</th><td>0.010068211 </td><td>0.9634760949</td><td>0.0018678775</td><td>0.0081897631</td><td>0.0002810072</td><td>9.679105e-05</td><td>0.0059274411</td><td>0.0001226109</td><td>0.0099155401</td><td>5.466304e-05</td></tr>\n",
       "\t<tr><th scope=row>Danny Davis</th><td>0.812124936 </td><td>0.0129477663</td><td>0.0748313919</td><td>0.0302702162</td><td>0.0007673570</td><td>7.920462e-03</td><td>0.0005261482</td><td>0.0435918682</td><td>0.0167476150</td><td>2.722392e-04</td></tr>\n",
       "\t<tr><th scope=row>Diane Watson</th><td>0.564445389 </td><td>0.3292103843</td><td>0.0576497271</td><td>0.0281680227</td><td>0.0164522351</td><td>3.514362e-04</td><td>0.0005003893</td><td>0.0007952055</td><td>0.0021148792</td><td>3.123316e-04</td></tr>\n",
       "\t<tr><th scope=row>Jesse Jackson</th><td>0.938555914 </td><td>0.0024803459</td><td>0.0020125483</td><td>0.0436255301</td><td>0.0022760164</td><td>1.532416e-03</td><td>0.0030336020</td><td>0.0026531313</td><td>0.0022007715</td><td>1.629724e-03</td></tr>\n",
       "\t<tr><th scope=row>Gregory Meeks</th><td>0.172351070 </td><td>0.3401892088</td><td>0.0034739363</td><td>0.0554356265</td><td>0.0319476118</td><td>3.871121e-03</td><td>0.0221307574</td><td>0.2015600028</td><td>0.1669479162</td><td>2.092749e-03</td></tr>\n",
       "\t<tr><th scope=row>Nancy Pelosi</th><td>0.211899815 </td><td>0.5699519985</td><td>0.0223354102</td><td>0.0093025606</td><td>0.0134134680</td><td>6.559956e-02</td><td>0.0323678452</td><td>0.0003620648</td><td>0.0458616838</td><td>2.890559e-02</td></tr>\n",
       "\t<tr><th scope=row>Edolphus Towns</th><td>0.824376690 </td><td>0.0029973140</td><td>0.1258896296</td><td>0.0290469601</td><td>0.0025614092</td><td>2.757928e-03</td><td>0.0038250186</td><td>0.0027338813</td><td>0.0033070885</td><td>2.504080e-03</td></tr>\n",
       "\t<tr><th scope=row>Major Owens</th><td>0.529609986 </td><td>0.0781739966</td><td>0.0432495712</td><td>0.1952968581</td><td>0.0014411806</td><td>3.310911e-04</td><td>0.0133214940</td><td>0.1375761581</td><td>0.0007327708</td><td>2.668938e-04</td></tr>\n",
       "\t<tr><th scope=row>Barbara Lee</th><td>0.604085114 </td><td>0.2819827836</td><td>0.0012368286</td><td>0.0497659780</td><td>0.0002752859</td><td>5.477722e-04</td><td>0.0251100070</td><td>0.0188112513</td><td>0.0179355001</td><td>2.494790e-04</td></tr>\n",
       "\t<tr><th scope=row>Chaka Fattah</th><td>0.051243404 </td><td>0.0840934866</td><td>0.0369845114</td><td>0.0621331665</td><td>0.4155994798</td><td>1.862357e-01</td><td>0.0365940027</td><td>0.0375046906</td><td>0.0523061515</td><td>3.730542e-02</td></tr>\n",
       "\t<tr><th scope=row>Jose Serrano</th><td>0.689504108 </td><td>0.2600377099</td><td>0.0086112878</td><td>0.0166522296</td><td>0.0068320908</td><td>2.877222e-03</td><td>0.0046039436</td><td>0.0066374007</td><td>0.0021409623</td><td>2.103045e-03</td></tr>\n",
       "\t<tr><th scope=row>Charles Rangel</th><td>0.230193518 </td><td>0.2807564114</td><td>0.0044649384</td><td>0.0228034371</td><td>0.2901181020</td><td>5.798889e-04</td><td>0.0005403483</td><td>0.0008075116</td><td>0.1690529027</td><td>6.829413e-04</td></tr>\n",
       "</tbody>\n",
       "</table>\n"
      ],
      "text/latex": [
       "\\begin{tabular}{r|llllllllll}\n",
       "  & 1 & 2 & 3 & 4 & 5 & 6 & 7 & 8 & 9 & 10\\\\\n",
       "\\hline\n",
       "\tChris Cannon & 0.0680548277 & 0.0012556703 & 0.879625705  & 0.0445791648 & 0.001142059  & 0.0011926692 & 0.0011839707 & 0.0009668420 & 0.0010451143 & 0.0009539774\\\\\n",
       "\tMichael Conaway & 0.0005899192 & 0.0042881742 & 0.067163064  & 0.1323693371 & 0.625841980  & 0.0544827614 & 0.0021354543 & 0.0040298073 & 0.1010446893 & 0.0080548131\\\\\n",
       "\tSpencer Bachus & 0.1991346183 & 0.0484123858 & 0.102975465  & 0.0128857693 & 0.302266766  & 0.0154968694 & 0.0482887550 & 0.0171006414 & 0.2472251836 & 0.0062135462\\\\\n",
       "\tMac Thornberry & 0.0174549620 & 0.3706735534 & 0.020143559  & 0.4453830390 & 0.021150868  & 0.0215048745 & 0.0411665209 & 0.0237798506 & 0.0226020475 & 0.0161407252\\\\\n",
       "\tRandy Neugebauer & 0.0094290470 & 0.0035689379 & 0.049169012  & 0.4536633025 & 0.266490161  & 0.0528226423 & 0.0013572729 & 0.0022324194 & 0.0009345718 & 0.1603326334\\\\\n",
       "\tNathan Deal & 0.1441308016 & 0.0148496972 & 0.177112860  & 0.0024988835 & 0.581438203  & 0.0685140993 & 0.0038435421 & 0.0024438222 & 0.0025141456 & 0.0026539447\\\\\n",
       "\tTom Osborne & 0.0915497340 & 0.0041394214 & 0.024728235  & 0.3188159820 & 0.002166860  & 0.2455614371 & 0.0005909921 & 0.0025136616 & 0.0833656521 & 0.2265680247\\\\\n",
       "\tJohn Linder & 0.0066940496 & 0.0736835777 & 0.226056923  & 0.0092914763 & 0.396383037  & 0.0050885422 & 0.0055258433 & 0.0059614485 & 0.2672828737 & 0.0040322292\\\\\n",
       "\tRob Bishop & 0.4090471383 & 0.0025437168 & 0.296493819  & 0.1806448341 & 0.049820879  & 0.0101223318 & 0.0228530906 & 0.0045581440 & 0.0014144140 & 0.0225016329\\\\\n",
       "\tLynn Westmoreland & 0.1481541090 & 0.0016259130 & 0.423754766  & 0.0743890420 & 0.257338602  & 0.0010313519 & 0.0879752872 & 0.0029470540 & 0.0018439525 & 0.0009399228\\\\\n",
       "\tRobert Bennett & 0.0009540721 & 0.0026752639 & 0.008989351  & 0.0363026990 & 0.152901768  & 0.2310732092 & 0.4742201633 & 0.0917142334 & 0.0005526469 & 0.0006165930\\\\\n",
       "\tOrrin Hatch & 0.0003030314 & 0.0002138434 & 0.053652865  & 0.0001972754 & 0.034664052  & 0.0003411565 & 0.7546749173 & 0.0199708548 & 0.0088286133 & 0.1271533909\\\\\n",
       "\tJerry Moran & 0.6630831189 & 0.0347131614 & 0.003277743  & 0.0020896103 & 0.107812398  & 0.0045199668 & 0.0026881872 & 0.0044351382 & 0.0795440410 & 0.0978366356\\\\\n",
       "\tCharles Norwood & 0.0020974766 & 0.0852458957 & 0.649971055  & 0.0460958388 & 0.096282306  & 0.0277699371 & 0.0030834334 & 0.0037393868 & 0.0847020320 & 0.0010126391\\\\\n",
       "\tKevin Brady & 0.0022308918 & 0.0041217792 & 0.080427515  & 0.0518914138 & 0.500688397  & 0.0061442421 & 0.0019609891 & 0.0016428652 & 0.3492233973 & 0.0016685092\\\\\n",
       "\tJeff Miller & 0.0030351948 & 0.0039561811 & 0.027389582  & 0.4290898705 & 0.453190386  & 0.0102022182 & 0.0033936293 & 0.0027590504 & 0.0030482806 & 0.0639356073\\\\\n",
       "\tRobert Aderholt & 0.0046179732 & 0.0037935841 & 0.627273966  & 0.0123035109 & 0.003668853  & 0.0033695606 & 0.0037817741 & 0.0032382969 & 0.0031316166 & 0.3348208644\\\\\n",
       "\tDan Burton & 0.0066086919 & 0.1733085107 & 0.342671905  & 0.2875159206 & 0.007100013  & 0.0014964816 & 0.0026812240 & 0.0012290647 & 0.1761823294 & 0.0012058595\\\\\n",
       "\tFrank Lucas & 0.0566062439 & 0.0354498504 & 0.632766878  & 0.0552578774 & 0.041888400  & 0.0362938649 & 0.0356785964 & 0.0347969214 & 0.0339045846 & 0.0373567835\\\\\n",
       "\tBobby Jindal & 0.2473664528 & 0.0643382425 & 0.263917942  & 0.2507769725 & 0.160392673  & 0.0027691680 & 0.0037860458 & 0.0010261867 & 0.0044308133 & 0.0011955030\\\\\n",
       "\tTom Price & 0.0322667259 & 0.0013534111 & 0.135650390  & 0.0268932570 & 0.696207899  & 0.0002469433 & 0.0069902765 & 0.0004873671 & 0.0002315041 & 0.0996722262\\\\\n",
       "\tRalph Hall & 0.0118369479 & 0.0101224596 & 0.102348528  & 0.0757635717 & 0.114223345  & 0.5341049725 & 0.0068073579 & 0.1301483541 & 0.0063578403 & 0.0082866236\\\\\n",
       "\tMichael Enzi & 0.0014489660 & 0.0022141853 & 0.036336256  & 0.0103147040 & 0.335997228  & 0.0418451338 & 0.1134752563 & 0.4366000209 & 0.0076614804 & 0.0141067692\\\\\n",
       "\tCraig Thomas & 0.0005734268 & 0.0007590704 & 0.019829171  & 0.0937234966 & 0.149677937  & 0.6674163081 & 0.0155323868 & 0.0007298730 & 0.0511614452 & 0.0005968858\\\\\n",
       "\tBarbara Cubin & 0.0090093605 & 0.0129360555 & 0.788870512  & 0.0368434431 & 0.012326150  & 0.0309141887 & 0.0086384900 & 0.0763828955 & 0.0093770607 & 0.0147018440\\\\\n",
       "\tHoward Coble & 0.0090008691 & 0.0093937262 & 0.024613391  & 0.0139258676 & 0.010584910  & 0.0114843289 & 0.4396678864 & 0.0091189218 & 0.4643931936 & 0.0078169053\\\\\n",
       "\tSteve Buyer & 0.0015162574 & 0.2602748930 & 0.259602054  & 0.4106719301 & 0.060467368  & 0.0022255980 & 0.0016684297 & 0.0014045904 & 0.0011500336 & 0.0010188460\\\\\n",
       "\tLouie Gohmert & 0.0020034640 & 0.0115763693 & 0.234253925  & 0.1612044681 & 0.108093736  & 0.0911080671 & 0.3893555694 & 0.0005946367 & 0.0012619425 & 0.0005478220\\\\\n",
       "\tButch Otter & 0.0019304410 & 0.0020171678 & 0.485095031  & 0.0021548578 & 0.001868294  & 0.0497084055 & 0.0047199413 & 0.0800760326 & 0.3708406578 & 0.0015891709\\\\\n",
       "\tAnder Crenshaw & 0.0664064002 & 0.0039922734 & 0.025630182  & 0.3403613583 & 0.551173685  & 0.0019582332 & 0.0049334056 & 0.0021748793 & 0.0016968920 & 0.0016726906\\\\\n",
       "\t... & ... & ... & ... & ... & ... & ... & ... & ... & ... & ...\\\\\n",
       "\tJoseph Crowley & 0.651260294  & 0.0016350278 & 0.0017020070 & 0.0883942011 & 0.0007668205 & 2.256961e-02 & 0.0055292767 & 0.0328748709 & 0.1239215146 & 7.134638e-02\\\\\n",
       "\tEddie Johnson & 0.461407653  & 0.3157929852 & 0.0183932503 & 0.0005878093 & 0.0663450108 & 1.241528e-03 & 0.0005433261 & 0.1342995737 & 0.0009465906 & 4.422729e-04\\\\\n",
       "\tWilliam Clay & 0.011767837  & 0.1758579728 & 0.1089088216 & 0.0078509543 & 0.0018844831 & 1.613883e-03 & 0.0017535953 & 0.4413552380 & 0.0019989942 & 2.470082e-01\\\\\n",
       "\tCarolyn Maloney & 0.286402182  & 0.4308871604 & 0.0403156675 & 0.0004126991 & 0.0948734894 & 8.077367e-04 & 0.0003622671 & 0.0013000763 & 0.0830558680 & 6.158285e-02\\\\\n",
       "\tAlcee Hastings & 0.329113487  & 0.2648846691 & 0.1474361293 & 0.0321981125 & 0.0009288670 & 1.066051e-02 & 0.0025039027 & 0.1663721521 & 0.0456332591 & 2.689148e-04\\\\\n",
       "\tWilliam Jefferson & 0.667770911  & 0.0007624837 & 0.0006096699 & 0.0006039582 & 0.1723251534 & 1.255609e-03 & 0.0005068247 & 0.0005864380 & 0.0582681084 & 9.731084e-02\\\\\n",
       "\tXavier Becerra & 0.002764706  & 0.8410842276 & 0.0022534016 & 0.0023926670 & 0.0108182787 & 2.293087e-03 & 0.0024373863 & 0.0028390653 & 0.1308746989 & 2.242481e-03\\\\\n",
       "\tAl Wynn & 0.019392309  & 0.0461592666 & 0.1291488298 & 0.0273672736 & 0.1427963989 & 4.542968e-01 & 0.0150843130 & 0.1321641828 & 0.0090940363 & 2.449660e-02\\\\\n",
       "\tLuis Gutierrez & 0.697644309  & 0.0025229973 & 0.1117254637 & 0.0021861763 & 0.1737154984 & 2.635385e-03 & 0.0022395641 & 0.0028746370 & 0.0025005744 & 1.955395e-03\\\\\n",
       "\tMaxine Waters & 0.472884401  & 0.1548981341 & 0.0379439106 & 0.0923161473 & 0.0004959922 & 9.260485e-04 & 0.0004191164 & 0.0009870097 & 0.2388434193 & 2.858206e-04\\\\\n",
       "\tJim McDermott & 0.024039498  & 0.6532276745 & 0.0003039240 & 0.0883567569 & 0.0094893588 & 1.640921e-03 & 0.0090783497 & 0.1484578176 & 0.0546134566 & 1.079224e-02\\\\\n",
       "\tMichael Capuano & 0.030137265  & 0.3801013096 & 0.0596055882 & 0.1567252190 & 0.0264923430 & 3.190498e-02 & 0.0370149561 & 0.2406768605 & 0.0198354987 & 1.750598e-02\\\\\n",
       "\tCarolyn Kilpatrick & 0.481028627  & 0.1350979601 & 0.0009974922 & 0.0229433424 & 0.0008374818 & 5.153921e-04 & 0.0028094459 & 0.0546993424 & 0.1530090611 & 1.480619e-01\\\\\n",
       "\tNydia Velazquez & 0.426956440  & 0.0139219641 & 0.0031111682 & 0.0209563194 & 0.3935241391 & 3.429365e-02 & 0.0461705765 & 0.0035618530 & 0.0561305358 & 1.373353e-03\\\\\n",
       "\tStephanie Jones & 0.794064281  & 0.0026660714 & 0.0095476242 & 0.0007176396 & 0.1005787686 & 1.650484e-02 & 0.0008923416 & 0.0010499977 & 0.0023049129 & 7.167352e-02\\\\\n",
       "\tDonald Payne & 0.911170554  & 0.0021868192 & 0.0021329584 & 0.0245960197 & 0.0013802104 & 2.082742e-02 & 0.0323543614 & 0.0026317549 & 0.0015326892 & 1.187209e-03\\\\\n",
       "\tJohn Conyers & 0.723757296  & 0.0005250174 & 0.0835751056 & 0.0003730782 & 0.0003259936 & 7.941472e-02 & 0.0946207956 & 0.0168637165 & 0.0003030123 & 2.412625e-04\\\\\n",
       "\tBobby Rush & 0.898825940  & 0.0811985540 & 0.0012142815 & 0.0017526464 & 0.0012614058 & 9.206037e-03 & 0.0013839854 & 0.0019544358 & 0.0010981377 & 2.104576e-03\\\\\n",
       "\tKendrick Meek & 0.010068211  & 0.9634760949 & 0.0018678775 & 0.0081897631 & 0.0002810072 & 9.679105e-05 & 0.0059274411 & 0.0001226109 & 0.0099155401 & 5.466304e-05\\\\\n",
       "\tDanny Davis & 0.812124936  & 0.0129477663 & 0.0748313919 & 0.0302702162 & 0.0007673570 & 7.920462e-03 & 0.0005261482 & 0.0435918682 & 0.0167476150 & 2.722392e-04\\\\\n",
       "\tDiane Watson & 0.564445389  & 0.3292103843 & 0.0576497271 & 0.0281680227 & 0.0164522351 & 3.514362e-04 & 0.0005003893 & 0.0007952055 & 0.0021148792 & 3.123316e-04\\\\\n",
       "\tJesse Jackson & 0.938555914  & 0.0024803459 & 0.0020125483 & 0.0436255301 & 0.0022760164 & 1.532416e-03 & 0.0030336020 & 0.0026531313 & 0.0022007715 & 1.629724e-03\\\\\n",
       "\tGregory Meeks & 0.172351070  & 0.3401892088 & 0.0034739363 & 0.0554356265 & 0.0319476118 & 3.871121e-03 & 0.0221307574 & 0.2015600028 & 0.1669479162 & 2.092749e-03\\\\\n",
       "\tNancy Pelosi & 0.211899815  & 0.5699519985 & 0.0223354102 & 0.0093025606 & 0.0134134680 & 6.559956e-02 & 0.0323678452 & 0.0003620648 & 0.0458616838 & 2.890559e-02\\\\\n",
       "\tEdolphus Towns & 0.824376690  & 0.0029973140 & 0.1258896296 & 0.0290469601 & 0.0025614092 & 2.757928e-03 & 0.0038250186 & 0.0027338813 & 0.0033070885 & 2.504080e-03\\\\\n",
       "\tMajor Owens & 0.529609986  & 0.0781739966 & 0.0432495712 & 0.1952968581 & 0.0014411806 & 3.310911e-04 & 0.0133214940 & 0.1375761581 & 0.0007327708 & 2.668938e-04\\\\\n",
       "\tBarbara Lee & 0.604085114  & 0.2819827836 & 0.0012368286 & 0.0497659780 & 0.0002752859 & 5.477722e-04 & 0.0251100070 & 0.0188112513 & 0.0179355001 & 2.494790e-04\\\\\n",
       "\tChaka Fattah & 0.051243404  & 0.0840934866 & 0.0369845114 & 0.0621331665 & 0.4155994798 & 1.862357e-01 & 0.0365940027 & 0.0375046906 & 0.0523061515 & 3.730542e-02\\\\\n",
       "\tJose Serrano & 0.689504108  & 0.2600377099 & 0.0086112878 & 0.0166522296 & 0.0068320908 & 2.877222e-03 & 0.0046039436 & 0.0066374007 & 0.0021409623 & 2.103045e-03\\\\\n",
       "\tCharles Rangel & 0.230193518  & 0.2807564114 & 0.0044649384 & 0.0228034371 & 0.2901181020 & 5.798889e-04 & 0.0005403483 & 0.0008075116 & 0.1690529027 & 6.829413e-04\\\\\n",
       "\\end{tabular}\n"
      ],
      "text/markdown": [
       "\n",
       "| <!--/--> | 1 | 2 | 3 | 4 | 5 | 6 | 7 | 8 | 9 | 10 |\n",
       "|---|---|---|---|---|---|---|---|---|---|---|\n",
       "| Chris Cannon | 0.0680548277 | 0.0012556703 | 0.879625705  | 0.0445791648 | 0.001142059  | 0.0011926692 | 0.0011839707 | 0.0009668420 | 0.0010451143 | 0.0009539774 |\n",
       "| Michael Conaway | 0.0005899192 | 0.0042881742 | 0.067163064  | 0.1323693371 | 0.625841980  | 0.0544827614 | 0.0021354543 | 0.0040298073 | 0.1010446893 | 0.0080548131 |\n",
       "| Spencer Bachus | 0.1991346183 | 0.0484123858 | 0.102975465  | 0.0128857693 | 0.302266766  | 0.0154968694 | 0.0482887550 | 0.0171006414 | 0.2472251836 | 0.0062135462 |\n",
       "| Mac Thornberry | 0.0174549620 | 0.3706735534 | 0.020143559  | 0.4453830390 | 0.021150868  | 0.0215048745 | 0.0411665209 | 0.0237798506 | 0.0226020475 | 0.0161407252 |\n",
       "| Randy Neugebauer | 0.0094290470 | 0.0035689379 | 0.049169012  | 0.4536633025 | 0.266490161  | 0.0528226423 | 0.0013572729 | 0.0022324194 | 0.0009345718 | 0.1603326334 |\n",
       "| Nathan Deal | 0.1441308016 | 0.0148496972 | 0.177112860  | 0.0024988835 | 0.581438203  | 0.0685140993 | 0.0038435421 | 0.0024438222 | 0.0025141456 | 0.0026539447 |\n",
       "| Tom Osborne | 0.0915497340 | 0.0041394214 | 0.024728235  | 0.3188159820 | 0.002166860  | 0.2455614371 | 0.0005909921 | 0.0025136616 | 0.0833656521 | 0.2265680247 |\n",
       "| John Linder | 0.0066940496 | 0.0736835777 | 0.226056923  | 0.0092914763 | 0.396383037  | 0.0050885422 | 0.0055258433 | 0.0059614485 | 0.2672828737 | 0.0040322292 |\n",
       "| Rob Bishop | 0.4090471383 | 0.0025437168 | 0.296493819  | 0.1806448341 | 0.049820879  | 0.0101223318 | 0.0228530906 | 0.0045581440 | 0.0014144140 | 0.0225016329 |\n",
       "| Lynn Westmoreland | 0.1481541090 | 0.0016259130 | 0.423754766  | 0.0743890420 | 0.257338602  | 0.0010313519 | 0.0879752872 | 0.0029470540 | 0.0018439525 | 0.0009399228 |\n",
       "| Robert Bennett | 0.0009540721 | 0.0026752639 | 0.008989351  | 0.0363026990 | 0.152901768  | 0.2310732092 | 0.4742201633 | 0.0917142334 | 0.0005526469 | 0.0006165930 |\n",
       "| Orrin Hatch | 0.0003030314 | 0.0002138434 | 0.053652865  | 0.0001972754 | 0.034664052  | 0.0003411565 | 0.7546749173 | 0.0199708548 | 0.0088286133 | 0.1271533909 |\n",
       "| Jerry Moran | 0.6630831189 | 0.0347131614 | 0.003277743  | 0.0020896103 | 0.107812398  | 0.0045199668 | 0.0026881872 | 0.0044351382 | 0.0795440410 | 0.0978366356 |\n",
       "| Charles Norwood | 0.0020974766 | 0.0852458957 | 0.649971055  | 0.0460958388 | 0.096282306  | 0.0277699371 | 0.0030834334 | 0.0037393868 | 0.0847020320 | 0.0010126391 |\n",
       "| Kevin Brady | 0.0022308918 | 0.0041217792 | 0.080427515  | 0.0518914138 | 0.500688397  | 0.0061442421 | 0.0019609891 | 0.0016428652 | 0.3492233973 | 0.0016685092 |\n",
       "| Jeff Miller | 0.0030351948 | 0.0039561811 | 0.027389582  | 0.4290898705 | 0.453190386  | 0.0102022182 | 0.0033936293 | 0.0027590504 | 0.0030482806 | 0.0639356073 |\n",
       "| Robert Aderholt | 0.0046179732 | 0.0037935841 | 0.627273966  | 0.0123035109 | 0.003668853  | 0.0033695606 | 0.0037817741 | 0.0032382969 | 0.0031316166 | 0.3348208644 |\n",
       "| Dan Burton | 0.0066086919 | 0.1733085107 | 0.342671905  | 0.2875159206 | 0.007100013  | 0.0014964816 | 0.0026812240 | 0.0012290647 | 0.1761823294 | 0.0012058595 |\n",
       "| Frank Lucas | 0.0566062439 | 0.0354498504 | 0.632766878  | 0.0552578774 | 0.041888400  | 0.0362938649 | 0.0356785964 | 0.0347969214 | 0.0339045846 | 0.0373567835 |\n",
       "| Bobby Jindal | 0.2473664528 | 0.0643382425 | 0.263917942  | 0.2507769725 | 0.160392673  | 0.0027691680 | 0.0037860458 | 0.0010261867 | 0.0044308133 | 0.0011955030 |\n",
       "| Tom Price | 0.0322667259 | 0.0013534111 | 0.135650390  | 0.0268932570 | 0.696207899  | 0.0002469433 | 0.0069902765 | 0.0004873671 | 0.0002315041 | 0.0996722262 |\n",
       "| Ralph Hall | 0.0118369479 | 0.0101224596 | 0.102348528  | 0.0757635717 | 0.114223345  | 0.5341049725 | 0.0068073579 | 0.1301483541 | 0.0063578403 | 0.0082866236 |\n",
       "| Michael Enzi | 0.0014489660 | 0.0022141853 | 0.036336256  | 0.0103147040 | 0.335997228  | 0.0418451338 | 0.1134752563 | 0.4366000209 | 0.0076614804 | 0.0141067692 |\n",
       "| Craig Thomas | 0.0005734268 | 0.0007590704 | 0.019829171  | 0.0937234966 | 0.149677937  | 0.6674163081 | 0.0155323868 | 0.0007298730 | 0.0511614452 | 0.0005968858 |\n",
       "| Barbara Cubin | 0.0090093605 | 0.0129360555 | 0.788870512  | 0.0368434431 | 0.012326150  | 0.0309141887 | 0.0086384900 | 0.0763828955 | 0.0093770607 | 0.0147018440 |\n",
       "| Howard Coble | 0.0090008691 | 0.0093937262 | 0.024613391  | 0.0139258676 | 0.010584910  | 0.0114843289 | 0.4396678864 | 0.0091189218 | 0.4643931936 | 0.0078169053 |\n",
       "| Steve Buyer | 0.0015162574 | 0.2602748930 | 0.259602054  | 0.4106719301 | 0.060467368  | 0.0022255980 | 0.0016684297 | 0.0014045904 | 0.0011500336 | 0.0010188460 |\n",
       "| Louie Gohmert | 0.0020034640 | 0.0115763693 | 0.234253925  | 0.1612044681 | 0.108093736  | 0.0911080671 | 0.3893555694 | 0.0005946367 | 0.0012619425 | 0.0005478220 |\n",
       "| Butch Otter | 0.0019304410 | 0.0020171678 | 0.485095031  | 0.0021548578 | 0.001868294  | 0.0497084055 | 0.0047199413 | 0.0800760326 | 0.3708406578 | 0.0015891709 |\n",
       "| Ander Crenshaw | 0.0664064002 | 0.0039922734 | 0.025630182  | 0.3403613583 | 0.551173685  | 0.0019582332 | 0.0049334056 | 0.0021748793 | 0.0016968920 | 0.0016726906 |\n",
       "| ... | ... | ... | ... | ... | ... | ... | ... | ... | ... | ... |\n",
       "| Joseph Crowley | 0.651260294  | 0.0016350278 | 0.0017020070 | 0.0883942011 | 0.0007668205 | 2.256961e-02 | 0.0055292767 | 0.0328748709 | 0.1239215146 | 7.134638e-02 |\n",
       "| Eddie Johnson | 0.461407653  | 0.3157929852 | 0.0183932503 | 0.0005878093 | 0.0663450108 | 1.241528e-03 | 0.0005433261 | 0.1342995737 | 0.0009465906 | 4.422729e-04 |\n",
       "| William Clay | 0.011767837  | 0.1758579728 | 0.1089088216 | 0.0078509543 | 0.0018844831 | 1.613883e-03 | 0.0017535953 | 0.4413552380 | 0.0019989942 | 2.470082e-01 |\n",
       "| Carolyn Maloney | 0.286402182  | 0.4308871604 | 0.0403156675 | 0.0004126991 | 0.0948734894 | 8.077367e-04 | 0.0003622671 | 0.0013000763 | 0.0830558680 | 6.158285e-02 |\n",
       "| Alcee Hastings | 0.329113487  | 0.2648846691 | 0.1474361293 | 0.0321981125 | 0.0009288670 | 1.066051e-02 | 0.0025039027 | 0.1663721521 | 0.0456332591 | 2.689148e-04 |\n",
       "| William Jefferson | 0.667770911  | 0.0007624837 | 0.0006096699 | 0.0006039582 | 0.1723251534 | 1.255609e-03 | 0.0005068247 | 0.0005864380 | 0.0582681084 | 9.731084e-02 |\n",
       "| Xavier Becerra | 0.002764706  | 0.8410842276 | 0.0022534016 | 0.0023926670 | 0.0108182787 | 2.293087e-03 | 0.0024373863 | 0.0028390653 | 0.1308746989 | 2.242481e-03 |\n",
       "| Al Wynn | 0.019392309  | 0.0461592666 | 0.1291488298 | 0.0273672736 | 0.1427963989 | 4.542968e-01 | 0.0150843130 | 0.1321641828 | 0.0090940363 | 2.449660e-02 |\n",
       "| Luis Gutierrez | 0.697644309  | 0.0025229973 | 0.1117254637 | 0.0021861763 | 0.1737154984 | 2.635385e-03 | 0.0022395641 | 0.0028746370 | 0.0025005744 | 1.955395e-03 |\n",
       "| Maxine Waters | 0.472884401  | 0.1548981341 | 0.0379439106 | 0.0923161473 | 0.0004959922 | 9.260485e-04 | 0.0004191164 | 0.0009870097 | 0.2388434193 | 2.858206e-04 |\n",
       "| Jim McDermott | 0.024039498  | 0.6532276745 | 0.0003039240 | 0.0883567569 | 0.0094893588 | 1.640921e-03 | 0.0090783497 | 0.1484578176 | 0.0546134566 | 1.079224e-02 |\n",
       "| Michael Capuano | 0.030137265  | 0.3801013096 | 0.0596055882 | 0.1567252190 | 0.0264923430 | 3.190498e-02 | 0.0370149561 | 0.2406768605 | 0.0198354987 | 1.750598e-02 |\n",
       "| Carolyn Kilpatrick | 0.481028627  | 0.1350979601 | 0.0009974922 | 0.0229433424 | 0.0008374818 | 5.153921e-04 | 0.0028094459 | 0.0546993424 | 0.1530090611 | 1.480619e-01 |\n",
       "| Nydia Velazquez | 0.426956440  | 0.0139219641 | 0.0031111682 | 0.0209563194 | 0.3935241391 | 3.429365e-02 | 0.0461705765 | 0.0035618530 | 0.0561305358 | 1.373353e-03 |\n",
       "| Stephanie Jones | 0.794064281  | 0.0026660714 | 0.0095476242 | 0.0007176396 | 0.1005787686 | 1.650484e-02 | 0.0008923416 | 0.0010499977 | 0.0023049129 | 7.167352e-02 |\n",
       "| Donald Payne | 0.911170554  | 0.0021868192 | 0.0021329584 | 0.0245960197 | 0.0013802104 | 2.082742e-02 | 0.0323543614 | 0.0026317549 | 0.0015326892 | 1.187209e-03 |\n",
       "| John Conyers | 0.723757296  | 0.0005250174 | 0.0835751056 | 0.0003730782 | 0.0003259936 | 7.941472e-02 | 0.0946207956 | 0.0168637165 | 0.0003030123 | 2.412625e-04 |\n",
       "| Bobby Rush | 0.898825940  | 0.0811985540 | 0.0012142815 | 0.0017526464 | 0.0012614058 | 9.206037e-03 | 0.0013839854 | 0.0019544358 | 0.0010981377 | 2.104576e-03 |\n",
       "| Kendrick Meek | 0.010068211  | 0.9634760949 | 0.0018678775 | 0.0081897631 | 0.0002810072 | 9.679105e-05 | 0.0059274411 | 0.0001226109 | 0.0099155401 | 5.466304e-05 |\n",
       "| Danny Davis | 0.812124936  | 0.0129477663 | 0.0748313919 | 0.0302702162 | 0.0007673570 | 7.920462e-03 | 0.0005261482 | 0.0435918682 | 0.0167476150 | 2.722392e-04 |\n",
       "| Diane Watson | 0.564445389  | 0.3292103843 | 0.0576497271 | 0.0281680227 | 0.0164522351 | 3.514362e-04 | 0.0005003893 | 0.0007952055 | 0.0021148792 | 3.123316e-04 |\n",
       "| Jesse Jackson | 0.938555914  | 0.0024803459 | 0.0020125483 | 0.0436255301 | 0.0022760164 | 1.532416e-03 | 0.0030336020 | 0.0026531313 | 0.0022007715 | 1.629724e-03 |\n",
       "| Gregory Meeks | 0.172351070  | 0.3401892088 | 0.0034739363 | 0.0554356265 | 0.0319476118 | 3.871121e-03 | 0.0221307574 | 0.2015600028 | 0.1669479162 | 2.092749e-03 |\n",
       "| Nancy Pelosi | 0.211899815  | 0.5699519985 | 0.0223354102 | 0.0093025606 | 0.0134134680 | 6.559956e-02 | 0.0323678452 | 0.0003620648 | 0.0458616838 | 2.890559e-02 |\n",
       "| Edolphus Towns | 0.824376690  | 0.0029973140 | 0.1258896296 | 0.0290469601 | 0.0025614092 | 2.757928e-03 | 0.0038250186 | 0.0027338813 | 0.0033070885 | 2.504080e-03 |\n",
       "| Major Owens | 0.529609986  | 0.0781739966 | 0.0432495712 | 0.1952968581 | 0.0014411806 | 3.310911e-04 | 0.0133214940 | 0.1375761581 | 0.0007327708 | 2.668938e-04 |\n",
       "| Barbara Lee | 0.604085114  | 0.2819827836 | 0.0012368286 | 0.0497659780 | 0.0002752859 | 5.477722e-04 | 0.0251100070 | 0.0188112513 | 0.0179355001 | 2.494790e-04 |\n",
       "| Chaka Fattah | 0.051243404  | 0.0840934866 | 0.0369845114 | 0.0621331665 | 0.4155994798 | 1.862357e-01 | 0.0365940027 | 0.0375046906 | 0.0523061515 | 3.730542e-02 |\n",
       "| Jose Serrano | 0.689504108  | 0.2600377099 | 0.0086112878 | 0.0166522296 | 0.0068320908 | 2.877222e-03 | 0.0046039436 | 0.0066374007 | 0.0021409623 | 2.103045e-03 |\n",
       "| Charles Rangel | 0.230193518  | 0.2807564114 | 0.0044649384 | 0.0228034371 | 0.2901181020 | 5.798889e-04 | 0.0005403483 | 0.0008075116 | 0.1690529027 | 6.829413e-04 |\n",
       "\n"
      ],
      "text/plain": [
       "                   1            2            3            4           \n",
       "Chris Cannon       0.0680548277 0.0012556703 0.879625705  0.0445791648\n",
       "Michael Conaway    0.0005899192 0.0042881742 0.067163064  0.1323693371\n",
       "Spencer Bachus     0.1991346183 0.0484123858 0.102975465  0.0128857693\n",
       "Mac Thornberry     0.0174549620 0.3706735534 0.020143559  0.4453830390\n",
       "Randy Neugebauer   0.0094290470 0.0035689379 0.049169012  0.4536633025\n",
       "Nathan Deal        0.1441308016 0.0148496972 0.177112860  0.0024988835\n",
       "Tom Osborne        0.0915497340 0.0041394214 0.024728235  0.3188159820\n",
       "John Linder        0.0066940496 0.0736835777 0.226056923  0.0092914763\n",
       "Rob Bishop         0.4090471383 0.0025437168 0.296493819  0.1806448341\n",
       "Lynn Westmoreland  0.1481541090 0.0016259130 0.423754766  0.0743890420\n",
       "Robert Bennett     0.0009540721 0.0026752639 0.008989351  0.0363026990\n",
       "Orrin Hatch        0.0003030314 0.0002138434 0.053652865  0.0001972754\n",
       "Jerry Moran        0.6630831189 0.0347131614 0.003277743  0.0020896103\n",
       "Charles Norwood    0.0020974766 0.0852458957 0.649971055  0.0460958388\n",
       "Kevin Brady        0.0022308918 0.0041217792 0.080427515  0.0518914138\n",
       "Jeff Miller        0.0030351948 0.0039561811 0.027389582  0.4290898705\n",
       "Robert Aderholt    0.0046179732 0.0037935841 0.627273966  0.0123035109\n",
       "Dan Burton         0.0066086919 0.1733085107 0.342671905  0.2875159206\n",
       "Frank Lucas        0.0566062439 0.0354498504 0.632766878  0.0552578774\n",
       "Bobby Jindal       0.2473664528 0.0643382425 0.263917942  0.2507769725\n",
       "Tom Price          0.0322667259 0.0013534111 0.135650390  0.0268932570\n",
       "Ralph Hall         0.0118369479 0.0101224596 0.102348528  0.0757635717\n",
       "Michael Enzi       0.0014489660 0.0022141853 0.036336256  0.0103147040\n",
       "Craig Thomas       0.0005734268 0.0007590704 0.019829171  0.0937234966\n",
       "Barbara Cubin      0.0090093605 0.0129360555 0.788870512  0.0368434431\n",
       "Howard Coble       0.0090008691 0.0093937262 0.024613391  0.0139258676\n",
       "Steve Buyer        0.0015162574 0.2602748930 0.259602054  0.4106719301\n",
       "Louie Gohmert      0.0020034640 0.0115763693 0.234253925  0.1612044681\n",
       "Butch Otter        0.0019304410 0.0020171678 0.485095031  0.0021548578\n",
       "Ander Crenshaw     0.0664064002 0.0039922734 0.025630182  0.3403613583\n",
       "...                ...          ...          ...          ...         \n",
       "Joseph Crowley     0.651260294  0.0016350278 0.0017020070 0.0883942011\n",
       "Eddie Johnson      0.461407653  0.3157929852 0.0183932503 0.0005878093\n",
       "William Clay       0.011767837  0.1758579728 0.1089088216 0.0078509543\n",
       "Carolyn Maloney    0.286402182  0.4308871604 0.0403156675 0.0004126991\n",
       "Alcee Hastings     0.329113487  0.2648846691 0.1474361293 0.0321981125\n",
       "William Jefferson  0.667770911  0.0007624837 0.0006096699 0.0006039582\n",
       "Xavier Becerra     0.002764706  0.8410842276 0.0022534016 0.0023926670\n",
       "Al Wynn            0.019392309  0.0461592666 0.1291488298 0.0273672736\n",
       "Luis Gutierrez     0.697644309  0.0025229973 0.1117254637 0.0021861763\n",
       "Maxine Waters      0.472884401  0.1548981341 0.0379439106 0.0923161473\n",
       "Jim McDermott      0.024039498  0.6532276745 0.0003039240 0.0883567569\n",
       "Michael Capuano    0.030137265  0.3801013096 0.0596055882 0.1567252190\n",
       "Carolyn Kilpatrick 0.481028627  0.1350979601 0.0009974922 0.0229433424\n",
       "Nydia Velazquez    0.426956440  0.0139219641 0.0031111682 0.0209563194\n",
       "Stephanie Jones    0.794064281  0.0026660714 0.0095476242 0.0007176396\n",
       "Donald Payne       0.911170554  0.0021868192 0.0021329584 0.0245960197\n",
       "John Conyers       0.723757296  0.0005250174 0.0835751056 0.0003730782\n",
       "Bobby Rush         0.898825940  0.0811985540 0.0012142815 0.0017526464\n",
       "Kendrick Meek      0.010068211  0.9634760949 0.0018678775 0.0081897631\n",
       "Danny Davis        0.812124936  0.0129477663 0.0748313919 0.0302702162\n",
       "Diane Watson       0.564445389  0.3292103843 0.0576497271 0.0281680227\n",
       "Jesse Jackson      0.938555914  0.0024803459 0.0020125483 0.0436255301\n",
       "Gregory Meeks      0.172351070  0.3401892088 0.0034739363 0.0554356265\n",
       "Nancy Pelosi       0.211899815  0.5699519985 0.0223354102 0.0093025606\n",
       "Edolphus Towns     0.824376690  0.0029973140 0.1258896296 0.0290469601\n",
       "Major Owens        0.529609986  0.0781739966 0.0432495712 0.1952968581\n",
       "Barbara Lee        0.604085114  0.2819827836 0.0012368286 0.0497659780\n",
       "Chaka Fattah       0.051243404  0.0840934866 0.0369845114 0.0621331665\n",
       "Jose Serrano       0.689504108  0.2600377099 0.0086112878 0.0166522296\n",
       "Charles Rangel     0.230193518  0.2807564114 0.0044649384 0.0228034371\n",
       "                   5            6            7            8           \n",
       "Chris Cannon       0.001142059  0.0011926692 0.0011839707 0.0009668420\n",
       "Michael Conaway    0.625841980  0.0544827614 0.0021354543 0.0040298073\n",
       "Spencer Bachus     0.302266766  0.0154968694 0.0482887550 0.0171006414\n",
       "Mac Thornberry     0.021150868  0.0215048745 0.0411665209 0.0237798506\n",
       "Randy Neugebauer   0.266490161  0.0528226423 0.0013572729 0.0022324194\n",
       "Nathan Deal        0.581438203  0.0685140993 0.0038435421 0.0024438222\n",
       "Tom Osborne        0.002166860  0.2455614371 0.0005909921 0.0025136616\n",
       "John Linder        0.396383037  0.0050885422 0.0055258433 0.0059614485\n",
       "Rob Bishop         0.049820879  0.0101223318 0.0228530906 0.0045581440\n",
       "Lynn Westmoreland  0.257338602  0.0010313519 0.0879752872 0.0029470540\n",
       "Robert Bennett     0.152901768  0.2310732092 0.4742201633 0.0917142334\n",
       "Orrin Hatch        0.034664052  0.0003411565 0.7546749173 0.0199708548\n",
       "Jerry Moran        0.107812398  0.0045199668 0.0026881872 0.0044351382\n",
       "Charles Norwood    0.096282306  0.0277699371 0.0030834334 0.0037393868\n",
       "Kevin Brady        0.500688397  0.0061442421 0.0019609891 0.0016428652\n",
       "Jeff Miller        0.453190386  0.0102022182 0.0033936293 0.0027590504\n",
       "Robert Aderholt    0.003668853  0.0033695606 0.0037817741 0.0032382969\n",
       "Dan Burton         0.007100013  0.0014964816 0.0026812240 0.0012290647\n",
       "Frank Lucas        0.041888400  0.0362938649 0.0356785964 0.0347969214\n",
       "Bobby Jindal       0.160392673  0.0027691680 0.0037860458 0.0010261867\n",
       "Tom Price          0.696207899  0.0002469433 0.0069902765 0.0004873671\n",
       "Ralph Hall         0.114223345  0.5341049725 0.0068073579 0.1301483541\n",
       "Michael Enzi       0.335997228  0.0418451338 0.1134752563 0.4366000209\n",
       "Craig Thomas       0.149677937  0.6674163081 0.0155323868 0.0007298730\n",
       "Barbara Cubin      0.012326150  0.0309141887 0.0086384900 0.0763828955\n",
       "Howard Coble       0.010584910  0.0114843289 0.4396678864 0.0091189218\n",
       "Steve Buyer        0.060467368  0.0022255980 0.0016684297 0.0014045904\n",
       "Louie Gohmert      0.108093736  0.0911080671 0.3893555694 0.0005946367\n",
       "Butch Otter        0.001868294  0.0497084055 0.0047199413 0.0800760326\n",
       "Ander Crenshaw     0.551173685  0.0019582332 0.0049334056 0.0021748793\n",
       "...                ...          ...          ...          ...         \n",
       "Joseph Crowley     0.0007668205 2.256961e-02 0.0055292767 0.0328748709\n",
       "Eddie Johnson      0.0663450108 1.241528e-03 0.0005433261 0.1342995737\n",
       "William Clay       0.0018844831 1.613883e-03 0.0017535953 0.4413552380\n",
       "Carolyn Maloney    0.0948734894 8.077367e-04 0.0003622671 0.0013000763\n",
       "Alcee Hastings     0.0009288670 1.066051e-02 0.0025039027 0.1663721521\n",
       "William Jefferson  0.1723251534 1.255609e-03 0.0005068247 0.0005864380\n",
       "Xavier Becerra     0.0108182787 2.293087e-03 0.0024373863 0.0028390653\n",
       "Al Wynn            0.1427963989 4.542968e-01 0.0150843130 0.1321641828\n",
       "Luis Gutierrez     0.1737154984 2.635385e-03 0.0022395641 0.0028746370\n",
       "Maxine Waters      0.0004959922 9.260485e-04 0.0004191164 0.0009870097\n",
       "Jim McDermott      0.0094893588 1.640921e-03 0.0090783497 0.1484578176\n",
       "Michael Capuano    0.0264923430 3.190498e-02 0.0370149561 0.2406768605\n",
       "Carolyn Kilpatrick 0.0008374818 5.153921e-04 0.0028094459 0.0546993424\n",
       "Nydia Velazquez    0.3935241391 3.429365e-02 0.0461705765 0.0035618530\n",
       "Stephanie Jones    0.1005787686 1.650484e-02 0.0008923416 0.0010499977\n",
       "Donald Payne       0.0013802104 2.082742e-02 0.0323543614 0.0026317549\n",
       "John Conyers       0.0003259936 7.941472e-02 0.0946207956 0.0168637165\n",
       "Bobby Rush         0.0012614058 9.206037e-03 0.0013839854 0.0019544358\n",
       "Kendrick Meek      0.0002810072 9.679105e-05 0.0059274411 0.0001226109\n",
       "Danny Davis        0.0007673570 7.920462e-03 0.0005261482 0.0435918682\n",
       "Diane Watson       0.0164522351 3.514362e-04 0.0005003893 0.0007952055\n",
       "Jesse Jackson      0.0022760164 1.532416e-03 0.0030336020 0.0026531313\n",
       "Gregory Meeks      0.0319476118 3.871121e-03 0.0221307574 0.2015600028\n",
       "Nancy Pelosi       0.0134134680 6.559956e-02 0.0323678452 0.0003620648\n",
       "Edolphus Towns     0.0025614092 2.757928e-03 0.0038250186 0.0027338813\n",
       "Major Owens        0.0014411806 3.310911e-04 0.0133214940 0.1375761581\n",
       "Barbara Lee        0.0002752859 5.477722e-04 0.0251100070 0.0188112513\n",
       "Chaka Fattah       0.4155994798 1.862357e-01 0.0365940027 0.0375046906\n",
       "Jose Serrano       0.0068320908 2.877222e-03 0.0046039436 0.0066374007\n",
       "Charles Rangel     0.2901181020 5.798889e-04 0.0005403483 0.0008075116\n",
       "                   9            10          \n",
       "Chris Cannon       0.0010451143 0.0009539774\n",
       "Michael Conaway    0.1010446893 0.0080548131\n",
       "Spencer Bachus     0.2472251836 0.0062135462\n",
       "Mac Thornberry     0.0226020475 0.0161407252\n",
       "Randy Neugebauer   0.0009345718 0.1603326334\n",
       "Nathan Deal        0.0025141456 0.0026539447\n",
       "Tom Osborne        0.0833656521 0.2265680247\n",
       "John Linder        0.2672828737 0.0040322292\n",
       "Rob Bishop         0.0014144140 0.0225016329\n",
       "Lynn Westmoreland  0.0018439525 0.0009399228\n",
       "Robert Bennett     0.0005526469 0.0006165930\n",
       "Orrin Hatch        0.0088286133 0.1271533909\n",
       "Jerry Moran        0.0795440410 0.0978366356\n",
       "Charles Norwood    0.0847020320 0.0010126391\n",
       "Kevin Brady        0.3492233973 0.0016685092\n",
       "Jeff Miller        0.0030482806 0.0639356073\n",
       "Robert Aderholt    0.0031316166 0.3348208644\n",
       "Dan Burton         0.1761823294 0.0012058595\n",
       "Frank Lucas        0.0339045846 0.0373567835\n",
       "Bobby Jindal       0.0044308133 0.0011955030\n",
       "Tom Price          0.0002315041 0.0996722262\n",
       "Ralph Hall         0.0063578403 0.0082866236\n",
       "Michael Enzi       0.0076614804 0.0141067692\n",
       "Craig Thomas       0.0511614452 0.0005968858\n",
       "Barbara Cubin      0.0093770607 0.0147018440\n",
       "Howard Coble       0.4643931936 0.0078169053\n",
       "Steve Buyer        0.0011500336 0.0010188460\n",
       "Louie Gohmert      0.0012619425 0.0005478220\n",
       "Butch Otter        0.3708406578 0.0015891709\n",
       "Ander Crenshaw     0.0016968920 0.0016726906\n",
       "...                ...          ...         \n",
       "Joseph Crowley     0.1239215146 7.134638e-02\n",
       "Eddie Johnson      0.0009465906 4.422729e-04\n",
       "William Clay       0.0019989942 2.470082e-01\n",
       "Carolyn Maloney    0.0830558680 6.158285e-02\n",
       "Alcee Hastings     0.0456332591 2.689148e-04\n",
       "William Jefferson  0.0582681084 9.731084e-02\n",
       "Xavier Becerra     0.1308746989 2.242481e-03\n",
       "Al Wynn            0.0090940363 2.449660e-02\n",
       "Luis Gutierrez     0.0025005744 1.955395e-03\n",
       "Maxine Waters      0.2388434193 2.858206e-04\n",
       "Jim McDermott      0.0546134566 1.079224e-02\n",
       "Michael Capuano    0.0198354987 1.750598e-02\n",
       "Carolyn Kilpatrick 0.1530090611 1.480619e-01\n",
       "Nydia Velazquez    0.0561305358 1.373353e-03\n",
       "Stephanie Jones    0.0023049129 7.167352e-02\n",
       "Donald Payne       0.0015326892 1.187209e-03\n",
       "John Conyers       0.0003030123 2.412625e-04\n",
       "Bobby Rush         0.0010981377 2.104576e-03\n",
       "Kendrick Meek      0.0099155401 5.466304e-05\n",
       "Danny Davis        0.0167476150 2.722392e-04\n",
       "Diane Watson       0.0021148792 3.123316e-04\n",
       "Jesse Jackson      0.0022007715 1.629724e-03\n",
       "Gregory Meeks      0.1669479162 2.092749e-03\n",
       "Nancy Pelosi       0.0458616838 2.890559e-02\n",
       "Edolphus Towns     0.0033070885 2.504080e-03\n",
       "Major Owens        0.0007327708 2.668938e-04\n",
       "Barbara Lee        0.0179355001 2.494790e-04\n",
       "Chaka Fattah       0.0523061515 3.730542e-02\n",
       "Jose Serrano       0.0021409623 2.103045e-03\n",
       "Charles Rangel     0.1690529027 6.829413e-04"
      ]
     },
     "metadata": {},
     "output_type": "display_data"
    }
   ],
   "source": [
    "tpcs$omega"
   ]
  },
  {
   "cell_type": "code",
   "execution_count": 34,
   "metadata": {
    "ExecuteTime": {
     "end_time": "2020-02-11T04:22:44.080488Z",
     "start_time": "2020-02-11T04:22:44.052Z"
    }
   },
   "outputs": [
    {
     "name": "stdout",
     "output_type": "stream",
     "text": [
      "     1   2   3  \n",
      "[1,] \"4\" \"2\" \"1\"\n",
      "[2,] \"3\" \"1\" \"3\"\n",
      "[3,] \"5\" \"8\" \"5\"\n",
      "[4,] \"7\" \"9\" \"6\"\n",
      "[5,] \"6\" \"5\" \"7\"\n"
     ]
    }
   ],
   "source": [
    "test <- kmeans(tpcs$omega,3)\n",
    "print(apply(test$centers,1,function(c) colnames(tpcs$omega)[order(-c)[1:5]]))"
   ]
  },
  {
   "cell_type": "code",
   "execution_count": 8,
   "metadata": {
    "ExecuteTime": {
     "end_time": "2020-02-08T04:40:37.204456Z",
     "start_time": "2020-02-08T04:40:37.136Z"
    }
   },
   "outputs": [
    {
     "name": "stderr",
     "output_type": "stream",
     "text": [
      "Using top_topic as value column: use value.var to override.\n"
     ]
    },
    {
     "data": {
      "text/html": [
       "<table>\n",
       "<thead><tr><th scope=col>party</th><th scope=col>1</th><th scope=col>10</th><th scope=col>2</th><th scope=col>3</th><th scope=col>4</th><th scope=col>5</th><th scope=col>6</th><th scope=col>7</th><th scope=col>8</th><th scope=col>9</th></tr></thead>\n",
       "<tbody>\n",
       "\t<tr><td>D </td><td>68</td><td> 5</td><td>89</td><td>13</td><td>15</td><td> 7</td><td>11</td><td> 6</td><td>20</td><td>8 </td></tr>\n",
       "\t<tr><td>I </td><td> 0</td><td> 0</td><td> 0</td><td> 0</td><td> 0</td><td> 0</td><td> 1</td><td> 0</td><td> 0</td><td>1 </td></tr>\n",
       "\t<tr><td>R </td><td>27</td><td>19</td><td> 3</td><td>61</td><td>50</td><td>68</td><td>26</td><td>22</td><td> 2</td><td>7 </td></tr>\n",
       "</tbody>\n",
       "</table>\n"
      ],
      "text/latex": [
       "\\begin{tabular}{r|lllllllllll}\n",
       " party & 1 & 10 & 2 & 3 & 4 & 5 & 6 & 7 & 8 & 9\\\\\n",
       "\\hline\n",
       "\t D  & 68 &  5 & 89 & 13 & 15 &  7 & 11 &  6 & 20 & 8 \\\\\n",
       "\t I  &  0 &  0 &  0 &  0 &  0 &  0 &  1 &  0 &  0 & 1 \\\\\n",
       "\t R  & 27 & 19 &  3 & 61 & 50 & 68 & 26 & 22 &  2 & 7 \\\\\n",
       "\\end{tabular}\n"
      ],
      "text/markdown": [
       "\n",
       "| party | 1 | 10 | 2 | 3 | 4 | 5 | 6 | 7 | 8 | 9 |\n",
       "|---|---|---|---|---|---|---|---|---|---|---|\n",
       "| D  | 68 |  5 | 89 | 13 | 15 |  7 | 11 |  6 | 20 | 8  |\n",
       "| I  |  0 |  0 |  0 |  0 |  0 |  0 |  1 |  0 |  0 | 1  |\n",
       "| R  | 27 | 19 |  3 | 61 | 50 | 68 | 26 | 22 |  2 | 7  |\n",
       "\n"
      ],
      "text/plain": [
       "  party 1  10 2  3  4  5  6  7  8  9\n",
       "1 D     68  5 89 13 15  7 11  6 20 8\n",
       "2 I      0  0  0  0  0  0  1  0  0 1\n",
       "3 R     27 19  3 61 50 68 26 22  2 7"
      ]
     },
     "metadata": {},
     "output_type": "display_data"
    }
   ],
   "source": [
    "DF <- tpcs$omega\n",
    "top_topic <- colnames(DF)[apply(DF,1,which.max)]\n",
    "party <- congress109Ideology$party\n",
    "party <- as.vector(party)\n",
    "\n",
    "frequent <- rep(1,length(party))\n",
    "tb <- cbind(party,top_topic)\n",
    "\n",
    "\n",
    "tb <- as.data.frame(tb)\n",
    "party_r <- tb[tb$party=='R',]\n",
    "party_i <- tb[tb$party=='I',]\n",
    "party_d <- tb[tb$party=='D',]\n",
    "\n",
    "\n",
    "dcast(tb, party ~ top_topic, fun.aggregate = length)"
   ]
  },
  {
   "cell_type": "code",
   "execution_count": 9,
   "metadata": {
    "ExecuteTime": {
     "end_time": "2020-02-08T04:40:38.938816Z",
     "start_time": "2020-02-08T04:40:38.872Z"
    }
   },
   "outputs": [
    {
     "data": {
      "image/png": "[encoded data removed]",
      "text/plain": [
       "plot without title"
      ]
     },
     "metadata": {},
     "output_type": "display_data"
    }
   ],
   "source": [
    "par(mfrow=c(2,2))\n",
    "plot(party_r$top_topic)\n",
    "plot(party_i$top_topic)\n",
    "plot(party_d$top_topic)"
   ]
  },
  {
   "cell_type": "code",
   "execution_count": 10,
   "metadata": {
    "ExecuteTime": {
     "end_time": "2020-02-08T04:40:41.403502Z",
     "start_time": "2020-02-08T04:40:41.213Z"
    }
   },
   "outputs": [
    {
     "data": {
      "text/html": [
       "0.348209635916135"
      ],
      "text/latex": [
       "0.348209635916135"
      ],
      "text/markdown": [
       "0.348209635916135"
      ],
      "text/plain": [
       "[1] 0.3482096"
      ]
     },
     "metadata": {},
     "output_type": "display_data"
    },
    {
     "data": {
      "image/png": "[encoded data removed]",
      "text/plain": [
       "plot without title"
      ]
     },
     "metadata": {},
     "output_type": "display_data"
    }
   ],
   "source": [
    "repshare <- congress109Ideology[,\"repshare\"]\n",
    "regtopics.cv <- cv.glmnet(tpcs$omega, repshare)\n",
    "plot(regtopics.cv)\n",
    "mtext(\"topic regression\", font=2, line=2)\n",
    "max(1-regtopics.cv$cvm/regtopics.cv$cvm[1])"
   ]
  },
  {
   "cell_type": "code",
   "execution_count": 28,
   "metadata": {
    "ExecuteTime": {
     "end_time": "2020-02-08T04:53:56.760328Z",
     "start_time": "2020-02-08T04:53:56.375Z"
    }
   },
   "outputs": [
    {
     "data": {
      "text/html": [
       "0.535954919357562"
      ],
      "text/latex": [
       "0.535954919357562"
      ],
      "text/markdown": [
       "0.535954919357562"
      ],
      "text/plain": [
       "[1] 0.5359549"
      ]
     },
     "metadata": {},
     "output_type": "display_data"
    },
    {
     "data": {
      "image/png": "[encoded data removed]",
      "text/plain": [
       "plot without title"
      ]
     },
     "metadata": {},
     "output_type": "display_data"
    }
   ],
   "source": [
    "party <- congress109Ideology$party\n",
    "party <- as.vector(party)\n",
    "\n",
    "x_1 <- tpcs$omega[-which(party=='I'),]\n",
    "party <- party[-which(party=='I')]\n",
    "regwords.cv <- cv.glmnet(x_1, party，family='binomial')\n",
    "plot(regwords.cv)\n",
    "mtext(\"bigram regression\", font=2, line=2)\n",
    "max(1-regwords.cv$cvm/regwords.cv$cvm[1])"
   ]
  },
  {
   "cell_type": "code",
   "execution_count": 29,
   "metadata": {
    "ExecuteTime": {
     "end_time": "2020-02-08T04:55:19.520783Z",
     "start_time": "2020-02-08T04:55:18.916Z"
    }
   },
   "outputs": [
    {
     "data": {
      "text/html": [
       "0.196918343600702"
      ],
      "text/latex": [
       "0.196918343600702"
      ],
      "text/markdown": [
       "0.196918343600702"
      ],
      "text/plain": [
       "[1] 0.1969183"
      ]
     },
     "metadata": {},
     "output_type": "display_data"
    },
    {
     "data": {
      "image/png": "[encoded data removed]",
      "text/plain": [
       "plot without title"
      ]
     },
     "metadata": {},
     "output_type": "display_data"
    }
   ],
   "source": [
    "x <- 100*congress109Counts/rowSums(congress109Counts)\n",
    "repshare <- congress109Ideology[,\"repshare\"]\n",
    "regtopics.cv <- cv.glmnet(x, repshare)\n",
    "plot(regtopics.cv)\n",
    "mtext(\"topic regression\", font=2, line=2)\n",
    "max(1-regtopics.cv$cvm/regtopics.cv$cvm[1])"
   ]
  },
  {
   "cell_type": "code",
   "execution_count": 22,
   "metadata": {
    "ExecuteTime": {
     "end_time": "2020-02-08T04:49:48.012574Z",
     "start_time": "2020-02-08T04:49:47.986Z"
    }
   },
   "outputs": [],
   "source": [
    "x <- 100*congress109Counts/rowSums(congress109Counts)\n",
    "party <- congress109Ideology$party\n",
    "party <- as.vector(party)\n",
    "x <- x[-which(party=='I'),]"
   ]
  },
  {
   "cell_type": "code",
   "execution_count": 23,
   "metadata": {
    "ExecuteTime": {
     "end_time": "2020-02-08T04:49:48.870279Z",
     "start_time": "2020-02-08T04:49:48.850Z"
    }
   },
   "outputs": [],
   "source": [
    "party<- party[-which(party=='I')]"
   ]
  },
  {
   "cell_type": "code",
   "execution_count": 24,
   "metadata": {
    "ExecuteTime": {
     "end_time": "2020-02-08T04:49:50.253841Z",
     "start_time": "2020-02-08T04:49:49.566Z"
    }
   },
   "outputs": [
    {
     "data": {
      "text/html": [
       "0.374949899260925"
      ],
      "text/latex": [
       "0.374949899260925"
      ],
      "text/markdown": [
       "0.374949899260925"
      ],
      "text/plain": [
       "[1] 0.3749499"
      ]
     },
     "metadata": {},
     "output_type": "display_data"
    },
    {
     "data": {
      "image/png": "[encoded data removed]",
      "text/plain": [
       "plot without title"
      ]
     },
     "metadata": {},
     "output_type": "display_data"
    }
   ],
   "source": [
    "# x <- 100*congress109Counts/rowSums(congress109Counts)\n",
    "\n",
    "regwords.cv <- cv.glmnet(x, party，family='binomial')\n",
    "plot(regwords.cv)\n",
    "mtext(\"bigram regression\", font=2, line=2)\n",
    "max(1-regwords.cv$cvm/regwords.cv$cvm[1])"
   ]
  },
  {
   "cell_type": "code",
   "execution_count": null,
   "metadata": {},
   "outputs": [],
   "source": []
  }
 ],
 "metadata": {
  "kernelspec": {
   "display_name": "R",
   "language": "R",
   "name": "ir"
  },
  "language_info": {
   "codemirror_mode": "r",
   "file_extension": ".r",
   "mimetype": "text/x-r-source",
   "name": "R",
   "pygments_lexer": "r",
   "version": "3.6.1"
  },
  "toc": {
   "base_numbering": 1,
   "nav_menu": {},
   "number_sections": true,
   "sideBar": true,
   "skip_h1_title": false,
   "title_cell": "Table of Contents",
   "title_sidebar": "Contents",
   "toc_cell": false,
   "toc_position": {
    "height": "calc(100% - 180px)",
    "left": "10px",
    "top": "150px",
    "width": "343px"
   },
   "toc_section_display": true,
   "toc_window_display": false
  }
 },
 "nbformat": 4,
 "nbformat_minor": 2
}
