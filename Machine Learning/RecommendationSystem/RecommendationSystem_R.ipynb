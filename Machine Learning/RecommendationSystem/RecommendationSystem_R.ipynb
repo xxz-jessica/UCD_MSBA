{
 "cells": [
  {
   "cell_type": "code",
   "execution_count": 4,
   "metadata": {
    "ExecuteTime": {
     "end_time": "2019-11-30T19:40:56.997069Z",
     "start_time": "2019-11-30T19:40:38.677Z"
    },
    "collapsed": true
   },
   "outputs": [
    {
     "name": "stderr",
     "output_type": "stream",
     "text": [
      "also installing the dependencies 'RcppProgress', 'arules', 'proxy', 'registry', 'irlba', 'recosystem'\n",
      "\n"
     ]
    },
    {
     "name": "stdout",
     "output_type": "stream",
     "text": [
      "package 'RcppProgress' successfully unpacked and MD5 sums checked\n",
      "package 'arules' successfully unpacked and MD5 sums checked\n",
      "package 'proxy' successfully unpacked and MD5 sums checked\n",
      "package 'registry' successfully unpacked and MD5 sums checked\n",
      "package 'irlba' successfully unpacked and MD5 sums checked\n",
      "package 'recosystem' successfully unpacked and MD5 sums checked\n",
      "package 'recommenderlab' successfully unpacked and MD5 sums checked\n",
      "\n",
      "The downloaded binary packages are in\n",
      "\tC:\\Users\\xingxuan_dell\\AppData\\Local\\Temp\\RtmpERqpEH\\downloaded_packages\n"
     ]
    }
   ],
   "source": [
    "install.packages(\"recommenderlab\")\n"
   ]
  },
  {
   "cell_type": "code",
   "execution_count": 1,
   "metadata": {
    "ExecuteTime": {
     "end_time": "2019-12-03T02:28:51.554329Z",
     "start_time": "2019-12-03T02:28:49.286Z"
    },
    "scrolled": true
   },
   "outputs": [
    {
     "name": "stderr",
     "output_type": "stream",
     "text": [
      "Loading required package: Matrix\n",
      "Loading required package: arules\n",
      "\n",
      "Attaching package: 'arules'\n",
      "\n",
      "The following objects are masked from 'package:base':\n",
      "\n",
      "    abbreviate, write\n",
      "\n",
      "Loading required package: proxy\n",
      "\n",
      "Attaching package: 'proxy'\n",
      "\n",
      "The following object is masked from 'package:Matrix':\n",
      "\n",
      "    as.matrix\n",
      "\n",
      "The following objects are masked from 'package:stats':\n",
      "\n",
      "    as.dist, dist\n",
      "\n",
      "The following object is masked from 'package:base':\n",
      "\n",
      "    as.matrix\n",
      "\n",
      "Loading required package: registry\n",
      "Registered S3 methods overwritten by 'registry':\n",
      "  method               from \n",
      "  print.registry_field proxy\n",
      "  print.registry_entry proxy\n",
      "Registered S3 methods overwritten by 'ggplot2':\n",
      "  method         from \n",
      "  [.quosures     rlang\n",
      "  c.quosures     rlang\n",
      "  print.quosures rlang\n",
      "Registered S3 method overwritten by 'rvest':\n",
      "  method            from\n",
      "  read_xml.response xml2\n",
      "-- Attaching packages --------------------------------------- tidyverse 1.2.1 --\n",
      "v ggplot2 3.1.1     v purrr   0.3.2\n",
      "v tibble  2.1.1     v dplyr   0.8.3\n",
      "v tidyr   0.8.3     v stringr 1.4.0\n",
      "v readr   1.3.1     v forcats 0.4.0\n",
      "-- Conflicts ------------------------------------------ tidyverse_conflicts() --\n",
      "x tidyr::expand() masks Matrix::expand()\n",
      "x dplyr::filter() masks stats::filter()\n",
      "x dplyr::lag()    masks stats::lag()\n",
      "x dplyr::recode() masks arules::recode()\n"
     ]
    }
   ],
   "source": [
    "library(recommenderlab)\n",
    "library(tidyverse)"
   ]
  },
  {
   "cell_type": "markdown",
   "metadata": {},
   "source": [
    "https://rpubs.com/jt_rpubs/285729"
   ]
  },
  {
   "cell_type": "markdown",
   "metadata": {},
   "source": [
    "# Dataset Exploration\n",
    "\n",
    "Explore the data from our classmates, including our goup."
   ]
  },
  {
   "cell_type": "code",
   "execution_count": 2,
   "metadata": {
    "ExecuteTime": {
     "end_time": "2019-12-03T02:28:56.882208Z",
     "start_time": "2019-12-03T02:28:56.774Z"
    }
   },
   "outputs": [
    {
     "data": {
      "text/html": [
       "<table>\n",
       "<thead><tr><th scope=col>Serial.Number</th><th scope=col>First.Name</th><th scope=col>Last.Name</th><th scope=col>Section</th><th scope=col>Group</th><th scope=col>The.Social.Network</th><th scope=col>A.Prophet</th><th scope=col>Amour</th><th scope=col>The.King.s.Speech</th><th scope=col>La.La.Land</th><th scope=col>...</th><th scope=col>Call.Me.by.Your.Name</th><th scope=col>Winter.s.Bone</th><th scope=col>The.Grand.Budapest.Hotel</th><th scope=col>Dunkirk</th><th scope=col>Inside.Llewyn.Davis</th><th scope=col>A.Serious.Man</th><th scope=col>Toy.Story.3</th><th scope=col>Beasts.of.the.Southern.Wild</th><th scope=col>The.Imitation.Game</th><th scope=col>The.Fighter</th></tr></thead>\n",
       "<tbody>\n",
       "\t<tr><td> 1      </td><td>Yao-Ting</td><td>Wang    </td><td>1       </td><td> 1      </td><td>NA      </td><td>NA      </td><td>NA      </td><td>NA      </td><td>NA      </td><td>...     </td><td>NA      </td><td>NA      </td><td> 5      </td><td>NA      </td><td>NA      </td><td>NA      </td><td>NA      </td><td>NA      </td><td> 5      </td><td>NA      </td></tr>\n",
       "\t<tr><td> 2      </td><td>Rajasa  </td><td>Kakkera </td><td>1       </td><td> 5      </td><td>NA      </td><td>NA      </td><td>NA      </td><td>NA      </td><td>NA      </td><td>...     </td><td>NA      </td><td>NA      </td><td>NA      </td><td>NA      </td><td>NA      </td><td>NA      </td><td> 4      </td><td>NA      </td><td> 5      </td><td>NA      </td></tr>\n",
       "\t<tr><td> 3      </td><td>NAN     </td><td>LIANG   </td><td>2       </td><td> 9      </td><td> 4      </td><td>NA      </td><td>NA      </td><td> 3      </td><td> 4      </td><td>...     </td><td> 4      </td><td>NA      </td><td> 3      </td><td> 3      </td><td> 4      </td><td>NA      </td><td>NA      </td><td>NA      </td><td> 3      </td><td>NA      </td></tr>\n",
       "\t<tr><td> 4      </td><td>Ruizhi  </td><td>Ma      </td><td>1       </td><td> 8      </td><td>NA      </td><td>NA      </td><td>NA      </td><td> 4      </td><td> 5      </td><td>...     </td><td>NA      </td><td>NA      </td><td>NA      </td><td> 4      </td><td>NA      </td><td>NA      </td><td> 4      </td><td>NA      </td><td> 4      </td><td> 3      </td></tr>\n",
       "\t<tr><td> 5      </td><td>Shivani </td><td>Sharma  </td><td>2       </td><td>10      </td><td>NA      </td><td>NA      </td><td>NA      </td><td>NA      </td><td>NA      </td><td>...     </td><td> 5      </td><td>NA      </td><td> 2      </td><td> 5      </td><td> 5      </td><td>NA      </td><td> 3      </td><td>NA      </td><td> 4      </td><td> 3      </td></tr>\n",
       "\t<tr><td> 6      </td><td>Xingxuan</td><td>Zhang   </td><td>1       </td><td> 3      </td><td>NA      </td><td>NA      </td><td>NA      </td><td>NA      </td><td>NA      </td><td>...     </td><td>NA      </td><td>NA      </td><td>NA      </td><td>NA      </td><td>NA      </td><td>NA      </td><td>NA      </td><td>NA      </td><td> 5      </td><td>NA      </td></tr>\n",
       "\t<tr><td> 7      </td><td>Calvin  </td><td>Wu      </td><td>1       </td><td> 8      </td><td> 4      </td><td>NA      </td><td>NA      </td><td> 5      </td><td> 5      </td><td>...     </td><td>NA      </td><td>NA      </td><td> 4      </td><td>NA      </td><td>NA      </td><td>NA      </td><td>NA      </td><td>NA      </td><td> 5      </td><td>NA      </td></tr>\n",
       "\t<tr><td> 8      </td><td>Nidhi   </td><td>Patni   </td><td>1       </td><td> 6      </td><td> 4      </td><td>NA      </td><td>NA      </td><td>NA      </td><td> 3      </td><td>...     </td><td>NA      </td><td>NA      </td><td>NA      </td><td>NA      </td><td>NA      </td><td>NA      </td><td> 3      </td><td>NA      </td><td> 4      </td><td>NA      </td></tr>\n",
       "\t<tr><td> 9      </td><td>Yuanyuan</td><td>Ge      </td><td>1       </td><td> 8      </td><td> 4      </td><td>NA      </td><td> 5      </td><td> 5      </td><td> 5      </td><td>...     </td><td> 5      </td><td>NA      </td><td> 5      </td><td>NA      </td><td>NA      </td><td>NA      </td><td>NA      </td><td>NA      </td><td> 4      </td><td>NA      </td></tr>\n",
       "\t<tr><td>10      </td><td>Joey    </td><td>Li      </td><td>2       </td><td> 2      </td><td> 4      </td><td>NA      </td><td>NA      </td><td>NA      </td><td> 3      </td><td>...     </td><td> 5      </td><td>NA      </td><td>NA      </td><td>NA      </td><td>NA      </td><td>NA      </td><td> 5      </td><td>NA      </td><td>NA      </td><td>NA      </td></tr>\n",
       "</tbody>\n",
       "</table>\n"
      ],
      "text/latex": [
       "\\begin{tabular}{r|lllllllllllllllllllllllllllllllllllllllllllllllllllllll}\n",
       " Serial.Number & First.Name & Last.Name & Section & Group & The.Social.Network & A.Prophet & Amour & The.King.s.Speech & La.La.Land & ... & Call.Me.by.Your.Name & Winter.s.Bone & The.Grand.Budapest.Hotel & Dunkirk & Inside.Llewyn.Davis & A.Serious.Man & Toy.Story.3 & Beasts.of.the.Southern.Wild & The.Imitation.Game & The.Fighter\\\\\n",
       "\\hline\n",
       "\t  1       & Yao-Ting & Wang     & 1        &  1       & NA       & NA       & NA       & NA       & NA       & ...      & NA       & NA       &  5       & NA       & NA       & NA       & NA       & NA       &  5       & NA      \\\\\n",
       "\t  2       & Rajasa   & Kakkera  & 1        &  5       & NA       & NA       & NA       & NA       & NA       & ...      & NA       & NA       & NA       & NA       & NA       & NA       &  4       & NA       &  5       & NA      \\\\\n",
       "\t  3       & NAN      & LIANG    & 2        &  9       &  4       & NA       & NA       &  3       &  4       & ...      &  4       & NA       &  3       &  3       &  4       & NA       & NA       & NA       &  3       & NA      \\\\\n",
       "\t  4       & Ruizhi   & Ma       & 1        &  8       & NA       & NA       & NA       &  4       &  5       & ...      & NA       & NA       & NA       &  4       & NA       & NA       &  4       & NA       &  4       &  3      \\\\\n",
       "\t  5       & Shivani  & Sharma   & 2        & 10       & NA       & NA       & NA       & NA       & NA       & ...      &  5       & NA       &  2       &  5       &  5       & NA       &  3       & NA       &  4       &  3      \\\\\n",
       "\t  6       & Xingxuan & Zhang    & 1        &  3       & NA       & NA       & NA       & NA       & NA       & ...      & NA       & NA       & NA       & NA       & NA       & NA       & NA       & NA       &  5       & NA      \\\\\n",
       "\t  7       & Calvin   & Wu       & 1        &  8       &  4       & NA       & NA       &  5       &  5       & ...      & NA       & NA       &  4       & NA       & NA       & NA       & NA       & NA       &  5       & NA      \\\\\n",
       "\t  8       & Nidhi    & Patni    & 1        &  6       &  4       & NA       & NA       & NA       &  3       & ...      & NA       & NA       & NA       & NA       & NA       & NA       &  3       & NA       &  4       & NA      \\\\\n",
       "\t  9       & Yuanyuan & Ge       & 1        &  8       &  4       & NA       &  5       &  5       &  5       & ...      &  5       & NA       &  5       & NA       & NA       & NA       & NA       & NA       &  4       & NA      \\\\\n",
       "\t 10       & Joey     & Li       & 2        &  2       &  4       & NA       & NA       & NA       &  3       & ...      &  5       & NA       & NA       & NA       & NA       & NA       &  5       & NA       & NA       & NA      \\\\\n",
       "\\end{tabular}\n"
      ],
      "text/markdown": [
       "\n",
       "| Serial.Number | First.Name | Last.Name | Section | Group | The.Social.Network | A.Prophet | Amour | The.King.s.Speech | La.La.Land | ... | Call.Me.by.Your.Name | Winter.s.Bone | The.Grand.Budapest.Hotel | Dunkirk | Inside.Llewyn.Davis | A.Serious.Man | Toy.Story.3 | Beasts.of.the.Southern.Wild | The.Imitation.Game | The.Fighter |\n",
       "|---|---|---|---|---|---|---|---|---|---|---|---|---|---|---|---|---|---|---|---|---|\n",
       "|  1       | Yao-Ting | Wang     | 1        |  1       | NA       | NA       | NA       | NA       | NA       | ...      | NA       | NA       |  5       | NA       | NA       | NA       | NA       | NA       |  5       | NA       |\n",
       "|  2       | Rajasa   | Kakkera  | 1        |  5       | NA       | NA       | NA       | NA       | NA       | ...      | NA       | NA       | NA       | NA       | NA       | NA       |  4       | NA       |  5       | NA       |\n",
       "|  3       | NAN      | LIANG    | 2        |  9       |  4       | NA       | NA       |  3       |  4       | ...      |  4       | NA       |  3       |  3       |  4       | NA       | NA       | NA       |  3       | NA       |\n",
       "|  4       | Ruizhi   | Ma       | 1        |  8       | NA       | NA       | NA       |  4       |  5       | ...      | NA       | NA       | NA       |  4       | NA       | NA       |  4       | NA       |  4       |  3       |\n",
       "|  5       | Shivani  | Sharma   | 2        | 10       | NA       | NA       | NA       | NA       | NA       | ...      |  5       | NA       |  2       |  5       |  5       | NA       |  3       | NA       |  4       |  3       |\n",
       "|  6       | Xingxuan | Zhang    | 1        |  3       | NA       | NA       | NA       | NA       | NA       | ...      | NA       | NA       | NA       | NA       | NA       | NA       | NA       | NA       |  5       | NA       |\n",
       "|  7       | Calvin   | Wu       | 1        |  8       |  4       | NA       | NA       |  5       |  5       | ...      | NA       | NA       |  4       | NA       | NA       | NA       | NA       | NA       |  5       | NA       |\n",
       "|  8       | Nidhi    | Patni    | 1        |  6       |  4       | NA       | NA       | NA       |  3       | ...      | NA       | NA       | NA       | NA       | NA       | NA       |  3       | NA       |  4       | NA       |\n",
       "|  9       | Yuanyuan | Ge       | 1        |  8       |  4       | NA       |  5       |  5       |  5       | ...      |  5       | NA       |  5       | NA       | NA       | NA       | NA       | NA       |  4       | NA       |\n",
       "| 10       | Joey     | Li       | 2        |  2       |  4       | NA       | NA       | NA       |  3       | ...      |  5       | NA       | NA       | NA       | NA       | NA       |  5       | NA       | NA       | NA       |\n",
       "\n"
      ],
      "text/plain": [
       "   Serial.Number First.Name Last.Name Section Group The.Social.Network\n",
       "1   1            Yao-Ting   Wang      1        1    NA                \n",
       "2   2            Rajasa     Kakkera   1        5    NA                \n",
       "3   3            NAN        LIANG     2        9     4                \n",
       "4   4            Ruizhi     Ma        1        8    NA                \n",
       "5   5            Shivani    Sharma    2       10    NA                \n",
       "6   6            Xingxuan   Zhang     1        3    NA                \n",
       "7   7            Calvin     Wu        1        8     4                \n",
       "8   8            Nidhi      Patni     1        6     4                \n",
       "9   9            Yuanyuan   Ge        1        8     4                \n",
       "10 10            Joey       Li        2        2     4                \n",
       "   A.Prophet Amour The.King.s.Speech La.La.Land ... Call.Me.by.Your.Name\n",
       "1  NA        NA    NA                NA         ... NA                  \n",
       "2  NA        NA    NA                NA         ... NA                  \n",
       "3  NA        NA     3                 4         ...  4                  \n",
       "4  NA        NA     4                 5         ... NA                  \n",
       "5  NA        NA    NA                NA         ...  5                  \n",
       "6  NA        NA    NA                NA         ... NA                  \n",
       "7  NA        NA     5                 5         ... NA                  \n",
       "8  NA        NA    NA                 3         ... NA                  \n",
       "9  NA         5     5                 5         ...  5                  \n",
       "10 NA        NA    NA                 3         ...  5                  \n",
       "   Winter.s.Bone The.Grand.Budapest.Hotel Dunkirk Inside.Llewyn.Davis\n",
       "1  NA             5                       NA      NA                 \n",
       "2  NA            NA                       NA      NA                 \n",
       "3  NA             3                        3       4                 \n",
       "4  NA            NA                        4      NA                 \n",
       "5  NA             2                        5       5                 \n",
       "6  NA            NA                       NA      NA                 \n",
       "7  NA             4                       NA      NA                 \n",
       "8  NA            NA                       NA      NA                 \n",
       "9  NA             5                       NA      NA                 \n",
       "10 NA            NA                       NA      NA                 \n",
       "   A.Serious.Man Toy.Story.3 Beasts.of.the.Southern.Wild The.Imitation.Game\n",
       "1  NA            NA          NA                           5                \n",
       "2  NA             4          NA                           5                \n",
       "3  NA            NA          NA                           3                \n",
       "4  NA             4          NA                           4                \n",
       "5  NA             3          NA                           4                \n",
       "6  NA            NA          NA                           5                \n",
       "7  NA            NA          NA                           5                \n",
       "8  NA             3          NA                           4                \n",
       "9  NA            NA          NA                           4                \n",
       "10 NA             5          NA                          NA                \n",
       "   The.Fighter\n",
       "1  NA         \n",
       "2  NA         \n",
       "3  NA         \n",
       "4   3         \n",
       "5   3         \n",
       "6  NA         \n",
       "7  NA         \n",
       "8  NA         \n",
       "9  NA         \n",
       "10 NA         "
      ]
     },
     "metadata": {},
     "output_type": "display_data"
    },
    {
     "data": {
      "text/html": [
       "<ol class=list-inline>\n",
       "\t<li>98</li>\n",
       "\t<li>55</li>\n",
       "</ol>\n"
      ],
      "text/latex": [
       "\\begin{enumerate*}\n",
       "\\item 98\n",
       "\\item 55\n",
       "\\end{enumerate*}\n"
      ],
      "text/markdown": [
       "1. 98\n",
       "2. 55\n",
       "\n",
       "\n"
      ],
      "text/plain": [
       "[1] 98 55"
      ]
     },
     "metadata": {},
     "output_type": "display_data"
    },
    {
     "data": {
      "text/plain": [
       " Serial.Number     First.Name   Last.Name     Section         Group     \n",
       " Min.   : 1.00   Jing   : 2   Huang  : 6   Min.   :1.00   Min.   : 1.0  \n",
       " 1st Qu.:25.25   Adam   : 1   Li     : 6   1st Qu.:1.00   1st Qu.: 3.0  \n",
       " Median :49.50   Aijie  : 1   Wang   : 5   Median :2.00   Median : 5.5  \n",
       " Mean   :49.50   Alayna : 1   Zhang  : 3   Mean   :1.51   Mean   : 5.5  \n",
       " 3rd Qu.:73.75   Alice  : 1   Hao    : 2   3rd Qu.:2.00   3rd Qu.: 8.0  \n",
       " Max.   :98.00   Allyson: 1   He     : 2   Max.   :2.00   Max.   :10.0  \n",
       "                 (Other):91   (Other):74                                \n",
       " The.Social.Network   A.Prophet         Amour      The.King.s.Speech\n",
       " Min.   :1.000      Min.   :1.000   Min.   :2.00   Min.   :2.000    \n",
       " 1st Qu.:3.000      1st Qu.:3.000   1st Qu.:4.25   1st Qu.:4.000    \n",
       " Median :4.000      Median :4.000   Median :5.00   Median :4.000    \n",
       " Mean   :3.787      Mean   :3.429   Mean   :4.25   Mean   :4.283    \n",
       " 3rd Qu.:4.000      3rd Qu.:4.000   3rd Qu.:5.00   3rd Qu.:5.000    \n",
       " Max.   :5.000      Max.   :5.000   Max.   :5.00   Max.   :5.000    \n",
       " NA's   :51         NA's   :91      NA's   :94     NA's   :45       \n",
       "   La.La.Land       Boyhood     Inception      A.Separation     The.Artist   \n",
       " Min.   :1.000   Min.   :1    Min.   :1.000   Min.   :2.000   Min.   :3.000  \n",
       " 1st Qu.:3.500   1st Qu.:3    1st Qu.:4.000   1st Qu.:4.000   1st Qu.:3.500  \n",
       " Median :4.000   Median :4    Median :5.000   Median :4.000   Median :4.000  \n",
       " Mean   :4.104   Mean   :4    Mean   :4.481   Mean   :4.091   Mean   :4.182  \n",
       " 3rd Qu.:5.000   3rd Qu.:5    3rd Qu.:5.000   3rd Qu.:5.000   3rd Qu.:5.000  \n",
       " Max.   :5.000   Max.   :5    Max.   :5.000   Max.   :5.000   Max.   :5.000  \n",
       " NA's   :31      NA's   :81   NA's   :19      NA's   :87      NA's   :87     \n",
       " The.White.Ribbon Zero.Dark.Thirty     Avatar        Spotlight    \n",
       " Mode:logical     Min.   :2.00     Min.   :1.000   Min.   :1.000  \n",
       " NA's:98          1st Qu.:3.75     1st Qu.:3.000   1st Qu.:4.000  \n",
       "                  Median :4.00     Median :4.000   Median :4.500  \n",
       "                  Mean   :3.95     Mean   :3.954   Mean   :4.269  \n",
       "                  3rd Qu.:4.25     3rd Qu.:5.000   3rd Qu.:5.000  \n",
       "                  Max.   :5.00     Max.   :5.000   Max.   :5.000  \n",
       "                  NA's   :78       NA's   :11      NA's   :72     \n",
       "    Precious    The.Tree.of.Life X12.Years.a.Slave Blue.is.the.Warmest.Colour\n",
       " Min.   :2.00   Min.   :1.00     Min.   :3.000     Min.   :2.000             \n",
       " 1st Qu.:3.25   1st Qu.:3.00     1st Qu.:4.000     1st Qu.:3.000             \n",
       " Median :4.50   Median :3.50     Median :4.000     Median :4.000             \n",
       " Mean   :4.00   Mean   :3.50     Mean   :4.261     Mean   :3.636             \n",
       " 3rd Qu.:5.00   3rd Qu.:4.75     3rd Qu.:5.000     3rd Qu.:4.000             \n",
       " Max.   :5.00   Max.   :5.00     Max.   :5.000     Max.   :5.000             \n",
       " NA's   :92     NA's   :92       NA's   :75        NA's   :87                \n",
       " Son.of.Saul    Up.in.the.Air   Inglourious.Basterds Mad.Max..Fury.Road\n",
       " Mode:logical   Min.   :2.000   Min.   :1.000        Min.   :1.000     \n",
       " NA's:98        1st Qu.:3.000   1st Qu.:3.000        1st Qu.:3.000     \n",
       "                Median :4.000   Median :4.000        Median :4.000     \n",
       "                Mean   :3.917   Mean   :3.966        Mean   :3.783     \n",
       "                3rd Qu.:5.000   3rd Qu.:5.000        3rd Qu.:5.000     \n",
       "                Max.   :5.000   Max.   :5.000        Max.   :5.000     \n",
       "                NA's   :74      NA's   :69           NA's   :52        \n",
       "   Moonlight        Birdman      Manchester.by.the.Sea    Lincoln     \n",
       " Min.   :1.000   Min.   :1.000   Min.   :2.000         Min.   :2.000  \n",
       " 1st Qu.:3.000   1st Qu.:3.000   1st Qu.:4.000         1st Qu.:3.000  \n",
       " Median :4.000   Median :4.000   Median :4.000         Median :4.000  \n",
       " Mean   :3.571   Mean   :3.758   Mean   :4.185         Mean   :3.706  \n",
       " 3rd Qu.:5.000   3rd Qu.:4.000   3rd Qu.:5.000         3rd Qu.:4.000  \n",
       " Max.   :5.000   Max.   :5.000   Max.   :5.000         Max.   :5.000  \n",
       " NA's   :77      NA's   :65      NA's   :71            NA's   :81     \n",
       "      Hugo     Toni.Erdmann The.Shape.of.Water\n",
       " Min.   :2    Min.   :2     Min.   :1.000     \n",
       " 1st Qu.:4    1st Qu.:2     1st Qu.:3.000     \n",
       " Median :4    Median :2     Median :4.000     \n",
       " Mean   :4    Mean   :2     Mean   :3.414     \n",
       " 3rd Qu.:4    3rd Qu.:2     3rd Qu.:4.000     \n",
       " Max.   :5    Max.   :2     Max.   :5.000     \n",
       " NA's   :77   NA's   :96    NA's   :69        \n",
       " X.Three.Billboards.Outside.Ebbing..Missouri      Argo         Gravity     \n",
       " Min.   :2.000                               Min.   :1.00   Min.   :1.000  \n",
       " 1st Qu.:4.000                               1st Qu.:3.00   1st Qu.:4.000  \n",
       " Median :4.000                               Median :4.00   Median :4.000  \n",
       " Mean   :4.161                               Mean   :3.64   Mean   :3.949  \n",
       " 3rd Qu.:5.000                               3rd Qu.:4.00   3rd Qu.:5.000  \n",
       " Max.   :5.000                               Max.   :5.00   Max.   :5.000  \n",
       " NA's   :67                                  NA's   :73     NA's   :59     \n",
       "   Black.Swan         Ida        Leviathan     The.Wolf.of.Wall.Street\n",
       " Min.   :1.000   Min.   :3.0   Min.   :3.000   Min.   :1.000          \n",
       " 1st Qu.:3.000   1st Qu.:3.0   1st Qu.:3.000   1st Qu.:3.000          \n",
       " Median :4.000   Median :4.0   Median :3.000   Median :4.000          \n",
       " Mean   :4.059   Mean   :3.8   Mean   :3.667   Mean   :4.043          \n",
       " 3rd Qu.:5.000   3rd Qu.:4.0   3rd Qu.:4.000   3rd Qu.:5.000          \n",
       " Max.   :5.000   Max.   :5.0   Max.   :5.000   Max.   :5.000          \n",
       " NA's   :47      NA's   :93    NA's   :95      NA's   :29             \n",
       "   True.Grit   The.Descendants The.Secret.in.Their.Eyes   Life.of.Pi\n",
       " Min.   :2.0   Min.   :2.000   Min.   :3.00             Min.   :1   \n",
       " 1st Qu.:3.0   1st Qu.:2.000   1st Qu.:3.75             1st Qu.:3   \n",
       " Median :3.0   Median :2.500   Median :4.50             Median :4   \n",
       " Mean   :3.5   Mean   :3.167   Mean   :4.25             Mean   :4   \n",
       " 3rd Qu.:4.0   3rd Qu.:4.500   3rd Qu.:5.00             3rd Qu.:5   \n",
       " Max.   :5.0   Max.   :5.000   Max.   :5.00             Max.   :5   \n",
       " NA's   :84    NA's   :92      NA's   :94               NA's   :31  \n",
       "    Arrival      Call.Me.by.Your.Name Winter.s.Bone  The.Grand.Budapest.Hotel\n",
       " Min.   :1.000   Min.   :1.000        Mode:logical   Min.   :2.00            \n",
       " 1st Qu.:3.000   1st Qu.:4.000        NA's:98        1st Qu.:4.00            \n",
       " Median :4.000   Median :4.000                       Median :5.00            \n",
       " Mean   :3.679   Mean   :4.148                       Mean   :4.28            \n",
       " 3rd Qu.:5.000   3rd Qu.:5.000                       3rd Qu.:5.00            \n",
       " Max.   :5.000   Max.   :5.000                       Max.   :5.00            \n",
       " NA's   :70      NA's   :71                          NA's   :48              \n",
       "    Dunkirk      Inside.Llewyn.Davis A.Serious.Man  Toy.Story.3   \n",
       " Min.   :1.000   Min.   :3.0         Min.   :4     Min.   :1.000  \n",
       " 1st Qu.:3.000   1st Qu.:3.0         1st Qu.:4     1st Qu.:3.000  \n",
       " Median :4.000   Median :4.0         Median :4     Median :4.000  \n",
       " Mean   :3.959   Mean   :3.8         Mean   :4     Mean   :3.943  \n",
       " 3rd Qu.:5.000   3rd Qu.:4.0         3rd Qu.:4     3rd Qu.:5.000  \n",
       " Max.   :5.000   Max.   :5.0         Max.   :4     Max.   :5.000  \n",
       " NA's   :49      NA's   :93          NA's   :97    NA's   :45     \n",
       " Beasts.of.the.Southern.Wild The.Imitation.Game  The.Fighter   \n",
       " Min.   :2.000               Min.   :1.000      Min.   :3.000  \n",
       " 1st Qu.:2.500               1st Qu.:4.000      1st Qu.:3.000  \n",
       " Median :3.000               Median :4.000      Median :4.000  \n",
       " Mean   :3.333               Mean   :4.211      Mean   :3.867  \n",
       " 3rd Qu.:4.000               3rd Qu.:5.000      3rd Qu.:4.500  \n",
       " Max.   :5.000               Max.   :5.000      Max.   :5.000  \n",
       " NA's   :95                  NA's   :41         NA's   :83     "
      ]
     },
     "metadata": {},
     "output_type": "display_data"
    }
   ],
   "source": [
    "setwd(\"D:/BAX401/HW4\")\n",
    "raw_data<-read.csv('raw_data.csv')\n",
    "head(raw_data,10)\n",
    "dim(raw_data)\n",
    "summary(raw_data)"
   ]
  },
  {
   "cell_type": "code",
   "execution_count": 3,
   "metadata": {
    "ExecuteTime": {
     "end_time": "2019-12-03T02:29:02.392451Z",
     "start_time": "2019-12-03T02:29:02.361Z"
    }
   },
   "outputs": [
    {
     "data": {
      "text/html": [
       "1"
      ],
      "text/latex": [
       "1"
      ],
      "text/markdown": [
       "1"
      ],
      "text/plain": [
       "[1] 1"
      ]
     },
     "metadata": {},
     "output_type": "display_data"
    },
    {
     "data": {
      "text/html": [
       "5"
      ],
      "text/latex": [
       "5"
      ],
      "text/markdown": [
       "5"
      ],
      "text/plain": [
       "[1] 5"
      ]
     },
     "metadata": {},
     "output_type": "display_data"
    }
   ],
   "source": [
    "raw_data_ratings <- raw_data[,6:ncol(raw_data)]\n",
    "min(raw_data_ratings,na.rm = TRUE)\n",
    "max(raw_data_ratings,na.rm = TRUE)"
   ]
  },
  {
   "cell_type": "code",
   "execution_count": 4,
   "metadata": {
    "ExecuteTime": {
     "end_time": "2019-12-03T02:29:14.075681Z",
     "start_time": "2019-12-03T02:29:14.011Z"
    }
   },
   "outputs": [
    {
     "data": {
      "image/png": "[encoded data removed]",
      "text/plain": [
       "Plot with title \"Distribution of Movie Ratings\""
      ]
     },
     "metadata": {},
     "output_type": "display_data"
    }
   ],
   "source": [
    "hist(as.vector(as.matrix(raw_data_ratings)), main = \"Distribution of Movie Ratings\",\n",
    "     col = \"blue\", xlab = \"Ratings\")"
   ]
  },
  {
   "cell_type": "code",
   "execution_count": 5,
   "metadata": {
    "ExecuteTime": {
     "end_time": "2019-12-03T02:29:14.851790Z",
     "start_time": "2019-12-03T02:29:14.827Z"
    }
   },
   "outputs": [
    {
     "data": {
      "text/plain": [
       "   Min. 1st Qu.  Median    Mean 3rd Qu.    Max.    NA's \n",
       "  1.000   3.000   4.000   3.998   5.000   5.000    3574 "
      ]
     },
     "metadata": {},
     "output_type": "display_data"
    }
   ],
   "source": [
    "summary(as.vector(as.matrix(raw_data_ratings)))"
   ]
  },
  {
   "cell_type": "code",
   "execution_count": 6,
   "metadata": {
    "ExecuteTime": {
     "end_time": "2019-12-03T02:29:15.831572Z",
     "start_time": "2019-12-03T02:29:15.770Z"
    }
   },
   "outputs": [
    {
     "data": {
      "image/png": "[encoded data removed]",
      "text/plain": [
       "Plot with title \"Distribution of the average rating per user\""
      ]
     },
     "metadata": {},
     "output_type": "display_data"
    }
   ],
   "source": [
    "average_ratings_per_user <- rowMeans(raw_data_ratings, na.rm = TRUE)\n",
    "\n",
    "hist(average_ratings_per_user, main = \"Distribution of the average rating per user\",col = \"yellow\")"
   ]
  },
  {
   "cell_type": "markdown",
   "metadata": {},
   "source": [
    "# Create Test and Train Dataset\n",
    "\n",
    "The test group is the group 3 in section 1. The train dataset should exclude the test group."
   ]
  },
  {
   "cell_type": "code",
   "execution_count": 153,
   "metadata": {
    "ExecuteTime": {
     "end_time": "2019-12-01T04:12:53.088614Z",
     "start_time": "2019-12-01T04:12:53.053Z"
    }
   },
   "outputs": [
    {
     "data": {
      "text/html": [
       "<table>\n",
       "<thead><tr><th scope=col>Serial.Number</th><th scope=col>First.Name</th><th scope=col>Last.Name</th><th scope=col>Section</th><th scope=col>Group</th><th scope=col>The.Social.Network</th><th scope=col>A.Prophet</th><th scope=col>Amour</th><th scope=col>The.King.s.Speech</th><th scope=col>La.La.Land</th><th scope=col>...</th><th scope=col>Call.Me.by.Your.Name</th><th scope=col>Winter.s.Bone</th><th scope=col>The.Grand.Budapest.Hotel</th><th scope=col>Dunkirk</th><th scope=col>Inside.Llewyn.Davis</th><th scope=col>A.Serious.Man</th><th scope=col>Toy.Story.3</th><th scope=col>Beasts.of.the.Southern.Wild</th><th scope=col>The.Imitation.Game</th><th scope=col>The.Fighter</th></tr></thead>\n",
       "<tbody>\n",
       "\t<tr><td>1       </td><td>Yao-Ting</td><td>Wang    </td><td>1       </td><td> 1      </td><td>NA      </td><td>NA      </td><td>NA      </td><td>NA      </td><td>NA      </td><td>...     </td><td>NA      </td><td>NA      </td><td> 5      </td><td>NA      </td><td>NA      </td><td>NA      </td><td>NA      </td><td>NA      </td><td>5       </td><td>NA      </td></tr>\n",
       "\t<tr><td>2       </td><td>Rajasa  </td><td>Kakkera </td><td>1       </td><td> 5      </td><td>NA      </td><td>NA      </td><td>NA      </td><td>NA      </td><td>NA      </td><td>...     </td><td>NA      </td><td>NA      </td><td>NA      </td><td>NA      </td><td>NA      </td><td>NA      </td><td> 4      </td><td>NA      </td><td>5       </td><td>NA      </td></tr>\n",
       "\t<tr><td>3       </td><td>NAN     </td><td>LIANG   </td><td>2       </td><td> 9      </td><td> 4      </td><td>NA      </td><td>NA      </td><td> 3      </td><td> 4      </td><td>...     </td><td> 4      </td><td>NA      </td><td> 3      </td><td> 3      </td><td> 4      </td><td>NA      </td><td>NA      </td><td>NA      </td><td>3       </td><td>NA      </td></tr>\n",
       "\t<tr><td>4       </td><td>Ruizhi  </td><td>Ma      </td><td>1       </td><td> 8      </td><td>NA      </td><td>NA      </td><td>NA      </td><td> 4      </td><td> 5      </td><td>...     </td><td>NA      </td><td>NA      </td><td>NA      </td><td> 4      </td><td>NA      </td><td>NA      </td><td> 4      </td><td>NA      </td><td>4       </td><td> 3      </td></tr>\n",
       "\t<tr><td>5       </td><td>Shivani </td><td>Sharma  </td><td>2       </td><td>10      </td><td>NA      </td><td>NA      </td><td>NA      </td><td>NA      </td><td>NA      </td><td>...     </td><td> 5      </td><td>NA      </td><td> 2      </td><td> 5      </td><td> 5      </td><td>NA      </td><td> 3      </td><td>NA      </td><td>4       </td><td> 3      </td></tr>\n",
       "\t<tr><td>6       </td><td>Xingxuan</td><td>Zhang   </td><td>1       </td><td> 3      </td><td>NA      </td><td>NA      </td><td>NA      </td><td>NA      </td><td>NA      </td><td>...     </td><td>NA      </td><td>NA      </td><td>NA      </td><td>NA      </td><td>NA      </td><td>NA      </td><td>NA      </td><td>NA      </td><td>5       </td><td>NA      </td></tr>\n",
       "</tbody>\n",
       "</table>\n"
      ],
      "text/latex": [
       "\\begin{tabular}{r|lllllllllllllllllllllllllllllllllllllllllllllllllllllll}\n",
       " Serial.Number & First.Name & Last.Name & Section & Group & The.Social.Network & A.Prophet & Amour & The.King.s.Speech & La.La.Land & ... & Call.Me.by.Your.Name & Winter.s.Bone & The.Grand.Budapest.Hotel & Dunkirk & Inside.Llewyn.Davis & A.Serious.Man & Toy.Story.3 & Beasts.of.the.Southern.Wild & The.Imitation.Game & The.Fighter\\\\\n",
       "\\hline\n",
       "\t 1        & Yao-Ting & Wang     & 1        &  1       & NA       & NA       & NA       & NA       & NA       & ...      & NA       & NA       &  5       & NA       & NA       & NA       & NA       & NA       & 5        & NA      \\\\\n",
       "\t 2        & Rajasa   & Kakkera  & 1        &  5       & NA       & NA       & NA       & NA       & NA       & ...      & NA       & NA       & NA       & NA       & NA       & NA       &  4       & NA       & 5        & NA      \\\\\n",
       "\t 3        & NAN      & LIANG    & 2        &  9       &  4       & NA       & NA       &  3       &  4       & ...      &  4       & NA       &  3       &  3       &  4       & NA       & NA       & NA       & 3        & NA      \\\\\n",
       "\t 4        & Ruizhi   & Ma       & 1        &  8       & NA       & NA       & NA       &  4       &  5       & ...      & NA       & NA       & NA       &  4       & NA       & NA       &  4       & NA       & 4        &  3      \\\\\n",
       "\t 5        & Shivani  & Sharma   & 2        & 10       & NA       & NA       & NA       & NA       & NA       & ...      &  5       & NA       &  2       &  5       &  5       & NA       &  3       & NA       & 4        &  3      \\\\\n",
       "\t 6        & Xingxuan & Zhang    & 1        &  3       & NA       & NA       & NA       & NA       & NA       & ...      & NA       & NA       & NA       & NA       & NA       & NA       & NA       & NA       & 5        & NA      \\\\\n",
       "\\end{tabular}\n"
      ],
      "text/markdown": [
       "\n",
       "| Serial.Number | First.Name | Last.Name | Section | Group | The.Social.Network | A.Prophet | Amour | The.King.s.Speech | La.La.Land | ... | Call.Me.by.Your.Name | Winter.s.Bone | The.Grand.Budapest.Hotel | Dunkirk | Inside.Llewyn.Davis | A.Serious.Man | Toy.Story.3 | Beasts.of.the.Southern.Wild | The.Imitation.Game | The.Fighter |\n",
       "|---|---|---|---|---|---|---|---|---|---|---|---|---|---|---|---|---|---|---|---|---|\n",
       "| 1        | Yao-Ting | Wang     | 1        |  1       | NA       | NA       | NA       | NA       | NA       | ...      | NA       | NA       |  5       | NA       | NA       | NA       | NA       | NA       | 5        | NA       |\n",
       "| 2        | Rajasa   | Kakkera  | 1        |  5       | NA       | NA       | NA       | NA       | NA       | ...      | NA       | NA       | NA       | NA       | NA       | NA       |  4       | NA       | 5        | NA       |\n",
       "| 3        | NAN      | LIANG    | 2        |  9       |  4       | NA       | NA       |  3       |  4       | ...      |  4       | NA       |  3       |  3       |  4       | NA       | NA       | NA       | 3        | NA       |\n",
       "| 4        | Ruizhi   | Ma       | 1        |  8       | NA       | NA       | NA       |  4       |  5       | ...      | NA       | NA       | NA       |  4       | NA       | NA       |  4       | NA       | 4        |  3       |\n",
       "| 5        | Shivani  | Sharma   | 2        | 10       | NA       | NA       | NA       | NA       | NA       | ...      |  5       | NA       |  2       |  5       |  5       | NA       |  3       | NA       | 4        |  3       |\n",
       "| 6        | Xingxuan | Zhang    | 1        |  3       | NA       | NA       | NA       | NA       | NA       | ...      | NA       | NA       | NA       | NA       | NA       | NA       | NA       | NA       | 5        | NA       |\n",
       "\n"
      ],
      "text/plain": [
       "  Serial.Number First.Name Last.Name Section Group The.Social.Network A.Prophet\n",
       "1 1             Yao-Ting   Wang      1        1    NA                 NA       \n",
       "2 2             Rajasa     Kakkera   1        5    NA                 NA       \n",
       "3 3             NAN        LIANG     2        9     4                 NA       \n",
       "4 4             Ruizhi     Ma        1        8    NA                 NA       \n",
       "5 5             Shivani    Sharma    2       10    NA                 NA       \n",
       "6 6             Xingxuan   Zhang     1        3    NA                 NA       \n",
       "  Amour The.King.s.Speech La.La.Land ... Call.Me.by.Your.Name Winter.s.Bone\n",
       "1 NA    NA                NA         ... NA                   NA           \n",
       "2 NA    NA                NA         ... NA                   NA           \n",
       "3 NA     3                 4         ...  4                   NA           \n",
       "4 NA     4                 5         ... NA                   NA           \n",
       "5 NA    NA                NA         ...  5                   NA           \n",
       "6 NA    NA                NA         ... NA                   NA           \n",
       "  The.Grand.Budapest.Hotel Dunkirk Inside.Llewyn.Davis A.Serious.Man\n",
       "1  5                       NA      NA                  NA           \n",
       "2 NA                       NA      NA                  NA           \n",
       "3  3                        3       4                  NA           \n",
       "4 NA                        4      NA                  NA           \n",
       "5  2                        5       5                  NA           \n",
       "6 NA                       NA      NA                  NA           \n",
       "  Toy.Story.3 Beasts.of.the.Southern.Wild The.Imitation.Game The.Fighter\n",
       "1 NA          NA                          5                  NA         \n",
       "2  4          NA                          5                  NA         \n",
       "3 NA          NA                          3                  NA         \n",
       "4  4          NA                          4                   3         \n",
       "5  3          NA                          4                   3         \n",
       "6 NA          NA                          5                  NA         "
      ]
     },
     "metadata": {},
     "output_type": "display_data"
    }
   ],
   "source": []
  },
  {
   "cell_type": "code",
   "execution_count": 7,
   "metadata": {
    "ExecuteTime": {
     "end_time": "2019-12-03T02:29:22.737115Z",
     "start_time": "2019-12-03T02:29:22.704Z"
    }
   },
   "outputs": [
    {
     "data": {
      "text/html": [
       "93"
      ],
      "text/latex": [
       "93"
      ],
      "text/markdown": [
       "93"
      ],
      "text/plain": [
       "[1] 93"
      ]
     },
     "metadata": {},
     "output_type": "display_data"
    }
   ],
   "source": [
    "group_3<- raw_data[raw_data$Section==1 & raw_data$Group==3, ]\n",
    "other_data<-raw_data[!(raw_data$Section==1 & raw_data$Group==3), ]\n",
    "nrow(other_data)"
   ]
  },
  {
   "cell_type": "code",
   "execution_count": 8,
   "metadata": {
    "ExecuteTime": {
     "end_time": "2019-12-03T02:29:23.737596Z",
     "start_time": "2019-12-03T02:29:23.713Z"
    }
   },
   "outputs": [
    {
     "data": {
      "text/html": [
       "92"
      ],
      "text/latex": [
       "92"
      ],
      "text/markdown": [
       "92"
      ],
      "text/plain": [
       "[1] 92"
      ]
     },
     "metadata": {},
     "output_type": "display_data"
    }
   ],
   "source": [
    "raw_data_ratings<-other_data[,6:ncol(other_data)]\n",
    "raw_data_ratings<-raw_data_ratings[rowSums(is.na(raw_data_ratings)) <=48,]\n",
    "nrow(raw_data_ratings)\n"
   ]
  },
  {
   "cell_type": "code",
   "execution_count": 15,
   "metadata": {
    "ExecuteTime": {
     "end_time": "2019-12-03T02:31:48.846772Z",
     "start_time": "2019-12-03T02:31:48.757Z"
    }
   },
   "outputs": [
    {
     "data": {
      "text/plain": [
       "Evaluation scheme with 3 items given\n",
       "Method: 'split' with 1 run(s).\n",
       "Training set proportion: 0.800\n",
       "Good ratings: >=5.000000\n",
       "Data set: 92 x 50 rating matrix of class 'realRatingMatrix' with 1265 ratings."
      ]
     },
     "metadata": {},
     "output_type": "display_data"
    }
   ],
   "source": [
    "rmat <- as.matrix(raw_data_ratings)\n",
    "rmat <- as(rmat,\"realRatingMatrix\")\n",
    "group<-as(as.matrix(group_3[,6:ncol(group_3)]),\"realRatingMatrix\")\n",
    "\n",
    "all_raw<-as(as.matrix(raw_data[,6:ncol(other_data)]),\"realRatingMatrix\")\n",
    "e <- evaluationScheme(rmat, method=\"split\", train=0.8, given=3, goodRating=5)\n",
    "\n",
    "e\n"
   ]
  },
  {
   "cell_type": "markdown",
   "metadata": {},
   "source": [
    "# The Recommendation Algorithms"
   ]
  },
  {
   "cell_type": "markdown",
   "metadata": {},
   "source": [
    "## User-Based Collaborative Filtering: Cosine Similarity"
   ]
  },
  {
   "cell_type": "code",
   "execution_count": 16,
   "metadata": {
    "ExecuteTime": {
     "end_time": "2019-12-03T02:31:53.760565Z",
     "start_time": "2019-12-03T02:31:53.734Z"
    }
   },
   "outputs": [],
   "source": [
    "#train UBCF cosine similarity models\n",
    "\n",
    "# non-normalized\n",
    "UBCF_N_C <- Recommender(getData(e, \"train\"), \"UBCF\", \n",
    "      param=list(normalize = NULL, method=\"Cosine\"))\n",
    "\n",
    "# centered\n",
    "UBCF_C_C <- Recommender(getData(e, \"train\"), \"UBCF\", \n",
    "      param=list(normalize = \"center\",method=\"Cosine\"))\n",
    "\n",
    "# Z-score normalization\n",
    "UBCF_Z_C <- Recommender(getData(e, \"train\"), \"UBCF\", \n",
    "      param=list(normalize = \"Z-score\",method=\"Cosine\"))"
   ]
  },
  {
   "cell_type": "code",
   "execution_count": 17,
   "metadata": {
    "ExecuteTime": {
     "end_time": "2019-12-03T02:31:54.257326Z",
     "start_time": "2019-12-03T02:31:54.198Z"
    }
   },
   "outputs": [],
   "source": [
    "# compute predicted ratings\n",
    "p1 <- predict(UBCF_N_C, getData(e, \"known\"), type=\"ratings\")\n",
    "\n",
    "p2 <- predict(UBCF_C_C, getData(e, \"known\"), type=\"ratings\")\n",
    "\n",
    "p3 <- predict(UBCF_Z_C, getData(e, \"known\"), type=\"ratings\")\n",
    " \n",
    "\n",
    "# set all predictions that fall outside the valid range to the boundary values\n",
    "p1@data@x[p1@data@x[] < 0] <- 0\n",
    "p1@data@x[p1@data@x[] > 5] <- 5\n",
    "\n",
    "p2@data@x[p2@data@x[] < 0] <- 0\n",
    "p2@data@x[p2@data@x[] > 5] <- 5\n",
    "\n",
    "p3@data@x[p3@data@x[] < 0] <- 0\n",
    "p3@data@x[p3@data@x[] > 5] <- 5"
   ]
  },
  {
   "cell_type": "code",
   "execution_count": 18,
   "metadata": {
    "ExecuteTime": {
     "end_time": "2019-12-03T02:31:55.021850Z",
     "start_time": "2019-12-03T02:31:54.987Z"
    }
   },
   "outputs": [
    {
     "data": {
      "text/html": [
       "<table>\n",
       "<thead><tr><th></th><th scope=col>RMSE</th><th scope=col>MSE</th><th scope=col>MAE</th></tr></thead>\n",
       "<tbody>\n",
       "\t<tr><th scope=row>UBCF_N_C</th><td>2.6574627</td><td>7.0621080</td><td>2.3484871</td></tr>\n",
       "\t<tr><th scope=row>UBCF_C_C</th><td>0.9623409</td><td>0.9261001</td><td>0.7811934</td></tr>\n",
       "\t<tr><th scope=row>UBCF_Z_C</th><td>0.9618645</td><td>0.9251834</td><td>0.7807182</td></tr>\n",
       "</tbody>\n",
       "</table>\n"
      ],
      "text/latex": [
       "\\begin{tabular}{r|lll}\n",
       "  & RMSE & MSE & MAE\\\\\n",
       "\\hline\n",
       "\tUBCF\\_N\\_C & 2.6574627 & 7.0621080 & 2.3484871\\\\\n",
       "\tUBCF\\_C\\_C & 0.9623409 & 0.9261001 & 0.7811934\\\\\n",
       "\tUBCF\\_Z\\_C & 0.9618645 & 0.9251834 & 0.7807182\\\\\n",
       "\\end{tabular}\n"
      ],
      "text/markdown": [
       "\n",
       "| <!--/--> | RMSE | MSE | MAE |\n",
       "|---|---|---|---|\n",
       "| UBCF_N_C | 2.6574627 | 7.0621080 | 2.3484871 |\n",
       "| UBCF_C_C | 0.9623409 | 0.9261001 | 0.7811934 |\n",
       "| UBCF_Z_C | 0.9618645 | 0.9251834 | 0.7807182 |\n",
       "\n"
      ],
      "text/plain": [
       "         RMSE      MSE       MAE      \n",
       "UBCF_N_C 2.6574627 7.0621080 2.3484871\n",
       "UBCF_C_C 0.9623409 0.9261001 0.7811934\n",
       "UBCF_Z_C 0.9618645 0.9251834 0.7807182"
      ]
     },
     "metadata": {},
     "output_type": "display_data"
    }
   ],
   "source": [
    "\n",
    "\n",
    "# aggregate the performance statistics\n",
    "error_UCOS <- rbind(\n",
    "  UBCF_N_C = calcPredictionAccuracy(p1, getData(e, \"unknown\")),\n",
    "  UBCF_C_C = calcPredictionAccuracy(p2, getData(e, \"unknown\")),\n",
    "  UBCF_Z_C = calcPredictionAccuracy(p3, getData(e, \"unknown\"))\n",
    ")\n",
    "error_UCOS"
   ]
  },
  {
   "cell_type": "code",
   "execution_count": 19,
   "metadata": {
    "ExecuteTime": {
     "end_time": "2019-12-03T02:31:56.824012Z",
     "start_time": "2019-12-03T02:31:56.802Z"
    }
   },
   "outputs": [],
   "source": [
    "UBCF_C_C <- Recommender(all_raw, \"UBCF\", \n",
    "      param=list(normalize = \"center\",method=\"Cosine\"))"
   ]
  },
  {
   "cell_type": "code",
   "execution_count": 20,
   "metadata": {
    "ExecuteTime": {
     "end_time": "2019-12-03T02:31:58.637585Z",
     "start_time": "2019-12-03T02:31:58.601Z"
    }
   },
   "outputs": [],
   "source": [
    "my_rating<-predict(UBCF_C_C, all_raw[c(6,26,50,55,85)], type=\"ratings\")"
   ]
  },
  {
   "cell_type": "code",
   "execution_count": 21,
   "metadata": {
    "ExecuteTime": {
     "end_time": "2019-12-03T02:32:00.605734Z",
     "start_time": "2019-12-03T02:32:00.576Z"
    }
   },
   "outputs": [
    {
     "data": {
      "text/html": [
       "<table>\n",
       "<thead><tr><th scope=col>The.Social.Network</th><th scope=col>A.Prophet</th><th scope=col>Amour</th><th scope=col>The.King.s.Speech</th><th scope=col>La.La.Land</th><th scope=col>Boyhood</th><th scope=col>Inception</th><th scope=col>A.Separation</th><th scope=col>The.Artist</th><th scope=col>The.White.Ribbon</th><th scope=col>...</th><th scope=col>Call.Me.by.Your.Name</th><th scope=col>Winter.s.Bone</th><th scope=col>The.Grand.Budapest.Hotel</th><th scope=col>Dunkirk</th><th scope=col>Inside.Llewyn.Davis</th><th scope=col>A.Serious.Man</th><th scope=col>Toy.Story.3</th><th scope=col>Beasts.of.the.Southern.Wild</th><th scope=col>The.Imitation.Game</th><th scope=col>The.Fighter</th></tr></thead>\n",
       "<tbody>\n",
       "\t<tr><td>3.917949</td><td>3.875878</td><td>4.016185</td><td>4.097537</td><td>4.022854</td><td>3.977247</td><td>NA      </td><td>4.016572</td><td>4.039495</td><td>4.000000</td><td>...     </td><td>3.988015</td><td>4.000000</td><td>4.190888</td><td>4.063121</td><td>4.011202</td><td>4.015373</td><td>4.075653</td><td>3.995829</td><td>      NA</td><td>3.955840</td></tr>\n",
       "\t<tr><td>3.982426</td><td>3.989678</td><td>4.000000</td><td>4.131506</td><td>      NA</td><td>4.023150</td><td>NA      </td><td>4.048399</td><td>4.097047</td><td>4.000000</td><td>...     </td><td>3.958581</td><td>4.000000</td><td>      NA</td><td>3.917076</td><td>4.013774</td><td>4.000000</td><td>4.083352</td><td>4.000000</td><td>4.152003</td><td>4.000384</td></tr>\n",
       "\t<tr><td>3.950123</td><td>4.094357</td><td>4.137340</td><td>3.974839</td><td>      NA</td><td>4.111849</td><td>NA      </td><td>      NA</td><td>4.140053</td><td>4.090909</td><td>...     </td><td>4.051836</td><td>4.090909</td><td>4.083732</td><td>4.041003</td><td>4.090909</td><td>4.090909</td><td>      NA</td><td>4.090909</td><td>4.211023</td><td>4.029763</td></tr>\n",
       "\t<tr><td>4.065345</td><td>4.230769</td><td>4.245065</td><td>      NA</td><td>      NA</td><td>4.332619</td><td>NA      </td><td>      NA</td><td>4.230769</td><td>4.230769</td><td>...     </td><td>4.381575</td><td>4.230769</td><td>      NA</td><td>      NA</td><td>4.286113</td><td>4.245045</td><td>4.434729</td><td>4.230769</td><td>4.195257</td><td>4.225677</td></tr>\n",
       "\t<tr><td>      NA</td><td>4.137931</td><td>4.137931</td><td>      NA</td><td>      NA</td><td>4.240598</td><td>NA      </td><td>4.143608</td><td>      NA</td><td>4.137931</td><td>...     </td><td>4.097874</td><td>4.137931</td><td>      NA</td><td>      NA</td><td>4.137931</td><td>4.137931</td><td>      NA</td><td>4.137931</td><td>      NA</td><td>      NA</td></tr>\n",
       "</tbody>\n",
       "</table>\n"
      ],
      "text/latex": [
       "\\begin{tabular}{llllllllllllllllllllllllllllllllllllllllllllllllll}\n",
       " The.Social.Network & A.Prophet & Amour & The.King.s.Speech & La.La.Land & Boyhood & Inception & A.Separation & The.Artist & The.White.Ribbon & ... & Call.Me.by.Your.Name & Winter.s.Bone & The.Grand.Budapest.Hotel & Dunkirk & Inside.Llewyn.Davis & A.Serious.Man & Toy.Story.3 & Beasts.of.the.Southern.Wild & The.Imitation.Game & The.Fighter\\\\\n",
       "\\hline\n",
       "\t 3.917949 & 3.875878 & 4.016185 & 4.097537 & 4.022854 & 3.977247 & NA       & 4.016572 & 4.039495 & 4.000000 & ...      & 3.988015 & 4.000000 & 4.190888 & 4.063121 & 4.011202 & 4.015373 & 4.075653 & 3.995829 &       NA & 3.955840\\\\\n",
       "\t 3.982426 & 3.989678 & 4.000000 & 4.131506 &       NA & 4.023150 & NA       & 4.048399 & 4.097047 & 4.000000 & ...      & 3.958581 & 4.000000 &       NA & 3.917076 & 4.013774 & 4.000000 & 4.083352 & 4.000000 & 4.152003 & 4.000384\\\\\n",
       "\t 3.950123 & 4.094357 & 4.137340 & 3.974839 &       NA & 4.111849 & NA       &       NA & 4.140053 & 4.090909 & ...      & 4.051836 & 4.090909 & 4.083732 & 4.041003 & 4.090909 & 4.090909 &       NA & 4.090909 & 4.211023 & 4.029763\\\\\n",
       "\t 4.065345 & 4.230769 & 4.245065 &       NA &       NA & 4.332619 & NA       &       NA & 4.230769 & 4.230769 & ...      & 4.381575 & 4.230769 &       NA &       NA & 4.286113 & 4.245045 & 4.434729 & 4.230769 & 4.195257 & 4.225677\\\\\n",
       "\t       NA & 4.137931 & 4.137931 &       NA &       NA & 4.240598 & NA       & 4.143608 &       NA & 4.137931 & ...      & 4.097874 & 4.137931 &       NA &       NA & 4.137931 & 4.137931 &       NA & 4.137931 &       NA &       NA\\\\\n",
       "\\end{tabular}\n"
      ],
      "text/markdown": [
       "\n",
       "| The.Social.Network | A.Prophet | Amour | The.King.s.Speech | La.La.Land | Boyhood | Inception | A.Separation | The.Artist | The.White.Ribbon | ... | Call.Me.by.Your.Name | Winter.s.Bone | The.Grand.Budapest.Hotel | Dunkirk | Inside.Llewyn.Davis | A.Serious.Man | Toy.Story.3 | Beasts.of.the.Southern.Wild | The.Imitation.Game | The.Fighter |\n",
       "|---|---|---|---|---|---|---|---|---|---|---|---|---|---|---|---|---|---|---|---|---|\n",
       "| 3.917949 | 3.875878 | 4.016185 | 4.097537 | 4.022854 | 3.977247 | NA       | 4.016572 | 4.039495 | 4.000000 | ...      | 3.988015 | 4.000000 | 4.190888 | 4.063121 | 4.011202 | 4.015373 | 4.075653 | 3.995829 |       NA | 3.955840 |\n",
       "| 3.982426 | 3.989678 | 4.000000 | 4.131506 |       NA | 4.023150 | NA       | 4.048399 | 4.097047 | 4.000000 | ...      | 3.958581 | 4.000000 |       NA | 3.917076 | 4.013774 | 4.000000 | 4.083352 | 4.000000 | 4.152003 | 4.000384 |\n",
       "| 3.950123 | 4.094357 | 4.137340 | 3.974839 |       NA | 4.111849 | NA       |       NA | 4.140053 | 4.090909 | ...      | 4.051836 | 4.090909 | 4.083732 | 4.041003 | 4.090909 | 4.090909 |       NA | 4.090909 | 4.211023 | 4.029763 |\n",
       "| 4.065345 | 4.230769 | 4.245065 |       NA |       NA | 4.332619 | NA       |       NA | 4.230769 | 4.230769 | ...      | 4.381575 | 4.230769 |       NA |       NA | 4.286113 | 4.245045 | 4.434729 | 4.230769 | 4.195257 | 4.225677 |\n",
       "|       NA | 4.137931 | 4.137931 |       NA |       NA | 4.240598 | NA       | 4.143608 |       NA | 4.137931 | ...      | 4.097874 | 4.137931 |       NA |       NA | 4.137931 | 4.137931 |       NA | 4.137931 |       NA |       NA |\n",
       "\n"
      ],
      "text/plain": [
       "     The.Social.Network A.Prophet Amour    The.King.s.Speech La.La.Land\n",
       "[1,] 3.917949           3.875878  4.016185 4.097537          4.022854  \n",
       "[2,] 3.982426           3.989678  4.000000 4.131506                NA  \n",
       "[3,] 3.950123           4.094357  4.137340 3.974839                NA  \n",
       "[4,] 4.065345           4.230769  4.245065       NA                NA  \n",
       "[5,]       NA           4.137931  4.137931       NA                NA  \n",
       "     Boyhood  Inception A.Separation The.Artist The.White.Ribbon ...\n",
       "[1,] 3.977247 NA        4.016572     4.039495   4.000000         ...\n",
       "[2,] 4.023150 NA        4.048399     4.097047   4.000000         ...\n",
       "[3,] 4.111849 NA              NA     4.140053   4.090909         ...\n",
       "[4,] 4.332619 NA              NA     4.230769   4.230769         ...\n",
       "[5,] 4.240598 NA        4.143608           NA   4.137931         ...\n",
       "     Call.Me.by.Your.Name Winter.s.Bone The.Grand.Budapest.Hotel Dunkirk \n",
       "[1,] 3.988015             4.000000      4.190888                 4.063121\n",
       "[2,] 3.958581             4.000000            NA                 3.917076\n",
       "[3,] 4.051836             4.090909      4.083732                 4.041003\n",
       "[4,] 4.381575             4.230769            NA                       NA\n",
       "[5,] 4.097874             4.137931            NA                       NA\n",
       "     Inside.Llewyn.Davis A.Serious.Man Toy.Story.3 Beasts.of.the.Southern.Wild\n",
       "[1,] 4.011202            4.015373      4.075653    3.995829                   \n",
       "[2,] 4.013774            4.000000      4.083352    4.000000                   \n",
       "[3,] 4.090909            4.090909            NA    4.090909                   \n",
       "[4,] 4.286113            4.245045      4.434729    4.230769                   \n",
       "[5,] 4.137931            4.137931            NA    4.137931                   \n",
       "     The.Imitation.Game The.Fighter\n",
       "[1,]       NA           3.955840   \n",
       "[2,] 4.152003           4.000384   \n",
       "[3,] 4.211023           4.029763   \n",
       "[4,] 4.195257           4.225677   \n",
       "[5,]       NA                 NA   "
      ]
     },
     "metadata": {},
     "output_type": "display_data"
    }
   ],
   "source": [
    "as(my_rating, \"matrix\")"
   ]
  },
  {
   "cell_type": "markdown",
   "metadata": {},
   "source": [
    "## User-Based Collaborative Filtering: Euclidean Distance"
   ]
  },
  {
   "cell_type": "code",
   "execution_count": 22,
   "metadata": {
    "ExecuteTime": {
     "end_time": "2019-12-03T02:32:02.991897Z",
     "start_time": "2019-12-03T02:32:02.964Z"
    }
   },
   "outputs": [],
   "source": [
    "#train UBCF Euclidean Distance models\n",
    "\n",
    "# non-normalized\n",
    "UBCF_N_E <- Recommender(getData(e, \"train\"), \"UBCF\", \n",
    "      param=list(normalize = NULL, method=\"Euclidean\"))\n",
    "\n",
    "# centered\n",
    "UBCF_C_E <- Recommender(getData(e, \"train\"), \"UBCF\", \n",
    "      param=list(normalize = \"center\",method=\"Euclidean\"))\n",
    "\n",
    "# Z-score normalization\n",
    "UBCF_Z_E <- Recommender(getData(e, \"train\"), \"UBCF\", \n",
    "      param=list(normalize = \"Z-score\",method=\"Euclidean\"))"
   ]
  },
  {
   "cell_type": "code",
   "execution_count": 23,
   "metadata": {
    "ExecuteTime": {
     "end_time": "2019-12-03T02:32:03.486283Z",
     "start_time": "2019-12-03T02:32:03.415Z"
    }
   },
   "outputs": [
    {
     "data": {
      "text/html": [
       "<table>\n",
       "<thead><tr><th></th><th scope=col>RMSE</th><th scope=col>MSE</th><th scope=col>MAE</th></tr></thead>\n",
       "<tbody>\n",
       "\t<tr><th scope=row>UBCF_N_E</th><td>2.5737361</td><td>6.6241176</td><td>2.2544387</td></tr>\n",
       "\t<tr><th scope=row>UBCF_C_E</th><td>0.9615472</td><td>0.9245731</td><td>0.7730274</td></tr>\n",
       "\t<tr><th scope=row>UBCF_Z_E</th><td>0.9691112</td><td>0.9391765</td><td>0.7823945</td></tr>\n",
       "</tbody>\n",
       "</table>\n"
      ],
      "text/latex": [
       "\\begin{tabular}{r|lll}\n",
       "  & RMSE & MSE & MAE\\\\\n",
       "\\hline\n",
       "\tUBCF\\_N\\_E & 2.5737361 & 6.6241176 & 2.2544387\\\\\n",
       "\tUBCF\\_C\\_E & 0.9615472 & 0.9245731 & 0.7730274\\\\\n",
       "\tUBCF\\_Z\\_E & 0.9691112 & 0.9391765 & 0.7823945\\\\\n",
       "\\end{tabular}\n"
      ],
      "text/markdown": [
       "\n",
       "| <!--/--> | RMSE | MSE | MAE |\n",
       "|---|---|---|---|\n",
       "| UBCF_N_E | 2.5737361 | 6.6241176 | 2.2544387 |\n",
       "| UBCF_C_E | 0.9615472 | 0.9245731 | 0.7730274 |\n",
       "| UBCF_Z_E | 0.9691112 | 0.9391765 | 0.7823945 |\n",
       "\n"
      ],
      "text/plain": [
       "         RMSE      MSE       MAE      \n",
       "UBCF_N_E 2.5737361 6.6241176 2.2544387\n",
       "UBCF_C_E 0.9615472 0.9245731 0.7730274\n",
       "UBCF_Z_E 0.9691112 0.9391765 0.7823945"
      ]
     },
     "metadata": {},
     "output_type": "display_data"
    }
   ],
   "source": [
    "# compute predicted ratings\n",
    "p1 <- predict(UBCF_N_E, getData(e, \"known\"), type=\"ratings\")\n",
    "\n",
    "p2 <- predict(UBCF_C_E, getData(e, \"known\"), type=\"ratings\")\n",
    "\n",
    "p3 <- predict(UBCF_Z_E, getData(e, \"known\"), type=\"ratings\")\n",
    "\n",
    "# set all predictions that fall outside the valid range to the boundary values\n",
    "p1@data@x[p1@data@x[] <  0] <- 0\n",
    "p1@data@x[p1@data@x[] > 5] <- 5\n",
    "\n",
    "p2@data@x[p2@data@x[] < 0] <- 0\n",
    "p2@data@x[p2@data@x[]> 5] <- 5\n",
    "\n",
    "p3@data@x[p3@data@x[] < 0] <- 0\n",
    "p3@data@x[p3@data@x[]> 5] <- 5\n",
    "\n",
    "# aggregate the performance statistics\n",
    "error_UEUC <- rbind(\n",
    "  UBCF_N_E = calcPredictionAccuracy(p1, getData(e, \"unknown\")),\n",
    "  UBCF_C_E = calcPredictionAccuracy(p2, getData(e, \"unknown\")),\n",
    "  UBCF_Z_E = calcPredictionAccuracy(p3, getData(e, \"unknown\"))\n",
    ")\n",
    "error_UEUC"
   ]
  },
  {
   "cell_type": "code",
   "execution_count": 24,
   "metadata": {
    "ExecuteTime": {
     "end_time": "2019-12-03T02:32:03.857695Z",
     "start_time": "2019-12-03T02:32:03.819Z"
    }
   },
   "outputs": [
    {
     "data": {
      "text/html": [
       "<table>\n",
       "<thead><tr><th scope=col>The.Social.Network</th><th scope=col>A.Prophet</th><th scope=col>Amour</th><th scope=col>The.King.s.Speech</th><th scope=col>La.La.Land</th><th scope=col>Boyhood</th><th scope=col>Inception</th><th scope=col>A.Separation</th><th scope=col>The.Artist</th><th scope=col>The.White.Ribbon</th><th scope=col>...</th><th scope=col>Call.Me.by.Your.Name</th><th scope=col>Winter.s.Bone</th><th scope=col>The.Grand.Budapest.Hotel</th><th scope=col>Dunkirk</th><th scope=col>Inside.Llewyn.Davis</th><th scope=col>A.Serious.Man</th><th scope=col>Toy.Story.3</th><th scope=col>Beasts.of.the.Southern.Wild</th><th scope=col>The.Imitation.Game</th><th scope=col>The.Fighter</th></tr></thead>\n",
       "<tbody>\n",
       "\t<tr><td>3.856773</td><td>3.809657</td><td>4.002453</td><td>4.076551</td><td>3.959427</td><td>3.984733</td><td>NA      </td><td>3.991805</td><td>4.020732</td><td>4.000000</td><td>...     </td><td>3.998327</td><td>4.000000</td><td>4.120729</td><td>4.030752</td><td>3.991805</td><td>4.000000</td><td>4.063389</td><td>3.991805</td><td>      NA</td><td>3.988881</td></tr>\n",
       "\t<tr><td>3.982332</td><td>3.980662</td><td>4.011011</td><td>4.092449</td><td>      NA</td><td>4.043354</td><td>NA      </td><td>3.980662</td><td>4.043288</td><td>4.000000</td><td>...     </td><td>3.967000</td><td>4.000000</td><td>      NA</td><td>3.897270</td><td>4.000000</td><td>4.000000</td><td>3.945430</td><td>4.000000</td><td>4.081897</td><td>4.010798</td></tr>\n",
       "\t<tr><td>4.064841</td><td>4.068967</td><td>4.120268</td><td>3.968694</td><td>      NA</td><td>4.110038</td><td>NA      </td><td>      NA</td><td>4.146469</td><td>4.090909</td><td>...     </td><td>4.100683</td><td>4.090909</td><td>4.135279</td><td>4.042981</td><td>4.100873</td><td>4.090909</td><td>      NA</td><td>4.073912</td><td>4.101490</td><td>4.057703</td></tr>\n",
       "\t<tr><td>4.124531</td><td>4.132969</td><td>4.243735</td><td>      NA</td><td>      NA</td><td>4.294678</td><td>NA      </td><td>      NA</td><td>4.219832</td><td>4.230769</td><td>...     </td><td>4.266667</td><td>4.230769</td><td>      NA</td><td>      NA</td><td>4.250329</td><td>4.243455</td><td>4.286835</td><td>4.227477</td><td>4.224168</td><td>4.227718</td></tr>\n",
       "\t<tr><td>      NA</td><td>4.040177</td><td>4.135684</td><td>      NA</td><td>      NA</td><td>4.172748</td><td>NA      </td><td>4.095775</td><td>      NA</td><td>4.137931</td><td>...     </td><td>4.077576</td><td>4.137931</td><td>      NA</td><td>      NA</td><td>4.146159</td><td>4.137931</td><td>      NA</td><td>4.116843</td><td>      NA</td><td>      NA</td></tr>\n",
       "</tbody>\n",
       "</table>\n"
      ],
      "text/latex": [
       "\\begin{tabular}{llllllllllllllllllllllllllllllllllllllllllllllllll}\n",
       " The.Social.Network & A.Prophet & Amour & The.King.s.Speech & La.La.Land & Boyhood & Inception & A.Separation & The.Artist & The.White.Ribbon & ... & Call.Me.by.Your.Name & Winter.s.Bone & The.Grand.Budapest.Hotel & Dunkirk & Inside.Llewyn.Davis & A.Serious.Man & Toy.Story.3 & Beasts.of.the.Southern.Wild & The.Imitation.Game & The.Fighter\\\\\n",
       "\\hline\n",
       "\t 3.856773 & 3.809657 & 4.002453 & 4.076551 & 3.959427 & 3.984733 & NA       & 3.991805 & 4.020732 & 4.000000 & ...      & 3.998327 & 4.000000 & 4.120729 & 4.030752 & 3.991805 & 4.000000 & 4.063389 & 3.991805 &       NA & 3.988881\\\\\n",
       "\t 3.982332 & 3.980662 & 4.011011 & 4.092449 &       NA & 4.043354 & NA       & 3.980662 & 4.043288 & 4.000000 & ...      & 3.967000 & 4.000000 &       NA & 3.897270 & 4.000000 & 4.000000 & 3.945430 & 4.000000 & 4.081897 & 4.010798\\\\\n",
       "\t 4.064841 & 4.068967 & 4.120268 & 3.968694 &       NA & 4.110038 & NA       &       NA & 4.146469 & 4.090909 & ...      & 4.100683 & 4.090909 & 4.135279 & 4.042981 & 4.100873 & 4.090909 &       NA & 4.073912 & 4.101490 & 4.057703\\\\\n",
       "\t 4.124531 & 4.132969 & 4.243735 &       NA &       NA & 4.294678 & NA       &       NA & 4.219832 & 4.230769 & ...      & 4.266667 & 4.230769 &       NA &       NA & 4.250329 & 4.243455 & 4.286835 & 4.227477 & 4.224168 & 4.227718\\\\\n",
       "\t       NA & 4.040177 & 4.135684 &       NA &       NA & 4.172748 & NA       & 4.095775 &       NA & 4.137931 & ...      & 4.077576 & 4.137931 &       NA &       NA & 4.146159 & 4.137931 &       NA & 4.116843 &       NA &       NA\\\\\n",
       "\\end{tabular}\n"
      ],
      "text/markdown": [
       "\n",
       "| The.Social.Network | A.Prophet | Amour | The.King.s.Speech | La.La.Land | Boyhood | Inception | A.Separation | The.Artist | The.White.Ribbon | ... | Call.Me.by.Your.Name | Winter.s.Bone | The.Grand.Budapest.Hotel | Dunkirk | Inside.Llewyn.Davis | A.Serious.Man | Toy.Story.3 | Beasts.of.the.Southern.Wild | The.Imitation.Game | The.Fighter |\n",
       "|---|---|---|---|---|---|---|---|---|---|---|---|---|---|---|---|---|---|---|---|---|\n",
       "| 3.856773 | 3.809657 | 4.002453 | 4.076551 | 3.959427 | 3.984733 | NA       | 3.991805 | 4.020732 | 4.000000 | ...      | 3.998327 | 4.000000 | 4.120729 | 4.030752 | 3.991805 | 4.000000 | 4.063389 | 3.991805 |       NA | 3.988881 |\n",
       "| 3.982332 | 3.980662 | 4.011011 | 4.092449 |       NA | 4.043354 | NA       | 3.980662 | 4.043288 | 4.000000 | ...      | 3.967000 | 4.000000 |       NA | 3.897270 | 4.000000 | 4.000000 | 3.945430 | 4.000000 | 4.081897 | 4.010798 |\n",
       "| 4.064841 | 4.068967 | 4.120268 | 3.968694 |       NA | 4.110038 | NA       |       NA | 4.146469 | 4.090909 | ...      | 4.100683 | 4.090909 | 4.135279 | 4.042981 | 4.100873 | 4.090909 |       NA | 4.073912 | 4.101490 | 4.057703 |\n",
       "| 4.124531 | 4.132969 | 4.243735 |       NA |       NA | 4.294678 | NA       |       NA | 4.219832 | 4.230769 | ...      | 4.266667 | 4.230769 |       NA |       NA | 4.250329 | 4.243455 | 4.286835 | 4.227477 | 4.224168 | 4.227718 |\n",
       "|       NA | 4.040177 | 4.135684 |       NA |       NA | 4.172748 | NA       | 4.095775 |       NA | 4.137931 | ...      | 4.077576 | 4.137931 |       NA |       NA | 4.146159 | 4.137931 |       NA | 4.116843 |       NA |       NA |\n",
       "\n"
      ],
      "text/plain": [
       "     The.Social.Network A.Prophet Amour    The.King.s.Speech La.La.Land\n",
       "[1,] 3.856773           3.809657  4.002453 4.076551          3.959427  \n",
       "[2,] 3.982332           3.980662  4.011011 4.092449                NA  \n",
       "[3,] 4.064841           4.068967  4.120268 3.968694                NA  \n",
       "[4,] 4.124531           4.132969  4.243735       NA                NA  \n",
       "[5,]       NA           4.040177  4.135684       NA                NA  \n",
       "     Boyhood  Inception A.Separation The.Artist The.White.Ribbon ...\n",
       "[1,] 3.984733 NA        3.991805     4.020732   4.000000         ...\n",
       "[2,] 4.043354 NA        3.980662     4.043288   4.000000         ...\n",
       "[3,] 4.110038 NA              NA     4.146469   4.090909         ...\n",
       "[4,] 4.294678 NA              NA     4.219832   4.230769         ...\n",
       "[5,] 4.172748 NA        4.095775           NA   4.137931         ...\n",
       "     Call.Me.by.Your.Name Winter.s.Bone The.Grand.Budapest.Hotel Dunkirk \n",
       "[1,] 3.998327             4.000000      4.120729                 4.030752\n",
       "[2,] 3.967000             4.000000            NA                 3.897270\n",
       "[3,] 4.100683             4.090909      4.135279                 4.042981\n",
       "[4,] 4.266667             4.230769            NA                       NA\n",
       "[5,] 4.077576             4.137931            NA                       NA\n",
       "     Inside.Llewyn.Davis A.Serious.Man Toy.Story.3 Beasts.of.the.Southern.Wild\n",
       "[1,] 3.991805            4.000000      4.063389    3.991805                   \n",
       "[2,] 4.000000            4.000000      3.945430    4.000000                   \n",
       "[3,] 4.100873            4.090909            NA    4.073912                   \n",
       "[4,] 4.250329            4.243455      4.286835    4.227477                   \n",
       "[5,] 4.146159            4.137931            NA    4.116843                   \n",
       "     The.Imitation.Game The.Fighter\n",
       "[1,]       NA           3.988881   \n",
       "[2,] 4.081897           4.010798   \n",
       "[3,] 4.101490           4.057703   \n",
       "[4,] 4.224168           4.227718   \n",
       "[5,]       NA                 NA   "
      ]
     },
     "metadata": {},
     "output_type": "display_data"
    }
   ],
   "source": [
    "UBCF_C_C <- Recommender(all_raw, \"UBCF\", \n",
    "      param=list(normalize = \"center\",method=\"Euclidean\"))\n",
    "my_rating<-predict(UBCF_C_C, all_raw[c(6,26,50,55,85)], type=\"ratings\")\n",
    "as(my_rating, \"matrix\")"
   ]
  },
  {
   "cell_type": "markdown",
   "metadata": {},
   "source": [
    "## User-Based Collaborative Filtering: Pearson Correlation"
   ]
  },
  {
   "cell_type": "code",
   "execution_count": 25,
   "metadata": {
    "ExecuteTime": {
     "end_time": "2019-12-03T02:32:06.728797Z",
     "start_time": "2019-12-03T02:32:06.695Z"
    }
   },
   "outputs": [],
   "source": [
    "#train UBCF pearson correlation models\n",
    "\n",
    "# non-normalized\n",
    "UBCF_N_P <- Recommender(getData(e, \"train\"), \"UBCF\", \n",
    "      param=list(normalize = NULL, method=\"pearson\"))\n",
    "\n",
    "# centered\n",
    "UBCF_C_P <- Recommender(getData(e, \"train\"), \"UBCF\", \n",
    "      param=list(normalize = \"center\",method=\"pearson\"))\n",
    "\n",
    "# Z-score normalization\n",
    "UBCF_Z_P <- Recommender(getData(e, \"train\"), \"UBCF\", \n",
    "      param=list(normalize = \"Z-score\",method=\"pearson\"))"
   ]
  },
  {
   "cell_type": "code",
   "execution_count": 26,
   "metadata": {
    "ExecuteTime": {
     "end_time": "2019-12-03T02:32:08.452549Z",
     "start_time": "2019-12-03T02:32:08.385Z"
    }
   },
   "outputs": [
    {
     "data": {
      "text/html": [
       "<table>\n",
       "<thead><tr><th></th><th scope=col>RMSE</th><th scope=col>MSE</th><th scope=col>MAE</th></tr></thead>\n",
       "<tbody>\n",
       "\t<tr><th scope=row>UBCF_N_P</th><td>2.4988911</td><td>6.2444565</td><td>2.3109208</td></tr>\n",
       "\t<tr><th scope=row>UBCF_C_P</th><td>0.9351967</td><td>0.8745928</td><td>0.7327993</td></tr>\n",
       "\t<tr><th scope=row>UBCF_Z_P</th><td>0.9366505</td><td>0.8773142</td><td>0.7439749</td></tr>\n",
       "</tbody>\n",
       "</table>\n"
      ],
      "text/latex": [
       "\\begin{tabular}{r|lll}\n",
       "  & RMSE & MSE & MAE\\\\\n",
       "\\hline\n",
       "\tUBCF\\_N\\_P & 2.4988911 & 6.2444565 & 2.3109208\\\\\n",
       "\tUBCF\\_C\\_P & 0.9351967 & 0.8745928 & 0.7327993\\\\\n",
       "\tUBCF\\_Z\\_P & 0.9366505 & 0.8773142 & 0.7439749\\\\\n",
       "\\end{tabular}\n"
      ],
      "text/markdown": [
       "\n",
       "| <!--/--> | RMSE | MSE | MAE |\n",
       "|---|---|---|---|\n",
       "| UBCF_N_P | 2.4988911 | 6.2444565 | 2.3109208 |\n",
       "| UBCF_C_P | 0.9351967 | 0.8745928 | 0.7327993 |\n",
       "| UBCF_Z_P | 0.9366505 | 0.8773142 | 0.7439749 |\n",
       "\n"
      ],
      "text/plain": [
       "         RMSE      MSE       MAE      \n",
       "UBCF_N_P 2.4988911 6.2444565 2.3109208\n",
       "UBCF_C_P 0.9351967 0.8745928 0.7327993\n",
       "UBCF_Z_P 0.9366505 0.8773142 0.7439749"
      ]
     },
     "metadata": {},
     "output_type": "display_data"
    }
   ],
   "source": [
    "# compute predicted ratings\n",
    "p1 <- predict(UBCF_N_P, getData(e, \"known\"), type=\"ratings\")\n",
    "\n",
    "p2 <- predict(UBCF_C_P, getData(e, \"known\"), type=\"ratings\")\n",
    "\n",
    "p3 <- predict(UBCF_Z_P, getData(e, \"known\"), type=\"ratings\")\n",
    "\n",
    "\n",
    "\n",
    "# aggregate the performance statistics\n",
    "error_UPC <- rbind(\n",
    "  UBCF_N_P = calcPredictionAccuracy(p1, getData(e, \"unknown\")),\n",
    "  UBCF_C_P = calcPredictionAccuracy(p2, getData(e, \"unknown\")),\n",
    "  UBCF_Z_P = calcPredictionAccuracy(p3, getData(e, \"unknown\"))\n",
    ")\n",
    "error_UPC"
   ]
  },
  {
   "cell_type": "markdown",
   "metadata": {},
   "source": [
    "## Item-Based Collaborative Filtering: Cosine Similarity"
   ]
  },
  {
   "cell_type": "code",
   "execution_count": 27,
   "metadata": {
    "ExecuteTime": {
     "end_time": "2019-12-03T02:32:10.311674Z",
     "start_time": "2019-12-03T02:32:10.274Z"
    }
   },
   "outputs": [],
   "source": [
    "#train IBCF cosine similarity models\n",
    "\n",
    "# non-normalized\n",
    "IBCF_N_C <- Recommender(getData(e, \"train\"), \"IBCF\", \n",
    "      param=list(normalize = NULL, method=\"Cosine\"))\n",
    "\n",
    "# centered\n",
    "IBCF_C_C <- Recommender(getData(e, \"train\"), \"IBCF\", \n",
    "      param=list(normalize = \"center\",method=\"Cosine\"))\n",
    "\n",
    "# Z-score normalization\n",
    "IBCF_Z_C <- Recommender(getData(e, \"train\"), \"IBCF\", \n",
    "      param=list(normalize = \"Z-score\",method=\"Cosine\"))"
   ]
  },
  {
   "cell_type": "code",
   "execution_count": 28,
   "metadata": {
    "ExecuteTime": {
     "end_time": "2019-12-03T02:32:14.539072Z",
     "start_time": "2019-12-03T02:32:14.467Z"
    }
   },
   "outputs": [
    {
     "data": {
      "text/html": [
       "<table>\n",
       "<thead><tr><th></th><th scope=col>RMSE</th><th scope=col>MSE</th><th scope=col>MAE</th></tr></thead>\n",
       "<tbody>\n",
       "\t<tr><th scope=row>IBCF_N_C</th><td>1.046320 </td><td>1.094785 </td><td>0.8027298</td></tr>\n",
       "\t<tr><th scope=row>IBCF_C_C</th><td>1.142070 </td><td>1.304324 </td><td>0.8613982</td></tr>\n",
       "\t<tr><th scope=row>IBCF_Z_C</th><td>1.113993 </td><td>1.240981 </td><td>0.8506068</td></tr>\n",
       "</tbody>\n",
       "</table>\n"
      ],
      "text/latex": [
       "\\begin{tabular}{r|lll}\n",
       "  & RMSE & MSE & MAE\\\\\n",
       "\\hline\n",
       "\tIBCF\\_N\\_C & 1.046320  & 1.094785  & 0.8027298\\\\\n",
       "\tIBCF\\_C\\_C & 1.142070  & 1.304324  & 0.8613982\\\\\n",
       "\tIBCF\\_Z\\_C & 1.113993  & 1.240981  & 0.8506068\\\\\n",
       "\\end{tabular}\n"
      ],
      "text/markdown": [
       "\n",
       "| <!--/--> | RMSE | MSE | MAE |\n",
       "|---|---|---|---|\n",
       "| IBCF_N_C | 1.046320  | 1.094785  | 0.8027298 |\n",
       "| IBCF_C_C | 1.142070  | 1.304324  | 0.8613982 |\n",
       "| IBCF_Z_C | 1.113993  | 1.240981  | 0.8506068 |\n",
       "\n"
      ],
      "text/plain": [
       "         RMSE     MSE      MAE      \n",
       "IBCF_N_C 1.046320 1.094785 0.8027298\n",
       "IBCF_C_C 1.142070 1.304324 0.8613982\n",
       "IBCF_Z_C 1.113993 1.240981 0.8506068"
      ]
     },
     "metadata": {},
     "output_type": "display_data"
    }
   ],
   "source": [
    "# compute predicted ratings\n",
    "p1 <- predict(IBCF_N_C, getData(e, \"known\"), type=\"ratings\")\n",
    "\n",
    "p2 <- predict(IBCF_C_C, getData(e, \"known\"), type=\"ratings\")\n",
    "\n",
    "p3 <- predict(IBCF_Z_C, getData(e, \"known\"), type=\"ratings\")\n",
    "\n",
    "# set all predictions that fall outside the valid range to the boundary values\n",
    "p1@data@x[p1@data@x[] <  0] <- 0\n",
    "p1@data@x[p1@data@x[] > 5] <- 5\n",
    "\n",
    "p2@data@x[p2@data@x[] <  0] <- 0\n",
    "p2@data@x[p2@data@x[] > 5] <- 5\n",
    "\n",
    "p3@data@x[p3@data@x[] <  0] <- 0\n",
    "p3@data@x[p3@data@x[] > 5] <- 5\n",
    "\n",
    "# aggregate the performance statistics\n",
    "error_ICOS <- rbind(\n",
    "  IBCF_N_C = calcPredictionAccuracy(p1, getData(e, \"unknown\")),\n",
    "  IBCF_C_C = calcPredictionAccuracy(p2, getData(e, \"unknown\")),\n",
    "  IBCF_Z_C = calcPredictionAccuracy(p3, getData(e, \"unknown\"))\n",
    ")\n",
    "error_ICOS"
   ]
  },
  {
   "cell_type": "markdown",
   "metadata": {},
   "source": [
    "## Item-Based Collaborative Filtering: Euclidean Distance"
   ]
  },
  {
   "cell_type": "code",
   "execution_count": 29,
   "metadata": {
    "ExecuteTime": {
     "end_time": "2019-12-03T02:32:16.941589Z",
     "start_time": "2019-12-03T02:32:16.902Z"
    }
   },
   "outputs": [],
   "source": [
    "#train IBCF Euclidean Distance models\n",
    "\n",
    "# non-normalized\n",
    "IBCF_N_E <- Recommender(getData(e, \"train\"), \"IBCF\", \n",
    "      param=list(normalize = NULL, method=\"Euclidean\"))\n",
    "\n",
    "# centered\n",
    "IBCF_C_E <- Recommender(getData(e, \"train\"), \"IBCF\", \n",
    "      param=list(normalize = \"center\",method=\"Euclidean\"))\n",
    "\n",
    "# Z-score normalization\n",
    "IBCF_Z_E <- Recommender(getData(e, \"train\"), \"IBCF\", \n",
    "      param=list(normalize = \"Z-score\",method=\"Euclidean\"))"
   ]
  },
  {
   "cell_type": "code",
   "execution_count": 30,
   "metadata": {
    "ExecuteTime": {
     "end_time": "2019-12-03T02:32:17.469264Z",
     "start_time": "2019-12-03T02:32:17.412Z"
    }
   },
   "outputs": [
    {
     "data": {
      "text/html": [
       "<table>\n",
       "<thead><tr><th></th><th scope=col>RMSE</th><th scope=col>MSE</th><th scope=col>MAE</th></tr></thead>\n",
       "<tbody>\n",
       "\t<tr><th scope=row>IBCF_N_E</th><td>1.056092 </td><td>1.115330 </td><td>0.8273438</td></tr>\n",
       "\t<tr><th scope=row>IBCF_C_E</th><td>1.084655 </td><td>1.176477 </td><td>0.8525114</td></tr>\n",
       "\t<tr><th scope=row>IBCF_Z_E</th><td>1.037139 </td><td>1.075657 </td><td>0.8057835</td></tr>\n",
       "</tbody>\n",
       "</table>\n"
      ],
      "text/latex": [
       "\\begin{tabular}{r|lll}\n",
       "  & RMSE & MSE & MAE\\\\\n",
       "\\hline\n",
       "\tIBCF\\_N\\_E & 1.056092  & 1.115330  & 0.8273438\\\\\n",
       "\tIBCF\\_C\\_E & 1.084655  & 1.176477  & 0.8525114\\\\\n",
       "\tIBCF\\_Z\\_E & 1.037139  & 1.075657  & 0.8057835\\\\\n",
       "\\end{tabular}\n"
      ],
      "text/markdown": [
       "\n",
       "| <!--/--> | RMSE | MSE | MAE |\n",
       "|---|---|---|---|\n",
       "| IBCF_N_E | 1.056092  | 1.115330  | 0.8273438 |\n",
       "| IBCF_C_E | 1.084655  | 1.176477  | 0.8525114 |\n",
       "| IBCF_Z_E | 1.037139  | 1.075657  | 0.8057835 |\n",
       "\n"
      ],
      "text/plain": [
       "         RMSE     MSE      MAE      \n",
       "IBCF_N_E 1.056092 1.115330 0.8273438\n",
       "IBCF_C_E 1.084655 1.176477 0.8525114\n",
       "IBCF_Z_E 1.037139 1.075657 0.8057835"
      ]
     },
     "metadata": {},
     "output_type": "display_data"
    }
   ],
   "source": [
    "# compute predicted ratings\n",
    "p1 <- predict(IBCF_N_E, getData(e, \"known\"), type=\"ratings\")\n",
    "\n",
    "p2 <- predict(IBCF_C_E, getData(e, \"known\"), type=\"ratings\")\n",
    "\n",
    "p3 <- predict(IBCF_Z_E, getData(e, \"known\"), type=\"ratings\")\n",
    "\n",
    "# set all predictions that fall outside the valid range to the boundary values\n",
    "p1@data@x[p1@data@x[] <  0] <- 0\n",
    "p1@data@x[p1@data@x[] > 5] <- 5\n",
    "\n",
    "p2@data@x[p2@data@x[] <  0] <- 0\n",
    "p2@data@x[p2@data@x[] > 5] <- 5\n",
    "\n",
    "p3@data@x[p3@data@x[] <  0] <- 0\n",
    "p3@data@x[p3@data@x[] > 5] <- 5\n",
    "\n",
    "# aggregate the performance statistics\n",
    "error_IEUC <- rbind(\n",
    "  IBCF_N_E = calcPredictionAccuracy(p1, getData(e, \"unknown\")),\n",
    "  IBCF_C_E = calcPredictionAccuracy(p2, getData(e, \"unknown\")),\n",
    "  IBCF_Z_E = calcPredictionAccuracy(p3, getData(e, \"unknown\"))\n",
    ")\n",
    "error_IEUC"
   ]
  },
  {
   "cell_type": "markdown",
   "metadata": {},
   "source": [
    "## Item-Based Collaborative Filtering: Pearson Correlation"
   ]
  },
  {
   "cell_type": "code",
   "execution_count": 31,
   "metadata": {
    "ExecuteTime": {
     "end_time": "2019-12-03T02:32:20.708699Z",
     "start_time": "2019-12-03T02:32:20.670Z"
    }
   },
   "outputs": [],
   "source": [
    "#train IBCF pearson correlation models\n",
    "\n",
    "# non-normalized\n",
    "IBCF_N_P <- Recommender(getData(e, \"train\"), \"IBCF\", \n",
    "      param=list(normalize = NULL, method=\"pearson\"))\n",
    "\n",
    "# centered\n",
    "IBCF_C_P <- Recommender(getData(e, \"train\"), \"IBCF\", \n",
    "      param=list(normalize = \"center\",method=\"pearson\"))\n",
    "\n",
    "# Z-score normalization\n",
    "IBCF_Z_P <- Recommender(getData(e, \"train\"), \"IBCF\", \n",
    "      param=list(normalize = \"Z-score\",method=\"pearson\"))"
   ]
  },
  {
   "cell_type": "code",
   "execution_count": 32,
   "metadata": {
    "ExecuteTime": {
     "end_time": "2019-12-03T02:32:21.715345Z",
     "start_time": "2019-12-03T02:32:21.649Z"
    }
   },
   "outputs": [
    {
     "data": {
      "text/html": [
       "<table>\n",
       "<thead><tr><th></th><th scope=col>RMSE</th><th scope=col>MSE</th><th scope=col>MAE</th></tr></thead>\n",
       "<tbody>\n",
       "\t<tr><th scope=row>IBCF_N_P</th><td>0.9427687</td><td>0.8888128</td><td>0.7449133</td></tr>\n",
       "\t<tr><th scope=row>IBCF_C_P</th><td>1.0147234</td><td>1.0296636</td><td>0.8032048</td></tr>\n",
       "\t<tr><th scope=row>IBCF_Z_P</th><td>1.0164476</td><td>1.0331657</td><td>0.8102163</td></tr>\n",
       "</tbody>\n",
       "</table>\n"
      ],
      "text/latex": [
       "\\begin{tabular}{r|lll}\n",
       "  & RMSE & MSE & MAE\\\\\n",
       "\\hline\n",
       "\tIBCF\\_N\\_P & 0.9427687 & 0.8888128 & 0.7449133\\\\\n",
       "\tIBCF\\_C\\_P & 1.0147234 & 1.0296636 & 0.8032048\\\\\n",
       "\tIBCF\\_Z\\_P & 1.0164476 & 1.0331657 & 0.8102163\\\\\n",
       "\\end{tabular}\n"
      ],
      "text/markdown": [
       "\n",
       "| <!--/--> | RMSE | MSE | MAE |\n",
       "|---|---|---|---|\n",
       "| IBCF_N_P | 0.9427687 | 0.8888128 | 0.7449133 |\n",
       "| IBCF_C_P | 1.0147234 | 1.0296636 | 0.8032048 |\n",
       "| IBCF_Z_P | 1.0164476 | 1.0331657 | 0.8102163 |\n",
       "\n"
      ],
      "text/plain": [
       "         RMSE      MSE       MAE      \n",
       "IBCF_N_P 0.9427687 0.8888128 0.7449133\n",
       "IBCF_C_P 1.0147234 1.0296636 0.8032048\n",
       "IBCF_Z_P 1.0164476 1.0331657 0.8102163"
      ]
     },
     "metadata": {},
     "output_type": "display_data"
    }
   ],
   "source": [
    "# compute predicted ratings\n",
    "p1 <- predict(IBCF_N_P, getData(e, \"known\"), type=\"ratings\")\n",
    "\n",
    "p2 <- predict(IBCF_C_P, getData(e, \"known\"), type=\"ratings\")\n",
    "\n",
    "p3 <- predict(IBCF_Z_P, getData(e, \"known\"), type=\"ratings\")\n",
    "\n",
    "# set all predictions that fall outside the valid range to the boundary values\n",
    "p1@data@x[p1@data@x[] <  0] <- 0\n",
    "p1@data@x[p1@data@x[] > 5] <- 5\n",
    "\n",
    "p2@data@x[p2@data@x[] <  0] <- 0\n",
    "p2@data@x[p2@data@x[] > 5] <- 5\n",
    "\n",
    "p3@data@x[p3@data@x[] <  0] <- 0\n",
    "p3@data@x[p3@data@x[] > 5] <- 5\n",
    "\n",
    "# aggregate the performance statistics\n",
    "error_IPC <- rbind(\n",
    "  IBCF_N_P = calcPredictionAccuracy(p1, getData(e, \"unknown\")),\n",
    "  IBCF_C_P = calcPredictionAccuracy(p2, getData(e, \"unknown\")),\n",
    "  IBCF_Z_P = calcPredictionAccuracy(p3, getData(e, \"unknown\"))\n",
    ")\n",
    "error_IPC"
   ]
  },
  {
   "cell_type": "markdown",
   "metadata": {},
   "source": [
    "## ALS"
   ]
  },
  {
   "cell_type": "code",
   "execution_count": 58,
   "metadata": {
    "ExecuteTime": {
     "end_time": "2019-12-03T02:45:51.935154Z",
     "start_time": "2019-12-03T02:45:51.910Z"
    }
   },
   "outputs": [],
   "source": [
    "#train IBCF pearson correlation models\n",
    "\n",
    "# non-normalized\n",
    "ALS_N <- Recommender(getData(e, \"train\"), \"ALS\", \n",
    "      param=list(normalize=NULL, lambda=0.0999, n_factors=10, n_iterations=10, seed = 1234, verbose = FALSE))\n",
    "\n",
    "# centered\n",
    "ALS_C <- Recommender(getData(e, \"train\"), \"ALS\", \n",
    "      param=list(normalize = NULL, lambda=0.0999, n_factors=10, n_iterations=10, seed = 1234, verbose = FALSE))\n",
    "\n",
    "# Z-score normalization\n",
    "ALS_Z <- Recommender(getData(e, \"train\"), \"ALS\", \n",
    "      param=list(normalize = NULL, lambda=0.1, n_factors=200, n_iterations=100, seed = 1234, verbose = FALSE))"
   ]
  },
  {
   "cell_type": "code",
   "execution_count": 59,
   "metadata": {
    "ExecuteTime": {
     "end_time": "2019-12-03T02:46:33.465107Z",
     "start_time": "2019-12-03T02:45:52.458Z"
    }
   },
   "outputs": [
    {
     "data": {
      "text/html": [
       "<table>\n",
       "<thead><tr><th></th><th scope=col>RMSE</th><th scope=col>MSE</th><th scope=col>MAE</th></tr></thead>\n",
       "<tbody>\n",
       "\t<tr><th scope=row>ALS_N</th><td>1.132738 </td><td>1.283095 </td><td>0.8971046</td></tr>\n",
       "\t<tr><th scope=row>ALS_C</th><td>1.132738 </td><td>1.283095 </td><td>0.8971046</td></tr>\n",
       "\t<tr><th scope=row>ALS_Z</th><td>1.171270 </td><td>1.371872 </td><td>0.9478695</td></tr>\n",
       "</tbody>\n",
       "</table>\n"
      ],
      "text/latex": [
       "\\begin{tabular}{r|lll}\n",
       "  & RMSE & MSE & MAE\\\\\n",
       "\\hline\n",
       "\tALS\\_N & 1.132738  & 1.283095  & 0.8971046\\\\\n",
       "\tALS\\_C & 1.132738  & 1.283095  & 0.8971046\\\\\n",
       "\tALS\\_Z & 1.171270  & 1.371872  & 0.9478695\\\\\n",
       "\\end{tabular}\n"
      ],
      "text/markdown": [
       "\n",
       "| <!--/--> | RMSE | MSE | MAE |\n",
       "|---|---|---|---|\n",
       "| ALS_N | 1.132738  | 1.283095  | 0.8971046 |\n",
       "| ALS_C | 1.132738  | 1.283095  | 0.8971046 |\n",
       "| ALS_Z | 1.171270  | 1.371872  | 0.9478695 |\n",
       "\n"
      ],
      "text/plain": [
       "      RMSE     MSE      MAE      \n",
       "ALS_N 1.132738 1.283095 0.8971046\n",
       "ALS_C 1.132738 1.283095 0.8971046\n",
       "ALS_Z 1.171270 1.371872 0.9478695"
      ]
     },
     "metadata": {},
     "output_type": "display_data"
    }
   ],
   "source": [
    "# compute predicted ratings\n",
    "p1 <- predict(ALS_N, getData(e, \"known\"), type=\"ratings\")\n",
    "\n",
    "p2 <- predict(ALS_C, getData(e, \"known\"), type=\"ratings\")\n",
    "\n",
    "p3 <- predict(ALS_Z, getData(e, \"known\"), type=\"ratings\")\n",
    "\n",
    "# set all predictions that fall outside the valid range to the boundary values\n",
    "p1@data@x[p1@data@x[] <  0] <- 0\n",
    "p1@data@x[p1@data@x[] > 5] <- 5\n",
    "\n",
    "p2@data@x[p2@data@x[] <  0] <- 0\n",
    "p2@data@x[p2@data@x[] > 5] <- 5\n",
    "\n",
    "p3@data@x[p3@data@x[] <  0] <- 0\n",
    "p3@data@x[p3@data@x[] > 5] <- 5\n",
    "\n",
    "# aggregate the performance statistics\n",
    "error_IPC <- rbind(\n",
    "  ALS_N = calcPredictionAccuracy(p1, getData(e, \"unknown\")),\n",
    "  ALS_C = calcPredictionAccuracy(p2, getData(e, \"unknown\")),\n",
    "  ALS_Z = calcPredictionAccuracy(p3, getData(e, \"unknown\"))\n",
    ")\n",
    "error_IPC"
   ]
  },
  {
   "cell_type": "markdown",
   "metadata": {},
   "source": [
    "# Conclusion"
   ]
  },
  {
   "cell_type": "code",
   "execution_count": 210,
   "metadata": {
    "ExecuteTime": {
     "end_time": "2019-12-01T04:40:09.205071Z",
     "start_time": "2019-12-01T04:40:09.174Z"
    }
   },
   "outputs": [
    {
     "data": {
      "text/html": [
       "<table>\n",
       "<thead><tr><th></th><th scope=col>RMSE</th><th scope=col>MSE</th><th scope=col>MAE</th></tr></thead>\n",
       "<tbody>\n",
       "\t<tr><th scope=row>UBCF_C_P</th><td>0.7984235</td><td>0.6374801</td><td>0.6882476</td></tr>\n",
       "\t<tr><th scope=row>UBCF_Z_P</th><td>0.7984322</td><td>0.6374941</td><td>0.6898722</td></tr>\n",
       "\t<tr><th scope=row>UBCF_Z_C</th><td>1.0316313</td><td>1.0642632</td><td>0.8391653</td></tr>\n",
       "\t<tr><th scope=row>UBCF_C_E</th><td>1.0316735</td><td>1.0643502</td><td>0.8472380</td></tr>\n",
       "\t<tr><th scope=row>UBCF_C_C</th><td>1.0324599</td><td>1.0659735</td><td>0.8453428</td></tr>\n",
       "\t<tr><th scope=row>UBCF_Z_E</th><td>1.0340969</td><td>1.0693564</td><td>0.8473650</td></tr>\n",
       "\t<tr><th scope=row>IBCF_N_E</th><td>1.0773371</td><td>1.1606553</td><td>0.8213670</td></tr>\n",
       "\t<tr><th scope=row>IBCF_N_C</th><td>1.0855458</td><td>1.1784096</td><td>0.8346155</td></tr>\n",
       "\t<tr><th scope=row>IBCF_N_P</th><td>1.0919247</td><td>1.1922996</td><td>0.8502663</td></tr>\n",
       "\t<tr><th scope=row>IBCF_Z_E</th><td>1.1135451</td><td>1.2399827</td><td>0.8663676</td></tr>\n",
       "\t<tr><th scope=row>IBCF_C_E</th><td>1.1198831</td><td>1.2541381</td><td>0.8491322</td></tr>\n",
       "\t<tr><th scope=row>IBCF_C_P</th><td>1.1657573</td><td>1.3589902</td><td>0.9246453</td></tr>\n",
       "\t<tr><th scope=row>IBCF_Z_P</th><td>1.2059010</td><td>1.4541971</td><td>0.9777855</td></tr>\n",
       "\t<tr><th scope=row>IBCF_C_C</th><td>1.2498311</td><td>1.5620779</td><td>0.9629664</td></tr>\n",
       "\t<tr><th scope=row>IBCF_Z_C</th><td>1.2508593</td><td>1.5646490</td><td>0.9609594</td></tr>\n",
       "\t<tr><th scope=row>UBCF_N_P</th><td>2.4904894</td><td>6.2025372</td><td>2.1835239</td></tr>\n",
       "\t<tr><th scope=row>UBCF_N_E</th><td>2.5622408</td><td>6.5650781</td><td>2.1757835</td></tr>\n",
       "\t<tr><th scope=row>UBCF_N_C</th><td>2.6099730</td><td>6.8119588</td><td>2.2548503</td></tr>\n",
       "</tbody>\n",
       "</table>\n"
      ],
      "text/latex": [
       "\\begin{tabular}{r|lll}\n",
       "  & RMSE & MSE & MAE\\\\\n",
       "\\hline\n",
       "\tUBCF\\_C\\_P & 0.7984235 & 0.6374801 & 0.6882476\\\\\n",
       "\tUBCF\\_Z\\_P & 0.7984322 & 0.6374941 & 0.6898722\\\\\n",
       "\tUBCF\\_Z\\_C & 1.0316313 & 1.0642632 & 0.8391653\\\\\n",
       "\tUBCF\\_C\\_E & 1.0316735 & 1.0643502 & 0.8472380\\\\\n",
       "\tUBCF\\_C\\_C & 1.0324599 & 1.0659735 & 0.8453428\\\\\n",
       "\tUBCF\\_Z\\_E & 1.0340969 & 1.0693564 & 0.8473650\\\\\n",
       "\tIBCF\\_N\\_E & 1.0773371 & 1.1606553 & 0.8213670\\\\\n",
       "\tIBCF\\_N\\_C & 1.0855458 & 1.1784096 & 0.8346155\\\\\n",
       "\tIBCF\\_N\\_P & 1.0919247 & 1.1922996 & 0.8502663\\\\\n",
       "\tIBCF\\_Z\\_E & 1.1135451 & 1.2399827 & 0.8663676\\\\\n",
       "\tIBCF\\_C\\_E & 1.1198831 & 1.2541381 & 0.8491322\\\\\n",
       "\tIBCF\\_C\\_P & 1.1657573 & 1.3589902 & 0.9246453\\\\\n",
       "\tIBCF\\_Z\\_P & 1.2059010 & 1.4541971 & 0.9777855\\\\\n",
       "\tIBCF\\_C\\_C & 1.2498311 & 1.5620779 & 0.9629664\\\\\n",
       "\tIBCF\\_Z\\_C & 1.2508593 & 1.5646490 & 0.9609594\\\\\n",
       "\tUBCF\\_N\\_P & 2.4904894 & 6.2025372 & 2.1835239\\\\\n",
       "\tUBCF\\_N\\_E & 2.5622408 & 6.5650781 & 2.1757835\\\\\n",
       "\tUBCF\\_N\\_C & 2.6099730 & 6.8119588 & 2.2548503\\\\\n",
       "\\end{tabular}\n"
      ],
      "text/markdown": [
       "\n",
       "| <!--/--> | RMSE | MSE | MAE |\n",
       "|---|---|---|---|\n",
       "| UBCF_C_P | 0.7984235 | 0.6374801 | 0.6882476 |\n",
       "| UBCF_Z_P | 0.7984322 | 0.6374941 | 0.6898722 |\n",
       "| UBCF_Z_C | 1.0316313 | 1.0642632 | 0.8391653 |\n",
       "| UBCF_C_E | 1.0316735 | 1.0643502 | 0.8472380 |\n",
       "| UBCF_C_C | 1.0324599 | 1.0659735 | 0.8453428 |\n",
       "| UBCF_Z_E | 1.0340969 | 1.0693564 | 0.8473650 |\n",
       "| IBCF_N_E | 1.0773371 | 1.1606553 | 0.8213670 |\n",
       "| IBCF_N_C | 1.0855458 | 1.1784096 | 0.8346155 |\n",
       "| IBCF_N_P | 1.0919247 | 1.1922996 | 0.8502663 |\n",
       "| IBCF_Z_E | 1.1135451 | 1.2399827 | 0.8663676 |\n",
       "| IBCF_C_E | 1.1198831 | 1.2541381 | 0.8491322 |\n",
       "| IBCF_C_P | 1.1657573 | 1.3589902 | 0.9246453 |\n",
       "| IBCF_Z_P | 1.2059010 | 1.4541971 | 0.9777855 |\n",
       "| IBCF_C_C | 1.2498311 | 1.5620779 | 0.9629664 |\n",
       "| IBCF_Z_C | 1.2508593 | 1.5646490 | 0.9609594 |\n",
       "| UBCF_N_P | 2.4904894 | 6.2025372 | 2.1835239 |\n",
       "| UBCF_N_E | 2.5622408 | 6.5650781 | 2.1757835 |\n",
       "| UBCF_N_C | 2.6099730 | 6.8119588 | 2.2548503 |\n",
       "\n"
      ],
      "text/plain": [
       "         RMSE      MSE       MAE      \n",
       "UBCF_C_P 0.7984235 0.6374801 0.6882476\n",
       "UBCF_Z_P 0.7984322 0.6374941 0.6898722\n",
       "UBCF_Z_C 1.0316313 1.0642632 0.8391653\n",
       "UBCF_C_E 1.0316735 1.0643502 0.8472380\n",
       "UBCF_C_C 1.0324599 1.0659735 0.8453428\n",
       "UBCF_Z_E 1.0340969 1.0693564 0.8473650\n",
       "IBCF_N_E 1.0773371 1.1606553 0.8213670\n",
       "IBCF_N_C 1.0855458 1.1784096 0.8346155\n",
       "IBCF_N_P 1.0919247 1.1922996 0.8502663\n",
       "IBCF_Z_E 1.1135451 1.2399827 0.8663676\n",
       "IBCF_C_E 1.1198831 1.2541381 0.8491322\n",
       "IBCF_C_P 1.1657573 1.3589902 0.9246453\n",
       "IBCF_Z_P 1.2059010 1.4541971 0.9777855\n",
       "IBCF_C_C 1.2498311 1.5620779 0.9629664\n",
       "IBCF_Z_C 1.2508593 1.5646490 0.9609594\n",
       "UBCF_N_P 2.4904894 6.2025372 2.1835239\n",
       "UBCF_N_E 2.5622408 6.5650781 2.1757835\n",
       "UBCF_N_C 2.6099730 6.8119588 2.2548503"
      ]
     },
     "metadata": {},
     "output_type": "display_data"
    }
   ],
   "source": [
    "c_res <- data.frame(rbind(error_UCOS, error_UEUC, error_UPC, error_ICOS, error_IEUC, error_IPC))\n",
    "\n",
    "c_res[order(c_res$RMSE ),]"
   ]
  },
  {
   "cell_type": "code",
   "execution_count": 220,
   "metadata": {
    "ExecuteTime": {
     "end_time": "2019-12-01T04:54:57.053617Z",
     "start_time": "2019-12-01T04:54:57.007Z"
    }
   },
   "outputs": [
    {
     "data": {
      "text/html": [
       "<table>\n",
       "<thead><tr><th scope=col>The.Social.Network</th><th scope=col>A.Prophet</th><th scope=col>Amour</th><th scope=col>The.King.s.Speech</th><th scope=col>La.La.Land</th><th scope=col>Boyhood</th><th scope=col>Inception</th><th scope=col>A.Separation</th><th scope=col>The.Artist</th><th scope=col>The.White.Ribbon</th><th scope=col>...</th><th scope=col>Call.Me.by.Your.Name</th><th scope=col>Winter.s.Bone</th><th scope=col>The.Grand.Budapest.Hotel</th><th scope=col>Dunkirk</th><th scope=col>Inside.Llewyn.Davis</th><th scope=col>A.Serious.Man</th><th scope=col>Toy.Story.3</th><th scope=col>Beasts.of.the.Southern.Wild</th><th scope=col>The.Imitation.Game</th><th scope=col>The.Fighter</th></tr></thead>\n",
       "<tbody>\n",
       "\t<tr><td>3.762850</td><td>3.986995</td><td>4.022063</td><td>4.044432</td><td>3.711392</td><td>4.037624</td><td>NA      </td><td>4.027430</td><td>3.978711</td><td>4.000000</td><td>...     </td><td>4.141471</td><td>4.000000</td><td>4.183372</td><td>4.063403</td><td>4.042275</td><td>4.000000</td><td>4.056415</td><td>4.000000</td><td>      NA</td><td>3.969548</td></tr>\n",
       "\t<tr><td>3.917264</td><td>3.948773</td><td>3.964747</td><td>4.119201</td><td>      NA</td><td>4.065106</td><td>NA      </td><td>3.995120</td><td>4.045117</td><td>4.000000</td><td>...     </td><td>4.039632</td><td>4.000000</td><td>      NA</td><td>3.989370</td><td>4.051394</td><td>4.000000</td><td>4.053795</td><td>3.964747</td><td>3.999751</td><td>4.059608</td></tr>\n",
       "\t<tr><td>4.060484</td><td>4.113443</td><td>4.145475</td><td>3.967852</td><td>      NA</td><td>4.075020</td><td>NA      </td><td>      NA</td><td>4.155135</td><td>4.090909</td><td>...     </td><td>4.166166</td><td>4.090909</td><td>4.159723</td><td>4.099536</td><td>4.115952</td><td>4.090909</td><td>      NA</td><td>4.090909</td><td>4.163033</td><td>4.012171</td></tr>\n",
       "\t<tr><td>4.011934</td><td>4.211942</td><td>4.266021</td><td>      NA</td><td>      NA</td><td>4.296733</td><td>NA      </td><td>      NA</td><td>4.200822</td><td>4.230769</td><td>...     </td><td>4.281110</td><td>4.230769</td><td>      NA</td><td>      NA</td><td>4.287460</td><td>4.246346</td><td>4.475366</td><td>4.230769</td><td>4.178641</td><td>4.213709</td></tr>\n",
       "\t<tr><td>      NA</td><td>4.023645</td><td>4.130502</td><td>      NA</td><td>      NA</td><td>4.230588</td><td>NA      </td><td>4.081381</td><td>      NA</td><td>4.137931</td><td>...     </td><td>4.131292</td><td>4.137931</td><td>      NA</td><td>      NA</td><td>4.149799</td><td>4.137931</td><td>      NA</td><td>4.110881</td><td>      NA</td><td>      NA</td></tr>\n",
       "</tbody>\n",
       "</table>\n"
      ],
      "text/latex": [
       "\\begin{tabular}{llllllllllllllllllllllllllllllllllllllllllllllllll}\n",
       " The.Social.Network & A.Prophet & Amour & The.King.s.Speech & La.La.Land & Boyhood & Inception & A.Separation & The.Artist & The.White.Ribbon & ... & Call.Me.by.Your.Name & Winter.s.Bone & The.Grand.Budapest.Hotel & Dunkirk & Inside.Llewyn.Davis & A.Serious.Man & Toy.Story.3 & Beasts.of.the.Southern.Wild & The.Imitation.Game & The.Fighter\\\\\n",
       "\\hline\n",
       "\t 3.762850 & 3.986995 & 4.022063 & 4.044432 & 3.711392 & 4.037624 & NA       & 4.027430 & 3.978711 & 4.000000 & ...      & 4.141471 & 4.000000 & 4.183372 & 4.063403 & 4.042275 & 4.000000 & 4.056415 & 4.000000 &       NA & 3.969548\\\\\n",
       "\t 3.917264 & 3.948773 & 3.964747 & 4.119201 &       NA & 4.065106 & NA       & 3.995120 & 4.045117 & 4.000000 & ...      & 4.039632 & 4.000000 &       NA & 3.989370 & 4.051394 & 4.000000 & 4.053795 & 3.964747 & 3.999751 & 4.059608\\\\\n",
       "\t 4.060484 & 4.113443 & 4.145475 & 3.967852 &       NA & 4.075020 & NA       &       NA & 4.155135 & 4.090909 & ...      & 4.166166 & 4.090909 & 4.159723 & 4.099536 & 4.115952 & 4.090909 &       NA & 4.090909 & 4.163033 & 4.012171\\\\\n",
       "\t 4.011934 & 4.211942 & 4.266021 &       NA &       NA & 4.296733 & NA       &       NA & 4.200822 & 4.230769 & ...      & 4.281110 & 4.230769 &       NA &       NA & 4.287460 & 4.246346 & 4.475366 & 4.230769 & 4.178641 & 4.213709\\\\\n",
       "\t       NA & 4.023645 & 4.130502 &       NA &       NA & 4.230588 & NA       & 4.081381 &       NA & 4.137931 & ...      & 4.131292 & 4.137931 &       NA &       NA & 4.149799 & 4.137931 &       NA & 4.110881 &       NA &       NA\\\\\n",
       "\\end{tabular}\n"
      ],
      "text/markdown": [
       "\n",
       "| The.Social.Network | A.Prophet | Amour | The.King.s.Speech | La.La.Land | Boyhood | Inception | A.Separation | The.Artist | The.White.Ribbon | ... | Call.Me.by.Your.Name | Winter.s.Bone | The.Grand.Budapest.Hotel | Dunkirk | Inside.Llewyn.Davis | A.Serious.Man | Toy.Story.3 | Beasts.of.the.Southern.Wild | The.Imitation.Game | The.Fighter |\n",
       "|---|---|---|---|---|---|---|---|---|---|---|---|---|---|---|---|---|---|---|---|---|\n",
       "| 3.762850 | 3.986995 | 4.022063 | 4.044432 | 3.711392 | 4.037624 | NA       | 4.027430 | 3.978711 | 4.000000 | ...      | 4.141471 | 4.000000 | 4.183372 | 4.063403 | 4.042275 | 4.000000 | 4.056415 | 4.000000 |       NA | 3.969548 |\n",
       "| 3.917264 | 3.948773 | 3.964747 | 4.119201 |       NA | 4.065106 | NA       | 3.995120 | 4.045117 | 4.000000 | ...      | 4.039632 | 4.000000 |       NA | 3.989370 | 4.051394 | 4.000000 | 4.053795 | 3.964747 | 3.999751 | 4.059608 |\n",
       "| 4.060484 | 4.113443 | 4.145475 | 3.967852 |       NA | 4.075020 | NA       |       NA | 4.155135 | 4.090909 | ...      | 4.166166 | 4.090909 | 4.159723 | 4.099536 | 4.115952 | 4.090909 |       NA | 4.090909 | 4.163033 | 4.012171 |\n",
       "| 4.011934 | 4.211942 | 4.266021 |       NA |       NA | 4.296733 | NA       |       NA | 4.200822 | 4.230769 | ...      | 4.281110 | 4.230769 |       NA |       NA | 4.287460 | 4.246346 | 4.475366 | 4.230769 | 4.178641 | 4.213709 |\n",
       "|       NA | 4.023645 | 4.130502 |       NA |       NA | 4.230588 | NA       | 4.081381 |       NA | 4.137931 | ...      | 4.131292 | 4.137931 |       NA |       NA | 4.149799 | 4.137931 |       NA | 4.110881 |       NA |       NA |\n",
       "\n"
      ],
      "text/plain": [
       "     The.Social.Network A.Prophet Amour    The.King.s.Speech La.La.Land\n",
       "[1,] 3.762850           3.986995  4.022063 4.044432          3.711392  \n",
       "[2,] 3.917264           3.948773  3.964747 4.119201                NA  \n",
       "[3,] 4.060484           4.113443  4.145475 3.967852                NA  \n",
       "[4,] 4.011934           4.211942  4.266021       NA                NA  \n",
       "[5,]       NA           4.023645  4.130502       NA                NA  \n",
       "     Boyhood  Inception A.Separation The.Artist The.White.Ribbon ...\n",
       "[1,] 4.037624 NA        4.027430     3.978711   4.000000         ...\n",
       "[2,] 4.065106 NA        3.995120     4.045117   4.000000         ...\n",
       "[3,] 4.075020 NA              NA     4.155135   4.090909         ...\n",
       "[4,] 4.296733 NA              NA     4.200822   4.230769         ...\n",
       "[5,] 4.230588 NA        4.081381           NA   4.137931         ...\n",
       "     Call.Me.by.Your.Name Winter.s.Bone The.Grand.Budapest.Hotel Dunkirk \n",
       "[1,] 4.141471             4.000000      4.183372                 4.063403\n",
       "[2,] 4.039632             4.000000            NA                 3.989370\n",
       "[3,] 4.166166             4.090909      4.159723                 4.099536\n",
       "[4,] 4.281110             4.230769            NA                       NA\n",
       "[5,] 4.131292             4.137931            NA                       NA\n",
       "     Inside.Llewyn.Davis A.Serious.Man Toy.Story.3 Beasts.of.the.Southern.Wild\n",
       "[1,] 4.042275            4.000000      4.056415    4.000000                   \n",
       "[2,] 4.051394            4.000000      4.053795    3.964747                   \n",
       "[3,] 4.115952            4.090909            NA    4.090909                   \n",
       "[4,] 4.287460            4.246346      4.475366    4.230769                   \n",
       "[5,] 4.149799            4.137931            NA    4.110881                   \n",
       "     The.Imitation.Game The.Fighter\n",
       "[1,]       NA           3.969548   \n",
       "[2,] 3.999751           4.059608   \n",
       "[3,] 4.163033           4.012171   \n",
       "[4,] 4.178641           4.213709   \n",
       "[5,]       NA                 NA   "
      ]
     },
     "metadata": {},
     "output_type": "display_data"
    }
   ],
   "source": [
    "UBCF_Z_P <- Recommender(all_raw, \"UBCF\", \n",
    "      param=list(normalize = \"Z-score\",method=\"Pearson\"))\n",
    "my_rating<-predict(UBCF_Z_P, all_raw[c(6,26,50,55,85)], type=\"ratings\")\n",
    "as(my_rating, \"matrix\")"
   ]
  },
  {
   "cell_type": "code",
   "execution_count": 224,
   "metadata": {
    "ExecuteTime": {
     "end_time": "2019-12-01T05:17:59.177130Z",
     "start_time": "2019-12-01T05:17:59.132Z"
    }
   },
   "outputs": [
    {
     "data": {
      "text/html": [
       "<table>\n",
       "<thead><tr><th scope=col>The.Social.Network</th><th scope=col>A.Prophet</th><th scope=col>Amour</th><th scope=col>The.King.s.Speech</th><th scope=col>La.La.Land</th><th scope=col>Boyhood</th><th scope=col>Inception</th><th scope=col>A.Separation</th><th scope=col>The.Artist</th><th scope=col>The.White.Ribbon</th><th scope=col>...</th><th scope=col>Call.Me.by.Your.Name</th><th scope=col>Winter.s.Bone</th><th scope=col>The.Grand.Budapest.Hotel</th><th scope=col>Dunkirk</th><th scope=col>Inside.Llewyn.Davis</th><th scope=col>A.Serious.Man</th><th scope=col>Toy.Story.3</th><th scope=col>Beasts.of.the.Southern.Wild</th><th scope=col>The.Imitation.Game</th><th scope=col>The.Fighter</th></tr></thead>\n",
       "<tbody>\n",
       "\t<tr><td>3.731929</td><td>3.989832</td><td>4.011330</td><td>4.043529</td><td>3.688646</td><td>4.094751</td><td>NA      </td><td>4.022878</td><td>3.990309</td><td>4.000000</td><td>...     </td><td>4.138959</td><td>4.000000</td><td>4.139780</td><td>4.016263</td><td>4.044291</td><td>4.000000</td><td>4.031958</td><td>4.000000</td><td>      NA</td><td>3.972038</td></tr>\n",
       "\t<tr><td>3.887073</td><td>3.961750</td><td>3.977047</td><td>4.139518</td><td>      NA</td><td>4.055626</td><td>NA      </td><td>4.007407</td><td>4.034517</td><td>4.000000</td><td>...     </td><td>4.055472</td><td>4.000000</td><td>      NA</td><td>4.028969</td><td>4.052885</td><td>4.000000</td><td>4.078342</td><td>3.977047</td><td>4.095147</td><td>4.032560</td></tr>\n",
       "\t<tr><td>4.084860</td><td>4.107223</td><td>4.138832</td><td>3.989618</td><td>      NA</td><td>4.060629</td><td>NA      </td><td>      NA</td><td>4.166438</td><td>4.090909</td><td>...     </td><td>4.195401</td><td>4.090909</td><td>4.133144</td><td>4.141804</td><td>4.136902</td><td>4.090909</td><td>      NA</td><td>4.090909</td><td>4.223985</td><td>4.004317</td></tr>\n",
       "\t<tr><td>4.106719</td><td>4.217288</td><td>4.247349</td><td>      NA</td><td>      NA</td><td>4.301269</td><td>NA      </td><td>      NA</td><td>4.215706</td><td>4.230769</td><td>...     </td><td>4.328772</td><td>4.230769</td><td>      NA</td><td>      NA</td><td>4.294629</td><td>4.246178</td><td>4.459315</td><td>4.230769</td><td>4.189279</td><td>4.207945</td></tr>\n",
       "\t<tr><td>      NA</td><td>4.018787</td><td>4.130601</td><td>      NA</td><td>      NA</td><td>4.275912</td><td>NA      </td><td>4.093634</td><td>      NA</td><td>4.137931</td><td>...     </td><td>4.138393</td><td>4.137931</td><td>      NA</td><td>      NA</td><td>4.147914</td><td>4.137931</td><td>      NA</td><td>4.112299</td><td>      NA</td><td>      NA</td></tr>\n",
       "</tbody>\n",
       "</table>\n"
      ],
      "text/latex": [
       "\\begin{tabular}{llllllllllllllllllllllllllllllllllllllllllllllllll}\n",
       " The.Social.Network & A.Prophet & Amour & The.King.s.Speech & La.La.Land & Boyhood & Inception & A.Separation & The.Artist & The.White.Ribbon & ... & Call.Me.by.Your.Name & Winter.s.Bone & The.Grand.Budapest.Hotel & Dunkirk & Inside.Llewyn.Davis & A.Serious.Man & Toy.Story.3 & Beasts.of.the.Southern.Wild & The.Imitation.Game & The.Fighter\\\\\n",
       "\\hline\n",
       "\t 3.731929 & 3.989832 & 4.011330 & 4.043529 & 3.688646 & 4.094751 & NA       & 4.022878 & 3.990309 & 4.000000 & ...      & 4.138959 & 4.000000 & 4.139780 & 4.016263 & 4.044291 & 4.000000 & 4.031958 & 4.000000 &       NA & 3.972038\\\\\n",
       "\t 3.887073 & 3.961750 & 3.977047 & 4.139518 &       NA & 4.055626 & NA       & 4.007407 & 4.034517 & 4.000000 & ...      & 4.055472 & 4.000000 &       NA & 4.028969 & 4.052885 & 4.000000 & 4.078342 & 3.977047 & 4.095147 & 4.032560\\\\\n",
       "\t 4.084860 & 4.107223 & 4.138832 & 3.989618 &       NA & 4.060629 & NA       &       NA & 4.166438 & 4.090909 & ...      & 4.195401 & 4.090909 & 4.133144 & 4.141804 & 4.136902 & 4.090909 &       NA & 4.090909 & 4.223985 & 4.004317\\\\\n",
       "\t 4.106719 & 4.217288 & 4.247349 &       NA &       NA & 4.301269 & NA       &       NA & 4.215706 & 4.230769 & ...      & 4.328772 & 4.230769 &       NA &       NA & 4.294629 & 4.246178 & 4.459315 & 4.230769 & 4.189279 & 4.207945\\\\\n",
       "\t       NA & 4.018787 & 4.130601 &       NA &       NA & 4.275912 & NA       & 4.093634 &       NA & 4.137931 & ...      & 4.138393 & 4.137931 &       NA &       NA & 4.147914 & 4.137931 &       NA & 4.112299 &       NA &       NA\\\\\n",
       "\\end{tabular}\n"
      ],
      "text/markdown": [
       "\n",
       "| The.Social.Network | A.Prophet | Amour | The.King.s.Speech | La.La.Land | Boyhood | Inception | A.Separation | The.Artist | The.White.Ribbon | ... | Call.Me.by.Your.Name | Winter.s.Bone | The.Grand.Budapest.Hotel | Dunkirk | Inside.Llewyn.Davis | A.Serious.Man | Toy.Story.3 | Beasts.of.the.Southern.Wild | The.Imitation.Game | The.Fighter |\n",
       "|---|---|---|---|---|---|---|---|---|---|---|---|---|---|---|---|---|---|---|---|---|\n",
       "| 3.731929 | 3.989832 | 4.011330 | 4.043529 | 3.688646 | 4.094751 | NA       | 4.022878 | 3.990309 | 4.000000 | ...      | 4.138959 | 4.000000 | 4.139780 | 4.016263 | 4.044291 | 4.000000 | 4.031958 | 4.000000 |       NA | 3.972038 |\n",
       "| 3.887073 | 3.961750 | 3.977047 | 4.139518 |       NA | 4.055626 | NA       | 4.007407 | 4.034517 | 4.000000 | ...      | 4.055472 | 4.000000 |       NA | 4.028969 | 4.052885 | 4.000000 | 4.078342 | 3.977047 | 4.095147 | 4.032560 |\n",
       "| 4.084860 | 4.107223 | 4.138832 | 3.989618 |       NA | 4.060629 | NA       |       NA | 4.166438 | 4.090909 | ...      | 4.195401 | 4.090909 | 4.133144 | 4.141804 | 4.136902 | 4.090909 |       NA | 4.090909 | 4.223985 | 4.004317 |\n",
       "| 4.106719 | 4.217288 | 4.247349 |       NA |       NA | 4.301269 | NA       |       NA | 4.215706 | 4.230769 | ...      | 4.328772 | 4.230769 |       NA |       NA | 4.294629 | 4.246178 | 4.459315 | 4.230769 | 4.189279 | 4.207945 |\n",
       "|       NA | 4.018787 | 4.130601 |       NA |       NA | 4.275912 | NA       | 4.093634 |       NA | 4.137931 | ...      | 4.138393 | 4.137931 |       NA |       NA | 4.147914 | 4.137931 |       NA | 4.112299 |       NA |       NA |\n",
       "\n"
      ],
      "text/plain": [
       "     The.Social.Network A.Prophet Amour    The.King.s.Speech La.La.Land\n",
       "[1,] 3.731929           3.989832  4.011330 4.043529          3.688646  \n",
       "[2,] 3.887073           3.961750  3.977047 4.139518                NA  \n",
       "[3,] 4.084860           4.107223  4.138832 3.989618                NA  \n",
       "[4,] 4.106719           4.217288  4.247349       NA                NA  \n",
       "[5,]       NA           4.018787  4.130601       NA                NA  \n",
       "     Boyhood  Inception A.Separation The.Artist The.White.Ribbon ...\n",
       "[1,] 4.094751 NA        4.022878     3.990309   4.000000         ...\n",
       "[2,] 4.055626 NA        4.007407     4.034517   4.000000         ...\n",
       "[3,] 4.060629 NA              NA     4.166438   4.090909         ...\n",
       "[4,] 4.301269 NA              NA     4.215706   4.230769         ...\n",
       "[5,] 4.275912 NA        4.093634           NA   4.137931         ...\n",
       "     Call.Me.by.Your.Name Winter.s.Bone The.Grand.Budapest.Hotel Dunkirk \n",
       "[1,] 4.138959             4.000000      4.139780                 4.016263\n",
       "[2,] 4.055472             4.000000            NA                 4.028969\n",
       "[3,] 4.195401             4.090909      4.133144                 4.141804\n",
       "[4,] 4.328772             4.230769            NA                       NA\n",
       "[5,] 4.138393             4.137931            NA                       NA\n",
       "     Inside.Llewyn.Davis A.Serious.Man Toy.Story.3 Beasts.of.the.Southern.Wild\n",
       "[1,] 4.044291            4.000000      4.031958    4.000000                   \n",
       "[2,] 4.052885            4.000000      4.078342    3.977047                   \n",
       "[3,] 4.136902            4.090909            NA    4.090909                   \n",
       "[4,] 4.294629            4.246178      4.459315    4.230769                   \n",
       "[5,] 4.147914            4.137931            NA    4.112299                   \n",
       "     The.Imitation.Game The.Fighter\n",
       "[1,]       NA           3.972038   \n",
       "[2,] 4.095147           4.032560   \n",
       "[3,] 4.223985           4.004317   \n",
       "[4,] 4.189279           4.207945   \n",
       "[5,]       NA                 NA   "
      ]
     },
     "metadata": {},
     "output_type": "display_data"
    }
   ],
   "source": [
    "UBCF_C_P <- Recommender(all_raw, \"UBCF\", \n",
    "      param=list(normalize = 'center',method=\"Pearson\"))\n",
    "\n",
    "my_rating<-predict(UBCF_C_P, all_raw[c(6,26,50,55,85)], type=\"ratings\")\n",
    "predict_df<-as(my_rating, \"matrix\")\n",
    "write.csv(predict_df, \"predict_df.csv\")\n",
    "predict_df"
   ]
  },
  {
   "cell_type": "code",
   "execution_count": 219,
   "metadata": {
    "ExecuteTime": {
     "end_time": "2019-12-01T04:53:11.354460Z",
     "start_time": "2019-12-01T04:53:11.318Z"
    }
   },
   "outputs": [
    {
     "data": {
      "text/html": [
       "<table>\n",
       "<thead><tr><th></th><th scope=col>Serial.Number</th><th scope=col>First.Name</th><th scope=col>Last.Name</th><th scope=col>Section</th><th scope=col>Group</th><th scope=col>The.Social.Network</th><th scope=col>A.Prophet</th><th scope=col>Amour</th><th scope=col>The.King.s.Speech</th><th scope=col>La.La.Land</th><th scope=col>...</th><th scope=col>Call.Me.by.Your.Name</th><th scope=col>Winter.s.Bone</th><th scope=col>The.Grand.Budapest.Hotel</th><th scope=col>Dunkirk</th><th scope=col>Inside.Llewyn.Davis</th><th scope=col>A.Serious.Man</th><th scope=col>Toy.Story.3</th><th scope=col>Beasts.of.the.Southern.Wild</th><th scope=col>The.Imitation.Game</th><th scope=col>The.Fighter</th></tr></thead>\n",
       "<tbody>\n",
       "\t<tr><th scope=row>6</th><td> 6      </td><td>Xingxuan</td><td>Zhang   </td><td>1       </td><td>3       </td><td>NA      </td><td>NA      </td><td>NA      </td><td>NA      </td><td>NA      </td><td>...     </td><td>NA      </td><td>NA      </td><td>NA      </td><td>NA      </td><td>NA      </td><td>NA      </td><td>NA      </td><td>NA      </td><td> 5      </td><td>NA      </td></tr>\n",
       "\t<tr><th scope=row>26</th><td>26      </td><td>Nan     </td><td>Luo     </td><td>1       </td><td>3       </td><td>NA      </td><td>NA      </td><td>NA      </td><td>NA      </td><td> 4      </td><td>...     </td><td>NA      </td><td>NA      </td><td> 5      </td><td>NA      </td><td>NA      </td><td>NA      </td><td>NA      </td><td>NA      </td><td>NA      </td><td>NA      </td></tr>\n",
       "\t<tr><th scope=row>50</th><td>50      </td><td>Xianglu </td><td>He      </td><td>1       </td><td>3       </td><td>NA      </td><td>NA      </td><td>NA      </td><td>NA      </td><td> 3      </td><td>...     </td><td>NA      </td><td>NA      </td><td>NA      </td><td>NA      </td><td>NA      </td><td>NA      </td><td> 4      </td><td>NA      </td><td>NA      </td><td>NA      </td></tr>\n",
       "\t<tr><th scope=row>55</th><td>55      </td><td>Jiangfan</td><td>Jing    </td><td>1       </td><td>3       </td><td>NA      </td><td>NA      </td><td>NA      </td><td> 5      </td><td> 5      </td><td>...     </td><td>NA      </td><td>NA      </td><td> 5      </td><td> 5      </td><td>NA      </td><td>NA      </td><td>NA      </td><td>NA      </td><td>NA      </td><td>NA      </td></tr>\n",
       "\t<tr><th scope=row>85</th><td>85      </td><td>Ashna   </td><td>Sandhu  </td><td>1       </td><td>3       </td><td> 3      </td><td>NA      </td><td>NA      </td><td> 5      </td><td> 4      </td><td>...     </td><td>NA      </td><td>NA      </td><td> 5      </td><td> 4      </td><td>NA      </td><td>NA      </td><td> 4      </td><td>NA      </td><td> 4      </td><td> 4      </td></tr>\n",
       "</tbody>\n",
       "</table>\n"
      ],
      "text/latex": [
       "\\begin{tabular}{r|lllllllllllllllllllllllllllllllllllllllllllllllllllllll}\n",
       "  & Serial.Number & First.Name & Last.Name & Section & Group & The.Social.Network & A.Prophet & Amour & The.King.s.Speech & La.La.Land & ... & Call.Me.by.Your.Name & Winter.s.Bone & The.Grand.Budapest.Hotel & Dunkirk & Inside.Llewyn.Davis & A.Serious.Man & Toy.Story.3 & Beasts.of.the.Southern.Wild & The.Imitation.Game & The.Fighter\\\\\n",
       "\\hline\n",
       "\t6 &  6       & Xingxuan & Zhang    & 1        & 3        & NA       & NA       & NA       & NA       & NA       & ...      & NA       & NA       & NA       & NA       & NA       & NA       & NA       & NA       &  5       & NA      \\\\\n",
       "\t26 & 26       & Nan      & Luo      & 1        & 3        & NA       & NA       & NA       & NA       &  4       & ...      & NA       & NA       &  5       & NA       & NA       & NA       & NA       & NA       & NA       & NA      \\\\\n",
       "\t50 & 50       & Xianglu  & He       & 1        & 3        & NA       & NA       & NA       & NA       &  3       & ...      & NA       & NA       & NA       & NA       & NA       & NA       &  4       & NA       & NA       & NA      \\\\\n",
       "\t55 & 55       & Jiangfan & Jing     & 1        & 3        & NA       & NA       & NA       &  5       &  5       & ...      & NA       & NA       &  5       &  5       & NA       & NA       & NA       & NA       & NA       & NA      \\\\\n",
       "\t85 & 85       & Ashna    & Sandhu   & 1        & 3        &  3       & NA       & NA       &  5       &  4       & ...      & NA       & NA       &  5       &  4       & NA       & NA       &  4       & NA       &  4       &  4      \\\\\n",
       "\\end{tabular}\n"
      ],
      "text/markdown": [
       "\n",
       "| <!--/--> | Serial.Number | First.Name | Last.Name | Section | Group | The.Social.Network | A.Prophet | Amour | The.King.s.Speech | La.La.Land | ... | Call.Me.by.Your.Name | Winter.s.Bone | The.Grand.Budapest.Hotel | Dunkirk | Inside.Llewyn.Davis | A.Serious.Man | Toy.Story.3 | Beasts.of.the.Southern.Wild | The.Imitation.Game | The.Fighter |\n",
       "|---|---|---|---|---|---|---|---|---|---|---|---|---|---|---|---|---|---|---|---|---|---|\n",
       "| 6 |  6       | Xingxuan | Zhang    | 1        | 3        | NA       | NA       | NA       | NA       | NA       | ...      | NA       | NA       | NA       | NA       | NA       | NA       | NA       | NA       |  5       | NA       |\n",
       "| 26 | 26       | Nan      | Luo      | 1        | 3        | NA       | NA       | NA       | NA       |  4       | ...      | NA       | NA       |  5       | NA       | NA       | NA       | NA       | NA       | NA       | NA       |\n",
       "| 50 | 50       | Xianglu  | He       | 1        | 3        | NA       | NA       | NA       | NA       |  3       | ...      | NA       | NA       | NA       | NA       | NA       | NA       |  4       | NA       | NA       | NA       |\n",
       "| 55 | 55       | Jiangfan | Jing     | 1        | 3        | NA       | NA       | NA       |  5       |  5       | ...      | NA       | NA       |  5       |  5       | NA       | NA       | NA       | NA       | NA       | NA       |\n",
       "| 85 | 85       | Ashna    | Sandhu   | 1        | 3        |  3       | NA       | NA       |  5       |  4       | ...      | NA       | NA       |  5       |  4       | NA       | NA       |  4       | NA       |  4       |  4       |\n",
       "\n"
      ],
      "text/plain": [
       "   Serial.Number First.Name Last.Name Section Group The.Social.Network\n",
       "6   6            Xingxuan   Zhang     1       3     NA                \n",
       "26 26            Nan        Luo       1       3     NA                \n",
       "50 50            Xianglu    He        1       3     NA                \n",
       "55 55            Jiangfan   Jing      1       3     NA                \n",
       "85 85            Ashna      Sandhu    1       3      3                \n",
       "   A.Prophet Amour The.King.s.Speech La.La.Land ... Call.Me.by.Your.Name\n",
       "6  NA        NA    NA                NA         ... NA                  \n",
       "26 NA        NA    NA                 4         ... NA                  \n",
       "50 NA        NA    NA                 3         ... NA                  \n",
       "55 NA        NA     5                 5         ... NA                  \n",
       "85 NA        NA     5                 4         ... NA                  \n",
       "   Winter.s.Bone The.Grand.Budapest.Hotel Dunkirk Inside.Llewyn.Davis\n",
       "6  NA            NA                       NA      NA                 \n",
       "26 NA             5                       NA      NA                 \n",
       "50 NA            NA                       NA      NA                 \n",
       "55 NA             5                        5      NA                 \n",
       "85 NA             5                        4      NA                 \n",
       "   A.Serious.Man Toy.Story.3 Beasts.of.the.Southern.Wild The.Imitation.Game\n",
       "6  NA            NA          NA                           5                \n",
       "26 NA            NA          NA                          NA                \n",
       "50 NA             4          NA                          NA                \n",
       "55 NA            NA          NA                          NA                \n",
       "85 NA             4          NA                           4                \n",
       "   The.Fighter\n",
       "6  NA         \n",
       "26 NA         \n",
       "50 NA         \n",
       "55 NA         \n",
       "85  4         "
      ]
     },
     "metadata": {},
     "output_type": "display_data"
    }
   ],
   "source": [
    "raw_data[c(6,26,50,55,85),]"
   ]
  },
  {
   "cell_type": "markdown",
   "metadata": {},
   "source": [
    "# Question 3"
   ]
  },
  {
   "cell_type": "code",
   "execution_count": 244,
   "metadata": {
    "ExecuteTime": {
     "end_time": "2019-12-01T07:25:27.656424Z",
     "start_time": "2019-12-01T07:25:27.632Z"
    }
   },
   "outputs": [],
   "source": [
    "setwd(\"D:/BAX401/HW4\")\n",
    "amy_data<-read.csv('amy_data.csv')"
   ]
  },
  {
   "cell_type": "code",
   "execution_count": 245,
   "metadata": {
    "ExecuteTime": {
     "end_time": "2019-12-01T07:25:28.216974Z",
     "start_time": "2019-12-01T07:25:28.184Z"
    }
   },
   "outputs": [
    {
     "data": {
      "text/html": [
       "<table>\n",
       "<thead><tr><th></th><th scope=col>Serial.Number</th><th scope=col>First.Name</th><th scope=col>Last.Name</th><th scope=col>Section</th><th scope=col>Group</th><th scope=col>The.Social.Network</th><th scope=col>A.Prophet</th><th scope=col>Amour</th><th scope=col>The.King.s.Speech</th><th scope=col>La.La.Land</th><th scope=col>...</th><th scope=col>Call.Me.by.Your.Name</th><th scope=col>Winter.s.Bone</th><th scope=col>The.Grand.Budapest.Hotel</th><th scope=col>Dunkirk</th><th scope=col>Inside.Llewyn.Davis</th><th scope=col>A.Serious.Man</th><th scope=col>Toy.Story.3</th><th scope=col>Beasts.of.the.Southern.Wild</th><th scope=col>The.Imitation.Game</th><th scope=col>The.Fighter</th></tr></thead>\n",
       "<tbody>\n",
       "\t<tr><th scope=row>96</th><td> 96     </td><td>Alayna  </td><td>Myrick  </td><td>1       </td><td>7       </td><td> 5      </td><td>NA      </td><td>NA      </td><td> 3      </td><td> 3      </td><td>...     </td><td>NA      </td><td>NA      </td><td> 4      </td><td> 3      </td><td>NA      </td><td>NA      </td><td> 3      </td><td>NA      </td><td> 5      </td><td>NA      </td></tr>\n",
       "\t<tr><th scope=row>97</th><td> 97     </td><td>Ayush   </td><td>Tripathi</td><td>1       </td><td>5       </td><td> 2      </td><td>NA      </td><td>NA      </td><td>NA      </td><td> 5      </td><td>...     </td><td> 5      </td><td>NA      </td><td> 5      </td><td> 5      </td><td>NA      </td><td>NA      </td><td> 5      </td><td>NA      </td><td> 5      </td><td> 5      </td></tr>\n",
       "\t<tr><th scope=row>98</th><td> 98     </td><td>Jeremy  </td><td>Lomax   </td><td>2       </td><td>8       </td><td> 5      </td><td>NA      </td><td>NA      </td><td> 4      </td><td> 4      </td><td>...     </td><td>NA      </td><td>NA      </td><td> 5      </td><td> 4      </td><td> 4      </td><td> 4      </td><td> 5      </td><td>NA      </td><td> 3      </td><td>NA      </td></tr>\n",
       "\t<tr><th scope=row>99</th><td> 99     </td><td>Shachi  </td><td>Govil   </td><td>1       </td><td>0       </td><td>NA      </td><td>NA      </td><td>NA      </td><td>NA      </td><td>NA      </td><td>...     </td><td>NA      </td><td>NA      </td><td>NA      </td><td>NA      </td><td>NA      </td><td>NA      </td><td>NA      </td><td>NA      </td><td>NA      </td><td>NA      </td></tr>\n",
       "\t<tr><th scope=row>100</th><td>100     </td><td>Amy     </td><td>Russell </td><td>1       </td><td>0       </td><td>NA      </td><td>NA      </td><td>NA      </td><td>NA      </td><td>NA      </td><td>...     </td><td>NA      </td><td>NA      </td><td>NA      </td><td>NA      </td><td>NA      </td><td>NA      </td><td>NA      </td><td>NA      </td><td>NA      </td><td>NA      </td></tr>\n",
       "\t<tr><th scope=row>101</th><td>101     </td><td>Camille </td><td>Mack    </td><td>1       </td><td>0       </td><td>NA      </td><td>NA      </td><td>NA      </td><td>NA      </td><td>NA      </td><td>...     </td><td>NA      </td><td>NA      </td><td>NA      </td><td>NA      </td><td>NA      </td><td>NA      </td><td>NA      </td><td>NA      </td><td>NA      </td><td>NA      </td></tr>\n",
       "</tbody>\n",
       "</table>\n"
      ],
      "text/latex": [
       "\\begin{tabular}{r|lllllllllllllllllllllllllllllllllllllllllllllllllllllll}\n",
       "  & Serial.Number & First.Name & Last.Name & Section & Group & The.Social.Network & A.Prophet & Amour & The.King.s.Speech & La.La.Land & ... & Call.Me.by.Your.Name & Winter.s.Bone & The.Grand.Budapest.Hotel & Dunkirk & Inside.Llewyn.Davis & A.Serious.Man & Toy.Story.3 & Beasts.of.the.Southern.Wild & The.Imitation.Game & The.Fighter\\\\\n",
       "\\hline\n",
       "\t96 &  96      & Alayna   & Myrick   & 1        & 7        &  5       & NA       & NA       &  3       &  3       & ...      & NA       & NA       &  4       &  3       & NA       & NA       &  3       & NA       &  5       & NA      \\\\\n",
       "\t97 &  97      & Ayush    & Tripathi & 1        & 5        &  2       & NA       & NA       & NA       &  5       & ...      &  5       & NA       &  5       &  5       & NA       & NA       &  5       & NA       &  5       &  5      \\\\\n",
       "\t98 &  98      & Jeremy   & Lomax    & 2        & 8        &  5       & NA       & NA       &  4       &  4       & ...      & NA       & NA       &  5       &  4       &  4       &  4       &  5       & NA       &  3       & NA      \\\\\n",
       "\t99 &  99      & Shachi   & Govil    & 1        & 0        & NA       & NA       & NA       & NA       & NA       & ...      & NA       & NA       & NA       & NA       & NA       & NA       & NA       & NA       & NA       & NA      \\\\\n",
       "\t100 & 100      & Amy      & Russell  & 1        & 0        & NA       & NA       & NA       & NA       & NA       & ...      & NA       & NA       & NA       & NA       & NA       & NA       & NA       & NA       & NA       & NA      \\\\\n",
       "\t101 & 101      & Camille  & Mack     & 1        & 0        & NA       & NA       & NA       & NA       & NA       & ...      & NA       & NA       & NA       & NA       & NA       & NA       & NA       & NA       & NA       & NA      \\\\\n",
       "\\end{tabular}\n"
      ],
      "text/markdown": [
       "\n",
       "| <!--/--> | Serial.Number | First.Name | Last.Name | Section | Group | The.Social.Network | A.Prophet | Amour | The.King.s.Speech | La.La.Land | ... | Call.Me.by.Your.Name | Winter.s.Bone | The.Grand.Budapest.Hotel | Dunkirk | Inside.Llewyn.Davis | A.Serious.Man | Toy.Story.3 | Beasts.of.the.Southern.Wild | The.Imitation.Game | The.Fighter |\n",
       "|---|---|---|---|---|---|---|---|---|---|---|---|---|---|---|---|---|---|---|---|---|---|\n",
       "| 96 |  96      | Alayna   | Myrick   | 1        | 7        |  5       | NA       | NA       |  3       |  3       | ...      | NA       | NA       |  4       |  3       | NA       | NA       |  3       | NA       |  5       | NA       |\n",
       "| 97 |  97      | Ayush    | Tripathi | 1        | 5        |  2       | NA       | NA       | NA       |  5       | ...      |  5       | NA       |  5       |  5       | NA       | NA       |  5       | NA       |  5       |  5       |\n",
       "| 98 |  98      | Jeremy   | Lomax    | 2        | 8        |  5       | NA       | NA       |  4       |  4       | ...      | NA       | NA       |  5       |  4       |  4       |  4       |  5       | NA       |  3       | NA       |\n",
       "| 99 |  99      | Shachi   | Govil    | 1        | 0        | NA       | NA       | NA       | NA       | NA       | ...      | NA       | NA       | NA       | NA       | NA       | NA       | NA       | NA       | NA       | NA       |\n",
       "| 100 | 100      | Amy      | Russell  | 1        | 0        | NA       | NA       | NA       | NA       | NA       | ...      | NA       | NA       | NA       | NA       | NA       | NA       | NA       | NA       | NA       | NA       |\n",
       "| 101 | 101      | Camille  | Mack     | 1        | 0        | NA       | NA       | NA       | NA       | NA       | ...      | NA       | NA       | NA       | NA       | NA       | NA       | NA       | NA       | NA       | NA       |\n",
       "\n"
      ],
      "text/plain": [
       "    Serial.Number First.Name Last.Name Section Group The.Social.Network\n",
       "96   96           Alayna     Myrick    1       7      5                \n",
       "97   97           Ayush      Tripathi  1       5      2                \n",
       "98   98           Jeremy     Lomax     2       8      5                \n",
       "99   99           Shachi     Govil     1       0     NA                \n",
       "100 100           Amy        Russell   1       0     NA                \n",
       "101 101           Camille    Mack      1       0     NA                \n",
       "    A.Prophet Amour The.King.s.Speech La.La.Land ... Call.Me.by.Your.Name\n",
       "96  NA        NA     3                 3         ... NA                  \n",
       "97  NA        NA    NA                 5         ...  5                  \n",
       "98  NA        NA     4                 4         ... NA                  \n",
       "99  NA        NA    NA                NA         ... NA                  \n",
       "100 NA        NA    NA                NA         ... NA                  \n",
       "101 NA        NA    NA                NA         ... NA                  \n",
       "    Winter.s.Bone The.Grand.Budapest.Hotel Dunkirk Inside.Llewyn.Davis\n",
       "96  NA             4                        3      NA                 \n",
       "97  NA             5                        5      NA                 \n",
       "98  NA             5                        4       4                 \n",
       "99  NA            NA                       NA      NA                 \n",
       "100 NA            NA                       NA      NA                 \n",
       "101 NA            NA                       NA      NA                 \n",
       "    A.Serious.Man Toy.Story.3 Beasts.of.the.Southern.Wild The.Imitation.Game\n",
       "96  NA             3          NA                           5                \n",
       "97  NA             5          NA                           5                \n",
       "98   4             5          NA                           3                \n",
       "99  NA            NA          NA                          NA                \n",
       "100 NA            NA          NA                          NA                \n",
       "101 NA            NA          NA                          NA                \n",
       "    The.Fighter\n",
       "96  NA         \n",
       "97   5         \n",
       "98  NA         \n",
       "99  NA         \n",
       "100 NA         \n",
       "101 NA         "
      ]
     },
     "metadata": {},
     "output_type": "display_data"
    }
   ],
   "source": [
    "amy_data<-amy_data[-c(102,103,104),]\n",
    "tail(amy_data)"
   ]
  },
  {
   "cell_type": "code",
   "execution_count": 246,
   "metadata": {
    "ExecuteTime": {
     "end_time": "2019-12-01T07:25:28.802819Z",
     "start_time": "2019-12-01T07:25:28.779Z"
    }
   },
   "outputs": [],
   "source": [
    "amy_data_ratings<-amy_data[,6:ncol(amy_data)]\n",
    "amy_data_ratings <- as.matrix(amy_data_ratings)\n",
    "amy_data_ratings <- as(amy_data_ratings,\"realRatingMatrix\")"
   ]
  },
  {
   "cell_type": "code",
   "execution_count": 247,
   "metadata": {
    "ExecuteTime": {
     "end_time": "2019-12-01T07:25:29.929035Z",
     "start_time": "2019-12-01T07:25:29.888Z"
    }
   },
   "outputs": [
    {
     "data": {
      "text/html": [
       "<table>\n",
       "<thead><tr><th></th><th scope=col>The.Social.Network</th><th scope=col>A.Prophet</th><th scope=col>Amour</th><th scope=col>The.King.s.Speech</th><th scope=col>La.La.Land</th><th scope=col>Boyhood</th><th scope=col>Inception</th><th scope=col>A.Separation</th><th scope=col>The.Artist</th><th scope=col>The.White.Ribbon</th><th scope=col>...</th><th scope=col>Call.Me.by.Your.Name</th><th scope=col>Winter.s.Bone</th><th scope=col>The.Grand.Budapest.Hotel</th><th scope=col>Dunkirk</th><th scope=col>Inside.Llewyn.Davis</th><th scope=col>A.Serious.Man</th><th scope=col>Toy.Story.3</th><th scope=col>Beasts.of.the.Southern.Wild</th><th scope=col>The.Imitation.Game</th><th scope=col>The.Fighter</th></tr></thead>\n",
       "<tbody>\n",
       "\t<tr><th scope=row>99</th><td>NA </td><td>NA </td><td>NA </td><td>NA </td><td>NA </td><td>NA </td><td>NA </td><td>NA </td><td>NA </td><td>NA </td><td>...</td><td>NA </td><td>NA </td><td>NA </td><td>NA </td><td>NA </td><td>NA </td><td>NA </td><td>NA </td><td>NA </td><td>NA </td></tr>\n",
       "\t<tr><th scope=row>100</th><td>NA </td><td>NA </td><td>NA </td><td>NA </td><td>NA </td><td>NA </td><td>NA </td><td>NA </td><td>NA </td><td>NA </td><td>...</td><td>NA </td><td>NA </td><td>NA </td><td>NA </td><td>NA </td><td>NA </td><td>NA </td><td>NA </td><td>NA </td><td>NA </td></tr>\n",
       "\t<tr><th scope=row>101</th><td>NA </td><td>NA </td><td>NA </td><td>NA </td><td>NA </td><td>NA </td><td>NA </td><td>NA </td><td>NA </td><td>NA </td><td>...</td><td>NA </td><td>NA </td><td>NA </td><td>NA </td><td>NA </td><td>NA </td><td>NA </td><td>NA </td><td>NA </td><td>NA </td></tr>\n",
       "</tbody>\n",
       "</table>\n"
      ],
      "text/latex": [
       "\\begin{tabular}{r|llllllllllllllllllllllllllllllllllllllllllllllllll}\n",
       "  & The.Social.Network & A.Prophet & Amour & The.King.s.Speech & La.La.Land & Boyhood & Inception & A.Separation & The.Artist & The.White.Ribbon & ... & Call.Me.by.Your.Name & Winter.s.Bone & The.Grand.Budapest.Hotel & Dunkirk & Inside.Llewyn.Davis & A.Serious.Man & Toy.Story.3 & Beasts.of.the.Southern.Wild & The.Imitation.Game & The.Fighter\\\\\n",
       "\\hline\n",
       "\t99 & NA  & NA  & NA  & NA  & NA  & NA  & NA  & NA  & NA  & NA  & ... & NA  & NA  & NA  & NA  & NA  & NA  & NA  & NA  & NA  & NA \\\\\n",
       "\t100 & NA  & NA  & NA  & NA  & NA  & NA  & NA  & NA  & NA  & NA  & ... & NA  & NA  & NA  & NA  & NA  & NA  & NA  & NA  & NA  & NA \\\\\n",
       "\t101 & NA  & NA  & NA  & NA  & NA  & NA  & NA  & NA  & NA  & NA  & ... & NA  & NA  & NA  & NA  & NA  & NA  & NA  & NA  & NA  & NA \\\\\n",
       "\\end{tabular}\n"
      ],
      "text/markdown": [
       "\n",
       "| <!--/--> | The.Social.Network | A.Prophet | Amour | The.King.s.Speech | La.La.Land | Boyhood | Inception | A.Separation | The.Artist | The.White.Ribbon | ... | Call.Me.by.Your.Name | Winter.s.Bone | The.Grand.Budapest.Hotel | Dunkirk | Inside.Llewyn.Davis | A.Serious.Man | Toy.Story.3 | Beasts.of.the.Southern.Wild | The.Imitation.Game | The.Fighter |\n",
       "|---|---|---|---|---|---|---|---|---|---|---|---|---|---|---|---|---|---|---|---|---|---|\n",
       "| 99 | NA  | NA  | NA  | NA  | NA  | NA  | NA  | NA  | NA  | NA  | ... | NA  | NA  | NA  | NA  | NA  | NA  | NA  | NA  | NA  | NA  |\n",
       "| 100 | NA  | NA  | NA  | NA  | NA  | NA  | NA  | NA  | NA  | NA  | ... | NA  | NA  | NA  | NA  | NA  | NA  | NA  | NA  | NA  | NA  |\n",
       "| 101 | NA  | NA  | NA  | NA  | NA  | NA  | NA  | NA  | NA  | NA  | ... | NA  | NA  | NA  | NA  | NA  | NA  | NA  | NA  | NA  | NA  |\n",
       "\n"
      ],
      "text/plain": [
       "    The.Social.Network A.Prophet Amour The.King.s.Speech La.La.Land Boyhood\n",
       "99  NA                 NA        NA    NA                NA         NA     \n",
       "100 NA                 NA        NA    NA                NA         NA     \n",
       "101 NA                 NA        NA    NA                NA         NA     \n",
       "    Inception A.Separation The.Artist The.White.Ribbon ... Call.Me.by.Your.Name\n",
       "99  NA        NA           NA         NA               ... NA                  \n",
       "100 NA        NA           NA         NA               ... NA                  \n",
       "101 NA        NA           NA         NA               ... NA                  \n",
       "    Winter.s.Bone The.Grand.Budapest.Hotel Dunkirk Inside.Llewyn.Davis\n",
       "99  NA            NA                       NA      NA                 \n",
       "100 NA            NA                       NA      NA                 \n",
       "101 NA            NA                       NA      NA                 \n",
       "    A.Serious.Man Toy.Story.3 Beasts.of.the.Southern.Wild The.Imitation.Game\n",
       "99  NA            NA          NA                          NA                \n",
       "100 NA            NA          NA                          NA                \n",
       "101 NA            NA          NA                          NA                \n",
       "    The.Fighter\n",
       "99  NA         \n",
       "100 NA         \n",
       "101 NA         "
      ]
     },
     "metadata": {},
     "output_type": "display_data"
    }
   ],
   "source": [
    "UBCF_C_P <- Recommender(amy_data_ratings, \"UBCF\", \n",
    "      param=list(normalize = 'center',method=\"Pearson\"))\n",
    "\n",
    "my_rating<-predict(UBCF_C_P, amy_data_ratings[c(99,100,101)], type=\"ratings\")\n",
    "predict_df<-as(my_rating, \"matrix\")\n",
    "#write.csv(predict_df, \"predict_df.csv\")\n",
    "predict_df"
   ]
  },
  {
   "cell_type": "code",
   "execution_count": 248,
   "metadata": {
    "ExecuteTime": {
     "end_time": "2019-12-01T07:25:33.241254Z",
     "start_time": "2019-12-01T07:25:33.198Z"
    }
   },
   "outputs": [
    {
     "data": {
      "text/html": [
       "<table>\n",
       "<thead><tr><th></th><th scope=col>The.Social.Network</th><th scope=col>A.Prophet</th><th scope=col>Amour</th><th scope=col>The.King.s.Speech</th><th scope=col>La.La.Land</th><th scope=col>Boyhood</th><th scope=col>Inception</th><th scope=col>A.Separation</th><th scope=col>The.Artist</th><th scope=col>The.White.Ribbon</th><th scope=col>...</th><th scope=col>Call.Me.by.Your.Name</th><th scope=col>Winter.s.Bone</th><th scope=col>The.Grand.Budapest.Hotel</th><th scope=col>Dunkirk</th><th scope=col>Inside.Llewyn.Davis</th><th scope=col>A.Serious.Man</th><th scope=col>Toy.Story.3</th><th scope=col>Beasts.of.the.Southern.Wild</th><th scope=col>The.Imitation.Game</th><th scope=col>The.Fighter</th></tr></thead>\n",
       "<tbody>\n",
       "\t<tr><th scope=row>99</th><td>NA </td><td>NA </td><td>NA </td><td>NA </td><td>NA </td><td>NA </td><td>NA </td><td>NA </td><td>NA </td><td>NA </td><td>...</td><td>NA </td><td>NA </td><td>NA </td><td>NA </td><td>NA </td><td>NA </td><td>NA </td><td>NA </td><td>NA </td><td>NA </td></tr>\n",
       "\t<tr><th scope=row>100</th><td>NA </td><td>NA </td><td>NA </td><td>NA </td><td>NA </td><td>NA </td><td>NA </td><td>NA </td><td>NA </td><td>NA </td><td>...</td><td>NA </td><td>NA </td><td>NA </td><td>NA </td><td>NA </td><td>NA </td><td>NA </td><td>NA </td><td>NA </td><td>NA </td></tr>\n",
       "\t<tr><th scope=row>101</th><td>NA </td><td>NA </td><td>NA </td><td>NA </td><td>NA </td><td>NA </td><td>NA </td><td>NA </td><td>NA </td><td>NA </td><td>...</td><td>NA </td><td>NA </td><td>NA </td><td>NA </td><td>NA </td><td>NA </td><td>NA </td><td>NA </td><td>NA </td><td>NA </td></tr>\n",
       "</tbody>\n",
       "</table>\n"
      ],
      "text/latex": [
       "\\begin{tabular}{r|llllllllllllllllllllllllllllllllllllllllllllllllll}\n",
       "  & The.Social.Network & A.Prophet & Amour & The.King.s.Speech & La.La.Land & Boyhood & Inception & A.Separation & The.Artist & The.White.Ribbon & ... & Call.Me.by.Your.Name & Winter.s.Bone & The.Grand.Budapest.Hotel & Dunkirk & Inside.Llewyn.Davis & A.Serious.Man & Toy.Story.3 & Beasts.of.the.Southern.Wild & The.Imitation.Game & The.Fighter\\\\\n",
       "\\hline\n",
       "\t99 & NA  & NA  & NA  & NA  & NA  & NA  & NA  & NA  & NA  & NA  & ... & NA  & NA  & NA  & NA  & NA  & NA  & NA  & NA  & NA  & NA \\\\\n",
       "\t100 & NA  & NA  & NA  & NA  & NA  & NA  & NA  & NA  & NA  & NA  & ... & NA  & NA  & NA  & NA  & NA  & NA  & NA  & NA  & NA  & NA \\\\\n",
       "\t101 & NA  & NA  & NA  & NA  & NA  & NA  & NA  & NA  & NA  & NA  & ... & NA  & NA  & NA  & NA  & NA  & NA  & NA  & NA  & NA  & NA \\\\\n",
       "\\end{tabular}\n"
      ],
      "text/markdown": [
       "\n",
       "| <!--/--> | The.Social.Network | A.Prophet | Amour | The.King.s.Speech | La.La.Land | Boyhood | Inception | A.Separation | The.Artist | The.White.Ribbon | ... | Call.Me.by.Your.Name | Winter.s.Bone | The.Grand.Budapest.Hotel | Dunkirk | Inside.Llewyn.Davis | A.Serious.Man | Toy.Story.3 | Beasts.of.the.Southern.Wild | The.Imitation.Game | The.Fighter |\n",
       "|---|---|---|---|---|---|---|---|---|---|---|---|---|---|---|---|---|---|---|---|---|---|\n",
       "| 99 | NA  | NA  | NA  | NA  | NA  | NA  | NA  | NA  | NA  | NA  | ... | NA  | NA  | NA  | NA  | NA  | NA  | NA  | NA  | NA  | NA  |\n",
       "| 100 | NA  | NA  | NA  | NA  | NA  | NA  | NA  | NA  | NA  | NA  | ... | NA  | NA  | NA  | NA  | NA  | NA  | NA  | NA  | NA  | NA  |\n",
       "| 101 | NA  | NA  | NA  | NA  | NA  | NA  | NA  | NA  | NA  | NA  | ... | NA  | NA  | NA  | NA  | NA  | NA  | NA  | NA  | NA  | NA  |\n",
       "\n"
      ],
      "text/plain": [
       "    The.Social.Network A.Prophet Amour The.King.s.Speech La.La.Land Boyhood\n",
       "99  NA                 NA        NA    NA                NA         NA     \n",
       "100 NA                 NA        NA    NA                NA         NA     \n",
       "101 NA                 NA        NA    NA                NA         NA     \n",
       "    Inception A.Separation The.Artist The.White.Ribbon ... Call.Me.by.Your.Name\n",
       "99  NA        NA           NA         NA               ... NA                  \n",
       "100 NA        NA           NA         NA               ... NA                  \n",
       "101 NA        NA           NA         NA               ... NA                  \n",
       "    Winter.s.Bone The.Grand.Budapest.Hotel Dunkirk Inside.Llewyn.Davis\n",
       "99  NA            NA                       NA      NA                 \n",
       "100 NA            NA                       NA      NA                 \n",
       "101 NA            NA                       NA      NA                 \n",
       "    A.Serious.Man Toy.Story.3 Beasts.of.the.Southern.Wild The.Imitation.Game\n",
       "99  NA            NA          NA                          NA                \n",
       "100 NA            NA          NA                          NA                \n",
       "101 NA            NA          NA                          NA                \n",
       "    The.Fighter\n",
       "99  NA         \n",
       "100 NA         \n",
       "101 NA         "
      ]
     },
     "metadata": {},
     "output_type": "display_data"
    }
   ],
   "source": [
    "IBCF_N_E <- Recommender(amy_data_ratings, \"IBCF\", \n",
    "      param=list(normalize = NULL,method=\"Euclidean\"))\n",
    "\n",
    "my_rating<-predict(IBCF_N_E, amy_data_ratings[c(99,100,101)], type=\"ratings\")\n",
    "predict_df<-as(my_rating, \"matrix\")\n",
    "#write.csv(predict_df, \"predict_df.csv\")\n",
    "predict_df"
   ]
  },
  {
   "cell_type": "markdown",
   "metadata": {},
   "source": [
    "# Question 4"
   ]
  },
  {
   "cell_type": "code",
   "execution_count": 237,
   "metadata": {
    "ExecuteTime": {
     "end_time": "2019-12-01T07:24:06.274868Z",
     "start_time": "2019-12-01T07:24:06.249Z"
    }
   },
   "outputs": [],
   "source": [
    "setwd(\"D:/BAX401/HW4\")\n",
    "amy_data_after<-read.csv('amy_data_after.csv')"
   ]
  },
  {
   "cell_type": "code",
   "execution_count": 239,
   "metadata": {
    "ExecuteTime": {
     "end_time": "2019-12-01T07:24:33.371125Z",
     "start_time": "2019-12-01T07:24:33.342Z"
    }
   },
   "outputs": [
    {
     "data": {
      "text/html": [
       "<table>\n",
       "<thead><tr><th></th><th scope=col>Serial.Number</th><th scope=col>First.Name</th><th scope=col>Last.Name</th><th scope=col>Section</th><th scope=col>Group</th><th scope=col>The.Social.Network</th><th scope=col>A.Prophet</th><th scope=col>Amour</th><th scope=col>The.King.s.Speech</th><th scope=col>La.La.Land</th><th scope=col>...</th><th scope=col>Call.Me.by.Your.Name</th><th scope=col>Winter.s.Bone</th><th scope=col>The.Grand.Budapest.Hotel</th><th scope=col>Dunkirk</th><th scope=col>Inside.Llewyn.Davis</th><th scope=col>A.Serious.Man</th><th scope=col>Toy.Story.3</th><th scope=col>Beasts.of.the.Southern.Wild</th><th scope=col>The.Imitation.Game</th><th scope=col>The.Fighter</th></tr></thead>\n",
       "<tbody>\n",
       "\t<tr><th scope=row>96</th><td> 96     </td><td>Alayna  </td><td>Myrick  </td><td>1       </td><td>7       </td><td> 5      </td><td>NA      </td><td>NA      </td><td> 3      </td><td> 3      </td><td>...     </td><td>NA      </td><td>NA      </td><td> 4      </td><td> 3      </td><td>NA      </td><td>NA      </td><td>3       </td><td>NA      </td><td> 5      </td><td>NA      </td></tr>\n",
       "\t<tr><th scope=row>97</th><td> 97     </td><td>Ayush   </td><td>Tripathi</td><td>1       </td><td>5       </td><td> 2      </td><td>NA      </td><td>NA      </td><td>NA      </td><td> 5      </td><td>...     </td><td> 5      </td><td>NA      </td><td> 5      </td><td> 5      </td><td>NA      </td><td>NA      </td><td>5       </td><td>NA      </td><td> 5      </td><td> 5      </td></tr>\n",
       "\t<tr><th scope=row>98</th><td> 98     </td><td>Jeremy  </td><td>Lomax   </td><td>2       </td><td>8       </td><td> 5      </td><td>NA      </td><td>NA      </td><td> 4      </td><td> 4      </td><td>...     </td><td>NA      </td><td>NA      </td><td> 5      </td><td> 4      </td><td> 4      </td><td> 4      </td><td>5       </td><td>NA      </td><td> 3      </td><td>NA      </td></tr>\n",
       "\t<tr><th scope=row>99</th><td> 99     </td><td>Shachi  </td><td>Govil   </td><td>1       </td><td>0       </td><td>NA      </td><td>NA      </td><td>NA      </td><td>NA      </td><td>NA      </td><td>...     </td><td>NA      </td><td>NA      </td><td>NA      </td><td>NA      </td><td>NA      </td><td>NA      </td><td>3       </td><td>NA      </td><td>NA      </td><td>NA      </td></tr>\n",
       "\t<tr><th scope=row>100</th><td>100     </td><td>Amy     </td><td>Russell </td><td>1       </td><td>0       </td><td>NA      </td><td>NA      </td><td>NA      </td><td>NA      </td><td>NA      </td><td>...     </td><td>NA      </td><td>NA      </td><td>NA      </td><td>NA      </td><td>NA      </td><td>NA      </td><td>4       </td><td>NA      </td><td>NA      </td><td>NA      </td></tr>\n",
       "\t<tr><th scope=row>101</th><td>101     </td><td>Camille </td><td>Mack    </td><td>1       </td><td>0       </td><td>NA      </td><td>NA      </td><td>NA      </td><td>NA      </td><td>NA      </td><td>...     </td><td>NA      </td><td>NA      </td><td>NA      </td><td>NA      </td><td>NA      </td><td>NA      </td><td>3       </td><td>NA      </td><td>NA      </td><td>NA      </td></tr>\n",
       "</tbody>\n",
       "</table>\n"
      ],
      "text/latex": [
       "\\begin{tabular}{r|lllllllllllllllllllllllllllllllllllllllllllllllllllllll}\n",
       "  & Serial.Number & First.Name & Last.Name & Section & Group & The.Social.Network & A.Prophet & Amour & The.King.s.Speech & La.La.Land & ... & Call.Me.by.Your.Name & Winter.s.Bone & The.Grand.Budapest.Hotel & Dunkirk & Inside.Llewyn.Davis & A.Serious.Man & Toy.Story.3 & Beasts.of.the.Southern.Wild & The.Imitation.Game & The.Fighter\\\\\n",
       "\\hline\n",
       "\t96 &  96      & Alayna   & Myrick   & 1        & 7        &  5       & NA       & NA       &  3       &  3       & ...      & NA       & NA       &  4       &  3       & NA       & NA       & 3        & NA       &  5       & NA      \\\\\n",
       "\t97 &  97      & Ayush    & Tripathi & 1        & 5        &  2       & NA       & NA       & NA       &  5       & ...      &  5       & NA       &  5       &  5       & NA       & NA       & 5        & NA       &  5       &  5      \\\\\n",
       "\t98 &  98      & Jeremy   & Lomax    & 2        & 8        &  5       & NA       & NA       &  4       &  4       & ...      & NA       & NA       &  5       &  4       &  4       &  4       & 5        & NA       &  3       & NA      \\\\\n",
       "\t99 &  99      & Shachi   & Govil    & 1        & 0        & NA       & NA       & NA       & NA       & NA       & ...      & NA       & NA       & NA       & NA       & NA       & NA       & 3        & NA       & NA       & NA      \\\\\n",
       "\t100 & 100      & Amy      & Russell  & 1        & 0        & NA       & NA       & NA       & NA       & NA       & ...      & NA       & NA       & NA       & NA       & NA       & NA       & 4        & NA       & NA       & NA      \\\\\n",
       "\t101 & 101      & Camille  & Mack     & 1        & 0        & NA       & NA       & NA       & NA       & NA       & ...      & NA       & NA       & NA       & NA       & NA       & NA       & 3        & NA       & NA       & NA      \\\\\n",
       "\\end{tabular}\n"
      ],
      "text/markdown": [
       "\n",
       "| <!--/--> | Serial.Number | First.Name | Last.Name | Section | Group | The.Social.Network | A.Prophet | Amour | The.King.s.Speech | La.La.Land | ... | Call.Me.by.Your.Name | Winter.s.Bone | The.Grand.Budapest.Hotel | Dunkirk | Inside.Llewyn.Davis | A.Serious.Man | Toy.Story.3 | Beasts.of.the.Southern.Wild | The.Imitation.Game | The.Fighter |\n",
       "|---|---|---|---|---|---|---|---|---|---|---|---|---|---|---|---|---|---|---|---|---|---|\n",
       "| 96 |  96      | Alayna   | Myrick   | 1        | 7        |  5       | NA       | NA       |  3       |  3       | ...      | NA       | NA       |  4       |  3       | NA       | NA       | 3        | NA       |  5       | NA       |\n",
       "| 97 |  97      | Ayush    | Tripathi | 1        | 5        |  2       | NA       | NA       | NA       |  5       | ...      |  5       | NA       |  5       |  5       | NA       | NA       | 5        | NA       |  5       |  5       |\n",
       "| 98 |  98      | Jeremy   | Lomax    | 2        | 8        |  5       | NA       | NA       |  4       |  4       | ...      | NA       | NA       |  5       |  4       |  4       |  4       | 5        | NA       |  3       | NA       |\n",
       "| 99 |  99      | Shachi   | Govil    | 1        | 0        | NA       | NA       | NA       | NA       | NA       | ...      | NA       | NA       | NA       | NA       | NA       | NA       | 3        | NA       | NA       | NA       |\n",
       "| 100 | 100      | Amy      | Russell  | 1        | 0        | NA       | NA       | NA       | NA       | NA       | ...      | NA       | NA       | NA       | NA       | NA       | NA       | 4        | NA       | NA       | NA       |\n",
       "| 101 | 101      | Camille  | Mack     | 1        | 0        | NA       | NA       | NA       | NA       | NA       | ...      | NA       | NA       | NA       | NA       | NA       | NA       | 3        | NA       | NA       | NA       |\n",
       "\n"
      ],
      "text/plain": [
       "    Serial.Number First.Name Last.Name Section Group The.Social.Network\n",
       "96   96           Alayna     Myrick    1       7      5                \n",
       "97   97           Ayush      Tripathi  1       5      2                \n",
       "98   98           Jeremy     Lomax     2       8      5                \n",
       "99   99           Shachi     Govil     1       0     NA                \n",
       "100 100           Amy        Russell   1       0     NA                \n",
       "101 101           Camille    Mack      1       0     NA                \n",
       "    A.Prophet Amour The.King.s.Speech La.La.Land ... Call.Me.by.Your.Name\n",
       "96  NA        NA     3                 3         ... NA                  \n",
       "97  NA        NA    NA                 5         ...  5                  \n",
       "98  NA        NA     4                 4         ... NA                  \n",
       "99  NA        NA    NA                NA         ... NA                  \n",
       "100 NA        NA    NA                NA         ... NA                  \n",
       "101 NA        NA    NA                NA         ... NA                  \n",
       "    Winter.s.Bone The.Grand.Budapest.Hotel Dunkirk Inside.Llewyn.Davis\n",
       "96  NA             4                        3      NA                 \n",
       "97  NA             5                        5      NA                 \n",
       "98  NA             5                        4       4                 \n",
       "99  NA            NA                       NA      NA                 \n",
       "100 NA            NA                       NA      NA                 \n",
       "101 NA            NA                       NA      NA                 \n",
       "    A.Serious.Man Toy.Story.3 Beasts.of.the.Southern.Wild The.Imitation.Game\n",
       "96  NA            3           NA                           5                \n",
       "97  NA            5           NA                           5                \n",
       "98   4            5           NA                           3                \n",
       "99  NA            3           NA                          NA                \n",
       "100 NA            4           NA                          NA                \n",
       "101 NA            3           NA                          NA                \n",
       "    The.Fighter\n",
       "96  NA         \n",
       "97   5         \n",
       "98  NA         \n",
       "99  NA         \n",
       "100 NA         \n",
       "101 NA         "
      ]
     },
     "metadata": {},
     "output_type": "display_data"
    }
   ],
   "source": [
    "#amy_data<-amy_data[-c(102,103,104),]\n",
    "tail(amy_data_after)"
   ]
  },
  {
   "cell_type": "code",
   "execution_count": 249,
   "metadata": {
    "ExecuteTime": {
     "end_time": "2019-12-01T07:26:00.401492Z",
     "start_time": "2019-12-01T07:26:00.377Z"
    }
   },
   "outputs": [],
   "source": [
    "amy_data_ratings_after<-amy_data_after[,6:ncol(amy_data_after)]\n",
    "amy_data_ratings_after <- as.matrix(amy_data_ratings_after)\n",
    "amy_data_ratings_after <- as(amy_data_ratings_after,\"realRatingMatrix\")"
   ]
  },
  {
   "cell_type": "code",
   "execution_count": 251,
   "metadata": {
    "ExecuteTime": {
     "end_time": "2019-12-01T07:34:10.973035Z",
     "start_time": "2019-12-01T07:34:10.924Z"
    }
   },
   "outputs": [
    {
     "data": {
      "text/html": [
       "<table>\n",
       "<thead><tr><th scope=col>The.Social.Network</th><th scope=col>A.Prophet</th><th scope=col>Amour</th><th scope=col>The.King.s.Speech</th><th scope=col>La.La.Land</th><th scope=col>Boyhood</th><th scope=col>Inception</th><th scope=col>A.Separation</th><th scope=col>The.Artist</th><th scope=col>The.White.Ribbon</th><th scope=col>...</th><th scope=col>Call.Me.by.Your.Name</th><th scope=col>Winter.s.Bone</th><th scope=col>The.Grand.Budapest.Hotel</th><th scope=col>Dunkirk</th><th scope=col>Inside.Llewyn.Davis</th><th scope=col>A.Serious.Man</th><th scope=col>Toy.Story.3</th><th scope=col>Beasts.of.the.Southern.Wild</th><th scope=col>The.Imitation.Game</th><th scope=col>The.Fighter</th></tr></thead>\n",
       "<tbody>\n",
       "\t<tr><td>4.144272</td><td>4.049533</td><td>4.245044</td><td>4.171615</td><td>4.228435</td><td>4.232873</td><td>4.669794</td><td>4.231901</td><td>4.233051</td><td>4.2     </td><td>...     </td><td>4.232742</td><td>4.2     </td><td>4.240123</td><td>4.224995</td><td>4.215355</td><td>4.2     </td><td>NA      </td><td>4.178034</td><td>4.245048</td><td>4.216695</td></tr>\n",
       "\t<tr><td>3.057972</td><td>3.169376</td><td>3.200000</td><td>3.277518</td><td>3.151860</td><td>3.355862</td><td>3.442421</td><td>3.218859</td><td>3.287650</td><td>3.2     </td><td>...     </td><td>3.298365</td><td>3.2     </td><td>3.224896</td><td>3.224919</td><td>3.212853</td><td>3.2     </td><td>NA      </td><td>3.200000</td><td>3.377115</td><td>3.110955</td></tr>\n",
       "\t<tr><td>2.679697</td><td>2.738760</td><td>2.847262</td><td>2.916422</td><td>2.736753</td><td>2.837662</td><td>3.289055</td><td>2.823677</td><td>2.919928</td><td>2.8     </td><td>...     </td><td>2.877085</td><td>2.8     </td><td>2.611391</td><td>2.854386</td><td>2.826446</td><td>2.8     </td><td>NA      </td><td>2.773589</td><td>2.891407</td><td>2.711113</td></tr>\n",
       "</tbody>\n",
       "</table>\n"
      ],
      "text/latex": [
       "\\begin{tabular}{llllllllllllllllllllllllllllllllllllllllllllllllll}\n",
       " The.Social.Network & A.Prophet & Amour & The.King.s.Speech & La.La.Land & Boyhood & Inception & A.Separation & The.Artist & The.White.Ribbon & ... & Call.Me.by.Your.Name & Winter.s.Bone & The.Grand.Budapest.Hotel & Dunkirk & Inside.Llewyn.Davis & A.Serious.Man & Toy.Story.3 & Beasts.of.the.Southern.Wild & The.Imitation.Game & The.Fighter\\\\\n",
       "\\hline\n",
       "\t 4.144272 & 4.049533 & 4.245044 & 4.171615 & 4.228435 & 4.232873 & 4.669794 & 4.231901 & 4.233051 & 4.2      & ...      & 4.232742 & 4.2      & 4.240123 & 4.224995 & 4.215355 & 4.2      & NA       & 4.178034 & 4.245048 & 4.216695\\\\\n",
       "\t 3.057972 & 3.169376 & 3.200000 & 3.277518 & 3.151860 & 3.355862 & 3.442421 & 3.218859 & 3.287650 & 3.2      & ...      & 3.298365 & 3.2      & 3.224896 & 3.224919 & 3.212853 & 3.2      & NA       & 3.200000 & 3.377115 & 3.110955\\\\\n",
       "\t 2.679697 & 2.738760 & 2.847262 & 2.916422 & 2.736753 & 2.837662 & 3.289055 & 2.823677 & 2.919928 & 2.8      & ...      & 2.877085 & 2.8      & 2.611391 & 2.854386 & 2.826446 & 2.8      & NA       & 2.773589 & 2.891407 & 2.711113\\\\\n",
       "\\end{tabular}\n"
      ],
      "text/markdown": [
       "\n",
       "| The.Social.Network | A.Prophet | Amour | The.King.s.Speech | La.La.Land | Boyhood | Inception | A.Separation | The.Artist | The.White.Ribbon | ... | Call.Me.by.Your.Name | Winter.s.Bone | The.Grand.Budapest.Hotel | Dunkirk | Inside.Llewyn.Davis | A.Serious.Man | Toy.Story.3 | Beasts.of.the.Southern.Wild | The.Imitation.Game | The.Fighter |\n",
       "|---|---|---|---|---|---|---|---|---|---|---|---|---|---|---|---|---|---|---|---|---|\n",
       "| 4.144272 | 4.049533 | 4.245044 | 4.171615 | 4.228435 | 4.232873 | 4.669794 | 4.231901 | 4.233051 | 4.2      | ...      | 4.232742 | 4.2      | 4.240123 | 4.224995 | 4.215355 | 4.2      | NA       | 4.178034 | 4.245048 | 4.216695 |\n",
       "| 3.057972 | 3.169376 | 3.200000 | 3.277518 | 3.151860 | 3.355862 | 3.442421 | 3.218859 | 3.287650 | 3.2      | ...      | 3.298365 | 3.2      | 3.224896 | 3.224919 | 3.212853 | 3.2      | NA       | 3.200000 | 3.377115 | 3.110955 |\n",
       "| 2.679697 | 2.738760 | 2.847262 | 2.916422 | 2.736753 | 2.837662 | 3.289055 | 2.823677 | 2.919928 | 2.8      | ...      | 2.877085 | 2.8      | 2.611391 | 2.854386 | 2.826446 | 2.8      | NA       | 2.773589 | 2.891407 | 2.711113 |\n",
       "\n"
      ],
      "text/plain": [
       "     The.Social.Network A.Prophet Amour    The.King.s.Speech La.La.Land\n",
       "[1,] 4.144272           4.049533  4.245044 4.171615          4.228435  \n",
       "[2,] 3.057972           3.169376  3.200000 3.277518          3.151860  \n",
       "[3,] 2.679697           2.738760  2.847262 2.916422          2.736753  \n",
       "     Boyhood  Inception A.Separation The.Artist The.White.Ribbon ...\n",
       "[1,] 4.232873 4.669794  4.231901     4.233051   4.2              ...\n",
       "[2,] 3.355862 3.442421  3.218859     3.287650   3.2              ...\n",
       "[3,] 2.837662 3.289055  2.823677     2.919928   2.8              ...\n",
       "     Call.Me.by.Your.Name Winter.s.Bone The.Grand.Budapest.Hotel Dunkirk \n",
       "[1,] 4.232742             4.2           4.240123                 4.224995\n",
       "[2,] 3.298365             3.2           3.224896                 3.224919\n",
       "[3,] 2.877085             2.8           2.611391                 2.854386\n",
       "     Inside.Llewyn.Davis A.Serious.Man Toy.Story.3 Beasts.of.the.Southern.Wild\n",
       "[1,] 4.215355            4.2           NA          4.178034                   \n",
       "[2,] 3.212853            3.2           NA          3.200000                   \n",
       "[3,] 2.826446            2.8           NA          2.773589                   \n",
       "     The.Imitation.Game The.Fighter\n",
       "[1,] 4.245048           4.216695   \n",
       "[2,] 3.377115           3.110955   \n",
       "[3,] 2.891407           2.711113   "
      ]
     },
     "metadata": {},
     "output_type": "display_data"
    }
   ],
   "source": [
    "UBCF_C_P <- Recommender(amy_data_ratings_after, \"UBCF\", \n",
    "      param=list(normalize = 'center',method=\"Pearson\"))\n",
    "\n",
    "my_rating<-predict(UBCF_C_P, amy_data_ratings_after[c(99,100,101)], type=\"ratings\")\n",
    "predict_df<-as(my_rating, \"matrix\")\n",
    "write.csv(predict_df, \"predict_df_amy.csv\")\n",
    "predict_df"
   ]
  },
  {
   "cell_type": "code",
   "execution_count": null,
   "metadata": {},
   "outputs": [],
   "source": []
  }
 ],
 "metadata": {
  "kernelspec": {
   "display_name": "R",
   "language": "R",
   "name": "ir"
  },
  "language_info": {
   "codemirror_mode": "r",
   "file_extension": ".r",
   "mimetype": "text/x-r-source",
   "name": "R",
   "pygments_lexer": "r",
   "version": "3.6.1"
  },
  "toc": {
   "base_numbering": 1,
   "nav_menu": {},
   "number_sections": true,
   "sideBar": true,
   "skip_h1_title": false,
   "title_cell": "Table of Contents",
   "title_sidebar": "Contents",
   "toc_cell": false,
   "toc_position": {},
   "toc_section_display": true,
   "toc_window_display": false
  }
 },
 "nbformat": 4,
 "nbformat_minor": 2
}
