{
 "cells": [
  {
   "cell_type": "code",
   "execution_count": 4,
   "metadata": {
    "ExecuteTime": {
     "end_time": "2019-11-19T07:17:11.345072Z",
     "start_time": "2019-11-19T07:17:05.626Z"
    },
    "collapsed": true
   },
   "outputs": [
    {
     "name": "stderr",
     "output_type": "stream",
     "text": [
      "Warning message:\n",
      "\"package 'stats' is not available (for R version 3.6.1)\"Warning message:\n",
      "\"package 'stats' is a base package, and should not be updated\""
     ]
    },
    {
     "name": "stdout",
     "output_type": "stream",
     "text": [
      "package 'PMCMR' successfully unpacked and MD5 sums checked\n",
      "\n",
      "The downloaded binary packages are in\n",
      "\tC:\\Users\\xingxuan_dell\\AppData\\Local\\Temp\\RtmpK4dqcy\\downloaded_packages\n"
     ]
    }
   ],
   "source": [
    "install.packages('stats')\n",
    "install.packages('PMCMR')"
   ]
  },
  {
   "cell_type": "code",
   "execution_count": 7,
   "metadata": {
    "ExecuteTime": {
     "end_time": "2019-11-19T07:17:39.863686Z",
     "start_time": "2019-11-19T07:17:39.827Z"
    }
   },
   "outputs": [
    {
     "name": "stderr",
     "output_type": "stream",
     "text": [
      "PMCMR is superseded by PMCMRplus and will be no longer maintained. You may wish to install PMCMRplus instead.\n"
     ]
    }
   ],
   "source": [
    "library(stats)\n",
    "library(PMCMR)"
   ]
  },
  {
   "cell_type": "code",
   "execution_count": 14,
   "metadata": {
    "ExecuteTime": {
     "end_time": "2019-11-16T22:49:58.143196Z",
     "start_time": "2019-11-16T22:49:51.685Z"
    },
    "collapsed": true
   },
   "outputs": [
    {
     "name": "stdout",
     "output_type": "stream",
     "text": [
      "package 'PASWR2' successfully unpacked and MD5 sums checked\n",
      "\n",
      "The downloaded binary packages are in\n",
      "\tC:\\Users\\xingxuan_dell\\AppData\\Local\\Temp\\Rtmp2VQKbe\\downloaded_packages\n"
     ]
    },
    {
     "name": "stderr",
     "output_type": "stream",
     "text": [
      "Loading required package: ggplot2\n",
      "Registered S3 methods overwritten by 'ggplot2':\n",
      "  method         from \n",
      "  [.quosures     rlang\n",
      "  c.quosures     rlang\n",
      "  print.quosures rlang\n",
      "\n",
      "Attaching package: 'PASWR2'\n",
      "\n",
      "The following objects are masked from 'package:PASWR':\n",
      "\n",
      "    bino.gen, checking.plots, EPIDURAL, EURD, FCD, interval.plot,\n",
      "    ksdist, normarea, nsize, ntester, oneway.plots, SBIQ, SDS4,\n",
      "    SIGN.test, tsum.test, twoway.plots, z.test, zsum.test\n",
      "\n"
     ]
    }
   ],
   "source": [
    "install.packages('PASWR2')\n",
    "library (PASWR2)"
   ]
  },
  {
   "cell_type": "markdown",
   "metadata": {},
   "source": [
    "# (2 points) Question 1\n",
    "Let us say you have to decide between two distributions, $d_{1}$ and $d_{2}$ that a random variable X has. Given below are the probability distributions showing the probabilities that the distributions assign to the values x of X:\n",
    "\n",
    "X=x|\t$d_{1}$\t|$d_{2}$\n",
    "--|---|---\n",
    "0|\t0.1\t|0.2\n",
    "1|\t0.1\t|0.1\n",
    "2|\t0.1\t|0.1\n",
    "3|\t0.1\t|0.2\n",
    "4|\t0.2\t|0.2\n",
    "5|\t0.1\t|0.1\n",
    "6|\t0.3\t|0.1\n",
    "\n",
    "There is a single observation on X available and you want to test\n",
    "\n",
    "$H_{0}$: $d_{1}$ is correct\n",
    "\n",
    "$H_{1}$: $d_{2}$ is correct ($d_{1}$ is not correct)\n",
    "\n",
    "Consider one possible decision procedure to fail to reject $H_{0}$ if X=4 or X=6 and answer the following two parts:\n",
    "\n"
   ]
  },
  {
   "cell_type": "markdown",
   "metadata": {},
   "source": [
    "## a.\t(1 point) Find the probability of a Type I error.\n",
    "\n",
    "\n"
   ]
  },
  {
   "cell_type": "markdown",
   "metadata": {},
   "source": [
    "Type I error: H0 is true, but the test reject the H0\n",
    "\n",
    "P(type I error) = 1-(P(x=4, $d_{0}$)+P(x=6, $d_{0}$))=1-(0.2+0.3)=0.5"
   ]
  },
  {
   "cell_type": "markdown",
   "metadata": {},
   "source": [
    "## b.\t(1 point) Find the probability of a Type II error."
   ]
  },
  {
   "cell_type": "markdown",
   "metadata": {
    "ExecuteTime": {
     "end_time": "2019-11-16T22:31:32.965690Z",
     "start_time": "2019-11-16T22:31:32.898Z"
    }
   },
   "source": [
    "Type II error: H0 is false, but the test did not reject the H0\n",
    "\n",
    "P(type II error) = P(x=4, $d_{1}$)+P(x=6, $d_{1}$)=0.3"
   ]
  },
  {
   "cell_type": "markdown",
   "metadata": {},
   "source": [
    "# (8 points) Question 2 \n",
    "\n",
    "The current no-smoking regulations in office buildings require workers who smoke to take breaks and leave the building in order to satisfy their habits. A study indicates that such workers average 32 minutes per day taking smoking breaks. The standard deviation is 8 minutes. To help reduce the average break, rooms with powerful exhausts were installed in the buildings. To see whether these rooms serve their designed purpose, a random sample of 110 smokers was taken. The total amount of time away from their desks was measured for 1 day. Test to determine whether there has been a decrease in the mean time away from their desks. Compute the p-value and interpret it relative to the costs of Type I and Type II errors.\n",
    "\n",
    "A financial analyst has determined that a 2-minute reduction in the average break would increase productivity. As a result, the company would hate to lose this opportunity. In such a case, calculate the probability of erroneously concluding that the renovation would not be successful. If this probability is high, describe how it can be reduced.\n"
   ]
  },
  {
   "cell_type": "markdown",
   "metadata": {},
   "source": [
    "Assume this is a normal distribution.\n",
    "\n",
    "$\\varrho_{population}$ is known, so we use z test. \n",
    "\n",
    "$H_{0}$: $\\mu$  $\\ge$ 32\n",
    "\n",
    "$H_{1}$: $\\mu$ < 32\n",
    "\n",
    "Assume the test is at 5% significant level."
   ]
  },
  {
   "cell_type": "code",
   "execution_count": 3,
   "metadata": {
    "ExecuteTime": {
     "end_time": "2019-11-16T22:37:23.158931Z",
     "start_time": "2019-11-16T22:37:23.070Z"
    },
    "collapsed": true
   },
   "outputs": [
    {
     "data": {
      "text/html": [
       "<table>\n",
       "<thead><tr><th scope=col>Minutes</th></tr></thead>\n",
       "<tbody>\n",
       "\t<tr><td>28</td></tr>\n",
       "\t<tr><td>24</td></tr>\n",
       "\t<tr><td>37</td></tr>\n",
       "\t<tr><td>32</td></tr>\n",
       "\t<tr><td>34</td></tr>\n",
       "\t<tr><td>32</td></tr>\n",
       "\t<tr><td>31</td></tr>\n",
       "\t<tr><td>34</td></tr>\n",
       "\t<tr><td>25</td></tr>\n",
       "\t<tr><td>23</td></tr>\n",
       "\t<tr><td>32</td></tr>\n",
       "\t<tr><td>24</td></tr>\n",
       "\t<tr><td>23</td></tr>\n",
       "\t<tr><td>39</td></tr>\n",
       "\t<tr><td>24</td></tr>\n",
       "\t<tr><td>40</td></tr>\n",
       "\t<tr><td>23</td></tr>\n",
       "\t<tr><td>35</td></tr>\n",
       "\t<tr><td>31</td></tr>\n",
       "\t<tr><td>26</td></tr>\n",
       "\t<tr><td>27</td></tr>\n",
       "\t<tr><td>36</td></tr>\n",
       "\t<tr><td>27</td></tr>\n",
       "\t<tr><td>21</td></tr>\n",
       "\t<tr><td>25</td></tr>\n",
       "\t<tr><td>34</td></tr>\n",
       "\t<tr><td>24</td></tr>\n",
       "\t<tr><td>33</td></tr>\n",
       "\t<tr><td>28</td></tr>\n",
       "\t<tr><td>27</td></tr>\n",
       "\t<tr><td>...</td></tr>\n",
       "\t<tr><td>32</td></tr>\n",
       "\t<tr><td>31</td></tr>\n",
       "\t<tr><td>31</td></tr>\n",
       "\t<tr><td>31</td></tr>\n",
       "\t<tr><td>39</td></tr>\n",
       "\t<tr><td>34</td></tr>\n",
       "\t<tr><td>39</td></tr>\n",
       "\t<tr><td>28</td></tr>\n",
       "\t<tr><td>32</td></tr>\n",
       "\t<tr><td>36</td></tr>\n",
       "\t<tr><td>30</td></tr>\n",
       "\t<tr><td>29</td></tr>\n",
       "\t<tr><td>29</td></tr>\n",
       "\t<tr><td>27</td></tr>\n",
       "\t<tr><td>24</td></tr>\n",
       "\t<tr><td>34</td></tr>\n",
       "\t<tr><td>26</td></tr>\n",
       "\t<tr><td>20</td></tr>\n",
       "\t<tr><td>32</td></tr>\n",
       "\t<tr><td>32</td></tr>\n",
       "\t<tr><td>34</td></tr>\n",
       "\t<tr><td>25</td></tr>\n",
       "\t<tr><td>21</td></tr>\n",
       "\t<tr><td>32</td></tr>\n",
       "\t<tr><td>37</td></tr>\n",
       "\t<tr><td>28</td></tr>\n",
       "\t<tr><td>25</td></tr>\n",
       "\t<tr><td>22</td></tr>\n",
       "\t<tr><td>41</td></tr>\n",
       "\t<tr><td>28</td></tr>\n",
       "</tbody>\n",
       "</table>\n"
      ],
      "text/latex": [
       "\\begin{tabular}{r|l}\n",
       " Minutes\\\\\n",
       "\\hline\n",
       "\t 28\\\\\n",
       "\t 24\\\\\n",
       "\t 37\\\\\n",
       "\t 32\\\\\n",
       "\t 34\\\\\n",
       "\t 32\\\\\n",
       "\t 31\\\\\n",
       "\t 34\\\\\n",
       "\t 25\\\\\n",
       "\t 23\\\\\n",
       "\t 32\\\\\n",
       "\t 24\\\\\n",
       "\t 23\\\\\n",
       "\t 39\\\\\n",
       "\t 24\\\\\n",
       "\t 40\\\\\n",
       "\t 23\\\\\n",
       "\t 35\\\\\n",
       "\t 31\\\\\n",
       "\t 26\\\\\n",
       "\t 27\\\\\n",
       "\t 36\\\\\n",
       "\t 27\\\\\n",
       "\t 21\\\\\n",
       "\t 25\\\\\n",
       "\t 34\\\\\n",
       "\t 24\\\\\n",
       "\t 33\\\\\n",
       "\t 28\\\\\n",
       "\t 27\\\\\n",
       "\t ...\\\\\n",
       "\t 32\\\\\n",
       "\t 31\\\\\n",
       "\t 31\\\\\n",
       "\t 31\\\\\n",
       "\t 39\\\\\n",
       "\t 34\\\\\n",
       "\t 39\\\\\n",
       "\t 28\\\\\n",
       "\t 32\\\\\n",
       "\t 36\\\\\n",
       "\t 30\\\\\n",
       "\t 29\\\\\n",
       "\t 29\\\\\n",
       "\t 27\\\\\n",
       "\t 24\\\\\n",
       "\t 34\\\\\n",
       "\t 26\\\\\n",
       "\t 20\\\\\n",
       "\t 32\\\\\n",
       "\t 32\\\\\n",
       "\t 34\\\\\n",
       "\t 25\\\\\n",
       "\t 21\\\\\n",
       "\t 32\\\\\n",
       "\t 37\\\\\n",
       "\t 28\\\\\n",
       "\t 25\\\\\n",
       "\t 22\\\\\n",
       "\t 41\\\\\n",
       "\t 28\\\\\n",
       "\\end{tabular}\n"
      ],
      "text/markdown": [
       "\n",
       "| Minutes |\n",
       "|---|\n",
       "| 28 |\n",
       "| 24 |\n",
       "| 37 |\n",
       "| 32 |\n",
       "| 34 |\n",
       "| 32 |\n",
       "| 31 |\n",
       "| 34 |\n",
       "| 25 |\n",
       "| 23 |\n",
       "| 32 |\n",
       "| 24 |\n",
       "| 23 |\n",
       "| 39 |\n",
       "| 24 |\n",
       "| 40 |\n",
       "| 23 |\n",
       "| 35 |\n",
       "| 31 |\n",
       "| 26 |\n",
       "| 27 |\n",
       "| 36 |\n",
       "| 27 |\n",
       "| 21 |\n",
       "| 25 |\n",
       "| 34 |\n",
       "| 24 |\n",
       "| 33 |\n",
       "| 28 |\n",
       "| 27 |\n",
       "| ... |\n",
       "| 32 |\n",
       "| 31 |\n",
       "| 31 |\n",
       "| 31 |\n",
       "| 39 |\n",
       "| 34 |\n",
       "| 39 |\n",
       "| 28 |\n",
       "| 32 |\n",
       "| 36 |\n",
       "| 30 |\n",
       "| 29 |\n",
       "| 29 |\n",
       "| 27 |\n",
       "| 24 |\n",
       "| 34 |\n",
       "| 26 |\n",
       "| 20 |\n",
       "| 32 |\n",
       "| 32 |\n",
       "| 34 |\n",
       "| 25 |\n",
       "| 21 |\n",
       "| 32 |\n",
       "| 37 |\n",
       "| 28 |\n",
       "| 25 |\n",
       "| 22 |\n",
       "| 41 |\n",
       "| 28 |\n",
       "\n"
      ],
      "text/plain": [
       "    Minutes\n",
       "1   28     \n",
       "2   24     \n",
       "3   37     \n",
       "4   32     \n",
       "5   34     \n",
       "6   32     \n",
       "7   31     \n",
       "8   34     \n",
       "9   25     \n",
       "10  23     \n",
       "11  32     \n",
       "12  24     \n",
       "13  23     \n",
       "14  39     \n",
       "15  24     \n",
       "16  40     \n",
       "17  23     \n",
       "18  35     \n",
       "19  31     \n",
       "20  26     \n",
       "21  27     \n",
       "22  36     \n",
       "23  27     \n",
       "24  21     \n",
       "25  25     \n",
       "26  34     \n",
       "27  24     \n",
       "28  33     \n",
       "29  28     \n",
       "30  27     \n",
       "... ...    \n",
       "81  32     \n",
       "82  31     \n",
       "83  31     \n",
       "84  31     \n",
       "85  39     \n",
       "86  34     \n",
       "87  39     \n",
       "88  28     \n",
       "89  32     \n",
       "90  36     \n",
       "91  30     \n",
       "92  29     \n",
       "93  29     \n",
       "94  27     \n",
       "95  24     \n",
       "96  34     \n",
       "97  26     \n",
       "98  20     \n",
       "99  32     \n",
       "100 32     \n",
       "101 34     \n",
       "102 25     \n",
       "103 21     \n",
       "104 32     \n",
       "105 37     \n",
       "106 28     \n",
       "107 25     \n",
       "108 22     \n",
       "109 41     \n",
       "110 28     "
      ]
     },
     "metadata": {},
     "output_type": "display_data"
    }
   ],
   "source": [
    "setwd(\"D:/BAX441/Homeworks/Homeworks 4 and 5 Combined\")\n",
    "Q2<-read.csv('Question2.csv')\n",
    "Q2"
   ]
  },
  {
   "cell_type": "code",
   "execution_count": 18,
   "metadata": {
    "ExecuteTime": {
     "end_time": "2019-11-16T22:51:43.868173Z",
     "start_time": "2019-11-16T22:51:43.799Z"
    }
   },
   "outputs": [
    {
     "data": {
      "text/plain": [
       "\n",
       "\tOne Sample z-test\n",
       "\n",
       "data:  Q2$Minutes\n",
       "z = -2.7293, p-value = 0.003174\n",
       "alternative hypothesis: true mean is less than 32\n",
       "95 percent confidence interval:\n",
       "     -Inf 31.17283\n",
       "sample estimates:\n",
       "mean of x \n",
       " 29.91818 \n"
      ]
     },
     "metadata": {},
     "output_type": "display_data"
    },
    {
     "name": "stdout",
     "output_type": "stream",
     "text": [
      "[1] \"At 5% significance level, there is sufficient evidence to warrant rejection of the claim that the renovation would not work.\"\n"
     ]
    }
   ],
   "source": [
    "mean_pop<-32\n",
    "sd_pop<-8\n",
    "\n",
    "\n",
    "z.test(Q2$Minutes,mu=mean_pop,sigma.x=sd_pop,alternative='less')\n",
    "\n",
    "\n",
    "print('At 5% significance level, there is sufficient evidence to warrant rejection of the claim that the renovation would not work.')\n"
   ]
  },
  {
   "cell_type": "markdown",
   "metadata": {},
   "source": [
    "Type I Error: think the renovation would reduce the average smoke time, but actually it does not.  \n",
    "- Cost: spend money on stall the exhausts for no return.\n",
    "\n",
    "Type II Error: think the renovation would not work, but actually it can reduct average smoke time.\n",
    "- Cost: the company miss the opportunity to improve the productivity\n",
    "\n"
   ]
  },
  {
   "cell_type": "code",
   "execution_count": 112,
   "metadata": {
    "ExecuteTime": {
     "end_time": "2019-11-17T04:25:14.277311Z",
     "start_time": "2019-11-17T04:25:14.248Z"
    }
   },
   "outputs": [
    {
     "data": {
      "text/html": [
       "30.7453548815335"
      ],
      "text/latex": [
       "30.7453548815335"
      ],
      "text/markdown": [
       "30.7453548815335"
      ],
      "text/plain": [
       "[1] 30.74535"
      ]
     },
     "metadata": {},
     "output_type": "display_data"
    }
   ],
   "source": [
    "qnorm(0.05,32,8/sqrt(110),lower.tail=TRUE)"
   ]
  },
  {
   "cell_type": "code",
   "execution_count": 114,
   "metadata": {
    "ExecuteTime": {
     "end_time": "2019-11-17T04:26:45.260484Z",
     "start_time": "2019-11-17T04:26:45.230Z"
    }
   },
   "outputs": [
    {
     "name": "stdout",
     "output_type": "stream",
     "text": [
      "The probability of erroneously concluding that the renovation would not be successful is  0.1642429 , which is high.[1] \"To reduce this probability, we can use higher significant level and increase the sample size.\"\n"
     ]
    }
   ],
   "source": [
    "beta<-pnorm(30.7453548815335,30,8/sqrt(110),lower.tail=FALSE)\n",
    "\n",
    "cat('The probability of erroneously concluding that the renovation would not be successful is ',beta,', which is high.')\n",
    "print('To reduce this probability, we can use higher significant level and increase the sample size.')"
   ]
  },
  {
   "cell_type": "markdown",
   "metadata": {},
   "source": [
    "# (5 points) Question 3 \n",
    "\n",
    "This is a case on test marketing. A manufacturer of hardware products needs some help in deciding the price to charge for a new product. The marketing analyst through the use of pricing analytics determined that the new product should sell for  10, but the pricing model made some assumptions that the marketing manager was uncomfortable with. The manager is unsure if the sales volume will differ significantly if it is priced at  9 or  11. To conduct a pricing experiment, she distributes the new product to a sample of 60 stores. These 60 stores are all located in similar neighborhoods. The manager randomly selects 20 stores in which to sell the item at  9, 20 stores to sell it at  10, and the remaining 20 stores to sell it at  11. Sales at the end of the trial period were recorded. Although I do not have the dataset containing the individual sales figures, enough information is available for you to run an appropriate statistical test using principles. The mean sales at stores which sell the item at  9 is 153.60, at  10 is 151.50, and at  11 is 133.25. The standard deviations of sales are 25.57, 30.39, and 25.03 at stores which sell the item at  9,  10, and  11, respectively. Based on the given information, run an appropriate statistical test and describe what should the manager conclude.\n"
   ]
  },
  {
   "cell_type": "code",
   "execution_count": 7,
   "metadata": {
    "ExecuteTime": {
     "end_time": "2019-11-18T01:11:33.026897Z",
     "start_time": "2019-11-18T01:11:32.953Z"
    }
   },
   "outputs": [
    {
     "name": "stdout",
     "output_type": "stream",
     "text": [
      "Critical Value:  3.158843 \n",
      "F score:  3.41033 \n",
      "[1] \"With 5% significant level, we have enough evidence to reject the H0.\"\n",
      "[1] \"Conclusion: there is difference on sales among the prices. \"\n",
      "[1] \"\\n\"\n",
      "|mean9-mean10|:  2.1 \n",
      "|mean9-mean11|:  20.35 \n",
      "|mean10-mean11|:  18.25 \n",
      "Traditional LSD:  17.1632 \n",
      "Tukey LSD:  20.62549 \n"
     ]
    }
   ],
   "source": [
    "n9<-20\n",
    "n10<-20\n",
    "n11<-20\n",
    "\n",
    "mean9<-153.6\n",
    "mean10<-151.5\n",
    "mean11<-133.25\n",
    "\n",
    "sd9<-25.57\n",
    "sd10<-30.39\n",
    "sd11<-25.03\n",
    "\n",
    "#One-way ANOVA Requirements: \n",
    "#Since the total sample size is 60, we assume the distribution of the sample is normal distribution according to central limit theorem. \n",
    "#Satisfy the requirement of randomly selected and independent\n",
    "#Although the variances are not equal, with equal sample sizes, violations of this assumption do not seriously affect inferences\n",
    "\n",
    "#H0: mean9 = mean10 = mean11 (sales of products with different price are equal)\n",
    "#H1: At least one sales is different\n",
    "# 5% significant level\n",
    "\n",
    "mean_grand<-(mean9+mean10+mean11)/3\n",
    "sst<-(n9*(mean9-mean_grand)^2)+(n10*(mean10-mean_grand)^2)+(n11*(mean11-mean_grand)^2)\n",
    "sse<-((n9-1)*sd9^2)+((n10-1)*sd10^2)+((n11-1)*sd11^2)\n",
    "\n",
    "mst<-sst/(3-1)\n",
    "mse<-sse/(60-3)\n",
    "f<-mst/mse\n",
    "\n",
    "cat ('Critical Value: ', qf(0.95, df1=3-1, df2=60-3),'\\n')\n",
    "\n",
    "cat('F score: ',f,'\\n')\n",
    "\n",
    "##########################Conclusion###########################################\n",
    "\n",
    "print('With 5% significant level, we have enough evidence to reject the H0.')\n",
    "print('Conclusion: there is difference on sales among the prices. ')\n",
    "\n",
    "###################Tukey’s Honestly Significant Difference (HSD)################\n",
    "print('\\n')\n",
    "cat('|mean9-mean10|: ',abs(mean9-mean10),'\\n')\n",
    "cat('|mean9-mean11|: ',abs(mean9-mean11),'\\n')\n",
    "cat('|mean10-mean11|: ',abs(mean10-mean11),'\\n')\n",
    "\n",
    "#LSD\n",
    "cat('Traditional LSD: ',qt(0.975,df=60-3)*sqrt(mse*(1/20+1/20)),'\\n')\n",
    "\n",
    "cat('Tukey LSD: ',qtukey(0.95, 3, 60-3)*sqrt(mse/20),'\\n')\n",
    "\n",
    "#tukey plot -> 9 and 11 are different\n"
   ]
  },
  {
   "cell_type": "markdown",
   "metadata": {},
   "source": [
    "# (20 points) Question 4\n",
    "\n",
    "If you walk down the aisle of breakfast cereals at a grocery store, you will find that the cereal market is flooded with a bewildering number of breakfast cereals. Each company produces several different kinds of cereal in the belief that there are distinct market segments. For example, there is a market segment comprised primarily of children, another segment for diet-conscious adults, and yet another for health-conscious adults. Each cereal the companies produce has at least one market segment as its target. However, we consumers make our own decisions, which may or may not match the target predicted by the cereal maker. \n",
    "\n",
    "One such cereal maker in the northeastern part of the United States is attempting to distinguish between consumers. It administered a survey to adults between 25 and 65. Each was asked a few questions, including age, income, and years of education, as well as the brand of cereal each consumed most frequently. The cereal choices are:\n",
    "1.\tSugar Rush, a children’s cereal\n",
    "2.\tSpecial K, a cereal aimed at dieters\n",
    "3.\tFiber One, a cereal that is advertised as healthy\n",
    "4.\tCheerios, a cereal that is targeted to a combination of dieters and health conscious consumers\n",
    "\n",
    "The results of the survey were recorded. The data are available under the CSV file Question 4. The first column contains the cereal choice, second column records the age of respondent, third column records the annual household income, and the fourth column records the years of education.\n",
    "\n",
    "Run an appropriate statistical test to address the following objectives:"
   ]
  },
  {
   "cell_type": "code",
   "execution_count": 51,
   "metadata": {
    "ExecuteTime": {
     "end_time": "2019-11-17T23:42:06.119294Z",
     "start_time": "2019-11-17T23:42:06.062Z"
    },
    "scrolled": true
   },
   "outputs": [
    {
     "data": {
      "text/html": [
       "<table>\n",
       "<thead><tr><th scope=col>Cereal</th><th scope=col>Age</th><th scope=col>Income</th><th scope=col>Education</th></tr></thead>\n",
       "<tbody>\n",
       "\t<tr><td>1 </td><td>33</td><td>26</td><td> 8</td></tr>\n",
       "\t<tr><td>1 </td><td>27</td><td>49</td><td>11</td></tr>\n",
       "\t<tr><td>1 </td><td>25</td><td>35</td><td>12</td></tr>\n",
       "\t<tr><td>1 </td><td>31</td><td>35</td><td>12</td></tr>\n",
       "\t<tr><td>1 </td><td>35</td><td>41</td><td>15</td></tr>\n",
       "\t<tr><td>1 </td><td>29</td><td>46</td><td>14</td></tr>\n",
       "\t<tr><td>1 </td><td>31</td><td>41</td><td>10</td></tr>\n",
       "\t<tr><td>1 </td><td>35</td><td>37</td><td>12</td></tr>\n",
       "\t<tr><td>1 </td><td>27</td><td>45</td><td>11</td></tr>\n",
       "\t<tr><td>1 </td><td>25</td><td>44</td><td>10</td></tr>\n",
       "\t<tr><td>1 </td><td>37</td><td>49</td><td>10</td></tr>\n",
       "\t<tr><td>1 </td><td>55</td><td>36</td><td>14</td></tr>\n",
       "\t<tr><td>1 </td><td>33</td><td>32</td><td>14</td></tr>\n",
       "\t<tr><td>1 </td><td>29</td><td>31</td><td>14</td></tr>\n",
       "\t<tr><td>1 </td><td>37</td><td>36</td><td>15</td></tr>\n",
       "\t<tr><td>1 </td><td>39</td><td>34</td><td>10</td></tr>\n",
       "\t<tr><td>1 </td><td>25</td><td>36</td><td>14</td></tr>\n",
       "\t<tr><td>1 </td><td>25</td><td>38</td><td>12</td></tr>\n",
       "\t<tr><td>1 </td><td>33</td><td>27</td><td>11</td></tr>\n",
       "\t<tr><td>1 </td><td>37</td><td>37</td><td>13</td></tr>\n",
       "\t<tr><td>1 </td><td>33</td><td>28</td><td> 8</td></tr>\n",
       "\t<tr><td>1 </td><td>33</td><td>39</td><td>15</td></tr>\n",
       "\t<tr><td>1 </td><td>25</td><td>41</td><td>11</td></tr>\n",
       "\t<tr><td>1 </td><td>33</td><td>34</td><td>11</td></tr>\n",
       "\t<tr><td>1 </td><td>27</td><td>42</td><td>11</td></tr>\n",
       "\t<tr><td>1 </td><td>27</td><td>50</td><td>14</td></tr>\n",
       "\t<tr><td>1 </td><td>29</td><td>32</td><td>13</td></tr>\n",
       "\t<tr><td>1 </td><td>33</td><td>33</td><td> 9</td></tr>\n",
       "\t<tr><td>1 </td><td>26</td><td>44</td><td>11</td></tr>\n",
       "\t<tr><td>1 </td><td>29</td><td>41</td><td>13</td></tr>\n",
       "\t<tr><td>...</td><td>...</td><td>...</td><td>...</td></tr>\n",
       "\t<tr><td>4 </td><td>54</td><td>41</td><td>12</td></tr>\n",
       "\t<tr><td>4 </td><td>51</td><td>37</td><td>14</td></tr>\n",
       "\t<tr><td>4 </td><td>28</td><td>42</td><td>12</td></tr>\n",
       "\t<tr><td>4 </td><td>39</td><td>33</td><td>13</td></tr>\n",
       "\t<tr><td>4 </td><td>52</td><td>34</td><td>13</td></tr>\n",
       "\t<tr><td>4 </td><td>28</td><td>44</td><td>13</td></tr>\n",
       "\t<tr><td>4 </td><td>39</td><td>37</td><td>13</td></tr>\n",
       "\t<tr><td>4 </td><td>40</td><td>29</td><td>15</td></tr>\n",
       "\t<tr><td>4 </td><td>37</td><td>41</td><td>12</td></tr>\n",
       "\t<tr><td>4 </td><td>51</td><td>38</td><td>11</td></tr>\n",
       "\t<tr><td>4 </td><td>47</td><td>53</td><td>13</td></tr>\n",
       "\t<tr><td>4 </td><td>37</td><td>49</td><td>12</td></tr>\n",
       "\t<tr><td>4 </td><td>33</td><td>59</td><td> 8</td></tr>\n",
       "\t<tr><td>4 </td><td>31</td><td>43</td><td>12</td></tr>\n",
       "\t<tr><td>4 </td><td>56</td><td>42</td><td>10</td></tr>\n",
       "\t<tr><td>4 </td><td>34</td><td>50</td><td>12</td></tr>\n",
       "\t<tr><td>4 </td><td>43</td><td>41</td><td>10</td></tr>\n",
       "\t<tr><td>4 </td><td>26</td><td>45</td><td>12</td></tr>\n",
       "\t<tr><td>4 </td><td>32</td><td>31</td><td>12</td></tr>\n",
       "\t<tr><td>4 </td><td>35</td><td>31</td><td>13</td></tr>\n",
       "\t<tr><td>4 </td><td>31</td><td>38</td><td>10</td></tr>\n",
       "\t<tr><td>4 </td><td>41</td><td>31</td><td>10</td></tr>\n",
       "\t<tr><td>4 </td><td>29</td><td>45</td><td>16</td></tr>\n",
       "\t<tr><td>4 </td><td>28</td><td>43</td><td>16</td></tr>\n",
       "\t<tr><td>4 </td><td>41</td><td>32</td><td> 9</td></tr>\n",
       "\t<tr><td>4 </td><td>50</td><td>36</td><td>14</td></tr>\n",
       "\t<tr><td>4 </td><td>25</td><td>31</td><td>13</td></tr>\n",
       "\t<tr><td>4 </td><td>35</td><td>45</td><td>16</td></tr>\n",
       "\t<tr><td>4 </td><td>35</td><td>42</td><td>12</td></tr>\n",
       "\t<tr><td>4 </td><td>50</td><td>35</td><td>11</td></tr>\n",
       "</tbody>\n",
       "</table>\n"
      ],
      "text/latex": [
       "\\begin{tabular}{r|llll}\n",
       " Cereal & Age & Income & Education\\\\\n",
       "\\hline\n",
       "\t 1  & 33 & 26 &  8\\\\\n",
       "\t 1  & 27 & 49 & 11\\\\\n",
       "\t 1  & 25 & 35 & 12\\\\\n",
       "\t 1  & 31 & 35 & 12\\\\\n",
       "\t 1  & 35 & 41 & 15\\\\\n",
       "\t 1  & 29 & 46 & 14\\\\\n",
       "\t 1  & 31 & 41 & 10\\\\\n",
       "\t 1  & 35 & 37 & 12\\\\\n",
       "\t 1  & 27 & 45 & 11\\\\\n",
       "\t 1  & 25 & 44 & 10\\\\\n",
       "\t 1  & 37 & 49 & 10\\\\\n",
       "\t 1  & 55 & 36 & 14\\\\\n",
       "\t 1  & 33 & 32 & 14\\\\\n",
       "\t 1  & 29 & 31 & 14\\\\\n",
       "\t 1  & 37 & 36 & 15\\\\\n",
       "\t 1  & 39 & 34 & 10\\\\\n",
       "\t 1  & 25 & 36 & 14\\\\\n",
       "\t 1  & 25 & 38 & 12\\\\\n",
       "\t 1  & 33 & 27 & 11\\\\\n",
       "\t 1  & 37 & 37 & 13\\\\\n",
       "\t 1  & 33 & 28 &  8\\\\\n",
       "\t 1  & 33 & 39 & 15\\\\\n",
       "\t 1  & 25 & 41 & 11\\\\\n",
       "\t 1  & 33 & 34 & 11\\\\\n",
       "\t 1  & 27 & 42 & 11\\\\\n",
       "\t 1  & 27 & 50 & 14\\\\\n",
       "\t 1  & 29 & 32 & 13\\\\\n",
       "\t 1  & 33 & 33 &  9\\\\\n",
       "\t 1  & 26 & 44 & 11\\\\\n",
       "\t 1  & 29 & 41 & 13\\\\\n",
       "\t ... & ... & ... & ...\\\\\n",
       "\t 4  & 54 & 41 & 12\\\\\n",
       "\t 4  & 51 & 37 & 14\\\\\n",
       "\t 4  & 28 & 42 & 12\\\\\n",
       "\t 4  & 39 & 33 & 13\\\\\n",
       "\t 4  & 52 & 34 & 13\\\\\n",
       "\t 4  & 28 & 44 & 13\\\\\n",
       "\t 4  & 39 & 37 & 13\\\\\n",
       "\t 4  & 40 & 29 & 15\\\\\n",
       "\t 4  & 37 & 41 & 12\\\\\n",
       "\t 4  & 51 & 38 & 11\\\\\n",
       "\t 4  & 47 & 53 & 13\\\\\n",
       "\t 4  & 37 & 49 & 12\\\\\n",
       "\t 4  & 33 & 59 &  8\\\\\n",
       "\t 4  & 31 & 43 & 12\\\\\n",
       "\t 4  & 56 & 42 & 10\\\\\n",
       "\t 4  & 34 & 50 & 12\\\\\n",
       "\t 4  & 43 & 41 & 10\\\\\n",
       "\t 4  & 26 & 45 & 12\\\\\n",
       "\t 4  & 32 & 31 & 12\\\\\n",
       "\t 4  & 35 & 31 & 13\\\\\n",
       "\t 4  & 31 & 38 & 10\\\\\n",
       "\t 4  & 41 & 31 & 10\\\\\n",
       "\t 4  & 29 & 45 & 16\\\\\n",
       "\t 4  & 28 & 43 & 16\\\\\n",
       "\t 4  & 41 & 32 &  9\\\\\n",
       "\t 4  & 50 & 36 & 14\\\\\n",
       "\t 4  & 25 & 31 & 13\\\\\n",
       "\t 4  & 35 & 45 & 16\\\\\n",
       "\t 4  & 35 & 42 & 12\\\\\n",
       "\t 4  & 50 & 35 & 11\\\\\n",
       "\\end{tabular}\n"
      ],
      "text/markdown": [
       "\n",
       "| Cereal | Age | Income | Education |\n",
       "|---|---|---|---|\n",
       "| 1  | 33 | 26 |  8 |\n",
       "| 1  | 27 | 49 | 11 |\n",
       "| 1  | 25 | 35 | 12 |\n",
       "| 1  | 31 | 35 | 12 |\n",
       "| 1  | 35 | 41 | 15 |\n",
       "| 1  | 29 | 46 | 14 |\n",
       "| 1  | 31 | 41 | 10 |\n",
       "| 1  | 35 | 37 | 12 |\n",
       "| 1  | 27 | 45 | 11 |\n",
       "| 1  | 25 | 44 | 10 |\n",
       "| 1  | 37 | 49 | 10 |\n",
       "| 1  | 55 | 36 | 14 |\n",
       "| 1  | 33 | 32 | 14 |\n",
       "| 1  | 29 | 31 | 14 |\n",
       "| 1  | 37 | 36 | 15 |\n",
       "| 1  | 39 | 34 | 10 |\n",
       "| 1  | 25 | 36 | 14 |\n",
       "| 1  | 25 | 38 | 12 |\n",
       "| 1  | 33 | 27 | 11 |\n",
       "| 1  | 37 | 37 | 13 |\n",
       "| 1  | 33 | 28 |  8 |\n",
       "| 1  | 33 | 39 | 15 |\n",
       "| 1  | 25 | 41 | 11 |\n",
       "| 1  | 33 | 34 | 11 |\n",
       "| 1  | 27 | 42 | 11 |\n",
       "| 1  | 27 | 50 | 14 |\n",
       "| 1  | 29 | 32 | 13 |\n",
       "| 1  | 33 | 33 |  9 |\n",
       "| 1  | 26 | 44 | 11 |\n",
       "| 1  | 29 | 41 | 13 |\n",
       "| ... | ... | ... | ... |\n",
       "| 4  | 54 | 41 | 12 |\n",
       "| 4  | 51 | 37 | 14 |\n",
       "| 4  | 28 | 42 | 12 |\n",
       "| 4  | 39 | 33 | 13 |\n",
       "| 4  | 52 | 34 | 13 |\n",
       "| 4  | 28 | 44 | 13 |\n",
       "| 4  | 39 | 37 | 13 |\n",
       "| 4  | 40 | 29 | 15 |\n",
       "| 4  | 37 | 41 | 12 |\n",
       "| 4  | 51 | 38 | 11 |\n",
       "| 4  | 47 | 53 | 13 |\n",
       "| 4  | 37 | 49 | 12 |\n",
       "| 4  | 33 | 59 |  8 |\n",
       "| 4  | 31 | 43 | 12 |\n",
       "| 4  | 56 | 42 | 10 |\n",
       "| 4  | 34 | 50 | 12 |\n",
       "| 4  | 43 | 41 | 10 |\n",
       "| 4  | 26 | 45 | 12 |\n",
       "| 4  | 32 | 31 | 12 |\n",
       "| 4  | 35 | 31 | 13 |\n",
       "| 4  | 31 | 38 | 10 |\n",
       "| 4  | 41 | 31 | 10 |\n",
       "| 4  | 29 | 45 | 16 |\n",
       "| 4  | 28 | 43 | 16 |\n",
       "| 4  | 41 | 32 |  9 |\n",
       "| 4  | 50 | 36 | 14 |\n",
       "| 4  | 25 | 31 | 13 |\n",
       "| 4  | 35 | 45 | 16 |\n",
       "| 4  | 35 | 42 | 12 |\n",
       "| 4  | 50 | 35 | 11 |\n",
       "\n"
      ],
      "text/plain": [
       "    Cereal Age Income Education\n",
       "1   1      33  26      8       \n",
       "2   1      27  49     11       \n",
       "3   1      25  35     12       \n",
       "4   1      31  35     12       \n",
       "5   1      35  41     15       \n",
       "6   1      29  46     14       \n",
       "7   1      31  41     10       \n",
       "8   1      35  37     12       \n",
       "9   1      27  45     11       \n",
       "10  1      25  44     10       \n",
       "11  1      37  49     10       \n",
       "12  1      55  36     14       \n",
       "13  1      33  32     14       \n",
       "14  1      29  31     14       \n",
       "15  1      37  36     15       \n",
       "16  1      39  34     10       \n",
       "17  1      25  36     14       \n",
       "18  1      25  38     12       \n",
       "19  1      33  27     11       \n",
       "20  1      37  37     13       \n",
       "21  1      33  28      8       \n",
       "22  1      33  39     15       \n",
       "23  1      25  41     11       \n",
       "24  1      33  34     11       \n",
       "25  1      27  42     11       \n",
       "26  1      27  50     14       \n",
       "27  1      29  32     13       \n",
       "28  1      33  33      9       \n",
       "29  1      26  44     11       \n",
       "30  1      29  41     13       \n",
       "... ...    ... ...    ...      \n",
       "266 4      54  41     12       \n",
       "267 4      51  37     14       \n",
       "268 4      28  42     12       \n",
       "269 4      39  33     13       \n",
       "270 4      52  34     13       \n",
       "271 4      28  44     13       \n",
       "272 4      39  37     13       \n",
       "273 4      40  29     15       \n",
       "274 4      37  41     12       \n",
       "275 4      51  38     11       \n",
       "276 4      47  53     13       \n",
       "277 4      37  49     12       \n",
       "278 4      33  59      8       \n",
       "279 4      31  43     12       \n",
       "280 4      56  42     10       \n",
       "281 4      34  50     12       \n",
       "282 4      43  41     10       \n",
       "283 4      26  45     12       \n",
       "284 4      32  31     12       \n",
       "285 4      35  31     13       \n",
       "286 4      31  38     10       \n",
       "287 4      41  31     10       \n",
       "288 4      29  45     16       \n",
       "289 4      28  43     16       \n",
       "290 4      41  32      9       \n",
       "291 4      50  36     14       \n",
       "292 4      25  31     13       \n",
       "293 4      35  45     16       \n",
       "294 4      35  42     12       \n",
       "295 4      50  35     11       "
      ]
     },
     "metadata": {},
     "output_type": "display_data"
    }
   ],
   "source": [
    "setwd(\"D:/BAX441/Homeworks/Homeworks 4 and 5 Combined\")\n",
    "Q4<-read.csv('Question4.csv')\n",
    "Cereal<-as.factor(Q4$Cereal)\n",
    "Age<-Q4$Age\n",
    "Income<-Q4$Income\n",
    "Education<-Q4$Education\n",
    "Q4"
   ]
  },
  {
   "cell_type": "markdown",
   "metadata": {},
   "source": [
    "## a.\t(5 points) Are there differences between the ages of the consumers of the four cereals?"
   ]
  },
  {
   "cell_type": "code",
   "execution_count": 53,
   "metadata": {
    "ExecuteTime": {
     "end_time": "2019-11-17T23:42:20.316742Z",
     "start_time": "2019-11-17T23:42:20.225Z"
    },
    "scrolled": false
   },
   "outputs": [
    {
     "data": {
      "text/plain": [
       "\n",
       "\tAnderson-Darling normality test\n",
       "\n",
       "data:  resids_ex41\n",
       "A = 0.74779, p-value = 0.051\n"
      ]
     },
     "metadata": {},
     "output_type": "display_data"
    },
    {
     "data": {
      "text/plain": [
       "\n",
       "\tFligner-Killeen test of homogeneity of variances\n",
       "\n",
       "data:  Age by Cereal\n",
       "Fligner-Killeen:med chi-squared = 34.012, df = 3, p-value = 1.97e-07\n"
      ]
     },
     "metadata": {},
     "output_type": "display_data"
    },
    {
     "data": {
      "text/html": [
       "<table>\n",
       "<thead><tr><th></th><th scope=col>Df</th><th scope=col>F value</th><th scope=col>Pr(&gt;F)</th></tr></thead>\n",
       "<tbody>\n",
       "\t<tr><th scope=row>group</th><td>  3         </td><td>12.08694    </td><td>1.770382e-07</td></tr>\n",
       "\t<tr><th scope=row> </th><td>291         </td><td>      NA    </td><td>          NA</td></tr>\n",
       "</tbody>\n",
       "</table>\n"
      ],
      "text/latex": [
       "\\begin{tabular}{r|lll}\n",
       "  & Df & F value & Pr(>F)\\\\\n",
       "\\hline\n",
       "\tgroup &   3          & 12.08694     & 1.770382e-07\\\\\n",
       "\t  & 291          &       NA     &           NA\\\\\n",
       "\\end{tabular}\n"
      ],
      "text/markdown": [
       "\n",
       "| <!--/--> | Df | F value | Pr(>F) |\n",
       "|---|---|---|---|\n",
       "| group |   3          | 12.08694     | 1.770382e-07 |\n",
       "|   | 291          |       NA     |           NA |\n",
       "\n"
      ],
      "text/plain": [
       "      Df  F value  Pr(>F)      \n",
       "group   3 12.08694 1.770382e-07\n",
       "      291       NA           NA"
      ]
     },
     "metadata": {},
     "output_type": "display_data"
    },
    {
     "data": {
      "text/plain": [
       "\n",
       "\tOne-way analysis of means (not assuming equal variances)\n",
       "\n",
       "data:  Age and Cereal\n",
       "F = 25.154, num df = 3.00, denom df = 132.24, p-value = 6.11e-13\n"
      ]
     },
     "metadata": {},
     "output_type": "display_data"
    },
    {
     "data": {
      "text/plain": [
       "    n means variances\n",
       "1  63    31        28\n",
       "2  81    34        23\n",
       "3  40    37        31\n",
       "4 111    40        72\n",
       "\n",
       "    diff ci.lo ci.hi   t  df    p\n",
       "2-1  3.1  0.88   5.4 3.6 126 <.01\n",
       "3-1  6.1  3.16   9.0 5.5  80 <.01\n",
       "4-1  8.6  5.91  11.3 8.2 170 <.01\n",
       "3-2  3.0  0.24   5.7 2.9  68  .03\n",
       "4-2  5.5  3.00   8.0 5.7 180 <.01\n",
       "4-3  2.6 -0.57   5.7 2.1 105  .15"
      ]
     },
     "metadata": {},
     "output_type": "display_data"
    },
    {
     "name": "stdout",
     "output_type": "stream",
     "text": [
      "[1] \"Yes, at 5% significant level, there are differences between ages of consumers of the four cereal.\"\n"
     ]
    }
   ],
   "source": [
    "#########Requirement Test######################\n",
    "#1. Randomly selected sample - Satisfy\n",
    "#2. Normality - Satisfy, because the p-value of the normality test is larger than 0.05\n",
    "model_ex41 <- lm(Age ~ Cereal)\n",
    "resids_ex41 <- residuals(model_ex41)\n",
    "preds_ex41 <- predict(model_ex41)\n",
    "\n",
    "nortest::ad.test(resids_ex41)\n",
    "\n",
    "#hist(resids_ex41)\n",
    "\n",
    "#qqnorm(resids_ex41)\n",
    "#qqline(resids_ex41)\n",
    "\n",
    "#3. Variances are constant - Unsatisfy, because the p-value of the homogeneity f variances test is less than 0.05\n",
    "fligner.test(Age ~ Cereal)\n",
    "car::leveneTest(Age ~ Cereal)\n",
    "########Welch's test##########################\n",
    "#H0: no difference between the ages of the consumers of the four cereals\n",
    "#H1: At least one cereal's customers' age is different from others\n",
    "oneway.test(Age ~ Cereal, var.equal = FALSE)\n",
    "\n",
    "#install.packages(\"userfriendlyscience\")\n",
    "library(userfriendlyscience)\n",
    "\n",
    "posthocTGH(Age, Cereal, method = \"games-howell\")\n",
    "\n",
    "########Conclusion#############################\n",
    "print('Yes, at 5% significant level, there are differences between ages of consumers of the four cereal.')"
   ]
  },
  {
   "cell_type": "markdown",
   "metadata": {},
   "source": [
    "## b.\t(5 points) Are there differences between the incomes of the consumers of the four cereals?"
   ]
  },
  {
   "cell_type": "code",
   "execution_count": 54,
   "metadata": {
    "ExecuteTime": {
     "end_time": "2019-11-17T23:42:42.675668Z",
     "start_time": "2019-11-17T23:42:42.625Z"
    }
   },
   "outputs": [
    {
     "data": {
      "text/plain": [
       "\n",
       "\tAnderson-Darling normality test\n",
       "\n",
       "data:  resids_ex42\n",
       "A = 0.38897, p-value = 0.3826\n"
      ]
     },
     "metadata": {},
     "output_type": "display_data"
    },
    {
     "data": {
      "text/plain": [
       "\n",
       "\tFligner-Killeen test of homogeneity of variances\n",
       "\n",
       "data:  Income by Cereal\n",
       "Fligner-Killeen:med chi-squared = 4.0702, df = 3, p-value = 0.254\n"
      ]
     },
     "metadata": {},
     "output_type": "display_data"
    },
    {
     "data": {
      "text/html": [
       "<table>\n",
       "<thead><tr><th></th><th scope=col>Df</th><th scope=col>F value</th><th scope=col>Pr(&gt;F)</th></tr></thead>\n",
       "<tbody>\n",
       "\t<tr><th scope=row>group</th><td>  3      </td><td>1.301972 </td><td>0.2739744</td></tr>\n",
       "\t<tr><th scope=row> </th><td>291      </td><td>      NA </td><td>       NA</td></tr>\n",
       "</tbody>\n",
       "</table>\n"
      ],
      "text/latex": [
       "\\begin{tabular}{r|lll}\n",
       "  & Df & F value & Pr(>F)\\\\\n",
       "\\hline\n",
       "\tgroup &   3       & 1.301972  & 0.2739744\\\\\n",
       "\t  & 291       &       NA  &        NA\\\\\n",
       "\\end{tabular}\n"
      ],
      "text/markdown": [
       "\n",
       "| <!--/--> | Df | F value | Pr(>F) |\n",
       "|---|---|---|---|\n",
       "| group |   3       | 1.301972  | 0.2739744 |\n",
       "|   | 291       |       NA  |        NA |\n",
       "\n"
      ],
      "text/plain": [
       "      Df  F value  Pr(>F)   \n",
       "group   3 1.301972 0.2739744\n",
       "      291       NA        NA"
      ]
     },
     "metadata": {},
     "output_type": "display_data"
    },
    {
     "data": {
      "text/plain": [
       "             Df Sum Sq Mean Sq F value  Pr(>F)    \n",
       "Cereal        3   1007   335.8   7.372 8.9e-05 ***\n",
       "Residuals   291  13256    45.6                    \n",
       "---\n",
       "Signif. codes:  0 '***' 0.001 '**' 0.01 '*' 0.05 '.' 0.1 ' ' 1"
      ]
     },
     "metadata": {},
     "output_type": "display_data"
    },
    {
     "name": "stdout",
     "output_type": "stream",
     "text": [
      "[1] \"Yes, at 5% significant level, there are differences between incomes of consumers of the four cereal.\"\n"
     ]
    }
   ],
   "source": [
    "#########Requirement Test######################\n",
    "#1. Randomly selected sample - Satisfy\n",
    "#2. Normality - Satisfy, because the p-value of the normality test is larger than 0.05\n",
    "model_ex42 <- lm( Income~  Cereal)\n",
    "resids_ex42 <- residuals(model_ex42)\n",
    "preds_ex42 <- predict(model_ex42)\n",
    "\n",
    "nortest::ad.test(resids_ex42)\n",
    "\n",
    "#hist(resids_ex41)\n",
    "\n",
    "#qqnorm(resids_ex41)\n",
    "#qqline(resids_ex41)\n",
    "\n",
    "#3. Variances are constant - Satisfy, because the p-value of the normality test is larger than 0.05\n",
    "fligner.test( Income~  Cereal)\n",
    "car::leveneTest(Income~  Cereal)\n",
    "########One-way ANOVA##########################\n",
    "#H0: no difference between the incomes of the consumers of the four cereals\n",
    "#H1: At least one cereal's customers' income is different from others\n",
    "ANOVA_Ex42 <- aov( Income~  Cereal)\n",
    "summary(ANOVA_Ex42)\n",
    "\n",
    "########Conclusion#############################\n",
    "print('Yes, at 5% significant level, there are differences between incomes of consumers of the four cereal.')"
   ]
  },
  {
   "cell_type": "markdown",
   "metadata": {},
   "source": [
    "## c.\t(5 points) Are there differences between the educational levels of the consumers of the four cereals?"
   ]
  },
  {
   "cell_type": "code",
   "execution_count": 62,
   "metadata": {
    "ExecuteTime": {
     "end_time": "2019-11-14T04:31:27.611299Z",
     "start_time": "2019-11-14T04:31:27.556Z"
    }
   },
   "outputs": [
    {
     "data": {
      "text/plain": [
       "\n",
       "\tAnderson-Darling normality test\n",
       "\n",
       "data:  resids_ex43\n",
       "A = 0.87762, p-value = 0.02435\n"
      ]
     },
     "metadata": {},
     "output_type": "display_data"
    },
    {
     "data": {
      "text/plain": [
       "\n",
       "\tFligner-Killeen test of homogeneity of variances\n",
       "\n",
       "data:  Education by Cereal\n",
       "Fligner-Killeen:med chi-squared = 1.4531, df = 3, p-value = 0.6931\n"
      ]
     },
     "metadata": {},
     "output_type": "display_data"
    },
    {
     "data": {
      "text/html": [
       "<table>\n",
       "<thead><tr><th></th><th scope=col>Df</th><th scope=col>F value</th><th scope=col>Pr(&gt;F)</th></tr></thead>\n",
       "<tbody>\n",
       "\t<tr><th scope=row>group</th><td>  3      </td><td>0.5156102</td><td>0.671837 </td></tr>\n",
       "\t<tr><th scope=row> </th><td>291      </td><td>       NA</td><td>      NA </td></tr>\n",
       "</tbody>\n",
       "</table>\n"
      ],
      "text/latex": [
       "\\begin{tabular}{r|lll}\n",
       "  & Df & F value & Pr(>F)\\\\\n",
       "\\hline\n",
       "\tgroup &   3       & 0.5156102 & 0.671837 \\\\\n",
       "\t  & 291       &        NA &       NA \\\\\n",
       "\\end{tabular}\n"
      ],
      "text/markdown": [
       "\n",
       "| <!--/--> | Df | F value | Pr(>F) |\n",
       "|---|---|---|---|\n",
       "| group |   3       | 0.5156102 | 0.671837  |\n",
       "|   | 291       |        NA |       NA  |\n",
       "\n"
      ],
      "text/plain": [
       "      Df  F value   Pr(>F)  \n",
       "group   3 0.5156102 0.671837\n",
       "      291        NA       NA"
      ]
     },
     "metadata": {},
     "output_type": "display_data"
    },
    {
     "data": {
      "text/plain": [
       "\n",
       "\tKruskal-Wallis rank sum test\n",
       "\n",
       "data:  Education by Cereal\n",
       "Kruskal-Wallis chi-squared = 5.666, df = 3, p-value = 0.129\n"
      ]
     },
     "metadata": {},
     "output_type": "display_data"
    },
    {
     "name": "stdout",
     "output_type": "stream",
     "text": [
      "[1] \"No, there is no difference between education levels of consumers of the four cereal.\"\n"
     ]
    }
   ],
   "source": [
    "#########Requirement Test######################\n",
    "#1. Randomly selected sample - Satisfy\n",
    "#2. Normality - Unsatisfy, because the p-value of the normality test is less than 0.05\n",
    "model_ex43 <- lm(Education ~  Cereal)\n",
    "resids_ex43 <- residuals(model_ex43)\n",
    "preds_ex43 <- predict(model_ex43)\n",
    "\n",
    "nortest::ad.test(resids_ex43)\n",
    "\n",
    "#hist(resids_ex41)\n",
    "\n",
    "#qqnorm(resids_ex41)\n",
    "#qqline(resids_ex41)\n",
    "\n",
    "#3. Variances are constant - Satisfy. Although the variances are not equal, with equal sample sizes, \n",
    "#violations of this assumption do not seriously affect inferences\n",
    "fligner.test(Education ~  Cereal)\n",
    "car::leveneTest(Education ~  Cereal)\n",
    "########Kruskal-Wallis Test##########################\n",
    "#H0: no difference between the education levels of the consumers of the four cereals\n",
    "#H1: At least one cereal's customers' education level is different from others\n",
    "kruskal.test(Education ~  Cereal)\n",
    "\n",
    "\n",
    "########Conclusion#############################\n",
    "print('No, there is no difference between education levels of consumers of the four cereal.')"
   ]
  },
  {
   "cell_type": "markdown",
   "metadata": {},
   "source": [
    "## d.\t(5 points) Prepare a summary for the cereal maker describing the differences between the four groups of cereal consumers."
   ]
  },
  {
   "cell_type": "code",
   "execution_count": 64,
   "metadata": {
    "ExecuteTime": {
     "end_time": "2019-11-14T04:32:56.467494Z",
     "start_time": "2019-11-14T04:32:56.409Z"
    }
   },
   "outputs": [
    {
     "data": {
      "text/plain": [
       "    n means variances\n",
       "1  63    31        28\n",
       "2  81    34        23\n",
       "3  40    37        31\n",
       "4 111    40        72\n",
       "\n",
       "    diff ci.lo ci.hi   t  df    p\n",
       "2-1  3.1  0.88   5.4 3.6 126 <.01\n",
       "3-1  6.1  3.16   9.0 5.5  80 <.01\n",
       "4-1  8.6  5.91  11.3 8.2 170 <.01\n",
       "3-2  3.0  0.24   5.7 2.9  68  .03\n",
       "4-2  5.5  3.00   8.0 5.7 180 <.01\n",
       "4-3  2.6 -0.57   5.7 2.1 105  .15"
      ]
     },
     "metadata": {},
     "output_type": "display_data"
    },
    {
     "data": {
      "text/plain": [
       "  Tukey multiple comparisons of means\n",
       "    95% family-wise confidence level\n",
       "\n",
       "Fit: aov(formula = Income ~ Cereal)\n",
       "\n",
       "$Cereal\n",
       "         diff        lwr      upr     p adj\n",
       "2-1 1.6913580 -1.2382761 4.620992 0.4437664\n",
       "3-1 4.2527778  0.7269324 7.778623 0.0107801\n",
       "4-1 4.5255255  1.7745433 7.276508 0.0001679\n",
       "3-2 2.5614198 -0.8088534 5.931693 0.2042006\n",
       "4-2 2.8341675  0.2856270 5.382708 0.0225024\n",
       "4-3 0.2727477 -2.9434438 3.488939 0.9962792\n"
      ]
     },
     "metadata": {},
     "output_type": "display_data"
    }
   ],
   "source": [
    "###############Summary########################\n",
    "#These 4 groups of cereal consumers do have differences of ages and income levels, but not education levels\n",
    "\n",
    "posthocTGH(Age, Cereal, method = \"games-howell\")\n",
    "TukeyHSD(ANOVA_Ex42)"
   ]
  },
  {
   "cell_type": "markdown",
   "metadata": {},
   "source": [
    "There are age difference between cereal 1 and 2, 1 and 3, 1 and 4, 2 and 3, 2and 4. So the age of consumers of 1 is younger than other brands. Brand 2 is the second younger group. There is no significant difference of ages between brand 3 and brand 4. \n",
    "\n",
    "There are income difference between cereal 1 and 3, 1 and 4, 2 and 4. Brand 1 customers have lower income level than brand 3 and brand 4. Brand 2 customers havve lower income level than brand 4. \n",
    "\n",
    "1. Sugar Rush, a children’s cereal\n",
    "2. Special K, a cereal aimed at dieters\n",
    "3. Fiber One, a cereal that is advertised as healthy\n",
    "4. Cheerios, a cereal that is targeted to a combination of dieters and health conscious consumers\n",
    "\n"
   ]
  },
  {
   "attachments": {
    "image.png": {
     "image/png": "[encoded data removed]"
    }
   },
   "cell_type": "markdown",
   "metadata": {},
   "source": [
    "# (5 points) Question 5\n",
    "\n",
    "The first thing that comes to mind when we want to lose weight is to eat less. Of course, we all know that exercise also plays a key role, but many find it hard to fit exercise in their daily routine. Hence, going on a diet (controlling what we eat) seems to be low-hanging. How well do diets work? In a study, 20 people who were more than 20 pounds overweight, were recruited to compare four diets. The people were matched by age. The oldest four became group 1, the next oldest four became group 2, and so on There were five groups in all. The number of pounds that each person lost by following one of the four diets were recorded. Although I do not have access to the data but have enough information for you to run the appropriate statistical test. The mean weight lost by following diet 1, diet 2, diet 3, and diet 4 was 6.2 pounds, 8.0 pounds, 10.8 pounds, and 8.2 pounds, respectively. The mean weight lost by groups 1, 2, 3, 4, and 5 was 5.25 pounds, 7.25 pounds, 7.25 pounds, 10.25 pounds, and 11.5 pounds, respectively. Use this information and run an appropriate statistical test from principles to infer at 1% significance level whether there are differences among the four diets. What experimental design was used? From your analysis, state if the experimental design was sound.\n",
    "\n",
    "![image.png](attachment:image.png)\n"
   ]
  },
  {
   "cell_type": "code",
   "execution_count": 1,
   "metadata": {
    "ExecuteTime": {
     "end_time": "2019-11-18T00:56:49.247819Z",
     "start_time": "2019-11-18T00:56:49.198Z"
    },
    "scrolled": true
   },
   "outputs": [],
   "source": [
    "x <- data.frame(\"pounds\" = c(5,2,6,8,4,7,8,10,6,12,9,2,7,11,16,7,9,8,15,14), \n",
    "                \"group\" = c(1,1,1,1,2,2,2,2,3,3,3,3,4,4,4,4,5,5,5,5), \"diet\" = c(1,2,3,4,1,2,3,4,1,2,3,4,1,2,3,4,1,2,3,4))\n",
    "pounds<-x$pounds\n",
    "group<-as.factor(x$group)\n",
    "diet<-as.factor(x$diet)"
   ]
  },
  {
   "cell_type": "code",
   "execution_count": 2,
   "metadata": {
    "ExecuteTime": {
     "end_time": "2019-11-18T00:56:51.527887Z",
     "start_time": "2019-11-18T00:56:51.074Z"
    }
   },
   "outputs": [
    {
     "data": {
      "text/plain": [
       "\n",
       "\tAnderson-Darling normality test\n",
       "\n",
       "data:  resids_ex5\n",
       "A = 0.17884, p-value = 0.905\n"
      ]
     },
     "metadata": {},
     "output_type": "display_data"
    },
    {
     "data": {
      "text/plain": [
       "\n",
       "\tFligner-Killeen test of homogeneity of variances\n",
       "\n",
       "data:  pounds by diet\n",
       "Fligner-Killeen:med chi-squared = 1.9144, df = 3, p-value = 0.5904\n"
      ]
     },
     "metadata": {},
     "output_type": "display_data"
    },
    {
     "data": {
      "text/html": [
       "<table>\n",
       "<thead><tr><th></th><th scope=col>Df</th><th scope=col>F value</th><th scope=col>Pr(&gt;F)</th></tr></thead>\n",
       "<tbody>\n",
       "\t<tr><th scope=row>group</th><td> 3       </td><td>0.6227709</td><td>0.610514 </td></tr>\n",
       "\t<tr><th scope=row> </th><td>16       </td><td>       NA</td><td>      NA </td></tr>\n",
       "</tbody>\n",
       "</table>\n"
      ],
      "text/latex": [
       "\\begin{tabular}{r|lll}\n",
       "  & Df & F value & Pr(>F)\\\\\n",
       "\\hline\n",
       "\tgroup &  3        & 0.6227709 & 0.610514 \\\\\n",
       "\t  & 16        &        NA &       NA \\\\\n",
       "\\end{tabular}\n"
      ],
      "text/markdown": [
       "\n",
       "| <!--/--> | Df | F value | Pr(>F) |\n",
       "|---|---|---|---|\n",
       "| group |  3        | 0.6227709 | 0.610514  |\n",
       "|   | 16        |        NA |       NA  |\n",
       "\n"
      ],
      "text/plain": [
       "      Df F value   Pr(>F)  \n",
       "group  3 0.6227709 0.610514\n",
       "      16        NA       NA"
      ]
     },
     "metadata": {},
     "output_type": "display_data"
    },
    {
     "data": {
      "text/plain": [
       "\n",
       "\tFligner-Killeen test of homogeneity of variances\n",
       "\n",
       "data:  pounds by group\n",
       "Fligner-Killeen:med chi-squared = 2.4353, df = 4, p-value = 0.6563\n"
      ]
     },
     "metadata": {},
     "output_type": "display_data"
    },
    {
     "data": {
      "text/html": [
       "<table>\n",
       "<thead><tr><th></th><th scope=col>Df</th><th scope=col>F value</th><th scope=col>Pr(&gt;F)</th></tr></thead>\n",
       "<tbody>\n",
       "\t<tr><th scope=row>group</th><td> 4       </td><td>0.798913 </td><td>0.5443667</td></tr>\n",
       "\t<tr><th scope=row> </th><td>15       </td><td>      NA </td><td>       NA</td></tr>\n",
       "</tbody>\n",
       "</table>\n"
      ],
      "text/latex": [
       "\\begin{tabular}{r|lll}\n",
       "  & Df & F value & Pr(>F)\\\\\n",
       "\\hline\n",
       "\tgroup &  4        & 0.798913  & 0.5443667\\\\\n",
       "\t  & 15        &       NA  &        NA\\\\\n",
       "\\end{tabular}\n"
      ],
      "text/markdown": [
       "\n",
       "| <!--/--> | Df | F value | Pr(>F) |\n",
       "|---|---|---|---|\n",
       "| group |  4        | 0.798913  | 0.5443667 |\n",
       "|   | 15        |       NA  |        NA |\n",
       "\n"
      ],
      "text/plain": [
       "      Df F value  Pr(>F)   \n",
       "group  4 0.798913 0.5443667\n",
       "      15       NA        NA"
      ]
     },
     "metadata": {},
     "output_type": "display_data"
    },
    {
     "data": {
      "text/plain": [
       "            Df Sum Sq Mean Sq F value Pr(>F)\n",
       "group        4  102.2   25.55   2.355  0.113\n",
       "diet         3   53.8   17.93   1.653  0.230\n",
       "Residuals   12  130.2   10.85               "
      ]
     },
     "metadata": {},
     "output_type": "display_data"
    },
    {
     "name": "stdout",
     "output_type": "stream",
     "text": [
      "[1] \"At 1% significant level, there is no difference among these 4 diet.\"\n"
     ]
    }
   ],
   "source": [
    "#########Requirement Test######################\n",
    "#1. Randomly selected sample - Satisfy\n",
    "#2. Normality - Satisfy, because the p-value of the normality test is larger than 0.05\n",
    "model_ex5 <- lm(pounds ~  group+diet)\n",
    "resids_ex5 <- residuals(model_ex5)\n",
    "preds_ex5 <- predict(model_ex5)\n",
    "\n",
    "nortest::ad.test(resids_ex5)\n",
    "\n",
    "#hist(resids_ex41)\n",
    "\n",
    "#qqnorm(resids_ex41)\n",
    "#qqline(resids_ex41)\n",
    "\n",
    "#3. Variances are constant - Satisfy. Although the variances are not equal, with equal sample sizes, \n",
    "#violations of this assumption do not seriously affect inferences\n",
    "fligner.test(pounds ~  diet)\n",
    "car::leveneTest(pounds ~  diet)\n",
    "\n",
    "fligner.test(pounds ~  group)\n",
    "car::leveneTest(pounds ~  group)\n",
    "###########Random Block Design############################\n",
    "#H0: There are not differences among the four diets\n",
    "#H1: At least one diet is different from others\n",
    "ANOVA5 <- aov(pounds ~  group+diet)\n",
    "summary(ANOVA5)\n",
    "\n",
    "########################Conclusion##############################################\n",
    "print('At 1% significant level, there is no difference among these 4 diet.')"
   ]
  },
  {
   "cell_type": "markdown",
   "metadata": {},
   "source": [
    "# (5 points) Question 6\n",
    "A recruiter for a computer company would like to determine whether there are differences in sales ability between business, arts, and science graduates. She takes a random sample of 20 business graduates who have been working for the company for the past 2 years. Each is then matched with an arts graduate and a science graduate with similar educational and working experience. The commission earned by each (in $1,000s) in the last year was recorded. The dataset is available on the CSV file Question6. Use 5% significance level.\n"
   ]
  },
  {
   "cell_type": "code",
   "execution_count": 44,
   "metadata": {
    "ExecuteTime": {
     "end_time": "2019-11-17T23:39:48.551768Z",
     "start_time": "2019-11-17T23:39:48.492Z"
    },
    "collapsed": true
   },
   "outputs": [
    {
     "name": "stderr",
     "output_type": "stream",
     "text": [
      "Warning message in stack.data.frame(Q6):\n",
      "\"non-vector columns will be ignored\""
     ]
    },
    {
     "data": {
      "text/html": [
       "<table>\n",
       "<thead><tr><th scope=col>Commission</th><th scope=col>Major</th><th scope=col>Group</th></tr></thead>\n",
       "<tbody>\n",
       "\t<tr><td>42.8    </td><td>Business</td><td> 1      </td></tr>\n",
       "\t<tr><td>25.9    </td><td>Business</td><td> 2      </td></tr>\n",
       "\t<tr><td>33.1    </td><td>Business</td><td> 3      </td></tr>\n",
       "\t<tr><td>33.5    </td><td>Business</td><td> 4      </td></tr>\n",
       "\t<tr><td>51.7    </td><td>Business</td><td> 5      </td></tr>\n",
       "\t<tr><td>30.2    </td><td>Business</td><td> 6      </td></tr>\n",
       "\t<tr><td>46.3    </td><td>Business</td><td> 7      </td></tr>\n",
       "\t<tr><td>37.7    </td><td>Business</td><td> 8      </td></tr>\n",
       "\t<tr><td>42.8    </td><td>Business</td><td> 9      </td></tr>\n",
       "\t<tr><td>43.7    </td><td>Business</td><td>10      </td></tr>\n",
       "\t<tr><td>47.7    </td><td>Business</td><td>11      </td></tr>\n",
       "\t<tr><td>44.1    </td><td>Business</td><td>12      </td></tr>\n",
       "\t<tr><td>38.9    </td><td>Business</td><td>13      </td></tr>\n",
       "\t<tr><td>41.5    </td><td>Business</td><td>14      </td></tr>\n",
       "\t<tr><td>35.6    </td><td>Business</td><td>15      </td></tr>\n",
       "\t<tr><td>55.3    </td><td>Business</td><td>16      </td></tr>\n",
       "\t<tr><td>37.3    </td><td>Business</td><td>17      </td></tr>\n",
       "\t<tr><td>45.4    </td><td>Business</td><td>18      </td></tr>\n",
       "\t<tr><td>27.8    </td><td>Business</td><td>19      </td></tr>\n",
       "\t<tr><td>38.1    </td><td>Business</td><td>20      </td></tr>\n",
       "\t<tr><td>42.4    </td><td>Arts    </td><td> 1      </td></tr>\n",
       "\t<tr><td>28.0    </td><td>Arts    </td><td> 2      </td></tr>\n",
       "\t<tr><td>34.9    </td><td>Arts    </td><td> 3      </td></tr>\n",
       "\t<tr><td>36.2    </td><td>Arts    </td><td> 4      </td></tr>\n",
       "\t<tr><td>50.9    </td><td>Arts    </td><td> 5      </td></tr>\n",
       "\t<tr><td>25.3    </td><td>Arts    </td><td> 6      </td></tr>\n",
       "\t<tr><td>50.3    </td><td>Arts    </td><td> 7      </td></tr>\n",
       "\t<tr><td>41.7    </td><td>Arts    </td><td> 8      </td></tr>\n",
       "\t<tr><td>43.0    </td><td>Arts    </td><td> 9      </td></tr>\n",
       "\t<tr><td>40.1    </td><td>Arts    </td><td>10      </td></tr>\n",
       "\t<tr><td>47.5    </td><td>Arts    </td><td>11      </td></tr>\n",
       "\t<tr><td>42.9    </td><td>Arts    </td><td>12      </td></tr>\n",
       "\t<tr><td>39.2    </td><td>Arts    </td><td>13      </td></tr>\n",
       "\t<tr><td>43.3    </td><td>Arts    </td><td>14      </td></tr>\n",
       "\t<tr><td>29.6    </td><td>Arts    </td><td>15      </td></tr>\n",
       "\t<tr><td>52.7    </td><td>Arts    </td><td>16      </td></tr>\n",
       "\t<tr><td>31.4    </td><td>Arts    </td><td>17      </td></tr>\n",
       "\t<tr><td>40.8    </td><td>Arts    </td><td>18      </td></tr>\n",
       "\t<tr><td>25.2    </td><td>Arts    </td><td>19      </td></tr>\n",
       "\t<tr><td>34.9    </td><td>Arts    </td><td>20      </td></tr>\n",
       "\t<tr><td>44.4    </td><td>Science </td><td> 1      </td></tr>\n",
       "\t<tr><td>31.0    </td><td>Science </td><td> 2      </td></tr>\n",
       "\t<tr><td>30.0    </td><td>Science </td><td> 3      </td></tr>\n",
       "\t<tr><td>32.9    </td><td>Science </td><td> 4      </td></tr>\n",
       "\t<tr><td>44.7    </td><td>Science </td><td> 5      </td></tr>\n",
       "\t<tr><td>29.8    </td><td>Science </td><td> 6      </td></tr>\n",
       "\t<tr><td>41.3    </td><td>Science </td><td> 7      </td></tr>\n",
       "\t<tr><td>36.2    </td><td>Science </td><td> 8      </td></tr>\n",
       "\t<tr><td>43.4    </td><td>Science </td><td> 9      </td></tr>\n",
       "\t<tr><td>44.5    </td><td>Science </td><td>10      </td></tr>\n",
       "\t<tr><td>45.8    </td><td>Science </td><td>11      </td></tr>\n",
       "\t<tr><td>40.5    </td><td>Science </td><td>12      </td></tr>\n",
       "\t<tr><td>40.8    </td><td>Science </td><td>13      </td></tr>\n",
       "\t<tr><td>41.9    </td><td>Science </td><td>14      </td></tr>\n",
       "\t<tr><td>33.8    </td><td>Science </td><td>15      </td></tr>\n",
       "\t<tr><td>53.2    </td><td>Science </td><td>16      </td></tr>\n",
       "\t<tr><td>36.4    </td><td>Science </td><td>17      </td></tr>\n",
       "\t<tr><td>44.4    </td><td>Science </td><td>18      </td></tr>\n",
       "\t<tr><td>28.0    </td><td>Science </td><td>19      </td></tr>\n",
       "\t<tr><td>41.0    </td><td>Science </td><td>20      </td></tr>\n",
       "</tbody>\n",
       "</table>\n"
      ],
      "text/latex": [
       "\\begin{tabular}{r|lll}\n",
       " Commission & Major & Group\\\\\n",
       "\\hline\n",
       "\t 42.8     & Business &  1      \\\\\n",
       "\t 25.9     & Business &  2      \\\\\n",
       "\t 33.1     & Business &  3      \\\\\n",
       "\t 33.5     & Business &  4      \\\\\n",
       "\t 51.7     & Business &  5      \\\\\n",
       "\t 30.2     & Business &  6      \\\\\n",
       "\t 46.3     & Business &  7      \\\\\n",
       "\t 37.7     & Business &  8      \\\\\n",
       "\t 42.8     & Business &  9      \\\\\n",
       "\t 43.7     & Business & 10      \\\\\n",
       "\t 47.7     & Business & 11      \\\\\n",
       "\t 44.1     & Business & 12      \\\\\n",
       "\t 38.9     & Business & 13      \\\\\n",
       "\t 41.5     & Business & 14      \\\\\n",
       "\t 35.6     & Business & 15      \\\\\n",
       "\t 55.3     & Business & 16      \\\\\n",
       "\t 37.3     & Business & 17      \\\\\n",
       "\t 45.4     & Business & 18      \\\\\n",
       "\t 27.8     & Business & 19      \\\\\n",
       "\t 38.1     & Business & 20      \\\\\n",
       "\t 42.4     & Arts     &  1      \\\\\n",
       "\t 28.0     & Arts     &  2      \\\\\n",
       "\t 34.9     & Arts     &  3      \\\\\n",
       "\t 36.2     & Arts     &  4      \\\\\n",
       "\t 50.9     & Arts     &  5      \\\\\n",
       "\t 25.3     & Arts     &  6      \\\\\n",
       "\t 50.3     & Arts     &  7      \\\\\n",
       "\t 41.7     & Arts     &  8      \\\\\n",
       "\t 43.0     & Arts     &  9      \\\\\n",
       "\t 40.1     & Arts     & 10      \\\\\n",
       "\t 47.5     & Arts     & 11      \\\\\n",
       "\t 42.9     & Arts     & 12      \\\\\n",
       "\t 39.2     & Arts     & 13      \\\\\n",
       "\t 43.3     & Arts     & 14      \\\\\n",
       "\t 29.6     & Arts     & 15      \\\\\n",
       "\t 52.7     & Arts     & 16      \\\\\n",
       "\t 31.4     & Arts     & 17      \\\\\n",
       "\t 40.8     & Arts     & 18      \\\\\n",
       "\t 25.2     & Arts     & 19      \\\\\n",
       "\t 34.9     & Arts     & 20      \\\\\n",
       "\t 44.4     & Science  &  1      \\\\\n",
       "\t 31.0     & Science  &  2      \\\\\n",
       "\t 30.0     & Science  &  3      \\\\\n",
       "\t 32.9     & Science  &  4      \\\\\n",
       "\t 44.7     & Science  &  5      \\\\\n",
       "\t 29.8     & Science  &  6      \\\\\n",
       "\t 41.3     & Science  &  7      \\\\\n",
       "\t 36.2     & Science  &  8      \\\\\n",
       "\t 43.4     & Science  &  9      \\\\\n",
       "\t 44.5     & Science  & 10      \\\\\n",
       "\t 45.8     & Science  & 11      \\\\\n",
       "\t 40.5     & Science  & 12      \\\\\n",
       "\t 40.8     & Science  & 13      \\\\\n",
       "\t 41.9     & Science  & 14      \\\\\n",
       "\t 33.8     & Science  & 15      \\\\\n",
       "\t 53.2     & Science  & 16      \\\\\n",
       "\t 36.4     & Science  & 17      \\\\\n",
       "\t 44.4     & Science  & 18      \\\\\n",
       "\t 28.0     & Science  & 19      \\\\\n",
       "\t 41.0     & Science  & 20      \\\\\n",
       "\\end{tabular}\n"
      ],
      "text/markdown": [
       "\n",
       "| Commission | Major | Group |\n",
       "|---|---|---|\n",
       "| 42.8     | Business |  1       |\n",
       "| 25.9     | Business |  2       |\n",
       "| 33.1     | Business |  3       |\n",
       "| 33.5     | Business |  4       |\n",
       "| 51.7     | Business |  5       |\n",
       "| 30.2     | Business |  6       |\n",
       "| 46.3     | Business |  7       |\n",
       "| 37.7     | Business |  8       |\n",
       "| 42.8     | Business |  9       |\n",
       "| 43.7     | Business | 10       |\n",
       "| 47.7     | Business | 11       |\n",
       "| 44.1     | Business | 12       |\n",
       "| 38.9     | Business | 13       |\n",
       "| 41.5     | Business | 14       |\n",
       "| 35.6     | Business | 15       |\n",
       "| 55.3     | Business | 16       |\n",
       "| 37.3     | Business | 17       |\n",
       "| 45.4     | Business | 18       |\n",
       "| 27.8     | Business | 19       |\n",
       "| 38.1     | Business | 20       |\n",
       "| 42.4     | Arts     |  1       |\n",
       "| 28.0     | Arts     |  2       |\n",
       "| 34.9     | Arts     |  3       |\n",
       "| 36.2     | Arts     |  4       |\n",
       "| 50.9     | Arts     |  5       |\n",
       "| 25.3     | Arts     |  6       |\n",
       "| 50.3     | Arts     |  7       |\n",
       "| 41.7     | Arts     |  8       |\n",
       "| 43.0     | Arts     |  9       |\n",
       "| 40.1     | Arts     | 10       |\n",
       "| 47.5     | Arts     | 11       |\n",
       "| 42.9     | Arts     | 12       |\n",
       "| 39.2     | Arts     | 13       |\n",
       "| 43.3     | Arts     | 14       |\n",
       "| 29.6     | Arts     | 15       |\n",
       "| 52.7     | Arts     | 16       |\n",
       "| 31.4     | Arts     | 17       |\n",
       "| 40.8     | Arts     | 18       |\n",
       "| 25.2     | Arts     | 19       |\n",
       "| 34.9     | Arts     | 20       |\n",
       "| 44.4     | Science  |  1       |\n",
       "| 31.0     | Science  |  2       |\n",
       "| 30.0     | Science  |  3       |\n",
       "| 32.9     | Science  |  4       |\n",
       "| 44.7     | Science  |  5       |\n",
       "| 29.8     | Science  |  6       |\n",
       "| 41.3     | Science  |  7       |\n",
       "| 36.2     | Science  |  8       |\n",
       "| 43.4     | Science  |  9       |\n",
       "| 44.5     | Science  | 10       |\n",
       "| 45.8     | Science  | 11       |\n",
       "| 40.5     | Science  | 12       |\n",
       "| 40.8     | Science  | 13       |\n",
       "| 41.9     | Science  | 14       |\n",
       "| 33.8     | Science  | 15       |\n",
       "| 53.2     | Science  | 16       |\n",
       "| 36.4     | Science  | 17       |\n",
       "| 44.4     | Science  | 18       |\n",
       "| 28.0     | Science  | 19       |\n",
       "| 41.0     | Science  | 20       |\n",
       "\n"
      ],
      "text/plain": [
       "   Commission Major    Group\n",
       "1  42.8       Business  1   \n",
       "2  25.9       Business  2   \n",
       "3  33.1       Business  3   \n",
       "4  33.5       Business  4   \n",
       "5  51.7       Business  5   \n",
       "6  30.2       Business  6   \n",
       "7  46.3       Business  7   \n",
       "8  37.7       Business  8   \n",
       "9  42.8       Business  9   \n",
       "10 43.7       Business 10   \n",
       "11 47.7       Business 11   \n",
       "12 44.1       Business 12   \n",
       "13 38.9       Business 13   \n",
       "14 41.5       Business 14   \n",
       "15 35.6       Business 15   \n",
       "16 55.3       Business 16   \n",
       "17 37.3       Business 17   \n",
       "18 45.4       Business 18   \n",
       "19 27.8       Business 19   \n",
       "20 38.1       Business 20   \n",
       "21 42.4       Arts      1   \n",
       "22 28.0       Arts      2   \n",
       "23 34.9       Arts      3   \n",
       "24 36.2       Arts      4   \n",
       "25 50.9       Arts      5   \n",
       "26 25.3       Arts      6   \n",
       "27 50.3       Arts      7   \n",
       "28 41.7       Arts      8   \n",
       "29 43.0       Arts      9   \n",
       "30 40.1       Arts     10   \n",
       "31 47.5       Arts     11   \n",
       "32 42.9       Arts     12   \n",
       "33 39.2       Arts     13   \n",
       "34 43.3       Arts     14   \n",
       "35 29.6       Arts     15   \n",
       "36 52.7       Arts     16   \n",
       "37 31.4       Arts     17   \n",
       "38 40.8       Arts     18   \n",
       "39 25.2       Arts     19   \n",
       "40 34.9       Arts     20   \n",
       "41 44.4       Science   1   \n",
       "42 31.0       Science   2   \n",
       "43 30.0       Science   3   \n",
       "44 32.9       Science   4   \n",
       "45 44.7       Science   5   \n",
       "46 29.8       Science   6   \n",
       "47 41.3       Science   7   \n",
       "48 36.2       Science   8   \n",
       "49 43.4       Science   9   \n",
       "50 44.5       Science  10   \n",
       "51 45.8       Science  11   \n",
       "52 40.5       Science  12   \n",
       "53 40.8       Science  13   \n",
       "54 41.9       Science  14   \n",
       "55 33.8       Science  15   \n",
       "56 53.2       Science  16   \n",
       "57 36.4       Science  17   \n",
       "58 44.4       Science  18   \n",
       "59 28.0       Science  19   \n",
       "60 41.0       Science  20   "
      ]
     },
     "metadata": {},
     "output_type": "display_data"
    }
   ],
   "source": [
    "setwd(\"D:/BAX441/Homeworks/Homeworks 4 and 5 Combined\")\n",
    "Q6<-read.csv('Question6.csv')\n",
    "Q6$Group<-as.factor(Q6$Group)\n",
    "Q6<-stack(Q6)\n",
    "names(Q6) <- c(\"Commission\", \"Major\")\n",
    "list1<-rep(1:20, times=3)\n",
    "Group<-data.frame(list1)\n",
    "Q6<-cbind(Q6,Group)\n",
    "names(Q6) <- c(\"Commission\", \"Major\",\"Group\")\n",
    "Q6"
   ]
  },
  {
   "cell_type": "markdown",
   "metadata": {},
   "source": [
    "## a.\tIs there sufficient evidence to allow the recruiter to conclude that there are differences in sales ability between the holders of the three types of degrees? "
   ]
  },
  {
   "cell_type": "code",
   "execution_count": 47,
   "metadata": {
    "ExecuteTime": {
     "end_time": "2019-11-17T23:40:15.147586Z",
     "start_time": "2019-11-17T23:40:15.107Z"
    }
   },
   "outputs": [
    {
     "data": {
      "text/plain": [
       "            Df Sum Sq Mean Sq F value Pr(>F)\n",
       "Major        2     10    5.13    0.09  0.914\n",
       "Residuals   57   3247   56.97               "
      ]
     },
     "metadata": {},
     "output_type": "display_data"
    },
    {
     "name": "stdout",
     "output_type": "stream",
     "text": [
      "[1] \"At 5% significant level, there is no difference bwteen the holders of the three types of degrees.\"\n"
     ]
    }
   ],
   "source": [
    "########One-Way ANOVA######################\n",
    "#H0: There is no differences in sales ability between the holders of the three types of degrees\n",
    "#H1: At least one type of degree's holders have different sales ability\n",
    "\n",
    "Group <- factor(Q6$Group)\n",
    "Commission<-Q6$Commission\n",
    "\n",
    "ANOVA61 <- aov(Commission ~  Major)\n",
    "summary(ANOVA61)\n",
    "print('At 5% significant level, there is no difference bwteen the holders of the three types of degrees.')"
   ]
  },
  {
   "cell_type": "markdown",
   "metadata": {},
   "source": [
    "## b.\tConduct a test to assess if any other experimental design would have been a better choice. "
   ]
  },
  {
   "cell_type": "code",
   "execution_count": 48,
   "metadata": {
    "ExecuteTime": {
     "end_time": "2019-11-17T23:40:39.573074Z",
     "start_time": "2019-11-17T23:40:39.540Z"
    }
   },
   "outputs": [
    {
     "data": {
      "text/plain": [
       "            Df Sum Sq Mean Sq F value  Pr(>F)    \n",
       "Group       19 3020.3  158.96   26.64 2.4e-16 ***\n",
       "Major        2   10.3    5.13    0.86   0.431    \n",
       "Residuals   38  226.7    5.97                    \n",
       "---\n",
       "Signif. codes:  0 '***' 0.001 '**' 0.01 '*' 0.05 '.' 0.1 ' ' 1"
      ]
     },
     "metadata": {},
     "output_type": "display_data"
    },
    {
     "name": "stdout",
     "output_type": "stream",
     "text": [
      "[1] \"At 5% significant level, there is no difference bwteen the holders of the three types of degrees.\"\n"
     ]
    }
   ],
   "source": [
    "###########Random Block Design############################\n",
    "#H0: There is no differences in sales ability between the holders of the three types of degrees\n",
    "#H1: At least one type of degree's holders have different sales ability\n",
    "\n",
    "Group <- factor(Q6$Group)\n",
    "Commission<-Q6$Commission\n",
    "Major<-factor(Q6$Major)\n",
    "\n",
    "ANOVA6 <- aov(Commission ~ Group + Major)\n",
    "summary(ANOVA6)\n",
    "\n",
    "print('At 5% significant level, there is no difference bwteen the holders of the three types of degrees.')"
   ]
  },
  {
   "cell_type": "markdown",
   "metadata": {},
   "source": [
    "## c.\tWhat are the required conditions for the test in Part a? Are the required conditions satisfied?"
   ]
  },
  {
   "cell_type": "markdown",
   "metadata": {},
   "source": [
    "1. Normality - Satisfy\n",
    "2. Independence - Satisfy\n",
    "3. Homogeneity of Variances - Satisfy"
   ]
  },
  {
   "cell_type": "code",
   "execution_count": 36,
   "metadata": {
    "ExecuteTime": {
     "end_time": "2019-11-14T04:03:33.281683Z",
     "start_time": "2019-11-14T04:03:33.247Z"
    }
   },
   "outputs": [
    {
     "data": {
      "text/plain": [
       "\n",
       "\tAnderson-Darling normality test\n",
       "\n",
       "data:  resids_ex6\n",
       "A = 0.23463, p-value = 0.7838\n"
      ]
     },
     "metadata": {},
     "output_type": "display_data"
    },
    {
     "name": "stdout",
     "output_type": "stream",
     "text": [
      "[1] \"This is a normal distribution\"\n"
     ]
    }
   ],
   "source": [
    "#Test normality\n",
    "model_ex6 <- lm(Commission ~ Group + Major)\n",
    "resids_ex6 <- residuals(model_ex6)\n",
    "preds_ex6 <- predict(model_ex6)\n",
    "\n",
    "nortest::ad.test(resids_ex6)\n",
    "\n",
    "#hist(resids_ex6)\n",
    "\n",
    "#qqnorm(resids_ex6)\n",
    "#qqline(resids_ex6)\n",
    "\n",
    "print(\"This is a normal distribution\")"
   ]
  },
  {
   "cell_type": "code",
   "execution_count": 37,
   "metadata": {
    "ExecuteTime": {
     "end_time": "2019-11-14T04:03:36.151114Z",
     "start_time": "2019-11-14T04:03:36.072Z"
    },
    "scrolled": false
   },
   "outputs": [
    {
     "data": {
      "text/html": [
       "<table>\n",
       "<thead><tr><th></th><th scope=col>Df</th><th scope=col>F value</th><th scope=col>Pr(&gt;F)</th></tr></thead>\n",
       "<tbody>\n",
       "\t<tr><th scope=row>group</th><td> 2       </td><td>0.4145875</td><td>0.6625886</td></tr>\n",
       "\t<tr><th scope=row> </th><td>57       </td><td>       NA</td><td>       NA</td></tr>\n",
       "</tbody>\n",
       "</table>\n"
      ],
      "text/latex": [
       "\\begin{tabular}{r|lll}\n",
       "  & Df & F value & Pr(>F)\\\\\n",
       "\\hline\n",
       "\tgroup &  2        & 0.4145875 & 0.6625886\\\\\n",
       "\t  & 57        &        NA &        NA\\\\\n",
       "\\end{tabular}\n"
      ],
      "text/markdown": [
       "\n",
       "| <!--/--> | Df | F value | Pr(>F) |\n",
       "|---|---|---|---|\n",
       "| group |  2        | 0.4145875 | 0.6625886 |\n",
       "|   | 57        |        NA |        NA |\n",
       "\n"
      ],
      "text/plain": [
       "      Df F value   Pr(>F)   \n",
       "group  2 0.4145875 0.6625886\n",
       "      57        NA        NA"
      ]
     },
     "metadata": {},
     "output_type": "display_data"
    },
    {
     "data": {
      "text/html": [
       "<table>\n",
       "<thead><tr><th></th><th scope=col>Df</th><th scope=col>F value</th><th scope=col>Pr(&gt;F)</th></tr></thead>\n",
       "<tbody>\n",
       "\t<tr><th scope=row>group</th><td>19       </td><td>0.4560112</td><td>0.9658094</td></tr>\n",
       "\t<tr><th scope=row> </th><td>40       </td><td>       NA</td><td>       NA</td></tr>\n",
       "</tbody>\n",
       "</table>\n"
      ],
      "text/latex": [
       "\\begin{tabular}{r|lll}\n",
       "  & Df & F value & Pr(>F)\\\\\n",
       "\\hline\n",
       "\tgroup & 19        & 0.4560112 & 0.9658094\\\\\n",
       "\t  & 40        &        NA &        NA\\\\\n",
       "\\end{tabular}\n"
      ],
      "text/markdown": [
       "\n",
       "| <!--/--> | Df | F value | Pr(>F) |\n",
       "|---|---|---|---|\n",
       "| group | 19        | 0.4560112 | 0.9658094 |\n",
       "|   | 40        |        NA |        NA |\n",
       "\n"
      ],
      "text/plain": [
       "      Df F value   Pr(>F)   \n",
       "group 19 0.4560112 0.9658094\n",
       "      40        NA        NA"
      ]
     },
     "metadata": {},
     "output_type": "display_data"
    },
    {
     "name": "stdout",
     "output_type": "stream",
     "text": [
      "[1] \"Satisfy the homogeneity of variances\"\n"
     ]
    },
    {
     "data": {
      "image/png": "[encoded data removed]",
      "text/plain": [
       "plot without title"
      ]
     },
     "metadata": {},
     "output_type": "display_data"
    }
   ],
   "source": [
    "#Test Homogeneity of Variances\n",
    "car::leveneTest(Commission ~  Major)\n",
    "car::leveneTest(Commission ~  Group)\n",
    "\n",
    "plot(fitted(model_ex6), residuals(model_ex6))\n",
    "print('Satisfy the homogeneity of variances')"
   ]
  },
  {
   "cell_type": "markdown",
   "metadata": {},
   "source": [
    "# (5 points) Question 7\n",
    "\n",
    "Statistical techniques are used to determine auto insurance premiums. The premiums are proportional to the risks and costs of accidents. AutoState, a leading insurance agency in the United States, hired an analyst to conduct a study that looked at miles driven in the previous year, ages of the drivers, and their gender. The age categories are 16-19, 20-34, 35-54, 55-64, and 65+. The dataset is provided on the CSV file Question7. Conduct an appropriate statistical test at 5% significance level to determine if we have enough evidence to conclude that males and female drivers differ in the number of miles they drive. Can we infer that there are differences between the age categories in the number of miles they drive? What other analysis can you perform to generate additional insights for statistical inference?\n"
   ]
  },
  {
   "cell_type": "code",
   "execution_count": 1,
   "metadata": {
    "ExecuteTime": {
     "end_time": "2019-11-14T21:10:02.824295Z",
     "start_time": "2019-11-14T21:10:01.687Z"
    },
    "collapsed": true
   },
   "outputs": [
    {
     "name": "stderr",
     "output_type": "stream",
     "text": [
      "\n",
      "Attaching package: 'dplyr'\n",
      "\n",
      "The following objects are masked from 'package:stats':\n",
      "\n",
      "    filter, lag\n",
      "\n",
      "The following objects are masked from 'package:base':\n",
      "\n",
      "    intersect, setdiff, setequal, union\n",
      "\n",
      "Registered S3 methods overwritten by 'ggplot2':\n",
      "  method         from \n",
      "  [.quosures     rlang\n",
      "  c.quosures     rlang\n",
      "  print.quosures rlang\n",
      "Registered S3 method overwritten by 'rvest':\n",
      "  method            from\n",
      "  read_xml.response xml2\n",
      "-- Attaching packages --------------------------------------- tidyverse 1.2.1 --\n",
      "v ggplot2 3.1.1     v readr   1.3.1\n",
      "v tibble  2.1.1     v purrr   0.3.2\n",
      "v tidyr   0.8.3     v stringr 1.4.0\n",
      "v ggplot2 3.1.1     v forcats 0.4.0\n",
      "-- Conflicts ------------------------------------------ tidyverse_conflicts() --\n",
      "x dplyr::filter() masks stats::filter()\n",
      "x dplyr::lag()    masks stats::lag()\n"
     ]
    }
   ],
   "source": [
    "library(dplyr)\n",
    "library(tidyverse)"
   ]
  },
  {
   "cell_type": "code",
   "execution_count": 24,
   "metadata": {
    "ExecuteTime": {
     "end_time": "2019-11-14T21:53:15.141634Z",
     "start_time": "2019-11-14T21:53:15.079Z"
    },
    "collapsed": true
   },
   "outputs": [
    {
     "name": "stderr",
     "output_type": "stream",
     "text": [
      "Warning message in stack.data.frame(df1):\n",
      "\"non-vector columns will be ignored\"Warning message in stack.data.frame(df2):\n",
      "\"non-vector columns will be ignored\""
     ]
    },
    {
     "data": {
      "text/html": [
       "<table>\n",
       "<thead><tr><th scope=col>miles</th><th scope=col>age</th><th scope=col>gender</th></tr></thead>\n",
       "<tbody>\n",
       "\t<tr><td> 7707</td><td>1    </td><td>male </td></tr>\n",
       "\t<tr><td> 7916</td><td>1    </td><td>male </td></tr>\n",
       "\t<tr><td> 7859</td><td>1    </td><td>male </td></tr>\n",
       "\t<tr><td> 6908</td><td>1    </td><td>male </td></tr>\n",
       "\t<tr><td> 8733</td><td>1    </td><td>male </td></tr>\n",
       "\t<tr><td> 8601</td><td>1    </td><td>male </td></tr>\n",
       "\t<tr><td> 9083</td><td>1    </td><td>male </td></tr>\n",
       "\t<tr><td> 8387</td><td>1    </td><td>male </td></tr>\n",
       "\t<tr><td> 8007</td><td>1    </td><td>male </td></tr>\n",
       "\t<tr><td> 5875</td><td>1    </td><td>male </td></tr>\n",
       "\t<tr><td> 7815</td><td>1    </td><td>male </td></tr>\n",
       "\t<tr><td> 7734</td><td>1    </td><td>male </td></tr>\n",
       "\t<tr><td> 7616</td><td>1    </td><td>male </td></tr>\n",
       "\t<tr><td> 8404</td><td>1    </td><td>male </td></tr>\n",
       "\t<tr><td> 9675</td><td>1    </td><td>male </td></tr>\n",
       "\t<tr><td> 8023</td><td>1    </td><td>male </td></tr>\n",
       "\t<tr><td> 6569</td><td>1    </td><td>male </td></tr>\n",
       "\t<tr><td> 9718</td><td>1    </td><td>male </td></tr>\n",
       "\t<tr><td> 9378</td><td>1    </td><td>male </td></tr>\n",
       "\t<tr><td>10105</td><td>1    </td><td>male </td></tr>\n",
       "\t<tr><td>18361</td><td>2    </td><td>male </td></tr>\n",
       "\t<tr><td>17179</td><td>2    </td><td>male </td></tr>\n",
       "\t<tr><td>20785</td><td>2    </td><td>male </td></tr>\n",
       "\t<tr><td>19566</td><td>2    </td><td>male </td></tr>\n",
       "\t<tr><td>20044</td><td>2    </td><td>male </td></tr>\n",
       "\t<tr><td>15740</td><td>2    </td><td>male </td></tr>\n",
       "\t<tr><td>17938</td><td>2    </td><td>male </td></tr>\n",
       "\t<tr><td>14010</td><td>2    </td><td>male </td></tr>\n",
       "\t<tr><td>19379</td><td>2    </td><td>male </td></tr>\n",
       "\t<tr><td>20001</td><td>2    </td><td>male </td></tr>\n",
       "\t<tr><td>...</td><td>...</td><td>...</td></tr>\n",
       "\t<tr><td> 3652 </td><td>4     </td><td>female</td></tr>\n",
       "\t<tr><td> 9748 </td><td>4     </td><td>female</td></tr>\n",
       "\t<tr><td> 6589 </td><td>4     </td><td>female</td></tr>\n",
       "\t<tr><td>10983 </td><td>4     </td><td>female</td></tr>\n",
       "\t<tr><td> 9791 </td><td>4     </td><td>female</td></tr>\n",
       "\t<tr><td> 8327 </td><td>4     </td><td>female</td></tr>\n",
       "\t<tr><td> 5620 </td><td>4     </td><td>female</td></tr>\n",
       "\t<tr><td> 6438 </td><td>4     </td><td>female</td></tr>\n",
       "\t<tr><td> 8242 </td><td>4     </td><td>female</td></tr>\n",
       "\t<tr><td> 9207 </td><td>4     </td><td>female</td></tr>\n",
       "\t<tr><td> 5887 </td><td>5     </td><td>female</td></tr>\n",
       "\t<tr><td> 6588 </td><td>5     </td><td>female</td></tr>\n",
       "\t<tr><td> 3729 </td><td>5     </td><td>female</td></tr>\n",
       "\t<tr><td> 3229 </td><td>5     </td><td>female</td></tr>\n",
       "\t<tr><td> 4201 </td><td>5     </td><td>female</td></tr>\n",
       "\t<tr><td> 7004 </td><td>5     </td><td>female</td></tr>\n",
       "\t<tr><td> 2940 </td><td>5     </td><td>female</td></tr>\n",
       "\t<tr><td> 3820 </td><td>5     </td><td>female</td></tr>\n",
       "\t<tr><td> 4892 </td><td>5     </td><td>female</td></tr>\n",
       "\t<tr><td> 5724 </td><td>5     </td><td>female</td></tr>\n",
       "\t<tr><td> 4199 </td><td>5     </td><td>female</td></tr>\n",
       "\t<tr><td> 3276 </td><td>5     </td><td>female</td></tr>\n",
       "\t<tr><td> 3502 </td><td>5     </td><td>female</td></tr>\n",
       "\t<tr><td> 4797 </td><td>5     </td><td>female</td></tr>\n",
       "\t<tr><td> 4396 </td><td>5     </td><td>female</td></tr>\n",
       "\t<tr><td> 5016 </td><td>5     </td><td>female</td></tr>\n",
       "\t<tr><td> 6382 </td><td>5     </td><td>female</td></tr>\n",
       "\t<tr><td> 4665 </td><td>5     </td><td>female</td></tr>\n",
       "\t<tr><td> 5619 </td><td>5     </td><td>female</td></tr>\n",
       "\t<tr><td> 5824 </td><td>5     </td><td>female</td></tr>\n",
       "</tbody>\n",
       "</table>\n"
      ],
      "text/latex": [
       "\\begin{tabular}{r|lll}\n",
       " miles & age & gender\\\\\n",
       "\\hline\n",
       "\t  7707 & 1     & male \\\\\n",
       "\t  7916 & 1     & male \\\\\n",
       "\t  7859 & 1     & male \\\\\n",
       "\t  6908 & 1     & male \\\\\n",
       "\t  8733 & 1     & male \\\\\n",
       "\t  8601 & 1     & male \\\\\n",
       "\t  9083 & 1     & male \\\\\n",
       "\t  8387 & 1     & male \\\\\n",
       "\t  8007 & 1     & male \\\\\n",
       "\t  5875 & 1     & male \\\\\n",
       "\t  7815 & 1     & male \\\\\n",
       "\t  7734 & 1     & male \\\\\n",
       "\t  7616 & 1     & male \\\\\n",
       "\t  8404 & 1     & male \\\\\n",
       "\t  9675 & 1     & male \\\\\n",
       "\t  8023 & 1     & male \\\\\n",
       "\t  6569 & 1     & male \\\\\n",
       "\t  9718 & 1     & male \\\\\n",
       "\t  9378 & 1     & male \\\\\n",
       "\t 10105 & 1     & male \\\\\n",
       "\t 18361 & 2     & male \\\\\n",
       "\t 17179 & 2     & male \\\\\n",
       "\t 20785 & 2     & male \\\\\n",
       "\t 19566 & 2     & male \\\\\n",
       "\t 20044 & 2     & male \\\\\n",
       "\t 15740 & 2     & male \\\\\n",
       "\t 17938 & 2     & male \\\\\n",
       "\t 14010 & 2     & male \\\\\n",
       "\t 19379 & 2     & male \\\\\n",
       "\t 20001 & 2     & male \\\\\n",
       "\t ... & ... & ...\\\\\n",
       "\t  3652  & 4      & female\\\\\n",
       "\t  9748  & 4      & female\\\\\n",
       "\t  6589  & 4      & female\\\\\n",
       "\t 10983  & 4      & female\\\\\n",
       "\t  9791  & 4      & female\\\\\n",
       "\t  8327  & 4      & female\\\\\n",
       "\t  5620  & 4      & female\\\\\n",
       "\t  6438  & 4      & female\\\\\n",
       "\t  8242  & 4      & female\\\\\n",
       "\t  9207  & 4      & female\\\\\n",
       "\t  5887  & 5      & female\\\\\n",
       "\t  6588  & 5      & female\\\\\n",
       "\t  3729  & 5      & female\\\\\n",
       "\t  3229  & 5      & female\\\\\n",
       "\t  4201  & 5      & female\\\\\n",
       "\t  7004  & 5      & female\\\\\n",
       "\t  2940  & 5      & female\\\\\n",
       "\t  3820  & 5      & female\\\\\n",
       "\t  4892  & 5      & female\\\\\n",
       "\t  5724  & 5      & female\\\\\n",
       "\t  4199  & 5      & female\\\\\n",
       "\t  3276  & 5      & female\\\\\n",
       "\t  3502  & 5      & female\\\\\n",
       "\t  4797  & 5      & female\\\\\n",
       "\t  4396  & 5      & female\\\\\n",
       "\t  5016  & 5      & female\\\\\n",
       "\t  6382  & 5      & female\\\\\n",
       "\t  4665  & 5      & female\\\\\n",
       "\t  5619  & 5      & female\\\\\n",
       "\t  5824  & 5      & female\\\\\n",
       "\\end{tabular}\n"
      ],
      "text/markdown": [
       "\n",
       "| miles | age | gender |\n",
       "|---|---|---|\n",
       "|  7707 | 1     | male  |\n",
       "|  7916 | 1     | male  |\n",
       "|  7859 | 1     | male  |\n",
       "|  6908 | 1     | male  |\n",
       "|  8733 | 1     | male  |\n",
       "|  8601 | 1     | male  |\n",
       "|  9083 | 1     | male  |\n",
       "|  8387 | 1     | male  |\n",
       "|  8007 | 1     | male  |\n",
       "|  5875 | 1     | male  |\n",
       "|  7815 | 1     | male  |\n",
       "|  7734 | 1     | male  |\n",
       "|  7616 | 1     | male  |\n",
       "|  8404 | 1     | male  |\n",
       "|  9675 | 1     | male  |\n",
       "|  8023 | 1     | male  |\n",
       "|  6569 | 1     | male  |\n",
       "|  9718 | 1     | male  |\n",
       "|  9378 | 1     | male  |\n",
       "| 10105 | 1     | male  |\n",
       "| 18361 | 2     | male  |\n",
       "| 17179 | 2     | male  |\n",
       "| 20785 | 2     | male  |\n",
       "| 19566 | 2     | male  |\n",
       "| 20044 | 2     | male  |\n",
       "| 15740 | 2     | male  |\n",
       "| 17938 | 2     | male  |\n",
       "| 14010 | 2     | male  |\n",
       "| 19379 | 2     | male  |\n",
       "| 20001 | 2     | male  |\n",
       "| ... | ... | ... |\n",
       "|  3652  | 4      | female |\n",
       "|  9748  | 4      | female |\n",
       "|  6589  | 4      | female |\n",
       "| 10983  | 4      | female |\n",
       "|  9791  | 4      | female |\n",
       "|  8327  | 4      | female |\n",
       "|  5620  | 4      | female |\n",
       "|  6438  | 4      | female |\n",
       "|  8242  | 4      | female |\n",
       "|  9207  | 4      | female |\n",
       "|  5887  | 5      | female |\n",
       "|  6588  | 5      | female |\n",
       "|  3729  | 5      | female |\n",
       "|  3229  | 5      | female |\n",
       "|  4201  | 5      | female |\n",
       "|  7004  | 5      | female |\n",
       "|  2940  | 5      | female |\n",
       "|  3820  | 5      | female |\n",
       "|  4892  | 5      | female |\n",
       "|  5724  | 5      | female |\n",
       "|  4199  | 5      | female |\n",
       "|  3276  | 5      | female |\n",
       "|  3502  | 5      | female |\n",
       "|  4797  | 5      | female |\n",
       "|  4396  | 5      | female |\n",
       "|  5016  | 5      | female |\n",
       "|  6382  | 5      | female |\n",
       "|  4665  | 5      | female |\n",
       "|  5619  | 5      | female |\n",
       "|  5824  | 5      | female |\n",
       "\n"
      ],
      "text/plain": [
       "    miles age gender\n",
       "1    7707 1   male  \n",
       "2    7916 1   male  \n",
       "3    7859 1   male  \n",
       "4    6908 1   male  \n",
       "5    8733 1   male  \n",
       "6    8601 1   male  \n",
       "7    9083 1   male  \n",
       "8    8387 1   male  \n",
       "9    8007 1   male  \n",
       "10   5875 1   male  \n",
       "11   7815 1   male  \n",
       "12   7734 1   male  \n",
       "13   7616 1   male  \n",
       "14   8404 1   male  \n",
       "15   9675 1   male  \n",
       "16   8023 1   male  \n",
       "17   6569 1   male  \n",
       "18   9718 1   male  \n",
       "19   9378 1   male  \n",
       "20  10105 1   male  \n",
       "21  18361 2   male  \n",
       "22  17179 2   male  \n",
       "23  20785 2   male  \n",
       "24  19566 2   male  \n",
       "25  20044 2   male  \n",
       "26  15740 2   male  \n",
       "27  17938 2   male  \n",
       "28  14010 2   male  \n",
       "29  19379 2   male  \n",
       "30  20001 2   male  \n",
       "... ...   ... ...   \n",
       "171  3652 4   female\n",
       "172  9748 4   female\n",
       "173  6589 4   female\n",
       "174 10983 4   female\n",
       "175  9791 4   female\n",
       "176  8327 4   female\n",
       "177  5620 4   female\n",
       "178  6438 4   female\n",
       "179  8242 4   female\n",
       "180  9207 4   female\n",
       "181  5887 5   female\n",
       "182  6588 5   female\n",
       "183  3729 5   female\n",
       "184  3229 5   female\n",
       "185  4201 5   female\n",
       "186  7004 5   female\n",
       "187  2940 5   female\n",
       "188  3820 5   female\n",
       "189  4892 5   female\n",
       "190  5724 5   female\n",
       "191  4199 5   female\n",
       "192  3276 5   female\n",
       "193  3502 5   female\n",
       "194  4797 5   female\n",
       "195  4396 5   female\n",
       "196  5016 5   female\n",
       "197  6382 5   female\n",
       "198  4665 5   female\n",
       "199  5619 5   female\n",
       "200  5824 5   female"
      ]
     },
     "metadata": {},
     "output_type": "display_data"
    }
   ],
   "source": [
    "setwd(\"D:/BAX441/Homeworks/Homeworks 4 and 5 Combined\")\n",
    "Q7<-read.csv('Question7.csv')\n",
    "Q7<-as.data.frame(Q7)\n",
    "names(Q7) <- c(\"Gender\", \"age1\",'age2','age3','age4','age5')\n",
    "df1<-Q7[Q7[, \"Gender\"] == 'Males',]\n",
    "colnames(df1)<-c('Gender','1','2','3','4','5')\n",
    "df1<-stack(df1)\n",
    "df1$gender<-'male'\n",
    "\n",
    "df2<-Q7[Q7[, \"Gender\"] == 'Females',]\n",
    "colnames(df2)<-c('Gender','1','2','3','4','5')\n",
    "df2<-stack(df2)\n",
    "df2$gender<-'female'\n",
    "df<-rbind(df1, df2)\n",
    "colnames(df)<-c('miles','age','gender')\n",
    "df\n"
   ]
  },
  {
   "cell_type": "code",
   "execution_count": 26,
   "metadata": {
    "ExecuteTime": {
     "end_time": "2019-11-14T21:58:42.815905Z",
     "start_time": "2019-11-14T21:58:42.750Z"
    }
   },
   "outputs": [
    {
     "data": {
      "text/plain": [
       "\n",
       "\tAnderson-Darling normality test\n",
       "\n",
       "data:  resids_ex7\n",
       "A = 1.3937, p-value = 0.001285\n"
      ]
     },
     "metadata": {},
     "output_type": "display_data"
    },
    {
     "data": {
      "text/plain": [
       "\n",
       "\tShapiro-Wilk normality test\n",
       "\n",
       "data:  resids_ex7\n",
       "W = 0.97747, p-value = 0.00264\n"
      ]
     },
     "metadata": {},
     "output_type": "display_data"
    },
    {
     "data": {
      "text/html": [
       "<table>\n",
       "<thead><tr><th></th><th scope=col>Df</th><th scope=col>F value</th><th scope=col>Pr(&gt;F)</th></tr></thead>\n",
       "<tbody>\n",
       "\t<tr><th scope=row>group</th><td>  1         </td><td>22.58946    </td><td>3.850781e-06</td></tr>\n",
       "\t<tr><th scope=row> </th><td>198         </td><td>      NA    </td><td>          NA</td></tr>\n",
       "</tbody>\n",
       "</table>\n"
      ],
      "text/latex": [
       "\\begin{tabular}{r|lll}\n",
       "  & Df & F value & Pr(>F)\\\\\n",
       "\\hline\n",
       "\tgroup &   1          & 22.58946     & 3.850781e-06\\\\\n",
       "\t  & 198          &       NA     &           NA\\\\\n",
       "\\end{tabular}\n"
      ],
      "text/markdown": [
       "\n",
       "| <!--/--> | Df | F value | Pr(>F) |\n",
       "|---|---|---|---|\n",
       "| group |   1          | 22.58946     | 3.850781e-06 |\n",
       "|   | 198          |       NA     |           NA |\n",
       "\n"
      ],
      "text/plain": [
       "      Df  F value  Pr(>F)      \n",
       "group   1 22.58946 3.850781e-06\n",
       "      198       NA           NA"
      ]
     },
     "metadata": {},
     "output_type": "display_data"
    },
    {
     "data": {
      "text/plain": [
       "\n",
       "\tKruskal-Wallis rank sum test\n",
       "\n",
       "data:  miles by gender\n",
       "Kruskal-Wallis chi-squared = 60.259, df = 1, p-value = 8.318e-15\n"
      ]
     },
     "metadata": {},
     "output_type": "display_data"
    }
   ],
   "source": [
    "#GENDER\n",
    "############Requirement Test###########################\n",
    "df_test<-df\n",
    "df_test$agegender <- paste(df$age, df$gender, sep=\"_\")\n",
    "\n",
    "gender<-as.factor(df$gender)\n",
    "age<-as.factor(df$age)\n",
    "miles<-as.numeric(df$miles)\n",
    "agegender<-factor(df_test$agegender)\n",
    "#1. Normality - Unisatisfy, because the p-value is smaller than 0.05\n",
    "model_ex7 <- lm(miles ~ gender)\n",
    "resids_ex7 <- residuals(model_ex7)\n",
    "preds_ex7 <- predict(model_ex7)\n",
    "nortest::ad.test(resids_ex7)\n",
    "shapiro.test(resids_ex7)\n",
    "#2. Constant Variance - Unsatisfy, because the p-value is smaller than 0.05\n",
    "car::leveneTest(miles ~  gender)\n",
    "#3. Independent - Satisfy\n",
    "\n",
    "########Kruskal-Wallis Test##########################\n",
    "#H0: There is not difference between males and female in the number of miles they drive\n",
    "#H1: There is difference between males and female in the number of miles they drive\n",
    "\n",
    "kruskal.test(miles ~  gender)\n",
    "\n",
    "############Conclusion###########################\n",
    "#At 5% significance level, there is enough evidence to conclude that\n",
    "#males and female drivers differ in the number of miles they drive. \n"
   ]
  },
  {
   "cell_type": "code",
   "execution_count": 30,
   "metadata": {
    "ExecuteTime": {
     "end_time": "2019-11-14T22:03:17.527872Z",
     "start_time": "2019-11-14T22:03:17.478Z"
    }
   },
   "outputs": [
    {
     "data": {
      "text/plain": [
       "\n",
       "\tAnderson-Darling normality test\n",
       "\n",
       "data:  resids_ex7\n",
       "A = 0.54848, p-value = 0.1562\n"
      ]
     },
     "metadata": {},
     "output_type": "display_data"
    },
    {
     "data": {
      "text/plain": [
       "\n",
       "\tShapiro-Wilk normality test\n",
       "\n",
       "data:  resids_ex7\n",
       "W = 0.99264, p-value = 0.4143\n"
      ]
     },
     "metadata": {},
     "output_type": "display_data"
    },
    {
     "data": {
      "text/html": [
       "<table>\n",
       "<thead><tr><th></th><th scope=col>Df</th><th scope=col>F value</th><th scope=col>Pr(&gt;F)</th></tr></thead>\n",
       "<tbody>\n",
       "\t<tr><th scope=row>group</th><td>  4         </td><td>13.07112    </td><td>1.889869e-09</td></tr>\n",
       "\t<tr><th scope=row> </th><td>195         </td><td>      NA    </td><td>          NA</td></tr>\n",
       "</tbody>\n",
       "</table>\n"
      ],
      "text/latex": [
       "\\begin{tabular}{r|lll}\n",
       "  & Df & F value & Pr(>F)\\\\\n",
       "\\hline\n",
       "\tgroup &   4          & 13.07112     & 1.889869e-09\\\\\n",
       "\t  & 195          &       NA     &           NA\\\\\n",
       "\\end{tabular}\n"
      ],
      "text/markdown": [
       "\n",
       "| <!--/--> | Df | F value | Pr(>F) |\n",
       "|---|---|---|---|\n",
       "| group |   4          | 13.07112     | 1.889869e-09 |\n",
       "|   | 195          |       NA     |           NA |\n",
       "\n"
      ],
      "text/plain": [
       "      Df  F value  Pr(>F)      \n",
       "group   4 13.07112 1.889869e-09\n",
       "      195       NA           NA"
      ]
     },
     "metadata": {},
     "output_type": "display_data"
    },
    {
     "data": {
      "text/plain": [
       "\n",
       "\tOne-way analysis of means (not assuming equal variances)\n",
       "\n",
       "data:  miles and age\n",
       "F = 56.85, num df = 4.000, denom df = 90.827, p-value < 2.2e-16\n"
      ]
     },
     "metadata": {},
     "output_type": "display_data"
    }
   ],
   "source": [
    "#AGE\n",
    "############Requirement Test###########################\n",
    "df_test<-df\n",
    "df_test$agegender <- paste(df$age, df$gender, sep=\"_\")\n",
    "\n",
    "gender<-as.factor(df$gender)\n",
    "age<-as.factor(df$age)\n",
    "miles<-as.numeric(df$miles)\n",
    "agegender<-factor(df_test$agegender)\n",
    "#1. Normality - Satisfy, because the p-value is smaller than 0.05\n",
    "model_ex7 <- lm(miles ~ age)\n",
    "resids_ex7 <- residuals(model_ex7)\n",
    "preds_ex7 <- predict(model_ex7)\n",
    "nortest::ad.test(resids_ex7)\n",
    "shapiro.test(resids_ex7)\n",
    "#2. Constant Variance - Unsatisfy, because the p-value is smaller than 0.05\n",
    "car::leveneTest(miles ~  age)\n",
    "#3. Independent - Satisfy\n",
    "\n",
    "########Welch's test##########################\n",
    "#H0: There is not difference among ages in the number of miles they drive\n",
    "#H1: There is difference among ages in the number of miles they drive\n",
    "\n",
    "oneway.test(miles ~ age, var.equal = FALSE)\n",
    "\n",
    "###########Conclusion###########################\n",
    "#At 5% significance level, there is enough evidence to say that there are differences \n",
    "#between the age categories in the number of miles they drive."
   ]
  },
  {
   "cell_type": "code",
   "execution_count": 34,
   "metadata": {
    "ExecuteTime": {
     "end_time": "2019-11-14T22:04:49.327096Z",
     "start_time": "2019-11-14T22:04:49.251Z"
    }
   },
   "outputs": [
    {
     "data": {
      "text/plain": [
       "   n means variances\n",
       "1 40  7539   2.2e+06\n",
       "2 40 14989   1.5e+07\n",
       "3 40 15160   2.1e+07\n",
       "4 40 11819   2.2e+07\n",
       "5 40  7544   9.9e+06\n",
       "\n",
       "       diff  ci.lo ci.hi       t df    p\n",
       "2-1  7450.4   5620  9281 11.5123 51 <.01\n",
       "3-1  7621.4   5463  9779 10.0151 47 <.01\n",
       "4-1  4280.3   2066  6495  5.4828 47 <.01\n",
       "5-1     5.2  -1548  1559  0.0094 56    1\n",
       "3-2   171.0  -2460  2802  0.1816 76    1\n",
       "4-2 -3170.1  -5846  -494  3.3114 75  .01\n",
       "5-2 -7445.2  -9630 -5261  9.5264 75 <.01\n",
       "4-3 -3341.1  -6239  -443  3.2198 78  .02\n",
       "5-3 -7616.2 -10076 -5157  8.6734 69 <.01\n",
       "5-4 -4275.1  -6784 -1766  4.7755 68 <.01"
      ]
     },
     "metadata": {},
     "output_type": "display_data"
    },
    {
     "data": {
      "text/plain": [
       "         n means variances\n",
       "female 100  8581   1.1e+07\n",
       "male   100 14240   2.3e+07\n",
       "\n",
       "            diff ci.lo ci.hi   t  df    p\n",
       "male-female 5659  4503  6815 9.7 177 <.01"
      ]
     },
     "metadata": {},
     "output_type": "display_data"
    }
   ],
   "source": [
    "######More Insight#############################\n",
    "#install.packages(\"userfriendlyscience\")\n",
    "library(userfriendlyscience)\n",
    "\n",
    "posthocTGH(miles, age, method = \"games-howell\")\n",
    "posthocTGH(miles, gender, method = \"games-howell\")\n"
   ]
  },
  {
   "cell_type": "code",
   "execution_count": 127,
   "metadata": {
    "ExecuteTime": {
     "end_time": "2019-11-15T03:20:10.682802Z",
     "start_time": "2019-11-15T03:20:10.567Z"
    },
    "scrolled": true
   },
   "outputs": [
    {
     "data": {
      "text/plain": [
       "             Df    Sum Sq   Mean Sq F value   Pr(>F)    \n",
       "gender        1 1.601e+09 1.601e+09  361.57  < 2e-16 ***\n",
       "age           4 2.279e+09 5.697e+08  128.64  < 2e-16 ***\n",
       "gender:age    4 2.769e+08 6.923e+07   15.63 4.49e-11 ***\n",
       "Residuals   190 8.415e+08 4.429e+06                     \n",
       "---\n",
       "Signif. codes:  0 '***' 0.001 '**' 0.01 '*' 0.05 '.' 0.1 ' ' 1"
      ]
     },
     "metadata": {},
     "output_type": "display_data"
    },
    {
     "data": {
      "text/plain": [
       "\n",
       "\tAnderson-Darling normality test\n",
       "\n",
       "data:  residuals_Ex7\n",
       "A = 0.49791, p-value = 0.2089\n"
      ]
     },
     "metadata": {},
     "output_type": "display_data"
    },
    {
     "data": {
      "text/plain": [
       "\n",
       "\tShapiro-Wilk normality test\n",
       "\n",
       "data:  residuals_Ex7\n",
       "W = 0.98936, p-value = 0.1438\n"
      ]
     },
     "metadata": {},
     "output_type": "display_data"
    },
    {
     "data": {
      "image/png": "[encoded data removed]",
      "text/plain": [
       "plot without title"
      ]
     },
     "metadata": {},
     "output_type": "display_data"
    },
    {
     "data": {
      "image/png": "[encoded data removed]",
      "text/plain": [
       "plot without title"
      ]
     },
     "metadata": {},
     "output_type": "display_data"
    }
   ],
   "source": [
    "# Also use 2 factor ANOVA. The interaction of gender and age plays a significant role. \n",
    "ANOVA7 <- aov(miles ~ gender + age+gender*age)\n",
    "summary(ANOVA7)\n",
    "\n",
    "model_ex7 <- lm(miles ~ gender + age+gender*age)\n",
    "resids_ex7 <- residuals(model_ex7)\n",
    "preds_ex7 <- predict(model_ex7)\n",
    "\n",
    "residuals_Ex7 <- resid(ANOVA7)\n",
    "\n",
    "#plot(fitted(model_ex7), residuals(model_ex7))\n",
    "\n",
    "nortest::ad.test(residuals_Ex7)\n",
    "\n",
    "#qqnorm(residuals_Ex7)\n",
    "#qqline(residuals_Ex7)\n",
    "\n",
    "shapiro.test(residuals_Ex7)\n",
    "\n",
    "interaction.plot(age, gender, miles)\n",
    "interaction.plot(gender, age, miles)\n",
    "\n",
    "#There is a significant interaction effect on the miles. "
   ]
  },
  {
   "attachments": {
    "image.png": {
     "image/png": "[encoded data removed]"
    }
   },
   "cell_type": "markdown",
   "metadata": {},
   "source": [
    "# (5 points) Question 8 \n",
    "On Saturday morning, Barbara Kenworth received a call at her home from the production supervisor at Kenworth Electronics Plant 1. The supervisor indicated that she and the supervisors from Plants 2, 3, and 4 had agreed that something must be done to improve company morale and thereby increase the production output of their plants. Barbara Kenworth, president of Kenworth Electronics, agreed to set up a Monday morning meeting with the supervisors to see if they could arrive at a plan for accomplishing these objectives.\n",
    "\n",
    "By Monday, each supervisor had compiled a list of several ideas, including a four-day work week and interplant competitions of various kinds. A second meeting was set for Wednesday to discuss the issue further.\n",
    "\n",
    "Following the Wednesday afternoon meeting, Barbara Kenworth and her plant supervisors agreed to implement a weekly contest called the BEST Game of the Week. The plant producing the most each week would be considered the BEST Game of the Week winner and would receive 10 points. The second-place plant would receive 7 points, and the third- and fourth-place plants would receive 3 points and 1 point, respectively. The contest would last 26 weeks. At the end of that period, a $200,000 bonus would be divided among the employees in the four plants proportional to the total points accumulated by each plant.\n",
    "\n",
    "The announcement of the contest created a lot of excitement and enthusiasm at the four plants. No one complained about the rules because the four plants were designed and staffed to produce equally.\n",
    "\n",
    "At the close of the contest, Barbara Kenworth called the supervisors into a meeting, at which time she asked for data to determine whether the contest had significantly improved productivity. She indicated that she had to know this before she could authorize a second contest. The supervisors, expecting this request, had put together the data available. The data, shown below, contains the proportion of days each category of units was produced before the contest and the number of days each category of units was produced during the contest.\n",
    "\n",
    "![image.png](attachment:image.png)\n",
    "\n",
    "Barbara examined the data and said, “There must be some way to statistically test the worthiness of this contest. I have to see the results before I will authorize the second contest.”\n",
    "\n",
    "Your job as an analyst is to help Barbara assess the statistical significance of the results of the contest by running an appropriate statistical test.\n"
   ]
  },
  {
   "cell_type": "code",
   "execution_count": 85,
   "metadata": {
    "ExecuteTime": {
     "end_time": "2019-11-17T03:27:22.357814Z",
     "start_time": "2019-11-17T03:27:22.272Z"
    }
   },
   "outputs": [
    {
     "data": {
      "text/plain": [
       "\n",
       "\tChi-squared test for given probabilities\n",
       "\n",
       "data:  after * days\n",
       "X-squared = 58.346, df = 2, p-value = 2.14e-13\n"
      ]
     },
     "metadata": {},
     "output_type": "display_data"
    },
    {
     "name": "stdout",
     "output_type": "stream",
     "text": [
      "[1] \"At 5% significant level, we have enough evidence to say there are differences between contest and non-contest.\"\n",
      "The lower critical value is  0.2731032 , which is higher than the before (0.143).[1] \"Yes, the company should do the second contest.\"\n"
     ]
    },
    {
     "data": {
      "image/png": "[encoded data removed]",
      "text/plain": [
       "plot without title"
      ]
     },
     "metadata": {},
     "output_type": "display_data"
    }
   ],
   "source": [
    "days<-20+83+52\n",
    "before<-c(0.105,0.219,0.533,0.143)\n",
    "after<-c(0/days,20/days,83/days,52/days)\n",
    "\n",
    "#combine the first 2 rows\n",
    "before<-c(0.105+0.219,0.533,0.143)\n",
    "after<-c(20/days,83/days,52/days)\n",
    "index<-c(1,2,3)\n",
    "plot(index, before, type='l',col=\"red\") \n",
    "lines(index, after, col=\"green\") \n",
    "\n",
    "############Categorical Fit Test###############\n",
    "#H0: before = after\n",
    "#H1: at least one p is different\n",
    "\n",
    "chisq.test(x=after*days,p=before)\n",
    "\n",
    "#########Conclusion########################## -1\n",
    "print('At 5% significant level, we have enough evidence to say there are differences between contest and non-contest.')\n",
    "\n",
    "############Confidencial Interval for The Third Row###########\n",
    "#H0: contest_3 <= non-contest_3\n",
    "#H1: contest_3 > non-contest_3\n",
    "\n",
    "z95<-qnorm(0.95,0,1)\n",
    "#############Conclusion#################### -2\n",
    "cat('The lower critical value is ',52/days-z95*sqrt((52/days)*(1-(52/days))/days), ', which is higher than the before (0.143).')\n",
    "print('Yes, the company should do the second contest.')\n"
   ]
  },
  {
   "attachments": {
    "image.png": {
     "image/png": "[encoded data removed]"
    }
   },
   "cell_type": "markdown",
   "metadata": {},
   "source": [
    "# (5 points) Question 9 \n",
    "A multinational investment banking firm on the Wall Street is trying to devise a new investment strategy for its clients. Investment banking firms keep a close watch on how the market performed each day of the week so that it can monitor the soundness of the strategies. They hire “quants” to design and formulate such strategies. Quants usually have PhD in Math or Physics and they use financial engineering to develop techniques that go into formulating such strategies. Say, you are hired as an analyst to work on this project along with the quant. Your task on this project is to assess whether trading on some days of the week is better or worse than any other. The following table summarizes whether the stock market went up or down during each trading day of last year. Run the appropriate statistical test to address the objective. Verify the required conditions necessary for calling your statistical method a valid one. Do the data impose any limitations on the conclusions drawn from the study?\n",
    "\n",
    "![image.png](attachment:image.png)"
   ]
  },
  {
   "cell_type": "markdown",
   "metadata": {},
   "source": [
    "\n",
    "If the market direction and day of week are independent, then there is not a specific day that trading would be better or worse. \n",
    "\n",
    "$𝐻_{0}$:Market direction and day of week are independent\n",
    "\n",
    "$𝐻_{1}$:Market direction and day of week are dependent"
   ]
  },
  {
   "cell_type": "code",
   "execution_count": 2,
   "metadata": {
    "ExecuteTime": {
     "end_time": "2019-11-17T20:18:35.016477Z",
     "start_time": "2019-11-17T20:18:34.851Z"
    }
   },
   "outputs": [
    {
     "data": {
      "text/html": [
       "<table>\n",
       "<thead><tr><th></th><th scope=col>down</th><th scope=col>up</th></tr></thead>\n",
       "<tbody>\n",
       "\t<tr><th scope=row>mon</th><td>42</td><td>53</td></tr>\n",
       "\t<tr><th scope=row>tue</th><td>49</td><td>55</td></tr>\n",
       "\t<tr><th scope=row>wed</th><td>46</td><td>58</td></tr>\n",
       "\t<tr><th scope=row>thu</th><td>43</td><td>59</td></tr>\n",
       "\t<tr><th scope=row>fri</th><td>41</td><td>58</td></tr>\n",
       "</tbody>\n",
       "</table>\n"
      ],
      "text/latex": [
       "\\begin{tabular}{r|ll}\n",
       "  & down & up\\\\\n",
       "\\hline\n",
       "\tmon & 42 & 53\\\\\n",
       "\ttue & 49 & 55\\\\\n",
       "\twed & 46 & 58\\\\\n",
       "\tthu & 43 & 59\\\\\n",
       "\tfri & 41 & 58\\\\\n",
       "\\end{tabular}\n"
      ],
      "text/markdown": [
       "\n",
       "| <!--/--> | down | up |\n",
       "|---|---|---|\n",
       "| mon | 42 | 53 |\n",
       "| tue | 49 | 55 |\n",
       "| wed | 46 | 58 |\n",
       "| thu | 43 | 59 |\n",
       "| fri | 41 | 58 |\n",
       "\n"
      ],
      "text/plain": [
       "    down up\n",
       "mon 42   53\n",
       "tue 49   55\n",
       "wed 46   58\n",
       "thu 43   59\n",
       "fri 41   58"
      ]
     },
     "metadata": {},
     "output_type": "display_data"
    },
    {
     "data": {
      "text/plain": [
       "\n",
       "\tPearson's Chi-squared test\n",
       "\n",
       "data:  df\n",
       "X-squared = 0.81886, df = 4, p-value = 0.9359\n"
      ]
     },
     "metadata": {},
     "output_type": "display_data"
    },
    {
     "data": {
      "text/html": [
       "<table>\n",
       "<thead><tr><th></th><th scope=col>down</th><th scope=col>up</th></tr></thead>\n",
       "<tbody>\n",
       "\t<tr><th scope=row>mon</th><td>41.65675</td><td>53.34325</td></tr>\n",
       "\t<tr><th scope=row>tue</th><td>45.60317</td><td>58.39683</td></tr>\n",
       "\t<tr><th scope=row>wed</th><td>45.60317</td><td>58.39683</td></tr>\n",
       "\t<tr><th scope=row>thu</th><td>44.72619</td><td>57.27381</td></tr>\n",
       "\t<tr><th scope=row>fri</th><td>43.41071</td><td>55.58929</td></tr>\n",
       "</tbody>\n",
       "</table>\n"
      ],
      "text/latex": [
       "\\begin{tabular}{r|ll}\n",
       "  & down & up\\\\\n",
       "\\hline\n",
       "\tmon & 41.65675 & 53.34325\\\\\n",
       "\ttue & 45.60317 & 58.39683\\\\\n",
       "\twed & 45.60317 & 58.39683\\\\\n",
       "\tthu & 44.72619 & 57.27381\\\\\n",
       "\tfri & 43.41071 & 55.58929\\\\\n",
       "\\end{tabular}\n"
      ],
      "text/markdown": [
       "\n",
       "| <!--/--> | down | up |\n",
       "|---|---|---|\n",
       "| mon | 41.65675 | 53.34325 |\n",
       "| tue | 45.60317 | 58.39683 |\n",
       "| wed | 45.60317 | 58.39683 |\n",
       "| thu | 44.72619 | 57.27381 |\n",
       "| fri | 43.41071 | 55.58929 |\n",
       "\n"
      ],
      "text/plain": [
       "    down     up      \n",
       "mon 41.65675 53.34325\n",
       "tue 45.60317 58.39683\n",
       "wed 45.60317 58.39683\n",
       "thu 44.72619 57.27381\n",
       "fri 43.41071 55.58929"
      ]
     },
     "metadata": {},
     "output_type": "display_data"
    }
   ],
   "source": [
    "down<-c(42,49,46,43,41)\n",
    "up<-c(53,55,58,59,58)\n",
    "df<-cbind(down,up)\n",
    "rownames(df)<-c('mon','tue','wed','thu','fri')\n",
    "df\n",
    "#########Requirement Test######################\n",
    "#1. randomly select, independent - yes\n",
    "#2. categorical daya - yes\n",
    "\n",
    "\n",
    "#########Test################################\n",
    "chisq.test(df)\n",
    "chisq.test(df)$expected\n",
    "\n",
    "############Conclusion###############################\n",
    "#At 5% significant level, market direction and day of week are independent. So, there is no such a day that the trading is \n",
    "#better or worse than any other days.\n",
    "#Limitation: The days of down and up cannot show how much the stock price change. "
   ]
  },
  {
   "cell_type": "markdown",
   "metadata": {},
   "source": [
    "# (5 points) Question 10\n",
    "The Survey of Consumer Finances (SCF) is conducted every 3 years to provide detailed information on the finances of U.S. households. The study is sponsored by the Federal Reserve Board in cooperation with the Department of the Treasury. Since 1992, data have been collected by the National Opinion Research Center (NORC) at the University of Chicago. The full dataset is very large, and the number of variables is extremely large as well. For this exercise, I have created a subset of the dataset. This subset contains data for the middle-class households (40% - 60% of the net worth).\n",
    "\n",
    "We believe that people who completed a college degree fare better financially than those who started college and never finished. One way to judge financial success is by measuring assets. Is there enough evidence to conclude that heads of households with college degrees have more assets than those who have some college? Run an appropriate statistical technique to infer.\n",
    "\n",
    "The dataset in the CSV file Question10 contains data for the education level (EDCL) and the total value of assets (ASSET) for middle class households. \n",
    "\n",
    "The variable definitions are:\n",
    "\n",
    "ASSET: Total value of assets held by household\n",
    "\n",
    "EDCL Education category of head of household: 1. No high school diploma, 2. High school diploma, 3. Some college, 4. College degree\n"
   ]
  },
  {
   "cell_type": "code",
   "execution_count": 40,
   "metadata": {
    "ExecuteTime": {
     "end_time": "2019-11-17T23:37:29.751006Z",
     "start_time": "2019-11-17T23:37:29.696Z"
    },
    "collapsed": true
   },
   "outputs": [
    {
     "data": {
      "text/html": [
       "<table>\n",
       "<thead><tr><th scope=col>EDCL</th><th scope=col>ASSET</th></tr></thead>\n",
       "<tbody>\n",
       "\t<tr><td>2         </td><td>67,810.00 </td></tr>\n",
       "\t<tr><td>3         </td><td>219,070.00</td></tr>\n",
       "\t<tr><td>2         </td><td>76,200.00 </td></tr>\n",
       "\t<tr><td>4         </td><td>368,600.00</td></tr>\n",
       "\t<tr><td>3         </td><td>214,440.00</td></tr>\n",
       "\t<tr><td>2         </td><td>79,300.00 </td></tr>\n",
       "\t<tr><td>1         </td><td>68,000.00 </td></tr>\n",
       "\t<tr><td>4         </td><td>562,000.00</td></tr>\n",
       "\t<tr><td>2         </td><td>266,000.00</td></tr>\n",
       "\t<tr><td>4         </td><td>68,040.00 </td></tr>\n",
       "\t<tr><td>2         </td><td>86,070.00 </td></tr>\n",
       "\t<tr><td>3         </td><td>179,400.00</td></tr>\n",
       "\t<tr><td>2         </td><td>195,540.00</td></tr>\n",
       "\t<tr><td>2         </td><td>122,700.00</td></tr>\n",
       "\t<tr><td>3         </td><td>96,700.00 </td></tr>\n",
       "\t<tr><td>4         </td><td>423,800.00</td></tr>\n",
       "\t<tr><td>2         </td><td>72,800.00 </td></tr>\n",
       "\t<tr><td>2         </td><td>68,910.00 </td></tr>\n",
       "\t<tr><td>3         </td><td>115,200.00</td></tr>\n",
       "\t<tr><td>2         </td><td>111,700.00</td></tr>\n",
       "\t<tr><td>2         </td><td>69,150.00 </td></tr>\n",
       "\t<tr><td>4         </td><td>207,200.00</td></tr>\n",
       "\t<tr><td>3         </td><td>124,810.00</td></tr>\n",
       "\t<tr><td>3         </td><td>69,600.00 </td></tr>\n",
       "\t<tr><td>2         </td><td>307,150.00</td></tr>\n",
       "\t<tr><td>3         </td><td>72,700.00 </td></tr>\n",
       "\t<tr><td>2         </td><td>69,700.00 </td></tr>\n",
       "\t<tr><td>3         </td><td>72,805.00 </td></tr>\n",
       "\t<tr><td>4         </td><td>290,200.00</td></tr>\n",
       "\t<tr><td>2         </td><td>70,250.00 </td></tr>\n",
       "\t<tr><td>...</td><td>...</td></tr>\n",
       "\t<tr><td>2         </td><td>284,800.00</td></tr>\n",
       "\t<tr><td>4         </td><td>397,250.00</td></tr>\n",
       "\t<tr><td>4         </td><td>377,700.00</td></tr>\n",
       "\t<tr><td>2         </td><td>284,750.00</td></tr>\n",
       "\t<tr><td>2         </td><td>368,700.00</td></tr>\n",
       "\t<tr><td>4         </td><td>375,900.00</td></tr>\n",
       "\t<tr><td>1         </td><td>297,500.00</td></tr>\n",
       "\t<tr><td>4         </td><td>425,200.00</td></tr>\n",
       "\t<tr><td>2         </td><td>285,700.00</td></tr>\n",
       "\t<tr><td>3         </td><td>301,450.00</td></tr>\n",
       "\t<tr><td>2         </td><td>432,500.00</td></tr>\n",
       "\t<tr><td>4         </td><td>484,850.00</td></tr>\n",
       "\t<tr><td>4         </td><td>320,000.00</td></tr>\n",
       "\t<tr><td>4         </td><td>498,400.00</td></tr>\n",
       "\t<tr><td>2         </td><td>287,500.00</td></tr>\n",
       "\t<tr><td>2         </td><td>287,550.00</td></tr>\n",
       "\t<tr><td>4         </td><td>294,000.00</td></tr>\n",
       "\t<tr><td>2         </td><td>288,300.00</td></tr>\n",
       "\t<tr><td>2         </td><td>293,300.00</td></tr>\n",
       "\t<tr><td>3         </td><td>288,500.00</td></tr>\n",
       "\t<tr><td>4         </td><td>368,700.00</td></tr>\n",
       "\t<tr><td>1         </td><td>339,080.00</td></tr>\n",
       "\t<tr><td>1         </td><td>595,000.00</td></tr>\n",
       "\t<tr><td>1         </td><td>295,770.00</td></tr>\n",
       "\t<tr><td>4         </td><td>571,100.00</td></tr>\n",
       "\t<tr><td>4         </td><td>653,400.00</td></tr>\n",
       "\t<tr><td>1         </td><td>292,300.00</td></tr>\n",
       "\t<tr><td>2         </td><td>312,300.00</td></tr>\n",
       "\t<tr><td>4         </td><td>382,400.00</td></tr>\n",
       "\t<tr><td>4         </td><td>335,400.00</td></tr>\n",
       "</tbody>\n",
       "</table>\n"
      ],
      "text/latex": [
       "\\begin{tabular}{r|ll}\n",
       " EDCL & ASSET\\\\\n",
       "\\hline\n",
       "\t 2          & 67,810.00 \\\\\n",
       "\t 3          & 219,070.00\\\\\n",
       "\t 2          & 76,200.00 \\\\\n",
       "\t 4          & 368,600.00\\\\\n",
       "\t 3          & 214,440.00\\\\\n",
       "\t 2          & 79,300.00 \\\\\n",
       "\t 1          & 68,000.00 \\\\\n",
       "\t 4          & 562,000.00\\\\\n",
       "\t 2          & 266,000.00\\\\\n",
       "\t 4          & 68,040.00 \\\\\n",
       "\t 2          & 86,070.00 \\\\\n",
       "\t 3          & 179,400.00\\\\\n",
       "\t 2          & 195,540.00\\\\\n",
       "\t 2          & 122,700.00\\\\\n",
       "\t 3          & 96,700.00 \\\\\n",
       "\t 4          & 423,800.00\\\\\n",
       "\t 2          & 72,800.00 \\\\\n",
       "\t 2          & 68,910.00 \\\\\n",
       "\t 3          & 115,200.00\\\\\n",
       "\t 2          & 111,700.00\\\\\n",
       "\t 2          & 69,150.00 \\\\\n",
       "\t 4          & 207,200.00\\\\\n",
       "\t 3          & 124,810.00\\\\\n",
       "\t 3          & 69,600.00 \\\\\n",
       "\t 2          & 307,150.00\\\\\n",
       "\t 3          & 72,700.00 \\\\\n",
       "\t 2          & 69,700.00 \\\\\n",
       "\t 3          & 72,805.00 \\\\\n",
       "\t 4          & 290,200.00\\\\\n",
       "\t 2          & 70,250.00 \\\\\n",
       "\t ... & ...\\\\\n",
       "\t 2          & 284,800.00\\\\\n",
       "\t 4          & 397,250.00\\\\\n",
       "\t 4          & 377,700.00\\\\\n",
       "\t 2          & 284,750.00\\\\\n",
       "\t 2          & 368,700.00\\\\\n",
       "\t 4          & 375,900.00\\\\\n",
       "\t 1          & 297,500.00\\\\\n",
       "\t 4          & 425,200.00\\\\\n",
       "\t 2          & 285,700.00\\\\\n",
       "\t 3          & 301,450.00\\\\\n",
       "\t 2          & 432,500.00\\\\\n",
       "\t 4          & 484,850.00\\\\\n",
       "\t 4          & 320,000.00\\\\\n",
       "\t 4          & 498,400.00\\\\\n",
       "\t 2          & 287,500.00\\\\\n",
       "\t 2          & 287,550.00\\\\\n",
       "\t 4          & 294,000.00\\\\\n",
       "\t 2          & 288,300.00\\\\\n",
       "\t 2          & 293,300.00\\\\\n",
       "\t 3          & 288,500.00\\\\\n",
       "\t 4          & 368,700.00\\\\\n",
       "\t 1          & 339,080.00\\\\\n",
       "\t 1          & 595,000.00\\\\\n",
       "\t 1          & 295,770.00\\\\\n",
       "\t 4          & 571,100.00\\\\\n",
       "\t 4          & 653,400.00\\\\\n",
       "\t 1          & 292,300.00\\\\\n",
       "\t 2          & 312,300.00\\\\\n",
       "\t 4          & 382,400.00\\\\\n",
       "\t 4          & 335,400.00\\\\\n",
       "\\end{tabular}\n"
      ],
      "text/markdown": [
       "\n",
       "| EDCL | ASSET |\n",
       "|---|---|\n",
       "| 2          | 67,810.00  |\n",
       "| 3          | 219,070.00 |\n",
       "| 2          | 76,200.00  |\n",
       "| 4          | 368,600.00 |\n",
       "| 3          | 214,440.00 |\n",
       "| 2          | 79,300.00  |\n",
       "| 1          | 68,000.00  |\n",
       "| 4          | 562,000.00 |\n",
       "| 2          | 266,000.00 |\n",
       "| 4          | 68,040.00  |\n",
       "| 2          | 86,070.00  |\n",
       "| 3          | 179,400.00 |\n",
       "| 2          | 195,540.00 |\n",
       "| 2          | 122,700.00 |\n",
       "| 3          | 96,700.00  |\n",
       "| 4          | 423,800.00 |\n",
       "| 2          | 72,800.00  |\n",
       "| 2          | 68,910.00  |\n",
       "| 3          | 115,200.00 |\n",
       "| 2          | 111,700.00 |\n",
       "| 2          | 69,150.00  |\n",
       "| 4          | 207,200.00 |\n",
       "| 3          | 124,810.00 |\n",
       "| 3          | 69,600.00  |\n",
       "| 2          | 307,150.00 |\n",
       "| 3          | 72,700.00  |\n",
       "| 2          | 69,700.00  |\n",
       "| 3          | 72,805.00  |\n",
       "| 4          | 290,200.00 |\n",
       "| 2          | 70,250.00  |\n",
       "| ... | ... |\n",
       "| 2          | 284,800.00 |\n",
       "| 4          | 397,250.00 |\n",
       "| 4          | 377,700.00 |\n",
       "| 2          | 284,750.00 |\n",
       "| 2          | 368,700.00 |\n",
       "| 4          | 375,900.00 |\n",
       "| 1          | 297,500.00 |\n",
       "| 4          | 425,200.00 |\n",
       "| 2          | 285,700.00 |\n",
       "| 3          | 301,450.00 |\n",
       "| 2          | 432,500.00 |\n",
       "| 4          | 484,850.00 |\n",
       "| 4          | 320,000.00 |\n",
       "| 4          | 498,400.00 |\n",
       "| 2          | 287,500.00 |\n",
       "| 2          | 287,550.00 |\n",
       "| 4          | 294,000.00 |\n",
       "| 2          | 288,300.00 |\n",
       "| 2          | 293,300.00 |\n",
       "| 3          | 288,500.00 |\n",
       "| 4          | 368,700.00 |\n",
       "| 1          | 339,080.00 |\n",
       "| 1          | 595,000.00 |\n",
       "| 1          | 295,770.00 |\n",
       "| 4          | 571,100.00 |\n",
       "| 4          | 653,400.00 |\n",
       "| 1          | 292,300.00 |\n",
       "| 2          | 312,300.00 |\n",
       "| 4          | 382,400.00 |\n",
       "| 4          | 335,400.00 |\n",
       "\n"
      ],
      "text/plain": [
       "     EDCL ASSET     \n",
       "1    2    67,810.00 \n",
       "2    3    219,070.00\n",
       "3    2    76,200.00 \n",
       "4    4    368,600.00\n",
       "5    3    214,440.00\n",
       "6    2    79,300.00 \n",
       "7    1    68,000.00 \n",
       "8    4    562,000.00\n",
       "9    2    266,000.00\n",
       "10   4    68,040.00 \n",
       "11   2    86,070.00 \n",
       "12   3    179,400.00\n",
       "13   2    195,540.00\n",
       "14   2    122,700.00\n",
       "15   3    96,700.00 \n",
       "16   4    423,800.00\n",
       "17   2    72,800.00 \n",
       "18   2    68,910.00 \n",
       "19   3    115,200.00\n",
       "20   2    111,700.00\n",
       "21   2    69,150.00 \n",
       "22   4    207,200.00\n",
       "23   3    124,810.00\n",
       "24   3    69,600.00 \n",
       "25   2    307,150.00\n",
       "26   3    72,700.00 \n",
       "27   2    69,700.00 \n",
       "28   3    72,805.00 \n",
       "29   4    290,200.00\n",
       "30   2    70,250.00 \n",
       "...  ...  ...       \n",
       "1174 2    284,800.00\n",
       "1175 4    397,250.00\n",
       "1176 4    377,700.00\n",
       "1177 2    284,750.00\n",
       "1178 2    368,700.00\n",
       "1179 4    375,900.00\n",
       "1180 1    297,500.00\n",
       "1181 4    425,200.00\n",
       "1182 2    285,700.00\n",
       "1183 3    301,450.00\n",
       "1184 2    432,500.00\n",
       "1185 4    484,850.00\n",
       "1186 4    320,000.00\n",
       "1187 4    498,400.00\n",
       "1188 2    287,500.00\n",
       "1189 2    287,550.00\n",
       "1190 4    294,000.00\n",
       "1191 2    288,300.00\n",
       "1192 2    293,300.00\n",
       "1193 3    288,500.00\n",
       "1194 4    368,700.00\n",
       "1195 1    339,080.00\n",
       "1196 1    595,000.00\n",
       "1197 1    295,770.00\n",
       "1198 4    571,100.00\n",
       "1199 4    653,400.00\n",
       "1200 1    292,300.00\n",
       "1201 2    312,300.00\n",
       "1202 4    382,400.00\n",
       "1203 4    335,400.00"
      ]
     },
     "metadata": {},
     "output_type": "display_data"
    }
   ],
   "source": [
    "setwd(\"D:/BAX441/Homeworks/Homeworks 4 and 5 Combined\")\n",
    "Q10<-read.csv('Question10.csv')\n",
    "Q10"
   ]
  },
  {
   "cell_type": "code",
   "execution_count": 41,
   "metadata": {
    "ExecuteTime": {
     "end_time": "2019-11-17T23:37:33.632073Z",
     "start_time": "2019-11-17T23:37:33.543Z"
    }
   },
   "outputs": [
    {
     "data": {
      "text/plain": [
       "\n",
       "\tAnderson-Darling normality test\n",
       "\n",
       "data:  resids_ex10\n",
       "A = 8.0446, p-value < 2.2e-16\n"
      ]
     },
     "metadata": {},
     "output_type": "display_data"
    },
    {
     "data": {
      "text/plain": [
       "\n",
       "\tFligner-Killeen test of homogeneity of variances\n",
       "\n",
       "data:  asset by edu\n",
       "Fligner-Killeen:med chi-squared = 5.1307, df = 3, p-value = 0.1625\n"
      ]
     },
     "metadata": {},
     "output_type": "display_data"
    },
    {
     "data": {
      "text/html": [
       "<table>\n",
       "<thead><tr><th></th><th scope=col>Df</th><th scope=col>F value</th><th scope=col>Pr(&gt;F)</th></tr></thead>\n",
       "<tbody>\n",
       "\t<tr><th scope=row>group</th><td>   3     </td><td>0.9231836</td><td>0.4288763</td></tr>\n",
       "\t<tr><th scope=row> </th><td>1199     </td><td>       NA</td><td>       NA</td></tr>\n",
       "</tbody>\n",
       "</table>\n"
      ],
      "text/latex": [
       "\\begin{tabular}{r|lll}\n",
       "  & Df & F value & Pr(>F)\\\\\n",
       "\\hline\n",
       "\tgroup &    3      & 0.9231836 & 0.4288763\\\\\n",
       "\t  & 1199      &        NA &        NA\\\\\n",
       "\\end{tabular}\n"
      ],
      "text/markdown": [
       "\n",
       "| <!--/--> | Df | F value | Pr(>F) |\n",
       "|---|---|---|---|\n",
       "| group |    3      | 0.9231836 | 0.4288763 |\n",
       "|   | 1199      |        NA |        NA |\n",
       "\n"
      ],
      "text/plain": [
       "      Df   F value   Pr(>F)   \n",
       "group    3 0.9231836 0.4288763\n",
       "      1199        NA        NA"
      ]
     },
     "metadata": {},
     "output_type": "display_data"
    },
    {
     "data": {
      "text/plain": [
       "\n",
       "\tKruskal-Wallis rank sum test\n",
       "\n",
       "data:  asset by edu\n",
       "Kruskal-Wallis chi-squared = 43.915, df = 3, p-value = 1.573e-09\n"
      ]
     },
     "metadata": {},
     "output_type": "display_data"
    },
    {
     "data": {
      "text/plain": [
       "\n",
       "\tPairwise comparisons using Wilcoxon rank sum test \n",
       "\n",
       "data:  asset and edu \n",
       "\n",
       "  1       2       3     \n",
       "2 1.0000  -       -     \n",
       "3 0.1411  0.6583  -     \n",
       "4 1.1e-05 5.2e-08 0.0089\n",
       "\n",
       "P value adjustment method: bonferroni "
      ]
     },
     "metadata": {},
     "output_type": "display_data"
    },
    {
     "name": "stdout",
     "output_type": "stream",
     "text": [
      "[1] \"Yes, at 5% significant level, there is enough evidence to conclude that heads of households \\nwith college degrees have more assets than those who have some college\"\n"
     ]
    }
   ],
   "source": [
    "edu<-as.factor(Q10$EDCL)\n",
    "asset<-as.numeric(Q10$ASSET)\n",
    "\n",
    "#########Requirement Test######################\n",
    "#1. Randomly selected sample - Satisfy\n",
    "#2. Normality - Unsatisfy, because the p-value of the normality test is less than 0.05\n",
    "model_ex10 <- lm( asset~  edu)\n",
    "resids_ex10 <- residuals(model_ex10)\n",
    "preds_ex10 <- predict(model_ex10)\n",
    "\n",
    "nortest::ad.test(resids_ex10)\n",
    "\n",
    "#hist(resids_ex41)\n",
    "\n",
    "#qqnorm(resids_ex41)\n",
    "#qqline(resids_ex41)\n",
    "\n",
    "#3. Variances are constant - Satisfy, because the p-value of the normality test is larger than 0.05\n",
    "fligner.test( asset~  edu)\n",
    "car::leveneTest(asset~  edu)\n",
    "########Kruskal-Wallis Test##########################\n",
    "#H0: There is not difference between different education level and the asset of people\n",
    "#H1: At least one education level people have different asset level from others\n",
    "kruskal.test(asset ~  edu)\n",
    "\n",
    "pairwise.wilcox.test(asset,edu,p.adjust='bonferroni')\n",
    "########Conclusion#############################\n",
    "print('Yes, at 5% significant level, there is enough evidence to conclude that heads of households \n",
    "with college degrees have more assets than those who have some college')"
   ]
  },
  {
   "cell_type": "markdown",
   "metadata": {},
   "source": [
    "# (5 points) Question 11\n",
    "A hospital conducted a study of the waiting time in its emergency room. The hospital has a main campus, along with three satellite locations. Management had a business objective of reducing waiting time for emergency room cases that did not require immediate attention. To study this, a random sample of 15 emergency room cases at each location were selected on a particular day, and the waiting time (recorded from check-in to when the patient was called into the clinic area) was measured. The results are stored in the CSV file Question11. Conduct an appropriate statistical test to determine if there is any evidence of a difference in the waiting times.\n"
   ]
  },
  {
   "cell_type": "code",
   "execution_count": 1,
   "metadata": {
    "ExecuteTime": {
     "end_time": "2019-11-24T02:29:16.800624Z",
     "start_time": "2019-11-24T02:29:16.682Z"
    },
    "scrolled": true
   },
   "outputs": [],
   "source": [
    "setwd(\"D:/BAX441/Homeworks/Homeworks 4 and 5 Combined\")\n",
    "Q11<-read.csv('Question11.csv')\n",
    "Q11<-stack(Q11)\n",
    "colnames(Q11)<-c('wait_time','location')\n",
    "wait_time<-Q11$wait_time\n",
    "location<-as.factor(Q11$location)"
   ]
  },
  {
   "cell_type": "code",
   "execution_count": 4,
   "metadata": {
    "ExecuteTime": {
     "end_time": "2019-11-24T02:30:04.498429Z",
     "start_time": "2019-11-24T02:30:04.286Z"
    },
    "scrolled": false
   },
   "outputs": [
    {
     "data": {
      "text/plain": [
       "\n",
       "\tAnderson-Darling normality test\n",
       "\n",
       "data:  resids_ex11\n",
       "A = 0.29114, p-value = 0.5973\n"
      ]
     },
     "metadata": {},
     "output_type": "display_data"
    },
    {
     "data": {
      "text/plain": [
       "\n",
       "\tFligner-Killeen test of homogeneity of variances\n",
       "\n",
       "data:  wait_time by location\n",
       "Fligner-Killeen:med chi-squared = 3.1187, df = 3, p-value = 0.3737\n"
      ]
     },
     "metadata": {},
     "output_type": "display_data"
    },
    {
     "data": {
      "text/html": [
       "<table>\n",
       "<thead><tr><th></th><th scope=col>Df</th><th scope=col>F value</th><th scope=col>Pr(&gt;F)</th></tr></thead>\n",
       "<tbody>\n",
       "\t<tr><th scope=row>group</th><td> 3       </td><td>0.8200883</td><td>0.4882562</td></tr>\n",
       "\t<tr><th scope=row> </th><td>56       </td><td>       NA</td><td>       NA</td></tr>\n",
       "</tbody>\n",
       "</table>\n"
      ],
      "text/latex": [
       "\\begin{tabular}{r|lll}\n",
       "  & Df & F value & Pr(>F)\\\\\n",
       "\\hline\n",
       "\tgroup &  3        & 0.8200883 & 0.4882562\\\\\n",
       "\t  & 56        &        NA &        NA\\\\\n",
       "\\end{tabular}\n"
      ],
      "text/markdown": [
       "\n",
       "| <!--/--> | Df | F value | Pr(>F) |\n",
       "|---|---|---|---|\n",
       "| group |  3        | 0.8200883 | 0.4882562 |\n",
       "|   | 56        |        NA |        NA |\n",
       "\n"
      ],
      "text/plain": [
       "      Df F value   Pr(>F)   \n",
       "group  3 0.8200883 0.4882562\n",
       "      56        NA        NA"
      ]
     },
     "metadata": {},
     "output_type": "display_data"
    },
    {
     "data": {
      "text/plain": [
       "            Df Sum Sq Mean Sq F value   Pr(>F)    \n",
       "location     3   6312  2104.1   6.372 0.000859 ***\n",
       "Residuals   56  18493   330.2                     \n",
       "---\n",
       "Signif. codes:  0 '***' 0.001 '**' 0.01 '*' 0.05 '.' 0.1 ' ' 1"
      ]
     },
     "metadata": {},
     "output_type": "display_data"
    },
    {
     "data": {
      "text/plain": [
       "  Tukey multiple comparisons of means\n",
       "    95% family-wise confidence level\n",
       "\n",
       "Fit: aov(formula = wait_time ~ location)\n",
       "\n",
       "$location\n",
       "                              diff        lwr         upr     p adj\n",
       "Satellite.1-Main        -28.588667 -46.158986 -11.0183478 0.0003814\n",
       "Satellite.2-Main        -13.281333 -30.851652   4.2889855 0.1997139\n",
       "Satellite.3-Main        -17.870667 -35.440986  -0.3003478 0.0447878\n",
       "Satellite.2-Satellite.1  15.307333  -2.262986  32.8776522 0.1086697\n",
       "Satellite.3-Satellite.1  10.718000  -6.852319  28.2883188 0.3785196\n",
       "Satellite.3-Satellite.2  -4.589333 -22.159652  12.9809855 0.8998737\n"
      ]
     },
     "metadata": {},
     "output_type": "display_data"
    },
    {
     "name": "stdout",
     "output_type": "stream",
     "text": [
      "[1] \"Yes, at 5% significant level, there are differences in waiting time among different locations.\"\n",
      "[1] \"Satellite 1 and 3 have significantly shorter waiting time than the main campus.\"\n"
     ]
    },
    {
     "data": {
      "image/png": "[encoded data removed]",
      "text/plain": [
       "Plot with title \"95% family-wise confidence level\n",
       "\""
      ]
     },
     "metadata": {},
     "output_type": "display_data"
    }
   ],
   "source": [
    "#########Requirement Test######################\n",
    "#1. Randomly selected sample - Satisfy\n",
    "#2. Normality - Satisfy, because the p-value of the normality test is less than 0.05\n",
    "model_ex11 <- lm( wait_time~  location)\n",
    "resids_ex11 <- residuals(model_ex11)\n",
    "preds_ex11 <- predict(model_ex11)\n",
    "\n",
    "nortest::ad.test(resids_ex11)\n",
    "\n",
    "#hist(resids_ex11)\n",
    "\n",
    "#qqnorm(resids_ex11)\n",
    "#qqline(resids_ex11)\n",
    "\n",
    "#3. Variances are constant - Satisfy, because the p-value of the normality test is larger than 0.05\n",
    "fligner.test(wait_time~  location)\n",
    "car::leveneTest(wait_time~  location)\n",
    "\n",
    "########One-way ANOVA##########################\n",
    "#H0: There is not difference in waiting time among the locations\n",
    "#H1: At least one location's waiting time is different from others\n",
    "\n",
    "ANOVA_Ex11 <- aov(wait_time~  location)\n",
    "summary(ANOVA_Ex11)\n",
    "\n",
    "TukeyHSD(ANOVA_Ex11)\n",
    "\n",
    "plot(TukeyHSD(ANOVA_Ex11), las = 1)\n",
    "\n",
    "########Conclusion#############################\n",
    "print('Yes, at 5% significant level, there are differences in waiting time among different locations.')\n",
    "\n",
    "print('Satellite 1 and 3 have significantly shorter waiting time than the main campus.')"
   ]
  },
  {
   "cell_type": "markdown",
   "metadata": {},
   "source": [
    "# (5 points) Question 12 \n",
    "A well-known soft-drink manufacturer has used the same secret recipe for its product since its introduction over 100 years ago. In response to a decreasing market share, however, the president of the company is contemplating changing the recipe. He has developed two alternative recipes. In a preliminary study, he asked 20 people to taste the original recipe and the two new recipes. He asked each to evaluate the taste of the product on a 5-point scale, where 1 = Awful, 2=Poor,3=Fair,4=Good, and 5=Wonderful. The dataset is available on the CSV file Question12. The president decides that unless significant differences exist between evaluations of the products, he will not make any changes. At 5% significance level, use an appropriate statistical test to conclude if there are any differences in the ratings of the three recipes.\n"
   ]
  },
  {
   "cell_type": "code",
   "execution_count": 1,
   "metadata": {
    "ExecuteTime": {
     "end_time": "2019-11-19T07:16:34.965184Z",
     "start_time": "2019-11-19T07:16:34.904Z"
    },
    "scrolled": true
   },
   "outputs": [
    {
     "data": {
      "text/html": [
       "<table>\n",
       "<thead><tr><th scope=col>Person</th><th scope=col>Original</th><th scope=col>New.Recipe.1</th><th scope=col>New.Recipe..2</th></tr></thead>\n",
       "<tbody>\n",
       "\t<tr><td> 1</td><td>5 </td><td>5 </td><td>5 </td></tr>\n",
       "\t<tr><td> 2</td><td>3 </td><td>4 </td><td>5 </td></tr>\n",
       "\t<tr><td> 3</td><td>4 </td><td>5 </td><td>5 </td></tr>\n",
       "\t<tr><td> 4</td><td>2 </td><td>4 </td><td>4 </td></tr>\n",
       "\t<tr><td> 5</td><td>3 </td><td>3 </td><td>5 </td></tr>\n",
       "\t<tr><td> 6</td><td>2 </td><td>2 </td><td>3 </td></tr>\n",
       "\t<tr><td> 7</td><td>3 </td><td>3 </td><td>2 </td></tr>\n",
       "\t<tr><td> 8</td><td>4 </td><td>3 </td><td>5 </td></tr>\n",
       "\t<tr><td> 9</td><td>1 </td><td>1 </td><td>1 </td></tr>\n",
       "\t<tr><td>10</td><td>1 </td><td>3 </td><td>2 </td></tr>\n",
       "\t<tr><td>11</td><td>2 </td><td>4 </td><td>3 </td></tr>\n",
       "\t<tr><td>12</td><td>3 </td><td>3 </td><td>4 </td></tr>\n",
       "\t<tr><td>13</td><td>5 </td><td>3 </td><td>4 </td></tr>\n",
       "\t<tr><td>14</td><td>3 </td><td>2 </td><td>3 </td></tr>\n",
       "\t<tr><td>15</td><td>4 </td><td>3 </td><td>5 </td></tr>\n",
       "\t<tr><td>16</td><td>4 </td><td>4 </td><td>4 </td></tr>\n",
       "\t<tr><td>17</td><td>2 </td><td>4 </td><td>3 </td></tr>\n",
       "\t<tr><td>18</td><td>5 </td><td>3 </td><td>5 </td></tr>\n",
       "\t<tr><td>19</td><td>4 </td><td>5 </td><td>5 </td></tr>\n",
       "\t<tr><td>20</td><td>3 </td><td>5 </td><td>4 </td></tr>\n",
       "</tbody>\n",
       "</table>\n"
      ],
      "text/latex": [
       "\\begin{tabular}{r|llll}\n",
       " Person & Original & New.Recipe.1 & New.Recipe..2\\\\\n",
       "\\hline\n",
       "\t  1 & 5  & 5  & 5 \\\\\n",
       "\t  2 & 3  & 4  & 5 \\\\\n",
       "\t  3 & 4  & 5  & 5 \\\\\n",
       "\t  4 & 2  & 4  & 4 \\\\\n",
       "\t  5 & 3  & 3  & 5 \\\\\n",
       "\t  6 & 2  & 2  & 3 \\\\\n",
       "\t  7 & 3  & 3  & 2 \\\\\n",
       "\t  8 & 4  & 3  & 5 \\\\\n",
       "\t  9 & 1  & 1  & 1 \\\\\n",
       "\t 10 & 1  & 3  & 2 \\\\\n",
       "\t 11 & 2  & 4  & 3 \\\\\n",
       "\t 12 & 3  & 3  & 4 \\\\\n",
       "\t 13 & 5  & 3  & 4 \\\\\n",
       "\t 14 & 3  & 2  & 3 \\\\\n",
       "\t 15 & 4  & 3  & 5 \\\\\n",
       "\t 16 & 4  & 4  & 4 \\\\\n",
       "\t 17 & 2  & 4  & 3 \\\\\n",
       "\t 18 & 5  & 3  & 5 \\\\\n",
       "\t 19 & 4  & 5  & 5 \\\\\n",
       "\t 20 & 3  & 5  & 4 \\\\\n",
       "\\end{tabular}\n"
      ],
      "text/markdown": [
       "\n",
       "| Person | Original | New.Recipe.1 | New.Recipe..2 |\n",
       "|---|---|---|---|\n",
       "|  1 | 5  | 5  | 5  |\n",
       "|  2 | 3  | 4  | 5  |\n",
       "|  3 | 4  | 5  | 5  |\n",
       "|  4 | 2  | 4  | 4  |\n",
       "|  5 | 3  | 3  | 5  |\n",
       "|  6 | 2  | 2  | 3  |\n",
       "|  7 | 3  | 3  | 2  |\n",
       "|  8 | 4  | 3  | 5  |\n",
       "|  9 | 1  | 1  | 1  |\n",
       "| 10 | 1  | 3  | 2  |\n",
       "| 11 | 2  | 4  | 3  |\n",
       "| 12 | 3  | 3  | 4  |\n",
       "| 13 | 5  | 3  | 4  |\n",
       "| 14 | 3  | 2  | 3  |\n",
       "| 15 | 4  | 3  | 5  |\n",
       "| 16 | 4  | 4  | 4  |\n",
       "| 17 | 2  | 4  | 3  |\n",
       "| 18 | 5  | 3  | 5  |\n",
       "| 19 | 4  | 5  | 5  |\n",
       "| 20 | 3  | 5  | 4  |\n",
       "\n"
      ],
      "text/plain": [
       "   Person Original New.Recipe.1 New.Recipe..2\n",
       "1   1     5        5            5            \n",
       "2   2     3        4            5            \n",
       "3   3     4        5            5            \n",
       "4   4     2        4            4            \n",
       "5   5     3        3            5            \n",
       "6   6     2        2            3            \n",
       "7   7     3        3            2            \n",
       "8   8     4        3            5            \n",
       "9   9     1        1            1            \n",
       "10 10     1        3            2            \n",
       "11 11     2        4            3            \n",
       "12 12     3        3            4            \n",
       "13 13     5        3            4            \n",
       "14 14     3        2            3            \n",
       "15 15     4        3            5            \n",
       "16 16     4        4            4            \n",
       "17 17     2        4            3            \n",
       "18 18     5        3            5            \n",
       "19 19     4        5            5            \n",
       "20 20     3        5            4            "
      ]
     },
     "metadata": {},
     "output_type": "display_data"
    }
   ],
   "source": [
    "setwd(\"D:/BAX441/Homeworks/Homeworks 4 and 5 Combined\")\n",
    "Q12<-read.csv('Question12.csv')\n",
    "df<-Q12[,-1]\n",
    "df<-stack(df)\n",
    "colnames(df)<-c('rating','type')\n",
    "rating<-df$rating\n",
    "type<-as.factor(df$type)\n",
    "df2<-read.csv('Question12.csv',header=TRUE,row.names=\"Person\")\n",
    "df2<-data.matrix(df2)\n",
    "block<-Q12$Person\n",
    "block<-rep(block,times=3)\n",
    "df_block<-cbind(df,block)\n",
    "Q12"
   ]
  },
  {
   "cell_type": "code",
   "execution_count": 9,
   "metadata": {
    "ExecuteTime": {
     "end_time": "2019-11-19T07:18:20.447610Z",
     "start_time": "2019-11-19T07:18:20.399Z"
    }
   },
   "outputs": [
    {
     "data": {
      "text/plain": [
       "\n",
       "\tFriedman rank sum test\n",
       "\n",
       "data:  rating, type and block\n",
       "Friedman chi-squared = 7.1525, df = 2, p-value = 0.02798\n"
      ]
     },
     "metadata": {},
     "output_type": "display_data"
    },
    {
     "data": {
      "text/plain": [
       "\n",
       "\tPairwise comparisons using Nemenyi multiple comparison test\t\n",
       "             with q approximation for unreplicated blocked data \n",
       "\n",
       "data:  rating , type and block \n",
       "\n",
       "              Original New.Recipe.1\n",
       "New.Recipe.1  0.559    -           \n",
       "New.Recipe..2 0.057    0.415       \n",
       "\n",
       "P value adjustment method: none "
      ]
     },
     "metadata": {},
     "output_type": "display_data"
    },
    {
     "name": "stdout",
     "output_type": "stream",
     "text": [
      "[1] \"Yes, at 5% significant level, there is difference between original and new recipe 2.\"\n"
     ]
    }
   ],
   "source": [
    "#########Requirement Test######################\n",
    "#1. Randomly selected sample - Satisfy\n",
    "#2. Normality - Unsatisfy, because the p-value of the normality test is less than 0.05\n",
    "\n",
    "\n",
    "rating<-df_block$rating\n",
    "type<-as.factor(df_block$type)\n",
    "block<-as.factor(df_block$block)\n",
    "########Friedman Test (Random Block Design)##############\n",
    "#H0: There is not differences in the ratings of the three recipes\n",
    "#H1: At least one recipe is different from others\n",
    "\n",
    "friedman.test(rating,type,block)\n",
    "posthoc.friedman.nemenyi.test(rating,type,block)\n",
    "\n",
    "########Conclusion#############################\n",
    "print('Yes, at 5% significant level, there is difference between original and new recipe 2.')\n"
   ]
  },
  {
   "cell_type": "markdown",
   "metadata": {},
   "source": [
    "# (5 points) Question 13\n",
    "Kira Breyan works as a financial advisor at a large investment firm. She meets with an inexperienced investor who has some questions regarding two approaches to mutual fund investing: growth investing versus value investing. The investor has heard that growth funds invest in companies whose stock prices are expected to grow at a faster rate, relative to the overall stock market, and value funds invest in companies whose stock prices are below their true worth. The investor has also heard that the main component of investment return is through capital appreciation in growth funds and through dividend income in value funds. The investor shows Kira the annual return data for Vanguard’s Growth Index mutual fund (Growth) and Vanguard’s Value Index mutual fund (Value). The CSV file Question13 shows the annual return data for these two mutual funds for the years 2007–2016. Using the appropriate statistical test, determine if the performance of the returns of these two funds were similar over the 2007-2016 timeframe.\n"
   ]
  },
  {
   "cell_type": "code",
   "execution_count": 2,
   "metadata": {
    "ExecuteTime": {
     "end_time": "2019-11-20T02:55:09.239478Z",
     "start_time": "2019-11-20T02:55:09.048Z"
    }
   },
   "outputs": [
    {
     "name": "stderr",
     "output_type": "stream",
     "text": [
      "PMCMR is superseded by PMCMRplus and will be no longer maintained. You may wish to install PMCMRplus instead.\n"
     ]
    }
   ],
   "source": [
    "library(reshape2)\n",
    "library(PMCMR)"
   ]
  },
  {
   "cell_type": "code",
   "execution_count": 1,
   "metadata": {
    "ExecuteTime": {
     "end_time": "2019-11-20T02:55:05.632892Z",
     "start_time": "2019-11-20T02:55:05.581Z"
    },
    "scrolled": true
   },
   "outputs": [
    {
     "data": {
      "text/html": [
       "<table>\n",
       "<thead><tr><th></th><th scope=col>Growth</th><th scope=col>Value</th></tr></thead>\n",
       "<tbody>\n",
       "\t<tr><th scope=row>2007</th><td> 12.56</td><td>  0.09</td></tr>\n",
       "\t<tr><th scope=row>2008</th><td>-38.32</td><td>-35.97</td></tr>\n",
       "\t<tr><th scope=row>2009</th><td> 36.29</td><td> 19.58</td></tr>\n",
       "\t<tr><th scope=row>2010</th><td> 16.96</td><td> 14.28</td></tr>\n",
       "\t<tr><th scope=row>2011</th><td>  1.71</td><td>  1.00</td></tr>\n",
       "\t<tr><th scope=row>2012</th><td> 16.89</td><td> 15.00</td></tr>\n",
       "\t<tr><th scope=row>2013</th><td> 32.16</td><td> 32.85</td></tr>\n",
       "\t<tr><th scope=row>2014</th><td> 13.47</td><td> 13.05</td></tr>\n",
       "\t<tr><th scope=row>2015</th><td>  3.17</td><td> -1.03</td></tr>\n",
       "\t<tr><th scope=row>2016</th><td>  5.99</td><td> 16.75</td></tr>\n",
       "</tbody>\n",
       "</table>\n"
      ],
      "text/latex": [
       "\\begin{tabular}{r|ll}\n",
       "  & Growth & Value\\\\\n",
       "\\hline\n",
       "\t2007 &  12.56 &   0.09\\\\\n",
       "\t2008 & -38.32 & -35.97\\\\\n",
       "\t2009 &  36.29 &  19.58\\\\\n",
       "\t2010 &  16.96 &  14.28\\\\\n",
       "\t2011 &   1.71 &   1.00\\\\\n",
       "\t2012 &  16.89 &  15.00\\\\\n",
       "\t2013 &  32.16 &  32.85\\\\\n",
       "\t2014 &  13.47 &  13.05\\\\\n",
       "\t2015 &   3.17 &  -1.03\\\\\n",
       "\t2016 &   5.99 &  16.75\\\\\n",
       "\\end{tabular}\n"
      ],
      "text/markdown": [
       "\n",
       "| <!--/--> | Growth | Value |\n",
       "|---|---|---|\n",
       "| 2007 |  12.56 |   0.09 |\n",
       "| 2008 | -38.32 | -35.97 |\n",
       "| 2009 |  36.29 |  19.58 |\n",
       "| 2010 |  16.96 |  14.28 |\n",
       "| 2011 |   1.71 |   1.00 |\n",
       "| 2012 |  16.89 |  15.00 |\n",
       "| 2013 |  32.16 |  32.85 |\n",
       "| 2014 |  13.47 |  13.05 |\n",
       "| 2015 |   3.17 |  -1.03 |\n",
       "| 2016 |   5.99 |  16.75 |\n",
       "\n"
      ],
      "text/plain": [
       "     Growth Value \n",
       "2007  12.56   0.09\n",
       "2008 -38.32 -35.97\n",
       "2009  36.29  19.58\n",
       "2010  16.96  14.28\n",
       "2011   1.71   1.00\n",
       "2012  16.89  15.00\n",
       "2013  32.16  32.85\n",
       "2014  13.47  13.05\n",
       "2015   3.17  -1.03\n",
       "2016   5.99  16.75"
      ]
     },
     "metadata": {},
     "output_type": "display_data"
    }
   ],
   "source": [
    "setwd(\"D:/BAX441/Homeworks/Homeworks 4 and 5 Combined\")\n",
    "Q13<-read.csv('Question13.csv',header=TRUE, row.names=\"Year\")\n",
    "df<-data.matrix(Q13)\n",
    "\n",
    "Q13"
   ]
  },
  {
   "cell_type": "code",
   "execution_count": 4,
   "metadata": {
    "ExecuteTime": {
     "end_time": "2019-11-20T02:57:19.804498Z",
     "start_time": "2019-11-20T02:57:19.758Z"
    }
   },
   "outputs": [
    {
     "data": {
      "text/plain": [
       "\n",
       "\tSpearman's rank correlation rho\n",
       "\n",
       "data:  growth and value\n",
       "S = 32, p-value = 0.008236\n",
       "alternative hypothesis: true rho is not equal to 0\n",
       "sample estimates:\n",
       "      rho \n",
       "0.8060606 \n"
      ]
     },
     "metadata": {},
     "output_type": "display_data"
    },
    {
     "name": "stdout",
     "output_type": "stream",
     "text": [
      "[1] \"Yes, at 5% significant level, the performance of the returns of these two funds were similar over the given time frame.\"\n"
     ]
    }
   ],
   "source": [
    "#########Requirement Test######################\n",
    "#1. Randomly selected sample - Satisfy\n",
    "#2. Normality - Unsatisfy \n",
    "\n",
    "\n",
    "growth<-Q13$Growth\n",
    "value<-Q13$Value\n",
    "\n",
    "\n",
    "########Spearman Rank Correlation######################\n",
    "#H0: There is no correlation between growth and value (rho <=0)\n",
    "#H1: There is correlation between growth and value (rho>0)\n",
    "\n",
    "cor.test(x=growth, y=value,method='spearman')\n",
    "\n",
    "#######Conclusion######################\n",
    "print('Yes, at 5% significant level, the performance of the returns of these two funds were similar over the given time frame.')"
   ]
  },
  {
   "cell_type": "markdown",
   "metadata": {},
   "source": [
    "# (5 points) Question 14 \n",
    "Refer to the dataset from the General Social Survey provided on the CSV file Question14. If one works longer hours (HRS1) does the chances of losing one’s job (JOBLOSE: 1 = Very likely, 2 = Fairly likely, 3 = Not too likely, 4 = Not likely) become less likely? Conduct an appropriate statistical test to answer the question.\n"
   ]
  },
  {
   "cell_type": "code",
   "execution_count": 16,
   "metadata": {
    "ExecuteTime": {
     "end_time": "2019-11-17T23:04:49.076942Z",
     "start_time": "2019-11-17T23:04:47.184Z"
    },
    "collapsed": true
   },
   "outputs": [
    {
     "name": "stderr",
     "output_type": "stream",
     "text": [
      "Registered S3 methods overwritten by 'ggplot2':\n",
      "  method         from \n",
      "  [.quosures     rlang\n",
      "  c.quosures     rlang\n",
      "  print.quosures rlang\n",
      "Registered S3 method overwritten by 'rvest':\n",
      "  method            from\n",
      "  read_xml.response xml2\n",
      "-- Attaching packages --------------------------------------- tidyverse 1.2.1 --\n",
      "v ggplot2 3.1.1     v purrr   0.3.2\n",
      "v tibble  2.1.1     v dplyr   0.8.3\n",
      "v tidyr   0.8.3     v stringr 1.4.0\n",
      "v readr   1.3.1     v forcats 0.4.0\n",
      "-- Conflicts ------------------------------------------ tidyverse_conflicts() --\n",
      "x dplyr::filter() masks stats::filter()\n",
      "x dplyr::lag()    masks stats::lag()\n"
     ]
    }
   ],
   "source": [
    "library(tidyverse)\n"
   ]
  },
  {
   "cell_type": "code",
   "execution_count": 32,
   "metadata": {
    "ExecuteTime": {
     "end_time": "2019-11-17T23:32:22.629773Z",
     "start_time": "2019-11-17T23:32:22.563Z"
    },
    "scrolled": true
   },
   "outputs": [
    {
     "data": {
      "text/html": [
       "<table>\n",
       "<thead><tr><th></th><th scope=col>SEX</th><th scope=col>AGE</th><th scope=col>HRS1</th><th scope=col>JOBLOSE</th></tr></thead>\n",
       "<tbody>\n",
       "\t<tr><th scope=row>4</th><td>2 </td><td>56</td><td>20</td><td>4 </td></tr>\n",
       "\t<tr><th scope=row>6</th><td>2 </td><td>56</td><td>60</td><td>4 </td></tr>\n",
       "\t<tr><th scope=row>8</th><td>1 </td><td>34</td><td>40</td><td>3 </td></tr>\n",
       "\t<tr><th scope=row>14</th><td>2 </td><td>40</td><td>37</td><td>4 </td></tr>\n",
       "\t<tr><th scope=row>16</th><td>1 </td><td>56</td><td> 6</td><td>4 </td></tr>\n",
       "\t<tr><th scope=row>19</th><td>1 </td><td>51</td><td>50</td><td>3 </td></tr>\n",
       "\t<tr><th scope=row>21</th><td>2 </td><td>30</td><td>38</td><td>4 </td></tr>\n",
       "\t<tr><th scope=row>27</th><td>1 </td><td>35</td><td>40</td><td>3 </td></tr>\n",
       "\t<tr><th scope=row>28</th><td>1 </td><td>57</td><td>40</td><td>4 </td></tr>\n",
       "\t<tr><th scope=row>32</th><td>2 </td><td>61</td><td>40</td><td>4 </td></tr>\n",
       "\t<tr><th scope=row>35</th><td>1 </td><td>53</td><td>40</td><td>4 </td></tr>\n",
       "\t<tr><th scope=row>37</th><td>2 </td><td>38</td><td>40</td><td>4 </td></tr>\n",
       "\t<tr><th scope=row>38</th><td>1 </td><td>31</td><td>39</td><td>4 </td></tr>\n",
       "\t<tr><th scope=row>41</th><td>2 </td><td>61</td><td>35</td><td>2 </td></tr>\n",
       "\t<tr><th scope=row>44</th><td>1 </td><td>26</td><td>45</td><td>3 </td></tr>\n",
       "\t<tr><th scope=row>47</th><td>1 </td><td>30</td><td>45</td><td>4 </td></tr>\n",
       "\t<tr><th scope=row>48</th><td>1 </td><td>59</td><td>40</td><td>4 </td></tr>\n",
       "\t<tr><th scope=row>49</th><td>2 </td><td>32</td><td>40</td><td>3 </td></tr>\n",
       "\t<tr><th scope=row>50</th><td>1 </td><td>32</td><td>40</td><td>4 </td></tr>\n",
       "\t<tr><th scope=row>51</th><td>2 </td><td>52</td><td>40</td><td>4 </td></tr>\n",
       "\t<tr><th scope=row>55</th><td>1 </td><td>51</td><td>40</td><td>4 </td></tr>\n",
       "\t<tr><th scope=row>56</th><td>2 </td><td>24</td><td>16</td><td>3 </td></tr>\n",
       "\t<tr><th scope=row>59</th><td>2 </td><td>56</td><td>30</td><td>4 </td></tr>\n",
       "\t<tr><th scope=row>62</th><td>2 </td><td>32</td><td>36</td><td>3 </td></tr>\n",
       "\t<tr><th scope=row>65</th><td>1 </td><td>34</td><td>55</td><td>3 </td></tr>\n",
       "\t<tr><th scope=row>68</th><td>1 </td><td>57</td><td>70</td><td>4 </td></tr>\n",
       "\t<tr><th scope=row>73</th><td>2 </td><td>51</td><td>45</td><td>2 </td></tr>\n",
       "\t<tr><th scope=row>74</th><td>1 </td><td>27</td><td>41</td><td>4 </td></tr>\n",
       "\t<tr><th scope=row>81</th><td>1 </td><td>51</td><td>45</td><td>1 </td></tr>\n",
       "\t<tr><th scope=row>89</th><td>1 </td><td>25</td><td>65</td><td>4 </td></tr>\n",
       "\t<tr><th scope=row>...</th><td>...</td><td>...</td><td>...</td><td>...</td></tr>\n",
       "\t<tr><th scope=row>2471</th><td>2 </td><td>35</td><td>40</td><td>3 </td></tr>\n",
       "\t<tr><th scope=row>2475</th><td>1 </td><td>53</td><td>67</td><td>4 </td></tr>\n",
       "\t<tr><th scope=row>2478</th><td>2 </td><td>37</td><td>40</td><td>3 </td></tr>\n",
       "\t<tr><th scope=row>2480</th><td>2 </td><td>55</td><td>40</td><td>4 </td></tr>\n",
       "\t<tr><th scope=row>2484</th><td>2 </td><td>56</td><td>40</td><td>3 </td></tr>\n",
       "\t<tr><th scope=row>2487</th><td>1 </td><td>29</td><td>46</td><td>4 </td></tr>\n",
       "\t<tr><th scope=row>2488</th><td>2 </td><td>26</td><td>28</td><td>3 </td></tr>\n",
       "\t<tr><th scope=row>2490</th><td>2 </td><td>46</td><td>40</td><td>4 </td></tr>\n",
       "\t<tr><th scope=row>2492</th><td>2 </td><td>25</td><td>34</td><td>4 </td></tr>\n",
       "\t<tr><th scope=row>2494</th><td>2 </td><td>56</td><td>40</td><td>4 </td></tr>\n",
       "\t<tr><th scope=row>2500</th><td>1 </td><td>53</td><td>60</td><td>4 </td></tr>\n",
       "\t<tr><th scope=row>2507</th><td>1 </td><td>22</td><td>40</td><td>4 </td></tr>\n",
       "\t<tr><th scope=row>2508</th><td>2 </td><td>41</td><td>40</td><td>4 </td></tr>\n",
       "\t<tr><th scope=row>2509</th><td>2 </td><td>38</td><td>40</td><td>3 </td></tr>\n",
       "\t<tr><th scope=row>2510</th><td>1 </td><td>46</td><td>43</td><td>4 </td></tr>\n",
       "\t<tr><th scope=row>2512</th><td>1 </td><td>34</td><td>40</td><td>4 </td></tr>\n",
       "\t<tr><th scope=row>2514</th><td>2 </td><td>34</td><td>40</td><td>4 </td></tr>\n",
       "\t<tr><th scope=row>2516</th><td>2 </td><td>36</td><td>40</td><td>2 </td></tr>\n",
       "\t<tr><th scope=row>2517</th><td>1 </td><td>65</td><td>40</td><td>4 </td></tr>\n",
       "\t<tr><th scope=row>2518</th><td>2 </td><td>48</td><td>55</td><td>4 </td></tr>\n",
       "\t<tr><th scope=row>2519</th><td>2 </td><td>38</td><td>15</td><td>3 </td></tr>\n",
       "\t<tr><th scope=row>2521</th><td>2 </td><td>48</td><td>20</td><td>3 </td></tr>\n",
       "\t<tr><th scope=row>2522</th><td>2 </td><td>49</td><td>50</td><td>4 </td></tr>\n",
       "\t<tr><th scope=row>2525</th><td>2 </td><td>53</td><td>40</td><td>4 </td></tr>\n",
       "\t<tr><th scope=row>2526</th><td>1 </td><td>52</td><td>50</td><td>3 </td></tr>\n",
       "\t<tr><th scope=row>2529</th><td>1 </td><td>54</td><td>40</td><td>3 </td></tr>\n",
       "\t<tr><th scope=row>2531</th><td>1 </td><td>40</td><td>48</td><td>4 </td></tr>\n",
       "\t<tr><th scope=row>2535</th><td>1 </td><td>56</td><td>46</td><td>4 </td></tr>\n",
       "\t<tr><th scope=row>2536</th><td>1 </td><td>24</td><td>40</td><td>4 </td></tr>\n",
       "\t<tr><th scope=row>2538</th><td>2 </td><td>71</td><td>48</td><td>4 </td></tr>\n",
       "</tbody>\n",
       "</table>\n"
      ],
      "text/latex": [
       "\\begin{tabular}{r|llll}\n",
       "  & SEX & AGE & HRS1 & JOBLOSE\\\\\n",
       "\\hline\n",
       "\t4 & 2  & 56 & 20 & 4 \\\\\n",
       "\t6 & 2  & 56 & 60 & 4 \\\\\n",
       "\t8 & 1  & 34 & 40 & 3 \\\\\n",
       "\t14 & 2  & 40 & 37 & 4 \\\\\n",
       "\t16 & 1  & 56 &  6 & 4 \\\\\n",
       "\t19 & 1  & 51 & 50 & 3 \\\\\n",
       "\t21 & 2  & 30 & 38 & 4 \\\\\n",
       "\t27 & 1  & 35 & 40 & 3 \\\\\n",
       "\t28 & 1  & 57 & 40 & 4 \\\\\n",
       "\t32 & 2  & 61 & 40 & 4 \\\\\n",
       "\t35 & 1  & 53 & 40 & 4 \\\\\n",
       "\t37 & 2  & 38 & 40 & 4 \\\\\n",
       "\t38 & 1  & 31 & 39 & 4 \\\\\n",
       "\t41 & 2  & 61 & 35 & 2 \\\\\n",
       "\t44 & 1  & 26 & 45 & 3 \\\\\n",
       "\t47 & 1  & 30 & 45 & 4 \\\\\n",
       "\t48 & 1  & 59 & 40 & 4 \\\\\n",
       "\t49 & 2  & 32 & 40 & 3 \\\\\n",
       "\t50 & 1  & 32 & 40 & 4 \\\\\n",
       "\t51 & 2  & 52 & 40 & 4 \\\\\n",
       "\t55 & 1  & 51 & 40 & 4 \\\\\n",
       "\t56 & 2  & 24 & 16 & 3 \\\\\n",
       "\t59 & 2  & 56 & 30 & 4 \\\\\n",
       "\t62 & 2  & 32 & 36 & 3 \\\\\n",
       "\t65 & 1  & 34 & 55 & 3 \\\\\n",
       "\t68 & 1  & 57 & 70 & 4 \\\\\n",
       "\t73 & 2  & 51 & 45 & 2 \\\\\n",
       "\t74 & 1  & 27 & 41 & 4 \\\\\n",
       "\t81 & 1  & 51 & 45 & 1 \\\\\n",
       "\t89 & 1  & 25 & 65 & 4 \\\\\n",
       "\t... & ... & ... & ... & ...\\\\\n",
       "\t2471 & 2  & 35 & 40 & 3 \\\\\n",
       "\t2475 & 1  & 53 & 67 & 4 \\\\\n",
       "\t2478 & 2  & 37 & 40 & 3 \\\\\n",
       "\t2480 & 2  & 55 & 40 & 4 \\\\\n",
       "\t2484 & 2  & 56 & 40 & 3 \\\\\n",
       "\t2487 & 1  & 29 & 46 & 4 \\\\\n",
       "\t2488 & 2  & 26 & 28 & 3 \\\\\n",
       "\t2490 & 2  & 46 & 40 & 4 \\\\\n",
       "\t2492 & 2  & 25 & 34 & 4 \\\\\n",
       "\t2494 & 2  & 56 & 40 & 4 \\\\\n",
       "\t2500 & 1  & 53 & 60 & 4 \\\\\n",
       "\t2507 & 1  & 22 & 40 & 4 \\\\\n",
       "\t2508 & 2  & 41 & 40 & 4 \\\\\n",
       "\t2509 & 2  & 38 & 40 & 3 \\\\\n",
       "\t2510 & 1  & 46 & 43 & 4 \\\\\n",
       "\t2512 & 1  & 34 & 40 & 4 \\\\\n",
       "\t2514 & 2  & 34 & 40 & 4 \\\\\n",
       "\t2516 & 2  & 36 & 40 & 2 \\\\\n",
       "\t2517 & 1  & 65 & 40 & 4 \\\\\n",
       "\t2518 & 2  & 48 & 55 & 4 \\\\\n",
       "\t2519 & 2  & 38 & 15 & 3 \\\\\n",
       "\t2521 & 2  & 48 & 20 & 3 \\\\\n",
       "\t2522 & 2  & 49 & 50 & 4 \\\\\n",
       "\t2525 & 2  & 53 & 40 & 4 \\\\\n",
       "\t2526 & 1  & 52 & 50 & 3 \\\\\n",
       "\t2529 & 1  & 54 & 40 & 3 \\\\\n",
       "\t2531 & 1  & 40 & 48 & 4 \\\\\n",
       "\t2535 & 1  & 56 & 46 & 4 \\\\\n",
       "\t2536 & 1  & 24 & 40 & 4 \\\\\n",
       "\t2538 & 2  & 71 & 48 & 4 \\\\\n",
       "\\end{tabular}\n"
      ],
      "text/markdown": [
       "\n",
       "| <!--/--> | SEX | AGE | HRS1 | JOBLOSE |\n",
       "|---|---|---|---|---|\n",
       "| 4 | 2  | 56 | 20 | 4  |\n",
       "| 6 | 2  | 56 | 60 | 4  |\n",
       "| 8 | 1  | 34 | 40 | 3  |\n",
       "| 14 | 2  | 40 | 37 | 4  |\n",
       "| 16 | 1  | 56 |  6 | 4  |\n",
       "| 19 | 1  | 51 | 50 | 3  |\n",
       "| 21 | 2  | 30 | 38 | 4  |\n",
       "| 27 | 1  | 35 | 40 | 3  |\n",
       "| 28 | 1  | 57 | 40 | 4  |\n",
       "| 32 | 2  | 61 | 40 | 4  |\n",
       "| 35 | 1  | 53 | 40 | 4  |\n",
       "| 37 | 2  | 38 | 40 | 4  |\n",
       "| 38 | 1  | 31 | 39 | 4  |\n",
       "| 41 | 2  | 61 | 35 | 2  |\n",
       "| 44 | 1  | 26 | 45 | 3  |\n",
       "| 47 | 1  | 30 | 45 | 4  |\n",
       "| 48 | 1  | 59 | 40 | 4  |\n",
       "| 49 | 2  | 32 | 40 | 3  |\n",
       "| 50 | 1  | 32 | 40 | 4  |\n",
       "| 51 | 2  | 52 | 40 | 4  |\n",
       "| 55 | 1  | 51 | 40 | 4  |\n",
       "| 56 | 2  | 24 | 16 | 3  |\n",
       "| 59 | 2  | 56 | 30 | 4  |\n",
       "| 62 | 2  | 32 | 36 | 3  |\n",
       "| 65 | 1  | 34 | 55 | 3  |\n",
       "| 68 | 1  | 57 | 70 | 4  |\n",
       "| 73 | 2  | 51 | 45 | 2  |\n",
       "| 74 | 1  | 27 | 41 | 4  |\n",
       "| 81 | 1  | 51 | 45 | 1  |\n",
       "| 89 | 1  | 25 | 65 | 4  |\n",
       "| ... | ... | ... | ... | ... |\n",
       "| 2471 | 2  | 35 | 40 | 3  |\n",
       "| 2475 | 1  | 53 | 67 | 4  |\n",
       "| 2478 | 2  | 37 | 40 | 3  |\n",
       "| 2480 | 2  | 55 | 40 | 4  |\n",
       "| 2484 | 2  | 56 | 40 | 3  |\n",
       "| 2487 | 1  | 29 | 46 | 4  |\n",
       "| 2488 | 2  | 26 | 28 | 3  |\n",
       "| 2490 | 2  | 46 | 40 | 4  |\n",
       "| 2492 | 2  | 25 | 34 | 4  |\n",
       "| 2494 | 2  | 56 | 40 | 4  |\n",
       "| 2500 | 1  | 53 | 60 | 4  |\n",
       "| 2507 | 1  | 22 | 40 | 4  |\n",
       "| 2508 | 2  | 41 | 40 | 4  |\n",
       "| 2509 | 2  | 38 | 40 | 3  |\n",
       "| 2510 | 1  | 46 | 43 | 4  |\n",
       "| 2512 | 1  | 34 | 40 | 4  |\n",
       "| 2514 | 2  | 34 | 40 | 4  |\n",
       "| 2516 | 2  | 36 | 40 | 2  |\n",
       "| 2517 | 1  | 65 | 40 | 4  |\n",
       "| 2518 | 2  | 48 | 55 | 4  |\n",
       "| 2519 | 2  | 38 | 15 | 3  |\n",
       "| 2521 | 2  | 48 | 20 | 3  |\n",
       "| 2522 | 2  | 49 | 50 | 4  |\n",
       "| 2525 | 2  | 53 | 40 | 4  |\n",
       "| 2526 | 1  | 52 | 50 | 3  |\n",
       "| 2529 | 1  | 54 | 40 | 3  |\n",
       "| 2531 | 1  | 40 | 48 | 4  |\n",
       "| 2535 | 1  | 56 | 46 | 4  |\n",
       "| 2536 | 1  | 24 | 40 | 4  |\n",
       "| 2538 | 2  | 71 | 48 | 4  |\n",
       "\n"
      ],
      "text/plain": [
       "     SEX AGE HRS1 JOBLOSE\n",
       "4    2   56  20   4      \n",
       "6    2   56  60   4      \n",
       "8    1   34  40   3      \n",
       "14   2   40  37   4      \n",
       "16   1   56   6   4      \n",
       "19   1   51  50   3      \n",
       "21   2   30  38   4      \n",
       "27   1   35  40   3      \n",
       "28   1   57  40   4      \n",
       "32   2   61  40   4      \n",
       "35   1   53  40   4      \n",
       "37   2   38  40   4      \n",
       "38   1   31  39   4      \n",
       "41   2   61  35   2      \n",
       "44   1   26  45   3      \n",
       "47   1   30  45   4      \n",
       "48   1   59  40   4      \n",
       "49   2   32  40   3      \n",
       "50   1   32  40   4      \n",
       "51   2   52  40   4      \n",
       "55   1   51  40   4      \n",
       "56   2   24  16   3      \n",
       "59   2   56  30   4      \n",
       "62   2   32  36   3      \n",
       "65   1   34  55   3      \n",
       "68   1   57  70   4      \n",
       "73   2   51  45   2      \n",
       "74   1   27  41   4      \n",
       "81   1   51  45   1      \n",
       "89   1   25  65   4      \n",
       "...  ... ... ...  ...    \n",
       "2471 2   35  40   3      \n",
       "2475 1   53  67   4      \n",
       "2478 2   37  40   3      \n",
       "2480 2   55  40   4      \n",
       "2484 2   56  40   3      \n",
       "2487 1   29  46   4      \n",
       "2488 2   26  28   3      \n",
       "2490 2   46  40   4      \n",
       "2492 2   25  34   4      \n",
       "2494 2   56  40   4      \n",
       "2500 1   53  60   4      \n",
       "2507 1   22  40   4      \n",
       "2508 2   41  40   4      \n",
       "2509 2   38  40   3      \n",
       "2510 1   46  43   4      \n",
       "2512 1   34  40   4      \n",
       "2514 2   34  40   4      \n",
       "2516 2   36  40   2      \n",
       "2517 1   65  40   4      \n",
       "2518 2   48  55   4      \n",
       "2519 2   38  15   3      \n",
       "2521 2   48  20   3      \n",
       "2522 2   49  50   4      \n",
       "2525 2   53  40   4      \n",
       "2526 1   52  50   3      \n",
       "2529 1   54  40   3      \n",
       "2531 1   40  48   4      \n",
       "2535 1   56  46   4      \n",
       "2536 1   24  40   4      \n",
       "2538 2   71  48   4      "
      ]
     },
     "metadata": {},
     "output_type": "display_data"
    }
   ],
   "source": [
    "setwd(\"D:/BAX441/Homeworks/Homeworks 4 and 5 Combined\")\n",
    "Q14<-read.csv('Question14.csv')\n",
    "df<-Q14 %>% drop_na(c(\"HRS1\",'JOBLOSE'))\n",
    "df<-df[,2:5]\n",
    "df_1ANOVA<-df[,3:4]\n",
    "joblose<-as.factor(df_1ANOVA$JOBLOSE)\n",
    "hours<-df_1ANOVA$HRS1\n",
    "df"
   ]
  },
  {
   "cell_type": "code",
   "execution_count": 33,
   "metadata": {
    "ExecuteTime": {
     "end_time": "2019-11-17T23:32:27.139943Z",
     "start_time": "2019-11-17T23:32:27.082Z"
    },
    "scrolled": false
   },
   "outputs": [
    {
     "data": {
      "text/plain": [
       "\n",
       "\tAnderson-Darling normality test\n",
       "\n",
       "data:  resids_ex14\n",
       "A = 19.506, p-value < 2.2e-16\n"
      ]
     },
     "metadata": {},
     "output_type": "display_data"
    },
    {
     "data": {
      "text/plain": [
       "\n",
       "\tFligner-Killeen test of homogeneity of variances\n",
       "\n",
       "data:  hours by joblose\n",
       "Fligner-Killeen:med chi-squared = 13.297, df = 3, p-value = 0.004036\n"
      ]
     },
     "metadata": {},
     "output_type": "display_data"
    },
    {
     "data": {
      "text/html": [
       "<table>\n",
       "<thead><tr><th></th><th scope=col>Df</th><th scope=col>F value</th><th scope=col>Pr(&gt;F)</th></tr></thead>\n",
       "<tbody>\n",
       "\t<tr><th scope=row>group</th><td>  3        </td><td>4.68726    </td><td>0.002945543</td></tr>\n",
       "\t<tr><th scope=row> </th><td>997        </td><td>     NA    </td><td>         NA</td></tr>\n",
       "</tbody>\n",
       "</table>\n"
      ],
      "text/latex": [
       "\\begin{tabular}{r|lll}\n",
       "  & Df & F value & Pr(>F)\\\\\n",
       "\\hline\n",
       "\tgroup &   3         & 4.68726     & 0.002945543\\\\\n",
       "\t  & 997         &      NA     &          NA\\\\\n",
       "\\end{tabular}\n"
      ],
      "text/markdown": [
       "\n",
       "| <!--/--> | Df | F value | Pr(>F) |\n",
       "|---|---|---|---|\n",
       "| group |   3         | 4.68726     | 0.002945543 |\n",
       "|   | 997         |      NA     |          NA |\n",
       "\n"
      ],
      "text/plain": [
       "      Df  F value Pr(>F)     \n",
       "group   3 4.68726 0.002945543\n",
       "      997      NA          NA"
      ]
     },
     "metadata": {},
     "output_type": "display_data"
    },
    {
     "name": "stderr",
     "output_type": "stream",
     "text": [
      "Warning message in cor.test.default(x = df$HRS1, y = df$JOBLOSE, method = \"spearman\"):\n",
      "\"Cannot compute exact p-value with ties\""
     ]
    },
    {
     "data": {
      "text/plain": [
       "\n",
       "\tSpearman's rank correlation rho\n",
       "\n",
       "data:  df$HRS1 and df$JOBLOSE\n",
       "S = 151103791, p-value = 0.002339\n",
       "alternative hypothesis: true rho is not equal to 0\n",
       "sample estimates:\n",
       "       rho \n",
       "0.09609079 \n"
      ]
     },
     "metadata": {},
     "output_type": "display_data"
    },
    {
     "name": "stdout",
     "output_type": "stream",
     "text": [
      "[1] \"Yes, at 5% significant level,there is correlation between work hours and job lose: more work hours, less chance to lose job. \\nBut the correlation is weak.\"\n"
     ]
    }
   ],
   "source": [
    "#########Requirement Test######################\n",
    "#1. Randomly selected sample - Satisfy\n",
    "#2. Normality - Unsatisfy, because the p-value of the normality test is less than 0.05\n",
    "model_ex14 <- lm( hours~  joblose)\n",
    "resids_ex14 <- residuals(model_ex14)\n",
    "preds_ex14 <- predict(model_ex14)\n",
    "\n",
    "nortest::ad.test(resids_ex14)\n",
    "\n",
    "\n",
    "#3. Variances are constant - Unsatisfy, because the p-value of the normality test is larger than 0.05\n",
    "fligner.test(hours~  joblose)\n",
    "car::leveneTest(hours~  joblose)\n",
    "\n",
    "########Spearman Rank Correlation######################\n",
    "#H0: There is no correlation between work hours and joblose (rho<=0)\n",
    "#H1: There is correlation between work hours and joblose (rho>0)\n",
    "\n",
    "cor.test(x=df$HRS1, y=df$JOBLOSE,method='spearman')\n",
    "\n",
    "########Conclusion#########################\n",
    "print('Yes, at 5% significant level,there is correlation between work hours and job lose: more work hours, less chance to lose job. \n",
    "But the correlation is weak.')"
   ]
  },
  {
   "cell_type": "markdown",
   "metadata": {},
   "source": [
    "# (5 points) Question 15 \n",
    "Does the brand name of an ice cream affect consumers’ perceptions of it? The marketing manager of a major dairy pondered this question. She decided to ask 60 randomly selected people to taste the same flavor of ice cream in two different dishes. The dishes contained exactly the same ice cream but were labeled differently. One was given a name that suggested that its maker was European and sophisticated; the other was given a name that implied that the product was domestic and inexpensive. The tasters were asked to rate each ice cream on a 5-point scale, where 1 = Poor, 2 = Fair, 3 = Good, 4 = Very good, and 5 = Excellent. Do the results allow the manager to conclude at the 10% significance level that the European brand is preferred? Dataset is on the CSV file Question15.\n"
   ]
  },
  {
   "cell_type": "code",
   "execution_count": 5,
   "metadata": {
    "ExecuteTime": {
     "end_time": "2019-11-20T03:32:56.408384Z",
     "start_time": "2019-11-20T03:32:56.350Z"
    },
    "collapsed": true
   },
   "outputs": [
    {
     "data": {
      "text/html": [
       "<table>\n",
       "<thead><tr><th scope=col>European</th><th scope=col>Domestic</th></tr></thead>\n",
       "<tbody>\n",
       "\t<tr><td>3</td><td>2</td></tr>\n",
       "\t<tr><td>5</td><td>4</td></tr>\n",
       "\t<tr><td>5</td><td>5</td></tr>\n",
       "\t<tr><td>3</td><td>2</td></tr>\n",
       "\t<tr><td>5</td><td>3</td></tr>\n",
       "\t<tr><td>4</td><td>3</td></tr>\n",
       "\t<tr><td>3</td><td>4</td></tr>\n",
       "\t<tr><td>3</td><td>3</td></tr>\n",
       "\t<tr><td>4</td><td>4</td></tr>\n",
       "\t<tr><td>4</td><td>4</td></tr>\n",
       "\t<tr><td>4</td><td>3</td></tr>\n",
       "\t<tr><td>4</td><td>3</td></tr>\n",
       "\t<tr><td>4</td><td>3</td></tr>\n",
       "\t<tr><td>5</td><td>5</td></tr>\n",
       "\t<tr><td>3</td><td>3</td></tr>\n",
       "\t<tr><td>5</td><td>4</td></tr>\n",
       "\t<tr><td>5</td><td>5</td></tr>\n",
       "\t<tr><td>4</td><td>4</td></tr>\n",
       "\t<tr><td>4</td><td>3</td></tr>\n",
       "\t<tr><td>3</td><td>4</td></tr>\n",
       "\t<tr><td>4</td><td>2</td></tr>\n",
       "\t<tr><td>4</td><td>5</td></tr>\n",
       "\t<tr><td>5</td><td>5</td></tr>\n",
       "\t<tr><td>4</td><td>3</td></tr>\n",
       "\t<tr><td>4</td><td>3</td></tr>\n",
       "\t<tr><td>4</td><td>2</td></tr>\n",
       "\t<tr><td>5</td><td>4</td></tr>\n",
       "\t<tr><td>5</td><td>5</td></tr>\n",
       "\t<tr><td>4</td><td>4</td></tr>\n",
       "\t<tr><td>4</td><td>3</td></tr>\n",
       "\t<tr><td>5</td><td>5</td></tr>\n",
       "\t<tr><td>5</td><td>5</td></tr>\n",
       "\t<tr><td>4</td><td>4</td></tr>\n",
       "\t<tr><td>5</td><td>5</td></tr>\n",
       "\t<tr><td>3</td><td>2</td></tr>\n",
       "\t<tr><td>4</td><td>4</td></tr>\n",
       "\t<tr><td>5</td><td>3</td></tr>\n",
       "\t<tr><td>3</td><td>1</td></tr>\n",
       "\t<tr><td>4</td><td>4</td></tr>\n",
       "\t<tr><td>3</td><td>4</td></tr>\n",
       "\t<tr><td>5</td><td>4</td></tr>\n",
       "\t<tr><td>4</td><td>4</td></tr>\n",
       "\t<tr><td>4</td><td>5</td></tr>\n",
       "\t<tr><td>3</td><td>2</td></tr>\n",
       "\t<tr><td>3</td><td>1</td></tr>\n",
       "\t<tr><td>5</td><td>4</td></tr>\n",
       "\t<tr><td>5</td><td>5</td></tr>\n",
       "\t<tr><td>3</td><td>4</td></tr>\n",
       "\t<tr><td>4</td><td>3</td></tr>\n",
       "\t<tr><td>5</td><td>4</td></tr>\n",
       "\t<tr><td>4</td><td>3</td></tr>\n",
       "\t<tr><td>5</td><td>4</td></tr>\n",
       "\t<tr><td>5</td><td>5</td></tr>\n",
       "\t<tr><td>5</td><td>3</td></tr>\n",
       "\t<tr><td>5</td><td>3</td></tr>\n",
       "\t<tr><td>5</td><td>5</td></tr>\n",
       "\t<tr><td>2</td><td>3</td></tr>\n",
       "\t<tr><td>5</td><td>4</td></tr>\n",
       "\t<tr><td>5</td><td>5</td></tr>\n",
       "\t<tr><td>4</td><td>5</td></tr>\n",
       "</tbody>\n",
       "</table>\n"
      ],
      "text/latex": [
       "\\begin{tabular}{r|ll}\n",
       " European & Domestic\\\\\n",
       "\\hline\n",
       "\t 3 & 2\\\\\n",
       "\t 5 & 4\\\\\n",
       "\t 5 & 5\\\\\n",
       "\t 3 & 2\\\\\n",
       "\t 5 & 3\\\\\n",
       "\t 4 & 3\\\\\n",
       "\t 3 & 4\\\\\n",
       "\t 3 & 3\\\\\n",
       "\t 4 & 4\\\\\n",
       "\t 4 & 4\\\\\n",
       "\t 4 & 3\\\\\n",
       "\t 4 & 3\\\\\n",
       "\t 4 & 3\\\\\n",
       "\t 5 & 5\\\\\n",
       "\t 3 & 3\\\\\n",
       "\t 5 & 4\\\\\n",
       "\t 5 & 5\\\\\n",
       "\t 4 & 4\\\\\n",
       "\t 4 & 3\\\\\n",
       "\t 3 & 4\\\\\n",
       "\t 4 & 2\\\\\n",
       "\t 4 & 5\\\\\n",
       "\t 5 & 5\\\\\n",
       "\t 4 & 3\\\\\n",
       "\t 4 & 3\\\\\n",
       "\t 4 & 2\\\\\n",
       "\t 5 & 4\\\\\n",
       "\t 5 & 5\\\\\n",
       "\t 4 & 4\\\\\n",
       "\t 4 & 3\\\\\n",
       "\t 5 & 5\\\\\n",
       "\t 5 & 5\\\\\n",
       "\t 4 & 4\\\\\n",
       "\t 5 & 5\\\\\n",
       "\t 3 & 2\\\\\n",
       "\t 4 & 4\\\\\n",
       "\t 5 & 3\\\\\n",
       "\t 3 & 1\\\\\n",
       "\t 4 & 4\\\\\n",
       "\t 3 & 4\\\\\n",
       "\t 5 & 4\\\\\n",
       "\t 4 & 4\\\\\n",
       "\t 4 & 5\\\\\n",
       "\t 3 & 2\\\\\n",
       "\t 3 & 1\\\\\n",
       "\t 5 & 4\\\\\n",
       "\t 5 & 5\\\\\n",
       "\t 3 & 4\\\\\n",
       "\t 4 & 3\\\\\n",
       "\t 5 & 4\\\\\n",
       "\t 4 & 3\\\\\n",
       "\t 5 & 4\\\\\n",
       "\t 5 & 5\\\\\n",
       "\t 5 & 3\\\\\n",
       "\t 5 & 3\\\\\n",
       "\t 5 & 5\\\\\n",
       "\t 2 & 3\\\\\n",
       "\t 5 & 4\\\\\n",
       "\t 5 & 5\\\\\n",
       "\t 4 & 5\\\\\n",
       "\\end{tabular}\n"
      ],
      "text/markdown": [
       "\n",
       "| European | Domestic |\n",
       "|---|---|\n",
       "| 3 | 2 |\n",
       "| 5 | 4 |\n",
       "| 5 | 5 |\n",
       "| 3 | 2 |\n",
       "| 5 | 3 |\n",
       "| 4 | 3 |\n",
       "| 3 | 4 |\n",
       "| 3 | 3 |\n",
       "| 4 | 4 |\n",
       "| 4 | 4 |\n",
       "| 4 | 3 |\n",
       "| 4 | 3 |\n",
       "| 4 | 3 |\n",
       "| 5 | 5 |\n",
       "| 3 | 3 |\n",
       "| 5 | 4 |\n",
       "| 5 | 5 |\n",
       "| 4 | 4 |\n",
       "| 4 | 3 |\n",
       "| 3 | 4 |\n",
       "| 4 | 2 |\n",
       "| 4 | 5 |\n",
       "| 5 | 5 |\n",
       "| 4 | 3 |\n",
       "| 4 | 3 |\n",
       "| 4 | 2 |\n",
       "| 5 | 4 |\n",
       "| 5 | 5 |\n",
       "| 4 | 4 |\n",
       "| 4 | 3 |\n",
       "| 5 | 5 |\n",
       "| 5 | 5 |\n",
       "| 4 | 4 |\n",
       "| 5 | 5 |\n",
       "| 3 | 2 |\n",
       "| 4 | 4 |\n",
       "| 5 | 3 |\n",
       "| 3 | 1 |\n",
       "| 4 | 4 |\n",
       "| 3 | 4 |\n",
       "| 5 | 4 |\n",
       "| 4 | 4 |\n",
       "| 4 | 5 |\n",
       "| 3 | 2 |\n",
       "| 3 | 1 |\n",
       "| 5 | 4 |\n",
       "| 5 | 5 |\n",
       "| 3 | 4 |\n",
       "| 4 | 3 |\n",
       "| 5 | 4 |\n",
       "| 4 | 3 |\n",
       "| 5 | 4 |\n",
       "| 5 | 5 |\n",
       "| 5 | 3 |\n",
       "| 5 | 3 |\n",
       "| 5 | 5 |\n",
       "| 2 | 3 |\n",
       "| 5 | 4 |\n",
       "| 5 | 5 |\n",
       "| 4 | 5 |\n",
       "\n"
      ],
      "text/plain": [
       "   European Domestic\n",
       "1  3        2       \n",
       "2  5        4       \n",
       "3  5        5       \n",
       "4  3        2       \n",
       "5  5        3       \n",
       "6  4        3       \n",
       "7  3        4       \n",
       "8  3        3       \n",
       "9  4        4       \n",
       "10 4        4       \n",
       "11 4        3       \n",
       "12 4        3       \n",
       "13 4        3       \n",
       "14 5        5       \n",
       "15 3        3       \n",
       "16 5        4       \n",
       "17 5        5       \n",
       "18 4        4       \n",
       "19 4        3       \n",
       "20 3        4       \n",
       "21 4        2       \n",
       "22 4        5       \n",
       "23 5        5       \n",
       "24 4        3       \n",
       "25 4        3       \n",
       "26 4        2       \n",
       "27 5        4       \n",
       "28 5        5       \n",
       "29 4        4       \n",
       "30 4        3       \n",
       "31 5        5       \n",
       "32 5        5       \n",
       "33 4        4       \n",
       "34 5        5       \n",
       "35 3        2       \n",
       "36 4        4       \n",
       "37 5        3       \n",
       "38 3        1       \n",
       "39 4        4       \n",
       "40 3        4       \n",
       "41 5        4       \n",
       "42 4        4       \n",
       "43 4        5       \n",
       "44 3        2       \n",
       "45 3        1       \n",
       "46 5        4       \n",
       "47 5        5       \n",
       "48 3        4       \n",
       "49 4        3       \n",
       "50 5        4       \n",
       "51 4        3       \n",
       "52 5        4       \n",
       "53 5        5       \n",
       "54 5        3       \n",
       "55 5        3       \n",
       "56 5        5       \n",
       "57 2        3       \n",
       "58 5        4       \n",
       "59 5        5       \n",
       "60 4        5       "
      ]
     },
     "metadata": {},
     "output_type": "display_data"
    }
   ],
   "source": [
    "setwd(\"D:/BAX441/Homeworks/Homeworks 4 and 5 Combined\")\n",
    "Q15<-read.csv('Question15.csv')\n",
    "Q15"
   ]
  },
  {
   "cell_type": "code",
   "execution_count": 8,
   "metadata": {
    "ExecuteTime": {
     "end_time": "2019-11-20T03:35:05.521381Z",
     "start_time": "2019-11-20T03:35:04.288Z"
    }
   },
   "outputs": [
    {
     "name": "stderr",
     "output_type": "stream",
     "text": [
      "Warning message:\n",
      "\"package 'BSDA' is in use and will not be installed\""
     ]
    },
    {
     "data": {
      "text/plain": [
       "\n",
       "\tDependent-samples Sign-Test\n",
       "\n",
       "data:  Q15$European and Q15$Domestic\n",
       "S = 30, p-value = 0.000236\n",
       "alternative hypothesis: true median difference is greater than 0\n",
       "90 percent confidence interval:\n",
       "   0 Inf\n",
       "sample estimates:\n",
       "median of x-y \n",
       "          0.5 \n",
       "\n",
       "Achieved and Interpolated Confidence Intervals: \n",
       "\n",
       "                  Conf.Level L.E.pt U.E.pt\n",
       "Lower Achieved CI     0.8775      0    Inf\n",
       "Interpolated CI       0.9000      0    Inf\n",
       "Upper Achieved CI     0.9225      0    Inf\n"
      ]
     },
     "metadata": {},
     "output_type": "display_data"
    },
    {
     "name": "stdout",
     "output_type": "stream",
     "text": [
      "[1] \"Yes, at the 10% significant level, the survey result show that European brand is preffered.\"\n"
     ]
    }
   ],
   "source": [
    "#########Requirement Test######################\n",
    "#1. Randomly selected sample - Satisfy\n",
    "#2. Normality - Unsatisfy because is ordinal data\n",
    "#hist(Q15$European)\n",
    "#hist(Q15$Domestic)\n",
    "\n",
    "#########Sign Test######################\n",
    "#H0: The European brand is less preferred than or equal to the local brand\n",
    "#H1: The European brand is more preferred than the local brand\n",
    "\n",
    "install.packages('BSDA')\n",
    "library(BSDA)\n",
    "\n",
    "SIGN.test(x = Q15$European,\n",
    "          y = Q15$Domestic,\n",
    "          alternative = \"greater\",\n",
    "          conf.level = 0.9)\n",
    "\n",
    "########Conclusion#############################\n",
    "print('Yes, at the 10% significant level, the survey result show that European brand is preffered.')"
   ]
  },
  {
   "cell_type": "markdown",
   "metadata": {},
   "source": [
    "# (5 points) Question 16\n",
    "The New York Times has been publishing its weekly list of best-selling books in the United States for more than 80 years. For certain book subcategories, the best-selling lists are published monthly. On the New York Times best-selling book website, there is a “buy” button below (or next to) each listed book. The button directs the viewer to online bookstore options. Two such options are: Amazon and Barnes and Noble. The CSV dataset Question16 contains online prices of the best-selling business books for the month of September a couple of years ago. Older titles are paperback versus paperback comparisons, while newer titles are hardback versus hardback comparisons. Is there a systematic difference in book prices between the two online booksellers? Use an appropriate statistical test at the 5% significance level to infer.\n"
   ]
  },
  {
   "cell_type": "code",
   "execution_count": 34,
   "metadata": {
    "ExecuteTime": {
     "end_time": "2019-11-17T23:35:00.649018Z",
     "start_time": "2019-11-17T23:35:00.617Z"
    }
   },
   "outputs": [
    {
     "data": {
      "text/html": [
       "<table>\n",
       "<thead><tr><th scope=col>Title</th><th scope=col>BN</th><th scope=col>Amazon</th></tr></thead>\n",
       "<tbody>\n",
       "\t<tr><td>Outliers                           </td><td>10.39                              </td><td>10.19                              </td></tr>\n",
       "\t<tr><td>The Path Between the Seas          </td><td>13.44                              </td><td>13.18                              </td></tr>\n",
       "\t<tr><td>Thinking, Fast and Slow            </td><td> 9.99                              </td><td> 9.90                              </td></tr>\n",
       "\t<tr><td>The Power of Habit                 </td><td> 9.97                              </td><td> 9.78                              </td></tr>\n",
       "\t<tr><td>#GIRLBOSS                          </td><td>16.25                              </td><td>16.17                              </td></tr>\n",
       "\t<tr><td>The Organized Mind                 </td><td>18.03                              </td><td>17.68                              </td></tr>\n",
       "\t<tr><td>Capital in the Twenty-First Century</td><td>24.08                              </td><td>23.97                              </td></tr>\n",
       "\t<tr><td>Think Like a Freak                 </td><td>17.73                              </td><td>17.73                              </td></tr>\n",
       "\t<tr><td>Business Adventures                </td><td>10.25                              </td><td>10.25                              </td></tr>\n",
       "\t<tr><td>Lean In                            </td><td>16.11                              </td><td>16.03                              </td></tr>\n",
       "</tbody>\n",
       "</table>\n"
      ],
      "text/latex": [
       "\\begin{tabular}{r|lll}\n",
       " Title & BN & Amazon\\\\\n",
       "\\hline\n",
       "\t Outliers                            & 10.39                               & 10.19                              \\\\\n",
       "\t The Path Between the Seas           & 13.44                               & 13.18                              \\\\\n",
       "\t Thinking, Fast and Slow             &  9.99                               &  9.90                              \\\\\n",
       "\t The Power of Habit                  &  9.97                               &  9.78                              \\\\\n",
       "\t \\#GIRLBOSS                           & 16.25                                 & 16.17                                \\\\\n",
       "\t The Organized Mind                  & 18.03                               & 17.68                              \\\\\n",
       "\t Capital in the Twenty-First Century & 24.08                               & 23.97                              \\\\\n",
       "\t Think Like a Freak                  & 17.73                               & 17.73                              \\\\\n",
       "\t Business Adventures                 & 10.25                               & 10.25                              \\\\\n",
       "\t Lean In                             & 16.11                               & 16.03                              \\\\\n",
       "\\end{tabular}\n"
      ],
      "text/markdown": [
       "\n",
       "| Title | BN | Amazon |\n",
       "|---|---|---|\n",
       "| Outliers                            | 10.39                               | 10.19                               |\n",
       "| The Path Between the Seas           | 13.44                               | 13.18                               |\n",
       "| Thinking, Fast and Slow             |  9.99                               |  9.90                               |\n",
       "| The Power of Habit                  |  9.97                               |  9.78                               |\n",
       "| #GIRLBOSS                           | 16.25                               | 16.17                               |\n",
       "| The Organized Mind                  | 18.03                               | 17.68                               |\n",
       "| Capital in the Twenty-First Century | 24.08                               | 23.97                               |\n",
       "| Think Like a Freak                  | 17.73                               | 17.73                               |\n",
       "| Business Adventures                 | 10.25                               | 10.25                               |\n",
       "| Lean In                             | 16.11                               | 16.03                               |\n",
       "\n"
      ],
      "text/plain": [
       "   Title                               BN    Amazon\n",
       "1  Outliers                            10.39 10.19 \n",
       "2  The Path Between the Seas           13.44 13.18 \n",
       "3  Thinking, Fast and Slow              9.99  9.90 \n",
       "4  The Power of Habit                   9.97  9.78 \n",
       "5  #GIRLBOSS                           16.25 16.17 \n",
       "6  The Organized Mind                  18.03 17.68 \n",
       "7  Capital in the Twenty-First Century 24.08 23.97 \n",
       "8  Think Like a Freak                  17.73 17.73 \n",
       "9  Business Adventures                 10.25 10.25 \n",
       "10 Lean In                             16.11 16.03 "
      ]
     },
     "metadata": {},
     "output_type": "display_data"
    }
   ],
   "source": [
    "setwd(\"D:/BAX441/Homeworks/Homeworks 4 and 5 Combined\")\n",
    "Q16<-read.csv('Question16.csv')\n",
    "Q16"
   ]
  },
  {
   "cell_type": "code",
   "execution_count": 35,
   "metadata": {
    "ExecuteTime": {
     "end_time": "2019-11-17T23:35:04.903603Z",
     "start_time": "2019-11-17T23:35:04.864Z"
    }
   },
   "outputs": [
    {
     "name": "stderr",
     "output_type": "stream",
     "text": [
      "Warning message in wilcox.test.default(bn, amazon, alt = \"two.sided\", paired = TRUE, :\n",
      "\"cannot compute exact p-value with ties\"Warning message in wilcox.test.default(bn, amazon, alt = \"two.sided\", paired = TRUE, :\n",
      "\"cannot compute exact p-value with zeroes\""
     ]
    },
    {
     "data": {
      "text/plain": [
       "\n",
       "\tWilcoxon signed rank test with continuity correction\n",
       "\n",
       "data:  bn and amazon\n",
       "V = 36, p-value = 0.01415\n",
       "alternative hypothesis: true location shift is not equal to 0\n"
      ]
     },
     "metadata": {},
     "output_type": "display_data"
    },
    {
     "name": "stdout",
     "output_type": "stream",
     "text": [
      "[1] \"Yes, at 5% significant level, there is difference in price between these two bookstore.\"\n"
     ]
    }
   ],
   "source": [
    "#########Requirement Test######################\n",
    "#1. Randomly selected sample - Satisfy\n",
    "#2. Normality - Unsatisfy \n",
    "\n",
    "#########Wilcoxon Signed Rank Sum Test (Paired)################\n",
    "#H0: There is not difference in book price between bn and amazon\n",
    "#H1: There is difference in book price between bn and amazon\n",
    "bn<-Q16$BN\n",
    "amazon<-Q16$Amazon\n",
    "wilcox.test(bn,amazon,alt='two.sided',paired=TRUE,exacted=FALSE,conf.level=0.95)\n",
    "\n",
    "#########Conclusion###########################\n",
    "print('Yes, at 5% significant level, there is difference in price between these two bookstore.')"
   ]
  },
  {
   "cell_type": "markdown",
   "metadata": {},
   "source": [
    "# (5 points) Question 17\n",
    "Suppose that a random sample of 100 observations was drawn from a population. After calculating the mean and standard deviation, each observation was standardized and the number of observations in each of the following intervals was counted. Using the chi-squared test for normality, can we infer at the 5% significance level that the data were not drawn from a normal population? <span style=\"color:red\"> Note: We have covered using chi-squared test to assess if the observed counts match the Poisson distribution. This exercise is to assess if the data comes from (fits) the normal distribution. This is another way to assess normality.</span>\n",
    " \n",
    " Interval|\tFrequency\n",
    " ---|--\n",
    "Z≤1.5|\t10\n",
    "-1.5<Z≤-0.5\t|18\n",
    "-0.5<Z≤0.5\t|48\n",
    "0.5<Z≤1.5\t|16\n",
    "Z>1.5\t|8\n"
   ]
  },
  {
   "cell_type": "code",
   "execution_count": 34,
   "metadata": {
    "ExecuteTime": {
     "end_time": "2019-11-17T00:08:39.864654Z",
     "start_time": "2019-11-17T00:08:39.771Z"
    },
    "scrolled": true
   },
   "outputs": [
    {
     "data": {
      "text/html": [
       "<ol class=list-inline>\n",
       "\t<li>0.0668072012688581</li>\n",
       "\t<li>0.241730337457129</li>\n",
       "\t<li>0.382924922548026</li>\n",
       "\t<li>0.241730337457129</li>\n",
       "\t<li>0.0668072012688581</li>\n",
       "</ol>\n"
      ],
      "text/latex": [
       "\\begin{enumerate*}\n",
       "\\item 0.0668072012688581\n",
       "\\item 0.241730337457129\n",
       "\\item 0.382924922548026\n",
       "\\item 0.241730337457129\n",
       "\\item 0.0668072012688581\n",
       "\\end{enumerate*}\n"
      ],
      "text/markdown": [
       "1. 0.0668072012688581\n",
       "2. 0.241730337457129\n",
       "3. 0.382924922548026\n",
       "4. 0.241730337457129\n",
       "5. 0.0668072012688581\n",
       "\n",
       "\n"
      ],
      "text/plain": [
       "[1] 0.0668072 0.2417303 0.3829249 0.2417303 0.0668072"
      ]
     },
     "metadata": {},
     "output_type": "display_data"
    },
    {
     "data": {
      "text/plain": [
       "\n",
       "\tChi-squared test for given probabilities\n",
       "\n",
       "data:  obs\n",
       "X-squared = 8.7104, df = 4, p-value = 0.06876\n"
      ]
     },
     "metadata": {},
     "output_type": "display_data"
    }
   ],
   "source": [
    "#########Requirement Test######################\n",
    "#1.Simple Random Sample:satisfy\n",
    "#2.Contingency table condition: The categories are mutually exclusive and the question made sure that these are 100 different users.\n",
    "#3.Sample size condition: all frequency numbers are >5\n",
    "\n",
    "########Testing the Fit of a Probability Model###########\n",
    "#H0: the data was drawn from a normal population\n",
    "#H1: the data was not drawn from a normal population\n",
    "\n",
    "p1<-pnorm(-1.5,mean=0,sd=1)\n",
    "p2<-pnorm(-0.5,mean=0,sd=1)-p1\n",
    "p3<-pnorm(0.5,mean=0,sd=1)-p1-p2\n",
    "p4<-pnorm(1.5,mean=0,sd=1)-p1-p2-p3\n",
    "p5<-1-pnorm(1.5,mean=0,sd=1)\n",
    "\n",
    "ex_p<-c(p1,p2,p3,p4,p5)\n",
    "ex_f<-ex_p*100\n",
    "ex_p\n",
    "\n",
    "obs<-c(10,18,48,16,8)\n",
    "chisq.test(x=obs,p=ex_p)"
   ]
  },
  {
   "cell_type": "code",
   "execution_count": 122,
   "metadata": {
    "ExecuteTime": {
     "end_time": "2019-11-15T03:14:16.043220Z",
     "start_time": "2019-11-15T03:14:16.016Z"
    }
   },
   "outputs": [
    {
     "data": {
      "text/html": [
       "0.0333996807612279"
      ],
      "text/latex": [
       "0.0333996807612279"
      ],
      "text/markdown": [
       "0.0333996807612279"
      ],
      "text/plain": [
       "[1] 0.03339968"
      ]
     },
     "metadata": {},
     "output_type": "display_data"
    }
   ],
   "source": [
    "pchisq(8.7104,3,lower.tail=FALSE)"
   ]
  },
  {
   "cell_type": "markdown",
   "metadata": {},
   "source": [
    " Yes, we can infer at the 5% significance level that the data were not drawn from a normal population"
   ]
  },
  {
   "cell_type": "code",
   "execution_count": null,
   "metadata": {},
   "outputs": [],
   "source": []
  }
 ],
 "metadata": {
  "kernelspec": {
   "display_name": "R",
   "language": "R",
   "name": "ir"
  },
  "language_info": {
   "codemirror_mode": "r",
   "file_extension": ".r",
   "mimetype": "text/x-r-source",
   "name": "R",
   "pygments_lexer": "r",
   "version": "3.6.1"
  },
  "toc": {
   "base_numbering": 1,
   "nav_menu": {},
   "number_sections": true,
   "sideBar": true,
   "skip_h1_title": false,
   "title_cell": "Table of Contents",
   "title_sidebar": "Contents",
   "toc_cell": false,
   "toc_position": {
    "height": "calc(100% - 180px)",
    "left": "10px",
    "top": "150px",
    "width": "256px"
   },
   "toc_section_display": true,
   "toc_window_display": true
  }
 },
 "nbformat": 4,
 "nbformat_minor": 2
}
