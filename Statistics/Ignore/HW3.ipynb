{
 "cells": [
  {
   "cell_type": "markdown",
   "metadata": {},
   "source": [
    "## (6 points) Question 1\n",
    "Many companies have installed exercise facilities at their sites. The goal is not only to provide a bonus (free use of exercise equipment) for their employees, but also to make the employees more productive by getting them in better shape. One such (fictional) company, Informatrix Software, installed exercise equipment on site a year ago. To check whether it has had a beneficial effect on employee productivity, the company gathered data on a sample of 80 randomly chosen employees, all between the ages of 30 and 40 and all with similar job titles and duties. The company observed which of these employees use the exercise facility regularly (at least three times per week on average). This group included 23 of the 80 employees in the sample. The other 57 employees were asked whether they exercise regularly elsewhere, and 6 of them replied that they do. The remaining 51, who admitted to being nonexercisers, were then compared to the combined group of 29 exercisers.\n",
    "The comparison was based on the employees’ productivity over the year, as rated by their supervisors. Each rating was on a scale of 1 to 25, 25 being the best. To increase the validity of the study, neither the employees nor the supervisors were told that a study was in progress. In particular, the supervisors did not know which employees were involved in the study or which were exercisers. The data from the study are provided on the CSV file Question 1.\n"
   ]
  },
  {
   "cell_type": "code",
   "execution_count": 8,
   "metadata": {
    "scrolled": true
   },
   "outputs": [],
   "source": [
    "setwd(\"D:/BAX441/Homeworks/Homework 3\")\n",
    "Q1<-read.csv('Question 1.csv')"
   ]
  },
  {
   "cell_type": "markdown",
   "metadata": {},
   "source": [
    "#### a.\t(3 points) Do these data support the company’s hypothesis that exercisers outperform nonexercisers on average?"
   ]
  },
  {
   "cell_type": "markdown",
   "metadata": {},
   "source": [
    "**H0**: $\\mu$1 - $\\mu$2 $\\le$ 0\n",
    "\n",
    "**H1**: $\\mu$1 - $\\mu$2 > 0 \n",
    "\n",
    "Where $\\mu$1 is the sample mean of the exercisers, and $\\mu$2 is the sample mean of the non-exercisers. \n",
    "\n",
    "Assuming the significance level is 5%"
   ]
  },
  {
   "cell_type": "code",
   "execution_count": 3,
   "metadata": {
    "collapsed": true
   },
   "outputs": [
    {
     "name": "stdout",
     "output_type": "stream",
     "text": [
      "package 'dplyr' successfully unpacked and MD5 sums checked\n",
      "\n",
      "The downloaded binary packages are in\n",
      "\tC:\\Users\\xingxuan_dell\\AppData\\Local\\Temp\\RtmpMLswQg\\downloaded_packages\n"
     ]
    },
    {
     "name": "stderr",
     "output_type": "stream",
     "text": [
      "\n",
      "Attaching package: 'dplyr'\n",
      "\n",
      "The following objects are masked from 'package:stats':\n",
      "\n",
      "    filter, lag\n",
      "\n",
      "The following objects are masked from 'package:base':\n",
      "\n",
      "    intersect, setdiff, setequal, union\n",
      "\n"
     ]
    }
   ],
   "source": [
    "install.packages('dplyr')\n",
    "library(dplyr)"
   ]
  },
  {
   "cell_type": "code",
   "execution_count": 68,
   "metadata": {},
   "outputs": [
    {
     "data": {
      "text/plain": [
       "\n",
       "\tF test to compare two variances\n",
       "\n",
       "data:  exerciser$Rating and non_exerciser$Rating\n",
       "F = 0.5979, num df = 28, denom df = 50, p-value = 0.1454\n",
       "alternative hypothesis: true ratio of variances is not equal to 1\n",
       "95 percent confidence interval:\n",
       " 0.3171869 1.2001930\n",
       "sample estimates:\n",
       "ratio of variances \n",
       "         0.5979037 \n"
      ]
     },
     "metadata": {},
     "output_type": "display_data"
    },
    {
     "data": {
      "text/plain": [
       "\n",
       "\tTwo Sample t-test\n",
       "\n",
       "data:  exerciser$Rating and non_exerciser$Rating\n",
       "t = 2.3867, df = 78, p-value = 0.009711\n",
       "alternative hypothesis: true difference in means is greater than 0\n",
       "95 percent confidence interval:\n",
       " 0.8243938       Inf\n",
       "sample estimates:\n",
       "mean of x mean of y \n",
       " 16.86207  14.13725 \n"
      ]
     },
     "metadata": {},
     "output_type": "display_data"
    },
    {
     "name": "stdout",
     "output_type": "stream",
     "text": [
      "[1] \"At 5% significance level, there is sufficient evidence to warrant rejection of the claim that exercisers do not outperform nonexercisers on average.\"\n",
      "[1] \"Yes, the data support the compant's hypothesis that exercisers outperform nonexercisers on average.\"\n"
     ]
    }
   ],
   "source": [
    "exerciser<-Q1%>%\n",
    "    filter(Exerciser=='Yes')\n",
    "non_exerciser<-Q1%>%\n",
    "    filter(Exerciser=='No')\n",
    "\n",
    "var.test(exerciser$Rating, non_exerciser$Rating, ratio = 1, alternative = \"two.sided\")\n",
    "### Variances are equal\n",
    "t.test(exerciser$Rating, non_exerciser$Rating, alternative = \"greater\", mu = 0, paired = FALSE, var.equal = TRUE)\n",
    "print('At 5% significance level, there is sufficient evidence to warrant rejection of the claim that exercisers do not outperform nonexercisers on average.')\n",
    "print('Yes, the data support the compant\\'s hypothesis that exercisers outperform nonexercisers on average.')"
   ]
  },
  {
   "cell_type": "markdown",
   "metadata": {},
   "source": [
    "#### b.\t(3 points) Can the company infer that any difference between the two groups is due to exercise?"
   ]
  },
  {
   "cell_type": "code",
   "execution_count": 10,
   "metadata": {},
   "outputs": [
    {
     "name": "stdout",
     "output_type": "stream",
     "text": [
      "[1] \"No, the company cannot infer that any difference between the two groups is due to exercise. There may be some other reasons and biases.\"\n"
     ]
    }
   ],
   "source": [
    "print('No, the company cannot infer that any difference between the two groups is due to exercise. There may be some other reasons and biases.')"
   ]
  },
  {
   "cell_type": "markdown",
   "metadata": {},
   "source": [
    "## (3 points) Question 2\n",
    "A real estate agent has collected a random sample of 75 houses that were recently sold in a suburban community. She is particularly interested in comparing the appraised value and recent selling price of the houses in this particular market. The values of these two variables for each of the 75 randomly chosen houses are provided in the file Question 2. Using these sample data, test whether there is a statistically significant mean difference between the appraised values and selling prices of the houses sold in this suburban community. Report the p-value. For which levels of significance is it appropriate to conclude that no difference exists between these two values?\n"
   ]
  },
  {
   "cell_type": "code",
   "execution_count": 16,
   "metadata": {
    "scrolled": true
   },
   "outputs": [],
   "source": [
    "setwd(\"D:/BAX441/Homeworks/Homework 3\")\n",
    "Q2<-read.csv('Question 2.csv')"
   ]
  },
  {
   "cell_type": "markdown",
   "metadata": {},
   "source": [
    "**H0**: $\\mu_{D}$ = 0\n",
    "\n",
    "**H1**: $\\mu_{D}$ != 0 "
   ]
  },
  {
   "cell_type": "code",
   "execution_count": 13,
   "metadata": {},
   "outputs": [
    {
     "data": {
      "text/plain": [
       "\n",
       "\tPaired t-test\n",
       "\n",
       "data:  Q2$Value and Q2$Price\n",
       "t = -0.35493, df = 74, p-value = 0.7236\n",
       "alternative hypothesis: true difference in means is not equal to 0\n",
       "95 percent confidence interval:\n",
       " -2.489448  1.736648\n",
       "sample estimates:\n",
       "mean of the differences \n",
       "                -0.3764 \n"
      ]
     },
     "metadata": {},
     "output_type": "display_data"
    }
   ],
   "source": [
    "t.test(Q2$Value, Q2$Price, alternative = \"two.sided\", mu = 0, paired = TRUE)"
   ]
  },
  {
   "cell_type": "code",
   "execution_count": null,
   "metadata": {},
   "outputs": [],
   "source": [
    "##P-value is 0.7236, so we cannot reject the null. At any level smaller than 0.7236, we can conclude that there is no difference exists. "
   ]
  },
  {
   "cell_type": "markdown",
   "metadata": {},
   "source": [
    "## (3 points) Question 3\n",
    "An important statistical measurement in service facilities (such as restaurants and banks) is the variability in service times. As an experiment, two bank tellers were observed, and the service times for each of 100 customers were recorded and are available on the CSV file Question 3. Do these data allow us to infer at the 10% significance level that the variance in service times differs between the two tellers?\n"
   ]
  },
  {
   "cell_type": "code",
   "execution_count": 19,
   "metadata": {
    "scrolled": true
   },
   "outputs": [],
   "source": [
    "setwd(\"D:/BAX441/Homeworks/Homework 3\")\n",
    "Q3<-read.csv('Question 3.csv')"
   ]
  },
  {
   "cell_type": "markdown",
   "metadata": {},
   "source": [
    "**H0**: $\\varrho_{1}^2$ / $\\varrho_{2}^2$ = 1\n",
    "\n",
    "**H1**: $\\varrho_{1}^2$ / $\\varrho_{2}^2$ != 1"
   ]
  },
  {
   "cell_type": "code",
   "execution_count": 21,
   "metadata": {},
   "outputs": [
    {
     "data": {
      "text/plain": [
       "\n",
       "\tF test to compare two variances\n",
       "\n",
       "data:  Q3$Teller1 and Q3$Teller2\n",
       "F = 0.30561, num df = 99, denom df = 99, p-value = 1.045e-08\n",
       "alternative hypothesis: true ratio of variances is not equal to 1\n",
       "90 percent confidence interval:\n",
       " 0.2192197 0.4260330\n",
       "sample estimates:\n",
       "ratio of variances \n",
       "         0.3056056 \n"
      ]
     },
     "metadata": {},
     "output_type": "display_data"
    },
    {
     "name": "stdout",
     "output_type": "stream",
     "text": [
      "[1] \"At 10% significance level, there is sufficient evidence to warrant rejection of the claim that the variance in service times does not differ between the two tellers.\"\n"
     ]
    }
   ],
   "source": [
    "var.test(Q3$Teller1, Q3$Teller2, ratio = 1, alternative = \"two.sided\",conf.level = 0.90)\n",
    "print('At 10% significance level, there is sufficient evidence to warrant rejection of the claim that the variance in service times does not differ between the two tellers.')"
   ]
  },
  {
   "cell_type": "markdown",
   "metadata": {},
   "source": [
    "## (15 points) Question 4\n",
    "For years, the drug Vioxx, developed and marketed by Merck, was one of the blockbuster drugs on the market. One of a number of so-called Cox-2 anti-inflammatory drugs, Vioxx was considered by many people a miracle drug for alleviating the pain from arthritis and other painful afflictions. Vioxx was marketed heavily on television, prescribed by most physicians, and used by an estimated two million Americans.\n",
    "\n",
    "All of that changed in October 2004, when the results of a large study were released. The study, which followed approximately 2600 subjects over a period of about 18 months, concluded that Vioxx use over a long period of time caused a significant increase in the risk of developing serious heart problems. Merck almost immediately pulled Vioxx from the American market and doctors stopped prescribing it. On the basis of the study, Merck faced not only public embarrassment but the prospect of huge financial losses.\n",
    "\n",
    "More specifically, the study had 1287 patients use Vioxx for an 18-month period, and it had another 1299 patients use a placebo over the same period. After 18 months, 45 of the Vioxx patients had developed serious heart problems, whereas only 25 patients on the placebo developed such problems.\n",
    "\n",
    "Given these results, would you agree with the conclusion that Vioxx caused a significant increase in the risk of developing serious heart problems? \n",
    "- First, answer this from a purely statistical point of view where significant means statistically significant. What hypothesis should you test, and how should you run the test? When you run the test, what is the corresponding p-value? \n",
    "- Next, look at it from the point of view of patients. If you were a Vioxx user, would these results cause you significant worry? After all, some of the subjects who took placebos also developed heart problems, and 45 might not be considered that much larger than 25. \n",
    "- Finally, look at it from Merck’s point of view. Extrapolate how many of the two million Americans are expected to develop heart problems if they take Vioxx and if they don’t take Vioxx. Based on this, answer if the results are practically significant to the company? \n",
    "- What does it stand to lose? State what type of financial losses Merck might incur. Just think of all of those American Vioxx users and what they might do. No dataset is needed for this case. All the information needed to choose the type of test and run it is provided in the narrative above.\n"
   ]
  },
  {
   "cell_type": "markdown",
   "metadata": {},
   "source": [
    "Firstly, the hypothesis I test is whether Vioxx increases the probability of getting heart disease. I decide to run 2-sample proportion test on the study shown above. \n",
    "\n",
    "**H0**:$p_{1}-p_{2}$ $\\le$ 0\n",
    "\n",
    "**H1**: $p_{1}-p_{2}$ > 0"
   ]
  },
  {
   "cell_type": "code",
   "execution_count": 43,
   "metadata": {},
   "outputs": [
    {
     "data": {
      "text/plain": [
       "\n",
       "\t2-sample test for equality of proportions with continuity correction\n",
       "\n",
       "data:  c(45, 25) out of c(1287, 1299)\n",
       "X-squared = 5.4835, df = 1, p-value = 0.009598\n",
       "alternative hypothesis: greater\n",
       "95 percent confidence interval:\n",
       " 0.004446203 1.000000000\n",
       "sample estimates:\n",
       "    prop 1     prop 2 \n",
       "0.03496503 0.01924557 \n"
      ]
     },
     "metadata": {},
     "output_type": "display_data"
    },
    {
     "name": "stdout",
     "output_type": "stream",
     "text": [
      "[1] \"The p-value is 0.009598, which means even with 1% significance level, Vioxx increases the probability of getting heart disease significantly.\"\n",
      "[1] \"If I am a Vioxx user, these results cause me significant worry. Although 45 looks not much larger than 25, the heart disease is serious and can kill me, so I do not want to take any risk.\"\n",
      "If people take Vioxx, there may be  69930.07 people get heart disease, while if they not take Vioxx, there may be only  38491.15 people get heat disease. \n",
      "[1] \"Based on these, the results are practically significant to the company.\"\n",
      "[1] \"Since many people do not want to take such risk and there may be other substitutes on the market, Merck would loss its revenue from that drug and also its market size. Its reputation is also impacted by this result and cause the revenue from other drugs also decrease. Merck may also loss the investment to do the future research.\"\n"
     ]
    }
   ],
   "source": [
    "#Yates' Correction is typically used in X2 analysis with 1 degree of freedom where expected frequencies of less than 10 are\n",
    "#found (some statistics books set that value at 5). A certain amount of controversy surrounds the use of Yates' Correction. \n",
    "#Some statisticians argue that expected frequencies lower than five should trigger the use of Yates' Correction, others use \n",
    "#10 as the cut point, and still others argue that Yates' Correction should be used in all 2 x 2 chi-squared analyses.\n",
    "#from http://hosted.jalt.org/test/bro_19.htm\n",
    "\n",
    "prop.test(c(45,25), c(1287,1299),alternative = c(\"greater\"), conf.level = 0.95, correct = TRUE)\n",
    "print('The p-value is 0.009598, which means even with 1% significance level, Vioxx increases the probability of getting heart disease significantly.')\n",
    "print('If I am a Vioxx user, these results cause me significant worry. Although 45 looks not much larger than 25, the heart disease is serious and can kill me, so I do not want to take any risk.')\n",
    "cat('If people take Vioxx, there may be ',45/1287*2000000,'people get heart disease, while if they not take Vioxx, there may be only ', 25/1299*2000000,'people get heat disease.','\\n')\n",
    "print('Based on these, the results are practically significant to the company.')\n",
    "print('Since many people do not want to take such risk and there may be other substitutes on the market, Merck would loss its revenue from that drug and also its market size. Its reputation is also impacted by this result and cause the revenue from other drugs also decrease. Merck may also loss the investment to do the future research.' )\n"
   ]
  },
  {
   "cell_type": "markdown",
   "metadata": {},
   "source": [
    "## (10 points) Question 5\n",
    "High turnover of employees is expensive for firms. The firm not only loses experienced employees, it must also hire and train replacements. A firm is considering several ways to improve its retention (the proportion of employees who continue with the firm after 2 years). The currently favored approach is to offer more vacation days. Improved health benefits are a second alternative, but the high cost of health benefits implies that to be effective this benefit must increase retention by 0.05 above that associated with offering increased vacation days. To choose between these, a sample of 125 employees on the West Coast was given increased health benefits, and a sample of 140 on the East Coast was offered increased vacation time. Dataset is available on the file Question 5.\n"
   ]
  },
  {
   "cell_type": "code",
   "execution_count": 7,
   "metadata": {
    "scrolled": true
   },
   "outputs": [],
   "source": [
    "setwd(\"D:/BAX441/Homeworks/Homework 3\")\n",
    "Q5<-read.csv('Question 5.csv')"
   ]
  },
  {
   "cell_type": "markdown",
   "metadata": {},
   "source": [
    "#### a.\t(2 points) What are potential confounding effects in this comparison?"
   ]
  },
  {
   "cell_type": "markdown",
   "metadata": {},
   "source": [
    "Some potential confounding effects may be the geographical difference and age of the employees.\n",
    "\n",
    "Maybe people on the west coast are healthier than east coast people but more like to take vacation. If this happened, the retention rate may be impacted. \n",
    "\n",
    "The age of the employees is also a confounding effects. Maybe elder people's retention rate is high no matter which benefit they get."
   ]
  },
  {
   "cell_type": "markdown",
   "metadata": {},
   "source": [
    "#### b.\t(5 points) Do the data indicate that offering health benefits has statistically significantly higher retention to compensate for switching to health benefits? "
   ]
  },
  {
   "cell_type": "markdown",
   "metadata": {},
   "source": [
    "**H0**: $p_{health} $ - $p_{vacation}$ $\\le$ 0.05\n",
    "\n",
    "**H1**:  $p_{health} $ - $p_{vacation}$ > 0.05\n",
    "\n",
    "Assume the significance level is 5%."
   ]
  },
  {
   "cell_type": "code",
   "execution_count": 47,
   "metadata": {},
   "outputs": [
    {
     "data": {
      "text/html": [
       "0.0470906147142835"
      ],
      "text/latex": [
       "0.0470906147142835"
      ],
      "text/markdown": [
       "0.0470906147142835"
      ],
      "text/plain": [
       "[1] 0.04709061"
      ]
     },
     "metadata": {},
     "output_type": "display_data"
    },
    {
     "name": "stdout",
     "output_type": "stream",
     "text": [
      "P-value is  0.2801272 \n",
      "[1] \"At 5% significance level, there is no sufficient evidence to warrant rejection of the claim that offering health benefits does not have statistically significantly higher retention to compensate for switching to health benefits.\"\n",
      "[1] \"No, offering health benefits does not have significantly higher retention to compensate for switching to health benefits.\"\n"
     ]
    }
   ],
   "source": [
    "health<-Q5%>%\n",
    "            filter(Benefit=='Health')\n",
    "vacation<-Q5%>%\n",
    "            filter(Benefit=='Vacation')\n",
    "p_health <- length(which(health$Retention == 1 ))/125\n",
    "p_vacation <- length(which(vacation$Retention == 1 ))/140\n",
    "\n",
    "SE = sqrt((p_health*(1-p_health)/125 + p_vacation*(1-p_vacation)/140))\n",
    "z = ((p_health - p_vacation) - 0.05)/SE\n",
    "p_value<-pnorm(z,0,1,lower.tail=FALSE)\n",
    "cat('P-value is ',p_value,'\\n')\n",
    "print('At 5% significance level, there is no sufficient evidence to warrant rejection of the claim that offering health benefits does not have statistically significantly higher retention to compensate for switching to health benefits.')\n",
    "print('No, offering health benefits does not have significantly higher retention to compensate for switching to health benefits.')"
   ]
  },
  {
   "cell_type": "markdown",
   "metadata": {},
   "source": [
    "#### c.\t(3 points) Is there a statistically significant difference in retention rates between the benefit plans?"
   ]
  },
  {
   "cell_type": "markdown",
   "metadata": {},
   "source": [
    "**H0**: $p_{health} $ - $p_{vacation}$ = 0\n",
    "\n",
    "**H1**:  $p_{health} $ - $p_{vacation}$ != 0\n",
    "\n",
    "Assume the significance level is 5%."
   ]
  },
  {
   "cell_type": "code",
   "execution_count": 44,
   "metadata": {},
   "outputs": [
    {
     "data": {
      "text/plain": [
       "\n",
       "\t2-sample test for equality of proportions with continuity correction\n",
       "\n",
       "data:  c(re_health, re_vacation) out of c(125, 140)\n",
       "X-squared = 2.1382, df = 1, p-value = 0.1437\n",
       "alternative hypothesis: two.sided\n",
       "95 percent confidence interval:\n",
       " -0.02243877  0.17729591\n",
       "sample estimates:\n",
       "   prop 1    prop 2 \n",
       "0.8560000 0.7785714 \n"
      ]
     },
     "metadata": {},
     "output_type": "display_data"
    },
    {
     "name": "stdout",
     "output_type": "stream",
     "text": [
      "[1] \"At 5% significance level, there is no sufficient evidence to warrant rejection of the claim that there is a statistically significant difference in retention rates between the benefit plans.\"\n",
      "[1] \"There is no significant difference in retention rates between the benefit plans.\"\n"
     ]
    }
   ],
   "source": [
    "#Yates' Correction is typically used in X2 analysis with 1 degree of freedom where expected frequencies of less than 10 are\n",
    "#found (some statistics books set that value at 5). A certain amount of controversy surrounds the use of Yates' Correction. \n",
    "#Some statisticians argue that expected frequencies lower than five should trigger the use of Yates' Correction, others use \n",
    "#10 as the cut point, and still others argue that Yates' Correction should be used in all 2 x 2 chi-squared analyses.\n",
    "#from http://hosted.jalt.org/test/bro_19.htm\n",
    "\n",
    "re_health<-length(which(health$Retention == 1 ))\n",
    "re_vacation<-length(which(vacation$Retention == 1 ))\n",
    "\n",
    "prop.test(c(re_health,re_vacation), c(125,140), alternative = \"two.sided\", correct = TRUE)\n",
    "print('At 5% significance level, there is no sufficient evidence to warrant rejection of the claim that there is a statistically significant difference in retention rates between the benefit plans.')\n",
    "print('There is no significant difference in retention rates between the benefit plans.')"
   ]
  },
  {
   "cell_type": "markdown",
   "metadata": {},
   "source": [
    "## (13 points) Question 6\n",
    "In the years 2000–2014, the economy took two major hits. The first was the combination of the dotcom collapse that occurred in 2000 and the attacks on the World Trade Center and on the Pentagon in 2001. These two events precipitated the stock market crash in 2001. The second hit was the subprime mortgage industry collapse that caused a financial meltdown all over the world in 2008.\n",
    "\n",
    "The effect on American incomes has been used as a political football by both the Democrats and the Republicans. The Democrats accused the Bush administration of causing incomes to stagnate during his administration (2001–2008). In turn, the Republicans accuse the Obama administration of the same during his administration (2009–2016). The General Social Survey allows you to determine the truth by performing inferential methods on the reported incomes (RINCOME) in the surveys. All you need to do is answer the following questions. Two datasets provided – Question 6 contains the RINCOMES and U.S. CPI Annual contains the Annual CPI values that you can use to adjust for inflation.\n"
   ]
  },
  {
   "cell_type": "code",
   "execution_count": 25,
   "metadata": {
    "collapsed": true
   },
   "outputs": [
    {
     "name": "stdout",
     "output_type": "stream",
     "text": [
      "package 'readxl' successfully unpacked and MD5 sums checked\n",
      "\n",
      "The downloaded binary packages are in\n",
      "\tC:\\Users\\xingxuan_dell\\AppData\\Local\\Temp\\RtmpMLswQg\\downloaded_packages\n"
     ]
    }
   ],
   "source": [
    "install.packages('readxl')\n",
    "library(readxl)"
   ]
  },
  {
   "cell_type": "code",
   "execution_count": 26,
   "metadata": {
    "scrolled": true
   },
   "outputs": [],
   "source": [
    "setwd(\"D:/BAX441/Homeworks/Homework 3\")\n",
    "Q6<-read.csv('Question 6.csv')\n",
    "cpi<-read_excel('U.S. CPI Annual.xlsx')\n",
    "colnames(cpi)<-c('year','cpi')"
   ]
  },
  {
   "cell_type": "markdown",
   "metadata": {},
   "source": [
    "#### a.\t(2 points) Is there sufficient evidence to infer that incomes rose between 2000 and 2008? "
   ]
  },
  {
   "cell_type": "markdown",
   "metadata": {},
   "source": [
    "**H0**: $\\mu_{2008}$ - $\\mu_{2000}$ $\\le$ 0\n",
    "\n",
    "**H1**: $\\mu_{2008}$ - $\\mu_{2000}$ > 0\n",
    "\n",
    "Assume the significance level is 5%."
   ]
  },
  {
   "cell_type": "code",
   "execution_count": 31,
   "metadata": {},
   "outputs": [],
   "source": [
    "RINCOME_2000<- na.omit(Q6$RINCOME_2000)\n",
    "RINCOME_2008<- na.omit(Q6$RINCOME_2008)\n",
    "RINCOME_2014<- na.omit(Q6$RINCOME_2014)"
   ]
  },
  {
   "cell_type": "code",
   "execution_count": 32,
   "metadata": {},
   "outputs": [
    {
     "data": {
      "text/plain": [
       "\n",
       "\tF test to compare two variances\n",
       "\n",
       "data:  RINCOME_2000 and RINCOME_2008\n",
       "F = 0.47789, num df = 1817, denom df = 1188, p-value < 2.2e-16\n",
       "alternative hypothesis: true ratio of variances is not equal to 1\n",
       "95 percent confidence interval:\n",
       " 0.4306743 0.5296807\n",
       "sample estimates:\n",
       "ratio of variances \n",
       "         0.4778902 \n"
      ]
     },
     "metadata": {},
     "output_type": "display_data"
    },
    {
     "data": {
      "text/plain": [
       "\n",
       "\tWelch Two Sample t-test\n",
       "\n",
       "data:  RINCOME_2008 and RINCOME_2000\n",
       "t = 8.1934, df = 1923.8, p-value = 2.29e-16\n",
       "alternative hypothesis: true difference in means is greater than 0\n",
       "95 percent confidence interval:\n",
       " 7880.687      Inf\n",
       "sample estimates:\n",
       "mean of x mean of y \n",
       " 41092.09  31230.75 \n"
      ]
     },
     "metadata": {},
     "output_type": "display_data"
    },
    {
     "name": "stdout",
     "output_type": "stream",
     "text": [
      "[1] \"Yes, there is sufficient evidence to infer that incomes rose between 2000 and 2008.\"\n"
     ]
    }
   ],
   "source": [
    "var.test(RINCOME_2000, RINCOME_2008, ratio = 1, alternative = \"two.sided\")\n",
    "#### Variances are NOT equal\n",
    "t.test(RINCOME_2008, RINCOME_2000, alternative = \"greater\", mu = 0, paired = FALSE, var.equal = FALSE)\n",
    "print('Yes, there is sufficient evidence to infer that incomes rose between 2000 and 2008.')"
   ]
  },
  {
   "cell_type": "markdown",
   "metadata": {},
   "source": [
    "#### b.\t(2 points) Is there sufficient evidence to infer that incomes rose between 2008 and 2014? "
   ]
  },
  {
   "cell_type": "markdown",
   "metadata": {},
   "source": [
    "**H0**: $\\mu_{2014}$ - $\\mu_{2008}$ $\\le$ 0\n",
    "\n",
    "**H1**: $\\mu_{2014}$ - $\\mu_{2008}$ > 0\n",
    "\n",
    "Assume the significance level is 5%."
   ]
  },
  {
   "cell_type": "code",
   "execution_count": 33,
   "metadata": {},
   "outputs": [
    {
     "data": {
      "text/plain": [
       "\n",
       "\tF test to compare two variances\n",
       "\n",
       "data:  RINCOME_2008 and RINCOME_2014\n",
       "F = 0.8249, num df = 1188, denom df = 1522, p-value = 0.0004715\n",
       "alternative hypothesis: true ratio of variances is not equal to 1\n",
       "95 percent confidence interval:\n",
       " 0.7411993 0.9187172\n",
       "sample estimates:\n",
       "ratio of variances \n",
       "         0.8249016 \n"
      ]
     },
     "metadata": {},
     "output_type": "display_data"
    },
    {
     "data": {
      "text/plain": [
       "\n",
       "\tWelch Two Sample t-test\n",
       "\n",
       "data:  RINCOME_2014 and RINCOME_2008\n",
       "t = 2.8351, df = 2648.9, p-value = 0.002308\n",
       "alternative hypothesis: true difference in means is greater than 0\n",
       "95 percent confidence interval:\n",
       " 1743.641      Inf\n",
       "sample estimates:\n",
       "mean of x mean of y \n",
       " 45247.37  41092.09 \n"
      ]
     },
     "metadata": {},
     "output_type": "display_data"
    },
    {
     "name": "stdout",
     "output_type": "stream",
     "text": [
      "[1] \"Yes, there is sufficient evidence to infer that incomes rose between 2008 and 2014.\"\n"
     ]
    }
   ],
   "source": [
    "\n",
    "var.test(RINCOME_2008, RINCOME_2014, ratio = 1, alternative = \"two.sided\")\n",
    "#### Variances are not equal\n",
    "t.test(RINCOME_2014, RINCOME_2008, alternative = \"greater\", mu = 0, paired = FALSE, var.equal = FALSE)\n",
    "print('Yes, there is sufficient evidence to infer that incomes rose between 2008 and 2014.')"
   ]
  },
  {
   "cell_type": "markdown",
   "metadata": {},
   "source": [
    "#### c.\t(3 points) Is there sufficient evidence to infer that incomes rose between 2000 and 2008 after adjusting for inflation? "
   ]
  },
  {
   "cell_type": "markdown",
   "metadata": {},
   "source": [
    "**H0**: $\\mu_{2008}$ - $\\mu_{2000}$*inflation $\\le$ 0\n",
    "\n",
    "**H1**: $\\mu_{2008}$ - $\\mu_{2000}$*inflation > 0\n",
    "\n",
    "Assume the significance level is 5%."
   ]
  },
  {
   "cell_type": "code",
   "execution_count": 34,
   "metadata": {},
   "outputs": [
    {
     "data": {
      "text/plain": [
       "\n",
       "\tF test to compare two variances\n",
       "\n",
       "data:  RINCOME_2000 * inflation_0008 and RINCOME_2008\n",
       "F = 0.74681, num df = 1817, denom df = 1188, p-value = 2.367e-08\n",
       "alternative hypothesis: true ratio of variances is not equal to 1\n",
       "95 percent confidence interval:\n",
       " 0.6730249 0.8277447\n",
       "sample estimates:\n",
       "ratio of variances \n",
       "         0.7468104 \n"
      ]
     },
     "metadata": {},
     "output_type": "display_data"
    },
    {
     "data": {
      "text/plain": [
       "\n",
       "\tWelch Two Sample t-test\n",
       "\n",
       "data:  RINCOME_2008 and RINCOME_2000 * inflation_0008\n",
       "t = 1.6001, df = 2276.8, p-value = 0.05485\n",
       "alternative hypothesis: true difference in means is greater than 0\n",
       "95 percent confidence interval:\n",
       " -58.17003       Inf\n",
       "sample estimates:\n",
       "mean of x mean of y \n",
       " 41092.09  39041.23 \n"
      ]
     },
     "metadata": {},
     "output_type": "display_data"
    },
    {
     "name": "stdout",
     "output_type": "stream",
     "text": [
      "[1] \"No, there is no sufficient evidence to infer that incomes rose between 2000 and 2008.\"\n"
     ]
    }
   ],
   "source": [
    "inflation_0008<-as.numeric(cpi[cpi$year=='2008',2]/cpi[cpi$year=='2000',2])\n",
    "var.test(RINCOME_2000*inflation_0008, RINCOME_2008, ratio = 1, alternative = \"two.sided\")\n",
    "#### Variances are NOT equal\n",
    "t.test(RINCOME_2008, RINCOME_2000*inflation_0008, alternative = \"greater\", mu = 0, paired = FALSE, var.equal = FALSE)\n",
    "print('No, there is no sufficient evidence to infer that incomes rose between 2000 and 2008.')"
   ]
  },
  {
   "cell_type": "markdown",
   "metadata": {},
   "source": [
    "#### d.\t(3 points) Is there sufficient evidence to infer that incomes rose between 2008 and 2014 after adjusting for inflation? "
   ]
  },
  {
   "cell_type": "markdown",
   "metadata": {},
   "source": [
    "**H0**: $\\mu_{2014}$ - $\\mu_{2008}$*inflation $\\le$ 0\n",
    "\n",
    "**H1**: $\\mu_{2014}$ - $\\mu_{2008}$*inflation > 0\n",
    "\n",
    "Assume the significance level is 5%."
   ]
  },
  {
   "cell_type": "code",
   "execution_count": 35,
   "metadata": {},
   "outputs": [
    {
     "data": {
      "text/plain": [
       "\n",
       "\tF test to compare two variances\n",
       "\n",
       "data:  RINCOME_2008 * inflation_0814 and RINCOME_2014\n",
       "F = 0.99758, num df = 1188, denom df = 1522, p-value = 0.9665\n",
       "alternative hypothesis: true ratio of variances is not equal to 1\n",
       "95 percent confidence interval:\n",
       " 0.8963551 1.1110329\n",
       "sample estimates:\n",
       "ratio of variances \n",
       "         0.9975787 \n"
      ]
     },
     "metadata": {},
     "output_type": "display_data"
    },
    {
     "data": {
      "text/plain": [
       "\n",
       "\tTwo Sample t-test\n",
       "\n",
       "data:  RINCOME_2014 and RINCOME_2008 * inflation_0814\n",
       "t = 0.037969, df = 2710, p-value = 0.4849\n",
       "alternative hypothesis: true difference in means is greater than 0\n",
       "95 percent confidence interval:\n",
       " -2479.795       Inf\n",
       "sample estimates:\n",
       "mean of x mean of y \n",
       " 45247.37  45188.80 \n"
      ]
     },
     "metadata": {},
     "output_type": "display_data"
    },
    {
     "name": "stdout",
     "output_type": "stream",
     "text": [
      "[1] \"No, there is no sufficient evidence to infer that incomes rose between 2008 and 2014.\"\n"
     ]
    }
   ],
   "source": [
    "inflation_0814<-as.numeric(cpi[cpi$year=='2014',2]/cpi[cpi$year=='2008',2])\n",
    "var.test(RINCOME_2008*inflation_0814, RINCOME_2014, ratio = 1, alternative = \"two.sided\")\n",
    "#### Variances are equal\n",
    "t.test(RINCOME_2014, RINCOME_2008*inflation_0814, alternative = \"greater\", mu = 0, paired = FALSE, var.equal = TRUE)\n",
    "print('No, there is no sufficient evidence to infer that incomes rose between 2008 and 2014.')"
   ]
  },
  {
   "cell_type": "markdown",
   "metadata": {},
   "source": [
    "#### e.\t(3 points) Describe what you have learned. "
   ]
  },
  {
   "cell_type": "code",
   "execution_count": 36,
   "metadata": {},
   "outputs": [],
   "source": [
    "#After adjust the inflation, there is not significant increase from 2000-2008-2014.\n",
    "#When we studying such subject, we should consider the time value (inflation)"
   ]
  }
 ],
 "metadata": {
  "kernelspec": {
   "display_name": "R",
   "language": "R",
   "name": "ir"
  },
  "language_info": {
   "codemirror_mode": "r",
   "file_extension": ".r",
   "mimetype": "text/x-r-source",
   "name": "R",
   "pygments_lexer": "r",
   "version": "3.6.1"
  },
  "toc": {
   "base_numbering": 1,
   "nav_menu": {},
   "number_sections": true,
   "sideBar": true,
   "skip_h1_title": false,
   "title_cell": "Table of Contents",
   "title_sidebar": "Contents",
   "toc_cell": false,
   "toc_position": {},
   "toc_section_display": true,
   "toc_window_display": false
  }
 },
 "nbformat": 4,
 "nbformat_minor": 2
}
